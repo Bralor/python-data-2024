{
 "cells": [
  {
   "cell_type": "markdown",
   "id": "b5ea46ff-c3e0-4960-83f4-87971bc9b5d0",
   "metadata": {},
   "source": [
    "# Python, Data, 2025\n",
    "\n",
    "---"
   ]
  },
  {
   "cell_type": "markdown",
   "id": "f2100ac4-0c17-4bb1-a43a-37c459a8bd97",
   "metadata": {},
   "source": [
    "* [Skutečné hodnoty](#Skutečné-datové-sety),\n",
    "    - [chybějící údaje](#Kolik-mi-chybí-údajů),\n",
    "    - [encoding](#Encoding),\n",
    "    - [nekonzistentní data](#Nekonzistentní-data).\n",
    "\n",
    "---"
   ]
  },
  {
   "cell_type": "markdown",
   "id": "c51d7d66-e5f4-4a8f-82bf-6e086b1a9926",
   "metadata": {},
   "source": [
    "\n",
    "<img src=\"https://external-content.duckduckgo.com/iu/?u=https%3A%2F%2Ftse1.mm.bing.net%2Fth%3Fid%3DOIP.JJu86kKRph1LHt5M7agODQHaHa%26pid%3DApi&f=1&ipt=5cfb9e9f7b451b3a4f7a3ebdc4eb99177d477f20f8145cd818cc4966143f8b2b&ipo=images\" width=\"160\" style=\"margin-left:auto; margin-right:auto\"/>"
   ]
  },
  {
   "cell_type": "markdown",
   "id": "77e5b206-abaf-4a82-b233-db022ee07e56",
   "metadata": {},
   "source": [
    "## Skutečné datové sety\n",
    "\n",
    "---"
   ]
  },
  {
   "cell_type": "markdown",
   "id": "ba45673c-54c9-4df0-b93d-49aedf62918b",
   "metadata": {},
   "source": [
    "Čištění dat je proces, který patří k samotné práci s daty.\n",
    "\n",
    "Spolu s některými souvisejícími úkony, patří mezi ty více frustrující.\n",
    "\n",
    "Nesmyslné datové typy, zkomolené časové údaje, nefungující transformace."
   ]
  },
  {
   "cell_type": "code",
   "execution_count": 1,
   "id": "252a840f-cddd-4214-a8ec-f713c5788994",
   "metadata": {
    "tags": []
   },
   "outputs": [],
   "source": [
    "from pandas import DataFrame"
   ]
  },
  {
   "cell_type": "code",
   "execution_count": 2,
   "id": "cc920f84-9ad0-45d7-b299-339b32795575",
   "metadata": {
    "tags": []
   },
   "outputs": [],
   "source": [
    "uzivatele_df = DataFrame({'Name': ['Alice', 'Bob', 'Charlie', 'David', 'Eve'],\n",
    "                          'Age': [None, 20, None, 22, 23],\n",
    "                          'Height_cm': [160, 170, 175, None, 165],\n",
    "                          'Weight_kg': [50, 65, 70, 80, 55]})"
   ]
  },
  {
   "cell_type": "code",
   "execution_count": 3,
   "id": "7d3eff30-7c3a-41b0-acd2-2a57ff910f29",
   "metadata": {
    "tags": []
   },
   "outputs": [
    {
     "data": {
      "text/html": [
       "<div>\n",
       "<style scoped>\n",
       "    .dataframe tbody tr th:only-of-type {\n",
       "        vertical-align: middle;\n",
       "    }\n",
       "\n",
       "    .dataframe tbody tr th {\n",
       "        vertical-align: top;\n",
       "    }\n",
       "\n",
       "    .dataframe thead th {\n",
       "        text-align: right;\n",
       "    }\n",
       "</style>\n",
       "<table border=\"1\" class=\"dataframe\">\n",
       "  <thead>\n",
       "    <tr style=\"text-align: right;\">\n",
       "      <th></th>\n",
       "      <th>Name</th>\n",
       "      <th>Age</th>\n",
       "      <th>Height_cm</th>\n",
       "      <th>Weight_kg</th>\n",
       "    </tr>\n",
       "  </thead>\n",
       "  <tbody>\n",
       "    <tr>\n",
       "      <th>0</th>\n",
       "      <td>Alice</td>\n",
       "      <td>NaN</td>\n",
       "      <td>160.0</td>\n",
       "      <td>50</td>\n",
       "    </tr>\n",
       "    <tr>\n",
       "      <th>1</th>\n",
       "      <td>Bob</td>\n",
       "      <td>20.0</td>\n",
       "      <td>170.0</td>\n",
       "      <td>65</td>\n",
       "    </tr>\n",
       "    <tr>\n",
       "      <th>2</th>\n",
       "      <td>Charlie</td>\n",
       "      <td>NaN</td>\n",
       "      <td>175.0</td>\n",
       "      <td>70</td>\n",
       "    </tr>\n",
       "    <tr>\n",
       "      <th>3</th>\n",
       "      <td>David</td>\n",
       "      <td>22.0</td>\n",
       "      <td>NaN</td>\n",
       "      <td>80</td>\n",
       "    </tr>\n",
       "    <tr>\n",
       "      <th>4</th>\n",
       "      <td>Eve</td>\n",
       "      <td>23.0</td>\n",
       "      <td>165.0</td>\n",
       "      <td>55</td>\n",
       "    </tr>\n",
       "  </tbody>\n",
       "</table>\n",
       "</div>"
      ],
      "text/plain": [
       "      Name   Age  Height_cm  Weight_kg\n",
       "0    Alice   NaN      160.0         50\n",
       "1      Bob  20.0      170.0         65\n",
       "2  Charlie   NaN      175.0         70\n",
       "3    David  22.0        NaN         80\n",
       "4      Eve  23.0      165.0         55"
      ]
     },
     "execution_count": 3,
     "metadata": {},
     "output_type": "execute_result"
    }
   ],
   "source": [
    "uzivatele_df"
   ]
  },
  {
   "cell_type": "markdown",
   "id": "558e69c9-16d7-48df-95de-bb8bebd545b4",
   "metadata": {},
   "source": [
    "Ihned po načtení je nejlepší **data prozkoumat**.\n",
    "\n",
    "Nejenom datové typy ale také mít povědomí **o chybějících hodnotách**:"
   ]
  },
  {
   "cell_type": "code",
   "execution_count": 4,
   "id": "e33ade0c-f091-4bed-9d28-4fcbb86cb56a",
   "metadata": {
    "tags": []
   },
   "outputs": [
    {
     "name": "stdout",
     "output_type": "stream",
     "text": [
      "<class 'pandas.core.frame.DataFrame'>\n",
      "RangeIndex: 5 entries, 0 to 4\n",
      "Data columns (total 4 columns):\n",
      " #   Column     Non-Null Count  Dtype  \n",
      "---  ------     --------------  -----  \n",
      " 0   Name       5 non-null      object \n",
      " 1   Age        3 non-null      float64\n",
      " 2   Height_cm  4 non-null      float64\n",
      " 3   Weight_kg  5 non-null      int64  \n",
      "dtypes: float64(2), int64(1), object(1)\n",
      "memory usage: 288.0+ bytes\n"
     ]
    }
   ],
   "source": [
    "uzivatele_df.info()"
   ]
  },
  {
   "cell_type": "markdown",
   "id": "c7cdeeb2-512a-436a-bb40-c1fd5128c32b",
   "metadata": {},
   "source": [
    "<br>\n",
    "\n",
    "Pomocí metody `info` si uděláš aspoň povrchní přehled o hodnotách, datových typech a chybějících hodnotách.\n",
    "\n",
    "<br>\n",
    "\n",
    "### Kolik mi chybí údajů?\n",
    "\n",
    "---"
   ]
  },
  {
   "cell_type": "markdown",
   "id": "af494484-3841-4819-ab42-7bed2744fb83",
   "metadata": {},
   "source": [
    "Vždycky přistupuj k datům s mírnou skepsí.\n",
    "\n",
    "Otázkou potom není, *JESTLI* mi chybí data, ale *KOLIK* dat mi chybí **a kde**."
   ]
  },
  {
   "cell_type": "code",
   "execution_count": 5,
   "id": "73706137-e315-4751-bac0-edd9e161ba8f",
   "metadata": {
    "tags": []
   },
   "outputs": [],
   "source": [
    "chybejici_hodnoty = uzivatele_df.isnull()  # isna()"
   ]
  },
  {
   "cell_type": "code",
   "execution_count": 6,
   "id": "8057aea6-b812-4ce4-b44c-d24d12715d15",
   "metadata": {
    "tags": []
   },
   "outputs": [
    {
     "data": {
      "text/html": [
       "<div>\n",
       "<style scoped>\n",
       "    .dataframe tbody tr th:only-of-type {\n",
       "        vertical-align: middle;\n",
       "    }\n",
       "\n",
       "    .dataframe tbody tr th {\n",
       "        vertical-align: top;\n",
       "    }\n",
       "\n",
       "    .dataframe thead th {\n",
       "        text-align: right;\n",
       "    }\n",
       "</style>\n",
       "<table border=\"1\" class=\"dataframe\">\n",
       "  <thead>\n",
       "    <tr style=\"text-align: right;\">\n",
       "      <th></th>\n",
       "      <th>Name</th>\n",
       "      <th>Age</th>\n",
       "      <th>Height_cm</th>\n",
       "      <th>Weight_kg</th>\n",
       "    </tr>\n",
       "  </thead>\n",
       "  <tbody>\n",
       "    <tr>\n",
       "      <th>0</th>\n",
       "      <td>False</td>\n",
       "      <td>True</td>\n",
       "      <td>False</td>\n",
       "      <td>False</td>\n",
       "    </tr>\n",
       "    <tr>\n",
       "      <th>1</th>\n",
       "      <td>False</td>\n",
       "      <td>False</td>\n",
       "      <td>False</td>\n",
       "      <td>False</td>\n",
       "    </tr>\n",
       "    <tr>\n",
       "      <th>2</th>\n",
       "      <td>False</td>\n",
       "      <td>True</td>\n",
       "      <td>False</td>\n",
       "      <td>False</td>\n",
       "    </tr>\n",
       "    <tr>\n",
       "      <th>3</th>\n",
       "      <td>False</td>\n",
       "      <td>False</td>\n",
       "      <td>True</td>\n",
       "      <td>False</td>\n",
       "    </tr>\n",
       "    <tr>\n",
       "      <th>4</th>\n",
       "      <td>False</td>\n",
       "      <td>False</td>\n",
       "      <td>False</td>\n",
       "      <td>False</td>\n",
       "    </tr>\n",
       "  </tbody>\n",
       "</table>\n",
       "</div>"
      ],
      "text/plain": [
       "    Name    Age  Height_cm  Weight_kg\n",
       "0  False   True      False      False\n",
       "1  False  False      False      False\n",
       "2  False   True      False      False\n",
       "3  False  False       True      False\n",
       "4  False  False      False      False"
      ]
     },
     "execution_count": 6,
     "metadata": {},
     "output_type": "execute_result"
    }
   ],
   "source": [
    "chybejici_hodnoty"
   ]
  },
  {
   "cell_type": "markdown",
   "id": "faa13e8e-e79b-469f-b16d-282c3eee5e3c",
   "metadata": {
    "tags": []
   },
   "source": [
    "<br>\n",
    "\n",
    "Pomocí metody `isnull` nahradíš všechny chybějící hodnoty v tabulce/sloupcích pomocí `True`.\n",
    "\n",
    "Pokud nechybí, nahradí s `False`."
   ]
  },
  {
   "cell_type": "code",
   "execution_count": 7,
   "id": "387e61a7-954a-4303-8162-a0db7259dbac",
   "metadata": {
    "tags": []
   },
   "outputs": [
    {
     "data": {
      "text/plain": [
       "pandas.core.frame.DataFrame"
      ]
     },
     "execution_count": 7,
     "metadata": {},
     "output_type": "execute_result"
    }
   ],
   "source": [
    "type(chybejici_hodnoty)"
   ]
  },
  {
   "cell_type": "markdown",
   "id": "1ed25142-bed1-4269-8d6b-db45700300dc",
   "metadata": {},
   "source": [
    "Takový výstup ale není zcela reprezentativní.\n",
    "\n",
    "<br>\n",
    "\n",
    "Proto je potřeba, sečíst všechny `True` hodnoty **po sloupcích**:"
   ]
  },
  {
   "cell_type": "code",
   "execution_count": 8,
   "id": "3d56750d-c78a-4aa4-b0e7-60608c63ea92",
   "metadata": {
    "tags": []
   },
   "outputs": [],
   "source": [
    "soucet_chybejich_hodnot = uzivatele_df.isnull().sum()"
   ]
  },
  {
   "cell_type": "code",
   "execution_count": 9,
   "id": "75187f21-5bd1-4a80-ae23-62523518f939",
   "metadata": {
    "tags": []
   },
   "outputs": [
    {
     "data": {
      "text/plain": [
       "Name         0\n",
       "Age          2\n",
       "Height_cm    1\n",
       "Weight_kg    0\n",
       "dtype: int64"
      ]
     },
     "execution_count": 9,
     "metadata": {},
     "output_type": "execute_result"
    }
   ],
   "source": [
    "soucet_chybejich_hodnot"
   ]
  },
  {
   "cell_type": "markdown",
   "id": "751eab8b-f351-4f14-b637-3482addb7516",
   "metadata": {},
   "source": [
    "<br>\n",
    "\n",
    "Opět v jednotkách to nemusí zcela **prozrazovat chybovost**.\n",
    "\n",
    "Nejlepším indikátorem ale bývají **procenta z celkového množství hodnot ve sloupci**:"
   ]
  },
  {
   "cell_type": "code",
   "execution_count": 10,
   "id": "01670fcc-cb17-491d-af2b-a83c104eab62",
   "metadata": {},
   "outputs": [
    {
     "data": {
      "text/plain": [
       "5"
      ]
     },
     "execution_count": 10,
     "metadata": {},
     "output_type": "execute_result"
    }
   ],
   "source": [
    "uzivatele_df.shape[0]"
   ]
  },
  {
   "cell_type": "markdown",
   "id": "f75373df-e4e6-4b45-b7f5-9be13424a346",
   "metadata": {},
   "source": [
    "<br>\n",
    "\n",
    "... v tomto případě jde o počet záznamů/ řádků v tabulce."
   ]
  },
  {
   "cell_type": "code",
   "execution_count": 11,
   "id": "6f8d9d28-9bf2-46cb-a760-e93d7e83dac5",
   "metadata": {
    "tags": []
   },
   "outputs": [],
   "source": [
    "celkem_zaznamu = uzivatele_df.shape[0]  # 0 ... Indexy, 1 ... sloupce"
   ]
  },
  {
   "cell_type": "code",
   "execution_count": 12,
   "id": "5b2fc8c9-04c7-4738-8988-3c23a1f67834",
   "metadata": {
    "tags": []
   },
   "outputs": [],
   "source": [
    "v_procentech = round(soucet_chybejich_hodnot / celkem_zaznamu * 100, 1)"
   ]
  },
  {
   "cell_type": "code",
   "execution_count": 13,
   "id": "5c53a4e1-38b2-4cda-9190-4a7a623bd412",
   "metadata": {
    "tags": []
   },
   "outputs": [
    {
     "data": {
      "text/plain": [
       "Name          0.0\n",
       "Age          40.0\n",
       "Height_cm    20.0\n",
       "Weight_kg     0.0\n",
       "dtype: float64"
      ]
     },
     "execution_count": 13,
     "metadata": {},
     "output_type": "execute_result"
    }
   ],
   "source": [
    "v_procentech"
   ]
  },
  {
   "cell_type": "markdown",
   "id": "5eeeb1ea-27b8-4870-835c-d8fd52d14e5c",
   "metadata": {},
   "source": [
    "<br>\n",
    "\n",
    "Případně celkové množství záznamů ve všech sloupcích:"
   ]
  },
  {
   "cell_type": "code",
   "execution_count": 14,
   "id": "49e28031-c42a-4670-89a4-3936c0e9d7f1",
   "metadata": {
    "tags": []
   },
   "outputs": [],
   "source": [
    "vsechny_bunky = uzivatele_df.shape[0] * uzivatele_df.shape[1]  # 5 * 4"
   ]
  },
  {
   "cell_type": "code",
   "execution_count": 15,
   "id": "8b455eaa-cce2-4a33-8775-ab68000a4d68",
   "metadata": {},
   "outputs": [
    {
     "data": {
      "text/plain": [
       "20"
      ]
     },
     "execution_count": 15,
     "metadata": {},
     "output_type": "execute_result"
    }
   ],
   "source": [
    "vsechny_bunky"
   ]
  },
  {
   "cell_type": "code",
   "execution_count": 16,
   "id": "ff40c81b-92f2-4c62-8843-2b573fe5bb3b",
   "metadata": {
    "tags": []
   },
   "outputs": [],
   "source": [
    "vsechny_chybejici_hodnoty = chybejici_hodnoty.sum()            # 3"
   ]
  },
  {
   "cell_type": "code",
   "execution_count": 17,
   "id": "0d8b810e-83ea-4d33-ab12-1d9395a342ac",
   "metadata": {},
   "outputs": [
    {
     "data": {
      "text/plain": [
       "Name         0\n",
       "Age          2\n",
       "Height_cm    1\n",
       "Weight_kg    0\n",
       "dtype: int64"
      ]
     },
     "execution_count": 17,
     "metadata": {},
     "output_type": "execute_result"
    }
   ],
   "source": [
    "vsechny_chybejici_hodnoty"
   ]
  },
  {
   "cell_type": "code",
   "execution_count": 18,
   "id": "4b7adf65-d43e-4356-a8c6-3f7470a0b8a8",
   "metadata": {},
   "outputs": [
    {
     "data": {
      "text/plain": [
       "3"
      ]
     },
     "execution_count": 18,
     "metadata": {},
     "output_type": "execute_result"
    }
   ],
   "source": [
    "soucet_chybejich_hodnot.sum()"
   ]
  },
  {
   "cell_type": "code",
   "execution_count": 19,
   "id": "e11991c3-89ff-4212-880e-b26e0c0255ed",
   "metadata": {
    "tags": []
   },
   "outputs": [],
   "source": [
    "celkem_v_procentech = round(soucet_chybejich_hodnot.sum() / vsechny_bunky * 100, 1)"
   ]
  },
  {
   "cell_type": "code",
   "execution_count": 20,
   "id": "78f0c630-6bb4-426d-b661-f0f6103ee3f5",
   "metadata": {
    "tags": []
   },
   "outputs": [
    {
     "data": {
      "text/plain": [
       "15.0"
      ]
     },
     "execution_count": 20,
     "metadata": {},
     "output_type": "execute_result"
    }
   ],
   "source": [
    "celkem_v_procentech"
   ]
  },
  {
   "cell_type": "markdown",
   "id": "c5a0ab4e-9a56-4180-a798-88d2c72fa6ce",
   "metadata": {},
   "source": [
    "<br>\n",
    "\n",
    "V této ukázce tedy chybí 15 % dat a to není málo!"
   ]
  },
  {
   "cell_type": "markdown",
   "id": "8eb41ade-c16e-4421-96e2-6adea66e420e",
   "metadata": {},
   "source": [
    "<br>\n",
    "\n",
    "### Co s chybějícími hodnotami?\n",
    "\n",
    "---"
   ]
  },
  {
   "cell_type": "markdown",
   "id": "6616f1d4-105e-4c63-a46f-aaa200978ed2",
   "metadata": {},
   "source": [
    "Je důležité vědět, proč máš takové množství chybějících hodnot.\n",
    "\n",
    "Chybí ti data, protože neexistují, nebo protože nejsou součástí záznamů v datasetu.\n",
    "\n",
    "V takových krocích je obvykle nutné, pochopit podstatu údajů (dokumentace, specifikace,..).\n",
    "\n",
    "Nejjednodušší způsoby, jak s chybějícími daty naložit (ale ne efektivní!!):\n",
    "1. Zahodit chybějící hodnoty,\n",
    "2. doplnit chybějící hodnoty."
   ]
  },
  {
   "cell_type": "markdown",
   "id": "96a43651-c60c-47c0-902d-1cb1b7c79065",
   "metadata": {},
   "source": [
    "#### Zahodit chybějící hodnoty\n",
    "---"
   ]
  },
  {
   "cell_type": "code",
   "execution_count": 21,
   "id": "39cc9448-d026-4106-9a6c-eedf975fd621",
   "metadata": {
    "tags": []
   },
   "outputs": [],
   "source": [
    "# df_uzivatele.dropna?"
   ]
  },
  {
   "cell_type": "code",
   "execution_count": 22,
   "id": "85ffe82f-3241-4dee-ae2d-20060aeab28c",
   "metadata": {
    "tags": []
   },
   "outputs": [
    {
     "data": {
      "text/html": [
       "<div>\n",
       "<style scoped>\n",
       "    .dataframe tbody tr th:only-of-type {\n",
       "        vertical-align: middle;\n",
       "    }\n",
       "\n",
       "    .dataframe tbody tr th {\n",
       "        vertical-align: top;\n",
       "    }\n",
       "\n",
       "    .dataframe thead th {\n",
       "        text-align: right;\n",
       "    }\n",
       "</style>\n",
       "<table border=\"1\" class=\"dataframe\">\n",
       "  <thead>\n",
       "    <tr style=\"text-align: right;\">\n",
       "      <th></th>\n",
       "      <th>Name</th>\n",
       "      <th>Age</th>\n",
       "      <th>Height_cm</th>\n",
       "      <th>Weight_kg</th>\n",
       "    </tr>\n",
       "  </thead>\n",
       "  <tbody>\n",
       "    <tr>\n",
       "      <th>0</th>\n",
       "      <td>Alice</td>\n",
       "      <td>NaN</td>\n",
       "      <td>160.0</td>\n",
       "      <td>50</td>\n",
       "    </tr>\n",
       "    <tr>\n",
       "      <th>1</th>\n",
       "      <td>Bob</td>\n",
       "      <td>20.0</td>\n",
       "      <td>170.0</td>\n",
       "      <td>65</td>\n",
       "    </tr>\n",
       "    <tr>\n",
       "      <th>2</th>\n",
       "      <td>Charlie</td>\n",
       "      <td>NaN</td>\n",
       "      <td>175.0</td>\n",
       "      <td>70</td>\n",
       "    </tr>\n",
       "    <tr>\n",
       "      <th>3</th>\n",
       "      <td>David</td>\n",
       "      <td>22.0</td>\n",
       "      <td>NaN</td>\n",
       "      <td>80</td>\n",
       "    </tr>\n",
       "    <tr>\n",
       "      <th>4</th>\n",
       "      <td>Eve</td>\n",
       "      <td>23.0</td>\n",
       "      <td>165.0</td>\n",
       "      <td>55</td>\n",
       "    </tr>\n",
       "  </tbody>\n",
       "</table>\n",
       "</div>"
      ],
      "text/plain": [
       "      Name   Age  Height_cm  Weight_kg\n",
       "0    Alice   NaN      160.0         50\n",
       "1      Bob  20.0      170.0         65\n",
       "2  Charlie   NaN      175.0         70\n",
       "3    David  22.0        NaN         80\n",
       "4      Eve  23.0      165.0         55"
      ]
     },
     "execution_count": 22,
     "metadata": {},
     "output_type": "execute_result"
    }
   ],
   "source": [
    "uzivatele_df"
   ]
  },
  {
   "cell_type": "code",
   "execution_count": 23,
   "id": "b9e6bac9-e3f9-49ef-90c9-b04cf76ad546",
   "metadata": {
    "tags": []
   },
   "outputs": [
    {
     "data": {
      "text/html": [
       "<div>\n",
       "<style scoped>\n",
       "    .dataframe tbody tr th:only-of-type {\n",
       "        vertical-align: middle;\n",
       "    }\n",
       "\n",
       "    .dataframe tbody tr th {\n",
       "        vertical-align: top;\n",
       "    }\n",
       "\n",
       "    .dataframe thead th {\n",
       "        text-align: right;\n",
       "    }\n",
       "</style>\n",
       "<table border=\"1\" class=\"dataframe\">\n",
       "  <thead>\n",
       "    <tr style=\"text-align: right;\">\n",
       "      <th></th>\n",
       "      <th>Name</th>\n",
       "      <th>Age</th>\n",
       "      <th>Height_cm</th>\n",
       "      <th>Weight_kg</th>\n",
       "    </tr>\n",
       "  </thead>\n",
       "  <tbody>\n",
       "    <tr>\n",
       "      <th>1</th>\n",
       "      <td>Bob</td>\n",
       "      <td>20.0</td>\n",
       "      <td>170.0</td>\n",
       "      <td>65</td>\n",
       "    </tr>\n",
       "    <tr>\n",
       "      <th>4</th>\n",
       "      <td>Eve</td>\n",
       "      <td>23.0</td>\n",
       "      <td>165.0</td>\n",
       "      <td>55</td>\n",
       "    </tr>\n",
       "  </tbody>\n",
       "</table>\n",
       "</div>"
      ],
      "text/plain": [
       "  Name   Age  Height_cm  Weight_kg\n",
       "1  Bob  20.0      170.0         65\n",
       "4  Eve  23.0      165.0         55"
      ]
     },
     "execution_count": 23,
     "metadata": {},
     "output_type": "execute_result"
    }
   ],
   "source": [
    "uzivatele_df.dropna()  # axis=0"
   ]
  },
  {
   "cell_type": "markdown",
   "id": "d3303e41-287a-40e6-a4c7-b5fba0d09402",
   "metadata": {},
   "source": [
    "<br>\n",
    "\n",
    "V tento okamžik si zahodíš všechny záznamy, které **postrádaly nějakou hodnotu**.\n",
    "\n",
    "Někdy je jednodušší zahodit sloupeček, který má chybějící hodnotu:"
   ]
  },
  {
   "cell_type": "code",
   "execution_count": 24,
   "id": "6e61cc08-1fa9-4fea-9137-bcf649fc0cf4",
   "metadata": {
    "tags": []
   },
   "outputs": [
    {
     "data": {
      "text/html": [
       "<div>\n",
       "<style scoped>\n",
       "    .dataframe tbody tr th:only-of-type {\n",
       "        vertical-align: middle;\n",
       "    }\n",
       "\n",
       "    .dataframe tbody tr th {\n",
       "        vertical-align: top;\n",
       "    }\n",
       "\n",
       "    .dataframe thead th {\n",
       "        text-align: right;\n",
       "    }\n",
       "</style>\n",
       "<table border=\"1\" class=\"dataframe\">\n",
       "  <thead>\n",
       "    <tr style=\"text-align: right;\">\n",
       "      <th></th>\n",
       "      <th>Name</th>\n",
       "      <th>Weight_kg</th>\n",
       "    </tr>\n",
       "  </thead>\n",
       "  <tbody>\n",
       "    <tr>\n",
       "      <th>0</th>\n",
       "      <td>Alice</td>\n",
       "      <td>50</td>\n",
       "    </tr>\n",
       "    <tr>\n",
       "      <th>1</th>\n",
       "      <td>Bob</td>\n",
       "      <td>65</td>\n",
       "    </tr>\n",
       "    <tr>\n",
       "      <th>2</th>\n",
       "      <td>Charlie</td>\n",
       "      <td>70</td>\n",
       "    </tr>\n",
       "    <tr>\n",
       "      <th>3</th>\n",
       "      <td>David</td>\n",
       "      <td>80</td>\n",
       "    </tr>\n",
       "    <tr>\n",
       "      <th>4</th>\n",
       "      <td>Eve</td>\n",
       "      <td>55</td>\n",
       "    </tr>\n",
       "  </tbody>\n",
       "</table>\n",
       "</div>"
      ],
      "text/plain": [
       "      Name  Weight_kg\n",
       "0    Alice         50\n",
       "1      Bob         65\n",
       "2  Charlie         70\n",
       "3    David         80\n",
       "4      Eve         55"
      ]
     },
     "execution_count": 24,
     "metadata": {},
     "output_type": "execute_result"
    }
   ],
   "source": [
    "uzivatele_df.dropna(axis=1)"
   ]
  },
  {
   "cell_type": "markdown",
   "id": "2d0e58d9-0404-4f6e-9e8e-442dac3b04ca",
   "metadata": {},
   "source": [
    "#### Doplnit automaticky hodnoty\n",
    "\n",
    "---"
   ]
  },
  {
   "cell_type": "code",
   "execution_count": 25,
   "id": "fb5191da-aa18-487f-9753-58e0ec5201c3",
   "metadata": {},
   "outputs": [],
   "source": [
    "# df_uzivatele.fillna?"
   ]
  },
  {
   "cell_type": "code",
   "execution_count": 26,
   "id": "f6d552f0-6561-4817-8c6b-46a46193e2df",
   "metadata": {
    "tags": []
   },
   "outputs": [
    {
     "data": {
      "text/html": [
       "<div>\n",
       "<style scoped>\n",
       "    .dataframe tbody tr th:only-of-type {\n",
       "        vertical-align: middle;\n",
       "    }\n",
       "\n",
       "    .dataframe tbody tr th {\n",
       "        vertical-align: top;\n",
       "    }\n",
       "\n",
       "    .dataframe thead th {\n",
       "        text-align: right;\n",
       "    }\n",
       "</style>\n",
       "<table border=\"1\" class=\"dataframe\">\n",
       "  <thead>\n",
       "    <tr style=\"text-align: right;\">\n",
       "      <th></th>\n",
       "      <th>Name</th>\n",
       "      <th>Age</th>\n",
       "      <th>Height_cm</th>\n",
       "      <th>Weight_kg</th>\n",
       "    </tr>\n",
       "  </thead>\n",
       "  <tbody>\n",
       "    <tr>\n",
       "      <th>0</th>\n",
       "      <td>Alice</td>\n",
       "      <td>NaN</td>\n",
       "      <td>160.0</td>\n",
       "      <td>50</td>\n",
       "    </tr>\n",
       "    <tr>\n",
       "      <th>1</th>\n",
       "      <td>Bob</td>\n",
       "      <td>20.0</td>\n",
       "      <td>170.0</td>\n",
       "      <td>65</td>\n",
       "    </tr>\n",
       "    <tr>\n",
       "      <th>2</th>\n",
       "      <td>Charlie</td>\n",
       "      <td>NaN</td>\n",
       "      <td>175.0</td>\n",
       "      <td>70</td>\n",
       "    </tr>\n",
       "    <tr>\n",
       "      <th>3</th>\n",
       "      <td>David</td>\n",
       "      <td>22.0</td>\n",
       "      <td>NaN</td>\n",
       "      <td>80</td>\n",
       "    </tr>\n",
       "    <tr>\n",
       "      <th>4</th>\n",
       "      <td>Eve</td>\n",
       "      <td>23.0</td>\n",
       "      <td>165.0</td>\n",
       "      <td>55</td>\n",
       "    </tr>\n",
       "  </tbody>\n",
       "</table>\n",
       "</div>"
      ],
      "text/plain": [
       "      Name   Age  Height_cm  Weight_kg\n",
       "0    Alice   NaN      160.0         50\n",
       "1      Bob  20.0      170.0         65\n",
       "2  Charlie   NaN      175.0         70\n",
       "3    David  22.0        NaN         80\n",
       "4      Eve  23.0      165.0         55"
      ]
     },
     "execution_count": 26,
     "metadata": {},
     "output_type": "execute_result"
    }
   ],
   "source": [
    "uzivatele_df"
   ]
  },
  {
   "cell_type": "code",
   "execution_count": 27,
   "id": "adf2c9ba-18f6-4e93-aee0-57e9fafb8ddc",
   "metadata": {},
   "outputs": [],
   "source": [
    "novy_df = uzivatele_df.fillna('Nula')  # replace: \"Nan\" --> 0"
   ]
  },
  {
   "cell_type": "code",
   "execution_count": 28,
   "id": "1b9326e1-c4a2-4394-a45e-c6ba60ed8b2b",
   "metadata": {},
   "outputs": [
    {
     "data": {
      "text/plain": [
       "0    NulaNula\n",
       "1        40.0\n",
       "2    NulaNula\n",
       "3        44.0\n",
       "4        46.0\n",
       "Name: Age, dtype: object"
      ]
     },
     "execution_count": 28,
     "metadata": {},
     "output_type": "execute_result"
    }
   ],
   "source": [
    "novy_df['Age'] * 2"
   ]
  },
  {
   "cell_type": "code",
   "execution_count": 29,
   "id": "b37c27ee-b006-4d81-991e-cc359cf11342",
   "metadata": {},
   "outputs": [
    {
     "data": {
      "text/html": [
       "<div>\n",
       "<style scoped>\n",
       "    .dataframe tbody tr th:only-of-type {\n",
       "        vertical-align: middle;\n",
       "    }\n",
       "\n",
       "    .dataframe tbody tr th {\n",
       "        vertical-align: top;\n",
       "    }\n",
       "\n",
       "    .dataframe thead th {\n",
       "        text-align: right;\n",
       "    }\n",
       "</style>\n",
       "<table border=\"1\" class=\"dataframe\">\n",
       "  <thead>\n",
       "    <tr style=\"text-align: right;\">\n",
       "      <th></th>\n",
       "      <th>Name</th>\n",
       "      <th>Age</th>\n",
       "      <th>Height_cm</th>\n",
       "      <th>Weight_kg</th>\n",
       "    </tr>\n",
       "  </thead>\n",
       "  <tbody>\n",
       "    <tr>\n",
       "      <th>0</th>\n",
       "      <td>Alice</td>\n",
       "      <td>NaN</td>\n",
       "      <td>160.0</td>\n",
       "      <td>50</td>\n",
       "    </tr>\n",
       "    <tr>\n",
       "      <th>1</th>\n",
       "      <td>Bob</td>\n",
       "      <td>20.0</td>\n",
       "      <td>170.0</td>\n",
       "      <td>65</td>\n",
       "    </tr>\n",
       "    <tr>\n",
       "      <th>2</th>\n",
       "      <td>Charlie</td>\n",
       "      <td>NaN</td>\n",
       "      <td>175.0</td>\n",
       "      <td>70</td>\n",
       "    </tr>\n",
       "    <tr>\n",
       "      <th>3</th>\n",
       "      <td>David</td>\n",
       "      <td>22.0</td>\n",
       "      <td>NaN</td>\n",
       "      <td>80</td>\n",
       "    </tr>\n",
       "    <tr>\n",
       "      <th>4</th>\n",
       "      <td>Eve</td>\n",
       "      <td>23.0</td>\n",
       "      <td>165.0</td>\n",
       "      <td>55</td>\n",
       "    </tr>\n",
       "  </tbody>\n",
       "</table>\n",
       "</div>"
      ],
      "text/plain": [
       "      Name   Age  Height_cm  Weight_kg\n",
       "0    Alice   NaN      160.0         50\n",
       "1      Bob  20.0      170.0         65\n",
       "2  Charlie   NaN      175.0         70\n",
       "3    David  22.0        NaN         80\n",
       "4      Eve  23.0      165.0         55"
      ]
     },
     "execution_count": 29,
     "metadata": {},
     "output_type": "execute_result"
    }
   ],
   "source": [
    "uzivatele_df"
   ]
  },
  {
   "cell_type": "markdown",
   "id": "5202453b-3b20-438d-8f9b-b870cf2f085a",
   "metadata": {},
   "source": [
    "<br>\n",
    "\n",
    "Pomocí funkce `fillna` můžeš vyplnit místo chybějících hodnot předdefinovanou vlastní hodnotu.\n",
    "\n",
    "Nebo pomocí argumentu pro `method` pracovat s elegantnějším zadáním.\n",
    "\n",
    "Nahradit chybějící hodnoty hodnotou, která následuje bezprostředně za ní ve stejném sloupci (To má velký smysl u souborů dat, kde mají pozorování nějaké logické pořadí.)"
   ]
  },
  {
   "cell_type": "code",
   "execution_count": 30,
   "id": "fdd2ae9d-e7d9-4d5c-aa0b-fbb307015916",
   "metadata": {
    "tags": []
   },
   "outputs": [
    {
     "data": {
      "text/html": [
       "<div>\n",
       "<style scoped>\n",
       "    .dataframe tbody tr th:only-of-type {\n",
       "        vertical-align: middle;\n",
       "    }\n",
       "\n",
       "    .dataframe tbody tr th {\n",
       "        vertical-align: top;\n",
       "    }\n",
       "\n",
       "    .dataframe thead th {\n",
       "        text-align: right;\n",
       "    }\n",
       "</style>\n",
       "<table border=\"1\" class=\"dataframe\">\n",
       "  <thead>\n",
       "    <tr style=\"text-align: right;\">\n",
       "      <th></th>\n",
       "      <th>Name</th>\n",
       "      <th>Age</th>\n",
       "      <th>Height_cm</th>\n",
       "      <th>Weight_kg</th>\n",
       "    </tr>\n",
       "  </thead>\n",
       "  <tbody>\n",
       "    <tr>\n",
       "      <th>0</th>\n",
       "      <td>Alice</td>\n",
       "      <td>20.0</td>\n",
       "      <td>160.0</td>\n",
       "      <td>50</td>\n",
       "    </tr>\n",
       "    <tr>\n",
       "      <th>1</th>\n",
       "      <td>Bob</td>\n",
       "      <td>20.0</td>\n",
       "      <td>170.0</td>\n",
       "      <td>65</td>\n",
       "    </tr>\n",
       "    <tr>\n",
       "      <th>2</th>\n",
       "      <td>Charlie</td>\n",
       "      <td>22.0</td>\n",
       "      <td>175.0</td>\n",
       "      <td>70</td>\n",
       "    </tr>\n",
       "    <tr>\n",
       "      <th>3</th>\n",
       "      <td>David</td>\n",
       "      <td>22.0</td>\n",
       "      <td>165.0</td>\n",
       "      <td>80</td>\n",
       "    </tr>\n",
       "    <tr>\n",
       "      <th>4</th>\n",
       "      <td>Eve</td>\n",
       "      <td>23.0</td>\n",
       "      <td>165.0</td>\n",
       "      <td>55</td>\n",
       "    </tr>\n",
       "  </tbody>\n",
       "</table>\n",
       "</div>"
      ],
      "text/plain": [
       "      Name   Age  Height_cm  Weight_kg\n",
       "0    Alice  20.0      160.0         50\n",
       "1      Bob  20.0      170.0         65\n",
       "2  Charlie  22.0      175.0         70\n",
       "3    David  22.0      165.0         80\n",
       "4      Eve  23.0      165.0         55"
      ]
     },
     "execution_count": 30,
     "metadata": {},
     "output_type": "execute_result"
    }
   ],
   "source": [
    "uzivatele_df.fillna(method='bfill', axis=0)"
   ]
  },
  {
   "cell_type": "code",
   "execution_count": 31,
   "id": "f7d5c7eb-4813-4bfa-9430-b4a6ab0b3d6c",
   "metadata": {},
   "outputs": [
    {
     "data": {
      "text/html": [
       "<div>\n",
       "<style scoped>\n",
       "    .dataframe tbody tr th:only-of-type {\n",
       "        vertical-align: middle;\n",
       "    }\n",
       "\n",
       "    .dataframe tbody tr th {\n",
       "        vertical-align: top;\n",
       "    }\n",
       "\n",
       "    .dataframe thead th {\n",
       "        text-align: right;\n",
       "    }\n",
       "</style>\n",
       "<table border=\"1\" class=\"dataframe\">\n",
       "  <thead>\n",
       "    <tr style=\"text-align: right;\">\n",
       "      <th></th>\n",
       "      <th>Name</th>\n",
       "      <th>Age</th>\n",
       "      <th>Height_cm</th>\n",
       "      <th>Weight_kg</th>\n",
       "    </tr>\n",
       "  </thead>\n",
       "  <tbody>\n",
       "    <tr>\n",
       "      <th>0</th>\n",
       "      <td>Alice</td>\n",
       "      <td>NaN</td>\n",
       "      <td>160.0</td>\n",
       "      <td>50</td>\n",
       "    </tr>\n",
       "    <tr>\n",
       "      <th>1</th>\n",
       "      <td>Bob</td>\n",
       "      <td>20.0</td>\n",
       "      <td>170.0</td>\n",
       "      <td>65</td>\n",
       "    </tr>\n",
       "    <tr>\n",
       "      <th>2</th>\n",
       "      <td>Charlie</td>\n",
       "      <td>NaN</td>\n",
       "      <td>175.0</td>\n",
       "      <td>70</td>\n",
       "    </tr>\n",
       "    <tr>\n",
       "      <th>3</th>\n",
       "      <td>David</td>\n",
       "      <td>22.0</td>\n",
       "      <td>NaN</td>\n",
       "      <td>80</td>\n",
       "    </tr>\n",
       "    <tr>\n",
       "      <th>4</th>\n",
       "      <td>Eve</td>\n",
       "      <td>23.0</td>\n",
       "      <td>165.0</td>\n",
       "      <td>55</td>\n",
       "    </tr>\n",
       "  </tbody>\n",
       "</table>\n",
       "</div>"
      ],
      "text/plain": [
       "      Name   Age  Height_cm  Weight_kg\n",
       "0    Alice   NaN      160.0         50\n",
       "1      Bob  20.0      170.0         65\n",
       "2  Charlie   NaN      175.0         70\n",
       "3    David  22.0        NaN         80\n",
       "4      Eve  23.0      165.0         55"
      ]
     },
     "execution_count": 31,
     "metadata": {},
     "output_type": "execute_result"
    }
   ],
   "source": [
    "uzivatele_df"
   ]
  },
  {
   "cell_type": "code",
   "execution_count": 32,
   "id": "f8a1f8a7-2fbd-4038-bb80-c3570677fa20",
   "metadata": {
    "tags": []
   },
   "outputs": [
    {
     "data": {
      "text/html": [
       "<div>\n",
       "<style scoped>\n",
       "    .dataframe tbody tr th:only-of-type {\n",
       "        vertical-align: middle;\n",
       "    }\n",
       "\n",
       "    .dataframe tbody tr th {\n",
       "        vertical-align: top;\n",
       "    }\n",
       "\n",
       "    .dataframe thead th {\n",
       "        text-align: right;\n",
       "    }\n",
       "</style>\n",
       "<table border=\"1\" class=\"dataframe\">\n",
       "  <thead>\n",
       "    <tr style=\"text-align: right;\">\n",
       "      <th></th>\n",
       "      <th>Name</th>\n",
       "      <th>Age</th>\n",
       "      <th>Height_cm</th>\n",
       "      <th>Weight_kg</th>\n",
       "    </tr>\n",
       "  </thead>\n",
       "  <tbody>\n",
       "    <tr>\n",
       "      <th>0</th>\n",
       "      <td>Alice</td>\n",
       "      <td>NaN</td>\n",
       "      <td>160.0</td>\n",
       "      <td>50</td>\n",
       "    </tr>\n",
       "    <tr>\n",
       "      <th>1</th>\n",
       "      <td>Bob</td>\n",
       "      <td>20.0</td>\n",
       "      <td>170.0</td>\n",
       "      <td>65</td>\n",
       "    </tr>\n",
       "    <tr>\n",
       "      <th>2</th>\n",
       "      <td>Charlie</td>\n",
       "      <td>20.0</td>\n",
       "      <td>175.0</td>\n",
       "      <td>70</td>\n",
       "    </tr>\n",
       "    <tr>\n",
       "      <th>3</th>\n",
       "      <td>David</td>\n",
       "      <td>22.0</td>\n",
       "      <td>175.0</td>\n",
       "      <td>80</td>\n",
       "    </tr>\n",
       "    <tr>\n",
       "      <th>4</th>\n",
       "      <td>Eve</td>\n",
       "      <td>23.0</td>\n",
       "      <td>165.0</td>\n",
       "      <td>55</td>\n",
       "    </tr>\n",
       "  </tbody>\n",
       "</table>\n",
       "</div>"
      ],
      "text/plain": [
       "      Name   Age  Height_cm  Weight_kg\n",
       "0    Alice   NaN      160.0         50\n",
       "1      Bob  20.0      170.0         65\n",
       "2  Charlie  20.0      175.0         70\n",
       "3    David  22.0      175.0         80\n",
       "4      Eve  23.0      165.0         55"
      ]
     },
     "execution_count": 32,
     "metadata": {},
     "output_type": "execute_result"
    }
   ],
   "source": [
    "uzivatele_df.fillna(method='ffill', axis=0)"
   ]
  },
  {
   "cell_type": "markdown",
   "id": "f436af74-cdf5-41e2-ad05-558773d7b2dd",
   "metadata": {},
   "source": [
    "<br>\n",
    "\n",
    "Při volbě metody `ffill` může dělat problémy chybějící hodnota v prvním Indexu."
   ]
  },
  {
   "cell_type": "code",
   "execution_count": 33,
   "id": "d9950add-6bb0-4337-a10f-b37459ddcfe9",
   "metadata": {
    "tags": []
   },
   "outputs": [
    {
     "data": {
      "text/html": [
       "<div>\n",
       "<style scoped>\n",
       "    .dataframe tbody tr th:only-of-type {\n",
       "        vertical-align: middle;\n",
       "    }\n",
       "\n",
       "    .dataframe tbody tr th {\n",
       "        vertical-align: top;\n",
       "    }\n",
       "\n",
       "    .dataframe thead th {\n",
       "        text-align: right;\n",
       "    }\n",
       "</style>\n",
       "<table border=\"1\" class=\"dataframe\">\n",
       "  <thead>\n",
       "    <tr style=\"text-align: right;\">\n",
       "      <th></th>\n",
       "      <th>Name</th>\n",
       "      <th>Age</th>\n",
       "      <th>Height_cm</th>\n",
       "      <th>Weight_kg</th>\n",
       "    </tr>\n",
       "  </thead>\n",
       "  <tbody>\n",
       "    <tr>\n",
       "      <th>0</th>\n",
       "      <td>Alice</td>\n",
       "      <td>19.0</td>\n",
       "      <td>160.0</td>\n",
       "      <td>50</td>\n",
       "    </tr>\n",
       "    <tr>\n",
       "      <th>1</th>\n",
       "      <td>Bob</td>\n",
       "      <td>20.0</td>\n",
       "      <td>170.0</td>\n",
       "      <td>65</td>\n",
       "    </tr>\n",
       "    <tr>\n",
       "      <th>2</th>\n",
       "      <td>Charlie</td>\n",
       "      <td>20.0</td>\n",
       "      <td>175.0</td>\n",
       "      <td>70</td>\n",
       "    </tr>\n",
       "    <tr>\n",
       "      <th>3</th>\n",
       "      <td>David</td>\n",
       "      <td>22.0</td>\n",
       "      <td>175.0</td>\n",
       "      <td>80</td>\n",
       "    </tr>\n",
       "    <tr>\n",
       "      <th>4</th>\n",
       "      <td>Eve</td>\n",
       "      <td>23.0</td>\n",
       "      <td>165.0</td>\n",
       "      <td>55</td>\n",
       "    </tr>\n",
       "  </tbody>\n",
       "</table>\n",
       "</div>"
      ],
      "text/plain": [
       "      Name   Age  Height_cm  Weight_kg\n",
       "0    Alice  19.0      160.0         50\n",
       "1      Bob  20.0      170.0         65\n",
       "2  Charlie  20.0      175.0         70\n",
       "3    David  22.0      175.0         80\n",
       "4      Eve  23.0      165.0         55"
      ]
     },
     "execution_count": 33,
     "metadata": {},
     "output_type": "execute_result"
    }
   ],
   "source": [
    "uzivatele_df.fillna(method='ffill', axis=0).fillna(19)"
   ]
  },
  {
   "cell_type": "markdown",
   "id": "5024cc31-09f0-4198-b68a-6421f50191e5",
   "metadata": {},
   "source": [
    "Pro doplnění **nedoplněných hodnot** ve spolupráci s metodou `fillna` můžeš tuto metoda spustit opakovaně."
   ]
  },
  {
   "cell_type": "code",
   "execution_count": 34,
   "id": "1e987c01-fd67-45b4-b097-233ccfe4a3c5",
   "metadata": {},
   "outputs": [],
   "source": [
    "import numpy"
   ]
  },
  {
   "cell_type": "code",
   "execution_count": 35,
   "id": "3cf7ba22-b4f8-4606-bf3f-c75ab80df99b",
   "metadata": {},
   "outputs": [
    {
     "data": {
      "text/plain": [
       "False"
      ]
     },
     "execution_count": 35,
     "metadata": {},
     "output_type": "execute_result"
    }
   ],
   "source": [
    "numpy.isnan(0)"
   ]
  },
  {
   "cell_type": "markdown",
   "id": "60b44420-c672-4854-979e-7175e0e4578c",
   "metadata": {},
   "source": [
    "Založím novou kopii objektu z původní tabulky: "
   ]
  },
  {
   "cell_type": "code",
   "execution_count": 36,
   "id": "5f120599-bec3-4779-95f6-46b378b76c0c",
   "metadata": {},
   "outputs": [],
   "source": [
    "novi_uzivatele_df = uzivatele_df.copy()"
   ]
  },
  {
   "cell_type": "markdown",
   "id": "a28c7c24-e82e-4ba1-974d-dfabb307b064",
   "metadata": {},
   "source": [
    "<br>\n",
    "\n",
    "Zapíšu existující hodnoty do nového sloupce `Age_NEW`:"
   ]
  },
  {
   "cell_type": "code",
   "execution_count": 37,
   "id": "9431e301-ae62-4f3a-9c2f-43532e6ef1af",
   "metadata": {},
   "outputs": [],
   "source": [
    "novi_uzivatele_df['Age_NEW'] = novi_uzivatele_df['Age']"
   ]
  },
  {
   "cell_type": "markdown",
   "id": "55896eb5-349c-4ce8-b8a5-fb897119ab90",
   "metadata": {},
   "source": [
    "<br>\n",
    "\n",
    "Nahradíme prázdné řádky s doplňujícím výpočtem:"
   ]
  },
  {
   "cell_type": "code",
   "execution_count": 38,
   "id": "60b451e4-654e-4271-a8de-4820d7bf7fb6",
   "metadata": {},
   "outputs": [],
   "source": [
    "chybejici = novi_uzivatele_df['Age'].isna()\n",
    "novi_uzivatele_df.loc[chybejici, 'Age_NEW'] = novi_uzivatele_df.loc[chybejici, 'Height_cm'] * novi_uzivatele_df.loc[chybejici, 'Weight_kg']"
   ]
  },
  {
   "cell_type": "code",
   "execution_count": 39,
   "id": "007ef0b8-3af7-482d-bffa-aed77dce5f3e",
   "metadata": {},
   "outputs": [
    {
     "data": {
      "text/html": [
       "<div>\n",
       "<style scoped>\n",
       "    .dataframe tbody tr th:only-of-type {\n",
       "        vertical-align: middle;\n",
       "    }\n",
       "\n",
       "    .dataframe tbody tr th {\n",
       "        vertical-align: top;\n",
       "    }\n",
       "\n",
       "    .dataframe thead th {\n",
       "        text-align: right;\n",
       "    }\n",
       "</style>\n",
       "<table border=\"1\" class=\"dataframe\">\n",
       "  <thead>\n",
       "    <tr style=\"text-align: right;\">\n",
       "      <th></th>\n",
       "      <th>Name</th>\n",
       "      <th>Age</th>\n",
       "      <th>Height_cm</th>\n",
       "      <th>Weight_kg</th>\n",
       "      <th>Age_NEW</th>\n",
       "    </tr>\n",
       "  </thead>\n",
       "  <tbody>\n",
       "    <tr>\n",
       "      <th>0</th>\n",
       "      <td>Alice</td>\n",
       "      <td>NaN</td>\n",
       "      <td>160.0</td>\n",
       "      <td>50</td>\n",
       "      <td>8000.0</td>\n",
       "    </tr>\n",
       "    <tr>\n",
       "      <th>1</th>\n",
       "      <td>Bob</td>\n",
       "      <td>20.0</td>\n",
       "      <td>170.0</td>\n",
       "      <td>65</td>\n",
       "      <td>20.0</td>\n",
       "    </tr>\n",
       "    <tr>\n",
       "      <th>2</th>\n",
       "      <td>Charlie</td>\n",
       "      <td>NaN</td>\n",
       "      <td>175.0</td>\n",
       "      <td>70</td>\n",
       "      <td>12250.0</td>\n",
       "    </tr>\n",
       "    <tr>\n",
       "      <th>3</th>\n",
       "      <td>David</td>\n",
       "      <td>22.0</td>\n",
       "      <td>NaN</td>\n",
       "      <td>80</td>\n",
       "      <td>22.0</td>\n",
       "    </tr>\n",
       "    <tr>\n",
       "      <th>4</th>\n",
       "      <td>Eve</td>\n",
       "      <td>23.0</td>\n",
       "      <td>165.0</td>\n",
       "      <td>55</td>\n",
       "      <td>23.0</td>\n",
       "    </tr>\n",
       "  </tbody>\n",
       "</table>\n",
       "</div>"
      ],
      "text/plain": [
       "      Name   Age  Height_cm  Weight_kg  Age_NEW\n",
       "0    Alice   NaN      160.0         50   8000.0\n",
       "1      Bob  20.0      170.0         65     20.0\n",
       "2  Charlie   NaN      175.0         70  12250.0\n",
       "3    David  22.0        NaN         80     22.0\n",
       "4      Eve  23.0      165.0         55     23.0"
      ]
     },
     "execution_count": 39,
     "metadata": {},
     "output_type": "execute_result"
    }
   ],
   "source": [
    "novi_uzivatele_df.head()"
   ]
  },
  {
   "cell_type": "markdown",
   "id": "e688f5c9-f68e-43e1-b275-fcb080d70dc6",
   "metadata": {},
   "source": [
    "<img src=\"https://imgs.search.brave.com/lUUqjUIBtDUFPXtoZsXuQckIeZDaKPxCsaKdK1kJuFw/rs:fit:500:0:0:0/g:ce/aHR0cHM6Ly90NC5m/dGNkbi5uZXQvanBn/LzA5LzM4LzAxLzE1/LzM2MF9GXzkzODAx/MTU4MF9leVZ5Um9z/Z20wakNsVzhMRm1l/R0dpeDNJQ0tXdmhV/WS5qcGc\" width=\"160\" style=\"margin-left:auto; margin-right:auto\"/>\n",
    "\n"
   ]
  },
  {
   "cell_type": "markdown",
   "id": "57c715ef-7ae1-4553-8784-1ab9a3805879",
   "metadata": {},
   "source": [
    "### Encoding, znakové sady\n",
    "\n",
    "---"
   ]
  },
  {
   "cell_type": "markdown",
   "id": "9cf32393-377e-495b-9b9d-0466644abd43",
   "metadata": {},
   "source": [
    "Problémy s *kódováním* jsou běžné.\n",
    "\n",
    "Jde o proces, který mapuje **bajtové stringy** (`0110101011`) na **uživatelsky čitelný text** (`\"ahoj!\"`).\n",
    "\n",
    "Tento problém nastane, pokud se snažíš načíst zdroj v jiné kódovací sadě, než byl soubor zapsaný.\n",
    "\n",
    "Protože je těchto sad hodně, občas skončíš s *escapovanými znaky*, nebo s neznámými kliky-háky:"
   ]
  },
  {
   "cell_type": "code",
   "execution_count": 40,
   "id": "f159ffad-69c6-4bdf-85c3-1a958258efe5",
   "metadata": {},
   "outputs": [
    {
     "name": "stdout",
     "output_type": "stream",
     "text": [
      "æ–‡å\n"
     ]
    }
   ],
   "source": [
    "print('æ–‡å')"
   ]
  },
  {
   "cell_type": "markdown",
   "id": "eceee1ef-418d-4389-bed6-810d74d95cb4",
   "metadata": {},
   "source": [
    "<br>\n",
    "\n",
    "Případně pokud nelze domapovat znaky:"
   ]
  },
  {
   "cell_type": "markdown",
   "id": "4f1a8efe-f850-4a3d-8830-8f0c345d6ac1",
   "metadata": {},
   "source": [
    "��"
   ]
  },
  {
   "cell_type": "markdown",
   "id": "560264fa-1dc9-4cb5-8903-33d990684628",
   "metadata": {},
   "source": [
    "<br>\n",
    "\n",
    "V **Pythonu 2** nebylo lehké *encoding* zajistit.\n",
    "\n",
    "V **Pythonu 3** je celý proces o dost jednodušší.\n",
    "\n",
    "Standardem pro práci bývá obyčejně UTF-8. Na to ale zrovna v našich končinách nemůžeš spoléhat."
   ]
  },
  {
   "cell_type": "code",
   "execution_count": 41,
   "id": "4c951fc4-65af-4718-a523-bbfc0ee1821c",
   "metadata": {
    "tags": []
   },
   "outputs": [],
   "source": [
    "veta = \"Matouš zaplatil 100 $\""
   ]
  },
  {
   "cell_type": "code",
   "execution_count": 42,
   "id": "e8dd89ea-dce1-4b7a-b951-5c7288355295",
   "metadata": {
    "tags": []
   },
   "outputs": [],
   "source": [
    "# veta?"
   ]
  },
  {
   "cell_type": "markdown",
   "id": "dbbf25e8-0d6e-43d1-8c6b-0039e7fcad2b",
   "metadata": {},
   "source": [
    "<br>\n",
    "\n",
    "Údaj, který vidíš výš je datový typ `str`."
   ]
  },
  {
   "cell_type": "code",
   "execution_count": 43,
   "id": "ab3c96fc-f6cc-45ca-b6d3-5d56220a2292",
   "metadata": {
    "tags": []
   },
   "outputs": [],
   "source": [
    "prevedena_veta = veta.encode(\"utf-8\", errors=\"replace\")"
   ]
  },
  {
   "cell_type": "code",
   "execution_count": 44,
   "id": "8e04811c-f984-41eb-8a89-145ab229961b",
   "metadata": {
    "tags": []
   },
   "outputs": [
    {
     "data": {
      "text/plain": [
       "b'Matou\\xc5\\xa1 zaplatil 100 $'"
      ]
     },
     "execution_count": 44,
     "metadata": {},
     "output_type": "execute_result"
    }
   ],
   "source": [
    "prevedena_veta"
   ]
  },
  {
   "cell_type": "code",
   "execution_count": 45,
   "id": "f42ca5e6-3929-4c09-b23c-e11dca088070",
   "metadata": {
    "tags": []
   },
   "outputs": [],
   "source": [
    "# prevedena_veta?"
   ]
  },
  {
   "cell_type": "markdown",
   "id": "648f8714-1dac-414d-8af4-5a66ea3af78f",
   "metadata": {
    "tags": []
   },
   "source": [
    "<br>\n",
    "\n",
    "Dál je možné, převést `str` na `bytes`. Tedy sekvenci čísel.\n",
    "\n",
    "Jak ale teď tato sekvence vypadá:"
   ]
  },
  {
   "cell_type": "code",
   "execution_count": 46,
   "id": "cc8682a4-ce48-4c3a-9c01-bd7ef1872c74",
   "metadata": {
    "tags": []
   },
   "outputs": [
    {
     "data": {
      "text/plain": [
       "b'Matou\\xc5\\xa1 zaplatil 100 $'"
      ]
     },
     "execution_count": 46,
     "metadata": {},
     "output_type": "execute_result"
    }
   ],
   "source": [
    "prevedena_veta"
   ]
  },
  {
   "cell_type": "markdown",
   "id": "3ec6fda1-adb8-4300-9869-5b80caf130f5",
   "metadata": {},
   "source": [
    "<br>\n",
    "\n",
    "Celou větu můžeš zpátky kódovat pomocí funkce `decode` z `bytes` na `str`:"
   ]
  },
  {
   "cell_type": "code",
   "execution_count": 47,
   "id": "558a1cca-b804-4944-a304-87a3b610b7e8",
   "metadata": {
    "tags": []
   },
   "outputs": [
    {
     "name": "stdout",
     "output_type": "stream",
     "text": [
      "Matouš zaplatil 100 $\n"
     ]
    }
   ],
   "source": [
    "print(prevedena_veta.decode(\"utf-8\"))"
   ]
  },
  {
   "cell_type": "markdown",
   "id": "69c36708-76d1-440b-9a87-8c2f49006718",
   "metadata": {},
   "source": [
    "<br>\n",
    "\n",
    "Pokud ale zvolíš jinou sadu, nemusíš dostat stejné hodnoty:"
   ]
  },
  {
   "cell_type": "code",
   "execution_count": 48,
   "id": "b6149adf-eeef-4d89-8dce-13cffa36fe49",
   "metadata": {
    "tags": []
   },
   "outputs": [
    {
     "name": "stdout",
     "output_type": "stream",
     "text": [
      "MatouĹˇ zaplatil 100 $\n"
     ]
    }
   ],
   "source": [
    "print(prevedena_veta.decode(\"windows-1250\"))"
   ]
  },
  {
   "cell_type": "code",
   "execution_count": 49,
   "id": "92589e12-2b5d-400b-98fe-e740917af0bb",
   "metadata": {
    "tags": []
   },
   "outputs": [],
   "source": [
    "# print(prevedena_veta.decode(\"ascii\"))"
   ]
  },
  {
   "cell_type": "markdown",
   "id": "0c006175-1b68-432b-9f4f-c4eb2246dbbf",
   "metadata": {},
   "source": [
    "<br>\n",
    "\n",
    "Toto a další neúspěšné postupy je samozřejmě špatně a ty se tomu chceš určitě vyhnout."
   ]
  },
  {
   "cell_type": "code",
   "execution_count": 50,
   "id": "b5e9c291-893d-4cf8-8d61-75d9b3f91066",
   "metadata": {
    "tags": []
   },
   "outputs": [],
   "source": [
    "from pandas import read_csv"
   ]
  },
  {
   "cell_type": "code",
   "execution_count": 51,
   "id": "3202a64b-5e05-417f-9cd3-78cae9957320",
   "metadata": {
    "tags": []
   },
   "outputs": [],
   "source": [
    "# chybna_sada = read_csv(\"../onsite/cviceni_3.csv\")"
   ]
  },
  {
   "cell_type": "markdown",
   "id": "584f2f7a-c87c-49d3-acb3-6d28ce5cda02",
   "metadata": {},
   "source": [
    "<br>\n",
    "\n",
    "Ne vždy je možné, defaultně pracovat se znakovou sadou **UTF-8**.\n",
    "\n",
    "Ve výstupu je vidět, že jde o směs několika sad a ty musíš vyzkoušet, jaká bude fungovat."
   ]
  },
  {
   "cell_type": "markdown",
   "id": "44f35eaa-7b24-4a82-8969-33eca7283667",
   "metadata": {},
   "source": [
    "<br>\n",
    "\n",
    "Pomocí knihovny `sys` zkontroluješ, jakou znakovou sadu interně používáš:"
   ]
  },
  {
   "cell_type": "code",
   "execution_count": 52,
   "id": "6187bced-d79f-422a-9b2b-2190cb118960",
   "metadata": {
    "tags": []
   },
   "outputs": [],
   "source": [
    "import sys"
   ]
  },
  {
   "cell_type": "code",
   "execution_count": 53,
   "id": "d6b60fe1-e96e-40ec-9e99-e9ef2e37fb81",
   "metadata": {
    "tags": []
   },
   "outputs": [
    {
     "data": {
      "text/plain": [
       "'utf-8'"
      ]
     },
     "execution_count": 53,
     "metadata": {},
     "output_type": "execute_result"
    }
   ],
   "source": [
    "sys.getdefaultencoding()"
   ]
  },
  {
   "cell_type": "markdown",
   "id": "0e2c2c7d-2683-45a2-9b11-bf8c7b350ffe",
   "metadata": {},
   "source": [
    "<br>\n",
    "\n",
    "Ještě potřebuješ nástroj, který umí ověřit znakovou lokálního souboru:"
   ]
  },
  {
   "cell_type": "markdown",
   "id": "a83fd49b-9abb-4836-a052-696795824af6",
   "metadata": {},
   "source": [
    "#### Řešení pomocí knihovny chardet\n",
    "\n",
    "---"
   ]
  },
  {
   "cell_type": "code",
   "execution_count": 54,
   "id": "cf3a988f-e49c-46b3-9401-cf4ace63fa8b",
   "metadata": {
    "tags": []
   },
   "outputs": [],
   "source": [
    "# !pip install chardet"
   ]
  },
  {
   "cell_type": "code",
   "execution_count": 55,
   "id": "f7179fe3-2ddb-45ae-8bf6-2ac5ae3e7d8e",
   "metadata": {
    "tags": []
   },
   "outputs": [],
   "source": [
    "from chardet.universaldetector import UniversalDetector"
   ]
  },
  {
   "cell_type": "code",
   "execution_count": 56,
   "id": "d7ed1bb0-2054-4bf3-be81-b038450c3301",
   "metadata": {
    "tags": []
   },
   "outputs": [],
   "source": [
    "detector = UniversalDetector()"
   ]
  },
  {
   "cell_type": "code",
   "execution_count": 57,
   "id": "f5eca86c-5bba-4179-88e9-21c188a77ab5",
   "metadata": {
    "tags": []
   },
   "outputs": [
    {
     "name": "stdout",
     "output_type": "stream",
     "text": [
      "{'encoding': 'Windows-1252', 'confidence': 0.6943073341094295, 'language': ''}\n"
     ]
    }
   ],
   "source": [
    "for line in open(\"../onsite/cviceni_3.csv\", 'rb'):\n",
    "    detector.feed(line)\n",
    "    if detector.done:\n",
    "        break\n",
    "\n",
    "detector.close()\n",
    "print(detector.result)"
   ]
  },
  {
   "cell_type": "markdown",
   "id": "bacf5030-2b94-4607-8fa7-8c894679f52d",
   "metadata": {},
   "source": [
    "<br>\n",
    "\n",
    "#### Řešení pomocí charset-normalizer\n",
    "\n",
    "---"
   ]
  },
  {
   "cell_type": "code",
   "execution_count": 58,
   "id": "c6cf2bf6-46e0-466b-9ecb-8af7f90c9be3",
   "metadata": {},
   "outputs": [],
   "source": [
    "# !pip install charset-normalizer"
   ]
  },
  {
   "cell_type": "code",
   "execution_count": 59,
   "id": "f14e0503-75e0-483f-bc68-27da1d5bf6ad",
   "metadata": {},
   "outputs": [],
   "source": [
    "import charset_normalizer"
   ]
  },
  {
   "cell_type": "code",
   "execution_count": 60,
   "id": "d19e08b6-ee30-4d00-a262-a533ebe23960",
   "metadata": {},
   "outputs": [],
   "source": [
    "vysledky = charset_normalizer.from_path(\"../onsite/cviceni_3.csv\")"
   ]
  },
  {
   "cell_type": "code",
   "execution_count": 61,
   "id": "b6f34685-87e9-4f89-ad66-288f735c9788",
   "metadata": {},
   "outputs": [],
   "source": [
    "best = vysledky.best()"
   ]
  },
  {
   "cell_type": "code",
   "execution_count": 62,
   "id": "7651b2a7-95a0-42ee-ab32-fbe15ae12043",
   "metadata": {},
   "outputs": [
    {
     "data": {
      "text/plain": [
       "52.54"
      ]
     },
     "execution_count": 62,
     "metadata": {},
     "output_type": "execute_result"
    }
   ],
   "source": [
    "best.percent_coherence"
   ]
  },
  {
   "cell_type": "code",
   "execution_count": 63,
   "id": "74eba7d2-f527-4547-a6a8-9977086ef2bf",
   "metadata": {},
   "outputs": [
    {
     "data": {
      "text/plain": [
       "'cp1250'"
      ]
     },
     "execution_count": 63,
     "metadata": {},
     "output_type": "execute_result"
    }
   ],
   "source": [
    "best.encoding"
   ]
  },
  {
   "cell_type": "markdown",
   "id": "1f74ccc9-ec11-4089-b655-e27f692a0f1f",
   "metadata": {},
   "source": [
    "<br>\n",
    "\n",
    "Pomocí stringu knihovně předám lokální soubor, který je řádek po řádku kontrolován:"
   ]
  },
  {
   "cell_type": "markdown",
   "id": "219fa7f2-2d6b-49a1-8db8-b1be955362ac",
   "metadata": {},
   "source": [
    "<br>\n",
    "\n",
    "Pomocí knihovny `chardet` / `charset_normalizer` identifikuješ, o jaké znakové sady jde:"
   ]
  },
  {
   "cell_type": "markdown",
   "id": "b57a755e-9ea8-4bd0-b29b-3db15da4beb7",
   "metadata": {},
   "source": [
    "Nyní máš lepší představu o tom, jakou znakovou sadu soubor používá.\n",
    "\n",
    "Opatrně na délku `str`, který detekuješ.\n",
    "\n",
    "Pokud je příliš krátký, může to ovlivnit výsledek.\n",
    "\n",
    "Naopak pokud je příliš dlouhý, může trvat jeho načtení."
   ]
  },
  {
   "cell_type": "code",
   "execution_count": 64,
   "id": "0107c69c-5045-4c32-9f81-dc5e34a5f4f3",
   "metadata": {
    "tags": []
   },
   "outputs": [],
   "source": [
    "spravna_sada = read_csv(\"../onsite/cviceni_3.csv\", encoding=\"Windows-1252\")"
   ]
  },
  {
   "cell_type": "code",
   "execution_count": 65,
   "id": "ef20e743-65a0-4bf5-b64d-0606dd5d34de",
   "metadata": {
    "tags": []
   },
   "outputs": [
    {
     "data": {
      "text/html": [
       "<div>\n",
       "<style scoped>\n",
       "    .dataframe tbody tr th:only-of-type {\n",
       "        vertical-align: middle;\n",
       "    }\n",
       "\n",
       "    .dataframe tbody tr th {\n",
       "        vertical-align: top;\n",
       "    }\n",
       "\n",
       "    .dataframe thead th {\n",
       "        text-align: right;\n",
       "    }\n",
       "</style>\n",
       "<table border=\"1\" class=\"dataframe\">\n",
       "  <thead>\n",
       "    <tr style=\"text-align: right;\">\n",
       "      <th></th>\n",
       "      <th>id;jmeno;prijmeni;vek;mesto;uzivatel;narozeni</th>\n",
       "    </tr>\n",
       "  </thead>\n",
       "  <tbody>\n",
       "    <tr>\n",
       "      <th>0</th>\n",
       "      <td>1345;Jitka;Prokopová;46;praha;N;4/8/2021</td>\n",
       "    </tr>\n",
       "    <tr>\n",
       "      <th>1</th>\n",
       "      <td>1346;Jan;Hornych;18;Praha;N;21/4/1995</td>\n",
       "    </tr>\n",
       "    <tr>\n",
       "      <th>2</th>\n",
       "      <td>1347;Lumír;Navrátil;46;Olomouc;N;4/5/1987</td>\n",
       "    </tr>\n",
       "    <tr>\n",
       "      <th>3</th>\n",
       "      <td>1348;Pavel;Koutný;35;praha;Y;16/2/1995</td>\n",
       "    </tr>\n",
       "    <tr>\n",
       "      <th>4</th>\n",
       "      <td>1349;Ivan;Èížek;35;Liberec;N;5/5/2008</td>\n",
       "    </tr>\n",
       "  </tbody>\n",
       "</table>\n",
       "</div>"
      ],
      "text/plain": [
       "  id;jmeno;prijmeni;vek;mesto;uzivatel;narozeni\n",
       "0      1345;Jitka;Prokopová;46;praha;N;4/8/2021\n",
       "1         1346;Jan;Hornych;18;Praha;N;21/4/1995\n",
       "2     1347;Lumír;Navrátil;46;Olomouc;N;4/5/1987\n",
       "3        1348;Pavel;Koutný;35;praha;Y;16/2/1995\n",
       "4         1349;Ivan;Èížek;35;Liberec;N;5/5/2008"
      ]
     },
     "execution_count": 65,
     "metadata": {},
     "output_type": "execute_result"
    }
   ],
   "source": [
    "spravna_sada.head()"
   ]
  },
  {
   "cell_type": "code",
   "execution_count": 66,
   "id": "b7ac4589-b436-4da5-83d6-89c71c41c16a",
   "metadata": {},
   "outputs": [],
   "source": [
    "spravna_sada = read_csv(\"../onsite/cviceni_3.csv\",\n",
    "                        encoding=\"cp1250\",\n",
    "                        sep=';')"
   ]
  },
  {
   "cell_type": "code",
   "execution_count": 67,
   "id": "36b0bb35-1d68-484a-a8ac-c04716280029",
   "metadata": {},
   "outputs": [
    {
     "data": {
      "text/html": [
       "<div>\n",
       "<style scoped>\n",
       "    .dataframe tbody tr th:only-of-type {\n",
       "        vertical-align: middle;\n",
       "    }\n",
       "\n",
       "    .dataframe tbody tr th {\n",
       "        vertical-align: top;\n",
       "    }\n",
       "\n",
       "    .dataframe thead th {\n",
       "        text-align: right;\n",
       "    }\n",
       "</style>\n",
       "<table border=\"1\" class=\"dataframe\">\n",
       "  <thead>\n",
       "    <tr style=\"text-align: right;\">\n",
       "      <th></th>\n",
       "      <th>id</th>\n",
       "      <th>jmeno</th>\n",
       "      <th>prijmeni</th>\n",
       "      <th>vek</th>\n",
       "      <th>mesto</th>\n",
       "      <th>uzivatel</th>\n",
       "      <th>narozeni</th>\n",
       "    </tr>\n",
       "  </thead>\n",
       "  <tbody>\n",
       "    <tr>\n",
       "      <th>0</th>\n",
       "      <td>1345</td>\n",
       "      <td>Jitka</td>\n",
       "      <td>Prokopová</td>\n",
       "      <td>46</td>\n",
       "      <td>praha</td>\n",
       "      <td>N</td>\n",
       "      <td>4/8/2021</td>\n",
       "    </tr>\n",
       "    <tr>\n",
       "      <th>1</th>\n",
       "      <td>1346</td>\n",
       "      <td>Jan</td>\n",
       "      <td>Hornych</td>\n",
       "      <td>18</td>\n",
       "      <td>Praha</td>\n",
       "      <td>N</td>\n",
       "      <td>21/4/1995</td>\n",
       "    </tr>\n",
       "    <tr>\n",
       "      <th>2</th>\n",
       "      <td>1347</td>\n",
       "      <td>Lumír</td>\n",
       "      <td>Navrátil</td>\n",
       "      <td>46</td>\n",
       "      <td>Olomouc</td>\n",
       "      <td>N</td>\n",
       "      <td>4/5/1987</td>\n",
       "    </tr>\n",
       "    <tr>\n",
       "      <th>3</th>\n",
       "      <td>1348</td>\n",
       "      <td>Pavel</td>\n",
       "      <td>Koutný</td>\n",
       "      <td>35</td>\n",
       "      <td>praha</td>\n",
       "      <td>Y</td>\n",
       "      <td>16/2/1995</td>\n",
       "    </tr>\n",
       "    <tr>\n",
       "      <th>4</th>\n",
       "      <td>1349</td>\n",
       "      <td>Ivan</td>\n",
       "      <td>Čížek</td>\n",
       "      <td>35</td>\n",
       "      <td>Liberec</td>\n",
       "      <td>N</td>\n",
       "      <td>5/5/2008</td>\n",
       "    </tr>\n",
       "  </tbody>\n",
       "</table>\n",
       "</div>"
      ],
      "text/plain": [
       "     id  jmeno   prijmeni  vek    mesto uzivatel   narozeni\n",
       "0  1345  Jitka  Prokopová   46    praha        N   4/8/2021\n",
       "1  1346    Jan    Hornych   18    Praha        N  21/4/1995\n",
       "2  1347  Lumír   Navrátil   46  Olomouc        N   4/5/1987\n",
       "3  1348  Pavel     Koutný   35    praha        Y  16/2/1995\n",
       "4  1349   Ivan      Čížek   35  Liberec        N   5/5/2008"
      ]
     },
     "execution_count": 67,
     "metadata": {},
     "output_type": "execute_result"
    }
   ],
   "source": [
    "spravna_sada.head()"
   ]
  },
  {
   "cell_type": "code",
   "execution_count": 68,
   "id": "cf2be3ad-6b4e-49da-b3ed-da74b39440bd",
   "metadata": {
    "tags": []
   },
   "outputs": [
    {
     "name": "stdout",
     "output_type": "stream",
     "text": [
      "<class 'pandas.core.frame.DataFrame'>\n",
      "RangeIndex: 100 entries, 0 to 99\n",
      "Data columns (total 7 columns):\n",
      " #   Column    Non-Null Count  Dtype \n",
      "---  ------    --------------  ----- \n",
      " 0   id        100 non-null    int64 \n",
      " 1   jmeno     100 non-null    object\n",
      " 2   prijmeni  100 non-null    object\n",
      " 3   vek       100 non-null    int64 \n",
      " 4   mesto     100 non-null    object\n",
      " 5   uzivatel  100 non-null    object\n",
      " 6   narozeni  100 non-null    object\n",
      "dtypes: int64(2), object(5)\n",
      "memory usage: 5.6+ KB\n"
     ]
    }
   ],
   "source": [
    "spravna_sada.info()"
   ]
  },
  {
   "cell_type": "markdown",
   "id": "42e47f70-1f45-43d4-a695-0115404f4e10",
   "metadata": {},
   "source": [
    "<br>\n",
    "\n",
    "Tentokrát soubor otevřeš pouze s varováním.\n",
    "\n",
    "Pro příště je určitě výhodou vytvořit kopii takového souboru, kterou uložíš v ideálním kódování:"
   ]
  },
  {
   "cell_type": "code",
   "execution_count": 69,
   "id": "41cee633-768e-49d0-b39c-0f21f8119675",
   "metadata": {
    "tags": []
   },
   "outputs": [],
   "source": [
    "spravna_sada.to_csv(\"../onsite/cviceni_3_sada_utf8.csv\", encoding=\"utf-8\")"
   ]
  },
  {
   "cell_type": "markdown",
   "id": "ef2c5e09-f2a6-46fb-bb14-5869a5c0f3aa",
   "metadata": {},
   "source": [
    "<img src=\"https://imgs.search.brave.com/EXc5_PuzQ1oh9QtKkq86VbHLTjcQKbX7sH3-di9Lrxc/rs:fit:500:0:0:0/g:ce/aHR0cHM6Ly9jZG4y/Lmljb25maW5kZXIu/Y29tL2RhdGEvaWNv/bnMvdGhpbmdzLTEz/LzgwL21hdGNoaW5n/LWNvbXBhcmUtbWF0/Y2hpbmctY29sbGF0/ZS02NC5wbmc\" width=\"160\" style=\"margin-left:auto; margin-right:auto\"/>\n",
    "\n"
   ]
  },
  {
   "cell_type": "markdown",
   "id": "73d5295c-5d4f-43ca-86d2-ecd6d1f2e7e9",
   "metadata": {
    "tags": []
   },
   "source": [
    "<br>\n",
    "\n",
    "### Nekonzistentní data\n",
    "\n",
    "---"
   ]
  },
  {
   "cell_type": "markdown",
   "id": "9bafc18e-4804-4fa3-a3c5-719238444675",
   "metadata": {},
   "source": [
    "Pokud ti data nechybí, ještě neznamená, že musí být nutně v pořádku:"
   ]
  },
  {
   "cell_type": "code",
   "execution_count": 70,
   "id": "add9be1c-59f0-4b96-8d0c-2041156e5c60",
   "metadata": {
    "tags": []
   },
   "outputs": [],
   "source": [
    "from pandas import DataFrame"
   ]
  },
  {
   "cell_type": "code",
   "execution_count": 71,
   "id": "6335c3d0-0caf-4fec-adc4-0eee2763914d",
   "metadata": {
    "tags": []
   },
   "outputs": [],
   "source": [
    "chybny_dataset = {\n",
    "    \"id\": [111, 112, 113, 114, 115, 116, 117],\n",
    "    \"jmeno\": [\"Matous\", \"Marek\", \"Petr\", \"Filip\", \"Jan\", \"Lukas\", \"David\"],\n",
    "    \"vek\": [22, 29, 31, 55, 43, 61, 55],\n",
    "    \"zeme\": [\"Ceska republika\", \"Slovensko\", \"Nemecko\", \"Ceskarepublika\", \"Ceska Republika\", \"Rakousko\", \"Ceska Reapublika\"]\n",
    "}"
   ]
  },
  {
   "cell_type": "code",
   "execution_count": 72,
   "id": "4e5354ea-0689-4bdb-8766-7b0ffddd3def",
   "metadata": {
    "tags": []
   },
   "outputs": [],
   "source": [
    "zamestnanci_df = DataFrame(chybny_dataset)"
   ]
  },
  {
   "cell_type": "code",
   "execution_count": 73,
   "id": "375ba486-6cff-4692-abcf-a7ab286aa141",
   "metadata": {
    "tags": []
   },
   "outputs": [
    {
     "data": {
      "text/html": [
       "<div>\n",
       "<style scoped>\n",
       "    .dataframe tbody tr th:only-of-type {\n",
       "        vertical-align: middle;\n",
       "    }\n",
       "\n",
       "    .dataframe tbody tr th {\n",
       "        vertical-align: top;\n",
       "    }\n",
       "\n",
       "    .dataframe thead th {\n",
       "        text-align: right;\n",
       "    }\n",
       "</style>\n",
       "<table border=\"1\" class=\"dataframe\">\n",
       "  <thead>\n",
       "    <tr style=\"text-align: right;\">\n",
       "      <th></th>\n",
       "      <th>id</th>\n",
       "      <th>jmeno</th>\n",
       "      <th>vek</th>\n",
       "      <th>zeme</th>\n",
       "    </tr>\n",
       "  </thead>\n",
       "  <tbody>\n",
       "    <tr>\n",
       "      <th>0</th>\n",
       "      <td>111</td>\n",
       "      <td>Matous</td>\n",
       "      <td>22</td>\n",
       "      <td>Ceska republika</td>\n",
       "    </tr>\n",
       "    <tr>\n",
       "      <th>1</th>\n",
       "      <td>112</td>\n",
       "      <td>Marek</td>\n",
       "      <td>29</td>\n",
       "      <td>Slovensko</td>\n",
       "    </tr>\n",
       "    <tr>\n",
       "      <th>2</th>\n",
       "      <td>113</td>\n",
       "      <td>Petr</td>\n",
       "      <td>31</td>\n",
       "      <td>Nemecko</td>\n",
       "    </tr>\n",
       "    <tr>\n",
       "      <th>3</th>\n",
       "      <td>114</td>\n",
       "      <td>Filip</td>\n",
       "      <td>55</td>\n",
       "      <td>Ceskarepublika</td>\n",
       "    </tr>\n",
       "    <tr>\n",
       "      <th>4</th>\n",
       "      <td>115</td>\n",
       "      <td>Jan</td>\n",
       "      <td>43</td>\n",
       "      <td>Ceska Republika</td>\n",
       "    </tr>\n",
       "    <tr>\n",
       "      <th>5</th>\n",
       "      <td>116</td>\n",
       "      <td>Lukas</td>\n",
       "      <td>61</td>\n",
       "      <td>Rakousko</td>\n",
       "    </tr>\n",
       "    <tr>\n",
       "      <th>6</th>\n",
       "      <td>117</td>\n",
       "      <td>David</td>\n",
       "      <td>55</td>\n",
       "      <td>Ceska Reapublika</td>\n",
       "    </tr>\n",
       "  </tbody>\n",
       "</table>\n",
       "</div>"
      ],
      "text/plain": [
       "    id   jmeno  vek              zeme\n",
       "0  111  Matous   22   Ceska republika\n",
       "1  112   Marek   29         Slovensko\n",
       "2  113    Petr   31           Nemecko\n",
       "3  114   Filip   55    Ceskarepublika\n",
       "4  115     Jan   43   Ceska Republika\n",
       "5  116   Lukas   61          Rakousko\n",
       "6  117   David   55  Ceska Reapublika"
      ]
     },
     "execution_count": 73,
     "metadata": {},
     "output_type": "execute_result"
    }
   ],
   "source": [
    "zamestnanci_df"
   ]
  },
  {
   "cell_type": "markdown",
   "id": "2e301f21-c773-4087-8f3a-599d213a5953",
   "metadata": {},
   "source": [
    "Různé zdroje, správci můžou způsobit nejednotný zápis a dopustit se *nekonzistence*."
   ]
  },
  {
   "cell_type": "code",
   "execution_count": 74,
   "id": "5a77a6b9-7131-443d-bac2-5bf15fb38952",
   "metadata": {},
   "outputs": [
    {
     "data": {
      "text/plain": [
       "array(['Matous', 'Marek', 'Petr', 'Filip', 'Jan', 'Lukas', 'David'],\n",
       "      dtype=object)"
      ]
     },
     "execution_count": 74,
     "metadata": {},
     "output_type": "execute_result"
    }
   ],
   "source": [
    "zamestnanci_df[\"jmeno\"].unique()"
   ]
  },
  {
   "cell_type": "code",
   "execution_count": 75,
   "id": "dbdf29e0-532a-4e93-aa3c-314d941992e8",
   "metadata": {
    "tags": []
   },
   "outputs": [
    {
     "data": {
      "text/plain": [
       "array(['Ceska republika', 'Slovensko', 'Nemecko', 'Ceskarepublika',\n",
       "       'Ceska Republika', 'Rakousko', 'Ceska Reapublika'], dtype=object)"
      ]
     },
     "execution_count": 75,
     "metadata": {},
     "output_type": "execute_result"
    }
   ],
   "source": [
    "zamestnanci_df[\"zeme\"].unique()"
   ]
  },
  {
   "cell_type": "markdown",
   "id": "9620c81b-3957-4672-9242-fcc85dbc6b0c",
   "metadata": {},
   "source": [
    "<br>\n",
    "\n",
    "To můžou být jak malá velká písmena, tak různé znaky, chybějící mezery apod.\n",
    "\n",
    "Odstranit je není náročné.\n",
    "\n",
    "Náročné může být opět rozpoznání takové komplikace."
   ]
  },
  {
   "cell_type": "code",
   "execution_count": 76,
   "id": "1030bf50-bbe3-4201-a5d8-77cf3883a6d2",
   "metadata": {
    "tags": []
   },
   "outputs": [
    {
     "data": {
      "text/plain": [
       "array(['ceska republika', 'slovensko', 'nemecko', 'ceskarepublika',\n",
       "       'rakousko', 'ceska reapublika'], dtype=object)"
      ]
     },
     "execution_count": 76,
     "metadata": {},
     "output_type": "execute_result"
    }
   ],
   "source": [
    "zamestnanci_df[\"zeme\"].str.lower().unique()"
   ]
  },
  {
   "cell_type": "markdown",
   "id": "731e510d-a7e5-4e27-ada5-3a90f827ef56",
   "metadata": {},
   "source": [
    "<br>\n",
    "\n",
    "Některé chyby, ale můžou způsobit paseku. Třeba chybějící mezery.\n",
    "\n",
    "Tady je nejlepší, pomoci si vhodným nástrojem.\n",
    "\n",
    "<br>\n",
    "\n",
    "Knihovny typu:\n",
    "- `Rapidfuzz`,\n",
    "- `difflib`,\n",
    "- `SpaCy`,\n",
    "- `Jellyfish`,\n",
    "- `fuzzywuzzy`"
   ]
  },
  {
   "cell_type": "markdown",
   "id": "489a4e09-647a-4d78-926c-e8eaa60b578d",
   "metadata": {},
   "source": [
    "#### Ukázka pomocí fuzzywuzzy\n",
    "\n",
    "---"
   ]
  },
  {
   "cell_type": "code",
   "execution_count": 77,
   "id": "b3ad9c78-08f2-4a2b-9dd0-96d7a7a40571",
   "metadata": {
    "tags": []
   },
   "outputs": [],
   "source": [
    "# !pip install fuzzywuzzy"
   ]
  },
  {
   "cell_type": "code",
   "execution_count": 78,
   "id": "08a60f9c-2383-4c96-9364-86173e58010e",
   "metadata": {
    "tags": []
   },
   "outputs": [
    {
     "name": "stderr",
     "output_type": "stream",
     "text": [
      "/home/matous/projects/python-data/env/lib/python3.8/site-packages/fuzzywuzzy/fuzz.py:11: UserWarning: Using slow pure-python SequenceMatcher. Install python-Levenshtein to remove this warning\n",
      "  warnings.warn('Using slow pure-python SequenceMatcher. Install python-Levenshtein to remove this warning')\n"
     ]
    }
   ],
   "source": [
    "import fuzzywuzzy\n",
    "from fuzzywuzzy import process"
   ]
  },
  {
   "cell_type": "markdown",
   "id": "f3364eba-c2a9-4b7e-94da-8b26fd0bbd45",
   "metadata": {},
   "source": [
    "<br>\n",
    "\n",
    "Pro menší datasety s chybějícími mezerami aj., může tato knihovna pracovat prakticky sama.\n",
    "\n",
    "Účel této knihovny je rozpoznat podobné řetězce, jaké"
   ]
  },
  {
   "cell_type": "code",
   "execution_count": 79,
   "id": "b04bcea9-9f8b-4d2d-8b3c-11e1c7aec205",
   "metadata": {
    "tags": []
   },
   "outputs": [],
   "source": [
    "shodne = fuzzywuzzy.process.extract(\"Ceska republika\",  # 'ceska repoblika'\n",
    "                                    zamestnanci_df[\"zeme\"],\n",
    "                                    limit=6,\n",
    "                                    scorer=fuzzywuzzy.fuzz.token_sort_ratio)"
   ]
  },
  {
   "cell_type": "markdown",
   "id": "8db69378-bb53-4a72-a87a-689dc5f457a1",
   "metadata": {},
   "source": [
    "<br>\n",
    "\n",
    "Dostávám **dvourozměrné pole** (matici), která obsahuje jednotlivé výstupy.\n",
    "\n",
    "Mezi výstupy řadíme:\n",
    "1. Porovnávaný string,\n",
    "2. pravděpodobnost, se kterou odpovídá zadanému stringu."
   ]
  },
  {
   "cell_type": "code",
   "execution_count": 80,
   "id": "7d1d0c3a-fc93-43fa-9b1c-db460dffa465",
   "metadata": {},
   "outputs": [
    {
     "data": {
      "text/plain": [
       "[('Ceska republika', 100, 0),\n",
       " ('Ceska Republika', 100, 4),\n",
       " ('Ceskarepublika', 97, 3),\n",
       " ('Ceska Reapublika', 97, 6),\n",
       " ('Slovensko', 25, 1),\n",
       " ('Nemecko', 18, 2)]"
      ]
     },
     "execution_count": 80,
     "metadata": {},
     "output_type": "execute_result"
    }
   ],
   "source": [
    "shodne"
   ]
  },
  {
   "cell_type": "code",
   "execution_count": 81,
   "id": "fa482ae9-5585-4ac0-bb40-a4615265f0b5",
   "metadata": {
    "tags": []
   },
   "outputs": [
    {
     "data": {
      "text/plain": [
       "array(['Ceska republika', 'Slovensko', 'Nemecko', 'Ceskarepublika',\n",
       "       'Ceska Republika', 'Rakousko', 'Ceska Reapublika'], dtype=object)"
      ]
     },
     "execution_count": 81,
     "metadata": {},
     "output_type": "execute_result"
    }
   ],
   "source": [
    "zamestnanci_df[\"zeme\"].unique()"
   ]
  },
  {
   "cell_type": "markdown",
   "id": "edb5f9aa-0ca2-47bf-8464-a300ba62926f",
   "metadata": {},
   "source": [
    "<br>\n",
    "\n",
    "Nyní můžeš vidět shodné `str` se zvoleným zadáním, jak to vidí `fuzzywuzzy`.\n",
    "\n",
    "Pro nahrazení je optimální nachystat vhodnou uživatelskou funkci:"
   ]
  },
  {
   "cell_type": "code",
   "execution_count": 82,
   "id": "053f0785-add5-48d4-b431-c269d00ecb2a",
   "metadata": {
    "tags": []
   },
   "outputs": [],
   "source": [
    "nejblizsi_shoda = [shoda[0] for shoda in shodne if shoda[1] >= 90]"
   ]
  },
  {
   "cell_type": "markdown",
   "id": "92f79789-b390-48c0-9717-94a0080ea4d3",
   "metadata": {},
   "source": [
    "<br>\n",
    "\n",
    "Izoluji jen ty shody, které se z zádáním shodují více než na 90%:"
   ]
  },
  {
   "cell_type": "code",
   "execution_count": 83,
   "id": "1ff6ac41-05b9-4415-ba8d-fe855f16ebf5",
   "metadata": {
    "tags": []
   },
   "outputs": [
    {
     "data": {
      "text/plain": [
       "['Ceska republika', 'Ceska Republika', 'Ceskarepublika', 'Ceska Reapublika']"
      ]
     },
     "execution_count": 83,
     "metadata": {},
     "output_type": "execute_result"
    }
   ],
   "source": [
    "nejblizsi_shoda"
   ]
  },
  {
   "cell_type": "code",
   "execution_count": 84,
   "id": "7f0657cb-d236-4cca-b80a-29f3ca0c930f",
   "metadata": {
    "tags": []
   },
   "outputs": [],
   "source": [
    "shodujici_udaje = zamestnanci_df[\"zeme\"].isin(nejblizsi_shoda)  # ~membership testing"
   ]
  },
  {
   "cell_type": "code",
   "execution_count": 85,
   "id": "5972e041-26d1-42e7-85a1-ec82fd8dc5bc",
   "metadata": {
    "tags": []
   },
   "outputs": [
    {
     "data": {
      "text/plain": [
       "0     True\n",
       "1    False\n",
       "2    False\n",
       "3     True\n",
       "4     True\n",
       "5    False\n",
       "6     True\n",
       "Name: zeme, dtype: bool"
      ]
     },
     "execution_count": 85,
     "metadata": {},
     "output_type": "execute_result"
    }
   ],
   "source": [
    "shodujici_udaje"
   ]
  },
  {
   "cell_type": "code",
   "execution_count": 86,
   "id": "ca5f0e14-c6e7-4f3a-ad84-3a7ab5c206b5",
   "metadata": {
    "tags": []
   },
   "outputs": [
    {
     "data": {
      "text/html": [
       "<div>\n",
       "<style scoped>\n",
       "    .dataframe tbody tr th:only-of-type {\n",
       "        vertical-align: middle;\n",
       "    }\n",
       "\n",
       "    .dataframe tbody tr th {\n",
       "        vertical-align: top;\n",
       "    }\n",
       "\n",
       "    .dataframe thead th {\n",
       "        text-align: right;\n",
       "    }\n",
       "</style>\n",
       "<table border=\"1\" class=\"dataframe\">\n",
       "  <thead>\n",
       "    <tr style=\"text-align: right;\">\n",
       "      <th></th>\n",
       "      <th>id</th>\n",
       "      <th>jmeno</th>\n",
       "      <th>vek</th>\n",
       "      <th>zeme</th>\n",
       "    </tr>\n",
       "  </thead>\n",
       "  <tbody>\n",
       "    <tr>\n",
       "      <th>0</th>\n",
       "      <td>111</td>\n",
       "      <td>Matous</td>\n",
       "      <td>22</td>\n",
       "      <td>Ceska republika</td>\n",
       "    </tr>\n",
       "    <tr>\n",
       "      <th>1</th>\n",
       "      <td>112</td>\n",
       "      <td>Marek</td>\n",
       "      <td>29</td>\n",
       "      <td>Slovensko</td>\n",
       "    </tr>\n",
       "    <tr>\n",
       "      <th>2</th>\n",
       "      <td>113</td>\n",
       "      <td>Petr</td>\n",
       "      <td>31</td>\n",
       "      <td>Nemecko</td>\n",
       "    </tr>\n",
       "    <tr>\n",
       "      <th>3</th>\n",
       "      <td>114</td>\n",
       "      <td>Filip</td>\n",
       "      <td>55</td>\n",
       "      <td>Ceskarepublika</td>\n",
       "    </tr>\n",
       "    <tr>\n",
       "      <th>4</th>\n",
       "      <td>115</td>\n",
       "      <td>Jan</td>\n",
       "      <td>43</td>\n",
       "      <td>Ceska Republika</td>\n",
       "    </tr>\n",
       "    <tr>\n",
       "      <th>5</th>\n",
       "      <td>116</td>\n",
       "      <td>Lukas</td>\n",
       "      <td>61</td>\n",
       "      <td>Rakousko</td>\n",
       "    </tr>\n",
       "    <tr>\n",
       "      <th>6</th>\n",
       "      <td>117</td>\n",
       "      <td>David</td>\n",
       "      <td>55</td>\n",
       "      <td>Ceska Reapublika</td>\n",
       "    </tr>\n",
       "  </tbody>\n",
       "</table>\n",
       "</div>"
      ],
      "text/plain": [
       "    id   jmeno  vek              zeme\n",
       "0  111  Matous   22   Ceska republika\n",
       "1  112   Marek   29         Slovensko\n",
       "2  113    Petr   31           Nemecko\n",
       "3  114   Filip   55    Ceskarepublika\n",
       "4  115     Jan   43   Ceska Republika\n",
       "5  116   Lukas   61          Rakousko\n",
       "6  117   David   55  Ceska Reapublika"
      ]
     },
     "execution_count": 86,
     "metadata": {},
     "output_type": "execute_result"
    }
   ],
   "source": [
    "zamestnanci_df"
   ]
  },
  {
   "cell_type": "code",
   "execution_count": 87,
   "id": "0a8aff92-f7d3-412f-bf9f-97bb29346568",
   "metadata": {},
   "outputs": [
    {
     "data": {
      "text/plain": [
       "id             112\n",
       "jmeno        Marek\n",
       "vek             29\n",
       "zeme     Slovensko\n",
       "Name: 1, dtype: object"
      ]
     },
     "execution_count": 87,
     "metadata": {},
     "output_type": "execute_result"
    }
   ],
   "source": [
    "zamestnanci_df.loc[1]  # Index"
   ]
  },
  {
   "cell_type": "code",
   "execution_count": 88,
   "id": "0c5bf4e3-58c0-47cc-9c1e-6436679dd04f",
   "metadata": {},
   "outputs": [
    {
     "data": {
      "text/plain": [
       "'Slovensko'"
      ]
     },
     "execution_count": 88,
     "metadata": {},
     "output_type": "execute_result"
    }
   ],
   "source": [
    "zamestnanci_df.loc[1, 'zeme']"
   ]
  },
  {
   "cell_type": "code",
   "execution_count": 89,
   "id": "503c8a17-2132-4e9b-8f02-3210dcfa93e9",
   "metadata": {},
   "outputs": [
    {
     "data": {
      "text/plain": [
       "0     Ceska republika\n",
       "3      Ceskarepublika\n",
       "4     Ceska Republika\n",
       "6    Ceska Reapublika\n",
       "Name: zeme, dtype: object"
      ]
     },
     "execution_count": 89,
     "metadata": {},
     "output_type": "execute_result"
    }
   ],
   "source": [
    "zamestnanci_df.loc[[0, 3, 4, 6], \"zeme\"]"
   ]
  },
  {
   "cell_type": "code",
   "execution_count": 90,
   "id": "9e8bd800-f2a3-4e91-b71b-254fb6a6cfab",
   "metadata": {},
   "outputs": [
    {
     "data": {
      "text/plain": [
       "0     Ceska republika\n",
       "3      Ceskarepublika\n",
       "4     Ceska Republika\n",
       "6    Ceska Reapublika\n",
       "Name: zeme, dtype: object"
      ]
     },
     "execution_count": 90,
     "metadata": {},
     "output_type": "execute_result"
    }
   ],
   "source": [
    "zamestnanci_df.loc[shodujici_udaje, \"zeme\"]"
   ]
  },
  {
   "cell_type": "code",
   "execution_count": 91,
   "id": "893f343a-1599-4e96-8c0b-2b4f06e3daff",
   "metadata": {
    "tags": []
   },
   "outputs": [],
   "source": [
    "zamestnanci_df.loc[shodujici_udaje, \"zeme\"] = \"Ceska republika\""
   ]
  },
  {
   "cell_type": "code",
   "execution_count": 92,
   "id": "e01cc55e-efd6-427a-8991-4b7189542fc1",
   "metadata": {
    "tags": []
   },
   "outputs": [
    {
     "data": {
      "text/html": [
       "<div>\n",
       "<style scoped>\n",
       "    .dataframe tbody tr th:only-of-type {\n",
       "        vertical-align: middle;\n",
       "    }\n",
       "\n",
       "    .dataframe tbody tr th {\n",
       "        vertical-align: top;\n",
       "    }\n",
       "\n",
       "    .dataframe thead th {\n",
       "        text-align: right;\n",
       "    }\n",
       "</style>\n",
       "<table border=\"1\" class=\"dataframe\">\n",
       "  <thead>\n",
       "    <tr style=\"text-align: right;\">\n",
       "      <th></th>\n",
       "      <th>id</th>\n",
       "      <th>jmeno</th>\n",
       "      <th>vek</th>\n",
       "      <th>zeme</th>\n",
       "    </tr>\n",
       "  </thead>\n",
       "  <tbody>\n",
       "    <tr>\n",
       "      <th>0</th>\n",
       "      <td>111</td>\n",
       "      <td>Matous</td>\n",
       "      <td>22</td>\n",
       "      <td>Ceska republika</td>\n",
       "    </tr>\n",
       "    <tr>\n",
       "      <th>1</th>\n",
       "      <td>112</td>\n",
       "      <td>Marek</td>\n",
       "      <td>29</td>\n",
       "      <td>Slovensko</td>\n",
       "    </tr>\n",
       "    <tr>\n",
       "      <th>2</th>\n",
       "      <td>113</td>\n",
       "      <td>Petr</td>\n",
       "      <td>31</td>\n",
       "      <td>Nemecko</td>\n",
       "    </tr>\n",
       "    <tr>\n",
       "      <th>3</th>\n",
       "      <td>114</td>\n",
       "      <td>Filip</td>\n",
       "      <td>55</td>\n",
       "      <td>Ceska republika</td>\n",
       "    </tr>\n",
       "    <tr>\n",
       "      <th>4</th>\n",
       "      <td>115</td>\n",
       "      <td>Jan</td>\n",
       "      <td>43</td>\n",
       "      <td>Ceska republika</td>\n",
       "    </tr>\n",
       "    <tr>\n",
       "      <th>5</th>\n",
       "      <td>116</td>\n",
       "      <td>Lukas</td>\n",
       "      <td>61</td>\n",
       "      <td>Rakousko</td>\n",
       "    </tr>\n",
       "    <tr>\n",
       "      <th>6</th>\n",
       "      <td>117</td>\n",
       "      <td>David</td>\n",
       "      <td>55</td>\n",
       "      <td>Ceska republika</td>\n",
       "    </tr>\n",
       "  </tbody>\n",
       "</table>\n",
       "</div>"
      ],
      "text/plain": [
       "    id   jmeno  vek             zeme\n",
       "0  111  Matous   22  Ceska republika\n",
       "1  112   Marek   29        Slovensko\n",
       "2  113    Petr   31          Nemecko\n",
       "3  114   Filip   55  Ceska republika\n",
       "4  115     Jan   43  Ceska republika\n",
       "5  116   Lukas   61         Rakousko\n",
       "6  117   David   55  Ceska republika"
      ]
     },
     "execution_count": 92,
     "metadata": {},
     "output_type": "execute_result"
    }
   ],
   "source": [
    "zamestnanci_df"
   ]
  },
  {
   "cell_type": "code",
   "execution_count": 93,
   "id": "350f607d-641f-46cb-80e7-559200802ad9",
   "metadata": {
    "tags": []
   },
   "outputs": [],
   "source": [
    "def nahrad_shody_stringem(dframe, jmeno_sloupce, vzor, min_shoda=90):\n",
    "    vsechny_stringy = dframe[jmeno_sloupce].unique()\n",
    "    \n",
    "    shody = fuzzywuzzy.process.extract(vzor, vsechny_stringy, limit=5,\n",
    "                                       scorer=fuzzywuzzy.fuzz.token_sort_ratio)\n",
    "    \n",
    "    nejblizsi_shoda = [shoda [0] for shoda in shody if shoda[1] >= min_shoda]\n",
    "    \n",
    "    shodujici_zaznam = dframe[jmeno_sloupce].isin(nejblizsi_shoda)\n",
    "    dframe.loc[shodujici_zaznam, jmeno_sloupce] = vzor"
   ]
  },
  {
   "cell_type": "code",
   "execution_count": 94,
   "id": "95dda1c5-c793-48de-9984-32d7313310ab",
   "metadata": {
    "tags": []
   },
   "outputs": [],
   "source": [
    "nahrad_shody_stringem(dframe=zamestnanci_df, jmeno_sloupce=\"zeme\", vzor=\"Ceska republika\")"
   ]
  },
  {
   "cell_type": "markdown",
   "id": "0e662eb3-7e0b-4050-b580-0e532b82f04d",
   "metadata": {},
   "source": [
    "#### Ukázka s RapidFuzz\n",
    "\n",
    "---"
   ]
  },
  {
   "cell_type": "code",
   "execution_count": 95,
   "id": "3b0b6dea-fb96-4a30-bc2f-947a79e00e18",
   "metadata": {},
   "outputs": [],
   "source": [
    "# !pip install RapidFuzz"
   ]
  },
  {
   "cell_type": "code",
   "execution_count": 96,
   "id": "ed7487ac-f986-4dba-bdcb-a13b2b5ec128",
   "metadata": {},
   "outputs": [],
   "source": [
    "from rapidfuzz import fuzz, process"
   ]
  },
  {
   "cell_type": "code",
   "execution_count": 97,
   "id": "f9fda3b3-044e-4d01-a4fa-0cc5f815124d",
   "metadata": {},
   "outputs": [],
   "source": [
    "def nahrad_shody_stringem(dframe, jmeno_sloupce, vzor, min_shoda=90):\n",
    "    vsechny_stringy = dframe[jmeno_sloupce].unique()\n",
    "\n",
    "    shody = process.extract(\n",
    "        vzor,\n",
    "        vsechny_stringy,\n",
    "        scorer=fuzz.token_sort_ratio,\n",
    "        limit=5\n",
    "    )\n",
    "\n",
    "    nejblizsi_shody = [shoda[0] for shoda in shody if shoda[1] >= min_shoda]\n",
    "\n",
    "    shodujici_zaznam = dframe[jmeno_sloupce].isin(nejblizsi_shody)\n",
    "    dframe.loc[shodujici_zaznam, jmeno_sloupce] = vzor\n",
    "\n",
    "    return dframe"
   ]
  },
  {
   "cell_type": "code",
   "execution_count": 98,
   "id": "985584a6-f9f2-41bd-b316-88e294a4af4a",
   "metadata": {},
   "outputs": [
    {
     "data": {
      "text/html": [
       "<div>\n",
       "<style scoped>\n",
       "    .dataframe tbody tr th:only-of-type {\n",
       "        vertical-align: middle;\n",
       "    }\n",
       "\n",
       "    .dataframe tbody tr th {\n",
       "        vertical-align: top;\n",
       "    }\n",
       "\n",
       "    .dataframe thead th {\n",
       "        text-align: right;\n",
       "    }\n",
       "</style>\n",
       "<table border=\"1\" class=\"dataframe\">\n",
       "  <thead>\n",
       "    <tr style=\"text-align: right;\">\n",
       "      <th></th>\n",
       "      <th>id</th>\n",
       "      <th>jmeno</th>\n",
       "      <th>vek</th>\n",
       "      <th>zeme</th>\n",
       "    </tr>\n",
       "  </thead>\n",
       "  <tbody>\n",
       "    <tr>\n",
       "      <th>0</th>\n",
       "      <td>111</td>\n",
       "      <td>Matous</td>\n",
       "      <td>22</td>\n",
       "      <td>Ceska Republika</td>\n",
       "    </tr>\n",
       "    <tr>\n",
       "      <th>1</th>\n",
       "      <td>112</td>\n",
       "      <td>Marek</td>\n",
       "      <td>29</td>\n",
       "      <td>Slovensko</td>\n",
       "    </tr>\n",
       "    <tr>\n",
       "      <th>2</th>\n",
       "      <td>113</td>\n",
       "      <td>Petr</td>\n",
       "      <td>31</td>\n",
       "      <td>Nemecko</td>\n",
       "    </tr>\n",
       "    <tr>\n",
       "      <th>3</th>\n",
       "      <td>114</td>\n",
       "      <td>Filip</td>\n",
       "      <td>55</td>\n",
       "      <td>Ceska Republika</td>\n",
       "    </tr>\n",
       "    <tr>\n",
       "      <th>4</th>\n",
       "      <td>115</td>\n",
       "      <td>Jan</td>\n",
       "      <td>43</td>\n",
       "      <td>Ceska Republika</td>\n",
       "    </tr>\n",
       "    <tr>\n",
       "      <th>5</th>\n",
       "      <td>116</td>\n",
       "      <td>Lukas</td>\n",
       "      <td>61</td>\n",
       "      <td>Rakousko</td>\n",
       "    </tr>\n",
       "    <tr>\n",
       "      <th>6</th>\n",
       "      <td>117</td>\n",
       "      <td>David</td>\n",
       "      <td>55</td>\n",
       "      <td>Ceska Republika</td>\n",
       "    </tr>\n",
       "  </tbody>\n",
       "</table>\n",
       "</div>"
      ],
      "text/plain": [
       "    id   jmeno  vek             zeme\n",
       "0  111  Matous   22  Ceska Republika\n",
       "1  112   Marek   29        Slovensko\n",
       "2  113    Petr   31          Nemecko\n",
       "3  114   Filip   55  Ceska Republika\n",
       "4  115     Jan   43  Ceska Republika\n",
       "5  116   Lukas   61         Rakousko\n",
       "6  117   David   55  Ceska Republika"
      ]
     },
     "execution_count": 98,
     "metadata": {},
     "output_type": "execute_result"
    }
   ],
   "source": [
    "nahrad_shody_stringem(zamestnanci_df, \"zeme\", \"Ceska Republika\", min_shoda=85)"
   ]
  },
  {
   "cell_type": "code",
   "execution_count": 99,
   "id": "cb7bc585-abb5-4bd9-bd79-09546cc80bf0",
   "metadata": {},
   "outputs": [
    {
     "data": {
      "text/html": [
       "<div>\n",
       "<style scoped>\n",
       "    .dataframe tbody tr th:only-of-type {\n",
       "        vertical-align: middle;\n",
       "    }\n",
       "\n",
       "    .dataframe tbody tr th {\n",
       "        vertical-align: top;\n",
       "    }\n",
       "\n",
       "    .dataframe thead th {\n",
       "        text-align: right;\n",
       "    }\n",
       "</style>\n",
       "<table border=\"1\" class=\"dataframe\">\n",
       "  <thead>\n",
       "    <tr style=\"text-align: right;\">\n",
       "      <th></th>\n",
       "      <th>id</th>\n",
       "      <th>jmeno</th>\n",
       "      <th>vek</th>\n",
       "      <th>zeme</th>\n",
       "    </tr>\n",
       "  </thead>\n",
       "  <tbody>\n",
       "    <tr>\n",
       "      <th>0</th>\n",
       "      <td>111</td>\n",
       "      <td>Matous</td>\n",
       "      <td>22</td>\n",
       "      <td>Ceska Republika</td>\n",
       "    </tr>\n",
       "    <tr>\n",
       "      <th>1</th>\n",
       "      <td>112</td>\n",
       "      <td>Marek</td>\n",
       "      <td>29</td>\n",
       "      <td>Slovensko</td>\n",
       "    </tr>\n",
       "    <tr>\n",
       "      <th>2</th>\n",
       "      <td>113</td>\n",
       "      <td>Petr</td>\n",
       "      <td>31</td>\n",
       "      <td>Nemecko</td>\n",
       "    </tr>\n",
       "    <tr>\n",
       "      <th>3</th>\n",
       "      <td>114</td>\n",
       "      <td>Filip</td>\n",
       "      <td>55</td>\n",
       "      <td>Ceska Republika</td>\n",
       "    </tr>\n",
       "    <tr>\n",
       "      <th>4</th>\n",
       "      <td>115</td>\n",
       "      <td>Jan</td>\n",
       "      <td>43</td>\n",
       "      <td>Ceska Republika</td>\n",
       "    </tr>\n",
       "    <tr>\n",
       "      <th>5</th>\n",
       "      <td>116</td>\n",
       "      <td>Lukas</td>\n",
       "      <td>61</td>\n",
       "      <td>Rakousko</td>\n",
       "    </tr>\n",
       "    <tr>\n",
       "      <th>6</th>\n",
       "      <td>117</td>\n",
       "      <td>David</td>\n",
       "      <td>55</td>\n",
       "      <td>Ceska Republika</td>\n",
       "    </tr>\n",
       "  </tbody>\n",
       "</table>\n",
       "</div>"
      ],
      "text/plain": [
       "    id   jmeno  vek             zeme\n",
       "0  111  Matous   22  Ceska Republika\n",
       "1  112   Marek   29        Slovensko\n",
       "2  113    Petr   31          Nemecko\n",
       "3  114   Filip   55  Ceska Republika\n",
       "4  115     Jan   43  Ceska Republika\n",
       "5  116   Lukas   61         Rakousko\n",
       "6  117   David   55  Ceska Republika"
      ]
     },
     "execution_count": 99,
     "metadata": {},
     "output_type": "execute_result"
    }
   ],
   "source": [
    "zamestnanci_df"
   ]
  },
  {
   "cell_type": "markdown",
   "id": "1e66168c-1357-4459-b8b6-e6830687b532",
   "metadata": {},
   "source": [
    "<br>\n",
    "\n",
    "#### **🧠 CVIČENÍ 🧠, procvič si práci s chybným datasetem, 1**"
   ]
  },
  {
   "cell_type": "code",
   "execution_count": 100,
   "id": "8e4c1837-ced8-4296-98c5-635ce0cdb3c4",
   "metadata": {},
   "outputs": [],
   "source": [
    "import pandas as pd\n",
    "from fuzzywuzzy import process\n",
    "\n",
    "data_df = pd.DataFrame({\n",
    "    \"city\": [\"Praag\", \"Londn\", \"New York\", \"Tokio\", \"Sidney\", \"London\", \"Praha\", \"Nwe York\", \"Sydney\", \"Tky\"]\n",
    "})\n",
    "\n",
    "correct_cities = [\"Prague\", \"London\", \"New York\", \"Tokyo\", \"Sydney\"]"
   ]
  },
  {
   "cell_type": "code",
   "execution_count": null,
   "id": "80f46dd6-9607-4302-854f-0d39c01a7344",
   "metadata": {},
   "outputs": [],
   "source": []
  },
  {
   "cell_type": "code",
   "execution_count": null,
   "id": "e3ee2dff-4f15-4936-950a-9b69a9e7a817",
   "metadata": {},
   "outputs": [],
   "source": []
  },
  {
   "cell_type": "markdown",
   "id": "7b919cb6-91c8-41bf-954d-23471c2cedea",
   "metadata": {},
   "source": [
    "<details>\n",
    "    <summary>▶️ Řešení</summary>\n",
    "    \n",
    "```python\n",
    "import pandas as pd\n",
    "\n",
    "data = pd.DataFrame({\n",
    "    \"city\": [\"Praag\", \"Londn\", \"New York\", \"Tokio\", \"Sidney\", \"London\", \"Praha\", \"Nwe York\", \"Sydney\", \"Tky\"]\n",
    "})\n",
    "\n",
    "correct_cities = [\"Prague\", \"London\", \"New York\", \"Tokyo\", \"Sydney\"]\n",
    "\n",
    "def fix_city_name_all(city, correct_cities, threshold=65):\n",
    "    matches = process.extract(city, correct_cities, limit=3)\n",
    "    best_match = matches[0]\n",
    "    return best_match[0] if best_match[1] > threshold else city\n",
    "\n",
    "data[\"corrected_city\"] = [\n",
    "    fix_city_name_all(city, correct_cities) for city in data[\"city\"]\n",
    "]\n",
    "\n",
    "print(data)\n",
    "```\n",
    "</details>"
   ]
  },
  {
   "cell_type": "markdown",
   "id": "6ea13585-551a-4e9c-80f9-22ceb71d6e63",
   "metadata": {},
   "source": [
    "<br>\n",
    "\n",
    "#### **🧠 CVIČENÍ 🧠, procvič si práci s chybným datasetem, 2**"
   ]
  },
  {
   "cell_type": "markdown",
   "id": "a5e2d7a0-4c12-4157-8f03-4a0b7147d555",
   "metadata": {
    "tags": []
   },
   "source": [
    "Analyzuj prodeje produktu ve fiktivní společnosti během jednoho roku a zjisti následující:\n",
    "1. Nahraj soubor do `DataFrame`, jméno souboru `cviceni_3.csv` (správný encoding, správné rozdělení),\n",
    "2. projdi sloupce, zkontroluj, kde je problém s daty,\n",
    "3. vypiš všechny záznamy, které mají ve sloupci `mesto` hodnotu `Praha`."
   ]
  },
  {
   "cell_type": "code",
   "execution_count": 101,
   "id": "98bce465-66ef-4123-b339-f4c140b33945",
   "metadata": {
    "tags": []
   },
   "outputs": [],
   "source": [
    "from pandas import read_csv"
   ]
  },
  {
   "cell_type": "code",
   "execution_count": 102,
   "id": "97d614ff-3ff0-4fb4-86ae-d0f353d85cff",
   "metadata": {},
   "outputs": [],
   "source": [
    "import pandas as pd\n",
    "import fuzzywuzzy\n",
    "from fuzzywuzzy import process"
   ]
  },
  {
   "cell_type": "code",
   "execution_count": null,
   "id": "fff80ac0-cfcf-4da7-9e3c-0e6cecf57576",
   "metadata": {},
   "outputs": [],
   "source": []
  },
  {
   "cell_type": "markdown",
   "id": "1afde844-d7dd-4cc3-8b10-6c6c543fc9f0",
   "metadata": {},
   "source": [
    "<details>\n",
    "    <summary>▶️ Řešení</summary>\n",
    "    \n",
    "```python\n",
    "df_ukazka = read_csv(\"cviceni_3.csv\", encoding=\"Windows-1250\", delimiter=\";\")\n",
    "\n",
    "def nahrad_shody_stringem(df, vzor, vyber, min_shoda=85):\n",
    "    shody = fuzzywuzzy.process.extract(vzor, vyber, limit=20,\n",
    "                                       scorer=fuzzywuzzy.fuzz.token_sort_ratio)\n",
    "\n",
    "    nejblizsi_shoda = [shoda[0] for shoda in shody if shoda[1] >= min_shoda]\n",
    "\n",
    "    shodujici_zaznam = vyber.isin(nejblizsi_shoda)\n",
    "    df.loc[shodujici_zaznam, \"mesto\"] = vzor\n",
    "    \n",
    "nahrad_shody_stringem(df_ukazka, \"Praha\", df_ukazka[\"mesto\"])\n",
    "vystup = df_ukazka[df_ukazka[\"mesto\"] == \"Praha\"]\n",
    "\n",
    "\n",
    "# Alternativní řešení\n",
    "data = pd.read_csv(\n",
    "    encoding = 'cp1250',\n",
    "    sep = ';'\n",
    ")\n",
    "\n",
    "def nahrad_shody_stringem(dframe, sloupec, vzor, min_shoda=60):\n",
    "    vsechny_stringy = dframe[sloupec].unique()\n",
    "    shody = fuzzywuzzy.process.extract(vzor, vsechny_stringy, limit=5, scorer=fuzzywuzzy.fuzz.token_sort_ratio)\n",
    "    nejblizsi_shoda = [shoda [0] for shoda in shody if shoda[1] >= min_shoda]\n",
    "    shodujici_zaznam = dframe[sloupec].isin(nejblizsi_shoda)\n",
    "    dframe.loc[shodujici_zaznam, sloupec] = vzor\n",
    "\n",
    "print( 'Problémy s daty:' )\n",
    "display( data[~data['narozeni'].str.contains('\\\\d{1,2}/\\\\d{1,2}/\\\\d{4}', regex= True, na=False)] )\n",
    "display( data['mesto'].unique( ) )\n",
    "\n",
    "#oprava narození\n",
    "data['narozeni'] = data['narozeni'].astype( 'datetime64' )\n",
    "#oprava města\n",
    "nahrad_shody_stringem(dframe=data, sloupec=\"mesto\", vzor=\"Praha\")\n",
    "print( 'Výsledek:' )\n",
    "data.query( \"mesto == 'Praha'\" )\n",
    "```\n",
    "</details>"
   ]
  },
  {
   "cell_type": "markdown",
   "id": "6bb746a9-78bf-4497-8b75-26b554075a95",
   "metadata": {},
   "source": [
    "---"
   ]
  }
 ],
 "metadata": {
  "kernelspec": {
   "display_name": "Python 3 (ipykernel)",
   "language": "python",
   "name": "python3"
  },
  "language_info": {
   "codemirror_mode": {
    "name": "ipython",
    "version": 3
   },
   "file_extension": ".py",
   "mimetype": "text/x-python",
   "name": "python",
   "nbconvert_exporter": "python",
   "pygments_lexer": "ipython3",
   "version": "3.8.10"
  }
 },
 "nbformat": 4,
 "nbformat_minor": 5
}

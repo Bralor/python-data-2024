{
 "cells": [
  {
   "cell_type": "markdown",
   "id": "7e419477-333c-41ce-9437-0030201b61b8",
   "metadata": {},
   "source": [
    "# Python, Data, 2025\n",
    "\n",
    "---"
   ]
  },
  {
   "cell_type": "markdown",
   "id": "2fcfd6c9-cf0c-432f-8c79-659907719eb7",
   "metadata": {},
   "source": [
    "* Úvod do NUMPY,\n",
    "* základy NUMPY,\n",
    "    - atributy,\n",
    "    - metody,\n",
    "    - spojování,\n",
    "    - rozdělování,\n",
    "    * cvičení 1,\n",
    "    * cvičení 2,\n",
    "* univerzální funkce, ~ufuncs,\n",
    "    - úvod\n",
    "    - typy funkcí\n",
    "    * cvičení 3."
   ]
  },
  {
   "cell_type": "markdown",
   "id": "87f800a1-991a-44ad-b0b4-23def4e9e5a8",
   "metadata": {},
   "source": [
    "## Úvod do NUMPY\n",
    "\n",
    "---\n",
    "\n",
    "<img src=\"https://external-content.duckduckgo.com/iu/?u=https%3A%2F%2Ftse1.mm.bing.net%2Fth%3Fid%3DOIP.QQOtOJPya2YEO6IkVBnYjQHaDV%26pid%3DApi&f=1&ipt=245c27df971ff24527ca317988f6feda8b14851ef0a889fda7d5a10d114dc5e6&ipo=images\" width=\"300\" style=\"margin-left:auto; margin-right:auto\"/>"
   ]
  },
  {
   "cell_type": "markdown",
   "id": "a03c4e2b-21d8-4aff-a79b-bb1d02a08650",
   "metadata": {},
   "source": [
    "### Proč umět NUMPY\n",
    "\n",
    "---"
   ]
  },
  {
   "cell_type": "markdown",
   "id": "10a79337-1343-404a-bf8e-e6f6d6ac86d7",
   "metadata": {},
   "source": [
    "Je to univerzální knihovna pro práci **s numerickými daty** v jazyce Python.\n",
    "\n",
    "Funkcionalita této knihovny je využívána (skrze API) v jiných knihovnách jako *Pandas*, *SciPy*, *Matplotlib*, *scikit-learn*, *scikit-image*.\n",
    "\n",
    "<br>\n",
    "\n",
    "Nabízí efektivní nástroje pro práci **s většími datovými strukturami**.\n",
    "\n",
    "Usnadňuje práci se **vícerozměrnými poli** a **maticovými datovými strukturami**."
   ]
  },
  {
   "cell_type": "markdown",
   "id": "9180b17d-7eca-4eec-b35c-5152f039c531",
   "metadata": {},
   "source": [
    "### Kde zjistit více informací\n",
    "\n",
    "---\n",
    "\n",
    "Dokumentaci najdeš [zde](https://numpy.org/doc/stable/index.html#).\n",
    "\n",
    "Zdrojový kód najdeš [zde](https://github.com/numpy/numpy)."
   ]
  },
  {
   "cell_type": "markdown",
   "id": "797453fd-9e6b-46ba-bacc-d9b4e8a7504d",
   "metadata": {},
   "source": [
    "### Jak jej nainstaluji\n",
    "\n",
    "---\n",
    "\n",
    "Instalace knihovny obecně (doporučeno v rámci virtuálního prostředí):"
   ]
  },
  {
   "cell_type": "code",
   "execution_count": 1,
   "id": "5cc669ad-4f89-4402-9493-736d93afa24e",
   "metadata": {},
   "outputs": [],
   "source": [
    "# !pip install numpy"
   ]
  },
  {
   "cell_type": "markdown",
   "id": "21f710be-0934-467d-bf8c-1948bf718229",
   "metadata": {},
   "source": [
    "...nebo:"
   ]
  },
  {
   "cell_type": "code",
   "execution_count": 2,
   "id": "0f1359ba-1457-433e-92a3-6d7732178a0c",
   "metadata": {},
   "outputs": [],
   "source": [
    "# !conda install numpy"
   ]
  },
  {
   "cell_type": "markdown",
   "id": "3da6af60-4096-4548-a68c-3f4d8aab4841",
   "metadata": {},
   "source": [
    "<br>\n",
    "\n",
    "Nahrávání knihovny:"
   ]
  },
  {
   "cell_type": "code",
   "execution_count": 3,
   "id": "60f81350-021d-4201-81d8-1ec70f325be3",
   "metadata": {
    "tags": []
   },
   "outputs": [],
   "source": [
    "import numpy"
   ]
  },
  {
   "cell_type": "code",
   "execution_count": 4,
   "id": "b0a2a324-5024-402d-b011-0de99804fed6",
   "metadata": {},
   "outputs": [],
   "source": [
    "import numpy as np"
   ]
  },
  {
   "cell_type": "code",
   "execution_count": 5,
   "id": "d4316ec0-64db-4a00-8939-74e54c12d590",
   "metadata": {},
   "outputs": [],
   "source": [
    "from numpy import array"
   ]
  },
  {
   "cell_type": "markdown",
   "id": "6c06c732-1862-474e-a411-52940c4f0129",
   "metadata": {},
   "source": [
    "<br>\n",
    "\n",
    "Používaná verze knihovny:"
   ]
  },
  {
   "cell_type": "code",
   "execution_count": 6,
   "id": "1259cdc6-196a-4f04-8eb3-7afe185cef68",
   "metadata": {
    "tags": []
   },
   "outputs": [
    {
     "data": {
      "text/plain": [
       "'1.24.4'"
      ]
     },
     "execution_count": 6,
     "metadata": {},
     "output_type": "execute_result"
    }
   ],
   "source": [
    "numpy.__version__"
   ]
  },
  {
   "cell_type": "markdown",
   "id": "228d1d39-8293-4478-b836-17d64ec6ebcc",
   "metadata": {},
   "source": [
    "### Srovnání datových typů\n",
    "\n",
    "---"
   ]
  },
  {
   "cell_type": "markdown",
   "id": "c027e5a2-173a-40b7-b3a5-e45194b4e804",
   "metadata": {},
   "source": [
    "Efektivní práce s daty si zakládá na tom, jak jsou data uložená.\n",
    "\n",
    "Proto je zásadní tušit jak objekty zpracovává **klasický Python** a `numpy`."
   ]
  },
  {
   "cell_type": "code",
   "execution_count": 7,
   "id": "889de9e2-1e74-46f8-ad91-573b9d4f7c8b",
   "metadata": {
    "tags": []
   },
   "outputs": [],
   "source": [
    "x = 10\n",
    "x = 10.0\n",
    "x = \"deset\""
   ]
  },
  {
   "cell_type": "markdown",
   "id": "6b3d4d5a-7007-40f6-9490-8e544ef2b8e9",
   "metadata": {},
   "source": [
    "*Dynamické typování* v Pythonu vypadá jako dobrý nápad.\n",
    "\n",
    "Přináší jistou flexibilitu a jednodušší používání.\n",
    "\n",
    "Také s sebou ovšem nese jisté povinnosti, které by obyčejná proměnná **neměla normálně zpracovávat**.\n",
    "\n",
    "V ukázce neukládáš pouze hodnoty, ale další doprovodné informace:\n",
    "* **počet referencí**, kvůli alokaci/dealokaci paměti,\n",
    "* **typ kódovací sady**,\n",
    "* **velikost** následujících dat."
   ]
  },
  {
   "cell_type": "markdown",
   "id": "8402bdfd-3b5b-4d72-bb24-f8805f630af4",
   "metadata": {},
   "source": [
    "#### LIST v Pythonu\n",
    "\n",
    "---"
   ]
  },
  {
   "cell_type": "code",
   "execution_count": 8,
   "id": "7fcf303c-44cb-4a09-b67c-4a1a0ba98025",
   "metadata": {
    "tags": []
   },
   "outputs": [],
   "source": [
    "muj_list = [10, 10.0, \"deset\"]"
   ]
  },
  {
   "cell_type": "code",
   "execution_count": 9,
   "id": "e1b28dcc-6b2e-48c7-bca0-567b597e08ee",
   "metadata": {
    "tags": []
   },
   "outputs": [],
   "source": [
    "datove_typy_listu = [type(hodnota) for hodnota in muj_list]"
   ]
  },
  {
   "cell_type": "code",
   "execution_count": 10,
   "id": "349d44cd-5515-4e32-9511-bb10215dace1",
   "metadata": {
    "tags": []
   },
   "outputs": [
    {
     "data": {
      "text/plain": [
       "[int, float, str]"
      ]
     },
     "execution_count": 10,
     "metadata": {},
     "output_type": "execute_result"
    }
   ],
   "source": [
    "datove_typy_listu"
   ]
  },
  {
   "cell_type": "markdown",
   "id": "373b248f-7258-4811-b5a0-7e98d43f8132",
   "metadata": {},
   "source": [
    "<br>\n",
    "\n",
    "Je jasné, že tento *komfort* sebou nese i svoji cenu.\n",
    "\n",
    "Protože toho každá hodnota s sebou nese další doplňující informace (datový typ, kódování, ...).\n",
    "\n",
    "I kdyby byly hodnoty stejného datové typu, přesto s sebou přenášejí řadu balastu.\n",
    "\n",
    "Tomu se snaží knihovna `numpy` pomáhat."
   ]
  },
  {
   "cell_type": "code",
   "execution_count": 11,
   "id": "59cf5c2d-4c04-49c0-8a2e-f6cc36eb5fd1",
   "metadata": {
    "tags": []
   },
   "outputs": [],
   "source": [
    "from numpy import array"
   ]
  },
  {
   "cell_type": "code",
   "execution_count": 12,
   "id": "b99aec33-731a-4261-86ad-18908957e51c",
   "metadata": {
    "tags": []
   },
   "outputs": [],
   "source": [
    "ciselne_pole = array(range(6))"
   ]
  },
  {
   "cell_type": "code",
   "execution_count": 13,
   "id": "997d6a37-a681-4f42-ac09-df9ad8623ae4",
   "metadata": {
    "tags": []
   },
   "outputs": [
    {
     "data": {
      "text/plain": [
       "array([0, 1, 2, 3, 4, 5])"
      ]
     },
     "execution_count": 13,
     "metadata": {},
     "output_type": "execute_result"
    }
   ],
   "source": [
    "ciselne_pole"
   ]
  },
  {
   "cell_type": "code",
   "execution_count": 14,
   "id": "cca478fa-5220-4e01-94f4-308babd1df49",
   "metadata": {
    "tags": []
   },
   "outputs": [
    {
     "data": {
      "text/plain": [
       "dtype('int64')"
      ]
     },
     "execution_count": 14,
     "metadata": {},
     "output_type": "execute_result"
    }
   ],
   "source": [
    "ciselne_pole.dtype"
   ]
  },
  {
   "cell_type": "code",
   "execution_count": 15,
   "id": "1334e11e-39f3-4b03-816d-7ebcc218bced",
   "metadata": {
    "tags": []
   },
   "outputs": [
    {
     "data": {
      "text/plain": [
       "numpy.ndarray"
      ]
     },
     "execution_count": 15,
     "metadata": {},
     "output_type": "execute_result"
    }
   ],
   "source": [
    "type(ciselne_pole)"
   ]
  },
  {
   "cell_type": "markdown",
   "id": "024c53a4-1283-4ca0-b9ba-372e7e5dd107",
   "metadata": {
    "tags": []
   },
   "source": [
    "<br>\n",
    "\n",
    "Na rozdíl od datového typu`list` v jazyce Python, pole v `numpy` obsahují stejný datový typ.\n",
    "\n",
    "Pokud tomu tak není, `numpy` provede *upcast* (představ si datovou konverzi):"
   ]
  },
  {
   "cell_type": "code",
   "execution_count": 16,
   "id": "8e57d42a-7036-4093-a684-ed8be4d83dd9",
   "metadata": {
    "tags": []
   },
   "outputs": [],
   "source": [
    "mix_desetinne_cele_hodnoty = array((1, 2, 3, 3.1416))"
   ]
  },
  {
   "cell_type": "code",
   "execution_count": 17,
   "id": "30f4ede6-adaf-4e1f-a475-63b4735c7174",
   "metadata": {
    "tags": []
   },
   "outputs": [
    {
     "data": {
      "text/plain": [
       "array([1.    , 2.    , 3.    , 3.1416])"
      ]
     },
     "execution_count": 17,
     "metadata": {},
     "output_type": "execute_result"
    }
   ],
   "source": [
    "mix_desetinne_cele_hodnoty"
   ]
  },
  {
   "cell_type": "code",
   "execution_count": 18,
   "id": "2048a43f-3165-48ae-b9b9-567aa343353b",
   "metadata": {
    "tags": []
   },
   "outputs": [
    {
     "data": {
      "text/plain": [
       "dtype('float64')"
      ]
     },
     "execution_count": 18,
     "metadata": {},
     "output_type": "execute_result"
    }
   ],
   "source": [
    "mix_desetinne_cele_hodnoty.dtype"
   ]
  },
  {
   "cell_type": "markdown",
   "id": "0787c40a-cc78-4ce4-bb61-5b1e3c0219f8",
   "metadata": {
    "tags": []
   },
   "source": [
    "<br>\n",
    "\n",
    "Pokud potřebuješ dodržet konkrétní datový typ, použij explicitně *parametr* `dtype`:"
   ]
  },
  {
   "cell_type": "code",
   "execution_count": 19,
   "id": "6d3cdd43-186a-499b-abe8-b08d838a31e7",
   "metadata": {
    "tags": []
   },
   "outputs": [],
   "source": [
    "jen_cele = array((1, 2, 3, 3.1416), dtype=\"int64\")"
   ]
  },
  {
   "cell_type": "code",
   "execution_count": 20,
   "id": "704ff73a-52fa-4e1d-9493-1de3aab79b94",
   "metadata": {
    "tags": []
   },
   "outputs": [
    {
     "data": {
      "text/plain": [
       "array([1, 2, 3, 3])"
      ]
     },
     "execution_count": 20,
     "metadata": {},
     "output_type": "execute_result"
    }
   ],
   "source": [
    "jen_cele"
   ]
  },
  {
   "cell_type": "markdown",
   "id": "e20fa8b3-ce40-4a83-b739-35b1b5e40ba5",
   "metadata": {},
   "source": [
    "<br>\n",
    "\n",
    "Datové typy se snaží implicitně konvertovat. Pokud je to možné."
   ]
  },
  {
   "cell_type": "code",
   "execution_count": 22,
   "id": "e7e4b0a9-7780-413f-8db7-903f4a631d9d",
   "metadata": {
    "tags": []
   },
   "outputs": [
    {
     "ename": "ValueError",
     "evalue": "invalid literal for int() with base 10: 'tři'",
     "output_type": "error",
     "traceback": [
      "\u001b[0;31m---------------------------------------------------------------------------\u001b[0m",
      "\u001b[0;31mValueError\u001b[0m                                Traceback (most recent call last)",
      "Cell \u001b[0;32mIn[22], line 1\u001b[0m\n\u001b[0;32m----> 1\u001b[0m jen_cele \u001b[38;5;241m=\u001b[39m \u001b[43marray\u001b[49m\u001b[43m(\u001b[49m\u001b[43m(\u001b[49m\u001b[38;5;241;43m1\u001b[39;49m\u001b[43m,\u001b[49m\u001b[43m \u001b[49m\u001b[38;5;241;43m2\u001b[39;49m\u001b[43m,\u001b[49m\u001b[43m \u001b[49m\u001b[38;5;124;43m\"\u001b[39;49m\u001b[38;5;124;43mtři\u001b[39;49m\u001b[38;5;124;43m\"\u001b[39;49m\u001b[43m,\u001b[49m\u001b[43m \u001b[49m\u001b[38;5;241;43m3.1416\u001b[39;49m\u001b[43m)\u001b[49m\u001b[43m,\u001b[49m\u001b[43m \u001b[49m\u001b[43mdtype\u001b[49m\u001b[38;5;241;43m=\u001b[39;49m\u001b[38;5;124;43m\"\u001b[39;49m\u001b[38;5;124;43mint64\u001b[39;49m\u001b[38;5;124;43m\"\u001b[39;49m\u001b[43m)\u001b[49m  \u001b[38;5;66;03m# \"ValueError\"\u001b[39;00m\n",
      "\u001b[0;31mValueError\u001b[0m: invalid literal for int() with base 10: 'tři'"
     ]
    }
   ],
   "source": [
    "# jen_cele = array((1, 2, \"tři\", 3.1416), dtype=\"int64\")  # \"ValueError\""
   ]
  },
  {
   "cell_type": "code",
   "execution_count": 21,
   "id": "e4e6eaf9-e5c3-4e21-904f-e777b58c4b5e",
   "metadata": {
    "tags": []
   },
   "outputs": [
    {
     "ename": "ValueError",
     "evalue": "invalid literal for int() with base 10: 'tři'",
     "output_type": "error",
     "traceback": [
      "\u001b[0;31m---------------------------------------------------------------------------\u001b[0m",
      "\u001b[0;31mValueError\u001b[0m                                Traceback (most recent call last)",
      "Cell \u001b[0;32mIn[21], line 1\u001b[0m\n\u001b[0;32m----> 1\u001b[0m \u001b[38;5;28;43mint\u001b[39;49m\u001b[43m(\u001b[49m\u001b[38;5;124;43m\"\u001b[39;49m\u001b[38;5;124;43mtři\u001b[39;49m\u001b[38;5;124;43m\"\u001b[39;49m\u001b[43m)\u001b[49m  \u001b[38;5;66;03m# \"ValueError\"\u001b[39;00m\n",
      "\u001b[0;31mValueError\u001b[0m: invalid literal for int() with base 10: 'tři'"
     ]
    }
   ],
   "source": [
    "# int(\"tři\")  # \"ValueError\""
   ]
  },
  {
   "cell_type": "code",
   "execution_count": 23,
   "id": "eed15388-90e0-43c8-8c1f-e3b8a17048da",
   "metadata": {
    "tags": []
   },
   "outputs": [
    {
     "data": {
      "text/plain": [
       "array([1, 2, 3, 3])"
      ]
     },
     "execution_count": 23,
     "metadata": {},
     "output_type": "execute_result"
    }
   ],
   "source": [
    "jen_cele"
   ]
  },
  {
   "cell_type": "markdown",
   "id": "4b36c87f-c737-4150-a921-ab0ba64d5cf0",
   "metadata": {},
   "source": [
    "<br>\n",
    "\n",
    "`numpy` nabízí obrovskou škálu rychlých a efektivních způsobů vytváření polí a manipulace s číselnými daty v nich.\n",
    "\n",
    "Pracuje s homogenními sekvenčnímy objekty."
   ]
  },
  {
   "cell_type": "markdown",
   "id": "c92f1fbf-1315-4bda-93b0-5a776b5c5595",
   "metadata": {},
   "source": [
    "#### Proč používat NUMPY?\n",
    "\n",
    "---\n",
    "\n",
    "Pole v `numpy` jsou rychlejší a kompaktnější než `list` v Pythonu.\n",
    "\n",
    "Pole spotřebovává **méně paměti a pohodlně se používá** (určení datových typů,..).\n",
    "\n",
    "```\n",
    "Země   Počet obyv.   Rozloha\n",
    "česká republika 11  75\n",
    "německo         22  115\n",
    "rakousko        15  70\n",
    "```"
   ]
  },
  {
   "cell_type": "code",
   "execution_count": 24,
   "id": "1f2ee152-b917-4a22-837c-6d8dda0679e9",
   "metadata": {
    "tags": []
   },
   "outputs": [],
   "source": [
    "import numpy as np\n",
    "from pandas import DataFrame"
   ]
  },
  {
   "cell_type": "code",
   "execution_count": 25,
   "id": "1175f8c2-c11b-4789-ab50-bd0d5ec2685d",
   "metadata": {
    "tags": []
   },
   "outputs": [],
   "source": [
    "zeme_df = DataFrame(\n",
    "    data=[[11, 79], [66, 243], [196, 924]],\n",
    "    index=[\"CZE\", \"UK\", \"Nigeria\"],\n",
    "    columns=[\"population\", \"surface_area\"]\n",
    ")"
   ]
  },
  {
   "cell_type": "code",
   "execution_count": 26,
   "id": "cbff8f46-0e77-42ae-b32a-4746e90c224e",
   "metadata": {
    "tags": []
   },
   "outputs": [
    {
     "data": {
      "text/html": [
       "<div>\n",
       "<style scoped>\n",
       "    .dataframe tbody tr th:only-of-type {\n",
       "        vertical-align: middle;\n",
       "    }\n",
       "\n",
       "    .dataframe tbody tr th {\n",
       "        vertical-align: top;\n",
       "    }\n",
       "\n",
       "    .dataframe thead th {\n",
       "        text-align: right;\n",
       "    }\n",
       "</style>\n",
       "<table border=\"1\" class=\"dataframe\">\n",
       "  <thead>\n",
       "    <tr style=\"text-align: right;\">\n",
       "      <th></th>\n",
       "      <th>population</th>\n",
       "      <th>surface_area</th>\n",
       "    </tr>\n",
       "  </thead>\n",
       "  <tbody>\n",
       "    <tr>\n",
       "      <th>CZE</th>\n",
       "      <td>11</td>\n",
       "      <td>79</td>\n",
       "    </tr>\n",
       "    <tr>\n",
       "      <th>UK</th>\n",
       "      <td>66</td>\n",
       "      <td>243</td>\n",
       "    </tr>\n",
       "    <tr>\n",
       "      <th>Nigeria</th>\n",
       "      <td>196</td>\n",
       "      <td>924</td>\n",
       "    </tr>\n",
       "  </tbody>\n",
       "</table>\n",
       "</div>"
      ],
      "text/plain": [
       "         population  surface_area\n",
       "CZE              11            79\n",
       "UK               66           243\n",
       "Nigeria         196           924"
      ]
     },
     "execution_count": 26,
     "metadata": {},
     "output_type": "execute_result"
    }
   ],
   "source": [
    "zeme_df.head()"
   ]
  },
  {
   "cell_type": "code",
   "execution_count": 27,
   "id": "504e534a-86d3-4ac8-8865-0de97f2a771e",
   "metadata": {
    "tags": []
   },
   "outputs": [],
   "source": [
    "zeme_arr = np.array(zeme_df)"
   ]
  },
  {
   "cell_type": "code",
   "execution_count": 28,
   "id": "ddfbef41-60bf-4e5a-8031-72ffbe54778e",
   "metadata": {
    "tags": []
   },
   "outputs": [
    {
     "data": {
      "text/plain": [
       "array([[ 11,  79],\n",
       "       [ 66, 243],\n",
       "       [196, 924]])"
      ]
     },
     "execution_count": 28,
     "metadata": {},
     "output_type": "execute_result"
    }
   ],
   "source": [
    "zeme_arr"
   ]
  },
  {
   "cell_type": "code",
   "execution_count": 29,
   "id": "f1e46c85-eb02-4e68-b43d-5d0b096944d3",
   "metadata": {},
   "outputs": [
    {
     "data": {
      "text/plain": [
       "dtype('int64')"
      ]
     },
     "execution_count": 29,
     "metadata": {},
     "output_type": "execute_result"
    }
   ],
   "source": [
    "zeme_arr.dtype"
   ]
  },
  {
   "cell_type": "markdown",
   "id": "2ce58ff7-fa03-4bcb-ba60-7f3175421e96",
   "metadata": {},
   "source": [
    "Konzistentní datové typy knihovny `numpy`, které podporují hromadu navazujících funkcí."
   ]
  },
  {
   "cell_type": "markdown",
   "id": "3b0e3525-e7cd-4d0d-aa13-4d5ed79450b9",
   "metadata": {},
   "source": [
    "<br>\n",
    "\n",
    "## Základy NUMPY\n",
    "\n",
    "---"
   ]
  },
  {
   "cell_type": "markdown",
   "id": "c43c485f-b747-4855-86cc-c3ab9c3b5c69",
   "metadata": {},
   "source": [
    "Protože je `numpy` postaven na jazyku C, přebírá také podobné datové typy."
   ]
  },
  {
   "cell_type": "markdown",
   "id": "4ed5400e-9f41-4833-9b7e-943193792d30",
   "metadata": {},
   "source": [
    "Některé datové typy:\n",
    "    \n",
    "| Datový typ v `numpy` | Popis |\n",
    "| :- | :- |\n",
    "| `bool_` | boolean `True`, `False` |\n",
    "| `int16` | celá čísla (bajty od -32768 do 32767) |\n",
    "| `int32` | celá čísla (bajty od -2147483648 do 2147483647)) |\n",
    "| `int64` | celá čísla (bajty od -9223372036854775808 to 9223372036854775807) |\n",
    "| `float64` | desetinné čísla |\n",
    "| `complex64` | komplexní čísla, reprezentovaná dvěma 64-bitovými dese. čísly |"
   ]
  },
  {
   "cell_type": "markdown",
   "id": "b1b677fc-1d2f-49c8-a014-7cd6b209de8e",
   "metadata": {},
   "source": [
    "<br>\n",
    "\n",
    "Dále `numpy` poskytuje `array` objekty."
   ]
  },
  {
   "cell_type": "code",
   "execution_count": 30,
   "id": "0ecdfcac-fa23-4bc7-8f5e-55b462acb4eb",
   "metadata": {},
   "outputs": [],
   "source": [
    "muj_list = [1, 2, 3]                      # 1D pole, ~ list, tuple\n",
    "muj_2D_list = [[1, 2], [3, 4]]            # 2D pole, ~ matice ~ nestovaný list, tuple"
   ]
  },
  {
   "cell_type": "markdown",
   "id": "34395fe8-e1e6-400e-b415-01e4390c8e5c",
   "metadata": {},
   "source": [
    "Ty slouží jako prostředky pro elegantní manipulaci s daty (znáš z `pandas`).\n",
    "\n",
    "Základní operace pro `array`:\n",
    "* **atributy**,\n",
    "* **indexování**,\n",
    "* **řezání**,\n",
    "* **RESHAPE**,\n",
    "* **JOIN** a **MERGE** --> *konkatenace*, *split*"
   ]
  },
  {
   "cell_type": "markdown",
   "id": "e1fc6f7c-a6c1-46ae-971b-17a3be80db8c",
   "metadata": {},
   "source": [
    "### Vytvoření ARRAY\n",
    "\n",
    "---"
   ]
  },
  {
   "cell_type": "code",
   "execution_count": 31,
   "id": "ac47c679-35fc-4f99-9175-e51270d40ad0",
   "metadata": {
    "tags": []
   },
   "outputs": [],
   "source": [
    "import numpy as np"
   ]
  },
  {
   "cell_type": "code",
   "execution_count": 32,
   "id": "cdaa4d28-e99b-44fa-8621-64ea919550ee",
   "metadata": {},
   "outputs": [],
   "source": [
    "from numpy import array"
   ]
  },
  {
   "cell_type": "markdown",
   "id": "a74d0883-f39a-40c9-ac97-93dc70b68be3",
   "metadata": {},
   "source": [
    "<br>\n",
    "\n",
    "#### Jak vytvořit array pomocí built-in sekvencí?\n",
    "\n",
    "---"
   ]
  },
  {
   "cell_type": "markdown",
   "id": "266fd3ca-5123-4c33-be9e-d50f6f6a387f",
   "metadata": {},
   "source": [
    "Můžeš jednoduše konvertovat built-in **sekvenční datové typy** v Pythonu na `numpy` pole:"
   ]
  },
  {
   "cell_type": "code",
   "execution_count": 33,
   "id": "4966f05e-27aa-498c-876c-33cf8effb066",
   "metadata": {
    "tags": []
   },
   "outputs": [],
   "source": [
    "muj_range = range(3)\n",
    "muj_list = [3, 4, 5]\n",
    "muj_tuple = (6, 7, 8)"
   ]
  },
  {
   "cell_type": "code",
   "execution_count": null,
   "id": "4c66d7a4-b34d-46c6-87aa-2fd59f3cb9b6",
   "metadata": {},
   "outputs": [],
   "source": [
    "# import numpy as np"
   ]
  },
  {
   "cell_type": "code",
   "execution_count": 34,
   "id": "b7d9ebc6-7fd0-46a5-8183-29e1180a7a84",
   "metadata": {
    "tags": []
   },
   "outputs": [],
   "source": [
    "muj_list_arr = np.array(muj_list)\n",
    "muj_tuple_arr = np.array(muj_tuple)\n",
    "muj_range_arr = np.array(muj_range)"
   ]
  },
  {
   "cell_type": "code",
   "execution_count": null,
   "id": "1c145961-4c44-49fd-bcf9-c11761f6abbf",
   "metadata": {},
   "outputs": [],
   "source": [
    "# from numpy import array"
   ]
  },
  {
   "cell_type": "code",
   "execution_count": 35,
   "id": "a00bf3e0-59ff-4d4d-8df6-cfa6c3bec213",
   "metadata": {},
   "outputs": [],
   "source": [
    "muj_list_arr = array(muj_list)\n",
    "muj_tuple_arr = array(muj_tuple)\n",
    "muj_range_arr = array(muj_range)"
   ]
  },
  {
   "cell_type": "code",
   "execution_count": 36,
   "id": "835530d7-51b3-4eef-b299-f9b61b348e5c",
   "metadata": {
    "tags": []
   },
   "outputs": [
    {
     "data": {
      "text/plain": [
       "array([3, 4, 5])"
      ]
     },
     "execution_count": 36,
     "metadata": {},
     "output_type": "execute_result"
    }
   ],
   "source": [
    "muj_list_arr"
   ]
  },
  {
   "cell_type": "code",
   "execution_count": 37,
   "id": "fc00b732-bf9a-4604-8fb1-95ee84962c2b",
   "metadata": {
    "tags": []
   },
   "outputs": [
    {
     "data": {
      "text/plain": [
       "numpy.ndarray"
      ]
     },
     "execution_count": 37,
     "metadata": {},
     "output_type": "execute_result"
    }
   ],
   "source": [
    "type(muj_list_arr)"
   ]
  },
  {
   "cell_type": "markdown",
   "id": "4c0470fd-cec4-421f-9980-dcdf061ce927",
   "metadata": {},
   "source": [
    "<br>\n",
    "\n",
    "Atribut `dtype` neví nic o datovém typu objektu, jen jakým objekty je naplněný:"
   ]
  },
  {
   "cell_type": "code",
   "execution_count": 38,
   "id": "6d45c8f2-eb54-4930-acec-3da24653176f",
   "metadata": {
    "tags": []
   },
   "outputs": [
    {
     "data": {
      "text/plain": [
       "dtype('int64')"
      ]
     },
     "execution_count": 38,
     "metadata": {},
     "output_type": "execute_result"
    }
   ],
   "source": [
    "muj_list_arr.dtype"
   ]
  },
  {
   "cell_type": "markdown",
   "id": "a06ffb5b-e96d-4d08-bbcf-80f35fd33b9e",
   "metadata": {},
   "source": [
    "<br>\n",
    "\n",
    "Pokud chci ověřit, že jde o `array` objekt:"
   ]
  },
  {
   "cell_type": "code",
   "execution_count": null,
   "id": "7e9be087-1a94-4321-b8db-2626d9f4702e",
   "metadata": {
    "tags": []
   },
   "outputs": [],
   "source": [
    "type(muj_tuple_arr)"
   ]
  },
  {
   "cell_type": "code",
   "execution_count": 39,
   "id": "6a220bd5-350c-4fc2-9c2f-063f155fdc42",
   "metadata": {},
   "outputs": [
    {
     "data": {
      "text/plain": [
       "True"
      ]
     },
     "execution_count": 39,
     "metadata": {},
     "output_type": "execute_result"
    }
   ],
   "source": [
    "isinstance(muj_list_arr, np.ndarray)"
   ]
  },
  {
   "cell_type": "markdown",
   "id": "c95250c7-bd15-43c6-a74b-6fa277ab7d11",
   "metadata": {},
   "source": [
    "Pokud chci ověřit, jestli je hodnota na nultém indexu celé číslo `int`:"
   ]
  },
  {
   "cell_type": "code",
   "execution_count": 40,
   "id": "f6241d11-568f-4a14-984a-6f72c53beb32",
   "metadata": {},
   "outputs": [
    {
     "data": {
      "text/plain": [
       "False"
      ]
     },
     "execution_count": 40,
     "metadata": {},
     "output_type": "execute_result"
    }
   ],
   "source": [
    "isinstance(muj_list_arr[0], int)"
   ]
  },
  {
   "cell_type": "code",
   "execution_count": 41,
   "id": "384378f8-ee8b-4a6a-80cd-b5860d96aa59",
   "metadata": {
    "tags": []
   },
   "outputs": [
    {
     "data": {
      "text/plain": [
       "numpy.int64"
      ]
     },
     "execution_count": 41,
     "metadata": {},
     "output_type": "execute_result"
    }
   ],
   "source": [
    "type(muj_tuple_arr[0])"
   ]
  },
  {
   "cell_type": "code",
   "execution_count": 43,
   "id": "60950a99-9490-4efb-8106-c3f6aac5a7c9",
   "metadata": {},
   "outputs": [
    {
     "data": {
      "text/plain": [
       "True"
      ]
     },
     "execution_count": 43,
     "metadata": {},
     "output_type": "execute_result"
    }
   ],
   "source": [
    "isinstance(muj_list_arr[0], numpy.int64)"
   ]
  },
  {
   "cell_type": "code",
   "execution_count": 42,
   "id": "5bb20019-7925-4a25-a786-e42a7e3fe3bd",
   "metadata": {},
   "outputs": [
    {
     "data": {
      "text/plain": [
       "True"
      ]
     },
     "execution_count": 42,
     "metadata": {},
     "output_type": "execute_result"
    }
   ],
   "source": [
    "isinstance(muj_list_arr[0], np.int64)"
   ]
  },
  {
   "cell_type": "markdown",
   "id": "98b5530f-8948-4ab5-ad8d-3b8fd4606186",
   "metadata": {},
   "source": [
    "<br>\n",
    "\n",
    "#### Jak vytvořit array pomocí nul?\n",
    "\n",
    "---"
   ]
  },
  {
   "cell_type": "code",
   "execution_count": 44,
   "id": "ece16619-6b78-4b0c-96b9-b58f71f9be52",
   "metadata": {
    "tags": []
   },
   "outputs": [],
   "source": [
    "jen_nuly = np.zeros([2, 5])  # Royal (rows) Crown (columns) cola "
   ]
  },
  {
   "cell_type": "code",
   "execution_count": 45,
   "id": "c89b1ca1-9bb7-4517-8554-5f6c72c6fe62",
   "metadata": {
    "tags": []
   },
   "outputs": [
    {
     "data": {
      "text/plain": [
       "array([[0., 0., 0., 0., 0.],\n",
       "       [0., 0., 0., 0., 0.]])"
      ]
     },
     "execution_count": 45,
     "metadata": {},
     "output_type": "execute_result"
    }
   ],
   "source": [
    "jen_nuly"
   ]
  },
  {
   "cell_type": "code",
   "execution_count": 46,
   "id": "555b9977-d6c9-4e01-bb9a-8e6bb20a0dbb",
   "metadata": {},
   "outputs": [
    {
     "data": {
      "text/plain": [
       "dtype('float64')"
      ]
     },
     "execution_count": 46,
     "metadata": {},
     "output_type": "execute_result"
    }
   ],
   "source": [
    "jen_nuly.dtype"
   ]
  },
  {
   "cell_type": "markdown",
   "id": "ca2f7301-4875-4dc5-903e-921a515f6337",
   "metadata": {},
   "source": [
    "<br>\n",
    "\n",
    "Pro jiný datový typ je potřeba explicitně zadat hodnotu:"
   ]
  },
  {
   "cell_type": "code",
   "execution_count": 47,
   "id": "257a1347-2d41-4924-924d-9b136f7aa97a",
   "metadata": {
    "tags": []
   },
   "outputs": [],
   "source": [
    "jen_nuly = np.zeros([2, 5], dtype='int64')"
   ]
  },
  {
   "cell_type": "code",
   "execution_count": 48,
   "id": "9f244d2b-e384-47d9-a3cc-f98c6cdbcab1",
   "metadata": {
    "tags": []
   },
   "outputs": [
    {
     "data": {
      "text/plain": [
       "array([[0, 0, 0, 0, 0],\n",
       "       [0, 0, 0, 0, 0]])"
      ]
     },
     "execution_count": 48,
     "metadata": {},
     "output_type": "execute_result"
    }
   ],
   "source": [
    "jen_nuly"
   ]
  },
  {
   "cell_type": "markdown",
   "id": "6bbb5c10-f4fd-4ee0-b6f9-cf13acf4068c",
   "metadata": {},
   "source": [
    "<br>\n",
    "\n",
    "#### Jak vytvořit array pomocí jedniček?\n",
    "\n",
    "---"
   ]
  },
  {
   "cell_type": "code",
   "execution_count": 49,
   "id": "56879585-d91d-40bf-9c52-fbe471991acb",
   "metadata": {
    "tags": []
   },
   "outputs": [],
   "source": [
    "jen_jednicky = np.ones(shape=(2, 3), dtype=int)"
   ]
  },
  {
   "cell_type": "markdown",
   "id": "dd955f9c-ff22-489b-a2c5-395e9a3e6c36",
   "metadata": {},
   "source": [
    "Definice nového pole je možná i s klíčovými argumenty (parametr `shape`)."
   ]
  },
  {
   "cell_type": "code",
   "execution_count": null,
   "id": "5b0b2a9b-37bf-4e8a-90f3-18f15bc6e95c",
   "metadata": {
    "tags": []
   },
   "outputs": [],
   "source": [
    "# np.ones?"
   ]
  },
  {
   "cell_type": "code",
   "execution_count": 50,
   "id": "ffd9b284-0cc1-43e7-bc0c-7c7bc0c39700",
   "metadata": {
    "tags": []
   },
   "outputs": [
    {
     "data": {
      "text/plain": [
       "dtype('int64')"
      ]
     },
     "execution_count": 50,
     "metadata": {},
     "output_type": "execute_result"
    }
   ],
   "source": [
    "jen_jednicky.dtype"
   ]
  },
  {
   "cell_type": "code",
   "execution_count": 51,
   "id": "70d2eaba-8577-4803-89e3-4d8d4d95176e",
   "metadata": {
    "tags": []
   },
   "outputs": [
    {
     "data": {
      "text/plain": [
       "array([[1, 1, 1],\n",
       "       [1, 1, 1]])"
      ]
     },
     "execution_count": 51,
     "metadata": {},
     "output_type": "execute_result"
    }
   ],
   "source": [
    "jen_jednicky"
   ]
  },
  {
   "cell_type": "markdown",
   "id": "8d0b9884-1465-4a80-9c8f-50d2308ff57f",
   "metadata": {},
   "source": [
    "<br>\n",
    "\n",
    "#### Jak vytvořit array pomocí defaultní výplňové hodnoty?\n",
    "\n",
    "---"
   ]
  },
  {
   "cell_type": "code",
   "execution_count": 52,
   "id": "dd91576c-a24c-4927-9ec1-f745436bdf1a",
   "metadata": {
    "tags": []
   },
   "outputs": [],
   "source": [
    "jen_pi = np.full(shape=(3, 5), fill_value=np.pi)  # math, math.pi"
   ]
  },
  {
   "cell_type": "code",
   "execution_count": 53,
   "id": "76338ae5-7a7a-43ce-b3a2-c608d104bf61",
   "metadata": {
    "tags": []
   },
   "outputs": [
    {
     "data": {
      "text/plain": [
       "array([[3.14159265, 3.14159265, 3.14159265, 3.14159265, 3.14159265],\n",
       "       [3.14159265, 3.14159265, 3.14159265, 3.14159265, 3.14159265],\n",
       "       [3.14159265, 3.14159265, 3.14159265, 3.14159265, 3.14159265]])"
      ]
     },
     "execution_count": 53,
     "metadata": {},
     "output_type": "execute_result"
    }
   ],
   "source": [
    "jen_pi"
   ]
  },
  {
   "cell_type": "markdown",
   "id": "2bc1efb8-43bf-425c-a478-73e2e3926378",
   "metadata": {},
   "source": [
    "<br>\n",
    "\n",
    "#### Jak vytvořit array pomocí rozsahů?\n",
    "\n",
    "---"
   ]
  },
  {
   "cell_type": "markdown",
   "id": "92a7d7e6-b9ac-407e-b9e6-dd0b0985bcce",
   "metadata": {},
   "source": [
    "Velmi intuitivně zadavaná datová struktura, podobně jako u Python `range`:"
   ]
  },
  {
   "cell_type": "code",
   "execution_count": 54,
   "id": "12799a04-1bb1-48e3-b5a4-0a7d85c1e714",
   "metadata": {
    "tags": []
   },
   "outputs": [],
   "source": [
    "interval_arr = np.arange(start=0, stop=10, step=1)"
   ]
  },
  {
   "cell_type": "code",
   "execution_count": 55,
   "id": "15554662-36af-4efe-972f-27c546ce37e2",
   "metadata": {
    "tags": []
   },
   "outputs": [
    {
     "data": {
      "text/plain": [
       "array([0, 1, 2, 3, 4, 5, 6, 7, 8, 9])"
      ]
     },
     "execution_count": 55,
     "metadata": {},
     "output_type": "execute_result"
    }
   ],
   "source": [
    "interval_arr"
   ]
  },
  {
   "cell_type": "code",
   "execution_count": 56,
   "id": "3feef3d3-b400-4d71-8d2a-cf5bdec6f032",
   "metadata": {
    "tags": []
   },
   "outputs": [
    {
     "data": {
      "text/plain": [
       "numpy.ndarray"
      ]
     },
     "execution_count": 56,
     "metadata": {},
     "output_type": "execute_result"
    }
   ],
   "source": [
    "type(interval_arr)"
   ]
  },
  {
   "cell_type": "code",
   "execution_count": 57,
   "id": "d208b8fe-bd39-4d98-b52d-79577f5a1576",
   "metadata": {
    "tags": []
   },
   "outputs": [
    {
     "data": {
      "text/plain": [
       "dtype('int64')"
      ]
     },
     "execution_count": 57,
     "metadata": {},
     "output_type": "execute_result"
    }
   ],
   "source": [
    "interval_arr.dtype"
   ]
  },
  {
   "cell_type": "markdown",
   "id": "ca943443-e58a-4496-a69f-7d04c1cb4451",
   "metadata": {},
   "source": [
    "<br>\n",
    "\n",
    "Narozdíl od standardní knihovny umí `numpy` arrange objekt tvořit intervaly i s pomocí desetinných čísel."
   ]
  },
  {
   "cell_type": "code",
   "execution_count": 58,
   "id": "f262a995-34a8-4448-a3e1-6b2500853966",
   "metadata": {
    "tags": []
   },
   "outputs": [],
   "source": [
    "interval_arr = np.arange(start=0, stop=1, step=0.1, dtype='float64')"
   ]
  },
  {
   "cell_type": "code",
   "execution_count": 59,
   "id": "211a5ce2-931e-4e95-8a21-df4b54f010fa",
   "metadata": {},
   "outputs": [
    {
     "data": {
      "text/plain": [
       "array([0. , 0.1, 0.2, 0.3, 0.4, 0.5, 0.6, 0.7, 0.8, 0.9])"
      ]
     },
     "execution_count": 59,
     "metadata": {},
     "output_type": "execute_result"
    }
   ],
   "source": [
    "interval_arr"
   ]
  },
  {
   "cell_type": "markdown",
   "id": "cacccbcc-151f-4b11-8243-70ba48ffdce3",
   "metadata": {},
   "source": [
    "<br>\n",
    "\n",
    "#### Jak vytvořit array pomocí náhodných celých čísel?\n",
    "\n",
    "---"
   ]
  },
  {
   "cell_type": "code",
   "execution_count": 60,
   "id": "6df4115e-3236-4896-958c-57e643edb4c0",
   "metadata": {
    "tags": []
   },
   "outputs": [],
   "source": [
    "random_hodnoty = np.random.randint(low=0, high=6, size=(2, 4))"
   ]
  },
  {
   "cell_type": "code",
   "execution_count": 61,
   "id": "e2689bf5-fa54-4a4e-b4be-713b4a2f83bf",
   "metadata": {
    "tags": []
   },
   "outputs": [
    {
     "data": {
      "text/plain": [
       "array([[3, 0, 3, 3],\n",
       "       [3, 3, 1, 5]])"
      ]
     },
     "execution_count": 61,
     "metadata": {},
     "output_type": "execute_result"
    }
   ],
   "source": [
    "random_hodnoty"
   ]
  },
  {
   "cell_type": "code",
   "execution_count": 62,
   "id": "d76a11bc-69e2-4c2d-903e-c7ae18514df3",
   "metadata": {
    "tags": []
   },
   "outputs": [
    {
     "data": {
      "text/plain": [
       "numpy.ndarray"
      ]
     },
     "execution_count": 62,
     "metadata": {},
     "output_type": "execute_result"
    }
   ],
   "source": [
    "type(random_hodnoty)"
   ]
  },
  {
   "cell_type": "code",
   "execution_count": 63,
   "id": "b8856ea4-6fb7-4a48-b691-f55e59b17515",
   "metadata": {},
   "outputs": [],
   "source": [
    "poradi = len(range(10))  # 10"
   ]
  },
  {
   "cell_type": "markdown",
   "id": "5a5edb0c-8a65-4dfd-be64-319be6a60d40",
   "metadata": {},
   "source": [
    "<br>\n",
    "\n",
    "Občas je vhodnější tvořit rozsahy dynamicky, než statickou (hárdkódovanou) hodnotou:"
   ]
  },
  {
   "cell_type": "code",
   "execution_count": 64,
   "id": "954c9558-ab46-4257-aedc-33ff18399750",
   "metadata": {
    "tags": []
   },
   "outputs": [],
   "source": [
    "random_hodnoty = np.random.randint(low=0, high=66, size=poradi)"
   ]
  },
  {
   "cell_type": "code",
   "execution_count": 65,
   "id": "d476b461-3452-4e65-8a97-fc09a5227572",
   "metadata": {},
   "outputs": [
    {
     "data": {
      "text/plain": [
       "(8, 49, 65, 59, 12, 19, 49, 0, 16, 21)"
      ]
     },
     "execution_count": 65,
     "metadata": {},
     "output_type": "execute_result"
    }
   ],
   "source": [
    "tuple(random_hodnoty)"
   ]
  },
  {
   "cell_type": "markdown",
   "id": "fbe8f7f4-e536-4b5e-948d-6d3ba6853291",
   "metadata": {},
   "source": [
    "<br>\n",
    "\n",
    "#### Jednodimenzionální pole\n",
    "\n",
    "---"
   ]
  },
  {
   "cell_type": "code",
   "execution_count": 66,
   "id": "028d3727-49b5-4158-923f-fa11cf656949",
   "metadata": {
    "tags": []
   },
   "outputs": [],
   "source": [
    "m1 = np.random.randint(low=1, high=10, size=6)"
   ]
  },
  {
   "cell_type": "code",
   "execution_count": 67,
   "id": "65c6a5a0-ebda-4c14-a7a7-e0b6a36893a6",
   "metadata": {
    "tags": []
   },
   "outputs": [
    {
     "data": {
      "text/plain": [
       "array([6, 3, 6, 8, 2, 3])"
      ]
     },
     "execution_count": 67,
     "metadata": {},
     "output_type": "execute_result"
    }
   ],
   "source": [
    "m1"
   ]
  },
  {
   "cell_type": "markdown",
   "id": "4abea888-71a7-4967-9086-6c343fa53f2d",
   "metadata": {},
   "source": [
    "<br>\n",
    "\n",
    "Tedy prakticky jednoduché pole, které se na první pohled neliší tolik od `list`."
   ]
  },
  {
   "cell_type": "code",
   "execution_count": 68,
   "id": "fcff5146-59c4-4aaf-8680-1577c2ed8fd5",
   "metadata": {},
   "outputs": [],
   "source": [
    "import time"
   ]
  },
  {
   "cell_type": "markdown",
   "id": "dc2f3cea-2475-4136-9564-d95850acfe55",
   "metadata": {},
   "source": [
    "<br>\n",
    "\n",
    "Zadání délky pole:"
   ]
  },
  {
   "cell_type": "code",
   "execution_count": 69,
   "id": "856b9639-fc7d-4512-a1f2-89825994d719",
   "metadata": {},
   "outputs": [],
   "source": [
    "N = 10_000_000"
   ]
  },
  {
   "cell_type": "markdown",
   "id": "53ce920b-462d-4257-b0b7-d9e55d5882c2",
   "metadata": {},
   "source": [
    "<br>\n",
    "\n",
    "Zpracování pomocí standardního Pythonu:"
   ]
  },
  {
   "cell_type": "code",
   "execution_count": 70,
   "id": "b68d9617-8d20-4137-9ece-c2f2d4a8dc88",
   "metadata": {},
   "outputs": [
    {
     "name": "stdout",
     "output_type": "stream",
     "text": [
      "List: 0.760406494140625\n"
     ]
    }
   ],
   "source": [
    "lst = list(range(N))\n",
    "start = time.time()\n",
    "lst = [x * 2 for x in lst]\n",
    "print(\"List:\", time.time() - start)"
   ]
  },
  {
   "cell_type": "markdown",
   "id": "3c321800-cafc-45cf-b64c-50ddd471143a",
   "metadata": {},
   "source": [
    "<br>\n",
    "\n",
    "Zpracování pomocí `numpy`:"
   ]
  },
  {
   "cell_type": "code",
   "execution_count": 71,
   "id": "d63d33c5-788e-4916-8d87-c3d588b8c296",
   "metadata": {},
   "outputs": [
    {
     "name": "stdout",
     "output_type": "stream",
     "text": [
      "NumPy: 0.020014047622680664\n"
     ]
    }
   ],
   "source": [
    "arr = np.arange(N)\n",
    "start = time.time()\n",
    "arr = arr * 2\n",
    "print(\"NumPy:\", time.time() - start)"
   ]
  },
  {
   "cell_type": "markdown",
   "id": "8457f6cf-47da-4c6c-bdf7-6636072e5bbb",
   "metadata": {},
   "source": [
    "<br>\n",
    "\n",
    "Numpy nebudeš potřebovat, pokud:\n",
    "- pokud zpracováváš malá nebo **smíšená data** (např. `[1, \"jablko\", True]`)\n",
    "- pokud nepoužíváš numerické výpočty"
   ]
  },
  {
   "cell_type": "markdown",
   "id": "b41162fd-213a-437f-afba-8e9f376f3372",
   "metadata": {
    "tags": []
   },
   "source": [
    "#### Dvoudimenzionální pole\n",
    "\n",
    "---"
   ]
  },
  {
   "cell_type": "code",
   "execution_count": 72,
   "id": "ae337020-3866-4356-89bb-e063283a3f19",
   "metadata": {
    "tags": []
   },
   "outputs": [],
   "source": [
    "m2 = np.random.randint(10, size=(2, 3))"
   ]
  },
  {
   "cell_type": "code",
   "execution_count": 73,
   "id": "fe181acd-5503-405f-9ce3-49f0c1e78aec",
   "metadata": {
    "tags": []
   },
   "outputs": [
    {
     "data": {
      "text/plain": [
       "array([[0, 8, 6],\n",
       "       [1, 4, 9]])"
      ]
     },
     "execution_count": 73,
     "metadata": {},
     "output_type": "execute_result"
    }
   ],
   "source": [
    "m2"
   ]
  },
  {
   "cell_type": "markdown",
   "id": "ba3bce62-303c-44ac-b083-544dcb6f8a57",
   "metadata": {},
   "source": [
    "<br>\n",
    "\n",
    "Definicí oznamuješ:\n",
    "1. `10`, vyber náhodné celé čísla z intervalu `0-9`,\n",
    "2. vytvoř **2 řádky**,\n",
    "3. .. o **3 sloupcích**."
   ]
  },
  {
   "cell_type": "markdown",
   "id": "50617b42-f6d7-4f46-93b6-f29669a14476",
   "metadata": {
    "tags": []
   },
   "source": [
    "#### Třídimenzionální pole\n",
    "\n",
    "---"
   ]
  },
  {
   "cell_type": "code",
   "execution_count": 74,
   "id": "fee8115a-c379-48dd-86e5-591441801904",
   "metadata": {
    "tags": []
   },
   "outputs": [],
   "source": [
    "m3 = np.random.randint(10, size=(2, 3, 4))  # implicitní zadání \"high\""
   ]
  },
  {
   "cell_type": "code",
   "execution_count": 75,
   "id": "64ec9beb-c137-4bf1-9267-5f46fbfadcd6",
   "metadata": {
    "tags": []
   },
   "outputs": [
    {
     "data": {
      "text/plain": [
       "array([[[2, 3, 8, 7],\n",
       "        [5, 5, 2, 5],\n",
       "        [3, 6, 7, 5]],\n",
       "\n",
       "       [[3, 4, 8, 4],\n",
       "        [9, 1, 3, 8],\n",
       "        [8, 9, 8, 6]]])"
      ]
     },
     "execution_count": 75,
     "metadata": {},
     "output_type": "execute_result"
    }
   ],
   "source": [
    "m3"
   ]
  },
  {
   "cell_type": "markdown",
   "id": "9aa46537-c457-43c5-990d-f7367adc737a",
   "metadata": {},
   "source": [
    "<br>\n",
    "\n",
    "Definicí oznamuješ:\n",
    "1. `10`, vyber náhodné celé čísla z intervalu `0-9`,\n",
    "2. vytvoř **2 matice**,\n",
    "3. .. o **3 řádcích**,\n",
    "4. .. a **4 sloupcích**."
   ]
  },
  {
   "cell_type": "markdown",
   "id": "98baf75b-7133-49b3-a6de-a6b49f54674d",
   "metadata": {},
   "source": [
    "<br>\n",
    "\n",
    "### Dostupné atributy pro ARRAY objekt\n",
    "\n",
    "---\n",
    "\n"
   ]
  },
  {
   "cell_type": "markdown",
   "id": "fbe914ea-0473-48b9-81cc-09c57ad0286d",
   "metadata": {},
   "source": [
    "Pokud budeš potřebovat prozkoumat existující `array`, můžeš vyzkoušet tyto atributy a metody:\n",
    "1. **Dimenze**,\n",
    "2. **tvar**,\n",
    "3. **velikost**,\n",
    "4. **datové typy**,\n",
    "5. **bajtová velikost**."
   ]
  },
  {
   "cell_type": "markdown",
   "id": "88acdfef-0ce5-4a06-86ab-0dfe96245970",
   "metadata": {},
   "source": [
    "#### Dimenze matice\n",
    "\n",
    "---"
   ]
  },
  {
   "cell_type": "markdown",
   "id": "7a157aa5-7562-437b-993a-fe4864f4a9ca",
   "metadata": {},
   "source": [
    "Kontrola, zda máš vektor, matici nebo vícerozměrné pole."
   ]
  },
  {
   "cell_type": "code",
   "execution_count": 76,
   "id": "eace91e6-bd40-4ebf-a7d7-d872bcdf9b13",
   "metadata": {
    "tags": []
   },
   "outputs": [
    {
     "data": {
      "text/plain": [
       "3"
      ]
     },
     "execution_count": 76,
     "metadata": {},
     "output_type": "execute_result"
    }
   ],
   "source": [
    "m3.ndim"
   ]
  },
  {
   "cell_type": "code",
   "execution_count": 77,
   "id": "0e8a7ef7-e084-4b7a-a7d6-6e5026abd58c",
   "metadata": {
    "tags": []
   },
   "outputs": [
    {
     "data": {
      "text/plain": [
       "2"
      ]
     },
     "execution_count": 77,
     "metadata": {},
     "output_type": "execute_result"
    }
   ],
   "source": [
    "m2.ndim"
   ]
  },
  {
   "cell_type": "code",
   "execution_count": 78,
   "id": "ccda87e2-624a-41f0-b6c9-b876d86507c8",
   "metadata": {},
   "outputs": [
    {
     "data": {
      "text/plain": [
       "1"
      ]
     },
     "execution_count": 78,
     "metadata": {},
     "output_type": "execute_result"
    }
   ],
   "source": [
    "m1.ndim"
   ]
  },
  {
   "cell_type": "markdown",
   "id": "e419244f-6852-4b4c-9181-cbf67fe6240a",
   "metadata": {},
   "source": [
    "Potřebné pokud chceš:\n",
    "- přizpůsobení vstupu modelům (např. reshape pro strojové učení).\n",
    "- zpracování obrázků (např. RGB obrázek má ndim == 3, černobílý ndim == 2)."
   ]
  },
  {
   "cell_type": "markdown",
   "id": "ef2658d0-f36e-488c-89aa-6fea5ee53d21",
   "metadata": {},
   "source": [
    "<br>\n",
    "\n",
    "#### Tvar matice\n",
    "\n",
    "---"
   ]
  },
  {
   "cell_type": "markdown",
   "id": "e1e4efc1-0ca8-4bb4-b25d-a4a6e8a26098",
   "metadata": {},
   "source": [
    "Vrací tuple s počtem prvků v každé dimenzi."
   ]
  },
  {
   "cell_type": "code",
   "execution_count": 79,
   "id": "4ff953d9-8275-4a7e-b9d4-525da790c058",
   "metadata": {
    "tags": []
   },
   "outputs": [
    {
     "data": {
      "text/plain": [
       "(2, 3, 4)"
      ]
     },
     "execution_count": 79,
     "metadata": {},
     "output_type": "execute_result"
    }
   ],
   "source": [
    "m3.shape"
   ]
  },
  {
   "cell_type": "code",
   "execution_count": 80,
   "id": "0cd7341c-0194-44dd-99af-ec794945ea45",
   "metadata": {},
   "outputs": [
    {
     "data": {
      "text/plain": [
       "(2, 3)"
      ]
     },
     "execution_count": 80,
     "metadata": {},
     "output_type": "execute_result"
    }
   ],
   "source": [
    "m2.shape"
   ]
  },
  {
   "cell_type": "code",
   "execution_count": 82,
   "id": "83b4b0da-c544-424c-b38c-aeb35a9008ee",
   "metadata": {},
   "outputs": [
    {
     "data": {
      "text/plain": [
       "(6,)"
      ]
     },
     "execution_count": 82,
     "metadata": {},
     "output_type": "execute_result"
    }
   ],
   "source": [
    "m1.shape"
   ]
  },
  {
   "cell_type": "markdown",
   "id": "b26794a4-dc80-44ec-9061-f6b330c7d4b6",
   "metadata": {},
   "source": [
    "Kdy to potřebuješ?\n",
    "- Reshape dat pro vstup do neuronových sítí (`X.reshape(-1, 1)`)\n",
    "- Slučování (concatenace) polí – kontrola rozměrů\n",
    "- U obrázků: (výška, šířka, kanály)"
   ]
  },
  {
   "cell_type": "markdown",
   "id": "66e00548-a0ac-4974-a798-774dfb9a42d7",
   "metadata": {},
   "source": [
    "Obdoba, pomocí které řešíš rozměry tabulky v knihovně `pandas`."
   ]
  },
  {
   "cell_type": "markdown",
   "id": "7baa93da-6f15-4f89-89b7-aec3b329e604",
   "metadata": {},
   "source": [
    "<br>\n",
    "\n",
    "#### Velikost matice\n",
    "\n",
    "---"
   ]
  },
  {
   "cell_type": "markdown",
   "id": "4cc0d16c-b21d-452f-9a6c-8b64473062a6",
   "metadata": {},
   "source": [
    "Atribut zobrazí celkový počet prvků v poli.\n",
    "\n",
    "Kdy to potřebuješ?\n",
    "- Výpočty, kde ti nezáleží na tvaru, ale jen na počtu dat\n",
    "- Pro porovnání velikosti datových struktur\n",
    "- Iterace přes všechny prvky"
   ]
  },
  {
   "cell_type": "code",
   "execution_count": 84,
   "id": "819b137e-696a-4f33-a30b-7a58fb8df450",
   "metadata": {
    "tags": []
   },
   "outputs": [
    {
     "data": {
      "text/plain": [
       "24"
      ]
     },
     "execution_count": 84,
     "metadata": {},
     "output_type": "execute_result"
    }
   ],
   "source": [
    "m3.size"
   ]
  },
  {
   "cell_type": "code",
   "execution_count": 83,
   "id": "dac74886-af85-4104-99b2-34785602edda",
   "metadata": {},
   "outputs": [
    {
     "data": {
      "text/plain": [
       "6"
      ]
     },
     "execution_count": 83,
     "metadata": {},
     "output_type": "execute_result"
    }
   ],
   "source": [
    "m2.size"
   ]
  },
  {
   "cell_type": "code",
   "execution_count": 85,
   "id": "93409d32-4014-4898-963a-a395ef6f8be2",
   "metadata": {},
   "outputs": [
    {
     "data": {
      "text/plain": [
       "6"
      ]
     },
     "execution_count": 85,
     "metadata": {},
     "output_type": "execute_result"
    }
   ],
   "source": [
    "m1.size"
   ]
  },
  {
   "cell_type": "markdown",
   "id": "36e828a7-775d-495a-b399-b2ec7a915795",
   "metadata": {},
   "source": [
    "<br>\n",
    "\n",
    "#### Datový typ\n",
    "\n",
    "---"
   ]
  },
  {
   "cell_type": "code",
   "execution_count": 86,
   "id": "61453d44-7475-4615-a9ca-23e3f7d218fe",
   "metadata": {
    "tags": []
   },
   "outputs": [
    {
     "data": {
      "text/plain": [
       "dtype('int64')"
      ]
     },
     "execution_count": 86,
     "metadata": {},
     "output_type": "execute_result"
    }
   ],
   "source": [
    "m3.dtype"
   ]
  },
  {
   "cell_type": "markdown",
   "id": "bd255979-9bbb-41c1-a0b9-715ef2d00d14",
   "metadata": {},
   "source": [
    "<br>\n",
    "\n",
    "#### Velikost v bajtech\n",
    "\n",
    "---"
   ]
  },
  {
   "cell_type": "markdown",
   "id": "59e20cd6-8149-492c-a26b-5407b64b6cdc",
   "metadata": {},
   "source": [
    "Kdy to potřebuješ?\n",
    "\n",
    "- Když sleduješ **paměťovou náročnost** dat (např. u velkých datasetů)\n",
    "- **Optimalizace výkonu** – kolik paměti si objekt žádá\n",
    "- **V datové analytice / streamování** – odhad kolik se vejde do RAM nebo bufferu"
   ]
  },
  {
   "cell_type": "code",
   "execution_count": 87,
   "id": "f8861b88-64b9-461d-b052-eb1767a7d944",
   "metadata": {
    "tags": []
   },
   "outputs": [
    {
     "data": {
      "text/plain": [
       "192"
      ]
     },
     "execution_count": 87,
     "metadata": {},
     "output_type": "execute_result"
    }
   ],
   "source": [
    "m3.nbytes"
   ]
  },
  {
   "cell_type": "code",
   "execution_count": 88,
   "id": "3c46126d-f82a-45f6-98cb-2ae5876b5568",
   "metadata": {},
   "outputs": [],
   "source": [
    "arr = np.ones((1000, 1000), dtype=np.float64)"
   ]
  },
  {
   "cell_type": "code",
   "execution_count": 89,
   "id": "6af16016-fb2b-4c03-88b7-4e5bc58a3df2",
   "metadata": {},
   "outputs": [
    {
     "name": "stdout",
     "output_type": "stream",
     "text": [
      "8000000\n"
     ]
    }
   ],
   "source": [
    "print(arr.nbytes)  # 8 000 000 bajtů = 8 MB"
   ]
  },
  {
   "cell_type": "markdown",
   "id": "df070749-9502-487c-a895-873b8fbbcdb4",
   "metadata": {},
   "source": [
    "<br>\n",
    "\n",
    "Jde o součin atributů **size** * **itemsize**."
   ]
  },
  {
   "cell_type": "markdown",
   "id": "1cf3cd73-0852-41fd-af4e-7ad2b63ab2f2",
   "metadata": {},
   "source": [
    "<br>\n",
    "\n",
    "### Indexování ARRAY\n",
    "\n",
    "---\n",
    "\n"
   ]
  },
  {
   "cell_type": "markdown",
   "id": "aa376451-ccf4-4bef-85ff-aa4b85ac6588",
   "metadata": {},
   "source": [
    "Postup vypadá podobně jako pro sekvenční datové typy v Pythonu.\n",
    "\n",
    "Pomocí **hranaté závorky** a **celého čísla**, můžeš zpřístupnit konkrétní hodnotu/ hodnoty."
   ]
  },
  {
   "cell_type": "markdown",
   "id": "6b4c7594-1c9f-4dde-bcfa-9f1d2e5b0854",
   "metadata": {},
   "source": [
    "<br>\n",
    "\n",
    "#### Jednodimenzionální"
   ]
  },
  {
   "cell_type": "code",
   "execution_count": 90,
   "id": "c13585e4-4204-4fef-a41d-f42ddb6e9be8",
   "metadata": {
    "tags": []
   },
   "outputs": [
    {
     "data": {
      "text/plain": [
       "array([6, 3, 6, 8, 2, 3])"
      ]
     },
     "execution_count": 90,
     "metadata": {},
     "output_type": "execute_result"
    }
   ],
   "source": [
    "m1"
   ]
  },
  {
   "cell_type": "code",
   "execution_count": 91,
   "id": "31516677-d6db-4075-99e2-c20fe102eb18",
   "metadata": {
    "tags": []
   },
   "outputs": [
    {
     "data": {
      "text/plain": [
       "6"
      ]
     },
     "execution_count": 91,
     "metadata": {},
     "output_type": "execute_result"
    }
   ],
   "source": [
    "m1[0]"
   ]
  },
  {
   "cell_type": "code",
   "execution_count": 92,
   "id": "dc89440c-a552-49df-b8ec-07629b2a5d4e",
   "metadata": {
    "tags": []
   },
   "outputs": [
    {
     "data": {
      "text/plain": [
       "3"
      ]
     },
     "execution_count": 92,
     "metadata": {},
     "output_type": "execute_result"
    }
   ],
   "source": [
    "m1[1]"
   ]
  },
  {
   "cell_type": "code",
   "execution_count": 93,
   "id": "53fb2abe-1dd3-4ad6-a0ae-a37dcfa681c1",
   "metadata": {
    "tags": []
   },
   "outputs": [
    {
     "data": {
      "text/plain": [
       "3"
      ]
     },
     "execution_count": 93,
     "metadata": {},
     "output_type": "execute_result"
    }
   ],
   "source": [
    "m1[-1]"
   ]
  },
  {
   "cell_type": "markdown",
   "id": "cfb303f3-3df2-48c3-9088-05d371f28964",
   "metadata": {},
   "source": [
    "<br>\n",
    "\n",
    "#### Dvoudimenzionální\n",
    "\n",
    "---"
   ]
  },
  {
   "cell_type": "code",
   "execution_count": 94,
   "id": "2a0bbdfd-7738-4165-9d84-1e96e59d71c5",
   "metadata": {
    "tags": []
   },
   "outputs": [
    {
     "data": {
      "text/plain": [
       "array([[0, 8, 6],\n",
       "       [1, 4, 9]])"
      ]
     },
     "execution_count": 94,
     "metadata": {},
     "output_type": "execute_result"
    }
   ],
   "source": [
    "m2"
   ]
  },
  {
   "cell_type": "code",
   "execution_count": 95,
   "id": "255eb512-bcd6-4885-b261-3807afaf3c9d",
   "metadata": {
    "tags": []
   },
   "outputs": [
    {
     "data": {
      "text/plain": [
       "array([0, 8, 6])"
      ]
     },
     "execution_count": 95,
     "metadata": {},
     "output_type": "execute_result"
    }
   ],
   "source": [
    "m2[0]"
   ]
  },
  {
   "cell_type": "code",
   "execution_count": 96,
   "id": "f6c8e12c-40c8-4ad5-8d82-453aa5522273",
   "metadata": {
    "tags": []
   },
   "outputs": [
    {
     "data": {
      "text/plain": [
       "0"
      ]
     },
     "execution_count": 96,
     "metadata": {},
     "output_type": "execute_result"
    }
   ],
   "source": [
    "m2[0][0]"
   ]
  },
  {
   "cell_type": "code",
   "execution_count": 97,
   "id": "50a14692-f7d2-437f-8a68-32a7efc6d8c8",
   "metadata": {
    "tags": []
   },
   "outputs": [
    {
     "data": {
      "text/plain": [
       "0"
      ]
     },
     "execution_count": 97,
     "metadata": {},
     "output_type": "execute_result"
    }
   ],
   "source": [
    "m2[0, 0]"
   ]
  },
  {
   "cell_type": "markdown",
   "id": "8b93d058-5266-4329-9fc7-e749dce45c56",
   "metadata": {},
   "source": [
    "<br>\n",
    "\n",
    "Pomocí indexů zpřístupníš hodnotu na konkrétní pozici a můžeš ji modifikovat:"
   ]
  },
  {
   "cell_type": "code",
   "execution_count": 98,
   "id": "9a594ff9-e9d1-4d59-b3bb-da48fad7b20a",
   "metadata": {
    "tags": []
   },
   "outputs": [
    {
     "data": {
      "text/plain": [
       "array([[0, 8, 6],\n",
       "       [1, 4, 9]])"
      ]
     },
     "execution_count": 98,
     "metadata": {},
     "output_type": "execute_result"
    }
   ],
   "source": [
    "m2"
   ]
  },
  {
   "cell_type": "code",
   "execution_count": 99,
   "id": "441633bf-9a75-4f72-8db2-dfd02eb2fc33",
   "metadata": {
    "tags": []
   },
   "outputs": [],
   "source": [
    "el_m2 = m2[0, 0]"
   ]
  },
  {
   "cell_type": "code",
   "execution_count": 100,
   "id": "0b669f7a-9fc2-4b44-a0c7-fe711084b75a",
   "metadata": {
    "tags": []
   },
   "outputs": [
    {
     "data": {
      "text/plain": [
       "0"
      ]
     },
     "execution_count": 100,
     "metadata": {},
     "output_type": "execute_result"
    }
   ],
   "source": [
    "el_m2"
   ]
  },
  {
   "cell_type": "code",
   "execution_count": 101,
   "id": "6f68be9c-1d4e-4d4d-8454-508bcfedf761",
   "metadata": {
    "tags": []
   },
   "outputs": [],
   "source": [
    "m2[0, 0] = 11"
   ]
  },
  {
   "cell_type": "code",
   "execution_count": 102,
   "id": "38633021-274a-45c9-bc65-156ed1db62d4",
   "metadata": {
    "tags": []
   },
   "outputs": [
    {
     "data": {
      "text/plain": [
       "array([[11,  8,  6],\n",
       "       [ 1,  4,  9]])"
      ]
     },
     "execution_count": 102,
     "metadata": {},
     "output_type": "execute_result"
    }
   ],
   "source": [
    "m2"
   ]
  },
  {
   "cell_type": "markdown",
   "id": "dfdc5455-d57f-44a6-ab1c-0ba176161849",
   "metadata": {},
   "source": [
    "<br>\n",
    "\n",
    "Dávej pozor na datové typy. Pokud budeš chtít přidat jiný datový typ:"
   ]
  },
  {
   "cell_type": "code",
   "execution_count": 105,
   "id": "c44bf314-8d06-4e81-b8b5-eae7e5ca8315",
   "metadata": {},
   "outputs": [
    {
     "data": {
      "text/plain": [
       "dtype('int64')"
      ]
     },
     "execution_count": 105,
     "metadata": {},
     "output_type": "execute_result"
    }
   ],
   "source": [
    "m2.dtype"
   ]
  },
  {
   "cell_type": "code",
   "execution_count": 103,
   "id": "3f21ab0a-35c1-452b-8e30-9ec59f93b318",
   "metadata": {
    "tags": []
   },
   "outputs": [],
   "source": [
    "m2[0, 0] = 11.111"
   ]
  },
  {
   "cell_type": "code",
   "execution_count": 104,
   "id": "37196afb-99ce-452b-8874-85ffc467518f",
   "metadata": {
    "tags": []
   },
   "outputs": [
    {
     "data": {
      "text/plain": [
       "array([[11,  8,  6],\n",
       "       [ 1,  4,  9]])"
      ]
     },
     "execution_count": 104,
     "metadata": {},
     "output_type": "execute_result"
    }
   ],
   "source": [
    "m2"
   ]
  },
  {
   "cell_type": "markdown",
   "id": "a96124d0-f9f0-441a-a7a8-77c4bb3e5164",
   "metadata": {},
   "source": [
    "Výsledek bude na pozadí *truncatovaný*."
   ]
  },
  {
   "cell_type": "code",
   "execution_count": 107,
   "id": "b6a80f30-c80e-46ef-a59d-f670109e9181",
   "metadata": {
    "tags": []
   },
   "outputs": [],
   "source": [
    "# m2[0, 0] = \"jedenáct\"  # \"ValueError\""
   ]
  },
  {
   "cell_type": "markdown",
   "id": "416e803a-329b-4da1-84ff-224b550515b4",
   "metadata": {},
   "source": [
    "<br>\n",
    "\n",
    "### Slicing ARRAY\n",
    "\n",
    "---\n",
    "\n"
   ]
  },
  {
   "cell_type": "markdown",
   "id": "0879559b-e45e-4226-ab3c-4c395e7f2619",
   "metadata": {},
   "source": [
    "Podobně jako u zpřístupňování jednotlivých hodnot, můžeš tvořit *subarrays*.\n",
    "\n",
    "Postup je opět velmi podobný pro *slicing* u sekvenčních hodnot."
   ]
  },
  {
   "cell_type": "markdown",
   "id": "1770ef55-a20a-484a-94b0-fd9045040bd1",
   "metadata": {},
   "source": [
    "Je doporučené udávat všechny argumenty, protože implicitní dosazování defaultních hodnot může mást uživatele."
   ]
  },
  {
   "cell_type": "code",
   "execution_count": 108,
   "id": "0329c7bd-2e8d-49ee-9665-8c7c30ee1bd6",
   "metadata": {
    "tags": []
   },
   "outputs": [
    {
     "data": {
      "text/plain": [
       "array([[ 11,  79],\n",
       "       [ 66, 243],\n",
       "       [196, 924]])"
      ]
     },
     "execution_count": 108,
     "metadata": {},
     "output_type": "execute_result"
    }
   ],
   "source": [
    "zeme_arr"
   ]
  },
  {
   "cell_type": "code",
   "execution_count": 109,
   "id": "a938e821-4a87-4031-a37b-10b0ae786a2d",
   "metadata": {
    "tags": []
   },
   "outputs": [
    {
     "data": {
      "text/plain": [
       "array([[ 11,  79],\n",
       "       [ 66, 243]])"
      ]
     },
     "execution_count": 109,
     "metadata": {},
     "output_type": "execute_result"
    }
   ],
   "source": [
    "zeme_arr[0:2]"
   ]
  },
  {
   "cell_type": "code",
   "execution_count": 110,
   "id": "dcf5436d-7789-402d-95e5-09457597434f",
   "metadata": {
    "tags": []
   },
   "outputs": [
    {
     "data": {
      "text/plain": [
       "array([[ 66, 243],\n",
       "       [196, 924]])"
      ]
     },
     "execution_count": 110,
     "metadata": {},
     "output_type": "execute_result"
    }
   ],
   "source": [
    "zeme_arr[-2:]"
   ]
  },
  {
   "cell_type": "markdown",
   "id": "d35b1d77-d54b-47f0-bcac-a26c684a563e",
   "metadata": {},
   "source": [
    "<br>\n",
    "\n",
    "Pro více dimenzí, dva řádky a jeden sloupec:"
   ]
  },
  {
   "cell_type": "code",
   "execution_count": 111,
   "id": "1df07173-3038-4628-a7e1-0c90196a73d1",
   "metadata": {
    "tags": []
   },
   "outputs": [],
   "source": [
    "dva_radky_jeden_sloupec = zeme_arr[:2, :1]"
   ]
  },
  {
   "cell_type": "code",
   "execution_count": 112,
   "id": "fb1f20c4-9c41-45e9-9d64-a20ad0ea5a4b",
   "metadata": {
    "tags": []
   },
   "outputs": [
    {
     "data": {
      "text/plain": [
       "array([[11],\n",
       "       [66]])"
      ]
     },
     "execution_count": 112,
     "metadata": {},
     "output_type": "execute_result"
    }
   ],
   "source": [
    "dva_radky_jeden_sloupec"
   ]
  },
  {
   "cell_type": "code",
   "execution_count": 113,
   "id": "b6e2e956-5eac-4280-9935-727f0483972c",
   "metadata": {
    "tags": []
   },
   "outputs": [],
   "source": [
    "dva_radky_jeden_sloupec = zeme_arr[[1, 2], :1]"
   ]
  },
  {
   "cell_type": "markdown",
   "id": "df5cd1a6-07d9-4e60-9dd5-b78bab0e9d20",
   "metadata": {},
   "source": [
    "Je možné slicovat pomocí specifických indexů pro tabulku.\n",
    "\n",
    "<br>"
   ]
  },
  {
   "cell_type": "code",
   "execution_count": 116,
   "id": "76bd11fd-06ed-4921-ab44-e7a01ff51d60",
   "metadata": {
    "tags": []
   },
   "outputs": [
    {
     "data": {
      "text/plain": [
       "array([[ 66],\n",
       "       [196]])"
      ]
     },
     "execution_count": 116,
     "metadata": {},
     "output_type": "execute_result"
    }
   ],
   "source": [
    "dva_radky_jeden_sloupec"
   ]
  },
  {
   "cell_type": "code",
   "execution_count": 117,
   "id": "0ccc32e6-84fe-49f4-a4ba-f5ef523eddea",
   "metadata": {
    "tags": []
   },
   "outputs": [],
   "source": [
    "dva_radky_jeden_sloupec = zeme_arr[::2, :1]  # step=2"
   ]
  },
  {
   "cell_type": "code",
   "execution_count": 118,
   "id": "cbed3652-802a-4629-83e2-7ed444633189",
   "metadata": {
    "tags": []
   },
   "outputs": [
    {
     "data": {
      "text/plain": [
       "array([[ 11],\n",
       "       [196]])"
      ]
     },
     "execution_count": 118,
     "metadata": {},
     "output_type": "execute_result"
    }
   ],
   "source": [
    "dva_radky_jeden_sloupec"
   ]
  },
  {
   "cell_type": "markdown",
   "id": "0fae416a-5d58-4bab-b002-40e20fa4a222",
   "metadata": {},
   "source": [
    "<br>\n",
    "\n",
    "Pokud pracuješ se *subarrays*, používáš pohledy originální hodnoty.\n",
    "\n",
    "V Pythonu to byla většinou kopie, původního objektu:"
   ]
  },
  {
   "cell_type": "code",
   "execution_count": 120,
   "id": "07add701-078f-4455-aa03-f16921067759",
   "metadata": {},
   "outputs": [
    {
     "data": {
      "text/plain": [
       "array([[ 11,  79],\n",
       "       [ 66, 243],\n",
       "       [196, 924]])"
      ]
     },
     "execution_count": 120,
     "metadata": {},
     "output_type": "execute_result"
    }
   ],
   "source": [
    "zeme_arr"
   ]
  },
  {
   "cell_type": "code",
   "execution_count": 119,
   "id": "cd2aaa5a-35f1-4346-a2ee-5875da2d8881",
   "metadata": {
    "tags": []
   },
   "outputs": [
    {
     "data": {
      "text/plain": [
       "array([[ 11],\n",
       "       [196]])"
      ]
     },
     "execution_count": 119,
     "metadata": {},
     "output_type": "execute_result"
    }
   ],
   "source": [
    "dva_radky_jeden_sloupec"
   ]
  },
  {
   "cell_type": "code",
   "execution_count": 121,
   "id": "c7e9516b-91b9-4c5e-8fe1-c140f2c86cf2",
   "metadata": {
    "tags": []
   },
   "outputs": [],
   "source": [
    "dva_radky_jeden_sloupec[0, 0] = 13"
   ]
  },
  {
   "cell_type": "code",
   "execution_count": 122,
   "id": "30e98451-8ac7-4c7d-8464-56404c6b1480",
   "metadata": {
    "tags": []
   },
   "outputs": [
    {
     "data": {
      "text/plain": [
       "array([[ 13],\n",
       "       [196]])"
      ]
     },
     "execution_count": 122,
     "metadata": {},
     "output_type": "execute_result"
    }
   ],
   "source": [
    "dva_radky_jeden_sloupec"
   ]
  },
  {
   "cell_type": "code",
   "execution_count": 123,
   "id": "ef6fb1c7-4b30-46a7-976f-912912326896",
   "metadata": {
    "tags": []
   },
   "outputs": [
    {
     "data": {
      "text/plain": [
       "array([[ 13,  79],\n",
       "       [ 66, 243],\n",
       "       [196, 924]])"
      ]
     },
     "execution_count": 123,
     "metadata": {},
     "output_type": "execute_result"
    }
   ],
   "source": [
    "zeme_arr"
   ]
  },
  {
   "cell_type": "markdown",
   "id": "682c2b21-860f-4356-8528-f01194844934",
   "metadata": {},
   "source": [
    "<br>\n",
    "\n",
    "Pokud potřebuješ přesto nachystat kopii a ponechat původní hodnoty nezměněné, vyzkoušej metodu `copy`:"
   ]
  },
  {
   "cell_type": "code",
   "execution_count": 124,
   "id": "8115a375-88fd-443f-a671-3e0d3ebac7de",
   "metadata": {
    "tags": []
   },
   "outputs": [],
   "source": [
    "kopie_dva_radky_jeden_sloupec = zeme_arr[:2, :1].copy()  # Pozor!"
   ]
  },
  {
   "cell_type": "code",
   "execution_count": 125,
   "id": "e71c657c-90da-47d9-bbbc-a5f2be329bcf",
   "metadata": {
    "tags": []
   },
   "outputs": [
    {
     "data": {
      "text/plain": [
       "array([[13],\n",
       "       [66]])"
      ]
     },
     "execution_count": 125,
     "metadata": {},
     "output_type": "execute_result"
    }
   ],
   "source": [
    "kopie_dva_radky_jeden_sloupec"
   ]
  },
  {
   "cell_type": "code",
   "execution_count": 126,
   "id": "582ea2b1-86e5-4aa9-8f0c-0e9ec25eb716",
   "metadata": {},
   "outputs": [],
   "source": [
    "kopie_dva_radky_jeden_sloupec[0, 0] = 11"
   ]
  },
  {
   "cell_type": "code",
   "execution_count": 127,
   "id": "ca059456-96cd-47f6-83bc-26b6b6a828b0",
   "metadata": {},
   "outputs": [
    {
     "data": {
      "text/plain": [
       "array([[11],\n",
       "       [66]])"
      ]
     },
     "execution_count": 127,
     "metadata": {},
     "output_type": "execute_result"
    }
   ],
   "source": [
    "kopie_dva_radky_jeden_sloupec"
   ]
  },
  {
   "cell_type": "code",
   "execution_count": 128,
   "id": "ef2dc885-e50d-4938-9867-471154975697",
   "metadata": {
    "tags": []
   },
   "outputs": [
    {
     "data": {
      "text/plain": [
       "array([[ 13,  79],\n",
       "       [ 66, 243],\n",
       "       [196, 924]])"
      ]
     },
     "execution_count": 128,
     "metadata": {},
     "output_type": "execute_result"
    }
   ],
   "source": [
    "zeme_arr"
   ]
  },
  {
   "cell_type": "markdown",
   "id": "9542bcb7-56e2-433d-8eb3-cac474f57000",
   "metadata": {},
   "source": [
    "<br>\n",
    "\n",
    "### Přetváření ARRAY\n",
    "\n",
    "---\n",
    "\n"
   ]
  },
  {
   "cell_type": "markdown",
   "id": "530f9edf-63f0-4fd0-80eb-390cad3a9df9",
   "metadata": {},
   "source": [
    "Jestli budeš potřebovat změnit tvar pole nebo matice, vyzkoušej metodu `reshape`:"
   ]
  },
  {
   "cell_type": "code",
   "execution_count": 129,
   "id": "980be446-2c73-4fb0-8d96-25748a1d6045",
   "metadata": {
    "tags": []
   },
   "outputs": [
    {
     "data": {
      "text/html": [
       "<div>\n",
       "<style scoped>\n",
       "    .dataframe tbody tr th:only-of-type {\n",
       "        vertical-align: middle;\n",
       "    }\n",
       "\n",
       "    .dataframe tbody tr th {\n",
       "        vertical-align: top;\n",
       "    }\n",
       "\n",
       "    .dataframe thead th {\n",
       "        text-align: right;\n",
       "    }\n",
       "</style>\n",
       "<table border=\"1\" class=\"dataframe\">\n",
       "  <thead>\n",
       "    <tr style=\"text-align: right;\">\n",
       "      <th></th>\n",
       "      <th>population</th>\n",
       "      <th>surface_area</th>\n",
       "    </tr>\n",
       "  </thead>\n",
       "  <tbody>\n",
       "    <tr>\n",
       "      <th>CZE</th>\n",
       "      <td>11</td>\n",
       "      <td>79</td>\n",
       "    </tr>\n",
       "    <tr>\n",
       "      <th>UK</th>\n",
       "      <td>66</td>\n",
       "      <td>243</td>\n",
       "    </tr>\n",
       "    <tr>\n",
       "      <th>Nigeria</th>\n",
       "      <td>196</td>\n",
       "      <td>924</td>\n",
       "    </tr>\n",
       "  </tbody>\n",
       "</table>\n",
       "</div>"
      ],
      "text/plain": [
       "         population  surface_area\n",
       "CZE              11            79\n",
       "UK               66           243\n",
       "Nigeria         196           924"
      ]
     },
     "execution_count": 129,
     "metadata": {},
     "output_type": "execute_result"
    }
   ],
   "source": [
    "zeme_df"
   ]
  },
  {
   "cell_type": "code",
   "execution_count": 130,
   "id": "5d77fc94-0f93-42d0-b465-927f4930fb7a",
   "metadata": {
    "tags": []
   },
   "outputs": [],
   "source": [
    "zeme_arr[0, 0] = 11"
   ]
  },
  {
   "cell_type": "code",
   "execution_count": 131,
   "id": "321db73c-91c3-4644-81d0-6326ba91e160",
   "metadata": {
    "tags": []
   },
   "outputs": [
    {
     "data": {
      "text/plain": [
       "array([[ 11,  79],\n",
       "       [ 66, 243],\n",
       "       [196, 924]])"
      ]
     },
     "execution_count": 131,
     "metadata": {},
     "output_type": "execute_result"
    }
   ],
   "source": [
    "zeme_arr"
   ]
  },
  {
   "cell_type": "markdown",
   "id": "4935d824-34a5-45c8-a915-56b20b7de1bb",
   "metadata": {},
   "source": [
    "<br>\n",
    "\n",
    "Vytvoříš si jednodimenzionální pole s pomocí funkce `arange`:"
   ]
  },
  {
   "cell_type": "code",
   "execution_count": 132,
   "id": "3b2769cf-f894-41c4-b664-ee2894633ebb",
   "metadata": {
    "tags": []
   },
   "outputs": [],
   "source": [
    "pole_1D = np.arange(1, 11)"
   ]
  },
  {
   "cell_type": "code",
   "execution_count": 133,
   "id": "04f5eb3c-49fd-439a-829e-a3783c994ca6",
   "metadata": {
    "tags": []
   },
   "outputs": [
    {
     "data": {
      "text/plain": [
       "array([ 1,  2,  3,  4,  5,  6,  7,  8,  9, 10])"
      ]
     },
     "execution_count": 133,
     "metadata": {},
     "output_type": "execute_result"
    }
   ],
   "source": [
    "pole_1D"
   ]
  },
  {
   "cell_type": "markdown",
   "id": "3bc3ed4e-3a57-45cf-9512-fc5aa50450ce",
   "metadata": {},
   "source": [
    "<br>\n",
    "\n",
    "Nachystám 2D pole, matici, pomocí metody `reshape`:"
   ]
  },
  {
   "cell_type": "code",
   "execution_count": 134,
   "id": "db345708-5a50-4069-a91f-5c7a3e492132",
   "metadata": {
    "tags": []
   },
   "outputs": [],
   "source": [
    "matice = pole_1D.reshape(2, 5)"
   ]
  },
  {
   "cell_type": "code",
   "execution_count": 135,
   "id": "04b5ec2d-fe55-4f19-8830-2d33a3298f79",
   "metadata": {
    "tags": []
   },
   "outputs": [
    {
     "data": {
      "text/plain": [
       "array([[ 1,  2,  3,  4,  5],\n",
       "       [ 6,  7,  8,  9, 10]])"
      ]
     },
     "execution_count": 135,
     "metadata": {},
     "output_type": "execute_result"
    }
   ],
   "source": [
    "matice"
   ]
  },
  {
   "cell_type": "markdown",
   "id": "529208c9-7336-4f53-a73e-302d978deaac",
   "metadata": {},
   "source": [
    "<br>\n",
    "\n",
    "Pomocí metody `reshape` můžeš také měnit **řádkový vektor za sloupcový**:"
   ]
  },
  {
   "cell_type": "code",
   "execution_count": 136,
   "id": "5b928e44-10ad-4624-b8bd-efd1bf74c537",
   "metadata": {
    "tags": []
   },
   "outputs": [],
   "source": [
    "import numpy as np"
   ]
  },
  {
   "cell_type": "code",
   "execution_count": 137,
   "id": "b2f7fe5b-1b86-4a9c-839d-7cadac5b6238",
   "metadata": {
    "tags": []
   },
   "outputs": [],
   "source": [
    "radkovy_vektor = np.array((11, 22, 33, 44))"
   ]
  },
  {
   "cell_type": "code",
   "execution_count": 138,
   "id": "704ece22-59bb-4033-9a13-be58d43cfa98",
   "metadata": {
    "tags": []
   },
   "outputs": [
    {
     "data": {
      "text/plain": [
       "array([11, 22, 33, 44])"
      ]
     },
     "execution_count": 138,
     "metadata": {},
     "output_type": "execute_result"
    }
   ],
   "source": [
    "radkovy_vektor"
   ]
  },
  {
   "cell_type": "code",
   "execution_count": 139,
   "id": "4c513ae7-bfed-4e1e-a72a-a925081b57a6",
   "metadata": {
    "tags": []
   },
   "outputs": [],
   "source": [
    "r =  radkovy_vektor[np.newaxis, :]"
   ]
  },
  {
   "cell_type": "code",
   "execution_count": 140,
   "id": "13925d0e-c45e-4f91-baea-e02f03aed750",
   "metadata": {
    "tags": []
   },
   "outputs": [
    {
     "data": {
      "text/plain": [
       "array([[11, 22, 33, 44]])"
      ]
     },
     "execution_count": 140,
     "metadata": {},
     "output_type": "execute_result"
    }
   ],
   "source": [
    "r"
   ]
  },
  {
   "cell_type": "code",
   "execution_count": 141,
   "id": "f3b7131e-7d51-44c2-ad5b-086e2a6f8aff",
   "metadata": {
    "tags": []
   },
   "outputs": [
    {
     "data": {
      "text/plain": [
       "array([[11],\n",
       "       [22],\n",
       "       [33],\n",
       "       [44]])"
      ]
     },
     "execution_count": 141,
     "metadata": {},
     "output_type": "execute_result"
    }
   ],
   "source": [
    "r.T"
   ]
  },
  {
   "cell_type": "code",
   "execution_count": 142,
   "id": "9275201f-7e48-4ea7-aceb-9258beec5d1e",
   "metadata": {
    "tags": []
   },
   "outputs": [
    {
     "data": {
      "text/plain": [
       "array([[11],\n",
       "       [22],\n",
       "       [33],\n",
       "       [44]])"
      ]
     },
     "execution_count": 142,
     "metadata": {},
     "output_type": "execute_result"
    }
   ],
   "source": [
    "radkovy_vektor[:, np.newaxis]"
   ]
  },
  {
   "cell_type": "code",
   "execution_count": null,
   "id": "3e1617bf-3a63-4fe6-8159-fb44bcedd894",
   "metadata": {
    "tags": []
   },
   "outputs": [],
   "source": [
    "x = np.expand_dims(radkovy_vektor, axis=1)"
   ]
  },
  {
   "cell_type": "code",
   "execution_count": null,
   "id": "7d8f704a-02c9-410a-8235-80771754c251",
   "metadata": {
    "tags": []
   },
   "outputs": [],
   "source": [
    "x = np.expand_dims(radkovy_vektor, axis=0)"
   ]
  },
  {
   "cell_type": "code",
   "execution_count": null,
   "id": "c0192b11-20f0-4670-98aa-b476b05af73c",
   "metadata": {
    "tags": []
   },
   "outputs": [],
   "source": [
    "# np.expand_dims?"
   ]
  },
  {
   "cell_type": "code",
   "execution_count": null,
   "id": "6056ba71-4fb2-4476-b346-d6dd676674eb",
   "metadata": {
    "tags": []
   },
   "outputs": [],
   "source": [
    "x"
   ]
  },
  {
   "cell_type": "markdown",
   "id": "581539a5-2413-4b03-a323-c570ecb378f9",
   "metadata": {},
   "source": [
    "#### Ukázka\n",
    "\n",
    "---"
   ]
  },
  {
   "cell_type": "markdown",
   "id": "03dd7666-2629-4af1-ab37-c25739648da9",
   "metadata": {},
   "source": [
    "Potřebuješ převést 1D pole na 2D matici, kde budeš mít 7 hodnot na řádek."
   ]
  },
  {
   "cell_type": "code",
   "execution_count": 143,
   "id": "17bf9a6f-004f-452c-967b-4940fb53e28a",
   "metadata": {
    "tags": []
   },
   "outputs": [],
   "source": [
    "temp_data = np.random.uniform(15, 36, size=30*7)  # 1D"
   ]
  },
  {
   "cell_type": "code",
   "execution_count": 144,
   "id": "3c48c540-7b85-4b84-9606-06d332e08dc1",
   "metadata": {
    "tags": []
   },
   "outputs": [
    {
     "data": {
      "text/plain": [
       "array([33.07199097, 28.10447555, 15.40469671, 19.79651665, 29.31999401,\n",
       "       32.34625857, 19.52112496, 17.20188239, 19.85208063, 25.8826323 ,\n",
       "       34.72165461, 31.72000348, 17.68303765, 22.36672798, 18.70780875,\n",
       "       25.9527875 , 17.07641568, 24.57816638, 27.8670483 , 30.42768052,\n",
       "       35.17623972, 21.47064083, 25.76037341, 17.75347059, 21.59829276,\n",
       "       17.51609162, 16.07627734, 20.95636921, 21.13793958, 28.09422961,\n",
       "       22.071702  , 26.01484565, 15.29288982, 30.63176655, 31.06896258,\n",
       "       19.91899971, 22.42831061, 35.38031307, 30.54630149, 27.20682771,\n",
       "       32.52329513, 30.26451463, 17.75580601, 16.51416411, 34.28019956,\n",
       "       16.00755806, 18.41881921, 35.96921656, 17.6454205 , 33.05364984,\n",
       "       22.98906593, 25.05457733, 18.90831848, 22.62087569, 24.88828036,\n",
       "       16.93666697, 31.67822685, 17.87873849, 35.91581475, 19.36303681,\n",
       "       24.28972499, 17.79838621, 22.02012983, 31.0898541 , 16.29348221,\n",
       "       18.56301893, 31.63241688, 33.15311248, 21.5435544 , 30.07443014,\n",
       "       15.90484863, 18.60163164, 33.2598691 , 23.2921983 , 19.0712448 ,\n",
       "       20.34799756, 34.45900561, 22.76324206, 23.19675258, 32.57278112,\n",
       "       26.47233137, 26.02807374, 29.37073981, 31.91996737, 28.31931301,\n",
       "       20.52064734, 18.11059284, 24.67295933, 32.76725275, 19.54368028,\n",
       "       23.91020517, 18.86253276, 15.74346441, 19.82496741, 20.78659324,\n",
       "       26.22929454, 29.52660243, 17.86170258, 34.99130578, 35.67135925,\n",
       "       23.31984034, 30.33606384, 21.97719299, 32.05552056, 21.07813188,\n",
       "       29.93199672, 21.61309146, 20.48746585, 26.9452419 , 27.80645091,\n",
       "       31.30273349, 23.55812017, 32.15066762, 34.52948961, 29.60182335,\n",
       "       24.61647966, 19.67512845, 16.61252967, 31.02832552, 34.41606809,\n",
       "       22.72221845, 31.900613  , 22.54569177, 15.02040291, 24.00401061,\n",
       "       19.92663866, 16.05887451, 29.40757219, 22.80734249, 26.47371179,\n",
       "       35.882475  , 35.17888302, 15.19264764, 17.69438437, 17.69942497,\n",
       "       30.53490945, 17.57912073, 26.5977857 , 33.16073446, 30.0288794 ,\n",
       "       27.61224184, 26.51591478, 18.671001  , 26.20489895, 30.16793359,\n",
       "       23.66587085, 16.48203025, 21.37177341, 19.20750388, 26.83762382,\n",
       "       27.91319714, 24.25581485, 24.10362861, 26.78810045, 32.47268218,\n",
       "       34.58772278, 29.09042169, 19.49020563, 15.62898266, 34.15515124,\n",
       "       27.82140298, 30.5290992 , 27.84947408, 32.75304597, 15.44048441,\n",
       "       29.23531028, 33.8942245 , 21.00809423, 32.95299088, 26.97555386,\n",
       "       17.19889667, 29.08714986, 15.12230122, 20.69650194, 27.64646049,\n",
       "       32.31775143, 16.28638341, 18.51639447, 34.42148723, 17.75956551,\n",
       "       24.28933943, 26.38443898, 19.0563967 , 16.08838661, 17.58491608,\n",
       "       18.28396843, 32.6841993 , 18.35733136, 16.43516441, 35.75670504,\n",
       "       20.46430912, 27.15609339, 32.73803724, 24.47597387, 24.74463038,\n",
       "       29.7812514 , 19.46965535, 31.71643314, 18.8899878 , 17.80138407,\n",
       "       29.35407438, 34.85720703, 30.20795174, 21.75095548, 24.19980602,\n",
       "       16.46738232, 17.49531707, 18.75820487, 18.76080891, 22.68774506])"
      ]
     },
     "execution_count": 144,
     "metadata": {},
     "output_type": "execute_result"
    }
   ],
   "source": [
    "temp_data"
   ]
  },
  {
   "cell_type": "code",
   "execution_count": 146,
   "id": "a8fbd158-7bc1-4d7c-848f-a618f30a662f",
   "metadata": {
    "tags": []
   },
   "outputs": [
    {
     "data": {
      "text/plain": [
       "(210,)"
      ]
     },
     "execution_count": 146,
     "metadata": {},
     "output_type": "execute_result"
    }
   ],
   "source": [
    "temp_data.shape"
   ]
  },
  {
   "cell_type": "code",
   "execution_count": 145,
   "id": "c3ae78d0-87b4-451f-b0b0-46c375637233",
   "metadata": {
    "tags": []
   },
   "outputs": [
    {
     "data": {
      "text/plain": [
       "1"
      ]
     },
     "execution_count": 145,
     "metadata": {},
     "output_type": "execute_result"
    }
   ],
   "source": [
    "temp_data.ndim"
   ]
  },
  {
   "cell_type": "code",
   "execution_count": null,
   "id": "85f0b40d-7c37-4c2e-9ed7-542eb81de1ef",
   "metadata": {},
   "outputs": [],
   "source": [
    "############ Po Ut St Ct Pa So Ne\n",
    "#01. tyden\n",
    "#02. tyden\n",
    "#03.\n",
    "#..."
   ]
  },
  {
   "cell_type": "code",
   "execution_count": 147,
   "id": "136eb682-2205-40e9-ba6d-29e3de97c26f",
   "metadata": {
    "tags": []
   },
   "outputs": [
    {
     "ename": "ValueError",
     "evalue": "cannot reshape array of size 210 into shape (2,7)",
     "output_type": "error",
     "traceback": [
      "\u001b[0;31m---------------------------------------------------------------------------\u001b[0m",
      "\u001b[0;31mValueError\u001b[0m                                Traceback (most recent call last)",
      "Cell \u001b[0;32mIn[147], line 1\u001b[0m\n\u001b[0;32m----> 1\u001b[0m \u001b[43mtemp_data\u001b[49m\u001b[38;5;241;43m.\u001b[39;49m\u001b[43mreshape\u001b[49m\u001b[43m(\u001b[49m\u001b[38;5;241;43m2\u001b[39;49m\u001b[43m,\u001b[49m\u001b[43m \u001b[49m\u001b[38;5;241;43m7\u001b[39;49m\u001b[43m)\u001b[49m  \u001b[38;5;66;03m# ValueError\u001b[39;00m\n",
      "\u001b[0;31mValueError\u001b[0m: cannot reshape array of size 210 into shape (2,7)"
     ]
    }
   ],
   "source": [
    "temp_data.reshape(2, 7)  # ValueError"
   ]
  },
  {
   "cell_type": "markdown",
   "id": "1f9c33e3-31f2-4a28-a0bf-b2000bd6f63f",
   "metadata": {},
   "source": [
    "Opatrně na nesoulad hodnot.\n",
    "\n",
    "Tvůj původní array má **210 prvků → tedy `size` = 210**\n",
    "\n",
    "Při `reshape(2, 7)` říkáš:\n",
    "*\"Chci z těchto dat vytvořit matici 2 řádků a 7 sloupců\"*\n",
    "\n",
    "Ale **2 × 7 = 14** → a **14 ≠ 210**/\n",
    "\n",
    "Proto interpret oznamuje chybu, protože velikosti nesouhlasí."
   ]
  },
  {
   "cell_type": "code",
   "execution_count": 150,
   "id": "6e33fa33-6919-4984-8ae7-ae56f3cc38f4",
   "metadata": {
    "tags": []
   },
   "outputs": [],
   "source": [
    "tydenni_data = temp_data.reshape(-1, 7)"
   ]
  },
  {
   "cell_type": "markdown",
   "id": "ee485629-e860-4a45-a849-e2a729604e98",
   "metadata": {},
   "source": [
    "Pokud zadáš argument `-1` udělá interpret 2D matici, kde každý řádek má 7 sloupců — a `numpy` dopočítá, kolik těch řádků je potřeba.“"
   ]
  },
  {
   "cell_type": "code",
   "execution_count": 151,
   "id": "cd4911db-b46b-4945-b1e3-6461258bdadd",
   "metadata": {
    "tags": []
   },
   "outputs": [
    {
     "data": {
      "text/plain": [
       "(30, 7)"
      ]
     },
     "execution_count": 151,
     "metadata": {},
     "output_type": "execute_result"
    }
   ],
   "source": [
    "tydenni_data.shape"
   ]
  },
  {
   "cell_type": "code",
   "execution_count": 153,
   "id": "dbb5c2ee-ad69-4873-ade4-0196ef14609e",
   "metadata": {
    "tags": []
   },
   "outputs": [
    {
     "data": {
      "text/plain": [
       "2"
      ]
     },
     "execution_count": 153,
     "metadata": {},
     "output_type": "execute_result"
    }
   ],
   "source": [
    "tydenni_data.ndim"
   ]
  },
  {
   "cell_type": "code",
   "execution_count": 154,
   "id": "75e88e73-fd64-4a20-a52e-79a100744028",
   "metadata": {
    "tags": []
   },
   "outputs": [
    {
     "ename": "ValueError",
     "evalue": "cannot reshape array of size 210 into shape (20,10)",
     "output_type": "error",
     "traceback": [
      "\u001b[0;31m---------------------------------------------------------------------------\u001b[0m",
      "\u001b[0;31mValueError\u001b[0m                                Traceback (most recent call last)",
      "Cell \u001b[0;32mIn[154], line 1\u001b[0m\n\u001b[0;32m----> 1\u001b[0m tydenni_data \u001b[38;5;241m=\u001b[39m \u001b[43mtemp_data\u001b[49m\u001b[38;5;241;43m.\u001b[39;49m\u001b[43mreshape\u001b[49m\u001b[43m(\u001b[49m\u001b[38;5;241;43m20\u001b[39;49m\u001b[43m,\u001b[49m\u001b[43m \u001b[49m\u001b[38;5;241;43m10\u001b[39;49m\u001b[43m)\u001b[49m\n",
      "\u001b[0;31mValueError\u001b[0m: cannot reshape array of size 210 into shape (20,10)"
     ]
    }
   ],
   "source": [
    "tydenni_data = temp_data.reshape(20, 10)"
   ]
  },
  {
   "cell_type": "code",
   "execution_count": 155,
   "id": "5df66d67-bec4-4bef-a59e-69462d65f7c4",
   "metadata": {
    "tags": []
   },
   "outputs": [],
   "source": [
    "tydenni_data = temp_data.reshape(-1, 10)"
   ]
  },
  {
   "cell_type": "code",
   "execution_count": 156,
   "id": "dcace3dc-26ac-49b7-a0a8-9b8155723a34",
   "metadata": {},
   "outputs": [
    {
     "data": {
      "text/plain": [
       "array([[33.07199097, 28.10447555, 15.40469671, 19.79651665, 29.31999401,\n",
       "        32.34625857, 19.52112496, 17.20188239, 19.85208063, 25.8826323 ],\n",
       "       [34.72165461, 31.72000348, 17.68303765, 22.36672798, 18.70780875,\n",
       "        25.9527875 , 17.07641568, 24.57816638, 27.8670483 , 30.42768052],\n",
       "       [35.17623972, 21.47064083, 25.76037341, 17.75347059, 21.59829276,\n",
       "        17.51609162, 16.07627734, 20.95636921, 21.13793958, 28.09422961],\n",
       "       [22.071702  , 26.01484565, 15.29288982, 30.63176655, 31.06896258,\n",
       "        19.91899971, 22.42831061, 35.38031307, 30.54630149, 27.20682771],\n",
       "       [32.52329513, 30.26451463, 17.75580601, 16.51416411, 34.28019956,\n",
       "        16.00755806, 18.41881921, 35.96921656, 17.6454205 , 33.05364984],\n",
       "       [22.98906593, 25.05457733, 18.90831848, 22.62087569, 24.88828036,\n",
       "        16.93666697, 31.67822685, 17.87873849, 35.91581475, 19.36303681],\n",
       "       [24.28972499, 17.79838621, 22.02012983, 31.0898541 , 16.29348221,\n",
       "        18.56301893, 31.63241688, 33.15311248, 21.5435544 , 30.07443014],\n",
       "       [15.90484863, 18.60163164, 33.2598691 , 23.2921983 , 19.0712448 ,\n",
       "        20.34799756, 34.45900561, 22.76324206, 23.19675258, 32.57278112],\n",
       "       [26.47233137, 26.02807374, 29.37073981, 31.91996737, 28.31931301,\n",
       "        20.52064734, 18.11059284, 24.67295933, 32.76725275, 19.54368028],\n",
       "       [23.91020517, 18.86253276, 15.74346441, 19.82496741, 20.78659324,\n",
       "        26.22929454, 29.52660243, 17.86170258, 34.99130578, 35.67135925],\n",
       "       [23.31984034, 30.33606384, 21.97719299, 32.05552056, 21.07813188,\n",
       "        29.93199672, 21.61309146, 20.48746585, 26.9452419 , 27.80645091],\n",
       "       [31.30273349, 23.55812017, 32.15066762, 34.52948961, 29.60182335,\n",
       "        24.61647966, 19.67512845, 16.61252967, 31.02832552, 34.41606809],\n",
       "       [22.72221845, 31.900613  , 22.54569177, 15.02040291, 24.00401061,\n",
       "        19.92663866, 16.05887451, 29.40757219, 22.80734249, 26.47371179],\n",
       "       [35.882475  , 35.17888302, 15.19264764, 17.69438437, 17.69942497,\n",
       "        30.53490945, 17.57912073, 26.5977857 , 33.16073446, 30.0288794 ],\n",
       "       [27.61224184, 26.51591478, 18.671001  , 26.20489895, 30.16793359,\n",
       "        23.66587085, 16.48203025, 21.37177341, 19.20750388, 26.83762382],\n",
       "       [27.91319714, 24.25581485, 24.10362861, 26.78810045, 32.47268218,\n",
       "        34.58772278, 29.09042169, 19.49020563, 15.62898266, 34.15515124],\n",
       "       [27.82140298, 30.5290992 , 27.84947408, 32.75304597, 15.44048441,\n",
       "        29.23531028, 33.8942245 , 21.00809423, 32.95299088, 26.97555386],\n",
       "       [17.19889667, 29.08714986, 15.12230122, 20.69650194, 27.64646049,\n",
       "        32.31775143, 16.28638341, 18.51639447, 34.42148723, 17.75956551],\n",
       "       [24.28933943, 26.38443898, 19.0563967 , 16.08838661, 17.58491608,\n",
       "        18.28396843, 32.6841993 , 18.35733136, 16.43516441, 35.75670504],\n",
       "       [20.46430912, 27.15609339, 32.73803724, 24.47597387, 24.74463038,\n",
       "        29.7812514 , 19.46965535, 31.71643314, 18.8899878 , 17.80138407],\n",
       "       [29.35407438, 34.85720703, 30.20795174, 21.75095548, 24.19980602,\n",
       "        16.46738232, 17.49531707, 18.75820487, 18.76080891, 22.68774506]])"
      ]
     },
     "execution_count": 156,
     "metadata": {},
     "output_type": "execute_result"
    }
   ],
   "source": [
    "tydenni_data"
   ]
  },
  {
   "cell_type": "code",
   "execution_count": 157,
   "id": "bc832a76-5b60-46e0-81dd-a5d74a3f6f4e",
   "metadata": {},
   "outputs": [
    {
     "ename": "ValueError",
     "evalue": "cannot reshape array of size 210 into shape (20,5)",
     "output_type": "error",
     "traceback": [
      "\u001b[0;31m---------------------------------------------------------------------------\u001b[0m",
      "\u001b[0;31mValueError\u001b[0m                                Traceback (most recent call last)",
      "Cell \u001b[0;32mIn[157], line 1\u001b[0m\n\u001b[0;32m----> 1\u001b[0m nezname_sloupce \u001b[38;5;241m=\u001b[39m \u001b[43mtemp_data\u001b[49m\u001b[38;5;241;43m.\u001b[39;49m\u001b[43mreshape\u001b[49m\u001b[43m(\u001b[49m\u001b[38;5;241;43m20\u001b[39;49m\u001b[43m,\u001b[49m\u001b[43m \u001b[49m\u001b[38;5;241;43m5\u001b[39;49m\u001b[43m)\u001b[49m\n",
      "\u001b[0;31mValueError\u001b[0m: cannot reshape array of size 210 into shape (20,5)"
     ]
    }
   ],
   "source": [
    "nezname_sloupce = temp_data.reshape(20, 5)"
   ]
  },
  {
   "cell_type": "code",
   "execution_count": 158,
   "id": "4b3a22c1-a803-4762-a212-f11c23c891e5",
   "metadata": {},
   "outputs": [
    {
     "ename": "ValueError",
     "evalue": "cannot reshape array of size 210 into shape (20,newaxis)",
     "output_type": "error",
     "traceback": [
      "\u001b[0;31m---------------------------------------------------------------------------\u001b[0m",
      "\u001b[0;31mValueError\u001b[0m                                Traceback (most recent call last)",
      "Cell \u001b[0;32mIn[158], line 1\u001b[0m\n\u001b[0;32m----> 1\u001b[0m nezname_sloupce \u001b[38;5;241m=\u001b[39m \u001b[43mtemp_data\u001b[49m\u001b[38;5;241;43m.\u001b[39;49m\u001b[43mreshape\u001b[49m\u001b[43m(\u001b[49m\u001b[38;5;241;43m20\u001b[39;49m\u001b[43m,\u001b[49m\u001b[43m \u001b[49m\u001b[38;5;241;43m-\u001b[39;49m\u001b[38;5;241;43m1\u001b[39;49m\u001b[43m)\u001b[49m\n",
      "\u001b[0;31mValueError\u001b[0m: cannot reshape array of size 210 into shape (20,newaxis)"
     ]
    }
   ],
   "source": [
    "nezname_sloupce = temp_data.reshape(20, -1)"
   ]
  },
  {
   "cell_type": "code",
   "execution_count": 164,
   "id": "21e39a75-54dd-4109-9839-ffe64653b4ed",
   "metadata": {},
   "outputs": [],
   "source": [
    "r2 =  temp_data[np.newaxis, :]"
   ]
  },
  {
   "cell_type": "code",
   "execution_count": 165,
   "id": "7a60e6c3-c907-4600-8475-3b174c462301",
   "metadata": {},
   "outputs": [],
   "source": [
    "r2 = r2.T"
   ]
  },
  {
   "cell_type": "code",
   "execution_count": 166,
   "id": "4d50a0c2-7809-4916-9cd7-03d3c303732a",
   "metadata": {},
   "outputs": [
    {
     "data": {
      "text/plain": [
       "array([[33.07199097],\n",
       "       [28.10447555],\n",
       "       [15.40469671],\n",
       "       [19.79651665],\n",
       "       [29.31999401],\n",
       "       [32.34625857],\n",
       "       [19.52112496],\n",
       "       [17.20188239],\n",
       "       [19.85208063],\n",
       "       [25.8826323 ],\n",
       "       [34.72165461],\n",
       "       [31.72000348],\n",
       "       [17.68303765],\n",
       "       [22.36672798],\n",
       "       [18.70780875],\n",
       "       [25.9527875 ],\n",
       "       [17.07641568],\n",
       "       [24.57816638],\n",
       "       [27.8670483 ],\n",
       "       [30.42768052],\n",
       "       [35.17623972],\n",
       "       [21.47064083],\n",
       "       [25.76037341],\n",
       "       [17.75347059],\n",
       "       [21.59829276],\n",
       "       [17.51609162],\n",
       "       [16.07627734],\n",
       "       [20.95636921],\n",
       "       [21.13793958],\n",
       "       [28.09422961],\n",
       "       [22.071702  ],\n",
       "       [26.01484565],\n",
       "       [15.29288982],\n",
       "       [30.63176655],\n",
       "       [31.06896258],\n",
       "       [19.91899971],\n",
       "       [22.42831061],\n",
       "       [35.38031307],\n",
       "       [30.54630149],\n",
       "       [27.20682771],\n",
       "       [32.52329513],\n",
       "       [30.26451463],\n",
       "       [17.75580601],\n",
       "       [16.51416411],\n",
       "       [34.28019956],\n",
       "       [16.00755806],\n",
       "       [18.41881921],\n",
       "       [35.96921656],\n",
       "       [17.6454205 ],\n",
       "       [33.05364984],\n",
       "       [22.98906593],\n",
       "       [25.05457733],\n",
       "       [18.90831848],\n",
       "       [22.62087569],\n",
       "       [24.88828036],\n",
       "       [16.93666697],\n",
       "       [31.67822685],\n",
       "       [17.87873849],\n",
       "       [35.91581475],\n",
       "       [19.36303681],\n",
       "       [24.28972499],\n",
       "       [17.79838621],\n",
       "       [22.02012983],\n",
       "       [31.0898541 ],\n",
       "       [16.29348221],\n",
       "       [18.56301893],\n",
       "       [31.63241688],\n",
       "       [33.15311248],\n",
       "       [21.5435544 ],\n",
       "       [30.07443014],\n",
       "       [15.90484863],\n",
       "       [18.60163164],\n",
       "       [33.2598691 ],\n",
       "       [23.2921983 ],\n",
       "       [19.0712448 ],\n",
       "       [20.34799756],\n",
       "       [34.45900561],\n",
       "       [22.76324206],\n",
       "       [23.19675258],\n",
       "       [32.57278112],\n",
       "       [26.47233137],\n",
       "       [26.02807374],\n",
       "       [29.37073981],\n",
       "       [31.91996737],\n",
       "       [28.31931301],\n",
       "       [20.52064734],\n",
       "       [18.11059284],\n",
       "       [24.67295933],\n",
       "       [32.76725275],\n",
       "       [19.54368028],\n",
       "       [23.91020517],\n",
       "       [18.86253276],\n",
       "       [15.74346441],\n",
       "       [19.82496741],\n",
       "       [20.78659324],\n",
       "       [26.22929454],\n",
       "       [29.52660243],\n",
       "       [17.86170258],\n",
       "       [34.99130578],\n",
       "       [35.67135925],\n",
       "       [23.31984034],\n",
       "       [30.33606384],\n",
       "       [21.97719299],\n",
       "       [32.05552056],\n",
       "       [21.07813188],\n",
       "       [29.93199672],\n",
       "       [21.61309146],\n",
       "       [20.48746585],\n",
       "       [26.9452419 ],\n",
       "       [27.80645091],\n",
       "       [31.30273349],\n",
       "       [23.55812017],\n",
       "       [32.15066762],\n",
       "       [34.52948961],\n",
       "       [29.60182335],\n",
       "       [24.61647966],\n",
       "       [19.67512845],\n",
       "       [16.61252967],\n",
       "       [31.02832552],\n",
       "       [34.41606809],\n",
       "       [22.72221845],\n",
       "       [31.900613  ],\n",
       "       [22.54569177],\n",
       "       [15.02040291],\n",
       "       [24.00401061],\n",
       "       [19.92663866],\n",
       "       [16.05887451],\n",
       "       [29.40757219],\n",
       "       [22.80734249],\n",
       "       [26.47371179],\n",
       "       [35.882475  ],\n",
       "       [35.17888302],\n",
       "       [15.19264764],\n",
       "       [17.69438437],\n",
       "       [17.69942497],\n",
       "       [30.53490945],\n",
       "       [17.57912073],\n",
       "       [26.5977857 ],\n",
       "       [33.16073446],\n",
       "       [30.0288794 ],\n",
       "       [27.61224184],\n",
       "       [26.51591478],\n",
       "       [18.671001  ],\n",
       "       [26.20489895],\n",
       "       [30.16793359],\n",
       "       [23.66587085],\n",
       "       [16.48203025],\n",
       "       [21.37177341],\n",
       "       [19.20750388],\n",
       "       [26.83762382],\n",
       "       [27.91319714],\n",
       "       [24.25581485],\n",
       "       [24.10362861],\n",
       "       [26.78810045],\n",
       "       [32.47268218],\n",
       "       [34.58772278],\n",
       "       [29.09042169],\n",
       "       [19.49020563],\n",
       "       [15.62898266],\n",
       "       [34.15515124],\n",
       "       [27.82140298],\n",
       "       [30.5290992 ],\n",
       "       [27.84947408],\n",
       "       [32.75304597],\n",
       "       [15.44048441],\n",
       "       [29.23531028],\n",
       "       [33.8942245 ],\n",
       "       [21.00809423],\n",
       "       [32.95299088],\n",
       "       [26.97555386],\n",
       "       [17.19889667],\n",
       "       [29.08714986],\n",
       "       [15.12230122],\n",
       "       [20.69650194],\n",
       "       [27.64646049],\n",
       "       [32.31775143],\n",
       "       [16.28638341],\n",
       "       [18.51639447],\n",
       "       [34.42148723],\n",
       "       [17.75956551],\n",
       "       [24.28933943],\n",
       "       [26.38443898],\n",
       "       [19.0563967 ],\n",
       "       [16.08838661],\n",
       "       [17.58491608],\n",
       "       [18.28396843],\n",
       "       [32.6841993 ],\n",
       "       [18.35733136],\n",
       "       [16.43516441],\n",
       "       [35.75670504],\n",
       "       [20.46430912],\n",
       "       [27.15609339],\n",
       "       [32.73803724],\n",
       "       [24.47597387],\n",
       "       [24.74463038],\n",
       "       [29.7812514 ],\n",
       "       [19.46965535],\n",
       "       [31.71643314],\n",
       "       [18.8899878 ],\n",
       "       [17.80138407],\n",
       "       [29.35407438],\n",
       "       [34.85720703],\n",
       "       [30.20795174],\n",
       "       [21.75095548],\n",
       "       [24.19980602],\n",
       "       [16.46738232],\n",
       "       [17.49531707],\n",
       "       [18.75820487],\n",
       "       [18.76080891],\n",
       "       [22.68774506]])"
      ]
     },
     "execution_count": 166,
     "metadata": {},
     "output_type": "execute_result"
    }
   ],
   "source": [
    "r2"
   ]
  },
  {
   "cell_type": "code",
   "execution_count": 168,
   "id": "58ed7513-988c-44d8-a801-8db69043c399",
   "metadata": {},
   "outputs": [
    {
     "data": {
      "text/plain": [
       "array([[33.07199097, 28.10447555, 15.40469671, 19.79651665, 29.31999401,\n",
       "        32.34625857, 19.52112496, 17.20188239, 19.85208063, 25.8826323 ],\n",
       "       [34.72165461, 31.72000348, 17.68303765, 22.36672798, 18.70780875,\n",
       "        25.9527875 , 17.07641568, 24.57816638, 27.8670483 , 30.42768052],\n",
       "       [35.17623972, 21.47064083, 25.76037341, 17.75347059, 21.59829276,\n",
       "        17.51609162, 16.07627734, 20.95636921, 21.13793958, 28.09422961],\n",
       "       [22.071702  , 26.01484565, 15.29288982, 30.63176655, 31.06896258,\n",
       "        19.91899971, 22.42831061, 35.38031307, 30.54630149, 27.20682771],\n",
       "       [32.52329513, 30.26451463, 17.75580601, 16.51416411, 34.28019956,\n",
       "        16.00755806, 18.41881921, 35.96921656, 17.6454205 , 33.05364984],\n",
       "       [22.98906593, 25.05457733, 18.90831848, 22.62087569, 24.88828036,\n",
       "        16.93666697, 31.67822685, 17.87873849, 35.91581475, 19.36303681],\n",
       "       [24.28972499, 17.79838621, 22.02012983, 31.0898541 , 16.29348221,\n",
       "        18.56301893, 31.63241688, 33.15311248, 21.5435544 , 30.07443014],\n",
       "       [15.90484863, 18.60163164, 33.2598691 , 23.2921983 , 19.0712448 ,\n",
       "        20.34799756, 34.45900561, 22.76324206, 23.19675258, 32.57278112],\n",
       "       [26.47233137, 26.02807374, 29.37073981, 31.91996737, 28.31931301,\n",
       "        20.52064734, 18.11059284, 24.67295933, 32.76725275, 19.54368028],\n",
       "       [23.91020517, 18.86253276, 15.74346441, 19.82496741, 20.78659324,\n",
       "        26.22929454, 29.52660243, 17.86170258, 34.99130578, 35.67135925],\n",
       "       [23.31984034, 30.33606384, 21.97719299, 32.05552056, 21.07813188,\n",
       "        29.93199672, 21.61309146, 20.48746585, 26.9452419 , 27.80645091],\n",
       "       [31.30273349, 23.55812017, 32.15066762, 34.52948961, 29.60182335,\n",
       "        24.61647966, 19.67512845, 16.61252967, 31.02832552, 34.41606809],\n",
       "       [22.72221845, 31.900613  , 22.54569177, 15.02040291, 24.00401061,\n",
       "        19.92663866, 16.05887451, 29.40757219, 22.80734249, 26.47371179],\n",
       "       [35.882475  , 35.17888302, 15.19264764, 17.69438437, 17.69942497,\n",
       "        30.53490945, 17.57912073, 26.5977857 , 33.16073446, 30.0288794 ],\n",
       "       [27.61224184, 26.51591478, 18.671001  , 26.20489895, 30.16793359,\n",
       "        23.66587085, 16.48203025, 21.37177341, 19.20750388, 26.83762382],\n",
       "       [27.91319714, 24.25581485, 24.10362861, 26.78810045, 32.47268218,\n",
       "        34.58772278, 29.09042169, 19.49020563, 15.62898266, 34.15515124],\n",
       "       [27.82140298, 30.5290992 , 27.84947408, 32.75304597, 15.44048441,\n",
       "        29.23531028, 33.8942245 , 21.00809423, 32.95299088, 26.97555386],\n",
       "       [17.19889667, 29.08714986, 15.12230122, 20.69650194, 27.64646049,\n",
       "        32.31775143, 16.28638341, 18.51639447, 34.42148723, 17.75956551],\n",
       "       [24.28933943, 26.38443898, 19.0563967 , 16.08838661, 17.58491608,\n",
       "        18.28396843, 32.6841993 , 18.35733136, 16.43516441, 35.75670504],\n",
       "       [20.46430912, 27.15609339, 32.73803724, 24.47597387, 24.74463038,\n",
       "        29.7812514 , 19.46965535, 31.71643314, 18.8899878 , 17.80138407],\n",
       "       [29.35407438, 34.85720703, 30.20795174, 21.75095548, 24.19980602,\n",
       "        16.46738232, 17.49531707, 18.75820487, 18.76080891, 22.68774506]])"
      ]
     },
     "execution_count": 168,
     "metadata": {},
     "output_type": "execute_result"
    }
   ],
   "source": [
    "r2.reshape(21, -1)  # ndim, shape, size"
   ]
  },
  {
   "cell_type": "code",
   "execution_count": 170,
   "id": "5f3e5c88-7fda-4460-8d03-e795bc32c030",
   "metadata": {},
   "outputs": [
    {
     "data": {
      "text/plain": [
       "False"
      ]
     },
     "execution_count": 170,
     "metadata": {},
     "output_type": "execute_result"
    }
   ],
   "source": [
    "20 * 10 == r2.size"
   ]
  },
  {
   "cell_type": "markdown",
   "id": "90d9bb9a-2e30-4314-ad9f-6923b5adfbfa",
   "metadata": {},
   "source": [
    "<br>\n",
    "\n",
    "Opatrně na počet hodnot v rámci dimenzí.\n",
    "\n",
    "Pokud není možné vyplnit všechny hodnoty, nový rozměr nevznikne."
   ]
  },
  {
   "cell_type": "markdown",
   "id": "37f08283-1304-4d6d-ad80-47ac5c064ea8",
   "metadata": {},
   "source": [
    "<br>\n",
    "\n",
    "### Spojování a rozdělování\n",
    "\n",
    "---\n",
    "\n"
   ]
  },
  {
   "cell_type": "markdown",
   "id": "f84e80a9-9206-4b9f-9cdf-74589d5e81b4",
   "metadata": {},
   "source": [
    "Předchozí ukázky se vztahovaly pouze k jednomu poli, k jedné matici.\n",
    "\n",
    "Teď uvidíš, jak můžeš kombinovat několik těchto typů objektu."
   ]
  },
  {
   "cell_type": "markdown",
   "id": "ae931faa-8a5c-4d74-ae52-45948c70b448",
   "metadata": {},
   "source": [
    "#### Spojování\n",
    "\n",
    "---"
   ]
  },
  {
   "cell_type": "markdown",
   "id": "760e892c-17d5-4221-9ea2-4d495509ea24",
   "metadata": {},
   "source": [
    "Pomocí metody `concatenate` spojíš dvě pole nebo dvě matice nebo více objektů:"
   ]
  },
  {
   "cell_type": "code",
   "execution_count": 171,
   "id": "3642d8ec-678e-4ec4-a26d-541858d2d9c8",
   "metadata": {
    "tags": []
   },
   "outputs": [],
   "source": [
    "pole_1 = np.arange(1, 6)\n",
    "pole_2 = np.array((6, 7, 8))"
   ]
  },
  {
   "cell_type": "code",
   "execution_count": 172,
   "id": "2fd92a6f-d137-4a6e-b767-1febb96081a2",
   "metadata": {
    "tags": []
   },
   "outputs": [
    {
     "data": {
      "text/plain": [
       "array([1, 2, 3, 4, 5])"
      ]
     },
     "execution_count": 172,
     "metadata": {},
     "output_type": "execute_result"
    }
   ],
   "source": [
    "pole_1"
   ]
  },
  {
   "cell_type": "code",
   "execution_count": 173,
   "id": "16267817-52fa-4e27-a040-97e398ac8942",
   "metadata": {
    "tags": []
   },
   "outputs": [
    {
     "data": {
      "text/plain": [
       "array([6, 7, 8])"
      ]
     },
     "execution_count": 173,
     "metadata": {},
     "output_type": "execute_result"
    }
   ],
   "source": [
    "pole_2"
   ]
  },
  {
   "cell_type": "code",
   "execution_count": 175,
   "id": "176ab279-a19f-48ac-893b-e64d70ac9186",
   "metadata": {
    "tags": []
   },
   "outputs": [],
   "source": [
    "# spojene_pole = np.concatenate(pole_1, pole_2)  # TypeError"
   ]
  },
  {
   "cell_type": "code",
   "execution_count": 176,
   "id": "819e82a4-361d-40ca-a3cb-d29e135042e2",
   "metadata": {
    "tags": []
   },
   "outputs": [],
   "source": [
    "spojene_pole = np.concatenate([pole_1, pole_2])"
   ]
  },
  {
   "cell_type": "code",
   "execution_count": 177,
   "id": "b6b7c4c7-dadc-4cd7-a6b8-490139d6f391",
   "metadata": {
    "tags": []
   },
   "outputs": [
    {
     "data": {
      "text/plain": [
       "array([1, 2, 3, 4, 5, 6, 7, 8])"
      ]
     },
     "execution_count": 177,
     "metadata": {},
     "output_type": "execute_result"
    }
   ],
   "source": [
    "spojene_pole"
   ]
  },
  {
   "cell_type": "code",
   "execution_count": 178,
   "id": "e273907f-d542-45fb-8f9d-c3ef54d8ded5",
   "metadata": {
    "tags": []
   },
   "outputs": [],
   "source": [
    "pole_2D_1 = np.random.randint(low=-15, high=15, size=(3, 2))"
   ]
  },
  {
   "cell_type": "code",
   "execution_count": 179,
   "id": "942b032c-0425-4f19-87a5-d24b94f4a35f",
   "metadata": {
    "tags": []
   },
   "outputs": [
    {
     "data": {
      "text/plain": [
       "array([[ 1, 12],\n",
       "       [-1, 12],\n",
       "       [-5,  3]])"
      ]
     },
     "execution_count": 179,
     "metadata": {},
     "output_type": "execute_result"
    }
   ],
   "source": [
    "pole_2D_1"
   ]
  },
  {
   "cell_type": "code",
   "execution_count": 180,
   "id": "e2599f09-60d8-4542-8465-6b6845a52088",
   "metadata": {
    "tags": []
   },
   "outputs": [],
   "source": [
    "pole_2D_2 = np.random.randint(low=-15, high=15, size=(5, 2))"
   ]
  },
  {
   "cell_type": "code",
   "execution_count": 181,
   "id": "eefa59b9-053e-493b-86e6-558b35ce7c40",
   "metadata": {
    "tags": []
   },
   "outputs": [
    {
     "data": {
      "text/plain": [
       "array([[ 12,  -1],\n",
       "       [ 10,  11],\n",
       "       [ 14,  -4],\n",
       "       [  8,  -7],\n",
       "       [  2, -11]])"
      ]
     },
     "execution_count": 181,
     "metadata": {},
     "output_type": "execute_result"
    }
   ],
   "source": [
    "pole_2D_2"
   ]
  },
  {
   "cell_type": "code",
   "execution_count": 182,
   "id": "93be2346-c454-45cc-99d1-194cb00603de",
   "metadata": {
    "tags": []
   },
   "outputs": [],
   "source": [
    "pole_2D_3 = np.random.randint(low=-15, high=15, size=(3, 2))"
   ]
  },
  {
   "cell_type": "code",
   "execution_count": 183,
   "id": "84681a70-ff4e-4004-b1d9-bbf4eee45bfa",
   "metadata": {
    "tags": []
   },
   "outputs": [
    {
     "data": {
      "text/plain": [
       "array([[ 2, -7],\n",
       "       [-1, -2],\n",
       "       [ 5, 12]])"
      ]
     },
     "execution_count": 183,
     "metadata": {},
     "output_type": "execute_result"
    }
   ],
   "source": [
    "pole_2D_3"
   ]
  },
  {
   "cell_type": "code",
   "execution_count": 184,
   "id": "cc014742-2f8c-419f-b1e0-1bf917cf0785",
   "metadata": {
    "tags": []
   },
   "outputs": [],
   "source": [
    "spojene_matice = np.concatenate([pole_2D_1, pole_2D_3], axis=1)"
   ]
  },
  {
   "cell_type": "code",
   "execution_count": 185,
   "id": "468d109a-d97e-44bd-9396-2a537b8f7710",
   "metadata": {
    "tags": []
   },
   "outputs": [
    {
     "data": {
      "text/plain": [
       "array([[ 1, 12,  2, -7],\n",
       "       [-1, 12, -1, -2],\n",
       "       [-5,  3,  5, 12]])"
      ]
     },
     "execution_count": 185,
     "metadata": {},
     "output_type": "execute_result"
    }
   ],
   "source": [
    "spojene_matice"
   ]
  },
  {
   "cell_type": "code",
   "execution_count": 186,
   "id": "40ed856f-76cf-473d-8976-b149cd2167d8",
   "metadata": {
    "tags": []
   },
   "outputs": [
    {
     "ename": "ValueError",
     "evalue": "all the input array dimensions except for the concatenation axis must match exactly, but along dimension 0, the array at index 0 has size 3 and the array at index 1 has size 5",
     "output_type": "error",
     "traceback": [
      "\u001b[0;31m---------------------------------------------------------------------------\u001b[0m",
      "\u001b[0;31mValueError\u001b[0m                                Traceback (most recent call last)",
      "Cell \u001b[0;32mIn[186], line 1\u001b[0m\n\u001b[0;32m----> 1\u001b[0m spojene_matice \u001b[38;5;241m=\u001b[39m \u001b[43mnp\u001b[49m\u001b[38;5;241;43m.\u001b[39;49m\u001b[43mconcatenate\u001b[49m\u001b[43m(\u001b[49m\u001b[43m[\u001b[49m\u001b[43mpole_2D_1\u001b[49m\u001b[43m,\u001b[49m\u001b[43m \u001b[49m\u001b[43mpole_2D_2\u001b[49m\u001b[43m]\u001b[49m\u001b[43m,\u001b[49m\u001b[43m \u001b[49m\u001b[43maxis\u001b[49m\u001b[38;5;241;43m=\u001b[39;49m\u001b[38;5;241;43m1\u001b[39;49m\u001b[43m)\u001b[49m\n",
      "File \u001b[0;32m<__array_function__ internals>:200\u001b[0m, in \u001b[0;36mconcatenate\u001b[0;34m(*args, **kwargs)\u001b[0m\n",
      "\u001b[0;31mValueError\u001b[0m: all the input array dimensions except for the concatenation axis must match exactly, but along dimension 0, the array at index 0 has size 3 and the array at index 1 has size 5"
     ]
    }
   ],
   "source": [
    "# spojene_matice = np.concatenate([pole_2D_1, pole_2D_2], axis=1)  # ValueError"
   ]
  },
  {
   "cell_type": "code",
   "execution_count": 187,
   "id": "ebd2f85e-ad0c-4f1c-acb1-bee4aa646496",
   "metadata": {
    "tags": []
   },
   "outputs": [],
   "source": [
    "spojene_matice = np.concatenate([pole_2D_1, pole_2D_2], axis=0)"
   ]
  },
  {
   "cell_type": "code",
   "execution_count": 188,
   "id": "fe77e7da-59ed-48f2-bcee-55df50024bb0",
   "metadata": {},
   "outputs": [
    {
     "data": {
      "text/plain": [
       "array([[  1,  12],\n",
       "       [ -1,  12],\n",
       "       [ -5,   3],\n",
       "       [ 12,  -1],\n",
       "       [ 10,  11],\n",
       "       [ 14,  -4],\n",
       "       [  8,  -7],\n",
       "       [  2, -11]])"
      ]
     },
     "execution_count": 188,
     "metadata": {},
     "output_type": "execute_result"
    }
   ],
   "source": [
    "spojene_matice"
   ]
  },
  {
   "cell_type": "markdown",
   "id": "97eaeb5c-bd26-425a-9259-0657fd05bc59",
   "metadata": {},
   "source": [
    "<br>\n",
    "\n",
    "Pokud nemáš pole nebo matice stejného rozměru, je lepší pracovat s funkcemi:\n",
    "1. `vstack`, vertikální napojení,\n",
    "2. `hstack`, horizontální napojení,"
   ]
  },
  {
   "cell_type": "code",
   "execution_count": 189,
   "id": "2d43ccc5-f2b3-41bd-9fc5-23b293997aca",
   "metadata": {
    "tags": []
   },
   "outputs": [
    {
     "data": {
      "text/plain": [
       "array([1, 2, 3, 4, 5])"
      ]
     },
     "execution_count": 189,
     "metadata": {},
     "output_type": "execute_result"
    }
   ],
   "source": [
    "pole_1"
   ]
  },
  {
   "cell_type": "code",
   "execution_count": 190,
   "id": "9a666fc6-25a5-4c3f-ad8e-99ef0501726a",
   "metadata": {
    "tags": []
   },
   "outputs": [
    {
     "data": {
      "text/plain": [
       "array([[ 1, 12],\n",
       "       [-1, 12],\n",
       "       [-5,  3]])"
      ]
     },
     "execution_count": 190,
     "metadata": {},
     "output_type": "execute_result"
    }
   ],
   "source": [
    "pole_2D_1"
   ]
  },
  {
   "cell_type": "code",
   "execution_count": 191,
   "id": "faea80d6-702e-4693-8cb5-52bae25dece7",
   "metadata": {
    "tags": []
   },
   "outputs": [
    {
     "ename": "ValueError",
     "evalue": "all the input arrays must have same number of dimensions, but the array at index 0 has 1 dimension(s) and the array at index 1 has 2 dimension(s)",
     "output_type": "error",
     "traceback": [
      "\u001b[0;31m---------------------------------------------------------------------------\u001b[0m",
      "\u001b[0;31mValueError\u001b[0m                                Traceback (most recent call last)",
      "Cell \u001b[0;32mIn[191], line 1\u001b[0m\n\u001b[0;32m----> 1\u001b[0m rozsirene_2D \u001b[38;5;241m=\u001b[39m \u001b[43mnp\u001b[49m\u001b[38;5;241;43m.\u001b[39;49m\u001b[43mconcatenate\u001b[49m\u001b[43m(\u001b[49m\u001b[43m[\u001b[49m\u001b[43mpole_1\u001b[49m\u001b[43m,\u001b[49m\u001b[43m \u001b[49m\u001b[43mpole_2D_1\u001b[49m\u001b[43m]\u001b[49m\u001b[43m)\u001b[49m  \u001b[38;5;66;03m# ValueError\u001b[39;00m\n",
      "File \u001b[0;32m<__array_function__ internals>:200\u001b[0m, in \u001b[0;36mconcatenate\u001b[0;34m(*args, **kwargs)\u001b[0m\n",
      "\u001b[0;31mValueError\u001b[0m: all the input arrays must have same number of dimensions, but the array at index 0 has 1 dimension(s) and the array at index 1 has 2 dimension(s)"
     ]
    }
   ],
   "source": [
    "rozsirene_2D = np.concatenate([pole_1, pole_2D_1])  # ValueError"
   ]
  },
  {
   "cell_type": "code",
   "execution_count": null,
   "id": "1ecae11d-a185-4e68-a1a8-0d60b83e839e",
   "metadata": {
    "tags": []
   },
   "outputs": [],
   "source": [
    "# rozsirene_2D = np.vstack([pole_1, pole_2D_1])  # ValueError"
   ]
  },
  {
   "cell_type": "code",
   "execution_count": 192,
   "id": "d7f14513-3594-464f-8e5d-6551f1e42479",
   "metadata": {
    "tags": []
   },
   "outputs": [],
   "source": [
    "rozsirene_2D = np.vstack([pole_1[:2], pole_2D_1])"
   ]
  },
  {
   "cell_type": "code",
   "execution_count": 193,
   "id": "a8b93580-0dae-4b90-94fc-d359a5d8c8bf",
   "metadata": {
    "tags": []
   },
   "outputs": [
    {
     "data": {
      "text/plain": [
       "array([[ 1,  2],\n",
       "       [ 1, 12],\n",
       "       [-1, 12],\n",
       "       [-5,  3]])"
      ]
     },
     "execution_count": 193,
     "metadata": {},
     "output_type": "execute_result"
    }
   ],
   "source": [
    "rozsirene_2D"
   ]
  },
  {
   "cell_type": "markdown",
   "id": "6c1fd144-85e9-4a6b-a53f-707940897701",
   "metadata": {},
   "source": [
    "#### Rozdělování\n",
    "\n",
    "---\n",
    "\n",
    "Opakem spojování polí a matic je rozdělování, které je možné provést pomocí funkcí:\n",
    "1. `split`,\n",
    "2. `hsplit`,\n",
    "3. `vsplit`"
   ]
  },
  {
   "cell_type": "code",
   "execution_count": 194,
   "id": "e8e74c1b-1805-4926-87d4-2b3ae884974e",
   "metadata": {
    "tags": []
   },
   "outputs": [],
   "source": [
    "rada_arr = np.random.randint(low=100, high=200, size=(12))"
   ]
  },
  {
   "cell_type": "code",
   "execution_count": 195,
   "id": "0772f311-4184-4817-831f-59995c4d3980",
   "metadata": {
    "tags": []
   },
   "outputs": [
    {
     "data": {
      "text/plain": [
       "12"
      ]
     },
     "execution_count": 195,
     "metadata": {},
     "output_type": "execute_result"
    }
   ],
   "source": [
    "rada_arr.size"
   ]
  },
  {
   "cell_type": "code",
   "execution_count": 196,
   "id": "41a4acf2-68d6-4b34-96a2-a6d4fbcba83b",
   "metadata": {
    "tags": []
   },
   "outputs": [
    {
     "data": {
      "text/plain": [
       "array([128, 180, 133, 149, 109, 152, 143, 164, 185, 105, 110, 146])"
      ]
     },
     "execution_count": 196,
     "metadata": {},
     "output_type": "execute_result"
    }
   ],
   "source": [
    "rada_arr"
   ]
  },
  {
   "cell_type": "code",
   "execution_count": 197,
   "id": "3991a31c-fe01-4ca7-938d-ad205698bad5",
   "metadata": {
    "tags": []
   },
   "outputs": [],
   "source": [
    "r1, r2, r3 = np.split(rada_arr, [4, 8])"
   ]
  },
  {
   "cell_type": "code",
   "execution_count": 199,
   "id": "2161c891-e079-4532-ac3e-81dc99d1e65a",
   "metadata": {
    "tags": []
   },
   "outputs": [
    {
     "data": {
      "text/plain": [
       "array([128, 180, 133, 149])"
      ]
     },
     "execution_count": 199,
     "metadata": {},
     "output_type": "execute_result"
    }
   ],
   "source": [
    "r1"
   ]
  },
  {
   "cell_type": "code",
   "execution_count": 202,
   "id": "2e368591-0775-4c90-bcf9-86e4a69fe6f7",
   "metadata": {},
   "outputs": [
    {
     "ename": "ValueError",
     "evalue": "not enough values to unpack (expected 3, got 2)",
     "output_type": "error",
     "traceback": [
      "\u001b[0;31m---------------------------------------------------------------------------\u001b[0m",
      "\u001b[0;31mValueError\u001b[0m                                Traceback (most recent call last)",
      "Cell \u001b[0;32mIn[202], line 1\u001b[0m\n\u001b[0;32m----> 1\u001b[0m r1, r2, r3 \u001b[38;5;241m=\u001b[39m np\u001b[38;5;241m.\u001b[39msplit(rada_arr, [\u001b[38;5;241m6\u001b[39m])  \u001b[38;5;66;03m# ValueError\u001b[39;00m\n",
      "\u001b[0;31mValueError\u001b[0m: not enough values to unpack (expected 3, got 2)"
     ]
    }
   ],
   "source": [
    "r1, r2, r3 = np.split(rada_arr, [6])  # ValueError"
   ]
  },
  {
   "cell_type": "code",
   "execution_count": 203,
   "id": "a94e1b30-2ec3-43f9-937f-96bc205b688f",
   "metadata": {},
   "outputs": [
    {
     "data": {
      "text/plain": [
       "[array([128, 180, 133, 149, 109, 152]), array([143, 164, 185, 105, 110, 146])]"
      ]
     },
     "execution_count": 203,
     "metadata": {},
     "output_type": "execute_result"
    }
   ],
   "source": [
    "np.split(rada_arr, [6])"
   ]
  },
  {
   "cell_type": "markdown",
   "id": "a4a2d2b1-9f0f-4488-ad0a-d2ea84606d48",
   "metadata": {},
   "source": [
    "<br>\n",
    "\n",
    "Takže dělení probíhá pomocí dělících indexů.\n",
    "\n",
    "Tedy máš vždy N indexů a N + 1 polí."
   ]
  },
  {
   "cell_type": "code",
   "execution_count": null,
   "id": "f95b986d-5eb0-40f0-8289-e39f1a6c7a84",
   "metadata": {
    "tags": []
   },
   "outputs": [],
   "source": [
    "matice = rada_arr.reshape(3, 4)"
   ]
  },
  {
   "cell_type": "code",
   "execution_count": null,
   "id": "515871fe-3824-4746-bcc9-a1a40ee81517",
   "metadata": {
    "tags": []
   },
   "outputs": [],
   "source": [
    "matice"
   ]
  },
  {
   "cell_type": "code",
   "execution_count": null,
   "id": "8572c4d5-b2de-42ff-bc52-ddf960ee3fdd",
   "metadata": {
    "tags": []
   },
   "outputs": [],
   "source": [
    "leve_sl, prave_sl = np.hsplit(matice, 2)"
   ]
  },
  {
   "cell_type": "code",
   "execution_count": null,
   "id": "2ecdc919-be0d-45a1-b3ef-b880d93ef945",
   "metadata": {
    "tags": []
   },
   "outputs": [],
   "source": [
    "leve_sl"
   ]
  },
  {
   "cell_type": "code",
   "execution_count": null,
   "id": "22f73ce1-ff5f-4973-bd64-58daa26f794e",
   "metadata": {
    "tags": []
   },
   "outputs": [],
   "source": [
    "prave_sl"
   ]
  },
  {
   "cell_type": "code",
   "execution_count": null,
   "id": "f204a0b2-c18d-4f08-8fe4-a3ff834e6d0c",
   "metadata": {
    "tags": []
   },
   "outputs": [],
   "source": [
    "# leve_sl, prave_sl = np.hsplit(matice, 3)  # ValueError"
   ]
  },
  {
   "cell_type": "code",
   "execution_count": null,
   "id": "ecad81da-8b64-45ef-bcb4-613a7a288be7",
   "metadata": {
    "tags": []
   },
   "outputs": [],
   "source": [
    "# prvni_sl, druhy_sl, treti_sl = np.hsplit(matice, 3) # ValueError"
   ]
  },
  {
   "cell_type": "code",
   "execution_count": null,
   "id": "9e855257-7185-464b-99b5-a08ab4847470",
   "metadata": {
    "tags": []
   },
   "outputs": [],
   "source": [
    "prvni_sl, druhy_sl, treti_sl, ctvrty_sl = np.hsplit(matice, 4)"
   ]
  },
  {
   "cell_type": "code",
   "execution_count": null,
   "id": "8173e404-e293-408d-b9b9-f85b0472a3d5",
   "metadata": {
    "tags": []
   },
   "outputs": [],
   "source": [
    "prvni_sl, druhy_sl, treti_sl, ctvrty_sl"
   ]
  },
  {
   "cell_type": "markdown",
   "id": "d72b1aff-299c-4255-9ce4-255396b205c9",
   "metadata": {},
   "source": [
    "<br>\n",
    "\n",
    "#### **🧠 CVIČENÍ 🧠, procvič si základy v NUMPY**\n",
    "\n",
    "---"
   ]
  },
  {
   "cell_type": "code",
   "execution_count": 204,
   "id": "dde9f4ca-f533-41f2-8149-285f77ceeaa9",
   "metadata": {
    "tags": []
   },
   "outputs": [],
   "source": [
    "import numpy as np"
   ]
  },
  {
   "cell_type": "markdown",
   "id": "9f0afd3b-e569-4473-a06d-ee256766645f",
   "metadata": {},
   "source": [
    "#### Použij NUMPY funkci, která vytvoří 1D pole od 5, do 50 po 5ti\n",
    "\n",
    "---"
   ]
  },
  {
   "cell_type": "code",
   "execution_count": 206,
   "id": "b0de5c05-8fdc-48e8-bba3-e246b9da77e8",
   "metadata": {},
   "outputs": [],
   "source": [
    "nove_pole = np.arange(start=5, stop=51, step=5)"
   ]
  },
  {
   "cell_type": "code",
   "execution_count": 207,
   "id": "4ffe251a-0f82-4676-9fc2-9197f5f22d81",
   "metadata": {},
   "outputs": [
    {
     "data": {
      "text/plain": [
       "array([ 5, 10, 15, 20, 25, 30, 35, 40, 45, 50])"
      ]
     },
     "execution_count": 207,
     "metadata": {},
     "output_type": "execute_result"
    }
   ],
   "source": [
    "nove_pole"
   ]
  },
  {
   "cell_type": "markdown",
   "id": "75e5b7a2-3940-455a-b894-f8689c027862",
   "metadata": {},
   "source": [
    "<details>\n",
    "    <summary>▶️ Řešení</summary>\n",
    "    \n",
    "    ```python\n",
    "    np.arange(5, 51, 5)\n",
    "    ```\n",
    "</details>"
   ]
  },
  {
   "cell_type": "markdown",
   "id": "0856d201-3a53-40e5-bd82-011e4e2653cd",
   "metadata": {
    "tags": []
   },
   "source": [
    "#### Jak vytvoříš stejné pole pomocí funkce RANGE a LIST?"
   ]
  },
  {
   "cell_type": "code",
   "execution_count": 208,
   "id": "4e25236f-f4a9-4211-ace6-fe59d1d09085",
   "metadata": {},
   "outputs": [],
   "source": [
    "pole_range = range(5)\n",
    "pole_list = list((1, 2, 3, 4, 5))"
   ]
  },
  {
   "cell_type": "code",
   "execution_count": 209,
   "id": "62611100-cd0a-4b79-b3c2-7f674aebcda0",
   "metadata": {},
   "outputs": [],
   "source": [
    "numpy_range = array(pole_range)\n",
    "numpy_list = array(pole_list)"
   ]
  },
  {
   "cell_type": "code",
   "execution_count": 210,
   "id": "3dab7ac9-9feb-4d6e-bd4e-645ad5cab9aa",
   "metadata": {},
   "outputs": [
    {
     "data": {
      "text/plain": [
       "array([0, 1, 2, 3, 4])"
      ]
     },
     "execution_count": 210,
     "metadata": {},
     "output_type": "execute_result"
    }
   ],
   "source": [
    "numpy_range"
   ]
  },
  {
   "cell_type": "code",
   "execution_count": 211,
   "id": "f20f3d36-72f2-4203-874f-b30bda4728cc",
   "metadata": {},
   "outputs": [
    {
     "data": {
      "text/plain": [
       "array([1, 2, 3, 4, 5])"
      ]
     },
     "execution_count": 211,
     "metadata": {},
     "output_type": "execute_result"
    }
   ],
   "source": [
    "numpy_list"
   ]
  },
  {
   "cell_type": "markdown",
   "id": "7a230610-63de-4b19-8108-89642996c09e",
   "metadata": {},
   "source": [
    "<details>\n",
    "    <summary>▶️ Řešení</summary>\n",
    "    \n",
    "    ```python\n",
    "    np.array([cislo for cislo in range(5, 51, 5)])\n",
    "    ```\n",
    "</details>"
   ]
  },
  {
   "cell_type": "markdown",
   "id": "283accff-1644-49d9-bd43-c076443c72c1",
   "metadata": {
    "tags": []
   },
   "source": [
    "#### Jak můžeš vytvořit pole z kapitálek písmen od A do Z?"
   ]
  },
  {
   "cell_type": "code",
   "execution_count": 212,
   "id": "c8a322be-9e75-45ac-921f-16182747ef33",
   "metadata": {},
   "outputs": [],
   "source": [
    "# I. možnost\n",
    "import string"
   ]
  },
  {
   "cell_type": "code",
   "execution_count": 222,
   "id": "7f8539f4-5a70-45ca-bf07-1b6272674b3a",
   "metadata": {},
   "outputs": [],
   "source": [
    "numpy_pismena = array(tuple(string.ascii_uppercase))"
   ]
  },
  {
   "cell_type": "code",
   "execution_count": 223,
   "id": "fe999424-d6ce-45ac-a020-5c392387ce84",
   "metadata": {},
   "outputs": [
    {
     "data": {
      "text/plain": [
       "array(['A', 'B', 'C', 'D', 'E', 'F', 'G', 'H', 'I', 'J', 'K', 'L', 'M',\n",
       "       'N', 'O', 'P', 'Q', 'R', 'S', 'T', 'U', 'V', 'W', 'X', 'Y', 'Z'],\n",
       "      dtype='<U1')"
      ]
     },
     "execution_count": 223,
     "metadata": {},
     "output_type": "execute_result"
    }
   ],
   "source": [
    "numpy_pismena"
   ]
  },
  {
   "cell_type": "code",
   "execution_count": 228,
   "id": "c6535247-baa5-434d-95cb-e523459d1e5c",
   "metadata": {},
   "outputs": [
    {
     "data": {
      "text/plain": [
       "range(65, 90)"
      ]
     },
     "execution_count": 228,
     "metadata": {},
     "output_type": "execute_result"
    }
   ],
   "source": [
    "# II. možnost\n",
    "range(ord('A'), ord('Z'))"
   ]
  },
  {
   "cell_type": "code",
   "execution_count": 231,
   "id": "7c9ba3a9-3eac-47a3-8fdf-3e95f792f707",
   "metadata": {},
   "outputs": [
    {
     "data": {
      "text/plain": [
       "'C'"
      ]
     },
     "execution_count": 231,
     "metadata": {},
     "output_type": "execute_result"
    }
   ],
   "source": [
    "chr(67)"
   ]
  },
  {
   "cell_type": "markdown",
   "id": "6ee7812f-ec26-4924-99c0-6d696a92521b",
   "metadata": {},
   "source": [
    "<details>\n",
    "    <summary>▶️ Řešení</summary>\n",
    "    \n",
    "    ```python\n",
    "    np.array([chr(index) for index in range(ord(\"A\"), ord(\"Z\") + 1)])\n",
    "    ```\n",
    "</details>"
   ]
  },
  {
   "cell_type": "markdown",
   "id": "ec3577ac-9083-45fc-a924-76f2f6cd30c8",
   "metadata": {
    "tags": []
   },
   "source": [
    "#### Jak můžeš vytvořit 1D pole z 6ti náhodných čísel od 1 do 10 (včetně 10)?"
   ]
  },
  {
   "cell_type": "code",
   "execution_count": 250,
   "id": "d8ba153c-6d04-4a1d-a823-2513dfded6b8",
   "metadata": {},
   "outputs": [],
   "source": [
    "numpy_nahodne = np.random.randint(1, 11, size=6)"
   ]
  },
  {
   "cell_type": "code",
   "execution_count": 251,
   "id": "f446a127-1d10-410b-b1a6-586a7a015680",
   "metadata": {},
   "outputs": [
    {
     "data": {
      "text/plain": [
       "array([7, 9, 8, 3, 4, 1])"
      ]
     },
     "execution_count": 251,
     "metadata": {},
     "output_type": "execute_result"
    }
   ],
   "source": [
    "numpy_nahodne"
   ]
  },
  {
   "cell_type": "markdown",
   "id": "ca7c8fa3-25a4-4b39-b75c-395dfc998adc",
   "metadata": {},
   "source": [
    "<details>\n",
    "    <summary>▶️ Řešení</summary>\n",
    "    \n",
    "    ```python\n",
    "    np.random.randint(1, 10, size=6)\n",
    "    ```\n",
    "</details>"
   ]
  },
  {
   "cell_type": "markdown",
   "id": "b1d13f23-4337-4334-8027-53792e9c1da4",
   "metadata": {
    "tags": []
   },
   "source": [
    "#### Jak vytvoříš 2D matici 4 x 5 pole s náhodnými čísly od 1 do 50 (včetně 50)?"
   ]
  },
  {
   "cell_type": "code",
   "execution_count": 252,
   "id": "231a54df-6672-41b2-b9d0-ac3eb4e322d6",
   "metadata": {},
   "outputs": [],
   "source": [
    "numpy_nahodne = np.random.randint(1, 51, size=(4, 5))"
   ]
  },
  {
   "cell_type": "code",
   "execution_count": 253,
   "id": "371cd3b4-6723-4cef-94ae-1a319beebee4",
   "metadata": {},
   "outputs": [
    {
     "data": {
      "text/plain": [
       "array([[32, 41, 36, 25, 25],\n",
       "       [34,  9, 18, 46, 16],\n",
       "       [ 5, 26, 17, 12,  3],\n",
       "       [14, 16, 20, 11, 13]])"
      ]
     },
     "execution_count": 253,
     "metadata": {},
     "output_type": "execute_result"
    }
   ],
   "source": [
    "numpy_nahodne"
   ]
  },
  {
   "cell_type": "markdown",
   "id": "cc91c0c3-b744-475f-9a34-aa29dc31c221",
   "metadata": {},
   "source": [
    "<details>\n",
    "    <summary>▶️ Řešení</summary>\n",
    "    \n",
    "    ```python\n",
    "    numpy.random.randint(1, 51, size=(4, 5))\n",
    "    ```\n",
    "</details>"
   ]
  },
  {
   "cell_type": "markdown",
   "id": "1b825521-ee1e-4ae9-a97d-4cd6057b6590",
   "metadata": {},
   "source": [
    "<br>\n",
    "\n",
    "#### **🧠 CVIČENÍ 🧠, procvič si základy v NUMPY**\n",
    "\n",
    "---"
   ]
  },
  {
   "cell_type": "markdown",
   "id": "ae048dad-c48b-42ff-b355-2941ab923709",
   "metadata": {
    "tags": []
   },
   "source": [
    "Máš teplotní záznamy získané ze dvou různých meteorologických stanic.\n",
    "\n",
    "Každá stanice poskytuje teplotní záznamy za posledních 10 dní, které jsou uloženy ve formátu seznamu. Tvým úkolem je:"
   ]
  },
  {
   "cell_type": "code",
   "execution_count": 254,
   "id": "eaf84a2d-b3ef-41e4-983d-5549cf8cd28a",
   "metadata": {
    "tags": []
   },
   "outputs": [],
   "source": [
    "import numpy as np"
   ]
  },
  {
   "cell_type": "code",
   "execution_count": 255,
   "id": "64f50dd0-cee1-4cbb-819a-70add9c9c15a",
   "metadata": {
    "tags": []
   },
   "outputs": [],
   "source": [
    "stanice_c1_teploty = [21.5, 22.3, 20.7, 19.8, 23.1, 22.6, 20.4, 21.8, 22.9, 21.2]\n",
    "stanice_c2_teploty = [18.5, 19.1, 18.7, 17.8, 21.3, 20.6, 18.5, 19.7, 20.5, 19.2]"
   ]
  },
  {
   "cell_type": "markdown",
   "id": "24765d1f-93ea-496d-843e-ea7aac9f944a",
   "metadata": {
    "tags": []
   },
   "source": [
    "#### Převeď seznamy teplot na NumPy pole."
   ]
  },
  {
   "cell_type": "code",
   "execution_count": 256,
   "id": "e18d681a-119d-40e9-ba11-f66250a929cd",
   "metadata": {},
   "outputs": [],
   "source": [
    "c1_numpy = np.array(stanice_c1_teploty)\n",
    "c2_numpy = np.array(stanice_c2_teploty)"
   ]
  },
  {
   "cell_type": "markdown",
   "id": "29b91ea6-9e35-48f1-8f46-9047db0ed820",
   "metadata": {
    "tags": []
   },
   "source": [
    "#### Spoj oba záznamy do jednoho pole pomocí funkce 'concatenate'."
   ]
  },
  {
   "cell_type": "code",
   "execution_count": 257,
   "id": "1fc346e0-a8f0-495d-bc22-505a6c3e8bb0",
   "metadata": {},
   "outputs": [],
   "source": [
    "spojene_numpy = np.concatenate([c1_numpy, c2_numpy])"
   ]
  },
  {
   "cell_type": "code",
   "execution_count": 258,
   "id": "61047708-3ecf-4824-830e-39c303f551c6",
   "metadata": {},
   "outputs": [
    {
     "data": {
      "text/plain": [
       "array([21.5, 22.3, 20.7, 19.8, 23.1, 22.6, 20.4, 21.8, 22.9, 21.2, 18.5,\n",
       "       19.1, 18.7, 17.8, 21.3, 20.6, 18.5, 19.7, 20.5, 19.2])"
      ]
     },
     "execution_count": 258,
     "metadata": {},
     "output_type": "execute_result"
    }
   ],
   "source": [
    "spojene_numpy"
   ]
  },
  {
   "cell_type": "code",
   "execution_count": 259,
   "id": "345a9b29-7b66-451e-8ae7-78faf9911fba",
   "metadata": {},
   "outputs": [
    {
     "data": {
      "text/plain": [
       "1"
      ]
     },
     "execution_count": 259,
     "metadata": {},
     "output_type": "execute_result"
    }
   ],
   "source": [
    "spojene_numpy.ndim"
   ]
  },
  {
   "cell_type": "markdown",
   "id": "cda63eb6-c3b7-4b14-ac35-ce2c6c9d4d83",
   "metadata": {
    "tags": []
   },
   "source": [
    "#### Rozděl sloučené pole na dvě části: prvních 5 dní a druhých 5 dní."
   ]
  },
  {
   "cell_type": "code",
   "execution_count": 261,
   "id": "371c926b-3f99-46b9-9522-67b525b4eabf",
   "metadata": {},
   "outputs": [
    {
     "data": {
      "text/plain": [
       "(20,)"
      ]
     },
     "execution_count": 261,
     "metadata": {},
     "output_type": "execute_result"
    }
   ],
   "source": [
    "spojene_numpy.shape"
   ]
  },
  {
   "cell_type": "code",
   "execution_count": 262,
   "id": "eaeb3a20-ce56-4302-89a7-b8e79de68587",
   "metadata": {},
   "outputs": [],
   "source": [
    "upraveny_rozmer = spojene_numpy.reshape(2, 10)"
   ]
  },
  {
   "cell_type": "code",
   "execution_count": 263,
   "id": "65c5b1d1-c9e8-4cc6-bb48-f8b83942d876",
   "metadata": {},
   "outputs": [
    {
     "data": {
      "text/plain": [
       "array([[21.5, 22.3, 20.7, 19.8, 23.1, 22.6, 20.4, 21.8, 22.9, 21.2],\n",
       "       [18.5, 19.1, 18.7, 17.8, 21.3, 20.6, 18.5, 19.7, 20.5, 19.2]])"
      ]
     },
     "execution_count": 263,
     "metadata": {},
     "output_type": "execute_result"
    }
   ],
   "source": [
    "upraveny_rozmer"
   ]
  },
  {
   "cell_type": "code",
   "execution_count": 270,
   "id": "668db90a-23d7-40c0-b13e-eebc546c710a",
   "metadata": {},
   "outputs": [],
   "source": [
    "prvnich_pet_dni, druhych_pet_dni = np.hsplit(upraveny_rozmer, 2)"
   ]
  },
  {
   "cell_type": "code",
   "execution_count": 271,
   "id": "5330168c-f914-40a6-90ce-6248b51e43af",
   "metadata": {},
   "outputs": [
    {
     "data": {
      "text/plain": [
       "array([[21.5, 22.3, 20.7, 19.8, 23.1],\n",
       "       [18.5, 19.1, 18.7, 17.8, 21.3]])"
      ]
     },
     "execution_count": 271,
     "metadata": {},
     "output_type": "execute_result"
    }
   ],
   "source": [
    "prvnich_pet_dni"
   ]
  },
  {
   "cell_type": "code",
   "execution_count": 272,
   "id": "d43e39cf-3f0d-400e-9f75-3d236201c9ae",
   "metadata": {},
   "outputs": [
    {
     "data": {
      "text/plain": [
       "array([[22.6, 20.4, 21.8, 22.9, 21.2],\n",
       "       [20.6, 18.5, 19.7, 20.5, 19.2]])"
      ]
     },
     "execution_count": 272,
     "metadata": {},
     "output_type": "execute_result"
    }
   ],
   "source": [
    "druhych_pet_dni"
   ]
  },
  {
   "cell_type": "markdown",
   "id": "46a33c71-2a43-4f8b-949e-1f57e95fc511",
   "metadata": {
    "tags": []
   },
   "source": [
    "#### Vypočítej průměrnou teplotu pro prvních 5 dní a druhých 5 dní."
   ]
  },
  {
   "cell_type": "code",
   "execution_count": 273,
   "id": "9cab1de8-13ba-486b-aa67-b31af95e5f3e",
   "metadata": {},
   "outputs": [],
   "source": [
    "prumer_prvnich_pet = np.mean(prvnich_pet_dni)\n",
    "prumer_druhych_pet = np.mean(druhych_pet_dni)"
   ]
  },
  {
   "cell_type": "markdown",
   "id": "850dc771-b915-4b82-85ac-dbe9fb987add",
   "metadata": {},
   "source": [
    "#### Motivace: grafický výstup\n",
    "\n",
    "---"
   ]
  },
  {
   "cell_type": "code",
   "execution_count": 274,
   "id": "d109cbbd-e0b2-4f0b-8a42-99f4ec6b0165",
   "metadata": {},
   "outputs": [],
   "source": [
    "import numpy as np\n",
    "import matplotlib.pyplot as plt"
   ]
  },
  {
   "cell_type": "code",
   "execution_count": 275,
   "id": "941cbad1-87c9-4a33-9498-e994a387213d",
   "metadata": {},
   "outputs": [],
   "source": [
    "arr = np.array([\n",
    "    [21.5, 22.3, 20.7, 19.8, 23.1, 22.6, 20.4, 21.8, 22.9, 21.2],\n",
    "    [18.5, 19.1, 18.7, 17.8, 21.3, 20.6, 18.5, 19.7, 20.5, 19.2]\n",
    "])"
   ]
  },
  {
   "cell_type": "code",
   "execution_count": 276,
   "id": "d3451825-5cc2-4074-9d32-5cee96bbbb9b",
   "metadata": {},
   "outputs": [],
   "source": [
    "a, b = np.hsplit(arr, 2)  # rozdělení na 2 části podle sloupců (každá má 5)"
   ]
  },
  {
   "cell_type": "code",
   "execution_count": 296,
   "id": "51a2778d-676c-4dc5-be92-032d6169985a",
   "metadata": {},
   "outputs": [
    {
     "data": {
      "text/plain": [
       "array([21.5, 22.3, 20.7, 19.8, 23.1])"
      ]
     },
     "execution_count": 296,
     "metadata": {},
     "output_type": "execute_result"
    }
   ],
   "source": [
    "a[0] # S1"
   ]
  },
  {
   "cell_type": "code",
   "execution_count": 297,
   "id": "816964e5-cc63-43df-a74e-5cab3a4f6bfb",
   "metadata": {},
   "outputs": [
    {
     "data": {
      "text/plain": [
       "array([22.6, 20.4, 21.8, 22.9, 21.2])"
      ]
     },
     "execution_count": 297,
     "metadata": {},
     "output_type": "execute_result"
    }
   ],
   "source": [
    "b[0]  # S1"
   ]
  },
  {
   "cell_type": "code",
   "execution_count": 295,
   "id": "85e91fc0-c711-4693-ac9a-6e8c5d29755b",
   "metadata": {},
   "outputs": [
    {
     "data": {
      "image/png": "[encoded data removed]",
      "text/plain": [
       "<Figure size 800x400 with 1 Axes>"
      ]
     },
     "metadata": {},
     "output_type": "display_data"
    }
   ],
   "source": [
    "# Vykreslení\n",
    "plt.figure(figsize=(8, 4))\n",
    "\n",
    "# Část A\n",
    "plt.plot(range(1, 6), a[0], label='S1 – prvních 5 dní')\n",
    "plt.plot(range(1, 6), a[1], label='S2 – prvních 5 dní')\n",
    "\n",
    "# Část B\n",
    "plt.plot(range(6, 11), b[0], '--', label='S1 – druhých 5 dní')\n",
    "plt.plot(range(6, 11), b[1], '--', label='S2 – druhých 5 dní')\n",
    "\n",
    "plt.title(\"Rozdělená teplota – stanice S1 a S2\")\n",
    "plt.xlabel(\"Dny\")\n",
    "plt.ylabel(\"Teplota, stupeň Celsia\")\n",
    "plt.legend()\n",
    "plt.grid(True)\n",
    "plt.tight_layout()\n",
    "plt.show()"
   ]
  },
  {
   "cell_type": "markdown",
   "id": "5756b2cb-b895-4851-b4e6-b7a0422eab5e",
   "metadata": {},
   "source": [
    "<details>\n",
    "    <summary>▶️ Řešení</summary>\n",
    "\n",
    "```python\n",
    "stanice_c1_teploty = [21.5, 22.3, 20.7, 19.8, 23.1, 22.6, 20.4, 21.8, 22.9, 21.2]\n",
    "stanice_c2_teploty = [18.5, 19.1, 18.7, 17.8, 21.3, 20.6, 18.5, 19.7, 20.5, 19.2]\n",
    "\n",
    "stanice_c1_teploty_pole = np.array(stanice_c1_teploty)\n",
    "stanice_c2_teploty_pole = np.array(stanice_c2_teploty)\n",
    "\n",
    "spojene_teploty = np.concatenate((stanice_c1_teploty_pole, stanice_c2_teploty_pole))\n",
    "\n",
    "upraveny_tvar = spojene_teploty.reshape(2, 10)\n",
    "prvnich_pet_dni, dalsich_pet_dni = np.hsplit(upraveny_tvar, 2)\n",
    "\n",
    "prumer_prvnich_deset_dni = np.mean(prvnich_deset_dni)\n",
    "prumer_druhych_deset_dni = np.mean(dalsich_deset_dni)\n",
    "```\n",
    "</details>"
   ]
  },
  {
   "cell_type": "markdown",
   "id": "6ad60ece-2103-482b-923b-18dc9cb6965d",
   "metadata": {},
   "source": [
    "<br>\n",
    "\n",
    "## Univerzální funkce, UFUNCS\n",
    "\n",
    "---"
   ]
  },
  {
   "cell_type": "markdown",
   "id": "781eb6db-bea5-467a-bee8-208e5753e9b2",
   "metadata": {},
   "source": [
    "Výpočty na polích a maticích `numpy` mohou být **velmi rychlé** nebo **velmi pomalé**.\n",
    "\n",
    "Klíčem k rychlé práci, je použití vektorizovaných operací, které jsou obvykle implementovány prostřednictvím *univerzálními funkcemi*.\n",
    "\n",
    "Jde tedy o funkce, které pracují na objektech polí a matic, prvek po prvku.\n",
    "Umožňují efektivní operace na polích, což vede k výrazně rychlejším výsledkům než pomocí běžných **Pythonových funkcí a cyklů**."
   ]
  },
  {
   "cell_type": "markdown",
   "id": "0d316d1f-600e-4d9f-9160-1c75e173208f",
   "metadata": {},
   "source": [
    "Ukázkou může být sčítání hodnot pro dvě dlouhé matice:"
   ]
  },
  {
   "cell_type": "code",
   "execution_count": 298,
   "id": "76bea6c6-00d4-4cd3-b96c-9e6390faf689",
   "metadata": {
    "tags": []
   },
   "outputs": [],
   "source": [
    "import numpy as np"
   ]
  },
  {
   "cell_type": "code",
   "execution_count": 299,
   "id": "a2fbaeca-e577-4173-9c00-791d5e6bab5f",
   "metadata": {
    "tags": []
   },
   "outputs": [],
   "source": [
    "pole_1 = np.random.randint(1, 100, size=10_000_000)"
   ]
  },
  {
   "cell_type": "code",
   "execution_count": 300,
   "id": "aea10870-8b0e-493b-9f6a-195a2af526d7",
   "metadata": {
    "tags": []
   },
   "outputs": [],
   "source": [
    "pole_2 = np.random.randint(100, 255, size=10_000_000)"
   ]
  },
  {
   "cell_type": "code",
   "execution_count": 301,
   "id": "bb811d46-808d-4b00-bedb-761ec4f91da4",
   "metadata": {
    "tags": []
   },
   "outputs": [],
   "source": [
    "pole_a = np.array([1, 2 ,3])\n",
    "pole_b = np.array([4, 4, 4])"
   ]
  },
  {
   "cell_type": "code",
   "execution_count": 302,
   "id": "c2d8c05f-b94a-4f15-ab01-de5765484e21",
   "metadata": {
    "tags": []
   },
   "outputs": [
    {
     "data": {
      "text/plain": [
       "array([5, 6, 7])"
      ]
     },
     "execution_count": 302,
     "metadata": {},
     "output_type": "execute_result"
    }
   ],
   "source": [
    "pole_a + pole_b"
   ]
  },
  {
   "cell_type": "code",
   "execution_count": 303,
   "id": "6516b160-2505-400d-bd5a-38a2582e7528",
   "metadata": {},
   "outputs": [
    {
     "data": {
      "text/plain": [
       "array([147, 225, 215, ..., 160, 204, 253])"
      ]
     },
     "execution_count": 303,
     "metadata": {},
     "output_type": "execute_result"
    }
   ],
   "source": [
    "pole_1 + pole_2"
   ]
  },
  {
   "cell_type": "markdown",
   "id": "5b9b14a4-7e6f-4b94-959a-f382e0cd32cd",
   "metadata": {},
   "source": [
    "<br>\n",
    "\n",
    "Pro sečtení hodnot z obou polí můžeš pracovat s funkce `add`:"
   ]
  },
  {
   "cell_type": "code",
   "execution_count": 304,
   "id": "07b0e1d8-3653-472a-a3a0-5ea044d259cb",
   "metadata": {
    "tags": []
   },
   "outputs": [
    {
     "name": "stdout",
     "output_type": "stream",
     "text": [
      "1.87 s ± 85 ms per loop (mean ± std. dev. of 7 runs, 1 loop each)\n"
     ]
    }
   ],
   "source": [
    "%timeit result_loop = [x + y for x, y in zip(pole_1, pole_2)]"
   ]
  },
  {
   "cell_type": "code",
   "execution_count": 305,
   "id": "bf230e0b-a81f-4ae7-9e7a-4a79362b8fbe",
   "metadata": {
    "tags": []
   },
   "outputs": [
    {
     "name": "stdout",
     "output_type": "stream",
     "text": [
      "21.8 ms ± 700 µs per loop (mean ± std. dev. of 7 runs, 10 loops each)\n"
     ]
    }
   ],
   "source": [
    "%timeit secteno_ufuncs = np.add(pole_1, pole_2)"
   ]
  },
  {
   "cell_type": "markdown",
   "id": "f4cb69df-e118-40a4-9413-0afb9f5d649e",
   "metadata": {},
   "source": [
    "<br>\n",
    "\n",
    "Můžeš si všimnout, že řešení s výstupem v `secteno_ufuncs` je skoro 5~10x rychlejší."
   ]
  },
  {
   "cell_type": "markdown",
   "id": "46dfeb2a-bb4a-4a34-8685-5328804fb3a1",
   "metadata": {},
   "source": [
    "<br>\n",
    "\n",
    "Z důvodů použití dynamického, interpretovaného jazyka v rámci CPythonu ti jeho flexibilita neumožní kompilovat jednotlivé operace až na efektivní strojový kód (`01101101110101`).\n",
    "\n",
    "Určitě existují derivace projektů jako *PyPy*, *Cython*, *Numba*."
   ]
  },
  {
   "cell_type": "markdown",
   "id": "480338a0-fe0d-4e77-a606-765a061cbd19",
   "metadata": {},
   "source": [
    "### Úvod do UFUNCS\n",
    "\n",
    "---\n",
    "\n",
    "Pro mnoho typů operací poskytuje `numpy` praktické rozhraní právě pro tento typ operací,\n",
    "staticky typované, zkompilované rutiny.\n",
    "\n",
    "Jedná se o tzv. **vektorizované operace**.\n",
    "\n",
    "Pro aplikace takových funkcí můžeš jednoduše vybrat konkrétní funkci a aplikovat ji na pole."
   ]
  },
  {
   "cell_type": "code",
   "execution_count": null,
   "id": "5148c5f3-ca3b-4d82-956d-2051ddbe3d06",
   "metadata": {
    "tags": []
   },
   "outputs": [],
   "source": [
    "pole_3 = np.arange(10)"
   ]
  },
  {
   "cell_type": "code",
   "execution_count": null,
   "id": "02ab552b-c480-4d17-a8b4-3a64883ad8c1",
   "metadata": {
    "tags": []
   },
   "outputs": [],
   "source": [
    "pole_4 = np.arange(11, 21)"
   ]
  },
  {
   "cell_type": "code",
   "execution_count": null,
   "id": "4c996d56-2c46-4ecb-8b1f-d8e0d93da013",
   "metadata": {
    "tags": []
   },
   "outputs": [],
   "source": [
    "pole_3, pole_4"
   ]
  },
  {
   "cell_type": "code",
   "execution_count": null,
   "id": "1c7daf57-374c-4a38-86d2-40b51ab0acfe",
   "metadata": {
    "tags": []
   },
   "outputs": [],
   "source": [
    "pole_3 / pole_4"
   ]
  },
  {
   "cell_type": "markdown",
   "id": "9ba7b02f-0aaf-4974-a0c4-8b24db4d608b",
   "metadata": {},
   "source": [
    "<br>\n",
    "\n",
    "Počítání přes **ufuncs** je téměř pokaždé efektivnější než aplikace např. obyčejných smyček v Pythonu.\n",
    "\n",
    "Kromě klasických operátorů, můžeš aplikovat samotné funkce:"
   ]
  },
  {
   "cell_type": "code",
   "execution_count": null,
   "id": "d0f1a56b-ff1f-4c01-b75d-b6727ffb801d",
   "metadata": {
    "tags": []
   },
   "outputs": [],
   "source": [
    "np.divide(pole_3, pole_4)"
   ]
  },
  {
   "cell_type": "markdown",
   "id": "a24ce109-b8af-494a-a62b-bb8a2a1f3acd",
   "metadata": {},
   "source": [
    "<br>\n",
    "\n",
    "Výpis některých UFUNCS:\n",
    "\n",
    "| Operátor | Jméno funkce | Popis |\n",
    "| :- | :- | :- |\n",
    "| `+` |  `np.add` |  Sčítání (př., `1 + 1 = 2` ) |\n",
    "| `-` |  `np.subtract` | odčítání (př., `3 - 2 = 1` ) | \n",
    "| `-` | `np.negative` |  unární negace (př., `-2` ) | \n",
    "| `*` | `np.multiply` |  násobení (př., `2 * 3 = 6` ) |\n",
    "| `/` | `np.divide` |  dělení (př., `3 / 2 = 1.5` ) |\n",
    "| `//` |  `np.floor_divide` | celočíselné dělení (př., `3 // 2 = 1` ) |\n",
    "| `**` | `np.power` | umocňování (př., `2 ** 3 = 8` ) | \n",
    "| `%` | `np.mod` | modulo (př., `9 % 4 = 1` ) |"
   ]
  },
  {
   "cell_type": "markdown",
   "id": "0a79be66-6147-4060-a188-afecfb70d5ef",
   "metadata": {},
   "source": [
    "<br>\n",
    "\n",
    "Další kombinací můžeš pracovat třeba **s absolutními hodnotami**:"
   ]
  },
  {
   "cell_type": "code",
   "execution_count": null,
   "id": "d4b86875-a2aa-468f-8180-c7468c9fac70",
   "metadata": {
    "tags": []
   },
   "outputs": [],
   "source": [
    "negativni_cisla = np.array((-5, -4, -3, -2, -1))"
   ]
  },
  {
   "cell_type": "code",
   "execution_count": null,
   "id": "1f2abc19-15f6-4ddf-86d7-559c79f28264",
   "metadata": {
    "tags": []
   },
   "outputs": [],
   "source": [
    "abs(negativni_cisla)"
   ]
  },
  {
   "cell_type": "code",
   "execution_count": null,
   "id": "9a5e2c16-adfb-4291-bf52-d27faff317e3",
   "metadata": {
    "tags": []
   },
   "outputs": [],
   "source": [
    "type(abs)"
   ]
  },
  {
   "cell_type": "markdown",
   "id": "f6a2c663-8ac9-4842-b6f7-7318001fb3b6",
   "metadata": {},
   "source": [
    "<br>\n",
    "\n",
    "Pomocí ufuncs použiješ funkci `absolute`, která je ekvivalentem v rámci `numpy`:"
   ]
  },
  {
   "cell_type": "code",
   "execution_count": null,
   "id": "228c7a0d-7332-4e31-9279-eb653d423a02",
   "metadata": {
    "tags": []
   },
   "outputs": [],
   "source": [
    "np.absolute(negativni_cisla)"
   ]
  },
  {
   "cell_type": "markdown",
   "id": "71077491-352f-462e-9dbe-9056b4ba000a",
   "metadata": {},
   "source": [
    "<br>\n",
    "\n",
    "Práce s **exponenty** a **umocňování**:"
   ]
  },
  {
   "cell_type": "code",
   "execution_count": null,
   "id": "79262f0a-f898-4d06-9578-dd9b2a9639a8",
   "metadata": {
    "tags": []
   },
   "outputs": [],
   "source": [
    "ciselne_hodnoty = np.arange(6)"
   ]
  },
  {
   "cell_type": "code",
   "execution_count": null,
   "id": "24342bba-6bbe-4105-b260-609849e6df94",
   "metadata": {
    "tags": []
   },
   "outputs": [],
   "source": [
    "ciselne_hodnoty"
   ]
  },
  {
   "cell_type": "code",
   "execution_count": null,
   "id": "d222ec4c-251c-412c-b094-64f5bdaa5995",
   "metadata": {
    "tags": []
   },
   "outputs": [],
   "source": [
    "np.exp2(ciselne_hodnoty)      # 2^0, 2^1, 2^2, 2^3, ..."
   ]
  },
  {
   "cell_type": "code",
   "execution_count": null,
   "id": "a0e26806-7967-4440-a301-53584daa4d14",
   "metadata": {
    "tags": []
   },
   "outputs": [],
   "source": [
    "np.power(3, ciselne_hodnoty)  # 3^0, 3^1, ..."
   ]
  },
  {
   "cell_type": "markdown",
   "id": "74de4f14-dfeb-4edf-89e3-6bce82cb710e",
   "metadata": {},
   "source": [
    "<br>\n",
    "\n",
    "Knihovna `numpy` potom nabízí další specializované funkce (logaritmické, trigonometrické, aj.)"
   ]
  },
  {
   "cell_type": "markdown",
   "id": "cd0beee8-5559-436f-84fa-eb9dd264dea8",
   "metadata": {},
   "source": [
    "<br>\n",
    "\n",
    "##### **🧠 CVIČENÍ 🧠, procvič si základy UFUNCS v NUMPY**"
   ]
  },
  {
   "cell_type": "markdown",
   "id": "668c1ac2-2c23-4503-89be-04db95d799a6",
   "metadata": {},
   "source": [
    "Máte prodejní data dvou obchodů za poslední 3 měsíce. Každý obchod poskytuje seznam svých prodejů za každý měsíc. Vaším úkolem je:"
   ]
  },
  {
   "cell_type": "code",
   "execution_count": null,
   "id": "96e425ee-d222-4d47-93bb-645d03e643f9",
   "metadata": {
    "tags": []
   },
   "outputs": [],
   "source": [
    "obchod_1_prodej = [1000, 1200, 1300]\n",
    "obchod_2_prodej = [900, 1100, 1500]"
   ]
  },
  {
   "cell_type": "code",
   "execution_count": null,
   "id": "158ccd03-0d5b-439b-ac31-6a9aa208dbf9",
   "metadata": {
    "tags": []
   },
   "outputs": [],
   "source": [
    "# Převést seznamy prodejů na NumPy pole.\n",
    "import numpy as np"
   ]
  },
  {
   "cell_type": "code",
   "execution_count": null,
   "id": "8c1896ac-4014-4491-a580-5d5c3b46d14d",
   "metadata": {
    "tags": []
   },
   "outputs": [],
   "source": [
    "# 1. Sloučit prodejní data obou obchodů do jednoho pole pomocí funkce concatenate"
   ]
  },
  {
   "cell_type": "code",
   "execution_count": null,
   "id": "988be0f7-0ddb-4c97-9b7c-244f7226268c",
   "metadata": {
    "tags": []
   },
   "outputs": [],
   "source": [
    "# 2. Rozdělit sloučené pole na dvě části, které odpovídají měsícům ..\n",
    "# .. pod sebou u obou obchodů"
   ]
  },
  {
   "cell_type": "code",
   "execution_count": null,
   "id": "823fc5ce-0cd8-435a-85bd-8c99c7270601",
   "metadata": {
    "tags": []
   },
   "outputs": [],
   "source": [
    "# 3. Vypočítat celkový prodej pro každý měsíc"
   ]
  },
  {
   "cell_type": "code",
   "execution_count": null,
   "id": "5d950036-011e-45ea-9f62-1e11c215dc99",
   "metadata": {
    "tags": []
   },
   "outputs": [],
   "source": [
    "# 4. Vypočítat procentuální změnu mezi prvním a druhým měsícem ..\n",
    "# .. a mezi druhým a třetím měsícem mezi celkovými měs. součty"
   ]
  },
  {
   "cell_type": "code",
   "execution_count": null,
   "id": "bf5fe6c5-0d54-4a03-872d-6281590f875f",
   "metadata": {},
   "outputs": [],
   "source": []
  },
  {
   "cell_type": "markdown",
   "id": "d4a02a6a-90c9-4001-bd85-9ade552edbcb",
   "metadata": {},
   "source": [
    "<details>\n",
    "    <summary>▶️ Řešení</summary>\n",
    "    \n",
    "```python\n",
    "obchod_1_prodej = [1000, 1200, 1300]\n",
    "obchod_2_prodej = [900, 1100, 1500]\n",
    "\n",
    "import numpy as np\n",
    "\n",
    "# 1. Sloučit prodejní data obou obchodů do jednoho pole pomocí funkce concatenate\n",
    "sloucene_prodeje = np.concatenate((obchod_1_prodej_pole, obchod_2_prodej_pole))\n",
    "\n",
    "# 2. Rozdělit sloučené pole na dvě části, které odpovídají měsícům ..\n",
    "# .. pod sebou u obou obchodů\n",
    "rozdelene_po_mesicich = sloucene_prodeje.reshape(2, -1)\n",
    "\n",
    "# 3. Vypočítat celkový prodej pro každý měsíc\n",
    "mesic_1, mesic_2, mesic_3 = np.hsplit(rozdelene_po_mesicich, 3)\n",
    "celkem_mesice = np.array((mesic_1.sum(), mesic_2.sum(), mesic_3.sum()))\n",
    "\n",
    "# 4. Vypočítat procentuální změnu mezi prvním a druhým měsícem ..\n",
    "# .. a mezi druhým a třetím měsícem mezi celkovými měs. součty\n",
    "rozdily = np.diff(celkem_mesice)\n",
    "np.divide(rozdily, celkem_mesice[:2]) * 100\n",
    "\n",
    "\n",
    "### ALTERNATIVA\n",
    "#Vstupní data\n",
    "obchod_1_prodej = [1000, 1200, 1300]\n",
    "obchod_2_prodej = [900, 1100, 1500]\n",
    "\n",
    "# Převést seznamy prodejů na NumPy pole.\n",
    "obchod_1_prodej_np = np.array( obchod_1_prodej )\n",
    "obchod_2_prodej_np = np.array( obchod_2_prodej )\n",
    "\n",
    "\n",
    "# Sloučit prodejní data obou obchodů do jednoho pole pomocí funkce concatenate\n",
    "obchody_prodej = np.concatenate( [ obchod_1_prodej_np, obchod_2_prodej_np ] )\n",
    "display( obchody_prodej )\n",
    "\n",
    "# Rozdělit sloučené pole na dvě části, které odpovídají měsícům pod sebou u obou obchodů\n",
    "rozdeleni_mesice = np.reshape( obchody_prodej, (-1, 3) ).T\n",
    "display( rozdeleni_mesice )\n",
    "\n",
    "# Vypočítat celkový prodej pro každý měsíc\n",
    "celkove_prodeje = rozdeleni_mesice.sum( axis = 1 )\n",
    "display( celkove_prodeje )\n",
    "\n",
    "# Vypočítat procentuální změnu mezi prvním a druhým měsícem a mezi druhým a třetím měsícem\n",
    "procentualni_zmena = ( np.diff( celkove_prodeje ) / celkove_prodeje[:2] * 100 ).round( 3 )\n",
    "display( procentualni_zmena )\n",
    "```\n",
    "</details>"
   ]
  },
  {
   "cell_type": "markdown",
   "id": "7032758d-2c69-4fa7-b16e-9a2201b086dc",
   "metadata": {},
   "source": [
    "---"
   ]
  }
 ],
 "metadata": {
  "kernelspec": {
   "display_name": "Python 3 (ipykernel)",
   "language": "python",
   "name": "python3"
  },
  "language_info": {
   "codemirror_mode": {
    "name": "ipython",
    "version": 3
   },
   "file_extension": ".py",
   "mimetype": "text/x-python",
   "name": "python",
   "nbconvert_exporter": "python",
   "pygments_lexer": "ipython3",
   "version": "3.8.10"
  }
 },
 "nbformat": 4,
 "nbformat_minor": 5
}

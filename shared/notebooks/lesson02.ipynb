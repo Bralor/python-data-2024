{
 "cells": [
  {
   "cell_type": "markdown",
   "id": "detected-handle",
   "metadata": {},
   "source": [
    "# Python Data, 2024\n",
    "\n",
    "---"
   ]
  },
  {
   "cell_type": "markdown",
   "id": "flush-writer",
   "metadata": {},
   "source": [
    "* [Úvod k pandám](#Úvod-k-pandám),\n",
    "* [základní objekty](#Základní-datové-typy-frameworku),\n",
    "    - [series](#Series),\n",
    "    - [dataframe](#DataFrame),\n",
    "    - [index](#Index).\n",
    "* [načítání objektů](#Načítání-objektů),\n",
    "    - [načti csv](#Načti-soubor-csv),\n",
    "    - [načti html](#Načti-tabulku-html),\n",
    "    - [načti data z SQL](#Načti-výstup-dotazu-do-tabulky).\n",
    "* [prohlížení dat](#Prozkoumávání-dat),\n",
    "    - [selekce u sloupečků](#Selekce-u-sloupečků),\n",
    "    - [selekce u tabulek](#Selekce-u-tabulárních-hodnot),\n",
    "    - [další metody prohlížení](#Metody-pro-nahlížení).\n",
    "* [manipulace s daty](#Manipulace-se-sloupci),\n",
    "    - [přejmenování sloupců](#Přejmenování-sloupců),\n",
    "    - [přidávání sloupců](#Přidávání-sloupců-do-DataFrame),\n",
    "    - [odstraňování sloupců]()."
   ]
  },
  {
   "cell_type": "markdown",
   "id": "given-arcade",
   "metadata": {},
   "source": [
    "<img src=\"https://external-content.duckduckgo.com/iu/?u=https%3A%2F%2Ftse1.mm.bing.net%2Fth%3Fid%3DOIP.BaZU6gIdwRYQHu4rBBoO-gHaIX%26pid%3DApi&f=1&ipt=1013c975daabd695fcd4ebfc2c0e0b8ba4f10c37780419d8ff56538ec7a7f9ea&ipo=images\" width=\"200\" style=\"margin-left:auto; margin-right:auto\"/>\n",
    "\n",
    "## Úvod k pandám\n",
    "\n",
    "---\n",
    "\n"
   ]
  },
  {
   "cell_type": "markdown",
   "id": "stone-lithuania",
   "metadata": {},
   "source": [
    "Jde o knihovnu, která staví na jednoduchých, přesto výkonných a intuitivních nástrojích.\n",
    "\n",
    "Tyto prostředky umožňují manipulaci, analýzu a vizualizaci strukturovaných dat s tabulkovými a časovými daty.\n",
    "\n",
    "Vezme data z různých zdrojů, načte je, zpracuje a zapíše (pozn. **zdroj v C**).\n",
    "\n",
    "\n",
    "<br>"
   ]
  },
  {
   "cell_type": "markdown",
   "id": "sonic-rough",
   "metadata": {},
   "source": [
    "### Kde pandy najdu a jak vypadají?\n",
    "\n",
    "---"
   ]
  },
  {
   "cell_type": "markdown",
   "id": "optional-trader",
   "metadata": {},
   "source": [
    "- Odkaz na **oficiální repozitář** [této knihovny](https://github.com/pandas-dev/pandas),\n",
    "- pokud budeš potřebovat více podrobností, mrkni na [oficiální dokumentaci](https://pandas.pydata.org/pandas-docs/stable/index.html).\n",
    "\n",
    "<br>"
   ]
  },
  {
   "cell_type": "markdown",
   "id": "heard-macedonia",
   "metadata": {},
   "source": [
    "### Proč se ti bude hodit?\n",
    "\n",
    "---"
   ]
  },
  {
   "cell_type": "markdown",
   "id": "graduate-lottery",
   "metadata": {},
   "source": [
    "**Pandas** slouží pro analýzu dat.\n",
    "\n",
    "Data jsou nejčastěji v SQL databázi, různých souborech, tabulkových procesech atd.\n",
    "\n",
    "*Pandas* si představ jako Excel, ale s více funkcemi a hlavně možností automatizovat procesy.\n",
    "\n",
    "<br>"
   ]
  },
  {
   "cell_type": "markdown",
   "id": "characteristic-cloud",
   "metadata": {},
   "source": [
    "### Jak nainstalovat knihovnu?\n",
    "\n",
    "---"
   ]
  },
  {
   "cell_type": "markdown",
   "id": "f77099e0-fbb1-49dd-9597-c08ce1898f6b",
   "metadata": {},
   "source": [
    "Instalace **poslední dostupné verze**:"
   ]
  },
  {
   "cell_type": "code",
   "execution_count": null,
   "id": "sufficient-liability",
   "metadata": {},
   "outputs": [],
   "source": [
    "!pip install pandas  # Možnost pracovat s jiným manažerem"
   ]
  },
  {
   "cell_type": "markdown",
   "id": "f766473d-3b3e-4ddb-9d4b-69327f07bced",
   "metadata": {},
   "source": [
    "<br>\n",
    "\n",
    "Instalace **konkrétní vybrané verze**:"
   ]
  },
  {
   "cell_type": "code",
   "execution_count": null,
   "id": "early-workplace",
   "metadata": {},
   "outputs": [],
   "source": [
    "!pip install pandas==1.1.1"
   ]
  },
  {
   "cell_type": "markdown",
   "id": "distinguished-carter",
   "metadata": {},
   "source": [
    "<br>\n",
    "\n",
    "### Jak knihovnu spustit?\n",
    "\n",
    "---"
   ]
  },
  {
   "cell_type": "code",
   "execution_count": null,
   "id": "coral-looking",
   "metadata": {
    "tags": []
   },
   "outputs": [],
   "source": [
    "import pandas"
   ]
  },
  {
   "cell_type": "code",
   "execution_count": null,
   "id": "c9ed36bc-17e9-4a23-9135-d681ac5495fd",
   "metadata": {
    "tags": []
   },
   "outputs": [],
   "source": [
    "pandas.__version__  # FutureWarning"
   ]
  },
  {
   "cell_type": "markdown",
   "id": "6c0d2f48-8711-4efa-a24a-f52cb845131e",
   "metadata": {},
   "source": [
    "<br>\n",
    "\n",
    "Použití **aliasu**:"
   ]
  },
  {
   "cell_type": "code",
   "execution_count": null,
   "id": "copyrighted-coordination",
   "metadata": {},
   "outputs": [],
   "source": [
    "import pandas as pd"
   ]
  },
  {
   "cell_type": "code",
   "execution_count": null,
   "id": "sitting-choice",
   "metadata": {},
   "outputs": [],
   "source": [
    "from pandas import DataFrame"
   ]
  },
  {
   "cell_type": "code",
   "execution_count": null,
   "id": "ba76044b-ea73-482e-a562-ab855d2206cc",
   "metadata": {},
   "outputs": [],
   "source": []
  },
  {
   "cell_type": "markdown",
   "id": "50ab7406-603c-4765-a096-df4b06d09e8d",
   "metadata": {},
   "source": [
    "<br>\n",
    "\n",
    "### Souhrn kapitoly\n",
    "---"
   ]
  },
  {
   "cell_type": "markdown",
   "id": "b5c98d8c-7c22-4797-bb9a-c0bc3ae5ebee",
   "metadata": {},
   "source": [
    "- knihovna je tedy *švýcarský nožík* pro práci **s tabelárními daty** a **časovými řadami**,\n",
    "- jde o větší balíček, třetích stran (potřeba stáhnout & instalovat)."
   ]
  },
  {
   "cell_type": "markdown",
   "id": "e36bda6b-ff1e-4670-ab73-0fd4f91868e7",
   "metadata": {},
   "source": [
    "<img src=\"https://external-content.duckduckgo.com/iu/?u=https%3A%2F%2Ftse1.mm.bing.net%2Fth%3Fid%3DOIP.b2NCTuZRiG8yrmTCF7MogAHaHa%26pid%3DApi&f=1&ipt=f9e6a3811b3a707743134cfb19b2ee4f9c44584f5ea328582b227f14b94fcb1f&ipo=images\" width=\"200\" style=\"margin-left:auto; margin-right:auto\"/>"
   ]
  },
  {
   "cell_type": "markdown",
   "id": "d9ca33b0-9624-4ecf-acd1-1ac5510d7fbf",
   "metadata": {},
   "source": [
    "## Základní datové typy\n",
    "\n",
    "---"
   ]
  },
  {
   "cell_type": "markdown",
   "id": "surface-glass",
   "metadata": {},
   "source": [
    "Knihovna nabízí řadu užitečných nástrojů.\n",
    "\n",
    "Jde o *metody* a *funkce* nad rámec základních (zabudovaných) **datových struktur**.\n",
    "\n",
    "Hlavní **tři struktury**, na kterých knihovna stojí jsou:\n",
    "* `Index`\n",
    "* `series`,\n",
    "* `dataFrames`."
   ]
  },
  {
   "cell_type": "markdown",
   "id": "bda49559-15bb-4850-8e94-04c3feb65a8d",
   "metadata": {
    "tags": []
   },
   "source": [
    "<img src=\"https://i.imgur.com/NNRgONl.png\" width=\"1200\" style=\"margin-left:auto; margin-right:auto\"/>"
   ]
  },
  {
   "cell_type": "markdown",
   "id": "fa0c3f39-befd-4e5a-889a-b7424333d7dc",
   "metadata": {},
   "source": [
    "- **Indexes**, je označení (nebo **identifikátor**) jednotlivých řádků, které slouží k jejich jednoznačné identifikaci a usnadňuje přístup k datům,\n",
    "- **series**, je *sloupec*, **pole** hodnot s indexem, tedy sloupeček tabulky nebo číslovaný seznam,\n",
    "- **frames**, jde v podstatě o označení celé tabulky."
   ]
  },
  {
   "cell_type": "markdown",
   "id": "de83dee6-e5be-4926-a083-481297153ff7",
   "metadata": {},
   "source": [
    "### Series\n",
    "\n",
    "---"
   ]
  },
  {
   "cell_type": "markdown",
   "id": "forward-brooks",
   "metadata": {},
   "source": [
    "<img src=\"https://external-content.duckduckgo.com/iu/?u=https%3A%2F%2Ftse3.mm.bing.net%2Fth%3Fid%3DOIP.Yp6ZBv9C33_pDfZkJcKbJQHaHa%26pid%3DApi&f=1&ipt=546833b7ce370c5a62bea21079371efd1fa9547765d4eae8e6c9e41f6b25a3af&ipo=images\" width=\"200\" style=\"margin-left:auto; margin-right:auto\"/>"
   ]
  },
  {
   "cell_type": "markdown",
   "id": "b04a1d7e-cbcc-4528-be04-f816128ef888",
   "metadata": {},
   "source": [
    "Jde **o jednodimenzionální pole** (popř. sloupeček, řada).\n",
    "\n",
    "Tento objekt má **indexované data** (jsi schopen data vybrat, uchopit).\n",
    "\n",
    "Opět si jej můžeš představit jako sloupeček v obyčejných *Excelovských* tabulkách.\n",
    "\n",
    "<br>"
   ]
  },
  {
   "cell_type": "markdown",
   "id": "chicken-serum",
   "metadata": {},
   "source": [
    "Na ukázku můžeš tyto sloupečky vytvořit třeba ze sekvencí:"
   ]
  },
  {
   "cell_type": "code",
   "execution_count": 2,
   "id": "controlling-perfume",
   "metadata": {
    "tags": []
   },
   "outputs": [],
   "source": [
    "from pandas import Series"
   ]
  },
  {
   "cell_type": "code",
   "execution_count": 3,
   "id": "alpha-neutral",
   "metadata": {
    "tags": []
   },
   "outputs": [],
   "source": [
    "mesta_sl = Series([\"Praha\", \"Brno\", \"Ostrava\", \"Hradek Králové\"])"
   ]
  },
  {
   "cell_type": "code",
   "execution_count": 4,
   "id": "moved-stephen",
   "metadata": {
    "tags": []
   },
   "outputs": [
    {
     "data": {
      "text/plain": [
       "pandas.core.series.Series"
      ]
     },
     "execution_count": 4,
     "metadata": {},
     "output_type": "execute_result"
    }
   ],
   "source": [
    "type(mesta_sl)"
   ]
  },
  {
   "cell_type": "code",
   "execution_count": 5,
   "id": "auburn-magic",
   "metadata": {
    "tags": []
   },
   "outputs": [
    {
     "data": {
      "text/plain": [
       "0             Praha\n",
       "1              Brno\n",
       "2           Ostrava\n",
       "3    Hradek Králové\n",
       "dtype: object"
      ]
     },
     "execution_count": 5,
     "metadata": {},
     "output_type": "execute_result"
    }
   ],
   "source": [
    "mesta_sl"
   ]
  },
  {
   "cell_type": "markdown",
   "id": "guided-context",
   "metadata": {},
   "source": [
    "<br>\n",
    "\n",
    "Jak můžeš vidět v ukázce výše, *sloupec* `Series` obsahuje **jak pořadí, tak hodnoty**."
   ]
  },
  {
   "cell_type": "code",
   "execution_count": 6,
   "id": "subsequent-isolation",
   "metadata": {
    "tags": []
   },
   "outputs": [
    {
     "data": {
      "text/plain": [
       "RangeIndex(start=0, stop=4, step=1)"
      ]
     },
     "execution_count": 6,
     "metadata": {},
     "output_type": "execute_result"
    }
   ],
   "source": [
    "mesta_sl.index"
   ]
  },
  {
   "cell_type": "code",
   "execution_count": 7,
   "id": "abroad-soundtrack",
   "metadata": {
    "tags": []
   },
   "outputs": [
    {
     "data": {
      "text/plain": [
       "array(['Praha', 'Brno', 'Ostrava', 'Hradek Králové'], dtype=object)"
      ]
     },
     "execution_count": 7,
     "metadata": {},
     "output_type": "execute_result"
    }
   ],
   "source": [
    "mesta_sl.values"
   ]
  },
  {
   "cell_type": "markdown",
   "id": "presidential-radius",
   "metadata": {},
   "source": [
    "<br>\n",
    "\n",
    "Obecně vypadá jako nějaké pole, který má svůj nativní datový typ `object`."
   ]
  },
  {
   "cell_type": "markdown",
   "id": "careful-courage",
   "metadata": {},
   "source": [
    "<br>\n",
    "\n",
    "Ačkoliv je `pandas` knihovna Pythonu, datové typy nemusí vždy odpovídat základním **datovým typům Pythonu**:"
   ]
  },
  {
   "cell_type": "markdown",
   "id": "gentle-netherlands",
   "metadata": {},
   "source": [
    "| Typy `pandas`| typy `Python`| Použití |\n",
    "| :-: | :-: | :- |\n",
    "| `object` | `str` nebo směska| text nebo namíchané číselné a nečíselné hodnoty |\n",
    "| `int64` | `int`| celá čísla |\n",
    "| `float64` | `float` | desetinná čísla |\n",
    "| `bool` | `bool` | True a False |\n",
    "| `datetime64` | `-`| Hodnota data a času |\n",
    "| `timedelta` | `-` | Časové rozdíly |"
   ]
  },
  {
   "cell_type": "markdown",
   "id": "f1b803c6-85ee-4b07-a07c-b02bfb39215e",
   "metadata": {},
   "source": [
    "<br>\n",
    "\n",
    "Stejně jako pole nebo sekvence můžeš indexovat a slicovat hodnoty typu `Series`."
   ]
  },
  {
   "cell_type": "code",
   "execution_count": null,
   "id": "6bfb3ec5-e5c3-4789-b757-62acb5e40588",
   "metadata": {
    "tags": []
   },
   "outputs": [],
   "source": [
    "mesta_sl"
   ]
  },
  {
   "cell_type": "markdown",
   "id": "a3708448-e52d-446a-a2a1-35fdd925fc3d",
   "metadata": {},
   "source": [
    "#### Indexování sloupečku\n",
    "\n",
    "---"
   ]
  },
  {
   "cell_type": "code",
   "execution_count": null,
   "id": "billion-weapon",
   "metadata": {
    "tags": []
   },
   "outputs": [],
   "source": [
    "mesta_sl[1]"
   ]
  },
  {
   "cell_type": "markdown",
   "id": "absolute-premium",
   "metadata": {},
   "source": [
    "<br>\n",
    "\n",
    "#### Slicing sloupečku\n",
    "\n",
    "---"
   ]
  },
  {
   "cell_type": "code",
   "execution_count": null,
   "id": "abstract-ideal",
   "metadata": {
    "tags": []
   },
   "outputs": [],
   "source": [
    "mesta_sl[0:3]"
   ]
  },
  {
   "cell_type": "markdown",
   "id": "supreme-monkey",
   "metadata": {},
   "source": [
    "Na první pohled není tolik odlišný od datového typu `list` nebo `tuple` (případně pole v `numpy`)."
   ]
  },
  {
   "cell_type": "markdown",
   "id": "functional-grocery",
   "metadata": {},
   "source": [
    "Největší rozdíl spočítá právě v **indexu**.\n",
    "\n",
    "Ať `list`, `tuple` nebo `numpy.array` implicitně pracují **s celočíselným indexem**.\n",
    "\n",
    "<br>\n",
    "\n",
    "Objekt `Series` na druhou stranu nabízí možnost, zadávat vlastní indexové hodnoty:"
   ]
  },
  {
   "cell_type": "code",
   "execution_count": 8,
   "id": "latin-norman",
   "metadata": {
    "tags": []
   },
   "outputs": [],
   "source": [
    "mesta_sl = Series([\"Praha\", \"Brno\", \"Ostrava\", \"Hradek Králové\"],\n",
    "                  index=[\"1_mesto\", \"2_mesto\", \"3_mesto\", \"4_mesto\"])  # Tvoje specifické indexy"
   ]
  },
  {
   "cell_type": "code",
   "execution_count": 9,
   "id": "scheduled-begin",
   "metadata": {},
   "outputs": [
    {
     "data": {
      "text/plain": [
       "Index(['1_mesto', '2_mesto', '3_mesto', '4_mesto'], dtype='object')"
      ]
     },
     "execution_count": 9,
     "metadata": {},
     "output_type": "execute_result"
    }
   ],
   "source": [
    "mesta_sl.index"
   ]
  },
  {
   "cell_type": "code",
   "execution_count": 10,
   "id": "lesser-player",
   "metadata": {
    "tags": []
   },
   "outputs": [
    {
     "data": {
      "text/plain": [
       "1_mesto             Praha\n",
       "2_mesto              Brno\n",
       "3_mesto           Ostrava\n",
       "4_mesto    Hradek Králové\n",
       "dtype: object"
      ]
     },
     "execution_count": 10,
     "metadata": {},
     "output_type": "execute_result"
    }
   ],
   "source": [
    "mesta_sl"
   ]
  },
  {
   "cell_type": "code",
   "execution_count": 11,
   "id": "theoretical-digit",
   "metadata": {
    "tags": []
   },
   "outputs": [
    {
     "data": {
      "text/plain": [
       "'Brno'"
      ]
     },
     "execution_count": 11,
     "metadata": {},
     "output_type": "execute_result"
    }
   ],
   "source": [
    "mesta_sl[\"2_mesto\"]"
   ]
  },
  {
   "cell_type": "markdown",
   "id": "broke-lecture",
   "metadata": {},
   "source": [
    "Tímto způsobem si můžeš představit řadu, sloupec (`Series`) jako variantu datového typu `dict`, v Pythonu."
   ]
  },
  {
   "cell_type": "markdown",
   "id": "economic-review",
   "metadata": {},
   "source": [
    "Víš, že ve slovníku Pythonu jsou hodnoty *mapované* na jednotlivé klíče.\n",
    "\n",
    "<br>\n",
    "\n",
    "#### Pokročilé, type-specific\n",
    "---\n",
    "V případě `Series` jde o mapování **typovaných hodnot** na **typované klíče**. Právě pojem **typovaný** (~*type-specific*) je zásadní.\n",
    "\n",
    "Právě *typovaný* zkompilovaný kód od `Series` nabízí některé efektivnější metody a funkce, které obyč. `dict` v Pythonu ne."
   ]
  },
  {
   "cell_type": "code",
   "execution_count": 12,
   "id": "diagnostic-geometry",
   "metadata": {
    "tags": []
   },
   "outputs": [],
   "source": [
    "populace_evropa = {\n",
    "    'Dansko': 5_655_750,\n",
    "    'Ceska_republika': 10_513_209,\n",
    "    'Nemecko': 80_716_000,\n",
    "    'Polsko': 38_483_957,\n",
    "    'Slovensko': 5_415_949,\n",
    "    'Rakousko': 8_932_664\n",
    "}"
   ]
  },
  {
   "cell_type": "code",
   "execution_count": 13,
   "id": "exempt-alexandria",
   "metadata": {
    "tags": []
   },
   "outputs": [],
   "source": [
    "populace_evropa_sl = Series(populace_evropa)"
   ]
  },
  {
   "cell_type": "code",
   "execution_count": 14,
   "id": "0a24f1b7-9d60-4c85-8008-1d81fb3d28de",
   "metadata": {
    "tags": []
   },
   "outputs": [
    {
     "data": {
      "text/plain": [
       "Dansko              5655750\n",
       "Ceska_republika    10513209\n",
       "Nemecko            80716000\n",
       "Polsko             38483957\n",
       "Slovensko           5415949\n",
       "Rakousko            8932664\n",
       "dtype: int64"
      ]
     },
     "execution_count": 14,
     "metadata": {},
     "output_type": "execute_result"
    }
   ],
   "source": [
    "populace_evropa_sl"
   ]
  },
  {
   "cell_type": "markdown",
   "id": "electronic-trunk",
   "metadata": {},
   "source": [
    "<br>\n",
    "\n",
    "Defaultně ti objekt `Series` nachystá index ze seřazených klíčů původního datového typu `dict`.\n",
    "\n",
    "Můžeš provést klasické mapování hodnoty na jméno klíče:"
   ]
  },
  {
   "cell_type": "code",
   "execution_count": 15,
   "id": "clean-psychology",
   "metadata": {
    "tags": []
   },
   "outputs": [
    {
     "data": {
      "text/plain": [
       "10513209"
      ]
     },
     "execution_count": 15,
     "metadata": {},
     "output_type": "execute_result"
    }
   ],
   "source": [
    "populace_evropa_sl[\"Ceska_republika\"]"
   ]
  },
  {
   "cell_type": "markdown",
   "id": "cloudy-pasta",
   "metadata": {},
   "source": [
    "K tomu, ale `Series` nabízí operace jako např. *slicing* pro pole:"
   ]
  },
  {
   "cell_type": "code",
   "execution_count": 16,
   "id": "swiss-calvin",
   "metadata": {
    "tags": []
   },
   "outputs": [
    {
     "data": {
      "text/plain": [
       "Ceska_republika    10513209\n",
       "Nemecko            80716000\n",
       "Polsko             38483957\n",
       "dtype: int64"
      ]
     },
     "execution_count": 16,
     "metadata": {},
     "output_type": "execute_result"
    }
   ],
   "source": [
    "populace_evropa_sl[\"Ceska_republika\": \"Polsko\"]"
   ]
  },
  {
   "cell_type": "markdown",
   "id": "f6db18e1-206a-41d8-8499-30443d2021f0",
   "metadata": {},
   "source": [
    "<br>\n",
    "\n",
    "**🧠 CVIČENÍ 🧠, přepočítej hodnoty ve sloupečku**"
   ]
  },
  {
   "cell_type": "code",
   "execution_count": null,
   "id": "81b14ebb-e8b8-429d-a8e8-2e02c9eead3a",
   "metadata": {},
   "outputs": [],
   "source": [
    "data = {              # Data v milionech, převeď na jednotky\n",
    "    \"New York\": 8.4,  # 8400000\n",
    "    \"London\": 9.0,\n",
    "    \"Tokyo\": 13.9,\n",
    "    \"Sydney\": 5.3,\n",
    "}"
   ]
  },
  {
   "cell_type": "code",
   "execution_count": 39,
   "id": "4e5e329d-4735-46a7-8172-f99eb5cfa247",
   "metadata": {},
   "outputs": [],
   "source": [
    "# Zapiš řešení"
   ]
  },
  {
   "cell_type": "markdown",
   "id": "c4e25329-fb91-49ad-9539-2907e783fb17",
   "metadata": {},
   "source": [
    "<details>\n",
    "    <summary>▶️ Řešení</summary>\n",
    "    \n",
    "```python\n",
    "import pandas as pd\n",
    "\n",
    "data = {\n",
    "    \"New York\": 8.4,\n",
    "    \"London\": 9.0,\n",
    "    \"Tokyo\": 13.9,\n",
    "    \"Sydney\": 5.3,\n",
    "}\n",
    "\n",
    "\n",
    "mesta_sl = pd.Series(data)\n",
    "\n",
    "\n",
    "def preved_na_jednotky(series):\n",
    "    return series * 1_000_000  # astype(int) -> celé číslo\n",
    "\n",
    "\n",
    "prevedene = preved_na_jednotky(mesta_sl)\n",
    "```\n",
    "</details>"
   ]
  },
  {
   "cell_type": "markdown",
   "id": "39344faa-b5ec-4bb1-9f2e-1da2d6d5e80f",
   "metadata": {},
   "source": [
    "<img src=\"https://external-content.duckduckgo.com/iu/?u=https%3A%2F%2Ftse1.mm.bing.net%2Fth%3Fid%3DOIP._inpASbq98lGCmZFxPEq7wHaHa%26pid%3DApi&f=1&ipt=ecf1243da46e7ae6341330ae58bda2a6456c95f63a0cd79eda7d561cf3334a57&ipo=images\" width=\"200\" style=\"margin-left:auto; margin-right:auto\"/>"
   ]
  },
  {
   "cell_type": "markdown",
   "id": "sealed-moment",
   "metadata": {},
   "source": [
    "<br>\n",
    "\n",
    "### DataFrame\n",
    "\n",
    "---\n",
    "\n",
    "\n",
    "Dalším elementárním datovým typem této knihovny je `DataFrame`.\n",
    "\n",
    "Analogicky si jej můžeš představit **jako tabulku** v Excelu.\n",
    "\n",
    "Tedy objekt složený **z řádků** (indexů) a **sloupců** (`Series`)."
   ]
  },
  {
   "cell_type": "code",
   "execution_count": 18,
   "id": "sweet-pearl",
   "metadata": {
    "tags": []
   },
   "outputs": [],
   "source": [
    "populace_evropa = {\n",
    "    'Dansko': 5_655_750,\n",
    "    'Ceska_republika': 10_513_209,\n",
    "    'Nemecko': 80_716_000,\n",
    "    'Polsko': 38_483_957,\n",
    "    'Slovensko': 5_415_949,\n",
    "    'Rakousko': 8_932_664\n",
    "}"
   ]
  },
  {
   "cell_type": "code",
   "execution_count": 19,
   "id": "imported-directory",
   "metadata": {
    "tags": []
   },
   "outputs": [],
   "source": [
    "rozloha_evropa = {\n",
    "    'Dansko': 42_916,\n",
    "    'Ceska_republika': 78_870,\n",
    "    'Nemecko': 357_168,\n",
    "    'Polsko': 312_679,\n",
    "    'Slovensko': 49_035,\n",
    "    'Rakousko': 83_878\n",
    "}"
   ]
  },
  {
   "cell_type": "markdown",
   "id": "6730c4bb-dce7-4850-9f18-08951e214f35",
   "metadata": {},
   "source": [
    "<br>\n",
    "\n",
    "Nezapomeň nahrát potřebný objekt:"
   ]
  },
  {
   "cell_type": "code",
   "execution_count": 20,
   "id": "related-counter",
   "metadata": {
    "tags": []
   },
   "outputs": [],
   "source": [
    "from pandas import DataFrame"
   ]
  },
  {
   "cell_type": "code",
   "execution_count": 21,
   "id": "regulation-thread",
   "metadata": {
    "tags": []
   },
   "outputs": [],
   "source": [
    "zeme_evropa_df = DataFrame(  # Zdůraznit \"df\"\n",
    "    {\n",
    "        \"populace\": populace_evropa,\n",
    "        \"rozloha\": rozloha_evropa\n",
    "    }\n",
    ")"
   ]
  },
  {
   "cell_type": "code",
   "execution_count": 22,
   "id": "seeing-flavor",
   "metadata": {
    "tags": []
   },
   "outputs": [
    {
     "data": {
      "text/html": [
       "<div>\n",
       "<style scoped>\n",
       "    .dataframe tbody tr th:only-of-type {\n",
       "        vertical-align: middle;\n",
       "    }\n",
       "\n",
       "    .dataframe tbody tr th {\n",
       "        vertical-align: top;\n",
       "    }\n",
       "\n",
       "    .dataframe thead th {\n",
       "        text-align: right;\n",
       "    }\n",
       "</style>\n",
       "<table border=\"1\" class=\"dataframe\">\n",
       "  <thead>\n",
       "    <tr style=\"text-align: right;\">\n",
       "      <th></th>\n",
       "      <th>populace</th>\n",
       "      <th>rozloha</th>\n",
       "    </tr>\n",
       "  </thead>\n",
       "  <tbody>\n",
       "    <tr>\n",
       "      <th>Dansko</th>\n",
       "      <td>5655750</td>\n",
       "      <td>42916</td>\n",
       "    </tr>\n",
       "    <tr>\n",
       "      <th>Ceska_republika</th>\n",
       "      <td>10513209</td>\n",
       "      <td>78870</td>\n",
       "    </tr>\n",
       "    <tr>\n",
       "      <th>Nemecko</th>\n",
       "      <td>80716000</td>\n",
       "      <td>357168</td>\n",
       "    </tr>\n",
       "    <tr>\n",
       "      <th>Polsko</th>\n",
       "      <td>38483957</td>\n",
       "      <td>312679</td>\n",
       "    </tr>\n",
       "    <tr>\n",
       "      <th>Slovensko</th>\n",
       "      <td>5415949</td>\n",
       "      <td>49035</td>\n",
       "    </tr>\n",
       "    <tr>\n",
       "      <th>Rakousko</th>\n",
       "      <td>8932664</td>\n",
       "      <td>83878</td>\n",
       "    </tr>\n",
       "  </tbody>\n",
       "</table>\n",
       "</div>"
      ],
      "text/plain": [
       "                 populace  rozloha\n",
       "Dansko            5655750    42916\n",
       "Ceska_republika  10513209    78870\n",
       "Nemecko          80716000   357168\n",
       "Polsko           38483957   312679\n",
       "Slovensko         5415949    49035\n",
       "Rakousko          8932664    83878"
      ]
     },
     "execution_count": 22,
     "metadata": {},
     "output_type": "execute_result"
    }
   ],
   "source": [
    "zeme_evropa_df"
   ]
  },
  {
   "cell_type": "code",
   "execution_count": 23,
   "id": "b9e66091-4628-44c4-bebd-e81b3cd7ab4a",
   "metadata": {
    "tags": []
   },
   "outputs": [
    {
     "data": {
      "text/plain": [
       "pandas.core.frame.DataFrame"
      ]
     },
     "execution_count": 23,
     "metadata": {},
     "output_type": "execute_result"
    }
   ],
   "source": [
    "type(zeme_evropa_df)"
   ]
  },
  {
   "cell_type": "markdown",
   "id": "reduced-prediction",
   "metadata": {},
   "source": [
    "<br>\n",
    "\n",
    "Stejně jako u `Series` má i `DataFrame` svoje *indexy*:"
   ]
  },
  {
   "cell_type": "code",
   "execution_count": 24,
   "id": "aware-feedback",
   "metadata": {
    "tags": []
   },
   "outputs": [
    {
     "data": {
      "text/plain": [
       "Index(['Dansko', 'Ceska_republika', 'Nemecko', 'Polsko', 'Slovensko',\n",
       "       'Rakousko'],\n",
       "      dtype='object')"
      ]
     },
     "execution_count": 24,
     "metadata": {},
     "output_type": "execute_result"
    }
   ],
   "source": [
    "zeme_evropa_df.index"
   ]
  },
  {
   "cell_type": "markdown",
   "id": "outer-fundamentals",
   "metadata": {},
   "source": [
    "<br>\n",
    "\n",
    "Navíc můžeš pracovat s atributem `columns`, který drží jména **jednotlivých sloupečků**:"
   ]
  },
  {
   "cell_type": "code",
   "execution_count": 25,
   "id": "hispanic-mortgage",
   "metadata": {
    "tags": []
   },
   "outputs": [
    {
     "data": {
      "text/plain": [
       "Index(['populace', 'rozloha'], dtype='object')"
      ]
     },
     "execution_count": 25,
     "metadata": {},
     "output_type": "execute_result"
    }
   ],
   "source": [
    "zeme_evropa_df.columns"
   ]
  },
  {
   "cell_type": "markdown",
   "id": "moving-andrew",
   "metadata": {},
   "source": [
    "Proto si můžeš objekt `DataFrame` představit také jako Pythonovský `dict`.\n",
    "\n",
    "<br>\n",
    "\n",
    "Ovšem s tím rozdílem, že tentokrát mapuješ jméno sloupečku na `Series`:"
   ]
  },
  {
   "cell_type": "code",
   "execution_count": 26,
   "id": "single-mumbai",
   "metadata": {
    "tags": []
   },
   "outputs": [
    {
     "data": {
      "text/plain": [
       "Dansko              5655750\n",
       "Ceska_republika    10513209\n",
       "Nemecko            80716000\n",
       "Polsko             38483957\n",
       "Slovensko           5415949\n",
       "Rakousko            8932664\n",
       "Name: populace, dtype: int64"
      ]
     },
     "execution_count": 26,
     "metadata": {},
     "output_type": "execute_result"
    }
   ],
   "source": [
    "zeme_evropa_df[\"populace\"]"
   ]
  },
  {
   "cell_type": "code",
   "execution_count": 27,
   "id": "respiratory-formation",
   "metadata": {
    "tags": []
   },
   "outputs": [],
   "source": [
    "populace_z_df = zeme_evropa_df[\"populace\"]"
   ]
  },
  {
   "cell_type": "code",
   "execution_count": 28,
   "id": "acquired-steps",
   "metadata": {
    "tags": []
   },
   "outputs": [
    {
     "data": {
      "text/plain": [
       "pandas.core.series.Series"
      ]
     },
     "execution_count": 28,
     "metadata": {},
     "output_type": "execute_result"
    }
   ],
   "source": [
    "type(populace_z_df)"
   ]
  },
  {
   "cell_type": "markdown",
   "id": "unlike-administration",
   "metadata": {},
   "source": [
    "Opatrně při vytváření nového `DataFrame`, u chybějících klíčů implictině zapisuje `Nan` hodnotu (~*not a number*):"
   ]
  },
  {
   "cell_type": "code",
   "execution_count": 29,
   "id": "wired-protection",
   "metadata": {
    "tags": []
   },
   "outputs": [],
   "source": [
    "chybejici_hodnoty_df = DataFrame(\n",
    "    [\n",
    "        {\"A\": 1, \"B\": 4},\n",
    "        {\"C\": 6, \"B\": 7}\n",
    "    ]\n",
    ")"
   ]
  },
  {
   "cell_type": "code",
   "execution_count": 30,
   "id": "organic-separate",
   "metadata": {
    "tags": []
   },
   "outputs": [
    {
     "data": {
      "text/html": [
       "<div>\n",
       "<style scoped>\n",
       "    .dataframe tbody tr th:only-of-type {\n",
       "        vertical-align: middle;\n",
       "    }\n",
       "\n",
       "    .dataframe tbody tr th {\n",
       "        vertical-align: top;\n",
       "    }\n",
       "\n",
       "    .dataframe thead th {\n",
       "        text-align: right;\n",
       "    }\n",
       "</style>\n",
       "<table border=\"1\" class=\"dataframe\">\n",
       "  <thead>\n",
       "    <tr style=\"text-align: right;\">\n",
       "      <th></th>\n",
       "      <th>A</th>\n",
       "      <th>B</th>\n",
       "      <th>C</th>\n",
       "    </tr>\n",
       "  </thead>\n",
       "  <tbody>\n",
       "    <tr>\n",
       "      <th>0</th>\n",
       "      <td>1.0</td>\n",
       "      <td>4</td>\n",
       "      <td>NaN</td>\n",
       "    </tr>\n",
       "    <tr>\n",
       "      <th>1</th>\n",
       "      <td>NaN</td>\n",
       "      <td>7</td>\n",
       "      <td>6.0</td>\n",
       "    </tr>\n",
       "  </tbody>\n",
       "</table>\n",
       "</div>"
      ],
      "text/plain": [
       "     A  B    C\n",
       "0  1.0  4  NaN\n",
       "1  NaN  7  6.0"
      ]
     },
     "execution_count": 30,
     "metadata": {},
     "output_type": "execute_result"
    }
   ],
   "source": [
    "chybejici_hodnoty_df"
   ]
  },
  {
   "cell_type": "markdown",
   "id": "activated-surface",
   "metadata": {},
   "source": [
    "Navíc si můžeš všimnout rozdílné definice **datového typu**:"
   ]
  },
  {
   "cell_type": "code",
   "execution_count": 31,
   "id": "cutting-interaction",
   "metadata": {
    "tags": []
   },
   "outputs": [
    {
     "data": {
      "text/plain": [
       "A    float64\n",
       "B      int64\n",
       "C    float64\n",
       "dtype: object"
      ]
     },
     "execution_count": 31,
     "metadata": {},
     "output_type": "execute_result"
    }
   ],
   "source": [
    "chybejici_hodnoty_df.dtypes"
   ]
  },
  {
   "cell_type": "code",
   "execution_count": 32,
   "id": "korean-blair",
   "metadata": {
    "tags": []
   },
   "outputs": [
    {
     "data": {
      "text/plain": [
       "0    1.0\n",
       "1    NaN\n",
       "Name: A, dtype: float64"
      ]
     },
     "execution_count": 32,
     "metadata": {},
     "output_type": "execute_result"
    }
   ],
   "source": [
    "chybejici_hodnoty_df[\"A\"]"
   ]
  },
  {
   "cell_type": "code",
   "execution_count": null,
   "id": "35e36a39-bfed-4a60-8e96-0ac6808f02bc",
   "metadata": {},
   "outputs": [],
   "source": []
  },
  {
   "cell_type": "code",
   "execution_count": 33,
   "id": "better-renaissance",
   "metadata": {
    "tags": []
   },
   "outputs": [],
   "source": [
    "konvertovany_sl_a = chybejici_hodnoty_df[\"A\"].convert_dtypes()"
   ]
  },
  {
   "cell_type": "code",
   "execution_count": 34,
   "id": "advised-organic",
   "metadata": {
    "tags": []
   },
   "outputs": [
    {
     "data": {
      "text/plain": [
       "0       1\n",
       "1    <NA>\n",
       "Name: A, dtype: Int64"
      ]
     },
     "execution_count": 34,
     "metadata": {},
     "output_type": "execute_result"
    }
   ],
   "source": [
    "konvertovany_sl_a"
   ]
  },
  {
   "cell_type": "markdown",
   "id": "global-newcastle",
   "metadata": {},
   "source": [
    "Více si o přetypování obecně a dozvíš později."
   ]
  },
  {
   "cell_type": "markdown",
   "id": "744f661a-2bcc-4109-90cd-3591e68ca29f",
   "metadata": {},
   "source": [
    "**🧠 CVIČENÍ 🧠, přidej nový sloupeček**"
   ]
  },
  {
   "cell_type": "code",
   "execution_count": null,
   "id": "3e5f53e1-4548-40f2-975c-39d1a999f06f",
   "metadata": {},
   "outputs": [],
   "source": [
    "data = {\n",
    "    \"Město\": [\"New York\", \"London\", \"Tokyo\", \"Sydney\"],\n",
    "    \"Populace (v mio)\": [8.4, 9.0, 13.9, 5.3],\n",
    "    \"Plocha (km²)\": [783, 1572, 2194, 1687],\n",
    "}"
   ]
  },
  {
   "cell_type": "code",
   "execution_count": 54,
   "id": "5a87764e-6c91-4529-bb16-bfded4bfa865",
   "metadata": {},
   "outputs": [],
   "source": [
    "# Zápis"
   ]
  },
  {
   "cell_type": "markdown",
   "id": "40fcf84f-af6e-4521-816e-8dee4b56cd23",
   "metadata": {},
   "source": [
    "<details>\n",
    "    <summary>▶️ Řešení</summary>\n",
    "    \n",
    "```python\n",
    "import pandas as pd\n",
    "\n",
    "data = {\n",
    "    \"Město\": [\"New York\", \"London\", \"Tokyo\", \"Sydney\"],\n",
    "    \"Populace (v mio)\": [8.4, 9.0, 13.9, 5.3],\n",
    "    \"Plocha (km²)\": [783, 1572, 2194, 1687],\n",
    "}\n",
    "\n",
    "mesta_df = pd.DataFrame(data)\n",
    "\n",
    "def vypocitej_hustotu_zalidneni(df):\n",
    "    \"\"\"\n",
    "    Přidejte nový sloupec 'Hustota zalidnění' (počet obyvatel na km²).\n",
    "    \"\"\"\n",
    "    df[\"Hustota zalidnění (na km²)\"] = (df[\"Populace (v mio)\"] * 1_000_000 / df[\"Plocha (km²)\"]).round().astype(int)\n",
    "    return df\n",
    "\n",
    "df = vypocitej_hustotu_zalidneni(mesta_df)\n",
    "print(df)\n",
    "```\n",
    "</details>"
   ]
  },
  {
   "cell_type": "markdown",
   "id": "a66def85-a3e8-44a5-b13a-d88c570bbb2d",
   "metadata": {},
   "source": [
    "<img src=\"https://imgs.search.brave.com/EQep67dP5UaJDlqkF2HvOQTESVA_LQSZx_SR7FE6JYM/rs:fit:500:0:0:0/g:ce/aHR0cHM6Ly9kMW5o/aW8wb3g3cGdiLmNs/b3VkZnJvbnQubmV0/L19pbWcvb19jb2xs/ZWN0aW9uX3BuZy9n/cmVlbl9kYXJrX2dy/ZXkvNTEyeDUxMi9w/bGFpbi90YWJsZV9z/ZWxlY3Rpb25fcm93/LnBuZw\" width=\"200\" style=\"margin-left:auto; margin-right:auto\"/>"
   ]
  },
  {
   "cell_type": "markdown",
   "id": "9f80b898-8c4a-471c-972d-fcda01e83c37",
   "metadata": {},
   "source": [
    "### Index\n",
    "\n",
    "---\n"
   ]
  },
  {
   "cell_type": "markdown",
   "id": "808f0ab2-7b1a-459c-ae3f-bc59e58e3df8",
   "metadata": {},
   "source": [
    "Posledním ze základních objektů frameworku `pandas` je tedy **Index** (velké \"i\").\n",
    "\n",
    "Jak `Series`, tak `DataFrame` v sobě *Index* obsahují.\n",
    "\n",
    "Pro jednoduchost, si jej můžeš představit jako označení jednotlivých řádků v tabulce."
   ]
  },
  {
   "cell_type": "code",
   "execution_count": 40,
   "id": "deluxe-dragon",
   "metadata": {
    "tags": []
   },
   "outputs": [],
   "source": [
    "from pandas import Index"
   ]
  },
  {
   "cell_type": "code",
   "execution_count": 41,
   "id": "productive-kuwait",
   "metadata": {
    "tags": []
   },
   "outputs": [],
   "source": [
    "indexy = Index([2, 3, 4, 5])"
   ]
  },
  {
   "cell_type": "code",
   "execution_count": 42,
   "id": "southwest-extent",
   "metadata": {
    "tags": []
   },
   "outputs": [
    {
     "data": {
      "text/plain": [
       "Index([2, 3, 4, 5], dtype='int64')"
      ]
     },
     "execution_count": 42,
     "metadata": {},
     "output_type": "execute_result"
    }
   ],
   "source": [
    "indexy"
   ]
  },
  {
   "cell_type": "markdown",
   "id": "driven-innocent",
   "metadata": {},
   "source": [
    "<br>\n",
    "\n",
    "#### Indexování indexů\n",
    "\n",
    "---"
   ]
  },
  {
   "cell_type": "code",
   "execution_count": 43,
   "id": "egyptian-cleveland",
   "metadata": {
    "scrolled": true
   },
   "outputs": [
    {
     "data": {
      "text/plain": [
       "4"
      ]
     },
     "execution_count": 43,
     "metadata": {},
     "output_type": "execute_result"
    }
   ],
   "source": [
    "indexy[2]"
   ]
  },
  {
   "cell_type": "markdown",
   "id": "excited-lawsuit",
   "metadata": {},
   "source": [
    "<br>\n",
    "\n",
    "#### Slicování indexů\n",
    "\n",
    "---"
   ]
  },
  {
   "cell_type": "code",
   "execution_count": 44,
   "id": "contemporary-sympathy",
   "metadata": {},
   "outputs": [
    {
     "data": {
      "text/plain": [
       "Index([2, 3, 4], dtype='int64')"
      ]
     },
     "execution_count": 44,
     "metadata": {},
     "output_type": "execute_result"
    }
   ],
   "source": [
    "indexy[:3]"
   ]
  },
  {
   "cell_type": "markdown",
   "id": "increased-bronze",
   "metadata": {},
   "source": [
    "<br>\n",
    "\n",
    "#### Nezměnitelný objekt\n",
    "\n",
    "---"
   ]
  },
  {
   "cell_type": "code",
   "execution_count": 45,
   "id": "atomic-update",
   "metadata": {
    "tags": []
   },
   "outputs": [
    {
     "ename": "TypeError",
     "evalue": "Index does not support mutable operations",
     "output_type": "error",
     "traceback": [
      "\u001b[0;31m---------------------------------------------------------------------------\u001b[0m",
      "\u001b[0;31mTypeError\u001b[0m                                 Traceback (most recent call last)",
      "Cell \u001b[0;32mIn[45], line 1\u001b[0m\n\u001b[0;32m----> 1\u001b[0m \u001b[43mindexy\u001b[49m\u001b[43m[\u001b[49m\u001b[38;5;241;43m2\u001b[39;49m\u001b[43m]\u001b[49m \u001b[38;5;241m=\u001b[39m \u001b[38;5;241m3\u001b[39m\n",
      "File \u001b[0;32m~/.local/lib/python3.8/site-packages/pandas/core/indexes/base.py:5157\u001b[0m, in \u001b[0;36mIndex.__setitem__\u001b[0;34m(self, key, value)\u001b[0m\n\u001b[1;32m   5155\u001b[0m \u001b[38;5;129m@final\u001b[39m\n\u001b[1;32m   5156\u001b[0m \u001b[38;5;28;01mdef\u001b[39;00m \u001b[38;5;21m__setitem__\u001b[39m(\u001b[38;5;28mself\u001b[39m, key, value):\n\u001b[0;32m-> 5157\u001b[0m     \u001b[38;5;28;01mraise\u001b[39;00m \u001b[38;5;167;01mTypeError\u001b[39;00m(\u001b[38;5;124m\"\u001b[39m\u001b[38;5;124mIndex does not support mutable operations\u001b[39m\u001b[38;5;124m\"\u001b[39m)\n",
      "\u001b[0;31mTypeError\u001b[0m: Index does not support mutable operations"
     ]
    }
   ],
   "source": [
    "indexy[2] = 3"
   ]
  },
  {
   "cell_type": "markdown",
   "id": "impressed-caribbean",
   "metadata": {},
   "source": [
    "Tato nezměnitelnost slouží k větší bezpečnosti, protože jednotlivé indexy, může sdílet více `DataFrame`."
   ]
  },
  {
   "cell_type": "markdown",
   "id": "intense-chamber",
   "metadata": {},
   "source": [
    "<br>\n",
    "\n",
    "#### Index jako seřazený set\n",
    "\n",
    "---"
   ]
  },
  {
   "cell_type": "code",
   "execution_count": 46,
   "id": "weighted-slovakia",
   "metadata": {
    "tags": []
   },
   "outputs": [],
   "source": [
    "indexy_a = Index([1, 2, 3, 4])\n",
    "indexy_b = Index([3, 4, 5, 6])"
   ]
  },
  {
   "cell_type": "code",
   "execution_count": 47,
   "id": "diagnostic-colonial",
   "metadata": {
    "tags": []
   },
   "outputs": [
    {
     "data": {
      "text/plain": [
       "Index([3, 4], dtype='int64')"
      ]
     },
     "execution_count": 47,
     "metadata": {},
     "output_type": "execute_result"
    }
   ],
   "source": [
    "indexy_a.intersection(indexy_b)"
   ]
  },
  {
   "cell_type": "code",
   "execution_count": 48,
   "id": "binary-adrian",
   "metadata": {
    "tags": []
   },
   "outputs": [
    {
     "data": {
      "text/plain": [
       "Index([1, 2, 3, 4, 5, 6], dtype='int64')"
      ]
     },
     "execution_count": 48,
     "metadata": {},
     "output_type": "execute_result"
    }
   ],
   "source": [
    "indexy_a.union(indexy_b)"
   ]
  },
  {
   "cell_type": "markdown",
   "id": "533641fa-9ba9-4713-98a9-22f480974324",
   "metadata": {},
   "source": [
    "<br>\n",
    "\n",
    "### Souhrn k základním typům\n",
    "\n",
    "---"
   ]
  },
  {
   "cell_type": "markdown",
   "id": "fc8ce55b-f635-48af-9338-b488f0520a4f",
   "metadata": {},
   "source": [
    "- **řádky**, jako pole, jednorozměrné, možnost selekce indexů i hodnot a jejich rozsahů,\n",
    "- **indexy**, jako pole, nezměnitelné, možnost selekce jednoho řádků i rozsahu řádků,\n",
    "- **tabulka**, vícerozměrné pole, výběr podle sloupců."
   ]
  },
  {
   "cell_type": "markdown",
   "id": "18b04787-ac43-4222-b23e-96e0d5d0187c",
   "metadata": {},
   "source": [
    "\n",
    "<img src=\"https://imgs.search.brave.com/CoDVQW6cpYcV0qJtUejA7WQat4mLN2AOxuK2hXwgGAo/rs:fit:500:0:0:0/g:ce/aHR0cHM6Ly9jZG4w/Lmljb25maW5kZXIu/Y29tL2RhdGEvaWNv/bnMvcm91bmQtdWkt/aWNvbnMvNTEyL2Fk/ZF9ibHVlLnBuZw\" width=\"200\" style=\"margin-left:auto; margin-right:auto\"/>"
   ]
  },
  {
   "cell_type": "markdown",
   "id": "separate-black",
   "metadata": {},
   "source": [
    "<br>\n",
    "\n",
    "## Načítání objektů\n",
    "\n",
    "---"
   ]
  },
  {
   "cell_type": "markdown",
   "id": "czech-overview",
   "metadata": {},
   "source": [
    "Vytvořit nový `DataFrame` je záležitost několika málo argumentů.\n",
    "\n",
    "Není ovšem velmi časté, chystat data *z ničeho*.\n",
    "\n",
    "Většinou potřebuješ právě nahrát různé **existující externí soubory**, do `DataFrame` objektů.\n",
    "\n",
    "* `read_csv`,\n",
    "* `read_excel`,\n",
    "* `read_json`,\n",
    "* `read_html`,\n",
    "* `read_sql`,\n",
    "* `read_parquet`,\n",
    "* `read_sas`."
   ]
  },
  {
   "cell_type": "markdown",
   "id": "finite-cleveland",
   "metadata": {},
   "source": [
    "###  Načti soubor `csv`\n",
    "\n",
    "---"
   ]
  },
  {
   "cell_type": "markdown",
   "id": "beginning-campaign",
   "metadata": {},
   "source": [
    "Knihovna nabízí přímo specializovanou funkci `read_csv`.\n",
    "\n",
    "Ta dovede načíst obsah souboru do nového `DataFrame`.\n",
    "\n",
    "Pro první použití, případně pozdější rozšíření je vhodné, prozkoumat dokumentaci:"
   ]
  },
  {
   "cell_type": "code",
   "execution_count": 3,
   "id": "99b60b2b-feae-4d47-aa01-e82f92ff312b",
   "metadata": {
    "tags": []
   },
   "outputs": [],
   "source": [
    "import pathlib"
   ]
  },
  {
   "cell_type": "code",
   "execution_count": 4,
   "id": "0b8853ce-b040-44b8-ab19-2c54fa6aa2fe",
   "metadata": {
    "tags": []
   },
   "outputs": [],
   "source": [
    "from pandas import read_csv"
   ]
  },
  {
   "cell_type": "code",
   "execution_count": null,
   "id": "modular-jamaica",
   "metadata": {
    "tags": []
   },
   "outputs": [],
   "source": [
    "read_csv?"
   ]
  },
  {
   "cell_type": "markdown",
   "id": "conscious-agent",
   "metadata": {},
   "source": [
    "Načteš jméno souboru se specifickou příponou `csv`:"
   ]
  },
  {
   "cell_type": "code",
   "execution_count": 5,
   "id": "tutorial-working",
   "metadata": {
    "tags": []
   },
   "outputs": [],
   "source": [
    "zamestnanci_ = !ls ../onsite | grep \".csv\""
   ]
  },
  {
   "cell_type": "code",
   "execution_count": 6,
   "id": "adapted-pledge",
   "metadata": {
    "tags": []
   },
   "outputs": [
    {
     "data": {
      "text/plain": [
       "['customers_inp.csv']"
      ]
     },
     "execution_count": 6,
     "metadata": {},
     "output_type": "execute_result"
    }
   ],
   "source": [
    "zamestnanci_"
   ]
  },
  {
   "cell_type": "code",
   "execution_count": 7,
   "id": "intensive-modern",
   "metadata": {
    "tags": []
   },
   "outputs": [],
   "source": [
    "zamestnanci_rel = pathlib.Path(\"../onsite\").joinpath(zamestnanci_[0])"
   ]
  },
  {
   "cell_type": "code",
   "execution_count": 8,
   "id": "arctic-wright",
   "metadata": {
    "tags": []
   },
   "outputs": [
    {
     "data": {
      "text/plain": [
       "PosixPath('../onsite/customers_inp.csv')"
      ]
     },
     "execution_count": 8,
     "metadata": {},
     "output_type": "execute_result"
    }
   ],
   "source": [
    "zamestnanci_rel"
   ]
  },
  {
   "cell_type": "code",
   "execution_count": 9,
   "id": "radio-miracle",
   "metadata": {
    "tags": []
   },
   "outputs": [],
   "source": [
    "zamestnanci = read_csv(zamestnanci_rel)"
   ]
  },
  {
   "cell_type": "markdown",
   "id": "biblical-average",
   "metadata": {},
   "source": [
    "Prozkoumej samotný soubor:"
   ]
  },
  {
   "cell_type": "code",
   "execution_count": 10,
   "id": "noble-accountability",
   "metadata": {
    "tags": []
   },
   "outputs": [
    {
     "name": "stdout",
     "output_type": "stream",
     "text": [
      "customer_id;first_name;last_name;phone;email\n",
      "11;Matous;Holinka;`+420777666555;matous@matousholinka.com\n",
      "12;Marek;Parek;`+420777434111;marek.parek@gmail.com\n",
      "13;Petr;Svetr;`+420777333111;petr@svetr.com\n",
      "14;Alice;Svobodova;`+420777200300;svobodova.a@email.cz\n",
      "15;Tereza;Novakova;`+420777608080;novakova_terka@seznam.cz\n"
     ]
    }
   ],
   "source": [
    "!cat ../onsite/customers_inp.csv"
   ]
  },
  {
   "cell_type": "markdown",
   "id": "welsh-elements",
   "metadata": {},
   "source": [
    "<br>\n",
    "\n",
    "Nyní se podívej jak vypadá nově vytvořený `DataFrame`:"
   ]
  },
  {
   "cell_type": "code",
   "execution_count": 11,
   "id": "painted-belle",
   "metadata": {
    "tags": []
   },
   "outputs": [
    {
     "data": {
      "text/plain": [
       "pandas.core.frame.DataFrame"
      ]
     },
     "execution_count": 11,
     "metadata": {},
     "output_type": "execute_result"
    }
   ],
   "source": [
    "type(zamestnanci)"
   ]
  },
  {
   "cell_type": "code",
   "execution_count": 12,
   "id": "436c450f-3eeb-47ce-be33-1eb48d012149",
   "metadata": {
    "tags": []
   },
   "outputs": [
    {
     "data": {
      "text/html": [
       "<div>\n",
       "<style scoped>\n",
       "    .dataframe tbody tr th:only-of-type {\n",
       "        vertical-align: middle;\n",
       "    }\n",
       "\n",
       "    .dataframe tbody tr th {\n",
       "        vertical-align: top;\n",
       "    }\n",
       "\n",
       "    .dataframe thead th {\n",
       "        text-align: right;\n",
       "    }\n",
       "</style>\n",
       "<table border=\"1\" class=\"dataframe\">\n",
       "  <thead>\n",
       "    <tr style=\"text-align: right;\">\n",
       "      <th></th>\n",
       "      <th>customer_id;first_name;last_name;phone;email</th>\n",
       "    </tr>\n",
       "  </thead>\n",
       "  <tbody>\n",
       "    <tr>\n",
       "      <th>0</th>\n",
       "      <td>11;Matous;Holinka;`+420777666555;matous@matous...</td>\n",
       "    </tr>\n",
       "    <tr>\n",
       "      <th>1</th>\n",
       "      <td>12;Marek;Parek;`+420777434111;marek.parek@gmai...</td>\n",
       "    </tr>\n",
       "    <tr>\n",
       "      <th>2</th>\n",
       "      <td>13;Petr;Svetr;`+420777333111;petr@svetr.com</td>\n",
       "    </tr>\n",
       "    <tr>\n",
       "      <th>3</th>\n",
       "      <td>14;Alice;Svobodova;`+420777200300;svobodova.a@...</td>\n",
       "    </tr>\n",
       "    <tr>\n",
       "      <th>4</th>\n",
       "      <td>15;Tereza;Novakova;`+420777608080;novakova_ter...</td>\n",
       "    </tr>\n",
       "  </tbody>\n",
       "</table>\n",
       "</div>"
      ],
      "text/plain": [
       "        customer_id;first_name;last_name;phone;email\n",
       "0  11;Matous;Holinka;`+420777666555;matous@matous...\n",
       "1  12;Marek;Parek;`+420777434111;marek.parek@gmai...\n",
       "2        13;Petr;Svetr;`+420777333111;petr@svetr.com\n",
       "3  14;Alice;Svobodova;`+420777200300;svobodova.a@...\n",
       "4  15;Tereza;Novakova;`+420777608080;novakova_ter..."
      ]
     },
     "execution_count": 12,
     "metadata": {},
     "output_type": "execute_result"
    }
   ],
   "source": [
    "zamestnanci"
   ]
  },
  {
   "cell_type": "markdown",
   "id": "powerful-villa",
   "metadata": {},
   "source": [
    "Je potřeba pohlídat si (není řazené podle priorit):\n",
    "* indexy,\n",
    "* záhlaví,\n",
    "* strukturu jednotlivých `Series`,\n",
    "* datové typy."
   ]
  },
  {
   "cell_type": "markdown",
   "id": "becoming-multimedia",
   "metadata": {},
   "source": [
    "<br>\n",
    "\n",
    "Pokud nesedí **defaultní oddělovač** (*sep* nebo *delimiter*):"
   ]
  },
  {
   "cell_type": "code",
   "execution_count": 13,
   "id": "acquired-facial",
   "metadata": {
    "tags": []
   },
   "outputs": [],
   "source": [
    "!sed -i s\"/,/;/g\" ../onsite/customers_inp.csv"
   ]
  },
  {
   "cell_type": "code",
   "execution_count": 14,
   "id": "breathing-navigation",
   "metadata": {
    "tags": []
   },
   "outputs": [
    {
     "name": "stdout",
     "output_type": "stream",
     "text": [
      "customer_id;first_name;last_name;phone;email\n",
      "11;Matous;Holinka;`+420777666555;matous@matousholinka.com\n",
      "12;Marek;Parek;`+420777434111;marek.parek@gmail.com\n",
      "13;Petr;Svetr;`+420777333111;petr@svetr.com\n",
      "14;Alice;Svobodova;`+420777200300;svobodova.a@email.cz\n",
      "15;Tereza;Novakova;`+420777608080;novakova_terka@seznam.cz\n"
     ]
    }
   ],
   "source": [
    "!cat ../onsite/customers_inp.csv"
   ]
  },
  {
   "cell_type": "code",
   "execution_count": 15,
   "id": "regular-suicide",
   "metadata": {
    "tags": []
   },
   "outputs": [],
   "source": [
    "zamestnanci_carka = read_csv(f\"../onsite/{zamestnanci_[0]}\")"
   ]
  },
  {
   "cell_type": "code",
   "execution_count": 16,
   "id": "casual-young",
   "metadata": {
    "tags": []
   },
   "outputs": [
    {
     "data": {
      "text/html": [
       "<div>\n",
       "<style scoped>\n",
       "    .dataframe tbody tr th:only-of-type {\n",
       "        vertical-align: middle;\n",
       "    }\n",
       "\n",
       "    .dataframe tbody tr th {\n",
       "        vertical-align: top;\n",
       "    }\n",
       "\n",
       "    .dataframe thead th {\n",
       "        text-align: right;\n",
       "    }\n",
       "</style>\n",
       "<table border=\"1\" class=\"dataframe\">\n",
       "  <thead>\n",
       "    <tr style=\"text-align: right;\">\n",
       "      <th></th>\n",
       "      <th>customer_id;first_name;last_name;phone;email</th>\n",
       "    </tr>\n",
       "  </thead>\n",
       "  <tbody>\n",
       "    <tr>\n",
       "      <th>0</th>\n",
       "      <td>11;Matous;Holinka;`+420777666555;matous@matous...</td>\n",
       "    </tr>\n",
       "    <tr>\n",
       "      <th>1</th>\n",
       "      <td>12;Marek;Parek;`+420777434111;marek.parek@gmai...</td>\n",
       "    </tr>\n",
       "    <tr>\n",
       "      <th>2</th>\n",
       "      <td>13;Petr;Svetr;`+420777333111;petr@svetr.com</td>\n",
       "    </tr>\n",
       "    <tr>\n",
       "      <th>3</th>\n",
       "      <td>14;Alice;Svobodova;`+420777200300;svobodova.a@...</td>\n",
       "    </tr>\n",
       "    <tr>\n",
       "      <th>4</th>\n",
       "      <td>15;Tereza;Novakova;`+420777608080;novakova_ter...</td>\n",
       "    </tr>\n",
       "  </tbody>\n",
       "</table>\n",
       "</div>"
      ],
      "text/plain": [
       "        customer_id;first_name;last_name;phone;email\n",
       "0  11;Matous;Holinka;`+420777666555;matous@matous...\n",
       "1  12;Marek;Parek;`+420777434111;marek.parek@gmai...\n",
       "2        13;Petr;Svetr;`+420777333111;petr@svetr.com\n",
       "3  14;Alice;Svobodova;`+420777200300;svobodova.a@...\n",
       "4  15;Tereza;Novakova;`+420777608080;novakova_ter..."
      ]
     },
     "execution_count": 16,
     "metadata": {},
     "output_type": "execute_result"
    }
   ],
   "source": [
    "zamestnanci_carka"
   ]
  },
  {
   "cell_type": "markdown",
   "id": "suffering-permission",
   "metadata": {},
   "source": [
    "<br>\n",
    "\n",
    "Můžeš zadat jiný než *defaultní* oddělovač:"
   ]
  },
  {
   "cell_type": "code",
   "execution_count": 17,
   "id": "internal-comfort",
   "metadata": {
    "tags": []
   },
   "outputs": [],
   "source": [
    "zamestnanci_strednik = read_csv(f\"../onsite/{zamestnanci_[0]}\", sep=\";\")"
   ]
  },
  {
   "cell_type": "code",
   "execution_count": 18,
   "id": "joined-christian",
   "metadata": {
    "tags": []
   },
   "outputs": [
    {
     "data": {
      "text/html": [
       "<div>\n",
       "<style scoped>\n",
       "    .dataframe tbody tr th:only-of-type {\n",
       "        vertical-align: middle;\n",
       "    }\n",
       "\n",
       "    .dataframe tbody tr th {\n",
       "        vertical-align: top;\n",
       "    }\n",
       "\n",
       "    .dataframe thead th {\n",
       "        text-align: right;\n",
       "    }\n",
       "</style>\n",
       "<table border=\"1\" class=\"dataframe\">\n",
       "  <thead>\n",
       "    <tr style=\"text-align: right;\">\n",
       "      <th></th>\n",
       "      <th>customer_id</th>\n",
       "      <th>first_name</th>\n",
       "      <th>last_name</th>\n",
       "      <th>phone</th>\n",
       "      <th>email</th>\n",
       "    </tr>\n",
       "  </thead>\n",
       "  <tbody>\n",
       "    <tr>\n",
       "      <th>0</th>\n",
       "      <td>11</td>\n",
       "      <td>Matous</td>\n",
       "      <td>Holinka</td>\n",
       "      <td>`+420777666555</td>\n",
       "      <td>matous@matousholinka.com</td>\n",
       "    </tr>\n",
       "    <tr>\n",
       "      <th>1</th>\n",
       "      <td>12</td>\n",
       "      <td>Marek</td>\n",
       "      <td>Parek</td>\n",
       "      <td>`+420777434111</td>\n",
       "      <td>marek.parek@gmail.com</td>\n",
       "    </tr>\n",
       "    <tr>\n",
       "      <th>2</th>\n",
       "      <td>13</td>\n",
       "      <td>Petr</td>\n",
       "      <td>Svetr</td>\n",
       "      <td>`+420777333111</td>\n",
       "      <td>petr@svetr.com</td>\n",
       "    </tr>\n",
       "    <tr>\n",
       "      <th>3</th>\n",
       "      <td>14</td>\n",
       "      <td>Alice</td>\n",
       "      <td>Svobodova</td>\n",
       "      <td>`+420777200300</td>\n",
       "      <td>svobodova.a@email.cz</td>\n",
       "    </tr>\n",
       "    <tr>\n",
       "      <th>4</th>\n",
       "      <td>15</td>\n",
       "      <td>Tereza</td>\n",
       "      <td>Novakova</td>\n",
       "      <td>`+420777608080</td>\n",
       "      <td>novakova_terka@seznam.cz</td>\n",
       "    </tr>\n",
       "  </tbody>\n",
       "</table>\n",
       "</div>"
      ],
      "text/plain": [
       "   customer_id first_name  last_name           phone                     email\n",
       "0           11     Matous    Holinka  `+420777666555  matous@matousholinka.com\n",
       "1           12      Marek      Parek  `+420777434111     marek.parek@gmail.com\n",
       "2           13       Petr      Svetr  `+420777333111            petr@svetr.com\n",
       "3           14      Alice  Svobodova  `+420777200300      svobodova.a@email.cz\n",
       "4           15     Tereza   Novakova  `+420777608080  novakova_terka@seznam.cz"
      ]
     },
     "execution_count": 18,
     "metadata": {},
     "output_type": "execute_result"
    }
   ],
   "source": [
    "zamestnanci_strednik"
   ]
  },
  {
   "cell_type": "markdown",
   "id": "defensive-characteristic",
   "metadata": {},
   "source": [
    "**Nevhodné datové typy** je také možné řešit při nové inicializaci `DataFrame`:"
   ]
  },
  {
   "cell_type": "code",
   "execution_count": 19,
   "id": "knowing-interpretation",
   "metadata": {
    "tags": []
   },
   "outputs": [
    {
     "data": {
      "text/plain": [
       "customer_id     int64\n",
       "first_name     object\n",
       "last_name      object\n",
       "phone          object\n",
       "email          object\n",
       "dtype: object"
      ]
     },
     "execution_count": 19,
     "metadata": {},
     "output_type": "execute_result"
    }
   ],
   "source": [
    "zamestnanci_strednik.dtypes"
   ]
  },
  {
   "cell_type": "markdown",
   "id": "computational-density",
   "metadata": {},
   "source": [
    "Pokud potřebuješ *vynutit* konverzi datového typu:"
   ]
  },
  {
   "cell_type": "code",
   "execution_count": 20,
   "id": "peripheral-aurora",
   "metadata": {
    "tags": []
   },
   "outputs": [],
   "source": [
    "zamestnanci_bez_cisel = read_csv(\n",
    "    f\"../onsite/{zamestnanci_[0]}\",\n",
    "    sep=\";\",\n",
    "    dtype={\n",
    "        \"customer_id\": str,\n",
    "        \"first_name\": str,\n",
    "        \"last_name\": str,\n",
    "        \"phone\": str,\n",
    "        \"email\": str\n",
    "    }\n",
    ")"
   ]
  },
  {
   "cell_type": "code",
   "execution_count": 21,
   "id": "exciting-advisory",
   "metadata": {
    "tags": []
   },
   "outputs": [
    {
     "data": {
      "text/plain": [
       "customer_id    object\n",
       "first_name     object\n",
       "last_name      object\n",
       "phone          object\n",
       "email          object\n",
       "dtype: object"
      ]
     },
     "execution_count": 21,
     "metadata": {},
     "output_type": "execute_result"
    }
   ],
   "source": [
    "zamestnanci_bez_cisel.dtypes"
   ]
  },
  {
   "cell_type": "markdown",
   "id": "caroline-injury",
   "metadata": {},
   "source": [
    "<br>\n",
    "\n",
    "### Načti tabulku `html`\n",
    "\n",
    "---"
   ]
  },
  {
   "cell_type": "markdown",
   "id": "modular-cruise",
   "metadata": {},
   "source": [
    "Funkce `read_html` často zastává některé kroky *web scrapování*.\n",
    "\n",
    "Přesto je jejím učelem \"pouze\" extrahování dat v HTML `<table></table>` elementech.\n",
    "\n",
    "Ukázka [zdroj](https://simple.wikipedia.org/wiki/List_of_U.S._states)."
   ]
  },
  {
   "cell_type": "code",
   "execution_count": 1,
   "id": "4b6fec01-f967-4b83-9681-ab3b218cea43",
   "metadata": {
    "tags": []
   },
   "outputs": [
    {
     "name": "stdout",
     "output_type": "stream",
     "text": [
      "total 4\n",
      "-rw-rw-r-- 1 matous matous 247 bře 19  2023 demo_read_html.py\n"
     ]
    }
   ],
   "source": [
    "!ls -l ../../shared/onsite/"
   ]
  },
  {
   "cell_type": "code",
   "execution_count": 2,
   "id": "b6ab5918-38a7-4348-8410-3484a12a81a0",
   "metadata": {
    "tags": []
   },
   "outputs": [
    {
     "name": "stdout",
     "output_type": "stream",
     "text": [
      "  Flag, name and postal abbreviation [1]  \\\n",
      "  Flag, name and postal abbreviation [1]   \n",
      "0                                Alabama   \n",
      "1                                 Alaska   \n",
      "2                                Arizona   \n",
      "3                               Arkansas   \n",
      "4                             California   \n",
      "5                               Colorado   \n",
      "6                            Connecticut   \n",
      "7                               Delaware   \n",
      "8                                Florida   \n",
      "9                                Georgia   \n",
      "\n",
      "                                                 Cities  \\\n",
      "  Flag, name and postal abbreviation [1].1      Capital   \n",
      "0                                       AL   Montgomery   \n",
      "1                                       AK       Juneau   \n",
      "2                                       AZ      Phoenix   \n",
      "3                                       AR  Little Rock   \n",
      "4                                       CA   Sacramento   \n",
      "5                                       CO       Denver   \n",
      "6                                       CT     Hartford   \n",
      "7                                       DE        Dover   \n",
      "8                                       FL  Tallahassee   \n",
      "9                                       GA      Atlanta   \n",
      "\n",
      "                             Established[A] Population [3] Total area[4]  \\\n",
      "  Largest (by population)[5] Established[A] Population [3]           mi2   \n",
      "0                 Huntsville   Dec 14, 1819        5024279         52420   \n",
      "1                  Anchorage    Jan 3, 1959         733391        665384   \n",
      "2                    Phoenix   Feb 14, 1912        7151502        113990   \n",
      "3                Little Rock   Jun 15, 1836        3011524         53179   \n",
      "4                Los Angeles    Sep 9, 1850       39538223        163695   \n",
      "5                     Denver    Aug 1, 1876        5773714        104094   \n",
      "6                 Bridgeport    Jan 9, 1788        3605944          5543   \n",
      "7                 Wilmington    Dec 7, 1787         989948          2489   \n",
      "8               Jacksonville    Mar 3, 1845       21538187         65758   \n",
      "9                    Atlanta    Jan 2, 1788       10711908         59425   \n",
      "\n",
      "           Land area[4]          Water area[4]         Number of Reps.  \n",
      "       km2          mi2      km2           mi2     km2 Number of Reps.  \n",
      "0   135767        50645   131171          1775    4597               7  \n",
      "1  1723337       570641  1477953         94743  245384               1  \n",
      "2   295234       113594   294207           396    1026               9  \n",
      "3   137732        52035   134771          1143    2961               4  \n",
      "4   423967       155779   403466          7916   20501              52  \n",
      "5   269601       103642   268431           452    1170               8  \n",
      "6    14357         4842    12542           701    1816               5  \n",
      "7     6446         1949     5047           540    1399               1  \n",
      "8   170312        53625   138887         12133   31424              28  \n",
      "9   153910        57513   148959          1912    4951              14  \n"
     ]
    }
   ],
   "source": [
    "%run ../../shared/onsite/demo_read_html.py"
   ]
  },
  {
   "cell_type": "markdown",
   "id": "c5f92eac-275b-4322-88e1-e51b75ffcd00",
   "metadata": {},
   "source": [
    "<br>\n",
    "\n",
    "**🧠 CVIČENÍ 🧠, načti vlastní CSV soubor**."
   ]
  },
  {
   "cell_type": "code",
   "execution_count": null,
   "id": "f66400e3-fa70-4e1d-a85d-19e2898428ab",
   "metadata": {},
   "outputs": [],
   "source": [
    "# Zápis"
   ]
  },
  {
   "cell_type": "markdown",
   "id": "b084021f-0211-47a7-9a84-9d8aa55e3d7b",
   "metadata": {},
   "source": [
    "<details>\n",
    "    <summary>▶️ Řešení</summary>\n",
    "    \n",
    "```python\n",
    "import pandas as pd\n",
    "\n",
    "muj_csv_soubor = 'toto/je/relativni/cesta.csv'\n",
    "\n",
    "testovaci_data = pd.read_csv(muj_csv_soubor)\n",
    "```\n",
    "</details>"
   ]
  },
  {
   "cell_type": "markdown",
   "id": "3a60a706-ba3b-45d2-929d-a0a35083fba8",
   "metadata": {},
   "source": [
    "<br>\n",
    "\n",
    "### Souhrn kapitoly\n",
    "\n",
    "---\n",
    "\n",
    "Typický postup, pro práci s pandami, je identifikovat a správně načíst datový zdroj."
   ]
  },
  {
   "cell_type": "markdown",
   "id": "0ec86de5-e896-4c34-9e25-907c72a02bde",
   "metadata": {},
   "source": [
    "\n",
    "<img src=\"https://external-content.duckduckgo.com/iu/?u=https%3A%2F%2Ftse3.mm.bing.net%2Fth%3Fid%3DOIP.ACSOiM-U0Q1dA-4JLXwShAHaHx%26pid%3DApi&f=1&ipt=6d4afed7c3560452103fe53af2bd94638c28007aa3141700570a84c7fab7263a&ipo=images\" width=\"200\" style=\"margin-left:auto; margin-right:auto\"/>\n",
    "\n"
   ]
  },
  {
   "cell_type": "markdown",
   "id": "hundred-martin",
   "metadata": {},
   "source": [
    "<br>\n",
    "\n",
    "## Prozkoumávání dat\n",
    "\n",
    "---"
   ]
  },
  {
   "cell_type": "markdown",
   "id": "proved-freeware",
   "metadata": {},
   "source": [
    "Jakmile máš data správně načtená a přetypovaná, můžeš s nimi začít pracovat.\n",
    "\n",
    "Než se do toho vrhneš, není špatné, umět je prohlížet.\n",
    "\n",
    "<br>"
   ]
  },
  {
   "cell_type": "markdown",
   "id": "internal-basis",
   "metadata": {},
   "source": [
    "### Selekce u sloupečků\n",
    "\n",
    "---"
   ]
  },
  {
   "cell_type": "code",
   "execution_count": 1,
   "id": "checked-rover",
   "metadata": {
    "tags": []
   },
   "outputs": [],
   "source": [
    "from pandas import Series"
   ]
  },
  {
   "cell_type": "code",
   "execution_count": 2,
   "id": "rural-joyce",
   "metadata": {
    "tags": []
   },
   "outputs": [],
   "source": [
    "vek_sl = Series(\n",
    "    [26, 36, 46, 56],\n",
    "    index=['Petr', 'Pavel', 'Jiri', 'Tomas'] # ??? , 'Jarek', 'Tomas'; , 66, 76\n",
    ")"
   ]
  },
  {
   "cell_type": "markdown",
   "id": "copyrighted-photography",
   "metadata": {},
   "source": [
    "<br>\n",
    "\n",
    "Pro vytvořený sloupeček:"
   ]
  },
  {
   "cell_type": "code",
   "execution_count": 3,
   "id": "handled-pierre",
   "metadata": {
    "tags": []
   },
   "outputs": [
    {
     "data": {
      "text/plain": [
       "Petr     26\n",
       "Pavel    36\n",
       "Jiri     46\n",
       "Tomas    56\n",
       "dtype: int64"
      ]
     },
     "execution_count": 3,
     "metadata": {},
     "output_type": "execute_result"
    }
   ],
   "source": [
    "vek_sl"
   ]
  },
  {
   "cell_type": "markdown",
   "id": "judicial-shooting",
   "metadata": {},
   "source": [
    "<br>\n",
    "\n",
    "Pokud provádíš *slicing* pomocí *indexů*, implicitně **vynecháš konečný index**:"
   ]
  },
  {
   "cell_type": "code",
   "execution_count": 4,
   "id": "former-binary",
   "metadata": {
    "tags": []
   },
   "outputs": [
    {
     "data": {
      "text/plain": [
       "Petr     26\n",
       "Pavel    36\n",
       "Jiri     46\n",
       "dtype: int64"
      ]
     },
     "execution_count": 4,
     "metadata": {},
     "output_type": "execute_result"
    }
   ],
   "source": [
    "vek_sl[0:3]"
   ]
  },
  {
   "cell_type": "markdown",
   "id": "decent-notification",
   "metadata": {},
   "source": [
    "<br>\n",
    "\n",
    "Pokud ovšem zadáváš přímo hodnotu *Indexu*, potom vybíráš hodnoty **včetně konečného indexu**:"
   ]
  },
  {
   "cell_type": "code",
   "execution_count": 5,
   "id": "charming-republican",
   "metadata": {
    "tags": []
   },
   "outputs": [
    {
     "data": {
      "text/plain": [
       "Petr     26\n",
       "Pavel    36\n",
       "Jiri     46\n",
       "Tomas    56\n",
       "dtype: int64"
      ]
     },
     "execution_count": 5,
     "metadata": {},
     "output_type": "execute_result"
    }
   ],
   "source": [
    "vek_sl[\"Petr\": \"Tomas\"]"
   ]
  },
  {
   "cell_type": "markdown",
   "id": "thick-maria",
   "metadata": {},
   "source": [
    "Tento jednoduchý přístup potom vede **k častým chybám a nepochopením**."
   ]
  },
  {
   "cell_type": "markdown",
   "id": "intended-studio",
   "metadata": {},
   "source": [
    "### Atributy `loc`, `iloc`\n",
    "\n",
    "---"
   ]
  },
  {
   "cell_type": "markdown",
   "id": "warming-moscow",
   "metadata": {},
   "source": [
    "Právě protože je *indexování* a *slicing* v rámci `Series` matoucí, existují pomocné atributy.\n",
    "\n",
    "<br>\n",
    "\n",
    "#### loc\n",
    "\n",
    "---\n",
    "\n",
    "Právě tento atribut zaručí, že budeš vždy pracovat pomocí **explicitního zadání hodnoty Indexů**:"
   ]
  },
  {
   "cell_type": "code",
   "execution_count": 6,
   "id": "1815107c-17d4-4f6d-87b0-4979fab9b99c",
   "metadata": {
    "tags": []
   },
   "outputs": [
    {
     "data": {
      "text/plain": [
       "Petr     26\n",
       "Pavel    36\n",
       "Jiri     46\n",
       "Tomas    56\n",
       "dtype: int64"
      ]
     },
     "execution_count": 6,
     "metadata": {},
     "output_type": "execute_result"
    }
   ],
   "source": [
    "vek_sl"
   ]
  },
  {
   "cell_type": "code",
   "execution_count": 7,
   "id": "gorgeous-annex",
   "metadata": {
    "tags": []
   },
   "outputs": [
    {
     "data": {
      "text/plain": [
       "Petr     26\n",
       "Pavel    36\n",
       "Jiri     46\n",
       "Tomas    56\n",
       "dtype: int64"
      ]
     },
     "execution_count": 7,
     "metadata": {},
     "output_type": "execute_result"
    }
   ],
   "source": [
    "vek_sl.loc[\"Petr\": \"Tomas\"]"
   ]
  },
  {
   "cell_type": "markdown",
   "id": "hydraulic-hours",
   "metadata": {},
   "source": [
    "<br>\n",
    "\n",
    "Jde tedy o explicitní práci s Indexy knihovny `pandas`, ne indexy Pythonu:"
   ]
  },
  {
   "cell_type": "code",
   "execution_count": 8,
   "id": "downtown-coalition",
   "metadata": {
    "tags": []
   },
   "outputs": [],
   "source": [
    "jmena_sl = Series(\n",
    "    [\"Matous\", \"Marek\", \"Lukas\", \"Jan\"],\n",
    "    index=[1, 2, 3, 4]\n",
    ")"
   ]
  },
  {
   "cell_type": "code",
   "execution_count": 9,
   "id": "absent-realtor",
   "metadata": {
    "tags": []
   },
   "outputs": [
    {
     "data": {
      "text/plain": [
       "1    Matous\n",
       "2     Marek\n",
       "3     Lukas\n",
       "4       Jan\n",
       "dtype: object"
      ]
     },
     "execution_count": 9,
     "metadata": {},
     "output_type": "execute_result"
    }
   ],
   "source": [
    "jmena_sl"
   ]
  },
  {
   "cell_type": "code",
   "execution_count": 15,
   "id": "bd9bf28e-9bac-4e72-a414-637994bf819f",
   "metadata": {},
   "outputs": [
    {
     "data": {
      "text/plain": [
       "'Matous'"
      ]
     },
     "execution_count": 15,
     "metadata": {},
     "output_type": "execute_result"
    }
   ],
   "source": [
    "jmena_sl.loc[1]"
   ]
  },
  {
   "cell_type": "code",
   "execution_count": 10,
   "id": "competitive-argentina",
   "metadata": {
    "tags": []
   },
   "outputs": [
    {
     "data": {
      "text/plain": [
       "1    Matous\n",
       "2     Marek\n",
       "3     Lukas\n",
       "dtype: object"
      ]
     },
     "execution_count": 10,
     "metadata": {},
     "output_type": "execute_result"
    }
   ],
   "source": [
    "jmena_sl.loc[:3]"
   ]
  },
  {
   "cell_type": "markdown",
   "id": "db507ca9-0751-4b41-b9fe-b148ebbf4092",
   "metadata": {},
   "source": [
    "Všimni si, jak *Index* o hodnotě 3 je součástí výstupu (narozdíl od pythonovského indexu 3)."
   ]
  },
  {
   "cell_type": "markdown",
   "id": "satisfactory-participant",
   "metadata": {},
   "source": [
    "<br>\n",
    "\n",
    "#### iloc\n",
    "\n",
    "---\n",
    "\n",
    "Naopak atribut `iloc` je proces, který funguje výlučně na **indexování v rámci Pythonu** (pořadí, začíná nulou):"
   ]
  },
  {
   "cell_type": "code",
   "execution_count": 12,
   "id": "9a085c7a-6dee-49eb-ae1b-d49808e59d96",
   "metadata": {
    "tags": []
   },
   "outputs": [
    {
     "data": {
      "text/plain": [
       "1    Matous\n",
       "2     Marek\n",
       "3     Lukas\n",
       "4       Jan\n",
       "dtype: object"
      ]
     },
     "execution_count": 12,
     "metadata": {},
     "output_type": "execute_result"
    }
   ],
   "source": [
    "jmena_sl"
   ]
  },
  {
   "cell_type": "code",
   "execution_count": 13,
   "id": "optical-roots",
   "metadata": {
    "tags": []
   },
   "outputs": [
    {
     "data": {
      "text/plain": [
       "'Marek'"
      ]
     },
     "execution_count": 13,
     "metadata": {},
     "output_type": "execute_result"
    }
   ],
   "source": [
    "jmena_sl.iloc[1]"
   ]
  },
  {
   "cell_type": "code",
   "execution_count": 14,
   "id": "869fe371-b4e4-428e-86e4-e5247a80c7f0",
   "metadata": {
    "tags": []
   },
   "outputs": [
    {
     "data": {
      "text/plain": [
       "1    Matous\n",
       "2     Marek\n",
       "dtype: object"
      ]
     },
     "execution_count": 14,
     "metadata": {},
     "output_type": "execute_result"
    }
   ],
   "source": [
    "jmena_sl.iloc[:2]"
   ]
  },
  {
   "cell_type": "markdown",
   "id": "treated-cameroon",
   "metadata": {},
   "source": [
    "Kvůli jasnosti a přehlednosti je obecně výhodnější a doporučováné, pracovat s atributy `loc` a `iloc`."
   ]
  },
  {
   "cell_type": "markdown",
   "id": "nuclear-astronomy",
   "metadata": {},
   "source": [
    "<br>\n",
    "\n",
    "### Selekce u tabelárních hodnot\n",
    "\n",
    "---\n",
    "\n",
    "Jelikož je `DataFrame` složený ze sloupečků, můžeš aplikovat některé postupy z uplynulé teorie.\n",
    "\n",
    "* **slovníkový klíč**,\n",
    "* **atributový přístup**,\n",
    "* **slovníkový náhled**,\n",
    "* `loc`, `iloc`, `ix`, `T`."
   ]
  },
  {
   "cell_type": "code",
   "execution_count": 16,
   "id": "executed-tucson",
   "metadata": {
    "tags": []
   },
   "outputs": [],
   "source": [
    "from pandas import DataFrame"
   ]
  },
  {
   "cell_type": "code",
   "execution_count": 17,
   "id": "authorized-utility",
   "metadata": {
    "tags": []
   },
   "outputs": [],
   "source": [
    "populace_evropa = {\n",
    "    'Dansko': 5_655_750,\n",
    "    'Ceska_republika': 10_513_209,\n",
    "    'Nemecko': 80_716_000,\n",
    "    'Polsko': 38_483_957,\n",
    "    'Slovensko': 5_415_949,\n",
    "    'Rakousko': 8_932_664\n",
    "}"
   ]
  },
  {
   "cell_type": "code",
   "execution_count": 18,
   "id": "proprietary-flower",
   "metadata": {
    "tags": []
   },
   "outputs": [],
   "source": [
    "rozloha_evropa = {\n",
    "    'Dansko': 42_916,\n",
    "    'Ceska_republika': 78_870,\n",
    "    'Nemecko': 357_168,\n",
    "    'Polsko': 312_679,\n",
    "    'Slovensko': 49_035,\n",
    "    'Rakousko': 83_878\n",
    "}"
   ]
  },
  {
   "cell_type": "code",
   "execution_count": 19,
   "id": "bizarre-region",
   "metadata": {
    "tags": []
   },
   "outputs": [],
   "source": [
    "zeme_evropa_df = DataFrame({\"populace\": populace_evropa, \"rozloha\": rozloha_evropa})"
   ]
  },
  {
   "cell_type": "code",
   "execution_count": 20,
   "id": "perceived-testament",
   "metadata": {
    "tags": []
   },
   "outputs": [
    {
     "data": {
      "text/html": [
       "<div>\n",
       "<style scoped>\n",
       "    .dataframe tbody tr th:only-of-type {\n",
       "        vertical-align: middle;\n",
       "    }\n",
       "\n",
       "    .dataframe tbody tr th {\n",
       "        vertical-align: top;\n",
       "    }\n",
       "\n",
       "    .dataframe thead th {\n",
       "        text-align: right;\n",
       "    }\n",
       "</style>\n",
       "<table border=\"1\" class=\"dataframe\">\n",
       "  <thead>\n",
       "    <tr style=\"text-align: right;\">\n",
       "      <th></th>\n",
       "      <th>populace</th>\n",
       "      <th>rozloha</th>\n",
       "    </tr>\n",
       "  </thead>\n",
       "  <tbody>\n",
       "    <tr>\n",
       "      <th>Dansko</th>\n",
       "      <td>5655750</td>\n",
       "      <td>42916</td>\n",
       "    </tr>\n",
       "    <tr>\n",
       "      <th>Ceska_republika</th>\n",
       "      <td>10513209</td>\n",
       "      <td>78870</td>\n",
       "    </tr>\n",
       "    <tr>\n",
       "      <th>Nemecko</th>\n",
       "      <td>80716000</td>\n",
       "      <td>357168</td>\n",
       "    </tr>\n",
       "    <tr>\n",
       "      <th>Polsko</th>\n",
       "      <td>38483957</td>\n",
       "      <td>312679</td>\n",
       "    </tr>\n",
       "    <tr>\n",
       "      <th>Slovensko</th>\n",
       "      <td>5415949</td>\n",
       "      <td>49035</td>\n",
       "    </tr>\n",
       "    <tr>\n",
       "      <th>Rakousko</th>\n",
       "      <td>8932664</td>\n",
       "      <td>83878</td>\n",
       "    </tr>\n",
       "  </tbody>\n",
       "</table>\n",
       "</div>"
      ],
      "text/plain": [
       "                 populace  rozloha\n",
       "Dansko            5655750    42916\n",
       "Ceska_republika  10513209    78870\n",
       "Nemecko          80716000   357168\n",
       "Polsko           38483957   312679\n",
       "Slovensko         5415949    49035\n",
       "Rakousko          8932664    83878"
      ]
     },
     "execution_count": 20,
     "metadata": {},
     "output_type": "execute_result"
    }
   ],
   "source": [
    "zeme_evropa_df"
   ]
  },
  {
   "cell_type": "markdown",
   "id": "usual-celtic",
   "metadata": {},
   "source": [
    "<br>\n",
    "\n",
    "#### Přístup pomocí klíčů\n",
    "\n",
    "---"
   ]
  },
  {
   "cell_type": "code",
   "execution_count": 21,
   "id": "dried-seller",
   "metadata": {
    "tags": []
   },
   "outputs": [
    {
     "data": {
      "text/plain": [
       "Dansko              5655750\n",
       "Ceska_republika    10513209\n",
       "Nemecko            80716000\n",
       "Polsko             38483957\n",
       "Slovensko           5415949\n",
       "Rakousko            8932664\n",
       "Name: populace, dtype: int64"
      ]
     },
     "execution_count": 21,
     "metadata": {},
     "output_type": "execute_result"
    }
   ],
   "source": [
    "zeme_evropa_df[\"populace\"]"
   ]
  },
  {
   "cell_type": "code",
   "execution_count": 22,
   "id": "quick-maine",
   "metadata": {
    "tags": []
   },
   "outputs": [
    {
     "data": {
      "text/plain": [
       "Dansko              42916\n",
       "Ceska_republika     78870\n",
       "Nemecko            357168\n",
       "Polsko             312679\n",
       "Slovensko           49035\n",
       "Rakousko            83878\n",
       "Name: rozloha, dtype: int64"
      ]
     },
     "execution_count": 22,
     "metadata": {},
     "output_type": "execute_result"
    }
   ],
   "source": [
    "zeme_evropa_df[\"rozloha\"]"
   ]
  },
  {
   "cell_type": "markdown",
   "id": "applicable-baltimore",
   "metadata": {},
   "source": [
    "<br>\n",
    "\n",
    "#### Přístup pomocí atributů\n",
    "\n",
    "---"
   ]
  },
  {
   "cell_type": "code",
   "execution_count": null,
   "id": "traditional-supplement",
   "metadata": {
    "tags": []
   },
   "outputs": [],
   "source": [
    "bool(zeme_evropa_df[\"rozloha\"] is zeme_evropa_df.rozloha)"
   ]
  },
  {
   "cell_type": "code",
   "execution_count": null,
   "id": "helpful-roulette",
   "metadata": {
    "tags": []
   },
   "outputs": [],
   "source": [
    "zeme_evropa_df.populace"
   ]
  },
  {
   "cell_type": "code",
   "execution_count": null,
   "id": "focused-mining",
   "metadata": {
    "tags": []
   },
   "outputs": [],
   "source": [
    "zeme_evropa_df.rozloha"
   ]
  },
  {
   "cell_type": "code",
   "execution_count": null,
   "id": "bound-atlanta",
   "metadata": {
    "tags": []
   },
   "outputs": [],
   "source": [
    "zeme_evropa_df[zeme_evropa_df.rozloha > 100_000]"
   ]
  },
  {
   "cell_type": "code",
   "execution_count": null,
   "id": "510c2557-73f7-4ec8-bf89-2fc3060b662a",
   "metadata": {
    "tags": []
   },
   "outputs": [],
   "source": [
    "zeme_evropa_df[zeme_evropa_df[\"rozloha\"] > 100_000]"
   ]
  },
  {
   "cell_type": "markdown",
   "id": "dress-paradise",
   "metadata": {},
   "source": [
    "Opatrně, atributový přístup nelze aplikovat, pokud je jméno sloupečku shodné s některým **z rezerovaných výrazů**."
   ]
  },
  {
   "cell_type": "markdown",
   "id": "nasty-detector",
   "metadata": {},
   "source": [
    "<br>\n",
    "\n",
    "#### Slovníkový náhled\n",
    "\n",
    "---"
   ]
  },
  {
   "cell_type": "code",
   "execution_count": 25,
   "id": "4c56ad9b-9f62-43ac-9c25-52dd76b40143",
   "metadata": {},
   "outputs": [
    {
     "data": {
      "text/plain": [
       "Index(['Dansko', 'Ceska_republika', 'Nemecko', 'Polsko', 'Slovensko',\n",
       "       'Rakousko'],\n",
       "      dtype='object')"
      ]
     },
     "execution_count": 25,
     "metadata": {},
     "output_type": "execute_result"
    }
   ],
   "source": [
    "zeme_evropa_df.index"
   ]
  },
  {
   "cell_type": "code",
   "execution_count": 24,
   "id": "2bc7db31-2bfe-4085-9f96-545a18072508",
   "metadata": {},
   "outputs": [
    {
     "data": {
      "text/plain": [
       "Index(['populace', 'rozloha'], dtype='object')"
      ]
     },
     "execution_count": 24,
     "metadata": {},
     "output_type": "execute_result"
    }
   ],
   "source": [
    "zeme_evropa_df.columns"
   ]
  },
  {
   "cell_type": "code",
   "execution_count": 23,
   "id": "scenic-assessment",
   "metadata": {
    "tags": []
   },
   "outputs": [
    {
     "data": {
      "text/plain": [
       "array([[ 5655750,    42916],\n",
       "       [10513209,    78870],\n",
       "       [80716000,   357168],\n",
       "       [38483957,   312679],\n",
       "       [ 5415949,    49035],\n",
       "       [ 8932664,    83878]])"
      ]
     },
     "execution_count": 23,
     "metadata": {},
     "output_type": "execute_result"
    }
   ],
   "source": [
    "zeme_evropa_df.values"
   ]
  },
  {
   "cell_type": "markdown",
   "id": "behavioral-dress",
   "metadata": {},
   "source": [
    "<br>\n",
    "\n",
    "#### loc\n",
    "\n",
    "---\n",
    "\n",
    "Stejná pravidla jako pro `Series`, nicméne tentokrát můžeš vybírat buď jednotlivé Indexy, nebo pole Indexů:"
   ]
  },
  {
   "cell_type": "code",
   "execution_count": 26,
   "id": "9ccbfde1-7834-4a99-ad1a-ce32b3183411",
   "metadata": {
    "tags": []
   },
   "outputs": [
    {
     "data": {
      "text/html": [
       "<div>\n",
       "<style scoped>\n",
       "    .dataframe tbody tr th:only-of-type {\n",
       "        vertical-align: middle;\n",
       "    }\n",
       "\n",
       "    .dataframe tbody tr th {\n",
       "        vertical-align: top;\n",
       "    }\n",
       "\n",
       "    .dataframe thead th {\n",
       "        text-align: right;\n",
       "    }\n",
       "</style>\n",
       "<table border=\"1\" class=\"dataframe\">\n",
       "  <thead>\n",
       "    <tr style=\"text-align: right;\">\n",
       "      <th></th>\n",
       "      <th>populace</th>\n",
       "      <th>rozloha</th>\n",
       "    </tr>\n",
       "  </thead>\n",
       "  <tbody>\n",
       "    <tr>\n",
       "      <th>Dansko</th>\n",
       "      <td>5655750</td>\n",
       "      <td>42916</td>\n",
       "    </tr>\n",
       "    <tr>\n",
       "      <th>Ceska_republika</th>\n",
       "      <td>10513209</td>\n",
       "      <td>78870</td>\n",
       "    </tr>\n",
       "    <tr>\n",
       "      <th>Nemecko</th>\n",
       "      <td>80716000</td>\n",
       "      <td>357168</td>\n",
       "    </tr>\n",
       "    <tr>\n",
       "      <th>Polsko</th>\n",
       "      <td>38483957</td>\n",
       "      <td>312679</td>\n",
       "    </tr>\n",
       "    <tr>\n",
       "      <th>Slovensko</th>\n",
       "      <td>5415949</td>\n",
       "      <td>49035</td>\n",
       "    </tr>\n",
       "    <tr>\n",
       "      <th>Rakousko</th>\n",
       "      <td>8932664</td>\n",
       "      <td>83878</td>\n",
       "    </tr>\n",
       "  </tbody>\n",
       "</table>\n",
       "</div>"
      ],
      "text/plain": [
       "                 populace  rozloha\n",
       "Dansko            5655750    42916\n",
       "Ceska_republika  10513209    78870\n",
       "Nemecko          80716000   357168\n",
       "Polsko           38483957   312679\n",
       "Slovensko         5415949    49035\n",
       "Rakousko          8932664    83878"
      ]
     },
     "execution_count": 26,
     "metadata": {},
     "output_type": "execute_result"
    }
   ],
   "source": [
    "zeme_evropa_df"
   ]
  },
  {
   "cell_type": "code",
   "execution_count": 27,
   "id": "interested-circus",
   "metadata": {
    "tags": []
   },
   "outputs": [
    {
     "data": {
      "text/plain": [
       "populace    80716000\n",
       "rozloha       357168\n",
       "Name: Nemecko, dtype: int64"
      ]
     },
     "execution_count": 27,
     "metadata": {},
     "output_type": "execute_result"
    }
   ],
   "source": [
    "zeme_evropa_df.loc[\"Nemecko\"]  # "
   ]
  },
  {
   "cell_type": "code",
   "execution_count": 28,
   "id": "animal-battery",
   "metadata": {
    "tags": []
   },
   "outputs": [
    {
     "data": {
      "text/html": [
       "<div>\n",
       "<style scoped>\n",
       "    .dataframe tbody tr th:only-of-type {\n",
       "        vertical-align: middle;\n",
       "    }\n",
       "\n",
       "    .dataframe tbody tr th {\n",
       "        vertical-align: top;\n",
       "    }\n",
       "\n",
       "    .dataframe thead th {\n",
       "        text-align: right;\n",
       "    }\n",
       "</style>\n",
       "<table border=\"1\" class=\"dataframe\">\n",
       "  <thead>\n",
       "    <tr style=\"text-align: right;\">\n",
       "      <th></th>\n",
       "      <th>populace</th>\n",
       "      <th>rozloha</th>\n",
       "    </tr>\n",
       "  </thead>\n",
       "  <tbody>\n",
       "    <tr>\n",
       "      <th>Dansko</th>\n",
       "      <td>5655750</td>\n",
       "      <td>42916</td>\n",
       "    </tr>\n",
       "    <tr>\n",
       "      <th>Ceska_republika</th>\n",
       "      <td>10513209</td>\n",
       "      <td>78870</td>\n",
       "    </tr>\n",
       "    <tr>\n",
       "      <th>Nemecko</th>\n",
       "      <td>80716000</td>\n",
       "      <td>357168</td>\n",
       "    </tr>\n",
       "  </tbody>\n",
       "</table>\n",
       "</div>"
      ],
      "text/plain": [
       "                 populace  rozloha\n",
       "Dansko            5655750    42916\n",
       "Ceska_republika  10513209    78870\n",
       "Nemecko          80716000   357168"
      ]
     },
     "execution_count": 28,
     "metadata": {},
     "output_type": "execute_result"
    }
   ],
   "source": [
    "zeme_evropa_df.loc[:\"Nemecko\"]"
   ]
  },
  {
   "cell_type": "markdown",
   "id": "valid-spine",
   "metadata": {},
   "source": [
    "<br>\n",
    "\n",
    "Dále můžeš vybírat sloupce nebo rozsah sloupců:"
   ]
  },
  {
   "cell_type": "code",
   "execution_count": 29,
   "id": "unique-paris",
   "metadata": {
    "tags": []
   },
   "outputs": [
    {
     "data": {
      "text/plain": [
       "80716000"
      ]
     },
     "execution_count": 29,
     "metadata": {},
     "output_type": "execute_result"
    }
   ],
   "source": [
    "zeme_evropa_df.loc[\"Nemecko\", \"populace\"]"
   ]
  },
  {
   "cell_type": "code",
   "execution_count": 30,
   "id": "legislative-shock",
   "metadata": {
    "tags": []
   },
   "outputs": [
    {
     "data": {
      "text/plain": [
       "Dansko              5655750\n",
       "Ceska_republika    10513209\n",
       "Nemecko            80716000\n",
       "Name: populace, dtype: int64"
      ]
     },
     "execution_count": 30,
     "metadata": {},
     "output_type": "execute_result"
    }
   ],
   "source": [
    "zeme_evropa_df.loc[:\"Nemecko\", \"populace\"]"
   ]
  },
  {
   "cell_type": "code",
   "execution_count": 31,
   "id": "seeing-shell",
   "metadata": {
    "tags": []
   },
   "outputs": [
    {
     "data": {
      "text/html": [
       "<div>\n",
       "<style scoped>\n",
       "    .dataframe tbody tr th:only-of-type {\n",
       "        vertical-align: middle;\n",
       "    }\n",
       "\n",
       "    .dataframe tbody tr th {\n",
       "        vertical-align: top;\n",
       "    }\n",
       "\n",
       "    .dataframe thead th {\n",
       "        text-align: right;\n",
       "    }\n",
       "</style>\n",
       "<table border=\"1\" class=\"dataframe\">\n",
       "  <thead>\n",
       "    <tr style=\"text-align: right;\">\n",
       "      <th></th>\n",
       "      <th>populace</th>\n",
       "      <th>rozloha</th>\n",
       "    </tr>\n",
       "  </thead>\n",
       "  <tbody>\n",
       "    <tr>\n",
       "      <th>Dansko</th>\n",
       "      <td>5655750</td>\n",
       "      <td>42916</td>\n",
       "    </tr>\n",
       "    <tr>\n",
       "      <th>Ceska_republika</th>\n",
       "      <td>10513209</td>\n",
       "      <td>78870</td>\n",
       "    </tr>\n",
       "    <tr>\n",
       "      <th>Nemecko</th>\n",
       "      <td>80716000</td>\n",
       "      <td>357168</td>\n",
       "    </tr>\n",
       "  </tbody>\n",
       "</table>\n",
       "</div>"
      ],
      "text/plain": [
       "                 populace  rozloha\n",
       "Dansko            5655750    42916\n",
       "Ceska_republika  10513209    78870\n",
       "Nemecko          80716000   357168"
      ]
     },
     "execution_count": 31,
     "metadata": {},
     "output_type": "execute_result"
    }
   ],
   "source": [
    "zeme_evropa_df.loc[:\"Nemecko\", :\"rozloha\"]"
   ]
  },
  {
   "cell_type": "markdown",
   "id": "hidden-cleveland",
   "metadata": {},
   "source": [
    "<br>\n",
    "\n",
    "#### iloc\n",
    "\n",
    "---"
   ]
  },
  {
   "cell_type": "code",
   "execution_count": 32,
   "id": "welsh-transsexual",
   "metadata": {
    "tags": []
   },
   "outputs": [
    {
     "data": {
      "text/plain": [
       "Dansko              42916\n",
       "Ceska_republika     78870\n",
       "Nemecko            357168\n",
       "Name: rozloha, dtype: int64"
      ]
     },
     "execution_count": 32,
     "metadata": {},
     "output_type": "execute_result"
    }
   ],
   "source": [
    "zeme_evropa_df.iloc[:3, 1]"
   ]
  },
  {
   "cell_type": "markdown",
   "id": "9c8091c1-4e48-4dfa-9b8b-e78c0b5254e0",
   "metadata": {},
   "source": [
    "<br>\n",
    "\n",
    "#### Transformace\n",
    "\n",
    "---"
   ]
  },
  {
   "cell_type": "code",
   "execution_count": 33,
   "id": "29bba267-0d1e-4226-9f88-d235a41863ed",
   "metadata": {},
   "outputs": [
    {
     "data": {
      "text/html": [
       "<div>\n",
       "<style scoped>\n",
       "    .dataframe tbody tr th:only-of-type {\n",
       "        vertical-align: middle;\n",
       "    }\n",
       "\n",
       "    .dataframe tbody tr th {\n",
       "        vertical-align: top;\n",
       "    }\n",
       "\n",
       "    .dataframe thead th {\n",
       "        text-align: right;\n",
       "    }\n",
       "</style>\n",
       "<table border=\"1\" class=\"dataframe\">\n",
       "  <thead>\n",
       "    <tr style=\"text-align: right;\">\n",
       "      <th></th>\n",
       "      <th>Dansko</th>\n",
       "      <th>Ceska_republika</th>\n",
       "      <th>Nemecko</th>\n",
       "      <th>Polsko</th>\n",
       "      <th>Slovensko</th>\n",
       "      <th>Rakousko</th>\n",
       "    </tr>\n",
       "  </thead>\n",
       "  <tbody>\n",
       "    <tr>\n",
       "      <th>populace</th>\n",
       "      <td>5655750</td>\n",
       "      <td>10513209</td>\n",
       "      <td>80716000</td>\n",
       "      <td>38483957</td>\n",
       "      <td>5415949</td>\n",
       "      <td>8932664</td>\n",
       "    </tr>\n",
       "    <tr>\n",
       "      <th>rozloha</th>\n",
       "      <td>42916</td>\n",
       "      <td>78870</td>\n",
       "      <td>357168</td>\n",
       "      <td>312679</td>\n",
       "      <td>49035</td>\n",
       "      <td>83878</td>\n",
       "    </tr>\n",
       "  </tbody>\n",
       "</table>\n",
       "</div>"
      ],
      "text/plain": [
       "           Dansko  Ceska_republika   Nemecko    Polsko  Slovensko  Rakousko\n",
       "populace  5655750         10513209  80716000  38483957    5415949   8932664\n",
       "rozloha     42916            78870    357168    312679      49035     83878"
      ]
     },
     "execution_count": 33,
     "metadata": {},
     "output_type": "execute_result"
    }
   ],
   "source": [
    "zeme_evropa_df.T"
   ]
  },
  {
   "cell_type": "markdown",
   "id": "aerial-spirit",
   "metadata": {},
   "source": [
    "#### ix\n",
    "\n",
    "---\n",
    "\n",
    "Jde o atribut-hybrid, který kombinuje mixování stylů z `loc` a `iloc`.\n",
    "\n",
    "Tento *legacy atribut* se již oficiálně nedoporučuje."
   ]
  },
  {
   "cell_type": "code",
   "execution_count": 34,
   "id": "1a9d686c-9904-45c2-ba0a-68a73cdb8769",
   "metadata": {
    "tags": []
   },
   "outputs": [
    {
     "ename": "AttributeError",
     "evalue": "'DataFrame' object has no attribute 'ix'",
     "output_type": "error",
     "traceback": [
      "\u001b[0;31m---------------------------------------------------------------------------\u001b[0m",
      "\u001b[0;31mAttributeError\u001b[0m                            Traceback (most recent call last)",
      "\u001b[0;32m/tmp/ipykernel_56469/3582587093.py\u001b[0m in \u001b[0;36m?\u001b[0;34m()\u001b[0m\n\u001b[0;32m----> 1\u001b[0;31m \u001b[0mzeme_evropa_df\u001b[0m\u001b[0;34m.\u001b[0m\u001b[0mix\u001b[0m\u001b[0;34m[\u001b[0m\u001b[0;34m:\u001b[0m\u001b[0;34m\"Nemecko\"\u001b[0m\u001b[0;34m,\u001b[0m \u001b[0;34m:\u001b[0m\u001b[0;36m2\u001b[0m\u001b[0;34m]\u001b[0m  \u001b[0;31m# iloc + loc\u001b[0m\u001b[0;34m\u001b[0m\u001b[0;34m\u001b[0m\u001b[0m\n\u001b[0m",
      "\u001b[0;32m~/projects/python-data/env/lib/python3.8/site-packages/pandas/core/generic.py\u001b[0m in \u001b[0;36m?\u001b[0;34m(self, name)\u001b[0m\n\u001b[1;32m   5985\u001b[0m             \u001b[0;32mand\u001b[0m \u001b[0mname\u001b[0m \u001b[0;32mnot\u001b[0m \u001b[0;32min\u001b[0m \u001b[0mself\u001b[0m\u001b[0;34m.\u001b[0m\u001b[0m_accessors\u001b[0m\u001b[0;34m\u001b[0m\u001b[0;34m\u001b[0m\u001b[0m\n\u001b[1;32m   5986\u001b[0m             \u001b[0;32mand\u001b[0m \u001b[0mself\u001b[0m\u001b[0;34m.\u001b[0m\u001b[0m_info_axis\u001b[0m\u001b[0;34m.\u001b[0m\u001b[0m_can_hold_identifiers_and_holds_name\u001b[0m\u001b[0;34m(\u001b[0m\u001b[0mname\u001b[0m\u001b[0;34m)\u001b[0m\u001b[0;34m\u001b[0m\u001b[0;34m\u001b[0m\u001b[0m\n\u001b[1;32m   5987\u001b[0m         ):\n\u001b[1;32m   5988\u001b[0m             \u001b[0;32mreturn\u001b[0m \u001b[0mself\u001b[0m\u001b[0;34m[\u001b[0m\u001b[0mname\u001b[0m\u001b[0;34m]\u001b[0m\u001b[0;34m\u001b[0m\u001b[0;34m\u001b[0m\u001b[0m\n\u001b[0;32m-> 5989\u001b[0;31m         \u001b[0;32mreturn\u001b[0m \u001b[0mobject\u001b[0m\u001b[0;34m.\u001b[0m\u001b[0m__getattribute__\u001b[0m\u001b[0;34m(\u001b[0m\u001b[0mself\u001b[0m\u001b[0;34m,\u001b[0m \u001b[0mname\u001b[0m\u001b[0;34m)\u001b[0m\u001b[0;34m\u001b[0m\u001b[0;34m\u001b[0m\u001b[0m\n\u001b[0m",
      "\u001b[0;31mAttributeError\u001b[0m: 'DataFrame' object has no attribute 'ix'"
     ]
    }
   ],
   "source": [
    "zeme_evropa_df.ix[:\"Nemecko\", :2]  # iloc + loc --> dnes AttributeError"
   ]
  },
  {
   "cell_type": "markdown",
   "id": "1d342fdd-9219-4ba9-b291-a07bf970228c",
   "metadata": {},
   "source": [
    "<img src=\"https://imgs.search.brave.com/lQb3xLIlg9zkzNeOExyC9yipGtQiF1BrVKrC4BwqbF8/rs:fit:500:0:0:0/g:ce/aHR0cHM6Ly90NC5m/dGNkbi5uZXQvanBn/LzA1LzU0LzExLzY3/LzM2MF9GXzU1NDEx/Njc4Nl9DZGhSbWha/YWlaRjdvUVhVajYz/d2RTSzVjOGo5SXNL/bS5qcGc\" width=\"250\" style=\"margin-left:auto; margin-right:auto\"/>"
   ]
  },
  {
   "cell_type": "markdown",
   "id": "5548325b-6eb3-49c3-8f77-d020915bc735",
   "metadata": {
    "tags": []
   },
   "source": [
    "<br>\n",
    "\n",
    "### Metody pro průzkumu dat a nahlížení\n",
    "\n",
    "---\n",
    "\n",
    "Následující metody ti ulehčí nahlížení a prozkoumávání dat.\n",
    "\n",
    "Jsou to metody:\n",
    "* `info()`,\n",
    "* `describe()`,\n",
    "* `head()`,\n",
    "* `tail()`,"
   ]
  },
  {
   "cell_type": "code",
   "execution_count": 35,
   "id": "7c2ea6e7-dca3-47ff-a87e-dfbc3b417235",
   "metadata": {
    "tags": []
   },
   "outputs": [],
   "source": [
    "from pandas import DataFrame"
   ]
  },
  {
   "cell_type": "code",
   "execution_count": 36,
   "id": "66667b45-1c7a-4367-8c31-dd2854dec593",
   "metadata": {
    "tags": []
   },
   "outputs": [],
   "source": [
    "populace_evropa = {\n",
    "    'Dansko': 5_655_750,\n",
    "    'Ceska_republika': 10_513_209,\n",
    "    'Nemecko': 80_716_000,\n",
    "    'Polsko': 38_483_957,\n",
    "    'Slovensko': 5_415_949,\n",
    "    'Rakousko': 8_932_664\n",
    "}"
   ]
  },
  {
   "cell_type": "code",
   "execution_count": 37,
   "id": "b981005e-7357-4909-8867-e5c583cc00ef",
   "metadata": {
    "tags": []
   },
   "outputs": [],
   "source": [
    "rozloha_evropa = {\n",
    "    'Dansko': 42_916,\n",
    "    'Ceska_republika': 78_870,\n",
    "    'Nemecko': 357_168,\n",
    "    'Polsko': 312_679,\n",
    "    'Slovensko': 49_035,\n",
    "    'Rakousko': 83_878\n",
    "}"
   ]
  },
  {
   "cell_type": "code",
   "execution_count": 38,
   "id": "7d6b99c1-da7e-421e-9be4-d64b1846bd6e",
   "metadata": {
    "tags": []
   },
   "outputs": [],
   "source": [
    "zeme_evropa_df = DataFrame({\"populace\": populace_evropa, \"rozloha\": rozloha_evropa})"
   ]
  },
  {
   "cell_type": "markdown",
   "id": "f7833116-dace-4fd4-bade-092aa627d051",
   "metadata": {
    "tags": []
   },
   "source": [
    "<br>\n",
    "\n",
    "#### Metoda `info()`\n",
    "\n",
    "---\n",
    "\n",
    "Jde o obecnou informaci o DataFrame:"
   ]
  },
  {
   "cell_type": "code",
   "execution_count": 39,
   "id": "3e064153-ca04-410e-a079-58be4329e499",
   "metadata": {
    "tags": []
   },
   "outputs": [
    {
     "name": "stdout",
     "output_type": "stream",
     "text": [
      "<class 'pandas.core.frame.DataFrame'>\n",
      "Index: 6 entries, Dansko to Rakousko\n",
      "Data columns (total 2 columns):\n",
      " #   Column    Non-Null Count  Dtype\n",
      "---  ------    --------------  -----\n",
      " 0   populace  6 non-null      int64\n",
      " 1   rozloha   6 non-null      int64\n",
      "dtypes: int64(2)\n",
      "memory usage: 144.0+ bytes\n"
     ]
    }
   ],
   "source": [
    "zeme_evropa_df.info()"
   ]
  },
  {
   "cell_type": "markdown",
   "id": "edd791a7-f355-4e1d-a830-5f5e72bfec8b",
   "metadata": {},
   "source": [
    "Z výstupu potom přečteš:\n",
    "* počet indexů,\n",
    "* počet sloupců,\n",
    "* počet neprázdných, nenulových hodnot,\n",
    "* datové typy pro sloupce."
   ]
  },
  {
   "cell_type": "markdown",
   "id": "5629c921-6ba8-47e8-973e-b73d1419cc37",
   "metadata": {
    "tags": []
   },
   "source": [
    "<br>\n",
    "\n",
    "#### Metoda `describe()`\n",
    "\n",
    "---\n",
    "\n",
    "Tato metoda ti nepodává základní informaci o DataFrame, ale spíše **pracuje s číselnými sloupci**.\n",
    "\n",
    "\n",
    "Poskytuje základní **statistické přehledy** jako:\n",
    "* průměr,\n",
    "* medián,\n",
    "* minimální & maximální hodnota,\n",
    "* rozptyl."
   ]
  },
  {
   "cell_type": "code",
   "execution_count": 40,
   "id": "24e47b9a-3207-46c2-a4fb-f3d92db3931f",
   "metadata": {
    "tags": []
   },
   "outputs": [
    {
     "data": {
      "text/html": [
       "<div>\n",
       "<style scoped>\n",
       "    .dataframe tbody tr th:only-of-type {\n",
       "        vertical-align: middle;\n",
       "    }\n",
       "\n",
       "    .dataframe tbody tr th {\n",
       "        vertical-align: top;\n",
       "    }\n",
       "\n",
       "    .dataframe thead th {\n",
       "        text-align: right;\n",
       "    }\n",
       "</style>\n",
       "<table border=\"1\" class=\"dataframe\">\n",
       "  <thead>\n",
       "    <tr style=\"text-align: right;\">\n",
       "      <th></th>\n",
       "      <th>populace</th>\n",
       "      <th>rozloha</th>\n",
       "    </tr>\n",
       "  </thead>\n",
       "  <tbody>\n",
       "    <tr>\n",
       "      <th>count</th>\n",
       "      <td>6.000000e+00</td>\n",
       "      <td>6.000000</td>\n",
       "    </tr>\n",
       "    <tr>\n",
       "      <th>mean</th>\n",
       "      <td>2.495292e+07</td>\n",
       "      <td>154091.000000</td>\n",
       "    </tr>\n",
       "    <tr>\n",
       "      <th>std</th>\n",
       "      <td>3.003943e+07</td>\n",
       "      <td>141686.364654</td>\n",
       "    </tr>\n",
       "    <tr>\n",
       "      <th>min</th>\n",
       "      <td>5.415949e+06</td>\n",
       "      <td>42916.000000</td>\n",
       "    </tr>\n",
       "    <tr>\n",
       "      <th>25%</th>\n",
       "      <td>6.474978e+06</td>\n",
       "      <td>56493.750000</td>\n",
       "    </tr>\n",
       "    <tr>\n",
       "      <th>50%</th>\n",
       "      <td>9.722936e+06</td>\n",
       "      <td>81374.000000</td>\n",
       "    </tr>\n",
       "    <tr>\n",
       "      <th>75%</th>\n",
       "      <td>3.149127e+07</td>\n",
       "      <td>255478.750000</td>\n",
       "    </tr>\n",
       "    <tr>\n",
       "      <th>max</th>\n",
       "      <td>8.071600e+07</td>\n",
       "      <td>357168.000000</td>\n",
       "    </tr>\n",
       "  </tbody>\n",
       "</table>\n",
       "</div>"
      ],
      "text/plain": [
       "           populace        rozloha\n",
       "count  6.000000e+00       6.000000\n",
       "mean   2.495292e+07  154091.000000\n",
       "std    3.003943e+07  141686.364654\n",
       "min    5.415949e+06   42916.000000\n",
       "25%    6.474978e+06   56493.750000\n",
       "50%    9.722936e+06   81374.000000\n",
       "75%    3.149127e+07  255478.750000\n",
       "max    8.071600e+07  357168.000000"
      ]
     },
     "execution_count": 40,
     "metadata": {},
     "output_type": "execute_result"
    }
   ],
   "source": [
    "zeme_evropa_df.describe()"
   ]
  },
  {
   "cell_type": "markdown",
   "id": "b3b08bae-9e35-4dc0-bcea-93d0b2de2c77",
   "metadata": {
    "tags": []
   },
   "source": [
    "<br>\n",
    "\n",
    "#### Metody `head()` a `tail()`\n",
    "\n",
    "---\n",
    "\n",
    "Obě metody pracují jako náhledové metody. K lepšímu pohledu na konkrétní řádky.\n",
    "\n",
    "1. `head`, prozkoumá **prvních pět řádků** (defaultně),\n",
    "2. `tail`, prozkoumá **posledních pět řádků** (defaultně),"
   ]
  },
  {
   "cell_type": "code",
   "execution_count": 41,
   "id": "5a52b8e1-5ed8-4804-bfee-8fd012cb458f",
   "metadata": {
    "tags": []
   },
   "outputs": [
    {
     "data": {
      "text/html": [
       "<div>\n",
       "<style scoped>\n",
       "    .dataframe tbody tr th:only-of-type {\n",
       "        vertical-align: middle;\n",
       "    }\n",
       "\n",
       "    .dataframe tbody tr th {\n",
       "        vertical-align: top;\n",
       "    }\n",
       "\n",
       "    .dataframe thead th {\n",
       "        text-align: right;\n",
       "    }\n",
       "</style>\n",
       "<table border=\"1\" class=\"dataframe\">\n",
       "  <thead>\n",
       "    <tr style=\"text-align: right;\">\n",
       "      <th></th>\n",
       "      <th>populace</th>\n",
       "      <th>rozloha</th>\n",
       "    </tr>\n",
       "  </thead>\n",
       "  <tbody>\n",
       "    <tr>\n",
       "      <th>Dansko</th>\n",
       "      <td>5655750</td>\n",
       "      <td>42916</td>\n",
       "    </tr>\n",
       "    <tr>\n",
       "      <th>Ceska_republika</th>\n",
       "      <td>10513209</td>\n",
       "      <td>78870</td>\n",
       "    </tr>\n",
       "    <tr>\n",
       "      <th>Nemecko</th>\n",
       "      <td>80716000</td>\n",
       "      <td>357168</td>\n",
       "    </tr>\n",
       "  </tbody>\n",
       "</table>\n",
       "</div>"
      ],
      "text/plain": [
       "                 populace  rozloha\n",
       "Dansko            5655750    42916\n",
       "Ceska_republika  10513209    78870\n",
       "Nemecko          80716000   357168"
      ]
     },
     "execution_count": 41,
     "metadata": {},
     "output_type": "execute_result"
    }
   ],
   "source": [
    "zeme_evropa_df.head(3)  # truncate, "
   ]
  },
  {
   "cell_type": "code",
   "execution_count": 42,
   "id": "59ea6c9c-3d21-418e-baa0-5389af144df1",
   "metadata": {
    "tags": []
   },
   "outputs": [
    {
     "data": {
      "text/html": [
       "<div>\n",
       "<style scoped>\n",
       "    .dataframe tbody tr th:only-of-type {\n",
       "        vertical-align: middle;\n",
       "    }\n",
       "\n",
       "    .dataframe tbody tr th {\n",
       "        vertical-align: top;\n",
       "    }\n",
       "\n",
       "    .dataframe thead th {\n",
       "        text-align: right;\n",
       "    }\n",
       "</style>\n",
       "<table border=\"1\" class=\"dataframe\">\n",
       "  <thead>\n",
       "    <tr style=\"text-align: right;\">\n",
       "      <th></th>\n",
       "      <th>populace</th>\n",
       "      <th>rozloha</th>\n",
       "    </tr>\n",
       "  </thead>\n",
       "  <tbody>\n",
       "    <tr>\n",
       "      <th>Polsko</th>\n",
       "      <td>38483957</td>\n",
       "      <td>312679</td>\n",
       "    </tr>\n",
       "    <tr>\n",
       "      <th>Slovensko</th>\n",
       "      <td>5415949</td>\n",
       "      <td>49035</td>\n",
       "    </tr>\n",
       "    <tr>\n",
       "      <th>Rakousko</th>\n",
       "      <td>8932664</td>\n",
       "      <td>83878</td>\n",
       "    </tr>\n",
       "  </tbody>\n",
       "</table>\n",
       "</div>"
      ],
      "text/plain": [
       "           populace  rozloha\n",
       "Polsko     38483957   312679\n",
       "Slovensko   5415949    49035\n",
       "Rakousko    8932664    83878"
      ]
     },
     "execution_count": 42,
     "metadata": {},
     "output_type": "execute_result"
    }
   ],
   "source": [
    "zeme_evropa_df.tail(3)"
   ]
  },
  {
   "cell_type": "markdown",
   "id": "aware-respondent",
   "metadata": {},
   "source": [
    "<br>\n",
    "\n",
    "**🧠 CVIČENÍ 🧠, diktát s pandama.**"
   ]
  },
  {
   "cell_type": "code",
   "execution_count": null,
   "id": "19c1f09e-cf86-49fe-adfe-564176d58e02",
   "metadata": {
    "tags": []
   },
   "outputs": [],
   "source": [
    "!pwd"
   ]
  },
  {
   "cell_type": "code",
   "execution_count": null,
   "id": "630aa946-8378-43a0-96b9-ffd4f0ccd4d7",
   "metadata": {
    "tags": []
   },
   "outputs": [],
   "source": [
    "!head -1 ../onsite/lesson02/games.csv"
   ]
  },
  {
   "cell_type": "markdown",
   "id": "40a104db-ed85-4aca-9fa2-b973c8de0d64",
   "metadata": {},
   "source": [
    "**Nahraj zadaný soubor do proměnné `hry_df`**"
   ]
  },
  {
   "cell_type": "code",
   "execution_count": null,
   "id": "0d5b1134-6b8f-458c-b714-91e17ba09268",
   "metadata": {
    "tags": []
   },
   "outputs": [],
   "source": [
    "hry_df = read_csv(\"../onsite/lesson02/games.csv\")"
   ]
  },
  {
   "cell_type": "code",
   "execution_count": null,
   "id": "a6f70cfe-1c73-42d5-8af8-0fb53ed0ca74",
   "metadata": {
    "tags": []
   },
   "outputs": [],
   "source": [
    "hry_df.head(1)"
   ]
  },
  {
   "cell_type": "markdown",
   "id": "b60cbac0-d0af-434c-ade2-9e8ad5b7b63a",
   "metadata": {
    "tags": []
   },
   "source": [
    "<details>\n",
    "    <summary>▶️ Řešení</summary>\n",
    "    \n",
    "```python\n",
    "hry_df = read_csv(\"../onsite/lesson02/games.csv\")\n",
    "```\n",
    "</details>"
   ]
  },
  {
   "cell_type": "markdown",
   "id": "3eb3ce39-d550-40cb-9dc6-e45c0bc62b2b",
   "metadata": {},
   "source": [
    "<br>\n",
    "\n",
    "**Vytvoř proměnnou `jen_souhrn`, která obsahuje pouze sloupec `Summary`**"
   ]
  },
  {
   "cell_type": "code",
   "execution_count": null,
   "id": "d0e56441-9159-46df-adff-dfa64381d8f6",
   "metadata": {
    "tags": []
   },
   "outputs": [],
   "source": []
  },
  {
   "cell_type": "markdown",
   "id": "04c8c949-f1a9-44f0-9307-8f0167b4dbe5",
   "metadata": {},
   "source": [
    "<details>\n",
    "    <summary>▶️ Řešení</summary>\n",
    "    \n",
    "    ```\n",
    "    souhrn = hry_df.Summary\n",
    "    ```\n",
    "</details>"
   ]
  },
  {
   "cell_type": "markdown",
   "id": "b70f1e19-22d7-44a7-95ac-720d40c35394",
   "metadata": {},
   "source": [
    "<br>\n",
    "\n",
    "**Vytvoř proměnnou `prvni_souhrn`, která obsahuje pouze první řádek ze sloupce `Summary`**"
   ]
  },
  {
   "cell_type": "code",
   "execution_count": null,
   "id": "1fe33b4e-8dfa-47ed-bc57-a0be03d9a5d9",
   "metadata": {
    "tags": []
   },
   "outputs": [],
   "source": []
  },
  {
   "cell_type": "markdown",
   "id": "dfd72d8a-6458-4abc-8789-f5fd4b8e0990",
   "metadata": {},
   "source": [
    "<details>\n",
    "    <summary>▶️ Řešení</summary>\n",
    "    \n",
    "    ```\n",
    "    prvni_radek = hry_df.Summary.iloc[0]\n",
    "    ```\n",
    "</details>"
   ]
  },
  {
   "cell_type": "markdown",
   "id": "473b8d7c-b1f3-4320-9f15-4f49df310f0b",
   "metadata": {},
   "source": [
    "<br>\n",
    "\n",
    "**Vytvoř proměnnou `prvni_radek_tab`, která obsahuje celý první záznam z tabulky, z `hry_df`**"
   ]
  },
  {
   "cell_type": "code",
   "execution_count": null,
   "id": "dbfa6e26-692f-49ca-81be-ddbf93f5834e",
   "metadata": {},
   "outputs": [],
   "source": []
  },
  {
   "cell_type": "markdown",
   "id": "c0941964-3f56-475c-afbb-b3ab2e15d6e2",
   "metadata": {},
   "source": [
    "<details>\n",
    "    <summary>▶️ Řešení</summary>\n",
    "    \n",
    "    ```\n",
    "    prvni_radek_tab = hry_df.iloc[0]\n",
    "    ```\n",
    "</details>"
   ]
  },
  {
   "cell_type": "markdown",
   "id": "1bbe62a1-0d7d-4cdf-845d-3822deabdb4c",
   "metadata": {},
   "source": [
    "<br>\n",
    "\n",
    "**Vytvoř proměnnou `prvnich_deset_souhrnu`, kam načti prvních deset řádků z vybraného sloupečku `Summary`**"
   ]
  },
  {
   "cell_type": "code",
   "execution_count": null,
   "id": "bc5deddb-c7de-4b5d-9b64-8b4b0e267daa",
   "metadata": {
    "tags": []
   },
   "outputs": [],
   "source": []
  },
  {
   "cell_type": "markdown",
   "id": "781e2ebd-4eec-476d-b156-7d51fc3462d9",
   "metadata": {},
   "source": [
    "<details>\n",
    "    <summary>▶️ Řešení</summary>\n",
    "    \n",
    "    ```\n",
    "    prvni_souhrny = hry_df.Summary.iloc[:10]\n",
    "    ```\n",
    "</details>"
   ]
  },
  {
   "cell_type": "markdown",
   "id": "2b66641a-9a02-434c-ae8d-984319b2c625",
   "metadata": {},
   "source": [
    "<br>\n",
    "\n",
    "**Vytvoř proměnnou `vzorek_indexu`, kam načti záznamy z indexů **2, 4, 5, 6, 7** a **9** z celé tabulky**"
   ]
  },
  {
   "cell_type": "code",
   "execution_count": null,
   "id": "2533cb3b-a207-40a3-8806-0b42716c4fd1",
   "metadata": {
    "tags": []
   },
   "outputs": [],
   "source": []
  },
  {
   "cell_type": "markdown",
   "id": "1c4f88ef-4c30-46e6-801e-77c2889ad41a",
   "metadata": {},
   "source": [
    "<details>\n",
    "    <summary>▶️ Řešení</summary>\n",
    "    \n",
    "    ```\n",
    "    vzorek_indexu = hry_df.loc[[2, 4, 5, 6, 7, 9]]\n",
    "    ```\n",
    "</details>"
   ]
  },
  {
   "cell_type": "markdown",
   "id": "11140ddc-dbe5-4185-bd4c-3f1dbcb4d8c5",
   "metadata": {},
   "source": [
    "<br>\n",
    "\n",
    "**Vytvoř proměnnou `hodnoceni`, načti záznamy z indexů **1, 5, 10, 100, 1000** z celé tabulky a vyber pouze sloupečky `Title`, `Rating`, `Release Date`, `Number of Reviews`**"
   ]
  },
  {
   "cell_type": "code",
   "execution_count": null,
   "id": "23c8dd5b-df57-4b68-aee5-daa8cad968d0",
   "metadata": {
    "tags": []
   },
   "outputs": [],
   "source": []
  },
  {
   "cell_type": "markdown",
   "id": "96a30e8f-c296-4d67-b9e7-28f999da868a",
   "metadata": {},
   "source": [
    "<details>\n",
    "    <summary>▶️ Řešení</summary>\n",
    "    \n",
    "    ```\n",
    "    hodnoceni = hry_df.loc[[1, 5, 10, 100, 1000], [\"Title\", \"Rating\", \"Release Date\", \"Number of Reviews\"]]\n",
    "    ```\n",
    "</details>"
   ]
  },
  {
   "cell_type": "markdown",
   "id": "f44ba851-3999-4441-9c2d-3f2b28f77a3a",
   "metadata": {},
   "source": [
    "<br>\n",
    "\n",
    "**Vytvoř proměnnou `prvnich_sto`, která obsahuje pouze sloupečky `Title`a `Rating`. Dále potřebuješ uložit pouze **prvních 100 indexů****"
   ]
  },
  {
   "cell_type": "code",
   "execution_count": null,
   "id": "000b5b29-77be-4c68-850e-993ba908f9ba",
   "metadata": {
    "tags": []
   },
   "outputs": [],
   "source": []
  },
  {
   "cell_type": "markdown",
   "id": "1a9c0070-e3a0-46ef-9101-f9a6d355f19b",
   "metadata": {},
   "source": [
    "<details>\n",
    "    <summary>▶️ Řešení</summary>\n",
    "    \n",
    "    ```\n",
    "    prvnich_sto = hry_df.loc[:99, [\"Title\", \"Rating\"]]\n",
    "    ```\n",
    "</details>"
   ]
  },
  {
   "cell_type": "markdown",
   "id": "dc4daab5-d2e5-4f0e-aa2b-406f33ad7c06",
   "metadata": {},
   "source": [
    "<br>\n",
    "\n",
    "**Vytvoř proměnnou `vyber`, která obsahuje dva sloupečky `Title` a `Rating`, kde ve sloupečku `rating` chceš získat pouze takové tituly, které mají hodnocení větší nebo rovnou `4.6`**"
   ]
  },
  {
   "cell_type": "code",
   "execution_count": null,
   "id": "4df94e2b-db40-4209-a90c-3a203be0c231",
   "metadata": {
    "tags": []
   },
   "outputs": [],
   "source": []
  },
  {
   "cell_type": "markdown",
   "id": "3eb548f2-1993-4b50-b093-b4e19475d79c",
   "metadata": {},
   "source": [
    "<details>\n",
    "    <summary>▶️ Řešení</summary>\n",
    "    \n",
    "    ```\n",
    "    vyber_her = hry_df[hry_df[\"Rating\"] >= 4.6]\n",
    "    ```\n",
    "\n",
    "</details>"
   ]
  },
  {
   "cell_type": "markdown",
   "id": "31171fb1-a8ca-4ad9-9ff1-a2bf246213e4",
   "metadata": {
    "tags": []
   },
   "source": [
    "<br>\n",
    "\n",
    "## Manipulace se sloupci\n",
    "\n",
    "---\n",
    "\n",
    "\n",
    "<img src=\"https://external-content.duckduckgo.com/iu/?u=https%3A%2F%2Ftse4.mm.bing.net%2Fth%3Fid%3DOIP.tzaGc-M5pl0DP6pGu-H6WgHaHa%26pid%3DApi&f=1&ipt=39909793c49bf980b8dbceaabe312870e1446f58fba1e6b430630cfbddd2b9c4&ipo=images\" width=\"200\" style=\"margin-left:auto; margin-right:auto\"/>\n",
    "\n"
   ]
  },
  {
   "cell_type": "markdown",
   "id": "eab48226-0b5f-4943-9ab0-73c3cf80573c",
   "metadata": {},
   "source": [
    "Jakmile se dovedeš zorientovat v datových strukturách knihovny `pandas`, můžeš začít upravovat jejich obsah:\n",
    "1. **Přejmenovat** sloupce,\n",
    "2. **vytvořit** nové sloupce,\n",
    "3. **odstranit** existující sloupce."
   ]
  },
  {
   "cell_type": "markdown",
   "id": "8daf5c76-cce6-4c8f-abd0-394b14c81623",
   "metadata": {},
   "source": [
    "### Přejmenování sloupců\n",
    "\n",
    "---\n",
    "\n",
    "Pokud budeš někdy zápasit se špatně pojmenovaným sloupcem nebo sloupci, přejmenuj je pomocí metody `rename`."
   ]
  },
  {
   "cell_type": "code",
   "execution_count": null,
   "id": "60654bc7-aea3-4a01-9a0a-f76831a3a337",
   "metadata": {
    "tags": []
   },
   "outputs": [],
   "source": [
    "uzivatele = {\n",
    "    'jmeno': ['Matouš', 'Marek', 'Lukáš', 'Jan'],\n",
    "    'age': [23, 25, 27, 29],\n",
    "    'vaha': [65, 70, 75, 80],\n",
    "    'vyska': [160, 170, 180, 190]\n",
    "}"
   ]
  },
  {
   "cell_type": "code",
   "execution_count": null,
   "id": "80b5a3d5-5926-4292-9440-4d493f39d981",
   "metadata": {
    "tags": []
   },
   "outputs": [],
   "source": [
    "df_uzivatele = DataFrame(uzivatele)"
   ]
  },
  {
   "cell_type": "code",
   "execution_count": null,
   "id": "c239a13d-e294-4776-9a8d-0102be711aa1",
   "metadata": {
    "tags": []
   },
   "outputs": [],
   "source": [
    "df_uzivatele.head()"
   ]
  },
  {
   "cell_type": "markdown",
   "id": "0858c536-8462-4c03-84b4-da83aab57297",
   "metadata": {},
   "source": [
    "V ukázce výš tě omezuje jazyková nakonzistence mezi sloupečky.\n",
    "\n",
    "Pomocí metody `rename` a argumentu `columns`, můžeš pomocí `dict` anotace vybrat, co a čím přejmenovat:"
   ]
  },
  {
   "cell_type": "code",
   "execution_count": null,
   "id": "144a12fa-fbdd-4ad9-bd3f-42c6783e6434",
   "metadata": {
    "tags": []
   },
   "outputs": [],
   "source": [
    "df_uzivatele.rename(columns={\"age\": \"vek\"})"
   ]
  },
  {
   "cell_type": "markdown",
   "id": "ab69e7b7-b138-447d-8b72-924f2d017489",
   "metadata": {},
   "source": [
    "Při další kontrole zjistíš, že **nové jméno sloupečku zmizelo**:"
   ]
  },
  {
   "cell_type": "code",
   "execution_count": null,
   "id": "dc081311-3f99-4aad-823b-7a852258f2e4",
   "metadata": {
    "tags": []
   },
   "outputs": [],
   "source": [
    "df_uzivatele"
   ]
  },
  {
   "cell_type": "markdown",
   "id": "0f3063d1-b97d-433e-b1bc-52db4efd8973",
   "metadata": {},
   "source": [
    "<br>\n",
    "\n",
    "Celou situaci můžeš řešit dvěma způsoby:\n",
    "1. Volitelný argument `inplace`,\n",
    "2. kopie původního `DataFrame` objektu."
   ]
  },
  {
   "cell_type": "code",
   "execution_count": null,
   "id": "70b1031a-2126-4751-8988-e515d1364939",
   "metadata": {
    "tags": []
   },
   "outputs": [],
   "source": [
    "prejmenovany_sloupec_df = df_uzivatele.rename(columns={\"age\": \"vek\"})"
   ]
  },
  {
   "cell_type": "code",
   "execution_count": null,
   "id": "9c51ad7b-e2e1-4ac2-8dc8-c399a2877918",
   "metadata": {
    "tags": []
   },
   "outputs": [],
   "source": [
    "prejmenovany_sloupec_df.head()"
   ]
  },
  {
   "cell_type": "code",
   "execution_count": null,
   "id": "b678b2f0-7eef-47a1-9639-65d0d1d83e28",
   "metadata": {
    "tags": []
   },
   "outputs": [],
   "source": [
    "df_uzivatele.rename(columns={\"age\": \"vek\"}, inplace=True)"
   ]
  },
  {
   "cell_type": "code",
   "execution_count": null,
   "id": "2f26c9c3-7173-414d-aad0-d00e5ab76d0d",
   "metadata": {
    "tags": []
   },
   "outputs": [],
   "source": [
    "df_uzivatele.head()"
   ]
  },
  {
   "cell_type": "markdown",
   "id": "a7185f41-60bc-45d8-a2fd-bcfcb5d9cbcc",
   "metadata": {},
   "source": [
    "Opatrně na práci s argumentem `inplace`.\n",
    "\n",
    "Jeho použití vždy důkladně zvaž, ať neztratíš zdrojová data."
   ]
  },
  {
   "cell_type": "markdown",
   "id": "3003f44f-1d2e-424e-9feb-0b6112f8267c",
   "metadata": {},
   "source": [
    "<br>\n",
    "\n",
    "Přejmenovat můžeš i více sloupců současně:"
   ]
  },
  {
   "cell_type": "code",
   "execution_count": null,
   "id": "4d15297b-cd24-4257-8ce2-43ffa17805e2",
   "metadata": {
    "tags": []
   },
   "outputs": [],
   "source": [
    "nova_jmena_sloupcu = {\n",
    "    \"jmeno\": \"first_name\",\n",
    "    \"vek\": \"age\",\n",
    "    \"vaha\": \"weight\",\n",
    "    \"vyska\": \"height\"\n",
    "}"
   ]
  },
  {
   "cell_type": "code",
   "execution_count": null,
   "id": "9b40261e-aa99-47da-ae5a-4a21597b5364",
   "metadata": {
    "tags": []
   },
   "outputs": [],
   "source": [
    "df_uzivatele.rename(columns=nova_jmena_sloupcu, inplace=True)"
   ]
  },
  {
   "cell_type": "code",
   "execution_count": null,
   "id": "ccb0e3a7-b42f-42dd-b698-9099d51d834c",
   "metadata": {
    "tags": []
   },
   "outputs": [],
   "source": [
    "df_uzivatele.head()"
   ]
  },
  {
   "cell_type": "markdown",
   "id": "c322673a-8a60-4803-866c-a871733e661c",
   "metadata": {},
   "source": [
    "### Přidávání sloupců do DataFrame\n",
    "\n",
    "Potřebuješ doplnit další sloupec. Nebo upravit data v jednom sloupci a výsledek zapsat do dalšího.\n",
    "\n",
    "Nejčastěji můžeš pracovat **na přidávání nových sloupců** těmito třemi způsoby:\n",
    "1. Slovníková anotace pomocí klíče a hodnoty,\n",
    "2. výsledek pomocí operace mezi dvěma sloupci,\n",
    "3. pomocí metody `apply`."
   ]
  },
  {
   "cell_type": "markdown",
   "id": "1ade37c1-ad33-42e1-b498-04c1a8669bef",
   "metadata": {},
   "source": [
    "#### Jako klíč a hodnota\n",
    "\n",
    "Takový způsob použiješ, pokud máš nachystané hodnoty pro nový sloupec:"
   ]
  },
  {
   "cell_type": "code",
   "execution_count": null,
   "id": "ba7b2b32-7444-4621-bfcd-b788dc30f440",
   "metadata": {},
   "outputs": [],
   "source": [
    "nova_jmena_sloupcu = {\n",
    "    \"first_name\": \"jmeno\",\n",
    "    \"age\": \"vek\",\n",
    "    \"weight\": \"vaha\",\n",
    "    \"height\": \"vyska\"\n",
    "}"
   ]
  },
  {
   "cell_type": "code",
   "execution_count": null,
   "id": "23a14fe1-6ea7-4e6c-8aed-1281b2c934f4",
   "metadata": {
    "tags": []
   },
   "outputs": [],
   "source": [
    "df_uzivatele.rename(columns=nova_jmena_sloupcu, inplace=True)"
   ]
  },
  {
   "cell_type": "code",
   "execution_count": null,
   "id": "06e7e4d6-74bf-4569-8f98-15b9111a5313",
   "metadata": {
    "tags": []
   },
   "outputs": [],
   "source": [
    "df_uzivatele.head()"
   ]
  },
  {
   "cell_type": "code",
   "execution_count": null,
   "id": "c635c050-89c7-4018-a847-411aed8648f2",
   "metadata": {
    "tags": []
   },
   "outputs": [],
   "source": [
    "df_uzivatele['prijmeni'] = [\"Holinka\", \"Párek\", \"Holinka\", \"Novák\"]"
   ]
  },
  {
   "cell_type": "code",
   "execution_count": null,
   "id": "b843b019-4775-472d-98fd-e4c472ac6c05",
   "metadata": {
    "tags": []
   },
   "outputs": [],
   "source": [
    "df_uzivatele.head()"
   ]
  },
  {
   "cell_type": "code",
   "execution_count": null,
   "id": "3d054819-097c-45ef-a653-c3312e7e668b",
   "metadata": {
    "tags": []
   },
   "outputs": [],
   "source": [
    "df_uzivatele.iloc[1]"
   ]
  },
  {
   "cell_type": "markdown",
   "id": "c8d82f31-0101-4f80-bec1-0e25e8df6383",
   "metadata": {},
   "source": [
    "#### Kombinace existujících sloupců\n",
    "\n",
    "Tento způsob lze použít, pokud chceš vytvořit nový sloupec pomocí operací mezi existujícími sloupci:"
   ]
  },
  {
   "cell_type": "code",
   "execution_count": null,
   "id": "01a06e0d-fb42-4ab1-9f12-d99c240325c9",
   "metadata": {
    "tags": []
   },
   "outputs": [],
   "source": [
    "df_uzivatele.head()"
   ]
  },
  {
   "cell_type": "code",
   "execution_count": null,
   "id": "0d70f9c8-90ea-4c23-a3f7-1d746f2352ca",
   "metadata": {
    "tags": []
   },
   "outputs": [],
   "source": [
    "df_uzivatele['BMI'] = round(df_uzivatele['vaha'] / ((df_uzivatele['vyska'] / 100) ** 2), 1)"
   ]
  },
  {
   "cell_type": "code",
   "execution_count": null,
   "id": "1ed53fe0-8164-4758-8339-4f40c1d4edb2",
   "metadata": {
    "tags": []
   },
   "outputs": [],
   "source": [
    "df_uzivatele.head()"
   ]
  },
  {
   "cell_type": "markdown",
   "id": "87ba33e5-ef4a-482e-ae16-c35c58dbcdc3",
   "metadata": {},
   "source": [
    "#### Metoda `apply`\n",
    "\n",
    "Pokud potřebuješ aplikovat uživ. funkci **pro stávající sloupec**, využiješ metodu `apply`:"
   ]
  },
  {
   "cell_type": "code",
   "execution_count": null,
   "id": "c1073848-da98-42df-a33c-7109764fdcb1",
   "metadata": {
    "tags": []
   },
   "outputs": [],
   "source": [
    "df_uzivatele.head()"
   ]
  },
  {
   "cell_type": "code",
   "execution_count": null,
   "id": "83253a18-3363-4667-85ba-5de73d11cc18",
   "metadata": {
    "tags": []
   },
   "outputs": [],
   "source": [
    "def vytvor_email(prijmeni: str, domena: str = \"gmail.com\") -> str:\n",
    "    \"\"\"\n",
    "    Vrať zformátovaný string, který tvoří emailovou adresu.\n",
    "    \"\"\"\n",
    "    return f\"{prijmeni.lower()}@{domena}\""
   ]
  },
  {
   "cell_type": "code",
   "execution_count": null,
   "id": "34e3dddb-9386-4007-b9e2-bfa220d28dca",
   "metadata": {
    "tags": []
   },
   "outputs": [],
   "source": [
    "df_uzivatele['email'] = df_uzivatele['prijmeni'].apply(vytvor_email)"
   ]
  },
  {
   "cell_type": "code",
   "execution_count": null,
   "id": "ae2f6dbf-776c-4ddf-9eba-1f369e71a318",
   "metadata": {
    "tags": []
   },
   "outputs": [],
   "source": [
    "df_uzivatele.head()"
   ]
  },
  {
   "cell_type": "markdown",
   "id": "4f8549c3-1e49-4448-8335-d090fa6ef60b",
   "metadata": {},
   "source": [
    "<br>\n",
    "\n",
    "Pokud budeš potřebovat pracovat **s více sloupečky**:"
   ]
  },
  {
   "cell_type": "code",
   "execution_count": null,
   "id": "e90c7e9f-045f-4eb8-8e6b-1ebd2377ffa6",
   "metadata": {
    "tags": []
   },
   "outputs": [],
   "source": [
    "def vytvor_email(radek: pandas.core.frame.Series, domena: str = \"gmail.com\") -> str:\n",
    "    \"\"\"\n",
    "    Vrať zformátovaný string, který tvoří emailovou adresu.\n",
    "    \"\"\"\n",
    "    return f\"{radek.jmeno.lower()[0]}_{radek.prijmeni.lower()}@{domena}\""
   ]
  },
  {
   "cell_type": "code",
   "execution_count": null,
   "id": "c17c4bac-9aef-4169-919e-134b825a8652",
   "metadata": {
    "tags": []
   },
   "outputs": [],
   "source": [
    "df_uzivatele['email_lepsi'] = df_uzivatele.apply(vytvor_email, axis=1)"
   ]
  },
  {
   "cell_type": "code",
   "execution_count": null,
   "id": "c8e7eb59-01de-4d95-b235-5dc1ad64800a",
   "metadata": {
    "tags": []
   },
   "outputs": [],
   "source": [
    "df_uzivatele"
   ]
  },
  {
   "cell_type": "markdown",
   "id": "b8f1611d-7d7c-4b56-9235-34484b027aad",
   "metadata": {},
   "source": [
    "<br>\n",
    "\n",
    "Nepovinný argument `axis` v ohlášení říká, že chce aplikovat metodu **na řádkové hodnoty**."
   ]
  },
  {
   "cell_type": "code",
   "execution_count": null,
   "id": "d5a4b70b-787b-49db-afb7-1081ec3beea2",
   "metadata": {
    "tags": []
   },
   "outputs": [],
   "source": [
    "df_uzivatele.apply?"
   ]
  },
  {
   "cell_type": "code",
   "execution_count": null,
   "id": "1f402591-90f6-4035-8376-fe9b92a81541",
   "metadata": {
    "tags": []
   },
   "outputs": [],
   "source": [
    "df_uzivatele.head()"
   ]
  },
  {
   "cell_type": "markdown",
   "id": "bb250d1f-8f03-4215-ad23-f62e3a2ac7fc",
   "metadata": {},
   "source": [
    "Tento způsob lze použít, pokud chceš vytvořit **nový sloupec** pomocí nějaké funkce na jednotlivé řádky nebo sloupce `DataFrame`."
   ]
  },
  {
   "cell_type": "markdown",
   "id": "e6d2071a-8e16-49a9-9ea3-b60f1de75a82",
   "metadata": {},
   "source": [
    "<br>\n",
    "\n",
    "### Odstraňování sloupečků\n",
    "\n",
    "---"
   ]
  },
  {
   "cell_type": "markdown",
   "id": "e85f77d5-80ea-4193-9301-6990358086b8",
   "metadata": {},
   "source": [
    "K odstranění sloupců z `DataFrame` objektu můžeš použít několik metod:\n",
    "1. pythonovskou funkci `del`,\n",
    "2. metodu `drop`,\n",
    "3. metodu `pop`."
   ]
  },
  {
   "cell_type": "code",
   "execution_count": null,
   "id": "43c87a71-217c-4770-9411-56d13a91c8be",
   "metadata": {
    "tags": []
   },
   "outputs": [],
   "source": [
    "from pandas import DataFrame"
   ]
  },
  {
   "cell_type": "code",
   "execution_count": null,
   "id": "b8027fa4-8d5a-41f2-83ff-125bdde0a04d",
   "metadata": {
    "tags": []
   },
   "outputs": [],
   "source": [
    "df_uzivatele.head()"
   ]
  },
  {
   "cell_type": "code",
   "execution_count": null,
   "id": "cced5222-de73-48a9-b91a-a4e6e323bddb",
   "metadata": {
    "tags": []
   },
   "outputs": [],
   "source": [
    "df_uzivatele.columns"
   ]
  },
  {
   "cell_type": "code",
   "execution_count": null,
   "id": "bd19924b-8e02-4ff8-a46e-3258216037bc",
   "metadata": {
    "tags": []
   },
   "outputs": [],
   "source": [
    "df_uzivatele.index"
   ]
  },
  {
   "cell_type": "code",
   "execution_count": null,
   "id": "3c67fa3e-7791-4fc1-9aac-36d5a05444ca",
   "metadata": {
    "tags": []
   },
   "outputs": [],
   "source": [
    "df_uzivatele = df_uzivatele.drop('email', axis=1)"
   ]
  },
  {
   "cell_type": "code",
   "execution_count": null,
   "id": "084ec97c-d70c-4fbb-95db-8face9e2cd99",
   "metadata": {
    "tags": []
   },
   "outputs": [],
   "source": [
    "df_uzivatele.drop?"
   ]
  },
  {
   "cell_type": "code",
   "execution_count": null,
   "id": "4cdda18a-51d6-43a7-9b70-1d536a3f832b",
   "metadata": {
    "tags": []
   },
   "outputs": [],
   "source": [
    "df_uzivatele.head()"
   ]
  },
  {
   "cell_type": "markdown",
   "id": "80acd8f3-2130-4c2a-8778-0b8a9568bdce",
   "metadata": {},
   "source": [
    "<br>\n",
    "\n",
    "**🧠 CVIČENÍ 🧠, zpracuj zadané body v úloze.**"
   ]
  },
  {
   "cell_type": "markdown",
   "id": "f8dcf831-5fb0-4258-b6e9-86dfedc79f19",
   "metadata": {},
   "source": [
    "Máš DataFrame `zamestnanci` s informacemi o zaměstnancích tvé firmy.\n",
    "\n",
    "Potřebuješ následující:\n",
    "1. **přidat sloupec** s názvem `plat_na_hodinu`, který bude vypočítán jako průměr platu zaměstnanců dělený počtem odpracovaných hodin.\n",
    "2. Sloupec `plat_na_hodinu` zaokrouhli **na celé číslo**,\n",
    "3. **přejmenuj sloupec** `jmeno` na `cele_jmeno`,\n",
    "4. **vytvoř funkci** `preved_datum`, která změní formát data ve sloupci `datum_narozeni` z `YYYY-MM-DD` na `DD/MM/YYYY`,\n",
    "5. **odstraň sloupec** `id`."
   ]
  },
  {
   "cell_type": "code",
   "execution_count": null,
   "id": "2de7f42c-71a4-44b9-b82b-e65c9508d395",
   "metadata": {
    "tags": []
   },
   "outputs": [],
   "source": [
    "from datetime import datetime"
   ]
  },
  {
   "cell_type": "code",
   "execution_count": null,
   "id": "9a1ca32c-86a7-4649-8083-55e87dd14d7f",
   "metadata": {
    "tags": []
   },
   "outputs": [],
   "source": [
    "import pandas as pd"
   ]
  },
  {
   "cell_type": "code",
   "execution_count": null,
   "id": "c546ac73-6335-478e-b38c-34e63dfdcca6",
   "metadata": {},
   "outputs": [],
   "source": [
    "zamestnanci = pd.DataFrame({'id': [1, 2, 3, 4],\n",
    "                            'jmeno': ['Jan Novák', 'Petr Soukup', 'Marie Horáková', 'Jana Svobodová'],\n",
    "                            'datum_narozeni': ['1990-05-15', '1985-12-10', '1992-07-25', '1988-03-20'],\n",
    "                            'plat': [40_000, 45_000, 35_000, 50_000],\n",
    "                            'odprac_hodiny': [160, 180, 150, 200]}\n",
    "            )"
   ]
  },
  {
   "cell_type": "markdown",
   "id": "bc92497c-77ce-4131-93d9-fd7877aa096a",
   "metadata": {},
   "source": [
    "<details>\n",
    "    <summary>▶️ Řešení</summary>\n",
    "    \n",
    "    ```python\n",
    "    zamestnanci['plat_na_hodinu'] = round(zamestnanci['plat'] / zamestnanci['odprac_hodiny'])\n",
    "\n",
    "    zamestnanci = zamestnanci.rename(columns={'jmeno': 'cele_jmeno'})\n",
    "\n",
    "\n",
    "    def preved_datum(datum_narozeni, vstupni_format='%Y-%m-%d', vystupni_format='%d/%m/%Y'):\n",
    "        dt = datetime.strptime(datum_narozeni, vstupni_format)\n",
    "        prevedene_datum = dt.strftime(vystupni_format)\n",
    "        return prevedene_datum\n",
    "\n",
    "\n",
    "    # zamestnanci['datum_narozeni'] = pd.to_datetime(zamestnanci['datum_narozeni']).dt.strftime('%d/%m/%Y')  #  I. řešení\n",
    "    # zamestnanci['datum_narozeni'] = zamestnanci['datum_narozeni'].apply(preved_datum)                      # II. řešení\n",
    "\n",
    "    zamestnanci = zamestnanci.drop(columns=['id'])\n",
    "    ```\n",
    "</details>"
   ]
  },
  {
   "cell_type": "markdown",
   "id": "993152eb-8f02-4cb2-959c-589baeec7eb3",
   "metadata": {},
   "source": [
    "---"
   ]
  }
 ],
 "metadata": {
  "kernelspec": {
   "display_name": "Python 3 (ipykernel)",
   "language": "python",
   "name": "python3"
  },
  "language_info": {
   "codemirror_mode": {
    "name": "ipython",
    "version": 3
   },
   "file_extension": ".py",
   "mimetype": "text/x-python",
   "name": "python",
   "nbconvert_exporter": "python",
   "pygments_lexer": "ipython3",
   "version": "3.8.10"
  }
 },
 "nbformat": 4,
 "nbformat_minor": 5
}

{
 "cells": [
  {
   "cell_type": "markdown",
   "id": "detected-handle",
   "metadata": {},
   "source": [
    "# Python, Data, 2025\n",
    "\n",
    "---"
   ]
  },
  {
   "cell_type": "markdown",
   "id": "flush-writer",
   "metadata": {},
   "source": [
    "* [Úvod k pandám](#Úvod-k-pandám),\n",
    "* [základní objekty](#Základní-datové-typy-frameworku),\n",
    "    - [series](#Series),\n",
    "    - [dataframe](#DataFrame),\n",
    "    - [index](#Index).\n",
    "* [načítání objektů](#Načítání-objektů),\n",
    "    - [načti csv](#Načti-soubor-csv),\n",
    "    - [načti html](#Načti-tabulku-html),\n",
    "* [prohlížení dat](#Prozkoumávání-dat),\n",
    "    - [selekce u sloupečků](#Selekce-u-sloupečků),\n",
    "    - [selekce u tabulek](#Selekce-u-tabulárních-hodnot),\n",
    "    - [další metody prohlížení](#Metody-pro-nahlížení).\n",
    "\n",
    "---"
   ]
  },
  {
   "cell_type": "markdown",
   "id": "given-arcade",
   "metadata": {},
   "source": [
    "<img src=\"https://external-content.duckduckgo.com/iu/?u=https%3A%2F%2Ftse1.mm.bing.net%2Fth%3Fid%3DOIP.BaZU6gIdwRYQHu4rBBoO-gHaIX%26pid%3DApi&f=1&ipt=1013c975daabd695fcd4ebfc2c0e0b8ba4f10c37780419d8ff56538ec7a7f9ea&ipo=images\" width=\"200\" style=\"margin-left:auto; margin-right:auto\"/>\n",
    "\n",
    "## Úvod k pandám\n",
    "\n",
    "---\n",
    "\n"
   ]
  },
  {
   "cell_type": "markdown",
   "id": "stone-lithuania",
   "metadata": {},
   "source": [
    "Jde o knihovnu, která staví na jednoduchých, přesto výkonných a intuitivních nástrojích.\n",
    "\n",
    "Tyto prostředky umožňují manipulaci, analýzu a vizualizaci strukturovaných dat s tabulkovými a časovými daty.\n",
    "\n",
    "Vezme data z různých zdrojů, načte je, zpracuje a zapíše (pozn. **zdroj v C**).\n",
    "\n",
    "\n",
    "<br>"
   ]
  },
  {
   "cell_type": "code",
   "execution_count": null,
   "id": "4d5f1b88-1ceb-4ace-a45f-423a9c65eb5b",
   "metadata": {},
   "outputs": [],
   "source": [
    "import pandas"
   ]
  },
  {
   "cell_type": "markdown",
   "id": "sonic-rough",
   "metadata": {},
   "source": [
    "### Kde pandy najdu a jaké existují zdroje?\n",
    "\n",
    "---"
   ]
  },
  {
   "cell_type": "markdown",
   "id": "optional-trader",
   "metadata": {},
   "source": [
    "- Odkaz na **oficiální repozitář** [této knihovny](https://github.com/pandas-dev/pandas),\n",
    "- pokud budeš potřebovat více podrobností, mrkni na [oficiální dokumentaci](https://pandas.pydata.org/pandas-docs/stable/index.html),\n",
    "- pypi.org, instalace knihovny,\n",
    "- obecně vyhledávat online,\n",
    "- AI agent přístup.\n",
    "\n",
    "<br>"
   ]
  },
  {
   "cell_type": "markdown",
   "id": "heard-macedonia",
   "metadata": {},
   "source": [
    "### Proč se ti bude hodit?\n",
    "\n",
    "---"
   ]
  },
  {
   "cell_type": "markdown",
   "id": "graduate-lottery",
   "metadata": {},
   "source": [
    "**Pandas** usnadňuje efektivní analýzu, úpravu a zpracování dat.\n",
    "To vše díky intuitivnímu rozhraní a výkonným nástrojům pro práci s tabulkovými daty.\n",
    "\n",
    "Data jsou nejčastěji v SQL databázi, různých souborech, tabulkových procesech atd.\n",
    "\n",
    "*Pandas* si představ jako Excel, ale s více funkcemi a hlavně možností automatizovat procesy.\n",
    "\n",
    "<br>"
   ]
  },
  {
   "cell_type": "markdown",
   "id": "characteristic-cloud",
   "metadata": {},
   "source": [
    "### Jak nainstalovat knihovnu?\n",
    "\n",
    "---"
   ]
  },
  {
   "cell_type": "markdown",
   "id": "f77099e0-fbb1-49dd-9597-c08ce1898f6b",
   "metadata": {},
   "source": [
    "Instalace **poslední dostupné verze**:\n",
    "```bash\n",
    "pip install pandas  # nebo jiný package manager\n",
    "```"
   ]
  },
  {
   "cell_type": "markdown",
   "id": "f766473d-3b3e-4ddb-9d4b-69327f07bced",
   "metadata": {},
   "source": [
    "<br>\n",
    "\n",
    "Instalace **konkrétní vybrané verze**:\n",
    "\n",
    "```bash\n",
    "pip install pandas==1.1.1\n",
    "```"
   ]
  },
  {
   "cell_type": "markdown",
   "id": "distinguished-carter",
   "metadata": {},
   "source": [
    "<br>\n",
    "\n",
    "### Jak knihovnu spustit?\n",
    "\n",
    "---"
   ]
  },
  {
   "cell_type": "code",
   "execution_count": null,
   "id": "coral-looking",
   "metadata": {
    "tags": []
   },
   "outputs": [],
   "source": [
    "import pandas"
   ]
  },
  {
   "cell_type": "code",
   "execution_count": null,
   "id": "c9ed36bc-17e9-4a23-9135-d681ac5495fd",
   "metadata": {
    "tags": []
   },
   "outputs": [],
   "source": [
    "pandas.__version__  # FutureWarning"
   ]
  },
  {
   "cell_type": "markdown",
   "id": "6c0d2f48-8711-4efa-a24a-f52cb845131e",
   "metadata": {},
   "source": [
    "<br>\n",
    "\n",
    "Použití **aliasu**:"
   ]
  },
  {
   "cell_type": "code",
   "execution_count": null,
   "id": "6bf234b7-5fd5-4dd8-9b4b-7bff34f34375",
   "metadata": {},
   "outputs": [],
   "source": [
    "import pandas"
   ]
  },
  {
   "cell_type": "code",
   "execution_count": null,
   "id": "51163138-a505-4682-bdf9-5fa61c7040cc",
   "metadata": {},
   "outputs": [],
   "source": [
    "import pandas as pd"
   ]
  },
  {
   "cell_type": "code",
   "execution_count": null,
   "id": "sitting-choice",
   "metadata": {},
   "outputs": [],
   "source": [
    "from pandas import DataFrame"
   ]
  },
  {
   "cell_type": "markdown",
   "id": "50ab7406-603c-4765-a096-df4b06d09e8d",
   "metadata": {},
   "source": [
    "<br>\n",
    "\n",
    "### Souhrn kapitoly\n",
    "---"
   ]
  },
  {
   "cell_type": "markdown",
   "id": "b5c98d8c-7c22-4797-bb9a-c0bc3ae5ebee",
   "metadata": {},
   "source": [
    "- knihovna je tedy *švýcarský nožík* pro práci **s tabelárními daty** a **časovými řadami**,\n",
    "- jde o větší balíček, třetích stran (potřeba stáhnout & instalovat),\n",
    "- existují i další alternativy pro specifické potřeby *grizzly*, *pyspark*."
   ]
  },
  {
   "cell_type": "markdown",
   "id": "e36bda6b-ff1e-4670-ab73-0fd4f91868e7",
   "metadata": {},
   "source": [
    "<img src=\"https://external-content.duckduckgo.com/iu/?u=https%3A%2F%2Ftse1.mm.bing.net%2Fth%3Fid%3DOIP.b2NCTuZRiG8yrmTCF7MogAHaHa%26pid%3DApi&f=1&ipt=f9e6a3811b3a707743134cfb19b2ee4f9c44584f5ea328582b227f14b94fcb1f&ipo=images\" width=\"200\" style=\"margin-left:auto; margin-right:auto\"/>"
   ]
  },
  {
   "cell_type": "markdown",
   "id": "d9ca33b0-9624-4ecf-acd1-1ac5510d7fbf",
   "metadata": {},
   "source": [
    "## Základní datové typy\n",
    "\n",
    "---"
   ]
  },
  {
   "cell_type": "markdown",
   "id": "surface-glass",
   "metadata": {},
   "source": [
    "Knihovna nabízí řadu užitečných nástrojů.\n",
    "\n",
    "Jde o *metody* a *funkce* nad rámec základních (zabudovaných) **datových struktur**.\n",
    "\n",
    "Hlavní **tři struktury**, na kterých knihovna stojí jsou:\n",
    "* `Index`\n",
    "* `series`,\n",
    "* `dataFrames`."
   ]
  },
  {
   "cell_type": "markdown",
   "id": "bda49559-15bb-4850-8e94-04c3feb65a8d",
   "metadata": {
    "tags": []
   },
   "source": [
    "<img src=\"https://i.imgur.com/NNRgONl.png\" width=\"1200\" style=\"margin-left:auto; margin-right:auto\"/>"
   ]
  },
  {
   "cell_type": "markdown",
   "id": "fa0c3f39-befd-4e5a-889a-b7424333d7dc",
   "metadata": {},
   "source": [
    "- **Indexes**, je označení (nebo **identifikátor**) jednotlivých řádků, které slouží k jejich jednoznačné identifikaci a usnadňuje přístup k datům,\n",
    "- **series**, je *sloupec*, **pole** hodnot s Indexem, tedy sloupeček tabulky nebo číslovaný seznam,\n",
    "- **dataframes**, jde v podstatě o označení celé tabulky."
   ]
  },
  {
   "cell_type": "markdown",
   "id": "de83dee6-e5be-4926-a083-481297153ff7",
   "metadata": {},
   "source": [
    "### Sloupečky ~ series\n",
    "\n",
    "---"
   ]
  },
  {
   "cell_type": "markdown",
   "id": "forward-brooks",
   "metadata": {},
   "source": [
    "<img src=\"https://external-content.duckduckgo.com/iu/?u=https%3A%2F%2Ftse3.mm.bing.net%2Fth%3Fid%3DOIP.Yp6ZBv9C33_pDfZkJcKbJQHaHa%26pid%3DApi&f=1&ipt=546833b7ce370c5a62bea21079371efd1fa9547765d4eae8e6c9e41f6b25a3af&ipo=images\" width=\"200\" style=\"margin-left:auto; margin-right:auto\"/>"
   ]
  },
  {
   "cell_type": "markdown",
   "id": "b04a1d7e-cbcc-4528-be04-f816128ef888",
   "metadata": {},
   "source": [
    "Jde **o jednodimenzionální pole** (popř. sloupeček, řada).\n",
    "\n",
    "Tento objekt má **indexované data** (jsi schopen data vybrat, uchopit).\n",
    "\n",
    "Opět si jej můžeš představit jako sloupeček v obyčejných *Excelovských* tabulkách.\n",
    "\n",
    "<br>"
   ]
  },
  {
   "cell_type": "markdown",
   "id": "chicken-serum",
   "metadata": {},
   "source": [
    "Na ukázku můžeš tyto sloupečky vytvořit třeba ze sekvencí:"
   ]
  },
  {
   "cell_type": "code",
   "execution_count": null,
   "id": "controlling-perfume",
   "metadata": {
    "tags": []
   },
   "outputs": [],
   "source": [
    "from pandas import Series"
   ]
  },
  {
   "cell_type": "markdown",
   "id": "af3b8d4e-4481-40e8-9d74-05b912c88a43",
   "metadata": {},
   "source": [
    "<br>\n",
    "\n",
    "Opatrně na velikosti písmen pro jednotlivé objekty:"
   ]
  },
  {
   "cell_type": "code",
   "execution_count": null,
   "id": "38a4c6a2-84f5-477b-a393-f964ab70ef57",
   "metadata": {
    "tags": []
   },
   "outputs": [],
   "source": [
    "# from pandas import series"
   ]
  },
  {
   "cell_type": "code",
   "execution_count": null,
   "id": "082246bf-491c-4090-98a6-07b0f1315fcf",
   "metadata": {},
   "outputs": [],
   "source": [
    "mesta = (\"Praha\", \"Brno\", \"Ostrava\", \"Hradek Králové\")"
   ]
  },
  {
   "cell_type": "code",
   "execution_count": null,
   "id": "alpha-neutral",
   "metadata": {
    "tags": []
   },
   "outputs": [],
   "source": [
    "mesta_sloupecek = Series(mesta)"
   ]
  },
  {
   "cell_type": "code",
   "execution_count": null,
   "id": "moved-stephen",
   "metadata": {
    "tags": []
   },
   "outputs": [],
   "source": [
    "type(mesta_sloupecek)"
   ]
  },
  {
   "cell_type": "code",
   "execution_count": null,
   "id": "10cde62e-cebc-4fc5-9b80-374a48445a2b",
   "metadata": {},
   "outputs": [],
   "source": [
    "mesta           # tuple"
   ]
  },
  {
   "cell_type": "code",
   "execution_count": null,
   "id": "auburn-magic",
   "metadata": {
    "tags": []
   },
   "outputs": [],
   "source": [
    "mesta_sloupecek # Series"
   ]
  },
  {
   "cell_type": "markdown",
   "id": "guided-context",
   "metadata": {},
   "source": [
    "<br>\n",
    "\n",
    "Jak můžeš vidět v ukázce výše, *sloupec* `Series` obsahuje **jak pořadí, tak hodnoty**."
   ]
  },
  {
   "cell_type": "code",
   "execution_count": null,
   "id": "subsequent-isolation",
   "metadata": {
    "tags": []
   },
   "outputs": [],
   "source": [
    "mesta_sloupecek.index"
   ]
  },
  {
   "cell_type": "code",
   "execution_count": null,
   "id": "abroad-soundtrack",
   "metadata": {
    "tags": []
   },
   "outputs": [],
   "source": [
    "mesta_sloupecek.values"
   ]
  },
  {
   "cell_type": "markdown",
   "id": "presidential-radius",
   "metadata": {},
   "source": [
    "<br>\n",
    "\n",
    "Obecně vypadá jako nějaké pole, který má svůj nativní datový typ `object`.  Obvykle se označují texty nebo smíšené datové typy."
   ]
  },
  {
   "cell_type": "markdown",
   "id": "careful-courage",
   "metadata": {},
   "source": [
    "<br>\n",
    "\n",
    "Ačkoliv je `pandas` knihovna Pythonu, datové typy nemusí vždy odpovídat základním **datovým typům Pythonu**:"
   ]
  },
  {
   "cell_type": "markdown",
   "id": "gentle-netherlands",
   "metadata": {},
   "source": [
    "| Typy `pandas`| typy `Python`| Použití |\n",
    "| :-: | :-: | :- |\n",
    "| `object` | `str` nebo směska| text nebo namíchané číselné a nečíselné hodnoty |\n",
    "| `int64` | `int`| celá čísla |\n",
    "| `float64` | `float` | desetinná čísla |\n",
    "| `bool` | `bool` | True a False |\n",
    "| `datetime64` | `-`| Hodnota data a času |\n",
    "| `timedelta` | `-` | Časové rozdíly |"
   ]
  },
  {
   "cell_type": "markdown",
   "id": "f1b803c6-85ee-4b07-a07c-b02bfb39215e",
   "metadata": {},
   "source": [
    "<br>\n",
    "\n",
    "Stejně jako pole nebo sekvence můžeš *indexovat* a *slicovat* hodnoty typu `Series`."
   ]
  },
  {
   "cell_type": "code",
   "execution_count": null,
   "id": "6bfb3ec5-e5c3-4789-b757-62acb5e40588",
   "metadata": {
    "tags": []
   },
   "outputs": [],
   "source": [
    "mesta_sloupecek"
   ]
  },
  {
   "cell_type": "markdown",
   "id": "a3708448-e52d-446a-a2a1-35fdd925fc3d",
   "metadata": {},
   "source": [
    "<br>\n",
    "\n",
    "#### Indexování sloupečku\n",
    "\n",
    "---"
   ]
  },
  {
   "cell_type": "code",
   "execution_count": null,
   "id": "billion-weapon",
   "metadata": {
    "tags": []
   },
   "outputs": [],
   "source": [
    "mesta_sloupecek[1]    # s Indexem sloupečku"
   ]
  },
  {
   "cell_type": "markdown",
   "id": "absolute-premium",
   "metadata": {},
   "source": [
    "<br>\n",
    "\n",
    "#### Slicing sloupečku\n",
    "\n",
    "---"
   ]
  },
  {
   "cell_type": "code",
   "execution_count": null,
   "id": "abstract-ideal",
   "metadata": {
    "tags": []
   },
   "outputs": [],
   "source": [
    "mesta_sloupecek[0:3]  # 0, 1, 2."
   ]
  },
  {
   "cell_type": "markdown",
   "id": "supreme-monkey",
   "metadata": {},
   "source": [
    "Na první pohled není tolik odlišný od datového typu `list` nebo `tuple` (případně pole v `numpy`)."
   ]
  },
  {
   "cell_type": "markdown",
   "id": "functional-grocery",
   "metadata": {},
   "source": [
    "Největší rozdíl spočítá právě v **indexu/Indexu**.\n",
    "\n",
    "Ať `list`, `tuple` nebo `numpy.array` implicitně pracují **s celočíselným indexem**.\n",
    "\n",
    "<br>\n",
    "\n",
    "Objekt `Series` na druhou stranu nabízí možnost, zadávat vlastní indexové hodnoty:"
   ]
  },
  {
   "cell_type": "code",
   "execution_count": null,
   "id": "latin-norman",
   "metadata": {
    "tags": []
   },
   "outputs": [],
   "source": [
    "mesta_sloupecek = Series([\"Praha\", \"Brno\", \"Ostrava\", \"Hradek Králové\"],\n",
    "                         index=[\"1_mesto\", \"2_mesto\", \"3_mesto\", \"4_mesto\"])\n",
    "                         # Tvoje specifické indexy"
   ]
  },
  {
   "cell_type": "code",
   "execution_count": null,
   "id": "scheduled-begin",
   "metadata": {},
   "outputs": [],
   "source": [
    "mesta_sloupecek.index"
   ]
  },
  {
   "cell_type": "code",
   "execution_count": null,
   "id": "lesser-player",
   "metadata": {
    "tags": []
   },
   "outputs": [],
   "source": [
    "mesta_sloupecek"
   ]
  },
  {
   "cell_type": "code",
   "execution_count": null,
   "id": "theoretical-digit",
   "metadata": {
    "tags": []
   },
   "outputs": [],
   "source": [
    "mesta_sloupecek[\"2_mesto\"]"
   ]
  },
  {
   "cell_type": "markdown",
   "id": "broke-lecture",
   "metadata": {},
   "source": [
    "Tímto způsobem si můžeš představit řadu, sloupec (`Series`) jako variantu datového typu `dict`, v Pythonu."
   ]
  },
  {
   "cell_type": "markdown",
   "id": "economic-review",
   "metadata": {},
   "source": [
    "Víš, že ve slovníku Pythonu jsou hodnoty *mapované* na jednotlivé klíče.\n",
    "\n",
    "<br>\n",
    "\n",
    "#### Pokročilé, type-specific\n",
    "---\n",
    "V případě `Series` jde o mapování **typovaných hodnot** na **typované klíče**. Právě pojem **typovaný** (~*type-specific*) je zásadní.\n",
    "\n",
    "Právě *typovaný* zkompilovaný kód od `Series` nabízí některé efektivnější metody a funkce, které obyč. `dict` v Pythonu ne."
   ]
  },
  {
   "cell_type": "code",
   "execution_count": null,
   "id": "diagnostic-geometry",
   "metadata": {
    "tags": []
   },
   "outputs": [],
   "source": [
    "populace_evropa = {'Dansko': 5_655_750,\n",
    "                   'Ceska_republika': 10_513_209,\n",
    "                   'Nemecko': 80_716_000,\n",
    "                   'Polsko': 38_483_957,\n",
    "                   'Slovensko': 5_415_949,\n",
    "                   'Rakousko': 8_932_664}"
   ]
  },
  {
   "cell_type": "code",
   "execution_count": null,
   "id": "exempt-alexandria",
   "metadata": {
    "tags": []
   },
   "outputs": [],
   "source": [
    "populace_evropa_sl = Series(populace_evropa)"
   ]
  },
  {
   "cell_type": "code",
   "execution_count": null,
   "id": "0a24f1b7-9d60-4c85-8008-1d81fb3d28de",
   "metadata": {
    "tags": []
   },
   "outputs": [],
   "source": [
    "populace_evropa_sl"
   ]
  },
  {
   "cell_type": "markdown",
   "id": "electronic-trunk",
   "metadata": {},
   "source": [
    "<br>\n",
    "\n",
    "Defaultně ti objekt `Series` nachystá index ze seřazených klíčů původního datového typu `dict`.\n",
    "\n",
    "Můžeš provést klasické mapování hodnoty na jméno klíče:"
   ]
  },
  {
   "cell_type": "code",
   "execution_count": null,
   "id": "clean-psychology",
   "metadata": {
    "tags": []
   },
   "outputs": [],
   "source": [
    "populace_evropa_sl[\"Ceska_republika\"]"
   ]
  },
  {
   "cell_type": "markdown",
   "id": "cloudy-pasta",
   "metadata": {},
   "source": [
    "K tomu, ale `Series` nabízí operace jako např. *slicing* pro pole:"
   ]
  },
  {
   "cell_type": "code",
   "execution_count": null,
   "id": "8825eec7-61d8-460b-88a4-762606683340",
   "metadata": {},
   "outputs": [],
   "source": [
    "mesta  # zadávání omezené na indexy celými čísly"
   ]
  },
  {
   "cell_type": "code",
   "execution_count": null,
   "id": "swiss-calvin",
   "metadata": {
    "tags": []
   },
   "outputs": [],
   "source": [
    "populace_evropa_sl[\"Ceska_republika\": \"Polsko\"]"
   ]
  },
  {
   "cell_type": "markdown",
   "id": "f6db18e1-206a-41d8-8499-30443d2021f0",
   "metadata": {},
   "source": [
    "<br>\n",
    "\n",
    "#### 🧠 CVIČENÍ 🧠, přepočítej hodnoty ve sloupečku"
   ]
  },
  {
   "cell_type": "code",
   "execution_count": null,
   "id": "81b14ebb-e8b8-429d-a8e8-2e02c9eead3a",
   "metadata": {},
   "outputs": [],
   "source": [
    "from pandas import Series\n",
    "\n",
    "# Data v milionech, převeď na jednotky\n",
    "# 8_400_000.0, .., ponechej desetinná čísla\n",
    "# .. pro pokročilé převeď na celá čísla\n",
    "data = {\"New York\": 8.4,        \n",
    "        \"London\": 9.0,\n",
    "        \"Tokyo\": 13.9,\n",
    "        \"Sydney\": 5.3}"
   ]
  },
  {
   "cell_type": "code",
   "execution_count": null,
   "id": "4e5e329d-4735-46a7-8172-f99eb5cfa247",
   "metadata": {},
   "outputs": [],
   "source": [
    "# Zapiš řešení\n",
    "data_sloupecek = Series(data)"
   ]
  },
  {
   "cell_type": "code",
   "execution_count": null,
   "id": "02ea3e4a-582c-4b80-b3bd-2a9663f4290c",
   "metadata": {},
   "outputs": [],
   "source": [
    "data_sloupecek"
   ]
  },
  {
   "cell_type": "code",
   "execution_count": null,
   "id": "811ca62b-f770-441b-b0ce-ec0b67b563b2",
   "metadata": {},
   "outputs": [],
   "source": [
    "def preved_na_jednotky(cely_sloupec):\n",
    "    prepocitany_sl = cely_sloupec * 1_000_000\n",
    "    return prepocitany_sl.astype('int64')  # Pro pokročilé"
   ]
  },
  {
   "cell_type": "markdown",
   "id": "4ff1da03-e9b7-4b0c-9905-ed2d7f882e6f",
   "metadata": {},
   "source": [
    "<br>\n",
    "\n",
    "Formátování celého čísla pomocí řádového oddělovače:"
   ]
  },
  {
   "cell_type": "code",
   "execution_count": null,
   "id": "7cd6552b-6803-4a00-ad59-b34085b3d82c",
   "metadata": {},
   "outputs": [],
   "source": [
    "print(f\"{1000000:,}\".replace(',', ' '))   # TODO: Doplnit oddělovač"
   ]
  },
  {
   "cell_type": "code",
   "execution_count": null,
   "id": "d6ea154c-ca36-4747-8a9d-fe8a250bba75",
   "metadata": {},
   "outputs": [],
   "source": [
    "preved_na_jednotky(data_sloupecek)"
   ]
  },
  {
   "cell_type": "markdown",
   "id": "c4e25329-fb91-49ad-9539-2907e783fb17",
   "metadata": {},
   "source": [
    "<details>\n",
    "    <summary>▶️ Řešení</summary>\n",
    "    \n",
    "```python\n",
    "import pandas as pd\n",
    "\n",
    "data = {\n",
    "    \"New York\": 8.4,\n",
    "    \"London\": 9.0,\n",
    "    \"Tokyo\": 13.9,\n",
    "    \"Sydney\": 5.3,\n",
    "}\n",
    "\n",
    "\n",
    "mesta_sl = pd.Series(data)\n",
    "\n",
    "\n",
    "def preved_na_jednotky(series):\n",
    "    return series * 1_000_000  # astype(int) -> celé číslo\n",
    "\n",
    "\n",
    "prevedene = preved_na_jednotky(mesta_sl)\n",
    "```\n",
    "</details>"
   ]
  },
  {
   "cell_type": "markdown",
   "id": "39344faa-b5ec-4bb1-9f2e-1da2d6d5e80f",
   "metadata": {},
   "source": [
    "<img src=\"https://external-content.duckduckgo.com/iu/?u=https%3A%2F%2Ftse1.mm.bing.net%2Fth%3Fid%3DOIP._inpASbq98lGCmZFxPEq7wHaHa%26pid%3DApi&f=1&ipt=ecf1243da46e7ae6341330ae58bda2a6456c95f63a0cd79eda7d561cf3334a57&ipo=images\" width=\"200\" style=\"margin-left:auto; margin-right:auto\"/>"
   ]
  },
  {
   "cell_type": "markdown",
   "id": "sealed-moment",
   "metadata": {},
   "source": [
    "<br>\n",
    "\n",
    "### DataFrame\n",
    "\n",
    "---\n",
    "\n",
    "\n",
    "Dalším elementárním datovým typem této knihovny je `DataFrame`.\n",
    "\n",
    "Analogicky si jej můžeš představit **jako tabulku** v Excelu.\n",
    "\n",
    "Tedy objekt složený **z řádků** (Indexů) a **sloupců** (`Series`)."
   ]
  },
  {
   "cell_type": "code",
   "execution_count": null,
   "id": "sweet-pearl",
   "metadata": {
    "tags": []
   },
   "outputs": [],
   "source": [
    "populace_evropa = {\n",
    "    'Dansko': 5_655_750,\n",
    "    'Ceska_republika': 10_513_209,\n",
    "    'Nemecko': 80_716_000,\n",
    "    'Polsko': 38_483_957,\n",
    "    'Slovensko': 5_415_949,\n",
    "    'Rakousko': 8_932_664\n",
    "}"
   ]
  },
  {
   "cell_type": "code",
   "execution_count": null,
   "id": "imported-directory",
   "metadata": {
    "tags": []
   },
   "outputs": [],
   "source": [
    "rozloha_evropa = {\n",
    "    'Dansko': 42_916,\n",
    "    'Ceska_republika': 78_870,\n",
    "    'Nemecko': 357_168,\n",
    "    'Polsko': 312_679,\n",
    "    'Slovensko': 49_035,\n",
    "    'Rakousko': 83_878\n",
    "}"
   ]
  },
  {
   "cell_type": "markdown",
   "id": "6730c4bb-dce7-4850-9f18-08951e214f35",
   "metadata": {},
   "source": [
    "<br>\n",
    "\n",
    "Nezapomeň nahrát potřebný objekt:"
   ]
  },
  {
   "cell_type": "code",
   "execution_count": null,
   "id": "related-counter",
   "metadata": {
    "tags": []
   },
   "outputs": [],
   "source": [
    "from pandas import DataFrame"
   ]
  },
  {
   "cell_type": "code",
   "execution_count": null,
   "id": "regulation-thread",
   "metadata": {
    "tags": []
   },
   "outputs": [],
   "source": [
    "zeme_evropa_df = DataFrame({\"Populace\": populace_evropa,\n",
    "                            \"Rozloha\": rozloha_evropa})"
   ]
  },
  {
   "cell_type": "code",
   "execution_count": null,
   "id": "seeing-flavor",
   "metadata": {
    "tags": []
   },
   "outputs": [],
   "source": [
    "print(zeme_evropa_df)"
   ]
  },
  {
   "cell_type": "code",
   "execution_count": null,
   "id": "d4be2b5f-039b-443d-b0e1-d6b9893be7e7",
   "metadata": {
    "tags": []
   },
   "outputs": [],
   "source": [
    "zeme_evropa_df"
   ]
  },
  {
   "cell_type": "code",
   "execution_count": null,
   "id": "b9e66091-4628-44c4-bebd-e81b3cd7ab4a",
   "metadata": {
    "tags": []
   },
   "outputs": [],
   "source": [
    "type(zeme_evropa_df)"
   ]
  },
  {
   "cell_type": "markdown",
   "id": "reduced-prediction",
   "metadata": {},
   "source": [
    "<br>\n",
    "\n",
    "Stejně jako u `Series` má i `DataFrame` svoje *indexy*:"
   ]
  },
  {
   "cell_type": "code",
   "execution_count": null,
   "id": "aware-feedback",
   "metadata": {
    "tags": []
   },
   "outputs": [],
   "source": [
    "zeme_evropa_df.index"
   ]
  },
  {
   "cell_type": "markdown",
   "id": "outer-fundamentals",
   "metadata": {},
   "source": [
    "<br>\n",
    "\n",
    "Navíc můžeš pracovat s atributem `columns`, který drží jména **jednotlivých sloupečků**:"
   ]
  },
  {
   "cell_type": "code",
   "execution_count": null,
   "id": "hispanic-mortgage",
   "metadata": {
    "tags": []
   },
   "outputs": [],
   "source": [
    "zeme_evropa_df.columns"
   ]
  },
  {
   "cell_type": "code",
   "execution_count": null,
   "id": "c44f32bd-f3b2-42e9-b1ad-be06e69f233b",
   "metadata": {
    "tags": []
   },
   "outputs": [],
   "source": [
    "zeme_evropa_df.values"
   ]
  },
  {
   "cell_type": "markdown",
   "id": "moving-andrew",
   "metadata": {},
   "source": [
    "Proto si můžeš objekt `DataFrame` představit také jako Pythonovský `dict`.\n",
    "\n",
    "<br>\n",
    "\n",
    "Ovšem s tím rozdílem, že tentokrát mapuješ jméno sloupečku na `Series`:"
   ]
  },
  {
   "cell_type": "code",
   "execution_count": null,
   "id": "single-mumbai",
   "metadata": {
    "tags": []
   },
   "outputs": [],
   "source": [
    "zeme_evropa_df[\"Populace\"]"
   ]
  },
  {
   "cell_type": "code",
   "execution_count": null,
   "id": "respiratory-formation",
   "metadata": {
    "tags": []
   },
   "outputs": [],
   "source": [
    "populace_sl = zeme_evropa_df[\"Populace\"]"
   ]
  },
  {
   "cell_type": "code",
   "execution_count": null,
   "id": "acquired-steps",
   "metadata": {
    "tags": []
   },
   "outputs": [],
   "source": [
    "type(populace_sl)"
   ]
  },
  {
   "cell_type": "markdown",
   "id": "unlike-administration",
   "metadata": {},
   "source": [
    "Opatrně při vytváření nového `DataFrame`, u chybějících klíčů implictině zapisuje `Nan` hodnotu (~*not a number*):"
   ]
  },
  {
   "cell_type": "code",
   "execution_count": null,
   "id": "fe18b851-ad04-4ca7-93c9-8bd791a3ddc0",
   "metadata": {},
   "outputs": [],
   "source": [
    "import numpy\n",
    "from pandas import DataFrame"
   ]
  },
  {
   "cell_type": "code",
   "execution_count": null,
   "id": "wired-protection",
   "metadata": {
    "tags": []
   },
   "outputs": [],
   "source": [
    "chybejici_hodnoty_df = DataFrame([{\"A\": 1, \"B\": 4},\n",
    "                                  {\"C\": 6, \"B\": 7}])  # dtype"
   ]
  },
  {
   "cell_type": "code",
   "execution_count": null,
   "id": "c335bac0-07ef-4280-bdb9-74b10ba4658c",
   "metadata": {},
   "outputs": [],
   "source": [
    "print(None)"
   ]
  },
  {
   "cell_type": "markdown",
   "id": "activated-surface",
   "metadata": {},
   "source": [
    "Navíc si můžeš všimnout rozdílné definice **datového typu**:"
   ]
  },
  {
   "cell_type": "code",
   "execution_count": null,
   "id": "cutting-interaction",
   "metadata": {
    "tags": []
   },
   "outputs": [],
   "source": [
    "chybejici_hodnoty_df.dtypes"
   ]
  },
  {
   "cell_type": "code",
   "execution_count": null,
   "id": "korean-blair",
   "metadata": {
    "tags": []
   },
   "outputs": [],
   "source": [
    "chybejici_hodnoty_df[\"A\"]"
   ]
  },
  {
   "cell_type": "code",
   "execution_count": null,
   "id": "better-renaissance",
   "metadata": {
    "tags": []
   },
   "outputs": [],
   "source": [
    "konvertovany_sl_a = chybejici_hodnoty_df[\"A\"].convert_dtypes()"
   ]
  },
  {
   "cell_type": "code",
   "execution_count": null,
   "id": "advised-organic",
   "metadata": {
    "tags": []
   },
   "outputs": [],
   "source": [
    "konvertovany_sl_a"
   ]
  },
  {
   "cell_type": "markdown",
   "id": "global-newcastle",
   "metadata": {},
   "source": [
    "Více si o přetypování obecně a dozvíš později."
   ]
  },
  {
   "cell_type": "markdown",
   "id": "744f661a-2bcc-4109-90cd-3591e68ca29f",
   "metadata": {},
   "source": [
    "#### 🧠 CVIČENÍ 🧠, přidej nový sloupeček"
   ]
  },
  {
   "cell_type": "code",
   "execution_count": null,
   "id": "3e5f53e1-4548-40f2-975c-39d1a999f06f",
   "metadata": {},
   "outputs": [],
   "source": [
    "from pandas import DataFrame\n",
    "\n",
    "# Přidej do tabulky nový sloupec \"Hustota zalidnění\"\n",
    "data = {\n",
    "    \"Město\": [\"New York\", \"London\", \"Tokyo\", \"Sydney\"],\n",
    "    \"Populace (v mio)\": [8.4, 9.0, 13.9, 5.3],\n",
    "    \"Plocha (km²)\": [783, 1572, 2194, 1687]\n",
    "}"
   ]
  },
  {
   "cell_type": "code",
   "execution_count": null,
   "id": "5a87764e-6c91-4529-bb16-bfded4bfa865",
   "metadata": {},
   "outputs": [],
   "source": [
    "data_df = DataFrame(data, index=data['Město'])"
   ]
  },
  {
   "cell_type": "code",
   "execution_count": null,
   "id": "6ece17b7-a310-4166-aa61-5364013f6d84",
   "metadata": {},
   "outputs": [],
   "source": [
    "data_df"
   ]
  },
  {
   "cell_type": "code",
   "execution_count": null,
   "id": "d9bce17f-4ae4-432e-afda-f74f6c391984",
   "metadata": {},
   "outputs": [],
   "source": [
    "data_df['Populace (v mio)']"
   ]
  },
  {
   "cell_type": "code",
   "execution_count": null,
   "id": "e4b64ff4-4de6-4970-a4c9-ea6a51f016a9",
   "metadata": {},
   "outputs": [],
   "source": [
    "data_df['Nový sloupec'] = 'abc'  # odráží zápis hodnot a klíčů do dict"
   ]
  },
  {
   "cell_type": "code",
   "execution_count": null,
   "id": "1cd0b8a2-a0d0-4e95-b1f8-e822549541ce",
   "metadata": {},
   "outputs": [],
   "source": [
    "data_df"
   ]
  },
  {
   "cell_type": "code",
   "execution_count": null,
   "id": "4c443d13-23d4-4a4c-ba91-1d7819dae367",
   "metadata": {},
   "outputs": [],
   "source": [
    "def vypocitej_hustotu_osidleni(tabulka):  # DataFrame\n",
    "    df[\"Hustota zalidnění (na km²)\"] = (df[\"Populace (v mio)\"] * 1_000_000 / df[\"Plocha (km²)\"]).round().astype(int)\n",
    "    return df"
   ]
  },
  {
   "cell_type": "markdown",
   "id": "40fcf84f-af6e-4521-816e-8dee4b56cd23",
   "metadata": {},
   "source": [
    "<details>\n",
    "    <summary>▶️ Řešení</summary>\n",
    "    \n",
    "```python\n",
    "import pandas as pd\n",
    "\n",
    "data = {\n",
    "    \"Město\": [\"New York\", \"London\", \"Tokyo\", \"Sydney\"],\n",
    "    \"Populace (v mio)\": [8.4, 9.0, 13.9, 5.3],\n",
    "    \"Plocha (km²)\": [783, 1572, 2194, 1687],\n",
    "}\n",
    "\n",
    "mesta_df = pd.DataFrame(data)\n",
    "\n",
    "def vypocitej_hustotu_zalidneni(df):\n",
    "    \"\"\"\n",
    "    Přidejte nový sloupec 'Hustota zalidnění' (počet obyvatel na km²).\n",
    "    \"\"\"\n",
    "    df[\"Hustota zalidnění (na km²)\"] = (df[\"Populace (v mio)\"] * 1_000_000 / df[\"Plocha (km²)\"]).round().astype(int)\n",
    "    return df\n",
    "\n",
    "df = vypocitej_hustotu_zalidneni(mesta_df)\n",
    "print(df)\n",
    "```\n",
    "</details>"
   ]
  },
  {
   "cell_type": "markdown",
   "id": "a66def85-a3e8-44a5-b13a-d88c570bbb2d",
   "metadata": {},
   "source": [
    "<img src=\"https://imgs.search.brave.com/EQep67dP5UaJDlqkF2HvOQTESVA_LQSZx_SR7FE6JYM/rs:fit:500:0:0:0/g:ce/aHR0cHM6Ly9kMW5o/aW8wb3g3cGdiLmNs/b3VkZnJvbnQubmV0/L19pbWcvb19jb2xs/ZWN0aW9uX3BuZy9n/cmVlbl9kYXJrX2dy/ZXkvNTEyeDUxMi9w/bGFpbi90YWJsZV9z/ZWxlY3Rpb25fcm93/LnBuZw\" width=\"200\" style=\"margin-left:auto; margin-right:auto\"/>"
   ]
  },
  {
   "cell_type": "markdown",
   "id": "9f80b898-8c4a-471c-972d-fcda01e83c37",
   "metadata": {},
   "source": [
    "### Index\n",
    "\n",
    "---\n"
   ]
  },
  {
   "cell_type": "markdown",
   "id": "808f0ab2-7b1a-459c-ae3f-bc59e58e3df8",
   "metadata": {},
   "source": [
    "Posledním ze základních objektů frameworku `pandas` je tedy **Index** (velké \"i\").\n",
    "\n",
    "Jak `Series`, tak `DataFrame` v sobě *Index* obsahují.\n",
    "\n",
    "Pro jednoduchost, si jej můžeš představit jako označení jednotlivých řádků v tabulce."
   ]
  },
  {
   "cell_type": "code",
   "execution_count": null,
   "id": "deluxe-dragon",
   "metadata": {
    "tags": []
   },
   "outputs": [],
   "source": [
    "from pandas import Index"
   ]
  },
  {
   "cell_type": "code",
   "execution_count": null,
   "id": "productive-kuwait",
   "metadata": {
    "tags": []
   },
   "outputs": [],
   "source": [
    "indexy = Index([2, 3, 4, 5])"
   ]
  },
  {
   "cell_type": "code",
   "execution_count": null,
   "id": "southwest-extent",
   "metadata": {
    "tags": []
   },
   "outputs": [],
   "source": [
    "indexy"
   ]
  },
  {
   "cell_type": "code",
   "execution_count": null,
   "id": "b2313437-f94e-4bf2-a4ff-edf64a38dc56",
   "metadata": {},
   "outputs": [],
   "source": [
    "type(indexy)"
   ]
  },
  {
   "cell_type": "code",
   "execution_count": null,
   "id": "090c9fdd-dc78-489f-b118-1a9663bcfc65",
   "metadata": {},
   "outputs": [],
   "source": [
    "nove_indexy = Index(('radek_1', 'radek_2', 'radek_3'))"
   ]
  },
  {
   "cell_type": "code",
   "execution_count": null,
   "id": "0a05ce11-9b9a-4061-b7de-664a7a3b2deb",
   "metadata": {},
   "outputs": [],
   "source": [
    "type(nove_indexy)"
   ]
  },
  {
   "cell_type": "markdown",
   "id": "driven-innocent",
   "metadata": {},
   "source": [
    "<br>\n",
    "\n",
    "#### indexování Indexů\n",
    "\n",
    "---"
   ]
  },
  {
   "cell_type": "code",
   "execution_count": null,
   "id": "0eacbe3e-b2cf-4c10-aa83-2d65d664ac35",
   "metadata": {},
   "outputs": [],
   "source": [
    "indexy"
   ]
  },
  {
   "cell_type": "code",
   "execution_count": null,
   "id": "egyptian-cleveland",
   "metadata": {
    "scrolled": true
   },
   "outputs": [],
   "source": [
    "indexy[2]"
   ]
  },
  {
   "cell_type": "markdown",
   "id": "excited-lawsuit",
   "metadata": {},
   "source": [
    "<br>\n",
    "\n",
    "#### Slicování indexů\n",
    "\n",
    "---"
   ]
  },
  {
   "cell_type": "code",
   "execution_count": null,
   "id": "contemporary-sympathy",
   "metadata": {},
   "outputs": [],
   "source": [
    "indexy[:3]"
   ]
  },
  {
   "cell_type": "markdown",
   "id": "increased-bronze",
   "metadata": {},
   "source": [
    "<br>\n",
    "\n",
    "#### Nezměnitelný objekt\n",
    "\n",
    "---"
   ]
  },
  {
   "cell_type": "code",
   "execution_count": null,
   "id": "147ff499-db86-4c44-aacc-bbbefd969b04",
   "metadata": {},
   "outputs": [],
   "source": [
    "indexy[2]"
   ]
  },
  {
   "cell_type": "code",
   "execution_count": null,
   "id": "atomic-update",
   "metadata": {
    "tags": []
   },
   "outputs": [],
   "source": [
    "# indexy[2] = 3  # --> TypeError"
   ]
  },
  {
   "cell_type": "markdown",
   "id": "impressed-caribbean",
   "metadata": {},
   "source": [
    "Tato nezměnitelnost slouží k větší bezpečnosti, protože jednotlivé indexy, může sdílet více `DataFrame`."
   ]
  },
  {
   "cell_type": "markdown",
   "id": "intense-chamber",
   "metadata": {},
   "source": [
    "<br>\n",
    "\n",
    "#### Index jako seřazený set\n",
    "\n",
    "---"
   ]
  },
  {
   "cell_type": "code",
   "execution_count": null,
   "id": "weighted-slovakia",
   "metadata": {
    "tags": []
   },
   "outputs": [],
   "source": [
    "indexy_a = Index([1, 2, 3, 4])\n",
    "indexy_b = Index([3, 4, 5, 6])"
   ]
  },
  {
   "cell_type": "code",
   "execution_count": null,
   "id": "diagnostic-colonial",
   "metadata": {
    "tags": []
   },
   "outputs": [],
   "source": [
    "indexy_a.intersection(indexy_b)"
   ]
  },
  {
   "cell_type": "code",
   "execution_count": null,
   "id": "binary-adrian",
   "metadata": {
    "tags": []
   },
   "outputs": [],
   "source": [
    "indexy_a.union(indexy_b)"
   ]
  },
  {
   "cell_type": "markdown",
   "id": "533641fa-9ba9-4713-98a9-22f480974324",
   "metadata": {},
   "source": [
    "<br>\n",
    "\n",
    "### Souhrn k základním typům\n",
    "\n",
    "---"
   ]
  },
  {
   "cell_type": "markdown",
   "id": "fc8ce55b-f635-48af-9338-b488f0520a4f",
   "metadata": {},
   "source": [
    "- **sloupečky**, jako pole, jednorozměrné, možnost selekce indexů i hodnot a jejich rozsahů,\n",
    "- **indexy**, jako pole, nezměnitelné, možnost selekce jednoho řádků i rozsahu řádků,\n",
    "- **tabulka**, vícerozměrné pole, výběr podle sloupců."
   ]
  },
  {
   "cell_type": "markdown",
   "id": "18b04787-ac43-4222-b23e-96e0d5d0187c",
   "metadata": {},
   "source": [
    "\n",
    "<img src=\"https://imgs.search.brave.com/CoDVQW6cpYcV0qJtUejA7WQat4mLN2AOxuK2hXwgGAo/rs:fit:500:0:0:0/g:ce/aHR0cHM6Ly9jZG4w/Lmljb25maW5kZXIu/Y29tL2RhdGEvaWNv/bnMvcm91bmQtdWkt/aWNvbnMvNTEyL2Fk/ZF9ibHVlLnBuZw\" width=\"200\" style=\"margin-left:auto; margin-right:auto\"/>"
   ]
  },
  {
   "cell_type": "markdown",
   "id": "separate-black",
   "metadata": {},
   "source": [
    "<br>\n",
    "\n",
    "## Načítání objektů\n",
    "\n",
    "---"
   ]
  },
  {
   "cell_type": "markdown",
   "id": "czech-overview",
   "metadata": {},
   "source": [
    "Vytvořit nový `DataFrame` je záležitost několika málo argumentů.\n",
    "\n",
    "Není ovšem velmi časté, chystat data *z ničeho*.\n",
    "\n",
    "Většinou potřebuješ právě nahrát různé **existující externí soubory**, do `DataFrame` objektů.\n",
    "\n",
    "* `read_csv`,\n",
    "* `read_excel`,\n",
    "* `read_json`,\n",
    "* `read_html`,\n",
    "* `read_sql`,\n",
    "* `read_parquet`,\n",
    "* `read_sas`."
   ]
  },
  {
   "cell_type": "markdown",
   "id": "finite-cleveland",
   "metadata": {},
   "source": [
    "###  Načti soubor `csv`\n",
    "\n",
    "---"
   ]
  },
  {
   "cell_type": "markdown",
   "id": "beginning-campaign",
   "metadata": {},
   "source": [
    "Knihovna nabízí přímo specializovanou funkci `read_csv`.\n",
    "\n",
    "Ta dovede načíst obsah souboru do nového `DataFrame`.\n",
    "\n",
    "Pro první použití, případně pozdější rozšíření je vhodné, prozkoumat dokumentaci:"
   ]
  },
  {
   "cell_type": "code",
   "execution_count": null,
   "id": "0b8853ce-b040-44b8-ab19-2c54fa6aa2fe",
   "metadata": {
    "tags": []
   },
   "outputs": [],
   "source": [
    "from pandas import read_csv"
   ]
  },
  {
   "cell_type": "markdown",
   "id": "conscious-agent",
   "metadata": {},
   "source": [
    "<br>\n",
    "\n",
    "Načteš jméno souboru se specifickou příponou `csv`:"
   ]
  },
  {
   "cell_type": "code",
   "execution_count": null,
   "id": "radio-miracle",
   "metadata": {
    "tags": []
   },
   "outputs": [],
   "source": [
    "# zamestnanci_df = read_csv('../onsite/inp.csv')  # FileNotFoundError"
   ]
  },
  {
   "cell_type": "markdown",
   "id": "f275e8ec-2834-41a2-b689-f4d84f524991",
   "metadata": {},
   "source": [
    "<br>\n",
    "\n",
    "Je možné použít jak absolutní tak relativní cestu k souboru:"
   ]
  },
  {
   "cell_type": "code",
   "execution_count": null,
   "id": "356470c5-25a2-44e0-94cf-040e40fc107b",
   "metadata": {
    "tags": []
   },
   "outputs": [],
   "source": [
    "zamestnanci_df = read_csv('/home/matous/projects/python-data-2024/shared/onsite/customers_inp.csv')"
   ]
  },
  {
   "cell_type": "markdown",
   "id": "biblical-average",
   "metadata": {},
   "source": [
    "<br>\n",
    "\n",
    "Prozkoumej samotný soubor:"
   ]
  },
  {
   "cell_type": "code",
   "execution_count": null,
   "id": "noble-accountability",
   "metadata": {
    "tags": []
   },
   "outputs": [],
   "source": [
    "# !cat ../onsite/customers_inp.csv"
   ]
  },
  {
   "cell_type": "markdown",
   "id": "welsh-elements",
   "metadata": {},
   "source": [
    "<br>\n",
    "\n",
    "Nyní se podívej jak vypadá nově vytvořený `DataFrame`:"
   ]
  },
  {
   "cell_type": "code",
   "execution_count": null,
   "id": "painted-belle",
   "metadata": {
    "tags": []
   },
   "outputs": [],
   "source": [
    "type(zamestnanci_df)"
   ]
  },
  {
   "cell_type": "code",
   "execution_count": null,
   "id": "436c450f-3eeb-47ce-be33-1eb48d012149",
   "metadata": {
    "tags": []
   },
   "outputs": [],
   "source": [
    "zamestnanci_df"
   ]
  },
  {
   "cell_type": "markdown",
   "id": "powerful-villa",
   "metadata": {},
   "source": [
    "Je potřeba pohlídat si (není řazené podle priorit):\n",
    "* indexy,\n",
    "* záhlaví,\n",
    "* strukturu jednotlivých `Series`,\n",
    "* datové typy."
   ]
  },
  {
   "cell_type": "markdown",
   "id": "becoming-multimedia",
   "metadata": {},
   "source": [
    "<br>\n",
    "\n",
    "Pokud nesedí **defaultní oddělovač** (*sep* nebo *delimiter*):"
   ]
  },
  {
   "cell_type": "code",
   "execution_count": null,
   "id": "acquired-facial",
   "metadata": {
    "tags": []
   },
   "outputs": [],
   "source": [
    "# !sed -i s\"/,/;/g\" ../onsite/customers_inp.csv"
   ]
  },
  {
   "cell_type": "code",
   "execution_count": null,
   "id": "breathing-navigation",
   "metadata": {
    "tags": []
   },
   "outputs": [],
   "source": [
    "# !cat ../onsite/customers_inp.csv"
   ]
  },
  {
   "cell_type": "code",
   "execution_count": null,
   "id": "regular-suicide",
   "metadata": {
    "tags": []
   },
   "outputs": [],
   "source": [
    "zamestnanci_strednik_df = read_csv('../onsite/customers_inp.csv', sep=';')"
   ]
  },
  {
   "cell_type": "code",
   "execution_count": null,
   "id": "casual-young",
   "metadata": {
    "tags": []
   },
   "outputs": [],
   "source": [
    "zamestnanci_strednik_df"
   ]
  },
  {
   "cell_type": "markdown",
   "id": "suffering-permission",
   "metadata": {},
   "source": [
    "<br>\n",
    "\n",
    "Můžeš zadat jiný než *defaultní* oddělovač:"
   ]
  },
  {
   "cell_type": "code",
   "execution_count": null,
   "id": "joined-christian",
   "metadata": {
    "tags": []
   },
   "outputs": [],
   "source": [
    "zamestnanci_strednik_df['phone']"
   ]
  },
  {
   "cell_type": "markdown",
   "id": "defensive-characteristic",
   "metadata": {},
   "source": [
    "**Nevhodné datové typy** je také možné řešit při nové inicializaci `DataFrame`:"
   ]
  },
  {
   "cell_type": "code",
   "execution_count": null,
   "id": "knowing-interpretation",
   "metadata": {
    "tags": []
   },
   "outputs": [],
   "source": [
    "zamestnanci_strednik_df.dtypes"
   ]
  },
  {
   "cell_type": "markdown",
   "id": "computational-density",
   "metadata": {},
   "source": [
    "Pokud potřebuješ *vynutit* konverzi datového typu:"
   ]
  },
  {
   "cell_type": "code",
   "execution_count": null,
   "id": "peripheral-aurora",
   "metadata": {
    "tags": []
   },
   "outputs": [],
   "source": [
    "zamestnanci_bez_cisel_df = read_csv(\n",
    "    '../onsite/customers_inp.csv',\n",
    "    sep=\";\",\n",
    "    dtype={\"customer_id\": str,\n",
    "           \"first_name\": str,\n",
    "           \"last_name\": str,  # int --> ValueError\n",
    "           \"phone\": str,\n",
    "           \"email\": str}\n",
    ")"
   ]
  },
  {
   "cell_type": "code",
   "execution_count": null,
   "id": "exciting-advisory",
   "metadata": {
    "tags": []
   },
   "outputs": [],
   "source": [
    "zamestnanci_bez_cisel_df.dtypes"
   ]
  },
  {
   "cell_type": "markdown",
   "id": "caroline-injury",
   "metadata": {},
   "source": [
    "<br>\n",
    "\n",
    "### Načti tabulku `html`\n",
    "\n",
    "---"
   ]
  },
  {
   "cell_type": "markdown",
   "id": "modular-cruise",
   "metadata": {},
   "source": [
    "Funkce `read_html` často zastává některé kroky *web scrapování*.\n",
    "\n",
    "Přesto je jejím učelem \"pouze\" extrahování dat v HTML `<table></table>` elementech.\n",
    "\n",
    "Ukázka [zdroj](https://simple.wikipedia.org/wiki/List_of_U.S._states)."
   ]
  },
  {
   "cell_type": "code",
   "execution_count": null,
   "id": "b6ab5918-38a7-4348-8410-3484a12a81a0",
   "metadata": {
    "tags": []
   },
   "outputs": [],
   "source": [
    "# %run ../../shared/onsite/demo_read_html.py"
   ]
  },
  {
   "cell_type": "markdown",
   "id": "c5f92eac-275b-4322-88e1-e51b75ffcd00",
   "metadata": {},
   "source": [
    "<br>\n",
    "\n",
    "**🧠 CVIČENÍ 🧠, načti vlastní CSV soubor**."
   ]
  },
  {
   "cell_type": "code",
   "execution_count": null,
   "id": "f66400e3-fa70-4e1d-a85d-19e2898428ab",
   "metadata": {},
   "outputs": [],
   "source": [
    "# Zápis\n",
    "cesta_k_souboru: str = '../onsite/games.csv'"
   ]
  },
  {
   "cell_type": "code",
   "execution_count": null,
   "id": "483cc08d-e30e-443a-81a9-156b99dd92df",
   "metadata": {},
   "outputs": [],
   "source": [
    "from pandas import read_csv"
   ]
  },
  {
   "cell_type": "code",
   "execution_count": null,
   "id": "885e6fb8-dd91-482d-a8a1-0c7679d06312",
   "metadata": {},
   "outputs": [],
   "source": [
    "from pathlib import Path\n",
    "\n",
    "if not Path(cesta_k_souboru).exists():\n",
    "    print('Chybi soubor pro zpracovani')\n",
    "\n",
    "hry_df = read_csv(cesta_k_souboru)"
   ]
  },
  {
   "cell_type": "code",
   "execution_count": null,
   "id": "bb150e22-06a7-46b0-908d-926cb03bd41e",
   "metadata": {},
   "outputs": [],
   "source": [
    "hry_df.head(2)"
   ]
  },
  {
   "cell_type": "markdown",
   "id": "b084021f-0211-47a7-9a84-9d8aa55e3d7b",
   "metadata": {},
   "source": [
    "<details>\n",
    "    <summary>▶️ Řešení</summary>\n",
    "    \n",
    "```python\n",
    "import pandas as pd\n",
    "\n",
    "muj_csv_soubor = 'toto/je/relativni/cesta.csv'\n",
    "\n",
    "testovaci_data = pd.read_csv(muj_csv_soubor)\n",
    "```\n",
    "</details>"
   ]
  },
  {
   "cell_type": "markdown",
   "id": "2b3d7eb0-57a6-48cd-8cd2-5ea08f77f484",
   "metadata": {},
   "source": [
    "Konvence pro načítání dat `read_XYZ` (kde `XYZ` představuje formát souborů).\n",
    "\n",
    "Pro ukládání souborů slouží `to_XYZ`."
   ]
  },
  {
   "cell_type": "markdown",
   "id": "3a60a706-ba3b-45d2-929d-a0a35083fba8",
   "metadata": {},
   "source": [
    "<br>\n",
    "\n",
    "### Souhrn kapitoly\n",
    "\n",
    "---\n",
    "\n",
    "Typický postup, pro práci s pandami, je identifikovat a správně načíst datový zdroj."
   ]
  },
  {
   "cell_type": "markdown",
   "id": "0ec86de5-e896-4c34-9e25-907c72a02bde",
   "metadata": {},
   "source": [
    "\n",
    "<img src=\"https://external-content.duckduckgo.com/iu/?u=https%3A%2F%2Ftse3.mm.bing.net%2Fth%3Fid%3DOIP.ACSOiM-U0Q1dA-4JLXwShAHaHx%26pid%3DApi&f=1&ipt=6d4afed7c3560452103fe53af2bd94638c28007aa3141700570a84c7fab7263a&ipo=images\" width=\"200\" style=\"margin-left:auto; margin-right:auto\"/>\n",
    "\n"
   ]
  },
  {
   "cell_type": "markdown",
   "id": "hundred-martin",
   "metadata": {},
   "source": [
    "<br>\n",
    "\n",
    "## Prozkoumávání dat\n",
    "\n",
    "---"
   ]
  },
  {
   "cell_type": "markdown",
   "id": "proved-freeware",
   "metadata": {},
   "source": [
    "Jakmile máš data správně načtená a přetypovaná, můžeš s nimi začít pracovat.\n",
    "\n",
    "Než se do toho vrhneš, není špatné, umět je prohlížet.\n",
    "\n",
    "<br>"
   ]
  },
  {
   "cell_type": "markdown",
   "id": "internal-basis",
   "metadata": {},
   "source": [
    "### Selekce u sloupečků\n",
    "\n",
    "---"
   ]
  },
  {
   "cell_type": "code",
   "execution_count": 1,
   "id": "checked-rover",
   "metadata": {
    "tags": []
   },
   "outputs": [],
   "source": [
    "from pandas import Series"
   ]
  },
  {
   "cell_type": "code",
   "execution_count": 2,
   "id": "rural-joyce",
   "metadata": {
    "tags": []
   },
   "outputs": [],
   "source": [
    "vek_sl = Series(\n",
    "    [26, 36, 46, 56],\n",
    "    index=['Petr', 'Pavel', 'Jiri', 'Tomas'] # ??? , 'Jarek', 'Tomas'; , 66, 76\n",
    ")"
   ]
  },
  {
   "cell_type": "markdown",
   "id": "copyrighted-photography",
   "metadata": {},
   "source": [
    "<br>\n",
    "\n",
    "Pro vytvořený sloupeček:"
   ]
  },
  {
   "cell_type": "code",
   "execution_count": null,
   "id": "handled-pierre",
   "metadata": {
    "tags": []
   },
   "outputs": [],
   "source": [
    "vek_sl"
   ]
  },
  {
   "cell_type": "markdown",
   "id": "judicial-shooting",
   "metadata": {},
   "source": [
    "<br>\n",
    "\n",
    "Pokud provádíš *slicing* pomocí *indexů*, implicitně **vynecháš konečný index**:"
   ]
  },
  {
   "cell_type": "code",
   "execution_count": null,
   "id": "former-binary",
   "metadata": {
    "tags": []
   },
   "outputs": [],
   "source": [
    "vek_sl[0:3]"
   ]
  },
  {
   "cell_type": "markdown",
   "id": "decent-notification",
   "metadata": {},
   "source": [
    "<br>\n",
    "\n",
    "Pokud ovšem zadáváš přímo hodnotu *Indexu*, potom vybíráš hodnoty **včetně konečného Indexu**:"
   ]
  },
  {
   "cell_type": "code",
   "execution_count": null,
   "id": "charming-republican",
   "metadata": {
    "tags": []
   },
   "outputs": [],
   "source": [
    "vek_sl[\"Petr\": \"Jiri\"]"
   ]
  },
  {
   "cell_type": "markdown",
   "id": "thick-maria",
   "metadata": {},
   "source": [
    "Tento jednoduchý přístup potom vede **k častým chybám a nepochopením**."
   ]
  },
  {
   "cell_type": "markdown",
   "id": "intended-studio",
   "metadata": {},
   "source": [
    "### Atributy `loc`, `iloc`\n",
    "\n",
    "---"
   ]
  },
  {
   "cell_type": "markdown",
   "id": "warming-moscow",
   "metadata": {},
   "source": [
    "Právě protože je *indexování* a *slicing* v rámci `Series` matoucí, existují pomocné atributy.\n",
    "\n",
    "<br>\n",
    "\n",
    "#### loc\n",
    "\n",
    "---\n",
    "\n",
    "Právě tento atribut zaručí, že budeš vždy pracovat pomocí **explicitního zadání hodnoty Indexů**:"
   ]
  },
  {
   "cell_type": "code",
   "execution_count": null,
   "id": "1815107c-17d4-4f6d-87b0-4979fab9b99c",
   "metadata": {
    "tags": []
   },
   "outputs": [],
   "source": [
    "vek_sl"
   ]
  },
  {
   "cell_type": "code",
   "execution_count": null,
   "id": "gorgeous-annex",
   "metadata": {
    "tags": []
   },
   "outputs": [],
   "source": [
    "vek_sl.loc[\"Petr\": \"Jiri\"]"
   ]
  },
  {
   "cell_type": "markdown",
   "id": "hydraulic-hours",
   "metadata": {},
   "source": [
    "<br>\n",
    "\n",
    "Jde tedy o explicitní práci s Indexy knihovny `pandas`, ne indexy Pythonu:"
   ]
  },
  {
   "cell_type": "code",
   "execution_count": null,
   "id": "downtown-coalition",
   "metadata": {
    "tags": []
   },
   "outputs": [],
   "source": [
    "jmena_sl = Series(\n",
    "    [\"Matous\", \"Marek\", \"Lukas\", \"Jan\"],\n",
    "    index=[1, 2, 3, 4]\n",
    ")"
   ]
  },
  {
   "cell_type": "code",
   "execution_count": null,
   "id": "absent-realtor",
   "metadata": {
    "tags": []
   },
   "outputs": [],
   "source": [
    "jmena_sl"
   ]
  },
  {
   "cell_type": "code",
   "execution_count": null,
   "id": "bd9bf28e-9bac-4e72-a414-637994bf819f",
   "metadata": {},
   "outputs": [],
   "source": [
    "jmena_sl.loc[1]"
   ]
  },
  {
   "cell_type": "code",
   "execution_count": null,
   "id": "competitive-argentina",
   "metadata": {
    "tags": []
   },
   "outputs": [],
   "source": [
    "jmena_sl.loc[:3]"
   ]
  },
  {
   "cell_type": "markdown",
   "id": "db507ca9-0751-4b41-b9fe-b148ebbf4092",
   "metadata": {},
   "source": [
    "Všimni si, jak *Index* o hodnotě 3 je součástí výstupu (narozdíl od pythonovského indexu 3)."
   ]
  },
  {
   "cell_type": "markdown",
   "id": "satisfactory-participant",
   "metadata": {},
   "source": [
    "<br>\n",
    "\n",
    "#### iloc\n",
    "\n",
    "---\n",
    "\n",
    "Naopak atribut `iloc` je proces, který funguje výlučně na **indexování v rámci Pythonu** (pořadí, začíná nulou):"
   ]
  },
  {
   "cell_type": "code",
   "execution_count": null,
   "id": "9a085c7a-6dee-49eb-ae1b-d49808e59d96",
   "metadata": {
    "tags": []
   },
   "outputs": [],
   "source": [
    "jmena_sl"
   ]
  },
  {
   "cell_type": "code",
   "execution_count": null,
   "id": "optical-roots",
   "metadata": {
    "tags": []
   },
   "outputs": [],
   "source": [
    "jmena_sl.iloc[1]   # Opatrně na výstup!!"
   ]
  },
  {
   "cell_type": "code",
   "execution_count": null,
   "id": "fc6fe1b8-ec88-4d3e-919e-7ae46c5507f9",
   "metadata": {
    "tags": []
   },
   "outputs": [],
   "source": [
    "jmena_sl.index[1]  # indexování Indexů"
   ]
  },
  {
   "cell_type": "code",
   "execution_count": null,
   "id": "cf0677fb-b944-4653-bae4-19bf5af63d19",
   "metadata": {
    "tags": []
   },
   "outputs": [],
   "source": [
    "jmena_sl.loc[1]    # Opatrně na výstup!!"
   ]
  },
  {
   "cell_type": "code",
   "execution_count": null,
   "id": "869fe371-b4e4-428e-86e4-e5247a80c7f0",
   "metadata": {
    "tags": []
   },
   "outputs": [],
   "source": [
    "jmena_sl.iloc[:2]"
   ]
  },
  {
   "cell_type": "markdown",
   "id": "treated-cameroon",
   "metadata": {},
   "source": [
    "Kvůli jasnosti a přehlednosti je obecně výhodnější a doporučováné, pracovat s atributy `loc` a `iloc`."
   ]
  },
  {
   "cell_type": "code",
   "execution_count": null,
   "id": "68e1a32b-466a-4ba2-b9dc-98c6c51a7f51",
   "metadata": {
    "tags": []
   },
   "outputs": [],
   "source": [
    "jmena_sl.loc[:2]"
   ]
  },
  {
   "cell_type": "markdown",
   "id": "nuclear-astronomy",
   "metadata": {},
   "source": [
    "<br>\n",
    "\n",
    "### Selekce u tabelárních hodnot\n",
    "\n",
    "---\n",
    "\n",
    "Jelikož je `DataFrame` složený ze sloupečků, můžeš aplikovat některé postupy z uplynulé teorie.\n",
    "\n",
    "* **slovníkový klíč**,\n",
    "* **atributový přístup**,\n",
    "* **slovníkový náhled**,\n",
    "* `loc`, `iloc`, `ix`, `T`."
   ]
  },
  {
   "cell_type": "code",
   "execution_count": 3,
   "id": "executed-tucson",
   "metadata": {
    "tags": []
   },
   "outputs": [],
   "source": [
    "from pandas import DataFrame"
   ]
  },
  {
   "cell_type": "code",
   "execution_count": 4,
   "id": "authorized-utility",
   "metadata": {
    "tags": []
   },
   "outputs": [],
   "source": [
    "populace_evropa = {'Dansko': 5_655_750,\n",
    "                   'Ceska_republika': 10_513_209,\n",
    "                   'Nemecko': 80_716_000,\n",
    "                   'Polsko': 38_483_957,\n",
    "                   'Slovensko': 5_415_949,\n",
    "                   'Rakousko': 8_932_664}"
   ]
  },
  {
   "cell_type": "code",
   "execution_count": 5,
   "id": "proprietary-flower",
   "metadata": {
    "tags": []
   },
   "outputs": [],
   "source": [
    "rozloha_evropa = {'Dansko': 42_916,\n",
    "                  'Ceska_republika': 78_870,\n",
    "                  'Nemecko': 357_168,\n",
    "                  'Polsko': 312_679,\n",
    "                  'Slovensko': 49_035,\n",
    "                  'Rakousko': 83_878}"
   ]
  },
  {
   "cell_type": "code",
   "execution_count": 6,
   "id": "bizarre-region",
   "metadata": {
    "tags": []
   },
   "outputs": [],
   "source": [
    "zeme_evropa_df = DataFrame({\"populace\": populace_evropa,\n",
    "                            \"rozloha\": rozloha_evropa})"
   ]
  },
  {
   "cell_type": "code",
   "execution_count": 7,
   "id": "perceived-testament",
   "metadata": {
    "tags": []
   },
   "outputs": [
    {
     "data": {
      "text/html": [
       "<div>\n",
       "<style scoped>\n",
       "    .dataframe tbody tr th:only-of-type {\n",
       "        vertical-align: middle;\n",
       "    }\n",
       "\n",
       "    .dataframe tbody tr th {\n",
       "        vertical-align: top;\n",
       "    }\n",
       "\n",
       "    .dataframe thead th {\n",
       "        text-align: right;\n",
       "    }\n",
       "</style>\n",
       "<table border=\"1\" class=\"dataframe\">\n",
       "  <thead>\n",
       "    <tr style=\"text-align: right;\">\n",
       "      <th></th>\n",
       "      <th>populace</th>\n",
       "      <th>rozloha</th>\n",
       "    </tr>\n",
       "  </thead>\n",
       "  <tbody>\n",
       "    <tr>\n",
       "      <th>Dansko</th>\n",
       "      <td>5655750</td>\n",
       "      <td>42916</td>\n",
       "    </tr>\n",
       "    <tr>\n",
       "      <th>Ceska_republika</th>\n",
       "      <td>10513209</td>\n",
       "      <td>78870</td>\n",
       "    </tr>\n",
       "    <tr>\n",
       "      <th>Nemecko</th>\n",
       "      <td>80716000</td>\n",
       "      <td>357168</td>\n",
       "    </tr>\n",
       "    <tr>\n",
       "      <th>Polsko</th>\n",
       "      <td>38483957</td>\n",
       "      <td>312679</td>\n",
       "    </tr>\n",
       "    <tr>\n",
       "      <th>Slovensko</th>\n",
       "      <td>5415949</td>\n",
       "      <td>49035</td>\n",
       "    </tr>\n",
       "    <tr>\n",
       "      <th>Rakousko</th>\n",
       "      <td>8932664</td>\n",
       "      <td>83878</td>\n",
       "    </tr>\n",
       "  </tbody>\n",
       "</table>\n",
       "</div>"
      ],
      "text/plain": [
       "                 populace  rozloha\n",
       "Dansko            5655750    42916\n",
       "Ceska_republika  10513209    78870\n",
       "Nemecko          80716000   357168\n",
       "Polsko           38483957   312679\n",
       "Slovensko         5415949    49035\n",
       "Rakousko          8932664    83878"
      ]
     },
     "execution_count": 7,
     "metadata": {},
     "output_type": "execute_result"
    }
   ],
   "source": [
    "zeme_evropa_df"
   ]
  },
  {
   "cell_type": "markdown",
   "id": "usual-celtic",
   "metadata": {},
   "source": [
    "<br>\n",
    "\n",
    "#### Přístup pomocí klíčů\n",
    "\n",
    "---"
   ]
  },
  {
   "cell_type": "code",
   "execution_count": 8,
   "id": "dried-seller",
   "metadata": {
    "tags": []
   },
   "outputs": [
    {
     "data": {
      "text/plain": [
       "Dansko              5655750\n",
       "Ceska_republika    10513209\n",
       "Nemecko            80716000\n",
       "Polsko             38483957\n",
       "Slovensko           5415949\n",
       "Rakousko            8932664\n",
       "Name: populace, dtype: int64"
      ]
     },
     "execution_count": 8,
     "metadata": {},
     "output_type": "execute_result"
    }
   ],
   "source": [
    "zeme_evropa_df[\"populace\"]"
   ]
  },
  {
   "cell_type": "code",
   "execution_count": 9,
   "id": "quick-maine",
   "metadata": {
    "tags": []
   },
   "outputs": [
    {
     "data": {
      "text/plain": [
       "Dansko              42916\n",
       "Ceska_republika     78870\n",
       "Nemecko            357168\n",
       "Polsko             312679\n",
       "Slovensko           49035\n",
       "Rakousko            83878\n",
       "Name: rozloha, dtype: int64"
      ]
     },
     "execution_count": 9,
     "metadata": {},
     "output_type": "execute_result"
    }
   ],
   "source": [
    "zeme_evropa_df[\"rozloha\"]"
   ]
  },
  {
   "cell_type": "markdown",
   "id": "eeb4f5e9-7b13-4096-b6ec-067a7e7fc226",
   "metadata": {},
   "source": [
    "<br>\n",
    "\n",
    "Pomocí hranaté závorky z tabulky extrahuji **celý sloupeček.**"
   ]
  },
  {
   "cell_type": "code",
   "execution_count": 11,
   "id": "2d66fa2d-b050-45e4-9b85-6a9e1a1ba806",
   "metadata": {},
   "outputs": [
    {
     "data": {
      "text/plain": [
       "Dansko             False\n",
       "Ceska_republika     True\n",
       "Nemecko             True\n",
       "Polsko              True\n",
       "Slovensko          False\n",
       "Rakousko            True\n",
       "Name: rozloha, dtype: bool"
      ]
     },
     "execution_count": 11,
     "metadata": {},
     "output_type": "execute_result"
    }
   ],
   "source": [
    "zeme_evropa_df[\"rozloha\"] >= 50_000"
   ]
  },
  {
   "cell_type": "markdown",
   "id": "975f06de-b60b-4bd3-a98f-8427184d5a13",
   "metadata": {},
   "source": [
    "<br>\n",
    "\n",
    "Boolean dotazování neupravuje původní hodnoty ve sloupečku `rozloha`:"
   ]
  },
  {
   "cell_type": "code",
   "execution_count": 12,
   "id": "25afeabe-2010-4656-88c9-c99db3519a4a",
   "metadata": {},
   "outputs": [
    {
     "data": {
      "text/plain": [
       "Dansko              42916\n",
       "Ceska_republika     78870\n",
       "Nemecko            357168\n",
       "Polsko             312679\n",
       "Slovensko           49035\n",
       "Rakousko            83878\n",
       "Name: rozloha, dtype: int64"
      ]
     },
     "execution_count": 12,
     "metadata": {},
     "output_type": "execute_result"
    }
   ],
   "source": [
    "zeme_evropa_df[\"rozloha\"]"
   ]
  },
  {
   "cell_type": "code",
   "execution_count": 13,
   "id": "5cbe9c72-52ad-4702-9f20-eeed36c958c6",
   "metadata": {},
   "outputs": [
    {
     "data": {
      "text/html": [
       "<div>\n",
       "<style scoped>\n",
       "    .dataframe tbody tr th:only-of-type {\n",
       "        vertical-align: middle;\n",
       "    }\n",
       "\n",
       "    .dataframe tbody tr th {\n",
       "        vertical-align: top;\n",
       "    }\n",
       "\n",
       "    .dataframe thead th {\n",
       "        text-align: right;\n",
       "    }\n",
       "</style>\n",
       "<table border=\"1\" class=\"dataframe\">\n",
       "  <thead>\n",
       "    <tr style=\"text-align: right;\">\n",
       "      <th></th>\n",
       "      <th>populace</th>\n",
       "      <th>rozloha</th>\n",
       "    </tr>\n",
       "  </thead>\n",
       "  <tbody>\n",
       "    <tr>\n",
       "      <th>Ceska_republika</th>\n",
       "      <td>10513209</td>\n",
       "      <td>78870</td>\n",
       "    </tr>\n",
       "    <tr>\n",
       "      <th>Nemecko</th>\n",
       "      <td>80716000</td>\n",
       "      <td>357168</td>\n",
       "    </tr>\n",
       "    <tr>\n",
       "      <th>Polsko</th>\n",
       "      <td>38483957</td>\n",
       "      <td>312679</td>\n",
       "    </tr>\n",
       "    <tr>\n",
       "      <th>Rakousko</th>\n",
       "      <td>8932664</td>\n",
       "      <td>83878</td>\n",
       "    </tr>\n",
       "  </tbody>\n",
       "</table>\n",
       "</div>"
      ],
      "text/plain": [
       "                 populace  rozloha\n",
       "Ceska_republika  10513209    78870\n",
       "Nemecko          80716000   357168\n",
       "Polsko           38483957   312679\n",
       "Rakousko          8932664    83878"
      ]
     },
     "execution_count": 13,
     "metadata": {},
     "output_type": "execute_result"
    }
   ],
   "source": [
    "zeme_evropa_df[zeme_evropa_df[\"rozloha\"] >= 50_000]"
   ]
  },
  {
   "cell_type": "code",
   "execution_count": 14,
   "id": "ae30cb01-8244-403c-b6ab-e06f08e9ed26",
   "metadata": {},
   "outputs": [
    {
     "data": {
      "text/html": [
       "<div>\n",
       "<style scoped>\n",
       "    .dataframe tbody tr th:only-of-type {\n",
       "        vertical-align: middle;\n",
       "    }\n",
       "\n",
       "    .dataframe tbody tr th {\n",
       "        vertical-align: top;\n",
       "    }\n",
       "\n",
       "    .dataframe thead th {\n",
       "        text-align: right;\n",
       "    }\n",
       "</style>\n",
       "<table border=\"1\" class=\"dataframe\">\n",
       "  <thead>\n",
       "    <tr style=\"text-align: right;\">\n",
       "      <th></th>\n",
       "      <th>populace</th>\n",
       "      <th>rozloha</th>\n",
       "    </tr>\n",
       "  </thead>\n",
       "  <tbody>\n",
       "    <tr>\n",
       "      <th>Dansko</th>\n",
       "      <td>5655750</td>\n",
       "      <td>42916</td>\n",
       "    </tr>\n",
       "    <tr>\n",
       "      <th>Ceska_republika</th>\n",
       "      <td>10513209</td>\n",
       "      <td>78870</td>\n",
       "    </tr>\n",
       "    <tr>\n",
       "      <th>Nemecko</th>\n",
       "      <td>80716000</td>\n",
       "      <td>357168</td>\n",
       "    </tr>\n",
       "    <tr>\n",
       "      <th>Polsko</th>\n",
       "      <td>38483957</td>\n",
       "      <td>312679</td>\n",
       "    </tr>\n",
       "    <tr>\n",
       "      <th>Slovensko</th>\n",
       "      <td>5415949</td>\n",
       "      <td>49035</td>\n",
       "    </tr>\n",
       "    <tr>\n",
       "      <th>Rakousko</th>\n",
       "      <td>8932664</td>\n",
       "      <td>83878</td>\n",
       "    </tr>\n",
       "  </tbody>\n",
       "</table>\n",
       "</div>"
      ],
      "text/plain": [
       "                 populace  rozloha\n",
       "Dansko            5655750    42916\n",
       "Ceska_republika  10513209    78870\n",
       "Nemecko          80716000   357168\n",
       "Polsko           38483957   312679\n",
       "Slovensko         5415949    49035\n",
       "Rakousko          8932664    83878"
      ]
     },
     "execution_count": 14,
     "metadata": {},
     "output_type": "execute_result"
    }
   ],
   "source": [
    "zeme_evropa_df"
   ]
  },
  {
   "cell_type": "markdown",
   "id": "applicable-baltimore",
   "metadata": {},
   "source": [
    "<br>\n",
    "\n",
    "#### Přístup pomocí atributů\n",
    "\n",
    "---"
   ]
  },
  {
   "cell_type": "markdown",
   "id": "edf75e77-fdf2-4fb6-bc29-39e7159bac8f",
   "metadata": {},
   "source": [
    "K jednotlivými sloupečkům přistupuji pomocí `.`:"
   ]
  },
  {
   "cell_type": "code",
   "execution_count": null,
   "id": "traditional-supplement",
   "metadata": {
    "tags": []
   },
   "outputs": [],
   "source": [
    "# bool(zeme_evropa_df[\"rozloha\"] is zeme_evropa_df.rozloha)"
   ]
  },
  {
   "cell_type": "code",
   "execution_count": 15,
   "id": "e895956b-0a7c-4ea4-ab95-02f8070ba3ff",
   "metadata": {},
   "outputs": [
    {
     "data": {
      "text/html": [
       "<div>\n",
       "<style scoped>\n",
       "    .dataframe tbody tr th:only-of-type {\n",
       "        vertical-align: middle;\n",
       "    }\n",
       "\n",
       "    .dataframe tbody tr th {\n",
       "        vertical-align: top;\n",
       "    }\n",
       "\n",
       "    .dataframe thead th {\n",
       "        text-align: right;\n",
       "    }\n",
       "</style>\n",
       "<table border=\"1\" class=\"dataframe\">\n",
       "  <thead>\n",
       "    <tr style=\"text-align: right;\">\n",
       "      <th></th>\n",
       "      <th>populace</th>\n",
       "      <th>rozloha</th>\n",
       "    </tr>\n",
       "  </thead>\n",
       "  <tbody>\n",
       "    <tr>\n",
       "      <th>Dansko</th>\n",
       "      <td>5655750</td>\n",
       "      <td>42916</td>\n",
       "    </tr>\n",
       "    <tr>\n",
       "      <th>Ceska_republika</th>\n",
       "      <td>10513209</td>\n",
       "      <td>78870</td>\n",
       "    </tr>\n",
       "    <tr>\n",
       "      <th>Nemecko</th>\n",
       "      <td>80716000</td>\n",
       "      <td>357168</td>\n",
       "    </tr>\n",
       "    <tr>\n",
       "      <th>Polsko</th>\n",
       "      <td>38483957</td>\n",
       "      <td>312679</td>\n",
       "    </tr>\n",
       "    <tr>\n",
       "      <th>Slovensko</th>\n",
       "      <td>5415949</td>\n",
       "      <td>49035</td>\n",
       "    </tr>\n",
       "    <tr>\n",
       "      <th>Rakousko</th>\n",
       "      <td>8932664</td>\n",
       "      <td>83878</td>\n",
       "    </tr>\n",
       "  </tbody>\n",
       "</table>\n",
       "</div>"
      ],
      "text/plain": [
       "                 populace  rozloha\n",
       "Dansko            5655750    42916\n",
       "Ceska_republika  10513209    78870\n",
       "Nemecko          80716000   357168\n",
       "Polsko           38483957   312679\n",
       "Slovensko         5415949    49035\n",
       "Rakousko          8932664    83878"
      ]
     },
     "execution_count": 15,
     "metadata": {},
     "output_type": "execute_result"
    }
   ],
   "source": [
    "zeme_evropa_df"
   ]
  },
  {
   "cell_type": "code",
   "execution_count": 16,
   "id": "helpful-roulette",
   "metadata": {
    "tags": []
   },
   "outputs": [
    {
     "data": {
      "text/plain": [
       "Dansko              5655750\n",
       "Ceska_republika    10513209\n",
       "Nemecko            80716000\n",
       "Polsko             38483957\n",
       "Slovensko           5415949\n",
       "Rakousko            8932664\n",
       "Name: populace, dtype: int64"
      ]
     },
     "execution_count": 16,
     "metadata": {},
     "output_type": "execute_result"
    }
   ],
   "source": [
    "zeme_evropa_df.populace"
   ]
  },
  {
   "cell_type": "code",
   "execution_count": 17,
   "id": "focused-mining",
   "metadata": {
    "tags": []
   },
   "outputs": [
    {
     "data": {
      "text/plain": [
       "Dansko              42916\n",
       "Ceska_republika     78870\n",
       "Nemecko            357168\n",
       "Polsko             312679\n",
       "Slovensko           49035\n",
       "Rakousko            83878\n",
       "Name: rozloha, dtype: int64"
      ]
     },
     "execution_count": 17,
     "metadata": {},
     "output_type": "execute_result"
    }
   ],
   "source": [
    "zeme_evropa_df.rozloha"
   ]
  },
  {
   "cell_type": "code",
   "execution_count": 18,
   "id": "bound-atlanta",
   "metadata": {
    "tags": []
   },
   "outputs": [
    {
     "data": {
      "text/plain": [
       "Dansko             False\n",
       "Ceska_republika     True\n",
       "Nemecko             True\n",
       "Polsko              True\n",
       "Slovensko          False\n",
       "Rakousko            True\n",
       "Name: rozloha, dtype: bool"
      ]
     },
     "execution_count": 18,
     "metadata": {},
     "output_type": "execute_result"
    }
   ],
   "source": [
    "zeme_evropa_df.rozloha > 50_000"
   ]
  },
  {
   "cell_type": "code",
   "execution_count": null,
   "id": "4edaec24-3a98-41fa-9e5a-c0e45fbc41f7",
   "metadata": {
    "tags": []
   },
   "outputs": [],
   "source": [
    "zeme_evropa_df[zeme_evropa_df.rozloha > 100_000]  # Méně bezpečný přístup"
   ]
  },
  {
   "cell_type": "code",
   "execution_count": null,
   "id": "510c2557-73f7-4ec8-bf89-2fc3060b662a",
   "metadata": {
    "tags": []
   },
   "outputs": [],
   "source": [
    "zeme_evropa_df[zeme_evropa_df[\"rozloha\"] > 100_000]"
   ]
  },
  {
   "cell_type": "markdown",
   "id": "dress-paradise",
   "metadata": {},
   "source": [
    "Opatrně, atributový přístup nelze aplikovat, pokud je jméno sloupečku shodné s některým **z rezerovaných výrazů**."
   ]
  },
  {
   "cell_type": "markdown",
   "id": "nasty-detector",
   "metadata": {},
   "source": [
    "<br>\n",
    "\n",
    "#### Slovníkový náhled\n",
    "\n",
    "---"
   ]
  },
  {
   "cell_type": "code",
   "execution_count": 19,
   "id": "4c56ad9b-9f62-43ac-9c25-52dd76b40143",
   "metadata": {},
   "outputs": [
    {
     "data": {
      "text/plain": [
       "Index(['Dansko', 'Ceska_republika', 'Nemecko', 'Polsko', 'Slovensko',\n",
       "       'Rakousko'],\n",
       "      dtype='object')"
      ]
     },
     "execution_count": 19,
     "metadata": {},
     "output_type": "execute_result"
    }
   ],
   "source": [
    "zeme_evropa_df.index"
   ]
  },
  {
   "cell_type": "code",
   "execution_count": 20,
   "id": "2bc7db31-2bfe-4085-9f96-545a18072508",
   "metadata": {},
   "outputs": [
    {
     "data": {
      "text/plain": [
       "Index(['populace', 'rozloha'], dtype='object')"
      ]
     },
     "execution_count": 20,
     "metadata": {},
     "output_type": "execute_result"
    }
   ],
   "source": [
    "zeme_evropa_df.columns"
   ]
  },
  {
   "cell_type": "code",
   "execution_count": 21,
   "id": "scenic-assessment",
   "metadata": {
    "tags": []
   },
   "outputs": [
    {
     "data": {
      "text/plain": [
       "array([[ 5655750,    42916],\n",
       "       [10513209,    78870],\n",
       "       [80716000,   357168],\n",
       "       [38483957,   312679],\n",
       "       [ 5415949,    49035],\n",
       "       [ 8932664,    83878]])"
      ]
     },
     "execution_count": 21,
     "metadata": {},
     "output_type": "execute_result"
    }
   ],
   "source": [
    "zeme_evropa_df.values"
   ]
  },
  {
   "cell_type": "markdown",
   "id": "behavioral-dress",
   "metadata": {},
   "source": [
    "<br>\n",
    "\n",
    "#### loc\n",
    "\n",
    "---\n",
    "\n",
    "Stejná pravidla jako pro `Series`, nicméne tentokrát můžeš vybírat buď jednotlivé Indexy, nebo pole Indexů:"
   ]
  },
  {
   "cell_type": "code",
   "execution_count": 22,
   "id": "9ccbfde1-7834-4a99-ad1a-ce32b3183411",
   "metadata": {
    "tags": []
   },
   "outputs": [
    {
     "data": {
      "text/html": [
       "<div>\n",
       "<style scoped>\n",
       "    .dataframe tbody tr th:only-of-type {\n",
       "        vertical-align: middle;\n",
       "    }\n",
       "\n",
       "    .dataframe tbody tr th {\n",
       "        vertical-align: top;\n",
       "    }\n",
       "\n",
       "    .dataframe thead th {\n",
       "        text-align: right;\n",
       "    }\n",
       "</style>\n",
       "<table border=\"1\" class=\"dataframe\">\n",
       "  <thead>\n",
       "    <tr style=\"text-align: right;\">\n",
       "      <th></th>\n",
       "      <th>populace</th>\n",
       "      <th>rozloha</th>\n",
       "    </tr>\n",
       "  </thead>\n",
       "  <tbody>\n",
       "    <tr>\n",
       "      <th>Dansko</th>\n",
       "      <td>5655750</td>\n",
       "      <td>42916</td>\n",
       "    </tr>\n",
       "    <tr>\n",
       "      <th>Ceska_republika</th>\n",
       "      <td>10513209</td>\n",
       "      <td>78870</td>\n",
       "    </tr>\n",
       "    <tr>\n",
       "      <th>Nemecko</th>\n",
       "      <td>80716000</td>\n",
       "      <td>357168</td>\n",
       "    </tr>\n",
       "    <tr>\n",
       "      <th>Polsko</th>\n",
       "      <td>38483957</td>\n",
       "      <td>312679</td>\n",
       "    </tr>\n",
       "    <tr>\n",
       "      <th>Slovensko</th>\n",
       "      <td>5415949</td>\n",
       "      <td>49035</td>\n",
       "    </tr>\n",
       "    <tr>\n",
       "      <th>Rakousko</th>\n",
       "      <td>8932664</td>\n",
       "      <td>83878</td>\n",
       "    </tr>\n",
       "  </tbody>\n",
       "</table>\n",
       "</div>"
      ],
      "text/plain": [
       "                 populace  rozloha\n",
       "Dansko            5655750    42916\n",
       "Ceska_republika  10513209    78870\n",
       "Nemecko          80716000   357168\n",
       "Polsko           38483957   312679\n",
       "Slovensko         5415949    49035\n",
       "Rakousko          8932664    83878"
      ]
     },
     "execution_count": 22,
     "metadata": {},
     "output_type": "execute_result"
    }
   ],
   "source": [
    "zeme_evropa_df"
   ]
  },
  {
   "cell_type": "code",
   "execution_count": 23,
   "id": "interested-circus",
   "metadata": {
    "tags": []
   },
   "outputs": [
    {
     "data": {
      "text/plain": [
       "populace    80716000\n",
       "rozloha       357168\n",
       "Name: Nemecko, dtype: int64"
      ]
     },
     "execution_count": 23,
     "metadata": {},
     "output_type": "execute_result"
    }
   ],
   "source": [
    "zeme_evropa_df.loc[\"Nemecko\"]"
   ]
  },
  {
   "cell_type": "code",
   "execution_count": 24,
   "id": "8a6726d3-4175-4cd5-bebf-6776ba0fe684",
   "metadata": {},
   "outputs": [
    {
     "data": {
      "text/plain": [
       "populace    80716000\n",
       "rozloha       357168\n",
       "Name: Nemecko, dtype: int64"
      ]
     },
     "execution_count": 24,
     "metadata": {},
     "output_type": "execute_result"
    }
   ],
   "source": [
    "zeme_evropa_df.iloc[2]"
   ]
  },
  {
   "cell_type": "code",
   "execution_count": 25,
   "id": "animal-battery",
   "metadata": {
    "tags": []
   },
   "outputs": [
    {
     "data": {
      "text/html": [
       "<div>\n",
       "<style scoped>\n",
       "    .dataframe tbody tr th:only-of-type {\n",
       "        vertical-align: middle;\n",
       "    }\n",
       "\n",
       "    .dataframe tbody tr th {\n",
       "        vertical-align: top;\n",
       "    }\n",
       "\n",
       "    .dataframe thead th {\n",
       "        text-align: right;\n",
       "    }\n",
       "</style>\n",
       "<table border=\"1\" class=\"dataframe\">\n",
       "  <thead>\n",
       "    <tr style=\"text-align: right;\">\n",
       "      <th></th>\n",
       "      <th>populace</th>\n",
       "      <th>rozloha</th>\n",
       "    </tr>\n",
       "  </thead>\n",
       "  <tbody>\n",
       "    <tr>\n",
       "      <th>Dansko</th>\n",
       "      <td>5655750</td>\n",
       "      <td>42916</td>\n",
       "    </tr>\n",
       "    <tr>\n",
       "      <th>Ceska_republika</th>\n",
       "      <td>10513209</td>\n",
       "      <td>78870</td>\n",
       "    </tr>\n",
       "    <tr>\n",
       "      <th>Nemecko</th>\n",
       "      <td>80716000</td>\n",
       "      <td>357168</td>\n",
       "    </tr>\n",
       "  </tbody>\n",
       "</table>\n",
       "</div>"
      ],
      "text/plain": [
       "                 populace  rozloha\n",
       "Dansko            5655750    42916\n",
       "Ceska_republika  10513209    78870\n",
       "Nemecko          80716000   357168"
      ]
     },
     "execution_count": 25,
     "metadata": {},
     "output_type": "execute_result"
    }
   ],
   "source": [
    "zeme_evropa_df.loc[:\"Nemecko\"]"
   ]
  },
  {
   "cell_type": "markdown",
   "id": "valid-spine",
   "metadata": {},
   "source": [
    "<br>\n",
    "\n",
    "Dále můžeš vybírat kombinaci Indexů a sloupce nebo rozsah sloupců:"
   ]
  },
  {
   "cell_type": "code",
   "execution_count": 26,
   "id": "unique-paris",
   "metadata": {
    "tags": []
   },
   "outputs": [
    {
     "data": {
      "text/plain": [
       "80716000"
      ]
     },
     "execution_count": 26,
     "metadata": {},
     "output_type": "execute_result"
    }
   ],
   "source": [
    "zeme_evropa_df.loc[\"Nemecko\", \"populace\"]"
   ]
  },
  {
   "cell_type": "code",
   "execution_count": null,
   "id": "legislative-shock",
   "metadata": {
    "tags": []
   },
   "outputs": [],
   "source": [
    "zeme_evropa_df.loc[:\"Nemecko\", \"populace\"]"
   ]
  },
  {
   "cell_type": "code",
   "execution_count": 27,
   "id": "seeing-shell",
   "metadata": {
    "tags": []
   },
   "outputs": [
    {
     "data": {
      "text/html": [
       "<div>\n",
       "<style scoped>\n",
       "    .dataframe tbody tr th:only-of-type {\n",
       "        vertical-align: middle;\n",
       "    }\n",
       "\n",
       "    .dataframe tbody tr th {\n",
       "        vertical-align: top;\n",
       "    }\n",
       "\n",
       "    .dataframe thead th {\n",
       "        text-align: right;\n",
       "    }\n",
       "</style>\n",
       "<table border=\"1\" class=\"dataframe\">\n",
       "  <thead>\n",
       "    <tr style=\"text-align: right;\">\n",
       "      <th></th>\n",
       "      <th>populace</th>\n",
       "      <th>rozloha</th>\n",
       "    </tr>\n",
       "  </thead>\n",
       "  <tbody>\n",
       "    <tr>\n",
       "      <th>Ceska_republika</th>\n",
       "      <td>10513209</td>\n",
       "      <td>78870</td>\n",
       "    </tr>\n",
       "    <tr>\n",
       "      <th>Nemecko</th>\n",
       "      <td>80716000</td>\n",
       "      <td>357168</td>\n",
       "    </tr>\n",
       "  </tbody>\n",
       "</table>\n",
       "</div>"
      ],
      "text/plain": [
       "                 populace  rozloha\n",
       "Ceska_republika  10513209    78870\n",
       "Nemecko          80716000   357168"
      ]
     },
     "execution_count": 27,
     "metadata": {},
     "output_type": "execute_result"
    }
   ],
   "source": [
    "zeme_evropa_df.loc[\"Ceska_republika\":\"Nemecko\", :\"rozloha\"]"
   ]
  },
  {
   "cell_type": "markdown",
   "id": "hidden-cleveland",
   "metadata": {},
   "source": [
    "<br>\n",
    "\n",
    "#### iloc\n",
    "\n",
    "---"
   ]
  },
  {
   "cell_type": "code",
   "execution_count": null,
   "id": "welsh-transsexual",
   "metadata": {
    "tags": []
   },
   "outputs": [],
   "source": [
    "zeme_evropa_df.iloc[:3, 1]"
   ]
  },
  {
   "cell_type": "code",
   "execution_count": 28,
   "id": "8168b70a-d83e-46c4-8bac-77363b48ac8e",
   "metadata": {},
   "outputs": [
    {
     "data": {
      "text/plain": [
       "80716000"
      ]
     },
     "execution_count": 28,
     "metadata": {},
     "output_type": "execute_result"
    }
   ],
   "source": [
    "zeme_evropa_df.iloc[2, 0]"
   ]
  },
  {
   "cell_type": "code",
   "execution_count": 32,
   "id": "2798845a-be32-4328-9944-55242466d3f4",
   "metadata": {},
   "outputs": [
    {
     "data": {
      "text/html": [
       "<div>\n",
       "<style scoped>\n",
       "    .dataframe tbody tr th:only-of-type {\n",
       "        vertical-align: middle;\n",
       "    }\n",
       "\n",
       "    .dataframe tbody tr th {\n",
       "        vertical-align: top;\n",
       "    }\n",
       "\n",
       "    .dataframe thead th {\n",
       "        text-align: right;\n",
       "    }\n",
       "</style>\n",
       "<table border=\"1\" class=\"dataframe\">\n",
       "  <thead>\n",
       "    <tr style=\"text-align: right;\">\n",
       "      <th></th>\n",
       "      <th>populace</th>\n",
       "      <th>rozloha</th>\n",
       "    </tr>\n",
       "  </thead>\n",
       "  <tbody>\n",
       "    <tr>\n",
       "      <th>Dansko</th>\n",
       "      <td>5655750</td>\n",
       "      <td>42916</td>\n",
       "    </tr>\n",
       "    <tr>\n",
       "      <th>Ceska_republika</th>\n",
       "      <td>10513209</td>\n",
       "      <td>78870</td>\n",
       "    </tr>\n",
       "  </tbody>\n",
       "</table>\n",
       "</div>"
      ],
      "text/plain": [
       "                 populace  rozloha\n",
       "Dansko            5655750    42916\n",
       "Ceska_republika  10513209    78870"
      ]
     },
     "execution_count": 32,
     "metadata": {},
     "output_type": "execute_result"
    }
   ],
   "source": [
    "zeme_evropa_df.iloc[:2, :2]"
   ]
  },
  {
   "cell_type": "markdown",
   "id": "9c8091c1-4e48-4dfa-9b8b-e78c0b5254e0",
   "metadata": {},
   "source": [
    "<br>\n",
    "\n",
    "#### Transformace\n",
    "\n",
    "---"
   ]
  },
  {
   "cell_type": "code",
   "execution_count": 33,
   "id": "29bba267-0d1e-4226-9f88-d235a41863ed",
   "metadata": {},
   "outputs": [
    {
     "data": {
      "text/html": [
       "<div>\n",
       "<style scoped>\n",
       "    .dataframe tbody tr th:only-of-type {\n",
       "        vertical-align: middle;\n",
       "    }\n",
       "\n",
       "    .dataframe tbody tr th {\n",
       "        vertical-align: top;\n",
       "    }\n",
       "\n",
       "    .dataframe thead th {\n",
       "        text-align: right;\n",
       "    }\n",
       "</style>\n",
       "<table border=\"1\" class=\"dataframe\">\n",
       "  <thead>\n",
       "    <tr style=\"text-align: right;\">\n",
       "      <th></th>\n",
       "      <th>Dansko</th>\n",
       "      <th>Ceska_republika</th>\n",
       "      <th>Nemecko</th>\n",
       "      <th>Polsko</th>\n",
       "      <th>Slovensko</th>\n",
       "      <th>Rakousko</th>\n",
       "    </tr>\n",
       "  </thead>\n",
       "  <tbody>\n",
       "    <tr>\n",
       "      <th>populace</th>\n",
       "      <td>5655750</td>\n",
       "      <td>10513209</td>\n",
       "      <td>80716000</td>\n",
       "      <td>38483957</td>\n",
       "      <td>5415949</td>\n",
       "      <td>8932664</td>\n",
       "    </tr>\n",
       "    <tr>\n",
       "      <th>rozloha</th>\n",
       "      <td>42916</td>\n",
       "      <td>78870</td>\n",
       "      <td>357168</td>\n",
       "      <td>312679</td>\n",
       "      <td>49035</td>\n",
       "      <td>83878</td>\n",
       "    </tr>\n",
       "  </tbody>\n",
       "</table>\n",
       "</div>"
      ],
      "text/plain": [
       "           Dansko  Ceska_republika   Nemecko    Polsko  Slovensko  Rakousko\n",
       "populace  5655750         10513209  80716000  38483957    5415949   8932664\n",
       "rozloha     42916            78870    357168    312679      49035     83878"
      ]
     },
     "execution_count": 33,
     "metadata": {},
     "output_type": "execute_result"
    }
   ],
   "source": [
    "zeme_evropa_df.T"
   ]
  },
  {
   "cell_type": "markdown",
   "id": "aerial-spirit",
   "metadata": {},
   "source": [
    "#### ix\n",
    "\n",
    "---\n",
    "\n",
    "Jde o atribut-hybrid, který kombinuje mixování stylů z `loc` a `iloc`.\n",
    "\n",
    "Tento *legacy atribut* se již oficiálně nedoporučuje."
   ]
  },
  {
   "cell_type": "code",
   "execution_count": null,
   "id": "1a9d686c-9904-45c2-ba0a-68a73cdb8769",
   "metadata": {
    "tags": []
   },
   "outputs": [],
   "source": [
    "# zeme_evropa_df.ix[:\"Nemecko\", :2]  # iloc + loc --> dnes AttributeError"
   ]
  },
  {
   "cell_type": "markdown",
   "id": "1d342fdd-9219-4ba9-b291-a07bf970228c",
   "metadata": {},
   "source": [
    "<img src=\"https://imgs.search.brave.com/lQb3xLIlg9zkzNeOExyC9yipGtQiF1BrVKrC4BwqbF8/rs:fit:500:0:0:0/g:ce/aHR0cHM6Ly90NC5m/dGNkbi5uZXQvanBn/LzA1LzU0LzExLzY3/LzM2MF9GXzU1NDEx/Njc4Nl9DZGhSbWha/YWlaRjdvUVhVajYz/d2RTSzVjOGo5SXNL/bS5qcGc\" width=\"250\" style=\"margin-left:auto; margin-right:auto\"/>"
   ]
  },
  {
   "cell_type": "markdown",
   "id": "5548325b-6eb3-49c3-8f77-d020915bc735",
   "metadata": {
    "tags": []
   },
   "source": [
    "<br>\n",
    "\n",
    "### Metody pro průzkumu dat a nahlížení\n",
    "\n",
    "---\n",
    "\n",
    "Následující metody ti ulehčí nahlížení a prozkoumávání dat.\n",
    "\n",
    "Jsou to metody:\n",
    "* `info()`,\n",
    "* `describe()`,\n",
    "* `head()`,\n",
    "* `tail()`,"
   ]
  },
  {
   "cell_type": "code",
   "execution_count": 34,
   "id": "7c2ea6e7-dca3-47ff-a87e-dfbc3b417235",
   "metadata": {
    "tags": []
   },
   "outputs": [],
   "source": [
    "from pandas import DataFrame"
   ]
  },
  {
   "cell_type": "code",
   "execution_count": 35,
   "id": "66667b45-1c7a-4367-8c31-dd2854dec593",
   "metadata": {
    "tags": []
   },
   "outputs": [],
   "source": [
    "populace_evropa = {\n",
    "    'Dansko': 5_655_750,\n",
    "    'Ceska_republika': 10_513_209,\n",
    "    'Nemecko': 80_716_000,\n",
    "    'Polsko': 38_483_957,\n",
    "    'Slovensko': 5_415_949,\n",
    "    'Rakousko': 8_932_664\n",
    "}"
   ]
  },
  {
   "cell_type": "code",
   "execution_count": 36,
   "id": "b981005e-7357-4909-8867-e5c583cc00ef",
   "metadata": {
    "tags": []
   },
   "outputs": [],
   "source": [
    "rozloha_evropa = {\n",
    "    'Dansko': 42_916,\n",
    "    'Ceska_republika': 78_870,\n",
    "    'Nemecko': 357_168,\n",
    "    'Polsko': 312_679,\n",
    "    'Slovensko': 49_035,\n",
    "    'Rakousko': 83_878\n",
    "}"
   ]
  },
  {
   "cell_type": "code",
   "execution_count": 37,
   "id": "7d6b99c1-da7e-421e-9be4-d64b1846bd6e",
   "metadata": {
    "tags": []
   },
   "outputs": [],
   "source": [
    "zeme_evropa_df = DataFrame({\"populace\": populace_evropa,\n",
    "                            \"rozloha\": rozloha_evropa})"
   ]
  },
  {
   "cell_type": "markdown",
   "id": "f7833116-dace-4fd4-bade-092aa627d051",
   "metadata": {
    "tags": []
   },
   "source": [
    "<br>\n",
    "\n",
    "#### Metoda `info()`\n",
    "\n",
    "---\n",
    "\n",
    "Jde o obecnou informaci o DataFrame:"
   ]
  },
  {
   "cell_type": "code",
   "execution_count": 41,
   "id": "3e064153-ca04-410e-a079-58be4329e499",
   "metadata": {
    "tags": []
   },
   "outputs": [
    {
     "name": "stdout",
     "output_type": "stream",
     "text": [
      "<class 'pandas.core.frame.DataFrame'>\n",
      "Index: 6 entries, Dansko to Rakousko\n",
      "Data columns (total 2 columns):\n",
      " #   Column    Non-Null Count  Dtype\n",
      "---  ------    --------------  -----\n",
      " 0   populace  6 non-null      int64\n",
      " 1   rozloha   6 non-null      int64\n",
      "dtypes: int64(2)\n",
      "memory usage: 144.0+ bytes\n"
     ]
    }
   ],
   "source": [
    "zeme_evropa_df.info()"
   ]
  },
  {
   "cell_type": "markdown",
   "id": "edd791a7-f355-4e1d-a830-5f5e72bfec8b",
   "metadata": {},
   "source": [
    "Z výstupu potom přečteš:\n",
    "* počet indexů,\n",
    "* počet sloupců,\n",
    "* počet neprázdných, nenulových hodnot,\n",
    "* datové typy pro sloupce."
   ]
  },
  {
   "cell_type": "markdown",
   "id": "5629c921-6ba8-47e8-973e-b73d1419cc37",
   "metadata": {
    "tags": []
   },
   "source": [
    "<br>\n",
    "\n",
    "#### Metoda `describe()`\n",
    "\n",
    "---\n",
    "\n",
    "Tato metoda ti nepodává základní informaci o DataFrame, ale spíše **pracuje s číselnými sloupci**.\n",
    "\n",
    "\n",
    "Poskytuje základní **statistické přehledy** jako:\n",
    "* průměr,\n",
    "* medián,\n",
    "* minimální & maximální hodnota,\n",
    "* rozptyl."
   ]
  },
  {
   "cell_type": "code",
   "execution_count": 43,
   "id": "298595b8-7f85-4111-8a7b-254c440b57b2",
   "metadata": {},
   "outputs": [
    {
     "data": {
      "text/html": [
       "<div>\n",
       "<style scoped>\n",
       "    .dataframe tbody tr th:only-of-type {\n",
       "        vertical-align: middle;\n",
       "    }\n",
       "\n",
       "    .dataframe tbody tr th {\n",
       "        vertical-align: top;\n",
       "    }\n",
       "\n",
       "    .dataframe thead th {\n",
       "        text-align: right;\n",
       "    }\n",
       "</style>\n",
       "<table border=\"1\" class=\"dataframe\">\n",
       "  <thead>\n",
       "    <tr style=\"text-align: right;\">\n",
       "      <th></th>\n",
       "      <th>populace</th>\n",
       "      <th>rozloha</th>\n",
       "    </tr>\n",
       "  </thead>\n",
       "  <tbody>\n",
       "    <tr>\n",
       "      <th>count</th>\n",
       "      <td>6.000000e+00</td>\n",
       "      <td>6.000000</td>\n",
       "    </tr>\n",
       "    <tr>\n",
       "      <th>mean</th>\n",
       "      <td>2.495292e+07</td>\n",
       "      <td>154091.000000</td>\n",
       "    </tr>\n",
       "    <tr>\n",
       "      <th>std</th>\n",
       "      <td>3.003943e+07</td>\n",
       "      <td>141686.364654</td>\n",
       "    </tr>\n",
       "    <tr>\n",
       "      <th>min</th>\n",
       "      <td>5.415949e+06</td>\n",
       "      <td>42916.000000</td>\n",
       "    </tr>\n",
       "    <tr>\n",
       "      <th>25%</th>\n",
       "      <td>6.474978e+06</td>\n",
       "      <td>56493.750000</td>\n",
       "    </tr>\n",
       "    <tr>\n",
       "      <th>50%</th>\n",
       "      <td>9.722936e+06</td>\n",
       "      <td>81374.000000</td>\n",
       "    </tr>\n",
       "    <tr>\n",
       "      <th>75%</th>\n",
       "      <td>3.149127e+07</td>\n",
       "      <td>255478.750000</td>\n",
       "    </tr>\n",
       "    <tr>\n",
       "      <th>max</th>\n",
       "      <td>8.071600e+07</td>\n",
       "      <td>357168.000000</td>\n",
       "    </tr>\n",
       "  </tbody>\n",
       "</table>\n",
       "</div>"
      ],
      "text/plain": [
       "           populace        rozloha\n",
       "count  6.000000e+00       6.000000\n",
       "mean   2.495292e+07  154091.000000\n",
       "std    3.003943e+07  141686.364654\n",
       "min    5.415949e+06   42916.000000\n",
       "25%    6.474978e+06   56493.750000\n",
       "50%    9.722936e+06   81374.000000\n",
       "75%    3.149127e+07  255478.750000\n",
       "max    8.071600e+07  357168.000000"
      ]
     },
     "execution_count": 43,
     "metadata": {},
     "output_type": "execute_result"
    }
   ],
   "source": [
    "zeme_evropa_df.describe()"
   ]
  },
  {
   "cell_type": "markdown",
   "id": "3db0f104-3479-4323-b544-728a4e56e7d3",
   "metadata": {},
   "source": [
    "<br>\n",
    "\n",
    "Metoda `describe` je použitelná jak v případě sloupců, tak tabulek."
   ]
  },
  {
   "cell_type": "code",
   "execution_count": 42,
   "id": "24e47b9a-3207-46c2-a4fb-f3d92db3931f",
   "metadata": {
    "tags": []
   },
   "outputs": [
    {
     "data": {
      "text/plain": [
       "count    6.000000e+00\n",
       "mean     2.495292e+07\n",
       "std      3.003943e+07\n",
       "min      5.415949e+06\n",
       "25%      6.474978e+06\n",
       "50%      9.722936e+06\n",
       "75%      3.149127e+07\n",
       "max      8.071600e+07\n",
       "Name: populace, dtype: float64"
      ]
     },
     "execution_count": 42,
     "metadata": {},
     "output_type": "execute_result"
    }
   ],
   "source": [
    "zeme_evropa_df['populace'].describe()"
   ]
  },
  {
   "cell_type": "code",
   "execution_count": 45,
   "id": "ccdd46ad-dc47-4c7f-bc75-d9bfe3a90184",
   "metadata": {},
   "outputs": [
    {
     "data": {
      "text/plain": [
       "count    6.000000e+00\n",
       "mean     2.495292e+07\n",
       "std      3.003943e+07\n",
       "min      5.415949e+06\n",
       "25%      6.474978e+06\n",
       "50%      9.722936e+06\n",
       "75%      3.149127e+07\n",
       "max      8.071600e+07\n",
       "Name: populace, dtype: float64"
      ]
     },
     "execution_count": 45,
     "metadata": {},
     "output_type": "execute_result"
    }
   ],
   "source": [
    "zeme_evropa_df.populace.describe()"
   ]
  },
  {
   "cell_type": "markdown",
   "id": "b3b08bae-9e35-4dc0-bcea-93d0b2de2c77",
   "metadata": {
    "tags": []
   },
   "source": [
    "<br>\n",
    "\n",
    "#### Metody `head()` a `tail()`\n",
    "\n",
    "---\n",
    "\n",
    "Obě metody pracují jako náhledové metody. K lepšímu pohledu na konkrétní řádky.\n",
    "\n",
    "1. `head`, prozkoumá **prvních pět řádků** (defaultně),\n",
    "2. `tail`, prozkoumá **posledních pět řádků** (defaultně),"
   ]
  },
  {
   "cell_type": "code",
   "execution_count": 46,
   "id": "5a52b8e1-5ed8-4804-bfee-8fd012cb458f",
   "metadata": {
    "tags": []
   },
   "outputs": [
    {
     "data": {
      "text/html": [
       "<div>\n",
       "<style scoped>\n",
       "    .dataframe tbody tr th:only-of-type {\n",
       "        vertical-align: middle;\n",
       "    }\n",
       "\n",
       "    .dataframe tbody tr th {\n",
       "        vertical-align: top;\n",
       "    }\n",
       "\n",
       "    .dataframe thead th {\n",
       "        text-align: right;\n",
       "    }\n",
       "</style>\n",
       "<table border=\"1\" class=\"dataframe\">\n",
       "  <thead>\n",
       "    <tr style=\"text-align: right;\">\n",
       "      <th></th>\n",
       "      <th>populace</th>\n",
       "      <th>rozloha</th>\n",
       "    </tr>\n",
       "  </thead>\n",
       "  <tbody>\n",
       "    <tr>\n",
       "      <th>Dansko</th>\n",
       "      <td>5655750</td>\n",
       "      <td>42916</td>\n",
       "    </tr>\n",
       "    <tr>\n",
       "      <th>Ceska_republika</th>\n",
       "      <td>10513209</td>\n",
       "      <td>78870</td>\n",
       "    </tr>\n",
       "    <tr>\n",
       "      <th>Nemecko</th>\n",
       "      <td>80716000</td>\n",
       "      <td>357168</td>\n",
       "    </tr>\n",
       "  </tbody>\n",
       "</table>\n",
       "</div>"
      ],
      "text/plain": [
       "                 populace  rozloha\n",
       "Dansko            5655750    42916\n",
       "Ceska_republika  10513209    78870\n",
       "Nemecko          80716000   357168"
      ]
     },
     "execution_count": 46,
     "metadata": {},
     "output_type": "execute_result"
    }
   ],
   "source": [
    "zeme_evropa_df.head(3)  # truncate, "
   ]
  },
  {
   "cell_type": "code",
   "execution_count": 47,
   "id": "59ea6c9c-3d21-418e-baa0-5389af144df1",
   "metadata": {
    "tags": []
   },
   "outputs": [
    {
     "data": {
      "text/html": [
       "<div>\n",
       "<style scoped>\n",
       "    .dataframe tbody tr th:only-of-type {\n",
       "        vertical-align: middle;\n",
       "    }\n",
       "\n",
       "    .dataframe tbody tr th {\n",
       "        vertical-align: top;\n",
       "    }\n",
       "\n",
       "    .dataframe thead th {\n",
       "        text-align: right;\n",
       "    }\n",
       "</style>\n",
       "<table border=\"1\" class=\"dataframe\">\n",
       "  <thead>\n",
       "    <tr style=\"text-align: right;\">\n",
       "      <th></th>\n",
       "      <th>populace</th>\n",
       "      <th>rozloha</th>\n",
       "    </tr>\n",
       "  </thead>\n",
       "  <tbody>\n",
       "    <tr>\n",
       "      <th>Nemecko</th>\n",
       "      <td>80716000</td>\n",
       "      <td>357168</td>\n",
       "    </tr>\n",
       "    <tr>\n",
       "      <th>Polsko</th>\n",
       "      <td>38483957</td>\n",
       "      <td>312679</td>\n",
       "    </tr>\n",
       "    <tr>\n",
       "      <th>Slovensko</th>\n",
       "      <td>5415949</td>\n",
       "      <td>49035</td>\n",
       "    </tr>\n",
       "    <tr>\n",
       "      <th>Rakousko</th>\n",
       "      <td>8932664</td>\n",
       "      <td>83878</td>\n",
       "    </tr>\n",
       "  </tbody>\n",
       "</table>\n",
       "</div>"
      ],
      "text/plain": [
       "           populace  rozloha\n",
       "Nemecko    80716000   357168\n",
       "Polsko     38483957   312679\n",
       "Slovensko   5415949    49035\n",
       "Rakousko    8932664    83878"
      ]
     },
     "execution_count": 47,
     "metadata": {},
     "output_type": "execute_result"
    }
   ],
   "source": [
    "zeme_evropa_df.tail(4)"
   ]
  },
  {
   "cell_type": "code",
   "execution_count": 49,
   "id": "fb916277-0c23-486f-b3da-19cd5ee7c385",
   "metadata": {},
   "outputs": [
    {
     "data": {
      "text/plain": [
       "Dansko              42916\n",
       "Ceska_republika     78870\n",
       "Nemecko            357168\n",
       "Polsko             312679\n",
       "Slovensko           49035\n",
       "Rakousko            83878\n",
       "Name: rozloha, dtype: int64"
      ]
     },
     "execution_count": 49,
     "metadata": {},
     "output_type": "execute_result"
    }
   ],
   "source": [
    "zeme_evropa_df['rozloha']"
   ]
  },
  {
   "cell_type": "code",
   "execution_count": 53,
   "id": "2c588625-e502-486a-b16d-4563d1486371",
   "metadata": {},
   "outputs": [
    {
     "data": {
      "text/html": [
       "<div>\n",
       "<style scoped>\n",
       "    .dataframe tbody tr th:only-of-type {\n",
       "        vertical-align: middle;\n",
       "    }\n",
       "\n",
       "    .dataframe tbody tr th {\n",
       "        vertical-align: top;\n",
       "    }\n",
       "\n",
       "    .dataframe thead th {\n",
       "        text-align: right;\n",
       "    }\n",
       "</style>\n",
       "<table border=\"1\" class=\"dataframe\">\n",
       "  <thead>\n",
       "    <tr style=\"text-align: right;\">\n",
       "      <th></th>\n",
       "      <th>populace</th>\n",
       "      <th>rozloha</th>\n",
       "    </tr>\n",
       "  </thead>\n",
       "  <tbody>\n",
       "    <tr>\n",
       "      <th>Nemecko</th>\n",
       "      <td>80716000</td>\n",
       "      <td>357168</td>\n",
       "    </tr>\n",
       "    <tr>\n",
       "      <th>Polsko</th>\n",
       "      <td>38483957</td>\n",
       "      <td>312679</td>\n",
       "    </tr>\n",
       "    <tr>\n",
       "      <th>Rakousko</th>\n",
       "      <td>8932664</td>\n",
       "      <td>83878</td>\n",
       "    </tr>\n",
       "    <tr>\n",
       "      <th>Ceska_republika</th>\n",
       "      <td>10513209</td>\n",
       "      <td>78870</td>\n",
       "    </tr>\n",
       "    <tr>\n",
       "      <th>Slovensko</th>\n",
       "      <td>5415949</td>\n",
       "      <td>49035</td>\n",
       "    </tr>\n",
       "    <tr>\n",
       "      <th>Dansko</th>\n",
       "      <td>5655750</td>\n",
       "      <td>42916</td>\n",
       "    </tr>\n",
       "  </tbody>\n",
       "</table>\n",
       "</div>"
      ],
      "text/plain": [
       "                 populace  rozloha\n",
       "Nemecko          80716000   357168\n",
       "Polsko           38483957   312679\n",
       "Rakousko          8932664    83878\n",
       "Ceska_republika  10513209    78870\n",
       "Slovensko         5415949    49035\n",
       "Dansko            5655750    42916"
      ]
     },
     "execution_count": 53,
     "metadata": {},
     "output_type": "execute_result"
    }
   ],
   "source": [
    "zeme_evropa_df.sort_values(by=['rozloha'], ascending=False)"
   ]
  },
  {
   "cell_type": "markdown",
   "id": "aware-respondent",
   "metadata": {},
   "source": [
    "<br>\n",
    "\n",
    "**🧠 CVIČENÍ 🧠, diktát s pandama.**"
   ]
  },
  {
   "cell_type": "markdown",
   "id": "40a104db-ed85-4aca-9fa2-b973c8de0d64",
   "metadata": {},
   "source": [
    "**Nahraj zadaný soubor do proměnné `hry_df`**"
   ]
  },
  {
   "cell_type": "code",
   "execution_count": 56,
   "id": "0d5b1134-6b8f-458c-b714-91e17ba09268",
   "metadata": {
    "tags": []
   },
   "outputs": [],
   "source": [
    "from pandas import read_csv, DataFrame"
   ]
  },
  {
   "cell_type": "code",
   "execution_count": 59,
   "id": "a6f70cfe-1c73-42d5-8af8-0fb53ed0ca74",
   "metadata": {
    "tags": []
   },
   "outputs": [],
   "source": [
    "hry_df = read_csv('../onsite/games.csv')"
   ]
  },
  {
   "cell_type": "code",
   "execution_count": 62,
   "id": "57804925-b3b8-48db-8d5a-2694872c20ea",
   "metadata": {},
   "outputs": [],
   "source": [
    "# hry_df.info()"
   ]
  },
  {
   "cell_type": "markdown",
   "id": "b60cbac0-d0af-434c-ade2-9e8ad5b7b63a",
   "metadata": {
    "tags": []
   },
   "source": [
    "<details>\n",
    "    <summary>▶️ Řešení</summary>\n",
    "    \n",
    "```python\n",
    "hry_df = read_csv(\"../onsite/lesson02/games.csv\")\n",
    "```\n",
    "</details>"
   ]
  },
  {
   "cell_type": "markdown",
   "id": "3eb3ce39-d550-40cb-9dc6-e45c0bc62b2b",
   "metadata": {},
   "source": [
    "<br>\n",
    "\n",
    "**Vytvoř proměnnou `jen_souhrn`, která obsahuje pouze sloupec `Summary`**"
   ]
  },
  {
   "cell_type": "code",
   "execution_count": 64,
   "id": "d0e56441-9159-46df-adff-dfa64381d8f6",
   "metadata": {
    "tags": []
   },
   "outputs": [],
   "source": [
    "jen_souhrn = hry_df['Summary']"
   ]
  },
  {
   "cell_type": "code",
   "execution_count": 65,
   "id": "6b54cc66-0432-4a5e-9135-b4bab5d615ae",
   "metadata": {},
   "outputs": [
    {
     "data": {
      "text/plain": [
       "pandas.core.series.Series"
      ]
     },
     "execution_count": 65,
     "metadata": {},
     "output_type": "execute_result"
    }
   ],
   "source": [
    "type(jen_souhrn)"
   ]
  },
  {
   "cell_type": "markdown",
   "id": "04c8c949-f1a9-44f0-9307-8f0167b4dbe5",
   "metadata": {},
   "source": [
    "<details>\n",
    "    <summary>▶️ Řešení</summary>\n",
    "    \n",
    "    ```\n",
    "    souhrn = hry_df.Summary\n",
    "    ```\n",
    "</details>"
   ]
  },
  {
   "cell_type": "markdown",
   "id": "b70f1e19-22d7-44a7-95ac-720d40c35394",
   "metadata": {},
   "source": [
    "<br>\n",
    "\n",
    "**Vytvoř proměnnou `prvni_souhrn`, která obsahuje pouze první řádek ze sloupce `Summary`**"
   ]
  },
  {
   "cell_type": "code",
   "execution_count": 70,
   "id": "1fe33b4e-8dfa-47ed-bc57-a0be03d9a5d9",
   "metadata": {
    "tags": []
   },
   "outputs": [],
   "source": [
    "prvni_souhrn = hry_df.loc[0, 'Summary']"
   ]
  },
  {
   "cell_type": "code",
   "execution_count": 71,
   "id": "8f1c4848-15da-400f-9af3-a42bed0993e7",
   "metadata": {},
   "outputs": [
    {
     "data": {
      "text/plain": [
       "'Elden Ring is a fantasy, action and open world game with RPG elements such as stats, weapons and spells. Rise, Tarnished, and be guided by grace to brandish the power of the Elden Ring and become an Elden Lord in the Lands Between.'"
      ]
     },
     "execution_count": 71,
     "metadata": {},
     "output_type": "execute_result"
    }
   ],
   "source": [
    "prvni_souhrn"
   ]
  },
  {
   "cell_type": "markdown",
   "id": "dfd72d8a-6458-4abc-8789-f5fd4b8e0990",
   "metadata": {},
   "source": [
    "<details>\n",
    "    <summary>▶️ Řešení</summary>\n",
    "    \n",
    "    ```\n",
    "    prvni_radek = hry_df.Summary.iloc[0]\n",
    "    ```\n",
    "</details>"
   ]
  },
  {
   "cell_type": "markdown",
   "id": "473b8d7c-b1f3-4320-9f15-4f49df310f0b",
   "metadata": {},
   "source": [
    "<br>\n",
    "\n",
    "**Vytvoř proměnnou `prvni_radek_tab`, která obsahuje celý první záznam z tabulky, z `hry_df`**"
   ]
  },
  {
   "cell_type": "code",
   "execution_count": 73,
   "id": "dbfa6e26-692f-49ca-81be-ddbf93f5834e",
   "metadata": {},
   "outputs": [],
   "source": [
    "prvni_radek_tab = hry_df.iloc[0]"
   ]
  },
  {
   "cell_type": "markdown",
   "id": "c0941964-3f56-475c-afbb-b3ab2e15d6e2",
   "metadata": {},
   "source": [
    "<details>\n",
    "    <summary>▶️ Řešení</summary>\n",
    "    \n",
    "    ```\n",
    "    prvni_radek_tab = hry_df.iloc[0]\n",
    "    ```\n",
    "</details>"
   ]
  },
  {
   "cell_type": "markdown",
   "id": "1bbe62a1-0d7d-4cdf-845d-3822deabdb4c",
   "metadata": {},
   "source": [
    "<br>\n",
    "\n",
    "**Vytvoř proměnnou `prvnich_deset_souhrnu`, kam načti prvních deset řádků z vybraného sloupečku `Summary`**"
   ]
  },
  {
   "cell_type": "code",
   "execution_count": 94,
   "id": "cfee1c9a-d177-4123-8e51-9c8a742deaa6",
   "metadata": {},
   "outputs": [],
   "source": [
    "# hry_df.info()"
   ]
  },
  {
   "cell_type": "code",
   "execution_count": 93,
   "id": "bc5deddb-c7de-4b5d-9b64-8b4b0e267daa",
   "metadata": {
    "tags": []
   },
   "outputs": [],
   "source": [
    "prvnich_deset_souhrnu = hry_df.iloc[:10]['Summary']"
   ]
  },
  {
   "cell_type": "markdown",
   "id": "781e2ebd-4eec-476d-b156-7d51fc3462d9",
   "metadata": {},
   "source": [
    "<details>\n",
    "    <summary>▶️ Řešení</summary>\n",
    "    \n",
    "    ```\n",
    "    prvni_souhrny = hry_df.Summary.iloc[:10]\n",
    "    ```\n",
    "</details>"
   ]
  },
  {
   "cell_type": "markdown",
   "id": "2b66641a-9a02-434c-ae8d-984319b2c625",
   "metadata": {},
   "source": [
    "<br>\n",
    "\n",
    "**Vytvoř proměnnou `vzorek_indexu`, kam načti záznamy z indexů **2, 4, 5, 6, 7** a **9** z celé tabulky**"
   ]
  },
  {
   "cell_type": "code",
   "execution_count": 104,
   "id": "2533cb3b-a207-40a3-8806-0b42716c4fd1",
   "metadata": {
    "tags": []
   },
   "outputs": [],
   "source": [
    "vzorek_indexu = hry_df.iloc[[2, 4, 5, 6, 7, 9]]"
   ]
  },
  {
   "cell_type": "markdown",
   "id": "1c4f88ef-4c30-46e6-801e-77c2889ad41a",
   "metadata": {},
   "source": [
    "<details>\n",
    "    <summary>▶️ Řešení</summary>\n",
    "    \n",
    "    ```\n",
    "    vzorek_indexu = hry_df.loc[[2, 4, 5, 6, 7, 9]]\n",
    "    ```\n",
    "</details>"
   ]
  },
  {
   "cell_type": "markdown",
   "id": "11140ddc-dbe5-4185-bd4c-3f1dbcb4d8c5",
   "metadata": {},
   "source": [
    "<br>\n",
    "\n",
    "**Vytvoř proměnnou `hodnoceni`, načti záznamy z indexů **1, 5, 10, 100, 1000** z celé tabulky a vyber pouze sloupečky `Title`, `Rating`, `Release Date`, `Number of Reviews`**"
   ]
  },
  {
   "cell_type": "code",
   "execution_count": 117,
   "id": "23c8dd5b-df57-4b68-aee5-daa8cad968d0",
   "metadata": {
    "tags": []
   },
   "outputs": [],
   "source": [
    "hodnoceni = hry_df.iloc[[1, 5, 10, 100, 1000]][['Title', 'Rating', 'Release Date', 'Number of Reviews']]"
   ]
  },
  {
   "cell_type": "markdown",
   "id": "96a30e8f-c296-4d67-b9e7-28f999da868a",
   "metadata": {},
   "source": [
    "<details>\n",
    "    <summary>▶️ Řešení</summary>\n",
    "    \n",
    "    ```\n",
    "    hodnoceni = hry_df.loc[[1, 5, 10, 100, 1000], [\"Title\", \"Rating\", \"Release Date\", \"Number of Reviews\"]]\n",
    "    ```\n",
    "</details>"
   ]
  },
  {
   "cell_type": "markdown",
   "id": "f44ba851-3999-4441-9c2d-3f2b28f77a3a",
   "metadata": {},
   "source": [
    "<br>\n",
    "\n",
    "**Vytvoř proměnnou `prvnich_sto`, která obsahuje pouze sloupečky `Title`a `Rating`. Dále potřebuješ uložit pouze **prvních 100 indexů****"
   ]
  },
  {
   "cell_type": "code",
   "execution_count": 124,
   "id": "000b5b29-77be-4c68-850e-993ba908f9ba",
   "metadata": {
    "tags": []
   },
   "outputs": [],
   "source": [
    "prvnich_sto = hry_df.iloc[:100][['Title', 'Rating']]"
   ]
  },
  {
   "cell_type": "code",
   "execution_count": 131,
   "id": "3b53db1d-2ce5-49d2-9b8a-d423ec3995c2",
   "metadata": {},
   "outputs": [],
   "source": [
    "# hry_df.loc[:99][['Title', 'Rating']]"
   ]
  },
  {
   "cell_type": "markdown",
   "id": "1a9c0070-e3a0-46ef-9101-f9a6d355f19b",
   "metadata": {},
   "source": [
    "<details>\n",
    "    <summary>▶️ Řešení</summary>\n",
    "    \n",
    "    ```\n",
    "    prvnich_sto = hry_df.loc[:99, [\"Title\", \"Rating\"]]\n",
    "    ```\n",
    "</details>"
   ]
  },
  {
   "cell_type": "markdown",
   "id": "dc4daab5-d2e5-4f0e-aa2b-406f33ad7c06",
   "metadata": {},
   "source": [
    "<br>\n",
    "\n",
    "**Vytvoř proměnnou `vyber`, která obsahuje dva sloupečky `Title` a `Rating`, kde ve sloupečku `rating` chceš získat pouze takové tituly, které mají hodnocení větší nebo rovnou `4.6`**"
   ]
  },
  {
   "cell_type": "code",
   "execution_count": 142,
   "id": "77f2c5e8-76b1-4b6f-afce-003e9e45134e",
   "metadata": {},
   "outputs": [
    {
     "data": {
      "text/html": [
       "<div>\n",
       "<style scoped>\n",
       "    .dataframe tbody tr th:only-of-type {\n",
       "        vertical-align: middle;\n",
       "    }\n",
       "\n",
       "    .dataframe tbody tr th {\n",
       "        vertical-align: top;\n",
       "    }\n",
       "\n",
       "    .dataframe thead th {\n",
       "        text-align: right;\n",
       "    }\n",
       "</style>\n",
       "<table border=\"1\" class=\"dataframe\">\n",
       "  <thead>\n",
       "    <tr style=\"text-align: right;\">\n",
       "      <th></th>\n",
       "      <th>Title</th>\n",
       "      <th>Rating</th>\n",
       "    </tr>\n",
       "  </thead>\n",
       "  <tbody>\n",
       "    <tr>\n",
       "      <th>28</th>\n",
       "      <td>Disco Elysium: The Final Cut</td>\n",
       "      <td>4.6</td>\n",
       "    </tr>\n",
       "    <tr>\n",
       "      <th>43</th>\n",
       "      <td>Outer Wilds</td>\n",
       "      <td>4.6</td>\n",
       "    </tr>\n",
       "    <tr>\n",
       "      <th>139</th>\n",
       "      <td>Disco Elysium</td>\n",
       "      <td>4.6</td>\n",
       "    </tr>\n",
       "    <tr>\n",
       "      <th>252</th>\n",
       "      <td>Umineko: When They Cry Chiru</td>\n",
       "      <td>4.6</td>\n",
       "    </tr>\n",
       "    <tr>\n",
       "      <th>297</th>\n",
       "      <td>Bloodborne: The Old Hunters</td>\n",
       "      <td>4.6</td>\n",
       "    </tr>\n",
       "    <tr>\n",
       "      <th>354</th>\n",
       "      <td>Disco Elysium: The Final Cut</td>\n",
       "      <td>4.6</td>\n",
       "    </tr>\n",
       "    <tr>\n",
       "      <th>369</th>\n",
       "      <td>Outer Wilds</td>\n",
       "      <td>4.6</td>\n",
       "    </tr>\n",
       "    <tr>\n",
       "      <th>428</th>\n",
       "      <td>Disco Elysium</td>\n",
       "      <td>4.6</td>\n",
       "    </tr>\n",
       "    <tr>\n",
       "      <th>539</th>\n",
       "      <td>Umineko: When They Cry Chiru</td>\n",
       "      <td>4.6</td>\n",
       "    </tr>\n",
       "    <tr>\n",
       "      <th>717</th>\n",
       "      <td>Hitman World of Assassination</td>\n",
       "      <td>4.6</td>\n",
       "    </tr>\n",
       "    <tr>\n",
       "      <th>804</th>\n",
       "      <td>Disco Elysium: The Final Cut</td>\n",
       "      <td>4.6</td>\n",
       "    </tr>\n",
       "    <tr>\n",
       "      <th>819</th>\n",
       "      <td>Outer Wilds</td>\n",
       "      <td>4.6</td>\n",
       "    </tr>\n",
       "    <tr>\n",
       "      <th>894</th>\n",
       "      <td>Disco Elysium</td>\n",
       "      <td>4.6</td>\n",
       "    </tr>\n",
       "    <tr>\n",
       "      <th>957</th>\n",
       "      <td>Final Fantasy XIV: Endwalker</td>\n",
       "      <td>4.6</td>\n",
       "    </tr>\n",
       "    <tr>\n",
       "      <th>991</th>\n",
       "      <td>Metal Gear Solid 3: Subsistence</td>\n",
       "      <td>4.6</td>\n",
       "    </tr>\n",
       "    <tr>\n",
       "      <th>1035</th>\n",
       "      <td>Bloodborne: The Old Hunters</td>\n",
       "      <td>4.6</td>\n",
       "    </tr>\n",
       "    <tr>\n",
       "      <th>1073</th>\n",
       "      <td>Final Fantasy XIV: Shadowbringers</td>\n",
       "      <td>4.6</td>\n",
       "    </tr>\n",
       "    <tr>\n",
       "      <th>1090</th>\n",
       "      <td>The Great Ace Attorney 2: Resolve</td>\n",
       "      <td>4.6</td>\n",
       "    </tr>\n",
       "    <tr>\n",
       "      <th>1104</th>\n",
       "      <td>Sekiro: Shadows Die Twice - GOTY Edition</td>\n",
       "      <td>4.6</td>\n",
       "    </tr>\n",
       "    <tr>\n",
       "      <th>1138</th>\n",
       "      <td>Half-Life: Alyx</td>\n",
       "      <td>4.6</td>\n",
       "    </tr>\n",
       "    <tr>\n",
       "      <th>1153</th>\n",
       "      <td>Dwarf Fortress</td>\n",
       "      <td>4.6</td>\n",
       "    </tr>\n",
       "    <tr>\n",
       "      <th>1198</th>\n",
       "      <td>Metal Gear Solid 3: Snake Eater HD Edition</td>\n",
       "      <td>4.6</td>\n",
       "    </tr>\n",
       "    <tr>\n",
       "      <th>1252</th>\n",
       "      <td>Elden Ring: Shadow of the Erdtree</td>\n",
       "      <td>4.8</td>\n",
       "    </tr>\n",
       "    <tr>\n",
       "      <th>1286</th>\n",
       "      <td>Tokyo Necro</td>\n",
       "      <td>4.6</td>\n",
       "    </tr>\n",
       "    <tr>\n",
       "      <th>1322</th>\n",
       "      <td>Bloodborne: Game of the Year Edition</td>\n",
       "      <td>4.6</td>\n",
       "    </tr>\n",
       "  </tbody>\n",
       "</table>\n",
       "</div>"
      ],
      "text/plain": [
       "                                           Title  Rating\n",
       "28                  Disco Elysium: The Final Cut     4.6\n",
       "43                                   Outer Wilds     4.6\n",
       "139                                Disco Elysium     4.6\n",
       "252                 Umineko: When They Cry Chiru     4.6\n",
       "297                  Bloodborne: The Old Hunters     4.6\n",
       "354                 Disco Elysium: The Final Cut     4.6\n",
       "369                                  Outer Wilds     4.6\n",
       "428                                Disco Elysium     4.6\n",
       "539                 Umineko: When They Cry Chiru     4.6\n",
       "717                Hitman World of Assassination     4.6\n",
       "804                 Disco Elysium: The Final Cut     4.6\n",
       "819                                  Outer Wilds     4.6\n",
       "894                                Disco Elysium     4.6\n",
       "957                 Final Fantasy XIV: Endwalker     4.6\n",
       "991              Metal Gear Solid 3: Subsistence     4.6\n",
       "1035                 Bloodborne: The Old Hunters     4.6\n",
       "1073           Final Fantasy XIV: Shadowbringers     4.6\n",
       "1090           The Great Ace Attorney 2: Resolve     4.6\n",
       "1104    Sekiro: Shadows Die Twice - GOTY Edition     4.6\n",
       "1138                             Half-Life: Alyx     4.6\n",
       "1153                              Dwarf Fortress     4.6\n",
       "1198  Metal Gear Solid 3: Snake Eater HD Edition     4.6\n",
       "1252           Elden Ring: Shadow of the Erdtree     4.8\n",
       "1286                                 Tokyo Necro     4.6\n",
       "1322        Bloodborne: Game of the Year Edition     4.6"
      ]
     },
     "execution_count": 142,
     "metadata": {},
     "output_type": "execute_result"
    }
   ],
   "source": [
    "vyber = hry_df[hry_df['Rating'] >= 4.6][['Title', 'Rating']]"
   ]
  },
  {
   "cell_type": "code",
   "execution_count": 132,
   "id": "4df94e2b-db40-4209-a90c-3a203be0c231",
   "metadata": {
    "tags": []
   },
   "outputs": [
    {
     "data": {
      "text/html": [
       "<div>\n",
       "<style scoped>\n",
       "    .dataframe tbody tr th:only-of-type {\n",
       "        vertical-align: middle;\n",
       "    }\n",
       "\n",
       "    .dataframe tbody tr th {\n",
       "        vertical-align: top;\n",
       "    }\n",
       "\n",
       "    .dataframe thead th {\n",
       "        text-align: right;\n",
       "    }\n",
       "</style>\n",
       "<table border=\"1\" class=\"dataframe\">\n",
       "  <thead>\n",
       "    <tr style=\"text-align: right;\">\n",
       "      <th></th>\n",
       "      <th>Title</th>\n",
       "      <th>Rating</th>\n",
       "    </tr>\n",
       "  </thead>\n",
       "  <tbody>\n",
       "    <tr>\n",
       "      <th>0</th>\n",
       "      <td>Elden Ring</td>\n",
       "      <td>4.5</td>\n",
       "    </tr>\n",
       "    <tr>\n",
       "      <th>1</th>\n",
       "      <td>Hades</td>\n",
       "      <td>4.3</td>\n",
       "    </tr>\n",
       "    <tr>\n",
       "      <th>2</th>\n",
       "      <td>The Legend of Zelda: Breath of the Wild</td>\n",
       "      <td>4.4</td>\n",
       "    </tr>\n",
       "    <tr>\n",
       "      <th>3</th>\n",
       "      <td>Undertale</td>\n",
       "      <td>4.2</td>\n",
       "    </tr>\n",
       "    <tr>\n",
       "      <th>4</th>\n",
       "      <td>Hollow Knight</td>\n",
       "      <td>4.4</td>\n",
       "    </tr>\n",
       "    <tr>\n",
       "      <th>...</th>\n",
       "      <td>...</td>\n",
       "      <td>...</td>\n",
       "    </tr>\n",
       "    <tr>\n",
       "      <th>95</th>\n",
       "      <td>Metroid Prime Remastered</td>\n",
       "      <td>4.5</td>\n",
       "    </tr>\n",
       "    <tr>\n",
       "      <th>96</th>\n",
       "      <td>Halo Infinite</td>\n",
       "      <td>3.3</td>\n",
       "    </tr>\n",
       "    <tr>\n",
       "      <th>97</th>\n",
       "      <td>Batman: Arkham Asylum</td>\n",
       "      <td>3.9</td>\n",
       "    </tr>\n",
       "    <tr>\n",
       "      <th>98</th>\n",
       "      <td>Super Mario Sunshine</td>\n",
       "      <td>3.7</td>\n",
       "    </tr>\n",
       "    <tr>\n",
       "      <th>99</th>\n",
       "      <td>Mother 3</td>\n",
       "      <td>4.5</td>\n",
       "    </tr>\n",
       "  </tbody>\n",
       "</table>\n",
       "<p>100 rows × 2 columns</p>\n",
       "</div>"
      ],
      "text/plain": [
       "                                      Title  Rating\n",
       "0                                Elden Ring     4.5\n",
       "1                                     Hades     4.3\n",
       "2   The Legend of Zelda: Breath of the Wild     4.4\n",
       "3                                 Undertale     4.2\n",
       "4                             Hollow Knight     4.4\n",
       "..                                      ...     ...\n",
       "95                 Metroid Prime Remastered     4.5\n",
       "96                            Halo Infinite     3.3\n",
       "97                    Batman: Arkham Asylum     3.9\n",
       "98                     Super Mario Sunshine     3.7\n",
       "99                                 Mother 3     4.5\n",
       "\n",
       "[100 rows x 2 columns]"
      ]
     },
     "execution_count": 132,
     "metadata": {},
     "output_type": "execute_result"
    }
   ],
   "source": [
    "hry_df.iloc[:100][['Title', 'Rating']]"
   ]
  },
  {
   "cell_type": "code",
   "execution_count": null,
   "id": "41e01615-c181-43cb-a233-e667fe101dde",
   "metadata": {},
   "outputs": [],
   "source": [
    "# Pro pokročilé - odstranit duplicity z výsledku"
   ]
  },
  {
   "cell_type": "markdown",
   "id": "3eb548f2-1993-4b50-b093-b4e19475d79c",
   "metadata": {},
   "source": [
    "<details>\n",
    "    <summary>▶️ Řešení</summary>\n",
    "    \n",
    "    ```\n",
    "    vyber_her = hry_df[hry_df[\"Rating\"] >= 4.6]\n",
    "    ```\n",
    "\n",
    "</details>"
   ]
  },
  {
   "cell_type": "markdown",
   "id": "993152eb-8f02-4cb2-959c-589baeec7eb3",
   "metadata": {},
   "source": [
    "---"
   ]
  }
 ],
 "metadata": {
  "kernelspec": {
   "display_name": "Python 3 (ipykernel)",
   "language": "python",
   "name": "python3"
  },
  "language_info": {
   "codemirror_mode": {
    "name": "ipython",
    "version": 3
   },
   "file_extension": ".py",
   "mimetype": "text/x-python",
   "name": "python",
   "nbconvert_exporter": "python",
   "pygments_lexer": "ipython3",
   "version": "3.8.10"
  }
 },
 "nbformat": 4,
 "nbformat_minor": 5
}

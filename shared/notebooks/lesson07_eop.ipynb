{
 "cells": [
  {
   "cell_type": "markdown",
   "id": "a948c1b4-4605-4ac2-a87e-720004be3da5",
   "metadata": {},
   "source": [
    "# Python, Data, 2025\n",
    "\n",
    "---"
   ]
  },
  {
   "cell_type": "markdown",
   "id": "d44ebc8c-b6f7-4910-8faf-7ca51df79652",
   "metadata": {},
   "source": [
    "- motivace,\n",
    "- úvod do knihoven, instalace,\n",
    "- typy grafů,\n",
    "- tvorba jednoduchého grafu,\n",
    "- detailní prvky grafu,\n",
    "- kombinace Pand a matplotlib,\n",
    "- kombinace Pand a seaborn.\n",
    "\n",
    "---"
   ]
  },
  {
   "cell_type": "markdown",
   "id": "14627d09-daf3-4d54-b903-96252fa1581f",
   "metadata": {},
   "source": [
    "<img src=\"https://external-content.duckduckgo.com/iu/?u=https%3A%2F%2Ftse3.mm.bing.net%2Fth%3Fid%3DOIP.Gr2a27W996qpjc9XHq_lNAHaHa%26pid%3DApi&f=1&ipt=75e655cef3d81414d74c3c49c1bed2c7a4eb506928ef5afc6c493766aaf0ccd8&ipo=images\" width=\"250\" style=\"margin-left:auto; margin-right:auto\"/>"
   ]
  },
  {
   "cell_type": "markdown",
   "id": "8efaf7f1-476f-4680-abf8-a98df40d695d",
   "metadata": {},
   "source": [
    "## Úvod do vizualizace\n",
    "\n",
    "---\n",
    "\n"
   ]
  },
  {
   "cell_type": "markdown",
   "id": "b0b4fa7c-93bf-4754-bb94-2e79dbe8c654",
   "metadata": {},
   "source": [
    "### Proč je vizualizace důležitá?\n",
    "\n",
    "---\n",
    "\n",
    "*Vizualizace* dat je jedním **z nejefektivnějších způsobů**, jak porozumět velkým množstvím informací.\n",
    "\n",
    "Pomáhá:\n",
    "- identifikovat vzory a trendy,\n",
    "- odhalit anomálie,\n",
    "- vysvětlit závěry širšímu (dokonce netechnickému) publiku.\n",
    "\n",
    "Graf často odhalí to, co není vidět přímo v datech."
   ]
  },
  {
   "cell_type": "markdown",
   "id": "9a8c209a-1535-4f2c-8e00-cc28acb8701e",
   "metadata": {},
   "source": [
    "### Jak pracovat s existujícími daty?\n",
    "\n",
    "---"
   ]
  },
  {
   "cell_type": "code",
   "execution_count": null,
   "id": "99c253eb-2d42-49d2-8c4b-abfbc6e2e37e",
   "metadata": {},
   "outputs": [],
   "source": [
    "import seaborn as sns\n",
    "import pandas as pd"
   ]
  },
  {
   "cell_type": "markdown",
   "id": "18dd35af-0ec0-4743-9fd1-08f13ee6f3b7",
   "metadata": {},
   "source": [
    "<br>\n",
    "\n",
    "Načti jeden z předchystaných datasetů přímo v knihovně:"
   ]
  },
  {
   "cell_type": "code",
   "execution_count": null,
   "id": "42dcbc73-9e63-44a4-9068-e7a526250af6",
   "metadata": {},
   "outputs": [],
   "source": [
    "titanic_df = sns.load_dataset(\"titanic\")"
   ]
  },
  {
   "cell_type": "code",
   "execution_count": null,
   "id": "df1cd54c-485f-420b-97a6-6d68d6fb2a21",
   "metadata": {},
   "outputs": [],
   "source": [
    "titanic_df.head()"
   ]
  },
  {
   "cell_type": "markdown",
   "id": "7099739b-97b6-4c0e-a6dc-37802a4dba06",
   "metadata": {},
   "source": [
    "### Co chceme z dat zjistit?\n",
    "\n",
    "---\n",
    "\n",
    "Otázka: *„Záleželo přežití na pohlaví nebo cestovní třídě?“*\n",
    "\n",
    "Tato otázka je konkrétní a měřitelná – pomocí dat zjistíme, zda a jak pohlaví nebo třída ovlivnily šanci na přežití."
   ]
  },
  {
   "cell_type": "markdown",
   "id": "1408c2a0-a6b9-4456-b66f-04dc3eecec94",
   "metadata": {},
   "source": [
    "#### Základní přehled hodnot ve sloupcích\n",
    "\n",
    "---"
   ]
  },
  {
   "cell_type": "code",
   "execution_count": null,
   "id": "e4b221c3-6c66-4129-ba41-672a94c87f1c",
   "metadata": {},
   "outputs": [],
   "source": [
    "titanic_df[\"sex\"].value_counts()"
   ]
  },
  {
   "cell_type": "code",
   "execution_count": null,
   "id": "d3e3cf06-f067-4600-ac1b-3af3c189a14a",
   "metadata": {},
   "outputs": [],
   "source": [
    "titanic_df[\"class\"].value_counts()"
   ]
  },
  {
   "cell_type": "code",
   "execution_count": null,
   "id": "597c2836-99e6-405f-b899-522e99958f01",
   "metadata": {},
   "outputs": [],
   "source": [
    "titanic_df.info()"
   ]
  },
  {
   "cell_type": "markdown",
   "id": "091bcca4-b0e8-46e0-9e5c-290d6cb115eb",
   "metadata": {},
   "source": [
    "`values_counts` popsat množství jednotlivých hodnot ve sloupečcích."
   ]
  },
  {
   "cell_type": "code",
   "execution_count": null,
   "id": "8d25820d-be92-4a72-ab61-7348952c1933",
   "metadata": {},
   "outputs": [],
   "source": [
    "# titanic_df['age'].value_counts().tolist()  # NaN chybí"
   ]
  },
  {
   "cell_type": "markdown",
   "id": "22a120c3-d8f6-427a-80fe-b020000c45c8",
   "metadata": {},
   "source": [
    "<br>\n",
    "\n",
    "#### Odstraníme řádky s chybějící hodnotou v klíčových sloupcích\n",
    "\n",
    "---"
   ]
  },
  {
   "cell_type": "code",
   "execution_count": null,
   "id": "a046fe2f-fde1-411f-81da-90f1312b95e8",
   "metadata": {},
   "outputs": [],
   "source": [
    "bez_chybejici_dat_df = titanic_df.dropna(subset=[\"sex\", \"class\", \"survived\"])"
   ]
  },
  {
   "cell_type": "code",
   "execution_count": null,
   "id": "c92ac024-8a79-440e-be87-a28083fe0ff0",
   "metadata": {},
   "outputs": [],
   "source": [
    "bez_chybejici_dat_df.head()"
   ]
  },
  {
   "cell_type": "markdown",
   "id": "7bbeb9d6-c862-4f7f-9578-402cc16365b0",
   "metadata": {},
   "source": [
    "Metoda `dropna` po zadání pole jmen sloupečků odstraní chybějící hodnoty.\n",
    "\n",
    "<br>"
   ]
  },
  {
   "cell_type": "markdown",
   "id": "e4d38d84-db9a-403d-865d-e72d31e49cf5",
   "metadata": {},
   "source": [
    "### Jak nastavit jednoduchý graf?\n",
    "\n",
    "---\n",
    "\n",
    "Použiješ knihovnu `seaborn` pro vytvoření sloupcového grafu, který porovná přežití podle **pohlaví a třídy**."
   ]
  },
  {
   "cell_type": "code",
   "execution_count": null,
   "id": "da67fcef-9c70-4c8e-84d3-5ed11ddfab2d",
   "metadata": {},
   "outputs": [],
   "source": [
    "import matplotlib.pyplot as plt"
   ]
  },
  {
   "cell_type": "markdown",
   "id": "ac937fb6-5909-4633-ac48-7bb7c9bc444d",
   "metadata": {},
   "source": [
    "<br>\n",
    "\n",
    "#### Zobrazení dat na sloupcovém grafu\n",
    "\n",
    "---"
   ]
  },
  {
   "cell_type": "code",
   "execution_count": null,
   "id": "a2549892-8934-453c-88fc-379327b049dd",
   "metadata": {},
   "outputs": [],
   "source": [
    "plt.figure(figsize=(8, 6))\n",
    "sns.countplot(data=bez_chybejici_dat_df, x=\"sex\", hue=\"survived\", palette=\"pastel\")\n",
    "plt.title(\"Přežití podle pohlaví\")\n",
    "plt.xlabel(\"Pohlaví\")\n",
    "plt.ylabel(\"Počet cestujících\")\n",
    "plt.legend(title=\"Přežil\", labels=[\"Ne\", \"Ano\"])\n",
    "plt.tight_layout()"
   ]
  },
  {
   "cell_type": "markdown",
   "id": "1316154c-5cd3-4164-9344-af109b60a79f",
   "metadata": {},
   "source": [
    "#### Doplnění grafického výstupu podle pohlaví a cestovních tříd:"
   ]
  },
  {
   "cell_type": "code",
   "execution_count": null,
   "id": "b54e32af-1e57-440f-a3d7-cbece4c03db7",
   "metadata": {},
   "outputs": [],
   "source": [
    "sns.catplot(data=bez_chybejici_dat_df, x=\"class\", hue=\"survived\", col=\"sex\", kind=\"count\", palette=\"muted\")\n",
    "plt.tight_layout()"
   ]
  },
  {
   "cell_type": "markdown",
   "id": "71e14ae5-c1d6-4867-8327-d1d18ee086f1",
   "metadata": {},
   "source": [
    "### Souhrn\n",
    "\n",
    "---\n",
    "\n",
    "Z grafů je patrné, že ženy měly výrazně vyšší šanci na přežití než muži.\n",
    "\n",
    "Také **první třída** měla vyšší šanci na přežití než nižší třídy – viz podrobnější rozdělení podle `class`."
   ]
  },
  {
   "cell_type": "markdown",
   "id": "d519b4cc-1d91-4f14-b1de-cd4e37b7dc7b",
   "metadata": {},
   "source": [
    "### Jak nakonec data vyexportovat?\n",
    "\n",
    "---"
   ]
  },
  {
   "cell_type": "markdown",
   "id": "9e3a8563-13e5-45ae-aa6f-0c75be5806b5",
   "metadata": {},
   "source": [
    "#### Vytvoření grafu\n",
    "\n",
    "---"
   ]
  },
  {
   "cell_type": "code",
   "execution_count": null,
   "id": "b45ed112-0c38-4323-8ba8-76d2f610852c",
   "metadata": {},
   "outputs": [],
   "source": [
    "graf = sns.catplot(data=bez_chybejici_dat_df,\n",
    "                   x=\"class\",\n",
    "                   hue=\"survived\",\n",
    "                   col=\"sex\",\n",
    "                   kind=\"count\",\n",
    "                   palette=\"muted\")"
   ]
  },
  {
   "cell_type": "markdown",
   "id": "e7eb3811-a49c-4d5b-9c86-5df6bed173d2",
   "metadata": {},
   "source": [
    "##### Přidání nadpisu pro výstup\n",
    "\n",
    "---"
   ]
  },
  {
   "cell_type": "code",
   "execution_count": null,
   "id": "904fe889-2069-4413-bcf9-07cbc1edb8bc",
   "metadata": {},
   "outputs": [],
   "source": [
    "graf.fig.suptitle(\"Přežití podle třídy a pohlaví\", y=1.05)"
   ]
  },
  {
   "cell_type": "markdown",
   "id": "6c15234d-6433-4bb8-937b-5d7ba0ef5ccc",
   "metadata": {},
   "source": [
    "##### Uložení grafu do souboru\n",
    "\n",
    "---"
   ]
  },
  {
   "cell_type": "code",
   "execution_count": null,
   "id": "9ee6d8f4-a0a6-4082-90da-e506cbea8078",
   "metadata": {},
   "outputs": [],
   "source": [
    "graf.savefig(\"preziti_titanic.png\")"
   ]
  },
  {
   "cell_type": "markdown",
   "id": "d366a994-8417-4f84-8f0e-824ecdbf6855",
   "metadata": {},
   "source": [
    "<br>\n",
    "\n",
    "## Úvod ke knihovnám\n",
    "\n",
    "---"
   ]
  },
  {
   "cell_type": "markdown",
   "id": "6548b92f-5915-4a72-9c2a-2eb54862abfb",
   "metadata": {},
   "source": [
    "### Proč právě matplotlib a seaborn?\n",
    "\n",
    "---\n",
    "`matplotlib` je základní a nejpoužívanější knihovna pro tvorbu grafů v Pythonu.\n",
    "\n",
    "Nabízí:\n",
    "- Plnou kontrolu nad grafy (styl, barvy, osy, anotace),\n",
    "- možnost exportu do různých formátů (PNG, SVG, PDF, atd.),\n",
    "- kompatibilitu se všemi běžnými datovými nástroji v Pythonu.\n",
    "\n",
    "<br>\n",
    "\n",
    "`seaborn` je nadstavba nad `matplotlib`.\n",
    "\n",
    "Zaměřuje se/zlepšuje:\n",
    "- jednodušší syntaxi pro běžné úkoly,\n",
    "- přednastavené vizuální styly (estetika!),\n",
    "- **integraci s pandas dataframe.**"
   ]
  },
  {
   "cell_type": "markdown",
   "id": "a42c43b0-3c14-4262-a062-caaf3628c09f",
   "metadata": {},
   "source": [
    "### Jak nainstalovat knihovny?\n",
    "\n",
    "---"
   ]
  },
  {
   "cell_type": "markdown",
   "id": "735e57d9-b259-4474-9a6b-a064526bd863",
   "metadata": {},
   "source": [
    "Instalaci proveď v rámci *virtuálního prostředí*:"
   ]
  },
  {
   "cell_type": "code",
   "execution_count": null,
   "id": "b31b75c0-1e38-4ece-ad49-9edca6291829",
   "metadata": {},
   "outputs": [],
   "source": [
    "# !pip install matplotlib"
   ]
  },
  {
   "cell_type": "code",
   "execution_count": null,
   "id": "516ac44e-1a7c-4986-9e5e-07c6f239771a",
   "metadata": {},
   "outputs": [],
   "source": [
    "# !pip install seaborn"
   ]
  },
  {
   "cell_type": "markdown",
   "id": "d7d1fd5e-0e75-4c68-a55a-8b9a9a60e21b",
   "metadata": {},
   "source": [
    "... následná kontrola verzí obou knihoven.\n",
    "\n",
    "<br>\n",
    "\n",
    "Ohlášení pro použití knihovny v rámci skriptu s následným aliasem pro snadnější používání:"
   ]
  },
  {
   "cell_type": "code",
   "execution_count": null,
   "id": "8f964d3e-1b3a-4a3b-919d-62311d807aed",
   "metadata": {},
   "outputs": [],
   "source": [
    "import matplotlib.pyplot as mpl\n",
    "import matplotlib  # kontrola verze"
   ]
  },
  {
   "cell_type": "code",
   "execution_count": null,
   "id": "8e60e834-8a4b-43e0-bfd0-640a613e524d",
   "metadata": {},
   "outputs": [],
   "source": [
    "import seaborn as sns"
   ]
  },
  {
   "cell_type": "code",
   "execution_count": null,
   "id": "20f8becb-aaff-4475-a263-6837d6b3f476",
   "metadata": {
    "tags": []
   },
   "outputs": [],
   "source": [
    "matplotlib.__version__"
   ]
  },
  {
   "cell_type": "code",
   "execution_count": null,
   "id": "327c2139-38a7-4e83-a830-a817917ecef4",
   "metadata": {},
   "outputs": [],
   "source": [
    "sns.__version__"
   ]
  },
  {
   "cell_type": "markdown",
   "id": "cc16292a-4ce8-4c17-b9c8-487b1603d0fb",
   "metadata": {},
   "source": [
    "### Kde najdu další informace pro práci?\n",
    "\n",
    "---\n",
    "\n",
    "- 📘 [Oficiální web matplotlib](https://matplotlib.org/)\n",
    "- 📘 [Oficiální web seaborn](https://seaborn.pydata.org)\n",
    "\n",
    "🔝 **Tip**: `seaborn` má skvělý gallery, kde si můžeš vybrat graf podle vzhledu."
   ]
  },
  {
   "cell_type": "markdown",
   "id": "6a0dc8b0-6345-46cb-9f10-aa040535fbee",
   "metadata": {},
   "source": [
    "### Jaké existují další alternativy pro práci s grafy?\n",
    "\n",
    "---\n",
    "\n",
    "V dnešní době existuje několik moderních alternativ pro různé účely:\n",
    "\n",
    "| Knihovna        | Popis                                                                 |\n",
    "|-----------------|------------------------------------------------------------------------|\n",
    "| **Plotly**      | Interaktivní grafy, vhodné pro webové aplikace (např. Dash).           |\n",
    "| **Altair**      | Deklarativní zápis, integrace s Pandas a Vega-Lite.                   |\n",
    "| **Bokeh**       | Interaktivní vizualizace s podporou velkých datasetů a webových výstupů. |\n",
    "| **Plotnine**    | Python port oblíbeného R balíčku ggplot2.                             |\n",
    "| **Holoviews**   | Vysokoúrovňová knihovna nad Bokeh a Matplotlib s jednoduchou syntaxí. |\n",
    "\n",
    "🔝 **Doporučení**, `matplotlib` + `seaborn` je výborný základ.\n",
    "\n",
    "Pokud cílíš na pokročilejší vizualizace, interaktivní grafy, vyzkoušej `Altair` nebo `Plotly`."
   ]
  },
  {
   "cell_type": "markdown",
   "id": "e019ea67-0496-4973-a9dc-e6a61f1958cc",
   "metadata": {},
   "source": [
    "<br>\n",
    "\n",
    "## Typy grafů\n",
    "\n",
    "---"
   ]
  },
  {
   "cell_type": "markdown",
   "id": "fafb21cd-d944-4a82-b576-8b594abf6958",
   "metadata": {},
   "source": [
    "Pro různé hodnoty a průběhy se ti budou hodit jiné typy grafů.\n",
    "\n",
    "### 📊 Jaký typ grafu použít?\n",
    "\n",
    "---\n",
    "\n",
    "| Co chci zjistit / ukázat                                      | Typ grafu                 | Popis / Knihovny                          | Příklad scénáře |\n",
    "|----------------------------------------------------------------|---------------------------|-------------------------------------------|------------------|\n",
    "| 📈 Vývoj hodnot v čase                                          | `line plot`               | Čárový graf (`plt.plot()`, `df.plot()`)   | Průběh teplot během týdne |\n",
    "| 📊 Rozložení hodnot jedné proměnné                              | `histogram`               | Histogram (`plt.hist()`, `sns.histplot()`)| Kolik lidí má jaký věk ve třídě |\n",
    "| 📦 Rozložení + extrémy hodnot mezi skupinami                    | `boxplot`                 | `sns.boxplot()`, `plt.boxplot()`          | Porovnání platů v různých odděleních |\n",
    "| 🧮 Srovnání kategorií podle četnosti                            | `bar plot`, `countplot`   | Sloupcový graf (`plt.bar()`, `sns.countplot()`) | Počet studentů v různých seminářích |\n",
    "| 🍕 Poměrné rozdělení v rámci celku                              | `pie chart`               | Koláčový graf (`plt.pie()`) – používat opatrně | Rozdělení rozpočtu domácnosti |\n",
    "| 🔵 Vztah mezi dvěma číselnými proměnnými                        | `scatter plot`            | Bodový graf (`plt.scatter()`, `sns.scatterplot()`) | Závislost mezi věkem a výší útraty |\n",
    "| 🔥 Závislost mezi vícero proměnnými                             | `pairplot`, `heatmap`     | `sns.pairplot()`, `sns.heatmap()`         | Jak spolu souvisí výška, váha a věk |\n",
    "| 🟦 Srovnání kategorií + další proměnná                          | `grouped bar plot`        | `sns.catplot(kind=\"bar\", hue=...)`        | Srovnání přežití podle pohlaví a třídy na Titanicu |\n",
    "| 🌫️ Hustota rozložení                                           | `kdeplot`, `violinplot`   | `sns.kdeplot()`, `sns.violinplot()`       | Rozložení známek studentů s vyznačenou hustotou |\n",
    "| 🧱 Hustota bodů ve 2D prostoru                                  | `hexbin`                  | `plt.hexbin()`                            | Kde se nejvíc koncentrují zákazníci podle věku a útraty |"
   ]
  },
  {
   "cell_type": "markdown",
   "id": "5c4b55ac-cd6b-4651-a34a-ad61867ef76d",
   "metadata": {},
   "source": [
    "<br>\n",
    "\n",
    "V tabulce výše najdeš spíše katalogově nebo orientačně, které typy grafů využiješ v jakých situacích."
   ]
  },
  {
   "cell_type": "markdown",
   "id": "0e7815e6-8b07-4153-86f3-0e47068124f4",
   "metadata": {},
   "source": [
    "<br>\n",
    "\n",
    "## Nejčastější typy grafů a jejich použití\n",
    "\n",
    "---"
   ]
  },
  {
   "cell_type": "markdown",
   "id": "22b9f61c-ba47-4efe-a8d9-d9f78f74fd97",
   "metadata": {},
   "source": [
    "Jde zejména o tyto typy:\n",
    "1. *plot*,\n",
    "2. *scatter*,\n",
    "3. *bar*,\n",
    "4. *pie*,\n",
    "5. *histogram*."
   ]
  },
  {
   "cell_type": "markdown",
   "id": "feefb42b-80e1-4f2c-8315-53c16c12bb04",
   "metadata": {},
   "source": [
    "### Typ plot\n",
    "\n",
    "---"
   ]
  },
  {
   "cell_type": "markdown",
   "id": "bac3057d-8160-4c90-8ef5-fb2bf19af2e6",
   "metadata": {},
   "source": [
    "**Plot** je čárový graf.\n",
    "\n",
    "Ukazuje vývoj hodnot v čase nebo závislost dvou proměnných, kde jedna z nich je obvykle postupná (např. dny, roky, kroky).\n",
    "\n",
    "Nejčastěji popisuje nějakou změnu v čase.\n",
    "\n",
    "Např. *teplota během týdne*, *počet kroků za den*, *cena akcií*."
   ]
  },
  {
   "cell_type": "markdown",
   "id": "6f1b109a-2302-4f1d-aa82-c1c1eb7bfab5",
   "metadata": {
    "tags": []
   },
   "source": [
    "#### Vstupní hodnoty\n",
    "\n",
    "---"
   ]
  },
  {
   "cell_type": "code",
   "execution_count": null,
   "id": "1d9dc451-e2f1-4853-ae1c-d8624e954e2a",
   "metadata": {
    "tags": []
   },
   "outputs": [],
   "source": [
    "dny = [\"Po\", \"Út\", \"St\", \"Čt\", \"Pá\", \"So\", \"Ne\"]"
   ]
  },
  {
   "cell_type": "code",
   "execution_count": null,
   "id": "ea5285c4-6b21-49ca-b083-e55be6423f52",
   "metadata": {
    "tags": []
   },
   "outputs": [],
   "source": [
    "kroky = [3500, 4200, 3900, 5000, 4800, 7000, 6500]"
   ]
  },
  {
   "cell_type": "markdown",
   "id": "dea33418-1049-4d94-985e-8507bae955ce",
   "metadata": {
    "tags": []
   },
   "source": [
    "#### Grafický výstup\n",
    "\n",
    "---"
   ]
  },
  {
   "cell_type": "code",
   "execution_count": null,
   "id": "67903d07-2c65-44c1-8b7e-3e08cfb8726b",
   "metadata": {},
   "outputs": [],
   "source": [
    "# plt.plot?"
   ]
  },
  {
   "cell_type": "code",
   "execution_count": null,
   "id": "c672d8be-8e88-4de0-b9ca-6744d6f5ef9a",
   "metadata": {
    "tags": []
   },
   "outputs": [],
   "source": [
    "# Vykreslení\n",
    "plt.plot(dny, kroky)\n",
    "\n",
    "# Popisky\n",
    "plt.title(\"Počet kroků za týden\")\n",
    "plt.xlabel(\"Den\")\n",
    "plt.ylabel(\"Počet kroků\")"
   ]
  },
  {
   "cell_type": "markdown",
   "id": "d4df9587-df47-4e1b-86d6-7c309f6eccd6",
   "metadata": {
    "tags": []
   },
   "source": [
    "#### Co z grafu uvidíš?\n",
    "\n",
    "---\n",
    "\n",
    "- Na **ose X** budou dny v týdnu (Po až Ne),\n",
    "- na **ose Y** bude počet kroků.\n",
    "\n",
    "#### Shrnutí\n",
    "---\n",
    "\n",
    "Při relativně malém množství dat vidíš šikovný, grafický průběh."
   ]
  },
  {
   "cell_type": "markdown",
   "id": "3f8b9df1-253f-4c19-b446-62b08f17420b",
   "metadata": {},
   "source": [
    "<br>\n",
    "\n",
    "### Typ scatter\n",
    "\n",
    "---"
   ]
  },
  {
   "cell_type": "markdown",
   "id": "2626972d-eeb8-43c9-b52d-2296051e6e0f",
   "metadata": {},
   "source": [
    "**scatter** je bodový graf, který ukazuje vztah mezi **dvěma a více číselnými proměnnými**.\n",
    "\n",
    "Pokud chceš zjistit, jestli spolu dvě věci nějak souvisí.\n",
    "\n",
    "Např. *„Když víc spím, mám víc energie?“* nebo *„Když víc cvičím, vážím míň?*"
   ]
  },
  {
   "cell_type": "markdown",
   "id": "3312228d-a88b-4f27-9c19-b6e4659c7942",
   "metadata": {
    "tags": []
   },
   "source": [
    "#### Vstupní hodnoty\n",
    "\n",
    "---"
   ]
  },
  {
   "cell_type": "code",
   "execution_count": null,
   "id": "df5885db-6a0a-4633-9363-d3bdf080c328",
   "metadata": {
    "tags": []
   },
   "outputs": [],
   "source": [
    "delka_spanku_pres_tyden = [6, 7, 5, 8, 6.5, 7.5, 4]\n",
    "pocit_energie = [4, 6, 3, 8, 5, 7, 2]"
   ]
  },
  {
   "cell_type": "markdown",
   "id": "a248d580-0d6a-405d-a1a1-3c4f44671a7f",
   "metadata": {
    "tags": []
   },
   "source": [
    "#### Grafický výstup\n",
    "\n",
    "---"
   ]
  },
  {
   "cell_type": "code",
   "execution_count": null,
   "id": "86100698-c24c-44c7-959a-cc2ea2fc8bb5",
   "metadata": {
    "tags": []
   },
   "outputs": [],
   "source": [
    "# Vykreslení\n",
    "plt.scatter(delka_spanku_pres_tyden, pocit_energie)\n",
    "\n",
    "# Popisky\n",
    "plt.title(\"Spánek vs. Energie\")\n",
    "plt.xlabel(\"Hodiny spánku\")\n",
    "plt.ylabel(\"Pocit energie (0–10)\")"
   ]
  },
  {
   "cell_type": "markdown",
   "id": "b5cea926-76bc-46fd-9511-5ef3a8e1066d",
   "metadata": {},
   "source": [
    "#### Co z grafu uvidíš?\n",
    "---\n",
    "\n",
    "- **Osa X** = kolik hodin spíš,\n",
    "- **osa Y** = kolik energie jsi máš.\n",
    "\n",
    "Když body stoupají zprava nahoru, znamená to: **víc spánku → víc energie**.\n",
    "\n",
    "#### 🧠 Shrnutí\n",
    "\n",
    "---\n",
    "\n",
    "Scatter používáš, pokud máš dvě číselné hodnoty a chceš vidět souvislost.\n",
    "\n",
    "Nezobrazuje čas, ale vztah mezi proměnnými.\n",
    "\n",
    "Výborný pro hledání vzorců, trendů nebo odlehlých bodů."
   ]
  },
  {
   "cell_type": "markdown",
   "id": "c36f06ff-e974-4f95-8ced-c4a2de3ce007",
   "metadata": {},
   "source": [
    "<br>\n",
    "\n",
    "### Typ bar\n",
    "\n",
    "---"
   ]
  },
  {
   "cell_type": "markdown",
   "id": "64e9a65b-ad3a-4f3a-b8d9-b39cb7058832",
   "metadata": {},
   "source": [
    "**bar** je sloupcový graf, který ukazuje porovnání mezi kategoriemi.\n",
    "\n",
    "Když chceš porovnat kolik lidí/co se vyskytuje v jednotlivých skupinách, resp. kategorizaci čehokoliv.\n",
    "\n",
    "Např. *Kolik lidí má rádo jaký předmět?*"
   ]
  },
  {
   "cell_type": "markdown",
   "id": "db74dd5a-527f-42e8-9f20-175fb3293407",
   "metadata": {
    "tags": []
   },
   "source": [
    "#### Vstupní hodnoty\n",
    "\n",
    "---"
   ]
  },
  {
   "cell_type": "code",
   "execution_count": null,
   "id": "8997288f-f9d9-42d4-beda-4d7676d8f2c5",
   "metadata": {
    "tags": []
   },
   "outputs": [],
   "source": [
    "predmety = [\"Matematika\", \"Čeština\", \"Dějepis\", \"Informatika\"]\n",
    "oblibenost = [8, 5, 3, 10]"
   ]
  },
  {
   "cell_type": "markdown",
   "id": "99cc359d-3930-4e6b-840d-fca3c5228a85",
   "metadata": {
    "tags": []
   },
   "source": [
    "#### Grafický výstup\n",
    "\n",
    "---"
   ]
  },
  {
   "cell_type": "code",
   "execution_count": null,
   "id": "c0e33328-053d-4b3e-be97-efc1d02c3e70",
   "metadata": {
    "tags": []
   },
   "outputs": [],
   "source": [
    "plt.bar(predmety, oblibenost)\n",
    "\n",
    "plt.title(\"Oblíbenost předmětů ve třídě\")\n",
    "plt.xlabel(\"Předmět\")\n",
    "plt.ylabel(\"Počet studentů\")"
   ]
  },
  {
   "cell_type": "markdown",
   "id": "0b07cd9f-1668-4f05-8bf8-237cc897bc9f",
   "metadata": {
    "tags": []
   },
   "source": [
    "Každý sloupec ukazuje, kolik studentů má daný předmět rádo. Lehce porovnáš, který je nejoblíbenější."
   ]
  },
  {
   "cell_type": "markdown",
   "id": "12265bc1-5cc0-425a-8fa7-da194b88956b",
   "metadata": {},
   "source": [
    "<br>\n",
    "\n",
    "### Typ histogram\n",
    "\n",
    "---"
   ]
  },
  {
   "cell_type": "markdown",
   "id": "440f8b8e-a047-45e0-8b7b-b9c46895fadd",
   "metadata": {},
   "source": [
    "**histogram** ukazuje rozložení hodnot, tedy kolik hodnot spadá **do jednotlivých rozsahů** (intervalů).\n",
    "\n",
    "Tedy, když chceš vědět, kolik lidí je ve věku 10–15, 15–20, 20–25...\n",
    "\n",
    "Hodí se pro větší počet čísel a jejich frekvenci."
   ]
  },
  {
   "cell_type": "markdown",
   "id": "eaa793f7-8b5b-4125-b940-d5e16f6f9454",
   "metadata": {
    "tags": []
   },
   "source": [
    "#### Vstupní hodnoty\n",
    "\n",
    "---"
   ]
  },
  {
   "cell_type": "code",
   "execution_count": null,
   "id": "4dbb9de7-50a8-434a-b11b-2655c7ffc293",
   "metadata": {},
   "outputs": [],
   "source": [
    "veky = [14, 15, 16, 17, 17, 18, 19, 20, 20, 22, 23, 24, 24, 25]"
   ]
  },
  {
   "cell_type": "markdown",
   "id": "acc15b3f-b468-442b-a96f-1a52a51d9418",
   "metadata": {
    "tags": []
   },
   "source": [
    "#### Grafický výstup\n",
    "\n",
    "---"
   ]
  },
  {
   "cell_type": "code",
   "execution_count": null,
   "id": "f45a3fb1-821e-49e8-afa9-640bbf10982c",
   "metadata": {},
   "outputs": [],
   "source": [
    "plt.hist([14, 15, 16, 17, 17, 18, 19, 20, 20, 22, 23, 24, 24, 25], bins=5)\n",
    "\n",
    "plt.title(\"Rozložení věku\")\n",
    "plt.xlabel(\"Věk\")\n",
    "plt.ylabel(\"Počet osob\")"
   ]
  },
  {
   "cell_type": "markdown",
   "id": "878720cc-183a-45f1-9788-585779c3502d",
   "metadata": {},
   "source": [
    "Histogram rozdělí věky do skupin (např. 14–16, 16–18…) a ukáže, kolik lidí spadá do každé skupiny."
   ]
  },
  {
   "cell_type": "markdown",
   "id": "c0b726c7-e650-48a0-b99e-f093526b9a66",
   "metadata": {},
   "source": [
    "<br>\n",
    "\n",
    "### Typ pie\n",
    "\n",
    "---"
   ]
  },
  {
   "cell_type": "markdown",
   "id": "05e4bedd-8399-4043-ae4d-17251c4fd781",
   "metadata": {},
   "source": [
    "**pie** je koláčový graf, který ukazuje jaký podíl tvoří jednotlivé části z celku.\n",
    "\n",
    "Když chceš ukázat poměry nebo procenta.\n",
    "\n",
    "Např. *Kolik procent tvoří jednotlivé druhy ovoce ve svačině?*"
   ]
  },
  {
   "cell_type": "markdown",
   "id": "54772b61-89d4-4f3c-927a-78b6a0935659",
   "metadata": {
    "tags": []
   },
   "source": [
    "#### Vstupní hodnoty\n",
    "\n",
    "---"
   ]
  },
  {
   "cell_type": "code",
   "execution_count": null,
   "id": "76607fea-0638-468f-9943-20c3ed9dccf3",
   "metadata": {},
   "outputs": [],
   "source": [
    "ovoce_ke_svacine = [\"Jablka\", \"Banány\", \"Hrušky\", \"Mandarinky\"]\n",
    "mnozstvi = [4, 2, 1, 3]"
   ]
  },
  {
   "cell_type": "markdown",
   "id": "e251ec9c-f8f3-43ff-b66f-0febf6e44783",
   "metadata": {
    "tags": []
   },
   "source": [
    "#### Grafický výstup\n",
    "\n",
    "---"
   ]
  },
  {
   "cell_type": "code",
   "execution_count": null,
   "id": "46271590-2a04-4b03-8425-6814a54b1262",
   "metadata": {
    "scrolled": true
   },
   "outputs": [],
   "source": [
    "plt.pie(mnozstvi, labels=ovoce_ke_svacine, autopct=\"%1.1f%%\")\n",
    "\n",
    "plt.title(\"Podíl ovoce ve svačině\")"
   ]
  },
  {
   "cell_type": "markdown",
   "id": "6fb8048b-850c-42f7-9fad-499ebe8864b3",
   "metadata": {},
   "source": [
    "Barevný koláč s jednotlivými dílky, které ukazují, jak velkou část tvoří každé ovoce. Např. že jablka tvoří největší podíl."
   ]
  },
  {
   "cell_type": "markdown",
   "id": "9eaba739-c681-4c5c-bdb8-94ae39585bc5",
   "metadata": {},
   "source": [
    "<br>\n",
    "\n",
    "#### **🧠 CVIČENÍ 🧠, procvič si TYPY grafů**\n",
    "\n",
    "---"
   ]
  },
  {
   "cell_type": "markdown",
   "id": "04c7f2a7-7c03-41b2-8094-6fdc8882bc4d",
   "metadata": {},
   "source": [
    "**Úkol 1:** *Jak lidé tráví volný čas?*\n",
    "    \n",
    "Ve škole bylo dotázano 20 studentů, jaký typ volnočasové aktivity mají nejraději.\n",
    "\n",
    "Odpovědi byly:\n",
    "- Sport: 6\n",
    "- Hraní her: 5\n",
    "- Čtení: 3\n",
    "- Hudba: 4\n",
    "- Výtvarné aktivity: 2\n",
    "\n",
    "➡️ **Zobraz výsledky pomocí vhodného grafu.**"
   ]
  },
  {
   "cell_type": "markdown",
   "id": "2de7fe69-7a13-4f3e-b907-5cc7ae63737f",
   "metadata": {},
   "source": [
    "#### Vstupní data\n",
    "\n",
    "---"
   ]
  },
  {
   "cell_type": "code",
   "execution_count": null,
   "id": "399fe07d-4c28-44f4-a60e-392e7ef249fe",
   "metadata": {},
   "outputs": [],
   "source": [
    "aktivity = [\"Sport\", \"Hraní her\", \"Čtení\", \"Hudba\", \"Výtvarné aktivity\"]\n",
    "pocty = [6, 5, 3, 4, 2]"
   ]
  },
  {
   "cell_type": "markdown",
   "id": "84ed95d2-9818-4b45-b179-69a9eb772df9",
   "metadata": {},
   "source": [
    "#### Zobrazení grafu\n",
    "\n",
    "---"
   ]
  },
  {
   "cell_type": "code",
   "execution_count": null,
   "id": "6313a8bd-01db-47d1-876a-52a0cdc3139f",
   "metadata": {
    "scrolled": true
   },
   "outputs": [],
   "source": [
    "import matplotlib.pyplot as plt"
   ]
  },
  {
   "cell_type": "code",
   "execution_count": null,
   "id": "d4e44cee-a8ca-4d51-be5b-0df7b369051a",
   "metadata": {
    "scrolled": true
   },
   "outputs": [],
   "source": [
    "plt.bar(aktivity, pocty)\n",
    "plt.xlabel('Aktivity')\n",
    "plt.ylabel('Počty')"
   ]
  },
  {
   "cell_type": "markdown",
   "id": "681dc0cb-6034-4172-b94d-0b6b14aaafc7",
   "metadata": {},
   "source": [
    "<details>\n",
    "    <summary>▶️ Řešení</summary>\n",
    "    \n",
    "```python\n",
    "aktivity = [\"Sport\", \"Hraní her\", \"Čtení\", \"Hudba\", \"Výtvarné aktivity\"]\n",
    "pocty = [6, 5, 3, 4, 2]\n",
    "\n",
    "# Graf\n",
    "plt.bar(aktivity, pocty, color=\"skyblue\")\n",
    "\n",
    "# Popisky\n",
    "plt.title(\"Oblíbené volnočasové aktivity studentů\")\n",
    "plt.xlabel(\"Aktivita\")\n",
    "plt.ylabel(\"Počet studentů\")\n",
    "\n",
    "# Zobrazení\n",
    "plt.show()\n",
    "```\n",
    "</details>"
   ]
  },
  {
   "cell_type": "markdown",
   "id": "3f95449c-c039-4b13-af37-e16f259b956c",
   "metadata": {},
   "source": [
    "**Úkol 2:** *Kolik hodin spánku studenti mají?*\n",
    "\n",
    "Ze stejného průzkumu máme i údaje, kolik hodin studenti obvykle spí za den.\n",
    "\n",
    "➡️ **Zobraz rozložení počtu hodin spánku pomocí vhodného grafu.**"
   ]
  },
  {
   "cell_type": "markdown",
   "id": "b432a738-1a89-465a-a384-0badb4c908ce",
   "metadata": {},
   "source": [
    "#### Vstupní data\n",
    "\n",
    "---"
   ]
  },
  {
   "cell_type": "code",
   "execution_count": null,
   "id": "bb49c7af-f7fa-4990-ad7d-6ff4d1fe6a6e",
   "metadata": {},
   "outputs": [],
   "source": [
    "delka_spanku = [6.5, 7, 8, 5, 6, 7.5, 6.5, 5.5, 8, 7, 6, 6.5, 7, 5, 6, 7.5, 8.5, 6, 6.5, 7]"
   ]
  },
  {
   "cell_type": "markdown",
   "id": "22f6c1ce-b2d0-48c8-be53-2a5d2fb89199",
   "metadata": {},
   "source": [
    "#### Zobrazení grafu\n",
    "\n",
    "---"
   ]
  },
  {
   "cell_type": "code",
   "execution_count": null,
   "id": "dc54559e-0ea6-4c4d-b7a5-c084a85c9891",
   "metadata": {},
   "outputs": [],
   "source": [
    "# plt.hist?"
   ]
  },
  {
   "cell_type": "code",
   "execution_count": null,
   "id": "21262641-05a4-4d85-bd0b-5908e4d9b1d0",
   "metadata": {},
   "outputs": [],
   "source": [
    "plt.hist(delka_spanku, bins=2)"
   ]
  },
  {
   "cell_type": "markdown",
   "id": "1bd9f544-3c89-4229-8b19-a0f098e24c03",
   "metadata": {},
   "source": [
    "<details>\n",
    "    <summary>▶️ Řešení</summary>\n",
    "    \n",
    "```python\n",
    "# Data\n",
    "delka_spanku = [6.5, 7, 8, 5, 6, 7.5, 6.5, 5.5, 8, 7, 6, 6.5, 7, 5, 6, 7.5, 8.5, 6, 6.5, 7]\n",
    "\n",
    "# Graf\n",
    "plt.hist(delka_spanku, bins=5, color=\"lightgreen\", edgecolor=\"black\")\n",
    "\n",
    "# Popisky\n",
    "plt.title(\"Rozložení hodin spánku studentů\")\n",
    "plt.xlabel(\"Hodiny spánku\")\n",
    "plt.ylabel(\"Počet studentů\")\n",
    "\n",
    "# Zobrazení\n",
    "plt.show()\n",
    "```\n",
    "</details>"
   ]
  },
  {
   "cell_type": "code",
   "execution_count": null,
   "id": "d2bbdc2c-5b9e-4800-a790-4073b7cdc2ef",
   "metadata": {},
   "outputs": [],
   "source": []
  },
  {
   "cell_type": "markdown",
   "id": "4c3f6782-05bb-4b81-af82-b4f67e10ac96",
   "metadata": {},
   "source": [
    "<br>\n",
    "\n",
    "#### **🧠 CVIČENÍ PRO POKROČILÉ 🧠, procvič si TYPY grafů**\n",
    "\n",
    "---"
   ]
  },
  {
   "cell_type": "markdown",
   "id": "eb332673-d12f-4dfa-bed6-0184704602e2",
   "metadata": {},
   "source": [
    "Cílem této úlohy je vytvořit takový graf, který zobrazuje zastoupení různých kategorií produktů podle jejich prodeje ve fiktivním obchodě."
   ]
  },
  {
   "cell_type": "markdown",
   "id": "b5dbf574-cbd1-483e-8f28-d943229b0a57",
   "metadata": {},
   "source": [
    "1. Vytvoř **graf zobrazující procentuální zastoupení** různých kategorií produktů podle jejich prodeje.\n",
    "2. nastav vlastní barvy pro jednotlivé kategorie grafu.\n",
    "3. přidej **popisky os** a **legendu**, která zobrazuje **názvy kategorií** produktů a jejich procentuální zastoupení v prodeji.\n",
    "4. ulož výsledný graf do souboru **ve formátu PNG**."
   ]
  },
  {
   "cell_type": "code",
   "execution_count": null,
   "id": "bd02382f-57fd-4fe9-8e8f-617c209e431b",
   "metadata": {
    "tags": []
   },
   "outputs": [],
   "source": [
    "data = {\"Elektronika\": 150000,\n",
    "        \"Oblečení\": 95000,\n",
    "        \"Domácí potřeby\": 120000,\n",
    "        \"Kosmetika\": 85000,\n",
    "        \"Hračky\": 55000}"
   ]
  },
  {
   "cell_type": "code",
   "execution_count": null,
   "id": "7e7ed473-68c2-40bb-8e5f-342c21e09db6",
   "metadata": {
    "tags": []
   },
   "outputs": [],
   "source": [
    "barvy = ['#1f77b4', '#ff7f0e', '#2ca02c', '#d62728', '#9467bd']"
   ]
  },
  {
   "cell_type": "markdown",
   "id": "415fbe57-db1e-44bf-be7d-a7ee058520ac",
   "metadata": {
    "tags": []
   },
   "source": [
    "#### Popisky a další konstanty\n",
    "\n",
    "---"
   ]
  },
  {
   "cell_type": "code",
   "execution_count": null,
   "id": "9e7fdf6c-7263-4acf-a4c2-a8a14c12690f",
   "metadata": {
    "tags": []
   },
   "outputs": [],
   "source": []
  },
  {
   "cell_type": "markdown",
   "id": "9e66d998-939a-4988-ad9a-b2e8d245d796",
   "metadata": {
    "tags": []
   },
   "source": [
    "#### Vytvoření grafu\n",
    "\n",
    "---"
   ]
  },
  {
   "cell_type": "code",
   "execution_count": null,
   "id": "84b825b0-d9b1-43b7-9638-67b5d0923d1b",
   "metadata": {
    "tags": []
   },
   "outputs": [],
   "source": []
  },
  {
   "cell_type": "markdown",
   "id": "a36fbb49-ebc2-4ce3-955d-f5a14114ee8c",
   "metadata": {},
   "source": [
    "<details>\n",
    "    <summary>▶️ Řešení</summary>\n",
    "    \n",
    "```python\n",
    "# Rozdělení dat\n",
    "labels = list(data.keys())\n",
    "sizes = list(data.values())\n",
    "\n",
    "# Vlastní barvy\n",
    "colors = ['#1f77b4', '#ff7f0e', '#2ca02c', '#d62728', '#9467bd']\n",
    "\n",
    "# Vytvoření koláčového grafu\n",
    "fig, ax = plt.subplots()\n",
    "ax.pie(sizes, labels=labels, colors=colors, autopct='%1.f%%', startangle=90)\n",
    "\n",
    "# Nastavení názvů os a legendy\n",
    "ax.set_title('Prodejní zastoupení kategorií produktů')\n",
    "ax.legend(title='Kategorie', loc='upper right', bbox_to_anchor=(1, 0.5))\n",
    "\n",
    "# Uložení grafu do souboru PNG\n",
    "plt.savefig('pie_chart.png', dpi=300, bbox_inches='tight')\n",
    "\n",
    "# Zobrazení grafu\n",
    "plt.show()\n",
    "\n",
    "# Alternativa>>>\n",
    "plt.pie(data.values(), \n",
    "        labels = data.keys(), \n",
    "        colors = barvy, \n",
    "        autopct='%1.0f%%', \n",
    "        wedgeprops={'linewidth': 3.0, 'edgecolor': props_color},\n",
    "        textprops={'color': props_color, 'size': 'x-large'})\n",
    "\n",
    "# Přidání popisků grafu a legendy\n",
    "plt.title(plot_title, fontsize=25)\n",
    "plt.legend(loc='lower right',\n",
    "           fontsize = 12,\n",
    "           bbox_to_anchor=(1.35, 0.6))\n",
    "\n",
    "\n",
    "# Úprava velikosti grafu\n",
    "plt.gcf().set_size_inches(10, 7)\n",
    "\n",
    "# Zobrazení grafu\n",
    "plt.show( )\n",
    "```\n",
    "</details>"
   ]
  },
  {
   "cell_type": "markdown",
   "id": "14ed66d3-b267-43f9-910e-ae95503476ec",
   "metadata": {},
   "source": [
    "## Vytvoření jednoduchého grafu\n",
    "\n",
    "---"
   ]
  },
  {
   "cell_type": "markdown",
   "id": "7329b083-d8ed-4594-8ba3-bf8d656dd266",
   "metadata": {},
   "source": [
    "Celý postup pro práci s daty a grafickým výstupem má přibližně takový průběh:\n",
    "1. **Nahrávání knihoven, načítání dat**,\n",
    "2. **Volání vykreslovací metody**, `plt.plot(x, y)`, ...\n",
    "3. **Stylování a formátování**,\n",
    "    - barvy (color),\n",
    "    - typ čáry (linestyle),\n",
    "    - tloušťka (linewidth),\n",
    "    - značky (marker),\n",
    "5. **Popisky a nadpisy**, plt.title(), plt.xlabel(), plt.ylabel()\n",
    "6. **Mřížka a legenda**, plt.grid(True), plt.legend()\n",
    "7. **Uložení grafu**, plt.savefig(\"nazev.png\")"
   ]
  },
  {
   "cell_type": "markdown",
   "id": "05dddbbc-4814-4278-8f21-bf9df9db6827",
   "metadata": {},
   "source": [
    "### Nahrávání & načítání\n",
    "\n",
    "---"
   ]
  },
  {
   "cell_type": "code",
   "execution_count": null,
   "id": "238ce235-dfe2-431e-8485-414937dc6f94",
   "metadata": {},
   "outputs": [],
   "source": [
    "import matplotlib.pyplot"
   ]
  },
  {
   "cell_type": "code",
   "execution_count": null,
   "id": "500729d1-acea-46fb-a357-8fcdddbcd07f",
   "metadata": {},
   "outputs": [],
   "source": [
    "import matplotlib.pyplot as plt"
   ]
  },
  {
   "cell_type": "markdown",
   "id": "9d0c7ed9-e73a-4a3a-88fe-fb70e6892e7e",
   "metadata": {},
   "source": [
    "Standard je práce **s aliasem**.\n",
    "\n",
    "Načtení dat potom zpřístupní knihovna `pandas`:"
   ]
  },
  {
   "cell_type": "code",
   "execution_count": null,
   "id": "830cf7b6-a2aa-4191-b581-d172a5ce5b75",
   "metadata": {},
   "outputs": [],
   "source": [
    "import pandas as pd"
   ]
  },
  {
   "cell_type": "markdown",
   "id": "87ac5c48-9823-4c48-a49c-97b9c373691f",
   "metadata": {},
   "source": [
    "#### Načteme Excel soubor\n",
    "\n",
    "---"
   ]
  },
  {
   "cell_type": "code",
   "execution_count": null,
   "id": "b8b40f41-00ea-416d-8e1c-e749ab8bffb1",
   "metadata": {},
   "outputs": [],
   "source": [
    "file_path = \"../onsite/RESULT_LIST_ANONYM_CAPACITY_MARKET_FCR_2025-05-20_2025-05-20.xlsx\""
   ]
  },
  {
   "cell_type": "code",
   "execution_count": null,
   "id": "a0400bff-74b6-4b07-ad47-5ed318eec73c",
   "metadata": {},
   "outputs": [],
   "source": [
    "excel_df = pd.read_excel(file_path, engine='openpyxl')"
   ]
  },
  {
   "cell_type": "code",
   "execution_count": null,
   "id": "77dd336c-4990-4473-ba82-c9c60411bc89",
   "metadata": {},
   "outputs": [],
   "source": [
    "excel_df.head()"
   ]
  },
  {
   "cell_type": "markdown",
   "id": "03c18f2c-8dfe-4e85-96fc-0b3089a42518",
   "metadata": {},
   "source": [
    "Pokud budeš potřebovat zpracovat v rámci souboru několik sešitů:"
   ]
  },
  {
   "cell_type": "code",
   "execution_count": null,
   "id": "deba9876-a21d-4d23-b8a4-897cdc4a3398",
   "metadata": {},
   "outputs": [],
   "source": [
    "excel_file = pd.ExcelFile(file_path)"
   ]
  },
  {
   "cell_type": "markdown",
   "id": "4e05eeb1-6389-4ab5-8cbb-d415448314ff",
   "metadata": {},
   "source": [
    "#### Zobrazíme názvy listů v Excelu\n",
    "\n",
    "---"
   ]
  },
  {
   "cell_type": "code",
   "execution_count": null,
   "id": "c232a33b-d556-475a-b2d7-24ecc9323595",
   "metadata": {},
   "outputs": [],
   "source": [
    "sheet_names = excel_file.sheet_names"
   ]
  },
  {
   "cell_type": "code",
   "execution_count": null,
   "id": "b18d1ca4-7f04-4cb7-b3ad-0f25443ef15a",
   "metadata": {},
   "outputs": [],
   "source": [
    "sheet_names"
   ]
  },
  {
   "cell_type": "code",
   "execution_count": null,
   "id": "ade97105-3ad3-4d7b-b0d1-a961b54eb4c8",
   "metadata": {},
   "outputs": [],
   "source": [
    "df = excel_file.parse(sheet_name=\"001\")"
   ]
  },
  {
   "cell_type": "markdown",
   "id": "c10cee06-61ee-4f0b-8b54-68bb45af3fee",
   "metadata": {},
   "source": [
    "#### Zobrazíme první řádky\n",
    "\n",
    "---"
   ]
  },
  {
   "cell_type": "code",
   "execution_count": null,
   "id": "ab182669-c3ef-499f-83d1-a6ac56aa9e87",
   "metadata": {},
   "outputs": [],
   "source": [
    "df.head()"
   ]
  },
  {
   "cell_type": "markdown",
   "id": "a54bbaf8-d4eb-42ed-9ecf-0a2a64cc33de",
   "metadata": {},
   "source": [
    "<br>\n",
    "\n",
    "### Vykreslovací metody, co budeme popisovat?\n",
    "\n",
    "---\n",
    "\n",
    "**Zajímá tě**: *Kolik kapacity bylo alokováno v každé zemi?*\n",
    "\n",
    "Použijeme k tomu sloupcový graf (`bar chart` ~  sloupcový graf), kde:\n",
    "- **osa X** = zkratka země (např. DE, CZ),\n",
    "- **osa Y** = celkové množství alokované kapacity v MW.\n",
    "\n",
    "Před samotným zobrazováním ale potřebuješ data trochu \"učesat\", seskupit:"
   ]
  },
  {
   "cell_type": "markdown",
   "id": "b20c8f1b-eb1c-4571-8e45-cbebb6911ac7",
   "metadata": {},
   "source": [
    "#### Spočítáme celkovou kapacitu pro každou zemi\n",
    "\n",
    "---"
   ]
  },
  {
   "cell_type": "code",
   "execution_count": null,
   "id": "9942ccdf-e294-42cb-830f-49bd5bfbfd9f",
   "metadata": {},
   "outputs": [],
   "source": [
    "df_grouped = df.groupby(\"COUNTRY\")[\"ALLOCATED_CAPACITY_[MW]\"].sum()"
   ]
  },
  {
   "cell_type": "code",
   "execution_count": null,
   "id": "703e1b2a-bbf3-447d-a60c-8cdc08585dda",
   "metadata": {},
   "outputs": [],
   "source": [
    "df_grouped.head()"
   ]
  },
  {
   "cell_type": "markdown",
   "id": "44a3f2fd-2a2c-4207-9f42-177a86e4d247",
   "metadata": {},
   "source": [
    "<br>\n",
    "\n",
    "#### Seřadíme od nejvyšší po nejnižší\n",
    "\n",
    "---"
   ]
  },
  {
   "cell_type": "code",
   "execution_count": null,
   "id": "364459b7-d295-4b64-97b8-2d8538f37ede",
   "metadata": {},
   "outputs": [],
   "source": [
    "col_grouped = df_grouped.sort_values(ascending=False)"
   ]
  },
  {
   "cell_type": "code",
   "execution_count": null,
   "id": "329d9a38-57ab-44e3-a582-d364664195a0",
   "metadata": {},
   "outputs": [],
   "source": [
    "col_grouped"
   ]
  },
  {
   "cell_type": "code",
   "execution_count": null,
   "id": "effd8620-e139-43b9-a6ad-f584a0687ca3",
   "metadata": {},
   "outputs": [],
   "source": [
    "type(col_grouped)"
   ]
  },
  {
   "cell_type": "markdown",
   "id": "88f36250-f2f4-4aeb-9481-695d0a1bdfe0",
   "metadata": {},
   "source": [
    "#### Vytvoření sloupcového grafu\n",
    "\n",
    "---"
   ]
  },
  {
   "cell_type": "code",
   "execution_count": null,
   "id": "392d23e5-5e33-420a-91a2-157f7920377d",
   "metadata": {},
   "outputs": [],
   "source": [
    "countries = col_grouped.index.tolist()    # to_list()\n",
    "capacities = col_grouped.values.tolist()  # to_list()"
   ]
  },
  {
   "cell_type": "code",
   "execution_count": null,
   "id": "15291772-cca0-40c0-9dd4-99d1d368070d",
   "metadata": {},
   "outputs": [],
   "source": [
    "capacities"
   ]
  },
  {
   "cell_type": "code",
   "execution_count": null,
   "id": "1a38bcb9-023d-4637-9a5f-999966554b5c",
   "metadata": {},
   "outputs": [],
   "source": [
    "# Vykreslení grafu\n",
    "obr = plt.figure(figsize=(8, 5))\n",
    "plt.bar(countries, capacities, edgecolor=\"black\")\n",
    "\n",
    "plt.title(\"Alokovaná kapacita podle země (MW)\")\n",
    "plt.xlabel(\"Země\")\n",
    "plt.ylabel(\"Alokovaná kapacita [MW]\")\n",
    "\n",
    "plt.grid(axis=\"y\", linestyle=\"--\", alpha=0.9)\n",
    "plt.savefig(fname=\"alokovana_kapacita_podle_zemi\",\n",
    "            format=\"jpg\")  # Formát pro export je PNG"
   ]
  },
  {
   "cell_type": "code",
   "execution_count": null,
   "id": "d8e98548-1220-4283-a8bc-336767b333fa",
   "metadata": {},
   "outputs": [],
   "source": [
    "# plt.savefig?"
   ]
  },
  {
   "cell_type": "markdown",
   "id": "3facd12a-d0a4-4a17-be52-54264c8693b7",
   "metadata": {},
   "source": [
    "<br>\n",
    "\n",
    "Další podporované suffixy, které ti knihovna defaultně poskytne pro další práci:"
   ]
  },
  {
   "cell_type": "code",
   "execution_count": null,
   "id": "781af288-079e-4de9-b51b-9e391cbb0cf1",
   "metadata": {
    "scrolled": true,
    "tags": []
   },
   "outputs": [],
   "source": [
    "obr.canvas.get_supported_filetypes()"
   ]
  },
  {
   "cell_type": "markdown",
   "id": "a8e68e72-e2cd-419d-80f5-2a535815052c",
   "metadata": {},
   "source": [
    "<br>\n",
    "\n",
    "Uložený graf najdeš jako výstup v aktuálním adresáři.\n",
    "\n",
    "Pokud neuvedeš explicitně formát, vytvoří interpret **automaticky nespecifikovaný** (`_format`)."
   ]
  },
  {
   "cell_type": "markdown",
   "id": "5da80902-13fa-48f2-a47c-cac9934e0013",
   "metadata": {},
   "source": [
    "<br>\n",
    "\n",
    "#### Detaily objektů\n",
    "\n",
    "---"
   ]
  },
  {
   "cell_type": "markdown",
   "id": "8b3e6bdd-8def-4810-a82f-6c3398f067f5",
   "metadata": {},
   "source": [
    "- `figure`, vytváří nový „prázdný“ obrázek, do kterého se kreslí grafy. Bez něj by se graf vykreslil do výchozí (defaultní) plochy.\n",
    "| Parametr | Popis | Příklad |\n",
    "| :-: | :- | :- |\n",
    "| `figsize` | Velikost obrázku v palcích (šířka, výška) | `figsize=(8, 5)` |\n",
    "| `dpi` | Kvalita (rozlišení) při exportu obrázku |\t`dpi=100` |\n",
    "\n",
    "- `bar`, vytváří sloupcový (bar) graf – každý sloupec odpovídá jedné hodnotě z osy X a jeho výška odpovídá hodnotě Y.\n",
    "\n",
    "| Parametr | Popis | Příklad |\n",
    "| :-: | :- | :- |\n",
    "| `x` | Kategorie nebo štítky na ose X | `x=[\"A\", \"B\", \"C\"]` |\n",
    "| `height` | Hodnoty na ose Y | `height=[5, 2, 7]` |\n",
    "| `color` | Výplňová barva sloupce\t| `\"blue\"`, `\"#06b085\"` |\n",
    "| `edgecolor` |\tBarva okraje sloupce | `\"black\"` |\n",
    "| `width` |\tŠířka sloupců |\t`0.6` |\n",
    "| `label` |\tPopisek pro legendu| `\"DE\"` |\n",
    "\n",
    "- `grid`, zobrazí mřížku pro lepší čitelnost hodnot.\n",
    "\n",
    "| Parametr | Popis | Příklad |\n",
    "| :-: | :- | :- |\n",
    "| `axis` |\t\"x\", \"y\" nebo \"both\" |\t`axis=\"y\"` |\n",
    "| `linestyle` |\tStyl čáry (\"--\", \":\", \"-.\")| \t`\"--\"` |\n",
    "| `alpha` | Průhlednost čáry (0–1) | `0.5` |\n",
    "\n",
    "- `savefig`,\n",
    "\n",
    "| Parametr | Popis | Příklad |\n",
    "| :-: | :- | :- |\n",
    "| `fname` |\tNázev a přípona souboru\t| `\"graf1.png\"` |\n",
    "| `format` |\tpřípona souboru\t| `\"png\"` |\n",
    "| `dpi` |\tRozlišení |\t`dpi=300` |\n",
    "| `transparent` | Uložení s průhledným pozadím (bool) |\t`transparent=True` |\n",
    "| `bbox_inches` | Oříznutí okrajů ('tight' doporučeno) | `bbox_inches='tight'` |\n",
    "\n",
    "- `show`, zobrazí vytvořený graf. Jupyter notebook to umí i bez něj, ale je do nutnost ve skriptu/modulu."
   ]
  },
  {
   "cell_type": "markdown",
   "id": "ebfaefea-5805-4cfb-ba24-af5cddbc4501",
   "metadata": {},
   "source": [
    "<br>\n",
    "\n",
    "### Upravená ukázka pro `seaborn`\n",
    "\n",
    "---"
   ]
  },
  {
   "cell_type": "code",
   "execution_count": null,
   "id": "8d3de8fa-2522-44c4-b8f5-e22e98b5cfc5",
   "metadata": {},
   "outputs": [],
   "source": [
    "import seaborn as sns"
   ]
  },
  {
   "cell_type": "code",
   "execution_count": null,
   "id": "0c7eb52a-77fd-412e-b999-68e3eaac810c",
   "metadata": {},
   "outputs": [],
   "source": [
    "df = pd.read_excel(\"../onsite/RESULT_LIST_ANONYM_CAPACITY_MARKET_FCR_2025-05-20_2025-05-20.xlsx\", sheet_name=\"001\")"
   ]
  },
  {
   "cell_type": "code",
   "execution_count": null,
   "id": "fafe1aa7-8553-425b-9515-54447e5da59b",
   "metadata": {},
   "outputs": [],
   "source": [
    "df_grouped = df.groupby(\"COUNTRY\")[\"ALLOCATED_CAPACITY_[MW]\"].sum().reset_index()"
   ]
  },
  {
   "cell_type": "code",
   "execution_count": null,
   "id": "16d97dae-655e-44bc-a13d-195a10de72c8",
   "metadata": {},
   "outputs": [],
   "source": [
    "df_grouped = df_grouped.sort_values(\"ALLOCATED_CAPACITY_[MW]\", ascending=False)"
   ]
  },
  {
   "cell_type": "code",
   "execution_count": null,
   "id": "312494b3-a281-41d8-bcb7-879751149d1c",
   "metadata": {},
   "outputs": [],
   "source": [
    "df_grouped.head()"
   ]
  },
  {
   "cell_type": "code",
   "execution_count": null,
   "id": "3e27b48e-c59e-49f6-8491-19346e9e04f0",
   "metadata": {},
   "outputs": [],
   "source": [
    "sns.set_theme(style=\"whitegrid\")  # Defaultní styl os, bez úprav\n",
    "\n",
    "plt.figure(figsize=(8, 5))\n",
    "sns.barplot(data=df_grouped,\n",
    "            x=\"COUNTRY\",\n",
    "            y=\"ALLOCATED_CAPACITY_[MW]\",\n",
    "            color=\"skyblue\",\n",
    "            edgecolor=\"black\")\n",
    "\n",
    "plt.title(\"Alokovaná kapacita podle země (MW)\")\n",
    "plt.xlabel(\"Země\")\n",
    "plt.ylabel(\"Alokovaná kapacita [MW]\")"
   ]
  },
  {
   "cell_type": "markdown",
   "id": "078bc954-f9ae-4d21-98c0-60a03c4e8254",
   "metadata": {},
   "source": [
    "### Srovnání knihoven `matplotlib` vs. `seaborn`\n",
    "\n",
    "---\n",
    "\n",
    "\n",
    "| Kritérium               | `matplotlib`                                     | `seaborn`                                      |\n",
    "|-------------------------|--------------------------------------------------|------------------------------------------------|\n",
    "| **Zápis**               | Ručně specifikujeme `x` a `y`                    | Pracujeme přímo s `DataFrame`                 |\n",
    "| **Styl a vzhled**       | Základní, vyžaduje víc ladění                    | Moderní vzhled už ve výchozím nastavení       |\n",
    "| **Rozšíření (`hue`, ...)** | Nutno řešit ručně                              | Snadné díky parametrům jako `hue`, `col`, ... |\n",
    "| **Flexibilita**         | Velmi vysoká, ale více kódu                     | Efektivní a úsporná syntaxe pro běžné případy |\n",
    "| **Vhodné pro**          | Detailní kontrolu, pokročilé grafy              | Rychlou, elegantní vizualizaci                |\n",
    "| **Výchozí styl**        | Spíše technický                                 | Elegantní a čitelný                           |\n"
   ]
  },
  {
   "cell_type": "markdown",
   "id": "90877735-29a7-443b-911c-589c86009ef1",
   "metadata": {},
   "source": [
    "<br>\n",
    "\n",
    "#### **🧠 CVIČENÍ 🧠, procvič si první úlohu s vlastním grafem**\n",
    "\n",
    "---"
   ]
  },
  {
   "cell_type": "markdown",
   "id": "d3ebe9e9-28c5-40c4-999f-a9ce94f87c81",
   "metadata": {},
   "source": [
    "Vyhotov jednotlivé kroky:\n",
    "1. Vytvoř vlastní DataFrame s uvedenými daty `vek` a `cas`.\n",
    "2. rozděl vygenerované hodnoty do kategorií `bins` a `labels`,\n",
    "3. rozdělené kategorie zapiš do sloupečku `Věková skupina`,\n",
    "4. seskup data podle `Věková skupina` a získej průměrnou hodnotu času u obr. pro každou skupinu,\n",
    "5. zaokrouhli desetinné číslo na jednu desetinu,\n",
    "6. Vykresli sloupcový graf pomocí `matplotlib`.\n",
    "7. Vykresli tentýž graf pomocí `seaborn`.\n",
    "8. Styluj oba grafy tak, aby byly přehledné a prezentovatelné.\n",
    "9. Napiš krátké srovnání rozdílu v zápisu a vzhledu."
   ]
  },
  {
   "cell_type": "markdown",
   "id": "b14872f6-e9c5-4567-907d-9af9fff9dc9f",
   "metadata": {},
   "source": [
    "#### Věkové skupiny a průměrný čas u obrazovky (v hodinách za den)\n",
    "\n",
    "---"
   ]
  },
  {
   "cell_type": "code",
   "execution_count": null,
   "id": "66dc1ba7-e1f4-4e97-9f60-986a92e5beac",
   "metadata": {},
   "outputs": [],
   "source": [
    "import numpy as np"
   ]
  },
  {
   "cell_type": "code",
   "execution_count": null,
   "id": "1602b374-e56d-495d-a0cf-57c31b8f526c",
   "metadata": {},
   "outputs": [],
   "source": [
    "n = 10_000_000\n",
    "bins = [9, 14, 19, 24, 29, 34, 39, 44]\n",
    "labels = [\"10–14\", \"15–19\", \"20–24\", \"25–29\", \"30–34\", \"35–39\", \"40–44\"]"
   ]
  },
  {
   "cell_type": "markdown",
   "id": "8ab798fc-49cd-4422-a9a3-bbc904ce60aa",
   "metadata": {},
   "source": [
    "#### Věkový rozsah: od 10 do 44 let (věk jako celé číslo)\n",
    "\n",
    "---"
   ]
  },
  {
   "cell_type": "code",
   "execution_count": null,
   "id": "312cc982-c275-481b-8135-b0db4d7af087",
   "metadata": {},
   "outputs": [],
   "source": [
    "vek = np.random.randint(10, 45, size=n)"
   ]
  },
  {
   "cell_type": "markdown",
   "id": "67b4947e-63c1-4226-aee3-2eb76eb78c49",
   "metadata": {},
   "source": [
    "#### Čas u obrazovky v hodinách: náhodně podle věku (čím mladší, tím spíš víc)\n",
    "---\n",
    "Např. základ: 2–7 h, s lehkou variabilitou"
   ]
  },
  {
   "cell_type": "code",
   "execution_count": null,
   "id": "f4d90e1a-79ce-467a-a773-bb9edaf1bf15",
   "metadata": {},
   "outputs": [],
   "source": [
    "cas = np.clip(np.random.normal(loc=7 - 0.1 * vek, scale=0.8, size=n), \n",
    "              a_min=0, a_max=None)"
   ]
  },
  {
   "cell_type": "markdown",
   "id": "79695650-3f21-4e51-80b8-bd9f56daf290",
   "metadata": {},
   "source": [
    "#### Zaokrouhlíme na 1 desetinné místo\n",
    "\n",
    "---"
   ]
  },
  {
   "cell_type": "code",
   "execution_count": null,
   "id": "dda26c16-dbcb-4dac-8400-cc05e05c5169",
   "metadata": {},
   "outputs": [],
   "source": [
    "cas = np.round(cas, 1)"
   ]
  },
  {
   "cell_type": "code",
   "execution_count": null,
   "id": "0cf88a15-c6d5-4490-b681-644837d74862",
   "metadata": {},
   "outputs": [],
   "source": [
    "df_data = pd.DataFrame({\"Věk\": vek, \"Čas\": cas})"
   ]
  },
  {
   "cell_type": "code",
   "execution_count": null,
   "id": "01658918-923b-4d56-857e-b2f25dfa9e2a",
   "metadata": {},
   "outputs": [],
   "source": [
    "df_data.head()"
   ]
  },
  {
   "cell_type": "code",
   "execution_count": null,
   "id": "aaa98af3-22bb-4a02-9da1-df71fddb4c79",
   "metadata": {},
   "outputs": [],
   "source": [
    "df_data['Věková skupina'] = pd.cut(df_data['Věk'], bins=bins, labels=labels)"
   ]
  },
  {
   "cell_type": "code",
   "execution_count": null,
   "id": "1544fec3-79ae-4b69-94b3-391ab7b7f72e",
   "metadata": {},
   "outputs": [],
   "source": [
    "df_seskupene = df_data.groupby('Věková skupina')['Čas'].mean().reset_index()"
   ]
  },
  {
   "cell_type": "code",
   "execution_count": null,
   "id": "2a4876c0-347d-437f-9445-6bfdab7df5a4",
   "metadata": {},
   "outputs": [],
   "source": [
    "df_seskupene['Čas'] = df_data['Čas'].round(1)"
   ]
  },
  {
   "cell_type": "code",
   "execution_count": null,
   "id": "41e34b88-37f6-4fcb-ac63-df5f3d412db9",
   "metadata": {},
   "outputs": [],
   "source": [
    "df_seskupene.head()  # sort_values()"
   ]
  },
  {
   "cell_type": "markdown",
   "id": "c635c307-9c29-4926-8273-fd1ddcd428e3",
   "metadata": {},
   "source": [
    "#### `matplotlib`\n",
    "\n",
    "---"
   ]
  },
  {
   "cell_type": "code",
   "execution_count": null,
   "id": "389ae429-c045-4f01-a524-02dfabe7a6f4",
   "metadata": {},
   "outputs": [],
   "source": [
    "plt.figure(figsize=(8,5))\n",
    "\n",
    "plt.bar(df_seskupene['Věková skupina'],\n",
    "        df_seskupene['Čas'],\n",
    "        edgecolor='black')\n",
    "\n",
    "plt.title('Průměrná doba u obrazovky dle věk')\n",
    "plt.xlabel('Věková skupina')\n",
    "plt.ylabel('Čas')"
   ]
  },
  {
   "cell_type": "markdown",
   "id": "c594459c-eb42-450b-aeb8-885b6b80252d",
   "metadata": {},
   "source": [
    "#### `seaborn`\n",
    "\n",
    "---"
   ]
  },
  {
   "cell_type": "code",
   "execution_count": null,
   "id": "dcd273a6-c165-4078-a677-6ad5305cf737",
   "metadata": {},
   "outputs": [],
   "source": [
    "sns.set_theme(style='whitegrid')\n",
    "plt.figure(figsize=(8, 5))\n",
    "\n",
    "obr = sns.barplot(data=df_seskupene,\n",
    "                  x='Věková skupina',\n",
    "                  y='Čas',\n",
    "                  color='lightblue',\n",
    "                  edgecolor='black')\n",
    "obr.plot(2, 2.8, '*', markersize=11, color='red')  # Doplnění značky pro výstup\n",
    "\n",
    "plt.title('Průměrná doba u obrazovky dle věk')"
   ]
  },
  {
   "cell_type": "markdown",
   "id": "3b1880d1-94f1-46fe-855f-3a27abcd6a5f",
   "metadata": {},
   "source": [
    "<details>\n",
    "    <summary>▶️ Řešení</summary>\n",
    "    \n",
    "```python\n",
    "df_data = pd.DataFrame({\"Věk\": vek, \"Čas u obrazovky (h/den)\": cas})\n",
    "df_data[\"Věková skupina\"] = pd.cut(df_data[\"Věk\"], bins=bins, labels=labels)\n",
    "df_grouped = df_data.groupby(\"Věková skupina\")[\"Čas u obrazovky (h/den)\"].mean().reset_index()\n",
    "df_grouped[\"Čas u obrazovky (h/den)\"] = df_grouped[\"Čas u obrazovky (h/den)\"].round(1)\n",
    "\n",
    "# matplotlib\n",
    "plt.figure(figsize=(8, 5))\n",
    "plt.bar(df_grouped[\"Věková skupina\"], df_grouped[\"Čas u obrazovky (h/den)\"], color=\"cornflowerblue\", edgecolor=\"black\")\n",
    "\n",
    "plt.title(\"Průměrná doba u obrazovky podle věku (simulovaná data)\")\n",
    "plt.xlabel(\"Věková skupina\")\n",
    "plt.ylabel(\"Průměrný čas (h/den)\")\n",
    "plt.grid(axis=\"y\", linestyle=\"--\", alpha=0.6)\n",
    "\n",
    "plt.show()\n",
    "\n",
    "# seaborn\n",
    "sns.set(style=\"whitegrid\")\n",
    "plt.figure(figsize=(8, 5))\n",
    "\n",
    "sns.barplot(data=df_grouped,\n",
    "            x=\"Věková skupina\",\n",
    "            y=\"Čas u obrazovky (h/den)\",\n",
    "            color=\"lightblue\",\n",
    "            edgecolor=\"black\")\n",
    "\n",
    "plt.title(\"Průměrná doba u obrazovky podle věku (simulovaná data)\")\n",
    "plt.xlabel(\"Věková skupina\")\n",
    "plt.ylabel(\"Průměrný čas (h/den)\")\n",
    "\n",
    "plt.show()\n",
    "```\n",
    "</details>"
   ]
  },
  {
   "cell_type": "markdown",
   "id": "28b1dbd7-a891-4787-a3ab-74687d25665e",
   "metadata": {},
   "source": [
    "<br>\n",
    "\n",
    "## Prvky grafu\n",
    "\n",
    "---\n"
   ]
  },
  {
   "cell_type": "markdown",
   "id": "17845215-115b-42ac-85aa-60832b377ffe",
   "metadata": {},
   "source": [
    "U nového grafu je obvykle potřeba **zajistit dva prvky**:\n",
    "* `axes` - tedy osy, chystaného grafu. Hodnoty, které hodláš zobrazit,\n",
    "* `figure` - objekty grafů (legenda, nadpis, detaily čáry grafu)."
   ]
  },
  {
   "cell_type": "markdown",
   "id": "38bd3609-b317-428e-9d81-786e88b8edac",
   "metadata": {},
   "source": [
    "![image.png](data:image/png;base64,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)"
   ]
  },
  {
   "cell_type": "markdown",
   "id": "d687c544-605a-4b54-887a-606b2941e5ff",
   "metadata": {},
   "source": [
    "<br>\n",
    "\n",
    "Objekt `figure` je místo, které obsahuje všechny objekty reprezentující **grafiku, text a obrázky** okolo,\n",
    "\n",
    "Zatímco `axes` reprezentuje grafické prostředí.\n",
    "\n",
    "Tedy rámeček se značkami a popisky, který bude případně obsahovat prvky z funkce `plot`, které tvoří vizualizaci. "
   ]
  },
  {
   "cell_type": "code",
   "execution_count": null,
   "id": "64f66377-6062-492a-bc3b-86e7e99ca613",
   "metadata": {},
   "outputs": [],
   "source": [
    "plt.figure()\n",
    "plt.axes()"
   ]
  },
  {
   "cell_type": "code",
   "execution_count": null,
   "id": "d057198c-d859-4c09-85d2-d0cd92a1a12d",
   "metadata": {},
   "outputs": [],
   "source": [
    "obr = plt.figure()\n",
    "osy = plt.axes()"
   ]
  },
  {
   "cell_type": "markdown",
   "id": "9336587b-4119-49a0-b34a-297c236e2280",
   "metadata": {},
   "source": [
    "<br>\n",
    "\n",
    "Pokud ti stačí opravdu jednoduchý graf, můžeš pracovat (jako v ukázce), pomocí samotné funkce `plot`.\n",
    "\n",
    "Ta si sama, na pozadí vytvoří defaultní hodnoty pro `axes` a `figures`."
   ]
  },
  {
   "cell_type": "code",
   "execution_count": null,
   "id": "0090136f-86c4-481d-bf27-ed1f076e5f58",
   "metadata": {
    "tags": []
   },
   "outputs": [],
   "source": [
    "plt.plot()"
   ]
  },
  {
   "cell_type": "markdown",
   "id": "4909edca-57c4-42d8-bb07-8a339221317d",
   "metadata": {},
   "source": [
    "<br>\n",
    "\n",
    "Pomocné vstupní hodnoty pro vyzobrazení průběhu s `matplotlib`:"
   ]
  },
  {
   "cell_type": "code",
   "execution_count": null,
   "id": "9cbe830a-a70e-4bd2-957a-a8484c7f7784",
   "metadata": {
    "tags": []
   },
   "outputs": [],
   "source": [
    "x = [0, 1, 2, 3, 4]\n",
    "y = [-1, 1, -2, 2, -3]"
   ]
  },
  {
   "cell_type": "code",
   "execution_count": null,
   "id": "775aa70f-25c9-4124-88bb-5a490f9abfc3",
   "metadata": {
    "tags": []
   },
   "outputs": [],
   "source": [
    "plt.plot(x, y)"
   ]
  },
  {
   "cell_type": "markdown",
   "id": "9ae879c5-c932-4f0f-8630-7e4afe05c0a1",
   "metadata": {},
   "source": [
    "Analogický postup za použití DataFrame objektu a knihovny `seaborn`:"
   ]
  },
  {
   "cell_type": "code",
   "execution_count": null,
   "id": "fbecd12c-d8e1-4399-bbc3-b4813eea8a8f",
   "metadata": {},
   "outputs": [],
   "source": [
    "df_data = pd.DataFrame({'Osa x': [0, 1, 2, 3, 4], 'Osa y': [-1, 1, -2, 2, -3]})"
   ]
  },
  {
   "cell_type": "code",
   "execution_count": null,
   "id": "bf3b3f14-1727-4f26-b110-d1566d2788f8",
   "metadata": {},
   "outputs": [],
   "source": [
    "df_data.head()"
   ]
  },
  {
   "cell_type": "markdown",
   "id": "fb6190c0-916d-40b9-bab0-e8a2147c2d88",
   "metadata": {},
   "source": [
    "Všimni si, že pro `seaborn` je typické, vycházet z hodnot, z tabulky.\n",
    "\n",
    "<br>"
   ]
  },
  {
   "cell_type": "code",
   "execution_count": null,
   "id": "7932ffed-aceb-439d-b4be-5e1b6cddfa36",
   "metadata": {},
   "outputs": [],
   "source": [
    "sns.lineplot(data=df_data, x='Osa x', y='Osa y', marker='o')"
   ]
  },
  {
   "cell_type": "markdown",
   "id": "2c7991a7-5c53-4c8c-8666-4e40ae5643ee",
   "metadata": {},
   "source": [
    "Ale opatrně na nekonzistenci jmen os!"
   ]
  },
  {
   "cell_type": "code",
   "execution_count": null,
   "id": "62b4426f-275e-464a-9586-8c8d48317706",
   "metadata": {},
   "outputs": [],
   "source": [
    "df_data.head()"
   ]
  },
  {
   "cell_type": "code",
   "execution_count": null,
   "id": "25412c72-e628-443e-9b22-63c21eadf05b",
   "metadata": {},
   "outputs": [],
   "source": [
    "# sns.lineplot(data=df_data, x='x', y='y', marker='o')  # 'ValueError'"
   ]
  },
  {
   "cell_type": "markdown",
   "id": "761941d8-a3f6-49eb-bfcf-d323c95e1d1e",
   "metadata": {},
   "source": [
    "<br>\n",
    "\n",
    "#### **🧠 CVIČENÍ 🧠, transformace DataFrame a vykreslení čárového grafu**\n",
    "\n",
    "---"
   ]
  },
  {
   "cell_type": "markdown",
   "id": "d7e931e6-2b99-45ea-98d6-881b341886b0",
   "metadata": {},
   "source": [
    "Máte následující tabulku, která obsahuje informace o měsíčních výdajích na různé kategorie:\n",
    "\n",
    "* Měsíce (months): Leden, Únor, Březen, Duben, Květen.\n",
    "* Výdaje na potraviny (food): 1200, 1500, 1300, 1400, 1350.\n",
    "* Výdaje na dopravu (transport): 300, 350, 400, 320, 310.\n",
    "\n",
    "\n",
    "Vaším úkolem je:\n",
    "* Převést sloupec měsíce (months) na index tabulky.\n",
    "* Přidat nový sloupec total_expenses, který bude součtem výdajů na potraviny a dopravu.\n",
    "* Vykreslit čárový graf, který bude zobrazovat celkové výdaje (total_expenses) v jednotlivých měsících."
   ]
  },
  {
   "cell_type": "markdown",
   "id": "52162336-1c63-4d58-bbaa-df88466ff4c6",
   "metadata": {},
   "source": [
    "| month | food | transport | total_expenses |\n",
    "| :-: | :-: | :-: | :-: | \n",
    "| Leden |     1200   |     300    |        1500 |\n",
    "| Únor   |    1500   |     350    |        1850 |\n",
    "| Březen  |   1300   |     400    |        1700 |\n",
    "| Duben    |  1400   |     320    |        1720 |\n",
    "| Květen   |  1350   |     310    |        1660 |"
   ]
  },
  {
   "cell_type": "code",
   "execution_count": null,
   "id": "65bf125f-c617-4619-90cc-2ed45304f89c",
   "metadata": {},
   "outputs": [],
   "source": [
    "import pandas as pd\n",
    "import seaborn as sns\n",
    "import matplotlib.pyplot as plt"
   ]
  },
  {
   "cell_type": "code",
   "execution_count": null,
   "id": "bde84150-6aed-4f23-9cbf-4244f079301d",
   "metadata": {},
   "outputs": [],
   "source": [
    "data_df = pd.DataFrame({\n",
    "    'months': ['Leden', 'Únor', 'Březen', 'Duben', 'Květen'],\n",
    "    'food': [1200, 1500, 1300, 1400, 1350],\n",
    "    'transport': [300, 350, 400, 320, 310]\n",
    "})"
   ]
  },
  {
   "cell_type": "code",
   "execution_count": null,
   "id": "cf088097-a35b-4d46-be6d-6041094a6072",
   "metadata": {},
   "outputs": [],
   "source": []
  },
  {
   "cell_type": "markdown",
   "id": "c89923cd-6187-4e7a-8ea4-0a5085e0def8",
   "metadata": {},
   "source": [
    "<details>\n",
    "    <summary>▶️ Řešení</summary>\n",
    "    \n",
    "```python\n",
    "import pandas as pd\n",
    "import seaborn as sns\n",
    "import matplotlib.pyplot as plt\n",
    "\n",
    "data = pd.DataFrame({\n",
    "    'months': ['Leden', 'Únor', 'Březen', 'Duben', 'Květen'],\n",
    "    'food': [1200, 1500, 1300, 1400, 1350],\n",
    "    'transport': [300, 350, 400, 320, 310]\n",
    "})\n",
    "\n",
    "data.set_index('months', inplace=True)\n",
    "\n",
    "data['total_expenses'] = data['food'] + data['transport']\n",
    "\n",
    "sns.lineplot(data=data, x=data.index, y='total_expenses', marker='o')\n",
    "\n",
    "plt.title('Celkové výdaje v jednotlivých měsících')\n",
    "plt.xlabel('Měsíce')\n",
    "plt.ylabel('Celkové výdaje (Kč)')\n",
    "\n",
    "plt.show()\n",
    "```\n",
    "</details>"
   ]
  },
  {
   "cell_type": "markdown",
   "id": "907a0184-a13c-4858-bc8f-ace1bdf99ad6",
   "metadata": {},
   "source": [
    "Všechny grafy lze **značně** *customizovat*.\n",
    "\n",
    "Mezi nejčastější úpravy patří zejména:\n",
    "* styl čáry & barva čáry,\n",
    "* body čáry,\n",
    "* mřížku,\n",
    "* osy,\n",
    "* popisky,\n",
    "* legendu."
   ]
  },
  {
   "cell_type": "markdown",
   "id": "7266518d-d2ef-4c60-b1bc-714d9e07a3bd",
   "metadata": {
    "tags": []
   },
   "source": [
    "<br>\n",
    "\n",
    "Pro všechny úpravy grafů, které se ti mohou hodit, omkrni funkci `plot`:"
   ]
  },
  {
   "cell_type": "code",
   "execution_count": null,
   "id": "429ed2b2-4bd4-4287-b868-e0936511f4a6",
   "metadata": {
    "tags": []
   },
   "outputs": [],
   "source": [
    "# help(plt.plot)"
   ]
  },
  {
   "cell_type": "markdown",
   "id": "9fd56636-6744-414c-a072-9845fd23e8e9",
   "metadata": {},
   "source": [
    "<br>\n",
    "\n",
    "### Styl čáry\n",
    "\n",
    "---"
   ]
  },
  {
   "cell_type": "markdown",
   "id": "152db862-83e8-46ae-a8d4-eea6ee0690a0",
   "metadata": {},
   "source": [
    "Pomocí argumentu `linestyle` definuješ **styl čáry** (nebo také formát čáry):"
   ]
  },
  {
   "cell_type": "markdown",
   "id": "17692b24-8f0f-4e18-87c5-65fa03522863",
   "metadata": {},
   "source": [
    "![image.png](data:image/png;base64,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)"
   ]
  },
  {
   "cell_type": "code",
   "execution_count": null,
   "id": "e7ab8b0a-0004-4d46-a27c-6da22f3cba08",
   "metadata": {
    "tags": []
   },
   "outputs": [],
   "source": [
    "import numpy"
   ]
  },
  {
   "cell_type": "code",
   "execution_count": null,
   "id": "cb632557-0bfc-4917-9059-b5cc38cdc495",
   "metadata": {
    "tags": []
   },
   "outputs": [],
   "source": [
    "plt.plot(x, numpy.array(y) + 1, linestyle='solid')\n",
    "plt.plot(x, numpy.array(y) + 2, linestyle='dashed')\n",
    "plt.plot(x, numpy.array(y) + 3, linestyle='dashdot')\n",
    "plt.plot(x, numpy.array(y) + 4, linestyle='dotted')"
   ]
  },
  {
   "cell_type": "markdown",
   "id": "1e68ab91-31da-4cc9-8a40-0feb6682de0b",
   "metadata": {},
   "source": [
    "<br>\n",
    "\n",
    "Můžeš také použít ekvivalentní označení pomocí **znaků**:"
   ]
  },
  {
   "cell_type": "code",
   "execution_count": null,
   "id": "5d12e7a7-d806-453d-9f76-2cc6d38c5abe",
   "metadata": {
    "tags": []
   },
   "outputs": [],
   "source": [
    "plt.plot(x, numpy.array(y) + 4, linestyle='-')   # solid\n",
    "plt.plot(x, numpy.array(y) + 5, linestyle='--')  # dashed\n",
    "plt.plot(x, numpy.array(y) + 6, linestyle='-.')  # dashdot\n",
    "plt.plot(x, numpy.array(y) + 7, linestyle=':');  # dotted"
   ]
  },
  {
   "cell_type": "markdown",
   "id": "e01b7953-825a-412b-a8d0-76dbfe6c240a",
   "metadata": {},
   "source": [
    "<br>\n",
    "\n",
    "### Barva čáry\n",
    "\n",
    "---"
   ]
  },
  {
   "cell_type": "markdown",
   "id": "bba3a828-55c2-416e-8891-ee8791058f24",
   "metadata": {},
   "source": [
    "Pokud chceš upravit barvu, můžeš použít klíčové slovo `color`.\n",
    "\n",
    "To přijímá argument řetězce představující prakticky jakoukoli představitelnou barvu."
   ]
  },
  {
   "cell_type": "code",
   "execution_count": null,
   "id": "a4e0a8ce-feca-4341-bae6-fe9529536488",
   "metadata": {
    "tags": []
   },
   "outputs": [],
   "source": [
    "import matplotlib as mpl"
   ]
  },
  {
   "cell_type": "markdown",
   "id": "5b31d2ef-ba71-447c-a8cf-8087b033f5ca",
   "metadata": {},
   "source": [
    "![image.png](data:image/png;base64,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)"
   ]
  },
  {
   "cell_type": "markdown",
   "id": "bf23a62a-7aa4-4c45-add4-29f3ce8ba07a",
   "metadata": {},
   "source": [
    "<br>\n",
    "\n",
    "Pokud barvu neuvedeš, knihovna vybere automaticky ze základní palety barev."
   ]
  },
  {
   "cell_type": "code",
   "execution_count": null,
   "id": "7e270de1-f530-40b6-8684-c3a2d9aa20dd",
   "metadata": {
    "tags": []
   },
   "outputs": [],
   "source": [
    "# mpl.colors.CSS4_COLORS  # 148 barev\n",
    "# mpl.colors.XKCD_COLORS  # 949 barev\n",
    "mpl.colors.BASE_COLORS    # 8 barev"
   ]
  },
  {
   "cell_type": "markdown",
   "id": "24aea15a-a4d8-45bd-bd09-e883bca861d9",
   "metadata": {},
   "source": [
    "<br>\n",
    "\n",
    "Dále můžeš kombinovat různé formáty pro specifikaci barev u čas:"
   ]
  },
  {
   "cell_type": "code",
   "execution_count": null,
   "id": "46b53856-7504-4784-89b3-60bf4832bbde",
   "metadata": {
    "tags": []
   },
   "outputs": [],
   "source": [
    "plt.plot(x, numpy.array(y) - 0, color='blue')          # barva podle jmena\n",
    "plt.plot(x, numpy.array(y) - 1, color='g')             # krátky barevný kód (rgbcmyk)\n",
    "plt.plot(x, numpy.array(y) - 2, color='0.75')          # Stupně šedi od 0 do 1\n",
    "plt.plot(x, numpy.array(y) - 3, color='#2a9d8f')       # Hexa kód (RRGGBB od 00 do FF)\n",
    "plt.plot(x, numpy.array(y) - 4, color=(1.0, 0.2, 0.3)) # RGB tuple, hodnoty od 0 do 1\n",
    "plt.plot(x, numpy.array(y) - 5, color='chartreuse');   # Všechny HTML názvy barev, které jsou podporované"
   ]
  },
  {
   "cell_type": "markdown",
   "id": "6472316f-3cef-47ca-96ee-c3abf09c227b",
   "metadata": {},
   "source": [
    "<br>\n",
    "\n",
    "Pokud chceš být extrémně stručný, můžeš jak styly čáry, tak barevné kódy zkombinovat **do jediného argumentu**:"
   ]
  },
  {
   "cell_type": "code",
   "execution_count": null,
   "id": "d2eb2333-4f2a-476d-b42f-8831962700aa",
   "metadata": {
    "tags": []
   },
   "outputs": [],
   "source": [
    "plt.plot(x, numpy.array(y) - 0, '-g')    # solid green, linestyle, color\n",
    "plt.plot(x, numpy.array(y) - 1, '--c')   # dashed cyan\n",
    "plt.plot(x, numpy.array(y) - 2, '-.k')   # dashdot black\n",
    "plt.plot(x, numpy.array(y) - 3, ':r');   # dotted red"
   ]
  },
  {
   "cell_type": "markdown",
   "id": "3fbf5d73-f9bf-4ca0-b260-2c52b34e575c",
   "metadata": {},
   "source": [
    "<br>\n",
    "\n",
    "Takový zápis může být elegantním zkrácením zápisu, ale nemusí být každému ihned patrný.\n",
    "\n",
    "Samotné písmeno potom odkazuje na standardní zkratky RGB (red/green/blue) a CMYK(Cyan/Magenta/Yellow/blacK)."
   ]
  },
  {
   "cell_type": "markdown",
   "id": "6ae23cb0-548f-4122-a6a6-8f2772b1fee6",
   "metadata": {
    "tags": []
   },
   "source": [
    "<br>\n",
    "\n",
    "### Značky\n",
    "\n",
    "---"
   ]
  },
  {
   "cell_type": "markdown",
   "id": "a60155e1-c652-4ed0-bdf6-311c48e11b70",
   "metadata": {},
   "source": [
    "Dalším volitelným parametrem, pro tvorbu grafů, jsou značky bodů.\n",
    "\n",
    "Pomocí parametru `marker` můžeš definovat značku bodu podle několika zadání:"
   ]
  },
  {
   "cell_type": "markdown",
   "id": "2d1e3f86-22e1-43da-8c16-44f5d97ff56b",
   "metadata": {},
   "source": [
    "![image.png](data:image/png;base64,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)"
   ]
  },
  {
   "cell_type": "markdown",
   "id": "e5da4fbd-c5d1-493e-8d83-e643c9d9003a",
   "metadata": {},
   "source": [
    "![image.png](data:image/png;base64,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)\n"
   ]
  },
  {
   "cell_type": "code",
   "execution_count": null,
   "id": "4f7dad9c-e5e5-46e3-acdf-184f7b0a7ba1",
   "metadata": {
    "tags": []
   },
   "outputs": [],
   "source": [
    "plt.plot(x, numpy.array(y) - 0, color='blue', marker='x')"
   ]
  },
  {
   "cell_type": "markdown",
   "id": "eca5ee69-ce0f-4052-b8f9-68f1c9d203b9",
   "metadata": {},
   "source": [
    "<br>\n",
    "\n",
    "### Mřížka grafu\n",
    "\n",
    "---"
   ]
  },
  {
   "cell_type": "markdown",
   "id": "54558c3b-a993-49c7-ba58-45103ded0a0d",
   "metadata": {},
   "source": [
    "Pokud potřebuješ, můžeš do grafu přidat mřížku:"
   ]
  },
  {
   "cell_type": "code",
   "execution_count": null,
   "id": "adae6fe9-aec7-4394-83fa-810d34a8fd28",
   "metadata": {
    "tags": []
   },
   "outputs": [],
   "source": [
    "plt.grid(True)"
   ]
  },
  {
   "cell_type": "markdown",
   "id": "dcc4034c-d7b5-4c0a-8dcd-9f27ff0bb87b",
   "metadata": {
    "tags": []
   },
   "source": [
    "<br>\n",
    "\n",
    "Pomocí funkce `grid` můžeš nastavit také další atributy.\n",
    "\n",
    "Jako je styl čár mřížky, barva, hlavní mřížka, vedlejší mřížka, aj."
   ]
  },
  {
   "cell_type": "code",
   "execution_count": null,
   "id": "0ac2bc3e-c1a1-40e6-aeb9-3732410cda96",
   "metadata": {
    "tags": []
   },
   "outputs": [],
   "source": [
    "# plt.grid?"
   ]
  },
  {
   "cell_type": "code",
   "execution_count": null,
   "id": "ab231546-a374-4dc9-b421-9b3b61912226",
   "metadata": {
    "tags": []
   },
   "outputs": [],
   "source": [
    "plt.grid(True, which='minor')"
   ]
  },
  {
   "cell_type": "code",
   "execution_count": null,
   "id": "b1f22889-1b21-422b-a17e-05aaebf5f730",
   "metadata": {
    "tags": []
   },
   "outputs": [],
   "source": [
    "plt.grid(True, color='r', linestyle='--', linewidth=1)"
   ]
  },
  {
   "cell_type": "markdown",
   "id": "2d9b1808-84ca-479a-b252-ac568444069d",
   "metadata": {},
   "source": [
    "<br>\n",
    "\n",
    "Rozšíření stylu mřížky na hlavní a vedlejší při doplnění logaritmického měřítka:"
   ]
  },
  {
   "cell_type": "code",
   "execution_count": null,
   "id": "17823c30-02ef-44cb-80d2-b51da8fbd5bb",
   "metadata": {
    "tags": []
   },
   "outputs": [],
   "source": [
    "plt.yscale('log')\n",
    "plt.grid(True, color='r', which='major', linestyle='-')\n",
    "plt.grid(True, color='k', which='minor', linestyle='--')"
   ]
  },
  {
   "cell_type": "markdown",
   "id": "b56eee06-05fa-4775-99f8-19f96ea43858",
   "metadata": {},
   "source": [
    "<br>\n",
    "\n",
    "### Nastavení osy\n",
    "\n",
    "---"
   ]
  },
  {
   "cell_type": "markdown",
   "id": "59885e43-19e9-4c39-9c72-aed69c90dfda",
   "metadata": {},
   "source": [
    "Prvním krokem, který můžeš chtít upravit jsou rozsahy **os x** a **y**.\n",
    "\n",
    "Pomocí funkcí:\n",
    "* `xlim`, nastavuješ rozsah osy X,\n",
    "* `ylim`, nastavuješ rozsah osy Y."
   ]
  },
  {
   "cell_type": "code",
   "execution_count": null,
   "id": "b654cee5-4458-4610-8bcf-d19bb95bb577",
   "metadata": {
    "tags": []
   },
   "outputs": [],
   "source": [
    "plt.plot(x, numpy.array(y) - 0, color='blue', marker='D') "
   ]
  },
  {
   "cell_type": "code",
   "execution_count": null,
   "id": "d95a2cb8-4164-4d7e-8cbf-50faf867425f",
   "metadata": {
    "tags": []
   },
   "outputs": [],
   "source": [
    "plt.xlim(-2, 7)\n",
    "plt.ylim(-4, 6)\n",
    "plt.plot(x, numpy.array(y) - 0, color='blue', marker='D') "
   ]
  },
  {
   "cell_type": "markdown",
   "id": "71119525-ffd8-4a2a-bed4-aeb246d2bb9b",
   "metadata": {},
   "source": [
    "<br>\n",
    "\n",
    "Osy je ale možné nastavit také pomocí funkce `axis` (neplést s `axes`).\n",
    "\n",
    "Funkci potom předáš argumenty v podobě listu, podle vzoru: `[xmin, xmax, ymin, ymax]`."
   ]
  },
  {
   "cell_type": "code",
   "execution_count": null,
   "id": "2571a8b2-cd68-43f1-bc40-e02c8deef8e1",
   "metadata": {
    "tags": []
   },
   "outputs": [],
   "source": [
    "type(plt.axis)"
   ]
  },
  {
   "cell_type": "code",
   "execution_count": null,
   "id": "c53dd8b5-6994-464b-bf8f-ff94660094c3",
   "metadata": {
    "tags": []
   },
   "outputs": [],
   "source": [
    "plt.axis([-2, 7, -5, 5])  # plt.xlim, plt.ylim\n",
    "plt.plot(x, numpy.array(y) - 0, color='blue', marker='D') "
   ]
  },
  {
   "cell_type": "markdown",
   "id": "c4830b3a-90ff-4ff2-b5e0-868627f522f2",
   "metadata": {},
   "source": [
    "<br>\n",
    "\n",
    "Pokud se ti nehodí, uvádět hranice explicitně, můžeš použít keyword, pro rovnoměrné rozložení `equal`:"
   ]
  },
  {
   "cell_type": "code",
   "execution_count": null,
   "id": "d7beca2f-a153-4c78-9f0f-982f340ff3f6",
   "metadata": {
    "tags": []
   },
   "outputs": [],
   "source": [
    "plt.axis('equal')  # vyzkoušej rozdíl mezi 'tight'\n",
    "plt.plot(x, numpy.array(y) - 0, color='blue', marker='D') "
   ]
  },
  {
   "cell_type": "code",
   "execution_count": null,
   "id": "4bd5d122-6859-4dbf-b135-5e5171c3ec78",
   "metadata": {
    "tags": []
   },
   "outputs": [],
   "source": [
    "plt.plot(x, numpy.array(y) - 0, color='blue', marker='D') \n",
    "plt.axis('tight')"
   ]
  },
  {
   "cell_type": "markdown",
   "id": "8beeccd1-8bef-423d-9a88-f40490122385",
   "metadata": {},
   "source": [
    "<br>\n",
    "\n",
    "### Popisky grafu\n",
    "\n",
    "---"
   ]
  },
  {
   "cell_type": "markdown",
   "id": "8cc44f0e-8bb0-4316-b592-5aff7babd8a2",
   "metadata": {},
   "source": [
    "Dalšími volitelnými prvky jsou **lepší popisky**:\n",
    "1. `title`, název grafu,\n",
    "2. `xlabel`, popis osy X,\n",
    "3. `ylabel`, popis osy Y,\n",
    "4. `annotate`, anotace,\n",
    "5. `legend`, legenda grafu,\n",
    "6. `text`, vepsaný text."
   ]
  },
  {
   "cell_type": "code",
   "execution_count": null,
   "id": "e42d8cbd-95af-4821-834f-3ed833c267cb",
   "metadata": {
    "tags": []
   },
   "outputs": [],
   "source": [
    "plt.plot(x, numpy.array(y) - 0, color='blue', marker='D', label='průběh')"
   ]
  },
  {
   "cell_type": "code",
   "execution_count": null,
   "id": "febacf1c-a830-4710-ba01-585fb3dde299",
   "metadata": {
    "tags": []
   },
   "outputs": [],
   "source": [
    "plt.plot(x, numpy.array(y) - 0, color='blue', marker='D', label='průběh') #  label='průběh'\n",
    "\n",
    "plt.title('Název grafu')\n",
    "plt.xlabel('Popisek osy X')\n",
    "plt.ylabel('Popisek osy Y')\n",
    "\n",
    "plt.legend()\n",
    "\n",
    "plt.text(1.5, -3, 'Default', fontsize=15, color=\"blue\", style=\"italic\")\n",
    "\n",
    "plt.annotate(\"maximální hodnota grafu\",\n",
    "             xy=(3, 2),                         # konkrétní bod\n",
    "             xytext=(1, 1.6),                   # levý dolní roh textu\n",
    "             arrowprops=dict(arrowstyle=\"->\"))  # typ ukazovatele"
   ]
  },
  {
   "cell_type": "markdown",
   "id": "c318c449-2951-4fd8-9e7a-00a239db5687",
   "metadata": {
    "tags": []
   },
   "source": [
    "### Úskalí s označováním\n",
    "\n",
    "---"
   ]
  },
  {
   "cell_type": "markdown",
   "id": "05aeaa78-c5a7-498a-bdab-32cdfb4e3403",
   "metadata": {},
   "source": [
    "Přesto, že některé parametry funkce `plt` přímo přehazuje na `ax` metody:\n",
    "* `plt.plot()` --> `ax.plot()`,\n",
    "* `plt.legend()` --> `ax.legend()`,\n",
    "\n",
    "**neplatí pro všechny příkazy**.\n",
    "\n",
    "Například pro rozsahy a popisky os:\n",
    "* `plt.xlabel()` --> `ax.set_xlabel()`,\n",
    "* `plt.xlim()` --> `ax.set_xlim()`,\n",
    "\n",
    "Často se můžeš setkat s metodou `set`, která slouží k všeobecném nastavování místo jednotlivých výrazů:"
   ]
  },
  {
   "cell_type": "code",
   "execution_count": null,
   "id": "864a012f-8910-42ca-a583-dd79d1e6254c",
   "metadata": {
    "tags": []
   },
   "outputs": [],
   "source": [
    "ax = plt.axes()\n",
    "ax.plot(x, numpy.array(y) - 0)\n",
    "ax.set(\n",
    "    xlim=(-3, 7),\n",
    "    ylim=(-5, 5),\n",
    "    xlabel=\"osa X\",\n",
    "    ylabel=\"osa Y\",\n",
    "    title=\"Název grafu\"\n",
    ")"
   ]
  },
  {
   "cell_type": "markdown",
   "id": "95f48d58-49d5-4913-8e79-88df0add1a51",
   "metadata": {},
   "source": [
    "<br>\n",
    "\n",
    "### Soubor několika grafů\n",
    "\n",
    "---"
   ]
  },
  {
   "cell_type": "markdown",
   "id": "775f764f-1c08-45ae-8e3c-a359caf6e04b",
   "metadata": {},
   "source": [
    "Dalším doplňujícím prvkem je možnost nachystat několik sad grafů.\n",
    "\n",
    "K takovému učelu slouží funkce `subplots`.\n",
    "\n",
    "Jejím účelem je vystavit formát, jak bude sada grafů zobrazená a vykreslená."
   ]
  },
  {
   "cell_type": "code",
   "execution_count": null,
   "id": "ec264c11-bfd8-4b21-b5c4-f7ecd5a576d4",
   "metadata": {},
   "outputs": [],
   "source": [
    "import numpy as np\n",
    "import matplotlib.pyplot as plt"
   ]
  },
  {
   "cell_type": "code",
   "execution_count": null,
   "id": "b1dd262d-e50b-4b51-863c-9b2e4674cc3d",
   "metadata": {
    "tags": []
   },
   "outputs": [],
   "source": [
    "fig, axs = plt.subplots(\n",
    "    2,              # počet řádků\n",
    "    2               # počet sloupečků\n",
    ")"
   ]
  },
  {
   "cell_type": "markdown",
   "id": "c3e3588f-f013-42ca-a6ec-078c536a4cd5",
   "metadata": {},
   "source": [
    "`fig` reprezentuje celý obrázek, tedy celé „plátno“, na které můžeš vykreslovat vícero grafů.\n",
    "\n",
    "<br>\n",
    "\n",
    "Umožňuje ti nastavit například:\n",
    "- **celkovou velikost** (`figsize`),\n",
    "- **nadpis celé plochy** (`fig.suptitle(\"Nadpis\")`)\n",
    "- nebo **uložit obrázek** (`fig.savefig(\"graf.png\")`)\n",
    "\n",
    "<br>\n",
    "\n",
    "`axs` je array (pole) objektů `Axes`, tedy jednotlivých grafů.\n",
    "\n",
    "Pokud zadáš třeba 2, 2, dostaneš `axs` jako matici 2×2, kde každý prvek odpovídá jednomu podgrafu.\n",
    "- `axs[0, 0]` → levý horní graf\n",
    "- `axs[1, 1]` → pravý dolní graf"
   ]
  },
  {
   "cell_type": "code",
   "execution_count": null,
   "id": "48c12e0e-2269-49af-b78d-68dfd8688465",
   "metadata": {},
   "outputs": [],
   "source": [
    "x = np.linspace(0, 10, 100)"
   ]
  },
  {
   "cell_type": "code",
   "execution_count": null,
   "id": "dcff6cf3-fa2c-46c3-897b-e33ec1a2e920",
   "metadata": {},
   "outputs": [],
   "source": [
    "x"
   ]
  },
  {
   "cell_type": "code",
   "execution_count": null,
   "id": "01ac109e-2d61-41d8-ace5-5b1b388d990f",
   "metadata": {},
   "outputs": [],
   "source": [
    "fig, axs = plt.subplots(2, 2, figsize=(10, 6))\n",
    "\n",
    "# 1. Přímka\n",
    "axs[0, 0].plot(x, x)\n",
    "axs[0, 0].set_title(\"y = x\")\n",
    "\n",
    "# 2. Kvadratická funkce\n",
    "axs[0, 1].plot(x, x**2)\n",
    "axs[0, 1].set_title(\"y = x²\")\n",
    "axs[0, 1].set_xlabel('Časová řada')\n",
    "\n",
    "# 3. Kubická funkce\n",
    "axs[1, 0].plot(x, x**3)\n",
    "axs[1, 0].set_title(\"y = x³\")\n",
    "\n",
    "# # 4. Odmocnina\n",
    "axs[1, 1].plot(x, np.sqrt(x))\n",
    "axs[1, 1].set_title(\"y = √x\")\n",
    "\n",
    "# Upraví rozložení grafů\n",
    "plt.tight_layout()\n",
    "plt.show()"
   ]
  },
  {
   "cell_type": "markdown",
   "id": "731f52aa-f0ce-4574-85a9-3d3793c3740b",
   "metadata": {},
   "source": [
    "<br>\n",
    "\n",
    "#### **🧠 CVIČENÍ 🧠, procvič si vizualizaci v MATPLOTLIB**\n",
    "\n",
    "---"
   ]
  },
  {
   "cell_type": "markdown",
   "id": "0fe75d02-b26f-42c1-92fa-b268eb59d827",
   "metadata": {},
   "source": [
    "Máš zadané dvě kategorie výrobků a jejich časovou řadu:"
   ]
  },
  {
   "cell_type": "markdown",
   "id": "77cdc7fb-2256-4bd1-8a56-fbb66ba40c54",
   "metadata": {},
   "source": [
    "1. Vytvoř roční časovou řadu pro obě kategorie výrobků (A a B) na jednom grafu,\n",
    "2. Přidej **popisky os**: `'Měsíce'` pro **osu x** a `'Prodej (v tisících kusů)'` pro **osu y**,\n",
    "3. Přidej **legendu pro obě kategorie** výrobků (A a B),\n",
    "4. Najděte **maximální** a **minimální** hodnoty pro obě kategorie výrobků a anotuj je v grafu."
   ]
  },
  {
   "cell_type": "code",
   "execution_count": null,
   "id": "7bdbe59d-f36a-421a-b2d5-c5deef879baa",
   "metadata": {
    "tags": []
   },
   "outputs": [],
   "source": [
    "import numpy as np\n",
    "import matplotlib.pyplot as plt\n",
    "\n",
    "rada_a = [23, 35, 40, 50, 60, 70, 80, 75, 65, 55, 45, 30]\n",
    "rada_b = [15, 25, 35, 45, 55, 60, 58, 52, 45, 35, 25, 18]"
   ]
  },
  {
   "cell_type": "code",
   "execution_count": null,
   "id": "fc839a36-2dcd-436e-a27d-7382cbe53fb3",
   "metadata": {},
   "outputs": [],
   "source": []
  },
  {
   "cell_type": "markdown",
   "id": "b9c04681-53d6-4aaf-bb2b-887ec6c5efc1",
   "metadata": {},
   "source": [
    "<details>\n",
    "    <summary>▶️ Řešení</summary>\n",
    "    \n",
    "```python\n",
    "mesice = np.arange(1, 13)\n",
    "kategorie_A = np.array(rada_a)\n",
    "kategorie_B = np.array(rada_b)\n",
    "\n",
    "# Vytvoření časové řady\n",
    "plt.plot(mesice, kategorie_A, label='Kategorie A')\n",
    "plt.plot(mesice, kategorie_B, label='Kategorie B')\n",
    "\n",
    "# Popisky os\n",
    "plt.xlabel('Měsíce')\n",
    "plt.ylabel('Prodej (v tisících kusů)')\n",
    "\n",
    "# Legenda\n",
    "plt.legend()\n",
    "\n",
    "# Anotace maximálních a minimálních hodnot\n",
    "max_A_idx = np.argmax(kategorie_A)\n",
    "min_A_idx = np.argmin(kategorie_A)\n",
    "max_B_idx = np.argmax(kategorie_B)\n",
    "min_B_idx = np.argmin(kategorie_B)\n",
    "\n",
    "plt.annotate('Max A', xy=(mesice[max_A_idx], kategorie_A[max_A_idx]), xytext=(mesice[max_A_idx]-1, kategorie_A[max_A_idx]+5),\n",
    "             arrowprops=dict(arrowstyle='->'))\n",
    "plt.annotate('Min A', xy=(mesice[min_A_idx], kategorie_A[min_A_idx]), xytext=(mesice[min_A_idx]-1, kategorie_A[min_A_idx]-10),\n",
    "             arrowprops=dict(arrowstyle='->'))\n",
    "plt.annotate('Max B', xy=(mesice[max_B_idx], kategorie_B[max_B_idx]), xytext=(mesice[max_B_idx]-1, kategorie_B[max_B_idx]+5),\n",
    "             arrowprops=dict(arrowstyle='->'))\n",
    "plt.annotate('Min B', xy=(mesice[min_B_idx], kategorie_B[min_B_idx]), xytext=(mesice[min_B_idx]-1, kategorie_B[min_B_idx]-10),\n",
    "             arrowprops=dict(arrowstyle='->'))\n",
    "\n",
    "# Zobrazení grafu\n",
    "plt.show()\n",
    "\n",
    "rada_a_np = np.array( rada_a )\n",
    "rada_b_np = np.array( rada_b )\n",
    "\n",
    "\n",
    "#Vytvoření popisků pro graf\n",
    "mesice = list( range( 1, 13 ) )\n",
    "mesice_text = ['Leden', 'Únor', 'Březen', 'Duben', 'Květen', 'Červen', 'Červenec', 'Srpen', 'Září', 'Říjen', 'Listopad', 'Prosinec']\n",
    "max_annotation, min_annotation = 'MAX', 'MIN'\n",
    "label_a, label_b = 'Produkt A', 'Produkt B'\n",
    "plot_title = 'Srovnání prodeje produktů A a B'\n",
    "x_label, y_label = 'Měsíce', 'Prodej (v tisících ks)'\n",
    "color_a, color_b = 'blue', 'red'  #Definice barev\n",
    "\n",
    "\n",
    "#Vytvoření grafu a přidání řad\n",
    "plt.plot( mesice, rada_a_np, color = color_a, marker = 'o', label = label_a )\n",
    "plt.plot( mesice, rada_b_np, color = color_b, marker = 'o', label = label_b )\n",
    "\n",
    "\n",
    "#Přidání popisků grafu a legendy\n",
    "plt.title( plot_title, fontsize = 22 )\n",
    "plt.xlabel( x_label, fontsize = 14 )\n",
    "plt.ylabel( y_label, fontsize = 14 )\n",
    "plt.legend( )\n",
    "plt.xticks( mesice, mesice_text, rotation = 45 )\n",
    "\n",
    "\n",
    "#Úprava velikosti grafu\n",
    "plt.gcf( ).set_size_inches( 10, 5 )\n",
    "\n",
    "\n",
    "#Zobrazení maxima/minima\n",
    "plt.annotate(\n",
    "    max_annotation, \n",
    "    xy = ( rada_a_np.argmax( ) + 1, rada_a_np.max( ) ),\n",
    "    xytext =( rada_a_np.argmax( ) - 2, rada_a_np.max( ) - 1 ), \n",
    "    arrowprops = dict( facecolor = color_a, shrink = 0.05 ) \n",
    ")\n",
    "plt.annotate(\n",
    "    max_annotation, \n",
    "    xy = ( rada_b_np.argmax( ) + 1, rada_b_np.max( ) ),\n",
    "    xytext =( rada_b_np.argmax( ) + 1, rada_b_np.max( ) - 25 ), \n",
    "    arrowprops = dict( facecolor = color_b, shrink = 0.05 ) \n",
    ")\n",
    "plt.annotate(\n",
    "    min_annotation, \n",
    "    xy = ( rada_a_np.argmin( ) + 1, rada_a_np.min( ) ),\n",
    "    xytext =( rada_a_np.argmin( ) + 1, rada_a_np.min( ) + 25 ), \n",
    "    arrowprops = dict( facecolor = color_a, shrink = 0.05 ) \n",
    ")\n",
    "plt.annotate(\n",
    "    min_annotation, \n",
    "    xy = ( rada_b_np.argmin( ) + 1, rada_b_np.min( ) ),\n",
    "    xytext = ( rada_b_np.argmin( ) + 3, rada_b_np.min( ) - 1 ), \n",
    "    arrowprops = dict( facecolor = color_b, shrink = 0.05 ) \n",
    ")\n",
    "\n",
    "\n",
    "#Zobrazení grafu\n",
    "plt.show( )\n",
    "```\n",
    "</details>"
   ]
  },
  {
   "cell_type": "markdown",
   "id": "9a9ac0d5-dbeb-4b41-9483-32b2ce972ae6",
   "metadata": {},
   "source": [
    "<br>\n",
    "\n",
    "## Kombinace PANDAS a MATPLOTLIB\n",
    "\n",
    "---"
   ]
  },
  {
   "cell_type": "markdown",
   "id": "e8c1434d-2d1b-4450-80d5-537b3c8ea783",
   "metadata": {},
   "source": [
    "Další výhodou, je kombinace s frameworkem **pandas**.\n",
    "\n",
    "Přímé spojení dat s definicí grafů ale `matplotlib` nepodporuje.\n",
    "\n",
    "<br>\n",
    "\n",
    "Stažení pomocného datasetu:"
   ]
  },
  {
   "cell_type": "code",
   "execution_count": null,
   "id": "fa05b493-7793-46d7-9868-56810ec89739",
   "metadata": {
    "tags": []
   },
   "outputs": [],
   "source": [
    "import pandas as pd"
   ]
  },
  {
   "cell_type": "code",
   "execution_count": null,
   "id": "a986dc53-5a13-425c-bf33-732caf95be0a",
   "metadata": {},
   "outputs": [],
   "source": [
    "import lxml"
   ]
  },
  {
   "cell_type": "code",
   "execution_count": null,
   "id": "1e5b3bbe-3f97-47b9-93ca-eb4e78cbba85",
   "metadata": {
    "tags": []
   },
   "outputs": [],
   "source": [
    "url = 'http://en.wikipedia.org/wiki/List_of_largest_companies_by_revenue'\n",
    "df_wiki = pd.read_html(url)"
   ]
  },
  {
   "cell_type": "markdown",
   "id": "55bb39db-c918-4523-a872-18cbc5e805f3",
   "metadata": {},
   "source": [
    "Opatrně na vrácenou hodnotu.\n",
    "\n",
    "`read_html` je funkce, která vrací list tabulek (`list[DataFrame]`)."
   ]
  },
  {
   "cell_type": "code",
   "execution_count": null,
   "id": "805691cb-24dc-4511-bcdc-c7a3b51d65d9",
   "metadata": {},
   "outputs": [],
   "source": [
    "df_wiki[0].head()"
   ]
  },
  {
   "cell_type": "code",
   "execution_count": null,
   "id": "49bc3aed-bfcd-4464-bcdc-6493cad08d19",
   "metadata": {
    "tags": []
   },
   "outputs": [],
   "source": [
    "df_companies = df_wiki[0]"
   ]
  },
  {
   "cell_type": "code",
   "execution_count": null,
   "id": "5a796ecb-e1a7-454b-b5be-ceddd28ca5f0",
   "metadata": {},
   "outputs": [],
   "source": [
    "df_companies.to_excel('us_companies.xlsx')"
   ]
  },
  {
   "cell_type": "markdown",
   "id": "b5e0ac77-79c4-4922-8c21-c81c47fafdba",
   "metadata": {},
   "source": [
    "<br>\n",
    "\n",
    "Data můžeme také načíst jako `.xlsx` soubor:"
   ]
  },
  {
   "cell_type": "code",
   "execution_count": null,
   "id": "32fd9249-d864-4e94-99c7-172c325df79a",
   "metadata": {},
   "outputs": [],
   "source": [
    "df_companies = pd.read_excel('../onsite/us_companies.xlsx')"
   ]
  },
  {
   "cell_type": "markdown",
   "id": "ce44a4e2-d709-4327-973b-87d704c469f6",
   "metadata": {},
   "source": [
    "<br>\n",
    "\n",
    "Zkontroluj jména **všech sloupečků**:"
   ]
  },
  {
   "cell_type": "code",
   "execution_count": null,
   "id": "9becd05d-ea6b-4849-ba26-bbab7e8e6caa",
   "metadata": {
    "tags": []
   },
   "outputs": [],
   "source": [
    "df_companies.columns"
   ]
  },
  {
   "cell_type": "code",
   "execution_count": null,
   "id": "0e671e22-dce7-452f-a108-1d1368affb27",
   "metadata": {},
   "outputs": [],
   "source": [
    "df_companies.head()"
   ]
  },
  {
   "cell_type": "markdown",
   "id": "26619d62-c4e5-45ea-ac23-3dcb8479f023",
   "metadata": {},
   "source": [
    "<br>\n",
    "\n",
    "Vyběr sloupců `Name`, `Revenue`, `Profit`, `Employees` a převedení na malá písmena:"
   ]
  },
  {
   "cell_type": "code",
   "execution_count": null,
   "id": "ae8c3ac0-e70e-4406-a9d5-fa6f71a9c30e",
   "metadata": {
    "tags": []
   },
   "outputs": [],
   "source": [
    "df_companies = df_companies.loc[:,['Name', 'Rank', 'Revenue', 'Profit', 'Employees']]"
   ]
  },
  {
   "cell_type": "code",
   "execution_count": null,
   "id": "cccab53a-1e00-4d02-bd2e-e7836b4440c0",
   "metadata": {
    "tags": []
   },
   "outputs": [],
   "source": [
    "df_companies = df_companies.iloc[2:]"
   ]
  },
  {
   "cell_type": "code",
   "execution_count": null,
   "id": "1943a6fa-e7ef-4ae0-8643-ce3e526a54fa",
   "metadata": {
    "tags": []
   },
   "outputs": [],
   "source": [
    "df_companies.columns"
   ]
  },
  {
   "cell_type": "code",
   "execution_count": null,
   "id": "99afea1f-b524-4756-b0c1-1473b6e54bbd",
   "metadata": {
    "tags": []
   },
   "outputs": [],
   "source": [
    "df_companies.columns = df_companies.columns.get_level_values(0).str.lower()  # 'name', 'rank', ..."
   ]
  },
  {
   "cell_type": "code",
   "execution_count": null,
   "id": "1f40f06d-8d0f-4173-894f-167dc6c8f88f",
   "metadata": {
    "tags": []
   },
   "outputs": [],
   "source": [
    "df_companies.info()"
   ]
  },
  {
   "cell_type": "code",
   "execution_count": null,
   "id": "61aea3bb-5e97-4ce6-8bea-85e3dfb9821b",
   "metadata": {
    "tags": []
   },
   "outputs": [],
   "source": [
    "df_companies.head()"
   ]
  },
  {
   "cell_type": "markdown",
   "id": "1a5f0f4c-e014-4fb7-bf0c-724c2892b1e2",
   "metadata": {},
   "source": [
    "<br>\n",
    "\n",
    "Přetypuj na vhodnější datový typ, pro porovnání a seřazení hodnot:"
   ]
  },
  {
   "cell_type": "code",
   "execution_count": null,
   "id": "e401f381-7275-451e-8138-ce5b04ff0c69",
   "metadata": {
    "tags": []
   },
   "outputs": [],
   "source": [
    "def format_usd_to_number(text):\n",
    "    return float(text.replace('$','').replace(',','').replace('–', '-'))"
   ]
  },
  {
   "cell_type": "code",
   "execution_count": null,
   "id": "6e308d89-55a3-4d81-b4b5-d4f0ac91f7a5",
   "metadata": {
    "tags": []
   },
   "outputs": [],
   "source": [
    "df_companies['Revenue'] = df_companies['Revenue'].apply(format_usd_to_number)"
   ]
  },
  {
   "cell_type": "code",
   "execution_count": null,
   "id": "13c33b50-e091-4f18-afa6-c27110572b90",
   "metadata": {
    "tags": []
   },
   "outputs": [],
   "source": [
    "df_companies['Profit'] = df_companies['Profit'].apply(format_usd_to_number)"
   ]
  },
  {
   "cell_type": "code",
   "execution_count": null,
   "id": "8bb4090b-4bd4-48e9-abbe-c2bef9e71214",
   "metadata": {
    "tags": []
   },
   "outputs": [],
   "source": [
    "df_companies.head()"
   ]
  },
  {
   "cell_type": "code",
   "execution_count": null,
   "id": "43199798-fb31-4007-b006-b5f161a36d68",
   "metadata": {
    "tags": []
   },
   "outputs": [],
   "source": [
    "# df_companies.sort_values(by='Profit', ascending=False)"
   ]
  },
  {
   "cell_type": "code",
   "execution_count": null,
   "id": "2c716b26-a2ca-417d-86b7-f2d4a5592c57",
   "metadata": {
    "tags": []
   },
   "outputs": [],
   "source": [
    "df_top_10_companies = df_companies.sort_values(by='Profit',\n",
    "                                               ascending=[False]).head(10)"
   ]
  },
  {
   "cell_type": "code",
   "execution_count": null,
   "id": "7c28c07d-8800-4916-8b34-99aff9a4ba2d",
   "metadata": {
    "tags": []
   },
   "outputs": [],
   "source": [
    "df_top_10_companies"
   ]
  },
  {
   "cell_type": "code",
   "execution_count": null,
   "id": "ef66769d-e6ba-4b16-b376-2ce637ab71f6",
   "metadata": {
    "tags": []
   },
   "outputs": [],
   "source": [
    "df_top_10_companies"
   ]
  },
  {
   "cell_type": "code",
   "execution_count": null,
   "id": "5c5d527e-2aab-41c3-94ec-1bef283f977e",
   "metadata": {},
   "outputs": [],
   "source": [
    "df_companies.head()"
   ]
  },
  {
   "cell_type": "markdown",
   "id": "f142289a-1cc7-4df8-919c-861d3358685b",
   "metadata": {},
   "source": [
    "### Vykreslení horizontálního sloupcového grafu\n",
    "\n",
    "---"
   ]
  },
  {
   "cell_type": "code",
   "execution_count": null,
   "id": "04ff2ad0-fbd4-462e-a410-285199e02f41",
   "metadata": {},
   "outputs": [],
   "source": [
    "import seaborn as sns"
   ]
  },
  {
   "cell_type": "code",
   "execution_count": null,
   "id": "c752b833-18bc-4566-a3ca-404812480cc0",
   "metadata": {},
   "outputs": [],
   "source": [
    "fig, ax = plt.subplots(figsize=(8, 6))\n",
    "\n",
    "# Seaborn barplot\n",
    "sns.barplot(\n",
    "    data=df_top_10_companies,\n",
    "    x='Name',\n",
    "    y='Revenue',\n",
    "    ax=ax,\n",
    "    palette='Blues_r',\n",
    "    hue='Name'\n",
    ")\n",
    "\n",
    "# Nastavení grafu\n",
    "ax.set(title='Top 10 profit',\n",
    "       xlabel='Company',\n",
    "       ylabel='Total Revenue')\n",
    "\n",
    "# TODO: Add a legend table\n",
    "\n",
    "plt.xticks(rotation=45)\n",
    "\n",
    "# Zobrazení grafu\n",
    "plt.tight_layout()\n",
    "plt.show()"
   ]
  },
  {
   "cell_type": "code",
   "execution_count": null,
   "id": "7040267e-2648-4688-8745-b144f7dbfcd2",
   "metadata": {
    "tags": []
   },
   "outputs": [],
   "source": [
    "ax = plt.axes()\n",
    "\n",
    "average = df_top_10_companies['Revenue'].mean()\n",
    "\n",
    "ax.axvline(x=average, color='r', label='Average', linestyle='--', linewidth=2)\n",
    "\n",
    "df_top_10_companies.plot(kind='barh', x=\"Name\", y=\"Revenue\", ax=ax)\n",
    "\n",
    "ax.set(title='Revenue',\n",
    "       xlabel='Total Revenue',\n",
    "       ylabel='Company')\n",
    "\n",
    "plt.show()"
   ]
  },
  {
   "cell_type": "markdown",
   "id": "b0246d4e-8a00-4dbf-9216-c4d96f4fa1e1",
   "metadata": {},
   "source": [
    "<br>\n",
    "\n",
    "#### **🧠 CVIČENÍ 🧠, procvič si PANDY s grafy v MATPLOTLIB**\n",
    "\n",
    "---"
   ]
  },
  {
   "cell_type": "markdown",
   "id": "0e3f0d7c-2f0b-4d9d-87ad-c532967eb1e8",
   "metadata": {},
   "source": [
    "Máš dataset o cenách domů (`housing.csv`), který obsahuje následující sloupce: id, price, bedrooms, bathrooms, sqft_living, sqft_lot, floors, condition, grade."
   ]
  },
  {
   "cell_type": "markdown",
   "id": "0332096d-22d5-4d52-bc47-3423cc41643f",
   "metadata": {},
   "source": [
    "1. Načti dataset pomocí knihovny `pandas`.\n",
    "2. vytvoř nový sloupec `price_per_sqft` tím, že cenu (`price`) vydělíš počtem čtverečních metrů (`sqft_living`).\n",
    "3. vytvoř histogram, který zobrazuje rozdělení cen za čtvereční metr (`price_per_sqft`).\n",
    "4. nastav vhodné **popisky os** a **legendu**.\n",
    "5. ulož graf jako obrázek ve formátu PNG."
   ]
  },
  {
   "cell_type": "code",
   "execution_count": null,
   "id": "20357925-ee85-4032-9248-eb3928dd0841",
   "metadata": {
    "tags": []
   },
   "outputs": [],
   "source": [
    "import pandas as pd\n",
    "import matplotlib.pyplot as plt"
   ]
  },
  {
   "cell_type": "code",
   "execution_count": null,
   "id": "3500b5ad-8362-46e6-8f78-4f62343958c4",
   "metadata": {
    "tags": []
   },
   "outputs": [],
   "source": [
    "df = pd.read_csv(\"../onsite/housing.csv\")"
   ]
  },
  {
   "cell_type": "code",
   "execution_count": null,
   "id": "11e0afac-4398-41e6-8c67-c153716ad75c",
   "metadata": {},
   "outputs": [],
   "source": []
  },
  {
   "cell_type": "markdown",
   "id": "360dc6de-f8df-422f-bb51-6e45acd84cc1",
   "metadata": {},
   "source": [
    "<details>\n",
    "    <summary>▶️ Řešení</summary>\n",
    "    \n",
    "```python\n",
    "# 1. Načtěte dataset pomocí knihovny pandas\n",
    "df = pd.read_csv(\"housing.csv\")\n",
    "\n",
    "# 2. Vytvořte nový sloupec 'price_per_sqft'\n",
    "df[\"price_per_sqft\"] = df[\"price\"] / df[\"sqft_living\"]\n",
    "\n",
    "# 3. Vytvořte histogram\n",
    "fig, ax = plt.subplots()\n",
    "ax.hist(df[\"price_per_sqft\"], bins=10, color='#1f77b4', alpha=0.7)\n",
    "\n",
    "# 4. Nastavte vhodné popisky os a legendu\n",
    "ax.set_title(\"Rozdělení cen za čtvereční metr\")\n",
    "ax.set_xlabel(\"Cena za čtvereční metr\")\n",
    "ax.set_ylabel(\"Počet domů\")\n",
    "ax.legend([\"Ceny za čtvereční metr\"])\n",
    "\n",
    "# 5. Uložte graf jako obrázek ve formátu PNG\n",
    "plt.savefig(\"price_per_sqft_histogram.png\", dpi=300, bbox_inches='tight')\n",
    "\n",
    "# Zobrazení grafu\n",
    "plt.show()\n",
    "```\n",
    "</details>"
   ]
  },
  {
   "cell_type": "markdown",
   "id": "fdab4fef-995d-4c6b-ab06-b2e912398662",
   "metadata": {},
   "source": [
    "## Vizualizace pomocí knihovny SEABORN\n",
    "\n",
    "---\n",
    "\n"
   ]
  },
  {
   "cell_type": "markdown",
   "id": "1eb524bd-bd87-4922-97e2-8e641d6f215a",
   "metadata": {},
   "source": [
    "`Matplotlib` se ukázal být neuvěřitelně užitečným a oblíbeným vizualizačním nástrojem.\n",
    "\n",
    "Intuitivní a dnes pořád jako solidní základ pro pochopení vizualizace.\n",
    "\n",
    "Přesto i někteří zanícení uživatelé připouštějí, že je v něm často mnoho nedostatků."
   ]
  },
  {
   "cell_type": "markdown",
   "id": "cd2ae0a3-7659-4a8b-bc51-fcec24b6881a",
   "metadata": {},
   "source": [
    "Zásadní zářez je, že knihovna je o více než dekádu starší, než framework `pandas`.\n",
    "Tím pádem není navrhovaná pro práci s datovým typem `DataFrame`.\n",
    "\n",
    "Je tedy nutné, extrahovat objekty typu `Series` a ty aplikovat samotné."
   ]
  },
  {
   "cell_type": "markdown",
   "id": "4ed3ca34-921e-4e74-bd91-74e98bc4a52d",
   "metadata": {},
   "source": [
    "Vygeneruješ si náhodnou řadu čísel:"
   ]
  },
  {
   "cell_type": "code",
   "execution_count": null,
   "id": "5070412c-9d31-4c32-b2b7-ec6ee4d4bcf0",
   "metadata": {
    "tags": []
   },
   "outputs": [],
   "source": [
    "x = np.linspace(0, 10, 500)\n",
    "y = np.cumsum(np.random.RandomState(0).randn(500, 6), 0)"
   ]
  },
  {
   "cell_type": "markdown",
   "id": "1813008a-f759-4f27-8bf2-c876d6cc88d9",
   "metadata": {},
   "source": [
    "<br>\n",
    "\n",
    "Zobrazíš pomocí `matplotlib`:"
   ]
  },
  {
   "cell_type": "code",
   "execution_count": null,
   "id": "36253fba-4689-4b0a-82cd-2739c58d80d8",
   "metadata": {
    "tags": []
   },
   "outputs": [],
   "source": [
    "plt.plot(x, y)  # [y[0], y[1], y[2], ..]\n",
    "# plt.legend('ABCDEF', ncol=2, loc='upper left')\n",
    "\n",
    "plt.show()"
   ]
  },
  {
   "cell_type": "markdown",
   "id": "f65ed25b-00d0-4a24-bc37-f0852bc9de7d",
   "metadata": {},
   "source": [
    "<br>\n",
    "\n",
    "Nachystáš knihovnu `seaborn`:"
   ]
  },
  {
   "cell_type": "code",
   "execution_count": null,
   "id": "9067a0ac-89c2-4bc1-9582-8365e3b4ba1f",
   "metadata": {
    "tags": []
   },
   "outputs": [],
   "source": [
    "sns.set_theme()"
   ]
  },
  {
   "cell_type": "markdown",
   "id": "69b2672d-a8c2-44ca-b448-6d125ed6ca54",
   "metadata": {},
   "source": [
    "<br>\n",
    "\n",
    "`seaborn` má mnoho vlastní objektů a prvků na používání.\n",
    "\n",
    "Implicitně umí přepisovat výstup z `matplotlib`.\n",
    "\n",
    "Pokud tedy nyní spustíš stejný kus kódu ale graf se zobrazí pomocí knihovny `seaborn`:"
   ]
  },
  {
   "cell_type": "code",
   "execution_count": null,
   "id": "0b8f81c1-c83e-44c8-ba99-63274f040335",
   "metadata": {
    "tags": []
   },
   "outputs": [],
   "source": [
    "plt.plot(x, y)\n",
    "plt.legend(('A', 'B', 'C', 'D', 'E', 'F'), ncol=2, loc='upper left')\n",
    "plt.show()"
   ]
  },
  {
   "cell_type": "markdown",
   "id": "7563ab00-7982-44a7-9b98-e11e9f9c437d",
   "metadata": {},
   "source": [
    "<br>\n",
    "\n",
    "pokud si nebudeš přát pracovat s knihovnou `seaborn`, můžeš proces vrátit `sns.reset_orig()`."
   ]
  },
  {
   "cell_type": "markdown",
   "id": "733aa97b-4463-4f9e-a994-2ff5afcf1b04",
   "metadata": {},
   "source": [
    "<br>\n",
    "\n",
    "Nahraješ si předdefinovaný datový set s historickými informacemi:"
   ]
  },
  {
   "cell_type": "code",
   "execution_count": null,
   "id": "69b28bd6-310f-4c09-b9cc-dfd054478330",
   "metadata": {
    "tags": []
   },
   "outputs": [],
   "source": [
    "flights = sns.load_dataset(\"flights\")"
   ]
  },
  {
   "cell_type": "code",
   "execution_count": null,
   "id": "e6c0fe71-6260-4dee-b7f1-51d63e784aeb",
   "metadata": {
    "tags": []
   },
   "outputs": [],
   "source": [
    "flights.head()"
   ]
  },
  {
   "cell_type": "code",
   "execution_count": null,
   "id": "d37189aa-3fea-430e-81c8-360989390c50",
   "metadata": {
    "tags": []
   },
   "outputs": [],
   "source": [
    "type(flights)"
   ]
  },
  {
   "cell_type": "code",
   "execution_count": null,
   "id": "5e27ab29-4270-44dc-8877-94a5836e5633",
   "metadata": {
    "tags": []
   },
   "outputs": [],
   "source": [
    "only_apr_flights = flights[flights[\"month\"] == \"Apr\"]"
   ]
  },
  {
   "cell_type": "code",
   "execution_count": null,
   "id": "7b6aac08-bff1-4155-94ea-58fd22c38407",
   "metadata": {
    "tags": []
   },
   "outputs": [],
   "source": [
    "only_apr_flights"
   ]
  },
  {
   "cell_type": "code",
   "execution_count": null,
   "id": "e9719a98-6390-4cca-a2c9-270539c92418",
   "metadata": {
    "tags": []
   },
   "outputs": [],
   "source": [
    "sns.lineplot(data=only_apr_flights, x=\"year\", y=\"passengers\")"
   ]
  },
  {
   "cell_type": "markdown",
   "id": "0226c80c-68a2-4b19-a2d8-350c67d4480d",
   "metadata": {},
   "source": [
    "## Stanovení regrese\n",
    "\n",
    "---"
   ]
  },
  {
   "cell_type": "markdown",
   "id": "a94ddeec-3cba-4b10-ab02-032fae12a243",
   "metadata": {},
   "source": [
    "Regresní model je nástroj, který se používá k předpovídání čísel.\n",
    "\n",
    "<br>\n",
    "\n",
    "Představ si, že máš tabulku, kde je u každého bytu zapsaná jeho velikost a cena. Chceš vědět:\n",
    "👉 „Kolik asi bude stát byt o velikosti 70 m²?“\n",
    "\n",
    "Regresní model se z předchozích dat naučí, jak spolu velikost a cena souvisí, a pak ti řekne odhad\n",
    "– třeba: „Tenhle byt bude stát přibližně 3 miliony.“"
   ]
  },
  {
   "cell_type": "markdown",
   "id": "b2616cf2-27e4-4350-b57e-6bd1b8784e78",
   "metadata": {},
   "source": [
    "Pokud chceš **vytvořit a použít regresní model** v Pythonu, nejběžnějším nástrojem je knihovna `scikit-learn` (nebo `sklearn`)."
   ]
  },
  {
   "cell_type": "code",
   "execution_count": null,
   "id": "58161269-ad23-4842-be0a-23a13d627de5",
   "metadata": {},
   "outputs": [],
   "source": [
    "# !pip install scikit-learn"
   ]
  },
  {
   "cell_type": "markdown",
   "id": "4212bee6-bbca-492a-87f1-6f0f117aa477",
   "metadata": {},
   "source": [
    "<br>\n",
    "\n",
    "Prerekvizitou pro stanovení je knihovna `scikit-learn`.\n",
    "\n",
    "<br>\n",
    "\n",
    "Standardní portfolio knihoven:\n",
    "- `pandas` → pro správu a načtení dat (např. čas a hodnota),\n",
    "- `matplotlib` → pro zobrazení skutečných hodnot + predikované křivky,\n",
    "- `numpy` → pro transformace (čas na čísla, polynomy apod.)."
   ]
  },
  {
   "cell_type": "code",
   "execution_count": null,
   "id": "e6dd0ad2-4673-4a70-9000-bf1c74db8b37",
   "metadata": {},
   "outputs": [],
   "source": [
    "import numpy as np\n",
    "import pandas as pd\n",
    "import seaborn as sns\n",
    "import matplotlib.pyplot as plt"
   ]
  },
  {
   "cell_type": "code",
   "execution_count": null,
   "id": "4dd64386-51f7-4fbc-97d2-f2b9a77f27a3",
   "metadata": {},
   "outputs": [],
   "source": [
    "from sklearn.linear_model import LinearRegression"
   ]
  },
  {
   "cell_type": "markdown",
   "id": "adff4ae1-b305-4566-8b54-3a7116cefcee",
   "metadata": {},
   "source": [
    "### Simulace vstupních dat\n",
    "\n",
    "---"
   ]
  },
  {
   "cell_type": "code",
   "execution_count": null,
   "id": "638ac913-b274-4458-9811-8749228376e2",
   "metadata": {},
   "outputs": [],
   "source": [
    "data = {\"den\": np.arange(1, 11),\n",
    "        \"hodnota_A\": [3, 4, 4.5, 6, 7, 7.5, 8, 8.5, 9, 10],\n",
    "        \"hodnota_B\": [2, 2.5, 3, 3.5, 4.3, 5.2, 6, 6.7, 7.1, 7.5]}"
   ]
  },
  {
   "cell_type": "code",
   "execution_count": null,
   "id": "8f896477-3908-4f64-a957-7becf954d54b",
   "metadata": {},
   "outputs": [],
   "source": [
    "df = pd.DataFrame(data)"
   ]
  },
  {
   "cell_type": "code",
   "execution_count": null,
   "id": "f678d49b-6caa-47c1-a8c9-085a89d95b80",
   "metadata": {},
   "outputs": [],
   "source": [
    "df.head()"
   ]
  },
  {
   "cell_type": "markdown",
   "id": "07520b90-cd87-4f30-8d39-4f473609a686",
   "metadata": {},
   "source": [
    "### Grafický výstup, čárový graf\n",
    "\n",
    "---"
   ]
  },
  {
   "cell_type": "code",
   "execution_count": null,
   "id": "0e1e172d-1911-4cac-891a-f7c1a840d05e",
   "metadata": {},
   "outputs": [],
   "source": [
    "plt.figure(figsize=(8, 5))\n",
    "sns.lineplot(x=\"den\", y=\"hodnota_A\", data=df, label=\"A\", marker=\"o\")\n",
    "sns.lineplot(x=\"den\", y=\"hodnota_B\", data=df, label=\"B\", marker=\"s\")\n",
    "\n",
    "plt.title(\"Vývoj hodnot A a B v čase\")\n",
    "plt.xlabel(\"Den\")\n",
    "plt.ylabel(\"Hodnota\")\n",
    "plt.legend()\n",
    "plt.grid(True)\n",
    "plt.show()"
   ]
  },
  {
   "cell_type": "markdown",
   "id": "c89638c3-0029-4058-bcb4-d585ff1586fd",
   "metadata": {},
   "source": [
    "### Stanovení regrese\n",
    "\n",
    "---\n",
    "\n",
    "Pro dvě datové řady (`hodnota_A`, `hodnota_B`) se vytváří lineární model, který popisuje jejich vývoj v čase (den).\n",
    "1. `LinearRegression()`, vytvoří nový regresní model.\n",
    "2. `fit()` model natrénuje a najde nejlepší přímku pro daná data.\n",
    "3. `coef_`, je sklon přímky – ukazuje, jak moc se hodnota mění za každý další den.\n",
    "4. `intercept_`, je posun na ose Y – výchozí hodnota, když je den = 0.\n",
    "5. `print(...)`, vypíše rovnici přímky ve tvaru `y = a * x + b`."
   ]
  },
  {
   "cell_type": "code",
   "execution_count": null,
   "id": "2037261a-ffe0-4882-b1af-df0055153fa6",
   "metadata": {},
   "outputs": [],
   "source": [
    "model_A = LinearRegression()\n",
    "model_A.fit(df[[\"den\"]], df[\"hodnota_A\"])\n",
    "koef_A = model_A.coef_[0]\n",
    "bias_A = model_A.intercept_"
   ]
  },
  {
   "cell_type": "code",
   "execution_count": null,
   "id": "b1569a4e-0ec7-457a-aada-ca1939765f1c",
   "metadata": {},
   "outputs": [],
   "source": [
    "print(f\"Rovnice A: y = {koef_A:.2f} * x + {bias_A:.2f}\")"
   ]
  },
  {
   "cell_type": "code",
   "execution_count": null,
   "id": "17de7455-2ca3-4c0c-9d46-fa74a8e9fe10",
   "metadata": {},
   "outputs": [],
   "source": [
    "model_B = LinearRegression()\n",
    "model_B.fit(df[[\"den\"]], df[\"hodnota_B\"])\n",
    "koef_B = model_B.coef_[0]\n",
    "bias_B = model_B.intercept_"
   ]
  },
  {
   "cell_type": "code",
   "execution_count": null,
   "id": "4271b605-80e8-4981-a9b7-18f7df1d7232",
   "metadata": {},
   "outputs": [],
   "source": [
    "print(f\"Rovnice B: y = {koef_B:.2f} * x + {bias_B:.2f}\")"
   ]
  },
  {
   "cell_type": "markdown",
   "id": "45fe3906-fa28-4386-ada5-ce348cd36274",
   "metadata": {},
   "source": [
    "### Spočítá předpovězené hodnoty (pred_A, pred_B) podle regresních modelů pro každý den.\n",
    "\n",
    "---"
   ]
  },
  {
   "cell_type": "code",
   "execution_count": null,
   "id": "19dce948-cd8b-40bc-859e-bd7714ac5e65",
   "metadata": {},
   "outputs": [],
   "source": [
    "df[\"pred_A\"] = model_A.predict(df[[\"den\"]])"
   ]
  },
  {
   "cell_type": "code",
   "execution_count": null,
   "id": "f1527228-0720-4620-bb86-2a40ceb3e9ac",
   "metadata": {},
   "outputs": [],
   "source": [
    "df"
   ]
  },
  {
   "cell_type": "code",
   "execution_count": null,
   "id": "13107e15-f665-4120-938a-8c9038ebe9e3",
   "metadata": {},
   "outputs": [],
   "source": [
    "df[\"pred_B\"] = model_B.predict(df[[\"den\"]])"
   ]
  },
  {
   "cell_type": "markdown",
   "id": "aa128b68-a2ee-41d2-9bd6-11d84fe41657",
   "metadata": {},
   "source": [
    "### Grafický výstup, čárový graf s fitovanou čárou\n",
    "\n",
    "---\n",
    "V grafu představují modelovaný (odhadnutý) trend dat pomocí lineární regrese.\n",
    "\n",
    "<br>\n",
    "\n",
    "Říká: „Jak by se data mohla vyvíjet, kdyby trend pokračoval stejně jako doposud.“\n",
    "\n",
    "Není to přesná kopie dat, ale zjednodušený popis vztahu mezi dnem a hodnotou – jak hodnota roste či klesá."
   ]
  },
  {
   "cell_type": "code",
   "execution_count": null,
   "id": "0419f2be-0f4f-466b-8a17-43a4f7edb6d9",
   "metadata": {},
   "outputs": [],
   "source": [
    "plt.figure(figsize=(8, 5))\n",
    "sns.lineplot(x=\"den\", y=\"hodnota_A\", data=df, label=\"A – původní\", marker=\"o\")\n",
    "sns.lineplot(x=\"den\", y=\"pred_A\", data=df, label=\"A – fit\", linestyle=\"--\")\n",
    "\n",
    "sns.lineplot(x=\"den\", y=\"hodnota_B\", data=df, label=\"B – původní\", marker=\"s\")\n",
    "sns.lineplot(x=\"den\", y=\"pred_B\", data=df, label=\"B – fit\", linestyle=\"--\")\n",
    "\n",
    "plt.title(\"Vývoj a přibližující přímky\")\n",
    "plt.xlabel(\"Den\")\n",
    "plt.ylabel(\"Hodnota\")\n",
    "plt.grid(True)\n",
    "plt.legend()\n",
    "plt.show()"
   ]
  },
  {
   "cell_type": "markdown",
   "id": "c1f5f589-560f-4183-811c-3e9995acbe31",
   "metadata": {},
   "source": [
    "### Další typy modelů\n",
    "\n",
    "---\n",
    "\n",
    "#### 1. Klasifikační modely\n",
    "\n",
    "---\n",
    "\n",
    "Používají se, když chceme přiřadit kategorii (např. ANO/NE, typ produktu).\n",
    "\n",
    "**Příklad: Rozpoznání spamu v e-mailu**\n",
    "\n",
    "Modely: `LogisticRegression`, `DecisionTreeClassifier`, `RandomForestClassifier`\n",
    "\n",
    "<br>\n",
    "\n",
    "#### 2. Shlukování (clustering)\n",
    "\n",
    "---\n",
    "\n",
    "Hledají skupiny podobných dat bez předem daných štítků.\n",
    "\n",
    "**Příklad: Segmentace zákazníků podle nákupního chování**\n",
    "\n",
    "Modely: `KMeans`, `DBSCAN`\n",
    "\n",
    "<br>\n",
    "\n",
    "#### 3. Modely časových řad\n",
    "---\n",
    "\n",
    "Slouží k předpovědi budoucích hodnot v čase.\n",
    "\n",
    "**Příklad: Predikce poptávky, počasí, návštěvnosti webu**\n",
    "\n",
    "Modely: `ARIMA`, `Prophet` (od Meta)\n",
    "\n",
    "<br>\n",
    "\n",
    "#### 4. Náhodné lesy a posilované stromy\n",
    "---\n",
    "\n",
    "Velmi výkonné modely pro klasifikaci i regresi.\n",
    "\n",
    "**Příklad: Kdo pravděpodobně odejde z e-shopu (churn)**\n",
    "\n",
    "Modely: `RandomForest`, `XGBoost`, `LightGBM`\n",
    "\n",
    "<br>\n",
    "\n",
    "#### 5. Neuronové sítě\n",
    "---\n",
    "Vhodné pro složitější úkoly (obraz, text, zvuk).\n",
    "\n",
    "**Příklad: Rozpoznávání obličejů, generování textu**\n",
    "\n",
    "Modely: `TensorFlow`, `PyTorch`, `Keras`\n",
    "\n",
    "<br>"
   ]
  },
  {
   "cell_type": "markdown",
   "id": "7250bb4e-5689-40b8-abba-676cf281ebd1",
   "metadata": {},
   "source": [
    "## Nakloněná rovina, 3D grafy\n",
    "\n",
    "---"
   ]
  },
  {
   "cell_type": "markdown",
   "id": "e1128e36-6567-4d7b-9702-174ea22034e8",
   "metadata": {},
   "source": [
    "Pro práci s 3D grafy budeš potřebovat hlavně knihovny:"
   ]
  },
  {
   "cell_type": "code",
   "execution_count": 1,
   "id": "5c6a52e6-2c0d-4ed1-bce1-d8afca4c08be",
   "metadata": {},
   "outputs": [],
   "source": [
    "import matplotlib.pyplot as plt\n",
    "from mpl_toolkits.mplot3d import Axes3D  # Povinnost pro 3D grafy\n",
    "import numpy as np"
   ]
  },
  {
   "cell_type": "markdown",
   "id": "db641e61-1704-4568-ac6f-6ac0fb438170",
   "metadata": {},
   "source": [
    "`linspace` vytvoří 20 rovnoměrně rozložených hodnot od **-5 do 5**.\n",
    "\n",
    "`meshgrid` vytvoří mřížku bodů – kombinace všech hodnot x a y."
   ]
  },
  {
   "cell_type": "code",
   "execution_count": 2,
   "id": "09c4026b-f4a7-47e2-88b5-93931438274d",
   "metadata": {},
   "outputs": [],
   "source": [
    "x = np.linspace(-5, 5, 20)\n",
    "y = np.linspace(-5, 5, 20)\n",
    "X, Y = np.meshgrid(x, y)"
   ]
  },
  {
   "cell_type": "markdown",
   "id": "a78e4d8b-4258-46b4-b887-2a84b4468d51",
   "metadata": {},
   "source": [
    "<br>\n",
    "\n",
    "Spočítáš z podle rovnice `z = 2x + 3y` – to je rovina v prostoru."
   ]
  },
  {
   "cell_type": "code",
   "execution_count": 3,
   "id": "f5ac4927-fa44-473c-83b7-9c7d2ce3ec44",
   "metadata": {},
   "outputs": [],
   "source": [
    "Z = 2 * X + 3 * Y"
   ]
  },
  {
   "cell_type": "markdown",
   "id": "467aafc9-d9e8-46fc-bf57-f9d27bf4adfc",
   "metadata": {},
   "source": [
    "Pomocí `plot_surface` vykreslíš povrch (rovinu) přesně podle vypočtených X, Y, Z.\n",
    "- `cmap` parametr nastaví barvy,\n",
    "- `edgecolor` a `linewidth` zvýrazní mřížku."
   ]
  },
  {
   "cell_type": "code",
   "execution_count": 5,
   "id": "02efa6c0-f6f7-4037-868c-856f2c466043",
   "metadata": {},
   "outputs": [
    {
     "data": {
      "image/png": "[encoded data removed]",
      "text/plain": [
       "<Figure size 800x600 with 1 Axes>"
      ]
     },
     "metadata": {},
     "output_type": "display_data"
    }
   ],
   "source": [
    "# Vykreslení\n",
    "fig = plt.figure(figsize=(8, 6))\n",
    "ax = fig.add_subplot(111, projection='3d')\n",
    "\n",
    "# Vykresli plochu bez zakřivení\n",
    "ax.plot_surface(X, Y, Z, edgecolor='black', linewidth=0.5)\n",
    "# ax.view_init(elev=30, azim=60)  # Otočení\n",
    "\n",
    "# Popisky os\n",
    "ax.set_title(\"3D Rovinná plocha – z = 2x + 3y\")\n",
    "ax.set_xlabel(\"Osa X\")\n",
    "ax.set_ylabel(\"Osa Y\")\n",
    "ax.set_zlabel(\"Osa Z\")\n",
    "\n",
    "plt.show()"
   ]
  },
  {
   "cell_type": "markdown",
   "id": "6d42fae3-dcd6-4405-a888-efa5db2d5ebb",
   "metadata": {},
   "source": [
    "### Kombinace subplots a 3D\n",
    "---"
   ]
  },
  {
   "cell_type": "code",
   "execution_count": 6,
   "id": "0be58c82-c6ac-4f56-865b-d8dcf975a452",
   "metadata": {},
   "outputs": [],
   "source": [
    "import matplotlib.pyplot as plt\n",
    "from mpl_toolkits.mplot3d import Axes3D\n",
    "import numpy as np"
   ]
  },
  {
   "cell_type": "code",
   "execution_count": 7,
   "id": "117f3a59-8ed8-4733-9570-e2bec4037c5d",
   "metadata": {},
   "outputs": [],
   "source": [
    "# Vytvoření sítě bodů\n",
    "x = np.linspace(-5, 5, 20)\n",
    "y = np.linspace(-5, 5, 20)\n",
    "X, Y = np.meshgrid(x, y)"
   ]
  },
  {
   "cell_type": "code",
   "execution_count": 8,
   "id": "ae9d7e54-1128-4d77-9579-739709979f03",
   "metadata": {},
   "outputs": [],
   "source": [
    "# Rovnice roviny: z = 2x + 3y\n",
    "Z = 2 * X + 3 * Y"
   ]
  },
  {
   "cell_type": "code",
   "execution_count": 9,
   "id": "71d8c059-27e9-42d8-8e4d-2b573b66af9d",
   "metadata": {},
   "outputs": [
    {
     "data": {
      "image/png": "[encoded data removed]",
      "text/plain": [
       "<Figure size 1800x600 with 3 Axes>"
      ]
     },
     "metadata": {},
     "output_type": "display_data"
    }
   ],
   "source": [
    "# Vytvoření 3 subplotů\n",
    "fig = plt.figure(figsize=(18, 6))\n",
    "\n",
    "# Pohled kolmý na osu Z (shora)\n",
    "ax1 = fig.add_subplot(1, 3, 1, projection='3d')\n",
    "ax1.plot_surface(X, Y, Z, cmap='viridis', edgecolor='black', linewidth=0.5)\n",
    "ax1.set_title(\"Pohled kolmo na osu Z\")\n",
    "ax1.view_init(elev=90, azim=0)\n",
    "\n",
    "# Pohled kolmý na osu Y (z boku)\n",
    "ax2 = fig.add_subplot(1, 3, 2, projection='3d')\n",
    "ax2.plot_surface(X, Y, Z, cmap='viridis', edgecolor='black', linewidth=0.5)\n",
    "ax2.set_title(\"Pohled kolmo na osu Y\")\n",
    "ax2.view_init(elev=0, azim=0)\n",
    "\n",
    "# Pohled kolmý na osu X (zepředu)\n",
    "ax3 = fig.add_subplot(1, 3, 3, projection='3d')\n",
    "ax3.plot_surface(X, Y, Z, cmap='viridis', edgecolor='black', linewidth=0.5)\n",
    "ax3.set_title(\"Pohled kolmo na osu X\")\n",
    "ax3.view_init(elev=0, azim=90)\n",
    "\n",
    "plt.tight_layout()\n",
    "plt.show()"
   ]
  },
  {
   "cell_type": "code",
   "execution_count": null,
   "id": "67b1f088-c388-4d34-b447-de76f8204eb9",
   "metadata": {},
   "outputs": [],
   "source": []
  },
  {
   "cell_type": "markdown",
   "id": "856c9766-12e5-4787-96b0-2a126ef48b7d",
   "metadata": {},
   "source": [
    "---"
   ]
  }
 ],
 "metadata": {
  "kernelspec": {
   "display_name": "Python 3 (ipykernel)",
   "language": "python",
   "name": "python3"
  },
  "language_info": {
   "codemirror_mode": {
    "name": "ipython",
    "version": 3
   },
   "file_extension": ".py",
   "mimetype": "text/x-python",
   "name": "python",
   "nbconvert_exporter": "python",
   "pygments_lexer": "ipython3",
   "version": "3.8.10"
  }
 },
 "nbformat": 4,
 "nbformat_minor": 5
}

{
 "cells": [
  {
   "cell_type": "markdown",
   "id": "be12ac13-7b29-4178-9960-96b23b2a0480",
   "metadata": {},
   "source": [
    "# Python, Data, 2025\n",
    "\n",
    "---"
   ]
  },
  {
   "cell_type": "markdown",
   "id": "3bd42711-2b11-4c2c-abf2-10a3086f7741",
   "metadata": {},
   "source": [
    "* [Manipulace se sloupci](#Spojov%C3%A1n%C3%AD-dat),\n",
    "* [Spojování dat](#Spojov%C3%A1n%C3%AD-dat),\n",
    "    - [spojování s CONCAT](#Spojování-s-CONCAT),\n",
    "    - [spojování s CONCAT a JOIN](#concat-a-volitelný-argument-join),\n",
    "    - [spojování s metodou APPEND](#Spojování-pomocí-metody-APPEND),\n",
    "    - [spojování s MERGE](#Spojování-pomocí-merge),\n",
    "    - [spojování s metodou JOIN](#Spojení-pomocí-indexů,-join),\n",
    "* [Agregace](#Agregace),\n",
    "    - [jednoduchá agregace](#Jednoduchá-agregace),\n",
    "    - [seskupování GROUPBY](#Seskupování-groupby),\n",
    "    - [agregace](#Agregace-s-metodami),\n",
    "    - [filtrování](#Filtrování),\n",
    "    - [transformace](#Transformace),\n",
    "    - [apply](#Metoda-apply),\n",
    "* [Pivot tabulka](#Pivot-tabulky),\n",
    "    - [úvodní motivace](),\n",
    "    - [syntaxe tabulky](),\n",
    "    - [doplňující možnosti]().\n",
    "---"
   ]
  },
  {
   "cell_type": "markdown",
   "id": "e7cf38f7-edf0-4334-8a4f-969b126ad8e0",
   "metadata": {
    "tags": []
   },
   "source": [
    "<br>\n",
    "\n",
    "## Manipulace se sloupci\n",
    "\n",
    "---\n",
    "\n",
    "\n",
    "<img src=\"https://external-content.duckduckgo.com/iu/?u=https%3A%2F%2Ftse4.mm.bing.net%2Fth%3Fid%3DOIP.tzaGc-M5pl0DP6pGu-H6WgHaHa%26pid%3DApi&f=1&ipt=39909793c49bf980b8dbceaabe312870e1446f58fba1e6b430630cfbddd2b9c4&ipo=images\" width=\"200\" style=\"margin-left:auto; margin-right:auto\"/>\n",
    "\n"
   ]
  },
  {
   "cell_type": "markdown",
   "id": "8aa0c733-28a9-434c-8ac4-f329e3108295",
   "metadata": {},
   "source": [
    "Jakmile se dovedeš zorientovat v datových strukturách knihovny `pandas`, můžeš začít upravovat jejich obsah:\n",
    "1. **Přejmenovat** sloupce,\n",
    "2. **vytvořit** nové sloupce,\n",
    "3. **odstranit** existující sloupce."
   ]
  },
  {
   "cell_type": "markdown",
   "id": "f37ebcaa-d11a-4402-a13c-b6b3771d737c",
   "metadata": {},
   "source": [
    "<img src=\"https://imgs.search.brave.com/gKVKM0gMPdcdyI_mt5KyWfGrx-nGAFVdDOrSLlHo5wo/rs:fit:500:0:0:0/g:ce/aHR0cHM6Ly9pbWFn/ZXM3Lm1lbWVkcm9p/ZC5jb20vaW1hZ2Vz/L1VQTE9BREVEODAw/LzY0ZDE1NGQ4ZGQy/MTMuanBlZw\" width=\"300\" style=\"margin-left:auto; margin-right:auto\"/>"
   ]
  },
  {
   "cell_type": "markdown",
   "id": "3b577c0a-dc4d-4f5c-bff3-0cf8feeaac73",
   "metadata": {},
   "source": [
    "### Přejmenování sloupců\n",
    "\n",
    "---\n",
    "\n",
    "Pokud budeš někdy zápasit se špatně pojmenovaným sloupcem nebo sloupci, přejmenuj je pomocí metody `rename`."
   ]
  },
  {
   "cell_type": "code",
   "execution_count": 1,
   "id": "2a4c6611-678c-4973-83b2-c899ab71e2e0",
   "metadata": {
    "tags": []
   },
   "outputs": [],
   "source": [
    "from pandas import DataFrame"
   ]
  },
  {
   "cell_type": "code",
   "execution_count": 2,
   "id": "f137b867-b2a0-4a3f-8c3b-66ade2fe6c7e",
   "metadata": {
    "tags": []
   },
   "outputs": [],
   "source": [
    "uzivatele = {'jmeno': ['Matouš', 'Marek', 'Lukáš', 'Jan'],\n",
    "             'age': [23, 25, 27, 29],\n",
    "             'vaha': [65, 70, 75, 80],\n",
    "             'vyska': [160, 170, 180, 190]}"
   ]
  },
  {
   "cell_type": "code",
   "execution_count": 3,
   "id": "80b5a3d5-5926-4292-9440-4d493f39d981",
   "metadata": {
    "tags": []
   },
   "outputs": [],
   "source": [
    "uzivatele_df = DataFrame(uzivatele)"
   ]
  },
  {
   "cell_type": "code",
   "execution_count": 4,
   "id": "c239a13d-e294-4776-9a8d-0102be711aa1",
   "metadata": {
    "tags": []
   },
   "outputs": [
    {
     "data": {
      "text/html": [
       "<div>\n",
       "<style scoped>\n",
       "    .dataframe tbody tr th:only-of-type {\n",
       "        vertical-align: middle;\n",
       "    }\n",
       "\n",
       "    .dataframe tbody tr th {\n",
       "        vertical-align: top;\n",
       "    }\n",
       "\n",
       "    .dataframe thead th {\n",
       "        text-align: right;\n",
       "    }\n",
       "</style>\n",
       "<table border=\"1\" class=\"dataframe\">\n",
       "  <thead>\n",
       "    <tr style=\"text-align: right;\">\n",
       "      <th></th>\n",
       "      <th>jmeno</th>\n",
       "      <th>age</th>\n",
       "      <th>vaha</th>\n",
       "      <th>vyska</th>\n",
       "    </tr>\n",
       "  </thead>\n",
       "  <tbody>\n",
       "    <tr>\n",
       "      <th>0</th>\n",
       "      <td>Matouš</td>\n",
       "      <td>23</td>\n",
       "      <td>65</td>\n",
       "      <td>160</td>\n",
       "    </tr>\n",
       "    <tr>\n",
       "      <th>1</th>\n",
       "      <td>Marek</td>\n",
       "      <td>25</td>\n",
       "      <td>70</td>\n",
       "      <td>170</td>\n",
       "    </tr>\n",
       "    <tr>\n",
       "      <th>2</th>\n",
       "      <td>Lukáš</td>\n",
       "      <td>27</td>\n",
       "      <td>75</td>\n",
       "      <td>180</td>\n",
       "    </tr>\n",
       "    <tr>\n",
       "      <th>3</th>\n",
       "      <td>Jan</td>\n",
       "      <td>29</td>\n",
       "      <td>80</td>\n",
       "      <td>190</td>\n",
       "    </tr>\n",
       "  </tbody>\n",
       "</table>\n",
       "</div>"
      ],
      "text/plain": [
       "    jmeno  age  vaha  vyska\n",
       "0  Matouš   23    65    160\n",
       "1   Marek   25    70    170\n",
       "2   Lukáš   27    75    180\n",
       "3     Jan   29    80    190"
      ]
     },
     "execution_count": 4,
     "metadata": {},
     "output_type": "execute_result"
    }
   ],
   "source": [
    "uzivatele_df"
   ]
  },
  {
   "cell_type": "markdown",
   "id": "9ef5049c-6913-4945-9652-7fea08d1b14f",
   "metadata": {},
   "source": [
    "V ukázce výš tě omezuje **jazyková nekonzistence** mezi sloupečky.\n",
    "\n",
    "Pomocí metody `rename` a argumentu `columns`, můžeš pomocí `dict` anotace vybrat, co a čím přejmenovat:"
   ]
  },
  {
   "cell_type": "code",
   "execution_count": 5,
   "id": "144a12fa-fbdd-4ad9-bd3f-42c6783e6434",
   "metadata": {
    "tags": []
   },
   "outputs": [
    {
     "data": {
      "text/html": [
       "<div>\n",
       "<style scoped>\n",
       "    .dataframe tbody tr th:only-of-type {\n",
       "        vertical-align: middle;\n",
       "    }\n",
       "\n",
       "    .dataframe tbody tr th {\n",
       "        vertical-align: top;\n",
       "    }\n",
       "\n",
       "    .dataframe thead th {\n",
       "        text-align: right;\n",
       "    }\n",
       "</style>\n",
       "<table border=\"1\" class=\"dataframe\">\n",
       "  <thead>\n",
       "    <tr style=\"text-align: right;\">\n",
       "      <th></th>\n",
       "      <th>jmeno</th>\n",
       "      <th>vek</th>\n",
       "      <th>vaha</th>\n",
       "      <th>vyska</th>\n",
       "    </tr>\n",
       "  </thead>\n",
       "  <tbody>\n",
       "    <tr>\n",
       "      <th>0</th>\n",
       "      <td>Matouš</td>\n",
       "      <td>23</td>\n",
       "      <td>65</td>\n",
       "      <td>160</td>\n",
       "    </tr>\n",
       "    <tr>\n",
       "      <th>1</th>\n",
       "      <td>Marek</td>\n",
       "      <td>25</td>\n",
       "      <td>70</td>\n",
       "      <td>170</td>\n",
       "    </tr>\n",
       "    <tr>\n",
       "      <th>2</th>\n",
       "      <td>Lukáš</td>\n",
       "      <td>27</td>\n",
       "      <td>75</td>\n",
       "      <td>180</td>\n",
       "    </tr>\n",
       "    <tr>\n",
       "      <th>3</th>\n",
       "      <td>Jan</td>\n",
       "      <td>29</td>\n",
       "      <td>80</td>\n",
       "      <td>190</td>\n",
       "    </tr>\n",
       "  </tbody>\n",
       "</table>\n",
       "</div>"
      ],
      "text/plain": [
       "    jmeno  vek  vaha  vyska\n",
       "0  Matouš   23    65    160\n",
       "1   Marek   25    70    170\n",
       "2   Lukáš   27    75    180\n",
       "3     Jan   29    80    190"
      ]
     },
     "execution_count": 5,
     "metadata": {},
     "output_type": "execute_result"
    }
   ],
   "source": [
    "uzivatele_df.rename(columns={\"age\": \"vek\"})"
   ]
  },
  {
   "cell_type": "markdown",
   "id": "b0765df6-c70b-48fd-be9d-e4a8a8dce991",
   "metadata": {},
   "source": [
    "Při další kontrole zjistíš, že **nové jméno sloupečku zmizelo**:"
   ]
  },
  {
   "cell_type": "code",
   "execution_count": 6,
   "id": "dc081311-3f99-4aad-823b-7a852258f2e4",
   "metadata": {
    "tags": []
   },
   "outputs": [
    {
     "data": {
      "text/html": [
       "<div>\n",
       "<style scoped>\n",
       "    .dataframe tbody tr th:only-of-type {\n",
       "        vertical-align: middle;\n",
       "    }\n",
       "\n",
       "    .dataframe tbody tr th {\n",
       "        vertical-align: top;\n",
       "    }\n",
       "\n",
       "    .dataframe thead th {\n",
       "        text-align: right;\n",
       "    }\n",
       "</style>\n",
       "<table border=\"1\" class=\"dataframe\">\n",
       "  <thead>\n",
       "    <tr style=\"text-align: right;\">\n",
       "      <th></th>\n",
       "      <th>jmeno</th>\n",
       "      <th>age</th>\n",
       "      <th>vaha</th>\n",
       "      <th>vyska</th>\n",
       "    </tr>\n",
       "  </thead>\n",
       "  <tbody>\n",
       "    <tr>\n",
       "      <th>0</th>\n",
       "      <td>Matouš</td>\n",
       "      <td>23</td>\n",
       "      <td>65</td>\n",
       "      <td>160</td>\n",
       "    </tr>\n",
       "    <tr>\n",
       "      <th>1</th>\n",
       "      <td>Marek</td>\n",
       "      <td>25</td>\n",
       "      <td>70</td>\n",
       "      <td>170</td>\n",
       "    </tr>\n",
       "    <tr>\n",
       "      <th>2</th>\n",
       "      <td>Lukáš</td>\n",
       "      <td>27</td>\n",
       "      <td>75</td>\n",
       "      <td>180</td>\n",
       "    </tr>\n",
       "    <tr>\n",
       "      <th>3</th>\n",
       "      <td>Jan</td>\n",
       "      <td>29</td>\n",
       "      <td>80</td>\n",
       "      <td>190</td>\n",
       "    </tr>\n",
       "  </tbody>\n",
       "</table>\n",
       "</div>"
      ],
      "text/plain": [
       "    jmeno  age  vaha  vyska\n",
       "0  Matouš   23    65    160\n",
       "1   Marek   25    70    170\n",
       "2   Lukáš   27    75    180\n",
       "3     Jan   29    80    190"
      ]
     },
     "execution_count": 6,
     "metadata": {},
     "output_type": "execute_result"
    }
   ],
   "source": [
    "uzivatele_df"
   ]
  },
  {
   "cell_type": "markdown",
   "id": "ceb98e25-0fc0-4ebc-969a-db2893534296",
   "metadata": {},
   "source": [
    "<br>\n",
    "\n",
    "Celou situaci můžeš řešit **dvěma způsoby**:\n",
    "1. Volitelný argument `inplace`,\n",
    "2. kopie původního `DataFrame` objektu."
   ]
  },
  {
   "cell_type": "code",
   "execution_count": 7,
   "id": "70b1031a-2126-4751-8988-e515d1364939",
   "metadata": {
    "tags": []
   },
   "outputs": [],
   "source": [
    "prejmenovany_sloupec_df = uzivatele_df.rename(columns={\"age\": \"vek\"})"
   ]
  },
  {
   "cell_type": "code",
   "execution_count": 8,
   "id": "9c51ad7b-e2e1-4ac2-8dc8-c399a2877918",
   "metadata": {
    "tags": []
   },
   "outputs": [
    {
     "data": {
      "text/html": [
       "<div>\n",
       "<style scoped>\n",
       "    .dataframe tbody tr th:only-of-type {\n",
       "        vertical-align: middle;\n",
       "    }\n",
       "\n",
       "    .dataframe tbody tr th {\n",
       "        vertical-align: top;\n",
       "    }\n",
       "\n",
       "    .dataframe thead th {\n",
       "        text-align: right;\n",
       "    }\n",
       "</style>\n",
       "<table border=\"1\" class=\"dataframe\">\n",
       "  <thead>\n",
       "    <tr style=\"text-align: right;\">\n",
       "      <th></th>\n",
       "      <th>jmeno</th>\n",
       "      <th>vek</th>\n",
       "      <th>vaha</th>\n",
       "      <th>vyska</th>\n",
       "    </tr>\n",
       "  </thead>\n",
       "  <tbody>\n",
       "    <tr>\n",
       "      <th>0</th>\n",
       "      <td>Matouš</td>\n",
       "      <td>23</td>\n",
       "      <td>65</td>\n",
       "      <td>160</td>\n",
       "    </tr>\n",
       "    <tr>\n",
       "      <th>1</th>\n",
       "      <td>Marek</td>\n",
       "      <td>25</td>\n",
       "      <td>70</td>\n",
       "      <td>170</td>\n",
       "    </tr>\n",
       "    <tr>\n",
       "      <th>2</th>\n",
       "      <td>Lukáš</td>\n",
       "      <td>27</td>\n",
       "      <td>75</td>\n",
       "      <td>180</td>\n",
       "    </tr>\n",
       "    <tr>\n",
       "      <th>3</th>\n",
       "      <td>Jan</td>\n",
       "      <td>29</td>\n",
       "      <td>80</td>\n",
       "      <td>190</td>\n",
       "    </tr>\n",
       "  </tbody>\n",
       "</table>\n",
       "</div>"
      ],
      "text/plain": [
       "    jmeno  vek  vaha  vyska\n",
       "0  Matouš   23    65    160\n",
       "1   Marek   25    70    170\n",
       "2   Lukáš   27    75    180\n",
       "3     Jan   29    80    190"
      ]
     },
     "execution_count": 8,
     "metadata": {},
     "output_type": "execute_result"
    }
   ],
   "source": [
    "prejmenovany_sloupec_df"
   ]
  },
  {
   "cell_type": "code",
   "execution_count": 9,
   "id": "451162db-61a1-455b-b89a-2fe78a92b300",
   "metadata": {},
   "outputs": [
    {
     "data": {
      "text/html": [
       "<div>\n",
       "<style scoped>\n",
       "    .dataframe tbody tr th:only-of-type {\n",
       "        vertical-align: middle;\n",
       "    }\n",
       "\n",
       "    .dataframe tbody tr th {\n",
       "        vertical-align: top;\n",
       "    }\n",
       "\n",
       "    .dataframe thead th {\n",
       "        text-align: right;\n",
       "    }\n",
       "</style>\n",
       "<table border=\"1\" class=\"dataframe\">\n",
       "  <thead>\n",
       "    <tr style=\"text-align: right;\">\n",
       "      <th></th>\n",
       "      <th>jmeno</th>\n",
       "      <th>age</th>\n",
       "      <th>vaha</th>\n",
       "      <th>vyska</th>\n",
       "    </tr>\n",
       "  </thead>\n",
       "  <tbody>\n",
       "    <tr>\n",
       "      <th>0</th>\n",
       "      <td>Matouš</td>\n",
       "      <td>23</td>\n",
       "      <td>65</td>\n",
       "      <td>160</td>\n",
       "    </tr>\n",
       "    <tr>\n",
       "      <th>1</th>\n",
       "      <td>Marek</td>\n",
       "      <td>25</td>\n",
       "      <td>70</td>\n",
       "      <td>170</td>\n",
       "    </tr>\n",
       "    <tr>\n",
       "      <th>2</th>\n",
       "      <td>Lukáš</td>\n",
       "      <td>27</td>\n",
       "      <td>75</td>\n",
       "      <td>180</td>\n",
       "    </tr>\n",
       "    <tr>\n",
       "      <th>3</th>\n",
       "      <td>Jan</td>\n",
       "      <td>29</td>\n",
       "      <td>80</td>\n",
       "      <td>190</td>\n",
       "    </tr>\n",
       "  </tbody>\n",
       "</table>\n",
       "</div>"
      ],
      "text/plain": [
       "    jmeno  age  vaha  vyska\n",
       "0  Matouš   23    65    160\n",
       "1   Marek   25    70    170\n",
       "2   Lukáš   27    75    180\n",
       "3     Jan   29    80    190"
      ]
     },
     "execution_count": 9,
     "metadata": {},
     "output_type": "execute_result"
    }
   ],
   "source": [
    "uzivatele_df"
   ]
  },
  {
   "cell_type": "code",
   "execution_count": 10,
   "id": "b678b2f0-7eef-47a1-9639-65d0d1d83e28",
   "metadata": {
    "tags": []
   },
   "outputs": [],
   "source": [
    "uzivatele_df.rename(columns={\"age\": \"vek\"}, inplace=True)  # ⚠️ Za cenu rizika!⚠️"
   ]
  },
  {
   "cell_type": "code",
   "execution_count": 11,
   "id": "2f26c9c3-7173-414d-aad0-d00e5ab76d0d",
   "metadata": {
    "tags": []
   },
   "outputs": [
    {
     "data": {
      "text/html": [
       "<div>\n",
       "<style scoped>\n",
       "    .dataframe tbody tr th:only-of-type {\n",
       "        vertical-align: middle;\n",
       "    }\n",
       "\n",
       "    .dataframe tbody tr th {\n",
       "        vertical-align: top;\n",
       "    }\n",
       "\n",
       "    .dataframe thead th {\n",
       "        text-align: right;\n",
       "    }\n",
       "</style>\n",
       "<table border=\"1\" class=\"dataframe\">\n",
       "  <thead>\n",
       "    <tr style=\"text-align: right;\">\n",
       "      <th></th>\n",
       "      <th>jmeno</th>\n",
       "      <th>vek</th>\n",
       "      <th>vaha</th>\n",
       "      <th>vyska</th>\n",
       "    </tr>\n",
       "  </thead>\n",
       "  <tbody>\n",
       "    <tr>\n",
       "      <th>0</th>\n",
       "      <td>Matouš</td>\n",
       "      <td>23</td>\n",
       "      <td>65</td>\n",
       "      <td>160</td>\n",
       "    </tr>\n",
       "    <tr>\n",
       "      <th>1</th>\n",
       "      <td>Marek</td>\n",
       "      <td>25</td>\n",
       "      <td>70</td>\n",
       "      <td>170</td>\n",
       "    </tr>\n",
       "    <tr>\n",
       "      <th>2</th>\n",
       "      <td>Lukáš</td>\n",
       "      <td>27</td>\n",
       "      <td>75</td>\n",
       "      <td>180</td>\n",
       "    </tr>\n",
       "    <tr>\n",
       "      <th>3</th>\n",
       "      <td>Jan</td>\n",
       "      <td>29</td>\n",
       "      <td>80</td>\n",
       "      <td>190</td>\n",
       "    </tr>\n",
       "  </tbody>\n",
       "</table>\n",
       "</div>"
      ],
      "text/plain": [
       "    jmeno  vek  vaha  vyska\n",
       "0  Matouš   23    65    160\n",
       "1   Marek   25    70    170\n",
       "2   Lukáš   27    75    180\n",
       "3     Jan   29    80    190"
      ]
     },
     "execution_count": 11,
     "metadata": {},
     "output_type": "execute_result"
    }
   ],
   "source": [
    "uzivatele_df"
   ]
  },
  {
   "cell_type": "markdown",
   "id": "f04b3c16-4a90-4bdb-b287-8d328cc31421",
   "metadata": {},
   "source": [
    "Opatrně na práci s argumentem `inplace`.\n",
    "\n",
    "Jeho použití vždy důkladně zvaž, ať neztratíš zdrojová data."
   ]
  },
  {
   "cell_type": "markdown",
   "id": "b28187be-1229-4bde-bd1c-27e3b87925a8",
   "metadata": {},
   "source": [
    "<br>\n",
    "\n",
    "Přejmenovat můžeš i **více sloupců** současně:"
   ]
  },
  {
   "cell_type": "code",
   "execution_count": 12,
   "id": "4d15297b-cd24-4257-8ce2-43ffa17805e2",
   "metadata": {
    "tags": []
   },
   "outputs": [],
   "source": [
    "# CZ --> EN\n",
    "nova_jmena_sloupcu = {\"jmeno\": \"first_name\",\n",
    "                      \"vek\": \"age\",\n",
    "                      \"vaha\": \"weight\",\n",
    "                      \"vyska\": \"height\"}"
   ]
  },
  {
   "cell_type": "code",
   "execution_count": 13,
   "id": "9b40261e-aa99-47da-ae5a-4a21597b5364",
   "metadata": {
    "tags": []
   },
   "outputs": [],
   "source": [
    "uzivatele_df.rename(columns=nova_jmena_sloupcu, inplace=True) # ⚠️"
   ]
  },
  {
   "cell_type": "code",
   "execution_count": 14,
   "id": "ccb0e3a7-b42f-42dd-b698-9099d51d834c",
   "metadata": {
    "tags": []
   },
   "outputs": [
    {
     "data": {
      "text/html": [
       "<div>\n",
       "<style scoped>\n",
       "    .dataframe tbody tr th:only-of-type {\n",
       "        vertical-align: middle;\n",
       "    }\n",
       "\n",
       "    .dataframe tbody tr th {\n",
       "        vertical-align: top;\n",
       "    }\n",
       "\n",
       "    .dataframe thead th {\n",
       "        text-align: right;\n",
       "    }\n",
       "</style>\n",
       "<table border=\"1\" class=\"dataframe\">\n",
       "  <thead>\n",
       "    <tr style=\"text-align: right;\">\n",
       "      <th></th>\n",
       "      <th>first_name</th>\n",
       "      <th>age</th>\n",
       "      <th>weight</th>\n",
       "      <th>height</th>\n",
       "    </tr>\n",
       "  </thead>\n",
       "  <tbody>\n",
       "    <tr>\n",
       "      <th>0</th>\n",
       "      <td>Matouš</td>\n",
       "      <td>23</td>\n",
       "      <td>65</td>\n",
       "      <td>160</td>\n",
       "    </tr>\n",
       "    <tr>\n",
       "      <th>1</th>\n",
       "      <td>Marek</td>\n",
       "      <td>25</td>\n",
       "      <td>70</td>\n",
       "      <td>170</td>\n",
       "    </tr>\n",
       "    <tr>\n",
       "      <th>2</th>\n",
       "      <td>Lukáš</td>\n",
       "      <td>27</td>\n",
       "      <td>75</td>\n",
       "      <td>180</td>\n",
       "    </tr>\n",
       "    <tr>\n",
       "      <th>3</th>\n",
       "      <td>Jan</td>\n",
       "      <td>29</td>\n",
       "      <td>80</td>\n",
       "      <td>190</td>\n",
       "    </tr>\n",
       "  </tbody>\n",
       "</table>\n",
       "</div>"
      ],
      "text/plain": [
       "  first_name  age  weight  height\n",
       "0     Matouš   23      65     160\n",
       "1      Marek   25      70     170\n",
       "2      Lukáš   27      75     180\n",
       "3        Jan   29      80     190"
      ]
     },
     "execution_count": 14,
     "metadata": {},
     "output_type": "execute_result"
    }
   ],
   "source": [
    "uzivatele_df"
   ]
  },
  {
   "cell_type": "markdown",
   "id": "f346f2ef-dd6a-47e8-a07e-e611c8f6a01c",
   "metadata": {},
   "source": [
    "<br>\n",
    "\n",
    "Občas vhodnější řešení je provést transformaci hodnot a přidání nového sloupce."
   ]
  },
  {
   "cell_type": "markdown",
   "id": "6837a046-da9e-45d0-b0a3-3920115ad7b2",
   "metadata": {},
   "source": [
    "\n",
    "\n",
    "<img src=\"https://imgs.search.brave.com/Q3iNWCeKLnizjFbTrtaUEiEcXWvAqdNi_cWO1vwkJo0/rs:fit:500:0:0:0/g:ce/aHR0cHM6Ly9pbWFn/ZXMuaWNvbi1pY29u/cy5jb20vMTE1NC9Q/TkcvOTYvMTQ4NjU2/NDQwNy1wbHVzLWdy/ZWVuXzgxNTIxLnBu/Zw\" width=\"100\" style=\"margin-left:auto; margin-right:auto\"/>"
   ]
  },
  {
   "cell_type": "markdown",
   "id": "620186b6-4bd4-4106-bf5d-8150068feef9",
   "metadata": {},
   "source": [
    "### Přidávání sloupců do DataFrame\n",
    "\n",
    "---\n",
    "\n",
    "Potřebuješ doplnit další sloupec. Nebo upravit data v jednom sloupci a výsledek zapsat do dalšího.\n",
    "\n",
    "Nejčastěji můžeš pracovat **na přidávání nových sloupců** těmito třemi způsoby:\n",
    "1. **Slovníková anotace** pomocí klíče a hodnoty,\n",
    "2. výsledek pomocí operace **mezi dvěma sloupci**,\n",
    "3. pomocí metody `apply`."
   ]
  },
  {
   "cell_type": "markdown",
   "id": "a9436a74-061e-414a-91fb-6c18b93b03a1",
   "metadata": {},
   "source": [
    "#### Jako klíč a hodnota\n",
    "\n",
    "---\n",
    "\n",
    "Takový způsob použiješ, pokud máš nachystané hodnoty pro nový sloupec:"
   ]
  },
  {
   "cell_type": "code",
   "execution_count": 15,
   "id": "ba7b2b32-7444-4621-bfcd-b788dc30f440",
   "metadata": {},
   "outputs": [],
   "source": [
    "# EN --> CZ\n",
    "nova_jmena_sloupcu = {\"first_name\": \"jmeno\",\n",
    "                      \"age\": \"vek\",\n",
    "                      \"weight\": \"vaha\",\n",
    "                      \"height\": \"vyska\"}"
   ]
  },
  {
   "cell_type": "code",
   "execution_count": 16,
   "id": "23a14fe1-6ea7-4e6c-8aed-1281b2c934f4",
   "metadata": {
    "tags": []
   },
   "outputs": [],
   "source": [
    "uzivatele_df.rename(columns=nova_jmena_sloupcu, inplace=True)"
   ]
  },
  {
   "cell_type": "code",
   "execution_count": 17,
   "id": "06e7e4d6-74bf-4569-8f98-15b9111a5313",
   "metadata": {
    "tags": []
   },
   "outputs": [
    {
     "data": {
      "text/html": [
       "<div>\n",
       "<style scoped>\n",
       "    .dataframe tbody tr th:only-of-type {\n",
       "        vertical-align: middle;\n",
       "    }\n",
       "\n",
       "    .dataframe tbody tr th {\n",
       "        vertical-align: top;\n",
       "    }\n",
       "\n",
       "    .dataframe thead th {\n",
       "        text-align: right;\n",
       "    }\n",
       "</style>\n",
       "<table border=\"1\" class=\"dataframe\">\n",
       "  <thead>\n",
       "    <tr style=\"text-align: right;\">\n",
       "      <th></th>\n",
       "      <th>jmeno</th>\n",
       "      <th>vek</th>\n",
       "      <th>vaha</th>\n",
       "      <th>vyska</th>\n",
       "    </tr>\n",
       "  </thead>\n",
       "  <tbody>\n",
       "    <tr>\n",
       "      <th>0</th>\n",
       "      <td>Matouš</td>\n",
       "      <td>23</td>\n",
       "      <td>65</td>\n",
       "      <td>160</td>\n",
       "    </tr>\n",
       "    <tr>\n",
       "      <th>1</th>\n",
       "      <td>Marek</td>\n",
       "      <td>25</td>\n",
       "      <td>70</td>\n",
       "      <td>170</td>\n",
       "    </tr>\n",
       "    <tr>\n",
       "      <th>2</th>\n",
       "      <td>Lukáš</td>\n",
       "      <td>27</td>\n",
       "      <td>75</td>\n",
       "      <td>180</td>\n",
       "    </tr>\n",
       "    <tr>\n",
       "      <th>3</th>\n",
       "      <td>Jan</td>\n",
       "      <td>29</td>\n",
       "      <td>80</td>\n",
       "      <td>190</td>\n",
       "    </tr>\n",
       "  </tbody>\n",
       "</table>\n",
       "</div>"
      ],
      "text/plain": [
       "    jmeno  vek  vaha  vyska\n",
       "0  Matouš   23    65    160\n",
       "1   Marek   25    70    170\n",
       "2   Lukáš   27    75    180\n",
       "3     Jan   29    80    190"
      ]
     },
     "execution_count": 17,
     "metadata": {},
     "output_type": "execute_result"
    }
   ],
   "source": [
    "uzivatele_df"
   ]
  },
  {
   "cell_type": "markdown",
   "id": "e90b3515-7b3c-4fb7-bf45-b21860986ab7",
   "metadata": {},
   "source": [
    "<br>\n",
    "\n",
    "Pokud přiřazuji existující hodnoty, pomocí **slovníkové anotace**, skládám hodnoty podle pořadí:"
   ]
  },
  {
   "cell_type": "code",
   "execution_count": 18,
   "id": "c635c050-89c7-4018-a847-411aed8648f2",
   "metadata": {
    "tags": []
   },
   "outputs": [],
   "source": [
    "uzivatele_df['prijmeni'] = (\"Holinka\", \"Párek\", \"Holinka\", \"Novák\")"
   ]
  },
  {
   "cell_type": "code",
   "execution_count": 19,
   "id": "b843b019-4775-472d-98fd-e4c472ac6c05",
   "metadata": {
    "tags": []
   },
   "outputs": [
    {
     "data": {
      "text/html": [
       "<div>\n",
       "<style scoped>\n",
       "    .dataframe tbody tr th:only-of-type {\n",
       "        vertical-align: middle;\n",
       "    }\n",
       "\n",
       "    .dataframe tbody tr th {\n",
       "        vertical-align: top;\n",
       "    }\n",
       "\n",
       "    .dataframe thead th {\n",
       "        text-align: right;\n",
       "    }\n",
       "</style>\n",
       "<table border=\"1\" class=\"dataframe\">\n",
       "  <thead>\n",
       "    <tr style=\"text-align: right;\">\n",
       "      <th></th>\n",
       "      <th>jmeno</th>\n",
       "      <th>vek</th>\n",
       "      <th>vaha</th>\n",
       "      <th>vyska</th>\n",
       "      <th>prijmeni</th>\n",
       "    </tr>\n",
       "  </thead>\n",
       "  <tbody>\n",
       "    <tr>\n",
       "      <th>0</th>\n",
       "      <td>Matouš</td>\n",
       "      <td>23</td>\n",
       "      <td>65</td>\n",
       "      <td>160</td>\n",
       "      <td>Holinka</td>\n",
       "    </tr>\n",
       "    <tr>\n",
       "      <th>1</th>\n",
       "      <td>Marek</td>\n",
       "      <td>25</td>\n",
       "      <td>70</td>\n",
       "      <td>170</td>\n",
       "      <td>Párek</td>\n",
       "    </tr>\n",
       "    <tr>\n",
       "      <th>2</th>\n",
       "      <td>Lukáš</td>\n",
       "      <td>27</td>\n",
       "      <td>75</td>\n",
       "      <td>180</td>\n",
       "      <td>Holinka</td>\n",
       "    </tr>\n",
       "    <tr>\n",
       "      <th>3</th>\n",
       "      <td>Jan</td>\n",
       "      <td>29</td>\n",
       "      <td>80</td>\n",
       "      <td>190</td>\n",
       "      <td>Novák</td>\n",
       "    </tr>\n",
       "  </tbody>\n",
       "</table>\n",
       "</div>"
      ],
      "text/plain": [
       "    jmeno  vek  vaha  vyska prijmeni\n",
       "0  Matouš   23    65    160  Holinka\n",
       "1   Marek   25    70    170    Párek\n",
       "2   Lukáš   27    75    180  Holinka\n",
       "3     Jan   29    80    190    Novák"
      ]
     },
     "execution_count": 19,
     "metadata": {},
     "output_type": "execute_result"
    }
   ],
   "source": [
    "uzivatele_df"
   ]
  },
  {
   "cell_type": "code",
   "execution_count": 20,
   "id": "3d054819-097c-45ef-a653-c3312e7e668b",
   "metadata": {
    "tags": []
   },
   "outputs": [
    {
     "data": {
      "text/plain": [
       "jmeno       Marek\n",
       "vek            25\n",
       "vaha           70\n",
       "vyska         170\n",
       "prijmeni    Párek\n",
       "Name: 1, dtype: object"
      ]
     },
     "execution_count": 20,
     "metadata": {},
     "output_type": "execute_result"
    }
   ],
   "source": [
    "uzivatele_df.iloc[1]"
   ]
  },
  {
   "cell_type": "markdown",
   "id": "b3b2aa8d-4dd6-467a-b0d4-4f5c97e34489",
   "metadata": {},
   "source": [
    "<br>\n",
    "\n",
    "#### Kombinace existujících sloupců\n",
    "\n",
    "---\n",
    "\n",
    "Tento způsob lze použít, pokud chceš vytvořit nový sloupec pomocí operací mezi existujícími sloupci:"
   ]
  },
  {
   "cell_type": "code",
   "execution_count": 21,
   "id": "01a06e0d-fb42-4ab1-9f12-d99c240325c9",
   "metadata": {
    "tags": []
   },
   "outputs": [
    {
     "data": {
      "text/html": [
       "<div>\n",
       "<style scoped>\n",
       "    .dataframe tbody tr th:only-of-type {\n",
       "        vertical-align: middle;\n",
       "    }\n",
       "\n",
       "    .dataframe tbody tr th {\n",
       "        vertical-align: top;\n",
       "    }\n",
       "\n",
       "    .dataframe thead th {\n",
       "        text-align: right;\n",
       "    }\n",
       "</style>\n",
       "<table border=\"1\" class=\"dataframe\">\n",
       "  <thead>\n",
       "    <tr style=\"text-align: right;\">\n",
       "      <th></th>\n",
       "      <th>jmeno</th>\n",
       "      <th>vek</th>\n",
       "      <th>vaha</th>\n",
       "      <th>vyska</th>\n",
       "      <th>prijmeni</th>\n",
       "    </tr>\n",
       "  </thead>\n",
       "  <tbody>\n",
       "    <tr>\n",
       "      <th>0</th>\n",
       "      <td>Matouš</td>\n",
       "      <td>23</td>\n",
       "      <td>65</td>\n",
       "      <td>160</td>\n",
       "      <td>Holinka</td>\n",
       "    </tr>\n",
       "    <tr>\n",
       "      <th>1</th>\n",
       "      <td>Marek</td>\n",
       "      <td>25</td>\n",
       "      <td>70</td>\n",
       "      <td>170</td>\n",
       "      <td>Párek</td>\n",
       "    </tr>\n",
       "    <tr>\n",
       "      <th>2</th>\n",
       "      <td>Lukáš</td>\n",
       "      <td>27</td>\n",
       "      <td>75</td>\n",
       "      <td>180</td>\n",
       "      <td>Holinka</td>\n",
       "    </tr>\n",
       "    <tr>\n",
       "      <th>3</th>\n",
       "      <td>Jan</td>\n",
       "      <td>29</td>\n",
       "      <td>80</td>\n",
       "      <td>190</td>\n",
       "      <td>Novák</td>\n",
       "    </tr>\n",
       "  </tbody>\n",
       "</table>\n",
       "</div>"
      ],
      "text/plain": [
       "    jmeno  vek  vaha  vyska prijmeni\n",
       "0  Matouš   23    65    160  Holinka\n",
       "1   Marek   25    70    170    Párek\n",
       "2   Lukáš   27    75    180  Holinka\n",
       "3     Jan   29    80    190    Novák"
      ]
     },
     "execution_count": 21,
     "metadata": {},
     "output_type": "execute_result"
    }
   ],
   "source": [
    "uzivatele_df"
   ]
  },
  {
   "cell_type": "markdown",
   "id": "357cceb1-c1ca-4245-961f-ef2300558c75",
   "metadata": {},
   "source": [
    "<br>\n",
    "\n",
    "Nejprve výpočet BMI: `vaha [kg] / (vyska^2) [m]`"
   ]
  },
  {
   "cell_type": "code",
   "execution_count": 22,
   "id": "0d70f9c8-90ea-4c23-a3f7-1d746f2352ca",
   "metadata": {
    "tags": []
   },
   "outputs": [],
   "source": [
    "uzivatele_df['BMI'] = round(uzivatele_df['vaha'] / ((uzivatele_df['vyska'] / 100) ** 2), 1)"
   ]
  },
  {
   "cell_type": "code",
   "execution_count": 23,
   "id": "1ed53fe0-8164-4758-8339-4f40c1d4edb2",
   "metadata": {
    "tags": []
   },
   "outputs": [
    {
     "data": {
      "text/html": [
       "<div>\n",
       "<style scoped>\n",
       "    .dataframe tbody tr th:only-of-type {\n",
       "        vertical-align: middle;\n",
       "    }\n",
       "\n",
       "    .dataframe tbody tr th {\n",
       "        vertical-align: top;\n",
       "    }\n",
       "\n",
       "    .dataframe thead th {\n",
       "        text-align: right;\n",
       "    }\n",
       "</style>\n",
       "<table border=\"1\" class=\"dataframe\">\n",
       "  <thead>\n",
       "    <tr style=\"text-align: right;\">\n",
       "      <th></th>\n",
       "      <th>jmeno</th>\n",
       "      <th>vek</th>\n",
       "      <th>vaha</th>\n",
       "      <th>vyska</th>\n",
       "      <th>prijmeni</th>\n",
       "      <th>BMI</th>\n",
       "    </tr>\n",
       "  </thead>\n",
       "  <tbody>\n",
       "    <tr>\n",
       "      <th>0</th>\n",
       "      <td>Matouš</td>\n",
       "      <td>23</td>\n",
       "      <td>65</td>\n",
       "      <td>160</td>\n",
       "      <td>Holinka</td>\n",
       "      <td>25.4</td>\n",
       "    </tr>\n",
       "    <tr>\n",
       "      <th>1</th>\n",
       "      <td>Marek</td>\n",
       "      <td>25</td>\n",
       "      <td>70</td>\n",
       "      <td>170</td>\n",
       "      <td>Párek</td>\n",
       "      <td>24.2</td>\n",
       "    </tr>\n",
       "    <tr>\n",
       "      <th>2</th>\n",
       "      <td>Lukáš</td>\n",
       "      <td>27</td>\n",
       "      <td>75</td>\n",
       "      <td>180</td>\n",
       "      <td>Holinka</td>\n",
       "      <td>23.1</td>\n",
       "    </tr>\n",
       "    <tr>\n",
       "      <th>3</th>\n",
       "      <td>Jan</td>\n",
       "      <td>29</td>\n",
       "      <td>80</td>\n",
       "      <td>190</td>\n",
       "      <td>Novák</td>\n",
       "      <td>22.2</td>\n",
       "    </tr>\n",
       "  </tbody>\n",
       "</table>\n",
       "</div>"
      ],
      "text/plain": [
       "    jmeno  vek  vaha  vyska prijmeni   BMI\n",
       "0  Matouš   23    65    160  Holinka  25.4\n",
       "1   Marek   25    70    170    Párek  24.2\n",
       "2   Lukáš   27    75    180  Holinka  23.1\n",
       "3     Jan   29    80    190    Novák  22.2"
      ]
     },
     "execution_count": 23,
     "metadata": {},
     "output_type": "execute_result"
    }
   ],
   "source": [
    "uzivatele_df"
   ]
  },
  {
   "cell_type": "markdown",
   "id": "3e0b7bd7-4256-4a21-8046-7d2710b8577e",
   "metadata": {},
   "source": [
    "<br>\n",
    "\n",
    "Následně přidám nový sloupeček `'Celé jméno'`:"
   ]
  },
  {
   "cell_type": "code",
   "execution_count": 24,
   "id": "d325d2ff-0c69-491a-9504-95ca701a63aa",
   "metadata": {},
   "outputs": [],
   "source": [
    "uzivatele_df['Celé jméno'] = uzivatele_df['prijmeni'] + ' ' + uzivatele_df['jmeno']"
   ]
  },
  {
   "cell_type": "code",
   "execution_count": 25,
   "id": "3947fe08-019b-4057-b856-8e2849114b42",
   "metadata": {
    "tags": []
   },
   "outputs": [
    {
     "data": {
      "text/html": [
       "<div>\n",
       "<style scoped>\n",
       "    .dataframe tbody tr th:only-of-type {\n",
       "        vertical-align: middle;\n",
       "    }\n",
       "\n",
       "    .dataframe tbody tr th {\n",
       "        vertical-align: top;\n",
       "    }\n",
       "\n",
       "    .dataframe thead th {\n",
       "        text-align: right;\n",
       "    }\n",
       "</style>\n",
       "<table border=\"1\" class=\"dataframe\">\n",
       "  <thead>\n",
       "    <tr style=\"text-align: right;\">\n",
       "      <th></th>\n",
       "      <th>jmeno</th>\n",
       "      <th>vek</th>\n",
       "      <th>vaha</th>\n",
       "      <th>vyska</th>\n",
       "      <th>prijmeni</th>\n",
       "      <th>BMI</th>\n",
       "      <th>Celé jméno</th>\n",
       "    </tr>\n",
       "  </thead>\n",
       "  <tbody>\n",
       "    <tr>\n",
       "      <th>0</th>\n",
       "      <td>Matouš</td>\n",
       "      <td>23</td>\n",
       "      <td>65</td>\n",
       "      <td>160</td>\n",
       "      <td>Holinka</td>\n",
       "      <td>25.4</td>\n",
       "      <td>Holinka Matouš</td>\n",
       "    </tr>\n",
       "    <tr>\n",
       "      <th>1</th>\n",
       "      <td>Marek</td>\n",
       "      <td>25</td>\n",
       "      <td>70</td>\n",
       "      <td>170</td>\n",
       "      <td>Párek</td>\n",
       "      <td>24.2</td>\n",
       "      <td>Párek Marek</td>\n",
       "    </tr>\n",
       "    <tr>\n",
       "      <th>2</th>\n",
       "      <td>Lukáš</td>\n",
       "      <td>27</td>\n",
       "      <td>75</td>\n",
       "      <td>180</td>\n",
       "      <td>Holinka</td>\n",
       "      <td>23.1</td>\n",
       "      <td>Holinka Lukáš</td>\n",
       "    </tr>\n",
       "    <tr>\n",
       "      <th>3</th>\n",
       "      <td>Jan</td>\n",
       "      <td>29</td>\n",
       "      <td>80</td>\n",
       "      <td>190</td>\n",
       "      <td>Novák</td>\n",
       "      <td>22.2</td>\n",
       "      <td>Novák Jan</td>\n",
       "    </tr>\n",
       "  </tbody>\n",
       "</table>\n",
       "</div>"
      ],
      "text/plain": [
       "    jmeno  vek  vaha  vyska prijmeni   BMI      Celé jméno\n",
       "0  Matouš   23    65    160  Holinka  25.4  Holinka Matouš\n",
       "1   Marek   25    70    170    Párek  24.2     Párek Marek\n",
       "2   Lukáš   27    75    180  Holinka  23.1   Holinka Lukáš\n",
       "3     Jan   29    80    190    Novák  22.2       Novák Jan"
      ]
     },
     "execution_count": 25,
     "metadata": {},
     "output_type": "execute_result"
    }
   ],
   "source": [
    "uzivatele_df"
   ]
  },
  {
   "cell_type": "markdown",
   "id": "65ac90d3-0640-4406-bca6-1d883e8b03e2",
   "metadata": {},
   "source": [
    "#### Metoda `apply`\n",
    "\n",
    "---\n",
    "\n",
    "Pokud potřebuješ aplikovat uživ. funkci **pro stávající sloupec**, využiješ metodu `apply`:"
   ]
  },
  {
   "cell_type": "code",
   "execution_count": 26,
   "id": "83253a18-3363-4667-85ba-5de73d11cc18",
   "metadata": {
    "tags": []
   },
   "outputs": [],
   "source": [
    "def vytvor_email(prijmeni, domena=\"gmail.com\"):\n",
    "    return f\"{prijmeni.lower()}@{domena}\""
   ]
  },
  {
   "cell_type": "code",
   "execution_count": 27,
   "id": "b5a4647f-242e-4dfc-a4e2-a06cf9505cfe",
   "metadata": {},
   "outputs": [
    {
     "data": {
      "text/plain": [
       "'holinka@gmail.com'"
      ]
     },
     "execution_count": 27,
     "metadata": {},
     "output_type": "execute_result"
    }
   ],
   "source": [
    "vytvor_email(prijmeni='holinka')"
   ]
  },
  {
   "cell_type": "markdown",
   "id": "b1b91307-1187-4108-bbee-b1b0fd8d68b4",
   "metadata": {},
   "source": [
    "<br>\n",
    "\n",
    "Pokud použiju **jeden parametr**, musím aplikovat **jeden sloupec**:"
   ]
  },
  {
   "cell_type": "code",
   "execution_count": 28,
   "id": "34e3dddb-9386-4007-b9e2-bfa220d28dca",
   "metadata": {
    "tags": []
   },
   "outputs": [],
   "source": [
    "uzivatele_df['E-mail'] = uzivatele_df['prijmeni'].apply(vytvor_email)"
   ]
  },
  {
   "cell_type": "code",
   "execution_count": 29,
   "id": "ae2f6dbf-776c-4ddf-9eba-1f369e71a318",
   "metadata": {
    "tags": []
   },
   "outputs": [
    {
     "data": {
      "text/html": [
       "<div>\n",
       "<style scoped>\n",
       "    .dataframe tbody tr th:only-of-type {\n",
       "        vertical-align: middle;\n",
       "    }\n",
       "\n",
       "    .dataframe tbody tr th {\n",
       "        vertical-align: top;\n",
       "    }\n",
       "\n",
       "    .dataframe thead th {\n",
       "        text-align: right;\n",
       "    }\n",
       "</style>\n",
       "<table border=\"1\" class=\"dataframe\">\n",
       "  <thead>\n",
       "    <tr style=\"text-align: right;\">\n",
       "      <th></th>\n",
       "      <th>jmeno</th>\n",
       "      <th>vek</th>\n",
       "      <th>vaha</th>\n",
       "      <th>vyska</th>\n",
       "      <th>prijmeni</th>\n",
       "      <th>BMI</th>\n",
       "      <th>Celé jméno</th>\n",
       "      <th>E-mail</th>\n",
       "    </tr>\n",
       "  </thead>\n",
       "  <tbody>\n",
       "    <tr>\n",
       "      <th>0</th>\n",
       "      <td>Matouš</td>\n",
       "      <td>23</td>\n",
       "      <td>65</td>\n",
       "      <td>160</td>\n",
       "      <td>Holinka</td>\n",
       "      <td>25.4</td>\n",
       "      <td>Holinka Matouš</td>\n",
       "      <td>holinka@gmail.com</td>\n",
       "    </tr>\n",
       "    <tr>\n",
       "      <th>1</th>\n",
       "      <td>Marek</td>\n",
       "      <td>25</td>\n",
       "      <td>70</td>\n",
       "      <td>170</td>\n",
       "      <td>Párek</td>\n",
       "      <td>24.2</td>\n",
       "      <td>Párek Marek</td>\n",
       "      <td>párek@gmail.com</td>\n",
       "    </tr>\n",
       "    <tr>\n",
       "      <th>2</th>\n",
       "      <td>Lukáš</td>\n",
       "      <td>27</td>\n",
       "      <td>75</td>\n",
       "      <td>180</td>\n",
       "      <td>Holinka</td>\n",
       "      <td>23.1</td>\n",
       "      <td>Holinka Lukáš</td>\n",
       "      <td>holinka@gmail.com</td>\n",
       "    </tr>\n",
       "    <tr>\n",
       "      <th>3</th>\n",
       "      <td>Jan</td>\n",
       "      <td>29</td>\n",
       "      <td>80</td>\n",
       "      <td>190</td>\n",
       "      <td>Novák</td>\n",
       "      <td>22.2</td>\n",
       "      <td>Novák Jan</td>\n",
       "      <td>novák@gmail.com</td>\n",
       "    </tr>\n",
       "  </tbody>\n",
       "</table>\n",
       "</div>"
      ],
      "text/plain": [
       "    jmeno  vek  vaha  vyska prijmeni   BMI      Celé jméno             E-mail\n",
       "0  Matouš   23    65    160  Holinka  25.4  Holinka Matouš  holinka@gmail.com\n",
       "1   Marek   25    70    170    Párek  24.2     Párek Marek    párek@gmail.com\n",
       "2   Lukáš   27    75    180  Holinka  23.1   Holinka Lukáš  holinka@gmail.com\n",
       "3     Jan   29    80    190    Novák  22.2       Novák Jan    novák@gmail.com"
      ]
     },
     "execution_count": 29,
     "metadata": {},
     "output_type": "execute_result"
    }
   ],
   "source": [
    "uzivatele_df"
   ]
  },
  {
   "cell_type": "markdown",
   "id": "2daf2de1-3865-4e44-8418-33f31bc27dab",
   "metadata": {},
   "source": [
    "<br>\n",
    "\n",
    "Pokud budeš potřebovat pracovat **s více sloupečky**:"
   ]
  },
  {
   "cell_type": "code",
   "execution_count": 30,
   "id": "27c95782-279d-4d8f-8dcd-ecdb02a64a34",
   "metadata": {
    "tags": []
   },
   "outputs": [],
   "source": [
    "from pandas import Series"
   ]
  },
  {
   "cell_type": "code",
   "execution_count": 31,
   "id": "71a11ffa-166e-48d7-a322-c5a44adecd7a",
   "metadata": {},
   "outputs": [],
   "source": [
    "# from unidecode import unidecode"
   ]
  },
  {
   "cell_type": "code",
   "execution_count": 32,
   "id": "62d9feb1-ba0e-4ff9-9773-4a76042f23a4",
   "metadata": {
    "tags": []
   },
   "outputs": [],
   "source": [
    "def vytvor_novy_email(radek, domena=\"gmail.com\"):\n",
    "    se_specialnimi_znaky = f\"{radek['jmeno'].lower()}.{radek['prijmeni'].lower()}@{domena}\"\n",
    "    # return unidecode(se_specialnimi_znaky)\n",
    "    return se_specialnimi_znaky"
   ]
  },
  {
   "cell_type": "code",
   "execution_count": 33,
   "id": "cd155080-68b4-4f96-911a-84149ca399e1",
   "metadata": {},
   "outputs": [],
   "source": [
    "jeden_uzivatel = DataFrame({'jmeno': ['Matous'], 'prijmeni': ['Test']})"
   ]
  },
  {
   "cell_type": "code",
   "execution_count": 34,
   "id": "cc7cbd61-2d5a-4606-9acc-9e0d44390748",
   "metadata": {},
   "outputs": [
    {
     "data": {
      "text/plain": [
       "jmeno       Matous\n",
       "prijmeni      Test\n",
       "Name: 0, dtype: object"
      ]
     },
     "execution_count": 34,
     "metadata": {},
     "output_type": "execute_result"
    }
   ],
   "source": [
    "jeden_uzivatel.iloc[0]"
   ]
  },
  {
   "cell_type": "code",
   "execution_count": 35,
   "id": "5f16feae-96e3-4add-81cc-1135e02af4b6",
   "metadata": {},
   "outputs": [
    {
     "data": {
      "text/plain": [
       "'matous.test@gmail.com'"
      ]
     },
     "execution_count": 35,
     "metadata": {},
     "output_type": "execute_result"
    }
   ],
   "source": [
    "vytvor_novy_email(radek=jeden_uzivatel.iloc[0])"
   ]
  },
  {
   "cell_type": "code",
   "execution_count": 36,
   "id": "8e12c21d-9ec5-483d-a551-dd4f64b808b9",
   "metadata": {},
   "outputs": [],
   "source": [
    "# vytvor_novy_email(radek=['matous', 'test'])  # TypeError"
   ]
  },
  {
   "cell_type": "code",
   "execution_count": 37,
   "id": "ff2555b3-d8f0-482e-9ef9-13913f8d1679",
   "metadata": {},
   "outputs": [
    {
     "data": {
      "text/html": [
       "<div>\n",
       "<style scoped>\n",
       "    .dataframe tbody tr th:only-of-type {\n",
       "        vertical-align: middle;\n",
       "    }\n",
       "\n",
       "    .dataframe tbody tr th {\n",
       "        vertical-align: top;\n",
       "    }\n",
       "\n",
       "    .dataframe thead th {\n",
       "        text-align: right;\n",
       "    }\n",
       "</style>\n",
       "<table border=\"1\" class=\"dataframe\">\n",
       "  <thead>\n",
       "    <tr style=\"text-align: right;\">\n",
       "      <th></th>\n",
       "      <th>jmeno</th>\n",
       "      <th>vek</th>\n",
       "      <th>vaha</th>\n",
       "      <th>vyska</th>\n",
       "      <th>prijmeni</th>\n",
       "      <th>BMI</th>\n",
       "      <th>Celé jméno</th>\n",
       "      <th>E-mail</th>\n",
       "    </tr>\n",
       "  </thead>\n",
       "  <tbody>\n",
       "    <tr>\n",
       "      <th>0</th>\n",
       "      <td>Matouš</td>\n",
       "      <td>23</td>\n",
       "      <td>65</td>\n",
       "      <td>160</td>\n",
       "      <td>Holinka</td>\n",
       "      <td>25.4</td>\n",
       "      <td>Holinka Matouš</td>\n",
       "      <td>holinka@gmail.com</td>\n",
       "    </tr>\n",
       "    <tr>\n",
       "      <th>1</th>\n",
       "      <td>Marek</td>\n",
       "      <td>25</td>\n",
       "      <td>70</td>\n",
       "      <td>170</td>\n",
       "      <td>Párek</td>\n",
       "      <td>24.2</td>\n",
       "      <td>Párek Marek</td>\n",
       "      <td>párek@gmail.com</td>\n",
       "    </tr>\n",
       "    <tr>\n",
       "      <th>2</th>\n",
       "      <td>Lukáš</td>\n",
       "      <td>27</td>\n",
       "      <td>75</td>\n",
       "      <td>180</td>\n",
       "      <td>Holinka</td>\n",
       "      <td>23.1</td>\n",
       "      <td>Holinka Lukáš</td>\n",
       "      <td>holinka@gmail.com</td>\n",
       "    </tr>\n",
       "    <tr>\n",
       "      <th>3</th>\n",
       "      <td>Jan</td>\n",
       "      <td>29</td>\n",
       "      <td>80</td>\n",
       "      <td>190</td>\n",
       "      <td>Novák</td>\n",
       "      <td>22.2</td>\n",
       "      <td>Novák Jan</td>\n",
       "      <td>novák@gmail.com</td>\n",
       "    </tr>\n",
       "  </tbody>\n",
       "</table>\n",
       "</div>"
      ],
      "text/plain": [
       "    jmeno  vek  vaha  vyska prijmeni   BMI      Celé jméno             E-mail\n",
       "0  Matouš   23    65    160  Holinka  25.4  Holinka Matouš  holinka@gmail.com\n",
       "1   Marek   25    70    170    Párek  24.2     Párek Marek    párek@gmail.com\n",
       "2   Lukáš   27    75    180  Holinka  23.1   Holinka Lukáš  holinka@gmail.com\n",
       "3     Jan   29    80    190    Novák  22.2       Novák Jan    novák@gmail.com"
      ]
     },
     "execution_count": 37,
     "metadata": {},
     "output_type": "execute_result"
    }
   ],
   "source": [
    "uzivatele_df"
   ]
  },
  {
   "cell_type": "code",
   "execution_count": 38,
   "id": "56a17323-59a2-4852-9862-ad83a55b04c8",
   "metadata": {},
   "outputs": [],
   "source": [
    "# DataFrame.apply?"
   ]
  },
  {
   "cell_type": "code",
   "execution_count": 39,
   "id": "c17c4bac-9aef-4169-919e-134b825a8652",
   "metadata": {
    "tags": []
   },
   "outputs": [],
   "source": [
    "# uzivatele_df['Nový e-mail'] = uzivatele_df.apply(vytvor_novy_email)  # KeyError"
   ]
  },
  {
   "cell_type": "code",
   "execution_count": 40,
   "id": "b7f9bcdd-3ce1-4c54-98f6-442f4ab9daa5",
   "metadata": {
    "tags": []
   },
   "outputs": [],
   "source": [
    "uzivatele_df['Nový e-mail'] = uzivatele_df.apply(vytvor_novy_email, axis=1)"
   ]
  },
  {
   "cell_type": "code",
   "execution_count": 41,
   "id": "c8e7eb59-01de-4d95-b235-5dc1ad64800a",
   "metadata": {
    "tags": []
   },
   "outputs": [
    {
     "data": {
      "text/html": [
       "<div>\n",
       "<style scoped>\n",
       "    .dataframe tbody tr th:only-of-type {\n",
       "        vertical-align: middle;\n",
       "    }\n",
       "\n",
       "    .dataframe tbody tr th {\n",
       "        vertical-align: top;\n",
       "    }\n",
       "\n",
       "    .dataframe thead th {\n",
       "        text-align: right;\n",
       "    }\n",
       "</style>\n",
       "<table border=\"1\" class=\"dataframe\">\n",
       "  <thead>\n",
       "    <tr style=\"text-align: right;\">\n",
       "      <th></th>\n",
       "      <th>jmeno</th>\n",
       "      <th>vek</th>\n",
       "      <th>vaha</th>\n",
       "      <th>vyska</th>\n",
       "      <th>prijmeni</th>\n",
       "      <th>BMI</th>\n",
       "      <th>Celé jméno</th>\n",
       "      <th>E-mail</th>\n",
       "      <th>Nový e-mail</th>\n",
       "    </tr>\n",
       "  </thead>\n",
       "  <tbody>\n",
       "    <tr>\n",
       "      <th>0</th>\n",
       "      <td>Matouš</td>\n",
       "      <td>23</td>\n",
       "      <td>65</td>\n",
       "      <td>160</td>\n",
       "      <td>Holinka</td>\n",
       "      <td>25.4</td>\n",
       "      <td>Holinka Matouš</td>\n",
       "      <td>holinka@gmail.com</td>\n",
       "      <td>matouš.holinka@gmail.com</td>\n",
       "    </tr>\n",
       "    <tr>\n",
       "      <th>1</th>\n",
       "      <td>Marek</td>\n",
       "      <td>25</td>\n",
       "      <td>70</td>\n",
       "      <td>170</td>\n",
       "      <td>Párek</td>\n",
       "      <td>24.2</td>\n",
       "      <td>Párek Marek</td>\n",
       "      <td>párek@gmail.com</td>\n",
       "      <td>marek.párek@gmail.com</td>\n",
       "    </tr>\n",
       "    <tr>\n",
       "      <th>2</th>\n",
       "      <td>Lukáš</td>\n",
       "      <td>27</td>\n",
       "      <td>75</td>\n",
       "      <td>180</td>\n",
       "      <td>Holinka</td>\n",
       "      <td>23.1</td>\n",
       "      <td>Holinka Lukáš</td>\n",
       "      <td>holinka@gmail.com</td>\n",
       "      <td>lukáš.holinka@gmail.com</td>\n",
       "    </tr>\n",
       "    <tr>\n",
       "      <th>3</th>\n",
       "      <td>Jan</td>\n",
       "      <td>29</td>\n",
       "      <td>80</td>\n",
       "      <td>190</td>\n",
       "      <td>Novák</td>\n",
       "      <td>22.2</td>\n",
       "      <td>Novák Jan</td>\n",
       "      <td>novák@gmail.com</td>\n",
       "      <td>jan.novák@gmail.com</td>\n",
       "    </tr>\n",
       "  </tbody>\n",
       "</table>\n",
       "</div>"
      ],
      "text/plain": [
       "    jmeno  vek  vaha  vyska prijmeni   BMI      Celé jméno             E-mail  \\\n",
       "0  Matouš   23    65    160  Holinka  25.4  Holinka Matouš  holinka@gmail.com   \n",
       "1   Marek   25    70    170    Párek  24.2     Párek Marek    párek@gmail.com   \n",
       "2   Lukáš   27    75    180  Holinka  23.1   Holinka Lukáš  holinka@gmail.com   \n",
       "3     Jan   29    80    190    Novák  22.2       Novák Jan    novák@gmail.com   \n",
       "\n",
       "                Nový e-mail  \n",
       "0  matouš.holinka@gmail.com  \n",
       "1     marek.párek@gmail.com  \n",
       "2   lukáš.holinka@gmail.com  \n",
       "3       jan.novák@gmail.com  "
      ]
     },
     "execution_count": 41,
     "metadata": {},
     "output_type": "execute_result"
    }
   ],
   "source": [
    "uzivatele_df"
   ]
  },
  {
   "cell_type": "markdown",
   "id": "81d6db38-f127-4411-b9e0-86e435fba0a9",
   "metadata": {},
   "source": [
    "<br>\n",
    "\n",
    "Nepovinný argument `axis` v ohlášení říká, že chce aplikovat metodu **na řádkové hodnoty**."
   ]
  },
  {
   "cell_type": "markdown",
   "id": "5f4fa7d0-fff7-407d-a143-6e8879125104",
   "metadata": {},
   "source": [
    "Tento způsob lze použít, pokud chceš vytvořit **nový sloupec** pomocí nějaké funkce na jednotlivé řádky nebo sloupce `DataFrame`."
   ]
  },
  {
   "cell_type": "markdown",
   "id": "868851fe-0847-4625-b8fa-ecae7c4f75d0",
   "metadata": {},
   "source": [
    "<br>\n",
    "\n",
    "### Odstraňování sloupečků\n",
    "\n",
    "---"
   ]
  },
  {
   "cell_type": "markdown",
   "id": "973f72d3-3daa-4d11-89c3-1307b0602971",
   "metadata": {},
   "source": [
    "K odstranění sloupců z `DataFrame` objektu můžeš použít několik metod:\n",
    "1. pythonovskou funkci `del`,\n",
    "2. metodu `drop`,\n",
    "3. metodu `pop`."
   ]
  },
  {
   "cell_type": "code",
   "execution_count": 42,
   "id": "43c87a71-217c-4770-9411-56d13a91c8be",
   "metadata": {
    "tags": []
   },
   "outputs": [],
   "source": [
    "from pandas import DataFrame"
   ]
  },
  {
   "cell_type": "code",
   "execution_count": 43,
   "id": "b8027fa4-8d5a-41f2-83ff-125bdde0a04d",
   "metadata": {
    "tags": []
   },
   "outputs": [
    {
     "data": {
      "text/html": [
       "<div>\n",
       "<style scoped>\n",
       "    .dataframe tbody tr th:only-of-type {\n",
       "        vertical-align: middle;\n",
       "    }\n",
       "\n",
       "    .dataframe tbody tr th {\n",
       "        vertical-align: top;\n",
       "    }\n",
       "\n",
       "    .dataframe thead th {\n",
       "        text-align: right;\n",
       "    }\n",
       "</style>\n",
       "<table border=\"1\" class=\"dataframe\">\n",
       "  <thead>\n",
       "    <tr style=\"text-align: right;\">\n",
       "      <th></th>\n",
       "      <th>jmeno</th>\n",
       "      <th>vek</th>\n",
       "      <th>vaha</th>\n",
       "      <th>vyska</th>\n",
       "      <th>prijmeni</th>\n",
       "      <th>BMI</th>\n",
       "      <th>Celé jméno</th>\n",
       "      <th>E-mail</th>\n",
       "      <th>Nový e-mail</th>\n",
       "    </tr>\n",
       "  </thead>\n",
       "  <tbody>\n",
       "    <tr>\n",
       "      <th>0</th>\n",
       "      <td>Matouš</td>\n",
       "      <td>23</td>\n",
       "      <td>65</td>\n",
       "      <td>160</td>\n",
       "      <td>Holinka</td>\n",
       "      <td>25.4</td>\n",
       "      <td>Holinka Matouš</td>\n",
       "      <td>holinka@gmail.com</td>\n",
       "      <td>matouš.holinka@gmail.com</td>\n",
       "    </tr>\n",
       "    <tr>\n",
       "      <th>1</th>\n",
       "      <td>Marek</td>\n",
       "      <td>25</td>\n",
       "      <td>70</td>\n",
       "      <td>170</td>\n",
       "      <td>Párek</td>\n",
       "      <td>24.2</td>\n",
       "      <td>Párek Marek</td>\n",
       "      <td>párek@gmail.com</td>\n",
       "      <td>marek.párek@gmail.com</td>\n",
       "    </tr>\n",
       "    <tr>\n",
       "      <th>2</th>\n",
       "      <td>Lukáš</td>\n",
       "      <td>27</td>\n",
       "      <td>75</td>\n",
       "      <td>180</td>\n",
       "      <td>Holinka</td>\n",
       "      <td>23.1</td>\n",
       "      <td>Holinka Lukáš</td>\n",
       "      <td>holinka@gmail.com</td>\n",
       "      <td>lukáš.holinka@gmail.com</td>\n",
       "    </tr>\n",
       "    <tr>\n",
       "      <th>3</th>\n",
       "      <td>Jan</td>\n",
       "      <td>29</td>\n",
       "      <td>80</td>\n",
       "      <td>190</td>\n",
       "      <td>Novák</td>\n",
       "      <td>22.2</td>\n",
       "      <td>Novák Jan</td>\n",
       "      <td>novák@gmail.com</td>\n",
       "      <td>jan.novák@gmail.com</td>\n",
       "    </tr>\n",
       "  </tbody>\n",
       "</table>\n",
       "</div>"
      ],
      "text/plain": [
       "    jmeno  vek  vaha  vyska prijmeni   BMI      Celé jméno             E-mail  \\\n",
       "0  Matouš   23    65    160  Holinka  25.4  Holinka Matouš  holinka@gmail.com   \n",
       "1   Marek   25    70    170    Párek  24.2     Párek Marek    párek@gmail.com   \n",
       "2   Lukáš   27    75    180  Holinka  23.1   Holinka Lukáš  holinka@gmail.com   \n",
       "3     Jan   29    80    190    Novák  22.2       Novák Jan    novák@gmail.com   \n",
       "\n",
       "                Nový e-mail  \n",
       "0  matouš.holinka@gmail.com  \n",
       "1     marek.párek@gmail.com  \n",
       "2   lukáš.holinka@gmail.com  \n",
       "3       jan.novák@gmail.com  "
      ]
     },
     "execution_count": 43,
     "metadata": {},
     "output_type": "execute_result"
    }
   ],
   "source": [
    "uzivatele_df"
   ]
  },
  {
   "cell_type": "markdown",
   "id": "38043e40-6499-482f-864e-9f27d0cdaa97",
   "metadata": {},
   "source": [
    "<br>\n",
    "\n",
    "Pokud odstraňuješ sloupec/ řádek, **který neexistuje**, dostaneš chybu:"
   ]
  },
  {
   "cell_type": "code",
   "execution_count": 44,
   "id": "79a3933e-08b5-43fa-8c5c-c6b3923ae08c",
   "metadata": {},
   "outputs": [],
   "source": [
    "# uzivatele_df.drop('dalsi_email')  # KeyError: axis == 0"
   ]
  },
  {
   "cell_type": "code",
   "execution_count": 45,
   "id": "914d5b81-0d9f-4c1c-8cb9-6ee348c16a92",
   "metadata": {},
   "outputs": [
    {
     "data": {
      "text/plain": [
       "False"
      ]
     },
     "execution_count": 45,
     "metadata": {},
     "output_type": "execute_result"
    }
   ],
   "source": [
    "'dalsi_email' in uzivatele_df.index"
   ]
  },
  {
   "cell_type": "code",
   "execution_count": 46,
   "id": "cced5222-de73-48a9-b91a-a4e6e323bddb",
   "metadata": {
    "tags": []
   },
   "outputs": [
    {
     "data": {
      "text/plain": [
       "False"
      ]
     },
     "execution_count": 46,
     "metadata": {},
     "output_type": "execute_result"
    }
   ],
   "source": [
    "'dalsi_email' in uzivatele_df.columns"
   ]
  },
  {
   "cell_type": "code",
   "execution_count": 47,
   "id": "3c67fa3e-7791-4fc1-9aac-36d5a05444ca",
   "metadata": {
    "tags": []
   },
   "outputs": [
    {
     "data": {
      "text/html": [
       "<div>\n",
       "<style scoped>\n",
       "    .dataframe tbody tr th:only-of-type {\n",
       "        vertical-align: middle;\n",
       "    }\n",
       "\n",
       "    .dataframe tbody tr th {\n",
       "        vertical-align: top;\n",
       "    }\n",
       "\n",
       "    .dataframe thead th {\n",
       "        text-align: right;\n",
       "    }\n",
       "</style>\n",
       "<table border=\"1\" class=\"dataframe\">\n",
       "  <thead>\n",
       "    <tr style=\"text-align: right;\">\n",
       "      <th></th>\n",
       "      <th>jmeno</th>\n",
       "      <th>vek</th>\n",
       "      <th>vaha</th>\n",
       "      <th>vyska</th>\n",
       "      <th>prijmeni</th>\n",
       "      <th>BMI</th>\n",
       "      <th>Celé jméno</th>\n",
       "      <th>E-mail</th>\n",
       "      <th>Nový e-mail</th>\n",
       "    </tr>\n",
       "  </thead>\n",
       "  <tbody>\n",
       "    <tr>\n",
       "      <th>0</th>\n",
       "      <td>Matouš</td>\n",
       "      <td>23</td>\n",
       "      <td>65</td>\n",
       "      <td>160</td>\n",
       "      <td>Holinka</td>\n",
       "      <td>25.4</td>\n",
       "      <td>Holinka Matouš</td>\n",
       "      <td>holinka@gmail.com</td>\n",
       "      <td>matouš.holinka@gmail.com</td>\n",
       "    </tr>\n",
       "    <tr>\n",
       "      <th>1</th>\n",
       "      <td>Marek</td>\n",
       "      <td>25</td>\n",
       "      <td>70</td>\n",
       "      <td>170</td>\n",
       "      <td>Párek</td>\n",
       "      <td>24.2</td>\n",
       "      <td>Párek Marek</td>\n",
       "      <td>párek@gmail.com</td>\n",
       "      <td>marek.párek@gmail.com</td>\n",
       "    </tr>\n",
       "    <tr>\n",
       "      <th>2</th>\n",
       "      <td>Lukáš</td>\n",
       "      <td>27</td>\n",
       "      <td>75</td>\n",
       "      <td>180</td>\n",
       "      <td>Holinka</td>\n",
       "      <td>23.1</td>\n",
       "      <td>Holinka Lukáš</td>\n",
       "      <td>holinka@gmail.com</td>\n",
       "      <td>lukáš.holinka@gmail.com</td>\n",
       "    </tr>\n",
       "    <tr>\n",
       "      <th>3</th>\n",
       "      <td>Jan</td>\n",
       "      <td>29</td>\n",
       "      <td>80</td>\n",
       "      <td>190</td>\n",
       "      <td>Novák</td>\n",
       "      <td>22.2</td>\n",
       "      <td>Novák Jan</td>\n",
       "      <td>novák@gmail.com</td>\n",
       "      <td>jan.novák@gmail.com</td>\n",
       "    </tr>\n",
       "  </tbody>\n",
       "</table>\n",
       "</div>"
      ],
      "text/plain": [
       "    jmeno  vek  vaha  vyska prijmeni   BMI      Celé jméno             E-mail  \\\n",
       "0  Matouš   23    65    160  Holinka  25.4  Holinka Matouš  holinka@gmail.com   \n",
       "1   Marek   25    70    170    Párek  24.2     Párek Marek    párek@gmail.com   \n",
       "2   Lukáš   27    75    180  Holinka  23.1   Holinka Lukáš  holinka@gmail.com   \n",
       "3     Jan   29    80    190    Novák  22.2       Novák Jan    novák@gmail.com   \n",
       "\n",
       "                Nový e-mail  \n",
       "0  matouš.holinka@gmail.com  \n",
       "1     marek.párek@gmail.com  \n",
       "2   lukáš.holinka@gmail.com  \n",
       "3       jan.novák@gmail.com  "
      ]
     },
     "execution_count": 47,
     "metadata": {},
     "output_type": "execute_result"
    }
   ],
   "source": [
    "uzivatele_df.drop('dalsi_email', errors='ignore', axis=1)"
   ]
  },
  {
   "cell_type": "code",
   "execution_count": 48,
   "id": "4f833d08-4c92-4273-bf40-adcae1edd044",
   "metadata": {},
   "outputs": [],
   "source": [
    "uzivatele_df.drop('Nový e-mail', axis=1, inplace=True)"
   ]
  },
  {
   "cell_type": "code",
   "execution_count": 49,
   "id": "18524d6b-0776-4978-b31f-2746070fa99d",
   "metadata": {},
   "outputs": [
    {
     "data": {
      "text/html": [
       "<div>\n",
       "<style scoped>\n",
       "    .dataframe tbody tr th:only-of-type {\n",
       "        vertical-align: middle;\n",
       "    }\n",
       "\n",
       "    .dataframe tbody tr th {\n",
       "        vertical-align: top;\n",
       "    }\n",
       "\n",
       "    .dataframe thead th {\n",
       "        text-align: right;\n",
       "    }\n",
       "</style>\n",
       "<table border=\"1\" class=\"dataframe\">\n",
       "  <thead>\n",
       "    <tr style=\"text-align: right;\">\n",
       "      <th></th>\n",
       "      <th>jmeno</th>\n",
       "      <th>vek</th>\n",
       "      <th>vaha</th>\n",
       "      <th>vyska</th>\n",
       "      <th>prijmeni</th>\n",
       "      <th>BMI</th>\n",
       "      <th>Celé jméno</th>\n",
       "      <th>E-mail</th>\n",
       "    </tr>\n",
       "  </thead>\n",
       "  <tbody>\n",
       "    <tr>\n",
       "      <th>0</th>\n",
       "      <td>Matouš</td>\n",
       "      <td>23</td>\n",
       "      <td>65</td>\n",
       "      <td>160</td>\n",
       "      <td>Holinka</td>\n",
       "      <td>25.4</td>\n",
       "      <td>Holinka Matouš</td>\n",
       "      <td>holinka@gmail.com</td>\n",
       "    </tr>\n",
       "    <tr>\n",
       "      <th>1</th>\n",
       "      <td>Marek</td>\n",
       "      <td>25</td>\n",
       "      <td>70</td>\n",
       "      <td>170</td>\n",
       "      <td>Párek</td>\n",
       "      <td>24.2</td>\n",
       "      <td>Párek Marek</td>\n",
       "      <td>párek@gmail.com</td>\n",
       "    </tr>\n",
       "    <tr>\n",
       "      <th>3</th>\n",
       "      <td>Jan</td>\n",
       "      <td>29</td>\n",
       "      <td>80</td>\n",
       "      <td>190</td>\n",
       "      <td>Novák</td>\n",
       "      <td>22.2</td>\n",
       "      <td>Novák Jan</td>\n",
       "      <td>novák@gmail.com</td>\n",
       "    </tr>\n",
       "  </tbody>\n",
       "</table>\n",
       "</div>"
      ],
      "text/plain": [
       "    jmeno  vek  vaha  vyska prijmeni   BMI      Celé jméno             E-mail\n",
       "0  Matouš   23    65    160  Holinka  25.4  Holinka Matouš  holinka@gmail.com\n",
       "1   Marek   25    70    170    Párek  24.2     Párek Marek    párek@gmail.com\n",
       "3     Jan   29    80    190    Novák  22.2       Novák Jan    novák@gmail.com"
      ]
     },
     "execution_count": 49,
     "metadata": {},
     "output_type": "execute_result"
    }
   ],
   "source": [
    "uzivatele_df.drop(2)  # axis=0 --> odstraň hodnotu indexu"
   ]
  },
  {
   "cell_type": "code",
   "execution_count": 50,
   "id": "084ec97c-d70c-4fbb-95db-8face9e2cd99",
   "metadata": {
    "tags": []
   },
   "outputs": [
    {
     "data": {
      "text/html": [
       "<div>\n",
       "<style scoped>\n",
       "    .dataframe tbody tr th:only-of-type {\n",
       "        vertical-align: middle;\n",
       "    }\n",
       "\n",
       "    .dataframe tbody tr th {\n",
       "        vertical-align: top;\n",
       "    }\n",
       "\n",
       "    .dataframe thead th {\n",
       "        text-align: right;\n",
       "    }\n",
       "</style>\n",
       "<table border=\"1\" class=\"dataframe\">\n",
       "  <thead>\n",
       "    <tr style=\"text-align: right;\">\n",
       "      <th></th>\n",
       "      <th>jmeno</th>\n",
       "      <th>vek</th>\n",
       "      <th>vaha</th>\n",
       "      <th>vyska</th>\n",
       "      <th>prijmeni</th>\n",
       "      <th>BMI</th>\n",
       "      <th>Celé jméno</th>\n",
       "      <th>E-mail</th>\n",
       "    </tr>\n",
       "  </thead>\n",
       "  <tbody>\n",
       "    <tr>\n",
       "      <th>0</th>\n",
       "      <td>Matouš</td>\n",
       "      <td>23</td>\n",
       "      <td>65</td>\n",
       "      <td>160</td>\n",
       "      <td>Holinka</td>\n",
       "      <td>25.4</td>\n",
       "      <td>Holinka Matouš</td>\n",
       "      <td>holinka@gmail.com</td>\n",
       "    </tr>\n",
       "    <tr>\n",
       "      <th>1</th>\n",
       "      <td>Marek</td>\n",
       "      <td>25</td>\n",
       "      <td>70</td>\n",
       "      <td>170</td>\n",
       "      <td>Párek</td>\n",
       "      <td>24.2</td>\n",
       "      <td>Párek Marek</td>\n",
       "      <td>párek@gmail.com</td>\n",
       "    </tr>\n",
       "    <tr>\n",
       "      <th>2</th>\n",
       "      <td>Lukáš</td>\n",
       "      <td>27</td>\n",
       "      <td>75</td>\n",
       "      <td>180</td>\n",
       "      <td>Holinka</td>\n",
       "      <td>23.1</td>\n",
       "      <td>Holinka Lukáš</td>\n",
       "      <td>holinka@gmail.com</td>\n",
       "    </tr>\n",
       "    <tr>\n",
       "      <th>3</th>\n",
       "      <td>Jan</td>\n",
       "      <td>29</td>\n",
       "      <td>80</td>\n",
       "      <td>190</td>\n",
       "      <td>Novák</td>\n",
       "      <td>22.2</td>\n",
       "      <td>Novák Jan</td>\n",
       "      <td>novák@gmail.com</td>\n",
       "    </tr>\n",
       "  </tbody>\n",
       "</table>\n",
       "</div>"
      ],
      "text/plain": [
       "    jmeno  vek  vaha  vyska prijmeni   BMI      Celé jméno             E-mail\n",
       "0  Matouš   23    65    160  Holinka  25.4  Holinka Matouš  holinka@gmail.com\n",
       "1   Marek   25    70    170    Párek  24.2     Párek Marek    párek@gmail.com\n",
       "2   Lukáš   27    75    180  Holinka  23.1   Holinka Lukáš  holinka@gmail.com\n",
       "3     Jan   29    80    190    Novák  22.2       Novák Jan    novák@gmail.com"
      ]
     },
     "execution_count": 50,
     "metadata": {},
     "output_type": "execute_result"
    }
   ],
   "source": [
    "uzivatele_df"
   ]
  },
  {
   "cell_type": "markdown",
   "id": "3bbc0f11-e0b6-48ba-823b-968b10ac6e17",
   "metadata": {},
   "source": [
    "<br>\n",
    "\n",
    "**🧠 CVIČENÍ 🧠, zpracuj zadané body v úloze.**"
   ]
  },
  {
   "cell_type": "markdown",
   "id": "f6163a11-8942-46ef-a21d-82e935ae15ed",
   "metadata": {},
   "source": [
    "Máš DataFrame `zamestnanci` s informacemi o zaměstnancích tvé firmy.\n",
    "\n",
    "Potřebuješ následující:\n",
    "1. **přidat sloupec** s názvem `plat_na_hodinu`, který bude vypočítán jako průměr platu zaměstnanců dělený počtem odpracovaných hodin.\n",
    "2. Sloupec `plat_na_hodinu` zaokrouhli **na celé číslo**,\n",
    "3. **přejmenuj sloupec** `jmeno` na `cele_jmeno`,\n",
    "4. **odstraň sloupec** `id`.\n",
    "5. ☢️ **vytvoř funkci** `preved_datum`, která změní formát data ve sloupci `datum_narozeni` z `YYYY-MM-DD` na `DD/MM/YYYY`,"
   ]
  },
  {
   "cell_type": "code",
   "execution_count": 51,
   "id": "9a1ca32c-86a7-4649-8083-55e87dd14d7f",
   "metadata": {
    "tags": []
   },
   "outputs": [],
   "source": [
    "from datetime import datetime\n",
    "\n",
    "import pandas as pd"
   ]
  },
  {
   "cell_type": "code",
   "execution_count": 52,
   "id": "c546ac73-6335-478e-b38c-34e63dfdcca6",
   "metadata": {},
   "outputs": [],
   "source": [
    "zamestnanci_df = pd.DataFrame({'id': [1, 2, 3, 4],\n",
    "                            'jmeno': ['Jan Novák', 'Petr Soukup', 'Marie Horáková', 'Jana Svobodová'],\n",
    "                            'datum_narozeni': ['1990-05-15', '1985-12-10', '1992-07-25', '1988-03-20'],\n",
    "                            'plat': [40_000, 45_000, 35_000, 50_000],\n",
    "                            'odprac_hodiny': [160, 180, 150, 200]})"
   ]
  },
  {
   "cell_type": "code",
   "execution_count": 53,
   "id": "486c38b1-cc20-4495-bf1e-77279387d6fa",
   "metadata": {},
   "outputs": [
    {
     "data": {
      "text/html": [
       "<div>\n",
       "<style scoped>\n",
       "    .dataframe tbody tr th:only-of-type {\n",
       "        vertical-align: middle;\n",
       "    }\n",
       "\n",
       "    .dataframe tbody tr th {\n",
       "        vertical-align: top;\n",
       "    }\n",
       "\n",
       "    .dataframe thead th {\n",
       "        text-align: right;\n",
       "    }\n",
       "</style>\n",
       "<table border=\"1\" class=\"dataframe\">\n",
       "  <thead>\n",
       "    <tr style=\"text-align: right;\">\n",
       "      <th></th>\n",
       "      <th>id</th>\n",
       "      <th>jmeno</th>\n",
       "      <th>datum_narozeni</th>\n",
       "      <th>plat</th>\n",
       "      <th>odprac_hodiny</th>\n",
       "    </tr>\n",
       "  </thead>\n",
       "  <tbody>\n",
       "    <tr>\n",
       "      <th>0</th>\n",
       "      <td>1</td>\n",
       "      <td>Jan Novák</td>\n",
       "      <td>1990-05-15</td>\n",
       "      <td>40000</td>\n",
       "      <td>160</td>\n",
       "    </tr>\n",
       "    <tr>\n",
       "      <th>1</th>\n",
       "      <td>2</td>\n",
       "      <td>Petr Soukup</td>\n",
       "      <td>1985-12-10</td>\n",
       "      <td>45000</td>\n",
       "      <td>180</td>\n",
       "    </tr>\n",
       "    <tr>\n",
       "      <th>2</th>\n",
       "      <td>3</td>\n",
       "      <td>Marie Horáková</td>\n",
       "      <td>1992-07-25</td>\n",
       "      <td>35000</td>\n",
       "      <td>150</td>\n",
       "    </tr>\n",
       "    <tr>\n",
       "      <th>3</th>\n",
       "      <td>4</td>\n",
       "      <td>Jana Svobodová</td>\n",
       "      <td>1988-03-20</td>\n",
       "      <td>50000</td>\n",
       "      <td>200</td>\n",
       "    </tr>\n",
       "  </tbody>\n",
       "</table>\n",
       "</div>"
      ],
      "text/plain": [
       "   id           jmeno datum_narozeni   plat  odprac_hodiny\n",
       "0   1       Jan Novák     1990-05-15  40000            160\n",
       "1   2     Petr Soukup     1985-12-10  45000            180\n",
       "2   3  Marie Horáková     1992-07-25  35000            150\n",
       "3   4  Jana Svobodová     1988-03-20  50000            200"
      ]
     },
     "execution_count": 53,
     "metadata": {},
     "output_type": "execute_result"
    }
   ],
   "source": [
    "zamestnanci_df"
   ]
  },
  {
   "cell_type": "code",
   "execution_count": 54,
   "id": "9722d4f1-e7e3-412c-86f3-6f331931d054",
   "metadata": {},
   "outputs": [],
   "source": [
    "zamestnanci_df['Plat na hodinu'] = (zamestnanci_df['plat'] / zamestnanci_df['odprac_hodiny']).astype('int64')"
   ]
  },
  {
   "cell_type": "code",
   "execution_count": 55,
   "id": "1a11cfac-eea9-46cd-9569-3e09be6212ca",
   "metadata": {},
   "outputs": [],
   "source": [
    "zamestnanci_df = zamestnanci_df.rename(columns={'jmeno': 'Celé jméno'})"
   ]
  },
  {
   "cell_type": "code",
   "execution_count": 56,
   "id": "e0fe1382-0aed-427c-9bbc-5c437fd0a3ec",
   "metadata": {
    "scrolled": true
   },
   "outputs": [
    {
     "data": {
      "text/html": [
       "<div>\n",
       "<style scoped>\n",
       "    .dataframe tbody tr th:only-of-type {\n",
       "        vertical-align: middle;\n",
       "    }\n",
       "\n",
       "    .dataframe tbody tr th {\n",
       "        vertical-align: top;\n",
       "    }\n",
       "\n",
       "    .dataframe thead th {\n",
       "        text-align: right;\n",
       "    }\n",
       "</style>\n",
       "<table border=\"1\" class=\"dataframe\">\n",
       "  <thead>\n",
       "    <tr style=\"text-align: right;\">\n",
       "      <th></th>\n",
       "      <th>Celé jméno</th>\n",
       "      <th>datum_narozeni</th>\n",
       "      <th>plat</th>\n",
       "      <th>odprac_hodiny</th>\n",
       "      <th>Plat na hodinu</th>\n",
       "    </tr>\n",
       "  </thead>\n",
       "  <tbody>\n",
       "    <tr>\n",
       "      <th>0</th>\n",
       "      <td>Jan Novák</td>\n",
       "      <td>1990-05-15</td>\n",
       "      <td>40000</td>\n",
       "      <td>160</td>\n",
       "      <td>250</td>\n",
       "    </tr>\n",
       "    <tr>\n",
       "      <th>1</th>\n",
       "      <td>Petr Soukup</td>\n",
       "      <td>1985-12-10</td>\n",
       "      <td>45000</td>\n",
       "      <td>180</td>\n",
       "      <td>250</td>\n",
       "    </tr>\n",
       "    <tr>\n",
       "      <th>2</th>\n",
       "      <td>Marie Horáková</td>\n",
       "      <td>1992-07-25</td>\n",
       "      <td>35000</td>\n",
       "      <td>150</td>\n",
       "      <td>233</td>\n",
       "    </tr>\n",
       "    <tr>\n",
       "      <th>3</th>\n",
       "      <td>Jana Svobodová</td>\n",
       "      <td>1988-03-20</td>\n",
       "      <td>50000</td>\n",
       "      <td>200</td>\n",
       "      <td>250</td>\n",
       "    </tr>\n",
       "  </tbody>\n",
       "</table>\n",
       "</div>"
      ],
      "text/plain": [
       "       Celé jméno datum_narozeni   plat  odprac_hodiny  Plat na hodinu\n",
       "0       Jan Novák     1990-05-15  40000            160             250\n",
       "1     Petr Soukup     1985-12-10  45000            180             250\n",
       "2  Marie Horáková     1992-07-25  35000            150             233\n",
       "3  Jana Svobodová     1988-03-20  50000            200             250"
      ]
     },
     "execution_count": 56,
     "metadata": {},
     "output_type": "execute_result"
    }
   ],
   "source": [
    "zamestnanci_df.drop(columns=['id'])"
   ]
  },
  {
   "cell_type": "code",
   "execution_count": 57,
   "id": "b63b8e9e-9730-4fab-9646-0b2d81198f83",
   "metadata": {},
   "outputs": [
    {
     "data": {
      "text/plain": [
       "'1990-05-15'"
      ]
     },
     "execution_count": 57,
     "metadata": {},
     "output_type": "execute_result"
    }
   ],
   "source": [
    "# '1990-05-15' --> '15/05/1990'\n",
    "zamestnanci_df.loc[0, 'datum_narozeni']"
   ]
  },
  {
   "cell_type": "code",
   "execution_count": 58,
   "id": "b44cd5d6-549a-48cd-bfa5-02231990753d",
   "metadata": {},
   "outputs": [
    {
     "data": {
      "text/plain": [
       "str"
      ]
     },
     "execution_count": 58,
     "metadata": {},
     "output_type": "execute_result"
    }
   ],
   "source": [
    "# str / datetime64\n",
    "type(zamestnanci_df.loc[0, 'datum_narozeni'])"
   ]
  },
  {
   "cell_type": "code",
   "execution_count": 59,
   "id": "1e227d9c-c958-4bb8-9a8d-49ad9b55bbcf",
   "metadata": {},
   "outputs": [],
   "source": [
    "prevedene_datum = datetime.strptime(zamestnanci_df.loc[0, 'datum_narozeni'], '%Y-%m-%d')"
   ]
  },
  {
   "cell_type": "code",
   "execution_count": 60,
   "id": "17fcafa1-8fb7-41d0-88ba-b6a93993fe5e",
   "metadata": {},
   "outputs": [
    {
     "data": {
      "text/plain": [
       "datetime.datetime(1990, 5, 15, 0, 0)"
      ]
     },
     "execution_count": 60,
     "metadata": {},
     "output_type": "execute_result"
    }
   ],
   "source": [
    "prevedene_datum"
   ]
  },
  {
   "cell_type": "code",
   "execution_count": 61,
   "id": "3d50875b-4ce9-448f-a97c-db30281d9506",
   "metadata": {},
   "outputs": [],
   "source": [
    "hotove_datum = prevedene_datum.strftime('%d/%m/%Y')"
   ]
  },
  {
   "cell_type": "code",
   "execution_count": 62,
   "id": "345a25cf-cf55-4fbf-a849-530b176f9350",
   "metadata": {},
   "outputs": [
    {
     "data": {
      "text/plain": [
       "'15/05/1990'"
      ]
     },
     "execution_count": 62,
     "metadata": {},
     "output_type": "execute_result"
    }
   ],
   "source": [
    "hotove_datum"
   ]
  },
  {
   "cell_type": "code",
   "execution_count": 63,
   "id": "18d801d0-67a6-41b0-a8e4-ec0db04e78d6",
   "metadata": {},
   "outputs": [],
   "source": [
    "def prevod_datumu(datum,\n",
    "                  puvodni_format='%Y-%m-%d',\n",
    "                  novy_format='%d/%m/%Y'):\n",
    "    prevedene_datum = datetime.strptime(datum, puvodni_format)\n",
    "    return prevedene_datum.strftime(novy_format)"
   ]
  },
  {
   "cell_type": "code",
   "execution_count": 64,
   "id": "3e91beb1-5e44-4a8e-9e95-c9c3befbc0ea",
   "metadata": {},
   "outputs": [],
   "source": [
    "datumy_sloupecek = Series(('1990-05-15', '2001-02-28'))"
   ]
  },
  {
   "cell_type": "code",
   "execution_count": 65,
   "id": "d229814b-32eb-492e-a812-7106494b4d37",
   "metadata": {},
   "outputs": [
    {
     "data": {
      "text/plain": [
       "'1990-05-15'"
      ]
     },
     "execution_count": 65,
     "metadata": {},
     "output_type": "execute_result"
    }
   ],
   "source": [
    "datumy_sloupecek[0]"
   ]
  },
  {
   "cell_type": "code",
   "execution_count": 66,
   "id": "d2a09adf-bcfb-4193-a8f9-75a50ba7b40b",
   "metadata": {},
   "outputs": [
    {
     "data": {
      "text/plain": [
       "'28/02/2001'"
      ]
     },
     "execution_count": 66,
     "metadata": {},
     "output_type": "execute_result"
    }
   ],
   "source": [
    "prevod_datumu(datumy_sloupecek[1])"
   ]
  },
  {
   "cell_type": "code",
   "execution_count": 67,
   "id": "21753c1b-182f-46d9-93a2-ce60db350f3b",
   "metadata": {},
   "outputs": [],
   "source": [
    "zamestnanci_df['Převedené datum'] = zamestnanci_df['datum_narozeni'].apply(prevod_datumu)"
   ]
  },
  {
   "cell_type": "code",
   "execution_count": 68,
   "id": "193a40a6-22a3-4e6d-80fe-9df318b44e45",
   "metadata": {},
   "outputs": [
    {
     "data": {
      "text/html": [
       "<div>\n",
       "<style scoped>\n",
       "    .dataframe tbody tr th:only-of-type {\n",
       "        vertical-align: middle;\n",
       "    }\n",
       "\n",
       "    .dataframe tbody tr th {\n",
       "        vertical-align: top;\n",
       "    }\n",
       "\n",
       "    .dataframe thead th {\n",
       "        text-align: right;\n",
       "    }\n",
       "</style>\n",
       "<table border=\"1\" class=\"dataframe\">\n",
       "  <thead>\n",
       "    <tr style=\"text-align: right;\">\n",
       "      <th></th>\n",
       "      <th>id</th>\n",
       "      <th>Celé jméno</th>\n",
       "      <th>datum_narozeni</th>\n",
       "      <th>plat</th>\n",
       "      <th>odprac_hodiny</th>\n",
       "      <th>Plat na hodinu</th>\n",
       "      <th>Převedené datum</th>\n",
       "    </tr>\n",
       "  </thead>\n",
       "  <tbody>\n",
       "    <tr>\n",
       "      <th>0</th>\n",
       "      <td>1</td>\n",
       "      <td>Jan Novák</td>\n",
       "      <td>1990-05-15</td>\n",
       "      <td>40000</td>\n",
       "      <td>160</td>\n",
       "      <td>250</td>\n",
       "      <td>15/05/1990</td>\n",
       "    </tr>\n",
       "    <tr>\n",
       "      <th>1</th>\n",
       "      <td>2</td>\n",
       "      <td>Petr Soukup</td>\n",
       "      <td>1985-12-10</td>\n",
       "      <td>45000</td>\n",
       "      <td>180</td>\n",
       "      <td>250</td>\n",
       "      <td>10/12/1985</td>\n",
       "    </tr>\n",
       "    <tr>\n",
       "      <th>2</th>\n",
       "      <td>3</td>\n",
       "      <td>Marie Horáková</td>\n",
       "      <td>1992-07-25</td>\n",
       "      <td>35000</td>\n",
       "      <td>150</td>\n",
       "      <td>233</td>\n",
       "      <td>25/07/1992</td>\n",
       "    </tr>\n",
       "    <tr>\n",
       "      <th>3</th>\n",
       "      <td>4</td>\n",
       "      <td>Jana Svobodová</td>\n",
       "      <td>1988-03-20</td>\n",
       "      <td>50000</td>\n",
       "      <td>200</td>\n",
       "      <td>250</td>\n",
       "      <td>20/03/1988</td>\n",
       "    </tr>\n",
       "  </tbody>\n",
       "</table>\n",
       "</div>"
      ],
      "text/plain": [
       "   id      Celé jméno datum_narozeni   plat  odprac_hodiny  Plat na hodinu  \\\n",
       "0   1       Jan Novák     1990-05-15  40000            160             250   \n",
       "1   2     Petr Soukup     1985-12-10  45000            180             250   \n",
       "2   3  Marie Horáková     1992-07-25  35000            150             233   \n",
       "3   4  Jana Svobodová     1988-03-20  50000            200             250   \n",
       "\n",
       "  Převedené datum  \n",
       "0      15/05/1990  \n",
       "1      10/12/1985  \n",
       "2      25/07/1992  \n",
       "3      20/03/1988  "
      ]
     },
     "execution_count": 68,
     "metadata": {},
     "output_type": "execute_result"
    }
   ],
   "source": [
    "zamestnanci_df"
   ]
  },
  {
   "cell_type": "markdown",
   "id": "dc223c33-7ba2-4755-bdb6-f6e2780b2595",
   "metadata": {},
   "source": [
    "<details>\n",
    "    <summary>▶️ Řešení</summary>\n",
    "    \n",
    "```python\n",
    "zamestnanci['plat_na_hodinu'] = round(zamestnanci['plat'] / zamestnanci['odprac_hodiny'])\n",
    "\n",
    "zamestnanci = zamestnanci.rename(columns={'jmeno': 'cele_jmeno'})\n",
    "\n",
    "zamestnanci = zamestnanci.drop(columns=['id'])\n",
    "\n",
    "\n",
    "def preved_datum(datum_narozeni, vstupni_format='%Y-%m-%d', vystupni_format='%d/%m/%Y'):\n",
    "    dt = datetime.strptime(datum_narozeni, vstupni_format)\n",
    "    prevedene_datum = dt.strftime(vystupni_format)\n",
    "    return prevedene_datum\n",
    "\n",
    "\n",
    "# zamestnanci['datum_narozeni'] = pd.to_datetime(zamestnanci['datum_narozeni']).dt.strftime('%d/%m/%Y')  #  I. řešení\n",
    "# zamestnanci['datum_narozeni'] = zamestnanci['datum_narozeni'].apply(preved_datum)                      # II. řešení\n",
    "```\n",
    "</details>"
   ]
  },
  {
   "cell_type": "markdown",
   "id": "a6aa6496-8732-4b4a-a018-4e5fbe4d808f",
   "metadata": {},
   "source": [
    "---"
   ]
  },
  {
   "cell_type": "markdown",
   "id": "790d92d0-ef33-49f8-9c21-1e188972097b",
   "metadata": {},
   "source": [
    "\n",
    "\n",
    "<img src=\"https://imgs.search.brave.com/avW2sADDSquCer8A7CT2t7rtq5ea-z8nvmRLilPc4-U/rs:fit:500:0:0:0/g:ce/aHR0cHM6Ly9kZ2Vp/dTNmejI4Mng1LmNs/b3VkZnJvbnQubmV0/L2cvbC9sZ2ZwMTgz/OStqb2luLXVzLW9y/LWRpZS1kYXJ0aC12/YWRlci1zdGFyLXdh/cnMtMzB0aC1hbm5p/bnZlcnNhcnktcG9z/dGVyLmpwZw\" width=\"160\" style=\"margin-left:auto; margin-right:auto\"/>"
   ]
  },
  {
   "cell_type": "markdown",
   "id": "476d0b01-c1d4-4b96-b9bb-ac4db5910d71",
   "metadata": {},
   "source": [
    "<br>\n",
    "\n",
    "## Spojování dat\n",
    "\n",
    "---\n",
    "\n",
    "Takovými operacemi si můžeš představit jednoduché operace jako **spojování** (*konkatenace*) **dvou a více datasetů**, tedy tabulek.\n",
    "\n",
    "Obdoba pro složitější *JOINY* jako u databází a jejich tabulek.\n",
    "\n",
    "`pandas` obsahuje různé *funkce* a *metody*, které umožňují tento způsob práce:"
   ]
  },
  {
   "cell_type": "markdown",
   "id": "b9be8c0b-1c8c-4579-b5ac-b5b732b219c0",
   "metadata": {},
   "source": [
    "* ✅ funkce `concat`,\n",
    "* ✅ funkce `merge`,\n",
    "* ⛔️ metoda `append` (*outdated*),\n",
    "* ✅ metoda `join`."
   ]
  },
  {
   "cell_type": "markdown",
   "id": "969f0749-be1e-4521-b653-7f6098d4f1a3",
   "metadata": {},
   "source": [
    "### Spojování s CONCAT\n",
    "\n",
    "---"
   ]
  },
  {
   "cell_type": "markdown",
   "id": "db455b3f-4d85-414d-abc1-45e722b6f64b",
   "metadata": {},
   "source": [
    "Funkce `concat()` v `pandas` umožňuje spojit **dva nebo více**:\n",
    "1. **sloupečků** tabulky,\n",
    "    - *horizontálně*, po sloupcích,\n",
    "    - *vertikálně*, po Indexech,\n",
    "3. **tabulek** samotných,\n",
    "    - *horizontálně*, po sloupcích,\n",
    "    - *vertikálně*, po Indexech,\n",
    "\n",
    "<br>\n",
    "\n",
    "Použití funkce `concat()` spočívá **v předání seznamu objektů**, které chceš spojit, a parametru `axis`, který určuje osu, podle které se májí objekty spojit."
   ]
  },
  {
   "cell_type": "markdown",
   "id": "33b4d898-86bc-4126-80be-bcbae8921490",
   "metadata": {},
   "source": [
    "#### Spojení sloupečků, CONCAT\n",
    "\n",
    "---"
   ]
  },
  {
   "cell_type": "code",
   "execution_count": 69,
   "id": "72ae4dd7-eb09-45b8-aefb-99d94865c322",
   "metadata": {
    "tags": []
   },
   "outputs": [],
   "source": [
    "from pandas import concat, Series, DataFrame"
   ]
  },
  {
   "cell_type": "code",
   "execution_count": 70,
   "id": "375df825-8292-4813-92cc-c0416feeed64",
   "metadata": {
    "tags": []
   },
   "outputs": [],
   "source": [
    "sloupecek_1 = Series(['A', 'B', 'C'], index=[1, 2, 3])\n",
    "sloupecek_2 = Series(['D', 'E', 'F'], index=[4, 5, 6])"
   ]
  },
  {
   "cell_type": "code",
   "execution_count": 71,
   "id": "a644ef7e-809d-4fd9-abba-189991ff8992",
   "metadata": {
    "tags": []
   },
   "outputs": [
    {
     "data": {
      "text/plain": [
       "1    A\n",
       "2    B\n",
       "3    C\n",
       "dtype: object"
      ]
     },
     "execution_count": 71,
     "metadata": {},
     "output_type": "execute_result"
    }
   ],
   "source": [
    "sloupecek_1"
   ]
  },
  {
   "cell_type": "code",
   "execution_count": 72,
   "id": "2e7d6286-bbfb-45a5-960c-db7f886c61c1",
   "metadata": {
    "tags": []
   },
   "outputs": [
    {
     "data": {
      "text/plain": [
       "4    D\n",
       "5    E\n",
       "6    F\n",
       "dtype: object"
      ]
     },
     "execution_count": 72,
     "metadata": {},
     "output_type": "execute_result"
    }
   ],
   "source": [
    "sloupecek_2"
   ]
  },
  {
   "cell_type": "markdown",
   "id": "7bc1d256-3b75-4426-bd09-79123301c85e",
   "metadata": {},
   "source": [
    "<br>\n",
    "\n",
    "##### Spojení **vertikální** (Indexy navazují, tabulky \"pod sebou\"):\n",
    "\n",
    "---"
   ]
  },
  {
   "cell_type": "code",
   "execution_count": 73,
   "id": "bd17115f-006d-4ffb-8037-1bc779761e19",
   "metadata": {},
   "outputs": [],
   "source": [
    "# spojene_sloupce_vertikalne = concat(sloupecek_1, sloupecek_2, axis=0)"
   ]
  },
  {
   "cell_type": "markdown",
   "id": "aa4fdfb8-009d-4a3c-9d0d-26db6a26bd65",
   "metadata": {},
   "source": [
    "<br>\n",
    "\n",
    "Nesprávné spojení, potřeba nahlédnout do popisku funkce:"
   ]
  },
  {
   "cell_type": "code",
   "execution_count": 74,
   "id": "66bb3fe6-5a40-4a58-b29b-6a6607ab29b6",
   "metadata": {},
   "outputs": [],
   "source": [
    "# concat?"
   ]
  },
  {
   "cell_type": "code",
   "execution_count": 75,
   "id": "5ba96e31-b620-4587-b983-a3d0ee1bb4aa",
   "metadata": {
    "tags": []
   },
   "outputs": [],
   "source": [
    "spojene_sloupce_vertikalne = concat((sloupecek_1, sloupecek_2), axis=0)"
   ]
  },
  {
   "cell_type": "markdown",
   "id": "88612b52-cf53-4bef-8382-ac100b027662",
   "metadata": {},
   "source": [
    "Nyní spojujeme sekvenci `tuple`, což už spadá mezi iterovatelné datové typy.\n",
    "<br>\n",
    "\n",
    "Jaký parametr je `axis` a jakých může nabývat hodnot:"
   ]
  },
  {
   "cell_type": "code",
   "execution_count": 76,
   "id": "44743500-baff-4cda-b5dc-d2a45d47b11d",
   "metadata": {},
   "outputs": [],
   "source": [
    "# concat?"
   ]
  },
  {
   "cell_type": "code",
   "execution_count": 77,
   "id": "2254cc8c-bf16-454a-b68a-9288fb54ec64",
   "metadata": {
    "tags": []
   },
   "outputs": [
    {
     "data": {
      "text/plain": [
       "1    A\n",
       "2    B\n",
       "3    C\n",
       "4    D\n",
       "5    E\n",
       "6    F\n",
       "dtype: object"
      ]
     },
     "execution_count": 77,
     "metadata": {},
     "output_type": "execute_result"
    }
   ],
   "source": [
    "spojene_sloupce_vertikalne"
   ]
  },
  {
   "cell_type": "markdown",
   "id": "b7178ec8-3065-4221-8d3a-9360ec2618c1",
   "metadata": {},
   "source": [
    "<br>\n",
    "\n",
    "##### Spojení **horizontální** (vedle sebe, přidání sloupečku):\n",
    "\n",
    "---"
   ]
  },
  {
   "cell_type": "code",
   "execution_count": 78,
   "id": "64ac7fdc-822c-4c2e-b237-c030650c598c",
   "metadata": {
    "tags": []
   },
   "outputs": [],
   "source": [
    "sloupce_spojene_horizontalne = concat([sloupecek_1, sloupecek_2], axis=1)"
   ]
  },
  {
   "cell_type": "code",
   "execution_count": 79,
   "id": "c3b53d7d-c887-472d-b8ed-46e8f10a4e50",
   "metadata": {},
   "outputs": [
    {
     "data": {
      "text/html": [
       "<div>\n",
       "<style scoped>\n",
       "    .dataframe tbody tr th:only-of-type {\n",
       "        vertical-align: middle;\n",
       "    }\n",
       "\n",
       "    .dataframe tbody tr th {\n",
       "        vertical-align: top;\n",
       "    }\n",
       "\n",
       "    .dataframe thead th {\n",
       "        text-align: right;\n",
       "    }\n",
       "</style>\n",
       "<table border=\"1\" class=\"dataframe\">\n",
       "  <thead>\n",
       "    <tr style=\"text-align: right;\">\n",
       "      <th></th>\n",
       "      <th>0</th>\n",
       "      <th>1</th>\n",
       "    </tr>\n",
       "  </thead>\n",
       "  <tbody>\n",
       "    <tr>\n",
       "      <th>1</th>\n",
       "      <td>A</td>\n",
       "      <td>NaN</td>\n",
       "    </tr>\n",
       "    <tr>\n",
       "      <th>2</th>\n",
       "      <td>B</td>\n",
       "      <td>NaN</td>\n",
       "    </tr>\n",
       "    <tr>\n",
       "      <th>3</th>\n",
       "      <td>C</td>\n",
       "      <td>NaN</td>\n",
       "    </tr>\n",
       "    <tr>\n",
       "      <th>4</th>\n",
       "      <td>NaN</td>\n",
       "      <td>D</td>\n",
       "    </tr>\n",
       "    <tr>\n",
       "      <th>5</th>\n",
       "      <td>NaN</td>\n",
       "      <td>E</td>\n",
       "    </tr>\n",
       "    <tr>\n",
       "      <th>6</th>\n",
       "      <td>NaN</td>\n",
       "      <td>F</td>\n",
       "    </tr>\n",
       "  </tbody>\n",
       "</table>\n",
       "</div>"
      ],
      "text/plain": [
       "     0    1\n",
       "1    A  NaN\n",
       "2    B  NaN\n",
       "3    C  NaN\n",
       "4  NaN    D\n",
       "5  NaN    E\n",
       "6  NaN    F"
      ]
     },
     "execution_count": 79,
     "metadata": {},
     "output_type": "execute_result"
    }
   ],
   "source": [
    "sloupce_spojene_horizontalne"
   ]
  },
  {
   "cell_type": "markdown",
   "id": "4a4665ca-69b9-4410-a803-3c58d60370eb",
   "metadata": {},
   "source": [
    "<br>\n",
    "\n",
    "#### Spojení tabulek, CONCAT\n",
    "\n",
    "---"
   ]
  },
  {
   "cell_type": "code",
   "execution_count": 80,
   "id": "35311e59-0ec5-44f3-b6bb-b924a176ac2f",
   "metadata": {
    "tags": []
   },
   "outputs": [],
   "source": [
    "uzivatele_tab_1 = {'jmeno': ['Matouš', 'Marek', 'Lukáš'],\n",
    "                   'vek': [25, 30, 35]}"
   ]
  },
  {
   "cell_type": "code",
   "execution_count": 81,
   "id": "a5c374d6-1181-417f-96db-5039b0358660",
   "metadata": {
    "tags": []
   },
   "outputs": [],
   "source": [
    "uzivatele_tab_2 = {'jmeno': ['Petr', 'Jan', 'Michal'],\n",
    "                   'vek': [40, 45, 50]}"
   ]
  },
  {
   "cell_type": "code",
   "execution_count": 82,
   "id": "ad4422ca-df80-4e54-9f01-6b32134590fe",
   "metadata": {
    "tags": []
   },
   "outputs": [],
   "source": [
    "uzivatele_tab_1_df = DataFrame(uzivatele_tab_1)\n",
    "uzivatele_tab_2_df = DataFrame(uzivatele_tab_2)"
   ]
  },
  {
   "cell_type": "code",
   "execution_count": 83,
   "id": "3765781b-ae1d-4356-a477-9a9ce1db48a1",
   "metadata": {
    "tags": []
   },
   "outputs": [
    {
     "data": {
      "text/html": [
       "<div>\n",
       "<style scoped>\n",
       "    .dataframe tbody tr th:only-of-type {\n",
       "        vertical-align: middle;\n",
       "    }\n",
       "\n",
       "    .dataframe tbody tr th {\n",
       "        vertical-align: top;\n",
       "    }\n",
       "\n",
       "    .dataframe thead th {\n",
       "        text-align: right;\n",
       "    }\n",
       "</style>\n",
       "<table border=\"1\" class=\"dataframe\">\n",
       "  <thead>\n",
       "    <tr style=\"text-align: right;\">\n",
       "      <th></th>\n",
       "      <th>jmeno</th>\n",
       "      <th>vek</th>\n",
       "    </tr>\n",
       "  </thead>\n",
       "  <tbody>\n",
       "    <tr>\n",
       "      <th>0</th>\n",
       "      <td>Matouš</td>\n",
       "      <td>25</td>\n",
       "    </tr>\n",
       "    <tr>\n",
       "      <th>1</th>\n",
       "      <td>Marek</td>\n",
       "      <td>30</td>\n",
       "    </tr>\n",
       "    <tr>\n",
       "      <th>2</th>\n",
       "      <td>Lukáš</td>\n",
       "      <td>35</td>\n",
       "    </tr>\n",
       "  </tbody>\n",
       "</table>\n",
       "</div>"
      ],
      "text/plain": [
       "    jmeno  vek\n",
       "0  Matouš   25\n",
       "1   Marek   30\n",
       "2   Lukáš   35"
      ]
     },
     "execution_count": 83,
     "metadata": {},
     "output_type": "execute_result"
    }
   ],
   "source": [
    "uzivatele_tab_1_df"
   ]
  },
  {
   "cell_type": "code",
   "execution_count": 84,
   "id": "29266ba0-0a7a-4657-866d-fb6b3d82287f",
   "metadata": {
    "tags": []
   },
   "outputs": [
    {
     "data": {
      "text/html": [
       "<div>\n",
       "<style scoped>\n",
       "    .dataframe tbody tr th:only-of-type {\n",
       "        vertical-align: middle;\n",
       "    }\n",
       "\n",
       "    .dataframe tbody tr th {\n",
       "        vertical-align: top;\n",
       "    }\n",
       "\n",
       "    .dataframe thead th {\n",
       "        text-align: right;\n",
       "    }\n",
       "</style>\n",
       "<table border=\"1\" class=\"dataframe\">\n",
       "  <thead>\n",
       "    <tr style=\"text-align: right;\">\n",
       "      <th></th>\n",
       "      <th>jmeno</th>\n",
       "      <th>vek</th>\n",
       "    </tr>\n",
       "  </thead>\n",
       "  <tbody>\n",
       "    <tr>\n",
       "      <th>0</th>\n",
       "      <td>Petr</td>\n",
       "      <td>40</td>\n",
       "    </tr>\n",
       "    <tr>\n",
       "      <th>1</th>\n",
       "      <td>Jan</td>\n",
       "      <td>45</td>\n",
       "    </tr>\n",
       "    <tr>\n",
       "      <th>2</th>\n",
       "      <td>Michal</td>\n",
       "      <td>50</td>\n",
       "    </tr>\n",
       "  </tbody>\n",
       "</table>\n",
       "</div>"
      ],
      "text/plain": [
       "    jmeno  vek\n",
       "0    Petr   40\n",
       "1     Jan   45\n",
       "2  Michal   50"
      ]
     },
     "execution_count": 84,
     "metadata": {},
     "output_type": "execute_result"
    }
   ],
   "source": [
    "uzivatele_tab_2_df"
   ]
  },
  {
   "cell_type": "markdown",
   "id": "d8c73b0e-f51e-44bf-988c-ddb4314266b0",
   "metadata": {},
   "source": [
    "\n",
    "#### Jak zapsat spojení 2 různých tabulek?\n",
    "\n",
    "---"
   ]
  },
  {
   "cell_type": "markdown",
   "id": "e43f4938-f2dd-47d8-883c-2e79f78c73ff",
   "metadata": {},
   "source": [
    "Stejně jako u sloupečků, nezapomínat **na poziční argumenty** (závorka).\n",
    "\n",
    "Stejně tak, vybrat správnou osu."
   ]
  },
  {
   "cell_type": "code",
   "execution_count": 85,
   "id": "ce04792a-270c-4dce-960f-bbd801b6306e",
   "metadata": {
    "tags": []
   },
   "outputs": [],
   "source": [
    "spojene_tab_df = concat([uzivatele_tab_1_df, uzivatele_tab_2_df], axis=0)"
   ]
  },
  {
   "cell_type": "code",
   "execution_count": 86,
   "id": "86971418-4198-4cf1-b339-9c091f1cbfb1",
   "metadata": {
    "tags": []
   },
   "outputs": [
    {
     "data": {
      "text/html": [
       "<div>\n",
       "<style scoped>\n",
       "    .dataframe tbody tr th:only-of-type {\n",
       "        vertical-align: middle;\n",
       "    }\n",
       "\n",
       "    .dataframe tbody tr th {\n",
       "        vertical-align: top;\n",
       "    }\n",
       "\n",
       "    .dataframe thead th {\n",
       "        text-align: right;\n",
       "    }\n",
       "</style>\n",
       "<table border=\"1\" class=\"dataframe\">\n",
       "  <thead>\n",
       "    <tr style=\"text-align: right;\">\n",
       "      <th></th>\n",
       "      <th>jmeno</th>\n",
       "      <th>vek</th>\n",
       "    </tr>\n",
       "  </thead>\n",
       "  <tbody>\n",
       "    <tr>\n",
       "      <th>0</th>\n",
       "      <td>Matouš</td>\n",
       "      <td>25</td>\n",
       "    </tr>\n",
       "    <tr>\n",
       "      <th>1</th>\n",
       "      <td>Marek</td>\n",
       "      <td>30</td>\n",
       "    </tr>\n",
       "    <tr>\n",
       "      <th>2</th>\n",
       "      <td>Lukáš</td>\n",
       "      <td>35</td>\n",
       "    </tr>\n",
       "    <tr>\n",
       "      <th>0</th>\n",
       "      <td>Petr</td>\n",
       "      <td>40</td>\n",
       "    </tr>\n",
       "    <tr>\n",
       "      <th>1</th>\n",
       "      <td>Jan</td>\n",
       "      <td>45</td>\n",
       "    </tr>\n",
       "    <tr>\n",
       "      <th>2</th>\n",
       "      <td>Michal</td>\n",
       "      <td>50</td>\n",
       "    </tr>\n",
       "  </tbody>\n",
       "</table>\n",
       "</div>"
      ],
      "text/plain": [
       "    jmeno  vek\n",
       "0  Matouš   25\n",
       "1   Marek   30\n",
       "2   Lukáš   35\n",
       "0    Petr   40\n",
       "1     Jan   45\n",
       "2  Michal   50"
      ]
     },
     "execution_count": 86,
     "metadata": {},
     "output_type": "execute_result"
    }
   ],
   "source": [
    "spojene_tab_df"
   ]
  },
  {
   "cell_type": "markdown",
   "id": "dd41a1cf-2f68-41f0-b483-9f25a26f46dc",
   "metadata": {},
   "source": [
    "#### Co s duplicitními Indexy?\n",
    "\n",
    "---"
   ]
  },
  {
   "cell_type": "markdown",
   "id": "5623de41-d544-4a0c-94a6-4459a94bb5d1",
   "metadata": {},
   "source": [
    "Tady se ovšem **zduplikovali hodnoty** některých indexů.\n",
    "\n",
    "Ty je potřeba opravit tímto postupem:\n",
    "1. **Vytvořím nový sloupeček** pro Indexy,\n",
    "2. **odstraním starý sloupeček** s duplicitami."
   ]
  },
  {
   "cell_type": "code",
   "execution_count": 87,
   "id": "03c422e2-caf0-48dd-bdde-b6eb9d5b8dbf",
   "metadata": {
    "tags": []
   },
   "outputs": [],
   "source": [
    "spojene_tab_df = spojene_tab_df.reset_index()  # Přidá nový Index"
   ]
  },
  {
   "cell_type": "markdown",
   "id": "c4fe028e-52d8-4098-8203-70040b826f6d",
   "metadata": {},
   "source": [
    "<br>\n",
    "\n",
    "Metoda `reset_index` přidá nový, defaultní sloupec s pomocným Indexem."
   ]
  },
  {
   "cell_type": "code",
   "execution_count": 88,
   "id": "322556f5-362f-42bf-8780-7fa1f9ff427c",
   "metadata": {
    "tags": []
   },
   "outputs": [
    {
     "data": {
      "text/html": [
       "<div>\n",
       "<style scoped>\n",
       "    .dataframe tbody tr th:only-of-type {\n",
       "        vertical-align: middle;\n",
       "    }\n",
       "\n",
       "    .dataframe tbody tr th {\n",
       "        vertical-align: top;\n",
       "    }\n",
       "\n",
       "    .dataframe thead th {\n",
       "        text-align: right;\n",
       "    }\n",
       "</style>\n",
       "<table border=\"1\" class=\"dataframe\">\n",
       "  <thead>\n",
       "    <tr style=\"text-align: right;\">\n",
       "      <th></th>\n",
       "      <th>index</th>\n",
       "      <th>jmeno</th>\n",
       "      <th>vek</th>\n",
       "    </tr>\n",
       "  </thead>\n",
       "  <tbody>\n",
       "    <tr>\n",
       "      <th>0</th>\n",
       "      <td>0</td>\n",
       "      <td>Matouš</td>\n",
       "      <td>25</td>\n",
       "    </tr>\n",
       "    <tr>\n",
       "      <th>1</th>\n",
       "      <td>1</td>\n",
       "      <td>Marek</td>\n",
       "      <td>30</td>\n",
       "    </tr>\n",
       "    <tr>\n",
       "      <th>2</th>\n",
       "      <td>2</td>\n",
       "      <td>Lukáš</td>\n",
       "      <td>35</td>\n",
       "    </tr>\n",
       "    <tr>\n",
       "      <th>3</th>\n",
       "      <td>0</td>\n",
       "      <td>Petr</td>\n",
       "      <td>40</td>\n",
       "    </tr>\n",
       "    <tr>\n",
       "      <th>4</th>\n",
       "      <td>1</td>\n",
       "      <td>Jan</td>\n",
       "      <td>45</td>\n",
       "    </tr>\n",
       "    <tr>\n",
       "      <th>5</th>\n",
       "      <td>2</td>\n",
       "      <td>Michal</td>\n",
       "      <td>50</td>\n",
       "    </tr>\n",
       "  </tbody>\n",
       "</table>\n",
       "</div>"
      ],
      "text/plain": [
       "   index   jmeno  vek\n",
       "0      0  Matouš   25\n",
       "1      1   Marek   30\n",
       "2      2   Lukáš   35\n",
       "3      0    Petr   40\n",
       "4      1     Jan   45\n",
       "5      2  Michal   50"
      ]
     },
     "execution_count": 88,
     "metadata": {},
     "output_type": "execute_result"
    }
   ],
   "source": [
    "spojene_tab_df"
   ]
  },
  {
   "cell_type": "code",
   "execution_count": 89,
   "id": "9845897b-1399-436e-b600-64e9be6b5de6",
   "metadata": {
    "tags": []
   },
   "outputs": [],
   "source": [
    "spojene_tab_df = spojene_tab_df.drop(\"index\", axis=1)"
   ]
  },
  {
   "cell_type": "code",
   "execution_count": 90,
   "id": "660c0a6c-0480-4260-a7db-dbb0fe3cfde8",
   "metadata": {},
   "outputs": [
    {
     "data": {
      "text/html": [
       "<div>\n",
       "<style scoped>\n",
       "    .dataframe tbody tr th:only-of-type {\n",
       "        vertical-align: middle;\n",
       "    }\n",
       "\n",
       "    .dataframe tbody tr th {\n",
       "        vertical-align: top;\n",
       "    }\n",
       "\n",
       "    .dataframe thead th {\n",
       "        text-align: right;\n",
       "    }\n",
       "</style>\n",
       "<table border=\"1\" class=\"dataframe\">\n",
       "  <thead>\n",
       "    <tr style=\"text-align: right;\">\n",
       "      <th></th>\n",
       "      <th>jmeno</th>\n",
       "      <th>vek</th>\n",
       "    </tr>\n",
       "  </thead>\n",
       "  <tbody>\n",
       "    <tr>\n",
       "      <th>0</th>\n",
       "      <td>Matouš</td>\n",
       "      <td>25</td>\n",
       "    </tr>\n",
       "    <tr>\n",
       "      <th>1</th>\n",
       "      <td>Marek</td>\n",
       "      <td>30</td>\n",
       "    </tr>\n",
       "    <tr>\n",
       "      <th>2</th>\n",
       "      <td>Lukáš</td>\n",
       "      <td>35</td>\n",
       "    </tr>\n",
       "    <tr>\n",
       "      <th>3</th>\n",
       "      <td>Petr</td>\n",
       "      <td>40</td>\n",
       "    </tr>\n",
       "    <tr>\n",
       "      <th>4</th>\n",
       "      <td>Jan</td>\n",
       "      <td>45</td>\n",
       "    </tr>\n",
       "    <tr>\n",
       "      <th>5</th>\n",
       "      <td>Michal</td>\n",
       "      <td>50</td>\n",
       "    </tr>\n",
       "  </tbody>\n",
       "</table>\n",
       "</div>"
      ],
      "text/plain": [
       "    jmeno  vek\n",
       "0  Matouš   25\n",
       "1   Marek   30\n",
       "2   Lukáš   35\n",
       "3    Petr   40\n",
       "4     Jan   45\n",
       "5  Michal   50"
      ]
     },
     "execution_count": 90,
     "metadata": {},
     "output_type": "execute_result"
    }
   ],
   "source": [
    "spojene_tab_df"
   ]
  },
  {
   "cell_type": "markdown",
   "id": "9b8d3948-bbda-440d-a5c5-92b5c70c6a0c",
   "metadata": {},
   "source": [
    "<br>\n",
    "\n",
    "Kontrola nového rozsahu **pro Index**:"
   ]
  },
  {
   "cell_type": "code",
   "execution_count": 91,
   "id": "3561712e-e822-4651-aef3-10137ecc1e43",
   "metadata": {
    "tags": []
   },
   "outputs": [
    {
     "data": {
      "text/plain": [
       "RangeIndex(start=0, stop=6, step=1)"
      ]
     },
     "execution_count": 91,
     "metadata": {},
     "output_type": "execute_result"
    }
   ],
   "source": [
    "spojene_tab_df.index"
   ]
  },
  {
   "cell_type": "markdown",
   "id": "12fea673-e22c-4fa0-8cca-bcf3dc427f43",
   "metadata": {},
   "source": [
    "<br>\n",
    "\n",
    "Pozůstatky sloupečků:"
   ]
  },
  {
   "cell_type": "code",
   "execution_count": 92,
   "id": "d21e7014-0144-4a03-8cea-8e16bdb31d2e",
   "metadata": {
    "tags": []
   },
   "outputs": [
    {
     "data": {
      "text/plain": [
       "Index(['jmeno', 'vek'], dtype='object')"
      ]
     },
     "execution_count": 92,
     "metadata": {},
     "output_type": "execute_result"
    }
   ],
   "source": [
    "spojene_tab_df.columns"
   ]
  },
  {
   "cell_type": "markdown",
   "id": "239203f3-587a-45d7-ac10-fd2fceb24e86",
   "metadata": {},
   "source": [
    "<br>\n",
    "\n",
    "Nastavení jména nového Indexu:"
   ]
  },
  {
   "cell_type": "code",
   "execution_count": 93,
   "id": "cdf63655-6832-4dcc-9df5-34ac384346bb",
   "metadata": {
    "tags": []
   },
   "outputs": [
    {
     "data": {
      "text/plain": [
       "FrozenList([None])"
      ]
     },
     "execution_count": 93,
     "metadata": {},
     "output_type": "execute_result"
    }
   ],
   "source": [
    "spojene_tab_df.index.names"
   ]
  },
  {
   "cell_type": "markdown",
   "id": "1ce60593-89d7-4624-a733-ee3bdfa850e0",
   "metadata": {},
   "source": [
    "<br>\n",
    "\n",
    "Doplníš jméno **pro Index**:"
   ]
  },
  {
   "cell_type": "code",
   "execution_count": 94,
   "id": "8011785b-d5b9-445a-b35a-7e47520215be",
   "metadata": {
    "tags": []
   },
   "outputs": [],
   "source": [
    "spojene_tab_df.index.names = [\"Nový Index\"]"
   ]
  },
  {
   "cell_type": "code",
   "execution_count": 95,
   "id": "e790c374-2baf-4b18-8e03-a46fd394d8cf",
   "metadata": {
    "tags": []
   },
   "outputs": [
    {
     "data": {
      "text/plain": [
       "FrozenList(['Nový Index'])"
      ]
     },
     "execution_count": 95,
     "metadata": {},
     "output_type": "execute_result"
    }
   ],
   "source": [
    "spojene_tab_df.index.names"
   ]
  },
  {
   "cell_type": "code",
   "execution_count": 96,
   "id": "c2aab8f8-aca8-4918-8e9c-a452b2c0e909",
   "metadata": {
    "tags": []
   },
   "outputs": [
    {
     "data": {
      "text/plain": [
       "RangeIndex(start=0, stop=6, step=1, name='Nový Index')"
      ]
     },
     "execution_count": 96,
     "metadata": {},
     "output_type": "execute_result"
    }
   ],
   "source": [
    "spojene_tab_df.index"
   ]
  },
  {
   "cell_type": "code",
   "execution_count": 97,
   "id": "129e63d7-13f1-4afc-8de2-397122330dc5",
   "metadata": {},
   "outputs": [
    {
     "data": {
      "text/html": [
       "<div>\n",
       "<style scoped>\n",
       "    .dataframe tbody tr th:only-of-type {\n",
       "        vertical-align: middle;\n",
       "    }\n",
       "\n",
       "    .dataframe tbody tr th {\n",
       "        vertical-align: top;\n",
       "    }\n",
       "\n",
       "    .dataframe thead th {\n",
       "        text-align: right;\n",
       "    }\n",
       "</style>\n",
       "<table border=\"1\" class=\"dataframe\">\n",
       "  <thead>\n",
       "    <tr style=\"text-align: right;\">\n",
       "      <th></th>\n",
       "      <th>jmeno</th>\n",
       "      <th>vek</th>\n",
       "    </tr>\n",
       "    <tr>\n",
       "      <th>Nový Index</th>\n",
       "      <th></th>\n",
       "      <th></th>\n",
       "    </tr>\n",
       "  </thead>\n",
       "  <tbody>\n",
       "    <tr>\n",
       "      <th>0</th>\n",
       "      <td>Matouš</td>\n",
       "      <td>25</td>\n",
       "    </tr>\n",
       "    <tr>\n",
       "      <th>1</th>\n",
       "      <td>Marek</td>\n",
       "      <td>30</td>\n",
       "    </tr>\n",
       "    <tr>\n",
       "      <th>2</th>\n",
       "      <td>Lukáš</td>\n",
       "      <td>35</td>\n",
       "    </tr>\n",
       "    <tr>\n",
       "      <th>3</th>\n",
       "      <td>Petr</td>\n",
       "      <td>40</td>\n",
       "    </tr>\n",
       "    <tr>\n",
       "      <th>4</th>\n",
       "      <td>Jan</td>\n",
       "      <td>45</td>\n",
       "    </tr>\n",
       "    <tr>\n",
       "      <th>5</th>\n",
       "      <td>Michal</td>\n",
       "      <td>50</td>\n",
       "    </tr>\n",
       "  </tbody>\n",
       "</table>\n",
       "</div>"
      ],
      "text/plain": [
       "             jmeno  vek\n",
       "Nový Index             \n",
       "0           Matouš   25\n",
       "1            Marek   30\n",
       "2            Lukáš   35\n",
       "3             Petr   40\n",
       "4              Jan   45\n",
       "5           Michal   50"
      ]
     },
     "execution_count": 97,
     "metadata": {},
     "output_type": "execute_result"
    }
   ],
   "source": [
    "spojene_tab_df"
   ]
  },
  {
   "cell_type": "markdown",
   "id": "c2c5aa6b-4e12-4572-8a3a-f1c32d25b6bd",
   "metadata": {},
   "source": [
    "Pro odchytávání **duplicitních indexů** můžeš doplnit parametr `verify_integrity=True`, případně pokud je irelevantní, ignorovat jej úplně `ignore_index=True`."
   ]
  },
  {
   "cell_type": "markdown",
   "id": "550f7b18-212f-41b5-b8f9-2aeb50a7ff0d",
   "metadata": {},
   "source": [
    "<br>\n",
    "\n",
    "**🧠 CVIČENÍ 🧠, procvič si funkcí CONCAT**"
   ]
  },
  {
   "cell_type": "code",
   "execution_count": 98,
   "id": "5e82f9bd-ce76-4a88-8660-ddfd50ac7840",
   "metadata": {},
   "outputs": [],
   "source": [
    "from pandas import DataFrame, concat, Series"
   ]
  },
  {
   "cell_type": "code",
   "execution_count": 99,
   "id": "bc5bfd96-f06e-4b72-a5bb-86da20f08774",
   "metadata": {},
   "outputs": [],
   "source": [
    "data_populace = {\"City\": [\"New York\", \"London\", \"Tokyo\"],\n",
    "                 \"Population\": [8.4, 9.0, 13.9]}\n",
    "\n",
    "data_plocha = {\"City\": [\"New York\", \"London\", \"Tokyo\"],\n",
    "               \"Area\": [783, 1572, 2194]}\n",
    "\n",
    "data_kontinent = {\"City\": [\"New York\", \"London\", \"Tokyo\"],\n",
    "                  \"Continent\": [\"North America\", \"Europe\", \"Asia\"]}\n",
    "\n",
    "# ❓ Vytvoř funkci \"spoj_data_mest\", která spojí 3 předchozí tabulky❓"
   ]
  },
  {
   "cell_type": "code",
   "execution_count": 100,
   "id": "5460e01d-47db-408f-888d-3f4f17c1cc91",
   "metadata": {},
   "outputs": [],
   "source": [
    "data_populace_df = DataFrame(data_populace)\n",
    "data_plocha_df = DataFrame(data_plocha)\n",
    "data_kontinent_df = DataFrame(data_kontinent)"
   ]
  },
  {
   "cell_type": "code",
   "execution_count": 101,
   "id": "f2f1cc17-f9cf-4aa4-9d7f-25b8e7d75ddd",
   "metadata": {},
   "outputs": [
    {
     "data": {
      "text/html": [
       "<div>\n",
       "<style scoped>\n",
       "    .dataframe tbody tr th:only-of-type {\n",
       "        vertical-align: middle;\n",
       "    }\n",
       "\n",
       "    .dataframe tbody tr th {\n",
       "        vertical-align: top;\n",
       "    }\n",
       "\n",
       "    .dataframe thead th {\n",
       "        text-align: right;\n",
       "    }\n",
       "</style>\n",
       "<table border=\"1\" class=\"dataframe\">\n",
       "  <thead>\n",
       "    <tr style=\"text-align: right;\">\n",
       "      <th></th>\n",
       "      <th>City</th>\n",
       "      <th>Population</th>\n",
       "    </tr>\n",
       "  </thead>\n",
       "  <tbody>\n",
       "    <tr>\n",
       "      <th>0</th>\n",
       "      <td>New York</td>\n",
       "      <td>8.4</td>\n",
       "    </tr>\n",
       "    <tr>\n",
       "      <th>1</th>\n",
       "      <td>London</td>\n",
       "      <td>9.0</td>\n",
       "    </tr>\n",
       "    <tr>\n",
       "      <th>2</th>\n",
       "      <td>Tokyo</td>\n",
       "      <td>13.9</td>\n",
       "    </tr>\n",
       "  </tbody>\n",
       "</table>\n",
       "</div>"
      ],
      "text/plain": [
       "       City  Population\n",
       "0  New York         8.4\n",
       "1    London         9.0\n",
       "2     Tokyo        13.9"
      ]
     },
     "execution_count": 101,
     "metadata": {},
     "output_type": "execute_result"
    }
   ],
   "source": [
    "data_populace_df"
   ]
  },
  {
   "cell_type": "code",
   "execution_count": 102,
   "id": "6c3ab737-7fed-4a0b-b813-3a6e07330c12",
   "metadata": {},
   "outputs": [
    {
     "data": {
      "text/html": [
       "<div>\n",
       "<style scoped>\n",
       "    .dataframe tbody tr th:only-of-type {\n",
       "        vertical-align: middle;\n",
       "    }\n",
       "\n",
       "    .dataframe tbody tr th {\n",
       "        vertical-align: top;\n",
       "    }\n",
       "\n",
       "    .dataframe thead th {\n",
       "        text-align: right;\n",
       "    }\n",
       "</style>\n",
       "<table border=\"1\" class=\"dataframe\">\n",
       "  <thead>\n",
       "    <tr style=\"text-align: right;\">\n",
       "      <th></th>\n",
       "      <th>City</th>\n",
       "      <th>Area</th>\n",
       "    </tr>\n",
       "  </thead>\n",
       "  <tbody>\n",
       "    <tr>\n",
       "      <th>0</th>\n",
       "      <td>New York</td>\n",
       "      <td>783</td>\n",
       "    </tr>\n",
       "    <tr>\n",
       "      <th>1</th>\n",
       "      <td>London</td>\n",
       "      <td>1572</td>\n",
       "    </tr>\n",
       "    <tr>\n",
       "      <th>2</th>\n",
       "      <td>Tokyo</td>\n",
       "      <td>2194</td>\n",
       "    </tr>\n",
       "  </tbody>\n",
       "</table>\n",
       "</div>"
      ],
      "text/plain": [
       "       City  Area\n",
       "0  New York   783\n",
       "1    London  1572\n",
       "2     Tokyo  2194"
      ]
     },
     "execution_count": 102,
     "metadata": {},
     "output_type": "execute_result"
    }
   ],
   "source": [
    "data_plocha_df"
   ]
  },
  {
   "cell_type": "code",
   "execution_count": 103,
   "id": "1403662b-6877-4d6a-8985-b38db33ed67d",
   "metadata": {},
   "outputs": [
    {
     "data": {
      "text/html": [
       "<div>\n",
       "<style scoped>\n",
       "    .dataframe tbody tr th:only-of-type {\n",
       "        vertical-align: middle;\n",
       "    }\n",
       "\n",
       "    .dataframe tbody tr th {\n",
       "        vertical-align: top;\n",
       "    }\n",
       "\n",
       "    .dataframe thead th {\n",
       "        text-align: right;\n",
       "    }\n",
       "</style>\n",
       "<table border=\"1\" class=\"dataframe\">\n",
       "  <thead>\n",
       "    <tr style=\"text-align: right;\">\n",
       "      <th></th>\n",
       "      <th>City</th>\n",
       "      <th>Continent</th>\n",
       "    </tr>\n",
       "  </thead>\n",
       "  <tbody>\n",
       "    <tr>\n",
       "      <th>0</th>\n",
       "      <td>New York</td>\n",
       "      <td>North America</td>\n",
       "    </tr>\n",
       "    <tr>\n",
       "      <th>1</th>\n",
       "      <td>London</td>\n",
       "      <td>Europe</td>\n",
       "    </tr>\n",
       "    <tr>\n",
       "      <th>2</th>\n",
       "      <td>Tokyo</td>\n",
       "      <td>Asia</td>\n",
       "    </tr>\n",
       "  </tbody>\n",
       "</table>\n",
       "</div>"
      ],
      "text/plain": [
       "       City      Continent\n",
       "0  New York  North America\n",
       "1    London         Europe\n",
       "2     Tokyo           Asia"
      ]
     },
     "execution_count": 103,
     "metadata": {},
     "output_type": "execute_result"
    }
   ],
   "source": [
    "data_kontinent_df"
   ]
  },
  {
   "cell_type": "code",
   "execution_count": 104,
   "id": "6b7f4a1b-8e40-4c69-a9ec-35656a63e700",
   "metadata": {},
   "outputs": [],
   "source": [
    "data_populace_df = DataFrame(data_populace)"
   ]
  },
  {
   "cell_type": "code",
   "execution_count": 105,
   "id": "aec53a3d-3bd8-43e1-b1a6-9375ad99fa52",
   "metadata": {},
   "outputs": [
    {
     "data": {
      "text/html": [
       "<div>\n",
       "<style scoped>\n",
       "    .dataframe tbody tr th:only-of-type {\n",
       "        vertical-align: middle;\n",
       "    }\n",
       "\n",
       "    .dataframe tbody tr th {\n",
       "        vertical-align: top;\n",
       "    }\n",
       "\n",
       "    .dataframe thead th {\n",
       "        text-align: right;\n",
       "    }\n",
       "</style>\n",
       "<table border=\"1\" class=\"dataframe\">\n",
       "  <thead>\n",
       "    <tr style=\"text-align: right;\">\n",
       "      <th></th>\n",
       "      <th>Population</th>\n",
       "    </tr>\n",
       "    <tr>\n",
       "      <th>City</th>\n",
       "      <th></th>\n",
       "    </tr>\n",
       "  </thead>\n",
       "  <tbody>\n",
       "    <tr>\n",
       "      <th>New York</th>\n",
       "      <td>8.4</td>\n",
       "    </tr>\n",
       "    <tr>\n",
       "      <th>London</th>\n",
       "      <td>9.0</td>\n",
       "    </tr>\n",
       "    <tr>\n",
       "      <th>Tokyo</th>\n",
       "      <td>13.9</td>\n",
       "    </tr>\n",
       "  </tbody>\n",
       "</table>\n",
       "</div>"
      ],
      "text/plain": [
       "          Population\n",
       "City                \n",
       "New York         8.4\n",
       "London           9.0\n",
       "Tokyo           13.9"
      ]
     },
     "execution_count": 105,
     "metadata": {},
     "output_type": "execute_result"
    }
   ],
   "source": [
    "data_populace_df.set_index('City')"
   ]
  },
  {
   "cell_type": "code",
   "execution_count": 106,
   "id": "35fbdbaf-998c-4461-ae7f-44a2fb0ef14b",
   "metadata": {},
   "outputs": [],
   "source": [
    "def spoj_data_pro_mesta(*args):\n",
    "    sekvenci_udaje = list()\n",
    "\n",
    "    for arg in args:\n",
    "        sekvenci_udaje.append(arg.set_index('City'))\n",
    "\n",
    "    return concat(sekvenci_udaje, axis=1)"
   ]
  },
  {
   "cell_type": "code",
   "execution_count": 107,
   "id": "eda9ce2c-178c-41de-aa7a-6ee9d4599de2",
   "metadata": {},
   "outputs": [],
   "source": [
    "spojene_data = spoj_data_pro_mesta(data_populace_df,\n",
    "                    data_plocha_df,\n",
    "                    data_kontinent_df)"
   ]
  },
  {
   "cell_type": "code",
   "execution_count": 108,
   "id": "22d51aa1-2955-4925-bb17-7f4d4ca333f3",
   "metadata": {},
   "outputs": [
    {
     "data": {
      "text/html": [
       "<div>\n",
       "<style scoped>\n",
       "    .dataframe tbody tr th:only-of-type {\n",
       "        vertical-align: middle;\n",
       "    }\n",
       "\n",
       "    .dataframe tbody tr th {\n",
       "        vertical-align: top;\n",
       "    }\n",
       "\n",
       "    .dataframe thead th {\n",
       "        text-align: right;\n",
       "    }\n",
       "</style>\n",
       "<table border=\"1\" class=\"dataframe\">\n",
       "  <thead>\n",
       "    <tr style=\"text-align: right;\">\n",
       "      <th></th>\n",
       "      <th>Population</th>\n",
       "      <th>Area</th>\n",
       "      <th>Continent</th>\n",
       "    </tr>\n",
       "    <tr>\n",
       "      <th>City</th>\n",
       "      <th></th>\n",
       "      <th></th>\n",
       "      <th></th>\n",
       "    </tr>\n",
       "  </thead>\n",
       "  <tbody>\n",
       "    <tr>\n",
       "      <th>New York</th>\n",
       "      <td>8.4</td>\n",
       "      <td>783</td>\n",
       "      <td>North America</td>\n",
       "    </tr>\n",
       "    <tr>\n",
       "      <th>London</th>\n",
       "      <td>9.0</td>\n",
       "      <td>1572</td>\n",
       "      <td>Europe</td>\n",
       "    </tr>\n",
       "    <tr>\n",
       "      <th>Tokyo</th>\n",
       "      <td>13.9</td>\n",
       "      <td>2194</td>\n",
       "      <td>Asia</td>\n",
       "    </tr>\n",
       "  </tbody>\n",
       "</table>\n",
       "</div>"
      ],
      "text/plain": [
       "          Population  Area      Continent\n",
       "City                                     \n",
       "New York         8.4   783  North America\n",
       "London           9.0  1572         Europe\n",
       "Tokyo           13.9  2194           Asia"
      ]
     },
     "execution_count": 108,
     "metadata": {},
     "output_type": "execute_result"
    }
   ],
   "source": [
    "spojene_data"
   ]
  },
  {
   "cell_type": "markdown",
   "id": "f1c188bf-4bcd-4a5a-a64b-f12e5a97f272",
   "metadata": {},
   "source": [
    "<details>\n",
    "    <summary>▶️ Řešení</summary>\n",
    "    \n",
    "```python\n",
    "from pandas import DataFrame, concat\n",
    "\n",
    "data_populace = {\n",
    "    \"City\": [\"New York\", \"London\", \"Tokyo\"],\n",
    "    \"Population\": [8.4, 9.0, 13.9],\n",
    "}\n",
    "\n",
    "data_plocha = {\n",
    "    \"City\": [\"New York\", \"London\", \"Tokyo\"],\n",
    "    \"Area\": [783, 1572, 2194],\n",
    "}\n",
    "\n",
    "data_kontinent = {\n",
    "    \"City\": [\"New York\", \"London\", \"Tokyo\"],\n",
    "    \"Continent\": [\"North America\", \"Europe\", \"Asia\"],\n",
    "}\n",
    "\n",
    "populace_df = DataFrame(data_populace)\n",
    "plocha_df = DataFrame(data_plocha)\n",
    "kontinent_df = DataFrame(data_kontinent)\n",
    "\n",
    "\n",
    "populace_df = DataFrame(data_populace)\n",
    "plocha_df = DataFrame(data_plocha)\n",
    "kontinent_df = DataFrame(data_kontinent)\n",
    "\n",
    "\n",
    "def spoj_data_mest(*args) -> DataFrame:\n",
    "    data = [arg.set_index('City') for arg in args]\n",
    "    return concat(data, axis=1)\n",
    "\n",
    "\n",
    "result = spoj_data_mest(populace_df, plocha_df, kontinent_df)\n",
    "print(result)\n",
    "```\n",
    "</details>"
   ]
  },
  {
   "cell_type": "markdown",
   "id": "100edc1d-6820-4fed-bf1b-2b4a89771625",
   "metadata": {},
   "source": [
    "<img src=\"https://imgs.search.brave.com/wR9sz6BPwR_LCDm6Esd_B9VgUBSbW4wbTPi2T9DrdBc/rs:fit:500:0:0:0/g:ce/aHR0cHM6Ly90NC5m/dGNkbi5uZXQvanBn/LzA4LzQwLzM1LzIx/LzM2MF9GXzg0MDM1/MjE1Ml84N1N2T0kx/REM2RElCaHkxc0xz/VnpnYmNIUk1UZno0/cC5qcGc\" width=\"230\" style=\"margin-left:auto; margin-right:auto\"/>"
   ]
  },
  {
   "cell_type": "markdown",
   "id": "45204c76-11e0-4017-9dfd-b36462d4a3ee",
   "metadata": {},
   "source": [
    "### CONCAT a volitelný parametr JOIN\n",
    "\n",
    "---\n",
    "\n",
    "V jednoduchých ukázkách, jako jsou ty výše, stačilo **tabulky a sloupečky spojit**.\n",
    "\n",
    "To prakticky není vždy ideální řešení, protože některé sloupečky se mohou lišit.\n",
    "\n",
    "Třeba, pokud mají různé jména."
   ]
  },
  {
   "cell_type": "code",
   "execution_count": 109,
   "id": "763529ea-621b-47e5-aef4-352899250736",
   "metadata": {
    "tags": []
   },
   "outputs": [],
   "source": [
    "from pandas import DataFrame, concat"
   ]
  },
  {
   "cell_type": "code",
   "execution_count": 110,
   "id": "2c86c4b6-f51e-4020-85ad-345f04ddb349",
   "metadata": {
    "tags": []
   },
   "outputs": [],
   "source": [
    "data_tab_1_df = DataFrame({\"A\": [\"A1\", \"A2\"],\n",
    "                           \"B\": [\"B1\", \"B2\"],\n",
    "                           \"C\": [\"C1\", \"C2\"]},\n",
    "                          index=[1, 2])"
   ]
  },
  {
   "cell_type": "code",
   "execution_count": 111,
   "id": "d6f7f59f-7661-4933-be46-9c93fb3de969",
   "metadata": {
    "tags": []
   },
   "outputs": [],
   "source": [
    "data_tab_2_df = DataFrame({\"B\": [\"B3\", \"B4\"],\n",
    "                           \"C\": [\"C3\", \"C4\"],\n",
    "                           \"D\": [\"D3\", \"D4\"]},\n",
    "                          index=[3, 4])"
   ]
  },
  {
   "cell_type": "code",
   "execution_count": 112,
   "id": "2fb26593-938c-42fd-b409-289256193b37",
   "metadata": {
    "tags": []
   },
   "outputs": [
    {
     "data": {
      "text/html": [
       "<div>\n",
       "<style scoped>\n",
       "    .dataframe tbody tr th:only-of-type {\n",
       "        vertical-align: middle;\n",
       "    }\n",
       "\n",
       "    .dataframe tbody tr th {\n",
       "        vertical-align: top;\n",
       "    }\n",
       "\n",
       "    .dataframe thead th {\n",
       "        text-align: right;\n",
       "    }\n",
       "</style>\n",
       "<table border=\"1\" class=\"dataframe\">\n",
       "  <thead>\n",
       "    <tr style=\"text-align: right;\">\n",
       "      <th></th>\n",
       "      <th>A</th>\n",
       "      <th>B</th>\n",
       "      <th>C</th>\n",
       "    </tr>\n",
       "  </thead>\n",
       "  <tbody>\n",
       "    <tr>\n",
       "      <th>1</th>\n",
       "      <td>A1</td>\n",
       "      <td>B1</td>\n",
       "      <td>C1</td>\n",
       "    </tr>\n",
       "    <tr>\n",
       "      <th>2</th>\n",
       "      <td>A2</td>\n",
       "      <td>B2</td>\n",
       "      <td>C2</td>\n",
       "    </tr>\n",
       "  </tbody>\n",
       "</table>\n",
       "</div>"
      ],
      "text/plain": [
       "    A   B   C\n",
       "1  A1  B1  C1\n",
       "2  A2  B2  C2"
      ]
     },
     "execution_count": 112,
     "metadata": {},
     "output_type": "execute_result"
    }
   ],
   "source": [
    "data_tab_1_df"
   ]
  },
  {
   "cell_type": "code",
   "execution_count": 113,
   "id": "184cf959-797e-4eaf-b060-78eeab0272c4",
   "metadata": {
    "tags": []
   },
   "outputs": [
    {
     "data": {
      "text/html": [
       "<div>\n",
       "<style scoped>\n",
       "    .dataframe tbody tr th:only-of-type {\n",
       "        vertical-align: middle;\n",
       "    }\n",
       "\n",
       "    .dataframe tbody tr th {\n",
       "        vertical-align: top;\n",
       "    }\n",
       "\n",
       "    .dataframe thead th {\n",
       "        text-align: right;\n",
       "    }\n",
       "</style>\n",
       "<table border=\"1\" class=\"dataframe\">\n",
       "  <thead>\n",
       "    <tr style=\"text-align: right;\">\n",
       "      <th></th>\n",
       "      <th>B</th>\n",
       "      <th>C</th>\n",
       "      <th>D</th>\n",
       "    </tr>\n",
       "  </thead>\n",
       "  <tbody>\n",
       "    <tr>\n",
       "      <th>3</th>\n",
       "      <td>B3</td>\n",
       "      <td>C3</td>\n",
       "      <td>D3</td>\n",
       "    </tr>\n",
       "    <tr>\n",
       "      <th>4</th>\n",
       "      <td>B4</td>\n",
       "      <td>C4</td>\n",
       "      <td>D4</td>\n",
       "    </tr>\n",
       "  </tbody>\n",
       "</table>\n",
       "</div>"
      ],
      "text/plain": [
       "    B   C   D\n",
       "3  B3  C3  D3\n",
       "4  B4  C4  D4"
      ]
     },
     "execution_count": 113,
     "metadata": {},
     "output_type": "execute_result"
    }
   ],
   "source": [
    "data_tab_2_df"
   ]
  },
  {
   "cell_type": "markdown",
   "id": "4c720053-c3f8-4893-9015-63c425912408",
   "metadata": {},
   "source": [
    "\n",
    "#### Horizontální spojení dvou tabulek\n",
    "\n",
    "---"
   ]
  },
  {
   "cell_type": "code",
   "execution_count": 114,
   "id": "fa296049-c68b-4852-83a9-a4849db26ec1",
   "metadata": {
    "tags": []
   },
   "outputs": [],
   "source": [
    "vystup_tab_df = concat([data_tab_1_df, data_tab_2_df])  # axis=0"
   ]
  },
  {
   "cell_type": "code",
   "execution_count": 115,
   "id": "18cf4d97-241b-4f2e-a8b9-abbb4c50bb2d",
   "metadata": {
    "tags": []
   },
   "outputs": [
    {
     "data": {
      "text/html": [
       "<div>\n",
       "<style scoped>\n",
       "    .dataframe tbody tr th:only-of-type {\n",
       "        vertical-align: middle;\n",
       "    }\n",
       "\n",
       "    .dataframe tbody tr th {\n",
       "        vertical-align: top;\n",
       "    }\n",
       "\n",
       "    .dataframe thead th {\n",
       "        text-align: right;\n",
       "    }\n",
       "</style>\n",
       "<table border=\"1\" class=\"dataframe\">\n",
       "  <thead>\n",
       "    <tr style=\"text-align: right;\">\n",
       "      <th></th>\n",
       "      <th>A</th>\n",
       "      <th>B</th>\n",
       "      <th>C</th>\n",
       "      <th>D</th>\n",
       "    </tr>\n",
       "  </thead>\n",
       "  <tbody>\n",
       "    <tr>\n",
       "      <th>1</th>\n",
       "      <td>A1</td>\n",
       "      <td>B1</td>\n",
       "      <td>C1</td>\n",
       "      <td>NaN</td>\n",
       "    </tr>\n",
       "    <tr>\n",
       "      <th>2</th>\n",
       "      <td>A2</td>\n",
       "      <td>B2</td>\n",
       "      <td>C2</td>\n",
       "      <td>NaN</td>\n",
       "    </tr>\n",
       "    <tr>\n",
       "      <th>3</th>\n",
       "      <td>NaN</td>\n",
       "      <td>B3</td>\n",
       "      <td>C3</td>\n",
       "      <td>D3</td>\n",
       "    </tr>\n",
       "    <tr>\n",
       "      <th>4</th>\n",
       "      <td>NaN</td>\n",
       "      <td>B4</td>\n",
       "      <td>C4</td>\n",
       "      <td>D4</td>\n",
       "    </tr>\n",
       "  </tbody>\n",
       "</table>\n",
       "</div>"
      ],
      "text/plain": [
       "     A   B   C    D\n",
       "1   A1  B1  C1  NaN\n",
       "2   A2  B2  C2  NaN\n",
       "3  NaN  B3  C3   D3\n",
       "4  NaN  B4  C4   D4"
      ]
     },
     "execution_count": 115,
     "metadata": {},
     "output_type": "execute_result"
    }
   ],
   "source": [
    "vystup_tab_df"
   ]
  },
  {
   "cell_type": "markdown",
   "id": "8902715e-1df5-42e4-b0a7-9c87eb05ea21",
   "metadata": {},
   "source": [
    "Pokud některá data chybějí, jsou automaticky vyplněná **neznámými hodnotami**.\n",
    "\n",
    "<br>\n",
    "\n",
    "Řešením takové situace můžeš být zavedení jiného **způsobu spojování**.\n",
    "\n",
    "Tedy nepoužívat defaultní argument `join='outer'`, ale `join='inner'`:"
   ]
  },
  {
   "cell_type": "code",
   "execution_count": 116,
   "id": "ace35369-2102-44ee-8b89-81ca27dc93dd",
   "metadata": {
    "tags": []
   },
   "outputs": [],
   "source": [
    "vystup_bez_nan_df = concat([data_tab_1_df, data_tab_2_df],\n",
    "                           join='inner',\n",
    "                           axis=0)"
   ]
  },
  {
   "cell_type": "code",
   "execution_count": 117,
   "id": "d82287a1-46ba-45a7-ba88-da85975d41c4",
   "metadata": {
    "tags": []
   },
   "outputs": [
    {
     "data": {
      "text/html": [
       "<div>\n",
       "<style scoped>\n",
       "    .dataframe tbody tr th:only-of-type {\n",
       "        vertical-align: middle;\n",
       "    }\n",
       "\n",
       "    .dataframe tbody tr th {\n",
       "        vertical-align: top;\n",
       "    }\n",
       "\n",
       "    .dataframe thead th {\n",
       "        text-align: right;\n",
       "    }\n",
       "</style>\n",
       "<table border=\"1\" class=\"dataframe\">\n",
       "  <thead>\n",
       "    <tr style=\"text-align: right;\">\n",
       "      <th></th>\n",
       "      <th>B</th>\n",
       "      <th>C</th>\n",
       "    </tr>\n",
       "  </thead>\n",
       "  <tbody>\n",
       "    <tr>\n",
       "      <th>1</th>\n",
       "      <td>B1</td>\n",
       "      <td>C1</td>\n",
       "    </tr>\n",
       "    <tr>\n",
       "      <th>2</th>\n",
       "      <td>B2</td>\n",
       "      <td>C2</td>\n",
       "    </tr>\n",
       "    <tr>\n",
       "      <th>3</th>\n",
       "      <td>B3</td>\n",
       "      <td>C3</td>\n",
       "    </tr>\n",
       "    <tr>\n",
       "      <th>4</th>\n",
       "      <td>B4</td>\n",
       "      <td>C4</td>\n",
       "    </tr>\n",
       "  </tbody>\n",
       "</table>\n",
       "</div>"
      ],
      "text/plain": [
       "    B   C\n",
       "1  B1  C1\n",
       "2  B2  C2\n",
       "3  B3  C3\n",
       "4  B4  C4"
      ]
     },
     "execution_count": 117,
     "metadata": {},
     "output_type": "execute_result"
    }
   ],
   "source": [
    "vystup_bez_nan_df"
   ]
  },
  {
   "cell_type": "markdown",
   "id": "4c8f55a8-5208-4b2a-91ac-1355f0668705",
   "metadata": {},
   "source": [
    "Použití `outer` odpovídá implicitnímu chování funkce `concat`:"
   ]
  },
  {
   "cell_type": "code",
   "execution_count": 118,
   "id": "e1f003fa-2035-46c4-9ac9-264dd80d88b0",
   "metadata": {
    "tags": []
   },
   "outputs": [],
   "source": [
    "vystup_vc_nan_df = concat([data_tab_1_df, data_tab_2_df],\n",
    "                           join='outer',\n",
    "                           axis=0)"
   ]
  },
  {
   "cell_type": "code",
   "execution_count": 119,
   "id": "b40d44ce-604b-4c17-a8b0-1bde82a52849",
   "metadata": {
    "tags": []
   },
   "outputs": [
    {
     "data": {
      "text/html": [
       "<div>\n",
       "<style scoped>\n",
       "    .dataframe tbody tr th:only-of-type {\n",
       "        vertical-align: middle;\n",
       "    }\n",
       "\n",
       "    .dataframe tbody tr th {\n",
       "        vertical-align: top;\n",
       "    }\n",
       "\n",
       "    .dataframe thead th {\n",
       "        text-align: right;\n",
       "    }\n",
       "</style>\n",
       "<table border=\"1\" class=\"dataframe\">\n",
       "  <thead>\n",
       "    <tr style=\"text-align: right;\">\n",
       "      <th></th>\n",
       "      <th>A</th>\n",
       "      <th>B</th>\n",
       "      <th>C</th>\n",
       "      <th>D</th>\n",
       "    </tr>\n",
       "  </thead>\n",
       "  <tbody>\n",
       "    <tr>\n",
       "      <th>1</th>\n",
       "      <td>A1</td>\n",
       "      <td>B1</td>\n",
       "      <td>C1</td>\n",
       "      <td>NaN</td>\n",
       "    </tr>\n",
       "    <tr>\n",
       "      <th>2</th>\n",
       "      <td>A2</td>\n",
       "      <td>B2</td>\n",
       "      <td>C2</td>\n",
       "      <td>NaN</td>\n",
       "    </tr>\n",
       "    <tr>\n",
       "      <th>3</th>\n",
       "      <td>NaN</td>\n",
       "      <td>B3</td>\n",
       "      <td>C3</td>\n",
       "      <td>D3</td>\n",
       "    </tr>\n",
       "    <tr>\n",
       "      <th>4</th>\n",
       "      <td>NaN</td>\n",
       "      <td>B4</td>\n",
       "      <td>C4</td>\n",
       "      <td>D4</td>\n",
       "    </tr>\n",
       "  </tbody>\n",
       "</table>\n",
       "</div>"
      ],
      "text/plain": [
       "     A   B   C    D\n",
       "1   A1  B1  C1  NaN\n",
       "2   A2  B2  C2  NaN\n",
       "3  NaN  B3  C3   D3\n",
       "4  NaN  B4  C4   D4"
      ]
     },
     "execution_count": 119,
     "metadata": {},
     "output_type": "execute_result"
    }
   ],
   "source": [
    "vystup_vc_nan_df"
   ]
  },
  {
   "cell_type": "markdown",
   "id": "c778dfae-fded-4441-a81e-668cb8b9b4fc",
   "metadata": {},
   "source": [
    "#### 📝 Souhrn k funkci `concat`\n",
    "\n",
    "---"
   ]
  },
  {
   "cell_type": "markdown",
   "id": "83dda976-a58e-40fe-9d3e-6cc3fd7f798d",
   "metadata": {},
   "source": [
    "| Situace                                             | Použiješ                   | join?               |\n",
    "| --------------------------------------------------- | -------------------------- | ------------------- |\n",
    "| Spojuješ tabulky se stejnými sloupci pod sebe       | `pd.concat([...])`         | **nepotřebuješ**    |\n",
    "| Spojuješ tabulky vedle sebe podle indexu            | `pd.concat([...], axis=1)` | volitelně           |\n",
    "| Máš různé indexy a chceš spojit jen průnik          | `pd.concat([...], axis=1)` | `join='inner'`      |\n",
    "| Chceš **zachovat vše**, i když něco chybí           | `pd.concat([...], axis=1)` | `join='outer'`      |\n",
    "| Chceš sloučit podle **konkrétního sloupce** | ❌ `concat` nestačí         | 👉 použij `merge()` |\n"
   ]
  },
  {
   "cell_type": "markdown",
   "id": "6d3f6a21-8368-46bb-b1ca-5c838fbf9f5f",
   "metadata": {},
   "source": [
    "<img src=\"https://imgs.search.brave.com/IZ8jkD1GaDV2tXwgwzM1Xawk-jBMejygby1KcermQp8/rs:fit:500:0:0:0/g:ce/aHR0cHM6Ly90NC5m/dGNkbi5uZXQvanBn/LzA4LzQ2LzQ3LzE1/LzM2MF9GXzg0NjQ3/MTU2MF95Y281RnhM/UG5RR1c4NW1OWHBD/UmcxUWptSzRiMnp3/eS5qcGc\" width=\"200\" style=\"margin-left:auto; margin-right:auto\"/>\n",
    "\n"
   ]
  },
  {
   "cell_type": "markdown",
   "id": "4acecf05-8147-4eaa-a1da-e92f23773de7",
   "metadata": {},
   "source": [
    "### Spojování pomocí `MERGE`\n",
    "\n",
    "---\n",
    "\n",
    "Další funkcí pro spojování `DataFrame` objektů je `merge`.\n",
    "\n",
    "Tato funkce je vhodná pro spojování DataFrame objektů, které **mají společné sloupce**.\n",
    "\n",
    "Můžeš lépe zadávat typ spojení (parametr `how='inner' | 'outer' | 'left' | 'join'`).\n",
    "\n",
    "Dále ti umožní **definovat sloupec, nebo sloupce**, na kterých chceš spojení provést (parametr `on`)."
   ]
  },
  {
   "cell_type": "code",
   "execution_count": 120,
   "id": "20598d3f-7b23-4f4d-9a01-619ec8ec3521",
   "metadata": {
    "tags": []
   },
   "outputs": [],
   "source": [
    "from pandas import merge"
   ]
  },
  {
   "cell_type": "code",
   "execution_count": 121,
   "id": "465cdc22-c9a5-43e0-a110-fed701304e6a",
   "metadata": {
    "tags": []
   },
   "outputs": [],
   "source": [
    "uzivatele_tab_1 = {'jmeno': ['Alice', 'Bob', 'Charlie', 'David'],\n",
    "                   'vek': [25, 30, 35, 40],\n",
    "                   'mesto': ['Brno', 'Praha', 'Plzen', 'Ostrava']}"
   ]
  },
  {
   "cell_type": "code",
   "execution_count": 122,
   "id": "c4b86dc3-cf15-4a93-912d-6d15d9c7a00d",
   "metadata": {
    "tags": []
   },
   "outputs": [],
   "source": [
    "uzivatele_tab_2 = {'jmeno': ['Alice', 'David', 'Emma', 'Frank'],\n",
    "                   'pocet_prijemcu': [100, 200, 150, 250]}"
   ]
  },
  {
   "cell_type": "code",
   "execution_count": 123,
   "id": "f4749c22-a3c0-4795-8055-b73f9db4add0",
   "metadata": {
    "tags": []
   },
   "outputs": [],
   "source": [
    "uzivatele_tab_1_df = DataFrame(uzivatele_tab_1)\n",
    "uzivatele_tab_2_df = DataFrame(uzivatele_tab_2)"
   ]
  },
  {
   "cell_type": "code",
   "execution_count": 124,
   "id": "8bbf35f8-5181-47b7-8eba-100b062b8840",
   "metadata": {
    "tags": []
   },
   "outputs": [
    {
     "data": {
      "text/html": [
       "<div>\n",
       "<style scoped>\n",
       "    .dataframe tbody tr th:only-of-type {\n",
       "        vertical-align: middle;\n",
       "    }\n",
       "\n",
       "    .dataframe tbody tr th {\n",
       "        vertical-align: top;\n",
       "    }\n",
       "\n",
       "    .dataframe thead th {\n",
       "        text-align: right;\n",
       "    }\n",
       "</style>\n",
       "<table border=\"1\" class=\"dataframe\">\n",
       "  <thead>\n",
       "    <tr style=\"text-align: right;\">\n",
       "      <th></th>\n",
       "      <th>jmeno</th>\n",
       "      <th>vek</th>\n",
       "      <th>mesto</th>\n",
       "    </tr>\n",
       "  </thead>\n",
       "  <tbody>\n",
       "    <tr>\n",
       "      <th>0</th>\n",
       "      <td>Alice</td>\n",
       "      <td>25</td>\n",
       "      <td>Brno</td>\n",
       "    </tr>\n",
       "    <tr>\n",
       "      <th>1</th>\n",
       "      <td>Bob</td>\n",
       "      <td>30</td>\n",
       "      <td>Praha</td>\n",
       "    </tr>\n",
       "    <tr>\n",
       "      <th>2</th>\n",
       "      <td>Charlie</td>\n",
       "      <td>35</td>\n",
       "      <td>Plzen</td>\n",
       "    </tr>\n",
       "    <tr>\n",
       "      <th>3</th>\n",
       "      <td>David</td>\n",
       "      <td>40</td>\n",
       "      <td>Ostrava</td>\n",
       "    </tr>\n",
       "  </tbody>\n",
       "</table>\n",
       "</div>"
      ],
      "text/plain": [
       "     jmeno  vek    mesto\n",
       "0    Alice   25     Brno\n",
       "1      Bob   30    Praha\n",
       "2  Charlie   35    Plzen\n",
       "3    David   40  Ostrava"
      ]
     },
     "execution_count": 124,
     "metadata": {},
     "output_type": "execute_result"
    }
   ],
   "source": [
    "uzivatele_tab_1_df"
   ]
  },
  {
   "cell_type": "code",
   "execution_count": 125,
   "id": "f34d0a67-2437-42e7-a97c-59fcdce0591a",
   "metadata": {
    "tags": []
   },
   "outputs": [
    {
     "data": {
      "text/html": [
       "<div>\n",
       "<style scoped>\n",
       "    .dataframe tbody tr th:only-of-type {\n",
       "        vertical-align: middle;\n",
       "    }\n",
       "\n",
       "    .dataframe tbody tr th {\n",
       "        vertical-align: top;\n",
       "    }\n",
       "\n",
       "    .dataframe thead th {\n",
       "        text-align: right;\n",
       "    }\n",
       "</style>\n",
       "<table border=\"1\" class=\"dataframe\">\n",
       "  <thead>\n",
       "    <tr style=\"text-align: right;\">\n",
       "      <th></th>\n",
       "      <th>jmeno</th>\n",
       "      <th>pocet_prijemcu</th>\n",
       "    </tr>\n",
       "  </thead>\n",
       "  <tbody>\n",
       "    <tr>\n",
       "      <th>0</th>\n",
       "      <td>Alice</td>\n",
       "      <td>100</td>\n",
       "    </tr>\n",
       "    <tr>\n",
       "      <th>1</th>\n",
       "      <td>David</td>\n",
       "      <td>200</td>\n",
       "    </tr>\n",
       "    <tr>\n",
       "      <th>2</th>\n",
       "      <td>Emma</td>\n",
       "      <td>150</td>\n",
       "    </tr>\n",
       "    <tr>\n",
       "      <th>3</th>\n",
       "      <td>Frank</td>\n",
       "      <td>250</td>\n",
       "    </tr>\n",
       "  </tbody>\n",
       "</table>\n",
       "</div>"
      ],
      "text/plain": [
       "   jmeno  pocet_prijemcu\n",
       "0  Alice             100\n",
       "1  David             200\n",
       "2   Emma             150\n",
       "3  Frank             250"
      ]
     },
     "execution_count": 125,
     "metadata": {},
     "output_type": "execute_result"
    }
   ],
   "source": [
    "uzivatele_tab_2_df"
   ]
  },
  {
   "cell_type": "markdown",
   "id": "159ec4db-5ec4-4d1b-9385-b8cdf28e8b05",
   "metadata": {},
   "source": [
    "#### Spojení FULL JOIN\n",
    "\n",
    "---"
   ]
  },
  {
   "cell_type": "markdown",
   "id": "12c6ef85-28e0-4f44-8cdc-ac2025a85ce0",
   "metadata": {},
   "source": [
    "Jinými slovy spoj všechny záznamy, **pro konkrétní sloupeček**:"
   ]
  },
  {
   "cell_type": "code",
   "execution_count": 126,
   "id": "44a80eb1-ec0d-4101-83aa-10c179cd9394",
   "metadata": {
    "tags": []
   },
   "outputs": [],
   "source": [
    "mergnute_df = merge(uzivatele_tab_1_df,\n",
    "                    uzivatele_tab_2_df,\n",
    "                    on='jmeno',\n",
    "                    how='outer')"
   ]
  },
  {
   "cell_type": "code",
   "execution_count": 127,
   "id": "31331729-af6f-4463-8ad7-6c3af136f0ef",
   "metadata": {},
   "outputs": [
    {
     "data": {
      "text/html": [
       "<div>\n",
       "<style scoped>\n",
       "    .dataframe tbody tr th:only-of-type {\n",
       "        vertical-align: middle;\n",
       "    }\n",
       "\n",
       "    .dataframe tbody tr th {\n",
       "        vertical-align: top;\n",
       "    }\n",
       "\n",
       "    .dataframe thead th {\n",
       "        text-align: right;\n",
       "    }\n",
       "</style>\n",
       "<table border=\"1\" class=\"dataframe\">\n",
       "  <thead>\n",
       "    <tr style=\"text-align: right;\">\n",
       "      <th></th>\n",
       "      <th>jmeno</th>\n",
       "      <th>vek</th>\n",
       "      <th>mesto</th>\n",
       "      <th>pocet_prijemcu</th>\n",
       "    </tr>\n",
       "  </thead>\n",
       "  <tbody>\n",
       "    <tr>\n",
       "      <th>0</th>\n",
       "      <td>Alice</td>\n",
       "      <td>25.0</td>\n",
       "      <td>Brno</td>\n",
       "      <td>100.0</td>\n",
       "    </tr>\n",
       "    <tr>\n",
       "      <th>1</th>\n",
       "      <td>Bob</td>\n",
       "      <td>30.0</td>\n",
       "      <td>Praha</td>\n",
       "      <td>NaN</td>\n",
       "    </tr>\n",
       "    <tr>\n",
       "      <th>2</th>\n",
       "      <td>Charlie</td>\n",
       "      <td>35.0</td>\n",
       "      <td>Plzen</td>\n",
       "      <td>NaN</td>\n",
       "    </tr>\n",
       "    <tr>\n",
       "      <th>3</th>\n",
       "      <td>David</td>\n",
       "      <td>40.0</td>\n",
       "      <td>Ostrava</td>\n",
       "      <td>200.0</td>\n",
       "    </tr>\n",
       "    <tr>\n",
       "      <th>4</th>\n",
       "      <td>Emma</td>\n",
       "      <td>NaN</td>\n",
       "      <td>NaN</td>\n",
       "      <td>150.0</td>\n",
       "    </tr>\n",
       "    <tr>\n",
       "      <th>5</th>\n",
       "      <td>Frank</td>\n",
       "      <td>NaN</td>\n",
       "      <td>NaN</td>\n",
       "      <td>250.0</td>\n",
       "    </tr>\n",
       "  </tbody>\n",
       "</table>\n",
       "</div>"
      ],
      "text/plain": [
       "     jmeno   vek    mesto  pocet_prijemcu\n",
       "0    Alice  25.0     Brno           100.0\n",
       "1      Bob  30.0    Praha             NaN\n",
       "2  Charlie  35.0    Plzen             NaN\n",
       "3    David  40.0  Ostrava           200.0\n",
       "4     Emma   NaN      NaN           150.0\n",
       "5    Frank   NaN      NaN           250.0"
      ]
     },
     "execution_count": 127,
     "metadata": {},
     "output_type": "execute_result"
    }
   ],
   "source": [
    "mergnute_df"
   ]
  },
  {
   "cell_type": "markdown",
   "id": "19493846-0a1e-41ee-b631-7e2297d314db",
   "metadata": {},
   "source": [
    "#### Spojené INNER MERGE\n",
    "\n",
    "---"
   ]
  },
  {
   "cell_type": "code",
   "execution_count": 128,
   "id": "4221d813-450f-48a3-9a24-d06d8dd70b43",
   "metadata": {
    "tags": []
   },
   "outputs": [],
   "source": [
    "mergnute_inner_df = merge(uzivatele_tab_1_df,\n",
    "                          uzivatele_tab_2_df,\n",
    "                          on='jmeno',\n",
    "                          how='inner')"
   ]
  },
  {
   "cell_type": "code",
   "execution_count": 129,
   "id": "6bcc9d19-bb1f-49ec-be5a-42fc22ef0bc7",
   "metadata": {
    "tags": []
   },
   "outputs": [
    {
     "data": {
      "text/html": [
       "<div>\n",
       "<style scoped>\n",
       "    .dataframe tbody tr th:only-of-type {\n",
       "        vertical-align: middle;\n",
       "    }\n",
       "\n",
       "    .dataframe tbody tr th {\n",
       "        vertical-align: top;\n",
       "    }\n",
       "\n",
       "    .dataframe thead th {\n",
       "        text-align: right;\n",
       "    }\n",
       "</style>\n",
       "<table border=\"1\" class=\"dataframe\">\n",
       "  <thead>\n",
       "    <tr style=\"text-align: right;\">\n",
       "      <th></th>\n",
       "      <th>jmeno</th>\n",
       "      <th>vek</th>\n",
       "      <th>mesto</th>\n",
       "      <th>pocet_prijemcu</th>\n",
       "    </tr>\n",
       "  </thead>\n",
       "  <tbody>\n",
       "    <tr>\n",
       "      <th>0</th>\n",
       "      <td>Alice</td>\n",
       "      <td>25</td>\n",
       "      <td>Brno</td>\n",
       "      <td>100</td>\n",
       "    </tr>\n",
       "    <tr>\n",
       "      <th>1</th>\n",
       "      <td>David</td>\n",
       "      <td>40</td>\n",
       "      <td>Ostrava</td>\n",
       "      <td>200</td>\n",
       "    </tr>\n",
       "  </tbody>\n",
       "</table>\n",
       "</div>"
      ],
      "text/plain": [
       "   jmeno  vek    mesto  pocet_prijemcu\n",
       "0  Alice   25     Brno             100\n",
       "1  David   40  Ostrava             200"
      ]
     },
     "execution_count": 129,
     "metadata": {},
     "output_type": "execute_result"
    }
   ],
   "source": [
    "mergnute_inner_df"
   ]
  },
  {
   "cell_type": "markdown",
   "id": "7e9ba23f-4e70-4faf-bc24-ba00b6b21e75",
   "metadata": {},
   "source": [
    "<br>\n",
    "\n",
    "Zde byla ale jména sloupců na první pohled odlišná.\n",
    "\n",
    "Ne ve všech situacích to platí:"
   ]
  },
  {
   "cell_type": "code",
   "execution_count": 130,
   "id": "d1594a97-73c4-479b-a6bb-181e315a2164",
   "metadata": {
    "tags": []
   },
   "outputs": [],
   "source": [
    "df8 = DataFrame({'jmeno': ['Bob', 'Jake', 'Lisa', 'Sue'],\n",
    "                 'poradi': [1, 2, 3, 4]})"
   ]
  },
  {
   "cell_type": "code",
   "execution_count": 131,
   "id": "7b4f169a-d8ae-444d-a719-0e1da4cc8caa",
   "metadata": {
    "tags": []
   },
   "outputs": [],
   "source": [
    "df9 = DataFrame({'jmeno': ['Bob', 'Jake', 'Lisa', 'Sue'],\n",
    "                 'poradi': [3, 1, 4, 2]})"
   ]
  },
  {
   "cell_type": "markdown",
   "id": "e4ceb54e-a4f2-4b75-a2e4-a17dc0bca7ab",
   "metadata": {},
   "source": [
    "Funkce sama **doplní přípony**, aby rozlišila **mezi oběma původními sloupci**.\n",
    "\n",
    "**Pokud potřebuješ vlastní přípony**, můžeš vyzkoušet volitelný argument pro `suffixes`:"
   ]
  },
  {
   "cell_type": "code",
   "execution_count": 132,
   "id": "1181204e-c75b-447e-afc8-f27299cb2eef",
   "metadata": {
    "tags": []
   },
   "outputs": [
    {
     "data": {
      "text/html": [
       "<div>\n",
       "<style scoped>\n",
       "    .dataframe tbody tr th:only-of-type {\n",
       "        vertical-align: middle;\n",
       "    }\n",
       "\n",
       "    .dataframe tbody tr th {\n",
       "        vertical-align: top;\n",
       "    }\n",
       "\n",
       "    .dataframe thead th {\n",
       "        text-align: right;\n",
       "    }\n",
       "</style>\n",
       "<table border=\"1\" class=\"dataframe\">\n",
       "  <thead>\n",
       "    <tr style=\"text-align: right;\">\n",
       "      <th></th>\n",
       "      <th>jmeno</th>\n",
       "      <th>poradi</th>\n",
       "    </tr>\n",
       "  </thead>\n",
       "  <tbody>\n",
       "    <tr>\n",
       "      <th>0</th>\n",
       "      <td>Bob</td>\n",
       "      <td>1</td>\n",
       "    </tr>\n",
       "    <tr>\n",
       "      <th>1</th>\n",
       "      <td>Jake</td>\n",
       "      <td>2</td>\n",
       "    </tr>\n",
       "    <tr>\n",
       "      <th>2</th>\n",
       "      <td>Lisa</td>\n",
       "      <td>3</td>\n",
       "    </tr>\n",
       "    <tr>\n",
       "      <th>3</th>\n",
       "      <td>Sue</td>\n",
       "      <td>4</td>\n",
       "    </tr>\n",
       "  </tbody>\n",
       "</table>\n",
       "</div>"
      ],
      "text/plain": [
       "  jmeno  poradi\n",
       "0   Bob       1\n",
       "1  Jake       2\n",
       "2  Lisa       3\n",
       "3   Sue       4"
      ]
     },
     "execution_count": 132,
     "metadata": {},
     "output_type": "execute_result"
    }
   ],
   "source": [
    "df8"
   ]
  },
  {
   "cell_type": "code",
   "execution_count": 133,
   "id": "c6bc971c-4b97-4224-9190-b955acadaf38",
   "metadata": {
    "tags": []
   },
   "outputs": [
    {
     "data": {
      "text/html": [
       "<div>\n",
       "<style scoped>\n",
       "    .dataframe tbody tr th:only-of-type {\n",
       "        vertical-align: middle;\n",
       "    }\n",
       "\n",
       "    .dataframe tbody tr th {\n",
       "        vertical-align: top;\n",
       "    }\n",
       "\n",
       "    .dataframe thead th {\n",
       "        text-align: right;\n",
       "    }\n",
       "</style>\n",
       "<table border=\"1\" class=\"dataframe\">\n",
       "  <thead>\n",
       "    <tr style=\"text-align: right;\">\n",
       "      <th></th>\n",
       "      <th>jmeno</th>\n",
       "      <th>poradi</th>\n",
       "    </tr>\n",
       "  </thead>\n",
       "  <tbody>\n",
       "    <tr>\n",
       "      <th>0</th>\n",
       "      <td>Bob</td>\n",
       "      <td>3</td>\n",
       "    </tr>\n",
       "    <tr>\n",
       "      <th>1</th>\n",
       "      <td>Jake</td>\n",
       "      <td>1</td>\n",
       "    </tr>\n",
       "    <tr>\n",
       "      <th>2</th>\n",
       "      <td>Lisa</td>\n",
       "      <td>4</td>\n",
       "    </tr>\n",
       "    <tr>\n",
       "      <th>3</th>\n",
       "      <td>Sue</td>\n",
       "      <td>2</td>\n",
       "    </tr>\n",
       "  </tbody>\n",
       "</table>\n",
       "</div>"
      ],
      "text/plain": [
       "  jmeno  poradi\n",
       "0   Bob       3\n",
       "1  Jake       1\n",
       "2  Lisa       4\n",
       "3   Sue       2"
      ]
     },
     "execution_count": 133,
     "metadata": {},
     "output_type": "execute_result"
    }
   ],
   "source": [
    "df9"
   ]
  },
  {
   "cell_type": "code",
   "execution_count": 134,
   "id": "882c2d82-b78e-48fc-a9a3-bf5d689900c4",
   "metadata": {
    "tags": []
   },
   "outputs": [],
   "source": [
    "vystup_konflikt = merge(df8, df9, on=\"jmeno\")"
   ]
  },
  {
   "cell_type": "code",
   "execution_count": 135,
   "id": "bf996d62-84b3-4fb7-b345-fa5fb9844828",
   "metadata": {
    "tags": []
   },
   "outputs": [
    {
     "data": {
      "text/html": [
       "<div>\n",
       "<style scoped>\n",
       "    .dataframe tbody tr th:only-of-type {\n",
       "        vertical-align: middle;\n",
       "    }\n",
       "\n",
       "    .dataframe tbody tr th {\n",
       "        vertical-align: top;\n",
       "    }\n",
       "\n",
       "    .dataframe thead th {\n",
       "        text-align: right;\n",
       "    }\n",
       "</style>\n",
       "<table border=\"1\" class=\"dataframe\">\n",
       "  <thead>\n",
       "    <tr style=\"text-align: right;\">\n",
       "      <th></th>\n",
       "      <th>jmeno</th>\n",
       "      <th>poradi_x</th>\n",
       "      <th>poradi_y</th>\n",
       "    </tr>\n",
       "  </thead>\n",
       "  <tbody>\n",
       "    <tr>\n",
       "      <th>0</th>\n",
       "      <td>Bob</td>\n",
       "      <td>1</td>\n",
       "      <td>3</td>\n",
       "    </tr>\n",
       "    <tr>\n",
       "      <th>1</th>\n",
       "      <td>Jake</td>\n",
       "      <td>2</td>\n",
       "      <td>1</td>\n",
       "    </tr>\n",
       "    <tr>\n",
       "      <th>2</th>\n",
       "      <td>Lisa</td>\n",
       "      <td>3</td>\n",
       "      <td>4</td>\n",
       "    </tr>\n",
       "    <tr>\n",
       "      <th>3</th>\n",
       "      <td>Sue</td>\n",
       "      <td>4</td>\n",
       "      <td>2</td>\n",
       "    </tr>\n",
       "  </tbody>\n",
       "</table>\n",
       "</div>"
      ],
      "text/plain": [
       "  jmeno  poradi_x  poradi_y\n",
       "0   Bob         1         3\n",
       "1  Jake         2         1\n",
       "2  Lisa         3         4\n",
       "3   Sue         4         2"
      ]
     },
     "execution_count": 135,
     "metadata": {},
     "output_type": "execute_result"
    }
   ],
   "source": [
    "vystup_konflikt"
   ]
  },
  {
   "cell_type": "code",
   "execution_count": 136,
   "id": "3eed1bd2-fcf6-4162-92c4-187f29aadc29",
   "metadata": {
    "tags": []
   },
   "outputs": [],
   "source": [
    "vystup_vlastni_pripony = merge(df8, df9, on='jmeno', suffixes=('_DF8', '_DF9'))"
   ]
  },
  {
   "cell_type": "code",
   "execution_count": 137,
   "id": "6dce8c00-2300-4d16-aa83-87c0ed8dc8fe",
   "metadata": {
    "scrolled": true,
    "tags": []
   },
   "outputs": [
    {
     "data": {
      "text/html": [
       "<div>\n",
       "<style scoped>\n",
       "    .dataframe tbody tr th:only-of-type {\n",
       "        vertical-align: middle;\n",
       "    }\n",
       "\n",
       "    .dataframe tbody tr th {\n",
       "        vertical-align: top;\n",
       "    }\n",
       "\n",
       "    .dataframe thead th {\n",
       "        text-align: right;\n",
       "    }\n",
       "</style>\n",
       "<table border=\"1\" class=\"dataframe\">\n",
       "  <thead>\n",
       "    <tr style=\"text-align: right;\">\n",
       "      <th></th>\n",
       "      <th>jmeno</th>\n",
       "      <th>poradi_DF8</th>\n",
       "      <th>poradi_DF9</th>\n",
       "    </tr>\n",
       "  </thead>\n",
       "  <tbody>\n",
       "    <tr>\n",
       "      <th>0</th>\n",
       "      <td>Bob</td>\n",
       "      <td>1</td>\n",
       "      <td>3</td>\n",
       "    </tr>\n",
       "    <tr>\n",
       "      <th>1</th>\n",
       "      <td>Jake</td>\n",
       "      <td>2</td>\n",
       "      <td>1</td>\n",
       "    </tr>\n",
       "    <tr>\n",
       "      <th>2</th>\n",
       "      <td>Lisa</td>\n",
       "      <td>3</td>\n",
       "      <td>4</td>\n",
       "    </tr>\n",
       "    <tr>\n",
       "      <th>3</th>\n",
       "      <td>Sue</td>\n",
       "      <td>4</td>\n",
       "      <td>2</td>\n",
       "    </tr>\n",
       "  </tbody>\n",
       "</table>\n",
       "</div>"
      ],
      "text/plain": [
       "  jmeno  poradi_DF8  poradi_DF9\n",
       "0   Bob           1           3\n",
       "1  Jake           2           1\n",
       "2  Lisa           3           4\n",
       "3   Sue           4           2"
      ]
     },
     "execution_count": 137,
     "metadata": {},
     "output_type": "execute_result"
    }
   ],
   "source": [
    "vystup_vlastni_pripony"
   ]
  },
  {
   "cell_type": "markdown",
   "id": "893ccd60-21fa-4780-a9fa-0bbe4e71a712",
   "metadata": {},
   "source": [
    "Obecně platí, že pokud potřebuješ *spojit* dva nebo více `DataFrame` objektů podle **společného sloupce nebo sloupců**, použij funkci `merge()`.\n",
    "\n",
    "Pokud chceš jenom **přidat další řádky nebo sloupce** do existujícího `DataFrame` objektu, použij funkci `concat`.\n",
    "\n",
    "#### Ukázka MERGE funkce s dopomocí `LEFT`"
   ]
  },
  {
   "cell_type": "code",
   "execution_count": 138,
   "id": "f7cbe2a1-d7eb-44cd-ab2a-e0b0cf455a9e",
   "metadata": {
    "tags": []
   },
   "outputs": [
    {
     "data": {
      "text/html": [
       "<div>\n",
       "<style scoped>\n",
       "    .dataframe tbody tr th:only-of-type {\n",
       "        vertical-align: middle;\n",
       "    }\n",
       "\n",
       "    .dataframe tbody tr th {\n",
       "        vertical-align: top;\n",
       "    }\n",
       "\n",
       "    .dataframe thead th {\n",
       "        text-align: right;\n",
       "    }\n",
       "</style>\n",
       "<table border=\"1\" class=\"dataframe\">\n",
       "  <thead>\n",
       "    <tr style=\"text-align: right;\">\n",
       "      <th></th>\n",
       "      <th>jmeno</th>\n",
       "      <th>vek</th>\n",
       "      <th>mesto</th>\n",
       "    </tr>\n",
       "  </thead>\n",
       "  <tbody>\n",
       "    <tr>\n",
       "      <th>0</th>\n",
       "      <td>Alice</td>\n",
       "      <td>25</td>\n",
       "      <td>Brno</td>\n",
       "    </tr>\n",
       "    <tr>\n",
       "      <th>1</th>\n",
       "      <td>Bob</td>\n",
       "      <td>30</td>\n",
       "      <td>Praha</td>\n",
       "    </tr>\n",
       "    <tr>\n",
       "      <th>2</th>\n",
       "      <td>Charlie</td>\n",
       "      <td>35</td>\n",
       "      <td>Plzen</td>\n",
       "    </tr>\n",
       "    <tr>\n",
       "      <th>3</th>\n",
       "      <td>David</td>\n",
       "      <td>40</td>\n",
       "      <td>Ostrava</td>\n",
       "    </tr>\n",
       "  </tbody>\n",
       "</table>\n",
       "</div>"
      ],
      "text/plain": [
       "     jmeno  vek    mesto\n",
       "0    Alice   25     Brno\n",
       "1      Bob   30    Praha\n",
       "2  Charlie   35    Plzen\n",
       "3    David   40  Ostrava"
      ]
     },
     "execution_count": 138,
     "metadata": {},
     "output_type": "execute_result"
    }
   ],
   "source": [
    "uzivatele_tab_1_df"
   ]
  },
  {
   "cell_type": "code",
   "execution_count": 139,
   "id": "d8ad5325-8860-4011-8171-fa0633d241da",
   "metadata": {
    "tags": []
   },
   "outputs": [
    {
     "data": {
      "text/html": [
       "<div>\n",
       "<style scoped>\n",
       "    .dataframe tbody tr th:only-of-type {\n",
       "        vertical-align: middle;\n",
       "    }\n",
       "\n",
       "    .dataframe tbody tr th {\n",
       "        vertical-align: top;\n",
       "    }\n",
       "\n",
       "    .dataframe thead th {\n",
       "        text-align: right;\n",
       "    }\n",
       "</style>\n",
       "<table border=\"1\" class=\"dataframe\">\n",
       "  <thead>\n",
       "    <tr style=\"text-align: right;\">\n",
       "      <th></th>\n",
       "      <th>jmeno</th>\n",
       "      <th>pocet_prijemcu</th>\n",
       "    </tr>\n",
       "  </thead>\n",
       "  <tbody>\n",
       "    <tr>\n",
       "      <th>0</th>\n",
       "      <td>Alice</td>\n",
       "      <td>100</td>\n",
       "    </tr>\n",
       "    <tr>\n",
       "      <th>1</th>\n",
       "      <td>David</td>\n",
       "      <td>200</td>\n",
       "    </tr>\n",
       "    <tr>\n",
       "      <th>2</th>\n",
       "      <td>Emma</td>\n",
       "      <td>150</td>\n",
       "    </tr>\n",
       "    <tr>\n",
       "      <th>3</th>\n",
       "      <td>Frank</td>\n",
       "      <td>250</td>\n",
       "    </tr>\n",
       "  </tbody>\n",
       "</table>\n",
       "</div>"
      ],
      "text/plain": [
       "   jmeno  pocet_prijemcu\n",
       "0  Alice             100\n",
       "1  David             200\n",
       "2   Emma             150\n",
       "3  Frank             250"
      ]
     },
     "execution_count": 139,
     "metadata": {},
     "output_type": "execute_result"
    }
   ],
   "source": [
    "uzivatele_tab_2_df"
   ]
  },
  {
   "cell_type": "code",
   "execution_count": 140,
   "id": "5ce9d9ea-97e9-4c04-a56f-05fc5f780a33",
   "metadata": {
    "tags": []
   },
   "outputs": [],
   "source": [
    "vystup_left_join_df = merge(uzivatele_tab_1_df,\n",
    "                            uzivatele_tab_2_df,\n",
    "                            on='jmeno',\n",
    "                            how='left')"
   ]
  },
  {
   "cell_type": "code",
   "execution_count": 141,
   "id": "0c6dee23-79fb-4a93-b6bd-b6e137cebc69",
   "metadata": {
    "tags": []
   },
   "outputs": [
    {
     "data": {
      "text/html": [
       "<div>\n",
       "<style scoped>\n",
       "    .dataframe tbody tr th:only-of-type {\n",
       "        vertical-align: middle;\n",
       "    }\n",
       "\n",
       "    .dataframe tbody tr th {\n",
       "        vertical-align: top;\n",
       "    }\n",
       "\n",
       "    .dataframe thead th {\n",
       "        text-align: right;\n",
       "    }\n",
       "</style>\n",
       "<table border=\"1\" class=\"dataframe\">\n",
       "  <thead>\n",
       "    <tr style=\"text-align: right;\">\n",
       "      <th></th>\n",
       "      <th>jmeno</th>\n",
       "      <th>vek</th>\n",
       "      <th>mesto</th>\n",
       "      <th>pocet_prijemcu</th>\n",
       "    </tr>\n",
       "  </thead>\n",
       "  <tbody>\n",
       "    <tr>\n",
       "      <th>0</th>\n",
       "      <td>Alice</td>\n",
       "      <td>25</td>\n",
       "      <td>Brno</td>\n",
       "      <td>100.0</td>\n",
       "    </tr>\n",
       "    <tr>\n",
       "      <th>1</th>\n",
       "      <td>Bob</td>\n",
       "      <td>30</td>\n",
       "      <td>Praha</td>\n",
       "      <td>NaN</td>\n",
       "    </tr>\n",
       "    <tr>\n",
       "      <th>2</th>\n",
       "      <td>Charlie</td>\n",
       "      <td>35</td>\n",
       "      <td>Plzen</td>\n",
       "      <td>NaN</td>\n",
       "    </tr>\n",
       "    <tr>\n",
       "      <th>3</th>\n",
       "      <td>David</td>\n",
       "      <td>40</td>\n",
       "      <td>Ostrava</td>\n",
       "      <td>200.0</td>\n",
       "    </tr>\n",
       "  </tbody>\n",
       "</table>\n",
       "</div>"
      ],
      "text/plain": [
       "     jmeno  vek    mesto  pocet_prijemcu\n",
       "0    Alice   25     Brno           100.0\n",
       "1      Bob   30    Praha             NaN\n",
       "2  Charlie   35    Plzen             NaN\n",
       "3    David   40  Ostrava           200.0"
      ]
     },
     "execution_count": 141,
     "metadata": {},
     "output_type": "execute_result"
    }
   ],
   "source": [
    "vystup_left_join_df"
   ]
  },
  {
   "cell_type": "markdown",
   "id": "ff38f1ea-c615-41fc-8a7a-ee278e35a54a",
   "metadata": {},
   "source": [
    "V ukázce výš je použitý *left join*.\n",
    "\n",
    "Tedy ve výsledku uvidíš **celou první** (levou tabulku) a z druhé pouze ty záznamy, které mají ve spojovacím sloupci `jmeno` společnou hodnotu."
   ]
  },
  {
   "cell_type": "code",
   "execution_count": 142,
   "id": "8c4959f7-5811-4f05-9885-5614ecb3e49a",
   "metadata": {
    "tags": []
   },
   "outputs": [],
   "source": [
    "vystup_left_join_obr_df = merge(uzivatele_tab_2_df,\n",
    "                            uzivatele_tab_1_df,\n",
    "                            on='jmeno',\n",
    "                            how='left')"
   ]
  },
  {
   "cell_type": "code",
   "execution_count": 143,
   "id": "8a8221f7-d4c5-48e3-96b0-4322b883da48",
   "metadata": {},
   "outputs": [
    {
     "data": {
      "text/html": [
       "<div>\n",
       "<style scoped>\n",
       "    .dataframe tbody tr th:only-of-type {\n",
       "        vertical-align: middle;\n",
       "    }\n",
       "\n",
       "    .dataframe tbody tr th {\n",
       "        vertical-align: top;\n",
       "    }\n",
       "\n",
       "    .dataframe thead th {\n",
       "        text-align: right;\n",
       "    }\n",
       "</style>\n",
       "<table border=\"1\" class=\"dataframe\">\n",
       "  <thead>\n",
       "    <tr style=\"text-align: right;\">\n",
       "      <th></th>\n",
       "      <th>jmeno</th>\n",
       "      <th>pocet_prijemcu</th>\n",
       "    </tr>\n",
       "  </thead>\n",
       "  <tbody>\n",
       "    <tr>\n",
       "      <th>0</th>\n",
       "      <td>Alice</td>\n",
       "      <td>100</td>\n",
       "    </tr>\n",
       "    <tr>\n",
       "      <th>1</th>\n",
       "      <td>David</td>\n",
       "      <td>200</td>\n",
       "    </tr>\n",
       "    <tr>\n",
       "      <th>2</th>\n",
       "      <td>Emma</td>\n",
       "      <td>150</td>\n",
       "    </tr>\n",
       "    <tr>\n",
       "      <th>3</th>\n",
       "      <td>Frank</td>\n",
       "      <td>250</td>\n",
       "    </tr>\n",
       "  </tbody>\n",
       "</table>\n",
       "</div>"
      ],
      "text/plain": [
       "   jmeno  pocet_prijemcu\n",
       "0  Alice             100\n",
       "1  David             200\n",
       "2   Emma             150\n",
       "3  Frank             250"
      ]
     },
     "execution_count": 143,
     "metadata": {},
     "output_type": "execute_result"
    }
   ],
   "source": [
    "uzivatele_tab_2_df"
   ]
  },
  {
   "cell_type": "code",
   "execution_count": 144,
   "id": "0750d875-4f24-4222-bda3-b99ae530fee2",
   "metadata": {},
   "outputs": [
    {
     "data": {
      "text/html": [
       "<div>\n",
       "<style scoped>\n",
       "    .dataframe tbody tr th:only-of-type {\n",
       "        vertical-align: middle;\n",
       "    }\n",
       "\n",
       "    .dataframe tbody tr th {\n",
       "        vertical-align: top;\n",
       "    }\n",
       "\n",
       "    .dataframe thead th {\n",
       "        text-align: right;\n",
       "    }\n",
       "</style>\n",
       "<table border=\"1\" class=\"dataframe\">\n",
       "  <thead>\n",
       "    <tr style=\"text-align: right;\">\n",
       "      <th></th>\n",
       "      <th>jmeno</th>\n",
       "      <th>pocet_prijemcu</th>\n",
       "      <th>vek</th>\n",
       "      <th>mesto</th>\n",
       "    </tr>\n",
       "  </thead>\n",
       "  <tbody>\n",
       "    <tr>\n",
       "      <th>0</th>\n",
       "      <td>Alice</td>\n",
       "      <td>100</td>\n",
       "      <td>25.0</td>\n",
       "      <td>Brno</td>\n",
       "    </tr>\n",
       "    <tr>\n",
       "      <th>1</th>\n",
       "      <td>David</td>\n",
       "      <td>200</td>\n",
       "      <td>40.0</td>\n",
       "      <td>Ostrava</td>\n",
       "    </tr>\n",
       "    <tr>\n",
       "      <th>2</th>\n",
       "      <td>Emma</td>\n",
       "      <td>150</td>\n",
       "      <td>NaN</td>\n",
       "      <td>NaN</td>\n",
       "    </tr>\n",
       "    <tr>\n",
       "      <th>3</th>\n",
       "      <td>Frank</td>\n",
       "      <td>250</td>\n",
       "      <td>NaN</td>\n",
       "      <td>NaN</td>\n",
       "    </tr>\n",
       "  </tbody>\n",
       "</table>\n",
       "</div>"
      ],
      "text/plain": [
       "   jmeno  pocet_prijemcu   vek    mesto\n",
       "0  Alice             100  25.0     Brno\n",
       "1  David             200  40.0  Ostrava\n",
       "2   Emma             150   NaN      NaN\n",
       "3  Frank             250   NaN      NaN"
      ]
     },
     "execution_count": 144,
     "metadata": {},
     "output_type": "execute_result"
    }
   ],
   "source": [
    "vystup_left_join_obr_df"
   ]
  },
  {
   "cell_type": "markdown",
   "id": "141fc421-f0e4-4c50-aabb-ed87a5e4403e",
   "metadata": {},
   "source": [
    "<img src=\"https://imgs.search.brave.com/-VgG6K4KBK8o5Oy7foYt_v7sPQTBbdERXhQ_ZqsqYLE/rs:fit:500:0:0:0/g:ce/aHR0cHM6Ly9hLnBp/bmF0YWZhcm0uY29t/LzUwMHgzODQvOWZj/MDU0ZTM5Zi9qb2lu/LXVzLmpwZw\" width=\"300\" style=\"margin-left:auto; margin-right:auto\"/>"
   ]
  },
  {
   "cell_type": "markdown",
   "id": "20223162-3be6-408d-b8eb-9861e40aa81f",
   "metadata": {},
   "source": [
    "### Spojení pomocí indexů, `JOIN`\n",
    "\n",
    "---\n",
    "\n",
    "Tato metoda slouží k propojení dvou `DataFrame` objektů na základě **jejich indexů nebo hodnot**.\n",
    "\n",
    "Je velice podobná funkci `merge` ale je přímo součástí `DataFrame` objektu a je snazší ji aplikovat:"
   ]
  },
  {
   "cell_type": "code",
   "execution_count": 145,
   "id": "633aef14-bf73-4ae8-9a31-b75d0d7d176f",
   "metadata": {
    "tags": []
   },
   "outputs": [],
   "source": [
    "uzivatele_1 = {'jmeno': ['Alice', 'Bob', 'Petr'],\n",
    "               'vek': [25, 30, 35]}"
   ]
  },
  {
   "cell_type": "code",
   "execution_count": 146,
   "id": "e7efc3b1-fbfd-47be-bb96-89e76d90e8d8",
   "metadata": {
    "tags": []
   },
   "outputs": [],
   "source": [
    "uzivatele_2 = {'jmeno': ['Alice', 'Bob', 'Petr'],\n",
    "               'pocet_prijemcu': [100, 150, 200]}"
   ]
  },
  {
   "cell_type": "code",
   "execution_count": 147,
   "id": "d6ea0391-ff76-45e8-beb1-766f11183199",
   "metadata": {
    "tags": []
   },
   "outputs": [],
   "source": [
    "df_uzivatele_1 = DataFrame(uzivatele_1)\n",
    "df_uzivatele_2 = DataFrame(uzivatele_2)"
   ]
  },
  {
   "cell_type": "code",
   "execution_count": 148,
   "id": "b4b7695b-0ce5-463c-b323-799912c8f1db",
   "metadata": {
    "tags": []
   },
   "outputs": [
    {
     "data": {
      "text/html": [
       "<div>\n",
       "<style scoped>\n",
       "    .dataframe tbody tr th:only-of-type {\n",
       "        vertical-align: middle;\n",
       "    }\n",
       "\n",
       "    .dataframe tbody tr th {\n",
       "        vertical-align: top;\n",
       "    }\n",
       "\n",
       "    .dataframe thead th {\n",
       "        text-align: right;\n",
       "    }\n",
       "</style>\n",
       "<table border=\"1\" class=\"dataframe\">\n",
       "  <thead>\n",
       "    <tr style=\"text-align: right;\">\n",
       "      <th></th>\n",
       "      <th>jmeno</th>\n",
       "      <th>vek</th>\n",
       "    </tr>\n",
       "  </thead>\n",
       "  <tbody>\n",
       "    <tr>\n",
       "      <th>0</th>\n",
       "      <td>Alice</td>\n",
       "      <td>25</td>\n",
       "    </tr>\n",
       "    <tr>\n",
       "      <th>1</th>\n",
       "      <td>Bob</td>\n",
       "      <td>30</td>\n",
       "    </tr>\n",
       "    <tr>\n",
       "      <th>2</th>\n",
       "      <td>Petr</td>\n",
       "      <td>35</td>\n",
       "    </tr>\n",
       "  </tbody>\n",
       "</table>\n",
       "</div>"
      ],
      "text/plain": [
       "   jmeno  vek\n",
       "0  Alice   25\n",
       "1    Bob   30\n",
       "2   Petr   35"
      ]
     },
     "execution_count": 148,
     "metadata": {},
     "output_type": "execute_result"
    }
   ],
   "source": [
    "df_uzivatele_1"
   ]
  },
  {
   "cell_type": "code",
   "execution_count": 149,
   "id": "5a006f4d-92ab-4157-a462-4a6695eee030",
   "metadata": {
    "tags": []
   },
   "outputs": [
    {
     "data": {
      "text/html": [
       "<div>\n",
       "<style scoped>\n",
       "    .dataframe tbody tr th:only-of-type {\n",
       "        vertical-align: middle;\n",
       "    }\n",
       "\n",
       "    .dataframe tbody tr th {\n",
       "        vertical-align: top;\n",
       "    }\n",
       "\n",
       "    .dataframe thead th {\n",
       "        text-align: right;\n",
       "    }\n",
       "</style>\n",
       "<table border=\"1\" class=\"dataframe\">\n",
       "  <thead>\n",
       "    <tr style=\"text-align: right;\">\n",
       "      <th></th>\n",
       "      <th>jmeno</th>\n",
       "      <th>pocet_prijemcu</th>\n",
       "    </tr>\n",
       "  </thead>\n",
       "  <tbody>\n",
       "    <tr>\n",
       "      <th>0</th>\n",
       "      <td>Alice</td>\n",
       "      <td>100</td>\n",
       "    </tr>\n",
       "    <tr>\n",
       "      <th>1</th>\n",
       "      <td>Bob</td>\n",
       "      <td>150</td>\n",
       "    </tr>\n",
       "    <tr>\n",
       "      <th>2</th>\n",
       "      <td>Petr</td>\n",
       "      <td>200</td>\n",
       "    </tr>\n",
       "  </tbody>\n",
       "</table>\n",
       "</div>"
      ],
      "text/plain": [
       "   jmeno  pocet_prijemcu\n",
       "0  Alice             100\n",
       "1    Bob             150\n",
       "2   Petr             200"
      ]
     },
     "execution_count": 149,
     "metadata": {},
     "output_type": "execute_result"
    }
   ],
   "source": [
    "df_uzivatele_2"
   ]
  },
  {
   "cell_type": "code",
   "execution_count": 150,
   "id": "6fd74545-5277-46bf-ae46-2821e0495028",
   "metadata": {
    "tags": []
   },
   "outputs": [
    {
     "data": {
      "text/plain": [
       "True"
      ]
     },
     "execution_count": 150,
     "metadata": {},
     "output_type": "execute_result"
    }
   ],
   "source": [
    "df_uzivatele_2.index.names == df_uzivatele_1.index.names == [None]"
   ]
  },
  {
   "cell_type": "code",
   "execution_count": 151,
   "id": "e3b800bb-198c-41bc-9a02-78ef8d7b103f",
   "metadata": {
    "tags": []
   },
   "outputs": [],
   "source": [
    "uzivatele_1_df = df_uzivatele_1.set_index('jmeno')"
   ]
  },
  {
   "cell_type": "code",
   "execution_count": 152,
   "id": "31bf4986-4153-440b-98b8-ceed912615db",
   "metadata": {
    "tags": []
   },
   "outputs": [],
   "source": [
    "uzivatele_2_df = df_uzivatele_2.set_index('jmeno')"
   ]
  },
  {
   "cell_type": "code",
   "execution_count": 153,
   "id": "f16e1b54-e7b8-48d8-9c3f-069723a17558",
   "metadata": {
    "tags": []
   },
   "outputs": [
    {
     "data": {
      "text/html": [
       "<div>\n",
       "<style scoped>\n",
       "    .dataframe tbody tr th:only-of-type {\n",
       "        vertical-align: middle;\n",
       "    }\n",
       "\n",
       "    .dataframe tbody tr th {\n",
       "        vertical-align: top;\n",
       "    }\n",
       "\n",
       "    .dataframe thead th {\n",
       "        text-align: right;\n",
       "    }\n",
       "</style>\n",
       "<table border=\"1\" class=\"dataframe\">\n",
       "  <thead>\n",
       "    <tr style=\"text-align: right;\">\n",
       "      <th></th>\n",
       "      <th>vek</th>\n",
       "    </tr>\n",
       "    <tr>\n",
       "      <th>jmeno</th>\n",
       "      <th></th>\n",
       "    </tr>\n",
       "  </thead>\n",
       "  <tbody>\n",
       "    <tr>\n",
       "      <th>Alice</th>\n",
       "      <td>25</td>\n",
       "    </tr>\n",
       "    <tr>\n",
       "      <th>Bob</th>\n",
       "      <td>30</td>\n",
       "    </tr>\n",
       "    <tr>\n",
       "      <th>Petr</th>\n",
       "      <td>35</td>\n",
       "    </tr>\n",
       "  </tbody>\n",
       "</table>\n",
       "</div>"
      ],
      "text/plain": [
       "       vek\n",
       "jmeno     \n",
       "Alice   25\n",
       "Bob     30\n",
       "Petr    35"
      ]
     },
     "execution_count": 153,
     "metadata": {},
     "output_type": "execute_result"
    }
   ],
   "source": [
    "uzivatele_1_df"
   ]
  },
  {
   "cell_type": "code",
   "execution_count": 154,
   "id": "c11242fc-6458-4d11-9da7-d6eed77dec65",
   "metadata": {
    "tags": []
   },
   "outputs": [
    {
     "data": {
      "text/html": [
       "<div>\n",
       "<style scoped>\n",
       "    .dataframe tbody tr th:only-of-type {\n",
       "        vertical-align: middle;\n",
       "    }\n",
       "\n",
       "    .dataframe tbody tr th {\n",
       "        vertical-align: top;\n",
       "    }\n",
       "\n",
       "    .dataframe thead th {\n",
       "        text-align: right;\n",
       "    }\n",
       "</style>\n",
       "<table border=\"1\" class=\"dataframe\">\n",
       "  <thead>\n",
       "    <tr style=\"text-align: right;\">\n",
       "      <th></th>\n",
       "      <th>pocet_prijemcu</th>\n",
       "    </tr>\n",
       "    <tr>\n",
       "      <th>jmeno</th>\n",
       "      <th></th>\n",
       "    </tr>\n",
       "  </thead>\n",
       "  <tbody>\n",
       "    <tr>\n",
       "      <th>Alice</th>\n",
       "      <td>100</td>\n",
       "    </tr>\n",
       "    <tr>\n",
       "      <th>Bob</th>\n",
       "      <td>150</td>\n",
       "    </tr>\n",
       "    <tr>\n",
       "      <th>Petr</th>\n",
       "      <td>200</td>\n",
       "    </tr>\n",
       "  </tbody>\n",
       "</table>\n",
       "</div>"
      ],
      "text/plain": [
       "       pocet_prijemcu\n",
       "jmeno                \n",
       "Alice             100\n",
       "Bob               150\n",
       "Petr              200"
      ]
     },
     "execution_count": 154,
     "metadata": {},
     "output_type": "execute_result"
    }
   ],
   "source": [
    "uzivatele_2_df"
   ]
  },
  {
   "cell_type": "code",
   "execution_count": 155,
   "id": "cbbe0114-fba2-461d-9ced-7dd25e6afbc2",
   "metadata": {
    "tags": []
   },
   "outputs": [],
   "source": [
    "vysledek_join_metody = uzivatele_1_df.join(uzivatele_2_df)"
   ]
  },
  {
   "cell_type": "code",
   "execution_count": 156,
   "id": "7b6f326f-7bfe-4f75-bcf2-a0ceca44f349",
   "metadata": {
    "tags": []
   },
   "outputs": [
    {
     "data": {
      "text/html": [
       "<div>\n",
       "<style scoped>\n",
       "    .dataframe tbody tr th:only-of-type {\n",
       "        vertical-align: middle;\n",
       "    }\n",
       "\n",
       "    .dataframe tbody tr th {\n",
       "        vertical-align: top;\n",
       "    }\n",
       "\n",
       "    .dataframe thead th {\n",
       "        text-align: right;\n",
       "    }\n",
       "</style>\n",
       "<table border=\"1\" class=\"dataframe\">\n",
       "  <thead>\n",
       "    <tr style=\"text-align: right;\">\n",
       "      <th></th>\n",
       "      <th>vek</th>\n",
       "      <th>pocet_prijemcu</th>\n",
       "    </tr>\n",
       "    <tr>\n",
       "      <th>jmeno</th>\n",
       "      <th></th>\n",
       "      <th></th>\n",
       "    </tr>\n",
       "  </thead>\n",
       "  <tbody>\n",
       "    <tr>\n",
       "      <th>Alice</th>\n",
       "      <td>25</td>\n",
       "      <td>100</td>\n",
       "    </tr>\n",
       "    <tr>\n",
       "      <th>Bob</th>\n",
       "      <td>30</td>\n",
       "      <td>150</td>\n",
       "    </tr>\n",
       "    <tr>\n",
       "      <th>Petr</th>\n",
       "      <td>35</td>\n",
       "      <td>200</td>\n",
       "    </tr>\n",
       "  </tbody>\n",
       "</table>\n",
       "</div>"
      ],
      "text/plain": [
       "       vek  pocet_prijemcu\n",
       "jmeno                     \n",
       "Alice   25             100\n",
       "Bob     30             150\n",
       "Petr    35             200"
      ]
     },
     "execution_count": 156,
     "metadata": {},
     "output_type": "execute_result"
    }
   ],
   "source": [
    "vysledek_join_metody"
   ]
  },
  {
   "cell_type": "markdown",
   "id": "12bb08a7-65b7-46eb-8350-1f5edc493ed4",
   "metadata": {},
   "source": [
    "Hlavní rozdíl mezi těmito funkcemi je způsob určení **sloupce nebo sloupců**, podle kterých se má propojení provést.\n",
    "\n",
    "1. Metoda `join()` propojuje DataFrame objekty **na základě jejich Indexů**.\n",
    "2. Funkce `merge()` umožňuje propojit `DataFrame` objekty **na základě hodnoty v jednom nebo více sloupcích**."
   ]
  },
  {
   "cell_type": "markdown",
   "id": "83338d3c-7b7f-40f6-bbe6-0fb18efb17ed",
   "metadata": {},
   "source": [
    "## 📑Souhrn ke spojování\n",
    "\n",
    "---"
   ]
  },
  {
   "cell_type": "markdown",
   "id": "f2a1e3b0-e506-42cb-9f83-5640499832f6",
   "metadata": {},
   "source": [
    "| Objekt | Kdy jej použít? | Směr spojení |\n",
    "| :- | :- | :- |\n",
    "| `concat` | Když chceš poskládat tabulky na sebe (řádky) nebo vedle sebe (sloupce). | Vertikálně / Horizontálně | \n",
    "| `merge` |\tKdyž chcete spojit tabulky podle společného klíče/sloupce, podobně jako SQL JOIN. | Horizontálně |\n",
    "| `join` | Když chcete spojit tabulky podle společného Indexu (ne klíče/sloupce). | Horizontálně |\n",
    "| `append` | (Zastaralé) Používalo se k přidání řádků, nyní používejte concat. | Vertikálně |"
   ]
  },
  {
   "cell_type": "markdown",
   "id": "f2951487-42b9-44ed-9de4-4ae3451824cf",
   "metadata": {},
   "source": [
    "<br>\n",
    "\n",
    "**🧠 CVIČENÍ 🧠, procvič si spojování**"
   ]
  },
  {
   "cell_type": "markdown",
   "id": "6f5eebe9-25b9-46d3-8ca3-c40a8bd36ece",
   "metadata": {},
   "source": [
    "Tvým úkolem je propojit tyto tabulky podle zadání:\n",
    "1. Použij spojovací funkci pro spojení objektů typu `DataFrame` , které vytvoříš z proměnných `data_zamestnanci_1` a `data_zamestnanci_2`,\n",
    "2. použij spojovací funkci, které zadáš vzniklý objekt typu `DataFrame`  z bodu 1. a druhý `DataFrame`, který vytvoříš z proměnné `data_oddeleni` (spoj přes sloupeček `\"oddělení_id\"`),\n",
    "3. vytvoř výsledný objekt typu `DataFrame` , který obsahuje pouze zaměstnance z oddělení `IT`."
   ]
  },
  {
   "cell_type": "code",
   "execution_count": 157,
   "id": "0bcc307e-01fc-4866-8c1a-7c38a6d6181d",
   "metadata": {
    "tags": []
   },
   "outputs": [],
   "source": [
    "data_zamestnanci_1 = {\n",
    "    'id': [1, 2, 3],\n",
    "    'jméno': ['Jan', 'Marie', 'Petr'],\n",
    "    'příjmení': ['Novák', 'Svobodová', 'Dvořák'],\n",
    "    'oddělení_id': [100, 200, 100]\n",
    "}\n",
    "\n",
    "data_zamestnanci_2 = {\n",
    "    'id': [4, 5],\n",
    "    'jméno': ['Anna', 'Josef'],\n",
    "    'příjmení': ['Kopecká', 'Vondráček'],\n",
    "    'oddělení_id': [200, 100]\n",
    "}\n",
    "\n",
    "data_oddeleni = {\n",
    "    'oddělení_id': [100, 200],\n",
    "    'název_oddělení': ['IT', 'HR']\n",
    "}"
   ]
  },
  {
   "cell_type": "code",
   "execution_count": null,
   "id": "42885f30-b329-4b28-ae1c-1a0738b86dc9",
   "metadata": {},
   "outputs": [],
   "source": []
  },
  {
   "cell_type": "code",
   "execution_count": null,
   "id": "68e532c1-6822-4853-a2a9-5c342e6d3095",
   "metadata": {},
   "outputs": [],
   "source": []
  },
  {
   "cell_type": "markdown",
   "id": "7b8b3ec4-f154-432e-8eca-ebaed96445b1",
   "metadata": {},
   "source": [
    "<details>\n",
    "    <summary>▶️ Řešení</summary>\n",
    "    \n",
    "```python\n",
    "df_zamestnanci_1 = pd.DataFrame(data_zamestnanci_1)\n",
    "df_zamestnanci_2 = pd.DataFrame(data_zamestnanci_2)\n",
    "df_oddeleni = pd.DataFrame(data_oddeleni)\n",
    "\n",
    "df_vsichni_zamestnanci = pd.concat([df_zamestnanci_1, df_zamestnanci_2], ignore_index=True)\n",
    "\n",
    "# df1 = pd.concat(\n",
    "#     [pd.DataFrame(data) for data in [data_zamestnanci_1, data_zamestnanci_2]]\n",
    "# ).reset_index(drop = True).set_index('id')\n",
    "\n",
    "df_vsechna_oddeleni = pd.merge(df_vsichni_zamestnanci, df_oddeleni, on=\"oddělení_id\")\n",
    "\n",
    "df_jen_it = df_vsechna_oddeleni[df_vsechna_oddeleni[\"název_oddělení\"] == \"IT\"]\n",
    "```\n",
    "</details>"
   ]
  },
  {
   "cell_type": "markdown",
   "id": "ffad1756-41e3-4a8a-96eb-5191de54c6bd",
   "metadata": {},
   "source": [
    "---"
   ]
  }
 ],
 "metadata": {
  "kernelspec": {
   "display_name": "Python 3 (ipykernel)",
   "language": "python",
   "name": "python3"
  },
  "language_info": {
   "codemirror_mode": {
    "name": "ipython",
    "version": 3
   },
   "file_extension": ".py",
   "mimetype": "text/x-python",
   "name": "python",
   "nbconvert_exporter": "python",
   "pygments_lexer": "ipython3",
   "version": "3.8.10"
  }
 },
 "nbformat": 4,
 "nbformat_minor": 5
}

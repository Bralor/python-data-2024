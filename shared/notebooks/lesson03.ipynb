{
 "cells": [
  {
   "cell_type": "markdown",
   "id": "be12ac13-7b29-4178-9960-96b23b2a0480",
   "metadata": {},
   "source": [
    "# Python Data, 2024\n",
    "\n",
    "---"
   ]
  },
  {
   "cell_type": "markdown",
   "id": "3bd42711-2b11-4c2c-abf2-10a3086f7741",
   "metadata": {},
   "source": [
    "* [Spojování dat](#Spojování-dat),\n",
    "    - [spojování s concat](#Spojování-s-concat),\n",
    "    - [spojování s concat a arg. join](#concat-a-volitelný-argument-join),\n",
    "    - [spojování s metodou append](#Spojování-pomocí-metody-APPEND),\n",
    "    - [spojování s merge](#Spojování-pomocí-merge),\n",
    "    - [spojování s metodou join](#Spojení-pomocí-indexů,-join),\n",
    "    - [cvičení 1]().\n",
    "* [Agregace](#Agregace),\n",
    "    - [jednoduchá agregace](#Jednoduchá-agregace),\n",
    "    - [seskupování groupby](#Seskupování-groupby),\n",
    "    - [agregace](#Agregace-s-metodami),\n",
    "    - [filtrování](#Filtrování),\n",
    "    - [transformace](#Transformace),\n",
    "    - [apply](#Metoda-apply),\n",
    "    - [cvičení 2]().\n",
    "* [Pivot tabulka](#Pivot-tabulky),\n",
    "    - [úvodní motivace](),\n",
    "    - [syntaxe tabulky](),\n",
    "    - [doplňující možnosti](),\n",
    "    - [cvičení 3]()."
   ]
  },
  {
   "cell_type": "markdown",
   "id": "790d92d0-ef33-49f8-9c21-1e188972097b",
   "metadata": {},
   "source": [
    "\n",
    "\n",
    "<img src=\"https://external-content.duckduckgo.com/iu/?u=https%3A%2F%2Ftse1.mm.bing.net%2Fth%3Fid%3DOIP.APOjuHGvkM0wQaUx9ELKAgHaHa%26pid%3DApi&f=1&ipt=a8b2b692c40e190d4b28c164bf13e6c944702a69944035a4ef9053aa6ea1b190&ipo=images\" width=\"160\" style=\"margin-left:auto; margin-right:auto\"/>"
   ]
  },
  {
   "cell_type": "markdown",
   "id": "476d0b01-c1d4-4b96-b9bb-ac4db5910d71",
   "metadata": {},
   "source": [
    "<br>\n",
    "\n",
    "## Spojování dat\n",
    "\n",
    "---\n",
    "\n",
    "Takovými operacemi si můžeš představit jednoduché operace jako **spojování** (*konkatenace*) **dvou a více datasetů** až po složitější *JOINY* podobně jako u databází.\n",
    "\n",
    "`pandas` obsahuje různé *funkce* a *metody*, které umožňují tento způsob práce."
   ]
  },
  {
   "cell_type": "markdown",
   "id": "b9be8c0b-1c8c-4579-b5ac-b5b732b219c0",
   "metadata": {},
   "source": [
    "* funkce `concat`,\n",
    "* funkce `merge`,\n",
    "* metoda `append` (outdated),\n",
    "* metoda `join`."
   ]
  },
  {
   "cell_type": "markdown",
   "id": "969f0749-be1e-4521-b653-7f6098d4f1a3",
   "metadata": {},
   "source": [
    "### Spojování s CONCAT\n",
    "\n",
    "---"
   ]
  },
  {
   "cell_type": "markdown",
   "id": "db455b3f-4d85-414d-abc1-45e722b6f64b",
   "metadata": {},
   "source": [
    "Funkce `concat()` v `pandas` umožňuje spojit **dva nebo více**:\n",
    "1. **sloupečků** tabulky,\n",
    "    - *horizontálně*, po sloupcích,\n",
    "    - *vertikálně*, po Indexech,\n",
    "3. **tabulek** samotných,\n",
    "    - *horizontálně*, po sloupcích,\n",
    "    - *vertikálně*, po Indexech,\n",
    "\n",
    "Použití funkce `concat()` spočívá **v předání seznamu objektů**, které chceš spojit, a parametru `axis`, který určuje osu, podle které se májí objekty spojit:"
   ]
  },
  {
   "cell_type": "markdown",
   "id": "33b4d898-86bc-4126-80be-bcbae8921490",
   "metadata": {},
   "source": [
    "#### Spojení sloupečků, CONCAT\n",
    "\n",
    "---"
   ]
  },
  {
   "cell_type": "code",
   "execution_count": 1,
   "id": "72ae4dd7-eb09-45b8-aefb-99d94865c322",
   "metadata": {
    "tags": []
   },
   "outputs": [],
   "source": [
    "from pandas import concat, Series, DataFrame"
   ]
  },
  {
   "cell_type": "code",
   "execution_count": 2,
   "id": "375df825-8292-4813-92cc-c0416feeed64",
   "metadata": {
    "tags": []
   },
   "outputs": [],
   "source": [
    "sloupec_1 = Series(['A', 'B', 'C'], index=[1, 2, 3])\n",
    "sloupec_2 = Series(['D', 'E', 'F'], index=[4, 5, 6])"
   ]
  },
  {
   "cell_type": "code",
   "execution_count": 3,
   "id": "a644ef7e-809d-4fd9-abba-189991ff8992",
   "metadata": {
    "tags": []
   },
   "outputs": [
    {
     "data": {
      "text/plain": [
       "1    A\n",
       "2    B\n",
       "3    C\n",
       "dtype: object"
      ]
     },
     "execution_count": 3,
     "metadata": {},
     "output_type": "execute_result"
    }
   ],
   "source": [
    "sloupec_1"
   ]
  },
  {
   "cell_type": "code",
   "execution_count": 4,
   "id": "2e7d6286-bbfb-45a5-960c-db7f886c61c1",
   "metadata": {
    "tags": []
   },
   "outputs": [
    {
     "data": {
      "text/plain": [
       "4    D\n",
       "5    E\n",
       "6    F\n",
       "dtype: object"
      ]
     },
     "execution_count": 4,
     "metadata": {},
     "output_type": "execute_result"
    }
   ],
   "source": [
    "sloupec_2"
   ]
  },
  {
   "cell_type": "code",
   "execution_count": 5,
   "id": "da5391d7-7e8b-4d62-bc44-ac2da898ffdc",
   "metadata": {
    "tags": []
   },
   "outputs": [],
   "source": [
    "spojene_sloupce = concat([sloupec_1, sloupec_2])"
   ]
  },
  {
   "cell_type": "markdown",
   "id": "b7178ec8-3065-4221-8d3a-9360ec2618c1",
   "metadata": {},
   "source": [
    "<br>\n",
    "\n",
    "Spojení **horizontální** (pod sebou):"
   ]
  },
  {
   "cell_type": "code",
   "execution_count": 6,
   "id": "64ac7fdc-822c-4c2e-b237-c030650c598c",
   "metadata": {
    "tags": []
   },
   "outputs": [],
   "source": [
    "horizontalni_spoj = concat([sloupec_1, sloupec_2], axis=1)"
   ]
  },
  {
   "cell_type": "code",
   "execution_count": 7,
   "id": "c3b53d7d-c887-472d-b8ed-46e8f10a4e50",
   "metadata": {},
   "outputs": [
    {
     "data": {
      "text/html": [
       "<div>\n",
       "<style scoped>\n",
       "    .dataframe tbody tr th:only-of-type {\n",
       "        vertical-align: middle;\n",
       "    }\n",
       "\n",
       "    .dataframe tbody tr th {\n",
       "        vertical-align: top;\n",
       "    }\n",
       "\n",
       "    .dataframe thead th {\n",
       "        text-align: right;\n",
       "    }\n",
       "</style>\n",
       "<table border=\"1\" class=\"dataframe\">\n",
       "  <thead>\n",
       "    <tr style=\"text-align: right;\">\n",
       "      <th></th>\n",
       "      <th>0</th>\n",
       "      <th>1</th>\n",
       "    </tr>\n",
       "  </thead>\n",
       "  <tbody>\n",
       "    <tr>\n",
       "      <th>1</th>\n",
       "      <td>A</td>\n",
       "      <td>NaN</td>\n",
       "    </tr>\n",
       "    <tr>\n",
       "      <th>2</th>\n",
       "      <td>B</td>\n",
       "      <td>NaN</td>\n",
       "    </tr>\n",
       "    <tr>\n",
       "      <th>3</th>\n",
       "      <td>C</td>\n",
       "      <td>NaN</td>\n",
       "    </tr>\n",
       "    <tr>\n",
       "      <th>4</th>\n",
       "      <td>NaN</td>\n",
       "      <td>D</td>\n",
       "    </tr>\n",
       "    <tr>\n",
       "      <th>5</th>\n",
       "      <td>NaN</td>\n",
       "      <td>E</td>\n",
       "    </tr>\n",
       "    <tr>\n",
       "      <th>6</th>\n",
       "      <td>NaN</td>\n",
       "      <td>F</td>\n",
       "    </tr>\n",
       "  </tbody>\n",
       "</table>\n",
       "</div>"
      ],
      "text/plain": [
       "     0    1\n",
       "1    A  NaN\n",
       "2    B  NaN\n",
       "3    C  NaN\n",
       "4  NaN    D\n",
       "5  NaN    E\n",
       "6  NaN    F"
      ]
     },
     "execution_count": 7,
     "metadata": {},
     "output_type": "execute_result"
    }
   ],
   "source": [
    "horizontalni_spoj"
   ]
  },
  {
   "cell_type": "markdown",
   "id": "7bc1d256-3b75-4426-bd09-79123301c85e",
   "metadata": {},
   "source": [
    "<br>\n",
    "\n",
    "Spojení **vertikální** (vedle sebe):"
   ]
  },
  {
   "cell_type": "code",
   "execution_count": 8,
   "id": "648625ec-03c6-4277-943f-acb53b507c8f",
   "metadata": {
    "tags": []
   },
   "outputs": [],
   "source": [
    "vertikalni_spoj = concat([sloupec_1, sloupec_2], axis=0)"
   ]
  },
  {
   "cell_type": "code",
   "execution_count": 9,
   "id": "2254cc8c-bf16-454a-b68a-9288fb54ec64",
   "metadata": {
    "tags": []
   },
   "outputs": [
    {
     "data": {
      "text/plain": [
       "1    A\n",
       "2    B\n",
       "3    C\n",
       "4    D\n",
       "5    E\n",
       "6    F\n",
       "dtype: object"
      ]
     },
     "execution_count": 9,
     "metadata": {},
     "output_type": "execute_result"
    }
   ],
   "source": [
    "vertikalni_spoj"
   ]
  },
  {
   "cell_type": "markdown",
   "id": "4a4665ca-69b9-4410-a803-3c58d60370eb",
   "metadata": {},
   "source": [
    "<br>\n",
    "\n",
    "#### Spojení tabulek, CONCAT\n",
    "\n",
    "---"
   ]
  },
  {
   "cell_type": "code",
   "execution_count": 12,
   "id": "35311e59-0ec5-44f3-b6bb-b924a176ac2f",
   "metadata": {
    "tags": []
   },
   "outputs": [],
   "source": [
    "uzivatele_tab_1 = {'jmeno': ['Matouš', 'Marek', 'Lukáš'],\n",
    "               'vek': [25, 30, 35]}"
   ]
  },
  {
   "cell_type": "code",
   "execution_count": 13,
   "id": "a5c374d6-1181-417f-96db-5039b0358660",
   "metadata": {
    "tags": []
   },
   "outputs": [],
   "source": [
    "uzivatele_tab_2 = {'jmeno': ['Petr', 'Jan', 'Michal'],\n",
    "                   'vek': [40, 45, 50]}"
   ]
  },
  {
   "cell_type": "code",
   "execution_count": 14,
   "id": "ad4422ca-df80-4e54-9f01-6b32134590fe",
   "metadata": {
    "tags": []
   },
   "outputs": [],
   "source": [
    "uzivatele_tab_1_df = DataFrame(uzivatele_tab_1)\n",
    "uzivatele_tab_2_df = DataFrame(uzivatele_tab_2)"
   ]
  },
  {
   "cell_type": "code",
   "execution_count": 15,
   "id": "3765781b-ae1d-4356-a477-9a9ce1db48a1",
   "metadata": {
    "tags": []
   },
   "outputs": [
    {
     "data": {
      "text/html": [
       "<div>\n",
       "<style scoped>\n",
       "    .dataframe tbody tr th:only-of-type {\n",
       "        vertical-align: middle;\n",
       "    }\n",
       "\n",
       "    .dataframe tbody tr th {\n",
       "        vertical-align: top;\n",
       "    }\n",
       "\n",
       "    .dataframe thead th {\n",
       "        text-align: right;\n",
       "    }\n",
       "</style>\n",
       "<table border=\"1\" class=\"dataframe\">\n",
       "  <thead>\n",
       "    <tr style=\"text-align: right;\">\n",
       "      <th></th>\n",
       "      <th>jmeno</th>\n",
       "      <th>vek</th>\n",
       "    </tr>\n",
       "  </thead>\n",
       "  <tbody>\n",
       "    <tr>\n",
       "      <th>0</th>\n",
       "      <td>Matouš</td>\n",
       "      <td>25</td>\n",
       "    </tr>\n",
       "    <tr>\n",
       "      <th>1</th>\n",
       "      <td>Marek</td>\n",
       "      <td>30</td>\n",
       "    </tr>\n",
       "    <tr>\n",
       "      <th>2</th>\n",
       "      <td>Lukáš</td>\n",
       "      <td>35</td>\n",
       "    </tr>\n",
       "  </tbody>\n",
       "</table>\n",
       "</div>"
      ],
      "text/plain": [
       "    jmeno  vek\n",
       "0  Matouš   25\n",
       "1   Marek   30\n",
       "2   Lukáš   35"
      ]
     },
     "execution_count": 15,
     "metadata": {},
     "output_type": "execute_result"
    }
   ],
   "source": [
    "uzivatele_tab_1_df"
   ]
  },
  {
   "cell_type": "code",
   "execution_count": 16,
   "id": "29266ba0-0a7a-4657-866d-fb6b3d82287f",
   "metadata": {
    "tags": []
   },
   "outputs": [
    {
     "data": {
      "text/html": [
       "<div>\n",
       "<style scoped>\n",
       "    .dataframe tbody tr th:only-of-type {\n",
       "        vertical-align: middle;\n",
       "    }\n",
       "\n",
       "    .dataframe tbody tr th {\n",
       "        vertical-align: top;\n",
       "    }\n",
       "\n",
       "    .dataframe thead th {\n",
       "        text-align: right;\n",
       "    }\n",
       "</style>\n",
       "<table border=\"1\" class=\"dataframe\">\n",
       "  <thead>\n",
       "    <tr style=\"text-align: right;\">\n",
       "      <th></th>\n",
       "      <th>jmeno</th>\n",
       "      <th>vek</th>\n",
       "    </tr>\n",
       "  </thead>\n",
       "  <tbody>\n",
       "    <tr>\n",
       "      <th>0</th>\n",
       "      <td>Petr</td>\n",
       "      <td>40</td>\n",
       "    </tr>\n",
       "    <tr>\n",
       "      <th>1</th>\n",
       "      <td>Jan</td>\n",
       "      <td>45</td>\n",
       "    </tr>\n",
       "    <tr>\n",
       "      <th>2</th>\n",
       "      <td>Michal</td>\n",
       "      <td>50</td>\n",
       "    </tr>\n",
       "  </tbody>\n",
       "</table>\n",
       "</div>"
      ],
      "text/plain": [
       "    jmeno  vek\n",
       "0    Petr   40\n",
       "1     Jan   45\n",
       "2  Michal   50"
      ]
     },
     "execution_count": 16,
     "metadata": {},
     "output_type": "execute_result"
    }
   ],
   "source": [
    "uzivatele_tab_2_df"
   ]
  },
  {
   "cell_type": "markdown",
   "id": "d8c73b0e-f51e-44bf-988c-ddb4314266b0",
   "metadata": {},
   "source": [
    "\n",
    "#### Samotné spojení dvou tabulek\n",
    "\n",
    "---"
   ]
  },
  {
   "cell_type": "code",
   "execution_count": 17,
   "id": "ce04792a-270c-4dce-960f-bbd801b6306e",
   "metadata": {
    "tags": []
   },
   "outputs": [],
   "source": [
    "df_spojene_tab = concat([uzivatele_tab_1_df, uzivatele_tab_2_df], axis=0)"
   ]
  },
  {
   "cell_type": "code",
   "execution_count": 18,
   "id": "86971418-4198-4cf1-b339-9c091f1cbfb1",
   "metadata": {
    "tags": []
   },
   "outputs": [
    {
     "data": {
      "text/html": [
       "<div>\n",
       "<style scoped>\n",
       "    .dataframe tbody tr th:only-of-type {\n",
       "        vertical-align: middle;\n",
       "    }\n",
       "\n",
       "    .dataframe tbody tr th {\n",
       "        vertical-align: top;\n",
       "    }\n",
       "\n",
       "    .dataframe thead th {\n",
       "        text-align: right;\n",
       "    }\n",
       "</style>\n",
       "<table border=\"1\" class=\"dataframe\">\n",
       "  <thead>\n",
       "    <tr style=\"text-align: right;\">\n",
       "      <th></th>\n",
       "      <th>jmeno</th>\n",
       "      <th>vek</th>\n",
       "    </tr>\n",
       "  </thead>\n",
       "  <tbody>\n",
       "    <tr>\n",
       "      <th>0</th>\n",
       "      <td>Matouš</td>\n",
       "      <td>25</td>\n",
       "    </tr>\n",
       "    <tr>\n",
       "      <th>1</th>\n",
       "      <td>Marek</td>\n",
       "      <td>30</td>\n",
       "    </tr>\n",
       "    <tr>\n",
       "      <th>2</th>\n",
       "      <td>Lukáš</td>\n",
       "      <td>35</td>\n",
       "    </tr>\n",
       "    <tr>\n",
       "      <th>0</th>\n",
       "      <td>Petr</td>\n",
       "      <td>40</td>\n",
       "    </tr>\n",
       "    <tr>\n",
       "      <th>1</th>\n",
       "      <td>Jan</td>\n",
       "      <td>45</td>\n",
       "    </tr>\n",
       "    <tr>\n",
       "      <th>2</th>\n",
       "      <td>Michal</td>\n",
       "      <td>50</td>\n",
       "    </tr>\n",
       "  </tbody>\n",
       "</table>\n",
       "</div>"
      ],
      "text/plain": [
       "    jmeno  vek\n",
       "0  Matouš   25\n",
       "1   Marek   30\n",
       "2   Lukáš   35\n",
       "0    Petr   40\n",
       "1     Jan   45\n",
       "2  Michal   50"
      ]
     },
     "execution_count": 18,
     "metadata": {},
     "output_type": "execute_result"
    }
   ],
   "source": [
    "df_spojene_tab"
   ]
  },
  {
   "cell_type": "markdown",
   "id": "dd41a1cf-2f68-41f0-b483-9f25a26f46dc",
   "metadata": {},
   "source": [
    "#### Co s duplicitními Indexy?\n",
    "\n",
    "---"
   ]
  },
  {
   "cell_type": "markdown",
   "id": "5623de41-d544-4a0c-94a6-4459a94bb5d1",
   "metadata": {},
   "source": [
    "Tady se ovšem **zduplikovali hodnoty** některých indexů.\n",
    "\n",
    "Ty je potřeba opravit tímto postupem:\n",
    "1. **Vytvořím nový sloupeček** pro indexy,\n",
    "2. **odstraním starý sloupeček** s duplicitami."
   ]
  },
  {
   "cell_type": "code",
   "execution_count": 19,
   "id": "03c422e2-caf0-48dd-bdde-b6eb9d5b8dbf",
   "metadata": {
    "tags": []
   },
   "outputs": [],
   "source": [
    "df_spojene_tab = df_spojene_tab.reset_index()  # Přidá nový Index"
   ]
  },
  {
   "cell_type": "code",
   "execution_count": 20,
   "id": "322556f5-362f-42bf-8780-7fa1f9ff427c",
   "metadata": {
    "tags": []
   },
   "outputs": [
    {
     "data": {
      "text/html": [
       "<div>\n",
       "<style scoped>\n",
       "    .dataframe tbody tr th:only-of-type {\n",
       "        vertical-align: middle;\n",
       "    }\n",
       "\n",
       "    .dataframe tbody tr th {\n",
       "        vertical-align: top;\n",
       "    }\n",
       "\n",
       "    .dataframe thead th {\n",
       "        text-align: right;\n",
       "    }\n",
       "</style>\n",
       "<table border=\"1\" class=\"dataframe\">\n",
       "  <thead>\n",
       "    <tr style=\"text-align: right;\">\n",
       "      <th></th>\n",
       "      <th>index</th>\n",
       "      <th>jmeno</th>\n",
       "      <th>vek</th>\n",
       "    </tr>\n",
       "  </thead>\n",
       "  <tbody>\n",
       "    <tr>\n",
       "      <th>0</th>\n",
       "      <td>0</td>\n",
       "      <td>Matouš</td>\n",
       "      <td>25</td>\n",
       "    </tr>\n",
       "    <tr>\n",
       "      <th>1</th>\n",
       "      <td>1</td>\n",
       "      <td>Marek</td>\n",
       "      <td>30</td>\n",
       "    </tr>\n",
       "    <tr>\n",
       "      <th>2</th>\n",
       "      <td>2</td>\n",
       "      <td>Lukáš</td>\n",
       "      <td>35</td>\n",
       "    </tr>\n",
       "    <tr>\n",
       "      <th>3</th>\n",
       "      <td>0</td>\n",
       "      <td>Petr</td>\n",
       "      <td>40</td>\n",
       "    </tr>\n",
       "    <tr>\n",
       "      <th>4</th>\n",
       "      <td>1</td>\n",
       "      <td>Jan</td>\n",
       "      <td>45</td>\n",
       "    </tr>\n",
       "    <tr>\n",
       "      <th>5</th>\n",
       "      <td>2</td>\n",
       "      <td>Michal</td>\n",
       "      <td>50</td>\n",
       "    </tr>\n",
       "  </tbody>\n",
       "</table>\n",
       "</div>"
      ],
      "text/plain": [
       "   index   jmeno  vek\n",
       "0      0  Matouš   25\n",
       "1      1   Marek   30\n",
       "2      2   Lukáš   35\n",
       "3      0    Petr   40\n",
       "4      1     Jan   45\n",
       "5      2  Michal   50"
      ]
     },
     "execution_count": 20,
     "metadata": {},
     "output_type": "execute_result"
    }
   ],
   "source": [
    "df_spojene_tab"
   ]
  },
  {
   "cell_type": "code",
   "execution_count": 22,
   "id": "9845897b-1399-436e-b600-64e9be6b5de6",
   "metadata": {
    "tags": []
   },
   "outputs": [],
   "source": [
    "df_spojene_tab = df_spojene_tab.drop(\"index\", axis=1)"
   ]
  },
  {
   "cell_type": "markdown",
   "id": "9b8d3948-bbda-440d-a5c5-92b5c70c6a0c",
   "metadata": {},
   "source": [
    "<br>\n",
    "\n",
    "Kontrola nového rozsahu **pro Index**:"
   ]
  },
  {
   "cell_type": "code",
   "execution_count": 24,
   "id": "3561712e-e822-4651-aef3-10137ecc1e43",
   "metadata": {
    "tags": []
   },
   "outputs": [
    {
     "data": {
      "text/plain": [
       "RangeIndex(start=0, stop=6, step=1)"
      ]
     },
     "execution_count": 24,
     "metadata": {},
     "output_type": "execute_result"
    }
   ],
   "source": [
    "df_spojene_tab.index"
   ]
  },
  {
   "cell_type": "markdown",
   "id": "12fea673-e22c-4fa0-8cca-bcf3dc427f43",
   "metadata": {},
   "source": [
    "<br>\n",
    "\n",
    "Pozůstatky sloupečků:"
   ]
  },
  {
   "cell_type": "code",
   "execution_count": 25,
   "id": "d21e7014-0144-4a03-8cea-8e16bdb31d2e",
   "metadata": {
    "tags": []
   },
   "outputs": [
    {
     "data": {
      "text/plain": [
       "Index(['jmeno', 'vek'], dtype='object')"
      ]
     },
     "execution_count": 25,
     "metadata": {},
     "output_type": "execute_result"
    }
   ],
   "source": [
    "df_spojene_tab.columns"
   ]
  },
  {
   "cell_type": "code",
   "execution_count": 26,
   "id": "4d4c8649-3efb-4e27-9dc4-32373fb8905b",
   "metadata": {
    "tags": []
   },
   "outputs": [
    {
     "data": {
      "text/html": [
       "<div>\n",
       "<style scoped>\n",
       "    .dataframe tbody tr th:only-of-type {\n",
       "        vertical-align: middle;\n",
       "    }\n",
       "\n",
       "    .dataframe tbody tr th {\n",
       "        vertical-align: top;\n",
       "    }\n",
       "\n",
       "    .dataframe thead th {\n",
       "        text-align: right;\n",
       "    }\n",
       "</style>\n",
       "<table border=\"1\" class=\"dataframe\">\n",
       "  <thead>\n",
       "    <tr style=\"text-align: right;\">\n",
       "      <th></th>\n",
       "      <th>jmeno</th>\n",
       "      <th>vek</th>\n",
       "    </tr>\n",
       "  </thead>\n",
       "  <tbody>\n",
       "    <tr>\n",
       "      <th>0</th>\n",
       "      <td>Matouš</td>\n",
       "      <td>25</td>\n",
       "    </tr>\n",
       "    <tr>\n",
       "      <th>1</th>\n",
       "      <td>Marek</td>\n",
       "      <td>30</td>\n",
       "    </tr>\n",
       "    <tr>\n",
       "      <th>2</th>\n",
       "      <td>Lukáš</td>\n",
       "      <td>35</td>\n",
       "    </tr>\n",
       "    <tr>\n",
       "      <th>3</th>\n",
       "      <td>Petr</td>\n",
       "      <td>40</td>\n",
       "    </tr>\n",
       "    <tr>\n",
       "      <th>4</th>\n",
       "      <td>Jan</td>\n",
       "      <td>45</td>\n",
       "    </tr>\n",
       "    <tr>\n",
       "      <th>5</th>\n",
       "      <td>Michal</td>\n",
       "      <td>50</td>\n",
       "    </tr>\n",
       "  </tbody>\n",
       "</table>\n",
       "</div>"
      ],
      "text/plain": [
       "    jmeno  vek\n",
       "0  Matouš   25\n",
       "1   Marek   30\n",
       "2   Lukáš   35\n",
       "3    Petr   40\n",
       "4     Jan   45\n",
       "5  Michal   50"
      ]
     },
     "execution_count": 26,
     "metadata": {},
     "output_type": "execute_result"
    }
   ],
   "source": [
    "df_spojene_tab"
   ]
  },
  {
   "cell_type": "markdown",
   "id": "239203f3-587a-45d7-ac10-fd2fceb24e86",
   "metadata": {},
   "source": [
    "<br>\n",
    "\n",
    "Nastavení nových Indexů **podle jmen**:"
   ]
  },
  {
   "cell_type": "code",
   "execution_count": 31,
   "id": "cdf63655-6832-4dcc-9df5-34ac384346bb",
   "metadata": {
    "tags": []
   },
   "outputs": [
    {
     "data": {
      "text/plain": [
       "\u001b[0;31mType:\u001b[0m        property\n",
       "\u001b[0;31mString form:\u001b[0m <property object at 0x7f0eb75c7c70>\n",
       "\u001b[0;31mDocstring:\u001b[0m   <no docstring>"
      ]
     },
     "metadata": {},
     "output_type": "display_data"
    }
   ],
   "source": [
    "df_spojene_tab.index.names?"
   ]
  },
  {
   "cell_type": "markdown",
   "id": "1ce60593-89d7-4624-a733-ee3bdfa850e0",
   "metadata": {},
   "source": [
    "<br>\n",
    "\n",
    "Doplníš jméno **pro Index**:"
   ]
  },
  {
   "cell_type": "code",
   "execution_count": 33,
   "id": "8011785b-d5b9-445a-b35a-7e47520215be",
   "metadata": {
    "tags": []
   },
   "outputs": [],
   "source": [
    "df_spojene_tab.index.names = [\"Index ze jmén\"]"
   ]
  },
  {
   "cell_type": "code",
   "execution_count": 34,
   "id": "e790c374-2baf-4b18-8e03-a46fd394d8cf",
   "metadata": {
    "tags": []
   },
   "outputs": [
    {
     "data": {
      "text/plain": [
       "FrozenList(['Index ze jmén'])"
      ]
     },
     "execution_count": 34,
     "metadata": {},
     "output_type": "execute_result"
    }
   ],
   "source": [
    "df_spojene_tab.index.names"
   ]
  },
  {
   "cell_type": "code",
   "execution_count": 35,
   "id": "c2aab8f8-aca8-4918-8e9c-a452b2c0e909",
   "metadata": {
    "tags": []
   },
   "outputs": [
    {
     "data": {
      "text/html": [
       "<div>\n",
       "<style scoped>\n",
       "    .dataframe tbody tr th:only-of-type {\n",
       "        vertical-align: middle;\n",
       "    }\n",
       "\n",
       "    .dataframe tbody tr th {\n",
       "        vertical-align: top;\n",
       "    }\n",
       "\n",
       "    .dataframe thead th {\n",
       "        text-align: right;\n",
       "    }\n",
       "</style>\n",
       "<table border=\"1\" class=\"dataframe\">\n",
       "  <thead>\n",
       "    <tr style=\"text-align: right;\">\n",
       "      <th></th>\n",
       "      <th>jmeno</th>\n",
       "      <th>vek</th>\n",
       "    </tr>\n",
       "    <tr>\n",
       "      <th>Index ze jmén</th>\n",
       "      <th></th>\n",
       "      <th></th>\n",
       "    </tr>\n",
       "  </thead>\n",
       "  <tbody>\n",
       "    <tr>\n",
       "      <th>0</th>\n",
       "      <td>Matouš</td>\n",
       "      <td>25</td>\n",
       "    </tr>\n",
       "    <tr>\n",
       "      <th>1</th>\n",
       "      <td>Marek</td>\n",
       "      <td>30</td>\n",
       "    </tr>\n",
       "    <tr>\n",
       "      <th>2</th>\n",
       "      <td>Lukáš</td>\n",
       "      <td>35</td>\n",
       "    </tr>\n",
       "    <tr>\n",
       "      <th>3</th>\n",
       "      <td>Petr</td>\n",
       "      <td>40</td>\n",
       "    </tr>\n",
       "    <tr>\n",
       "      <th>4</th>\n",
       "      <td>Jan</td>\n",
       "      <td>45</td>\n",
       "    </tr>\n",
       "    <tr>\n",
       "      <th>5</th>\n",
       "      <td>Michal</td>\n",
       "      <td>50</td>\n",
       "    </tr>\n",
       "  </tbody>\n",
       "</table>\n",
       "</div>"
      ],
      "text/plain": [
       "                jmeno  vek\n",
       "Index ze jmén             \n",
       "0              Matouš   25\n",
       "1               Marek   30\n",
       "2               Lukáš   35\n",
       "3                Petr   40\n",
       "4                 Jan   45\n",
       "5              Michal   50"
      ]
     },
     "execution_count": 35,
     "metadata": {},
     "output_type": "execute_result"
    }
   ],
   "source": [
    "df_spojene_tab"
   ]
  },
  {
   "cell_type": "markdown",
   "id": "c2c5aa6b-4e12-4572-8a3a-f1c32d25b6bd",
   "metadata": {},
   "source": [
    "Pro odchytávání **duplicitních indexů** můžeš doplnit parametr `verify_integrity=True`, případně pokud je irelevantní, ignorovat jej úplně `ignore_index=True`."
   ]
  },
  {
   "cell_type": "code",
   "execution_count": null,
   "id": "e34c9556-912c-4d4a-8b7c-2b574dc38d45",
   "metadata": {},
   "outputs": [],
   "source": []
  },
  {
   "cell_type": "markdown",
   "id": "550f7b18-212f-41b5-b8f9-2aeb50a7ff0d",
   "metadata": {},
   "source": [
    "<br>\n",
    "\n",
    "**🧠 CVIČENÍ 🧠, procvič si funkcí CONCAT**"
   ]
  },
  {
   "cell_type": "code",
   "execution_count": 84,
   "id": "c86e736d-4e86-4a28-8468-cddab1c18037",
   "metadata": {},
   "outputs": [],
   "source": [
    "data_populace = {\n",
    "    \"City\": [\"New York\", \"London\", \"Tokyo\"],\n",
    "    \"Population\": [8.4, 9.0, 13.9],\n",
    "}\n",
    "\n",
    "data_plocha = {\n",
    "    \"City\": [\"New York\", \"London\", \"Tokyo\"],\n",
    "    \"Area\": [783, 1572, 2194],\n",
    "}\n",
    "\n",
    "data_kontinent = {\n",
    "    \"City\": [\"New York\", \"London\", \"Tokyo\"],\n",
    "    \"Continent\": [\"North America\", \"Europe\", \"Asia\"],\n",
    "}"
   ]
  },
  {
   "cell_type": "markdown",
   "id": "f1c188bf-4bcd-4a5a-a64b-f12e5a97f272",
   "metadata": {},
   "source": [
    "<details>\n",
    "    <summary>▶️ Řešení</summary>\n",
    "    \n",
    "```python\n",
    "from pandas import DataFrame, concat\n",
    "\n",
    "data_populace = {\n",
    "    \"City\": [\"New York\", \"London\", \"Tokyo\"],\n",
    "    \"Population\": [8.4, 9.0, 13.9],\n",
    "}\n",
    "\n",
    "data_plocha = {\n",
    "    \"City\": [\"New York\", \"London\", \"Tokyo\"],\n",
    "    \"Area\": [783, 1572, 2194],\n",
    "}\n",
    "\n",
    "data_kontinent = {\n",
    "    \"City\": [\"New York\", \"London\", \"Tokyo\"],\n",
    "    \"Continent\": [\"North America\", \"Europe\", \"Asia\"],\n",
    "}\n",
    "\n",
    "populace_df = DataFrame(data_populace)\n",
    "plocha_df = DataFrame(data_plocha)\n",
    "kontinent_df = DataFrame(data_kontinent)\n",
    "\n",
    "\n",
    "def spoj_data_mest(populace, plocha, kontinent):\n",
    "    \"\"\"\n",
    "    Spojí tři tabulky horizontálně podle sloupce City.\n",
    "    \"\"\"\n",
    "    return concat([populace.set_index(\"City\"),\n",
    "                      plocha.set_index(\"City\"),\n",
    "                      kontinent.set_index(\"City\")], axis=1).reset_index()\n",
    "\n",
    "\n",
    "result = spoj_data_mest(populace_df, plocha_df, kontinent_df)\n",
    "print(result)\n",
    "```\n",
    "</details>"
   ]
  },
  {
   "cell_type": "markdown",
   "id": "100edc1d-6820-4fed-bf1b-2b4a89771625",
   "metadata": {},
   "source": [
    "<img src=\"https://imgs.search.brave.com/wR9sz6BPwR_LCDm6Esd_B9VgUBSbW4wbTPi2T9DrdBc/rs:fit:500:0:0:0/g:ce/aHR0cHM6Ly90NC5m/dGNkbi5uZXQvanBn/LzA4LzQwLzM1LzIx/LzM2MF9GXzg0MDM1/MjE1Ml84N1N2T0kx/REM2RElCaHkxc0xz/VnpnYmNIUk1UZno0/cC5qcGc\" width=\"230\" style=\"margin-left:auto; margin-right:auto\"/>"
   ]
  },
  {
   "cell_type": "markdown",
   "id": "45204c76-11e0-4017-9dfd-b36462d4a3ee",
   "metadata": {},
   "source": [
    "### CONCAT a volitelný argument JOIN\n",
    "\n",
    "---\n",
    "\n",
    "V jednoduchých ukázkách, jako jsou ty výše, stačilo **tabulky a sloupečky spojit**.\n",
    "\n",
    "To prakticky není vždy ideální řešení, protože některé sloupečky můžou, **ale nemusí být shodné**."
   ]
  },
  {
   "cell_type": "code",
   "execution_count": 36,
   "id": "763529ea-621b-47e5-aef4-352899250736",
   "metadata": {
    "tags": []
   },
   "outputs": [],
   "source": [
    "from pandas import DataFrame, concat"
   ]
  },
  {
   "cell_type": "code",
   "execution_count": 37,
   "id": "2c86c4b6-f51e-4020-85ad-345f04ddb349",
   "metadata": {
    "tags": []
   },
   "outputs": [],
   "source": [
    "data_tab_1_df = DataFrame(\n",
    "    {\"A\": [\"A1\", \"A2\"], \"B\": [\"B1\", \"B2\"], \"C\": [\"C1\", \"C2\"]},\n",
    "    index=[1, 2]\n",
    ")"
   ]
  },
  {
   "cell_type": "code",
   "execution_count": 38,
   "id": "d6f7f59f-7661-4933-be46-9c93fb3de969",
   "metadata": {
    "tags": []
   },
   "outputs": [],
   "source": [
    "data_tab_2_df = DataFrame(\n",
    "    {\"B\": [\"B3\", \"B4\"], \"C\": [\"C3\", \"C4\"], \"D\": [\"D3\", \"D4\"]},\n",
    "    index=[3, 4]\n",
    ")"
   ]
  },
  {
   "cell_type": "code",
   "execution_count": 39,
   "id": "2fb26593-938c-42fd-b409-289256193b37",
   "metadata": {
    "tags": []
   },
   "outputs": [
    {
     "data": {
      "text/html": [
       "<div>\n",
       "<style scoped>\n",
       "    .dataframe tbody tr th:only-of-type {\n",
       "        vertical-align: middle;\n",
       "    }\n",
       "\n",
       "    .dataframe tbody tr th {\n",
       "        vertical-align: top;\n",
       "    }\n",
       "\n",
       "    .dataframe thead th {\n",
       "        text-align: right;\n",
       "    }\n",
       "</style>\n",
       "<table border=\"1\" class=\"dataframe\">\n",
       "  <thead>\n",
       "    <tr style=\"text-align: right;\">\n",
       "      <th></th>\n",
       "      <th>A</th>\n",
       "      <th>B</th>\n",
       "      <th>C</th>\n",
       "    </tr>\n",
       "  </thead>\n",
       "  <tbody>\n",
       "    <tr>\n",
       "      <th>1</th>\n",
       "      <td>A1</td>\n",
       "      <td>B1</td>\n",
       "      <td>C1</td>\n",
       "    </tr>\n",
       "    <tr>\n",
       "      <th>2</th>\n",
       "      <td>A2</td>\n",
       "      <td>B2</td>\n",
       "      <td>C2</td>\n",
       "    </tr>\n",
       "  </tbody>\n",
       "</table>\n",
       "</div>"
      ],
      "text/plain": [
       "    A   B   C\n",
       "1  A1  B1  C1\n",
       "2  A2  B2  C2"
      ]
     },
     "execution_count": 39,
     "metadata": {},
     "output_type": "execute_result"
    }
   ],
   "source": [
    "data_tab_1_df"
   ]
  },
  {
   "cell_type": "code",
   "execution_count": 40,
   "id": "184cf959-797e-4eaf-b060-78eeab0272c4",
   "metadata": {
    "tags": []
   },
   "outputs": [
    {
     "data": {
      "text/html": [
       "<div>\n",
       "<style scoped>\n",
       "    .dataframe tbody tr th:only-of-type {\n",
       "        vertical-align: middle;\n",
       "    }\n",
       "\n",
       "    .dataframe tbody tr th {\n",
       "        vertical-align: top;\n",
       "    }\n",
       "\n",
       "    .dataframe thead th {\n",
       "        text-align: right;\n",
       "    }\n",
       "</style>\n",
       "<table border=\"1\" class=\"dataframe\">\n",
       "  <thead>\n",
       "    <tr style=\"text-align: right;\">\n",
       "      <th></th>\n",
       "      <th>B</th>\n",
       "      <th>C</th>\n",
       "      <th>D</th>\n",
       "    </tr>\n",
       "  </thead>\n",
       "  <tbody>\n",
       "    <tr>\n",
       "      <th>3</th>\n",
       "      <td>B3</td>\n",
       "      <td>C3</td>\n",
       "      <td>D3</td>\n",
       "    </tr>\n",
       "    <tr>\n",
       "      <th>4</th>\n",
       "      <td>B4</td>\n",
       "      <td>C4</td>\n",
       "      <td>D4</td>\n",
       "    </tr>\n",
       "  </tbody>\n",
       "</table>\n",
       "</div>"
      ],
      "text/plain": [
       "    B   C   D\n",
       "3  B3  C3  D3\n",
       "4  B4  C4  D4"
      ]
     },
     "execution_count": 40,
     "metadata": {},
     "output_type": "execute_result"
    }
   ],
   "source": [
    "data_tab_2_df"
   ]
  },
  {
   "cell_type": "markdown",
   "id": "4c720053-c3f8-4893-9015-63c425912408",
   "metadata": {},
   "source": [
    "\n",
    "#### Horizontální spojení dvou tabulek\n",
    "\n",
    "---"
   ]
  },
  {
   "cell_type": "code",
   "execution_count": 41,
   "id": "fa296049-c68b-4852-83a9-a4849db26ec1",
   "metadata": {
    "tags": []
   },
   "outputs": [],
   "source": [
    "vystup_tab_df = concat([data_tab_1_df, data_tab_2_df])  # axis=0"
   ]
  },
  {
   "cell_type": "code",
   "execution_count": 43,
   "id": "18cf4d97-241b-4f2e-a8b9-abbb4c50bb2d",
   "metadata": {
    "tags": []
   },
   "outputs": [
    {
     "data": {
      "text/html": [
       "<div>\n",
       "<style scoped>\n",
       "    .dataframe tbody tr th:only-of-type {\n",
       "        vertical-align: middle;\n",
       "    }\n",
       "\n",
       "    .dataframe tbody tr th {\n",
       "        vertical-align: top;\n",
       "    }\n",
       "\n",
       "    .dataframe thead th {\n",
       "        text-align: right;\n",
       "    }\n",
       "</style>\n",
       "<table border=\"1\" class=\"dataframe\">\n",
       "  <thead>\n",
       "    <tr style=\"text-align: right;\">\n",
       "      <th></th>\n",
       "      <th>A</th>\n",
       "      <th>B</th>\n",
       "      <th>C</th>\n",
       "      <th>D</th>\n",
       "    </tr>\n",
       "  </thead>\n",
       "  <tbody>\n",
       "    <tr>\n",
       "      <th>1</th>\n",
       "      <td>A1</td>\n",
       "      <td>B1</td>\n",
       "      <td>C1</td>\n",
       "      <td>NaN</td>\n",
       "    </tr>\n",
       "    <tr>\n",
       "      <th>2</th>\n",
       "      <td>A2</td>\n",
       "      <td>B2</td>\n",
       "      <td>C2</td>\n",
       "      <td>NaN</td>\n",
       "    </tr>\n",
       "    <tr>\n",
       "      <th>3</th>\n",
       "      <td>NaN</td>\n",
       "      <td>B3</td>\n",
       "      <td>C3</td>\n",
       "      <td>D3</td>\n",
       "    </tr>\n",
       "    <tr>\n",
       "      <th>4</th>\n",
       "      <td>NaN</td>\n",
       "      <td>B4</td>\n",
       "      <td>C4</td>\n",
       "      <td>D4</td>\n",
       "    </tr>\n",
       "  </tbody>\n",
       "</table>\n",
       "</div>"
      ],
      "text/plain": [
       "     A   B   C    D\n",
       "1   A1  B1  C1  NaN\n",
       "2   A2  B2  C2  NaN\n",
       "3  NaN  B3  C3   D3\n",
       "4  NaN  B4  C4   D4"
      ]
     },
     "execution_count": 43,
     "metadata": {},
     "output_type": "execute_result"
    }
   ],
   "source": [
    "vystup_tab_df"
   ]
  },
  {
   "cell_type": "markdown",
   "id": "8902715e-1df5-42e4-b0a7-9c87eb05ea21",
   "metadata": {},
   "source": [
    "Pokud některá data chybějí, jsou automaticky vyplněná **neznámými hodnotami**.\n",
    "\n",
    "Řešením takové situace můžeš být zavedení jiného **způsobu spojování**.\n",
    "\n",
    "Tedy nepoužívat defaultní argument `join='outer'`, ale `join='inner'`:"
   ]
  },
  {
   "cell_type": "code",
   "execution_count": 51,
   "id": "ace35369-2102-44ee-8b89-81ca27dc93dd",
   "metadata": {
    "tags": []
   },
   "outputs": [],
   "source": [
    "vystup_bez_nan_df = concat([data_tab_1_df, data_tab_2_df],\n",
    "                           join='inner',\n",
    "                           axis=0)"
   ]
  },
  {
   "cell_type": "code",
   "execution_count": 52,
   "id": "d82287a1-46ba-45a7-ba88-da85975d41c4",
   "metadata": {
    "tags": []
   },
   "outputs": [
    {
     "data": {
      "text/html": [
       "<div>\n",
       "<style scoped>\n",
       "    .dataframe tbody tr th:only-of-type {\n",
       "        vertical-align: middle;\n",
       "    }\n",
       "\n",
       "    .dataframe tbody tr th {\n",
       "        vertical-align: top;\n",
       "    }\n",
       "\n",
       "    .dataframe thead th {\n",
       "        text-align: right;\n",
       "    }\n",
       "</style>\n",
       "<table border=\"1\" class=\"dataframe\">\n",
       "  <thead>\n",
       "    <tr style=\"text-align: right;\">\n",
       "      <th></th>\n",
       "      <th>B</th>\n",
       "      <th>C</th>\n",
       "    </tr>\n",
       "  </thead>\n",
       "  <tbody>\n",
       "    <tr>\n",
       "      <th>1</th>\n",
       "      <td>B1</td>\n",
       "      <td>C1</td>\n",
       "    </tr>\n",
       "    <tr>\n",
       "      <th>2</th>\n",
       "      <td>B2</td>\n",
       "      <td>C2</td>\n",
       "    </tr>\n",
       "    <tr>\n",
       "      <th>3</th>\n",
       "      <td>B3</td>\n",
       "      <td>C3</td>\n",
       "    </tr>\n",
       "    <tr>\n",
       "      <th>4</th>\n",
       "      <td>B4</td>\n",
       "      <td>C4</td>\n",
       "    </tr>\n",
       "  </tbody>\n",
       "</table>\n",
       "</div>"
      ],
      "text/plain": [
       "    B   C\n",
       "1  B1  C1\n",
       "2  B2  C2\n",
       "3  B3  C3\n",
       "4  B4  C4"
      ]
     },
     "execution_count": 52,
     "metadata": {},
     "output_type": "execute_result"
    }
   ],
   "source": [
    "vystup_bez_nan_df"
   ]
  },
  {
   "cell_type": "markdown",
   "id": "6d3f6a21-8368-46bb-b1ca-5c838fbf9f5f",
   "metadata": {},
   "source": [
    "<img src=\"https://imgs.search.brave.com/IZ8jkD1GaDV2tXwgwzM1Xawk-jBMejygby1KcermQp8/rs:fit:500:0:0:0/g:ce/aHR0cHM6Ly90NC5m/dGNkbi5uZXQvanBn/LzA4LzQ2LzQ3LzE1/LzM2MF9GXzg0NjQ3/MTU2MF95Y281RnhM/UG5RR1c4NW1OWHBD/UmcxUWptSzRiMnp3/eS5qcGc\" width=\"200\" style=\"margin-left:auto; margin-right:auto\"/>\n",
    "\n"
   ]
  },
  {
   "cell_type": "markdown",
   "id": "4acecf05-8147-4eaa-a1da-e92f23773de7",
   "metadata": {},
   "source": [
    "### Spojování pomocí `MERGE`\n",
    "\n",
    "---\n",
    "\n",
    "Další funkcí pro spojování `DataFrame` objektů je `merge`.\n",
    "\n",
    "Tato funkce je vhodná pro spojování DataFrame objektů, které **mají společné sloupce**.\n",
    "\n",
    "Můžeš lépe zadávat typ spojení (parametr `how='inner' | 'outer' | 'left' | 'join'`).\n",
    "\n",
    "Dále ti umožní **definovat sloupec, nebo sloupce**, na kterých chceš spojení provést (parametr `on`)."
   ]
  },
  {
   "cell_type": "code",
   "execution_count": 53,
   "id": "20598d3f-7b23-4f4d-9a01-619ec8ec3521",
   "metadata": {
    "tags": []
   },
   "outputs": [],
   "source": [
    "from pandas import merge"
   ]
  },
  {
   "cell_type": "code",
   "execution_count": 55,
   "id": "465cdc22-c9a5-43e0-a110-fed701304e6a",
   "metadata": {
    "tags": []
   },
   "outputs": [],
   "source": [
    "uzivatele_tab_1 = {\n",
    "    'jmeno': ['Alice', 'Bob', 'Charlie', 'David'],\n",
    "    'vek': [25, 30, 35, 40],\n",
    "    'mesto': ['Brno', 'Praha', 'Plzen', 'Ostrava']\n",
    "}"
   ]
  },
  {
   "cell_type": "code",
   "execution_count": 56,
   "id": "c4b86dc3-cf15-4a93-912d-6d15d9c7a00d",
   "metadata": {
    "tags": []
   },
   "outputs": [],
   "source": [
    "uzivatele_tab_2 = {\n",
    "    'jmeno': ['Alice', 'David', 'Emma', 'Frank'],\n",
    "    'pocet_prijemcu': [100, 200, 150, 250]\n",
    "}"
   ]
  },
  {
   "cell_type": "code",
   "execution_count": 57,
   "id": "f4749c22-a3c0-4795-8055-b73f9db4add0",
   "metadata": {
    "tags": []
   },
   "outputs": [],
   "source": [
    "uzivatele_tab_1_df = DataFrame(uzivatele_tab_1)\n",
    "uzivatele_tab_2_df = DataFrame(uzivatele_tab_2)"
   ]
  },
  {
   "cell_type": "code",
   "execution_count": 58,
   "id": "8bbf35f8-5181-47b7-8eba-100b062b8840",
   "metadata": {
    "tags": []
   },
   "outputs": [
    {
     "data": {
      "text/html": [
       "<div>\n",
       "<style scoped>\n",
       "    .dataframe tbody tr th:only-of-type {\n",
       "        vertical-align: middle;\n",
       "    }\n",
       "\n",
       "    .dataframe tbody tr th {\n",
       "        vertical-align: top;\n",
       "    }\n",
       "\n",
       "    .dataframe thead th {\n",
       "        text-align: right;\n",
       "    }\n",
       "</style>\n",
       "<table border=\"1\" class=\"dataframe\">\n",
       "  <thead>\n",
       "    <tr style=\"text-align: right;\">\n",
       "      <th></th>\n",
       "      <th>jmeno</th>\n",
       "      <th>vek</th>\n",
       "      <th>mesto</th>\n",
       "    </tr>\n",
       "  </thead>\n",
       "  <tbody>\n",
       "    <tr>\n",
       "      <th>0</th>\n",
       "      <td>Alice</td>\n",
       "      <td>25</td>\n",
       "      <td>Brno</td>\n",
       "    </tr>\n",
       "    <tr>\n",
       "      <th>1</th>\n",
       "      <td>Bob</td>\n",
       "      <td>30</td>\n",
       "      <td>Praha</td>\n",
       "    </tr>\n",
       "    <tr>\n",
       "      <th>2</th>\n",
       "      <td>Charlie</td>\n",
       "      <td>35</td>\n",
       "      <td>Plzen</td>\n",
       "    </tr>\n",
       "    <tr>\n",
       "      <th>3</th>\n",
       "      <td>David</td>\n",
       "      <td>40</td>\n",
       "      <td>Ostrava</td>\n",
       "    </tr>\n",
       "  </tbody>\n",
       "</table>\n",
       "</div>"
      ],
      "text/plain": [
       "     jmeno  vek    mesto\n",
       "0    Alice   25     Brno\n",
       "1      Bob   30    Praha\n",
       "2  Charlie   35    Plzen\n",
       "3    David   40  Ostrava"
      ]
     },
     "execution_count": 58,
     "metadata": {},
     "output_type": "execute_result"
    }
   ],
   "source": [
    "uzivatele_tab_1_df"
   ]
  },
  {
   "cell_type": "code",
   "execution_count": 59,
   "id": "f34d0a67-2437-42e7-a97c-59fcdce0591a",
   "metadata": {
    "tags": []
   },
   "outputs": [
    {
     "data": {
      "text/html": [
       "<div>\n",
       "<style scoped>\n",
       "    .dataframe tbody tr th:only-of-type {\n",
       "        vertical-align: middle;\n",
       "    }\n",
       "\n",
       "    .dataframe tbody tr th {\n",
       "        vertical-align: top;\n",
       "    }\n",
       "\n",
       "    .dataframe thead th {\n",
       "        text-align: right;\n",
       "    }\n",
       "</style>\n",
       "<table border=\"1\" class=\"dataframe\">\n",
       "  <thead>\n",
       "    <tr style=\"text-align: right;\">\n",
       "      <th></th>\n",
       "      <th>jmeno</th>\n",
       "      <th>pocet_prijemcu</th>\n",
       "    </tr>\n",
       "  </thead>\n",
       "  <tbody>\n",
       "    <tr>\n",
       "      <th>0</th>\n",
       "      <td>Alice</td>\n",
       "      <td>100</td>\n",
       "    </tr>\n",
       "    <tr>\n",
       "      <th>1</th>\n",
       "      <td>David</td>\n",
       "      <td>200</td>\n",
       "    </tr>\n",
       "    <tr>\n",
       "      <th>2</th>\n",
       "      <td>Emma</td>\n",
       "      <td>150</td>\n",
       "    </tr>\n",
       "    <tr>\n",
       "      <th>3</th>\n",
       "      <td>Frank</td>\n",
       "      <td>250</td>\n",
       "    </tr>\n",
       "  </tbody>\n",
       "</table>\n",
       "</div>"
      ],
      "text/plain": [
       "   jmeno  pocet_prijemcu\n",
       "0  Alice             100\n",
       "1  David             200\n",
       "2   Emma             150\n",
       "3  Frank             250"
      ]
     },
     "execution_count": 59,
     "metadata": {},
     "output_type": "execute_result"
    }
   ],
   "source": [
    "uzivatele_tab_2_df"
   ]
  },
  {
   "cell_type": "markdown",
   "id": "159ec4db-5ec4-4d1b-9385-b8cdf28e8b05",
   "metadata": {},
   "source": [
    "#### Spojení FULL JOIN\n",
    "\n",
    "---"
   ]
  },
  {
   "cell_type": "code",
   "execution_count": 60,
   "id": "44a80eb1-ec0d-4101-83aa-10c179cd9394",
   "metadata": {
    "tags": []
   },
   "outputs": [],
   "source": [
    "mergnute_df = merge(uzivatele_tab_1_df, uzivatele_tab_2_df,\n",
    "                    on='jmeno',\n",
    "                    how='outer')"
   ]
  },
  {
   "cell_type": "code",
   "execution_count": 61,
   "id": "31331729-af6f-4463-8ad7-6c3af136f0ef",
   "metadata": {},
   "outputs": [
    {
     "data": {
      "text/html": [
       "<div>\n",
       "<style scoped>\n",
       "    .dataframe tbody tr th:only-of-type {\n",
       "        vertical-align: middle;\n",
       "    }\n",
       "\n",
       "    .dataframe tbody tr th {\n",
       "        vertical-align: top;\n",
       "    }\n",
       "\n",
       "    .dataframe thead th {\n",
       "        text-align: right;\n",
       "    }\n",
       "</style>\n",
       "<table border=\"1\" class=\"dataframe\">\n",
       "  <thead>\n",
       "    <tr style=\"text-align: right;\">\n",
       "      <th></th>\n",
       "      <th>jmeno</th>\n",
       "      <th>vek</th>\n",
       "      <th>mesto</th>\n",
       "      <th>pocet_prijemcu</th>\n",
       "    </tr>\n",
       "  </thead>\n",
       "  <tbody>\n",
       "    <tr>\n",
       "      <th>0</th>\n",
       "      <td>Alice</td>\n",
       "      <td>25.0</td>\n",
       "      <td>Brno</td>\n",
       "      <td>100.0</td>\n",
       "    </tr>\n",
       "    <tr>\n",
       "      <th>1</th>\n",
       "      <td>Bob</td>\n",
       "      <td>30.0</td>\n",
       "      <td>Praha</td>\n",
       "      <td>NaN</td>\n",
       "    </tr>\n",
       "    <tr>\n",
       "      <th>2</th>\n",
       "      <td>Charlie</td>\n",
       "      <td>35.0</td>\n",
       "      <td>Plzen</td>\n",
       "      <td>NaN</td>\n",
       "    </tr>\n",
       "    <tr>\n",
       "      <th>3</th>\n",
       "      <td>David</td>\n",
       "      <td>40.0</td>\n",
       "      <td>Ostrava</td>\n",
       "      <td>200.0</td>\n",
       "    </tr>\n",
       "    <tr>\n",
       "      <th>4</th>\n",
       "      <td>Emma</td>\n",
       "      <td>NaN</td>\n",
       "      <td>NaN</td>\n",
       "      <td>150.0</td>\n",
       "    </tr>\n",
       "    <tr>\n",
       "      <th>5</th>\n",
       "      <td>Frank</td>\n",
       "      <td>NaN</td>\n",
       "      <td>NaN</td>\n",
       "      <td>250.0</td>\n",
       "    </tr>\n",
       "  </tbody>\n",
       "</table>\n",
       "</div>"
      ],
      "text/plain": [
       "     jmeno   vek    mesto  pocet_prijemcu\n",
       "0    Alice  25.0     Brno           100.0\n",
       "1      Bob  30.0    Praha             NaN\n",
       "2  Charlie  35.0    Plzen             NaN\n",
       "3    David  40.0  Ostrava           200.0\n",
       "4     Emma   NaN      NaN           150.0\n",
       "5    Frank   NaN      NaN           250.0"
      ]
     },
     "execution_count": 61,
     "metadata": {},
     "output_type": "execute_result"
    }
   ],
   "source": [
    "mergnute_df"
   ]
  },
  {
   "cell_type": "markdown",
   "id": "19493846-0a1e-41ee-b631-7e2297d314db",
   "metadata": {},
   "source": [
    "#### Spojené INNER MERGE\n",
    "\n",
    "---"
   ]
  },
  {
   "cell_type": "code",
   "execution_count": 62,
   "id": "4221d813-450f-48a3-9a24-d06d8dd70b43",
   "metadata": {
    "tags": []
   },
   "outputs": [],
   "source": [
    "mergnute_inner_df = merge(uzivatele_tab_1_df,\n",
    "                          uzivatele_tab_1_df,\n",
    "                          on='jmeno',\n",
    "                          how='inner')"
   ]
  },
  {
   "cell_type": "code",
   "execution_count": 63,
   "id": "6bcc9d19-bb1f-49ec-be5a-42fc22ef0bc7",
   "metadata": {
    "tags": []
   },
   "outputs": [
    {
     "data": {
      "text/html": [
       "<div>\n",
       "<style scoped>\n",
       "    .dataframe tbody tr th:only-of-type {\n",
       "        vertical-align: middle;\n",
       "    }\n",
       "\n",
       "    .dataframe tbody tr th {\n",
       "        vertical-align: top;\n",
       "    }\n",
       "\n",
       "    .dataframe thead th {\n",
       "        text-align: right;\n",
       "    }\n",
       "</style>\n",
       "<table border=\"1\" class=\"dataframe\">\n",
       "  <thead>\n",
       "    <tr style=\"text-align: right;\">\n",
       "      <th></th>\n",
       "      <th>jmeno</th>\n",
       "      <th>vek_x</th>\n",
       "      <th>mesto_x</th>\n",
       "      <th>vek_y</th>\n",
       "      <th>mesto_y</th>\n",
       "    </tr>\n",
       "  </thead>\n",
       "  <tbody>\n",
       "    <tr>\n",
       "      <th>0</th>\n",
       "      <td>Alice</td>\n",
       "      <td>25</td>\n",
       "      <td>Brno</td>\n",
       "      <td>25</td>\n",
       "      <td>Brno</td>\n",
       "    </tr>\n",
       "    <tr>\n",
       "      <th>1</th>\n",
       "      <td>Bob</td>\n",
       "      <td>30</td>\n",
       "      <td>Praha</td>\n",
       "      <td>30</td>\n",
       "      <td>Praha</td>\n",
       "    </tr>\n",
       "    <tr>\n",
       "      <th>2</th>\n",
       "      <td>Charlie</td>\n",
       "      <td>35</td>\n",
       "      <td>Plzen</td>\n",
       "      <td>35</td>\n",
       "      <td>Plzen</td>\n",
       "    </tr>\n",
       "    <tr>\n",
       "      <th>3</th>\n",
       "      <td>David</td>\n",
       "      <td>40</td>\n",
       "      <td>Ostrava</td>\n",
       "      <td>40</td>\n",
       "      <td>Ostrava</td>\n",
       "    </tr>\n",
       "  </tbody>\n",
       "</table>\n",
       "</div>"
      ],
      "text/plain": [
       "     jmeno  vek_x  mesto_x  vek_y  mesto_y\n",
       "0    Alice     25     Brno     25     Brno\n",
       "1      Bob     30    Praha     30    Praha\n",
       "2  Charlie     35    Plzen     35    Plzen\n",
       "3    David     40  Ostrava     40  Ostrava"
      ]
     },
     "execution_count": 63,
     "metadata": {},
     "output_type": "execute_result"
    }
   ],
   "source": [
    "mergnute_inner_df"
   ]
  },
  {
   "cell_type": "markdown",
   "id": "e4ceb54e-a4f2-4b75-a2e4-a17dc0bca7ab",
   "metadata": {},
   "source": [
    "Funkce sama **doplní přípony**, aby rozlišila **mezi oběma původními sloupci**.\n",
    "\n",
    "**Pokud potřebuješ vlastní přípony**, můžeš vyzkoušet volitelný argument pro `suffixes`:"
   ]
  },
  {
   "cell_type": "code",
   "execution_count": 73,
   "id": "d1594a97-73c4-479b-a6bb-181e315a2164",
   "metadata": {
    "tags": []
   },
   "outputs": [],
   "source": [
    "df8 = DataFrame({\n",
    "    'jmeno': ['Bob', 'Jake', 'Lisa', 'Sue'],\n",
    "    'poradi': [1, 2, 3, 4]\n",
    "})"
   ]
  },
  {
   "cell_type": "code",
   "execution_count": 74,
   "id": "7b4f169a-d8ae-444d-a719-0e1da4cc8caa",
   "metadata": {
    "tags": []
   },
   "outputs": [],
   "source": [
    "df9 = DataFrame({\n",
    "    'jmeno': ['Bob', 'Jake', 'Lisa', 'Sue'],\n",
    "    'poradi': [3, 1, 4, 2]\n",
    "})"
   ]
  },
  {
   "cell_type": "code",
   "execution_count": 75,
   "id": "1181204e-c75b-447e-afc8-f27299cb2eef",
   "metadata": {
    "tags": []
   },
   "outputs": [
    {
     "data": {
      "text/html": [
       "<div>\n",
       "<style scoped>\n",
       "    .dataframe tbody tr th:only-of-type {\n",
       "        vertical-align: middle;\n",
       "    }\n",
       "\n",
       "    .dataframe tbody tr th {\n",
       "        vertical-align: top;\n",
       "    }\n",
       "\n",
       "    .dataframe thead th {\n",
       "        text-align: right;\n",
       "    }\n",
       "</style>\n",
       "<table border=\"1\" class=\"dataframe\">\n",
       "  <thead>\n",
       "    <tr style=\"text-align: right;\">\n",
       "      <th></th>\n",
       "      <th>jmeno</th>\n",
       "      <th>poradi</th>\n",
       "    </tr>\n",
       "  </thead>\n",
       "  <tbody>\n",
       "    <tr>\n",
       "      <th>0</th>\n",
       "      <td>Bob</td>\n",
       "      <td>1</td>\n",
       "    </tr>\n",
       "    <tr>\n",
       "      <th>1</th>\n",
       "      <td>Jake</td>\n",
       "      <td>2</td>\n",
       "    </tr>\n",
       "    <tr>\n",
       "      <th>2</th>\n",
       "      <td>Lisa</td>\n",
       "      <td>3</td>\n",
       "    </tr>\n",
       "    <tr>\n",
       "      <th>3</th>\n",
       "      <td>Sue</td>\n",
       "      <td>4</td>\n",
       "    </tr>\n",
       "  </tbody>\n",
       "</table>\n",
       "</div>"
      ],
      "text/plain": [
       "  jmeno  poradi\n",
       "0   Bob       1\n",
       "1  Jake       2\n",
       "2  Lisa       3\n",
       "3   Sue       4"
      ]
     },
     "execution_count": 75,
     "metadata": {},
     "output_type": "execute_result"
    }
   ],
   "source": [
    "df8"
   ]
  },
  {
   "cell_type": "code",
   "execution_count": 76,
   "id": "c6bc971c-4b97-4224-9190-b955acadaf38",
   "metadata": {
    "tags": []
   },
   "outputs": [
    {
     "data": {
      "text/html": [
       "<div>\n",
       "<style scoped>\n",
       "    .dataframe tbody tr th:only-of-type {\n",
       "        vertical-align: middle;\n",
       "    }\n",
       "\n",
       "    .dataframe tbody tr th {\n",
       "        vertical-align: top;\n",
       "    }\n",
       "\n",
       "    .dataframe thead th {\n",
       "        text-align: right;\n",
       "    }\n",
       "</style>\n",
       "<table border=\"1\" class=\"dataframe\">\n",
       "  <thead>\n",
       "    <tr style=\"text-align: right;\">\n",
       "      <th></th>\n",
       "      <th>jmeno</th>\n",
       "      <th>poradi</th>\n",
       "    </tr>\n",
       "  </thead>\n",
       "  <tbody>\n",
       "    <tr>\n",
       "      <th>0</th>\n",
       "      <td>Bob</td>\n",
       "      <td>3</td>\n",
       "    </tr>\n",
       "    <tr>\n",
       "      <th>1</th>\n",
       "      <td>Jake</td>\n",
       "      <td>1</td>\n",
       "    </tr>\n",
       "    <tr>\n",
       "      <th>2</th>\n",
       "      <td>Lisa</td>\n",
       "      <td>4</td>\n",
       "    </tr>\n",
       "    <tr>\n",
       "      <th>3</th>\n",
       "      <td>Sue</td>\n",
       "      <td>2</td>\n",
       "    </tr>\n",
       "  </tbody>\n",
       "</table>\n",
       "</div>"
      ],
      "text/plain": [
       "  jmeno  poradi\n",
       "0   Bob       3\n",
       "1  Jake       1\n",
       "2  Lisa       4\n",
       "3   Sue       2"
      ]
     },
     "execution_count": 76,
     "metadata": {},
     "output_type": "execute_result"
    }
   ],
   "source": [
    "df9"
   ]
  },
  {
   "cell_type": "code",
   "execution_count": 77,
   "id": "882c2d82-b78e-48fc-a9a3-bf5d689900c4",
   "metadata": {
    "tags": []
   },
   "outputs": [],
   "source": [
    "vystup_konflikt = merge(df8, df9, on=\"jmeno\")"
   ]
  },
  {
   "cell_type": "code",
   "execution_count": 78,
   "id": "bf996d62-84b3-4fb7-b345-fa5fb9844828",
   "metadata": {
    "tags": []
   },
   "outputs": [
    {
     "data": {
      "text/html": [
       "<div>\n",
       "<style scoped>\n",
       "    .dataframe tbody tr th:only-of-type {\n",
       "        vertical-align: middle;\n",
       "    }\n",
       "\n",
       "    .dataframe tbody tr th {\n",
       "        vertical-align: top;\n",
       "    }\n",
       "\n",
       "    .dataframe thead th {\n",
       "        text-align: right;\n",
       "    }\n",
       "</style>\n",
       "<table border=\"1\" class=\"dataframe\">\n",
       "  <thead>\n",
       "    <tr style=\"text-align: right;\">\n",
       "      <th></th>\n",
       "      <th>jmeno</th>\n",
       "      <th>poradi_x</th>\n",
       "      <th>poradi_y</th>\n",
       "    </tr>\n",
       "  </thead>\n",
       "  <tbody>\n",
       "    <tr>\n",
       "      <th>0</th>\n",
       "      <td>Bob</td>\n",
       "      <td>1</td>\n",
       "      <td>3</td>\n",
       "    </tr>\n",
       "    <tr>\n",
       "      <th>1</th>\n",
       "      <td>Jake</td>\n",
       "      <td>2</td>\n",
       "      <td>1</td>\n",
       "    </tr>\n",
       "    <tr>\n",
       "      <th>2</th>\n",
       "      <td>Lisa</td>\n",
       "      <td>3</td>\n",
       "      <td>4</td>\n",
       "    </tr>\n",
       "    <tr>\n",
       "      <th>3</th>\n",
       "      <td>Sue</td>\n",
       "      <td>4</td>\n",
       "      <td>2</td>\n",
       "    </tr>\n",
       "  </tbody>\n",
       "</table>\n",
       "</div>"
      ],
      "text/plain": [
       "  jmeno  poradi_x  poradi_y\n",
       "0   Bob         1         3\n",
       "1  Jake         2         1\n",
       "2  Lisa         3         4\n",
       "3   Sue         4         2"
      ]
     },
     "execution_count": 78,
     "metadata": {},
     "output_type": "execute_result"
    }
   ],
   "source": [
    "vystup_konflikt"
   ]
  },
  {
   "cell_type": "code",
   "execution_count": 79,
   "id": "3eed1bd2-fcf6-4162-92c4-187f29aadc29",
   "metadata": {
    "tags": []
   },
   "outputs": [],
   "source": [
    "vystup_vlastni_pripony = merge(df8, df9, on='jmeno', suffixes=('_DF8', '_DF9'))"
   ]
  },
  {
   "cell_type": "code",
   "execution_count": 80,
   "id": "6dce8c00-2300-4d16-aa83-87c0ed8dc8fe",
   "metadata": {
    "scrolled": true,
    "tags": []
   },
   "outputs": [
    {
     "data": {
      "text/html": [
       "<div>\n",
       "<style scoped>\n",
       "    .dataframe tbody tr th:only-of-type {\n",
       "        vertical-align: middle;\n",
       "    }\n",
       "\n",
       "    .dataframe tbody tr th {\n",
       "        vertical-align: top;\n",
       "    }\n",
       "\n",
       "    .dataframe thead th {\n",
       "        text-align: right;\n",
       "    }\n",
       "</style>\n",
       "<table border=\"1\" class=\"dataframe\">\n",
       "  <thead>\n",
       "    <tr style=\"text-align: right;\">\n",
       "      <th></th>\n",
       "      <th>jmeno</th>\n",
       "      <th>poradi_DF8</th>\n",
       "      <th>poradi_DF9</th>\n",
       "    </tr>\n",
       "  </thead>\n",
       "  <tbody>\n",
       "    <tr>\n",
       "      <th>0</th>\n",
       "      <td>Bob</td>\n",
       "      <td>1</td>\n",
       "      <td>3</td>\n",
       "    </tr>\n",
       "    <tr>\n",
       "      <th>1</th>\n",
       "      <td>Jake</td>\n",
       "      <td>2</td>\n",
       "      <td>1</td>\n",
       "    </tr>\n",
       "    <tr>\n",
       "      <th>2</th>\n",
       "      <td>Lisa</td>\n",
       "      <td>3</td>\n",
       "      <td>4</td>\n",
       "    </tr>\n",
       "    <tr>\n",
       "      <th>3</th>\n",
       "      <td>Sue</td>\n",
       "      <td>4</td>\n",
       "      <td>2</td>\n",
       "    </tr>\n",
       "  </tbody>\n",
       "</table>\n",
       "</div>"
      ],
      "text/plain": [
       "  jmeno  poradi_DF8  poradi_DF9\n",
       "0   Bob           1           3\n",
       "1  Jake           2           1\n",
       "2  Lisa           3           4\n",
       "3   Sue           4           2"
      ]
     },
     "execution_count": 80,
     "metadata": {},
     "output_type": "execute_result"
    }
   ],
   "source": [
    "vystup_vlastni_pripony"
   ]
  },
  {
   "cell_type": "markdown",
   "id": "893ccd60-21fa-4780-a9fa-0bbe4e71a712",
   "metadata": {},
   "source": [
    "Obecně platí, že pokud potřebuješ *spojit* dva nebo více `DataFrame` objektů podle **společného sloupce nebo sloupců**, použij funkci `merge()`.\n",
    "\n",
    "Pokud chceš jenom **přidat další řádky nebo sloupce** do existujícího `DataFrame` objektu, použij funkci `concat`."
   ]
  },
  {
   "cell_type": "code",
   "execution_count": 64,
   "id": "f7cbe2a1-d7eb-44cd-ab2a-e0b0cf455a9e",
   "metadata": {
    "tags": []
   },
   "outputs": [
    {
     "data": {
      "text/html": [
       "<div>\n",
       "<style scoped>\n",
       "    .dataframe tbody tr th:only-of-type {\n",
       "        vertical-align: middle;\n",
       "    }\n",
       "\n",
       "    .dataframe tbody tr th {\n",
       "        vertical-align: top;\n",
       "    }\n",
       "\n",
       "    .dataframe thead th {\n",
       "        text-align: right;\n",
       "    }\n",
       "</style>\n",
       "<table border=\"1\" class=\"dataframe\">\n",
       "  <thead>\n",
       "    <tr style=\"text-align: right;\">\n",
       "      <th></th>\n",
       "      <th>jmeno</th>\n",
       "      <th>vek</th>\n",
       "      <th>mesto</th>\n",
       "    </tr>\n",
       "  </thead>\n",
       "  <tbody>\n",
       "    <tr>\n",
       "      <th>0</th>\n",
       "      <td>Alice</td>\n",
       "      <td>25</td>\n",
       "      <td>Brno</td>\n",
       "    </tr>\n",
       "    <tr>\n",
       "      <th>1</th>\n",
       "      <td>Bob</td>\n",
       "      <td>30</td>\n",
       "      <td>Praha</td>\n",
       "    </tr>\n",
       "    <tr>\n",
       "      <th>2</th>\n",
       "      <td>Charlie</td>\n",
       "      <td>35</td>\n",
       "      <td>Plzen</td>\n",
       "    </tr>\n",
       "    <tr>\n",
       "      <th>3</th>\n",
       "      <td>David</td>\n",
       "      <td>40</td>\n",
       "      <td>Ostrava</td>\n",
       "    </tr>\n",
       "  </tbody>\n",
       "</table>\n",
       "</div>"
      ],
      "text/plain": [
       "     jmeno  vek    mesto\n",
       "0    Alice   25     Brno\n",
       "1      Bob   30    Praha\n",
       "2  Charlie   35    Plzen\n",
       "3    David   40  Ostrava"
      ]
     },
     "execution_count": 64,
     "metadata": {},
     "output_type": "execute_result"
    }
   ],
   "source": [
    "uzivatele_tab_1_df"
   ]
  },
  {
   "cell_type": "code",
   "execution_count": 65,
   "id": "d8ad5325-8860-4011-8171-fa0633d241da",
   "metadata": {
    "tags": []
   },
   "outputs": [
    {
     "data": {
      "text/html": [
       "<div>\n",
       "<style scoped>\n",
       "    .dataframe tbody tr th:only-of-type {\n",
       "        vertical-align: middle;\n",
       "    }\n",
       "\n",
       "    .dataframe tbody tr th {\n",
       "        vertical-align: top;\n",
       "    }\n",
       "\n",
       "    .dataframe thead th {\n",
       "        text-align: right;\n",
       "    }\n",
       "</style>\n",
       "<table border=\"1\" class=\"dataframe\">\n",
       "  <thead>\n",
       "    <tr style=\"text-align: right;\">\n",
       "      <th></th>\n",
       "      <th>jmeno</th>\n",
       "      <th>pocet_prijemcu</th>\n",
       "    </tr>\n",
       "  </thead>\n",
       "  <tbody>\n",
       "    <tr>\n",
       "      <th>0</th>\n",
       "      <td>Alice</td>\n",
       "      <td>100</td>\n",
       "    </tr>\n",
       "    <tr>\n",
       "      <th>1</th>\n",
       "      <td>David</td>\n",
       "      <td>200</td>\n",
       "    </tr>\n",
       "    <tr>\n",
       "      <th>2</th>\n",
       "      <td>Emma</td>\n",
       "      <td>150</td>\n",
       "    </tr>\n",
       "    <tr>\n",
       "      <th>3</th>\n",
       "      <td>Frank</td>\n",
       "      <td>250</td>\n",
       "    </tr>\n",
       "  </tbody>\n",
       "</table>\n",
       "</div>"
      ],
      "text/plain": [
       "   jmeno  pocet_prijemcu\n",
       "0  Alice             100\n",
       "1  David             200\n",
       "2   Emma             150\n",
       "3  Frank             250"
      ]
     },
     "execution_count": 65,
     "metadata": {},
     "output_type": "execute_result"
    }
   ],
   "source": [
    "uzivatele_tab_2_df"
   ]
  },
  {
   "cell_type": "code",
   "execution_count": 67,
   "id": "5ce9d9ea-97e9-4c04-a56f-05fc5f780a33",
   "metadata": {
    "tags": []
   },
   "outputs": [],
   "source": [
    "vystup_left_join_df = merge(uzivatele_tab_1_df,\n",
    "                         uzivatele_tab_2_df,\n",
    "                         on='jmeno',\n",
    "                         how='left')"
   ]
  },
  {
   "cell_type": "code",
   "execution_count": 68,
   "id": "0c6dee23-79fb-4a93-b6bd-b6e137cebc69",
   "metadata": {
    "tags": []
   },
   "outputs": [
    {
     "data": {
      "text/html": [
       "<div>\n",
       "<style scoped>\n",
       "    .dataframe tbody tr th:only-of-type {\n",
       "        vertical-align: middle;\n",
       "    }\n",
       "\n",
       "    .dataframe tbody tr th {\n",
       "        vertical-align: top;\n",
       "    }\n",
       "\n",
       "    .dataframe thead th {\n",
       "        text-align: right;\n",
       "    }\n",
       "</style>\n",
       "<table border=\"1\" class=\"dataframe\">\n",
       "  <thead>\n",
       "    <tr style=\"text-align: right;\">\n",
       "      <th></th>\n",
       "      <th>jmeno</th>\n",
       "      <th>vek</th>\n",
       "      <th>mesto</th>\n",
       "      <th>pocet_prijemcu</th>\n",
       "    </tr>\n",
       "  </thead>\n",
       "  <tbody>\n",
       "    <tr>\n",
       "      <th>0</th>\n",
       "      <td>Alice</td>\n",
       "      <td>25</td>\n",
       "      <td>Brno</td>\n",
       "      <td>100.0</td>\n",
       "    </tr>\n",
       "    <tr>\n",
       "      <th>1</th>\n",
       "      <td>Bob</td>\n",
       "      <td>30</td>\n",
       "      <td>Praha</td>\n",
       "      <td>NaN</td>\n",
       "    </tr>\n",
       "    <tr>\n",
       "      <th>2</th>\n",
       "      <td>Charlie</td>\n",
       "      <td>35</td>\n",
       "      <td>Plzen</td>\n",
       "      <td>NaN</td>\n",
       "    </tr>\n",
       "    <tr>\n",
       "      <th>3</th>\n",
       "      <td>David</td>\n",
       "      <td>40</td>\n",
       "      <td>Ostrava</td>\n",
       "      <td>200.0</td>\n",
       "    </tr>\n",
       "  </tbody>\n",
       "</table>\n",
       "</div>"
      ],
      "text/plain": [
       "     jmeno  vek    mesto  pocet_prijemcu\n",
       "0    Alice   25     Brno           100.0\n",
       "1      Bob   30    Praha             NaN\n",
       "2  Charlie   35    Plzen             NaN\n",
       "3    David   40  Ostrava           200.0"
      ]
     },
     "execution_count": 68,
     "metadata": {},
     "output_type": "execute_result"
    }
   ],
   "source": [
    "vystup_left_join_df"
   ]
  },
  {
   "cell_type": "markdown",
   "id": "ff38f1ea-c615-41fc-8a7a-ee278e35a54a",
   "metadata": {},
   "source": [
    "V ukázce výš je použitý *left join*.\n",
    "\n",
    "Tedy ve výsledku uvidíš **celou první** (levou tabulku) a z druhé pouze ty záznamy, které mají ve spojovacím sloupci `jmeno` společnou hodnotu."
   ]
  },
  {
   "cell_type": "markdown",
   "id": "f2f3567d-0ba2-4b54-be57-9355daa8f8b0",
   "metadata": {},
   "source": [
    "### Spojení pomocí indexů, `join`\n",
    "\n",
    "---\n",
    "\n",
    "Tato metoda slouží k propojení dvou DataFrame objektů na základě **jejich indexů nebo hodnot**.\n",
    "\n",
    "Je velice podobná funkci `merge` ale je přímo součástí `DataFrame` objektu a je snazší ji aplikovat:"
   ]
  },
  {
   "cell_type": "code",
   "execution_count": null,
   "id": "633aef14-bf73-4ae8-9a31-b75d0d7d176f",
   "metadata": {
    "tags": []
   },
   "outputs": [],
   "source": [
    "uzivatele_1 = {\n",
    "    'jmeno': ['Alice', 'Bob', 'Petr'],\n",
    "     'vek': [25, 30, 35]\n",
    "}"
   ]
  },
  {
   "cell_type": "code",
   "execution_count": null,
   "id": "e7efc3b1-fbfd-47be-bb96-89e76d90e8d8",
   "metadata": {
    "tags": []
   },
   "outputs": [],
   "source": [
    "uzivatele_2 = {\n",
    "    'jmeno': ['Alice', 'Bob', 'Petr'],\n",
    "    'pocet_prijemcu': [100, 150, 200]\n",
    "}"
   ]
  },
  {
   "cell_type": "code",
   "execution_count": null,
   "id": "d6ea0391-ff76-45e8-beb1-766f11183199",
   "metadata": {
    "tags": []
   },
   "outputs": [],
   "source": [
    "df_uzivatele_1 = DataFrame(uzivatele_1)\n",
    "df_uzivatele_2 = DataFrame(uzivatele_2)"
   ]
  },
  {
   "cell_type": "code",
   "execution_count": null,
   "id": "b4b7695b-0ce5-463c-b323-799912c8f1db",
   "metadata": {
    "tags": []
   },
   "outputs": [],
   "source": [
    "df_uzivatele_1"
   ]
  },
  {
   "cell_type": "code",
   "execution_count": null,
   "id": "5a006f4d-92ab-4157-a462-4a6695eee030",
   "metadata": {
    "tags": []
   },
   "outputs": [],
   "source": [
    "df_uzivatele_2"
   ]
  },
  {
   "cell_type": "code",
   "execution_count": null,
   "id": "6fd74545-5277-46bf-ae46-2821e0495028",
   "metadata": {
    "tags": []
   },
   "outputs": [],
   "source": [
    "df_uzivatele_2.index.names"
   ]
  },
  {
   "cell_type": "code",
   "execution_count": null,
   "id": "e3b800bb-198c-41bc-9a02-78ef8d7b103f",
   "metadata": {
    "tags": []
   },
   "outputs": [],
   "source": [
    "df_uzivatele_1 = df_uzivatele_1.set_index('jmeno')"
   ]
  },
  {
   "cell_type": "code",
   "execution_count": null,
   "id": "31bf4986-4153-440b-98b8-ceed912615db",
   "metadata": {
    "tags": []
   },
   "outputs": [],
   "source": [
    "df_uzivatele_2 = df_uzivatele_2.set_index('jmeno')"
   ]
  },
  {
   "cell_type": "code",
   "execution_count": null,
   "id": "f16e1b54-e7b8-48d8-9c3f-069723a17558",
   "metadata": {
    "tags": []
   },
   "outputs": [],
   "source": [
    "df_uzivatele_1"
   ]
  },
  {
   "cell_type": "code",
   "execution_count": null,
   "id": "c11242fc-6458-4d11-9da7-d6eed77dec65",
   "metadata": {
    "tags": []
   },
   "outputs": [],
   "source": [
    "df_uzivatele_2"
   ]
  },
  {
   "cell_type": "code",
   "execution_count": null,
   "id": "cbbe0114-fba2-461d-9ced-7dd25e6afbc2",
   "metadata": {
    "tags": []
   },
   "outputs": [],
   "source": [
    "vysledek_join_metody = df_uzivatele_1.join(df_uzivatele_2)"
   ]
  },
  {
   "cell_type": "code",
   "execution_count": null,
   "id": "7b6f326f-7bfe-4f75-bcf2-a0ceca44f349",
   "metadata": {
    "tags": []
   },
   "outputs": [],
   "source": [
    "vysledek_join_metody"
   ]
  },
  {
   "cell_type": "markdown",
   "id": "12bb08a7-65b7-46eb-8350-1f5edc493ed4",
   "metadata": {},
   "source": [
    "Hlavní rozdíl mezi těmito funkcemi je způsob určení **sloupce nebo sloupců**, podle kterých se má propojení provést.\n",
    "\n",
    "1. Metoda `join()` propojuje DataFrame objekty **na základě jejich indexů**.\n",
    "2. Funkce `merge()` umožňuje propojit `DataFrame` objekty **na základě hodnoty v jednom nebo více sloupcích**."
   ]
  },
  {
   "cell_type": "markdown",
   "id": "83338d3c-7b7f-40f6-bbe6-0fb18efb17ed",
   "metadata": {},
   "source": [
    "### Souhrn ke spojování\n",
    "\n",
    "---"
   ]
  },
  {
   "cell_type": "markdown",
   "id": "f2a1e3b0-e506-42cb-9f83-5640499832f6",
   "metadata": {},
   "source": [
    "| Objekt | Kdy jej použít? | Směr spojení |\n",
    "| :- | :- | :- |\n",
    "| `concat` | Když chceš poskládat tabulky na sebe (řádky) nebo vedle sebe (sloupce). | Vertikálně / Horizontálně | \n",
    "| `merge` |\tKdyž chcete spojit tabulky podle společného klíče/sloupce, podobně jako SQL JOIN. | Horizontálně |\n",
    "| `join` | Když chcete spojit tabulky podle společného indexu (ne klíče/sloupce). | Horizontálně |\n",
    "| `append` | (Zastaralé) Používalo se k přidání řádků, nyní používejte concat. | Vertikálně |"
   ]
  },
  {
   "cell_type": "markdown",
   "id": "f2951487-42b9-44ed-9de4-4ae3451824cf",
   "metadata": {},
   "source": [
    "<br>\n",
    "\n",
    "**🧠 CVIČENÍ 🧠, procvič si spojování**"
   ]
  },
  {
   "cell_type": "markdown",
   "id": "6f5eebe9-25b9-46d3-8ca3-c40a8bd36ece",
   "metadata": {},
   "source": [
    "Tvým úkolem je propojit tyto tabulky podle zadání:\n",
    "1. Použij spojovací funkci pro spojení objektů typu `DataFrame` , které vytvoříš z proměnných `data_zamestnanci_1` a `data_zamestnanci_2`,\n",
    "2. použij spojovací funkci, které zadáš vzniklý objekt typu `DataFrame`  z bodu 1. a druhý `DataFrame`, který vytvoříš z proměnné `data_oddeleni` (spoj přes sloupeček `\"oddělení_id\"`),\n",
    "3. vytvoř výsledný objekt typu `DataFrame` , který obsahuje pouze zaměstnance z oddělení `IT`."
   ]
  },
  {
   "cell_type": "code",
   "execution_count": null,
   "id": "0bcc307e-01fc-4866-8c1a-7c38a6d6181d",
   "metadata": {
    "tags": []
   },
   "outputs": [],
   "source": [
    "data_zamestnanci_1 = {\n",
    "    'id': [1, 2, 3],\n",
    "    'jméno': ['Jan', 'Marie', 'Petr'],\n",
    "    'příjmení': ['Novák', 'Svobodová', 'Dvořák'],\n",
    "    'oddělení_id': [100, 200, 100]\n",
    "}\n",
    "\n",
    "data_zamestnanci_2 = {\n",
    "    'id': [4, 5],\n",
    "    'jméno': ['Anna', 'Josef'],\n",
    "    'příjmení': ['Kopecká', 'Vondráček'],\n",
    "    'oddělení_id': [200, 100]\n",
    "}\n",
    "\n",
    "data_oddeleni = {\n",
    "    'oddělení_id': [100, 200],\n",
    "    'název_oddělení': ['IT', 'HR']\n",
    "}"
   ]
  },
  {
   "cell_type": "code",
   "execution_count": null,
   "id": "04ff3b47-89a7-41a7-8596-ef305350bf11",
   "metadata": {},
   "outputs": [],
   "source": [
    "df1, df2 = ..."
   ]
  },
  {
   "cell_type": "code",
   "execution_count": null,
   "id": "a6f80710-dd12-473c-8734-76c654eeb0ad",
   "metadata": {},
   "outputs": [],
   "source": [
    "df_spojeni_zam = pd.concat([df1, df2], axis=0, ignore_index=True)"
   ]
  },
  {
   "cell_type": "code",
   "execution_count": null,
   "id": "54295266-3c2d-463d-9827-b0d56d336588",
   "metadata": {},
   "outputs": [],
   "source": [
    "df1 = pd.concat(\n",
    "    [pd.DataFrame(data) for data in [data_zamestnanci_1, data_zamestnanci_2]]\n",
    ").reset_index(drop = True).set_index('id')"
   ]
  },
  {
   "cell_type": "code",
   "execution_count": null,
   "id": "1244a806-5821-49d1-bbf0-3c943ede639a",
   "metadata": {},
   "outputs": [],
   "source": [
    "df_spojeni_odd = pd.merge(df_oddeleni, on='oddělení_id', how=)"
   ]
  },
  {
   "cell_type": "code",
   "execution_count": null,
   "id": "70bea588-692e-4363-ba43-0851a9914f1f",
   "metadata": {},
   "outputs": [],
   "source": [
    "df2 = df1.merge( pd.DataFrame( data_oddeleni ), on = 'oddělení_id', how = 'left' )"
   ]
  },
  {
   "cell_type": "code",
   "execution_count": null,
   "id": "962a65d5-4613-4c3e-8088-546bd7b19070",
   "metadata": {},
   "outputs": [],
   "source": [
    "df3 = df2[df2['název_oddělení'] == 'IT']"
   ]
  },
  {
   "cell_type": "code",
   "execution_count": null,
   "id": "135bd677-dfa4-4db7-81b9-c1568cc8f6dd",
   "metadata": {},
   "outputs": [],
   "source": [
    "display( df1, df2, df3 )"
   ]
  },
  {
   "cell_type": "markdown",
   "id": "7b8b3ec4-f154-432e-8eca-ebaed96445b1",
   "metadata": {},
   "source": [
    "<details>\n",
    "    <summary>▶️ Řešení</summary>\n",
    "    \n",
    "    ```python\n",
    "    df_zamestnanci_1 = pd.DataFrame(data_zamestnanci_1)\n",
    "    df_zamestnanci_2 = pd.DataFrame(data_zamestnanci_2)\n",
    "    df_oddeleni = pd.DataFrame(data_oddeleni)\n",
    "\n",
    "    df_vsichni_zamestnanci = pd.concat([df_zamestnanci_1, df_zamestnanci_2], ignore_index=True)\n",
    "\n",
    "    df_vsechna_oddeleni = pd.merge(df_vsichni_zamestnanci, df_oddeleni, on=\"oddělení_id\")\n",
    "\n",
    "    df_jen_it = df_vsechna_oddeleni[df_vsechna_oddeleni[\"název_oddělení\"] == \"IT\"]\n",
    "    ```\n",
    "</details>"
   ]
  },
  {
   "cell_type": "markdown",
   "id": "d6738783-f30e-4eea-95df-299a162ae692",
   "metadata": {},
   "source": [
    "## Agregace\n",
    "\n",
    "---\n",
    "\n",
    "\n",
    "<img src=\"https://external-content.duckduckgo.com/iu/?u=https%3A%2F%2Ftse1.mm.bing.net%2Fth%3Fid%3DOIP.HtBtNx6dodlNptXV1QGHWQHaG0%26pid%3DApi&f=1&ipt=3a4d1dfa14a495127b4ece5cf689f00ed0c9e0836853358412e18161ae7c505f&ipo=images\" width=\"160\" style=\"margin-left:auto; margin-right:auto\"/>\n",
    "\n",
    "\n",
    "*Seskupování* neboli **agregace** jsou procesy, které patří k základní efektivní analýze dat."
   ]
  },
  {
   "cell_type": "markdown",
   "id": "701763f2-2a1a-4024-8b28-85a02dc1e398",
   "metadata": {},
   "source": [
    "### Jednoduchá agregace\n",
    "\n",
    "---\n",
    "\n",
    "Přesto, že veškeré základní **statistické údaje** prakticky nabízí metoda `describe()`, můžeš ocenit, když stejnou statistiku můžeš aplikovat **na tebou vybrané objekty**.\n",
    "\n",
    "Mezi nejjednodušší postupy, jak data analyzovat patří metody jako:\n",
    "* `sum()`,\n",
    "* `mean()`,\n",
    "* `median()`,\n",
    "* `min()`,\n",
    "* `max()`.\n",
    "\n",
    "Všechny tyto metody umožní získat jedno samotné číslo, které ti umožní prohlédnout podstatu zadaného datasetu."
   ]
  },
  {
   "cell_type": "code",
   "execution_count": null,
   "id": "4b40b5dc-d2ce-4f28-bd42-e2dc2b06293c",
   "metadata": {
    "tags": []
   },
   "outputs": [],
   "source": [
    "from pandas import read_csv"
   ]
  },
  {
   "cell_type": "code",
   "execution_count": null,
   "id": "fa9d956e-da46-4236-ac9f-df1a783052a8",
   "metadata": {
    "tags": []
   },
   "outputs": [],
   "source": [
    "df_nemovitosti = read_csv(\"nemovitosti.csv\")"
   ]
  },
  {
   "cell_type": "code",
   "execution_count": null,
   "id": "a35214d3-35d3-479f-acd6-27b35f8cb01e",
   "metadata": {
    "tags": []
   },
   "outputs": [],
   "source": [
    "df_nemovitosti.head()"
   ]
  },
  {
   "cell_type": "markdown",
   "id": "4599ac8a-2618-4d25-855b-fe4f21138772",
   "metadata": {},
   "source": [
    "<br>\n",
    "\n",
    "#### Odstranit nepotřebný sloupeček"
   ]
  },
  {
   "cell_type": "code",
   "execution_count": null,
   "id": "8e36a827-44e1-457f-9a64-3e5d3b7ea30d",
   "metadata": {
    "tags": []
   },
   "outputs": [],
   "source": [
    "df_nemovitosti.columns"
   ]
  },
  {
   "cell_type": "code",
   "execution_count": null,
   "id": "a956f075-f9fd-4fff-9022-5e3539599935",
   "metadata": {
    "tags": []
   },
   "outputs": [],
   "source": [
    "df_bez_bezejmen = df_nemovitosti.drop(\"Unnamed: 0\", axis=1)"
   ]
  },
  {
   "cell_type": "code",
   "execution_count": null,
   "id": "de684e22-bdce-4fea-af3b-c74e5663e8ac",
   "metadata": {
    "tags": []
   },
   "outputs": [],
   "source": [
    "df_bez_bezejmen.head()"
   ]
  },
  {
   "cell_type": "code",
   "execution_count": null,
   "id": "4cca5a3a-29a0-4ef8-8670-52758a9c7e32",
   "metadata": {
    "tags": []
   },
   "outputs": [],
   "source": [
    "df_bez_bezejmen.loc[:, \"price\"].max()"
   ]
  },
  {
   "cell_type": "code",
   "execution_count": null,
   "id": "ef5221e6-7f75-4fe0-a395-4a89c99a8132",
   "metadata": {},
   "outputs": [],
   "source": [
    "df_bez_bezejmen.loc[:, \"price\"].min()"
   ]
  },
  {
   "cell_type": "code",
   "execution_count": null,
   "id": "27fc97fb-8391-4234-8435-8b31c2a6c0ec",
   "metadata": {},
   "outputs": [],
   "source": [
    "df_bez_bezejmen.loc[:, \"area\"].sum()"
   ]
  },
  {
   "cell_type": "code",
   "execution_count": null,
   "id": "12a221bb-b541-4788-8d1b-be803b38c385",
   "metadata": {},
   "outputs": [],
   "source": [
    "df_bez_bezejmen.loc[:, \"price\"].mean()"
   ]
  },
  {
   "cell_type": "markdown",
   "id": "42fd4680-85a2-4a1d-80f1-c19b4f55c7e3",
   "metadata": {},
   "source": [
    "<br>\n",
    "\n",
    "Často ale není dostačující, prozkoumat data pouze jednoduchých agregačních funkcí.\n",
    "\n",
    "Další operace, které je potřeba pochopit jsou seskupování dat podle zadaných parametrů."
   ]
  },
  {
   "cell_type": "markdown",
   "id": "1d8fd26d-f140-4150-b223-54914b54c770",
   "metadata": {},
   "source": [
    "### Seskupování GROUPBY\n",
    "\n",
    "---\n",
    "\n",
    "Metoda `groupby`, původně operace z SQL jazyka, je v rámci knihovny `pandas` všestraný pomocník pro seskupování dat na základě různých kritérií."
   ]
  },
  {
   "cell_type": "code",
   "execution_count": null,
   "id": "20acd864-49b5-48c0-863f-3897bace8b23",
   "metadata": {
    "tags": []
   },
   "outputs": [],
   "source": [
    "from pandas import DataFrame"
   ]
  },
  {
   "cell_type": "code",
   "execution_count": null,
   "id": "14b73c76-eeb8-4c16-bd86-6f1271439b02",
   "metadata": {
    "tags": []
   },
   "outputs": [],
   "source": [
    "df_pokus_s_cisly = DataFrame(\n",
    "    {\n",
    "        'klíč': ['A', 'B', 'C', 'A', 'B', 'C'],\n",
    "        'číselná hodnota': range(6)},\n",
    ")"
   ]
  },
  {
   "cell_type": "code",
   "execution_count": null,
   "id": "2c864665-3353-4ec2-adf8-a415682d24b4",
   "metadata": {
    "tags": []
   },
   "outputs": [],
   "source": [
    "df_pokus_s_cisly"
   ]
  },
  {
   "cell_type": "markdown",
   "id": "286bd28a-d4a5-4193-aebc-edb128179099",
   "metadata": {},
   "source": [
    "#### Klasické seskupení podle sloupečku"
   ]
  },
  {
   "cell_type": "code",
   "execution_count": null,
   "id": "0be6f31e-16da-4233-a6a8-90b503214266",
   "metadata": {
    "tags": []
   },
   "outputs": [],
   "source": [
    "df_pokus_s_cisly.groupby(\"klíč\")"
   ]
  },
  {
   "cell_type": "code",
   "execution_count": null,
   "id": "3b2b6aaf-08b7-4a5c-a4dc-4335e65fe483",
   "metadata": {
    "tags": []
   },
   "outputs": [],
   "source": [
    "type(df_pokus_s_cisly.groupby(\"klíč\"))"
   ]
  },
  {
   "cell_type": "markdown",
   "id": "46f4594b-2a0d-499e-91f6-f54e576c8a01",
   "metadata": {},
   "source": [
    "Metoda standardně vrací `DataFrameGroupBy`.\n",
    "\n",
    "Jde opět o tzv. *lazy evaluation* proces, samotný nic neprovede, pouze čeká na pokyn uživatele, který samotnou agregaci spustí."
   ]
  },
  {
   "cell_type": "code",
   "execution_count": null,
   "id": "920354fd-ce01-4200-af58-284a4aa94c15",
   "metadata": {
    "tags": []
   },
   "outputs": [],
   "source": [
    "df_pokus_s_cisly.groupby(\"klíč\").sum()"
   ]
  },
  {
   "cell_type": "markdown",
   "id": "f5c4b16b-faac-414c-b359-34fb07f870ca",
   "metadata": {},
   "source": [
    "Metoda `sum()` je pouze jednou z možností, se kterou můžeš pracovat.\n",
    "\n",
    "<br>\n",
    "\n",
    "#### Sloupečkové označování\n",
    "\n",
    "Stejně jako `DataFrame` můžeš označovat také *GroupBy* objekty."
   ]
  },
  {
   "cell_type": "code",
   "execution_count": null,
   "id": "93f91a23-d51f-4f1a-a98f-2fcc5724daf6",
   "metadata": {
    "tags": []
   },
   "outputs": [],
   "source": [
    "df_pokus_s_cisly"
   ]
  },
  {
   "cell_type": "code",
   "execution_count": null,
   "id": "2e0aa652-c0f9-432f-bd02-39a0931c59ef",
   "metadata": {
    "tags": []
   },
   "outputs": [],
   "source": [
    "df_pokus_s_cisly.groupby(\"klíč\")[\"číselná hodnota\"]"
   ]
  },
  {
   "cell_type": "code",
   "execution_count": null,
   "id": "2c68689c-8310-42e4-9737-715d7a730f9a",
   "metadata": {
    "tags": []
   },
   "outputs": [],
   "source": [
    "df_pokus_s_cisly.groupby(\"klíč\")[\"číselná hodnota\"].median()"
   ]
  },
  {
   "cell_type": "markdown",
   "id": "9a07f3d6-88f7-4324-ac00-098c76071956",
   "metadata": {},
   "source": [
    "<br>\n",
    "\n",
    "V uplynulé ukázce je zadaná seskupování podle sloupečku `klíč`.\n",
    "\n",
    "Dále je vybraný pouze konkrétní sloupeček, na který chceš spustit metodu `median`.\n",
    "\n",
    "<br>\n",
    "\n",
    "Pokud potřebuješ nad vybraným objektem provádět některé procesy ručně, můžeš přes *GroupBy* objekt **iterovat**:"
   ]
  },
  {
   "cell_type": "code",
   "execution_count": null,
   "id": "6585af72-b9dd-411e-b727-68e8d5f533f6",
   "metadata": {
    "tags": []
   },
   "outputs": [],
   "source": [
    "for (klic, hodnota) in df_pokus_s_cisly.groupby(\"klíč\"):\n",
    "    print(f\"Klic: {klic}; Hodnota={hodnota.shape}\")"
   ]
  },
  {
   "cell_type": "markdown",
   "id": "66f6931c-6845-4342-8255-86c0cb3c324d",
   "metadata": {},
   "source": [
    "<br>\n",
    "\n",
    "### Agregace s metodami\n",
    "\n",
    "---"
   ]
  },
  {
   "cell_type": "markdown",
   "id": "8fe18bc5-d701-4e3f-b4ac-bf4d032fbce0",
   "metadata": {},
   "source": [
    "Kromě jednoduchých agregací, nabízí *GroupBy* řadu další funkcionality.\n",
    "\n",
    "Jde o metody:\n",
    "* `aggregate`,\n",
    "* `filter`,\n",
    "* `transform`,\n",
    "* `apply`."
   ]
  },
  {
   "cell_type": "markdown",
   "id": "59d62a2f-ceac-408f-a82c-ec9711fa1fca",
   "metadata": {},
   "source": [
    "#### Agregate"
   ]
  },
  {
   "cell_type": "code",
   "execution_count": null,
   "id": "0881affd-e818-4154-a6c8-26cbbb97f063",
   "metadata": {
    "tags": []
   },
   "outputs": [],
   "source": [
    "import numpy"
   ]
  },
  {
   "cell_type": "code",
   "execution_count": null,
   "id": "cd575442-b1c4-4262-b9a9-7162f2728b59",
   "metadata": {
    "tags": []
   },
   "outputs": [],
   "source": [
    "rng = numpy.random.RandomState(0)"
   ]
  },
  {
   "cell_type": "code",
   "execution_count": null,
   "id": "84158798-45f8-4078-9dfa-f79c3d97e444",
   "metadata": {},
   "outputs": [],
   "source": [
    "from pandas import DataFrame"
   ]
  },
  {
   "cell_type": "code",
   "execution_count": null,
   "id": "d431922d-f8ec-4719-87d1-833528345200",
   "metadata": {
    "tags": []
   },
   "outputs": [],
   "source": [
    "df_pokus_s_cisly = DataFrame(\n",
    "    {\n",
    "        'klíč': ['A', 'B', 'C', 'A', 'B', 'C'],\n",
    "        'data_1': range(6),\n",
    "        'data_2': rng.randint(0, 10, 6)\n",
    "    }\n",
    ")"
   ]
  },
  {
   "cell_type": "code",
   "execution_count": null,
   "id": "07fbfe20-ed38-40c6-aeb0-bb11bcc46a6f",
   "metadata": {
    "tags": []
   },
   "outputs": [],
   "source": [
    "df_pokus_s_cisly"
   ]
  },
  {
   "cell_type": "markdown",
   "id": "c85ff441-9183-42de-a589-fa20549f767d",
   "metadata": {},
   "source": [
    "Statistické metody určitě nabízí spousty pomůcek.\n",
    "\n",
    "Objekt typu *GroupBy* umí pracovat také s funkcemi, stringy a celými listy."
   ]
  },
  {
   "cell_type": "code",
   "execution_count": null,
   "id": "16b3b939-911c-4df0-80f2-bd57daec2911",
   "metadata": {
    "tags": []
   },
   "outputs": [],
   "source": [
    "df_pokus_s_cisly.groupby(\"klíč\").aggregate(\"sum\")"
   ]
  },
  {
   "cell_type": "code",
   "execution_count": null,
   "id": "c86fa19a-c634-403a-8124-090c359a561d",
   "metadata": {
    "tags": []
   },
   "outputs": [],
   "source": [
    "df_pokus_s_cisly.groupby(\"klíč\").aggregate(numpy.median)"
   ]
  },
  {
   "cell_type": "code",
   "execution_count": null,
   "id": "40e2f7ed-ecd9-4087-a474-39f23e918431",
   "metadata": {
    "tags": []
   },
   "outputs": [],
   "source": [
    "df_pokus_s_cisly.groupby(\"klíč\").aggregate([\"min\", numpy.median, max])"
   ]
  },
  {
   "cell_type": "code",
   "execution_count": null,
   "id": "25990759-86cf-469d-8946-6c45e3322811",
   "metadata": {
    "tags": []
   },
   "outputs": [],
   "source": [
    "df_pokus_s_cisly"
   ]
  },
  {
   "cell_type": "markdown",
   "id": "ff73c92f-a98b-4f53-9b94-fd3d76a106dc",
   "metadata": {},
   "source": [
    "Můžeš říct, že metoda `aggregate` se používá k aplikaci **jedné nebo více agregačních funkcí na seskupená data**."
   ]
  },
  {
   "cell_type": "markdown",
   "id": "a9631de6-f44b-43ec-801d-5ceeef569d96",
   "metadata": {},
   "source": [
    "```\n",
    "pobocka,ovoce,prodane_mnozstvi,cena\n",
    "A,apple,10,20\n",
    "A,banana,15,12\n",
    "B,apple,8,22\n",
    "B,banana,30,10\n",
    "C,apple,20,18\n",
    "C,banana,25,15\n",
    "```"
   ]
  },
  {
   "cell_type": "code",
   "execution_count": null,
   "id": "bbda8c64-5e2e-474b-ab99-401e8e2168b9",
   "metadata": {
    "tags": []
   },
   "outputs": [],
   "source": [
    "ovoce_data = {\n",
    "    'pobocka': ['A', 'A', 'B', 'B', 'C', 'C'],\n",
    "    'ovoce': ['jablko', 'banan', 'jablko', 'banan', 'jablko', 'banan'],\n",
    "    'prodane_mnozstvi': [10, 15, 8, 30, 20, 25],\n",
    "    'cena': [20, 12, 22, 10, 18, 15]\n",
    "}"
   ]
  },
  {
   "cell_type": "code",
   "execution_count": null,
   "id": "935e3878-e99d-4cb2-a862-3537e5ed4a84",
   "metadata": {
    "tags": []
   },
   "outputs": [],
   "source": [
    "df_ovoce = DataFrame(ovoce_data)"
   ]
  },
  {
   "cell_type": "code",
   "execution_count": null,
   "id": "c79ece68-d7cd-4277-842f-881e20a41696",
   "metadata": {
    "tags": []
   },
   "outputs": [],
   "source": [
    "df_ovoce.head(6)"
   ]
  },
  {
   "cell_type": "code",
   "execution_count": null,
   "id": "0a3efeb5-29cd-4447-bb81-2493ba3285de",
   "metadata": {
    "tags": []
   },
   "outputs": [],
   "source": [
    "vystup = df_ovoce.groupby('pobocka').aggregate({'prodane_mnozstvi': sum})"
   ]
  },
  {
   "cell_type": "code",
   "execution_count": null,
   "id": "f03edfa6-402a-4a74-948b-7603e2fa2844",
   "metadata": {
    "tags": []
   },
   "outputs": [],
   "source": [
    "vystup = df_ovoce.groupby('pobocka').aggregate({'prodane_mnozstvi': 'sum', 'cena': 'mean'})"
   ]
  },
  {
   "cell_type": "code",
   "execution_count": null,
   "id": "802e9bd8-ab8c-40f6-b29b-17c2360b7e19",
   "metadata": {
    "tags": []
   },
   "outputs": [],
   "source": [
    "vystup"
   ]
  },
  {
   "cell_type": "markdown",
   "id": "368dfe87-9029-42f5-8826-bc4c34a4b5f6",
   "metadata": {},
   "source": [
    "1. Nejprve jsou hodnoty seskupení podle sloupce `pobocka`,\n",
    "2. poté specifikuješ pomocí `aggregate` funkce a sloupce,\n",
    "3. .. tedy sumarizovat hodnoty v `prodane_mnozstvi` a získat průměr `cena` pro každou pobočku."
   ]
  },
  {
   "cell_type": "markdown",
   "id": "06f8627c-aade-4cb4-837e-ca4504282b63",
   "metadata": {},
   "source": [
    "### Filtrování\n",
    "\n",
    "---"
   ]
  },
  {
   "cell_type": "markdown",
   "id": "112d62df-cddb-4a24-a2da-b7b3548ff892",
   "metadata": {},
   "source": [
    "Filtrování ti umožní zahodit takové údaje, které nesplňují zadanou podmínku."
   ]
  },
  {
   "cell_type": "markdown",
   "id": "381b8ef7-5f71-4882-b8c5-33157102c3ee",
   "metadata": {},
   "source": [
    "Metoda `filter` se používá k vybrání **seskupených dat** podle splnění **určité podmínky**.\n",
    "\n",
    "Představme si, že máme následující dataset s informacemi o prodeji ovoce v různých obchodech:"
   ]
  },
  {
   "cell_type": "markdown",
   "id": "7115a17f-a5a3-48ff-908b-6680de310b65",
   "metadata": {},
   "source": [
    "```\n",
    "pobocka,ovoce,prodane_mnozstvi,cena\n",
    "A,apple,10,20\n",
    "A,banana,15,12\n",
    "B,apple,8,22\n",
    "B,banana,30,10\n",
    "C,apple,20,18\n",
    "C,banana,25,15\n",
    "```"
   ]
  },
  {
   "cell_type": "code",
   "execution_count": null,
   "id": "995323de-5f18-497f-b4ad-db2386345c8a",
   "metadata": {
    "tags": []
   },
   "outputs": [],
   "source": [
    "df_ovoce.head(6)"
   ]
  },
  {
   "cell_type": "code",
   "execution_count": null,
   "id": "a730c7b4-cbcf-4e08-b688-e4807ea5e94e",
   "metadata": {
    "tags": []
   },
   "outputs": [],
   "source": [
    "def vyber_pouze_pobocky_s_prodejem_nad_limit(data, limit: int = 24) -> bool:\n",
    "    return data['prodane_mnozstvi'].sum() > limit"
   ]
  },
  {
   "cell_type": "markdown",
   "id": "858aca86-b58b-44e8-92ab-caaf34819a6d",
   "metadata": {},
   "source": [
    "<br>\n",
    "\n",
    "Funkce `vyber_pouze_pobocky_s_prodejem_nad_limit`, tedy **filtrovací funkce**, musí vracet **boolean** datový typ."
   ]
  },
  {
   "cell_type": "code",
   "execution_count": null,
   "id": "fee14d46-9932-4b03-b705-597707c5ecaa",
   "metadata": {
    "tags": []
   },
   "outputs": [],
   "source": [
    "vysledek = df_ovoce.groupby('pobocka').filter(vyber_pouze_pobocky_s_prodejem_nad_limit)"
   ]
  },
  {
   "cell_type": "code",
   "execution_count": null,
   "id": "ef8f73c2-295f-4de2-bd23-35e1b34928fd",
   "metadata": {
    "tags": []
   },
   "outputs": [],
   "source": [
    "vysledek"
   ]
  },
  {
   "cell_type": "markdown",
   "id": "0908c605-f5d8-4314-a865-c2c1bab13084",
   "metadata": {},
   "source": [
    "1. Nejprve seskupíš data podle sloupce `pobocka` pomocí `groupby`,\n",
    "2. dále použiješ metodu `filter`, která umožňuje použít uživatelem definovanou funkci (`vyber_pouze_pobocky_s_prodejem_nad_limit`),\n",
    "3. definuješ funkci, která vybere pouze pobočky s větším prodejem než je parametr `limit`,\n",
    "4. metoda `filter` pak vybere pouze ty řádky, které splňují tuto podmínku."
   ]
  },
  {
   "cell_type": "markdown",
   "id": "891df39c-bb03-420c-8aeb-79737f9ada5b",
   "metadata": {},
   "source": [
    "### Transformace\n",
    "\n",
    "---"
   ]
  },
  {
   "cell_type": "markdown",
   "id": "31ced72e-0931-43f3-9fa1-8ac275043189",
   "metadata": {
    "tags": []
   },
   "source": [
    "Zatímco předchozí výsledky *agregace* pomocí `groupby` vraceli redukované množství dat.\n",
    "\n",
    "Transformace obvykle vrací data o stejném rozsahu jako vstupní data. Jenom upravená."
   ]
  },
  {
   "cell_type": "markdown",
   "id": "787a5ce9-63a4-4cf6-9105-2e73e075c806",
   "metadata": {},
   "source": [
    "Metoda `transform` se používá k aplikaci určité **transformační funkce** na každý prvek seskupených dat."
   ]
  },
  {
   "cell_type": "code",
   "execution_count": null,
   "id": "4ac57d55-58d1-4f5c-b77b-13b5b483348c",
   "metadata": {
    "tags": []
   },
   "outputs": [],
   "source": [
    "df_ovoce"
   ]
  },
  {
   "cell_type": "code",
   "execution_count": null,
   "id": "655afebf-3a7d-4f3c-baf2-af7cb330076f",
   "metadata": {
    "tags": []
   },
   "outputs": [],
   "source": [
    "def vrat_procenta_z_celkoveho_prodeje(udaj) -> float:\n",
    "    return round(udaj / udaj.sum() * 100, 1)"
   ]
  },
  {
   "cell_type": "markdown",
   "id": "3e5aa9cd-18d8-45d2-ba0a-06c05f020b6f",
   "metadata": {},
   "source": [
    "<br>\n",
    "\n",
    "Vytvoření nového sloupečku `procento_z_celkoveho_prodeje`:"
   ]
  },
  {
   "cell_type": "code",
   "execution_count": null,
   "id": "c23f2839-f2cd-422a-a5d3-e989940a6f58",
   "metadata": {
    "tags": []
   },
   "outputs": [],
   "source": [
    "df_ovoce['procento_z_celkoveho_prodeje'] = df_ovoce.groupby('pobocka')['prodane_mnozstvi'] \\\n",
    "    .transform(vrat_procenta_z_celkoveho_prodeje)"
   ]
  },
  {
   "cell_type": "code",
   "execution_count": null,
   "id": "6d2a7983-b1fd-4bfc-b372-3b690dea6f49",
   "metadata": {
    "tags": []
   },
   "outputs": [],
   "source": [
    "df_ovoce"
   ]
  },
  {
   "cell_type": "markdown",
   "id": "cd66bb13-620f-4f26-bcae-00ccb1dd5335",
   "metadata": {},
   "source": [
    "1. Nejprve seskupíš data podle sloupce `pobocka` pomocí `groupby`,\n",
    "2. dále použiješ metodu `transform`, která umožňuje použít uživatelem definovanou funkci,\n",
    "3. definuješ funkci, která vybere vypočítá procentuální vyjádření prodaného zboží pro pobočku,\n",
    "4. přidáš nový sloupeček `procento_z_celkoveho_prodeje`."
   ]
  },
  {
   "cell_type": "markdown",
   "id": "202805fc-bda1-44bb-b5c7-e61d76c6a3fa",
   "metadata": {},
   "source": [
    "### Metoda `apply`\n",
    "\n",
    "---\n",
    "\n",
    "Metoda `apply` ti také dovolí, používat uživatelem definované funkce na seskupená data.\n",
    "\n",
    "Následně vrací objekt knihovny `pandas` (buď `DataFrame`, nebo `Series`, a nebo skalární hodnota)."
   ]
  },
  {
   "cell_type": "code",
   "execution_count": null,
   "id": "1b4dea9b-8409-4b6c-add7-7741d40fecb2",
   "metadata": {
    "tags": []
   },
   "outputs": [],
   "source": [
    "df_ovoce.head(6)"
   ]
  },
  {
   "cell_type": "code",
   "execution_count": null,
   "id": "e55bfe4c-0cdf-4115-8d76-fec54962e84f",
   "metadata": {},
   "outputs": [],
   "source": [
    "def vypocitej_vydelek_za_artikl(seskupene):\n",
    "    seskupene['vydelek_pobocky'] = seskupene['prodane_mnozstvi'] * seskupene['cena']\n",
    "    return seskupene"
   ]
  },
  {
   "cell_type": "markdown",
   "id": "96cef76c-bde5-4b91-8bbc-dbb208164263",
   "metadata": {},
   "source": [
    "<br>\n",
    "\n",
    "Metoda `apply` je **obecnější a flexibilnější** než `transform`.\n",
    "\n",
    "`apply` umožňuje použít uživatelem definovanou funkci na každou skupinu po seskupení dat pomocí `groupby`.\n",
    "\n",
    "Výsledek metody `apply` může mít jiný tvar než původní data."
   ]
  },
  {
   "cell_type": "code",
   "execution_count": null,
   "id": "85efa3b5-ebed-4e0c-9791-dadf5c44f174",
   "metadata": {},
   "outputs": [],
   "source": [
    "vystup = df_ovoce.groupby('pobocka', group_keys=False).apply(vypocitej_vydelek_za_artikl)"
   ]
  },
  {
   "cell_type": "code",
   "execution_count": null,
   "id": "8c9ef115-4b77-4d3d-87d3-520db668345d",
   "metadata": {
    "tags": []
   },
   "outputs": [],
   "source": [
    "vystup"
   ]
  },
  {
   "cell_type": "code",
   "execution_count": null,
   "id": "0318359c-a7ab-496c-ba93-06b5b04d1cc4",
   "metadata": {
    "tags": []
   },
   "outputs": [],
   "source": [
    "df_ovoce.groupby?"
   ]
  },
  {
   "cell_type": "markdown",
   "id": "1c3f669a-9cf4-4318-b60a-8cdc11194989",
   "metadata": {},
   "source": [
    "Od posledních verzí frameworku (`1.5.0` a vyšší) platí, že pokud bude výsledkem `DataFrame` nebo `Series` musíš uvést argument pro `group_keys=True`)."
   ]
  },
  {
   "cell_type": "code",
   "execution_count": null,
   "id": "81552747-c871-4f95-836d-ecbc76c64c1f",
   "metadata": {},
   "outputs": [],
   "source": [
    "vystup = df_ovoce.groupby('pobocka', group_keys=True).apply(vypocitej_vydelek_za_artikl)"
   ]
  },
  {
   "cell_type": "code",
   "execution_count": null,
   "id": "afe36611-5f51-4f89-8a6f-737b3e320118",
   "metadata": {},
   "outputs": [],
   "source": [
    "vystup.head(6)"
   ]
  },
  {
   "cell_type": "markdown",
   "id": "d239a75a-8c15-4d41-a7d8-96bc14b22db9",
   "metadata": {},
   "source": [
    "Na první pohled vypadají metody `apply` a `transform` docela podobně.\n",
    "\n",
    "Metoda `transform` je trochu omezenější než `apply`.\n",
    "\n",
    "Slouží k aplikaci uživatelem definované nebo vestavěné funkce **na každý prvek** skupiny po seskupení s `groupby`.\n",
    "\n",
    "`transform` musí vracet hodnotu stejného tvaru jako vstupní data.\n",
    "\n",
    "Výsledek metody `transform` **má stejný tvar jako původní data**.\n",
    "\n",
    "#### Apply\n",
    "* potřebuješ výsledek, který **má jiný tvar než původní data**,\n",
    "* umí zpracovat **více sloupečků současně**.\n",
    "\n",
    "#### Transform\n",
    "* potřebuješ výsledek, který **má stejný tvar jako původní data**,\n",
    "* umí zpracovat **pouze jeden sloupeček**."
   ]
  },
  {
   "cell_type": "code",
   "execution_count": null,
   "id": "c300c5f0-6144-4fa7-b26d-585021c5c4a3",
   "metadata": {
    "tags": []
   },
   "outputs": [],
   "source": [
    "df_rozdily = DataFrame({\n",
    "    'KLIC': ['A','B','C'] * 3,\n",
    "    'A': numpy.arange(9),\n",
    "    'B': [1,2,3] * 3,\n",
    "})"
   ]
  },
  {
   "cell_type": "code",
   "execution_count": null,
   "id": "55cb53af-75d4-4b89-b09e-0e38abae2b68",
   "metadata": {
    "tags": []
   },
   "outputs": [],
   "source": [
    "df_rozdily"
   ]
  },
  {
   "cell_type": "markdown",
   "id": "7dbfd38d-5150-4fd7-b8ae-e12984940768",
   "metadata": {},
   "source": [
    "#### `transform` vrací výsledky ve stejném tvaru"
   ]
  },
  {
   "cell_type": "code",
   "execution_count": null,
   "id": "cea77fd6-f097-4f89-8f04-ca6fc192fcdb",
   "metadata": {
    "tags": []
   },
   "outputs": [],
   "source": [
    "def vypocitej_sumu(data):\n",
    "    return data.sum()"
   ]
  },
  {
   "cell_type": "code",
   "execution_count": null,
   "id": "624ec01b-6529-4966-8461-e14017b8feda",
   "metadata": {
    "tags": []
   },
   "outputs": [],
   "source": [
    "seskup_df_rozdily_apply = df_rozdily.groupby('KLIC')['A'].apply(vypocitej_sumu)"
   ]
  },
  {
   "cell_type": "code",
   "execution_count": null,
   "id": "280415b9-adaf-4e03-b1a5-903115d6b425",
   "metadata": {
    "tags": []
   },
   "outputs": [],
   "source": [
    "seskup_df_rozdily_apply"
   ]
  },
  {
   "cell_type": "code",
   "execution_count": null,
   "id": "194c0417-2b62-4cca-920e-b6004319feef",
   "metadata": {
    "tags": []
   },
   "outputs": [],
   "source": [
    "seskup_df_rozdily_trans = df_rozdily.groupby('KLIC')['A'].transform(vypocitej_sumu)"
   ]
  },
  {
   "cell_type": "code",
   "execution_count": null,
   "id": "ffe07d32-7af6-483f-bf7a-753444503f52",
   "metadata": {
    "tags": []
   },
   "outputs": [],
   "source": [
    "seskup_df_rozdily_trans"
   ]
  },
  {
   "cell_type": "markdown",
   "id": "c3012581-c13c-4352-9b55-b5da71596e0c",
   "metadata": {},
   "source": [
    "#### `apply` umí pracovat s více sloupečky, `transform` jen s jedním"
   ]
  },
  {
   "cell_type": "code",
   "execution_count": null,
   "id": "34c0a859-a5ec-4194-acae-1d4d62def998",
   "metadata": {
    "tags": []
   },
   "outputs": [],
   "source": [
    "df_rozdily"
   ]
  },
  {
   "cell_type": "code",
   "execution_count": null,
   "id": "79dfb39b-a39b-4311-b6a4-790c536478ca",
   "metadata": {
    "tags": []
   },
   "outputs": [],
   "source": [
    "def vypocitej_rozdil(data):\n",
    "    return data['B'] - data['A']"
   ]
  },
  {
   "cell_type": "code",
   "execution_count": null,
   "id": "d282c7f1-e633-41c0-ae70-b2d011a3c4d2",
   "metadata": {
    "tags": []
   },
   "outputs": [],
   "source": [
    "df_rozdily.groupby('KLIC').apply(vypocitej_rozdil)"
   ]
  },
  {
   "cell_type": "code",
   "execution_count": null,
   "id": "3fc45149-c3be-4732-83b7-39d9565206b5",
   "metadata": {
    "tags": []
   },
   "outputs": [],
   "source": [
    "df_rozdily.groupby('KLIC').transform(vypocitej_rozdil)"
   ]
  },
  {
   "cell_type": "markdown",
   "id": "49c4393e-280b-42a9-9998-48923a8778b5",
   "metadata": {},
   "source": [
    "<br>\n",
    "\n",
    "**🧠 CVIČENÍ 🧠, procvič si funkcí GroupBy a agregační funkce**"
   ]
  },
  {
   "cell_type": "markdown",
   "id": "44a67799-60fa-4b46-acc3-63a10550c90a",
   "metadata": {},
   "source": [
    "Máš zadaný takový datový set."
   ]
  },
  {
   "cell_type": "markdown",
   "id": "e0687a5b-8dce-49a8-aafc-48f9f454ca4c",
   "metadata": {},
   "source": [
    "Následně:\n",
    "1. Pomocí metody `filter` vyber prodejny, které prodaly **alespoň 30 produktů**,\n",
    "2. na filtrovaném datasetu použijte metodu `apply` pro výpočet **celkového příjmu z prodeje pro každý obchod**."
   ]
  },
  {
   "cell_type": "code",
   "execution_count": null,
   "id": "0f09e919-36b2-4992-aca0-39fbec852e64",
   "metadata": {
    "tags": []
   },
   "outputs": [],
   "source": [
    "from pandas import DataFrame\n",
    "\n",
    "df_prodej_hardware = DataFrame({\n",
    "    'prodejna_id': (5, 4, 1, 5, 5, 1, 4, 2, 5, 1, 3, 1, 3, 4, 2, 1, 5, 4, 1, 5),\n",
    "    'transakce_id': (1278, 1216, 1866, 1872, 1797, 1272, 1880, 1061, 1595, 1879, 1728,\n",
    "       1341, 1396, 1698, 1018, 1176, 1611, 1395, 1444, 1232),\n",
    "    'predmet_prodeje': ('grafická_karta', 'SSD', 'RAM', 'procesor', 'grafická_karta',\n",
    "       'základní_deska', 'SSD', 'SSD', 'grafická_karta', 'RAM',\n",
    "       'grafická_karta', 'procesor', 'grafická_karta', 'SSD',\n",
    "       'grafická_karta', 'RAM', 'základní_deska', 'HDD', 'grafická_karta',\n",
    "       'RAM'),\n",
    "    'pocet_prodanych_ks': (1,  5,  6,  6,  3,  7,  9, 10,  8,  6,  8,  5,  8, 10,  4, 10,  8,\n",
    "       10,  2,  5),\n",
    "    'cena_predmetu': (19500.69874949, 19731.10951735, 14114.15342339, 10953.87914371,\n",
    "        6535.78851758, 16369.00288429, 13852.2578648 ,  3671.03031723,\n",
    "       18263.08009763, 16539.476237  , 19021.09830919, 14651.53041357,\n",
    "       12461.59632075,  8655.73920767, 18688.2054254 , 17388.24584526,\n",
    "        1381.76406707,  1014.1560027 ,  7841.03565412, 16305.78995025)\n",
    "})"
   ]
  },
  {
   "cell_type": "code",
   "execution_count": null,
   "id": "14413a52-678e-47ec-8d6f-64ac842af5e6",
   "metadata": {
    "tags": []
   },
   "outputs": [],
   "source": [
    "df_prodej_hardware.head()"
   ]
  },
  {
   "cell_type": "code",
   "execution_count": null,
   "id": "23085fab-750f-4dbf-9deb-f8c713c2966a",
   "metadata": {},
   "outputs": [],
   "source": [
    "#Úloha 1\n",
    "cilove_prodejny = df_prodej_hardware.groupby('prodejna_id') \\\n",
    "                .filter(lambda prodejna: prodejna.pocet_prodanych_ks.sum() >= 30)"
   ]
  },
  {
   "cell_type": "code",
   "execution_count": null,
   "id": "2fe7f7c5-3ea5-4b70-90b1-9418f2ef6ca3",
   "metadata": {},
   "outputs": [],
   "source": [
    "def func_1(seskupene_data, limit: int = 30) -> bool:\n",
    "    return seskupene_data[\"pocet_prodanych_ks\"] >= limit"
   ]
  },
  {
   "cell_type": "code",
   "execution_count": null,
   "id": "8aead5fe-3212-42ef-87aa-8eed1f85040a",
   "metadata": {},
   "outputs": [],
   "source": [
    "prodeje_prodejen = cilove_prodejny.groupby('prodejna_id') \\\n",
    "                .aggregate({'pocet_prodanych_ks': sum})"
   ]
  },
  {
   "cell_type": "code",
   "execution_count": null,
   "id": "28c92d56-9b21-4ba4-a434-e6270e602698",
   "metadata": {
    "tags": []
   },
   "outputs": [],
   "source": [
    "df_prodej_hardware[\"prodejna_id\"].unique()"
   ]
  },
  {
   "cell_type": "code",
   "execution_count": null,
   "id": "4e69ce24-789d-4530-9e18-2fda3357b07f",
   "metadata": {},
   "outputs": [],
   "source": [
    "#Úloha 2\n",
    "prijmy_prodejen = pd.DataFrame(df_prodej_hardware.groupby('prodejna_id')['cena_predmetu'] \\\n",
    "                .apply(lambda prodejna: prodejna.sum())) \\\n",
    "                .rename(columns = { 'cena_predmetu': 'prijem_z_prodeje' } ) \\\n",
    "                .round( 2 )"
   ]
  },
  {
   "cell_type": "code",
   "execution_count": null,
   "id": "17fcdfc8-525f-4179-8405-8e7969a59f13",
   "metadata": {},
   "outputs": [],
   "source": []
  },
  {
   "cell_type": "markdown",
   "id": "4b08e4d4-9324-4ec9-a317-00f4fa77f5e6",
   "metadata": {},
   "source": [
    "<details>\n",
    "    <summary>▶️ Řešení</summary>\n",
    "    \n",
    "    ```python\n",
    "    def vyber_prodej_vetsi_nez_limit(data, limit: int = 30):\n",
    "        return data['pocet_prodanych_ks'].sum() > limit\n",
    "        \n",
    "    def vypocitej_celkovy_vydelek_prodejny(skupina):\n",
    "        return (skupina['pocet_prodanych_ks'] * skupina['cena_predmetu']).sum()\n",
    "    \n",
    "    df_filtr_hardware = df_prodej_hardware.groupby('prodejna_id') \\\n",
    "                            .filter(vyber_prodej_vetsi_nez_limit)\n",
    "    \n",
    "    \n",
    "    celkovy_vydelek = df_filtr_hardware.groupby('prodejna_id') \\\n",
    "                            .apply(vypocitej_celkovy_vydelek_prodejny)\n",
    "    ```\n",
    "</details>"
   ]
  },
  {
   "cell_type": "markdown",
   "id": "aad768f5-f565-4d9d-954a-b1616596c163",
   "metadata": {},
   "source": [
    "## Pivot tabulky\n",
    "\n",
    "---\n",
    "\n",
    "<img src=\"https://external-content.duckduckgo.com/iu/?u=https%3A%2F%2Ftse2.mm.bing.net%2Fth%3Fid%3DOIP.P16hnt14CM-mJ5eAKykxLAHaHa%26pid%3DApi&f=1&ipt=27e3f5b23fe44567ad0730192d5dcb13c7c23aa6e87579d16df05e27461dc12c&ipo=images\" width=\"160\" style=\"margin-left:auto; margin-right:auto\"/>"
   ]
  },
  {
   "cell_type": "markdown",
   "id": "728058cc-018c-4d43-884d-ac516e96ba09",
   "metadata": {},
   "source": [
    "*Pivot tabulky* (*kontingenční tabulky*) jsou užitečné pro přehledné zobrazení a analýzu dat z tabulkových zdrojů.\n",
    "\n",
    "Pomocí pivot tabulek můžeš **seskupit data podle určitých kategorií** a provést agregaci hodnot.\n",
    "\n",
    "Nejprve si představ situaci bez pivot tabulek, pomocí ukázky níže:"
   ]
  },
  {
   "cell_type": "code",
   "execution_count": null,
   "id": "c4952eb7-3237-46eb-a35a-464b281c51b3",
   "metadata": {
    "tags": []
   },
   "outputs": [],
   "source": [
    "!pip install seaborn"
   ]
  },
  {
   "cell_type": "code",
   "execution_count": null,
   "id": "0ff3a4c7-22c6-4ba6-be06-c072c3f8abca",
   "metadata": {
    "tags": []
   },
   "outputs": [],
   "source": [
    "import seaborn"
   ]
  },
  {
   "cell_type": "markdown",
   "id": "2ab388cb-c1eb-4d6a-8710-e5ee875ff373",
   "metadata": {},
   "source": [
    "<br>\n",
    "\n",
    "V této ukazce použiješ vzorová data týkající se [nehody lodi Titanic](https://en.wikipedia.org/wiki/Sinking_of_the_Titanic):"
   ]
  },
  {
   "cell_type": "code",
   "execution_count": null,
   "id": "58a60ef1-1fd7-4ef3-ab49-234417326c6f",
   "metadata": {
    "tags": []
   },
   "outputs": [],
   "source": [
    "df_titanic = seaborn.load_dataset('titanic')"
   ]
  },
  {
   "cell_type": "code",
   "execution_count": null,
   "id": "aa9c3ab2-47d3-419a-817a-907c67809122",
   "metadata": {
    "tags": []
   },
   "outputs": [],
   "source": [
    "df_titanic.head()"
   ]
  },
  {
   "cell_type": "markdown",
   "id": "bb2e00c7-6848-4621-b4c8-9cbbe831e486",
   "metadata": {},
   "source": [
    "<br>\n",
    "\n",
    "Pro jakoukoliv pokročilou analýzu dat, potřebuješ údaj seskupit.\n",
    "\n",
    "Tak jak jsi do prováděl doposud, pomocí `groupby`:"
   ]
  },
  {
   "cell_type": "code",
   "execution_count": null,
   "id": "28cd073c-bc4e-40a2-bbf6-b5d325ba7043",
   "metadata": {
    "tags": []
   },
   "outputs": [],
   "source": [
    "df_titanic[\"sex\"].unique()"
   ]
  },
  {
   "cell_type": "code",
   "execution_count": null,
   "id": "23f797fe-2356-4382-b894-500815af693c",
   "metadata": {
    "tags": []
   },
   "outputs": [],
   "source": [
    "df_titanic.groupby('sex')"
   ]
  },
  {
   "cell_type": "markdown",
   "id": "fb7fa9c5-69f3-410a-954c-eeb2c1773f71",
   "metadata": {},
   "source": [
    "<br>\n",
    "\n",
    "Potřebuješ průměrnou hodnotu, ať je na sloupečku `survived` vidět poměr přeživších:"
   ]
  },
  {
   "cell_type": "code",
   "execution_count": null,
   "id": "f2c6b88c-6557-4968-b5c1-19ed11102bb2",
   "metadata": {
    "tags": []
   },
   "outputs": [],
   "source": [
    "df_titanic.groupby('sex')['survived'].mean()"
   ]
  },
  {
   "cell_type": "markdown",
   "id": "8bff9730-da86-4980-ad8a-81a8b63513f4",
   "metadata": {},
   "source": [
    "<br>\n",
    "\n",
    "Pro lepší čitelnost **zaokrouhlím výsledek na dvě desetinné čísla**:"
   ]
  },
  {
   "cell_type": "code",
   "execution_count": null,
   "id": "d5fd48c8-82ae-4528-99d7-49b575429158",
   "metadata": {
    "tags": []
   },
   "outputs": [],
   "source": [
    "df_titanic.groupby('sex')['survived'].mean().round(2)"
   ]
  },
  {
   "cell_type": "markdown",
   "id": "316b3c45-b3f6-4798-b9c2-417d7e4afb73",
   "metadata": {},
   "source": [
    "Takový průzkum z této studie ti dá jasný pohled na věc:\n",
    "* 3 ze 4 žen přežily,\n",
    "* 1 z 5 mužů přežil."
   ]
  },
  {
   "cell_type": "markdown",
   "id": "417627ff-9c0c-483d-9d6a-f0b7c252e066",
   "metadata": {},
   "source": [
    "Pokud budeš potřebovat detailnější analýzy, budeš potřebovat více dat.\n",
    "\n",
    "Třeba situaci, kde kromě pohlaví, bereš v potaz **třídu cestujících** `class`:"
   ]
  },
  {
   "cell_type": "code",
   "execution_count": null,
   "id": "6f49785c-40b7-4029-8500-0f29c2a087f7",
   "metadata": {
    "tags": []
   },
   "outputs": [],
   "source": [
    "df_titanic[\"class\"].unique()"
   ]
  },
  {
   "cell_type": "code",
   "execution_count": null,
   "id": "d12df2e9-52e1-4c89-9614-a9cf57ff51e5",
   "metadata": {
    "tags": []
   },
   "outputs": [],
   "source": [
    "df_titanic.groupby(['sex', 'class'])[['survived']].mean()"
   ]
  },
  {
   "cell_type": "code",
   "execution_count": null,
   "id": "52a8aa16-d63a-498a-9e2b-211eebed76d6",
   "metadata": {
    "tags": []
   },
   "outputs": [],
   "source": [
    "type(df_titanic.groupby(['sex', 'class'])[['survived']])"
   ]
  },
  {
   "cell_type": "code",
   "execution_count": null,
   "id": "1125e9d5-97d0-4dde-84c4-ffcda03f8cc1",
   "metadata": {
    "tags": []
   },
   "outputs": [],
   "source": [
    "type(df_titanic.groupby(['sex', 'class'])['survived'].mean())"
   ]
  },
  {
   "cell_type": "code",
   "execution_count": null,
   "id": "10310324-2299-4e99-8f39-a9892915faa4",
   "metadata": {
    "tags": []
   },
   "outputs": [],
   "source": [
    "df_titanic.groupby(['sex', 'class'])[['survived']].mean().round(2)"
   ]
  },
  {
   "cell_type": "markdown",
   "id": "aa1de43c-3ad0-4b8e-9b01-7926c9016714",
   "metadata": {},
   "source": [
    "<br>\n",
    "\n",
    "Metodou `unstack` si můžeš vytvořit nové sloupečky, které jsou postavené na novém Indexu, nebo Indexech (*Multiindex*):"
   ]
  },
  {
   "cell_type": "code",
   "execution_count": null,
   "id": "6aa65f34-1389-4351-8e35-ba11ea3e6cc9",
   "metadata": {
    "tags": []
   },
   "outputs": [],
   "source": [
    "df_titanic.groupby(['sex', 'class'])['survived'].mean().round(2).unstack()"
   ]
  },
  {
   "cell_type": "markdown",
   "id": "5397b2a7-7a67-4994-a0be-fdd4c70d30cb",
   "metadata": {},
   "source": [
    "Takový průzkum ti dá skutečně lepší pohled na věc.\n",
    "\n",
    "Současně ale roste **náročnost ohlášení**.\n",
    "\n",
    "Zápis \"bobtná\" a **stává se náročnějším na přečtení a pochopení**."
   ]
  },
  {
   "cell_type": "markdown",
   "id": "1588b19e-6424-4586-91d4-931438e465bd",
   "metadata": {},
   "source": [
    "<br>\n",
    "\n",
    "### Pivot tabulka\n",
    "\n",
    "---"
   ]
  },
  {
   "cell_type": "markdown",
   "id": "2f034865-bd4b-4e34-b2b1-64a9edcb0955",
   "metadata": {
    "tags": []
   },
   "source": [
    "Podobné řešení ti nabízí funkce `pivot_table`:"
   ]
  },
  {
   "cell_type": "code",
   "execution_count": null,
   "id": "a82f7280-a4c4-47cb-912f-df906772b1e8",
   "metadata": {
    "tags": []
   },
   "outputs": [],
   "source": [
    "df_titanic.groupby(['sex', 'class'])['survived'].mean().round(2).unstack()"
   ]
  },
  {
   "cell_type": "code",
   "execution_count": null,
   "id": "221df6bb-478b-40cb-ae6e-f5e4f23611b3",
   "metadata": {
    "tags": []
   },
   "outputs": [],
   "source": [
    "df_titanic.pivot_table('survived', index='sex', columns='class').round(2)"
   ]
  },
  {
   "cell_type": "markdown",
   "id": "29b7ad01-1bf7-48f0-9ba2-404ca1cd65af",
   "metadata": {},
   "source": [
    "Zásádním rozdílem je ovšem **čitelnost**, kterou máš pro tuto variantu zápisu.\n",
    "\n",
    "```\n",
    "Clarity beats purity\n",
    "```\n",
    "\n",
    "Pomocí vhodných argumentů, můžeš doplnit vysvětlivky tam, kde funkce `groupby` nemohla."
   ]
  },
  {
   "cell_type": "markdown",
   "id": "05723ff2-9147-40d9-8562-0f31104dd15e",
   "metadata": {},
   "source": [
    "Stejně platí, že pokud budeš potřebovat **další Index**, můžeš si pomoci funkcí `cut`:"
   ]
  },
  {
   "cell_type": "code",
   "execution_count": null,
   "id": "064b90b8-f422-49d3-8c13-686436937741",
   "metadata": {
    "tags": []
   },
   "outputs": [],
   "source": [
    "df_titanic.head()"
   ]
  },
  {
   "cell_type": "code",
   "execution_count": null,
   "id": "62221688-a1a5-4c86-b62d-e375d7f89e94",
   "metadata": {
    "tags": []
   },
   "outputs": [],
   "source": [
    "df_titanic['age'].describe()"
   ]
  },
  {
   "cell_type": "code",
   "execution_count": null,
   "id": "870c0770-01e3-4724-9908-857100ea045c",
   "metadata": {
    "tags": []
   },
   "outputs": [],
   "source": [
    "from pandas import cut"
   ]
  },
  {
   "cell_type": "code",
   "execution_count": null,
   "id": "12c4960e-eb9b-4c3b-89e2-f43843f0beeb",
   "metadata": {
    "tags": []
   },
   "outputs": [],
   "source": [
    "age = cut(df_titanic['age'], [1, 25, 80])"
   ]
  },
  {
   "cell_type": "code",
   "execution_count": null,
   "id": "d9900cb8-35e0-40b5-98d5-39bc2b6740a5",
   "metadata": {
    "tags": []
   },
   "outputs": [],
   "source": [
    "age  # < xxx , xxx )"
   ]
  },
  {
   "cell_type": "code",
   "execution_count": null,
   "id": "8cf06123-73ea-4b2b-a9db-646c929bd5fd",
   "metadata": {
    "tags": []
   },
   "outputs": [],
   "source": [
    "df_titanic.pivot_table('survived', index=['sex', age], columns='class').round(2)"
   ]
  },
  {
   "cell_type": "markdown",
   "id": "8cebcc6c-49d3-4ea1-8614-9e83ece43e0c",
   "metadata": {},
   "source": [
    "Pomocí funkce `cut` doplníš tabulku na **Multiindex**.\n",
    "\n",
    "Ten nyní vytvoří i rozsah pro věkovou kategorii."
   ]
  },
  {
   "cell_type": "markdown",
   "id": "6a0dfb79-1a21-4594-84c5-8addf90d8217",
   "metadata": {},
   "source": [
    "<br>\n",
    "\n",
    "**🧠 CVIČENÍ 🧠, procvič si pivot tabulky**"
   ]
  },
  {
   "cell_type": "markdown",
   "id": "dc99fe24-09fa-4729-bef1-8a03371fdbbe",
   "metadata": {},
   "source": [
    "Ze zadaného datasetu vytvoř **pivot tabulku**, která zobrazí **počet prodaných kusů ovoce** pro **každý obchod** a **druh ovoce**."
   ]
  },
  {
   "cell_type": "code",
   "execution_count": null,
   "id": "6c7ce318-8188-48fe-b768-2275036e2c71",
   "metadata": {
    "tags": []
   },
   "outputs": [],
   "source": [
    "ovoce_data = {\n",
    "    'pobocka': ['A', 'A', 'B', 'B', 'C', 'C'],\n",
    "    'ovoce': ['jablko', 'banan', 'jablko', 'banan', 'jablko', 'banan'],\n",
    "    'prodane_mnozstvi': [10, 15, 8, 30, 20, 25],\n",
    "    'cena': [20, 12, 22, 10, 18, 15]\n",
    "}"
   ]
  },
  {
   "cell_type": "code",
   "execution_count": null,
   "id": "b56f3137-215b-4052-b6ae-ede940b56142",
   "metadata": {},
   "outputs": [],
   "source": [
    "# pivot_table()"
   ]
  },
  {
   "cell_type": "code",
   "execution_count": null,
   "id": "44dca2d0-a59e-4163-a1f4-11a2d4ef2f08",
   "metadata": {
    "tags": []
   },
   "outputs": [],
   "source": [
    "prodane_kusy = DataFrame(ovoce_data) \\\n",
    "            .pivot_table(\n",
    "                index='pobocka',\n",
    "                columns ='ovoce',\n",
    "                values='prodane_mnozstvi'\n",
    ")"
   ]
  },
  {
   "cell_type": "code",
   "execution_count": null,
   "id": "7de77477-f429-4c4e-920e-7d35de81e4b8",
   "metadata": {
    "tags": []
   },
   "outputs": [],
   "source": [
    "prodane_kusy"
   ]
  },
  {
   "cell_type": "markdown",
   "id": "5962aea9-4386-40c1-a1de-88cabfec8ab5",
   "metadata": {},
   "source": [
    "<details>\n",
    "    <summary>▶️ Řešení</summary>\n",
    "    \n",
    "    ```python\n",
    "    pivot_tabulka = df_ovoce.pivot_table(values=\"prodane_mnozstvi\", index=\"pobocka\", columns=\"ovoce\")\n",
    "    ```\n",
    "</details>"
   ]
  },
  {
   "cell_type": "markdown",
   "id": "71c2a307-eefb-4393-8ae2-4bafe0a9b9d5",
   "metadata": {},
   "source": [
    "<br>\n",
    "\n",
    "## Časové řady\n",
    "\n",
    "---\n",
    "\n",
    "<img src=\"https://external-content.duckduckgo.com/iu/?u=https%3A%2F%2Ftse1.mm.bing.net%2Fth%3Fid%3DOIP.odqbr-09dxxBQjF7x7NyBAHaII%26pid%3DApi&f=1&ipt=5b4a03c1dd38b52108237102ebb350595a5d6ea6a50572f5897ca89fbf5b5445&ipo=images\" width=\"160\" style=\"margin-left:auto; margin-right:auto\"/>"
   ]
  },
  {
   "cell_type": "markdown",
   "id": "486deec9-c055-4adf-9ac7-1493d8f44389",
   "metadata": {
    "tags": []
   },
   "source": [
    "Část *frameworku* byla vyvinuta za účelem **finančního modelování**.\n",
    "\n",
    "Proto je více než dobře vybavena sadou nástrojů, které umí pracovat **s daty, časem a časovými objekty**.\n",
    "\n",
    "<br>\n",
    "\n",
    "Uplatnění:\n",
    "* **Analýza a predikce**: Časové řady umožňují analyzovat vývoj hodnot v čase a předpovídat budoucí trendy nebo sezónní změny. To je klíčové v oblastech jako finance, ekonomika, prodej, počasí a mnoho dalších.\n",
    "\n",
    "* **Efektivní manipulace s časem**: Pandas poskytuje nástroje pro efektivní práci s časovými řadami, což zjednodušuje úkoly, jako je agregace, interpolace nebo časové posuny. Díky integrovaným funkcím můžete snadno pracovat s daty různých časových frekvencí a konvertovat mezi nimi.\n",
    "\n",
    "* **Časově závislé analýzy**: Časové řady umožňují provádět časově závislé analýzy, jako je detekce změn v trendech, identifikace sezónních vlivů nebo identifikace časových závislostí mezi proměnnými.\n",
    "\n",
    "* **Flexibilní indexace**: Pandas podporuje flexibilní indexaci časových řad, což usnadňuje filtrování, řazení a výběr dat na základě časových značek nebo rozsahů.\n",
    "\n",
    "* **Kompatibilita s dalšími knihovnami**: Pandas je kompatibilní s mnoha dalšími knihovnami pro analýzu časových řad, jako je statsmodels nebo scikit-learn. To usnadňuje integraci a rozšíření vašich analýz s pokročilejšími metodami a algoritmy.\n",
    "    \n",
    "<br>\n",
    "\n",
    "Jde například o údaje typu:\n",
    "* *timestampy*, údaj odkazující na konkrétní časový okamžik (např. `4. července 2015 v 7:00 hod.`),\n",
    "* *časové intervaly*, tedy období odkazují na délku času mezi konkrétním začátkem a koncem (např. intervaly ze dne na den),\n",
    "* *time delta* objekty, tedy přesné délky času (např. 22,22 sekundy)."
   ]
  },
  {
   "cell_type": "markdown",
   "id": "55492851-c233-4c0f-93e3-e22acc7fd430",
   "metadata": {},
   "source": [
    "#### Data a čas v Pythonu\n",
    "\n",
    "---"
   ]
  },
  {
   "cell_type": "markdown",
   "id": "0e27c97e-9918-4e61-abe5-2fb92759baaa",
   "metadata": {},
   "source": [
    "Standardní výbavou Pythonu jsou knihovny `datetime`:"
   ]
  },
  {
   "cell_type": "code",
   "execution_count": null,
   "id": "d0a194fe-fac0-42ae-a6c5-4770aa439395",
   "metadata": {
    "tags": []
   },
   "outputs": [],
   "source": [
    "from datetime import datetime"
   ]
  },
  {
   "cell_type": "code",
   "execution_count": null,
   "id": "ade4d2d7-0b0b-4151-af65-70951feaf8ce",
   "metadata": {
    "tags": []
   },
   "outputs": [],
   "source": [
    "datetime(year=2023, month=4, day=5)"
   ]
  },
  {
   "cell_type": "markdown",
   "id": "d34f2f0b-8ef4-4393-9bef-267566b93298",
   "metadata": {},
   "source": [
    "<br>\n",
    "\n",
    "Nebo knihovna `dateutil` pro parsování datových typů z různých stringových zadání:"
   ]
  },
  {
   "cell_type": "code",
   "execution_count": null,
   "id": "cf54882c-2d33-4c82-bef2-459ed78b8df9",
   "metadata": {
    "tags": []
   },
   "outputs": [],
   "source": [
    "from dateutil import parser"
   ]
  },
  {
   "cell_type": "code",
   "execution_count": null,
   "id": "452e9eec-a77a-4d7f-9e1c-886c1152fd11",
   "metadata": {
    "tags": []
   },
   "outputs": [],
   "source": [
    "date = parser.parse(\"5th of april, 2023\")"
   ]
  },
  {
   "cell_type": "code",
   "execution_count": null,
   "id": "22c01da0-e255-4338-b5b7-394bfa866883",
   "metadata": {
    "tags": []
   },
   "outputs": [],
   "source": [
    "date"
   ]
  },
  {
   "cell_type": "markdown",
   "id": "a82a8b04-49bc-4d1d-9774-567e306c7ab6",
   "metadata": {},
   "source": [
    "Kde pomocí metody `strftime` můžeš vypsat den:"
   ]
  },
  {
   "cell_type": "code",
   "execution_count": null,
   "id": "d28e3912-30c2-4b38-818e-afd8b36aa6ad",
   "metadata": {
    "tags": []
   },
   "outputs": [],
   "source": [
    "date.strftime(\"%A\")"
   ]
  },
  {
   "cell_type": "markdown",
   "id": "dd705f13-538c-4728-8b3f-3bbdbe77f8b1",
   "metadata": {},
   "source": [
    "#### Data a čas v numpy\n",
    "\n",
    "---"
   ]
  },
  {
   "cell_type": "markdown",
   "id": "5dad1276-808f-407f-bab3-74a1d4e15a67",
   "metadata": {},
   "source": [
    "Některé nedostatky uvnitř knihoven `datetime` a `dateutil` vedli ke vzniku sady nástrojů.\n",
    "\n",
    "Tyto doplňky vznikly pod hlavičkou knihovny `numpy`."
   ]
  },
  {
   "cell_type": "code",
   "execution_count": null,
   "id": "951d10ff-5615-4fdd-b776-d07be4e8fbed",
   "metadata": {
    "tags": []
   },
   "outputs": [],
   "source": [
    "from numpy import array, arange"
   ]
  },
  {
   "cell_type": "code",
   "execution_count": null,
   "id": "ace452d7-3323-4d8c-a289-1b9d3bde2906",
   "metadata": {
    "tags": []
   },
   "outputs": [],
   "source": [
    "date = array('2023-04-05', dtype=np.datetime64)"
   ]
  },
  {
   "cell_type": "code",
   "execution_count": null,
   "id": "29f0009b-bfc0-45d5-93db-a4f2544e000a",
   "metadata": {
    "tags": []
   },
   "outputs": [],
   "source": [
    "date"
   ]
  },
  {
   "cell_type": "markdown",
   "id": "a996c168-e54a-4532-8657-1ee9b95a0c47",
   "metadata": {},
   "source": [
    "<br>\n",
    "\n",
    "Pokud potřebuješ pole následujících 7 dní:"
   ]
  },
  {
   "cell_type": "code",
   "execution_count": null,
   "id": "6e41ecfd-cca7-4cc9-b3c5-e890b7a41eea",
   "metadata": {
    "tags": []
   },
   "outputs": [],
   "source": [
    "date + arange(7)"
   ]
  },
  {
   "cell_type": "markdown",
   "id": "61b1f267-2fd9-4a21-af10-e841225d99cc",
   "metadata": {
    "tags": []
   },
   "source": [
    "<br>\n",
    "\n",
    "Vzhledem k jednotnému datovu typu v poli pro **numpy** `datetime64` může tento typ operace\n",
    "provádět mnohem rychleji, než přímo v Pythonu `datetime` objekty, zejména když objekty nabývají na velikosti."
   ]
  },
  {
   "cell_type": "markdown",
   "id": "d0c3286a-23dd-4d9e-877a-5ce07fafe58d",
   "metadata": {},
   "source": [
    "#### Data a čas v pandách\n",
    "\n",
    "---"
   ]
  },
  {
   "cell_type": "markdown",
   "id": "db5a1469-5b8d-4722-992b-e002ac1f1175",
   "metadata": {
    "tags": []
   },
   "source": [
    "Jde o kombinace objektů z obou předchozích podkapitol.\n",
    "\n",
    "Ty dávají dohromady to nejlepší prostředky pro zacházení s časem."
   ]
  },
  {
   "cell_type": "code",
   "execution_count": null,
   "id": "7d095458-75e4-44fb-baf1-06d379db7736",
   "metadata": {
    "tags": []
   },
   "outputs": [],
   "source": [
    "from pandas import to_datetime"
   ]
  },
  {
   "cell_type": "code",
   "execution_count": null,
   "id": "3cd1aaf4-eca0-4f2b-8bd8-5a52fbfd4637",
   "metadata": {
    "tags": []
   },
   "outputs": [],
   "source": [
    "date = to_datetime(\"5th of April, 2023\")"
   ]
  },
  {
   "cell_type": "code",
   "execution_count": null,
   "id": "ec88920f-7144-447a-aef4-85e6842b43f7",
   "metadata": {
    "tags": []
   },
   "outputs": [],
   "source": [
    "date"
   ]
  },
  {
   "cell_type": "code",
   "execution_count": null,
   "id": "30f7fff2-9795-46af-b97a-06cd4ff4962a",
   "metadata": {
    "tags": []
   },
   "outputs": [],
   "source": [
    "date.strftime(\"%A\")"
   ]
  },
  {
   "cell_type": "markdown",
   "id": "1f97f32f-85d0-4497-a770-d164d32ddd2c",
   "metadata": {},
   "source": [
    "<br>\n",
    "\n",
    "### Časové řady\n",
    "\n",
    "---"
   ]
  },
  {
   "cell_type": "markdown",
   "id": "4692cf89-c2c6-40a7-965d-1ae68aae80dd",
   "metadata": {},
   "source": [
    "V podstatě jde o hlavní nástroj, který tato knihovna dovede nabídnout.\n",
    "\n",
    "#### Indexovní časem\n",
    "`DatetimeIndex` obsahuje časové značky (*timestamp*), které jsou uloženy ve formátu `datetime64` s nanosekundovou přesností.\n",
    "\n",
    "Tento objekt umožňuje efektivní práci s časovými řadami a poskytuje mnoho funkcí pro manipulaci s daty a časy.\n",
    "\n",
    "Výhody práce s `DatetimeIndex` objektem:\n",
    "* Časové zóny,\n",
    "* frekvence,\n",
    "* časově závislé selekce,\n",
    "* atributy časových značek,\n",
    "* operace s časem."
   ]
  },
  {
   "cell_type": "code",
   "execution_count": null,
   "id": "60eeeebc-9171-4e69-813b-22f660d41767",
   "metadata": {
    "tags": []
   },
   "outputs": [],
   "source": [
    "from pandas import DatetimeIndex, Series"
   ]
  },
  {
   "cell_type": "code",
   "execution_count": null,
   "id": "99a7e6c3-7d28-4902-83d6-bab5c54c0ccc",
   "metadata": {
    "tags": []
   },
   "outputs": [],
   "source": [
    "datumy = [\"2023-04-05\", \"2022-04-05\", \"2021-04-05\", \"2020-04-05\"]"
   ]
  },
  {
   "cell_type": "code",
   "execution_count": null,
   "id": "1de25773-7754-4c66-8f32-df03bc6b0521",
   "metadata": {
    "tags": []
   },
   "outputs": [],
   "source": [
    "indexy = DatetimeIndex(datumy)"
   ]
  },
  {
   "cell_type": "code",
   "execution_count": null,
   "id": "f4215e08-b7af-4ec2-9c3a-1bb2705fdf78",
   "metadata": {
    "tags": []
   },
   "outputs": [],
   "source": [
    "hodnoty = [to_datetime(den).strftime(\"%A\") for den in datumy]"
   ]
  },
  {
   "cell_type": "code",
   "execution_count": null,
   "id": "22cc433c-dad1-4cff-a19d-04b1cbf65de0",
   "metadata": {
    "tags": []
   },
   "outputs": [],
   "source": [
    "df_hodnoty = Series(hodnoty, index=indexy)"
   ]
  },
  {
   "cell_type": "code",
   "execution_count": null,
   "id": "624a6fd9-07f1-4bac-8a28-25a369ef2119",
   "metadata": {
    "tags": []
   },
   "outputs": [],
   "source": [
    "df_hodnoty"
   ]
  },
  {
   "cell_type": "code",
   "execution_count": null,
   "id": "8b7364a9-02ae-4f73-a70e-2a5500b32729",
   "metadata": {
    "tags": []
   },
   "outputs": [],
   "source": [
    "type(indexy)"
   ]
  },
  {
   "cell_type": "code",
   "execution_count": null,
   "id": "a70446ce-26e6-4515-8bae-a230a0c0cefe",
   "metadata": {
    "tags": []
   },
   "outputs": [],
   "source": [
    "df_hodnoty[\"2020\": \"2022\"]"
   ]
  },
  {
   "cell_type": "markdown",
   "id": "232935cb-7052-41b6-bdc1-4dbfcba8f776",
   "metadata": {},
   "source": [
    "<br>\n",
    "\n",
    "### Základní objekty\n",
    "\n",
    "---\n",
    "\n",
    "Mezi základní objekty pro práci s časem patří:\n",
    "* `Timestamp` typ (související struktura Indexu `DatetimeIndex`,\n",
    "* `Period` typ (.. `PeriodIndex`),\n",
    "* `Timedelta` typ (.. `TimedeltaIndex`)."
   ]
  },
  {
   "cell_type": "markdown",
   "id": "9f7afc83-308b-4fb3-b6a4-6507b51094b8",
   "metadata": {},
   "source": [
    "#### Timestamp & DatetimeIndex\n",
    "\n",
    "Nejčastější datové typy, které lze vyvolat přímo, ovšem běžnější je pracovat s funkcí `to_datetime`.\n",
    "\n",
    "Funkce `to_datetime` umí parsovat různé stringové formáty."
   ]
  },
  {
   "cell_type": "code",
   "execution_count": null,
   "id": "adec7acd-20a5-4a56-8140-98171c7f0885",
   "metadata": {
    "tags": []
   },
   "outputs": [],
   "source": [
    "from pandas import to_datetime"
   ]
  },
  {
   "cell_type": "markdown",
   "id": "d2b5683e-4d6d-4451-9d57-805179be0fc3",
   "metadata": {},
   "source": [
    "#### Práce s jedním datumem"
   ]
  },
  {
   "cell_type": "code",
   "execution_count": null,
   "id": "26fb0d39-b8d8-4df9-9536-1d7dc4a7a26b",
   "metadata": {
    "tags": []
   },
   "outputs": [],
   "source": [
    "datum = to_datetime(\"05/04/2023\")"
   ]
  },
  {
   "cell_type": "code",
   "execution_count": null,
   "id": "6daacedb-f084-447a-9121-e68aea27fa67",
   "metadata": {
    "tags": []
   },
   "outputs": [],
   "source": [
    "datum"
   ]
  },
  {
   "cell_type": "code",
   "execution_count": null,
   "id": "a3a71b46-eb51-4f1c-bb01-5bca9b8541bf",
   "metadata": {
    "tags": []
   },
   "outputs": [],
   "source": [
    "type(datum)"
   ]
  },
  {
   "cell_type": "markdown",
   "id": "096aed85-9245-46da-8d36-08dfc8d08fa8",
   "metadata": {},
   "source": [
    "Pokud do funkce `to_datetime` vložíš jedinou hodnotu, vrací objekty typu `Timestamp`."
   ]
  },
  {
   "cell_type": "markdown",
   "id": "8c458338-b679-415d-bde1-49d3de0c534c",
   "metadata": {},
   "source": [
    "<br>\n",
    "\n",
    "#### Specifický formát"
   ]
  },
  {
   "cell_type": "markdown",
   "id": "f8b4528d-9a5e-4cd2-8704-b92166f3ecc2",
   "metadata": {},
   "source": [
    "Pokud se parser ztratí nebo tvoje zadání neodpovídá jeho vyhotovení:"
   ]
  },
  {
   "cell_type": "code",
   "execution_count": null,
   "id": "ef6c013a-f5d1-49f2-97b9-76a199860034",
   "metadata": {
    "tags": []
   },
   "outputs": [],
   "source": [
    "pd.to_datetime(\"12-11-2010 00:00\", format=\"%d-%m-%Y %H:%M\")"
   ]
  },
  {
   "cell_type": "markdown",
   "id": "faaac369-d9df-452e-9992-63091316a84a",
   "metadata": {},
   "source": [
    "<br>\n",
    "\n",
    "#### Práce s několika datumy"
   ]
  },
  {
   "cell_type": "code",
   "execution_count": null,
   "id": "0485d2db-fef1-4949-aee4-44621b04c99b",
   "metadata": {
    "tags": []
   },
   "outputs": [],
   "source": [
    "datumy = to_datetime([\n",
    "    datetime(2023, 4, 5), \"5th of April 2023\", \"2023-Apr-5\", \"05-04-2023\", \"20230405\"]\n",
    ")"
   ]
  },
  {
   "cell_type": "code",
   "execution_count": null,
   "id": "a66f0d07-e6ce-4215-8d27-06b943c9ce03",
   "metadata": {
    "tags": []
   },
   "outputs": [],
   "source": [
    "datumy"
   ]
  },
  {
   "cell_type": "code",
   "execution_count": null,
   "id": "b09d8517-b186-48e9-90d5-2c0e3c18a42f",
   "metadata": {
    "tags": []
   },
   "outputs": [],
   "source": [
    "type(datumy)"
   ]
  },
  {
   "cell_type": "markdown",
   "id": "2462b4fa-3099-4aae-9e69-84806ef842b0",
   "metadata": {},
   "source": [
    "Zatímco pole hodnot s datumy, které funkce `to_datetime` zpracuje vrací objekt typu `DatetimeIndex`."
   ]
  },
  {
   "cell_type": "markdown",
   "id": "c43f415f-9eb3-4663-809e-56f2881ca45f",
   "metadata": {},
   "source": [
    "<br>\n",
    "\n",
    "Objekt `DatetimeIndex` potom můžeš konvertovat na `PeriodIndex` pomocí *metody* `to_period`:"
   ]
  },
  {
   "cell_type": "code",
   "execution_count": null,
   "id": "69fab45e-b3ce-4339-b19e-206094cc772d",
   "metadata": {
    "tags": []
   },
   "outputs": [],
   "source": [
    "datumy.to_period?"
   ]
  },
  {
   "cell_type": "markdown",
   "id": "64fd87cd-5355-492b-9337-7691068c130f",
   "metadata": {},
   "source": [
    "<br>\n",
    "\n",
    "Tato metoda je užitečná, pokud chcete převést časové řady **na určité časové období**.\n",
    "\n",
    "Když budeš třeba potřebovat převést hodnoty **z denních dat na měsíční data**."
   ]
  },
  {
   "cell_type": "markdown",
   "id": "f3d75c9d-793c-4d01-b585-a19287f2bf61",
   "metadata": {},
   "source": [
    "#### Denní data"
   ]
  },
  {
   "cell_type": "code",
   "execution_count": null,
   "id": "1895f60c-e502-4774-beb9-879cc9ce14a7",
   "metadata": {
    "tags": []
   },
   "outputs": [],
   "source": [
    "datumy.to_period(\"D\")"
   ]
  },
  {
   "cell_type": "markdown",
   "id": "f63b07bd-d914-46bd-895f-8987bb06a3a9",
   "metadata": {},
   "source": [
    "#### Měsíční data"
   ]
  },
  {
   "cell_type": "code",
   "execution_count": null,
   "id": "2e5ad75b-4fd1-4440-9e97-7103071881c0",
   "metadata": {
    "tags": []
   },
   "outputs": [],
   "source": [
    "datumy.to_period(\"M\")"
   ]
  },
  {
   "cell_type": "code",
   "execution_count": null,
   "id": "30185bce-790c-4e54-a875-60ff0235d47f",
   "metadata": {
    "tags": []
   },
   "outputs": [],
   "source": [
    "data = {\n",
    "    'date': pd.date_range(start='2022-01-01', periods=10, freq='D'),\n",
    "    'sales': [100, 102, 105, 107, 110, 112, 115, 117, 120, 122]\n",
    "}"
   ]
  },
  {
   "cell_type": "code",
   "execution_count": null,
   "id": "6ca14750-9cb0-4ec3-a907-8f6f96aa3d1f",
   "metadata": {
    "tags": []
   },
   "outputs": [],
   "source": [
    "df = pd.DataFrame(data)"
   ]
  },
  {
   "cell_type": "code",
   "execution_count": null,
   "id": "02ad7d9b-fb68-4450-b1db-52dbf02b70ec",
   "metadata": {
    "tags": []
   },
   "outputs": [],
   "source": [
    "df.set_index('date', inplace=True)"
   ]
  },
  {
   "cell_type": "code",
   "execution_count": null,
   "id": "6f08f86d-35db-4cc1-901a-a58090cef872",
   "metadata": {
    "tags": []
   },
   "outputs": [],
   "source": [
    "df_period = df.to_period(freq='Y')"
   ]
  },
  {
   "cell_type": "markdown",
   "id": "37c3399d-1628-4570-b845-a52a842d6511",
   "metadata": {},
   "source": [
    "<br>\n",
    "\n",
    "### TimedeltaIndex\n",
    "\n",
    "---\n",
    "\n",
    "Jde o rozdíl v jednotkách času.\n",
    "\n",
    "Nejčastěji se s tímto objektem setkáš, pokud potřebuješ získat **rozdíl mezi dvěma datumy**."
   ]
  },
  {
   "cell_type": "code",
   "execution_count": null,
   "id": "5b1fbc8d-03eb-4fcd-bd6d-ebc260757c34",
   "metadata": {
    "tags": []
   },
   "outputs": [],
   "source": [
    "specialni_datumy = to_datetime([\n",
    "    datetime(2022, 4, 5), \"5th of April 2021\", \"2020-Apr-5\", \"05-04-2019\", \"20180405\"]\n",
    ")"
   ]
  },
  {
   "cell_type": "code",
   "execution_count": null,
   "id": "74c7e266-a391-4a0d-935f-f16ed1fdfc78",
   "metadata": {
    "tags": []
   },
   "outputs": [],
   "source": [
    "datumy - specialni_datumy"
   ]
  },
  {
   "cell_type": "markdown",
   "id": "a0249d89-5dd9-429a-9d44-f1059e9cc3ec",
   "metadata": {},
   "source": [
    "<br>\n",
    "\n",
    "### Funkce `date_range`\n",
    "\n",
    "---\n",
    "\n",
    "Aby bylo zadání řady (sekvence) dat pohodlnější, vyzkoušej funkci `date_range`.\n",
    "\n",
    "Obdobně potom pracují související funkce:\n",
    "* `date_range`, timestampy,\n",
    "* `period_range`, periody,\n",
    "* `timedelta_range`, pro delty."
   ]
  },
  {
   "cell_type": "code",
   "execution_count": null,
   "id": "f65dbd82-0557-4426-baf8-8be7eaaa28f9",
   "metadata": {
    "tags": []
   },
   "outputs": [],
   "source": [
    "from pandas import date_range"
   ]
  },
  {
   "cell_type": "markdown",
   "id": "30bc40fc-1495-45ab-9ae3-819bb63fdb75",
   "metadata": {},
   "source": [
    "<br>\n",
    "\n",
    "#### Počet period"
   ]
  },
  {
   "cell_type": "code",
   "execution_count": null,
   "id": "ba9c46b2-30e9-4b5d-bc8a-76d5c9265cb4",
   "metadata": {
    "tags": []
   },
   "outputs": [],
   "source": [
    "datumy_ind = date_range(\"01-01-1992\", periods=8)"
   ]
  },
  {
   "cell_type": "code",
   "execution_count": null,
   "id": "082c41cf-947e-4b1a-892a-86f9ebeb19db",
   "metadata": {
    "tags": []
   },
   "outputs": [],
   "source": [
    "datumy_ind"
   ]
  },
  {
   "cell_type": "markdown",
   "id": "c93dca27-56ec-4d7e-b57c-b4af16dfe394",
   "metadata": {},
   "source": [
    "<br>\n",
    "\n",
    "#### Frekvence"
   ]
  },
  {
   "cell_type": "code",
   "execution_count": null,
   "id": "b67392de-ea40-44d3-83ed-39739ad5a8ec",
   "metadata": {
    "tags": []
   },
   "outputs": [],
   "source": [
    "datumy_mesicne_ind = date_range(\"01-01-1992\", periods=8, freq=\"M\")"
   ]
  },
  {
   "cell_type": "code",
   "execution_count": null,
   "id": "bbf13f30-b13f-46cf-ab94-648f43e978af",
   "metadata": {
    "tags": []
   },
   "outputs": [],
   "source": [
    "datumy_mesicne_ind"
   ]
  },
  {
   "cell_type": "markdown",
   "id": "963d49da-50a4-4c8e-a067-561a7994a0ae",
   "metadata": {},
   "source": [
    "<br>\n",
    "\n",
    "#### Hodinové periody"
   ]
  },
  {
   "cell_type": "code",
   "execution_count": null,
   "id": "e599a9eb-ebff-4b15-81eb-447a56d49f2a",
   "metadata": {
    "tags": []
   },
   "outputs": [],
   "source": [
    "from pandas import timedelta_range"
   ]
  },
  {
   "cell_type": "code",
   "execution_count": null,
   "id": "23e2cdfa-41a7-46f2-860a-76f473801c66",
   "metadata": {
    "tags": []
   },
   "outputs": [],
   "source": [
    "hodinove_ind = timedelta_range(0, periods=12, freq=\"H\")"
   ]
  },
  {
   "cell_type": "code",
   "execution_count": null,
   "id": "8ca56f2c-855a-4ac7-acde-c19a5700b3ba",
   "metadata": {
    "tags": []
   },
   "outputs": [],
   "source": [
    "hodinove_ind"
   ]
  },
  {
   "cell_type": "markdown",
   "id": "72183bae-31be-4126-9020-11752b10de92",
   "metadata": {},
   "source": [
    "<br>\n",
    "\n",
    "### Frekvence\n",
    "\n",
    "Časovou paletou frekvencí, kterou framework `pandas` nabízí je tato tabulka:\n",
    "\n",
    "| String | Popisek |\n",
    "| :-: | :- |\n",
    "| `D` | kalendářní den |\n",
    "| `W` | týden |\n",
    "| `M` | konec měsíce |\n",
    "| `Q` | konec čtvrtletí |\n",
    "| `A` | konec roku |\n",
    "| `H` | hodiny |\n",
    "| `T` | minuty |\n",
    "| `S` | vteřiny |\n",
    "| `B` | pracovní den |\n",
    "| `BM` | konec pracovníḧo měsíce |\n",
    "| `BQ` | konec pracovního čtvrtletí |"
   ]
  },
  {
   "cell_type": "markdown",
   "id": "68e74423-ec15-4ee3-9612-f656c5ba9175",
   "metadata": {},
   "source": [
    "#### Netradiční frekvence"
   ]
  },
  {
   "cell_type": "code",
   "execution_count": null,
   "id": "d018ea20-0961-4ebd-a8dd-1e89caba59af",
   "metadata": {
    "tags": []
   },
   "outputs": [],
   "source": [
    "timedelta_range(0, periods=5, freq=\"1H15T\")"
   ]
  },
  {
   "cell_type": "code",
   "execution_count": null,
   "id": "3ef01fc0-0311-4b87-91fc-61e00b1bfc06",
   "metadata": {},
   "outputs": [],
   "source": []
  },
  {
   "cell_type": "markdown",
   "id": "ac5d080d-ebb3-4c7a-8bce-9fc29f5543ac",
   "metadata": {},
   "source": [
    "### Resampling\n",
    "\n",
    "---"
   ]
  },
  {
   "cell_type": "markdown",
   "id": "fb6441c1-98d5-44b4-b987-89be68bf6f1e",
   "metadata": {},
   "source": [
    "*Resampling* nebo také *převzorkování* je proces, který upravuje frekvenci časové řady.\n",
    "\n",
    "*Resampling* se obvykle používá **pro snížení frekvence** (z hodinových dat na denní data).\n",
    "\n",
    "*Resampling* zahrnuje *agregaci* dat.\n",
    "\n",
    "V `pandas` se k tomu používá metoda `resample`, která má jako parametr novou frekvenci, na kterou chcete data převést:"
   ]
  },
  {
   "cell_type": "code",
   "execution_count": null,
   "id": "783a0792-0546-4641-8b70-1dd2d384f919",
   "metadata": {
    "tags": []
   },
   "outputs": [],
   "source": [
    "import pandas as pd"
   ]
  },
  {
   "cell_type": "code",
   "execution_count": null,
   "id": "a6e3221e-4a66-4585-8433-d931b29eedd3",
   "metadata": {
    "tags": []
   },
   "outputs": [],
   "source": [
    "data = {\n",
    "    'date': pd.date_range(start='2022-01-01', periods=60, freq='D'),\n",
    "    'sales': range(60)\n",
    "}"
   ]
  },
  {
   "cell_type": "code",
   "execution_count": null,
   "id": "90e40d75-86f7-4bbd-b6be-19aaa370cfae",
   "metadata": {
    "tags": []
   },
   "outputs": [],
   "source": [
    "df = pd.DataFrame(data)"
   ]
  },
  {
   "cell_type": "code",
   "execution_count": null,
   "id": "89ae8368-296a-4c78-bddc-9f4058cc38af",
   "metadata": {
    "tags": []
   },
   "outputs": [],
   "source": [
    "df.set_index('date', inplace=True)"
   ]
  },
  {
   "cell_type": "code",
   "execution_count": null,
   "id": "f433910a-60e8-49c4-a495-34defb5e572a",
   "metadata": {
    "tags": []
   },
   "outputs": [],
   "source": [
    "monthly_data = df.resample('M').sum()"
   ]
  },
  {
   "cell_type": "code",
   "execution_count": null,
   "id": "fa2ab3fb-2050-477a-bb65-67ec2c7fb628",
   "metadata": {
    "tags": []
   },
   "outputs": [],
   "source": [
    "print(monthly_data)"
   ]
  },
  {
   "cell_type": "markdown",
   "id": "60c9ac24-44e5-4979-90a1-1de5fac2aa95",
   "metadata": {},
   "source": [
    "<br>\n",
    "\n",
    "### Zpřesňování\n",
    "\n",
    "---\n",
    "\n",
    "Zahrnuje **zvýšení frekvence časových řad**.\n",
    "\n",
    "Přičemž se nově vytvořené hodnoty obvykle interpolují nebo doplňují nějakou konstantou.\n",
    "\n",
    "V pandas se k zpřesňování používá metoda `asfreq`, která má jako parametr novou frekvenci, na kterou chcete data převést."
   ]
  },
  {
   "cell_type": "code",
   "execution_count": null,
   "id": "a360f1ee-1871-42f0-a1c6-017a65c47da0",
   "metadata": {
    "tags": []
   },
   "outputs": [],
   "source": [
    "data = {\n",
    "    'date': pd.date_range(start='2022-01-01', end='2022-03-01', freq='MS'),\n",
    "    'sales': [100, 120, 150]\n",
    "}"
   ]
  },
  {
   "cell_type": "code",
   "execution_count": null,
   "id": "8bb26986-014a-49f6-b162-62e0444fdf1d",
   "metadata": {
    "tags": []
   },
   "outputs": [],
   "source": [
    "df = pd.DataFrame(data)"
   ]
  },
  {
   "cell_type": "code",
   "execution_count": null,
   "id": "b75e046e-03f7-4df8-890b-67567dcf04ac",
   "metadata": {
    "tags": []
   },
   "outputs": [],
   "source": [
    "df.head()"
   ]
  },
  {
   "cell_type": "code",
   "execution_count": null,
   "id": "a0f57b73-df38-4415-b974-fb337bea7349",
   "metadata": {
    "tags": []
   },
   "outputs": [],
   "source": [
    "df.set_index('date', inplace=True)"
   ]
  },
  {
   "cell_type": "code",
   "execution_count": null,
   "id": "fd3cb029-525b-431e-93b0-037522c587ca",
   "metadata": {
    "tags": []
   },
   "outputs": [],
   "source": [
    "daily_data = df.asfreq('D', method='ffill')"
   ]
  },
  {
   "cell_type": "code",
   "execution_count": null,
   "id": "5f21141b-5879-41c6-a872-cc3ddc30cb05",
   "metadata": {
    "tags": []
   },
   "outputs": [],
   "source": [
    "daily_data.head(20)"
   ]
  },
  {
   "cell_type": "markdown",
   "id": "19281b38-4b14-46ca-94e9-0bbe83f65f57",
   "metadata": {},
   "source": [
    "Metoda `asfreq` bere jako parametr novou frekvenci, na kterou chceme data převést.\n",
    "\n",
    "V případě výše jde o frekvenci `D`, což znamená **denní data**.\n",
    "\n",
    "Protože při zpřesňování se **vytvoří chybějící hodnoty** (v důsledku zvýšení frekvence), je potřeba zvolit metodu pro jejich doplnění.\n",
    "\n",
    "Výš jde o metodu `forward fill` (parametr `method='ffill'`), která kopíruje předchozí hodnotu pro výplň chybějících hodnot.\n",
    "\n",
    "Další možností je použít metodu `'back fill'` (parametr `method='bfill'`), která kopíruje následující hodnotu pro výplň chybějících hodnot."
   ]
  },
  {
   "cell_type": "markdown",
   "id": "cbcc54a1-87bf-45ef-a191-c4841b5675d4",
   "metadata": {},
   "source": [
    "<br>\n",
    "\n",
    "**🧠 CVIČENÍ 🧠, procvič si časové řady**"
   ]
  },
  {
   "cell_type": "markdown",
   "id": "9eca6c6c-508c-4ed9-90fd-250ff33af285",
   "metadata": {},
   "source": [
    "Analyzuj prodeje produktu ve fiktivní společnosti během jednoho roku a zjisti následující:\n",
    "1. Celkový prodej za každý měsíc.\n",
    "2. Průměrný prodej za každý den v týdnu.\n",
    "3. Denní prodej za poslední týden."
   ]
  },
  {
   "cell_type": "code",
   "execution_count": null,
   "id": "917dbcf7-06e1-4957-ab6f-a9b0366b7ce8",
   "metadata": {
    "tags": []
   },
   "outputs": [],
   "source": [
    "import pandas as pd\n",
    "import numpy as np\n",
    "\n",
    "denni_datumy = pd.date_range(start='2022-01-01', end='2022-12-31', freq='D')\n",
    "prodeje = np.random.randint(10, 100, size=(len(date_rng),))\n",
    "\n",
    "data = {\n",
    "    'datumy': denni_datumy,\n",
    "    'prodeje': prodeje\n",
    "}\n",
    "\n",
    "df_prodeje = pd.DataFrame(data)\n",
    "df_prodeje.set_index('datumy', inplace=True)"
   ]
  },
  {
   "cell_type": "code",
   "execution_count": null,
   "id": "533a1a3d-4658-4c89-8185-2b8f335cf7a0",
   "metadata": {
    "tags": []
   },
   "outputs": [],
   "source": [
    "df_prodeje"
   ]
  },
  {
   "cell_type": "code",
   "execution_count": null,
   "id": "a471fc52-1f80-49b8-8c1b-c41975099c85",
   "metadata": {
    "tags": []
   },
   "outputs": [],
   "source": []
  },
  {
   "cell_type": "code",
   "execution_count": null,
   "id": "81bd79db-7eaa-49d0-97a4-7c0f67f468c6",
   "metadata": {
    "tags": []
   },
   "outputs": [],
   "source": []
  },
  {
   "cell_type": "markdown",
   "id": "59d551c8-c6c7-4feb-87f9-18dd70abca59",
   "metadata": {},
   "source": [
    "<details>\n",
    "    <summary>▶️ Řešení</summary>\n",
    "    \n",
    "    ```python\n",
    "    monthly_sales = df.resample('M').sum()\n",
    "    print(\"Celkový prodej za každý měsíc:\")\n",
    "    print(monthly_sales)\n",
    "\n",
    "    df_prodeje['weekday'] = df_prodeje.index.weekday\n",
    "    average_weekday_sales = df_prodeje.groupby('weekday')['prodeje'].mean()\n",
    "    print(\"\\nPrůměrný prodej za každý den v týdnu:\")\n",
    "    print(average_weekday_sales)\n",
    "\n",
    "    last_week_sales = df.loc['2022-12-25':, 'sales']\n",
    "    print(\"\\nDenní prodej za poslední týden:\")\n",
    "    print(last_week_sales)\n",
    "    ```\n",
    "</details>"
   ]
  },
  {
   "cell_type": "markdown",
   "id": "ac24df69-8739-4f20-b929-4576e2423c9d",
   "metadata": {},
   "source": [
    "---"
   ]
  }
 ],
 "metadata": {
  "kernelspec": {
   "display_name": "Python 3 (ipykernel)",
   "language": "python",
   "name": "python3"
  },
  "language_info": {
   "codemirror_mode": {
    "name": "ipython",
    "version": 3
   },
   "file_extension": ".py",
   "mimetype": "text/x-python",
   "name": "python",
   "nbconvert_exporter": "python",
   "pygments_lexer": "ipython3",
   "version": "3.8.10"
  }
 },
 "nbformat": 4,
 "nbformat_minor": 5
}

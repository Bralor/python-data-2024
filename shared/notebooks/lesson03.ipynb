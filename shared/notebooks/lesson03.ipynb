{
 "cells": [
  {
   "cell_type": "markdown",
   "id": "be12ac13-7b29-4178-9960-96b23b2a0480",
   "metadata": {},
   "source": [
    "# Python Data, 2025\n",
    "\n",
    "---"
   ]
  },
  {
   "cell_type": "markdown",
   "id": "3bd42711-2b11-4c2c-abf2-10a3086f7741",
   "metadata": {},
   "source": [
    "* [Manipulace se sloupci](#Spojov%C3%A1n%C3%AD-dat),\n",
    "* [Spojování dat](#Spojov%C3%A1n%C3%AD-dat),\n",
    "    - [spojování s CONCAT](#Spojování-s-CONCAT),\n",
    "    - [spojování s CONCAT a JOIN](#concat-a-volitelný-argument-join),\n",
    "    - [spojování s metodou APPEND](#Spojování-pomocí-metody-APPEND),\n",
    "    - [spojování s MERGE](#Spojování-pomocí-merge),\n",
    "    - [spojování s metodou JOIN](#Spojení-pomocí-indexů,-join),\n",
    "* [Agregace](#Agregace),\n",
    "    - [jednoduchá agregace](#Jednoduchá-agregace),\n",
    "    - [seskupování GROUPBY](#Seskupování-groupby),\n",
    "    - [agregace](#Agregace-s-metodami),\n",
    "    - [filtrování](#Filtrování),\n",
    "    - [transformace](#Transformace),\n",
    "    - [apply](#Metoda-apply),\n",
    "* [Pivot tabulka](#Pivot-tabulky),\n",
    "    - [úvodní motivace](),\n",
    "    - [syntaxe tabulky](),\n",
    "    - [doplňující možnosti]().\n",
    "---"
   ]
  },
  {
   "cell_type": "markdown",
   "id": "e7cf38f7-edf0-4334-8a4f-969b126ad8e0",
   "metadata": {
    "tags": []
   },
   "source": [
    "<br>\n",
    "\n",
    "## Manipulace se sloupci\n",
    "\n",
    "---\n",
    "\n",
    "\n",
    "<img src=\"https://external-content.duckduckgo.com/iu/?u=https%3A%2F%2Ftse4.mm.bing.net%2Fth%3Fid%3DOIP.tzaGc-M5pl0DP6pGu-H6WgHaHa%26pid%3DApi&f=1&ipt=39909793c49bf980b8dbceaabe312870e1446f58fba1e6b430630cfbddd2b9c4&ipo=images\" width=\"200\" style=\"margin-left:auto; margin-right:auto\"/>\n",
    "\n"
   ]
  },
  {
   "cell_type": "markdown",
   "id": "8aa0c733-28a9-434c-8ac4-f329e3108295",
   "metadata": {},
   "source": [
    "Jakmile se dovedeš zorientovat v datových strukturách knihovny `pandas`, můžeš začít upravovat jejich obsah:\n",
    "1. **Přejmenovat** sloupce,\n",
    "2. **vytvořit** nové sloupce,\n",
    "3. **odstranit** existující sloupce."
   ]
  },
  {
   "cell_type": "markdown",
   "id": "f37ebcaa-d11a-4402-a13c-b6b3771d737c",
   "metadata": {},
   "source": [
    "<img src=\"https://imgs.search.brave.com/gKVKM0gMPdcdyI_mt5KyWfGrx-nGAFVdDOrSLlHo5wo/rs:fit:500:0:0:0/g:ce/aHR0cHM6Ly9pbWFn/ZXM3Lm1lbWVkcm9p/ZC5jb20vaW1hZ2Vz/L1VQTE9BREVEODAw/LzY0ZDE1NGQ4ZGQy/MTMuanBlZw\" width=\"300\" style=\"margin-left:auto; margin-right:auto\"/>"
   ]
  },
  {
   "cell_type": "markdown",
   "id": "3b577c0a-dc4d-4f5c-bff3-0cf8feeaac73",
   "metadata": {},
   "source": [
    "### Přejmenování sloupců\n",
    "\n",
    "---\n",
    "\n",
    "Pokud budeš někdy zápasit se špatně pojmenovaným sloupcem nebo sloupci, přejmenuj je pomocí metody `rename`."
   ]
  },
  {
   "cell_type": "code",
   "execution_count": 37,
   "id": "2a4c6611-678c-4973-83b2-c899ab71e2e0",
   "metadata": {
    "tags": []
   },
   "outputs": [],
   "source": [
    "from pandas import DataFrame"
   ]
  },
  {
   "cell_type": "code",
   "execution_count": 38,
   "id": "f137b867-b2a0-4a3f-8c3b-66ade2fe6c7e",
   "metadata": {
    "tags": []
   },
   "outputs": [],
   "source": [
    "uzivatele = {'jmeno': ['Matouš', 'Marek', 'Lukáš', 'Jan'],\n",
    "             'age': [23, 25, 27, 29],\n",
    "             'vaha': [65, 70, 75, 80],\n",
    "             'vyska': [160, 170, 180, 190]}"
   ]
  },
  {
   "cell_type": "code",
   "execution_count": 39,
   "id": "80b5a3d5-5926-4292-9440-4d493f39d981",
   "metadata": {
    "tags": []
   },
   "outputs": [],
   "source": [
    "uzivatele_df = DataFrame(uzivatele)"
   ]
  },
  {
   "cell_type": "code",
   "execution_count": 40,
   "id": "c239a13d-e294-4776-9a8d-0102be711aa1",
   "metadata": {
    "tags": []
   },
   "outputs": [
    {
     "data": {
      "text/html": [
       "<div>\n",
       "<style scoped>\n",
       "    .dataframe tbody tr th:only-of-type {\n",
       "        vertical-align: middle;\n",
       "    }\n",
       "\n",
       "    .dataframe tbody tr th {\n",
       "        vertical-align: top;\n",
       "    }\n",
       "\n",
       "    .dataframe thead th {\n",
       "        text-align: right;\n",
       "    }\n",
       "</style>\n",
       "<table border=\"1\" class=\"dataframe\">\n",
       "  <thead>\n",
       "    <tr style=\"text-align: right;\">\n",
       "      <th></th>\n",
       "      <th>jmeno</th>\n",
       "      <th>age</th>\n",
       "      <th>vaha</th>\n",
       "      <th>vyska</th>\n",
       "    </tr>\n",
       "  </thead>\n",
       "  <tbody>\n",
       "    <tr>\n",
       "      <th>0</th>\n",
       "      <td>Matouš</td>\n",
       "      <td>23</td>\n",
       "      <td>65</td>\n",
       "      <td>160</td>\n",
       "    </tr>\n",
       "    <tr>\n",
       "      <th>1</th>\n",
       "      <td>Marek</td>\n",
       "      <td>25</td>\n",
       "      <td>70</td>\n",
       "      <td>170</td>\n",
       "    </tr>\n",
       "    <tr>\n",
       "      <th>2</th>\n",
       "      <td>Lukáš</td>\n",
       "      <td>27</td>\n",
       "      <td>75</td>\n",
       "      <td>180</td>\n",
       "    </tr>\n",
       "    <tr>\n",
       "      <th>3</th>\n",
       "      <td>Jan</td>\n",
       "      <td>29</td>\n",
       "      <td>80</td>\n",
       "      <td>190</td>\n",
       "    </tr>\n",
       "  </tbody>\n",
       "</table>\n",
       "</div>"
      ],
      "text/plain": [
       "    jmeno  age  vaha  vyska\n",
       "0  Matouš   23    65    160\n",
       "1   Marek   25    70    170\n",
       "2   Lukáš   27    75    180\n",
       "3     Jan   29    80    190"
      ]
     },
     "execution_count": 40,
     "metadata": {},
     "output_type": "execute_result"
    }
   ],
   "source": [
    "uzivatele_df"
   ]
  },
  {
   "cell_type": "markdown",
   "id": "9ef5049c-6913-4945-9652-7fea08d1b14f",
   "metadata": {},
   "source": [
    "V ukázce výš tě omezuje **jazyková nekonzistence** mezi sloupečky.\n",
    "\n",
    "Pomocí metody `rename` a argumentu `columns`, můžeš pomocí `dict` anotace vybrat, co a čím přejmenovat:"
   ]
  },
  {
   "cell_type": "code",
   "execution_count": 41,
   "id": "144a12fa-fbdd-4ad9-bd3f-42c6783e6434",
   "metadata": {
    "tags": []
   },
   "outputs": [
    {
     "data": {
      "text/html": [
       "<div>\n",
       "<style scoped>\n",
       "    .dataframe tbody tr th:only-of-type {\n",
       "        vertical-align: middle;\n",
       "    }\n",
       "\n",
       "    .dataframe tbody tr th {\n",
       "        vertical-align: top;\n",
       "    }\n",
       "\n",
       "    .dataframe thead th {\n",
       "        text-align: right;\n",
       "    }\n",
       "</style>\n",
       "<table border=\"1\" class=\"dataframe\">\n",
       "  <thead>\n",
       "    <tr style=\"text-align: right;\">\n",
       "      <th></th>\n",
       "      <th>jmeno</th>\n",
       "      <th>vek</th>\n",
       "      <th>vaha</th>\n",
       "      <th>vyska</th>\n",
       "    </tr>\n",
       "  </thead>\n",
       "  <tbody>\n",
       "    <tr>\n",
       "      <th>0</th>\n",
       "      <td>Matouš</td>\n",
       "      <td>23</td>\n",
       "      <td>65</td>\n",
       "      <td>160</td>\n",
       "    </tr>\n",
       "    <tr>\n",
       "      <th>1</th>\n",
       "      <td>Marek</td>\n",
       "      <td>25</td>\n",
       "      <td>70</td>\n",
       "      <td>170</td>\n",
       "    </tr>\n",
       "    <tr>\n",
       "      <th>2</th>\n",
       "      <td>Lukáš</td>\n",
       "      <td>27</td>\n",
       "      <td>75</td>\n",
       "      <td>180</td>\n",
       "    </tr>\n",
       "    <tr>\n",
       "      <th>3</th>\n",
       "      <td>Jan</td>\n",
       "      <td>29</td>\n",
       "      <td>80</td>\n",
       "      <td>190</td>\n",
       "    </tr>\n",
       "  </tbody>\n",
       "</table>\n",
       "</div>"
      ],
      "text/plain": [
       "    jmeno  vek  vaha  vyska\n",
       "0  Matouš   23    65    160\n",
       "1   Marek   25    70    170\n",
       "2   Lukáš   27    75    180\n",
       "3     Jan   29    80    190"
      ]
     },
     "execution_count": 41,
     "metadata": {},
     "output_type": "execute_result"
    }
   ],
   "source": [
    "uzivatele_df.rename(columns={\"age\": \"vek\"})"
   ]
  },
  {
   "cell_type": "markdown",
   "id": "b0765df6-c70b-48fd-be9d-e4a8a8dce991",
   "metadata": {},
   "source": [
    "Při další kontrole zjistíš, že **nové jméno sloupečku zmizelo**:"
   ]
  },
  {
   "cell_type": "code",
   "execution_count": 42,
   "id": "dc081311-3f99-4aad-823b-7a852258f2e4",
   "metadata": {
    "tags": []
   },
   "outputs": [
    {
     "data": {
      "text/html": [
       "<div>\n",
       "<style scoped>\n",
       "    .dataframe tbody tr th:only-of-type {\n",
       "        vertical-align: middle;\n",
       "    }\n",
       "\n",
       "    .dataframe tbody tr th {\n",
       "        vertical-align: top;\n",
       "    }\n",
       "\n",
       "    .dataframe thead th {\n",
       "        text-align: right;\n",
       "    }\n",
       "</style>\n",
       "<table border=\"1\" class=\"dataframe\">\n",
       "  <thead>\n",
       "    <tr style=\"text-align: right;\">\n",
       "      <th></th>\n",
       "      <th>jmeno</th>\n",
       "      <th>age</th>\n",
       "      <th>vaha</th>\n",
       "      <th>vyska</th>\n",
       "    </tr>\n",
       "  </thead>\n",
       "  <tbody>\n",
       "    <tr>\n",
       "      <th>0</th>\n",
       "      <td>Matouš</td>\n",
       "      <td>23</td>\n",
       "      <td>65</td>\n",
       "      <td>160</td>\n",
       "    </tr>\n",
       "    <tr>\n",
       "      <th>1</th>\n",
       "      <td>Marek</td>\n",
       "      <td>25</td>\n",
       "      <td>70</td>\n",
       "      <td>170</td>\n",
       "    </tr>\n",
       "    <tr>\n",
       "      <th>2</th>\n",
       "      <td>Lukáš</td>\n",
       "      <td>27</td>\n",
       "      <td>75</td>\n",
       "      <td>180</td>\n",
       "    </tr>\n",
       "    <tr>\n",
       "      <th>3</th>\n",
       "      <td>Jan</td>\n",
       "      <td>29</td>\n",
       "      <td>80</td>\n",
       "      <td>190</td>\n",
       "    </tr>\n",
       "  </tbody>\n",
       "</table>\n",
       "</div>"
      ],
      "text/plain": [
       "    jmeno  age  vaha  vyska\n",
       "0  Matouš   23    65    160\n",
       "1   Marek   25    70    170\n",
       "2   Lukáš   27    75    180\n",
       "3     Jan   29    80    190"
      ]
     },
     "execution_count": 42,
     "metadata": {},
     "output_type": "execute_result"
    }
   ],
   "source": [
    "uzivatele_df"
   ]
  },
  {
   "cell_type": "markdown",
   "id": "ceb98e25-0fc0-4ebc-969a-db2893534296",
   "metadata": {},
   "source": [
    "<br>\n",
    "\n",
    "Celou situaci můžeš řešit dvěma způsoby:\n",
    "1. Volitelný argument `inplace`,\n",
    "2. kopie původního `DataFrame` objektu."
   ]
  },
  {
   "cell_type": "code",
   "execution_count": 43,
   "id": "70b1031a-2126-4751-8988-e515d1364939",
   "metadata": {
    "tags": []
   },
   "outputs": [],
   "source": [
    "prejmenovany_sloupec_df = uzivatele_df.rename(columns={\"age\": \"vek\"})"
   ]
  },
  {
   "cell_type": "code",
   "execution_count": 44,
   "id": "9c51ad7b-e2e1-4ac2-8dc8-c399a2877918",
   "metadata": {
    "tags": []
   },
   "outputs": [
    {
     "data": {
      "text/html": [
       "<div>\n",
       "<style scoped>\n",
       "    .dataframe tbody tr th:only-of-type {\n",
       "        vertical-align: middle;\n",
       "    }\n",
       "\n",
       "    .dataframe tbody tr th {\n",
       "        vertical-align: top;\n",
       "    }\n",
       "\n",
       "    .dataframe thead th {\n",
       "        text-align: right;\n",
       "    }\n",
       "</style>\n",
       "<table border=\"1\" class=\"dataframe\">\n",
       "  <thead>\n",
       "    <tr style=\"text-align: right;\">\n",
       "      <th></th>\n",
       "      <th>jmeno</th>\n",
       "      <th>vek</th>\n",
       "      <th>vaha</th>\n",
       "      <th>vyska</th>\n",
       "    </tr>\n",
       "  </thead>\n",
       "  <tbody>\n",
       "    <tr>\n",
       "      <th>0</th>\n",
       "      <td>Matouš</td>\n",
       "      <td>23</td>\n",
       "      <td>65</td>\n",
       "      <td>160</td>\n",
       "    </tr>\n",
       "    <tr>\n",
       "      <th>1</th>\n",
       "      <td>Marek</td>\n",
       "      <td>25</td>\n",
       "      <td>70</td>\n",
       "      <td>170</td>\n",
       "    </tr>\n",
       "    <tr>\n",
       "      <th>2</th>\n",
       "      <td>Lukáš</td>\n",
       "      <td>27</td>\n",
       "      <td>75</td>\n",
       "      <td>180</td>\n",
       "    </tr>\n",
       "    <tr>\n",
       "      <th>3</th>\n",
       "      <td>Jan</td>\n",
       "      <td>29</td>\n",
       "      <td>80</td>\n",
       "      <td>190</td>\n",
       "    </tr>\n",
       "  </tbody>\n",
       "</table>\n",
       "</div>"
      ],
      "text/plain": [
       "    jmeno  vek  vaha  vyska\n",
       "0  Matouš   23    65    160\n",
       "1   Marek   25    70    170\n",
       "2   Lukáš   27    75    180\n",
       "3     Jan   29    80    190"
      ]
     },
     "execution_count": 44,
     "metadata": {},
     "output_type": "execute_result"
    }
   ],
   "source": [
    "prejmenovany_sloupec_df"
   ]
  },
  {
   "cell_type": "code",
   "execution_count": 45,
   "id": "451162db-61a1-455b-b89a-2fe78a92b300",
   "metadata": {},
   "outputs": [
    {
     "data": {
      "text/html": [
       "<div>\n",
       "<style scoped>\n",
       "    .dataframe tbody tr th:only-of-type {\n",
       "        vertical-align: middle;\n",
       "    }\n",
       "\n",
       "    .dataframe tbody tr th {\n",
       "        vertical-align: top;\n",
       "    }\n",
       "\n",
       "    .dataframe thead th {\n",
       "        text-align: right;\n",
       "    }\n",
       "</style>\n",
       "<table border=\"1\" class=\"dataframe\">\n",
       "  <thead>\n",
       "    <tr style=\"text-align: right;\">\n",
       "      <th></th>\n",
       "      <th>jmeno</th>\n",
       "      <th>age</th>\n",
       "      <th>vaha</th>\n",
       "      <th>vyska</th>\n",
       "    </tr>\n",
       "  </thead>\n",
       "  <tbody>\n",
       "    <tr>\n",
       "      <th>0</th>\n",
       "      <td>Matouš</td>\n",
       "      <td>23</td>\n",
       "      <td>65</td>\n",
       "      <td>160</td>\n",
       "    </tr>\n",
       "    <tr>\n",
       "      <th>1</th>\n",
       "      <td>Marek</td>\n",
       "      <td>25</td>\n",
       "      <td>70</td>\n",
       "      <td>170</td>\n",
       "    </tr>\n",
       "    <tr>\n",
       "      <th>2</th>\n",
       "      <td>Lukáš</td>\n",
       "      <td>27</td>\n",
       "      <td>75</td>\n",
       "      <td>180</td>\n",
       "    </tr>\n",
       "    <tr>\n",
       "      <th>3</th>\n",
       "      <td>Jan</td>\n",
       "      <td>29</td>\n",
       "      <td>80</td>\n",
       "      <td>190</td>\n",
       "    </tr>\n",
       "  </tbody>\n",
       "</table>\n",
       "</div>"
      ],
      "text/plain": [
       "    jmeno  age  vaha  vyska\n",
       "0  Matouš   23    65    160\n",
       "1   Marek   25    70    170\n",
       "2   Lukáš   27    75    180\n",
       "3     Jan   29    80    190"
      ]
     },
     "execution_count": 45,
     "metadata": {},
     "output_type": "execute_result"
    }
   ],
   "source": [
    "uzivatele_df"
   ]
  },
  {
   "cell_type": "code",
   "execution_count": 48,
   "id": "b678b2f0-7eef-47a1-9639-65d0d1d83e28",
   "metadata": {
    "tags": []
   },
   "outputs": [],
   "source": [
    "uzivatele_df.rename(columns={\"age\": \"vek\"}, inplace=True)  # ⚠️ Za cenu rizika!⚠️"
   ]
  },
  {
   "cell_type": "code",
   "execution_count": 49,
   "id": "2f26c9c3-7173-414d-aad0-d00e5ab76d0d",
   "metadata": {
    "tags": []
   },
   "outputs": [
    {
     "data": {
      "text/html": [
       "<div>\n",
       "<style scoped>\n",
       "    .dataframe tbody tr th:only-of-type {\n",
       "        vertical-align: middle;\n",
       "    }\n",
       "\n",
       "    .dataframe tbody tr th {\n",
       "        vertical-align: top;\n",
       "    }\n",
       "\n",
       "    .dataframe thead th {\n",
       "        text-align: right;\n",
       "    }\n",
       "</style>\n",
       "<table border=\"1\" class=\"dataframe\">\n",
       "  <thead>\n",
       "    <tr style=\"text-align: right;\">\n",
       "      <th></th>\n",
       "      <th>jmeno</th>\n",
       "      <th>vek</th>\n",
       "      <th>vaha</th>\n",
       "      <th>vyska</th>\n",
       "    </tr>\n",
       "  </thead>\n",
       "  <tbody>\n",
       "    <tr>\n",
       "      <th>0</th>\n",
       "      <td>Matouš</td>\n",
       "      <td>23</td>\n",
       "      <td>65</td>\n",
       "      <td>160</td>\n",
       "    </tr>\n",
       "    <tr>\n",
       "      <th>1</th>\n",
       "      <td>Marek</td>\n",
       "      <td>25</td>\n",
       "      <td>70</td>\n",
       "      <td>170</td>\n",
       "    </tr>\n",
       "    <tr>\n",
       "      <th>2</th>\n",
       "      <td>Lukáš</td>\n",
       "      <td>27</td>\n",
       "      <td>75</td>\n",
       "      <td>180</td>\n",
       "    </tr>\n",
       "    <tr>\n",
       "      <th>3</th>\n",
       "      <td>Jan</td>\n",
       "      <td>29</td>\n",
       "      <td>80</td>\n",
       "      <td>190</td>\n",
       "    </tr>\n",
       "  </tbody>\n",
       "</table>\n",
       "</div>"
      ],
      "text/plain": [
       "    jmeno  vek  vaha  vyska\n",
       "0  Matouš   23    65    160\n",
       "1   Marek   25    70    170\n",
       "2   Lukáš   27    75    180\n",
       "3     Jan   29    80    190"
      ]
     },
     "execution_count": 49,
     "metadata": {},
     "output_type": "execute_result"
    }
   ],
   "source": [
    "uzivatele_df"
   ]
  },
  {
   "cell_type": "markdown",
   "id": "f04b3c16-4a90-4bdb-b287-8d328cc31421",
   "metadata": {},
   "source": [
    "Opatrně na práci s argumentem `inplace`.\n",
    "\n",
    "Jeho použití vždy důkladně zvaž, ať neztratíš zdrojová data."
   ]
  },
  {
   "cell_type": "markdown",
   "id": "b28187be-1229-4bde-bd1c-27e3b87925a8",
   "metadata": {},
   "source": [
    "<br>\n",
    "\n",
    "Přejmenovat můžeš i **více sloupců** současně:"
   ]
  },
  {
   "cell_type": "code",
   "execution_count": 50,
   "id": "4d15297b-cd24-4257-8ce2-43ffa17805e2",
   "metadata": {
    "tags": []
   },
   "outputs": [],
   "source": [
    "nova_jmena_sloupcu = {  # CZ > EN\n",
    "    \"jmeno\": \"first_name\",\n",
    "    \"vek\": \"age\",\n",
    "    \"vaha\": \"weight\",\n",
    "    \"vyska\": \"height\"\n",
    "}"
   ]
  },
  {
   "cell_type": "code",
   "execution_count": 51,
   "id": "9b40261e-aa99-47da-ae5a-4a21597b5364",
   "metadata": {
    "tags": []
   },
   "outputs": [],
   "source": [
    "uzivatele_df.rename(columns=nova_jmena_sloupcu, inplace=True)"
   ]
  },
  {
   "cell_type": "code",
   "execution_count": 52,
   "id": "ccb0e3a7-b42f-42dd-b698-9099d51d834c",
   "metadata": {
    "tags": []
   },
   "outputs": [
    {
     "data": {
      "text/html": [
       "<div>\n",
       "<style scoped>\n",
       "    .dataframe tbody tr th:only-of-type {\n",
       "        vertical-align: middle;\n",
       "    }\n",
       "\n",
       "    .dataframe tbody tr th {\n",
       "        vertical-align: top;\n",
       "    }\n",
       "\n",
       "    .dataframe thead th {\n",
       "        text-align: right;\n",
       "    }\n",
       "</style>\n",
       "<table border=\"1\" class=\"dataframe\">\n",
       "  <thead>\n",
       "    <tr style=\"text-align: right;\">\n",
       "      <th></th>\n",
       "      <th>first_name</th>\n",
       "      <th>age</th>\n",
       "      <th>weight</th>\n",
       "      <th>height</th>\n",
       "    </tr>\n",
       "  </thead>\n",
       "  <tbody>\n",
       "    <tr>\n",
       "      <th>0</th>\n",
       "      <td>Matouš</td>\n",
       "      <td>23</td>\n",
       "      <td>65</td>\n",
       "      <td>160</td>\n",
       "    </tr>\n",
       "    <tr>\n",
       "      <th>1</th>\n",
       "      <td>Marek</td>\n",
       "      <td>25</td>\n",
       "      <td>70</td>\n",
       "      <td>170</td>\n",
       "    </tr>\n",
       "    <tr>\n",
       "      <th>2</th>\n",
       "      <td>Lukáš</td>\n",
       "      <td>27</td>\n",
       "      <td>75</td>\n",
       "      <td>180</td>\n",
       "    </tr>\n",
       "    <tr>\n",
       "      <th>3</th>\n",
       "      <td>Jan</td>\n",
       "      <td>29</td>\n",
       "      <td>80</td>\n",
       "      <td>190</td>\n",
       "    </tr>\n",
       "  </tbody>\n",
       "</table>\n",
       "</div>"
      ],
      "text/plain": [
       "  first_name  age  weight  height\n",
       "0     Matouš   23      65     160\n",
       "1      Marek   25      70     170\n",
       "2      Lukáš   27      75     180\n",
       "3        Jan   29      80     190"
      ]
     },
     "execution_count": 52,
     "metadata": {},
     "output_type": "execute_result"
    }
   ],
   "source": [
    "uzivatele_df"
   ]
  },
  {
   "cell_type": "markdown",
   "id": "6837a046-da9e-45d0-b0a3-3920115ad7b2",
   "metadata": {},
   "source": [
    "\n",
    "\n",
    "<img src=\"https://imgs.search.brave.com/Q3iNWCeKLnizjFbTrtaUEiEcXWvAqdNi_cWO1vwkJo0/rs:fit:500:0:0:0/g:ce/aHR0cHM6Ly9pbWFn/ZXMuaWNvbi1pY29u/cy5jb20vMTE1NC9Q/TkcvOTYvMTQ4NjU2/NDQwNy1wbHVzLWdy/ZWVuXzgxNTIxLnBu/Zw\" width=\"100\" style=\"margin-left:auto; margin-right:auto\"/>"
   ]
  },
  {
   "cell_type": "markdown",
   "id": "620186b6-4bd4-4106-bf5d-8150068feef9",
   "metadata": {},
   "source": [
    "### Přidávání sloupců do DataFrame\n",
    "\n",
    "---\n",
    "\n",
    "Potřebuješ doplnit další sloupec. Nebo upravit data v jednom sloupci a výsledek zapsat do dalšího.\n",
    "\n",
    "Nejčastěji můžeš pracovat **na přidávání nových sloupců** těmito třemi způsoby:\n",
    "1. **Slovníková anotace** pomocí klíče a hodnoty,\n",
    "2. výsledek pomocí operace **mezi dvěma sloupci**,\n",
    "3. pomocí metody `apply`."
   ]
  },
  {
   "cell_type": "markdown",
   "id": "a9436a74-061e-414a-91fb-6c18b93b03a1",
   "metadata": {},
   "source": [
    "#### Jako klíč a hodnota\n",
    "\n",
    "---\n",
    "\n",
    "Takový způsob použiješ, pokud máš nachystané hodnoty pro nový sloupec:"
   ]
  },
  {
   "cell_type": "code",
   "execution_count": 53,
   "id": "ba7b2b32-7444-4621-bfcd-b788dc30f440",
   "metadata": {},
   "outputs": [],
   "source": [
    "nova_jmena_sloupcu = {  # EN > CZ\n",
    "    \"first_name\": \"jmeno\",\n",
    "    \"age\": \"vek\",\n",
    "    \"weight\": \"vaha\",\n",
    "    \"height\": \"vyska\"\n",
    "}"
   ]
  },
  {
   "cell_type": "code",
   "execution_count": 54,
   "id": "23a14fe1-6ea7-4e6c-8aed-1281b2c934f4",
   "metadata": {
    "tags": []
   },
   "outputs": [],
   "source": [
    "uzivatele_df.rename(columns=nova_jmena_sloupcu, inplace=True)"
   ]
  },
  {
   "cell_type": "code",
   "execution_count": 55,
   "id": "06e7e4d6-74bf-4569-8f98-15b9111a5313",
   "metadata": {
    "tags": []
   },
   "outputs": [
    {
     "data": {
      "text/html": [
       "<div>\n",
       "<style scoped>\n",
       "    .dataframe tbody tr th:only-of-type {\n",
       "        vertical-align: middle;\n",
       "    }\n",
       "\n",
       "    .dataframe tbody tr th {\n",
       "        vertical-align: top;\n",
       "    }\n",
       "\n",
       "    .dataframe thead th {\n",
       "        text-align: right;\n",
       "    }\n",
       "</style>\n",
       "<table border=\"1\" class=\"dataframe\">\n",
       "  <thead>\n",
       "    <tr style=\"text-align: right;\">\n",
       "      <th></th>\n",
       "      <th>jmeno</th>\n",
       "      <th>vek</th>\n",
       "      <th>vaha</th>\n",
       "      <th>vyska</th>\n",
       "    </tr>\n",
       "  </thead>\n",
       "  <tbody>\n",
       "    <tr>\n",
       "      <th>0</th>\n",
       "      <td>Matouš</td>\n",
       "      <td>23</td>\n",
       "      <td>65</td>\n",
       "      <td>160</td>\n",
       "    </tr>\n",
       "    <tr>\n",
       "      <th>1</th>\n",
       "      <td>Marek</td>\n",
       "      <td>25</td>\n",
       "      <td>70</td>\n",
       "      <td>170</td>\n",
       "    </tr>\n",
       "    <tr>\n",
       "      <th>2</th>\n",
       "      <td>Lukáš</td>\n",
       "      <td>27</td>\n",
       "      <td>75</td>\n",
       "      <td>180</td>\n",
       "    </tr>\n",
       "    <tr>\n",
       "      <th>3</th>\n",
       "      <td>Jan</td>\n",
       "      <td>29</td>\n",
       "      <td>80</td>\n",
       "      <td>190</td>\n",
       "    </tr>\n",
       "  </tbody>\n",
       "</table>\n",
       "</div>"
      ],
      "text/plain": [
       "    jmeno  vek  vaha  vyska\n",
       "0  Matouš   23    65    160\n",
       "1   Marek   25    70    170\n",
       "2   Lukáš   27    75    180\n",
       "3     Jan   29    80    190"
      ]
     },
     "execution_count": 55,
     "metadata": {},
     "output_type": "execute_result"
    }
   ],
   "source": [
    "uzivatele_df"
   ]
  },
  {
   "cell_type": "code",
   "execution_count": 56,
   "id": "c635c050-89c7-4018-a847-411aed8648f2",
   "metadata": {
    "tags": []
   },
   "outputs": [],
   "source": [
    "uzivatele_df['prijmeni'] = (\"Holinka\", \"Párek\", \"Holinka\", \"Novák\")"
   ]
  },
  {
   "cell_type": "code",
   "execution_count": 18,
   "id": "b843b019-4775-472d-98fd-e4c472ac6c05",
   "metadata": {
    "tags": []
   },
   "outputs": [
    {
     "data": {
      "text/html": [
       "<div>\n",
       "<style scoped>\n",
       "    .dataframe tbody tr th:only-of-type {\n",
       "        vertical-align: middle;\n",
       "    }\n",
       "\n",
       "    .dataframe tbody tr th {\n",
       "        vertical-align: top;\n",
       "    }\n",
       "\n",
       "    .dataframe thead th {\n",
       "        text-align: right;\n",
       "    }\n",
       "</style>\n",
       "<table border=\"1\" class=\"dataframe\">\n",
       "  <thead>\n",
       "    <tr style=\"text-align: right;\">\n",
       "      <th></th>\n",
       "      <th>jmeno</th>\n",
       "      <th>vek</th>\n",
       "      <th>vaha</th>\n",
       "      <th>vyska</th>\n",
       "      <th>prijmeni</th>\n",
       "    </tr>\n",
       "  </thead>\n",
       "  <tbody>\n",
       "    <tr>\n",
       "      <th>0</th>\n",
       "      <td>Matouš</td>\n",
       "      <td>23</td>\n",
       "      <td>65</td>\n",
       "      <td>160</td>\n",
       "      <td>Holinka</td>\n",
       "    </tr>\n",
       "    <tr>\n",
       "      <th>1</th>\n",
       "      <td>Marek</td>\n",
       "      <td>25</td>\n",
       "      <td>70</td>\n",
       "      <td>170</td>\n",
       "      <td>Párek</td>\n",
       "    </tr>\n",
       "    <tr>\n",
       "      <th>2</th>\n",
       "      <td>Lukáš</td>\n",
       "      <td>27</td>\n",
       "      <td>75</td>\n",
       "      <td>180</td>\n",
       "      <td>Holinka</td>\n",
       "    </tr>\n",
       "    <tr>\n",
       "      <th>3</th>\n",
       "      <td>Jan</td>\n",
       "      <td>29</td>\n",
       "      <td>80</td>\n",
       "      <td>190</td>\n",
       "      <td>Novák</td>\n",
       "    </tr>\n",
       "  </tbody>\n",
       "</table>\n",
       "</div>"
      ],
      "text/plain": [
       "    jmeno  vek  vaha  vyska prijmeni\n",
       "0  Matouš   23    65    160  Holinka\n",
       "1   Marek   25    70    170    Párek\n",
       "2   Lukáš   27    75    180  Holinka\n",
       "3     Jan   29    80    190    Novák"
      ]
     },
     "execution_count": 18,
     "metadata": {},
     "output_type": "execute_result"
    }
   ],
   "source": [
    "uzivatele_df"
   ]
  },
  {
   "cell_type": "code",
   "execution_count": 57,
   "id": "3d054819-097c-45ef-a653-c3312e7e668b",
   "metadata": {
    "tags": []
   },
   "outputs": [
    {
     "data": {
      "text/plain": [
       "jmeno       Marek\n",
       "vek            25\n",
       "vaha           70\n",
       "vyska         170\n",
       "prijmeni    Párek\n",
       "Name: 1, dtype: object"
      ]
     },
     "execution_count": 57,
     "metadata": {},
     "output_type": "execute_result"
    }
   ],
   "source": [
    "uzivatele_df.iloc[1]"
   ]
  },
  {
   "cell_type": "markdown",
   "id": "b3b2aa8d-4dd6-467a-b0d4-4f5c97e34489",
   "metadata": {},
   "source": [
    "<br>\n",
    "\n",
    "#### Kombinace existujících sloupců\n",
    "\n",
    "---\n",
    "\n",
    "Tento způsob lze použít, pokud chceš vytvořit nový sloupec pomocí operací mezi existujícími sloupci:"
   ]
  },
  {
   "cell_type": "code",
   "execution_count": 20,
   "id": "01a06e0d-fb42-4ab1-9f12-d99c240325c9",
   "metadata": {
    "tags": []
   },
   "outputs": [
    {
     "data": {
      "text/html": [
       "<div>\n",
       "<style scoped>\n",
       "    .dataframe tbody tr th:only-of-type {\n",
       "        vertical-align: middle;\n",
       "    }\n",
       "\n",
       "    .dataframe tbody tr th {\n",
       "        vertical-align: top;\n",
       "    }\n",
       "\n",
       "    .dataframe thead th {\n",
       "        text-align: right;\n",
       "    }\n",
       "</style>\n",
       "<table border=\"1\" class=\"dataframe\">\n",
       "  <thead>\n",
       "    <tr style=\"text-align: right;\">\n",
       "      <th></th>\n",
       "      <th>jmeno</th>\n",
       "      <th>vek</th>\n",
       "      <th>vaha</th>\n",
       "      <th>vyska</th>\n",
       "      <th>prijmeni</th>\n",
       "    </tr>\n",
       "  </thead>\n",
       "  <tbody>\n",
       "    <tr>\n",
       "      <th>0</th>\n",
       "      <td>Matouš</td>\n",
       "      <td>23</td>\n",
       "      <td>65</td>\n",
       "      <td>160</td>\n",
       "      <td>Holinka</td>\n",
       "    </tr>\n",
       "    <tr>\n",
       "      <th>1</th>\n",
       "      <td>Marek</td>\n",
       "      <td>25</td>\n",
       "      <td>70</td>\n",
       "      <td>170</td>\n",
       "      <td>Párek</td>\n",
       "    </tr>\n",
       "    <tr>\n",
       "      <th>2</th>\n",
       "      <td>Lukáš</td>\n",
       "      <td>27</td>\n",
       "      <td>75</td>\n",
       "      <td>180</td>\n",
       "      <td>Holinka</td>\n",
       "    </tr>\n",
       "    <tr>\n",
       "      <th>3</th>\n",
       "      <td>Jan</td>\n",
       "      <td>29</td>\n",
       "      <td>80</td>\n",
       "      <td>190</td>\n",
       "      <td>Novák</td>\n",
       "    </tr>\n",
       "  </tbody>\n",
       "</table>\n",
       "</div>"
      ],
      "text/plain": [
       "    jmeno  vek  vaha  vyska prijmeni\n",
       "0  Matouš   23    65    160  Holinka\n",
       "1   Marek   25    70    170    Párek\n",
       "2   Lukáš   27    75    180  Holinka\n",
       "3     Jan   29    80    190    Novák"
      ]
     },
     "execution_count": 20,
     "metadata": {},
     "output_type": "execute_result"
    }
   ],
   "source": [
    "uzivatele_df"
   ]
  },
  {
   "cell_type": "code",
   "execution_count": 60,
   "id": "0d70f9c8-90ea-4c23-a3f7-1d746f2352ca",
   "metadata": {
    "tags": []
   },
   "outputs": [],
   "source": [
    "uzivatele_df['BMI'] = round(uzivatele_df['vaha'] / ((uzivatele_df['vyska'] / 100) ** 2), 1)"
   ]
  },
  {
   "cell_type": "code",
   "execution_count": 61,
   "id": "1ed53fe0-8164-4758-8339-4f40c1d4edb2",
   "metadata": {
    "tags": []
   },
   "outputs": [
    {
     "data": {
      "text/html": [
       "<div>\n",
       "<style scoped>\n",
       "    .dataframe tbody tr th:only-of-type {\n",
       "        vertical-align: middle;\n",
       "    }\n",
       "\n",
       "    .dataframe tbody tr th {\n",
       "        vertical-align: top;\n",
       "    }\n",
       "\n",
       "    .dataframe thead th {\n",
       "        text-align: right;\n",
       "    }\n",
       "</style>\n",
       "<table border=\"1\" class=\"dataframe\">\n",
       "  <thead>\n",
       "    <tr style=\"text-align: right;\">\n",
       "      <th></th>\n",
       "      <th>jmeno</th>\n",
       "      <th>vek</th>\n",
       "      <th>vaha</th>\n",
       "      <th>vyska</th>\n",
       "      <th>prijmeni</th>\n",
       "      <th>BMI</th>\n",
       "    </tr>\n",
       "  </thead>\n",
       "  <tbody>\n",
       "    <tr>\n",
       "      <th>0</th>\n",
       "      <td>Matouš</td>\n",
       "      <td>23</td>\n",
       "      <td>65</td>\n",
       "      <td>160</td>\n",
       "      <td>Holinka</td>\n",
       "      <td>25.4</td>\n",
       "    </tr>\n",
       "    <tr>\n",
       "      <th>1</th>\n",
       "      <td>Marek</td>\n",
       "      <td>25</td>\n",
       "      <td>70</td>\n",
       "      <td>170</td>\n",
       "      <td>Párek</td>\n",
       "      <td>24.2</td>\n",
       "    </tr>\n",
       "    <tr>\n",
       "      <th>2</th>\n",
       "      <td>Lukáš</td>\n",
       "      <td>27</td>\n",
       "      <td>75</td>\n",
       "      <td>180</td>\n",
       "      <td>Holinka</td>\n",
       "      <td>23.1</td>\n",
       "    </tr>\n",
       "    <tr>\n",
       "      <th>3</th>\n",
       "      <td>Jan</td>\n",
       "      <td>29</td>\n",
       "      <td>80</td>\n",
       "      <td>190</td>\n",
       "      <td>Novák</td>\n",
       "      <td>22.2</td>\n",
       "    </tr>\n",
       "  </tbody>\n",
       "</table>\n",
       "</div>"
      ],
      "text/plain": [
       "    jmeno  vek  vaha  vyska prijmeni   BMI\n",
       "0  Matouš   23    65    160  Holinka  25.4\n",
       "1   Marek   25    70    170    Párek  24.2\n",
       "2   Lukáš   27    75    180  Holinka  23.1\n",
       "3     Jan   29    80    190    Novák  22.2"
      ]
     },
     "execution_count": 61,
     "metadata": {},
     "output_type": "execute_result"
    }
   ],
   "source": [
    "uzivatele_df"
   ]
  },
  {
   "cell_type": "markdown",
   "id": "65ac90d3-0640-4406-bca6-1d883e8b03e2",
   "metadata": {},
   "source": [
    "#### Metoda `apply`\n",
    "\n",
    "---\n",
    "\n",
    "Pokud potřebuješ aplikovat uživ. funkci **pro stávající sloupec**, využiješ metodu `apply`:"
   ]
  },
  {
   "cell_type": "code",
   "execution_count": 23,
   "id": "c1073848-da98-42df-a33c-7109764fdcb1",
   "metadata": {
    "tags": []
   },
   "outputs": [
    {
     "data": {
      "text/html": [
       "<div>\n",
       "<style scoped>\n",
       "    .dataframe tbody tr th:only-of-type {\n",
       "        vertical-align: middle;\n",
       "    }\n",
       "\n",
       "    .dataframe tbody tr th {\n",
       "        vertical-align: top;\n",
       "    }\n",
       "\n",
       "    .dataframe thead th {\n",
       "        text-align: right;\n",
       "    }\n",
       "</style>\n",
       "<table border=\"1\" class=\"dataframe\">\n",
       "  <thead>\n",
       "    <tr style=\"text-align: right;\">\n",
       "      <th></th>\n",
       "      <th>jmeno</th>\n",
       "      <th>vek</th>\n",
       "      <th>vaha</th>\n",
       "      <th>vyska</th>\n",
       "      <th>prijmeni</th>\n",
       "      <th>BMI</th>\n",
       "    </tr>\n",
       "  </thead>\n",
       "  <tbody>\n",
       "    <tr>\n",
       "      <th>0</th>\n",
       "      <td>Matouš</td>\n",
       "      <td>23</td>\n",
       "      <td>65</td>\n",
       "      <td>160</td>\n",
       "      <td>Holinka</td>\n",
       "      <td>25.4</td>\n",
       "    </tr>\n",
       "    <tr>\n",
       "      <th>1</th>\n",
       "      <td>Marek</td>\n",
       "      <td>25</td>\n",
       "      <td>70</td>\n",
       "      <td>170</td>\n",
       "      <td>Párek</td>\n",
       "      <td>24.2</td>\n",
       "    </tr>\n",
       "    <tr>\n",
       "      <th>2</th>\n",
       "      <td>Lukáš</td>\n",
       "      <td>27</td>\n",
       "      <td>75</td>\n",
       "      <td>180</td>\n",
       "      <td>Holinka</td>\n",
       "      <td>23.1</td>\n",
       "    </tr>\n",
       "    <tr>\n",
       "      <th>3</th>\n",
       "      <td>Jan</td>\n",
       "      <td>29</td>\n",
       "      <td>80</td>\n",
       "      <td>190</td>\n",
       "      <td>Novák</td>\n",
       "      <td>22.2</td>\n",
       "    </tr>\n",
       "  </tbody>\n",
       "</table>\n",
       "</div>"
      ],
      "text/plain": [
       "    jmeno  vek  vaha  vyska prijmeni   BMI\n",
       "0  Matouš   23    65    160  Holinka  25.4\n",
       "1   Marek   25    70    170    Párek  24.2\n",
       "2   Lukáš   27    75    180  Holinka  23.1\n",
       "3     Jan   29    80    190    Novák  22.2"
      ]
     },
     "execution_count": 23,
     "metadata": {},
     "output_type": "execute_result"
    }
   ],
   "source": [
    "uzivatele_df"
   ]
  },
  {
   "cell_type": "code",
   "execution_count": 62,
   "id": "83253a18-3363-4667-85ba-5de73d11cc18",
   "metadata": {
    "tags": []
   },
   "outputs": [],
   "source": [
    "def vytvor_email(prijmeni, domena= \"gmail.com\"):\n",
    "    return f\"{prijmeni.lower()}@{domena}\""
   ]
  },
  {
   "cell_type": "code",
   "execution_count": 63,
   "id": "b5a4647f-242e-4dfc-a4e2-a06cf9505cfe",
   "metadata": {},
   "outputs": [
    {
     "data": {
      "text/plain": [
       "'holinka@gmail.com'"
      ]
     },
     "execution_count": 63,
     "metadata": {},
     "output_type": "execute_result"
    }
   ],
   "source": [
    "vytvor_email(prijmeni='holinka')"
   ]
  },
  {
   "cell_type": "code",
   "execution_count": 64,
   "id": "34e3dddb-9386-4007-b9e2-bfa220d28dca",
   "metadata": {
    "tags": []
   },
   "outputs": [],
   "source": [
    "uzivatele_df['email'] = uzivatele_df['prijmeni'].apply(vytvor_email)"
   ]
  },
  {
   "cell_type": "code",
   "execution_count": 65,
   "id": "ae2f6dbf-776c-4ddf-9eba-1f369e71a318",
   "metadata": {
    "tags": []
   },
   "outputs": [
    {
     "data": {
      "text/html": [
       "<div>\n",
       "<style scoped>\n",
       "    .dataframe tbody tr th:only-of-type {\n",
       "        vertical-align: middle;\n",
       "    }\n",
       "\n",
       "    .dataframe tbody tr th {\n",
       "        vertical-align: top;\n",
       "    }\n",
       "\n",
       "    .dataframe thead th {\n",
       "        text-align: right;\n",
       "    }\n",
       "</style>\n",
       "<table border=\"1\" class=\"dataframe\">\n",
       "  <thead>\n",
       "    <tr style=\"text-align: right;\">\n",
       "      <th></th>\n",
       "      <th>jmeno</th>\n",
       "      <th>vek</th>\n",
       "      <th>vaha</th>\n",
       "      <th>vyska</th>\n",
       "      <th>prijmeni</th>\n",
       "      <th>BMI</th>\n",
       "      <th>email</th>\n",
       "    </tr>\n",
       "  </thead>\n",
       "  <tbody>\n",
       "    <tr>\n",
       "      <th>0</th>\n",
       "      <td>Matouš</td>\n",
       "      <td>23</td>\n",
       "      <td>65</td>\n",
       "      <td>160</td>\n",
       "      <td>Holinka</td>\n",
       "      <td>25.4</td>\n",
       "      <td>holinka@gmail.com</td>\n",
       "    </tr>\n",
       "    <tr>\n",
       "      <th>1</th>\n",
       "      <td>Marek</td>\n",
       "      <td>25</td>\n",
       "      <td>70</td>\n",
       "      <td>170</td>\n",
       "      <td>Párek</td>\n",
       "      <td>24.2</td>\n",
       "      <td>párek@gmail.com</td>\n",
       "    </tr>\n",
       "    <tr>\n",
       "      <th>2</th>\n",
       "      <td>Lukáš</td>\n",
       "      <td>27</td>\n",
       "      <td>75</td>\n",
       "      <td>180</td>\n",
       "      <td>Holinka</td>\n",
       "      <td>23.1</td>\n",
       "      <td>holinka@gmail.com</td>\n",
       "    </tr>\n",
       "    <tr>\n",
       "      <th>3</th>\n",
       "      <td>Jan</td>\n",
       "      <td>29</td>\n",
       "      <td>80</td>\n",
       "      <td>190</td>\n",
       "      <td>Novák</td>\n",
       "      <td>22.2</td>\n",
       "      <td>novák@gmail.com</td>\n",
       "    </tr>\n",
       "  </tbody>\n",
       "</table>\n",
       "</div>"
      ],
      "text/plain": [
       "    jmeno  vek  vaha  vyska prijmeni   BMI              email\n",
       "0  Matouš   23    65    160  Holinka  25.4  holinka@gmail.com\n",
       "1   Marek   25    70    170    Párek  24.2    párek@gmail.com\n",
       "2   Lukáš   27    75    180  Holinka  23.1  holinka@gmail.com\n",
       "3     Jan   29    80    190    Novák  22.2    novák@gmail.com"
      ]
     },
     "execution_count": 65,
     "metadata": {},
     "output_type": "execute_result"
    }
   ],
   "source": [
    "uzivatele_df"
   ]
  },
  {
   "cell_type": "markdown",
   "id": "2daf2de1-3865-4e44-8418-33f31bc27dab",
   "metadata": {},
   "source": [
    "<br>\n",
    "\n",
    "Pokud budeš potřebovat pracovat **s více sloupečky**:"
   ]
  },
  {
   "cell_type": "code",
   "execution_count": 66,
   "id": "27c95782-279d-4d8f-8dcd-ecdb02a64a34",
   "metadata": {
    "tags": []
   },
   "outputs": [],
   "source": [
    "from pandas import Series"
   ]
  },
  {
   "cell_type": "code",
   "execution_count": 67,
   "id": "62d9feb1-ba0e-4ff9-9773-4a76042f23a4",
   "metadata": {
    "tags": []
   },
   "outputs": [],
   "source": [
    "def vytvor_novy_email(radek, domena= \"gmail.com\"):\n",
    "    return f\"{radek['jmeno'].lower()}.{radek['prijmeni'].lower()}@{domena}\""
   ]
  },
  {
   "cell_type": "code",
   "execution_count": 68,
   "id": "cd155080-68b4-4f96-911a-84149ca399e1",
   "metadata": {},
   "outputs": [],
   "source": [
    "jeden_uzivatel = DataFrame({'jmeno': ['Matous'], 'prijmeni': ['Test']})"
   ]
  },
  {
   "cell_type": "code",
   "execution_count": 69,
   "id": "cc7cbd61-2d5a-4606-9acc-9e0d44390748",
   "metadata": {},
   "outputs": [
    {
     "data": {
      "text/plain": [
       "jmeno       Matous\n",
       "prijmeni      Test\n",
       "Name: 0, dtype: object"
      ]
     },
     "execution_count": 69,
     "metadata": {},
     "output_type": "execute_result"
    }
   ],
   "source": [
    "jeden_uzivatel.iloc[0]"
   ]
  },
  {
   "cell_type": "code",
   "execution_count": 70,
   "id": "5f16feae-96e3-4add-81cc-1135e02af4b6",
   "metadata": {},
   "outputs": [
    {
     "data": {
      "text/plain": [
       "'matous.test@gmail.com'"
      ]
     },
     "execution_count": 70,
     "metadata": {},
     "output_type": "execute_result"
    }
   ],
   "source": [
    "vytvor_novy_email(radek=jeden_uzivatel.iloc[0])"
   ]
  },
  {
   "cell_type": "code",
   "execution_count": 71,
   "id": "ff2555b3-d8f0-482e-9ef9-13913f8d1679",
   "metadata": {},
   "outputs": [
    {
     "data": {
      "text/html": [
       "<div>\n",
       "<style scoped>\n",
       "    .dataframe tbody tr th:only-of-type {\n",
       "        vertical-align: middle;\n",
       "    }\n",
       "\n",
       "    .dataframe tbody tr th {\n",
       "        vertical-align: top;\n",
       "    }\n",
       "\n",
       "    .dataframe thead th {\n",
       "        text-align: right;\n",
       "    }\n",
       "</style>\n",
       "<table border=\"1\" class=\"dataframe\">\n",
       "  <thead>\n",
       "    <tr style=\"text-align: right;\">\n",
       "      <th></th>\n",
       "      <th>jmeno</th>\n",
       "      <th>vek</th>\n",
       "      <th>vaha</th>\n",
       "      <th>vyska</th>\n",
       "      <th>prijmeni</th>\n",
       "      <th>BMI</th>\n",
       "      <th>email</th>\n",
       "    </tr>\n",
       "  </thead>\n",
       "  <tbody>\n",
       "    <tr>\n",
       "      <th>0</th>\n",
       "      <td>Matouš</td>\n",
       "      <td>23</td>\n",
       "      <td>65</td>\n",
       "      <td>160</td>\n",
       "      <td>Holinka</td>\n",
       "      <td>25.4</td>\n",
       "      <td>holinka@gmail.com</td>\n",
       "    </tr>\n",
       "    <tr>\n",
       "      <th>1</th>\n",
       "      <td>Marek</td>\n",
       "      <td>25</td>\n",
       "      <td>70</td>\n",
       "      <td>170</td>\n",
       "      <td>Párek</td>\n",
       "      <td>24.2</td>\n",
       "      <td>párek@gmail.com</td>\n",
       "    </tr>\n",
       "    <tr>\n",
       "      <th>2</th>\n",
       "      <td>Lukáš</td>\n",
       "      <td>27</td>\n",
       "      <td>75</td>\n",
       "      <td>180</td>\n",
       "      <td>Holinka</td>\n",
       "      <td>23.1</td>\n",
       "      <td>holinka@gmail.com</td>\n",
       "    </tr>\n",
       "    <tr>\n",
       "      <th>3</th>\n",
       "      <td>Jan</td>\n",
       "      <td>29</td>\n",
       "      <td>80</td>\n",
       "      <td>190</td>\n",
       "      <td>Novák</td>\n",
       "      <td>22.2</td>\n",
       "      <td>novák@gmail.com</td>\n",
       "    </tr>\n",
       "  </tbody>\n",
       "</table>\n",
       "</div>"
      ],
      "text/plain": [
       "    jmeno  vek  vaha  vyska prijmeni   BMI              email\n",
       "0  Matouš   23    65    160  Holinka  25.4  holinka@gmail.com\n",
       "1   Marek   25    70    170    Párek  24.2    párek@gmail.com\n",
       "2   Lukáš   27    75    180  Holinka  23.1  holinka@gmail.com\n",
       "3     Jan   29    80    190    Novák  22.2    novák@gmail.com"
      ]
     },
     "execution_count": 71,
     "metadata": {},
     "output_type": "execute_result"
    }
   ],
   "source": [
    "uzivatele_df"
   ]
  },
  {
   "cell_type": "code",
   "execution_count": 72,
   "id": "c17c4bac-9aef-4169-919e-134b825a8652",
   "metadata": {
    "tags": []
   },
   "outputs": [],
   "source": [
    "uzivatele_df['dalsi_email'] = uzivatele_df.apply(vytvor_novy_email, axis=1)"
   ]
  },
  {
   "cell_type": "code",
   "execution_count": 73,
   "id": "c8e7eb59-01de-4d95-b235-5dc1ad64800a",
   "metadata": {
    "tags": []
   },
   "outputs": [
    {
     "data": {
      "text/html": [
       "<div>\n",
       "<style scoped>\n",
       "    .dataframe tbody tr th:only-of-type {\n",
       "        vertical-align: middle;\n",
       "    }\n",
       "\n",
       "    .dataframe tbody tr th {\n",
       "        vertical-align: top;\n",
       "    }\n",
       "\n",
       "    .dataframe thead th {\n",
       "        text-align: right;\n",
       "    }\n",
       "</style>\n",
       "<table border=\"1\" class=\"dataframe\">\n",
       "  <thead>\n",
       "    <tr style=\"text-align: right;\">\n",
       "      <th></th>\n",
       "      <th>jmeno</th>\n",
       "      <th>vek</th>\n",
       "      <th>vaha</th>\n",
       "      <th>vyska</th>\n",
       "      <th>prijmeni</th>\n",
       "      <th>BMI</th>\n",
       "      <th>email</th>\n",
       "      <th>dalsi_email</th>\n",
       "    </tr>\n",
       "  </thead>\n",
       "  <tbody>\n",
       "    <tr>\n",
       "      <th>0</th>\n",
       "      <td>Matouš</td>\n",
       "      <td>23</td>\n",
       "      <td>65</td>\n",
       "      <td>160</td>\n",
       "      <td>Holinka</td>\n",
       "      <td>25.4</td>\n",
       "      <td>holinka@gmail.com</td>\n",
       "      <td>matouš.holinka@gmail.com</td>\n",
       "    </tr>\n",
       "    <tr>\n",
       "      <th>1</th>\n",
       "      <td>Marek</td>\n",
       "      <td>25</td>\n",
       "      <td>70</td>\n",
       "      <td>170</td>\n",
       "      <td>Párek</td>\n",
       "      <td>24.2</td>\n",
       "      <td>párek@gmail.com</td>\n",
       "      <td>marek.párek@gmail.com</td>\n",
       "    </tr>\n",
       "    <tr>\n",
       "      <th>2</th>\n",
       "      <td>Lukáš</td>\n",
       "      <td>27</td>\n",
       "      <td>75</td>\n",
       "      <td>180</td>\n",
       "      <td>Holinka</td>\n",
       "      <td>23.1</td>\n",
       "      <td>holinka@gmail.com</td>\n",
       "      <td>lukáš.holinka@gmail.com</td>\n",
       "    </tr>\n",
       "    <tr>\n",
       "      <th>3</th>\n",
       "      <td>Jan</td>\n",
       "      <td>29</td>\n",
       "      <td>80</td>\n",
       "      <td>190</td>\n",
       "      <td>Novák</td>\n",
       "      <td>22.2</td>\n",
       "      <td>novák@gmail.com</td>\n",
       "      <td>jan.novák@gmail.com</td>\n",
       "    </tr>\n",
       "  </tbody>\n",
       "</table>\n",
       "</div>"
      ],
      "text/plain": [
       "    jmeno  vek  vaha  vyska prijmeni   BMI              email  \\\n",
       "0  Matouš   23    65    160  Holinka  25.4  holinka@gmail.com   \n",
       "1   Marek   25    70    170    Párek  24.2    párek@gmail.com   \n",
       "2   Lukáš   27    75    180  Holinka  23.1  holinka@gmail.com   \n",
       "3     Jan   29    80    190    Novák  22.2    novák@gmail.com   \n",
       "\n",
       "                dalsi_email  \n",
       "0  matouš.holinka@gmail.com  \n",
       "1     marek.párek@gmail.com  \n",
       "2   lukáš.holinka@gmail.com  \n",
       "3       jan.novák@gmail.com  "
      ]
     },
     "execution_count": 73,
     "metadata": {},
     "output_type": "execute_result"
    }
   ],
   "source": [
    "uzivatele_df"
   ]
  },
  {
   "cell_type": "markdown",
   "id": "81d6db38-f127-4411-b9e0-86e435fba0a9",
   "metadata": {},
   "source": [
    "<br>\n",
    "\n",
    "Nepovinný argument `axis` v ohlášení říká, že chce aplikovat metodu **na řádkové hodnoty**."
   ]
  },
  {
   "cell_type": "code",
   "execution_count": 74,
   "id": "d5a4b70b-787b-49db-afb7-1081ec3beea2",
   "metadata": {
    "tags": []
   },
   "outputs": [],
   "source": [
    "# uzivatele_df.apply?"
   ]
  },
  {
   "cell_type": "code",
   "execution_count": 75,
   "id": "1f402591-90f6-4035-8376-fe9b92a81541",
   "metadata": {
    "tags": []
   },
   "outputs": [],
   "source": [
    "# uzivatele_df.head()"
   ]
  },
  {
   "cell_type": "markdown",
   "id": "5f4fa7d0-fff7-407d-a143-6e8879125104",
   "metadata": {},
   "source": [
    "Tento způsob lze použít, pokud chceš vytvořit **nový sloupec** pomocí nějaké funkce na jednotlivé řádky nebo sloupce `DataFrame`."
   ]
  },
  {
   "cell_type": "markdown",
   "id": "868851fe-0847-4625-b8fa-ecae7c4f75d0",
   "metadata": {},
   "source": [
    "<br>\n",
    "\n",
    "### Odstraňování sloupečků\n",
    "\n",
    "---"
   ]
  },
  {
   "cell_type": "markdown",
   "id": "973f72d3-3daa-4d11-89c3-1307b0602971",
   "metadata": {},
   "source": [
    "K odstranění sloupců z `DataFrame` objektu můžeš použít několik metod:\n",
    "1. pythonovskou funkci `del`,\n",
    "2. metodu `drop`,\n",
    "3. metodu `pop`."
   ]
  },
  {
   "cell_type": "code",
   "execution_count": 76,
   "id": "43c87a71-217c-4770-9411-56d13a91c8be",
   "metadata": {
    "tags": []
   },
   "outputs": [],
   "source": [
    "from pandas import DataFrame"
   ]
  },
  {
   "cell_type": "code",
   "execution_count": 77,
   "id": "b8027fa4-8d5a-41f2-83ff-125bdde0a04d",
   "metadata": {
    "tags": []
   },
   "outputs": [
    {
     "data": {
      "text/html": [
       "<div>\n",
       "<style scoped>\n",
       "    .dataframe tbody tr th:only-of-type {\n",
       "        vertical-align: middle;\n",
       "    }\n",
       "\n",
       "    .dataframe tbody tr th {\n",
       "        vertical-align: top;\n",
       "    }\n",
       "\n",
       "    .dataframe thead th {\n",
       "        text-align: right;\n",
       "    }\n",
       "</style>\n",
       "<table border=\"1\" class=\"dataframe\">\n",
       "  <thead>\n",
       "    <tr style=\"text-align: right;\">\n",
       "      <th></th>\n",
       "      <th>jmeno</th>\n",
       "      <th>vek</th>\n",
       "      <th>vaha</th>\n",
       "      <th>vyska</th>\n",
       "      <th>prijmeni</th>\n",
       "      <th>BMI</th>\n",
       "      <th>email</th>\n",
       "      <th>dalsi_email</th>\n",
       "    </tr>\n",
       "  </thead>\n",
       "  <tbody>\n",
       "    <tr>\n",
       "      <th>0</th>\n",
       "      <td>Matouš</td>\n",
       "      <td>23</td>\n",
       "      <td>65</td>\n",
       "      <td>160</td>\n",
       "      <td>Holinka</td>\n",
       "      <td>25.4</td>\n",
       "      <td>holinka@gmail.com</td>\n",
       "      <td>matouš.holinka@gmail.com</td>\n",
       "    </tr>\n",
       "    <tr>\n",
       "      <th>1</th>\n",
       "      <td>Marek</td>\n",
       "      <td>25</td>\n",
       "      <td>70</td>\n",
       "      <td>170</td>\n",
       "      <td>Párek</td>\n",
       "      <td>24.2</td>\n",
       "      <td>párek@gmail.com</td>\n",
       "      <td>marek.párek@gmail.com</td>\n",
       "    </tr>\n",
       "    <tr>\n",
       "      <th>2</th>\n",
       "      <td>Lukáš</td>\n",
       "      <td>27</td>\n",
       "      <td>75</td>\n",
       "      <td>180</td>\n",
       "      <td>Holinka</td>\n",
       "      <td>23.1</td>\n",
       "      <td>holinka@gmail.com</td>\n",
       "      <td>lukáš.holinka@gmail.com</td>\n",
       "    </tr>\n",
       "    <tr>\n",
       "      <th>3</th>\n",
       "      <td>Jan</td>\n",
       "      <td>29</td>\n",
       "      <td>80</td>\n",
       "      <td>190</td>\n",
       "      <td>Novák</td>\n",
       "      <td>22.2</td>\n",
       "      <td>novák@gmail.com</td>\n",
       "      <td>jan.novák@gmail.com</td>\n",
       "    </tr>\n",
       "  </tbody>\n",
       "</table>\n",
       "</div>"
      ],
      "text/plain": [
       "    jmeno  vek  vaha  vyska prijmeni   BMI              email  \\\n",
       "0  Matouš   23    65    160  Holinka  25.4  holinka@gmail.com   \n",
       "1   Marek   25    70    170    Párek  24.2    párek@gmail.com   \n",
       "2   Lukáš   27    75    180  Holinka  23.1  holinka@gmail.com   \n",
       "3     Jan   29    80    190    Novák  22.2    novák@gmail.com   \n",
       "\n",
       "                dalsi_email  \n",
       "0  matouš.holinka@gmail.com  \n",
       "1     marek.párek@gmail.com  \n",
       "2   lukáš.holinka@gmail.com  \n",
       "3       jan.novák@gmail.com  "
      ]
     },
     "execution_count": 77,
     "metadata": {},
     "output_type": "execute_result"
    }
   ],
   "source": [
    "uzivatele_df"
   ]
  },
  {
   "cell_type": "code",
   "execution_count": 79,
   "id": "cced5222-de73-48a9-b91a-a4e6e323bddb",
   "metadata": {
    "tags": []
   },
   "outputs": [
    {
     "data": {
      "text/plain": [
       "True"
      ]
     },
     "execution_count": 79,
     "metadata": {},
     "output_type": "execute_result"
    }
   ],
   "source": [
    "'dalsi_email' in uzivatele_df.columns"
   ]
  },
  {
   "cell_type": "code",
   "execution_count": 80,
   "id": "bd19924b-8e02-4ff8-a46e-3258216037bc",
   "metadata": {
    "tags": []
   },
   "outputs": [
    {
     "data": {
      "text/plain": [
       "RangeIndex(start=0, stop=4, step=1)"
      ]
     },
     "execution_count": 80,
     "metadata": {},
     "output_type": "execute_result"
    }
   ],
   "source": [
    "uzivatele_df.index"
   ]
  },
  {
   "cell_type": "code",
   "execution_count": null,
   "id": "4f833d08-4c92-4273-bf40-adcae1edd044",
   "metadata": {},
   "outputs": [],
   "source": [
    "# uzivatele_df.drop?"
   ]
  },
  {
   "cell_type": "code",
   "execution_count": 81,
   "id": "3c67fa3e-7791-4fc1-9aac-36d5a05444ca",
   "metadata": {
    "tags": []
   },
   "outputs": [],
   "source": [
    "uzivatele_df = uzivatele_df.drop('dalsi_email', axis=1)"
   ]
  },
  {
   "cell_type": "code",
   "execution_count": 82,
   "id": "084ec97c-d70c-4fbb-95db-8face9e2cd99",
   "metadata": {
    "tags": []
   },
   "outputs": [
    {
     "data": {
      "text/html": [
       "<div>\n",
       "<style scoped>\n",
       "    .dataframe tbody tr th:only-of-type {\n",
       "        vertical-align: middle;\n",
       "    }\n",
       "\n",
       "    .dataframe tbody tr th {\n",
       "        vertical-align: top;\n",
       "    }\n",
       "\n",
       "    .dataframe thead th {\n",
       "        text-align: right;\n",
       "    }\n",
       "</style>\n",
       "<table border=\"1\" class=\"dataframe\">\n",
       "  <thead>\n",
       "    <tr style=\"text-align: right;\">\n",
       "      <th></th>\n",
       "      <th>jmeno</th>\n",
       "      <th>vek</th>\n",
       "      <th>vaha</th>\n",
       "      <th>vyska</th>\n",
       "      <th>prijmeni</th>\n",
       "      <th>BMI</th>\n",
       "      <th>email</th>\n",
       "    </tr>\n",
       "  </thead>\n",
       "  <tbody>\n",
       "    <tr>\n",
       "      <th>0</th>\n",
       "      <td>Matouš</td>\n",
       "      <td>23</td>\n",
       "      <td>65</td>\n",
       "      <td>160</td>\n",
       "      <td>Holinka</td>\n",
       "      <td>25.4</td>\n",
       "      <td>holinka@gmail.com</td>\n",
       "    </tr>\n",
       "    <tr>\n",
       "      <th>1</th>\n",
       "      <td>Marek</td>\n",
       "      <td>25</td>\n",
       "      <td>70</td>\n",
       "      <td>170</td>\n",
       "      <td>Párek</td>\n",
       "      <td>24.2</td>\n",
       "      <td>párek@gmail.com</td>\n",
       "    </tr>\n",
       "    <tr>\n",
       "      <th>2</th>\n",
       "      <td>Lukáš</td>\n",
       "      <td>27</td>\n",
       "      <td>75</td>\n",
       "      <td>180</td>\n",
       "      <td>Holinka</td>\n",
       "      <td>23.1</td>\n",
       "      <td>holinka@gmail.com</td>\n",
       "    </tr>\n",
       "    <tr>\n",
       "      <th>3</th>\n",
       "      <td>Jan</td>\n",
       "      <td>29</td>\n",
       "      <td>80</td>\n",
       "      <td>190</td>\n",
       "      <td>Novák</td>\n",
       "      <td>22.2</td>\n",
       "      <td>novák@gmail.com</td>\n",
       "    </tr>\n",
       "  </tbody>\n",
       "</table>\n",
       "</div>"
      ],
      "text/plain": [
       "    jmeno  vek  vaha  vyska prijmeni   BMI              email\n",
       "0  Matouš   23    65    160  Holinka  25.4  holinka@gmail.com\n",
       "1   Marek   25    70    170    Párek  24.2    párek@gmail.com\n",
       "2   Lukáš   27    75    180  Holinka  23.1  holinka@gmail.com\n",
       "3     Jan   29    80    190    Novák  22.2    novák@gmail.com"
      ]
     },
     "execution_count": 82,
     "metadata": {},
     "output_type": "execute_result"
    }
   ],
   "source": [
    "uzivatele_df"
   ]
  },
  {
   "cell_type": "markdown",
   "id": "3bbc0f11-e0b6-48ba-823b-968b10ac6e17",
   "metadata": {},
   "source": [
    "<br>\n",
    "\n",
    "**🧠 CVIČENÍ 🧠, zpracuj zadané body v úloze.**"
   ]
  },
  {
   "cell_type": "markdown",
   "id": "f6163a11-8942-46ef-a21d-82e935ae15ed",
   "metadata": {},
   "source": [
    "Máš DataFrame `zamestnanci` s informacemi o zaměstnancích tvé firmy.\n",
    "\n",
    "Potřebuješ následující:\n",
    "1. **přidat sloupec** s názvem `plat_na_hodinu`, který bude vypočítán jako průměr platu zaměstnanců dělený počtem odpracovaných hodin.\n",
    "2. Sloupec `plat_na_hodinu` zaokrouhli **na celé číslo**,\n",
    "3. **přejmenuj sloupec** `jmeno` na `cele_jmeno`,\n",
    "4. **odstraň sloupec** `id`.\n",
    "5. ☢️ **vytvoř funkci** `preved_datum`, která změní formát data ve sloupci `datum_narozeni` z `YYYY-MM-DD` na `DD/MM/YYYY`,"
   ]
  },
  {
   "cell_type": "code",
   "execution_count": 83,
   "id": "9a1ca32c-86a7-4649-8083-55e87dd14d7f",
   "metadata": {
    "tags": []
   },
   "outputs": [],
   "source": [
    "from datetime import datetime\n",
    "\n",
    "import pandas as pd"
   ]
  },
  {
   "cell_type": "code",
   "execution_count": 84,
   "id": "c546ac73-6335-478e-b38c-34e63dfdcca6",
   "metadata": {},
   "outputs": [],
   "source": [
    "zamestnanci_df = pd.DataFrame({'id': [1, 2, 3, 4],\n",
    "                            'jmeno': ['Jan Novák', 'Petr Soukup', 'Marie Horáková', 'Jana Svobodová'],\n",
    "                            'datum_narozeni': ['1990-05-15', '1985-12-10', '1992-07-25', '1988-03-20'],\n",
    "                            'plat': [40_000, 45_000, 35_000, 50_000],\n",
    "                            'odprac_hodiny': [160, 180, 150, 200]})"
   ]
  },
  {
   "cell_type": "markdown",
   "id": "dc223c33-7ba2-4755-bdb6-f6e2780b2595",
   "metadata": {},
   "source": [
    "<details>\n",
    "    <summary>▶️ Řešení</summary>\n",
    "    \n",
    "```python\n",
    "zamestnanci['plat_na_hodinu'] = round(zamestnanci['plat'] / zamestnanci['odprac_hodiny'])\n",
    "\n",
    "zamestnanci = zamestnanci.rename(columns={'jmeno': 'cele_jmeno'})\n",
    "\n",
    "zamestnanci = zamestnanci.drop(columns=['id'])\n",
    "\n",
    "\n",
    "def preved_datum(datum_narozeni, vstupni_format='%Y-%m-%d', vystupni_format='%d/%m/%Y'):\n",
    "    dt = datetime.strptime(datum_narozeni, vstupni_format)\n",
    "    prevedene_datum = dt.strftime(vystupni_format)\n",
    "    return prevedene_datum\n",
    "\n",
    "\n",
    "# zamestnanci['datum_narozeni'] = pd.to_datetime(zamestnanci['datum_narozeni']).dt.strftime('%d/%m/%Y')  #  I. řešení\n",
    "# zamestnanci['datum_narozeni'] = zamestnanci['datum_narozeni'].apply(preved_datum)                      # II. řešení\n",
    "```\n",
    "</details>"
   ]
  },
  {
   "cell_type": "markdown",
   "id": "a6aa6496-8732-4b4a-a018-4e5fbe4d808f",
   "metadata": {},
   "source": [
    "---"
   ]
  },
  {
   "cell_type": "markdown",
   "id": "790d92d0-ef33-49f8-9c21-1e188972097b",
   "metadata": {},
   "source": [
    "\n",
    "\n",
    "<img src=\"https://imgs.search.brave.com/avW2sADDSquCer8A7CT2t7rtq5ea-z8nvmRLilPc4-U/rs:fit:500:0:0:0/g:ce/aHR0cHM6Ly9kZ2Vp/dTNmejI4Mng1LmNs/b3VkZnJvbnQubmV0/L2cvbC9sZ2ZwMTgz/OStqb2luLXVzLW9y/LWRpZS1kYXJ0aC12/YWRlci1zdGFyLXdh/cnMtMzB0aC1hbm5p/bnZlcnNhcnktcG9z/dGVyLmpwZw\" width=\"160\" style=\"margin-left:auto; margin-right:auto\"/>"
   ]
  },
  {
   "cell_type": "markdown",
   "id": "476d0b01-c1d4-4b96-b9bb-ac4db5910d71",
   "metadata": {},
   "source": [
    "<br>\n",
    "\n",
    "## Spojování dat\n",
    "\n",
    "---\n",
    "\n",
    "Takovými operacemi si můžeš představit jednoduché operace jako **spojování** (*konkatenace*) **dvou a více datasetů**, tedy tabulek.\n",
    "\n",
    "Obdoba pro složitější *JOINY* jako u databází a jejich tabulek.\n",
    "\n",
    "`pandas` obsahuje různé *funkce* a *metody*, které umožňují tento způsob práce:"
   ]
  },
  {
   "cell_type": "markdown",
   "id": "b9be8c0b-1c8c-4579-b5ac-b5b732b219c0",
   "metadata": {},
   "source": [
    "* ✅ funkce `concat`,\n",
    "* ✅ funkce `merge`,\n",
    "* ⛔️ metoda `append` (*outdated*),\n",
    "* ✅ metoda `join`."
   ]
  },
  {
   "cell_type": "markdown",
   "id": "969f0749-be1e-4521-b653-7f6098d4f1a3",
   "metadata": {},
   "source": [
    "### Spojování s CONCAT\n",
    "\n",
    "---"
   ]
  },
  {
   "cell_type": "markdown",
   "id": "db455b3f-4d85-414d-abc1-45e722b6f64b",
   "metadata": {},
   "source": [
    "Funkce `concat()` v `pandas` umožňuje spojit **dva nebo více**:\n",
    "1. **sloupečků** tabulky,\n",
    "    - *horizontálně*, po sloupcích,\n",
    "    - *vertikálně*, po Indexech,\n",
    "3. **tabulek** samotných,\n",
    "    - *horizontálně*, po sloupcích,\n",
    "    - *vertikálně*, po Indexech,\n",
    "\n",
    "<br>\n",
    "\n",
    "Použití funkce `concat()` spočívá **v předání seznamu objektů**, které chceš spojit, a parametru `axis`, který určuje osu, podle které se májí objekty spojit:"
   ]
  },
  {
   "cell_type": "markdown",
   "id": "33b4d898-86bc-4126-80be-bcbae8921490",
   "metadata": {},
   "source": [
    "#### Spojení sloupečků, CONCAT\n",
    "\n",
    "---"
   ]
  },
  {
   "cell_type": "code",
   "execution_count": null,
   "id": "72ae4dd7-eb09-45b8-aefb-99d94865c322",
   "metadata": {
    "tags": []
   },
   "outputs": [],
   "source": [
    "from pandas import concat, Series, DataFrame"
   ]
  },
  {
   "cell_type": "code",
   "execution_count": null,
   "id": "375df825-8292-4813-92cc-c0416feeed64",
   "metadata": {
    "tags": []
   },
   "outputs": [],
   "source": [
    "sloupecek_1 = Series(['A', 'B', 'C'], index=[1, 2, 3])\n",
    "sloupecek_2 = Series(['D', 'E', 'F'], index=[4, 5, 6])"
   ]
  },
  {
   "cell_type": "code",
   "execution_count": null,
   "id": "a644ef7e-809d-4fd9-abba-189991ff8992",
   "metadata": {
    "tags": []
   },
   "outputs": [],
   "source": [
    "sloupec_1"
   ]
  },
  {
   "cell_type": "code",
   "execution_count": null,
   "id": "2e7d6286-bbfb-45a5-960c-db7f886c61c1",
   "metadata": {
    "tags": []
   },
   "outputs": [],
   "source": [
    "sloupec_2"
   ]
  },
  {
   "cell_type": "markdown",
   "id": "7bc1d256-3b75-4426-bd09-79123301c85e",
   "metadata": {},
   "source": [
    "<br>\n",
    "\n",
    "##### Spojení **vertikální** (Indexy navazují, tabulky \"pod sebou\"):\n",
    "\n",
    "---"
   ]
  },
  {
   "cell_type": "code",
   "execution_count": null,
   "id": "bd17115f-006d-4ffb-8037-1bc779761e19",
   "metadata": {},
   "outputs": [],
   "source": [
    "# spojene_sloupce_vertikalne = concat(sloupec_1, sloupec_2, axis=0)"
   ]
  },
  {
   "cell_type": "markdown",
   "id": "aa4fdfb8-009d-4a3c-9d0d-26db6a26bd65",
   "metadata": {},
   "source": [
    "<br>\n",
    "\n",
    "Nesprávné spojení, potřeba nahlédnout do popisku funkce:"
   ]
  },
  {
   "cell_type": "code",
   "execution_count": null,
   "id": "66bb3fe6-5a40-4a58-b29b-6a6607ab29b6",
   "metadata": {},
   "outputs": [],
   "source": [
    "# concat?"
   ]
  },
  {
   "cell_type": "code",
   "execution_count": null,
   "id": "5ba96e31-b620-4587-b983-a3d0ee1bb4aa",
   "metadata": {
    "tags": []
   },
   "outputs": [],
   "source": [
    "spojene_sloupce_vertikalne = concat((sloupec_1, sloupec_2), axis=0)"
   ]
  },
  {
   "cell_type": "markdown",
   "id": "88612b52-cf53-4bef-8382-ac100b027662",
   "metadata": {},
   "source": [
    "Nyní spojujeme sekvenci `tuple`, což už spadá mezi iterovatelné datové typy.\n",
    "<br>\n",
    "\n",
    "Jaký parametr je `axis` a jakých může nabývat hodnot:"
   ]
  },
  {
   "cell_type": "code",
   "execution_count": null,
   "id": "44743500-baff-4cda-b5dc-d2a45d47b11d",
   "metadata": {},
   "outputs": [],
   "source": [
    "# concat?"
   ]
  },
  {
   "cell_type": "code",
   "execution_count": null,
   "id": "2254cc8c-bf16-454a-b68a-9288fb54ec64",
   "metadata": {
    "tags": []
   },
   "outputs": [],
   "source": [
    "spojene_sloupce_vertikalne"
   ]
  },
  {
   "cell_type": "markdown",
   "id": "b7178ec8-3065-4221-8d3a-9360ec2618c1",
   "metadata": {},
   "source": [
    "<br>\n",
    "\n",
    "##### Spojení **horizontální** (vedle sebe, přidání sloupečku):\n",
    "\n",
    "---"
   ]
  },
  {
   "cell_type": "code",
   "execution_count": null,
   "id": "64ac7fdc-822c-4c2e-b237-c030650c598c",
   "metadata": {
    "tags": []
   },
   "outputs": [],
   "source": [
    "sloupce_spojene_horizontalne = concat([sloupec_1, sloupec_2], axis=1)"
   ]
  },
  {
   "cell_type": "code",
   "execution_count": null,
   "id": "c3b53d7d-c887-472d-b8ed-46e8f10a4e50",
   "metadata": {},
   "outputs": [],
   "source": [
    "sloupce_spojene_horizontalne"
   ]
  },
  {
   "cell_type": "markdown",
   "id": "4a4665ca-69b9-4410-a803-3c58d60370eb",
   "metadata": {},
   "source": [
    "<br>\n",
    "\n",
    "#### Spojení tabulek, CONCAT\n",
    "\n",
    "---"
   ]
  },
  {
   "cell_type": "code",
   "execution_count": null,
   "id": "35311e59-0ec5-44f3-b6bb-b924a176ac2f",
   "metadata": {
    "tags": []
   },
   "outputs": [],
   "source": [
    "uzivatele_tab_1 = {'jmeno': ['Matouš', 'Marek', 'Lukáš'],\n",
    "                   'vek': [25, 30, 35]}"
   ]
  },
  {
   "cell_type": "code",
   "execution_count": null,
   "id": "a5c374d6-1181-417f-96db-5039b0358660",
   "metadata": {
    "tags": []
   },
   "outputs": [],
   "source": [
    "uzivatele_tab_2 = {'jmeno': ['Petr', 'Jan', 'Michal'],\n",
    "                   'vek': [40, 45, 50]}"
   ]
  },
  {
   "cell_type": "code",
   "execution_count": null,
   "id": "ad4422ca-df80-4e54-9f01-6b32134590fe",
   "metadata": {
    "tags": []
   },
   "outputs": [],
   "source": [
    "uzivatele_tab_1_df = DataFrame(uzivatele_tab_1)\n",
    "uzivatele_tab_2_df = DataFrame(uzivatele_tab_2)"
   ]
  },
  {
   "cell_type": "code",
   "execution_count": null,
   "id": "3765781b-ae1d-4356-a477-9a9ce1db48a1",
   "metadata": {
    "tags": []
   },
   "outputs": [],
   "source": [
    "uzivatele_tab_1_df"
   ]
  },
  {
   "cell_type": "code",
   "execution_count": null,
   "id": "29266ba0-0a7a-4657-866d-fb6b3d82287f",
   "metadata": {
    "tags": []
   },
   "outputs": [],
   "source": [
    "uzivatele_tab_2_df"
   ]
  },
  {
   "cell_type": "markdown",
   "id": "d8c73b0e-f51e-44bf-988c-ddb4314266b0",
   "metadata": {},
   "source": [
    "\n",
    "#### Jak zapsat spojení 2 různých tabulek?\n",
    "\n",
    "---"
   ]
  },
  {
   "cell_type": "markdown",
   "id": "e43f4938-f2dd-47d8-883c-2e79f78c73ff",
   "metadata": {},
   "source": [
    "Stejně jako u sloupečků, nezapomínat na poziční argumenty (závorka).\n",
    "\n",
    "Stejně tak, vybrat správnou osu."
   ]
  },
  {
   "cell_type": "code",
   "execution_count": null,
   "id": "ce04792a-270c-4dce-960f-bbd801b6306e",
   "metadata": {
    "tags": []
   },
   "outputs": [],
   "source": [
    "spojene_tab_df = concat([uzivatele_tab_1_df, uzivatele_tab_2_df], axis=0)"
   ]
  },
  {
   "cell_type": "code",
   "execution_count": null,
   "id": "86971418-4198-4cf1-b339-9c091f1cbfb1",
   "metadata": {
    "tags": []
   },
   "outputs": [],
   "source": [
    "spojene_tab_df"
   ]
  },
  {
   "cell_type": "markdown",
   "id": "dd41a1cf-2f68-41f0-b483-9f25a26f46dc",
   "metadata": {},
   "source": [
    "#### Co s duplicitními Indexy?\n",
    "\n",
    "---"
   ]
  },
  {
   "cell_type": "markdown",
   "id": "5623de41-d544-4a0c-94a6-4459a94bb5d1",
   "metadata": {},
   "source": [
    "Tady se ovšem **zduplikovali hodnoty** některých indexů.\n",
    "\n",
    "Ty je potřeba opravit tímto postupem:\n",
    "1. **Vytvořím nový sloupeček** pro Indexy,\n",
    "2. **odstraním starý sloupeček** s duplicitami."
   ]
  },
  {
   "cell_type": "code",
   "execution_count": null,
   "id": "03c422e2-caf0-48dd-bdde-b6eb9d5b8dbf",
   "metadata": {
    "tags": []
   },
   "outputs": [],
   "source": [
    "spojene_tab_df = spojene_tab_df.reset_index()  # Přidá nový Index"
   ]
  },
  {
   "cell_type": "markdown",
   "id": "c4fe028e-52d8-4098-8203-70040b826f6d",
   "metadata": {},
   "source": [
    "<br>\n",
    "\n",
    "Metoda `reset_index` přidá nový, defaultní sloupec s pomocným Indexem."
   ]
  },
  {
   "cell_type": "code",
   "execution_count": null,
   "id": "322556f5-362f-42bf-8780-7fa1f9ff427c",
   "metadata": {
    "tags": []
   },
   "outputs": [],
   "source": [
    "spojene_tab_df"
   ]
  },
  {
   "cell_type": "code",
   "execution_count": null,
   "id": "9845897b-1399-436e-b600-64e9be6b5de6",
   "metadata": {
    "tags": []
   },
   "outputs": [],
   "source": [
    "spojene_tab_df = spojene_tab_df.drop(\"index\", axis=1)"
   ]
  },
  {
   "cell_type": "code",
   "execution_count": null,
   "id": "660c0a6c-0480-4260-a7db-dbb0fe3cfde8",
   "metadata": {},
   "outputs": [],
   "source": [
    "spojene_tab_df"
   ]
  },
  {
   "cell_type": "markdown",
   "id": "9b8d3948-bbda-440d-a5c5-92b5c70c6a0c",
   "metadata": {},
   "source": [
    "<br>\n",
    "\n",
    "Kontrola nového rozsahu **pro Index**:"
   ]
  },
  {
   "cell_type": "code",
   "execution_count": null,
   "id": "3561712e-e822-4651-aef3-10137ecc1e43",
   "metadata": {
    "tags": []
   },
   "outputs": [],
   "source": [
    "spojene_tab_df.index"
   ]
  },
  {
   "cell_type": "markdown",
   "id": "12fea673-e22c-4fa0-8cca-bcf3dc427f43",
   "metadata": {},
   "source": [
    "<br>\n",
    "\n",
    "Pozůstatky sloupečků:"
   ]
  },
  {
   "cell_type": "code",
   "execution_count": null,
   "id": "d21e7014-0144-4a03-8cea-8e16bdb31d2e",
   "metadata": {
    "tags": []
   },
   "outputs": [],
   "source": [
    "spojene_tab_df.columns"
   ]
  },
  {
   "cell_type": "markdown",
   "id": "239203f3-587a-45d7-ac10-fd2fceb24e86",
   "metadata": {},
   "source": [
    "<br>\n",
    "\n",
    "Nastavení jména nového Indexu:"
   ]
  },
  {
   "cell_type": "code",
   "execution_count": null,
   "id": "cdf63655-6832-4dcc-9df5-34ac384346bb",
   "metadata": {
    "tags": []
   },
   "outputs": [],
   "source": [
    "spojene_tab_df.index.names"
   ]
  },
  {
   "cell_type": "markdown",
   "id": "1ce60593-89d7-4624-a733-ee3bdfa850e0",
   "metadata": {},
   "source": [
    "<br>\n",
    "\n",
    "Doplníš jméno **pro Index**:"
   ]
  },
  {
   "cell_type": "code",
   "execution_count": null,
   "id": "8011785b-d5b9-445a-b35a-7e47520215be",
   "metadata": {
    "tags": []
   },
   "outputs": [],
   "source": [
    "spojene_tab_df.index.names = [\"Nový Index\"]"
   ]
  },
  {
   "cell_type": "code",
   "execution_count": null,
   "id": "e790c374-2baf-4b18-8e03-a46fd394d8cf",
   "metadata": {
    "tags": []
   },
   "outputs": [],
   "source": [
    "spojene_tab_df.index.names"
   ]
  },
  {
   "cell_type": "code",
   "execution_count": null,
   "id": "c2aab8f8-aca8-4918-8e9c-a452b2c0e909",
   "metadata": {
    "tags": []
   },
   "outputs": [],
   "source": [
    "spojene_tab_df.index"
   ]
  },
  {
   "cell_type": "code",
   "execution_count": null,
   "id": "129e63d7-13f1-4afc-8de2-397122330dc5",
   "metadata": {},
   "outputs": [],
   "source": [
    "spojene_tab_df"
   ]
  },
  {
   "cell_type": "markdown",
   "id": "c2c5aa6b-4e12-4572-8a3a-f1c32d25b6bd",
   "metadata": {},
   "source": [
    "Pro odchytávání **duplicitních indexů** můžeš doplnit parametr `verify_integrity=True`, případně pokud je irelevantní, ignorovat jej úplně `ignore_index=True`."
   ]
  },
  {
   "cell_type": "markdown",
   "id": "550f7b18-212f-41b5-b8f9-2aeb50a7ff0d",
   "metadata": {},
   "source": [
    "<br>\n",
    "\n",
    "**🧠 CVIČENÍ 🧠, procvič si funkcí CONCAT**"
   ]
  },
  {
   "cell_type": "code",
   "execution_count": null,
   "id": "5e82f9bd-ce76-4a88-8660-ddfd50ac7840",
   "metadata": {},
   "outputs": [],
   "source": [
    "from typing import Dict\n",
    "\n",
    "from pandas import DataFrame"
   ]
  },
  {
   "cell_type": "code",
   "execution_count": null,
   "id": "bc5bfd96-f06e-4b72-a5bb-86da20f08774",
   "metadata": {},
   "outputs": [],
   "source": [
    "data_populace = {\"City\": [\"New York\", \"London\", \"Tokyo\"],\n",
    "                 \"Population\": [8.4, 9.0, 13.9]}\n",
    "\n",
    "data_plocha = {\"City\": [\"New York\", \"London\", \"Tokyo\"],\n",
    "               \"Area\": [783, 1572, 2194]}\n",
    "\n",
    "data_kontinent = {\"City\": [\"New York\", \"London\", \"Tokyo\"],\n",
    "                  \"Continent\": [\"North America\", \"Europe\", \"Asia\"]}\n",
    "\n",
    "# ❓ Vytvoř funkci \"spoj_data_mest\", která spojí 3 předchozí tabulky❓"
   ]
  },
  {
   "cell_type": "code",
   "execution_count": null,
   "id": "5460e01d-47db-408f-888d-3f4f17c1cc91",
   "metadata": {},
   "outputs": [],
   "source": []
  },
  {
   "cell_type": "code",
   "execution_count": null,
   "id": "f2f1cc17-f9cf-4aa4-9d7f-25b8e7d75ddd",
   "metadata": {},
   "outputs": [],
   "source": []
  },
  {
   "cell_type": "markdown",
   "id": "f1c188bf-4bcd-4a5a-a64b-f12e5a97f272",
   "metadata": {},
   "source": [
    "<details>\n",
    "    <summary>▶️ Řešení</summary>\n",
    "    \n",
    "```python\n",
    "from pandas import DataFrame, concat\n",
    "\n",
    "data_populace = {\n",
    "    \"City\": [\"New York\", \"London\", \"Tokyo\"],\n",
    "    \"Population\": [8.4, 9.0, 13.9],\n",
    "}\n",
    "\n",
    "data_plocha = {\n",
    "    \"City\": [\"New York\", \"London\", \"Tokyo\"],\n",
    "    \"Area\": [783, 1572, 2194],\n",
    "}\n",
    "\n",
    "data_kontinent = {\n",
    "    \"City\": [\"New York\", \"London\", \"Tokyo\"],\n",
    "    \"Continent\": [\"North America\", \"Europe\", \"Asia\"],\n",
    "}\n",
    "\n",
    "populace_df = DataFrame(data_populace)\n",
    "plocha_df = DataFrame(data_plocha)\n",
    "kontinent_df = DataFrame(data_kontinent)\n",
    "\n",
    "\n",
    "populace_df = DataFrame(data_populace)\n",
    "plocha_df = DataFrame(data_plocha)\n",
    "kontinent_df = DataFrame(data_kontinent)\n",
    "\n",
    "\n",
    "def spoj_data_mest(*args) -> DataFrame:\n",
    "    data = [arg.set_index('City') for arg in args]\n",
    "    return concat(data, axis=1)\n",
    "\n",
    "\n",
    "result = spoj_data_mest(populace_df, plocha_df, kontinent_df)\n",
    "print(result)\n",
    "```\n",
    "</details>"
   ]
  },
  {
   "cell_type": "markdown",
   "id": "100edc1d-6820-4fed-bf1b-2b4a89771625",
   "metadata": {},
   "source": [
    "<img src=\"https://imgs.search.brave.com/wR9sz6BPwR_LCDm6Esd_B9VgUBSbW4wbTPi2T9DrdBc/rs:fit:500:0:0:0/g:ce/aHR0cHM6Ly90NC5m/dGNkbi5uZXQvanBn/LzA4LzQwLzM1LzIx/LzM2MF9GXzg0MDM1/MjE1Ml84N1N2T0kx/REM2RElCaHkxc0xz/VnpnYmNIUk1UZno0/cC5qcGc\" width=\"230\" style=\"margin-left:auto; margin-right:auto\"/>"
   ]
  },
  {
   "cell_type": "markdown",
   "id": "45204c76-11e0-4017-9dfd-b36462d4a3ee",
   "metadata": {},
   "source": [
    "### CONCAT a volitelný parametr JOIN\n",
    "\n",
    "---\n",
    "\n",
    "V jednoduchých ukázkách, jako jsou ty výše, stačilo **tabulky a sloupečky spojit**.\n",
    "\n",
    "To prakticky není vždy ideální řešení, protože některé sloupečky se mohou lišit.\n",
    "\n",
    "Třeba, pokud mají různé jména."
   ]
  },
  {
   "cell_type": "code",
   "execution_count": null,
   "id": "763529ea-621b-47e5-aef4-352899250736",
   "metadata": {
    "tags": []
   },
   "outputs": [],
   "source": [
    "from pandas import DataFrame, concat"
   ]
  },
  {
   "cell_type": "code",
   "execution_count": null,
   "id": "2c86c4b6-f51e-4020-85ad-345f04ddb349",
   "metadata": {
    "tags": []
   },
   "outputs": [],
   "source": [
    "data_tab_1_df = DataFrame({\"A\": [\"A1\", \"A2\"],\n",
    "                           \"B\": [\"B1\", \"B2\"],\n",
    "                           \"C\": [\"C1\", \"C2\"]},\n",
    "                          index=[1, 2])"
   ]
  },
  {
   "cell_type": "code",
   "execution_count": null,
   "id": "d6f7f59f-7661-4933-be46-9c93fb3de969",
   "metadata": {
    "tags": []
   },
   "outputs": [],
   "source": [
    "data_tab_2_df = DataFrame({\"B\": [\"B3\", \"B4\"],\n",
    "                           \"C\": [\"C3\", \"C4\"],\n",
    "                           \"D\": [\"D3\", \"D4\"]},\n",
    "                          index=[3, 4])"
   ]
  },
  {
   "cell_type": "code",
   "execution_count": null,
   "id": "2fb26593-938c-42fd-b409-289256193b37",
   "metadata": {
    "tags": []
   },
   "outputs": [],
   "source": [
    "data_tab_1_df"
   ]
  },
  {
   "cell_type": "code",
   "execution_count": null,
   "id": "184cf959-797e-4eaf-b060-78eeab0272c4",
   "metadata": {
    "tags": []
   },
   "outputs": [],
   "source": [
    "data_tab_2_df"
   ]
  },
  {
   "cell_type": "markdown",
   "id": "4c720053-c3f8-4893-9015-63c425912408",
   "metadata": {},
   "source": [
    "\n",
    "#### Horizontální spojení dvou tabulek\n",
    "\n",
    "---"
   ]
  },
  {
   "cell_type": "code",
   "execution_count": null,
   "id": "fa296049-c68b-4852-83a9-a4849db26ec1",
   "metadata": {
    "tags": []
   },
   "outputs": [],
   "source": [
    "vystup_tab_df = concat([data_tab_1_df, data_tab_2_df])  # axis=0"
   ]
  },
  {
   "cell_type": "code",
   "execution_count": null,
   "id": "18cf4d97-241b-4f2e-a8b9-abbb4c50bb2d",
   "metadata": {
    "tags": []
   },
   "outputs": [],
   "source": [
    "vystup_tab_df"
   ]
  },
  {
   "cell_type": "markdown",
   "id": "8902715e-1df5-42e4-b0a7-9c87eb05ea21",
   "metadata": {},
   "source": [
    "Pokud některá data chybějí, jsou automaticky vyplněná **neznámými hodnotami**.\n",
    "\n",
    "<br>\n",
    "\n",
    "Řešením takové situace můžeš být zavedení jiného **způsobu spojování**.\n",
    "\n",
    "Tedy nepoužívat defaultní argument `join='outer'`, ale `join='inner'`:"
   ]
  },
  {
   "cell_type": "code",
   "execution_count": null,
   "id": "ace35369-2102-44ee-8b89-81ca27dc93dd",
   "metadata": {
    "tags": []
   },
   "outputs": [],
   "source": [
    "vystup_bez_nan_df = concat([data_tab_1_df, data_tab_2_df],\n",
    "                           join='inner',\n",
    "                           axis=0)"
   ]
  },
  {
   "cell_type": "code",
   "execution_count": null,
   "id": "d82287a1-46ba-45a7-ba88-da85975d41c4",
   "metadata": {
    "tags": []
   },
   "outputs": [],
   "source": [
    "vystup_bez_nan_df"
   ]
  },
  {
   "cell_type": "markdown",
   "id": "4c8f55a8-5208-4b2a-91ac-1355f0668705",
   "metadata": {},
   "source": [
    "Použití `outer` odpovídá implicitnímu chování funkce `concat`:"
   ]
  },
  {
   "cell_type": "code",
   "execution_count": null,
   "id": "e1f003fa-2035-46c4-9ac9-264dd80d88b0",
   "metadata": {
    "tags": []
   },
   "outputs": [],
   "source": [
    "vystup_vc_nan_df = concat([data_tab_1_df, data_tab_2_df],\n",
    "                           join='outer',\n",
    "                           axis=0)"
   ]
  },
  {
   "cell_type": "code",
   "execution_count": null,
   "id": "b40d44ce-604b-4c17-a8b0-1bde82a52849",
   "metadata": {
    "tags": []
   },
   "outputs": [],
   "source": [
    "vystup_vc_nan_df"
   ]
  },
  {
   "cell_type": "markdown",
   "id": "c778dfae-fded-4441-a81e-668cb8b9b4fc",
   "metadata": {},
   "source": [
    "#### 📝 Souhrn k funkci `concat`\n",
    "\n",
    "---"
   ]
  },
  {
   "cell_type": "markdown",
   "id": "83dda976-a58e-40fe-9d3e-6cc3fd7f798d",
   "metadata": {},
   "source": [
    "| Situace                                             | Použiješ                   | join?               |\n",
    "| --------------------------------------------------- | -------------------------- | ------------------- |\n",
    "| Spojuješ tabulky se stejnými sloupci pod sebe       | `pd.concat([...])`         | **nepotřebuješ**    |\n",
    "| Spojuješ tabulky vedle sebe podle indexu            | `pd.concat([...], axis=1)` | volitelně           |\n",
    "| Máš různé indexy a chceš spojit jen průnik          | `pd.concat([...], axis=1)` | `join='inner'`      |\n",
    "| Chceš **zachovat vše**, i když něco chybí           | `pd.concat([...], axis=1)` | `join='outer'`      |\n",
    "| Chceš sloučit podle **konkrétního sloupce** | ❌ `concat` nestačí         | 👉 použij `merge()` |\n"
   ]
  },
  {
   "cell_type": "markdown",
   "id": "6d3f6a21-8368-46bb-b1ca-5c838fbf9f5f",
   "metadata": {},
   "source": [
    "<img src=\"https://imgs.search.brave.com/IZ8jkD1GaDV2tXwgwzM1Xawk-jBMejygby1KcermQp8/rs:fit:500:0:0:0/g:ce/aHR0cHM6Ly90NC5m/dGNkbi5uZXQvanBn/LzA4LzQ2LzQ3LzE1/LzM2MF9GXzg0NjQ3/MTU2MF95Y281RnhM/UG5RR1c4NW1OWHBD/UmcxUWptSzRiMnp3/eS5qcGc\" width=\"200\" style=\"margin-left:auto; margin-right:auto\"/>\n",
    "\n"
   ]
  },
  {
   "cell_type": "markdown",
   "id": "4acecf05-8147-4eaa-a1da-e92f23773de7",
   "metadata": {},
   "source": [
    "### Spojování pomocí `MERGE`\n",
    "\n",
    "---\n",
    "\n",
    "Další funkcí pro spojování `DataFrame` objektů je `merge`.\n",
    "\n",
    "Tato funkce je vhodná pro spojování DataFrame objektů, které **mají společné sloupce**.\n",
    "\n",
    "Můžeš lépe zadávat typ spojení (parametr `how='inner' | 'outer' | 'left' | 'join'`).\n",
    "\n",
    "Dále ti umožní **definovat sloupec, nebo sloupce**, na kterých chceš spojení provést (parametr `on`)."
   ]
  },
  {
   "cell_type": "code",
   "execution_count": null,
   "id": "20598d3f-7b23-4f4d-9a01-619ec8ec3521",
   "metadata": {
    "tags": []
   },
   "outputs": [],
   "source": [
    "from pandas import merge"
   ]
  },
  {
   "cell_type": "code",
   "execution_count": null,
   "id": "465cdc22-c9a5-43e0-a110-fed701304e6a",
   "metadata": {
    "tags": []
   },
   "outputs": [],
   "source": [
    "uzivatele_tab_1 = {'jmeno': ['Alice', 'Bob', 'Charlie', 'David'],\n",
    "                   'vek': [25, 30, 35, 40],\n",
    "                   'mesto': ['Brno', 'Praha', 'Plzen', 'Ostrava']}"
   ]
  },
  {
   "cell_type": "code",
   "execution_count": null,
   "id": "c4b86dc3-cf15-4a93-912d-6d15d9c7a00d",
   "metadata": {
    "tags": []
   },
   "outputs": [],
   "source": [
    "uzivatele_tab_2 = {'jmeno': ['Alice', 'David', 'Emma', 'Frank'],\n",
    "                   'pocet_prijemcu': [100, 200, 150, 250]}"
   ]
  },
  {
   "cell_type": "code",
   "execution_count": null,
   "id": "f4749c22-a3c0-4795-8055-b73f9db4add0",
   "metadata": {
    "tags": []
   },
   "outputs": [],
   "source": [
    "uzivatele_tab_1_df = DataFrame(uzivatele_tab_1)\n",
    "uzivatele_tab_2_df = DataFrame(uzivatele_tab_2)"
   ]
  },
  {
   "cell_type": "code",
   "execution_count": null,
   "id": "8bbf35f8-5181-47b7-8eba-100b062b8840",
   "metadata": {
    "tags": []
   },
   "outputs": [],
   "source": [
    "uzivatele_tab_1_df"
   ]
  },
  {
   "cell_type": "code",
   "execution_count": null,
   "id": "f34d0a67-2437-42e7-a97c-59fcdce0591a",
   "metadata": {
    "tags": []
   },
   "outputs": [],
   "source": [
    "uzivatele_tab_2_df"
   ]
  },
  {
   "cell_type": "markdown",
   "id": "159ec4db-5ec4-4d1b-9385-b8cdf28e8b05",
   "metadata": {},
   "source": [
    "#### Spojení FULL JOIN\n",
    "\n",
    "---"
   ]
  },
  {
   "cell_type": "markdown",
   "id": "12c6ef85-28e0-4f44-8cdc-ac2025a85ce0",
   "metadata": {},
   "source": [
    "Jinými slovy spoj všechny záznamy, **pro konkrétní sloupeček**:"
   ]
  },
  {
   "cell_type": "code",
   "execution_count": null,
   "id": "44a80eb1-ec0d-4101-83aa-10c179cd9394",
   "metadata": {
    "tags": []
   },
   "outputs": [],
   "source": [
    "mergnute_df = merge(uzivatele_tab_1_df,\n",
    "                    uzivatele_tab_2_df,\n",
    "                    on='jmeno',\n",
    "                    how='outer')"
   ]
  },
  {
   "cell_type": "code",
   "execution_count": null,
   "id": "31331729-af6f-4463-8ad7-6c3af136f0ef",
   "metadata": {},
   "outputs": [],
   "source": [
    "mergnute_df"
   ]
  },
  {
   "cell_type": "markdown",
   "id": "19493846-0a1e-41ee-b631-7e2297d314db",
   "metadata": {},
   "source": [
    "#### Spojené INNER MERGE\n",
    "\n",
    "---"
   ]
  },
  {
   "cell_type": "code",
   "execution_count": null,
   "id": "4221d813-450f-48a3-9a24-d06d8dd70b43",
   "metadata": {
    "tags": []
   },
   "outputs": [],
   "source": [
    "mergnute_inner_df = merge(uzivatele_tab_1_df,\n",
    "                          uzivatele_tab_2_df,\n",
    "                          on='jmeno',\n",
    "                          how='inner')"
   ]
  },
  {
   "cell_type": "code",
   "execution_count": null,
   "id": "6bcc9d19-bb1f-49ec-be5a-42fc22ef0bc7",
   "metadata": {
    "tags": []
   },
   "outputs": [],
   "source": [
    "mergnute_inner_df"
   ]
  },
  {
   "cell_type": "markdown",
   "id": "7e9ba23f-4e70-4faf-bc24-ba00b6b21e75",
   "metadata": {},
   "source": [
    "<br>\n",
    "\n",
    "Zde byla ale jména sloupců na první pohled odlišná.\n",
    "\n",
    "Ne ve všech situacích to platí:"
   ]
  },
  {
   "cell_type": "code",
   "execution_count": null,
   "id": "d1594a97-73c4-479b-a6bb-181e315a2164",
   "metadata": {
    "tags": []
   },
   "outputs": [],
   "source": [
    "df8 = DataFrame({'jmeno': ['Bob', 'Jake', 'Lisa', 'Sue'],\n",
    "                 'poradi': [1, 2, 3, 4]})"
   ]
  },
  {
   "cell_type": "code",
   "execution_count": null,
   "id": "7b4f169a-d8ae-444d-a719-0e1da4cc8caa",
   "metadata": {
    "tags": []
   },
   "outputs": [],
   "source": [
    "df9 = DataFrame({'jmeno': ['Bob', 'Jake', 'Lisa', 'Sue'],\n",
    "                 'poradi': [3, 1, 4, 2]})"
   ]
  },
  {
   "cell_type": "markdown",
   "id": "e4ceb54e-a4f2-4b75-a2e4-a17dc0bca7ab",
   "metadata": {},
   "source": [
    "Funkce sama **doplní přípony**, aby rozlišila **mezi oběma původními sloupci**.\n",
    "\n",
    "**Pokud potřebuješ vlastní přípony**, můžeš vyzkoušet volitelný argument pro `suffixes`:"
   ]
  },
  {
   "cell_type": "code",
   "execution_count": null,
   "id": "1181204e-c75b-447e-afc8-f27299cb2eef",
   "metadata": {
    "tags": []
   },
   "outputs": [],
   "source": [
    "df8"
   ]
  },
  {
   "cell_type": "code",
   "execution_count": null,
   "id": "c6bc971c-4b97-4224-9190-b955acadaf38",
   "metadata": {
    "tags": []
   },
   "outputs": [],
   "source": [
    "df9"
   ]
  },
  {
   "cell_type": "code",
   "execution_count": null,
   "id": "882c2d82-b78e-48fc-a9a3-bf5d689900c4",
   "metadata": {
    "tags": []
   },
   "outputs": [],
   "source": [
    "vystup_konflikt = merge(df8, df9, on=\"jmeno\")"
   ]
  },
  {
   "cell_type": "code",
   "execution_count": null,
   "id": "bf996d62-84b3-4fb7-b345-fa5fb9844828",
   "metadata": {
    "tags": []
   },
   "outputs": [],
   "source": [
    "vystup_konflikt"
   ]
  },
  {
   "cell_type": "code",
   "execution_count": null,
   "id": "3eed1bd2-fcf6-4162-92c4-187f29aadc29",
   "metadata": {
    "tags": []
   },
   "outputs": [],
   "source": [
    "vystup_vlastni_pripony = merge(df8, df9, on='jmeno', suffixes=('_DF8', '_DF9'))"
   ]
  },
  {
   "cell_type": "code",
   "execution_count": null,
   "id": "6dce8c00-2300-4d16-aa83-87c0ed8dc8fe",
   "metadata": {
    "scrolled": true,
    "tags": []
   },
   "outputs": [],
   "source": [
    "vystup_vlastni_pripony"
   ]
  },
  {
   "cell_type": "markdown",
   "id": "893ccd60-21fa-4780-a9fa-0bbe4e71a712",
   "metadata": {},
   "source": [
    "Obecně platí, že pokud potřebuješ *spojit* dva nebo více `DataFrame` objektů podle **společného sloupce nebo sloupců**, použij funkci `merge()`.\n",
    "\n",
    "Pokud chceš jenom **přidat další řádky nebo sloupce** do existujícího `DataFrame` objektu, použij funkci `concat`.\n",
    "\n",
    "#### Ukázka MERGE funkce s dopomocí `LEFT`"
   ]
  },
  {
   "cell_type": "code",
   "execution_count": null,
   "id": "f7cbe2a1-d7eb-44cd-ab2a-e0b0cf455a9e",
   "metadata": {
    "tags": []
   },
   "outputs": [],
   "source": [
    "uzivatele_tab_1_df"
   ]
  },
  {
   "cell_type": "code",
   "execution_count": null,
   "id": "d8ad5325-8860-4011-8171-fa0633d241da",
   "metadata": {
    "tags": []
   },
   "outputs": [],
   "source": [
    "uzivatele_tab_2_df"
   ]
  },
  {
   "cell_type": "code",
   "execution_count": null,
   "id": "5ce9d9ea-97e9-4c04-a56f-05fc5f780a33",
   "metadata": {
    "tags": []
   },
   "outputs": [],
   "source": [
    "vystup_left_join_df = merge(uzivatele_tab_1_df,\n",
    "                            uzivatele_tab_2_df,\n",
    "                            on='jmeno',\n",
    "                            how='left')"
   ]
  },
  {
   "cell_type": "code",
   "execution_count": null,
   "id": "0c6dee23-79fb-4a93-b6bd-b6e137cebc69",
   "metadata": {
    "tags": []
   },
   "outputs": [],
   "source": [
    "vystup_left_join_df"
   ]
  },
  {
   "cell_type": "markdown",
   "id": "ff38f1ea-c615-41fc-8a7a-ee278e35a54a",
   "metadata": {},
   "source": [
    "V ukázce výš je použitý *left join*.\n",
    "\n",
    "Tedy ve výsledku uvidíš **celou první** (levou tabulku) a z druhé pouze ty záznamy, které mají ve spojovacím sloupci `jmeno` společnou hodnotu."
   ]
  },
  {
   "cell_type": "code",
   "execution_count": null,
   "id": "8c4959f7-5811-4f05-9885-5614ecb3e49a",
   "metadata": {
    "tags": []
   },
   "outputs": [],
   "source": [
    "vystup_left_join_obr_df = merge(uzivatele_tab_2_df,\n",
    "                            uzivatele_tab_1_df,\n",
    "                            on='jmeno',\n",
    "                            how='left')"
   ]
  },
  {
   "cell_type": "code",
   "execution_count": null,
   "id": "8a8221f7-d4c5-48e3-96b0-4322b883da48",
   "metadata": {},
   "outputs": [],
   "source": [
    "uzivatele_tab_2_df"
   ]
  },
  {
   "cell_type": "code",
   "execution_count": null,
   "id": "0750d875-4f24-4222-bda3-b99ae530fee2",
   "metadata": {},
   "outputs": [],
   "source": [
    "vystup_left_join_obr_df"
   ]
  },
  {
   "cell_type": "markdown",
   "id": "141fc421-f0e4-4c50-aabb-ed87a5e4403e",
   "metadata": {},
   "source": [
    "<img src=\"https://imgs.search.brave.com/-VgG6K4KBK8o5Oy7foYt_v7sPQTBbdERXhQ_ZqsqYLE/rs:fit:500:0:0:0/g:ce/aHR0cHM6Ly9hLnBp/bmF0YWZhcm0uY29t/LzUwMHgzODQvOWZj/MDU0ZTM5Zi9qb2lu/LXVzLmpwZw\" width=\"300\" style=\"margin-left:auto; margin-right:auto\"/>"
   ]
  },
  {
   "cell_type": "markdown",
   "id": "20223162-3be6-408d-b8eb-9861e40aa81f",
   "metadata": {},
   "source": [
    "### Spojení pomocí indexů, `JOIN`\n",
    "\n",
    "---\n",
    "\n",
    "Tato metoda slouží k propojení dvou `DataFrame` objektů na základě **jejich indexů nebo hodnot**.\n",
    "\n",
    "Je velice podobná funkci `merge` ale je přímo součástí `DataFrame` objektu a je snazší ji aplikovat:"
   ]
  },
  {
   "cell_type": "code",
   "execution_count": null,
   "id": "633aef14-bf73-4ae8-9a31-b75d0d7d176f",
   "metadata": {
    "tags": []
   },
   "outputs": [],
   "source": [
    "uzivatele_1 = {'jmeno': ['Alice', 'Bob', 'Petr'],\n",
    "               'vek': [25, 30, 35]}"
   ]
  },
  {
   "cell_type": "code",
   "execution_count": null,
   "id": "e7efc3b1-fbfd-47be-bb96-89e76d90e8d8",
   "metadata": {
    "tags": []
   },
   "outputs": [],
   "source": [
    "uzivatele_2 = {'jmeno': ['Alice', 'Bob', 'Petr'],\n",
    "               'pocet_prijemcu': [100, 150, 200]}"
   ]
  },
  {
   "cell_type": "code",
   "execution_count": null,
   "id": "d6ea0391-ff76-45e8-beb1-766f11183199",
   "metadata": {
    "tags": []
   },
   "outputs": [],
   "source": [
    "df_uzivatele_1 = DataFrame(uzivatele_1)\n",
    "df_uzivatele_2 = DataFrame(uzivatele_2)"
   ]
  },
  {
   "cell_type": "code",
   "execution_count": null,
   "id": "b4b7695b-0ce5-463c-b323-799912c8f1db",
   "metadata": {
    "tags": []
   },
   "outputs": [],
   "source": [
    "df_uzivatele_1"
   ]
  },
  {
   "cell_type": "code",
   "execution_count": null,
   "id": "5a006f4d-92ab-4157-a462-4a6695eee030",
   "metadata": {
    "tags": []
   },
   "outputs": [],
   "source": [
    "df_uzivatele_2"
   ]
  },
  {
   "cell_type": "code",
   "execution_count": null,
   "id": "6fd74545-5277-46bf-ae46-2821e0495028",
   "metadata": {
    "tags": []
   },
   "outputs": [],
   "source": [
    "df_uzivatele_2.index.names == df_uzivatele_1.index.names == [None]"
   ]
  },
  {
   "cell_type": "code",
   "execution_count": null,
   "id": "e3b800bb-198c-41bc-9a02-78ef8d7b103f",
   "metadata": {
    "tags": []
   },
   "outputs": [],
   "source": [
    "uzivatele_1_df = df_uzivatele_1.set_index('jmeno')"
   ]
  },
  {
   "cell_type": "code",
   "execution_count": null,
   "id": "31bf4986-4153-440b-98b8-ceed912615db",
   "metadata": {
    "tags": []
   },
   "outputs": [],
   "source": [
    "uzivatele_2_df = df_uzivatele_2.set_index('jmeno')"
   ]
  },
  {
   "cell_type": "code",
   "execution_count": null,
   "id": "f16e1b54-e7b8-48d8-9c3f-069723a17558",
   "metadata": {
    "tags": []
   },
   "outputs": [],
   "source": [
    "uzivatele_1_df"
   ]
  },
  {
   "cell_type": "code",
   "execution_count": null,
   "id": "c11242fc-6458-4d11-9da7-d6eed77dec65",
   "metadata": {
    "tags": []
   },
   "outputs": [],
   "source": [
    "uzivatele_2_df"
   ]
  },
  {
   "cell_type": "code",
   "execution_count": null,
   "id": "cbbe0114-fba2-461d-9ced-7dd25e6afbc2",
   "metadata": {
    "tags": []
   },
   "outputs": [],
   "source": [
    "vysledek_join_metody = uzivatele_1_df.join(uzivatele_2_df)"
   ]
  },
  {
   "cell_type": "code",
   "execution_count": null,
   "id": "7b6f326f-7bfe-4f75-bcf2-a0ceca44f349",
   "metadata": {
    "tags": []
   },
   "outputs": [],
   "source": [
    "vysledek_join_metody"
   ]
  },
  {
   "cell_type": "markdown",
   "id": "12bb08a7-65b7-46eb-8350-1f5edc493ed4",
   "metadata": {},
   "source": [
    "Hlavní rozdíl mezi těmito funkcemi je způsob určení **sloupce nebo sloupců**, podle kterých se má propojení provést.\n",
    "\n",
    "1. Metoda `join()` propojuje DataFrame objekty **na základě jejich Indexů**.\n",
    "2. Funkce `merge()` umožňuje propojit `DataFrame` objekty **na základě hodnoty v jednom nebo více sloupcích**."
   ]
  },
  {
   "cell_type": "markdown",
   "id": "83338d3c-7b7f-40f6-bbe6-0fb18efb17ed",
   "metadata": {},
   "source": [
    "## 📑Souhrn ke spojování\n",
    "\n",
    "---"
   ]
  },
  {
   "cell_type": "markdown",
   "id": "f2a1e3b0-e506-42cb-9f83-5640499832f6",
   "metadata": {},
   "source": [
    "| Objekt | Kdy jej použít? | Směr spojení |\n",
    "| :- | :- | :- |\n",
    "| `concat` | Když chceš poskládat tabulky na sebe (řádky) nebo vedle sebe (sloupce). | Vertikálně / Horizontálně | \n",
    "| `merge` |\tKdyž chcete spojit tabulky podle společného klíče/sloupce, podobně jako SQL JOIN. | Horizontálně |\n",
    "| `join` | Když chcete spojit tabulky podle společného Indexu (ne klíče/sloupce). | Horizontálně |\n",
    "| `append` | (Zastaralé) Používalo se k přidání řádků, nyní používejte concat. | Vertikálně |"
   ]
  },
  {
   "cell_type": "markdown",
   "id": "f2951487-42b9-44ed-9de4-4ae3451824cf",
   "metadata": {},
   "source": [
    "<br>\n",
    "\n",
    "**🧠 CVIČENÍ 🧠, procvič si spojování**"
   ]
  },
  {
   "cell_type": "markdown",
   "id": "6f5eebe9-25b9-46d3-8ca3-c40a8bd36ece",
   "metadata": {},
   "source": [
    "Tvým úkolem je propojit tyto tabulky podle zadání:\n",
    "1. Použij spojovací funkci pro spojení objektů typu `DataFrame` , které vytvoříš z proměnných `data_zamestnanci_1` a `data_zamestnanci_2`,\n",
    "2. použij spojovací funkci, které zadáš vzniklý objekt typu `DataFrame`  z bodu 1. a druhý `DataFrame`, který vytvoříš z proměnné `data_oddeleni` (spoj přes sloupeček `\"oddělení_id\"`),\n",
    "3. vytvoř výsledný objekt typu `DataFrame` , který obsahuje pouze zaměstnance z oddělení `IT`."
   ]
  },
  {
   "cell_type": "code",
   "execution_count": null,
   "id": "0bcc307e-01fc-4866-8c1a-7c38a6d6181d",
   "metadata": {
    "tags": []
   },
   "outputs": [],
   "source": [
    "data_zamestnanci_1 = {\n",
    "    'id': [1, 2, 3],\n",
    "    'jméno': ['Jan', 'Marie', 'Petr'],\n",
    "    'příjmení': ['Novák', 'Svobodová', 'Dvořák'],\n",
    "    'oddělení_id': [100, 200, 100]\n",
    "}\n",
    "\n",
    "data_zamestnanci_2 = {\n",
    "    'id': [4, 5],\n",
    "    'jméno': ['Anna', 'Josef'],\n",
    "    'příjmení': ['Kopecká', 'Vondráček'],\n",
    "    'oddělení_id': [200, 100]\n",
    "}\n",
    "\n",
    "data_oddeleni = {\n",
    "    'oddělení_id': [100, 200],\n",
    "    'název_oddělení': ['IT', 'HR']\n",
    "}"
   ]
  },
  {
   "cell_type": "code",
   "execution_count": null,
   "id": "42885f30-b329-4b28-ae1c-1a0738b86dc9",
   "metadata": {},
   "outputs": [],
   "source": []
  },
  {
   "cell_type": "code",
   "execution_count": null,
   "id": "68e532c1-6822-4853-a2a9-5c342e6d3095",
   "metadata": {},
   "outputs": [],
   "source": []
  },
  {
   "cell_type": "markdown",
   "id": "7b8b3ec4-f154-432e-8eca-ebaed96445b1",
   "metadata": {},
   "source": [
    "<details>\n",
    "    <summary>▶️ Řešení</summary>\n",
    "    \n",
    "```python\n",
    "df_zamestnanci_1 = pd.DataFrame(data_zamestnanci_1)\n",
    "df_zamestnanci_2 = pd.DataFrame(data_zamestnanci_2)\n",
    "df_oddeleni = pd.DataFrame(data_oddeleni)\n",
    "\n",
    "df_vsichni_zamestnanci = pd.concat([df_zamestnanci_1, df_zamestnanci_2], ignore_index=True)\n",
    "\n",
    "# df1 = pd.concat(\n",
    "#     [pd.DataFrame(data) for data in [data_zamestnanci_1, data_zamestnanci_2]]\n",
    "# ).reset_index(drop = True).set_index('id')\n",
    "\n",
    "df_vsechna_oddeleni = pd.merge(df_vsichni_zamestnanci, df_oddeleni, on=\"oddělení_id\")\n",
    "\n",
    "df_jen_it = df_vsechna_oddeleni[df_vsechna_oddeleni[\"název_oddělení\"] == \"IT\"]\n",
    "```\n",
    "</details>"
   ]
  },
  {
   "cell_type": "markdown",
   "id": "d6738783-f30e-4eea-95df-299a162ae692",
   "metadata": {},
   "source": [
    "## Agregace\n",
    "\n",
    "---\n",
    "\n",
    "\n",
    "<img src=\"https://external-content.duckduckgo.com/iu/?u=https%3A%2F%2Ftse1.mm.bing.net%2Fth%3Fid%3DOIP.HtBtNx6dodlNptXV1QGHWQHaG0%26pid%3DApi&f=1&ipt=3a4d1dfa14a495127b4ece5cf689f00ed0c9e0836853358412e18161ae7c505f&ipo=images\" width=\"160\" style=\"margin-left:auto; margin-right:auto\"/>\n",
    "\n",
    "\n",
    "*Seskupování* neboli **agregace** jsou procesy, které patří k základní efektivní analýze dat."
   ]
  },
  {
   "cell_type": "markdown",
   "id": "701763f2-2a1a-4024-8b28-85a02dc1e398",
   "metadata": {},
   "source": [
    "### Jednoduchá agregace\n",
    "\n",
    "---\n",
    "\n",
    "Přesto, že veškeré základní **statistické údaje** prakticky nabízí metoda `describe()`, můžeš ocenit, když stejnou statistiku můžeš aplikovat **na tebou vybrané objekty**.\n",
    "\n",
    "Mezi nejjednodušší postupy, jak data analyzovat patří metody jako:\n",
    "* `sum()`,\n",
    "* `mean()`,\n",
    "* `median()`,\n",
    "* `min()`,\n",
    "* `max()`.\n",
    "\n",
    "Všechny tyto metody umožní získat jedno samotné číslo, které ti umožní prohlédnout podstatu zadaného datasetu."
   ]
  },
  {
   "cell_type": "code",
   "execution_count": null,
   "id": "4b40b5dc-d2ce-4f28-bd42-e2dc2b06293c",
   "metadata": {
    "tags": []
   },
   "outputs": [],
   "source": [
    "from pandas import read_csv"
   ]
  },
  {
   "cell_type": "code",
   "execution_count": null,
   "id": "fa9d956e-da46-4236-ac9f-df1a783052a8",
   "metadata": {
    "tags": []
   },
   "outputs": [],
   "source": [
    "nemovitosti_df = read_csv(\"../onsite/housing.csv\")"
   ]
  },
  {
   "cell_type": "code",
   "execution_count": null,
   "id": "a35214d3-35d3-479f-acd6-27b35f8cb01e",
   "metadata": {
    "tags": []
   },
   "outputs": [],
   "source": [
    "nemovitosti_df.head()"
   ]
  },
  {
   "cell_type": "code",
   "execution_count": null,
   "id": "d2662e53-706e-4f9d-a26c-d2dd2276630b",
   "metadata": {},
   "outputs": [],
   "source": [
    "nemovitosti_df.describe()"
   ]
  },
  {
   "cell_type": "code",
   "execution_count": null,
   "id": "12a221bb-b541-4788-8d1b-be803b38c385",
   "metadata": {},
   "outputs": [],
   "source": [
    "nemovitosti_df.loc[:, \"price\"].max()"
   ]
  },
  {
   "cell_type": "markdown",
   "id": "42fd4680-85a2-4a1d-80f1-c19b4f55c7e3",
   "metadata": {},
   "source": [
    "<br>\n",
    "\n",
    "Často ale není dostačující, prozkoumat data pouze jednoduchých agregačních funkcí.\n",
    "\n",
    "Další operace, které je potřeba pochopit jsou seskupování dat podle zadaných parametrů."
   ]
  },
  {
   "cell_type": "markdown",
   "id": "1d8fd26d-f140-4150-b223-54914b54c770",
   "metadata": {},
   "source": [
    "### Seskupování GROUPBY\n",
    "\n",
    "---\n",
    "\n",
    "Metoda `groupby`, původně operace z SQL jazyka, je v rámci knihovny `pandas` všestraný pomocník pro seskupování dat na základě různých kritérií."
   ]
  },
  {
   "cell_type": "code",
   "execution_count": null,
   "id": "20acd864-49b5-48c0-863f-3897bace8b23",
   "metadata": {
    "tags": []
   },
   "outputs": [],
   "source": [
    "from pandas import DataFrame"
   ]
  },
  {
   "cell_type": "code",
   "execution_count": null,
   "id": "14b73c76-eeb8-4c16-bd86-6f1271439b02",
   "metadata": {
    "tags": []
   },
   "outputs": [],
   "source": [
    "pokus_s_cisly_df = DataFrame(\n",
    "    {'klíč': ['A', 'B', 'C', 'A', 'B', 'C'],\n",
    "     'číselná hodnota': range(6)},\n",
    ")"
   ]
  },
  {
   "cell_type": "code",
   "execution_count": null,
   "id": "2c864665-3353-4ec2-adf8-a415682d24b4",
   "metadata": {
    "tags": []
   },
   "outputs": [],
   "source": [
    "pokus_s_cisly_df"
   ]
  },
  {
   "cell_type": "markdown",
   "id": "286bd28a-d4a5-4193-aebc-edb128179099",
   "metadata": {},
   "source": [
    "#### Klasické seskupení podle sloupečku\n",
    "\n",
    "---"
   ]
  },
  {
   "cell_type": "code",
   "execution_count": null,
   "id": "42919025-6141-4ed6-bca7-a83cb8cb8030",
   "metadata": {},
   "outputs": [],
   "source": [
    "# pokus_s_cisly_df.groupby?"
   ]
  },
  {
   "cell_type": "code",
   "execution_count": null,
   "id": "0be6f31e-16da-4233-a6a8-90b503214266",
   "metadata": {
    "tags": []
   },
   "outputs": [],
   "source": [
    "pokus_s_cisly_df.groupby(\"klíč\")"
   ]
  },
  {
   "cell_type": "markdown",
   "id": "46f4594b-2a0d-499e-91f6-f54e576c8a01",
   "metadata": {},
   "source": [
    "Jde opět o tzv. *lazy evaluation* proces, samotný nic neprovede, pouze čeká na pokyn uživatele, který samotnou agregaci spustí."
   ]
  },
  {
   "cell_type": "code",
   "execution_count": null,
   "id": "3b2b6aaf-08b7-4a5c-a4dc-4335e65fe483",
   "metadata": {
    "tags": []
   },
   "outputs": [],
   "source": [
    "type(pokus_s_cisly_df.groupby(\"klíč\"))"
   ]
  },
  {
   "cell_type": "markdown",
   "id": "930dbe94-6ab1-4b60-8b4a-f92c2f305dce",
   "metadata": {},
   "source": [
    "Metoda standardně vrací `DataFrameGroupBy`.\n",
    "\n",
    "<br>"
   ]
  },
  {
   "cell_type": "code",
   "execution_count": null,
   "id": "920354fd-ce01-4200-af58-284a4aa94c15",
   "metadata": {
    "tags": []
   },
   "outputs": [],
   "source": [
    "pokus_s_cisly_df.groupby(\"klíč\").sum()"
   ]
  },
  {
   "cell_type": "markdown",
   "id": "f5c4b16b-faac-414c-b359-34fb07f870ca",
   "metadata": {},
   "source": [
    "Metoda `sum()` je pouze jednou z možností, se kterou můžeš pracovat.\n",
    "\n",
    "<br>\n",
    "\n",
    "#### Sloupečkové označování\n",
    "\n",
    "---\n",
    "\n",
    "Stejně jako `DataFrame` můžeš označovat také *GroupBy* objekty."
   ]
  },
  {
   "cell_type": "code",
   "execution_count": null,
   "id": "93f91a23-d51f-4f1a-a98f-2fcc5724daf6",
   "metadata": {
    "tags": []
   },
   "outputs": [],
   "source": [
    "pokus_s_cisly_df"
   ]
  },
  {
   "cell_type": "code",
   "execution_count": null,
   "id": "2e0aa652-c0f9-432f-bd02-39a0931c59ef",
   "metadata": {
    "tags": []
   },
   "outputs": [],
   "source": [
    "pokus_s_cisly_df.groupby(\"klíč\")"
   ]
  },
  {
   "cell_type": "code",
   "execution_count": null,
   "id": "f17db876-a656-4451-859d-df6c2122d610",
   "metadata": {},
   "outputs": [],
   "source": [
    "pokus_s_cisly_df.groupby(\"klíč\")[\"číselná hodnota\"]"
   ]
  },
  {
   "cell_type": "code",
   "execution_count": null,
   "id": "2c68689c-8310-42e4-9737-715d7a730f9a",
   "metadata": {
    "tags": []
   },
   "outputs": [],
   "source": [
    "pokus_s_cisly_df.groupby(\"klíč\")[\"číselná hodnota\"].sum()"
   ]
  },
  {
   "cell_type": "markdown",
   "id": "9a07f3d6-88f7-4324-ac00-098c76071956",
   "metadata": {},
   "source": [
    "<br>\n",
    "\n",
    "V uplynulé ukázce je zadaná seskupování podle sloupečku `klíč`.\n",
    "\n",
    "Dále je vybraný pouze konkrétní sloupeček, na který chceš spustit metodu `sum`.\n",
    "\n",
    "<br>\n",
    "\n",
    "Pokud potřebuješ nad vybraným objektem provádět některé procesy ručně, můžeš přes *GroupBy* objekt **iterovat**:"
   ]
  },
  {
   "cell_type": "code",
   "execution_count": null,
   "id": "6585af72-b9dd-411e-b727-68e8d5f533f6",
   "metadata": {
    "tags": []
   },
   "outputs": [],
   "source": [
    "for (klic, hodnota) in pokus_s_cisly_df.groupby(\"klíč\"):\n",
    "    print(f\"Klic: {klic}; Hodnota={hodnota}\")"
   ]
  },
  {
   "cell_type": "markdown",
   "id": "66f6931c-6845-4342-8255-86c0cb3c324d",
   "metadata": {},
   "source": [
    "<br>\n",
    "\n",
    "### Agregace s metodami\n",
    "\n",
    "---"
   ]
  },
  {
   "cell_type": "markdown",
   "id": "8fe18bc5-d701-4e3f-b4ac-bf4d032fbce0",
   "metadata": {},
   "source": [
    "Kromě jednoduchých agregací, nabízí *GroupBy* řadu další funkcionality.\n",
    "\n",
    "Jde o metody:\n",
    "* `aggregate`,\n",
    "* `filter`,\n",
    "* `transform`,\n",
    "* `apply`."
   ]
  },
  {
   "cell_type": "markdown",
   "id": "59d62a2f-ceac-408f-a82c-ec9711fa1fca",
   "metadata": {},
   "source": [
    "#### Metoda AGGREGATE\n",
    "\n",
    "---"
   ]
  },
  {
   "cell_type": "code",
   "execution_count": null,
   "id": "0881affd-e818-4154-a6c8-26cbbb97f063",
   "metadata": {
    "tags": []
   },
   "outputs": [],
   "source": [
    "import numpy"
   ]
  },
  {
   "cell_type": "code",
   "execution_count": null,
   "id": "cd575442-b1c4-4262-b9a9-7162f2728b59",
   "metadata": {
    "tags": []
   },
   "outputs": [],
   "source": [
    "rng = numpy.random.RandomState(0)"
   ]
  },
  {
   "cell_type": "code",
   "execution_count": null,
   "id": "84158798-45f8-4078-9dfa-f79c3d97e444",
   "metadata": {},
   "outputs": [],
   "source": [
    "from pandas import DataFrame"
   ]
  },
  {
   "cell_type": "code",
   "execution_count": null,
   "id": "d431922d-f8ec-4719-87d1-833528345200",
   "metadata": {
    "tags": []
   },
   "outputs": [],
   "source": [
    "pokus_s_cisly_df = DataFrame(\n",
    "    {'klíč': ['A', 'B', 'C', 'A', 'B', 'C', 'C'],\n",
    "     'data_1': range(7),\n",
    "     'data_2': rng.randint(0, 10, 7)}\n",
    ")"
   ]
  },
  {
   "cell_type": "code",
   "execution_count": null,
   "id": "07fbfe20-ed38-40c6-aeb0-bb11bcc46a6f",
   "metadata": {
    "tags": []
   },
   "outputs": [],
   "source": [
    "pokus_s_cisly_df"
   ]
  },
  {
   "cell_type": "markdown",
   "id": "c85ff441-9183-42de-a589-fa20549f767d",
   "metadata": {},
   "source": [
    "Statistické metody určitě nabízí spousty pomůcek.\n",
    "\n",
    "Objekt typu *GroupBy* umí pracovat také s funkcemi, stringy a celými listy."
   ]
  },
  {
   "cell_type": "code",
   "execution_count": null,
   "id": "16b3b939-911c-4df0-80f2-bd57daec2911",
   "metadata": {
    "tags": []
   },
   "outputs": [],
   "source": [
    "pokus_s_cisly_df.groupby(\"klíč\").aggregate(\"sum\")"
   ]
  },
  {
   "cell_type": "code",
   "execution_count": null,
   "id": "c86fa19a-c634-403a-8124-090c359a561d",
   "metadata": {
    "tags": []
   },
   "outputs": [],
   "source": [
    "pokus_s_cisly_df.groupby(\"klíč\").aggregate(numpy.median)"
   ]
  },
  {
   "cell_type": "code",
   "execution_count": null,
   "id": "40e2f7ed-ecd9-4087-a474-39f23e918431",
   "metadata": {
    "tags": []
   },
   "outputs": [],
   "source": [
    "pokus_s_cisly_df.groupby(\"klíč\").aggregate([\"min\", numpy.median, max])"
   ]
  },
  {
   "cell_type": "code",
   "execution_count": null,
   "id": "25990759-86cf-469d-8946-6c45e3322811",
   "metadata": {
    "tags": []
   },
   "outputs": [],
   "source": [
    "pokus_s_cisly_df"
   ]
  },
  {
   "cell_type": "markdown",
   "id": "ff73c92f-a98b-4f53-9b94-fd3d76a106dc",
   "metadata": {},
   "source": [
    "Můžeš říct, že metoda `aggregate` se používá k aplikaci **jedné nebo více agregačních funkcí na seskupená data**."
   ]
  },
  {
   "cell_type": "markdown",
   "id": "a9631de6-f44b-43ec-801d-5ceeef569d96",
   "metadata": {},
   "source": [
    "```\n",
    "pobocka,ovoce,prodane_mnozstvi,cena\n",
    "A,apple,10,20\n",
    "A,banana,15,12\n",
    "B,apple,8,22\n",
    "B,banana,30,10\n",
    "C,apple,20,18\n",
    "C,banana,25,15\n",
    "```"
   ]
  },
  {
   "cell_type": "markdown",
   "id": "219f0097-7dcf-4710-bcda-e39424f72fd5",
   "metadata": {},
   "source": [
    "| pobocka | ovoce | prodane_mnozstvi | cena |\n",
    "| :- | :- | :- | :- |\n",
    "| A | apple | 10 | 20 |"
   ]
  },
  {
   "cell_type": "code",
   "execution_count": null,
   "id": "bbda8c64-5e2e-474b-ab99-401e8e2168b9",
   "metadata": {
    "tags": []
   },
   "outputs": [],
   "source": [
    "ovoce_data = {\n",
    "    'pobocka': ['A', 'A', 'B', 'B', 'C', 'C'],\n",
    "    'ovoce': ['jablko', 'banan', 'jablko', 'banan', 'jablko', 'banan'],\n",
    "    'prodane_mnozstvi': [10, 15, 8, 30, 20, 25],\n",
    "    'cena': [20, 12, 22, 10, 18, 15]\n",
    "}"
   ]
  },
  {
   "cell_type": "code",
   "execution_count": null,
   "id": "935e3878-e99d-4cb2-a862-3537e5ed4a84",
   "metadata": {
    "tags": []
   },
   "outputs": [],
   "source": [
    "ovoce_df = DataFrame(ovoce_data)"
   ]
  },
  {
   "cell_type": "code",
   "execution_count": null,
   "id": "c79ece68-d7cd-4277-842f-881e20a41696",
   "metadata": {
    "tags": []
   },
   "outputs": [],
   "source": [
    "ovoce_df"
   ]
  },
  {
   "cell_type": "code",
   "execution_count": null,
   "id": "0a3efeb5-29cd-4447-bb81-2493ba3285de",
   "metadata": {
    "tags": []
   },
   "outputs": [],
   "source": [
    "ovoce_df.groupby('pobocka').aggregate({'prodane_mnozstvi': \"sum\"})  # .sum()"
   ]
  },
  {
   "cell_type": "code",
   "execution_count": null,
   "id": "f03edfa6-402a-4a74-948b-7603e2fa2844",
   "metadata": {
    "tags": []
   },
   "outputs": [],
   "source": [
    "ovoce_df.groupby('pobocka').aggregate({'prodane_mnozstvi': sum, 'cena': 'mean'})"
   ]
  },
  {
   "cell_type": "markdown",
   "id": "368dfe87-9029-42f5-8826-bc4c34a4b5f6",
   "metadata": {},
   "source": [
    "1. Nejprve jsou hodnoty seskupení podle sloupce `pobocka`,\n",
    "2. poté specifikuješ pomocí `aggregate` funkce a sloupce,\n",
    "3. .. tedy sumarizovat hodnoty v `prodane_mnozstvi` a získat průměr `cena` pro každou pobočku."
   ]
  },
  {
   "cell_type": "markdown",
   "id": "06f8627c-aade-4cb4-837e-ca4504282b63",
   "metadata": {},
   "source": [
    "### Metoda FILTER\n",
    "\n",
    "---"
   ]
  },
  {
   "cell_type": "markdown",
   "id": "112d62df-cddb-4a24-a2da-b7b3548ff892",
   "metadata": {},
   "source": [
    "Filtrování ti umožní zahodit takové údaje, které nesplňují zadanou podmínku."
   ]
  },
  {
   "cell_type": "markdown",
   "id": "381b8ef7-5f71-4882-b8c5-33157102c3ee",
   "metadata": {},
   "source": [
    "Metoda `filter` se používá k vybrání **seskupených dat** podle splnění **určité podmínky**.\n",
    "\n",
    "Představme si, že máme následující dataset s informacemi o prodeji ovoce v různých obchodech:"
   ]
  },
  {
   "cell_type": "markdown",
   "id": "7115a17f-a5a3-48ff-908b-6680de310b65",
   "metadata": {},
   "source": [
    "```\n",
    "pobocka,ovoce,prodane_mnozstvi,cena\n",
    "A,apple,10,20\n",
    "A,banana,15,12\n",
    "B,apple,8,22\n",
    "B,banana,30,10\n",
    "C,apple,20,18\n",
    "C,banana,25,15\n",
    "```"
   ]
  },
  {
   "cell_type": "code",
   "execution_count": null,
   "id": "0adbf360-802b-4ceb-a093-601ccbe12fa6",
   "metadata": {
    "tags": []
   },
   "outputs": [],
   "source": [
    "ovoce_data = {\n",
    "    'pobocka': ['A', 'A', 'B', 'B', 'C', 'C'],\n",
    "    'ovoce': ['jablko', 'banan', 'jablko', 'banan', 'jablko', 'banan'],\n",
    "    'prodane_mnozstvi': [10, 15, 8, 30, 20, 25],\n",
    "    'cena': [20, 12, 22, 10, 18, 15]\n",
    "}"
   ]
  },
  {
   "cell_type": "code",
   "execution_count": null,
   "id": "aa60049f-396f-4eb8-bb9b-d792a13b3160",
   "metadata": {},
   "outputs": [],
   "source": [
    "ovoce_df = DataFrame(ovoce_data)"
   ]
  },
  {
   "cell_type": "code",
   "execution_count": null,
   "id": "995323de-5f18-497f-b4ad-db2386345c8a",
   "metadata": {
    "tags": []
   },
   "outputs": [],
   "source": [
    "ovoce_df"
   ]
  },
  {
   "cell_type": "code",
   "execution_count": null,
   "id": "a730c7b4-cbcf-4e08-b688-e4807ea5e94e",
   "metadata": {
    "tags": []
   },
   "outputs": [],
   "source": [
    "def vyber_s_prodejem_nad_limit(data: DataFrame,\n",
    "                               limit: int = 30) -> bool:\n",
    "    return data['prodane_mnozstvi'].sum() > limit"
   ]
  },
  {
   "cell_type": "markdown",
   "id": "858aca86-b58b-44e8-92ab-caaf34819a6d",
   "metadata": {},
   "source": [
    "<br>\n",
    "\n",
    "Funkce `vyber_s_prodejem_nad_limit`, tedy **filtrovací funkce**, musí vracet **boolean** datový typ."
   ]
  },
  {
   "cell_type": "code",
   "execution_count": null,
   "id": "fee14d46-9932-4b03-b705-597707c5ecaa",
   "metadata": {
    "tags": []
   },
   "outputs": [],
   "source": [
    "ovoce_df.groupby('pobocka').filter(vyber_s_prodejem_nad_limit)"
   ]
  },
  {
   "cell_type": "markdown",
   "id": "0908c605-f5d8-4314-a865-c2c1bab13084",
   "metadata": {},
   "source": [
    "1. Nejprve seskupíš data podle sloupce `pobocka` pomocí `groupby`,\n",
    "2. dále použiješ metodu `filter`, která umožňuje použít uživatelem definovanou funkci (`vyber_pouze_pobocky_s_prodejem_nad_limit`),\n",
    "3. definuješ funkci, která vybere pouze pobočky s větším prodejem než je parametr `limit`,\n",
    "4. metoda `filter` pak vybere pouze ty řádky, které splňují tuto podmínku."
   ]
  },
  {
   "cell_type": "markdown",
   "id": "891df39c-bb03-420c-8aeb-79737f9ada5b",
   "metadata": {},
   "source": [
    "### Metoda TRANSFORM\n",
    "\n",
    "---"
   ]
  },
  {
   "cell_type": "markdown",
   "id": "31ced72e-0931-43f3-9fa1-8ac275043189",
   "metadata": {
    "tags": []
   },
   "source": [
    "Zatímco předchozí výsledky *agregace* pomocí `groupby` vraceli redukované množství dat.\n",
    "\n",
    "Transformace obvykle vrací data o stejném rozsahu jako vstupní data. Jenom upravená."
   ]
  },
  {
   "cell_type": "markdown",
   "id": "787a5ce9-63a4-4cf6-9105-2e73e075c806",
   "metadata": {},
   "source": [
    "Metoda `transform` se používá k aplikaci určité **transformační funkce** na každý prvek seskupených dat."
   ]
  },
  {
   "cell_type": "code",
   "execution_count": null,
   "id": "4ac57d55-58d1-4f5c-b77b-13b5b483348c",
   "metadata": {
    "tags": []
   },
   "outputs": [],
   "source": [
    "ovoce_df"
   ]
  },
  {
   "cell_type": "code",
   "execution_count": null,
   "id": "655afebf-3a7d-4f3c-baf2-af7cb330076f",
   "metadata": {
    "tags": []
   },
   "outputs": [],
   "source": [
    "def vrat_procenta_z_celkoveho_prodeje(udaj: Series) -> float:\n",
    "    return round(udaj / udaj.sum() * 100, 1)"
   ]
  },
  {
   "cell_type": "markdown",
   "id": "3e5aa9cd-18d8-45d2-ba0a-06c05f020b6f",
   "metadata": {},
   "source": [
    "<br>\n",
    "\n",
    "Vytvoření nového sloupečku `vrat_procenta_z_celkoveho_prodeje`:"
   ]
  },
  {
   "cell_type": "code",
   "execution_count": null,
   "id": "c23f2839-f2cd-422a-a5d3-e989940a6f58",
   "metadata": {
    "tags": []
   },
   "outputs": [],
   "source": [
    "ovoce_df['Procento z celkoveho prodeje'] = ovoce_df.groupby('pobocka')['prodane_mnozstvi'] \\\n",
    "    .transform(vrat_procenta_z_celkoveho_prodeje)"
   ]
  },
  {
   "cell_type": "code",
   "execution_count": null,
   "id": "6d2a7983-b1fd-4bfc-b372-3b690dea6f49",
   "metadata": {
    "tags": []
   },
   "outputs": [],
   "source": [
    "ovoce_df"
   ]
  },
  {
   "cell_type": "markdown",
   "id": "cd66bb13-620f-4f26-bcae-00ccb1dd5335",
   "metadata": {},
   "source": [
    "1. Nejprve seskupíš data podle sloupce `pobocka` pomocí `groupby`,\n",
    "2. dále použiješ metodu `transform`, která umožňuje použít uživatelem definovanou funkci,\n",
    "3. definuješ funkci, která vybere vypočítá procentuální vyjádření prodaného zboží pro pobočku,\n",
    "4. přidáš nový sloupeček `procento_z_celkoveho_prodeje`."
   ]
  },
  {
   "cell_type": "markdown",
   "id": "202805fc-bda1-44bb-b5c7-e61d76c6a3fa",
   "metadata": {},
   "source": [
    "### Metoda `APPLY`\n",
    "\n",
    "---\n",
    "\n",
    "Metoda `apply` ti také dovolí, používat uživatelem definované funkce na seskupená data.\n",
    "\n",
    "Následně vrací objekt knihovny `pandas` (buď `DataFrame`, nebo `Series`, a nebo skalární hodnota)."
   ]
  },
  {
   "cell_type": "code",
   "execution_count": null,
   "id": "1b4dea9b-8409-4b6c-add7-7741d40fecb2",
   "metadata": {
    "tags": []
   },
   "outputs": [],
   "source": [
    "ovoce_df"
   ]
  },
  {
   "cell_type": "code",
   "execution_count": null,
   "id": "e55bfe4c-0cdf-4115-8d76-fec54962e84f",
   "metadata": {},
   "outputs": [],
   "source": [
    "def vypocitej_vydelek_za_artikl(seskupene: DataFrame):\n",
    "    seskupene['vydelek_za_artikl'] = seskupene['prodane_mnozstvi'] * seskupene['cena']\n",
    "    return seskupene"
   ]
  },
  {
   "cell_type": "markdown",
   "id": "96cef76c-bde5-4b91-8bbc-dbb208164263",
   "metadata": {},
   "source": [
    "<br>\n",
    "\n",
    "Metoda `apply` je **obecnější a flexibilnější** než `transform`.\n",
    "\n",
    "`apply` umožňuje použít uživatelem definovanou funkci na každou skupinu po seskupení dat pomocí `groupby`.\n",
    "\n",
    "Výsledek metody `apply` může mít jiný tvar než původní data."
   ]
  },
  {
   "cell_type": "code",
   "execution_count": null,
   "id": "85efa3b5-ebed-4e0c-9791-dadf5c44f174",
   "metadata": {},
   "outputs": [],
   "source": [
    "ovoce_df.groupby('pobocka', group_keys=False).apply(vypocitej_vydelek_za_artikl)"
   ]
  },
  {
   "cell_type": "code",
   "execution_count": null,
   "id": "c1909cd2-c68a-4765-8ee0-a1f4bdbd5610",
   "metadata": {},
   "outputs": [],
   "source": [
    "# ovoce_df.groupby?"
   ]
  },
  {
   "cell_type": "markdown",
   "id": "1c3f669a-9cf4-4318-b60a-8cdc11194989",
   "metadata": {},
   "source": [
    "Od posledních verzí frameworku (`1.5.0` a vyšší) platí, že pokud bude výsledkem `DataFrame` nebo `Series` musíš uvést argument pro `group_keys=True`).\n",
    "\n",
    "<br>"
   ]
  },
  {
   "cell_type": "code",
   "execution_count": null,
   "id": "81552747-c871-4f95-836d-ecbc76c64c1f",
   "metadata": {},
   "outputs": [],
   "source": [
    "vystup = ovoce_df.groupby('pobocka', group_keys=True).apply(vypocitej_vydelek_za_artikl)"
   ]
  },
  {
   "cell_type": "code",
   "execution_count": null,
   "id": "afe36611-5f51-4f89-8a6f-737b3e320118",
   "metadata": {},
   "outputs": [],
   "source": [
    "vystup"
   ]
  },
  {
   "cell_type": "markdown",
   "id": "d239a75a-8c15-4d41-a7d8-96bc14b22db9",
   "metadata": {},
   "source": [
    "Na první pohled vypadají metody `apply` a `transform` docela podobně.\n",
    "\n",
    "Metoda `transform` je trochu omezenější než `apply`.\n",
    "\n",
    "Slouží k aplikaci uživatelem definované nebo vestavěné funkce **na každý prvek** skupiny po seskupení s `groupby`.\n",
    "\n",
    "`transform` musí vracet hodnotu stejného tvaru jako vstupní data.\n",
    "\n",
    "Výsledek metody `transform` **má stejný tvar jako původní data**.\n",
    "\n",
    "#### Apply\n",
    "* potřebuješ výsledek, který **má jiný tvar než původní data**,\n",
    "* umí zpracovat **více sloupečků současně**.\n",
    "\n",
    "#### Transform\n",
    "* potřebuješ výsledek, který **má stejný tvar jako původní data**,\n",
    "* umí zpracovat **pouze jeden sloupeček**."
   ]
  },
  {
   "cell_type": "code",
   "execution_count": null,
   "id": "c300c5f0-6144-4fa7-b26d-585021c5c4a3",
   "metadata": {
    "tags": []
   },
   "outputs": [],
   "source": [
    "df_rozdily = DataFrame({\n",
    "    'KLIC': ['A','B','C'] * 3,\n",
    "    'A': numpy.arange(9),\n",
    "    'B': [1,2,3] * 3,\n",
    "})"
   ]
  },
  {
   "cell_type": "code",
   "execution_count": null,
   "id": "55cb53af-75d4-4b89-b09e-0e38abae2b68",
   "metadata": {
    "tags": []
   },
   "outputs": [],
   "source": [
    "df_rozdily"
   ]
  },
  {
   "cell_type": "markdown",
   "id": "7dbfd38d-5150-4fd7-b8ae-e12984940768",
   "metadata": {},
   "source": [
    "#### `transform` vrací výsledky ve stejném tvaru\n",
    "\n",
    "---"
   ]
  },
  {
   "cell_type": "code",
   "execution_count": null,
   "id": "cea77fd6-f097-4f89-8f04-ca6fc192fcdb",
   "metadata": {
    "tags": []
   },
   "outputs": [],
   "source": [
    "def vypocitej_sumu(data):\n",
    "    return data.sum()"
   ]
  },
  {
   "cell_type": "code",
   "execution_count": null,
   "id": "624ec01b-6529-4966-8461-e14017b8feda",
   "metadata": {
    "tags": []
   },
   "outputs": [],
   "source": [
    "seskup_df_rozdily_apply = df_rozdily.groupby('KLIC')['A'].apply(vypocitej_sumu)"
   ]
  },
  {
   "cell_type": "code",
   "execution_count": null,
   "id": "280415b9-adaf-4e03-b1a5-903115d6b425",
   "metadata": {
    "tags": []
   },
   "outputs": [],
   "source": [
    "seskup_df_rozdily_apply"
   ]
  },
  {
   "cell_type": "code",
   "execution_count": null,
   "id": "194c0417-2b62-4cca-920e-b6004319feef",
   "metadata": {
    "tags": []
   },
   "outputs": [],
   "source": [
    "seskup_df_rozdily_trans = df_rozdily.groupby('KLIC')['A'].transform(vypocitej_sumu)"
   ]
  },
  {
   "cell_type": "code",
   "execution_count": null,
   "id": "ffe07d32-7af6-483f-bf7a-753444503f52",
   "metadata": {
    "tags": []
   },
   "outputs": [],
   "source": [
    "seskup_df_rozdily_trans"
   ]
  },
  {
   "cell_type": "markdown",
   "id": "c3012581-c13c-4352-9b55-b5da71596e0c",
   "metadata": {},
   "source": [
    "#### `apply` umí pracovat s více sloupečky, `transform` jen s jedním\n",
    "\n",
    "---"
   ]
  },
  {
   "cell_type": "code",
   "execution_count": null,
   "id": "34c0a859-a5ec-4194-acae-1d4d62def998",
   "metadata": {
    "tags": []
   },
   "outputs": [],
   "source": [
    "df_rozdily"
   ]
  },
  {
   "cell_type": "code",
   "execution_count": null,
   "id": "79dfb39b-a39b-4311-b6a4-790c536478ca",
   "metadata": {
    "tags": []
   },
   "outputs": [],
   "source": [
    "def vypocitej_rozdil(data):\n",
    "    return data['B'] - data['A']"
   ]
  },
  {
   "cell_type": "code",
   "execution_count": null,
   "id": "d282c7f1-e633-41c0-ae70-b2d011a3c4d2",
   "metadata": {
    "tags": []
   },
   "outputs": [],
   "source": [
    "df_rozdily.groupby('KLIC').apply(vypocitej_rozdil)"
   ]
  },
  {
   "cell_type": "code",
   "execution_count": null,
   "id": "3fc45149-c3be-4732-83b7-39d9565206b5",
   "metadata": {
    "tags": []
   },
   "outputs": [],
   "source": [
    "# df_rozdily.groupby('KLIC').transform(vypocitej_rozdil)"
   ]
  },
  {
   "cell_type": "markdown",
   "id": "49c4393e-280b-42a9-9998-48923a8778b5",
   "metadata": {},
   "source": [
    "<br>\n",
    "\n",
    "**🧠 CVIČENÍ 🧠, procvič si funkcí GroupBy a agregační funkce**"
   ]
  },
  {
   "cell_type": "markdown",
   "id": "44a67799-60fa-4b46-acc3-63a10550c90a",
   "metadata": {},
   "source": [
    "Máš zadaný takový datový set."
   ]
  },
  {
   "cell_type": "markdown",
   "id": "e0687a5b-8dce-49a8-aafc-48f9f454ca4c",
   "metadata": {},
   "source": [
    "Následně:\n",
    "1. Pomocí metody `filter` vyber prodejny, které prodaly **alespoň 30 produktů**,\n",
    "2. na filtrovaném datasetu použijte metodu `apply` pro výpočet **celkového příjmu z prodeje pro každý obchod**."
   ]
  },
  {
   "cell_type": "code",
   "execution_count": null,
   "id": "0f09e919-36b2-4992-aca0-39fbec852e64",
   "metadata": {
    "tags": []
   },
   "outputs": [],
   "source": [
    "from pandas import DataFrame\n",
    "\n",
    "df_prodej_hardware = DataFrame({\n",
    "    'prodejna_id': (5, 4, 1, 5, 5, 1, 4, 2, 5, 1, 3, 1, 3, 4, 2, 1, 5, 4, 1, 5),\n",
    "    'transakce_id': (1278, 1216, 1866, 1872, 1797, 1272, 1880, 1061, 1595, 1879, 1728,\n",
    "       1341, 1396, 1698, 1018, 1176, 1611, 1395, 1444, 1232),\n",
    "    'predmet_prodeje': ('grafická_karta', 'SSD', 'RAM', 'procesor', 'grafická_karta',\n",
    "       'základní_deska', 'SSD', 'SSD', 'grafická_karta', 'RAM',\n",
    "       'grafická_karta', 'procesor', 'grafická_karta', 'SSD',\n",
    "       'grafická_karta', 'RAM', 'základní_deska', 'HDD', 'grafická_karta',\n",
    "       'RAM'),\n",
    "    'pocet_prodanych_ks': (1,  5,  6,  6,  3,  7,  9, 10,  8,  6,  8,  5,  8, 10,  4, 10,  8,\n",
    "       10,  2,  5),\n",
    "    'cena_predmetu': (19500.69874949, 19731.10951735, 14114.15342339, 10953.87914371,\n",
    "        6535.78851758, 16369.00288429, 13852.2578648 ,  3671.03031723,\n",
    "       18263.08009763, 16539.476237  , 19021.09830919, 14651.53041357,\n",
    "       12461.59632075,  8655.73920767, 18688.2054254 , 17388.24584526,\n",
    "        1381.76406707,  1014.1560027 ,  7841.03565412, 16305.78995025)\n",
    "})"
   ]
  },
  {
   "cell_type": "code",
   "execution_count": null,
   "id": "0aae8234-aee0-4d23-a777-77caf77a4329",
   "metadata": {},
   "outputs": [],
   "source": [
    "def vyber_prodejny_s_vice_nez_triceti_produkty(\n",
    "    data: DataFrame, limit: int = 30\n",
    "):\n",
    "    return data['pocet_prodanych_ks'].sum() >= limit"
   ]
  },
  {
   "cell_type": "code",
   "execution_count": null,
   "id": "05966a56-406c-4e09-8116-df1b5ccc38b3",
   "metadata": {},
   "outputs": [],
   "source": [
    "hledane_prodejny = df_prodej_hardware.groupby('prodejna_id').filter(\n",
    "    vyber_prodejny_s_vice_nez_triceti_produkty\n",
    ")"
   ]
  },
  {
   "cell_type": "code",
   "execution_count": null,
   "id": "8937ebb2-f801-4cc5-8886-b359e00718a2",
   "metadata": {},
   "outputs": [],
   "source": [
    "hledane_prodejny"
   ]
  },
  {
   "cell_type": "code",
   "execution_count": null,
   "id": "38a8bb30-59f8-4627-b60e-d89367003292",
   "metadata": {},
   "outputs": [],
   "source": [
    "df_prodej_hardware.groupby('prodejna_id').sum()"
   ]
  },
  {
   "cell_type": "code",
   "execution_count": null,
   "id": "11c83170-6be6-4112-a843-f73ba587ef40",
   "metadata": {},
   "outputs": [],
   "source": [
    "agregovano = df_prodej_hardware.groupby('prodejna_id')['pocet_prodanych_ks'].sum()\n",
    "odfiltrovano = agregovano[agregovano > 30]\n",
    "\n",
    "print(odfiltrovano)"
   ]
  },
  {
   "cell_type": "code",
   "execution_count": null,
   "id": "defbb464-6e5f-4cb3-af41-38c86dc9ba00",
   "metadata": {},
   "outputs": [],
   "source": []
  },
  {
   "cell_type": "code",
   "execution_count": null,
   "id": "17fcdfc8-525f-4179-8405-8e7969a59f13",
   "metadata": {},
   "outputs": [],
   "source": [
    "df_prodej_hardware.head()"
   ]
  },
  {
   "cell_type": "markdown",
   "id": "4b08e4d4-9324-4ec9-a317-00f4fa77f5e6",
   "metadata": {},
   "source": [
    "<details>\n",
    "    <summary>▶️ Řešení</summary>\n",
    "    \n",
    "```python\n",
    "def vyber_prodej_vetsi_nez_limit(data, limit: int = 30):\n",
    "    return data['pocet_prodanych_ks'].sum() > limit\n",
    "    \n",
    "def vypocitej_celkovy_vydelek_prodejny(skupina):\n",
    "    return (skupina['pocet_prodanych_ks'] * skupina['cena_predmetu']).sum()\n",
    "\n",
    "df_filtr_hardware = df_prodej_hardware.groupby('prodejna_id') \\\n",
    "                        .filter(vyber_prodej_vetsi_nez_limit)\n",
    "\n",
    "#         cilove_prodejny = df_prodej_hardware.groupby('prodejna_id') \\\n",
    "# .filter(lambda prodejna: prodejna.pocet_prodanych_ks.sum() >= 30)\n",
    "\n",
    "\n",
    "celkovy_vydelek = df_filtr_hardware.groupby('prodejna_id') \\\n",
    "                        .apply(vypocitej_celkovy_vydelek_prodejny)\n",
    "\n",
    "# prodeje_prodejen = cilove_prodejny.groupby('prodejna_id') \\\n",
    "# .aggregate({'pocet_prodanych_ks': sum})\n",
    "\n",
    "# df_prodej_hardware[\"prodejna_id\"].unique()\n",
    "\n",
    "# prijmy_prodejen = pd.DataFrame(df_prodej_hardware.groupby('prodejna_id')['cena_predmetu'] \\\n",
    "#                 .apply(lambda prodejna: prodejna.sum())) \\\n",
    "#                 .rename(columns = { 'cena_predmetu': 'prijem_z_prodeje' } ) \\\n",
    "#                 .round( 2 )\n",
    "```\n",
    "</details>"
   ]
  },
  {
   "cell_type": "markdown",
   "id": "3ae0cd22-213a-413b-b3ee-3d838055c977",
   "metadata": {},
   "source": [
    "\n",
    "<img src=\"https://external-content.duckduckgo.com/iu/?u=https%3A%2F%2Ftse2.mm.bing.net%2Fth%3Fid%3DOIP.P16hnt14CM-mJ5eAKykxLAHaHa%26pid%3DApi&f=1&ipt=27e3f5b23fe44567ad0730192d5dcb13c7c23aa6e87579d16df05e27461dc12c&ipo=images\" width=\"160\" style=\"margin-left:auto; margin-right:auto\"/>"
   ]
  },
  {
   "cell_type": "markdown",
   "id": "aad768f5-f565-4d9d-954a-b1616596c163",
   "metadata": {},
   "source": [
    "## Pivot tabulky\n",
    "\n",
    "---\n"
   ]
  },
  {
   "cell_type": "markdown",
   "id": "728058cc-018c-4d43-884d-ac516e96ba09",
   "metadata": {},
   "source": [
    "*Pivot tabulky* (*kontingenční tabulky*) jsou užitečné pro přehledné zobrazení a analýzu dat z tabulkových zdrojů.\n",
    "\n",
    "Pomocí pivot tabulek můžeš **seskupit data podle určitých kategorií** a provést agregaci hodnot.\n",
    "\n",
    "Nejprve si představ situaci bez pivot tabulek, pomocí ukázky níže:"
   ]
  },
  {
   "cell_type": "code",
   "execution_count": null,
   "id": "c5175d0b-fa7b-412e-acb9-bc67b000ee38",
   "metadata": {},
   "outputs": [],
   "source": [
    "!pip install seaborn"
   ]
  },
  {
   "cell_type": "code",
   "execution_count": null,
   "id": "0ff3a4c7-22c6-4ba6-be06-c072c3f8abca",
   "metadata": {
    "tags": []
   },
   "outputs": [],
   "source": [
    "import seaborn"
   ]
  },
  {
   "cell_type": "markdown",
   "id": "2ab388cb-c1eb-4d6a-8710-e5ee875ff373",
   "metadata": {},
   "source": [
    "<br>\n",
    "\n",
    "V této ukazce použiješ vzorová data týkající se [nehody lodi Titanic](https://en.wikipedia.org/wiki/Sinking_of_the_Titanic):"
   ]
  },
  {
   "cell_type": "code",
   "execution_count": null,
   "id": "58a60ef1-1fd7-4ef3-ab49-234417326c6f",
   "metadata": {
    "tags": []
   },
   "outputs": [],
   "source": [
    "df_titanic = seaborn.load_dataset('titanic')"
   ]
  },
  {
   "cell_type": "code",
   "execution_count": null,
   "id": "aa9c3ab2-47d3-419a-817a-907c67809122",
   "metadata": {
    "tags": []
   },
   "outputs": [],
   "source": [
    "df_titanic.info()"
   ]
  },
  {
   "cell_type": "markdown",
   "id": "bb2e00c7-6848-4621-b4c8-9cbbe831e486",
   "metadata": {},
   "source": [
    "<br>\n",
    "\n",
    "Pro jakoukoliv pokročilou analýzu dat, potřebuješ údaj seskupit.\n",
    "\n",
    "Tak jak jsi do prováděl doposud, pomocí `groupby`:"
   ]
  },
  {
   "cell_type": "code",
   "execution_count": null,
   "id": "24a14e0e-beee-46ad-9f77-d6c16ad7df78",
   "metadata": {},
   "outputs": [],
   "source": [
    "df_titanic.head()"
   ]
  },
  {
   "cell_type": "code",
   "execution_count": null,
   "id": "28cd073c-bc4e-40a2-bbf6-b5d325ba7043",
   "metadata": {
    "tags": []
   },
   "outputs": [],
   "source": [
    "df_titanic[\"sex\"].unique()"
   ]
  },
  {
   "cell_type": "code",
   "execution_count": null,
   "id": "23f797fe-2356-4382-b894-500815af693c",
   "metadata": {
    "tags": []
   },
   "outputs": [],
   "source": [
    "df_titanic.groupby('sex')"
   ]
  },
  {
   "cell_type": "markdown",
   "id": "fb7fa9c5-69f3-410a-954c-eeb2c1773f71",
   "metadata": {},
   "source": [
    "<br>\n",
    "\n",
    "Potřebuješ průměrnou hodnotu, ať je na sloupečku `survived` vidět poměr přeživších:"
   ]
  },
  {
   "cell_type": "code",
   "execution_count": null,
   "id": "f2c6b88c-6557-4968-b5c1-19ed11102bb2",
   "metadata": {
    "tags": []
   },
   "outputs": [],
   "source": [
    "df_titanic.groupby('sex')['survived'].mean()"
   ]
  },
  {
   "cell_type": "markdown",
   "id": "8bff9730-da86-4980-ad8a-81a8b63513f4",
   "metadata": {},
   "source": [
    "<br>\n",
    "\n",
    "Pro lepší čitelnost **zaokrouhlím výsledek na dvě desetinné čísla**:"
   ]
  },
  {
   "cell_type": "code",
   "execution_count": null,
   "id": "d5fd48c8-82ae-4528-99d7-49b575429158",
   "metadata": {
    "tags": []
   },
   "outputs": [],
   "source": [
    "df_titanic.groupby('sex')['survived'].mean().round(2)"
   ]
  },
  {
   "cell_type": "markdown",
   "id": "316b3c45-b3f6-4798-b9c2-417d7e4afb73",
   "metadata": {},
   "source": [
    "Takový průzkum z této studie ti dá jasný pohled na věc:\n",
    "* 3 ze 4 žen přežily,\n",
    "* 1 z 5 mužů přežil."
   ]
  },
  {
   "cell_type": "markdown",
   "id": "417627ff-9c0c-483d-9d6a-f0b7c252e066",
   "metadata": {},
   "source": [
    "<br>\n",
    "\n",
    "Pokud budeš potřebovat detailnější analýzy, budeš potřebovat více dat.\n",
    "\n",
    "Třeba situaci, kde kromě pohlaví, bereš v potaz **třídu cestujících** `class`:"
   ]
  },
  {
   "cell_type": "code",
   "execution_count": null,
   "id": "6f49785c-40b7-4029-8500-0f29c2a087f7",
   "metadata": {
    "tags": []
   },
   "outputs": [],
   "source": [
    "df_titanic[\"class\"].unique()"
   ]
  },
  {
   "cell_type": "code",
   "execution_count": null,
   "id": "d12df2e9-52e1-4c89-9614-a9cf57ff51e5",
   "metadata": {
    "tags": []
   },
   "outputs": [],
   "source": [
    "df_titanic.groupby(['sex', 'class'])[['survived']].mean()"
   ]
  },
  {
   "cell_type": "code",
   "execution_count": null,
   "id": "52a8aa16-d63a-498a-9e2b-211eebed76d6",
   "metadata": {
    "tags": []
   },
   "outputs": [],
   "source": [
    "type(df_titanic.groupby(['sex', 'class'])[['survived']])"
   ]
  },
  {
   "cell_type": "code",
   "execution_count": null,
   "id": "1125e9d5-97d0-4dde-84c4-ffcda03f8cc1",
   "metadata": {
    "tags": []
   },
   "outputs": [],
   "source": [
    "type(df_titanic.groupby(['sex', 'class'])['survived'].mean())"
   ]
  },
  {
   "cell_type": "code",
   "execution_count": null,
   "id": "10310324-2299-4e99-8f39-a9892915faa4",
   "metadata": {
    "tags": []
   },
   "outputs": [],
   "source": [
    "df_titanic.groupby(['sex', 'class'])[['survived']].mean().round(2)"
   ]
  },
  {
   "cell_type": "markdown",
   "id": "aa1de43c-3ad0-4b8e-9b01-7926c9016714",
   "metadata": {},
   "source": [
    "<br>\n",
    "\n",
    "Metodou `unstack` si můžeš vytvořit nové sloupečky, které jsou postavené na novém Indexu, nebo Indexech (*Multiindex*):"
   ]
  },
  {
   "cell_type": "code",
   "execution_count": null,
   "id": "6aa65f34-1389-4351-8e35-ba11ea3e6cc9",
   "metadata": {
    "tags": []
   },
   "outputs": [],
   "source": [
    "df_titanic.groupby(['sex', 'class'])['survived'].mean().round(2).unstack()"
   ]
  },
  {
   "cell_type": "markdown",
   "id": "5397b2a7-7a67-4994-a0be-fdd4c70d30cb",
   "metadata": {},
   "source": [
    "Takový průzkum ti dá skutečně lepší pohled na věc.\n",
    "\n",
    "Současně ale roste **náročnost ohlášení**.\n",
    "\n",
    "Zápis \"bobtná\" a **stává se náročnějším na přečtení a pochopení**."
   ]
  },
  {
   "cell_type": "markdown",
   "id": "1588b19e-6424-4586-91d4-931438e465bd",
   "metadata": {},
   "source": [
    "<br>\n",
    "\n",
    "### Pivot tabulka\n",
    "\n",
    "---"
   ]
  },
  {
   "cell_type": "markdown",
   "id": "2f034865-bd4b-4e34-b2b1-64a9edcb0955",
   "metadata": {
    "tags": []
   },
   "source": [
    "Podobné řešení ti nabízí funkce `pivot_table`:"
   ]
  },
  {
   "cell_type": "code",
   "execution_count": null,
   "id": "a82f7280-a4c4-47cb-912f-df906772b1e8",
   "metadata": {
    "tags": []
   },
   "outputs": [],
   "source": [
    "df_titanic.groupby(['sex', 'class'])['survived'].mean().round(2).unstack()"
   ]
  },
  {
   "cell_type": "code",
   "execution_count": null,
   "id": "221df6bb-478b-40cb-ae6e-f5e4f23611b3",
   "metadata": {
    "tags": []
   },
   "outputs": [],
   "source": [
    "df_titanic.pivot_table('survived', index='sex', columns='class').round(2)"
   ]
  },
  {
   "cell_type": "code",
   "execution_count": null,
   "id": "0397f98f-46d9-414e-9f48-70dc860422c7",
   "metadata": {},
   "outputs": [],
   "source": [
    "df_titanic.index"
   ]
  },
  {
   "cell_type": "markdown",
   "id": "29b7ad01-1bf7-48f0-9ba2-404ca1cd65af",
   "metadata": {},
   "source": [
    "Zásádním rozdílem je ovšem **čitelnost**, kterou máš pro tuto variantu zápisu.\n",
    "\n",
    "```\n",
    "Clarity beats purity\n",
    "```\n",
    "\n",
    "Pomocí vhodných argumentů, můžeš doplnit vysvětlivky tam, kde funkce `groupby` nemohla."
   ]
  },
  {
   "cell_type": "markdown",
   "id": "05723ff2-9147-40d9-8562-0f31104dd15e",
   "metadata": {},
   "source": [
    "Stejně platí, že pokud budeš potřebovat **další Index**, můžeš si pomoci funkcí `cut`:"
   ]
  },
  {
   "cell_type": "code",
   "execution_count": null,
   "id": "064b90b8-f422-49d3-8c13-686436937741",
   "metadata": {
    "tags": []
   },
   "outputs": [],
   "source": [
    "df_titanic.head()"
   ]
  },
  {
   "cell_type": "code",
   "execution_count": null,
   "id": "62221688-a1a5-4c86-b62d-e375d7f89e94",
   "metadata": {
    "tags": []
   },
   "outputs": [],
   "source": [
    "df_titanic['age'].describe()"
   ]
  },
  {
   "cell_type": "code",
   "execution_count": null,
   "id": "870c0770-01e3-4724-9908-857100ea045c",
   "metadata": {
    "tags": []
   },
   "outputs": [],
   "source": [
    "from pandas import cut"
   ]
  },
  {
   "cell_type": "code",
   "execution_count": null,
   "id": "12c4960e-eb9b-4c3b-89e2-f43843f0beeb",
   "metadata": {
    "tags": []
   },
   "outputs": [],
   "source": [
    "age = cut(df_titanic['age'], [1, 40, 80])"
   ]
  },
  {
   "cell_type": "code",
   "execution_count": null,
   "id": "d9900cb8-35e0-40b5-98d5-39bc2b6740a5",
   "metadata": {
    "tags": []
   },
   "outputs": [],
   "source": [
    "age  # < xxx , xxx )"
   ]
  },
  {
   "cell_type": "code",
   "execution_count": null,
   "id": "8cf06123-73ea-4b2b-a9db-646c929bd5fd",
   "metadata": {
    "tags": []
   },
   "outputs": [],
   "source": [
    "vystup_df = df_titanic.pivot_table('survived', index=['sex', age], columns='class').round(2)"
   ]
  },
  {
   "cell_type": "code",
   "execution_count": null,
   "id": "d05a1f71-cb2d-4c2e-be9c-99c720c913b1",
   "metadata": {},
   "outputs": [],
   "source": [
    "vystup_df"
   ]
  },
  {
   "cell_type": "code",
   "execution_count": null,
   "id": "5d8fa331-e5fe-4d97-996c-26f81009c851",
   "metadata": {},
   "outputs": [],
   "source": [
    "vystup_df.index"
   ]
  },
  {
   "cell_type": "markdown",
   "id": "8cebcc6c-49d3-4ea1-8614-9e83ece43e0c",
   "metadata": {},
   "source": [
    "Pomocí funkce `cut` doplníš tabulku na **MultiIndex**.\n",
    "\n",
    "Ten nyní vytvoří i rozsah pro věkovou kategorii."
   ]
  },
  {
   "cell_type": "code",
   "execution_count": null,
   "id": "0a7e4cec-da08-49f5-a8b9-e0dc1716e98b",
   "metadata": {},
   "outputs": [],
   "source": []
  },
  {
   "cell_type": "markdown",
   "id": "6a0dfb79-1a21-4594-84c5-8addf90d8217",
   "metadata": {},
   "source": [
    "<br>\n",
    "\n",
    "**🧠 CVIČENÍ 🧠, procvič si pivot tabulky**"
   ]
  },
  {
   "cell_type": "markdown",
   "id": "dc99fe24-09fa-4729-bef1-8a03371fdbbe",
   "metadata": {},
   "source": [
    "Ze zadaného datasetu vytvoř **pivot tabulku**, která zobrazí **počet prodaných kusů ovoce** pro **každý obchod** a **druh ovoce**."
   ]
  },
  {
   "cell_type": "code",
   "execution_count": null,
   "id": "6c7ce318-8188-48fe-b768-2275036e2c71",
   "metadata": {
    "tags": []
   },
   "outputs": [],
   "source": [
    "ovoce_data = {\n",
    "    'pobocka': ['A', 'A', 'B', 'B', 'C', 'C'],\n",
    "    'ovoce': ['jablko', 'banan', 'jablko', 'banan', 'jablko', 'banan'],\n",
    "    'prodane_mnozstvi': [10, 15, 8, 30, 20, 25],\n",
    "    'cena': [20, 12, 22, 10, 18, 15]\n",
    "}"
   ]
  },
  {
   "cell_type": "code",
   "execution_count": null,
   "id": "b56f3137-215b-4052-b6ae-ede940b56142",
   "metadata": {},
   "outputs": [],
   "source": [
    "# pivot_table()\n",
    "#              prodane_mnozstvi      jablko banan\n",
    "# Pobocka\n",
    "#    A \n",
    "#    B\n",
    "#    C "
   ]
  },
  {
   "cell_type": "code",
   "execution_count": null,
   "id": "84e071b3-67d3-4b5c-8777-5145829ed71e",
   "metadata": {},
   "outputs": [],
   "source": [
    "ovoce_df = DataFrame(ovoce_data)"
   ]
  },
  {
   "cell_type": "code",
   "execution_count": null,
   "id": "7ae85314-c983-44af-81d9-a978e6f7a9e9",
   "metadata": {},
   "outputs": [],
   "source": [
    "ovoce_df"
   ]
  },
  {
   "cell_type": "code",
   "execution_count": null,
   "id": "6edb475d-02b4-4f2c-be4d-3e9664375889",
   "metadata": {},
   "outputs": [],
   "source": [
    "pt = ovoce_df.pivot_table(values='prodane_mnozstvi',\n",
    "                     index='pobocka',\n",
    "                     columns='ovoce')"
   ]
  },
  {
   "cell_type": "code",
   "execution_count": null,
   "id": "3bab3ffd-df6a-4008-85e4-7327a7aa6cf9",
   "metadata": {},
   "outputs": [],
   "source": [
    "pt.index.names = ['pobocka_id']"
   ]
  },
  {
   "cell_type": "code",
   "execution_count": null,
   "id": "d0f76218-2969-473e-9482-6387fc80fc91",
   "metadata": {},
   "outputs": [],
   "source": [
    "pt"
   ]
  },
  {
   "cell_type": "markdown",
   "id": "5962aea9-4386-40c1-a1de-88cabfec8ab5",
   "metadata": {},
   "source": [
    "<details>\n",
    "    <summary>▶️ Řešení</summary>\n",
    "    \n",
    "```python\n",
    "pivot_tabulka = df_ovoce.pivot_table(values=\"prodane_mnozstvi\", index=\"pobocka\", columns=\"ovoce\")\n",
    "```\n",
    "</details>"
   ]
  },
  {
   "cell_type": "markdown",
   "id": "ffad1756-41e3-4a8a-96eb-5191de54c6bd",
   "metadata": {},
   "source": [
    "---"
   ]
  }
 ],
 "metadata": {
  "kernelspec": {
   "display_name": "Python 3 (ipykernel)",
   "language": "python",
   "name": "python3"
  },
  "language_info": {
   "codemirror_mode": {
    "name": "ipython",
    "version": 3
   },
   "file_extension": ".py",
   "mimetype": "text/x-python",
   "name": "python",
   "nbconvert_exporter": "python",
   "pygments_lexer": "ipython3",
   "version": "3.8.10"
  }
 },
 "nbformat": 4,
 "nbformat_minor": 5
}

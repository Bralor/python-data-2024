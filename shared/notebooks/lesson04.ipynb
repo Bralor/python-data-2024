{
 "cells": [
  {
   "cell_type": "markdown",
   "id": "756f8ef3-70f3-48fb-bdf6-28c5dd0d8dc9",
   "metadata": {},
   "source": [
    "# Python, Data, 2025\n",
    "\n",
    "---"
   ]
  },
  {
   "cell_type": "markdown",
   "id": "c2d5b109-15eb-48c2-9a79-18747a196385",
   "metadata": {},
   "source": [
    "* [Agregace](),\n",
    "* [Pivot tabulky](),\n",
    "* [Časové řady](#Časové-řady),\n",
    "    - [úvodní motivace](#Úvod),\n",
    "    - [základní objekty](#Základní-objekty),\n",
    "    - [indexování časovými údaji](#Indexování-s-časem),\n",
    "    - [funkce to_datetime](#Funkce-TO_DATETIME),\n",
    "    - [funkce date_range](#Funkce-DATE_RANGE),\n",
    "    - [resampling](#Resampling),\n",
    "    - [zpřesňování](#Zpřesňování)\n",
    "\n",
    "---"
   ]
  },
  {
   "cell_type": "markdown",
   "id": "e7787240-88a5-46ce-9342-758285c9d82f",
   "metadata": {},
   "source": [
    "## Agregace\n",
    "\n",
    "---\n",
    "\n",
    "\n",
    "<img src=\"https://external-content.duckduckgo.com/iu/?u=https%3A%2F%2Ftse1.mm.bing.net%2Fth%3Fid%3DOIP.HtBtNx6dodlNptXV1QGHWQHaG0%26pid%3DApi&f=1&ipt=3a4d1dfa14a495127b4ece5cf689f00ed0c9e0836853358412e18161ae7c505f&ipo=images\" width=\"160\" style=\"margin-left:auto; margin-right:auto\"/>\n",
    "\n",
    "\n",
    "*Seskupování* neboli **agregace** jsou procesy, které patří k základní efektivní analýze dat."
   ]
  },
  {
   "cell_type": "markdown",
   "id": "4c7e84bb-032a-40c3-ba44-43e0c65855ac",
   "metadata": {},
   "source": [
    "### Jednoduchá agregace\n",
    "\n",
    "---\n",
    "\n",
    "Přesto, že veškeré základní **statistické údaje** prakticky nabízí metoda `describe()`, můžeš ocenit, když stejnou statistiku můžeš aplikovat **na tebou vybrané objekty**.\n",
    "\n",
    "Mezi nejjednodušší postupy, jak data analyzovat patří metody jako:\n",
    "* `sum()`,\n",
    "* `mean()`,\n",
    "* `median()`,\n",
    "* `min()`,\n",
    "* `max()`.\n",
    "\n",
    "Všechny tyto metody umožní získat jedno samotné číslo, které ti umožní prohlédnout podstatu zadaného datasetu."
   ]
  },
  {
   "cell_type": "code",
   "execution_count": 1,
   "id": "4b40b5dc-d2ce-4f28-bd42-e2dc2b06293c",
   "metadata": {
    "tags": []
   },
   "outputs": [],
   "source": [
    "from pandas import read_csv, DataFrame"
   ]
  },
  {
   "cell_type": "code",
   "execution_count": 2,
   "id": "fa9d956e-da46-4236-ac9f-df1a783052a8",
   "metadata": {
    "tags": []
   },
   "outputs": [],
   "source": [
    "nemovitosti_df = read_csv(\"../onsite/housing.csv\")"
   ]
  },
  {
   "cell_type": "code",
   "execution_count": 3,
   "id": "a35214d3-35d3-479f-acd6-27b35f8cb01e",
   "metadata": {
    "tags": []
   },
   "outputs": [
    {
     "data": {
      "text/html": [
       "<div>\n",
       "<style scoped>\n",
       "    .dataframe tbody tr th:only-of-type {\n",
       "        vertical-align: middle;\n",
       "    }\n",
       "\n",
       "    .dataframe tbody tr th {\n",
       "        vertical-align: top;\n",
       "    }\n",
       "\n",
       "    .dataframe thead th {\n",
       "        text-align: right;\n",
       "    }\n",
       "</style>\n",
       "<table border=\"1\" class=\"dataframe\">\n",
       "  <thead>\n",
       "    <tr style=\"text-align: right;\">\n",
       "      <th></th>\n",
       "      <th>id</th>\n",
       "      <th>price</th>\n",
       "      <th>bedrooms</th>\n",
       "      <th>bathrooms</th>\n",
       "      <th>sqft_living</th>\n",
       "      <th>sqft_lot</th>\n",
       "      <th>floors</th>\n",
       "      <th>condition</th>\n",
       "      <th>grade</th>\n",
       "    </tr>\n",
       "  </thead>\n",
       "  <tbody>\n",
       "    <tr>\n",
       "      <th>0</th>\n",
       "      <td>1</td>\n",
       "      <td>221900.0</td>\n",
       "      <td>3</td>\n",
       "      <td>1.00</td>\n",
       "      <td>1180</td>\n",
       "      <td>5650</td>\n",
       "      <td>1</td>\n",
       "      <td>3</td>\n",
       "      <td>7</td>\n",
       "    </tr>\n",
       "    <tr>\n",
       "      <th>1</th>\n",
       "      <td>2</td>\n",
       "      <td>538000.0</td>\n",
       "      <td>3</td>\n",
       "      <td>2.25</td>\n",
       "      <td>2570</td>\n",
       "      <td>7242</td>\n",
       "      <td>2</td>\n",
       "      <td>3</td>\n",
       "      <td>7</td>\n",
       "    </tr>\n",
       "    <tr>\n",
       "      <th>2</th>\n",
       "      <td>3</td>\n",
       "      <td>180000.0</td>\n",
       "      <td>2</td>\n",
       "      <td>1.00</td>\n",
       "      <td>770</td>\n",
       "      <td>10000</td>\n",
       "      <td>1</td>\n",
       "      <td>3</td>\n",
       "      <td>6</td>\n",
       "    </tr>\n",
       "    <tr>\n",
       "      <th>3</th>\n",
       "      <td>4</td>\n",
       "      <td>604000.0</td>\n",
       "      <td>4</td>\n",
       "      <td>3.00</td>\n",
       "      <td>1960</td>\n",
       "      <td>5000</td>\n",
       "      <td>1</td>\n",
       "      <td>5</td>\n",
       "      <td>7</td>\n",
       "    </tr>\n",
       "    <tr>\n",
       "      <th>4</th>\n",
       "      <td>5</td>\n",
       "      <td>510000.0</td>\n",
       "      <td>3</td>\n",
       "      <td>2.00</td>\n",
       "      <td>1680</td>\n",
       "      <td>8080</td>\n",
       "      <td>1</td>\n",
       "      <td>3</td>\n",
       "      <td>8</td>\n",
       "    </tr>\n",
       "  </tbody>\n",
       "</table>\n",
       "</div>"
      ],
      "text/plain": [
       "   id     price  bedrooms  bathrooms  sqft_living  sqft_lot  floors  \\\n",
       "0   1  221900.0         3       1.00         1180      5650       1   \n",
       "1   2  538000.0         3       2.25         2570      7242       2   \n",
       "2   3  180000.0         2       1.00          770     10000       1   \n",
       "3   4  604000.0         4       3.00         1960      5000       1   \n",
       "4   5  510000.0         3       2.00         1680      8080       1   \n",
       "\n",
       "   condition  grade  \n",
       "0          3      7  \n",
       "1          3      7  \n",
       "2          3      6  \n",
       "3          5      7  \n",
       "4          3      8  "
      ]
     },
     "execution_count": 3,
     "metadata": {},
     "output_type": "execute_result"
    }
   ],
   "source": [
    "nemovitosti_df.head()"
   ]
  },
  {
   "cell_type": "code",
   "execution_count": 4,
   "id": "cd581a87-746f-4d24-baab-28b4418b6c3f",
   "metadata": {},
   "outputs": [
    {
     "name": "stdout",
     "output_type": "stream",
     "text": [
      "<class 'pandas.core.frame.DataFrame'>\n",
      "RangeIndex: 10 entries, 0 to 9\n",
      "Data columns (total 9 columns):\n",
      " #   Column       Non-Null Count  Dtype  \n",
      "---  ------       --------------  -----  \n",
      " 0   id           10 non-null     int64  \n",
      " 1   price        10 non-null     float64\n",
      " 2   bedrooms     10 non-null     int64  \n",
      " 3   bathrooms    10 non-null     float64\n",
      " 4   sqft_living  10 non-null     int64  \n",
      " 5   sqft_lot     10 non-null     int64  \n",
      " 6   floors       10 non-null     int64  \n",
      " 7   condition    10 non-null     int64  \n",
      " 8   grade        10 non-null     int64  \n",
      "dtypes: float64(2), int64(7)\n",
      "memory usage: 848.0 bytes\n"
     ]
    }
   ],
   "source": [
    "nemovitosti_df.info()"
   ]
  },
  {
   "cell_type": "code",
   "execution_count": 5,
   "id": "d2662e53-706e-4f9d-a26c-d2dd2276630b",
   "metadata": {},
   "outputs": [
    {
     "data": {
      "text/html": [
       "<div>\n",
       "<style scoped>\n",
       "    .dataframe tbody tr th:only-of-type {\n",
       "        vertical-align: middle;\n",
       "    }\n",
       "\n",
       "    .dataframe tbody tr th {\n",
       "        vertical-align: top;\n",
       "    }\n",
       "\n",
       "    .dataframe thead th {\n",
       "        text-align: right;\n",
       "    }\n",
       "</style>\n",
       "<table border=\"1\" class=\"dataframe\">\n",
       "  <thead>\n",
       "    <tr style=\"text-align: right;\">\n",
       "      <th></th>\n",
       "      <th>id</th>\n",
       "      <th>price</th>\n",
       "      <th>bedrooms</th>\n",
       "      <th>bathrooms</th>\n",
       "      <th>sqft_living</th>\n",
       "      <th>sqft_lot</th>\n",
       "      <th>floors</th>\n",
       "      <th>condition</th>\n",
       "      <th>grade</th>\n",
       "    </tr>\n",
       "  </thead>\n",
       "  <tbody>\n",
       "    <tr>\n",
       "      <th>count</th>\n",
       "      <td>10.00000</td>\n",
       "      <td>1.000000e+01</td>\n",
       "      <td>10.000000</td>\n",
       "      <td>10.000000</td>\n",
       "      <td>10.000000</td>\n",
       "      <td>10.000000</td>\n",
       "      <td>10.000000</td>\n",
       "      <td>10.000000</td>\n",
       "      <td>10.000000</td>\n",
       "    </tr>\n",
       "    <tr>\n",
       "      <th>mean</th>\n",
       "      <td>5.50000</td>\n",
       "      <td>4.380750e+05</td>\n",
       "      <td>3.100000</td>\n",
       "      <td>2.100000</td>\n",
       "      <td>2002.500000</td>\n",
       "      <td>16846.200000</td>\n",
       "      <td>1.300000</td>\n",
       "      <td>3.200000</td>\n",
       "      <td>7.400000</td>\n",
       "    </tr>\n",
       "    <tr>\n",
       "      <th>std</th>\n",
       "      <td>3.02765</td>\n",
       "      <td>3.137603e+05</td>\n",
       "      <td>0.567646</td>\n",
       "      <td>1.094177</td>\n",
       "      <td>1305.367658</td>\n",
       "      <td>29937.105556</td>\n",
       "      <td>0.483046</td>\n",
       "      <td>0.632456</td>\n",
       "      <td>1.349897</td>\n",
       "    </tr>\n",
       "    <tr>\n",
       "      <th>min</th>\n",
       "      <td>1.00000</td>\n",
       "      <td>1.800000e+05</td>\n",
       "      <td>2.000000</td>\n",
       "      <td>1.000000</td>\n",
       "      <td>770.000000</td>\n",
       "      <td>5000.000000</td>\n",
       "      <td>1.000000</td>\n",
       "      <td>3.000000</td>\n",
       "      <td>6.000000</td>\n",
       "    </tr>\n",
       "    <tr>\n",
       "      <th>25%</th>\n",
       "      <td>3.25000</td>\n",
       "      <td>2.365000e+05</td>\n",
       "      <td>3.000000</td>\n",
       "      <td>1.125000</td>\n",
       "      <td>1305.000000</td>\n",
       "      <td>6624.750000</td>\n",
       "      <td>1.000000</td>\n",
       "      <td>3.000000</td>\n",
       "      <td>7.000000</td>\n",
       "    </tr>\n",
       "    <tr>\n",
       "      <th>50%</th>\n",
       "      <td>5.50000</td>\n",
       "      <td>3.074250e+05</td>\n",
       "      <td>3.000000</td>\n",
       "      <td>2.125000</td>\n",
       "      <td>1747.500000</td>\n",
       "      <td>7356.000000</td>\n",
       "      <td>1.000000</td>\n",
       "      <td>3.000000</td>\n",
       "      <td>7.000000</td>\n",
       "    </tr>\n",
       "    <tr>\n",
       "      <th>75%</th>\n",
       "      <td>7.75000</td>\n",
       "      <td>5.310000e+05</td>\n",
       "      <td>3.000000</td>\n",
       "      <td>2.437500</td>\n",
       "      <td>1942.500000</td>\n",
       "      <td>9303.250000</td>\n",
       "      <td>1.750000</td>\n",
       "      <td>3.000000</td>\n",
       "      <td>7.000000</td>\n",
       "    </tr>\n",
       "    <tr>\n",
       "      <th>max</th>\n",
       "      <td>10.00000</td>\n",
       "      <td>1.225000e+06</td>\n",
       "      <td>4.000000</td>\n",
       "      <td>4.500000</td>\n",
       "      <td>5420.000000</td>\n",
       "      <td>101930.000000</td>\n",
       "      <td>2.000000</td>\n",
       "      <td>5.000000</td>\n",
       "      <td>11.000000</td>\n",
       "    </tr>\n",
       "  </tbody>\n",
       "</table>\n",
       "</div>"
      ],
      "text/plain": [
       "             id         price   bedrooms  bathrooms  sqft_living  \\\n",
       "count  10.00000  1.000000e+01  10.000000  10.000000    10.000000   \n",
       "mean    5.50000  4.380750e+05   3.100000   2.100000  2002.500000   \n",
       "std     3.02765  3.137603e+05   0.567646   1.094177  1305.367658   \n",
       "min     1.00000  1.800000e+05   2.000000   1.000000   770.000000   \n",
       "25%     3.25000  2.365000e+05   3.000000   1.125000  1305.000000   \n",
       "50%     5.50000  3.074250e+05   3.000000   2.125000  1747.500000   \n",
       "75%     7.75000  5.310000e+05   3.000000   2.437500  1942.500000   \n",
       "max    10.00000  1.225000e+06   4.000000   4.500000  5420.000000   \n",
       "\n",
       "            sqft_lot     floors  condition      grade  \n",
       "count      10.000000  10.000000  10.000000  10.000000  \n",
       "mean    16846.200000   1.300000   3.200000   7.400000  \n",
       "std     29937.105556   0.483046   0.632456   1.349897  \n",
       "min      5000.000000   1.000000   3.000000   6.000000  \n",
       "25%      6624.750000   1.000000   3.000000   7.000000  \n",
       "50%      7356.000000   1.000000   3.000000   7.000000  \n",
       "75%      9303.250000   1.750000   3.000000   7.000000  \n",
       "max    101930.000000   2.000000   5.000000  11.000000  "
      ]
     },
     "execution_count": 5,
     "metadata": {},
     "output_type": "execute_result"
    }
   ],
   "source": [
    "nemovitosti_df.describe()"
   ]
  },
  {
   "cell_type": "markdown",
   "id": "23a1c6ee-d415-49d5-9a57-947ecc12a076",
   "metadata": {},
   "source": [
    "<br>\n",
    "\n",
    "Prvně vyberu sloupec, se kterým chci pracovat:"
   ]
  },
  {
   "cell_type": "code",
   "execution_count": 6,
   "id": "7b780b87-db4f-43ac-a67c-4d51ec0ded79",
   "metadata": {},
   "outputs": [
    {
     "data": {
      "text/plain": [
       "0     221900.0\n",
       "1     538000.0\n",
       "2     180000.0\n",
       "3     604000.0\n",
       "4     510000.0\n",
       "5    1225000.0\n",
       "6     257500.0\n",
       "7     291850.0\n",
       "8     229500.0\n",
       "9     323000.0\n",
       "Name: price, dtype: float64"
      ]
     },
     "execution_count": 6,
     "metadata": {},
     "output_type": "execute_result"
    }
   ],
   "source": [
    "nemovitosti_df.loc[:, \"price\"]"
   ]
  },
  {
   "cell_type": "code",
   "execution_count": 8,
   "id": "12a221bb-b541-4788-8d1b-be803b38c385",
   "metadata": {},
   "outputs": [
    {
     "data": {
      "text/plain": [
       "4380750.0"
      ]
     },
     "execution_count": 8,
     "metadata": {},
     "output_type": "execute_result"
    }
   ],
   "source": [
    "nemovitosti_df.loc[:, \"price\"].sum()"
   ]
  },
  {
   "cell_type": "markdown",
   "id": "da3f79c5-a426-4cdb-9401-6a3ef8f54ab6",
   "metadata": {},
   "source": [
    "<br>\n",
    "\n",
    "Často ale není dostačující, prozkoumat data pouze jednoduchých agregačních funkcí.\n",
    "\n",
    "Další operace, které je potřeba pochopit jsou seskupování dat podle zadaných parametrů."
   ]
  },
  {
   "cell_type": "markdown",
   "id": "e241bd57-5064-46a5-bc6e-61680b53c808",
   "metadata": {},
   "source": [
    "<br>\n",
    "\n",
    "### Složitější agregace, seskupování GROUPBY\n",
    "\n",
    "---\n",
    "\n",
    "Metoda `groupby`, původně operace z SQL jazyka, je v rámci knihovny `pandas` všestraný pomocník pro seskupování dat na základě různých kritérií."
   ]
  },
  {
   "cell_type": "code",
   "execution_count": 9,
   "id": "20acd864-49b5-48c0-863f-3897bace8b23",
   "metadata": {
    "tags": []
   },
   "outputs": [],
   "source": [
    "from pandas import DataFrame"
   ]
  },
  {
   "cell_type": "code",
   "execution_count": 10,
   "id": "14b73c76-eeb8-4c16-bd86-6f1271439b02",
   "metadata": {
    "tags": []
   },
   "outputs": [],
   "source": [
    "pokus_s_cisly_df = DataFrame(\n",
    "    {'klíč': ['A', 'B', 'C', 'A', 'B', 'C'],\n",
    "     'číselná hodnota': range(6)},\n",
    ")"
   ]
  },
  {
   "cell_type": "code",
   "execution_count": 11,
   "id": "2c864665-3353-4ec2-adf8-a415682d24b4",
   "metadata": {
    "tags": []
   },
   "outputs": [
    {
     "data": {
      "text/html": [
       "<div>\n",
       "<style scoped>\n",
       "    .dataframe tbody tr th:only-of-type {\n",
       "        vertical-align: middle;\n",
       "    }\n",
       "\n",
       "    .dataframe tbody tr th {\n",
       "        vertical-align: top;\n",
       "    }\n",
       "\n",
       "    .dataframe thead th {\n",
       "        text-align: right;\n",
       "    }\n",
       "</style>\n",
       "<table border=\"1\" class=\"dataframe\">\n",
       "  <thead>\n",
       "    <tr style=\"text-align: right;\">\n",
       "      <th></th>\n",
       "      <th>klíč</th>\n",
       "      <th>číselná hodnota</th>\n",
       "    </tr>\n",
       "  </thead>\n",
       "  <tbody>\n",
       "    <tr>\n",
       "      <th>0</th>\n",
       "      <td>A</td>\n",
       "      <td>0</td>\n",
       "    </tr>\n",
       "    <tr>\n",
       "      <th>1</th>\n",
       "      <td>B</td>\n",
       "      <td>1</td>\n",
       "    </tr>\n",
       "    <tr>\n",
       "      <th>2</th>\n",
       "      <td>C</td>\n",
       "      <td>2</td>\n",
       "    </tr>\n",
       "    <tr>\n",
       "      <th>3</th>\n",
       "      <td>A</td>\n",
       "      <td>3</td>\n",
       "    </tr>\n",
       "    <tr>\n",
       "      <th>4</th>\n",
       "      <td>B</td>\n",
       "      <td>4</td>\n",
       "    </tr>\n",
       "    <tr>\n",
       "      <th>5</th>\n",
       "      <td>C</td>\n",
       "      <td>5</td>\n",
       "    </tr>\n",
       "  </tbody>\n",
       "</table>\n",
       "</div>"
      ],
      "text/plain": [
       "  klíč  číselná hodnota\n",
       "0    A                0\n",
       "1    B                1\n",
       "2    C                2\n",
       "3    A                3\n",
       "4    B                4\n",
       "5    C                5"
      ]
     },
     "execution_count": 11,
     "metadata": {},
     "output_type": "execute_result"
    }
   ],
   "source": [
    "pokus_s_cisly_df"
   ]
  },
  {
   "cell_type": "markdown",
   "id": "52d0ac57-3bda-49ca-9d73-ffc628788ff9",
   "metadata": {},
   "source": [
    "#### Klasické seskupení podle sloupečku\n",
    "\n",
    "---"
   ]
  },
  {
   "cell_type": "code",
   "execution_count": null,
   "id": "42919025-6141-4ed6-bca7-a83cb8cb8030",
   "metadata": {},
   "outputs": [],
   "source": [
    "# pokus_s_cisly_df.groupby?"
   ]
  },
  {
   "cell_type": "code",
   "execution_count": 12,
   "id": "0be6f31e-16da-4233-a6a8-90b503214266",
   "metadata": {
    "tags": []
   },
   "outputs": [
    {
     "data": {
      "text/plain": [
       "<pandas.core.groupby.generic.DataFrameGroupBy object at 0x7fc50f036dc0>"
      ]
     },
     "execution_count": 12,
     "metadata": {},
     "output_type": "execute_result"
    }
   ],
   "source": [
    "pokus_s_cisly_df.groupby(\"klíč\")"
   ]
  },
  {
   "cell_type": "markdown",
   "id": "6e656d46-b566-4f40-856b-87a8ba546a5d",
   "metadata": {},
   "source": [
    "Jde opět o tzv. *lazy evaluation* proces, samotný nic neprovede, pouze čeká na pokyn uživatele, který samotnou agregaci spustí."
   ]
  },
  {
   "cell_type": "code",
   "execution_count": 13,
   "id": "3b2b6aaf-08b7-4a5c-a4dc-4335e65fe483",
   "metadata": {
    "tags": []
   },
   "outputs": [
    {
     "data": {
      "text/plain": [
       "pandas.core.groupby.generic.DataFrameGroupBy"
      ]
     },
     "execution_count": 13,
     "metadata": {},
     "output_type": "execute_result"
    }
   ],
   "source": [
    "type(pokus_s_cisly_df.groupby(\"klíč\"))"
   ]
  },
  {
   "cell_type": "markdown",
   "id": "54547df2-cc84-44c4-a56a-cebfdfa3b86e",
   "metadata": {},
   "source": [
    "Metoda standardně vrací `DataFrameGroupBy`."
   ]
  },
  {
   "cell_type": "code",
   "execution_count": 15,
   "id": "0726f811-5dd1-421d-b2f9-a4228f5c6378",
   "metadata": {},
   "outputs": [
    {
     "data": {
      "text/html": [
       "<div>\n",
       "<style scoped>\n",
       "    .dataframe tbody tr th:only-of-type {\n",
       "        vertical-align: middle;\n",
       "    }\n",
       "\n",
       "    .dataframe tbody tr th {\n",
       "        vertical-align: top;\n",
       "    }\n",
       "\n",
       "    .dataframe thead th {\n",
       "        text-align: right;\n",
       "    }\n",
       "</style>\n",
       "<table border=\"1\" class=\"dataframe\">\n",
       "  <thead>\n",
       "    <tr style=\"text-align: right;\">\n",
       "      <th></th>\n",
       "      <th>klíč</th>\n",
       "      <th>číselná hodnota</th>\n",
       "    </tr>\n",
       "  </thead>\n",
       "  <tbody>\n",
       "    <tr>\n",
       "      <th>0</th>\n",
       "      <td>A</td>\n",
       "      <td>0</td>\n",
       "    </tr>\n",
       "    <tr>\n",
       "      <th>1</th>\n",
       "      <td>B</td>\n",
       "      <td>1</td>\n",
       "    </tr>\n",
       "    <tr>\n",
       "      <th>2</th>\n",
       "      <td>C</td>\n",
       "      <td>2</td>\n",
       "    </tr>\n",
       "    <tr>\n",
       "      <th>3</th>\n",
       "      <td>A</td>\n",
       "      <td>3</td>\n",
       "    </tr>\n",
       "    <tr>\n",
       "      <th>4</th>\n",
       "      <td>B</td>\n",
       "      <td>4</td>\n",
       "    </tr>\n",
       "    <tr>\n",
       "      <th>5</th>\n",
       "      <td>C</td>\n",
       "      <td>5</td>\n",
       "    </tr>\n",
       "  </tbody>\n",
       "</table>\n",
       "</div>"
      ],
      "text/plain": [
       "  klíč  číselná hodnota\n",
       "0    A                0\n",
       "1    B                1\n",
       "2    C                2\n",
       "3    A                3\n",
       "4    B                4\n",
       "5    C                5"
      ]
     },
     "execution_count": 15,
     "metadata": {},
     "output_type": "execute_result"
    }
   ],
   "source": [
    "pokus_s_cisly_df"
   ]
  },
  {
   "cell_type": "code",
   "execution_count": 18,
   "id": "920354fd-ce01-4200-af58-284a4aa94c15",
   "metadata": {
    "tags": []
   },
   "outputs": [
    {
     "data": {
      "text/html": [
       "<div>\n",
       "<style scoped>\n",
       "    .dataframe tbody tr th:only-of-type {\n",
       "        vertical-align: middle;\n",
       "    }\n",
       "\n",
       "    .dataframe tbody tr th {\n",
       "        vertical-align: top;\n",
       "    }\n",
       "\n",
       "    .dataframe thead th {\n",
       "        text-align: right;\n",
       "    }\n",
       "</style>\n",
       "<table border=\"1\" class=\"dataframe\">\n",
       "  <thead>\n",
       "    <tr style=\"text-align: right;\">\n",
       "      <th></th>\n",
       "      <th>číselná hodnota</th>\n",
       "    </tr>\n",
       "    <tr>\n",
       "      <th>klíč</th>\n",
       "      <th></th>\n",
       "    </tr>\n",
       "  </thead>\n",
       "  <tbody>\n",
       "    <tr>\n",
       "      <th>A</th>\n",
       "      <td>3</td>\n",
       "    </tr>\n",
       "    <tr>\n",
       "      <th>B</th>\n",
       "      <td>4</td>\n",
       "    </tr>\n",
       "    <tr>\n",
       "      <th>C</th>\n",
       "      <td>5</td>\n",
       "    </tr>\n",
       "  </tbody>\n",
       "</table>\n",
       "</div>"
      ],
      "text/plain": [
       "      číselná hodnota\n",
       "klíč                 \n",
       "A                   3\n",
       "B                   4\n",
       "C                   5"
      ]
     },
     "execution_count": 18,
     "metadata": {},
     "output_type": "execute_result"
    }
   ],
   "source": [
    "pokus_s_cisly_df.groupby(\"klíč\").max()\n",
    "# max_pokus_s_cisly\n",
    "# count_pokus_s_cisly"
   ]
  },
  {
   "cell_type": "markdown",
   "id": "cba1df86-6f94-4058-8728-0eba430360f9",
   "metadata": {},
   "source": [
    "Metoda `sum()` je pouze jednou z možností, se kterou můžeš pracovat.\n",
    "\n",
    "<br>\n",
    "\n",
    "#### Sloupečkové označování\n",
    "\n",
    "---\n",
    "\n",
    "Stejně jako `DataFrame` můžeš označovat také *GroupBy* objekty."
   ]
  },
  {
   "cell_type": "code",
   "execution_count": 19,
   "id": "93f91a23-d51f-4f1a-a98f-2fcc5724daf6",
   "metadata": {
    "tags": []
   },
   "outputs": [
    {
     "data": {
      "text/html": [
       "<div>\n",
       "<style scoped>\n",
       "    .dataframe tbody tr th:only-of-type {\n",
       "        vertical-align: middle;\n",
       "    }\n",
       "\n",
       "    .dataframe tbody tr th {\n",
       "        vertical-align: top;\n",
       "    }\n",
       "\n",
       "    .dataframe thead th {\n",
       "        text-align: right;\n",
       "    }\n",
       "</style>\n",
       "<table border=\"1\" class=\"dataframe\">\n",
       "  <thead>\n",
       "    <tr style=\"text-align: right;\">\n",
       "      <th></th>\n",
       "      <th>klíč</th>\n",
       "      <th>číselná hodnota</th>\n",
       "    </tr>\n",
       "  </thead>\n",
       "  <tbody>\n",
       "    <tr>\n",
       "      <th>0</th>\n",
       "      <td>A</td>\n",
       "      <td>0</td>\n",
       "    </tr>\n",
       "    <tr>\n",
       "      <th>1</th>\n",
       "      <td>B</td>\n",
       "      <td>1</td>\n",
       "    </tr>\n",
       "    <tr>\n",
       "      <th>2</th>\n",
       "      <td>C</td>\n",
       "      <td>2</td>\n",
       "    </tr>\n",
       "    <tr>\n",
       "      <th>3</th>\n",
       "      <td>A</td>\n",
       "      <td>3</td>\n",
       "    </tr>\n",
       "    <tr>\n",
       "      <th>4</th>\n",
       "      <td>B</td>\n",
       "      <td>4</td>\n",
       "    </tr>\n",
       "    <tr>\n",
       "      <th>5</th>\n",
       "      <td>C</td>\n",
       "      <td>5</td>\n",
       "    </tr>\n",
       "  </tbody>\n",
       "</table>\n",
       "</div>"
      ],
      "text/plain": [
       "  klíč  číselná hodnota\n",
       "0    A                0\n",
       "1    B                1\n",
       "2    C                2\n",
       "3    A                3\n",
       "4    B                4\n",
       "5    C                5"
      ]
     },
     "execution_count": 19,
     "metadata": {},
     "output_type": "execute_result"
    }
   ],
   "source": [
    "pokus_s_cisly_df"
   ]
  },
  {
   "cell_type": "code",
   "execution_count": 20,
   "id": "2e0aa652-c0f9-432f-bd02-39a0931c59ef",
   "metadata": {
    "tags": []
   },
   "outputs": [
    {
     "data": {
      "text/plain": [
       "<pandas.core.groupby.generic.DataFrameGroupBy object at 0x7fc50efe8c40>"
      ]
     },
     "execution_count": 20,
     "metadata": {},
     "output_type": "execute_result"
    }
   ],
   "source": [
    "pokus_s_cisly_df.groupby(\"klíč\")"
   ]
  },
  {
   "cell_type": "code",
   "execution_count": 21,
   "id": "f17db876-a656-4451-859d-df6c2122d610",
   "metadata": {},
   "outputs": [
    {
     "data": {
      "text/plain": [
       "<pandas.core.groupby.generic.SeriesGroupBy object at 0x7fc50efe8a00>"
      ]
     },
     "execution_count": 21,
     "metadata": {},
     "output_type": "execute_result"
    }
   ],
   "source": [
    "pokus_s_cisly_df.groupby(\"klíč\")[\"číselná hodnota\"]"
   ]
  },
  {
   "cell_type": "code",
   "execution_count": 22,
   "id": "2c68689c-8310-42e4-9737-715d7a730f9a",
   "metadata": {
    "tags": []
   },
   "outputs": [
    {
     "data": {
      "text/plain": [
       "klíč\n",
       "A    3\n",
       "B    5\n",
       "C    7\n",
       "Name: číselná hodnota, dtype: int64"
      ]
     },
     "execution_count": 22,
     "metadata": {},
     "output_type": "execute_result"
    }
   ],
   "source": [
    "pokus_s_cisly_df.groupby(\"klíč\")[\"číselná hodnota\"].sum()"
   ]
  },
  {
   "cell_type": "markdown",
   "id": "9835b9db-eb25-4d94-bb5c-3f02b912c071",
   "metadata": {},
   "source": [
    "<br>\n",
    "\n",
    "V uplynulé ukázce je zadaná seskupování podle sloupečku `klíč`.\n",
    "\n",
    "Dále je vybraný pouze konkrétní sloupeček, na který chceš spustit metodu `sum`.\n",
    "\n",
    "<br>\n",
    "\n",
    "Pokud potřebuješ nad vybraným objektem provádět některé procesy ručně, můžeš přes *GroupBy* objekt **iterovat**:"
   ]
  },
  {
   "cell_type": "code",
   "execution_count": 23,
   "id": "6585af72-b9dd-411e-b727-68e8d5f533f6",
   "metadata": {
    "tags": []
   },
   "outputs": [
    {
     "name": "stdout",
     "output_type": "stream",
     "text": [
      "Klic: A; Hodnota=  klíč  číselná hodnota\n",
      "0    A                0\n",
      "3    A                3\n",
      "Klic: B; Hodnota=  klíč  číselná hodnota\n",
      "1    B                1\n",
      "4    B                4\n",
      "Klic: C; Hodnota=  klíč  číselná hodnota\n",
      "2    C                2\n",
      "5    C                5\n"
     ]
    }
   ],
   "source": [
    "for (klic, hodnota) in pokus_s_cisly_df.groupby(\"klíč\"):\n",
    "    print(f\"Klic: {klic}; Hodnota={hodnota}\")"
   ]
  },
  {
   "cell_type": "markdown",
   "id": "13ee2908-fe5e-43db-99ea-791abd04a794",
   "metadata": {},
   "source": [
    "<br>\n",
    "\n",
    "### Agregace s metodami\n",
    "\n",
    "---"
   ]
  },
  {
   "cell_type": "markdown",
   "id": "4729e567-808e-4bee-835d-633602fb35db",
   "metadata": {},
   "source": [
    "Kromě jednoduchých agregací, nabízí *GroupBy* řadu další funkcionality.\n",
    "\n",
    "Jde o metody:\n",
    "* `aggregate`,\n",
    "* `filter`,\n",
    "* `transform`,\n",
    "* `apply`."
   ]
  },
  {
   "cell_type": "markdown",
   "id": "58b0999f-b3b4-4918-b154-daa7894c36cb",
   "metadata": {},
   "source": [
    "#### Metoda AGGREGATE\n",
    "\n",
    "---"
   ]
  },
  {
   "cell_type": "code",
   "execution_count": 24,
   "id": "0881affd-e818-4154-a6c8-26cbbb97f063",
   "metadata": {
    "tags": []
   },
   "outputs": [],
   "source": [
    "import numpy"
   ]
  },
  {
   "cell_type": "code",
   "execution_count": 25,
   "id": "cd575442-b1c4-4262-b9a9-7162f2728b59",
   "metadata": {
    "tags": []
   },
   "outputs": [],
   "source": [
    "rng = numpy.random.RandomState(0)"
   ]
  },
  {
   "cell_type": "code",
   "execution_count": 26,
   "id": "84158798-45f8-4078-9dfa-f79c3d97e444",
   "metadata": {},
   "outputs": [],
   "source": [
    "from pandas import DataFrame"
   ]
  },
  {
   "cell_type": "code",
   "execution_count": 27,
   "id": "d431922d-f8ec-4719-87d1-833528345200",
   "metadata": {
    "tags": []
   },
   "outputs": [],
   "source": [
    "pokus_s_cisly_df = DataFrame(\n",
    "    {'klíč': ['A', 'B', 'C', 'A', 'B', 'C', 'C'],\n",
    "     'data_1': range(7),\n",
    "     'data_2': rng.randint(0, 10, 7)}\n",
    ")"
   ]
  },
  {
   "cell_type": "code",
   "execution_count": 28,
   "id": "07fbfe20-ed38-40c6-aeb0-bb11bcc46a6f",
   "metadata": {
    "tags": []
   },
   "outputs": [
    {
     "data": {
      "text/html": [
       "<div>\n",
       "<style scoped>\n",
       "    .dataframe tbody tr th:only-of-type {\n",
       "        vertical-align: middle;\n",
       "    }\n",
       "\n",
       "    .dataframe tbody tr th {\n",
       "        vertical-align: top;\n",
       "    }\n",
       "\n",
       "    .dataframe thead th {\n",
       "        text-align: right;\n",
       "    }\n",
       "</style>\n",
       "<table border=\"1\" class=\"dataframe\">\n",
       "  <thead>\n",
       "    <tr style=\"text-align: right;\">\n",
       "      <th></th>\n",
       "      <th>klíč</th>\n",
       "      <th>data_1</th>\n",
       "      <th>data_2</th>\n",
       "    </tr>\n",
       "  </thead>\n",
       "  <tbody>\n",
       "    <tr>\n",
       "      <th>0</th>\n",
       "      <td>A</td>\n",
       "      <td>0</td>\n",
       "      <td>5</td>\n",
       "    </tr>\n",
       "    <tr>\n",
       "      <th>1</th>\n",
       "      <td>B</td>\n",
       "      <td>1</td>\n",
       "      <td>0</td>\n",
       "    </tr>\n",
       "    <tr>\n",
       "      <th>2</th>\n",
       "      <td>C</td>\n",
       "      <td>2</td>\n",
       "      <td>3</td>\n",
       "    </tr>\n",
       "    <tr>\n",
       "      <th>3</th>\n",
       "      <td>A</td>\n",
       "      <td>3</td>\n",
       "      <td>3</td>\n",
       "    </tr>\n",
       "    <tr>\n",
       "      <th>4</th>\n",
       "      <td>B</td>\n",
       "      <td>4</td>\n",
       "      <td>7</td>\n",
       "    </tr>\n",
       "    <tr>\n",
       "      <th>5</th>\n",
       "      <td>C</td>\n",
       "      <td>5</td>\n",
       "      <td>9</td>\n",
       "    </tr>\n",
       "    <tr>\n",
       "      <th>6</th>\n",
       "      <td>C</td>\n",
       "      <td>6</td>\n",
       "      <td>3</td>\n",
       "    </tr>\n",
       "  </tbody>\n",
       "</table>\n",
       "</div>"
      ],
      "text/plain": [
       "  klíč  data_1  data_2\n",
       "0    A       0       5\n",
       "1    B       1       0\n",
       "2    C       2       3\n",
       "3    A       3       3\n",
       "4    B       4       7\n",
       "5    C       5       9\n",
       "6    C       6       3"
      ]
     },
     "execution_count": 28,
     "metadata": {},
     "output_type": "execute_result"
    }
   ],
   "source": [
    "pokus_s_cisly_df"
   ]
  },
  {
   "cell_type": "markdown",
   "id": "1364a9ee-be4d-484a-8629-a651c29e3559",
   "metadata": {},
   "source": [
    "Statistické metody určitě nabízí spousty pomůcek.\n",
    "\n",
    "Objekt typu *GroupBy* umí pracovat také s funkcemi, stringy a celými listy."
   ]
  },
  {
   "cell_type": "code",
   "execution_count": 29,
   "id": "16b3b939-911c-4df0-80f2-bd57daec2911",
   "metadata": {
    "tags": []
   },
   "outputs": [
    {
     "data": {
      "text/html": [
       "<div>\n",
       "<style scoped>\n",
       "    .dataframe tbody tr th:only-of-type {\n",
       "        vertical-align: middle;\n",
       "    }\n",
       "\n",
       "    .dataframe tbody tr th {\n",
       "        vertical-align: top;\n",
       "    }\n",
       "\n",
       "    .dataframe thead th {\n",
       "        text-align: right;\n",
       "    }\n",
       "</style>\n",
       "<table border=\"1\" class=\"dataframe\">\n",
       "  <thead>\n",
       "    <tr style=\"text-align: right;\">\n",
       "      <th></th>\n",
       "      <th>data_1</th>\n",
       "      <th>data_2</th>\n",
       "    </tr>\n",
       "    <tr>\n",
       "      <th>klíč</th>\n",
       "      <th></th>\n",
       "      <th></th>\n",
       "    </tr>\n",
       "  </thead>\n",
       "  <tbody>\n",
       "    <tr>\n",
       "      <th>A</th>\n",
       "      <td>3</td>\n",
       "      <td>8</td>\n",
       "    </tr>\n",
       "    <tr>\n",
       "      <th>B</th>\n",
       "      <td>5</td>\n",
       "      <td>7</td>\n",
       "    </tr>\n",
       "    <tr>\n",
       "      <th>C</th>\n",
       "      <td>13</td>\n",
       "      <td>15</td>\n",
       "    </tr>\n",
       "  </tbody>\n",
       "</table>\n",
       "</div>"
      ],
      "text/plain": [
       "      data_1  data_2\n",
       "klíč                \n",
       "A          3       8\n",
       "B          5       7\n",
       "C         13      15"
      ]
     },
     "execution_count": 29,
     "metadata": {},
     "output_type": "execute_result"
    }
   ],
   "source": [
    "pokus_s_cisly_df.groupby(\"klíč\").aggregate(\"sum\")  # .sum()"
   ]
  },
  {
   "cell_type": "code",
   "execution_count": 30,
   "id": "c86fa19a-c634-403a-8124-090c359a561d",
   "metadata": {
    "tags": []
   },
   "outputs": [
    {
     "data": {
      "text/html": [
       "<div>\n",
       "<style scoped>\n",
       "    .dataframe tbody tr th:only-of-type {\n",
       "        vertical-align: middle;\n",
       "    }\n",
       "\n",
       "    .dataframe tbody tr th {\n",
       "        vertical-align: top;\n",
       "    }\n",
       "\n",
       "    .dataframe thead th {\n",
       "        text-align: right;\n",
       "    }\n",
       "</style>\n",
       "<table border=\"1\" class=\"dataframe\">\n",
       "  <thead>\n",
       "    <tr style=\"text-align: right;\">\n",
       "      <th></th>\n",
       "      <th>data_1</th>\n",
       "      <th>data_2</th>\n",
       "    </tr>\n",
       "    <tr>\n",
       "      <th>klíč</th>\n",
       "      <th></th>\n",
       "      <th></th>\n",
       "    </tr>\n",
       "  </thead>\n",
       "  <tbody>\n",
       "    <tr>\n",
       "      <th>A</th>\n",
       "      <td>1.5</td>\n",
       "      <td>4.0</td>\n",
       "    </tr>\n",
       "    <tr>\n",
       "      <th>B</th>\n",
       "      <td>2.5</td>\n",
       "      <td>3.5</td>\n",
       "    </tr>\n",
       "    <tr>\n",
       "      <th>C</th>\n",
       "      <td>5.0</td>\n",
       "      <td>3.0</td>\n",
       "    </tr>\n",
       "  </tbody>\n",
       "</table>\n",
       "</div>"
      ],
      "text/plain": [
       "      data_1  data_2\n",
       "klíč                \n",
       "A        1.5     4.0\n",
       "B        2.5     3.5\n",
       "C        5.0     3.0"
      ]
     },
     "execution_count": 30,
     "metadata": {},
     "output_type": "execute_result"
    }
   ],
   "source": [
    "pokus_s_cisly_df.groupby(\"klíč\").aggregate(numpy.median)"
   ]
  },
  {
   "cell_type": "code",
   "execution_count": 31,
   "id": "40e2f7ed-ecd9-4087-a474-39f23e918431",
   "metadata": {
    "tags": []
   },
   "outputs": [
    {
     "data": {
      "text/html": [
       "<div>\n",
       "<style scoped>\n",
       "    .dataframe tbody tr th:only-of-type {\n",
       "        vertical-align: middle;\n",
       "    }\n",
       "\n",
       "    .dataframe tbody tr th {\n",
       "        vertical-align: top;\n",
       "    }\n",
       "\n",
       "    .dataframe thead tr th {\n",
       "        text-align: left;\n",
       "    }\n",
       "\n",
       "    .dataframe thead tr:last-of-type th {\n",
       "        text-align: right;\n",
       "    }\n",
       "</style>\n",
       "<table border=\"1\" class=\"dataframe\">\n",
       "  <thead>\n",
       "    <tr>\n",
       "      <th></th>\n",
       "      <th colspan=\"3\" halign=\"left\">data_1</th>\n",
       "      <th colspan=\"3\" halign=\"left\">data_2</th>\n",
       "    </tr>\n",
       "    <tr>\n",
       "      <th></th>\n",
       "      <th>min</th>\n",
       "      <th>median</th>\n",
       "      <th>max</th>\n",
       "      <th>min</th>\n",
       "      <th>median</th>\n",
       "      <th>max</th>\n",
       "    </tr>\n",
       "    <tr>\n",
       "      <th>klíč</th>\n",
       "      <th></th>\n",
       "      <th></th>\n",
       "      <th></th>\n",
       "      <th></th>\n",
       "      <th></th>\n",
       "      <th></th>\n",
       "    </tr>\n",
       "  </thead>\n",
       "  <tbody>\n",
       "    <tr>\n",
       "      <th>A</th>\n",
       "      <td>0</td>\n",
       "      <td>1.5</td>\n",
       "      <td>3</td>\n",
       "      <td>3</td>\n",
       "      <td>4.0</td>\n",
       "      <td>5</td>\n",
       "    </tr>\n",
       "    <tr>\n",
       "      <th>B</th>\n",
       "      <td>1</td>\n",
       "      <td>2.5</td>\n",
       "      <td>4</td>\n",
       "      <td>0</td>\n",
       "      <td>3.5</td>\n",
       "      <td>7</td>\n",
       "    </tr>\n",
       "    <tr>\n",
       "      <th>C</th>\n",
       "      <td>2</td>\n",
       "      <td>5.0</td>\n",
       "      <td>6</td>\n",
       "      <td>3</td>\n",
       "      <td>3.0</td>\n",
       "      <td>9</td>\n",
       "    </tr>\n",
       "  </tbody>\n",
       "</table>\n",
       "</div>"
      ],
      "text/plain": [
       "     data_1            data_2           \n",
       "        min median max    min median max\n",
       "klíč                                    \n",
       "A         0    1.5   3      3    4.0   5\n",
       "B         1    2.5   4      0    3.5   7\n",
       "C         2    5.0   6      3    3.0   9"
      ]
     },
     "execution_count": 31,
     "metadata": {},
     "output_type": "execute_result"
    }
   ],
   "source": [
    "pokus_s_cisly_df.groupby(\"klíč\").aggregate([\"min\", numpy.median, max])"
   ]
  },
  {
   "cell_type": "markdown",
   "id": "cf584b9c-7429-43e0-9602-95bb63f40fb1",
   "metadata": {},
   "source": [
    "<br>\n",
    "\n",
    "Metoda `aggregate`umožní vytvořit tzv. *podsloupce*.\n",
    "\n",
    "Také umožní elegantně spojit různé matematické funkce (př. `min`, `\"min\"`, `numpy.min`)."
   ]
  },
  {
   "cell_type": "markdown",
   "id": "586ea9c3-dde5-4e90-9271-0ed92dd1fa75",
   "metadata": {},
   "source": [
    "<br>\n",
    "\n",
    "Pokud neuložím nově seskupenou tabulku/sloupec, potom data neuchovám.\n",
    "\n",
    "Metoda `groupby` **neupravuje zdrojová data**."
   ]
  },
  {
   "cell_type": "code",
   "execution_count": 33,
   "id": "25990759-86cf-469d-8946-6c45e3322811",
   "metadata": {
    "tags": []
   },
   "outputs": [
    {
     "data": {
      "text/html": [
       "<div>\n",
       "<style scoped>\n",
       "    .dataframe tbody tr th:only-of-type {\n",
       "        vertical-align: middle;\n",
       "    }\n",
       "\n",
       "    .dataframe tbody tr th {\n",
       "        vertical-align: top;\n",
       "    }\n",
       "\n",
       "    .dataframe thead th {\n",
       "        text-align: right;\n",
       "    }\n",
       "</style>\n",
       "<table border=\"1\" class=\"dataframe\">\n",
       "  <thead>\n",
       "    <tr style=\"text-align: right;\">\n",
       "      <th></th>\n",
       "      <th>klíč</th>\n",
       "      <th>data_1</th>\n",
       "      <th>data_2</th>\n",
       "    </tr>\n",
       "  </thead>\n",
       "  <tbody>\n",
       "    <tr>\n",
       "      <th>0</th>\n",
       "      <td>A</td>\n",
       "      <td>0</td>\n",
       "      <td>5</td>\n",
       "    </tr>\n",
       "    <tr>\n",
       "      <th>1</th>\n",
       "      <td>B</td>\n",
       "      <td>1</td>\n",
       "      <td>0</td>\n",
       "    </tr>\n",
       "    <tr>\n",
       "      <th>2</th>\n",
       "      <td>C</td>\n",
       "      <td>2</td>\n",
       "      <td>3</td>\n",
       "    </tr>\n",
       "    <tr>\n",
       "      <th>3</th>\n",
       "      <td>A</td>\n",
       "      <td>3</td>\n",
       "      <td>3</td>\n",
       "    </tr>\n",
       "    <tr>\n",
       "      <th>4</th>\n",
       "      <td>B</td>\n",
       "      <td>4</td>\n",
       "      <td>7</td>\n",
       "    </tr>\n",
       "    <tr>\n",
       "      <th>5</th>\n",
       "      <td>C</td>\n",
       "      <td>5</td>\n",
       "      <td>9</td>\n",
       "    </tr>\n",
       "    <tr>\n",
       "      <th>6</th>\n",
       "      <td>C</td>\n",
       "      <td>6</td>\n",
       "      <td>3</td>\n",
       "    </tr>\n",
       "  </tbody>\n",
       "</table>\n",
       "</div>"
      ],
      "text/plain": [
       "  klíč  data_1  data_2\n",
       "0    A       0       5\n",
       "1    B       1       0\n",
       "2    C       2       3\n",
       "3    A       3       3\n",
       "4    B       4       7\n",
       "5    C       5       9\n",
       "6    C       6       3"
      ]
     },
     "execution_count": 33,
     "metadata": {},
     "output_type": "execute_result"
    }
   ],
   "source": [
    "pokus_s_cisly_df"
   ]
  },
  {
   "cell_type": "markdown",
   "id": "19339b8f-447b-41fa-a23b-468ab00bdfb7",
   "metadata": {},
   "source": [
    "Můžeš říct, že metoda `aggregate` se používá k aplikaci **jedné nebo více agregačních funkcí na seskupená data**."
   ]
  },
  {
   "cell_type": "markdown",
   "id": "355d42b2-1c5c-4748-bc39-9b23c84e4541",
   "metadata": {},
   "source": [
    "TODO: Upravit na formát tabulky\n",
    "```\n",
    "pobocka,ovoce,prodane_mnozstvi,cena\n",
    "A,apple,10,20\n",
    "A,banana,15,12\n",
    "B,apple,8,22\n",
    "B,banana,30,10\n",
    "C,apple,20,18\n",
    "C,banana,25,15\n",
    "```"
   ]
  },
  {
   "cell_type": "markdown",
   "id": "b49408d3-8f91-4c7b-8671-9bd26ad169a8",
   "metadata": {},
   "source": [
    "| pobocka | ovoce | prodane_mnozstvi | cena |\n",
    "| :- | :- | :- | :- |\n",
    "| A | apple | 10 | 20 |"
   ]
  },
  {
   "cell_type": "code",
   "execution_count": 34,
   "id": "bbda8c64-5e2e-474b-ab99-401e8e2168b9",
   "metadata": {
    "tags": []
   },
   "outputs": [],
   "source": [
    "ovoce_data = {\n",
    "    'pobocka': ['A', 'A', 'B', 'B', 'C', 'C'],\n",
    "    'ovoce': ['jablko', 'banan', 'jablko', 'banan', 'jablko', 'banan'],\n",
    "    'prodane_mnozstvi': [10, 15, 8, 30, 20, 25],\n",
    "    'cena': [20, 12, 22, 10, 18, 15]\n",
    "}"
   ]
  },
  {
   "cell_type": "code",
   "execution_count": 35,
   "id": "df68a2c1-4105-4116-a2e7-21f785577f4d",
   "metadata": {},
   "outputs": [
    {
     "data": {
      "text/plain": [
       "dict_keys(['pobocka', 'ovoce', 'prodane_mnozstvi', 'cena'])"
      ]
     },
     "execution_count": 35,
     "metadata": {},
     "output_type": "execute_result"
    }
   ],
   "source": [
    "ovoce_data.keys()"
   ]
  },
  {
   "cell_type": "code",
   "execution_count": 36,
   "id": "935e3878-e99d-4cb2-a862-3537e5ed4a84",
   "metadata": {
    "tags": []
   },
   "outputs": [],
   "source": [
    "ovoce_df = DataFrame(ovoce_data)"
   ]
  },
  {
   "cell_type": "code",
   "execution_count": 40,
   "id": "c79ece68-d7cd-4277-842f-881e20a41696",
   "metadata": {
    "tags": []
   },
   "outputs": [
    {
     "data": {
      "text/html": [
       "<div>\n",
       "<style scoped>\n",
       "    .dataframe tbody tr th:only-of-type {\n",
       "        vertical-align: middle;\n",
       "    }\n",
       "\n",
       "    .dataframe tbody tr th {\n",
       "        vertical-align: top;\n",
       "    }\n",
       "\n",
       "    .dataframe thead th {\n",
       "        text-align: right;\n",
       "    }\n",
       "</style>\n",
       "<table border=\"1\" class=\"dataframe\">\n",
       "  <thead>\n",
       "    <tr style=\"text-align: right;\">\n",
       "      <th></th>\n",
       "      <th>pobocka</th>\n",
       "      <th>ovoce</th>\n",
       "      <th>prodane_mnozstvi</th>\n",
       "      <th>cena</th>\n",
       "    </tr>\n",
       "  </thead>\n",
       "  <tbody>\n",
       "    <tr>\n",
       "      <th>0</th>\n",
       "      <td>A</td>\n",
       "      <td>jablko</td>\n",
       "      <td>10</td>\n",
       "      <td>20</td>\n",
       "    </tr>\n",
       "    <tr>\n",
       "      <th>1</th>\n",
       "      <td>A</td>\n",
       "      <td>banan</td>\n",
       "      <td>15</td>\n",
       "      <td>12</td>\n",
       "    </tr>\n",
       "    <tr>\n",
       "      <th>2</th>\n",
       "      <td>B</td>\n",
       "      <td>jablko</td>\n",
       "      <td>8</td>\n",
       "      <td>22</td>\n",
       "    </tr>\n",
       "    <tr>\n",
       "      <th>3</th>\n",
       "      <td>B</td>\n",
       "      <td>banan</td>\n",
       "      <td>30</td>\n",
       "      <td>10</td>\n",
       "    </tr>\n",
       "    <tr>\n",
       "      <th>4</th>\n",
       "      <td>C</td>\n",
       "      <td>jablko</td>\n",
       "      <td>20</td>\n",
       "      <td>18</td>\n",
       "    </tr>\n",
       "    <tr>\n",
       "      <th>5</th>\n",
       "      <td>C</td>\n",
       "      <td>banan</td>\n",
       "      <td>25</td>\n",
       "      <td>15</td>\n",
       "    </tr>\n",
       "  </tbody>\n",
       "</table>\n",
       "</div>"
      ],
      "text/plain": [
       "  pobocka   ovoce  prodane_mnozstvi  cena\n",
       "0       A  jablko                10    20\n",
       "1       A   banan                15    12\n",
       "2       B  jablko                 8    22\n",
       "3       B   banan                30    10\n",
       "4       C  jablko                20    18\n",
       "5       C   banan                25    15"
      ]
     },
     "execution_count": 40,
     "metadata": {},
     "output_type": "execute_result"
    }
   ],
   "source": [
    "ovoce_df.head(6)"
   ]
  },
  {
   "cell_type": "code",
   "execution_count": 42,
   "id": "0a3efeb5-29cd-4447-bb81-2493ba3285de",
   "metadata": {
    "tags": []
   },
   "outputs": [
    {
     "data": {
      "text/html": [
       "<div>\n",
       "<style scoped>\n",
       "    .dataframe tbody tr th:only-of-type {\n",
       "        vertical-align: middle;\n",
       "    }\n",
       "\n",
       "    .dataframe tbody tr th {\n",
       "        vertical-align: top;\n",
       "    }\n",
       "\n",
       "    .dataframe thead tr th {\n",
       "        text-align: left;\n",
       "    }\n",
       "\n",
       "    .dataframe thead tr:last-of-type th {\n",
       "        text-align: right;\n",
       "    }\n",
       "</style>\n",
       "<table border=\"1\" class=\"dataframe\">\n",
       "  <thead>\n",
       "    <tr>\n",
       "      <th></th>\n",
       "      <th colspan=\"3\" halign=\"left\">prodane_mnozstvi</th>\n",
       "    </tr>\n",
       "    <tr>\n",
       "      <th></th>\n",
       "      <th>min</th>\n",
       "      <th>median</th>\n",
       "      <th>max</th>\n",
       "    </tr>\n",
       "    <tr>\n",
       "      <th>pobocka</th>\n",
       "      <th></th>\n",
       "      <th></th>\n",
       "      <th></th>\n",
       "    </tr>\n",
       "  </thead>\n",
       "  <tbody>\n",
       "    <tr>\n",
       "      <th>A</th>\n",
       "      <td>10</td>\n",
       "      <td>12.5</td>\n",
       "      <td>15</td>\n",
       "    </tr>\n",
       "    <tr>\n",
       "      <th>B</th>\n",
       "      <td>8</td>\n",
       "      <td>19.0</td>\n",
       "      <td>30</td>\n",
       "    </tr>\n",
       "    <tr>\n",
       "      <th>C</th>\n",
       "      <td>20</td>\n",
       "      <td>22.5</td>\n",
       "      <td>25</td>\n",
       "    </tr>\n",
       "  </tbody>\n",
       "</table>\n",
       "</div>"
      ],
      "text/plain": [
       "        prodane_mnozstvi           \n",
       "                     min median max\n",
       "pobocka                            \n",
       "A                     10   12.5  15\n",
       "B                      8   19.0  30\n",
       "C                     20   22.5  25"
      ]
     },
     "execution_count": 42,
     "metadata": {},
     "output_type": "execute_result"
    }
   ],
   "source": [
    "ovoce_df.groupby('pobocka').aggregate({'prodane_mnozstvi': [\"min\", numpy.median, max]})"
   ]
  },
  {
   "cell_type": "markdown",
   "id": "69046fb3-2ca0-4ebf-ab37-aa074b11ddf3",
   "metadata": {},
   "source": [
    "Pro jednodušší analýzu stačí vybrat sloupec:"
   ]
  },
  {
   "cell_type": "code",
   "execution_count": 46,
   "id": "7f0659c9-d771-42f5-bd0c-7f4770ceb112",
   "metadata": {
    "tags": []
   },
   "outputs": [
    {
     "data": {
      "text/plain": [
       "pobocka\n",
       "A    25\n",
       "B    38\n",
       "C    45\n",
       "Name: prodane_mnozstvi, dtype: int64"
      ]
     },
     "execution_count": 46,
     "metadata": {},
     "output_type": "execute_result"
    }
   ],
   "source": [
    "ovoce_df.groupby('pobocka')['prodane_mnozstvi'].sum()"
   ]
  },
  {
   "cell_type": "markdown",
   "id": "9f7ff660-d54a-47c8-8e99-6697285e0049",
   "metadata": {},
   "source": [
    "<br>\n",
    "\n",
    "Je nutné vždy ověřit výstup po agregaci, jestli jsem správně vybral metody:"
   ]
  },
  {
   "cell_type": "code",
   "execution_count": 45,
   "id": "222dd8a4-55ef-49fa-8255-abeeb4dc6b61",
   "metadata": {
    "tags": []
   },
   "outputs": [
    {
     "data": {
      "text/html": [
       "<div>\n",
       "<style scoped>\n",
       "    .dataframe tbody tr th:only-of-type {\n",
       "        vertical-align: middle;\n",
       "    }\n",
       "\n",
       "    .dataframe tbody tr th {\n",
       "        vertical-align: top;\n",
       "    }\n",
       "\n",
       "    .dataframe thead th {\n",
       "        text-align: right;\n",
       "    }\n",
       "</style>\n",
       "<table border=\"1\" class=\"dataframe\">\n",
       "  <thead>\n",
       "    <tr style=\"text-align: right;\">\n",
       "      <th></th>\n",
       "      <th>ovoce</th>\n",
       "      <th>prodane_mnozstvi</th>\n",
       "      <th>cena</th>\n",
       "    </tr>\n",
       "    <tr>\n",
       "      <th>pobocka</th>\n",
       "      <th></th>\n",
       "      <th></th>\n",
       "      <th></th>\n",
       "    </tr>\n",
       "  </thead>\n",
       "  <tbody>\n",
       "    <tr>\n",
       "      <th>A</th>\n",
       "      <td>jablkobanan</td>\n",
       "      <td>25</td>\n",
       "      <td>32</td>\n",
       "    </tr>\n",
       "    <tr>\n",
       "      <th>B</th>\n",
       "      <td>jablkobanan</td>\n",
       "      <td>38</td>\n",
       "      <td>32</td>\n",
       "    </tr>\n",
       "    <tr>\n",
       "      <th>C</th>\n",
       "      <td>jablkobanan</td>\n",
       "      <td>45</td>\n",
       "      <td>33</td>\n",
       "    </tr>\n",
       "  </tbody>\n",
       "</table>\n",
       "</div>"
      ],
      "text/plain": [
       "               ovoce  prodane_mnozstvi  cena\n",
       "pobocka                                     \n",
       "A        jablkobanan                25    32\n",
       "B        jablkobanan                38    32\n",
       "C        jablkobanan                45    33"
      ]
     },
     "execution_count": 45,
     "metadata": {},
     "output_type": "execute_result"
    }
   ],
   "source": [
    "ovoce_df.groupby('pobocka').sum()"
   ]
  },
  {
   "cell_type": "code",
   "execution_count": 47,
   "id": "f03edfa6-402a-4a74-948b-7603e2fa2844",
   "metadata": {
    "tags": []
   },
   "outputs": [
    {
     "data": {
      "text/html": [
       "<div>\n",
       "<style scoped>\n",
       "    .dataframe tbody tr th:only-of-type {\n",
       "        vertical-align: middle;\n",
       "    }\n",
       "\n",
       "    .dataframe tbody tr th {\n",
       "        vertical-align: top;\n",
       "    }\n",
       "\n",
       "    .dataframe thead th {\n",
       "        text-align: right;\n",
       "    }\n",
       "</style>\n",
       "<table border=\"1\" class=\"dataframe\">\n",
       "  <thead>\n",
       "    <tr style=\"text-align: right;\">\n",
       "      <th></th>\n",
       "      <th>prodane_mnozstvi</th>\n",
       "      <th>cena</th>\n",
       "    </tr>\n",
       "    <tr>\n",
       "      <th>pobocka</th>\n",
       "      <th></th>\n",
       "      <th></th>\n",
       "    </tr>\n",
       "  </thead>\n",
       "  <tbody>\n",
       "    <tr>\n",
       "      <th>A</th>\n",
       "      <td>25</td>\n",
       "      <td>16.0</td>\n",
       "    </tr>\n",
       "    <tr>\n",
       "      <th>B</th>\n",
       "      <td>38</td>\n",
       "      <td>16.0</td>\n",
       "    </tr>\n",
       "    <tr>\n",
       "      <th>C</th>\n",
       "      <td>45</td>\n",
       "      <td>16.5</td>\n",
       "    </tr>\n",
       "  </tbody>\n",
       "</table>\n",
       "</div>"
      ],
      "text/plain": [
       "         prodane_mnozstvi  cena\n",
       "pobocka                        \n",
       "A                      25  16.0\n",
       "B                      38  16.0\n",
       "C                      45  16.5"
      ]
     },
     "execution_count": 47,
     "metadata": {},
     "output_type": "execute_result"
    }
   ],
   "source": [
    "ovoce_df.groupby('pobocka').aggregate({'prodane_mnozstvi': sum, 'cena': 'mean'})"
   ]
  },
  {
   "cell_type": "markdown",
   "id": "690b293d-169d-4034-98fb-172d525658f3",
   "metadata": {},
   "source": [
    "1. Nejprve jsou hodnoty seskupení podle sloupce `pobocka`,\n",
    "2. poté specifikuješ pomocí `aggregate` funkce a sloupce,\n",
    "3. .. tedy sumarizovat hodnoty v `prodane_mnozstvi` a získat průměr `cena` pro každou pobočku."
   ]
  },
  {
   "cell_type": "markdown",
   "id": "8cb02ebc-5bea-48d7-a8c0-340527bf01df",
   "metadata": {},
   "source": [
    "### Metoda FILTER\n",
    "\n",
    "---"
   ]
  },
  {
   "cell_type": "markdown",
   "id": "fa2bea35-0adb-4bd4-b406-32809cb598f8",
   "metadata": {},
   "source": [
    "Filtrování ti umožní zahodit takové údaje, které nesplňují zadanou podmínku."
   ]
  },
  {
   "cell_type": "markdown",
   "id": "82671f5d-89c6-440a-a1d9-bae89021efd4",
   "metadata": {},
   "source": [
    "Metoda `filter` se používá k vybrání **seskupených dat** podle splnění **určité podmínky**.\n",
    "\n",
    "Představme si, že máme následující dataset s informacemi o prodeji ovoce v různých obchodech:"
   ]
  },
  {
   "cell_type": "markdown",
   "id": "3ce8cd0d-fa40-4ce0-a03e-70e8184f8712",
   "metadata": {},
   "source": [
    "```\n",
    "pobocka,ovoce,prodane_mnozstvi,cena\n",
    "A,apple,10,20\n",
    "A,banana,15,12\n",
    "B,apple,8,22\n",
    "B,banana,30,10\n",
    "C,apple,20,18\n",
    "C,banana,25,15\n",
    "```"
   ]
  },
  {
   "cell_type": "code",
   "execution_count": 48,
   "id": "0adbf360-802b-4ceb-a093-601ccbe12fa6",
   "metadata": {
    "tags": []
   },
   "outputs": [],
   "source": [
    "ovoce_data = {\n",
    "    'pobocka': ['A', 'A', 'B', 'B', 'C', 'C'],\n",
    "    'ovoce': ['jablko', 'banan', 'jablko', 'banan', 'jablko', 'banan'],\n",
    "    'prodane_mnozstvi': [10, 15, 8, 30, 20, 25],\n",
    "    'cena': [20, 12, 22, 10, 18, 15]\n",
    "}"
   ]
  },
  {
   "cell_type": "code",
   "execution_count": 49,
   "id": "aa60049f-396f-4eb8-bb9b-d792a13b3160",
   "metadata": {},
   "outputs": [],
   "source": [
    "ovoce_df = DataFrame(ovoce_data)"
   ]
  },
  {
   "cell_type": "code",
   "execution_count": 50,
   "id": "995323de-5f18-497f-b4ad-db2386345c8a",
   "metadata": {
    "tags": []
   },
   "outputs": [
    {
     "data": {
      "text/html": [
       "<div>\n",
       "<style scoped>\n",
       "    .dataframe tbody tr th:only-of-type {\n",
       "        vertical-align: middle;\n",
       "    }\n",
       "\n",
       "    .dataframe tbody tr th {\n",
       "        vertical-align: top;\n",
       "    }\n",
       "\n",
       "    .dataframe thead th {\n",
       "        text-align: right;\n",
       "    }\n",
       "</style>\n",
       "<table border=\"1\" class=\"dataframe\">\n",
       "  <thead>\n",
       "    <tr style=\"text-align: right;\">\n",
       "      <th></th>\n",
       "      <th>pobocka</th>\n",
       "      <th>ovoce</th>\n",
       "      <th>prodane_mnozstvi</th>\n",
       "      <th>cena</th>\n",
       "    </tr>\n",
       "  </thead>\n",
       "  <tbody>\n",
       "    <tr>\n",
       "      <th>0</th>\n",
       "      <td>A</td>\n",
       "      <td>jablko</td>\n",
       "      <td>10</td>\n",
       "      <td>20</td>\n",
       "    </tr>\n",
       "    <tr>\n",
       "      <th>1</th>\n",
       "      <td>A</td>\n",
       "      <td>banan</td>\n",
       "      <td>15</td>\n",
       "      <td>12</td>\n",
       "    </tr>\n",
       "    <tr>\n",
       "      <th>2</th>\n",
       "      <td>B</td>\n",
       "      <td>jablko</td>\n",
       "      <td>8</td>\n",
       "      <td>22</td>\n",
       "    </tr>\n",
       "    <tr>\n",
       "      <th>3</th>\n",
       "      <td>B</td>\n",
       "      <td>banan</td>\n",
       "      <td>30</td>\n",
       "      <td>10</td>\n",
       "    </tr>\n",
       "    <tr>\n",
       "      <th>4</th>\n",
       "      <td>C</td>\n",
       "      <td>jablko</td>\n",
       "      <td>20</td>\n",
       "      <td>18</td>\n",
       "    </tr>\n",
       "    <tr>\n",
       "      <th>5</th>\n",
       "      <td>C</td>\n",
       "      <td>banan</td>\n",
       "      <td>25</td>\n",
       "      <td>15</td>\n",
       "    </tr>\n",
       "  </tbody>\n",
       "</table>\n",
       "</div>"
      ],
      "text/plain": [
       "  pobocka   ovoce  prodane_mnozstvi  cena\n",
       "0       A  jablko                10    20\n",
       "1       A   banan                15    12\n",
       "2       B  jablko                 8    22\n",
       "3       B   banan                30    10\n",
       "4       C  jablko                20    18\n",
       "5       C   banan                25    15"
      ]
     },
     "execution_count": 50,
     "metadata": {},
     "output_type": "execute_result"
    }
   ],
   "source": [
    "ovoce_df"
   ]
  },
  {
   "cell_type": "code",
   "execution_count": 51,
   "id": "a730c7b4-cbcf-4e08-b688-e4807ea5e94e",
   "metadata": {
    "tags": []
   },
   "outputs": [],
   "source": [
    "def vyber_s_prodejem_nad_limit(data, limit=30):\n",
    "    return data['prodane_mnozstvi'].sum() > limit"
   ]
  },
  {
   "cell_type": "markdown",
   "id": "b938355f-107c-465a-95c3-79bd96c59a64",
   "metadata": {},
   "source": [
    "<br>\n",
    "\n",
    "Funkce `vyber_s_prodejem_nad_limit`, tedy **filtrovací funkce**, musí vracet **boolean** datový typ."
   ]
  },
  {
   "cell_type": "code",
   "execution_count": 53,
   "id": "fee14d46-9932-4b03-b705-597707c5ecaa",
   "metadata": {
    "tags": []
   },
   "outputs": [],
   "source": [
    "vyfiltrovane_df = ovoce_df.groupby('pobocka').filter(vyber_s_prodejem_nad_limit)"
   ]
  },
  {
   "cell_type": "code",
   "execution_count": 56,
   "id": "8052f97c-e572-4ab5-abe8-b495e849005d",
   "metadata": {},
   "outputs": [
    {
     "data": {
      "text/plain": [
       "pobocka\n",
       "B    38\n",
       "C    45\n",
       "Name: prodane_mnozstvi, dtype: int64"
      ]
     },
     "execution_count": 56,
     "metadata": {},
     "output_type": "execute_result"
    }
   ],
   "source": [
    "vyfiltrovane_df.groupby('pobocka')['prodane_mnozstvi'].sum()"
   ]
  },
  {
   "cell_type": "markdown",
   "id": "7208fc72-521f-4d8a-bd31-e8737f338f99",
   "metadata": {},
   "source": [
    "1. Nejprve seskupíš data podle sloupce `pobocka` pomocí `groupby`,\n",
    "2. dále použiješ metodu `filter`, která umožňuje použít uživatelem definovanou funkci (`vyber_pouze_pobocky_s_prodejem_nad_limit`),\n",
    "3. definuješ funkci, která vybere pouze pobočky s větším prodejem než je parametr `limit`,\n",
    "4. metoda `filter` pak vybere pouze ty řádky, které splňují tuto podmínku."
   ]
  },
  {
   "cell_type": "code",
   "execution_count": 63,
   "id": "67a9e010-427b-4afa-b1db-835a15680199",
   "metadata": {},
   "outputs": [
    {
     "data": {
      "text/html": [
       "<div>\n",
       "<style scoped>\n",
       "    .dataframe tbody tr th:only-of-type {\n",
       "        vertical-align: middle;\n",
       "    }\n",
       "\n",
       "    .dataframe tbody tr th {\n",
       "        vertical-align: top;\n",
       "    }\n",
       "\n",
       "    .dataframe thead th {\n",
       "        text-align: right;\n",
       "    }\n",
       "</style>\n",
       "<table border=\"1\" class=\"dataframe\">\n",
       "  <thead>\n",
       "    <tr style=\"text-align: right;\">\n",
       "      <th></th>\n",
       "      <th>pobocka</th>\n",
       "      <th>ovoce</th>\n",
       "      <th>prodane_mnozstvi</th>\n",
       "      <th>cena</th>\n",
       "    </tr>\n",
       "  </thead>\n",
       "  <tbody>\n",
       "    <tr>\n",
       "      <th>3</th>\n",
       "      <td>B</td>\n",
       "      <td>banan</td>\n",
       "      <td>30</td>\n",
       "      <td>10</td>\n",
       "    </tr>\n",
       "    <tr>\n",
       "      <th>4</th>\n",
       "      <td>C</td>\n",
       "      <td>jablko</td>\n",
       "      <td>20</td>\n",
       "      <td>18</td>\n",
       "    </tr>\n",
       "    <tr>\n",
       "      <th>5</th>\n",
       "      <td>C</td>\n",
       "      <td>banan</td>\n",
       "      <td>25</td>\n",
       "      <td>15</td>\n",
       "    </tr>\n",
       "  </tbody>\n",
       "</table>\n",
       "</div>"
      ],
      "text/plain": [
       "  pobocka   ovoce  prodane_mnozstvi  cena\n",
       "3       B   banan                30    10\n",
       "4       C  jablko                20    18\n",
       "5       C   banan                25    15"
      ]
     },
     "execution_count": 63,
     "metadata": {},
     "output_type": "execute_result"
    }
   ],
   "source": [
    "ovoce_df[ovoce_df['prodane_mnozstvi'] > 19]  # Boolean porovnávání"
   ]
  },
  {
   "cell_type": "markdown",
   "id": "6b9560ac-9716-4021-a453-3f81e3cd56e6",
   "metadata": {},
   "source": [
    "### Metoda TRANSFORM\n",
    "\n",
    "---"
   ]
  },
  {
   "cell_type": "markdown",
   "id": "0aba2a1c-4df0-4978-ae22-28d23e5144b3",
   "metadata": {
    "tags": []
   },
   "source": [
    "Zatímco předchozí výsledky *agregace* pomocí `groupby` vraceli redukované množství dat.\n",
    "\n",
    "Transformace obvykle vrací data o stejném rozsahu jako vstupní data. Jenom upravená."
   ]
  },
  {
   "cell_type": "markdown",
   "id": "256ac007-f62e-48d9-ac4c-1d3f51eaf030",
   "metadata": {},
   "source": [
    "Metoda `transform` se používá k aplikaci určité **transformační funkce** na každý prvek seskupených dat."
   ]
  },
  {
   "cell_type": "code",
   "execution_count": 64,
   "id": "4ac57d55-58d1-4f5c-b77b-13b5b483348c",
   "metadata": {
    "tags": []
   },
   "outputs": [
    {
     "data": {
      "text/html": [
       "<div>\n",
       "<style scoped>\n",
       "    .dataframe tbody tr th:only-of-type {\n",
       "        vertical-align: middle;\n",
       "    }\n",
       "\n",
       "    .dataframe tbody tr th {\n",
       "        vertical-align: top;\n",
       "    }\n",
       "\n",
       "    .dataframe thead th {\n",
       "        text-align: right;\n",
       "    }\n",
       "</style>\n",
       "<table border=\"1\" class=\"dataframe\">\n",
       "  <thead>\n",
       "    <tr style=\"text-align: right;\">\n",
       "      <th></th>\n",
       "      <th>pobocka</th>\n",
       "      <th>ovoce</th>\n",
       "      <th>prodane_mnozstvi</th>\n",
       "      <th>cena</th>\n",
       "    </tr>\n",
       "  </thead>\n",
       "  <tbody>\n",
       "    <tr>\n",
       "      <th>0</th>\n",
       "      <td>A</td>\n",
       "      <td>jablko</td>\n",
       "      <td>10</td>\n",
       "      <td>20</td>\n",
       "    </tr>\n",
       "    <tr>\n",
       "      <th>1</th>\n",
       "      <td>A</td>\n",
       "      <td>banan</td>\n",
       "      <td>15</td>\n",
       "      <td>12</td>\n",
       "    </tr>\n",
       "    <tr>\n",
       "      <th>2</th>\n",
       "      <td>B</td>\n",
       "      <td>jablko</td>\n",
       "      <td>8</td>\n",
       "      <td>22</td>\n",
       "    </tr>\n",
       "    <tr>\n",
       "      <th>3</th>\n",
       "      <td>B</td>\n",
       "      <td>banan</td>\n",
       "      <td>30</td>\n",
       "      <td>10</td>\n",
       "    </tr>\n",
       "    <tr>\n",
       "      <th>4</th>\n",
       "      <td>C</td>\n",
       "      <td>jablko</td>\n",
       "      <td>20</td>\n",
       "      <td>18</td>\n",
       "    </tr>\n",
       "    <tr>\n",
       "      <th>5</th>\n",
       "      <td>C</td>\n",
       "      <td>banan</td>\n",
       "      <td>25</td>\n",
       "      <td>15</td>\n",
       "    </tr>\n",
       "  </tbody>\n",
       "</table>\n",
       "</div>"
      ],
      "text/plain": [
       "  pobocka   ovoce  prodane_mnozstvi  cena\n",
       "0       A  jablko                10    20\n",
       "1       A   banan                15    12\n",
       "2       B  jablko                 8    22\n",
       "3       B   banan                30    10\n",
       "4       C  jablko                20    18\n",
       "5       C   banan                25    15"
      ]
     },
     "execution_count": 64,
     "metadata": {},
     "output_type": "execute_result"
    }
   ],
   "source": [
    "ovoce_df"
   ]
  },
  {
   "cell_type": "code",
   "execution_count": 66,
   "id": "655afebf-3a7d-4f3c-baf2-af7cb330076f",
   "metadata": {
    "tags": []
   },
   "outputs": [],
   "source": [
    "def vrat_procenta_z_celkoveho_prodeje(udaj):\n",
    "    return round(udaj / udaj.sum() * 100, 1)"
   ]
  },
  {
   "cell_type": "markdown",
   "id": "9f363cbc-a93f-45db-8149-29460d68e8d5",
   "metadata": {},
   "source": [
    "<br>\n",
    "\n",
    "Vytvoření nového sloupečku `vrat_procenta_z_celkoveho_prodeje`:"
   ]
  },
  {
   "cell_type": "code",
   "execution_count": 67,
   "id": "c23f2839-f2cd-422a-a5d3-e989940a6f58",
   "metadata": {
    "tags": []
   },
   "outputs": [],
   "source": [
    "ovoce_df['Procento z celkoveho prodeje'] = \\\n",
    "    ovoce_df.groupby('pobocka')['prodane_mnozstvi'].transform(\n",
    "        vrat_procenta_z_celkoveho_prodeje\n",
    "    )"
   ]
  },
  {
   "cell_type": "code",
   "execution_count": 69,
   "id": "6d2a7983-b1fd-4bfc-b372-3b690dea6f49",
   "metadata": {
    "tags": []
   },
   "outputs": [],
   "source": [
    "# ovoce_df"
   ]
  },
  {
   "cell_type": "markdown",
   "id": "8aa78f27-8e22-40d1-8488-b7d2c0ecd2b4",
   "metadata": {},
   "source": [
    "1. Nejprve seskupíš data podle sloupce `pobocka` pomocí `groupby`,\n",
    "2. dále použiješ metodu `transform`, která umožňuje použít uživatelem definovanou funkci,\n",
    "3. definuješ funkci, která vybere vypočítá procentuální vyjádření prodaného zboží pro pobočku,\n",
    "4. přidáš nový sloupeček `'Procento z celkoveho prodeje'`."
   ]
  },
  {
   "cell_type": "markdown",
   "id": "68834a89-b2cf-43b9-a403-62d0874c063d",
   "metadata": {},
   "source": [
    "### Metoda `APPLY`\n",
    "\n",
    "---\n",
    "\n",
    "Metoda `apply` ti také dovolí, používat uživatelem definované funkce na seskupená data.\n",
    "\n",
    "Následně vrací objekt knihovny `pandas` (buď `DataFrame`, nebo `Series`, a nebo skalární hodnota)."
   ]
  },
  {
   "cell_type": "code",
   "execution_count": 70,
   "id": "1b4dea9b-8409-4b6c-add7-7741d40fecb2",
   "metadata": {
    "tags": []
   },
   "outputs": [
    {
     "data": {
      "text/html": [
       "<div>\n",
       "<style scoped>\n",
       "    .dataframe tbody tr th:only-of-type {\n",
       "        vertical-align: middle;\n",
       "    }\n",
       "\n",
       "    .dataframe tbody tr th {\n",
       "        vertical-align: top;\n",
       "    }\n",
       "\n",
       "    .dataframe thead th {\n",
       "        text-align: right;\n",
       "    }\n",
       "</style>\n",
       "<table border=\"1\" class=\"dataframe\">\n",
       "  <thead>\n",
       "    <tr style=\"text-align: right;\">\n",
       "      <th></th>\n",
       "      <th>pobocka</th>\n",
       "      <th>ovoce</th>\n",
       "      <th>prodane_mnozstvi</th>\n",
       "      <th>cena</th>\n",
       "      <th>Procento z celkoveho prodeje</th>\n",
       "    </tr>\n",
       "  </thead>\n",
       "  <tbody>\n",
       "    <tr>\n",
       "      <th>0</th>\n",
       "      <td>A</td>\n",
       "      <td>jablko</td>\n",
       "      <td>10</td>\n",
       "      <td>20</td>\n",
       "      <td>40.0</td>\n",
       "    </tr>\n",
       "    <tr>\n",
       "      <th>1</th>\n",
       "      <td>A</td>\n",
       "      <td>banan</td>\n",
       "      <td>15</td>\n",
       "      <td>12</td>\n",
       "      <td>60.0</td>\n",
       "    </tr>\n",
       "    <tr>\n",
       "      <th>2</th>\n",
       "      <td>B</td>\n",
       "      <td>jablko</td>\n",
       "      <td>8</td>\n",
       "      <td>22</td>\n",
       "      <td>21.1</td>\n",
       "    </tr>\n",
       "    <tr>\n",
       "      <th>3</th>\n",
       "      <td>B</td>\n",
       "      <td>banan</td>\n",
       "      <td>30</td>\n",
       "      <td>10</td>\n",
       "      <td>78.9</td>\n",
       "    </tr>\n",
       "    <tr>\n",
       "      <th>4</th>\n",
       "      <td>C</td>\n",
       "      <td>jablko</td>\n",
       "      <td>20</td>\n",
       "      <td>18</td>\n",
       "      <td>44.4</td>\n",
       "    </tr>\n",
       "    <tr>\n",
       "      <th>5</th>\n",
       "      <td>C</td>\n",
       "      <td>banan</td>\n",
       "      <td>25</td>\n",
       "      <td>15</td>\n",
       "      <td>55.6</td>\n",
       "    </tr>\n",
       "  </tbody>\n",
       "</table>\n",
       "</div>"
      ],
      "text/plain": [
       "  pobocka   ovoce  prodane_mnozstvi  cena  Procento z celkoveho prodeje\n",
       "0       A  jablko                10    20                          40.0\n",
       "1       A   banan                15    12                          60.0\n",
       "2       B  jablko                 8    22                          21.1\n",
       "3       B   banan                30    10                          78.9\n",
       "4       C  jablko                20    18                          44.4\n",
       "5       C   banan                25    15                          55.6"
      ]
     },
     "execution_count": 70,
     "metadata": {},
     "output_type": "execute_result"
    }
   ],
   "source": [
    "ovoce_df"
   ]
  },
  {
   "cell_type": "code",
   "execution_count": 73,
   "id": "e55bfe4c-0cdf-4115-8d76-fec54962e84f",
   "metadata": {},
   "outputs": [],
   "source": [
    "def vypocitej_vydelek_za_artikl(seskupene):\n",
    "    seskupene['vydelek_za_artikl'] = seskupene['prodane_mnozstvi'] * seskupene['cena']\n",
    "    return seskupene"
   ]
  },
  {
   "cell_type": "markdown",
   "id": "38ed71df-b4d0-494d-9140-38b27cb60472",
   "metadata": {},
   "source": [
    "<br>\n",
    "\n",
    "Metoda `apply` je **obecnější a flexibilnější** než `transform`.\n",
    "\n",
    "`apply` umožňuje použít uživatelem definovanou funkci na každou skupinu po seskupení dat pomocí `groupby`.\n",
    "\n",
    "Výsledek metody `apply` může mít jiný tvar než původní data."
   ]
  },
  {
   "cell_type": "code",
   "execution_count": 74,
   "id": "85efa3b5-ebed-4e0c-9791-dadf5c44f174",
   "metadata": {},
   "outputs": [
    {
     "data": {
      "text/html": [
       "<div>\n",
       "<style scoped>\n",
       "    .dataframe tbody tr th:only-of-type {\n",
       "        vertical-align: middle;\n",
       "    }\n",
       "\n",
       "    .dataframe tbody tr th {\n",
       "        vertical-align: top;\n",
       "    }\n",
       "\n",
       "    .dataframe thead th {\n",
       "        text-align: right;\n",
       "    }\n",
       "</style>\n",
       "<table border=\"1\" class=\"dataframe\">\n",
       "  <thead>\n",
       "    <tr style=\"text-align: right;\">\n",
       "      <th></th>\n",
       "      <th></th>\n",
       "      <th>pobocka</th>\n",
       "      <th>ovoce</th>\n",
       "      <th>prodane_mnozstvi</th>\n",
       "      <th>cena</th>\n",
       "      <th>Procento z celkoveho prodeje</th>\n",
       "      <th>vydelek_za_artikl</th>\n",
       "    </tr>\n",
       "    <tr>\n",
       "      <th>pobocka</th>\n",
       "      <th></th>\n",
       "      <th></th>\n",
       "      <th></th>\n",
       "      <th></th>\n",
       "      <th></th>\n",
       "      <th></th>\n",
       "      <th></th>\n",
       "    </tr>\n",
       "  </thead>\n",
       "  <tbody>\n",
       "    <tr>\n",
       "      <th rowspan=\"2\" valign=\"top\">A</th>\n",
       "      <th>0</th>\n",
       "      <td>A</td>\n",
       "      <td>jablko</td>\n",
       "      <td>10</td>\n",
       "      <td>20</td>\n",
       "      <td>40.0</td>\n",
       "      <td>200</td>\n",
       "    </tr>\n",
       "    <tr>\n",
       "      <th>1</th>\n",
       "      <td>A</td>\n",
       "      <td>banan</td>\n",
       "      <td>15</td>\n",
       "      <td>12</td>\n",
       "      <td>60.0</td>\n",
       "      <td>180</td>\n",
       "    </tr>\n",
       "    <tr>\n",
       "      <th rowspan=\"2\" valign=\"top\">B</th>\n",
       "      <th>2</th>\n",
       "      <td>B</td>\n",
       "      <td>jablko</td>\n",
       "      <td>8</td>\n",
       "      <td>22</td>\n",
       "      <td>21.1</td>\n",
       "      <td>176</td>\n",
       "    </tr>\n",
       "    <tr>\n",
       "      <th>3</th>\n",
       "      <td>B</td>\n",
       "      <td>banan</td>\n",
       "      <td>30</td>\n",
       "      <td>10</td>\n",
       "      <td>78.9</td>\n",
       "      <td>300</td>\n",
       "    </tr>\n",
       "    <tr>\n",
       "      <th rowspan=\"2\" valign=\"top\">C</th>\n",
       "      <th>4</th>\n",
       "      <td>C</td>\n",
       "      <td>jablko</td>\n",
       "      <td>20</td>\n",
       "      <td>18</td>\n",
       "      <td>44.4</td>\n",
       "      <td>360</td>\n",
       "    </tr>\n",
       "    <tr>\n",
       "      <th>5</th>\n",
       "      <td>C</td>\n",
       "      <td>banan</td>\n",
       "      <td>25</td>\n",
       "      <td>15</td>\n",
       "      <td>55.6</td>\n",
       "      <td>375</td>\n",
       "    </tr>\n",
       "  </tbody>\n",
       "</table>\n",
       "</div>"
      ],
      "text/plain": [
       "          pobocka   ovoce  prodane_mnozstvi  cena  \\\n",
       "pobocka                                             \n",
       "A       0       A  jablko                10    20   \n",
       "        1       A   banan                15    12   \n",
       "B       2       B  jablko                 8    22   \n",
       "        3       B   banan                30    10   \n",
       "C       4       C  jablko                20    18   \n",
       "        5       C   banan                25    15   \n",
       "\n",
       "           Procento z celkoveho prodeje  vydelek_za_artikl  \n",
       "pobocka                                                     \n",
       "A       0                          40.0                200  \n",
       "        1                          60.0                180  \n",
       "B       2                          21.1                176  \n",
       "        3                          78.9                300  \n",
       "C       4                          44.4                360  \n",
       "        5                          55.6                375  "
      ]
     },
     "execution_count": 74,
     "metadata": {},
     "output_type": "execute_result"
    }
   ],
   "source": [
    "ovoce_df.groupby('pobocka').apply(vypocitej_vydelek_za_artikl)"
   ]
  },
  {
   "cell_type": "code",
   "execution_count": 75,
   "id": "3ba6f175-fa8d-4785-8341-ba4443cafb6e",
   "metadata": {},
   "outputs": [
    {
     "data": {
      "text/html": [
       "<div>\n",
       "<style scoped>\n",
       "    .dataframe tbody tr th:only-of-type {\n",
       "        vertical-align: middle;\n",
       "    }\n",
       "\n",
       "    .dataframe tbody tr th {\n",
       "        vertical-align: top;\n",
       "    }\n",
       "\n",
       "    .dataframe thead th {\n",
       "        text-align: right;\n",
       "    }\n",
       "</style>\n",
       "<table border=\"1\" class=\"dataframe\">\n",
       "  <thead>\n",
       "    <tr style=\"text-align: right;\">\n",
       "      <th></th>\n",
       "      <th>pobocka</th>\n",
       "      <th>ovoce</th>\n",
       "      <th>prodane_mnozstvi</th>\n",
       "      <th>cena</th>\n",
       "      <th>Procento z celkoveho prodeje</th>\n",
       "      <th>vydelek_za_artikl</th>\n",
       "    </tr>\n",
       "  </thead>\n",
       "  <tbody>\n",
       "    <tr>\n",
       "      <th>0</th>\n",
       "      <td>A</td>\n",
       "      <td>jablko</td>\n",
       "      <td>10</td>\n",
       "      <td>20</td>\n",
       "      <td>40.0</td>\n",
       "      <td>200</td>\n",
       "    </tr>\n",
       "    <tr>\n",
       "      <th>1</th>\n",
       "      <td>A</td>\n",
       "      <td>banan</td>\n",
       "      <td>15</td>\n",
       "      <td>12</td>\n",
       "      <td>60.0</td>\n",
       "      <td>180</td>\n",
       "    </tr>\n",
       "    <tr>\n",
       "      <th>2</th>\n",
       "      <td>B</td>\n",
       "      <td>jablko</td>\n",
       "      <td>8</td>\n",
       "      <td>22</td>\n",
       "      <td>21.1</td>\n",
       "      <td>176</td>\n",
       "    </tr>\n",
       "    <tr>\n",
       "      <th>3</th>\n",
       "      <td>B</td>\n",
       "      <td>banan</td>\n",
       "      <td>30</td>\n",
       "      <td>10</td>\n",
       "      <td>78.9</td>\n",
       "      <td>300</td>\n",
       "    </tr>\n",
       "    <tr>\n",
       "      <th>4</th>\n",
       "      <td>C</td>\n",
       "      <td>jablko</td>\n",
       "      <td>20</td>\n",
       "      <td>18</td>\n",
       "      <td>44.4</td>\n",
       "      <td>360</td>\n",
       "    </tr>\n",
       "    <tr>\n",
       "      <th>5</th>\n",
       "      <td>C</td>\n",
       "      <td>banan</td>\n",
       "      <td>25</td>\n",
       "      <td>15</td>\n",
       "      <td>55.6</td>\n",
       "      <td>375</td>\n",
       "    </tr>\n",
       "  </tbody>\n",
       "</table>\n",
       "</div>"
      ],
      "text/plain": [
       "  pobocka   ovoce  prodane_mnozstvi  cena  Procento z celkoveho prodeje  \\\n",
       "0       A  jablko                10    20                          40.0   \n",
       "1       A   banan                15    12                          60.0   \n",
       "2       B  jablko                 8    22                          21.1   \n",
       "3       B   banan                30    10                          78.9   \n",
       "4       C  jablko                20    18                          44.4   \n",
       "5       C   banan                25    15                          55.6   \n",
       "\n",
       "   vydelek_za_artikl  \n",
       "0                200  \n",
       "1                180  \n",
       "2                176  \n",
       "3                300  \n",
       "4                360  \n",
       "5                375  "
      ]
     },
     "execution_count": 75,
     "metadata": {},
     "output_type": "execute_result"
    }
   ],
   "source": [
    "ovoce_df.groupby('pobocka', group_keys=False).apply(vypocitej_vydelek_za_artikl)"
   ]
  },
  {
   "cell_type": "code",
   "execution_count": null,
   "id": "c1909cd2-c68a-4765-8ee0-a1f4bdbd5610",
   "metadata": {},
   "outputs": [],
   "source": [
    "# ovoce_df.groupby?"
   ]
  },
  {
   "cell_type": "markdown",
   "id": "0e90bae1-e494-4265-b95c-a90294103638",
   "metadata": {},
   "source": [
    "Od posledních verzí frameworku (`1.5.0` a vyšší) platí, že pokud bude výsledkem `DataFrame` nebo `Series` musíš uvést argument pro `group_keys=True`).\n",
    "\n",
    "<br>"
   ]
  },
  {
   "cell_type": "code",
   "execution_count": 76,
   "id": "81552747-c871-4f95-836d-ecbc76c64c1f",
   "metadata": {},
   "outputs": [],
   "source": [
    "vystup = ovoce_df.groupby('pobocka', group_keys=True).apply(vypocitej_vydelek_za_artikl)"
   ]
  },
  {
   "cell_type": "code",
   "execution_count": 77,
   "id": "afe36611-5f51-4f89-8a6f-737b3e320118",
   "metadata": {},
   "outputs": [
    {
     "data": {
      "text/html": [
       "<div>\n",
       "<style scoped>\n",
       "    .dataframe tbody tr th:only-of-type {\n",
       "        vertical-align: middle;\n",
       "    }\n",
       "\n",
       "    .dataframe tbody tr th {\n",
       "        vertical-align: top;\n",
       "    }\n",
       "\n",
       "    .dataframe thead th {\n",
       "        text-align: right;\n",
       "    }\n",
       "</style>\n",
       "<table border=\"1\" class=\"dataframe\">\n",
       "  <thead>\n",
       "    <tr style=\"text-align: right;\">\n",
       "      <th></th>\n",
       "      <th></th>\n",
       "      <th>pobocka</th>\n",
       "      <th>ovoce</th>\n",
       "      <th>prodane_mnozstvi</th>\n",
       "      <th>cena</th>\n",
       "      <th>Procento z celkoveho prodeje</th>\n",
       "      <th>vydelek_za_artikl</th>\n",
       "    </tr>\n",
       "    <tr>\n",
       "      <th>pobocka</th>\n",
       "      <th></th>\n",
       "      <th></th>\n",
       "      <th></th>\n",
       "      <th></th>\n",
       "      <th></th>\n",
       "      <th></th>\n",
       "      <th></th>\n",
       "    </tr>\n",
       "  </thead>\n",
       "  <tbody>\n",
       "    <tr>\n",
       "      <th rowspan=\"2\" valign=\"top\">A</th>\n",
       "      <th>0</th>\n",
       "      <td>A</td>\n",
       "      <td>jablko</td>\n",
       "      <td>10</td>\n",
       "      <td>20</td>\n",
       "      <td>40.0</td>\n",
       "      <td>200</td>\n",
       "    </tr>\n",
       "    <tr>\n",
       "      <th>1</th>\n",
       "      <td>A</td>\n",
       "      <td>banan</td>\n",
       "      <td>15</td>\n",
       "      <td>12</td>\n",
       "      <td>60.0</td>\n",
       "      <td>180</td>\n",
       "    </tr>\n",
       "    <tr>\n",
       "      <th rowspan=\"2\" valign=\"top\">B</th>\n",
       "      <th>2</th>\n",
       "      <td>B</td>\n",
       "      <td>jablko</td>\n",
       "      <td>8</td>\n",
       "      <td>22</td>\n",
       "      <td>21.1</td>\n",
       "      <td>176</td>\n",
       "    </tr>\n",
       "    <tr>\n",
       "      <th>3</th>\n",
       "      <td>B</td>\n",
       "      <td>banan</td>\n",
       "      <td>30</td>\n",
       "      <td>10</td>\n",
       "      <td>78.9</td>\n",
       "      <td>300</td>\n",
       "    </tr>\n",
       "    <tr>\n",
       "      <th rowspan=\"2\" valign=\"top\">C</th>\n",
       "      <th>4</th>\n",
       "      <td>C</td>\n",
       "      <td>jablko</td>\n",
       "      <td>20</td>\n",
       "      <td>18</td>\n",
       "      <td>44.4</td>\n",
       "      <td>360</td>\n",
       "    </tr>\n",
       "    <tr>\n",
       "      <th>5</th>\n",
       "      <td>C</td>\n",
       "      <td>banan</td>\n",
       "      <td>25</td>\n",
       "      <td>15</td>\n",
       "      <td>55.6</td>\n",
       "      <td>375</td>\n",
       "    </tr>\n",
       "  </tbody>\n",
       "</table>\n",
       "</div>"
      ],
      "text/plain": [
       "          pobocka   ovoce  prodane_mnozstvi  cena  \\\n",
       "pobocka                                             \n",
       "A       0       A  jablko                10    20   \n",
       "        1       A   banan                15    12   \n",
       "B       2       B  jablko                 8    22   \n",
       "        3       B   banan                30    10   \n",
       "C       4       C  jablko                20    18   \n",
       "        5       C   banan                25    15   \n",
       "\n",
       "           Procento z celkoveho prodeje  vydelek_za_artikl  \n",
       "pobocka                                                     \n",
       "A       0                          40.0                200  \n",
       "        1                          60.0                180  \n",
       "B       2                          21.1                176  \n",
       "        3                          78.9                300  \n",
       "C       4                          44.4                360  \n",
       "        5                          55.6                375  "
      ]
     },
     "execution_count": 77,
     "metadata": {},
     "output_type": "execute_result"
    }
   ],
   "source": [
    "vystup"
   ]
  },
  {
   "cell_type": "code",
   "execution_count": 78,
   "id": "48b28a96-b636-4d24-9826-0bdc7040f771",
   "metadata": {},
   "outputs": [
    {
     "data": {
      "text/html": [
       "<div>\n",
       "<style scoped>\n",
       "    .dataframe tbody tr th:only-of-type {\n",
       "        vertical-align: middle;\n",
       "    }\n",
       "\n",
       "    .dataframe tbody tr th {\n",
       "        vertical-align: top;\n",
       "    }\n",
       "\n",
       "    .dataframe thead th {\n",
       "        text-align: right;\n",
       "    }\n",
       "</style>\n",
       "<table border=\"1\" class=\"dataframe\">\n",
       "  <thead>\n",
       "    <tr style=\"text-align: right;\">\n",
       "      <th></th>\n",
       "      <th>pobocka</th>\n",
       "      <th>ovoce</th>\n",
       "      <th>prodane_mnozstvi</th>\n",
       "      <th>cena</th>\n",
       "      <th>Procento z celkoveho prodeje</th>\n",
       "    </tr>\n",
       "  </thead>\n",
       "  <tbody>\n",
       "    <tr>\n",
       "      <th>0</th>\n",
       "      <td>A</td>\n",
       "      <td>jablko</td>\n",
       "      <td>10</td>\n",
       "      <td>20</td>\n",
       "      <td>40.0</td>\n",
       "    </tr>\n",
       "    <tr>\n",
       "      <th>1</th>\n",
       "      <td>A</td>\n",
       "      <td>banan</td>\n",
       "      <td>15</td>\n",
       "      <td>12</td>\n",
       "      <td>60.0</td>\n",
       "    </tr>\n",
       "    <tr>\n",
       "      <th>2</th>\n",
       "      <td>B</td>\n",
       "      <td>jablko</td>\n",
       "      <td>8</td>\n",
       "      <td>22</td>\n",
       "      <td>21.1</td>\n",
       "    </tr>\n",
       "    <tr>\n",
       "      <th>3</th>\n",
       "      <td>B</td>\n",
       "      <td>banan</td>\n",
       "      <td>30</td>\n",
       "      <td>10</td>\n",
       "      <td>78.9</td>\n",
       "    </tr>\n",
       "    <tr>\n",
       "      <th>4</th>\n",
       "      <td>C</td>\n",
       "      <td>jablko</td>\n",
       "      <td>20</td>\n",
       "      <td>18</td>\n",
       "      <td>44.4</td>\n",
       "    </tr>\n",
       "    <tr>\n",
       "      <th>5</th>\n",
       "      <td>C</td>\n",
       "      <td>banan</td>\n",
       "      <td>25</td>\n",
       "      <td>15</td>\n",
       "      <td>55.6</td>\n",
       "    </tr>\n",
       "  </tbody>\n",
       "</table>\n",
       "</div>"
      ],
      "text/plain": [
       "  pobocka   ovoce  prodane_mnozstvi  cena  Procento z celkoveho prodeje\n",
       "0       A  jablko                10    20                          40.0\n",
       "1       A   banan                15    12                          60.0\n",
       "2       B  jablko                 8    22                          21.1\n",
       "3       B   banan                30    10                          78.9\n",
       "4       C  jablko                20    18                          44.4\n",
       "5       C   banan                25    15                          55.6"
      ]
     },
     "execution_count": 78,
     "metadata": {},
     "output_type": "execute_result"
    }
   ],
   "source": [
    "ovoce_df"
   ]
  },
  {
   "cell_type": "markdown",
   "id": "7ad77043-fd47-45a2-b961-afe0c0c3316d",
   "metadata": {},
   "source": [
    "Na první pohled vypadají metody `apply` a `transform` docela podobně.\n",
    "\n",
    "Metoda `transform` je trochu omezenější než `apply`.\n",
    "\n",
    "Slouží k aplikaci uživatelem definované nebo vestavěné funkce **na každý prvek** skupiny po seskupení s `groupby`.\n",
    "\n",
    "`transform` musí vracet hodnotu stejného tvaru jako vstupní data."
   ]
  },
  {
   "cell_type": "markdown",
   "id": "3e40d366-8467-484d-8167-a84310cb1b49",
   "metadata": {},
   "source": [
    "### Souhrn k metodám APPLY a TRANSFORM\n",
    "\n",
    "---\n",
    "\n",
    "Výsledek metody `transform` **má stejný tvar jako původní data**.\n",
    "\n",
    "#### Apply\n",
    "* potřebuješ výsledek, který **má jiný tvar než původní data**,\n",
    "* umí zpracovat **více sloupečků současně**.\n",
    "\n",
    "#### Transform\n",
    "* potřebuješ výsledek, který **má stejný tvar jako původní data**,\n",
    "* umí zpracovat **pouze jeden sloupeček**."
   ]
  },
  {
   "cell_type": "code",
   "execution_count": null,
   "id": "c300c5f0-6144-4fa7-b26d-585021c5c4a3",
   "metadata": {
    "tags": []
   },
   "outputs": [],
   "source": [
    "df_rozdily = DataFrame({\n",
    "    'KLIC': ['A','B','C'] * 3,\n",
    "    'A': numpy.arange(9),\n",
    "    'B': [1,2,3] * 3,\n",
    "})"
   ]
  },
  {
   "cell_type": "code",
   "execution_count": null,
   "id": "55cb53af-75d4-4b89-b09e-0e38abae2b68",
   "metadata": {
    "tags": []
   },
   "outputs": [],
   "source": [
    "df_rozdily"
   ]
  },
  {
   "cell_type": "markdown",
   "id": "dbf33bcc-cef6-4055-9707-5c3eb66bf04d",
   "metadata": {},
   "source": [
    "#### `transform` vrací výsledky ve stejném tvaru\n",
    "\n",
    "---"
   ]
  },
  {
   "cell_type": "code",
   "execution_count": null,
   "id": "cea77fd6-f097-4f89-8f04-ca6fc192fcdb",
   "metadata": {
    "tags": []
   },
   "outputs": [],
   "source": [
    "def vypocitej_sumu(data):\n",
    "    return data.sum()"
   ]
  },
  {
   "cell_type": "code",
   "execution_count": null,
   "id": "624ec01b-6529-4966-8461-e14017b8feda",
   "metadata": {
    "tags": []
   },
   "outputs": [],
   "source": [
    "seskup_df_rozdily_apply = df_rozdily.groupby('KLIC')['A'].apply(vypocitej_sumu)"
   ]
  },
  {
   "cell_type": "code",
   "execution_count": null,
   "id": "280415b9-adaf-4e03-b1a5-903115d6b425",
   "metadata": {
    "tags": []
   },
   "outputs": [],
   "source": [
    "seskup_df_rozdily_apply"
   ]
  },
  {
   "cell_type": "code",
   "execution_count": null,
   "id": "194c0417-2b62-4cca-920e-b6004319feef",
   "metadata": {
    "tags": []
   },
   "outputs": [],
   "source": [
    "seskup_df_rozdily_trans = df_rozdily.groupby('KLIC')['A'].transform(vypocitej_sumu)"
   ]
  },
  {
   "cell_type": "code",
   "execution_count": null,
   "id": "ffe07d32-7af6-483f-bf7a-753444503f52",
   "metadata": {
    "tags": []
   },
   "outputs": [],
   "source": [
    "seskup_df_rozdily_trans"
   ]
  },
  {
   "cell_type": "markdown",
   "id": "5fbe2f1d-102e-491a-8748-99c8a6877e9b",
   "metadata": {},
   "source": [
    "#### `apply` umí pracovat s více sloupečky, `transform` jen s jedním\n",
    "\n",
    "---"
   ]
  },
  {
   "cell_type": "code",
   "execution_count": null,
   "id": "34c0a859-a5ec-4194-acae-1d4d62def998",
   "metadata": {
    "tags": []
   },
   "outputs": [],
   "source": [
    "df_rozdily"
   ]
  },
  {
   "cell_type": "code",
   "execution_count": null,
   "id": "79dfb39b-a39b-4311-b6a4-790c536478ca",
   "metadata": {
    "tags": []
   },
   "outputs": [],
   "source": [
    "def vypocitej_rozdil(data):\n",
    "    return data['B'] - data['A']"
   ]
  },
  {
   "cell_type": "code",
   "execution_count": null,
   "id": "d282c7f1-e633-41c0-ae70-b2d011a3c4d2",
   "metadata": {
    "tags": []
   },
   "outputs": [],
   "source": [
    "df_rozdily.groupby('KLIC').apply(vypocitej_rozdil)"
   ]
  },
  {
   "cell_type": "code",
   "execution_count": null,
   "id": "3fc45149-c3be-4732-83b7-39d9565206b5",
   "metadata": {
    "tags": []
   },
   "outputs": [],
   "source": [
    "# df_rozdily.groupby('KLIC').transform(vypocitej_rozdil)"
   ]
  },
  {
   "cell_type": "markdown",
   "id": "1528201f-7270-4012-8241-c2302c263085",
   "metadata": {},
   "source": [
    "---"
   ]
  },
  {
   "cell_type": "markdown",
   "id": "0b66c926-3fc8-4c05-8a9d-b819ed4a3e33",
   "metadata": {},
   "source": [
    "<br>\n",
    "\n",
    "**🧠 CVIČENÍ 🧠, procvič si funkcí GroupBy a agregační funkce**"
   ]
  },
  {
   "cell_type": "markdown",
   "id": "ba630f44-7723-4595-943b-36ac5a5b11bc",
   "metadata": {},
   "source": [
    "Máš zadaný takový datový set."
   ]
  },
  {
   "cell_type": "markdown",
   "id": "04318023-ecce-4589-9ea7-98b13f911127",
   "metadata": {},
   "source": [
    "Následně:\n",
    "1. Pomocí metody `filter` vyber prodejny, které prodaly **alespoň 30 produktů**,\n",
    "2. na filtrovaném datasetu použijte metodu `apply` pro výpočet **celkového příjmu z prodeje pro každý obchod**."
   ]
  },
  {
   "cell_type": "code",
   "execution_count": 79,
   "id": "57e811d9-66fd-48ec-aa66-bd74c789c8ea",
   "metadata": {
    "tags": []
   },
   "outputs": [],
   "source": [
    "from pandas import DataFrame"
   ]
  },
  {
   "cell_type": "code",
   "execution_count": 80,
   "id": "aceddfe0-8b8b-48d3-901a-18108ac34b59",
   "metadata": {
    "tags": []
   },
   "outputs": [],
   "source": [
    "df_prodej_hardware = DataFrame({\n",
    "    'prodejna_id': (5, 4, 1, 5, 5, 1, 4, 2, 5, 1, 3, 1, 3, 4, 2, 1, 5, 4, 1, 5),\n",
    "    'transakce_id': (1278, 1216, 1866, 1872, 1797, 1272, 1880, 1061, 1595, 1879, 1728,\n",
    "       1341, 1396, 1698, 1018, 1176, 1611, 1395, 1444, 1232),\n",
    "    'predmet_prodeje': ('grafická_karta', 'SSD', 'RAM', 'procesor', 'grafická_karta',\n",
    "       'základní_deska', 'SSD', 'SSD', 'grafická_karta', 'RAM',\n",
    "       'grafická_karta', 'procesor', 'grafická_karta', 'SSD',\n",
    "       'grafická_karta', 'RAM', 'základní_deska', 'HDD', 'grafická_karta',\n",
    "       'RAM'),\n",
    "    'pocet_prodanych_ks': (1,  5,  6,  6,  3,  7,  9, 10,  8,  6,  8,  5,  8, 10,  4, 10,  8,\n",
    "       10,  2,  5),\n",
    "    'cena_predmetu': (19500.69874949, 19731.10951735, 14114.15342339, 10953.87914371,\n",
    "        6535.78851758, 16369.00288429, 13852.2578648 ,  3671.03031723,\n",
    "       18263.08009763, 16539.476237  , 19021.09830919, 14651.53041357,\n",
    "       12461.59632075,  8655.73920767, 18688.2054254 , 17388.24584526,\n",
    "        1381.76406707,  1014.1560027 ,  7841.03565412, 16305.78995025)\n",
    "})"
   ]
  },
  {
   "cell_type": "code",
   "execution_count": 82,
   "id": "0aae8234-aee0-4d23-a777-77caf77a4329",
   "metadata": {},
   "outputs": [
    {
     "data": {
      "text/html": [
       "<div>\n",
       "<style scoped>\n",
       "    .dataframe tbody tr th:only-of-type {\n",
       "        vertical-align: middle;\n",
       "    }\n",
       "\n",
       "    .dataframe tbody tr th {\n",
       "        vertical-align: top;\n",
       "    }\n",
       "\n",
       "    .dataframe thead th {\n",
       "        text-align: right;\n",
       "    }\n",
       "</style>\n",
       "<table border=\"1\" class=\"dataframe\">\n",
       "  <thead>\n",
       "    <tr style=\"text-align: right;\">\n",
       "      <th></th>\n",
       "      <th>prodejna_id</th>\n",
       "      <th>transakce_id</th>\n",
       "      <th>predmet_prodeje</th>\n",
       "      <th>pocet_prodanych_ks</th>\n",
       "      <th>cena_predmetu</th>\n",
       "    </tr>\n",
       "  </thead>\n",
       "  <tbody>\n",
       "    <tr>\n",
       "      <th>0</th>\n",
       "      <td>5</td>\n",
       "      <td>1278</td>\n",
       "      <td>grafická_karta</td>\n",
       "      <td>1</td>\n",
       "      <td>19500.698749</td>\n",
       "    </tr>\n",
       "    <tr>\n",
       "      <th>1</th>\n",
       "      <td>4</td>\n",
       "      <td>1216</td>\n",
       "      <td>SSD</td>\n",
       "      <td>5</td>\n",
       "      <td>19731.109517</td>\n",
       "    </tr>\n",
       "    <tr>\n",
       "      <th>2</th>\n",
       "      <td>1</td>\n",
       "      <td>1866</td>\n",
       "      <td>RAM</td>\n",
       "      <td>6</td>\n",
       "      <td>14114.153423</td>\n",
       "    </tr>\n",
       "    <tr>\n",
       "      <th>3</th>\n",
       "      <td>5</td>\n",
       "      <td>1872</td>\n",
       "      <td>procesor</td>\n",
       "      <td>6</td>\n",
       "      <td>10953.879144</td>\n",
       "    </tr>\n",
       "    <tr>\n",
       "      <th>4</th>\n",
       "      <td>5</td>\n",
       "      <td>1797</td>\n",
       "      <td>grafická_karta</td>\n",
       "      <td>3</td>\n",
       "      <td>6535.788518</td>\n",
       "    </tr>\n",
       "    <tr>\n",
       "      <th>5</th>\n",
       "      <td>1</td>\n",
       "      <td>1272</td>\n",
       "      <td>základní_deska</td>\n",
       "      <td>7</td>\n",
       "      <td>16369.002884</td>\n",
       "    </tr>\n",
       "    <tr>\n",
       "      <th>6</th>\n",
       "      <td>4</td>\n",
       "      <td>1880</td>\n",
       "      <td>SSD</td>\n",
       "      <td>9</td>\n",
       "      <td>13852.257865</td>\n",
       "    </tr>\n",
       "  </tbody>\n",
       "</table>\n",
       "</div>"
      ],
      "text/plain": [
       "   prodejna_id  transakce_id predmet_prodeje  pocet_prodanych_ks  \\\n",
       "0            5          1278  grafická_karta                   1   \n",
       "1            4          1216             SSD                   5   \n",
       "2            1          1866             RAM                   6   \n",
       "3            5          1872        procesor                   6   \n",
       "4            5          1797  grafická_karta                   3   \n",
       "5            1          1272  základní_deska                   7   \n",
       "6            4          1880             SSD                   9   \n",
       "\n",
       "   cena_predmetu  \n",
       "0   19500.698749  \n",
       "1   19731.109517  \n",
       "2   14114.153423  \n",
       "3   10953.879144  \n",
       "4    6535.788518  \n",
       "5   16369.002884  \n",
       "6   13852.257865  "
      ]
     },
     "execution_count": 82,
     "metadata": {},
     "output_type": "execute_result"
    }
   ],
   "source": [
    "df_prodej_hardware.head(7)"
   ]
  },
  {
   "cell_type": "code",
   "execution_count": null,
   "id": "369547bb-1ef3-4e7e-8cdf-7fc1d0a4bb8a",
   "metadata": {},
   "outputs": [],
   "source": []
  },
  {
   "cell_type": "code",
   "execution_count": 86,
   "id": "655d3111-dcaf-442f-9549-eabbcb75fecc",
   "metadata": {},
   "outputs": [
    {
     "data": {
      "text/plain": [
       "prodejna_id\n",
       "1    36\n",
       "2    14\n",
       "3    16\n",
       "4    34\n",
       "5    31\n",
       "Name: pocet_prodanych_ks, dtype: int64"
      ]
     },
     "execution_count": 86,
     "metadata": {},
     "output_type": "execute_result"
    }
   ],
   "source": [
    "df_prodej_hardware.groupby('prodejna_id')['pocet_prodanych_ks'].sum()"
   ]
  },
  {
   "cell_type": "code",
   "execution_count": 91,
   "id": "10993938-81eb-489f-af36-3de80e816cc2",
   "metadata": {},
   "outputs": [],
   "source": [
    "# S filtrem:\n",
    "def vyber_prodejny_s_prodejem_pres_tricet_ks(data_prodej,\n",
    "                                             jmeno_sl='pocet_prodanych_ks',\n",
    "                                             limit=30):\n",
    "    if jmeno_sl not in data_prodej.columns:\n",
    "        return None\n",
    "    else:\n",
    "        return data_prodej[jmeno_sl].sum() > limit"
   ]
  },
  {
   "cell_type": "code",
   "execution_count": null,
   "id": "d72af3bf-0045-4d2d-a4b1-1af38689bdf3",
   "metadata": {},
   "outputs": [],
   "source": []
  },
  {
   "cell_type": "code",
   "execution_count": 93,
   "id": "57e036cb-d8ff-4a4e-b24e-da5d36304eb1",
   "metadata": {},
   "outputs": [],
   "source": [
    "vyfiltr_df = df_prodej_hardware.groupby('prodejna_id').filter(vyber_prodejny_s_prodejem_pres_tricet_ks)"
   ]
  },
  {
   "cell_type": "code",
   "execution_count": 101,
   "id": "3b2f3229-2be2-495c-9c67-13f13e7b881c",
   "metadata": {},
   "outputs": [
    {
     "data": {
      "text/html": [
       "<div>\n",
       "<style scoped>\n",
       "    .dataframe tbody tr th:only-of-type {\n",
       "        vertical-align: middle;\n",
       "    }\n",
       "\n",
       "    .dataframe tbody tr th {\n",
       "        vertical-align: top;\n",
       "    }\n",
       "\n",
       "    .dataframe thead th {\n",
       "        text-align: right;\n",
       "    }\n",
       "</style>\n",
       "<table border=\"1\" class=\"dataframe\">\n",
       "  <thead>\n",
       "    <tr style=\"text-align: right;\">\n",
       "      <th></th>\n",
       "      <th>prodejna_id</th>\n",
       "      <th>transakce_id</th>\n",
       "      <th>predmet_prodeje</th>\n",
       "      <th>pocet_prodanych_ks</th>\n",
       "      <th>cena_predmetu</th>\n",
       "    </tr>\n",
       "  </thead>\n",
       "  <tbody>\n",
       "    <tr>\n",
       "      <th>0</th>\n",
       "      <td>5</td>\n",
       "      <td>1278</td>\n",
       "      <td>grafická_karta</td>\n",
       "      <td>1</td>\n",
       "      <td>19500.698749</td>\n",
       "    </tr>\n",
       "    <tr>\n",
       "      <th>1</th>\n",
       "      <td>4</td>\n",
       "      <td>1216</td>\n",
       "      <td>SSD</td>\n",
       "      <td>5</td>\n",
       "      <td>19731.109517</td>\n",
       "    </tr>\n",
       "    <tr>\n",
       "      <th>2</th>\n",
       "      <td>1</td>\n",
       "      <td>1866</td>\n",
       "      <td>RAM</td>\n",
       "      <td>6</td>\n",
       "      <td>14114.153423</td>\n",
       "    </tr>\n",
       "    <tr>\n",
       "      <th>3</th>\n",
       "      <td>5</td>\n",
       "      <td>1872</td>\n",
       "      <td>procesor</td>\n",
       "      <td>6</td>\n",
       "      <td>10953.879144</td>\n",
       "    </tr>\n",
       "    <tr>\n",
       "      <th>4</th>\n",
       "      <td>5</td>\n",
       "      <td>1797</td>\n",
       "      <td>grafická_karta</td>\n",
       "      <td>3</td>\n",
       "      <td>6535.788518</td>\n",
       "    </tr>\n",
       "  </tbody>\n",
       "</table>\n",
       "</div>"
      ],
      "text/plain": [
       "   prodejna_id  transakce_id predmet_prodeje  pocet_prodanych_ks  \\\n",
       "0            5          1278  grafická_karta                   1   \n",
       "1            4          1216             SSD                   5   \n",
       "2            1          1866             RAM                   6   \n",
       "3            5          1872        procesor                   6   \n",
       "4            5          1797  grafická_karta                   3   \n",
       "\n",
       "   cena_predmetu  \n",
       "0   19500.698749  \n",
       "1   19731.109517  \n",
       "2   14114.153423  \n",
       "3   10953.879144  \n",
       "4    6535.788518  "
      ]
     },
     "execution_count": 101,
     "metadata": {},
     "output_type": "execute_result"
    }
   ],
   "source": [
    "vyfiltr_df.head()"
   ]
  },
  {
   "cell_type": "code",
   "execution_count": 104,
   "id": "877b3023-15b7-4a44-8ccb-cd84e62d6456",
   "metadata": {},
   "outputs": [
    {
     "data": {
      "text/plain": [
       "array(['grafická_karta', 'SSD', 'RAM', 'procesor', 'základní_deska',\n",
       "       'HDD'], dtype=object)"
      ]
     },
     "execution_count": 104,
     "metadata": {},
     "output_type": "execute_result"
    }
   ],
   "source": [
    "vyfiltr_df['predmet_prodeje'].unique()"
   ]
  },
  {
   "cell_type": "code",
   "execution_count": null,
   "id": "f4e4e458-a524-423f-9eb7-88e44fc00ce6",
   "metadata": {},
   "outputs": [],
   "source": []
  },
  {
   "cell_type": "code",
   "execution_count": 99,
   "id": "8c2cfa86-7ccd-482e-adbf-c94cfc475ae7",
   "metadata": {},
   "outputs": [
    {
     "data": {
      "text/plain": [
       "<pandas.core.groupby.generic.DataFrameGroupBy object at 0x7fc50cc913a0>"
      ]
     },
     "execution_count": 99,
     "metadata": {},
     "output_type": "execute_result"
    }
   ],
   "source": [
    "vyfiltr_df.groupby('prodejna_id')"
   ]
  },
  {
   "cell_type": "code",
   "execution_count": 105,
   "id": "bf2da3fd-38a2-4ec8-941b-92d59275b9e0",
   "metadata": {},
   "outputs": [
    {
     "data": {
      "text/html": [
       "<div>\n",
       "<style scoped>\n",
       "    .dataframe tbody tr th:only-of-type {\n",
       "        vertical-align: middle;\n",
       "    }\n",
       "\n",
       "    .dataframe tbody tr th {\n",
       "        vertical-align: top;\n",
       "    }\n",
       "\n",
       "    .dataframe thead th {\n",
       "        text-align: right;\n",
       "    }\n",
       "</style>\n",
       "<table border=\"1\" class=\"dataframe\">\n",
       "  <thead>\n",
       "    <tr style=\"text-align: right;\">\n",
       "      <th></th>\n",
       "      <th>prodejna_id</th>\n",
       "      <th>transakce_id</th>\n",
       "      <th>predmet_prodeje</th>\n",
       "      <th>pocet_prodanych_ks</th>\n",
       "      <th>cena_predmetu</th>\n",
       "    </tr>\n",
       "  </thead>\n",
       "  <tbody>\n",
       "    <tr>\n",
       "      <th>0</th>\n",
       "      <td>5</td>\n",
       "      <td>1278</td>\n",
       "      <td>grafická_karta</td>\n",
       "      <td>1</td>\n",
       "      <td>19500.698749</td>\n",
       "    </tr>\n",
       "    <tr>\n",
       "      <th>1</th>\n",
       "      <td>4</td>\n",
       "      <td>1216</td>\n",
       "      <td>SSD</td>\n",
       "      <td>5</td>\n",
       "      <td>19731.109517</td>\n",
       "    </tr>\n",
       "  </tbody>\n",
       "</table>\n",
       "</div>"
      ],
      "text/plain": [
       "   prodejna_id  transakce_id predmet_prodeje  pocet_prodanych_ks  \\\n",
       "0            5          1278  grafická_karta                   1   \n",
       "1            4          1216             SSD                   5   \n",
       "\n",
       "   cena_predmetu  \n",
       "0   19500.698749  \n",
       "1   19731.109517  "
      ]
     },
     "execution_count": 105,
     "metadata": {},
     "output_type": "execute_result"
    }
   ],
   "source": [
    "df_prodej_hardware.head(2)"
   ]
  },
  {
   "cell_type": "code",
   "execution_count": 120,
   "id": "0a562137-6f25-47e8-9279-0edde34fea4a",
   "metadata": {},
   "outputs": [],
   "source": [
    "# Bez filtru:"
   ]
  },
  {
   "cell_type": "code",
   "execution_count": 124,
   "id": "6d86fd15-1be2-421f-af16-b50c48c65768",
   "metadata": {},
   "outputs": [],
   "source": [
    "seskupene_prodeje = df_prodej_hardware.groupby('prodejna_id')['pocet_prodanych_ks'].sum()"
   ]
  },
  {
   "cell_type": "code",
   "execution_count": 125,
   "id": "8b5b6e5a-485f-4f47-91fd-ce0f647cf15f",
   "metadata": {},
   "outputs": [
    {
     "data": {
      "text/plain": [
       "pandas.core.series.Series"
      ]
     },
     "execution_count": 125,
     "metadata": {},
     "output_type": "execute_result"
    }
   ],
   "source": [
    "type(seskupene_prodeje)"
   ]
  },
  {
   "cell_type": "code",
   "execution_count": 129,
   "id": "28decdc1-9739-4651-9705-f4250078571c",
   "metadata": {},
   "outputs": [
    {
     "data": {
      "text/plain": [
       "prodejna_id\n",
       "1    36\n",
       "4    34\n",
       "5    31\n",
       "Name: pocet_prodanych_ks, dtype: int64"
      ]
     },
     "execution_count": 129,
     "metadata": {},
     "output_type": "execute_result"
    }
   ],
   "source": [
    "seskupene_prodeje[seskupene_prodeje > 30]"
   ]
  },
  {
   "cell_type": "code",
   "execution_count": 106,
   "id": "02326cb6-b0fa-458b-bea4-56999026f660",
   "metadata": {},
   "outputs": [],
   "source": [
    "def vypocti_celkovy_prijem_obchodu(df_prodej_hardware):\n",
    "    return round(df_prodej_hardware['pocet_prodanych_ks']\n",
    "                 * df_prodej_hardware['cena_predmetu'], 2)"
   ]
  },
  {
   "cell_type": "code",
   "execution_count": 110,
   "id": "d9aa47b0-a7b8-4a31-ac63-b5797fd9d2d7",
   "metadata": {},
   "outputs": [],
   "source": [
    "vyfiltr_df['Celkové prodeje'] = \\\n",
    "    vyfiltr_df.groupby('prodejna_id', group_keys=False).apply(vypocti_celkovy_prijem_obchodu)"
   ]
  },
  {
   "cell_type": "code",
   "execution_count": 114,
   "id": "83746c79-f776-4873-b8b2-1c82861015ce",
   "metadata": {},
   "outputs": [
    {
     "data": {
      "text/plain": [
       "pandas.core.series.Series"
      ]
     },
     "execution_count": 114,
     "metadata": {},
     "output_type": "execute_result"
    }
   ],
   "source": [
    "type(vyfiltr_df.groupby('prodejna_id')['Celkové prodeje'].sum())"
   ]
  },
  {
   "cell_type": "markdown",
   "id": "e31fae15-798a-4565-8a54-a670ddaf2861",
   "metadata": {},
   "source": [
    "<br>\n",
    "\n",
    "Pokud bude potřebné, seřadit sestupně podle celkového výdělku prodejny:"
   ]
  },
  {
   "cell_type": "code",
   "execution_count": 119,
   "id": "609ad503-c0e3-429b-8b1d-ad34800c9445",
   "metadata": {},
   "outputs": [
    {
     "data": {
      "text/plain": [
       "prodejna_id\n",
       "1    561326.98\n",
       "5    343519.04\n",
       "4    320024.82\n",
       "Name: Celkové prodeje, dtype: float64"
      ]
     },
     "execution_count": 119,
     "metadata": {},
     "output_type": "execute_result"
    }
   ],
   "source": [
    "vyfiltr_df \\\n",
    "    .groupby('prodejna_id')['Celkové prodeje'] \\\n",
    "    .sum() \\\n",
    "    .sort_values(ascending=False)"
   ]
  },
  {
   "cell_type": "markdown",
   "id": "11369181-2067-43cc-a7a0-34b4807aeb80",
   "metadata": {},
   "source": [
    "<details>\n",
    "    <summary>▶️ Řešení</summary>\n",
    "    \n",
    "```python\n",
    "def vyber_prodejny_s_vice_nez_triceti_produkty(\n",
    "    data: DataFrame, limit: int = 30\n",
    "):\n",
    "    return data['pocet_prodanych_ks'].sum() >= limit\n",
    "\n",
    "hledane_prodejny = df_prodej_hardware.groupby('prodejna_id').filter(\n",
    "    vyber_prodejny_s_vice_nez_triceti_produkty\n",
    ")\n",
    "\n",
    "agregovano = df_prodej_hardware.groupby('prodejna_id')['pocet_prodanych_ks'].sum()\n",
    "odfiltrovano = agregovano[agregovano > 30]\n",
    "\n",
    "print(odfiltrovano)\n",
    "```\n",
    "</details>"
   ]
  },
  {
   "cell_type": "markdown",
   "id": "abfb49c1-d87d-4cca-b00c-ad1957a705f7",
   "metadata": {},
   "source": [
    "---"
   ]
  },
  {
   "cell_type": "markdown",
   "id": "2a323efc-2d97-4536-b018-356b008668d9",
   "metadata": {},
   "source": [
    "\n",
    "<img src=\"https://external-content.duckduckgo.com/iu/?u=https%3A%2F%2Ftse2.mm.bing.net%2Fth%3Fid%3DOIP.P16hnt14CM-mJ5eAKykxLAHaHa%26pid%3DApi&f=1&ipt=27e3f5b23fe44567ad0730192d5dcb13c7c23aa6e87579d16df05e27461dc12c&ipo=images\" width=\"160\" style=\"margin-left:auto; margin-right:auto\"/>"
   ]
  },
  {
   "cell_type": "markdown",
   "id": "506de3fa-595a-400a-ad1f-f049749c9172",
   "metadata": {},
   "source": [
    "## Pivot tabulky\n",
    "\n",
    "---\n"
   ]
  },
  {
   "cell_type": "markdown",
   "id": "e805bca1-9dfa-4475-8894-86c08c7a61bf",
   "metadata": {},
   "source": [
    "*Pivot tabulky* (*kontingenční tabulky*) jsou užitečné pro přehledné zobrazení a analýzu dat z tabulkových zdrojů.\n",
    "\n",
    "Pomocí pivot tabulek můžeš **seskupit data podle určitých kategorií** a provést agregaci hodnot.\n",
    "\n",
    "Nejprve si představ situaci bez pivot tabulek, pomocí ukázky níže:"
   ]
  },
  {
   "cell_type": "code",
   "execution_count": null,
   "id": "7afb01d6-a59a-4c12-b87d-4968890e617d",
   "metadata": {},
   "outputs": [],
   "source": [
    "# !pip install seaborn"
   ]
  },
  {
   "cell_type": "code",
   "execution_count": 130,
   "id": "a435c26c-be00-4bcf-95cf-bac2cb5ac7ba",
   "metadata": {
    "tags": []
   },
   "outputs": [],
   "source": [
    "import seaborn"
   ]
  },
  {
   "cell_type": "markdown",
   "id": "007cc729-e1cc-44b4-9a6b-1a4b19fd97b9",
   "metadata": {},
   "source": [
    "<br>\n",
    "\n",
    "V této ukazce použiješ vzorová data týkající se [nehody lodi Titanic](https://en.wikipedia.org/wiki/Sinking_of_the_Titanic):"
   ]
  },
  {
   "cell_type": "code",
   "execution_count": 131,
   "id": "0b5dfb50-9724-47c0-8a54-9c128fb53523",
   "metadata": {
    "tags": []
   },
   "outputs": [],
   "source": [
    "df_titanic = seaborn.load_dataset('titanic')"
   ]
  },
  {
   "cell_type": "code",
   "execution_count": 132,
   "id": "b1132c66-cbcc-419a-a221-54bcbc55322f",
   "metadata": {
    "tags": []
   },
   "outputs": [
    {
     "name": "stdout",
     "output_type": "stream",
     "text": [
      "<class 'pandas.core.frame.DataFrame'>\n",
      "RangeIndex: 891 entries, 0 to 890\n",
      "Data columns (total 15 columns):\n",
      " #   Column       Non-Null Count  Dtype   \n",
      "---  ------       --------------  -----   \n",
      " 0   survived     891 non-null    int64   \n",
      " 1   pclass       891 non-null    int64   \n",
      " 2   sex          891 non-null    object  \n",
      " 3   age          714 non-null    float64 \n",
      " 4   sibsp        891 non-null    int64   \n",
      " 5   parch        891 non-null    int64   \n",
      " 6   fare         891 non-null    float64 \n",
      " 7   embarked     889 non-null    object  \n",
      " 8   class        891 non-null    category\n",
      " 9   who          891 non-null    object  \n",
      " 10  adult_male   891 non-null    bool    \n",
      " 11  deck         203 non-null    category\n",
      " 12  embark_town  889 non-null    object  \n",
      " 13  alive        891 non-null    object  \n",
      " 14  alone        891 non-null    bool    \n",
      "dtypes: bool(2), category(2), float64(2), int64(4), object(5)\n",
      "memory usage: 80.7+ KB\n"
     ]
    }
   ],
   "source": [
    "df_titanic.info()"
   ]
  },
  {
   "cell_type": "markdown",
   "id": "3efa04a2-3cbd-4135-a740-04e7a7ecef49",
   "metadata": {},
   "source": [
    "<br>\n",
    "\n",
    "Pro jakoukoliv pokročilou analýzu dat, potřebuješ údaj seskupit.\n",
    "\n",
    "Tak jak jsi do prováděl doposud, pomocí `groupby`:"
   ]
  },
  {
   "cell_type": "code",
   "execution_count": 133,
   "id": "98fc2e02-f29a-48cc-8cbc-3f9ea0284510",
   "metadata": {},
   "outputs": [
    {
     "data": {
      "text/html": [
       "<div>\n",
       "<style scoped>\n",
       "    .dataframe tbody tr th:only-of-type {\n",
       "        vertical-align: middle;\n",
       "    }\n",
       "\n",
       "    .dataframe tbody tr th {\n",
       "        vertical-align: top;\n",
       "    }\n",
       "\n",
       "    .dataframe thead th {\n",
       "        text-align: right;\n",
       "    }\n",
       "</style>\n",
       "<table border=\"1\" class=\"dataframe\">\n",
       "  <thead>\n",
       "    <tr style=\"text-align: right;\">\n",
       "      <th></th>\n",
       "      <th>survived</th>\n",
       "      <th>pclass</th>\n",
       "      <th>sex</th>\n",
       "      <th>age</th>\n",
       "      <th>sibsp</th>\n",
       "      <th>parch</th>\n",
       "      <th>fare</th>\n",
       "      <th>embarked</th>\n",
       "      <th>class</th>\n",
       "      <th>who</th>\n",
       "      <th>adult_male</th>\n",
       "      <th>deck</th>\n",
       "      <th>embark_town</th>\n",
       "      <th>alive</th>\n",
       "      <th>alone</th>\n",
       "    </tr>\n",
       "  </thead>\n",
       "  <tbody>\n",
       "    <tr>\n",
       "      <th>0</th>\n",
       "      <td>0</td>\n",
       "      <td>3</td>\n",
       "      <td>male</td>\n",
       "      <td>22.0</td>\n",
       "      <td>1</td>\n",
       "      <td>0</td>\n",
       "      <td>7.2500</td>\n",
       "      <td>S</td>\n",
       "      <td>Third</td>\n",
       "      <td>man</td>\n",
       "      <td>True</td>\n",
       "      <td>NaN</td>\n",
       "      <td>Southampton</td>\n",
       "      <td>no</td>\n",
       "      <td>False</td>\n",
       "    </tr>\n",
       "    <tr>\n",
       "      <th>1</th>\n",
       "      <td>1</td>\n",
       "      <td>1</td>\n",
       "      <td>female</td>\n",
       "      <td>38.0</td>\n",
       "      <td>1</td>\n",
       "      <td>0</td>\n",
       "      <td>71.2833</td>\n",
       "      <td>C</td>\n",
       "      <td>First</td>\n",
       "      <td>woman</td>\n",
       "      <td>False</td>\n",
       "      <td>C</td>\n",
       "      <td>Cherbourg</td>\n",
       "      <td>yes</td>\n",
       "      <td>False</td>\n",
       "    </tr>\n",
       "    <tr>\n",
       "      <th>2</th>\n",
       "      <td>1</td>\n",
       "      <td>3</td>\n",
       "      <td>female</td>\n",
       "      <td>26.0</td>\n",
       "      <td>0</td>\n",
       "      <td>0</td>\n",
       "      <td>7.9250</td>\n",
       "      <td>S</td>\n",
       "      <td>Third</td>\n",
       "      <td>woman</td>\n",
       "      <td>False</td>\n",
       "      <td>NaN</td>\n",
       "      <td>Southampton</td>\n",
       "      <td>yes</td>\n",
       "      <td>True</td>\n",
       "    </tr>\n",
       "    <tr>\n",
       "      <th>3</th>\n",
       "      <td>1</td>\n",
       "      <td>1</td>\n",
       "      <td>female</td>\n",
       "      <td>35.0</td>\n",
       "      <td>1</td>\n",
       "      <td>0</td>\n",
       "      <td>53.1000</td>\n",
       "      <td>S</td>\n",
       "      <td>First</td>\n",
       "      <td>woman</td>\n",
       "      <td>False</td>\n",
       "      <td>C</td>\n",
       "      <td>Southampton</td>\n",
       "      <td>yes</td>\n",
       "      <td>False</td>\n",
       "    </tr>\n",
       "    <tr>\n",
       "      <th>4</th>\n",
       "      <td>0</td>\n",
       "      <td>3</td>\n",
       "      <td>male</td>\n",
       "      <td>35.0</td>\n",
       "      <td>0</td>\n",
       "      <td>0</td>\n",
       "      <td>8.0500</td>\n",
       "      <td>S</td>\n",
       "      <td>Third</td>\n",
       "      <td>man</td>\n",
       "      <td>True</td>\n",
       "      <td>NaN</td>\n",
       "      <td>Southampton</td>\n",
       "      <td>no</td>\n",
       "      <td>True</td>\n",
       "    </tr>\n",
       "  </tbody>\n",
       "</table>\n",
       "</div>"
      ],
      "text/plain": [
       "   survived  pclass     sex   age  sibsp  parch     fare embarked  class  \\\n",
       "0         0       3    male  22.0      1      0   7.2500        S  Third   \n",
       "1         1       1  female  38.0      1      0  71.2833        C  First   \n",
       "2         1       3  female  26.0      0      0   7.9250        S  Third   \n",
       "3         1       1  female  35.0      1      0  53.1000        S  First   \n",
       "4         0       3    male  35.0      0      0   8.0500        S  Third   \n",
       "\n",
       "     who  adult_male deck  embark_town alive  alone  \n",
       "0    man        True  NaN  Southampton    no  False  \n",
       "1  woman       False    C    Cherbourg   yes  False  \n",
       "2  woman       False  NaN  Southampton   yes   True  \n",
       "3  woman       False    C  Southampton   yes  False  \n",
       "4    man        True  NaN  Southampton    no   True  "
      ]
     },
     "execution_count": 133,
     "metadata": {},
     "output_type": "execute_result"
    }
   ],
   "source": [
    "df_titanic.head()"
   ]
  },
  {
   "cell_type": "markdown",
   "id": "faaed25c-a24d-4ca6-a020-bb5c73c665c5",
   "metadata": {},
   "source": [
    "<br>\n",
    "\n",
    "Pokud potřebuješ identifikovat všechny unikátní hodnoty ve sloupci, vyber sloupec a použij metodu `unique()`:"
   ]
  },
  {
   "cell_type": "code",
   "execution_count": 134,
   "id": "0ee25309-7798-4845-88d2-4b926c4353df",
   "metadata": {
    "tags": []
   },
   "outputs": [
    {
     "data": {
      "text/plain": [
       "array(['male', 'female'], dtype=object)"
      ]
     },
     "execution_count": 134,
     "metadata": {},
     "output_type": "execute_result"
    }
   ],
   "source": [
    "df_titanic[\"sex\"].unique()"
   ]
  },
  {
   "cell_type": "markdown",
   "id": "c524a9cc-f09d-4fe4-816d-0955541bcb45",
   "metadata": {},
   "source": [
    "<br>\n",
    "\n",
    "Pro následující rozbor seskupím data podle pohlaví:"
   ]
  },
  {
   "cell_type": "code",
   "execution_count": 135,
   "id": "87318f1b-c2ed-4b0f-82f1-629affec5dc0",
   "metadata": {
    "tags": []
   },
   "outputs": [
    {
     "data": {
      "text/plain": [
       "<pandas.core.groupby.generic.DataFrameGroupBy object at 0x7fc5072f6cd0>"
      ]
     },
     "execution_count": 135,
     "metadata": {},
     "output_type": "execute_result"
    }
   ],
   "source": [
    "df_titanic.groupby('sex')"
   ]
  },
  {
   "cell_type": "markdown",
   "id": "d174c648-91a3-48e2-a1de-f058927da773",
   "metadata": {},
   "source": [
    "<br>\n",
    "\n",
    "Potřebuješ průměrnou hodnotu, ať je na sloupečku `survived` vidět poměr přeživších:"
   ]
  },
  {
   "cell_type": "code",
   "execution_count": 136,
   "id": "47d5b48d-59a7-4f38-9c38-776431a0dc57",
   "metadata": {},
   "outputs": [
    {
     "data": {
      "text/html": [
       "<div>\n",
       "<style scoped>\n",
       "    .dataframe tbody tr th:only-of-type {\n",
       "        vertical-align: middle;\n",
       "    }\n",
       "\n",
       "    .dataframe tbody tr th {\n",
       "        vertical-align: top;\n",
       "    }\n",
       "\n",
       "    .dataframe thead th {\n",
       "        text-align: right;\n",
       "    }\n",
       "</style>\n",
       "<table border=\"1\" class=\"dataframe\">\n",
       "  <thead>\n",
       "    <tr style=\"text-align: right;\">\n",
       "      <th></th>\n",
       "      <th>survived</th>\n",
       "      <th>pclass</th>\n",
       "      <th>sex</th>\n",
       "      <th>age</th>\n",
       "      <th>sibsp</th>\n",
       "      <th>parch</th>\n",
       "      <th>fare</th>\n",
       "      <th>embarked</th>\n",
       "      <th>class</th>\n",
       "      <th>who</th>\n",
       "      <th>adult_male</th>\n",
       "      <th>deck</th>\n",
       "      <th>embark_town</th>\n",
       "      <th>alive</th>\n",
       "      <th>alone</th>\n",
       "    </tr>\n",
       "  </thead>\n",
       "  <tbody>\n",
       "    <tr>\n",
       "      <th>0</th>\n",
       "      <td>0</td>\n",
       "      <td>3</td>\n",
       "      <td>male</td>\n",
       "      <td>22.0</td>\n",
       "      <td>1</td>\n",
       "      <td>0</td>\n",
       "      <td>7.2500</td>\n",
       "      <td>S</td>\n",
       "      <td>Third</td>\n",
       "      <td>man</td>\n",
       "      <td>True</td>\n",
       "      <td>NaN</td>\n",
       "      <td>Southampton</td>\n",
       "      <td>no</td>\n",
       "      <td>False</td>\n",
       "    </tr>\n",
       "    <tr>\n",
       "      <th>1</th>\n",
       "      <td>1</td>\n",
       "      <td>1</td>\n",
       "      <td>female</td>\n",
       "      <td>38.0</td>\n",
       "      <td>1</td>\n",
       "      <td>0</td>\n",
       "      <td>71.2833</td>\n",
       "      <td>C</td>\n",
       "      <td>First</td>\n",
       "      <td>woman</td>\n",
       "      <td>False</td>\n",
       "      <td>C</td>\n",
       "      <td>Cherbourg</td>\n",
       "      <td>yes</td>\n",
       "      <td>False</td>\n",
       "    </tr>\n",
       "    <tr>\n",
       "      <th>2</th>\n",
       "      <td>1</td>\n",
       "      <td>3</td>\n",
       "      <td>female</td>\n",
       "      <td>26.0</td>\n",
       "      <td>0</td>\n",
       "      <td>0</td>\n",
       "      <td>7.9250</td>\n",
       "      <td>S</td>\n",
       "      <td>Third</td>\n",
       "      <td>woman</td>\n",
       "      <td>False</td>\n",
       "      <td>NaN</td>\n",
       "      <td>Southampton</td>\n",
       "      <td>yes</td>\n",
       "      <td>True</td>\n",
       "    </tr>\n",
       "  </tbody>\n",
       "</table>\n",
       "</div>"
      ],
      "text/plain": [
       "   survived  pclass     sex   age  sibsp  parch     fare embarked  class  \\\n",
       "0         0       3    male  22.0      1      0   7.2500        S  Third   \n",
       "1         1       1  female  38.0      1      0  71.2833        C  First   \n",
       "2         1       3  female  26.0      0      0   7.9250        S  Third   \n",
       "\n",
       "     who  adult_male deck  embark_town alive  alone  \n",
       "0    man        True  NaN  Southampton    no  False  \n",
       "1  woman       False    C    Cherbourg   yes  False  \n",
       "2  woman       False  NaN  Southampton   yes   True  "
      ]
     },
     "execution_count": 136,
     "metadata": {},
     "output_type": "execute_result"
    }
   ],
   "source": [
    "df_titanic.head(3)"
   ]
  },
  {
   "cell_type": "code",
   "execution_count": 137,
   "id": "b32bffd2-14ee-4226-ad74-0bfbd7d4e292",
   "metadata": {
    "tags": []
   },
   "outputs": [
    {
     "data": {
      "text/plain": [
       "sex\n",
       "female    0.742038\n",
       "male      0.188908\n",
       "Name: survived, dtype: float64"
      ]
     },
     "execution_count": 137,
     "metadata": {},
     "output_type": "execute_result"
    }
   ],
   "source": [
    "df_titanic.groupby('sex')['survived'].mean()"
   ]
  },
  {
   "cell_type": "markdown",
   "id": "5b56e3a8-6097-4340-a8ae-b51be7f3fad8",
   "metadata": {},
   "source": [
    "<br>\n",
    "\n",
    "Pro lepší čitelnost **zaokrouhlím výsledek na dvě desetinné čísla**:"
   ]
  },
  {
   "cell_type": "code",
   "execution_count": null,
   "id": "9e9421e9-45bb-453f-92f9-2e6e176730c1",
   "metadata": {},
   "outputs": [],
   "source": [
    "# round(df_titanic.)"
   ]
  },
  {
   "cell_type": "code",
   "execution_count": 138,
   "id": "db37b13d-fda2-4f58-9914-cb1e1649dc0f",
   "metadata": {
    "tags": []
   },
   "outputs": [
    {
     "data": {
      "text/plain": [
       "sex\n",
       "female    0.74\n",
       "male      0.19\n",
       "Name: survived, dtype: float64"
      ]
     },
     "execution_count": 138,
     "metadata": {},
     "output_type": "execute_result"
    }
   ],
   "source": [
    "df_titanic.groupby('sex')['survived'].mean().round(2)"
   ]
  },
  {
   "cell_type": "markdown",
   "id": "e245d78d-fe62-413d-99c6-002ebacba20c",
   "metadata": {},
   "source": [
    "Zaokrouhlit je možné nejenom pomocí Pythonu a funkce `round()` ale také metoda `round()`."
   ]
  },
  {
   "cell_type": "markdown",
   "id": "6a5ba075-6d11-4168-96b5-28bbeb539e96",
   "metadata": {},
   "source": [
    "Takový průzkum z této studie ti dá jasný pohled na věc:\n",
    "* 3 ze 4 žen přežily,\n",
    "* 1 z 5 mužů přežil."
   ]
  },
  {
   "cell_type": "markdown",
   "id": "4d447022-800d-4fee-bd7a-ceb75b906770",
   "metadata": {},
   "source": [
    "<br>\n",
    "\n",
    "Pokud budeš potřebovat detailnější analýzy, budeš potřebovat více dat.\n",
    "\n",
    "Třeba situaci, kde kromě pohlaví, bereš v potaz **třídu cestujících** `class`:"
   ]
  },
  {
   "cell_type": "code",
   "execution_count": 139,
   "id": "8439f640-475d-4ae5-89c2-da3965348f1d",
   "metadata": {},
   "outputs": [
    {
     "data": {
      "text/html": [
       "<div>\n",
       "<style scoped>\n",
       "    .dataframe tbody tr th:only-of-type {\n",
       "        vertical-align: middle;\n",
       "    }\n",
       "\n",
       "    .dataframe tbody tr th {\n",
       "        vertical-align: top;\n",
       "    }\n",
       "\n",
       "    .dataframe thead th {\n",
       "        text-align: right;\n",
       "    }\n",
       "</style>\n",
       "<table border=\"1\" class=\"dataframe\">\n",
       "  <thead>\n",
       "    <tr style=\"text-align: right;\">\n",
       "      <th></th>\n",
       "      <th>survived</th>\n",
       "      <th>pclass</th>\n",
       "      <th>sex</th>\n",
       "      <th>age</th>\n",
       "      <th>sibsp</th>\n",
       "      <th>parch</th>\n",
       "      <th>fare</th>\n",
       "      <th>embarked</th>\n",
       "      <th>class</th>\n",
       "      <th>who</th>\n",
       "      <th>adult_male</th>\n",
       "      <th>deck</th>\n",
       "      <th>embark_town</th>\n",
       "      <th>alive</th>\n",
       "      <th>alone</th>\n",
       "    </tr>\n",
       "  </thead>\n",
       "  <tbody>\n",
       "    <tr>\n",
       "      <th>0</th>\n",
       "      <td>0</td>\n",
       "      <td>3</td>\n",
       "      <td>male</td>\n",
       "      <td>22.0</td>\n",
       "      <td>1</td>\n",
       "      <td>0</td>\n",
       "      <td>7.2500</td>\n",
       "      <td>S</td>\n",
       "      <td>Third</td>\n",
       "      <td>man</td>\n",
       "      <td>True</td>\n",
       "      <td>NaN</td>\n",
       "      <td>Southampton</td>\n",
       "      <td>no</td>\n",
       "      <td>False</td>\n",
       "    </tr>\n",
       "    <tr>\n",
       "      <th>1</th>\n",
       "      <td>1</td>\n",
       "      <td>1</td>\n",
       "      <td>female</td>\n",
       "      <td>38.0</td>\n",
       "      <td>1</td>\n",
       "      <td>0</td>\n",
       "      <td>71.2833</td>\n",
       "      <td>C</td>\n",
       "      <td>First</td>\n",
       "      <td>woman</td>\n",
       "      <td>False</td>\n",
       "      <td>C</td>\n",
       "      <td>Cherbourg</td>\n",
       "      <td>yes</td>\n",
       "      <td>False</td>\n",
       "    </tr>\n",
       "  </tbody>\n",
       "</table>\n",
       "</div>"
      ],
      "text/plain": [
       "   survived  pclass     sex   age  sibsp  parch     fare embarked  class  \\\n",
       "0         0       3    male  22.0      1      0   7.2500        S  Third   \n",
       "1         1       1  female  38.0      1      0  71.2833        C  First   \n",
       "\n",
       "     who  adult_male deck  embark_town alive  alone  \n",
       "0    man        True  NaN  Southampton    no  False  \n",
       "1  woman       False    C    Cherbourg   yes  False  "
      ]
     },
     "execution_count": 139,
     "metadata": {},
     "output_type": "execute_result"
    }
   ],
   "source": [
    "df_titanic.head(2)"
   ]
  },
  {
   "cell_type": "code",
   "execution_count": 140,
   "id": "99e7b4a7-98c4-4e3e-b1c0-c563ff8c2ab2",
   "metadata": {
    "tags": []
   },
   "outputs": [
    {
     "data": {
      "text/plain": [
       "['Third', 'First', 'Second']\n",
       "Categories (3, object): ['First', 'Second', 'Third']"
      ]
     },
     "execution_count": 140,
     "metadata": {},
     "output_type": "execute_result"
    }
   ],
   "source": [
    "df_titanic[\"class\"].unique()"
   ]
  },
  {
   "cell_type": "code",
   "execution_count": 143,
   "id": "560a6a4a-2b97-4690-975d-062bd9086c2b",
   "metadata": {
    "tags": []
   },
   "outputs": [
    {
     "data": {
      "text/plain": [
       "pandas.core.series.Series"
      ]
     },
     "execution_count": 143,
     "metadata": {},
     "output_type": "execute_result"
    }
   ],
   "source": [
    "type(df_titanic.groupby(['sex', 'class'])['survived'].mean())"
   ]
  },
  {
   "cell_type": "code",
   "execution_count": 144,
   "id": "b49ce38b-b1ee-4b95-8d51-6ebcd008092d",
   "metadata": {
    "tags": []
   },
   "outputs": [
    {
     "data": {
      "text/plain": [
       "pandas.core.frame.DataFrame"
      ]
     },
     "execution_count": 144,
     "metadata": {},
     "output_type": "execute_result"
    }
   ],
   "source": [
    "type(df_titanic.groupby(['sex', 'class'])[['survived']].mean())"
   ]
  },
  {
   "cell_type": "code",
   "execution_count": 145,
   "id": "bb15c5db-a0b0-41aa-8c6f-d0e6464ab464",
   "metadata": {
    "tags": []
   },
   "outputs": [
    {
     "data": {
      "text/html": [
       "<div>\n",
       "<style scoped>\n",
       "    .dataframe tbody tr th:only-of-type {\n",
       "        vertical-align: middle;\n",
       "    }\n",
       "\n",
       "    .dataframe tbody tr th {\n",
       "        vertical-align: top;\n",
       "    }\n",
       "\n",
       "    .dataframe thead th {\n",
       "        text-align: right;\n",
       "    }\n",
       "</style>\n",
       "<table border=\"1\" class=\"dataframe\">\n",
       "  <thead>\n",
       "    <tr style=\"text-align: right;\">\n",
       "      <th></th>\n",
       "      <th></th>\n",
       "      <th>survived</th>\n",
       "    </tr>\n",
       "    <tr>\n",
       "      <th>sex</th>\n",
       "      <th>class</th>\n",
       "      <th></th>\n",
       "    </tr>\n",
       "  </thead>\n",
       "  <tbody>\n",
       "    <tr>\n",
       "      <th rowspan=\"3\" valign=\"top\">female</th>\n",
       "      <th>First</th>\n",
       "      <td>0.968085</td>\n",
       "    </tr>\n",
       "    <tr>\n",
       "      <th>Second</th>\n",
       "      <td>0.921053</td>\n",
       "    </tr>\n",
       "    <tr>\n",
       "      <th>Third</th>\n",
       "      <td>0.500000</td>\n",
       "    </tr>\n",
       "    <tr>\n",
       "      <th rowspan=\"3\" valign=\"top\">male</th>\n",
       "      <th>First</th>\n",
       "      <td>0.368852</td>\n",
       "    </tr>\n",
       "    <tr>\n",
       "      <th>Second</th>\n",
       "      <td>0.157407</td>\n",
       "    </tr>\n",
       "    <tr>\n",
       "      <th>Third</th>\n",
       "      <td>0.135447</td>\n",
       "    </tr>\n",
       "  </tbody>\n",
       "</table>\n",
       "</div>"
      ],
      "text/plain": [
       "               survived\n",
       "sex    class           \n",
       "female First   0.968085\n",
       "       Second  0.921053\n",
       "       Third   0.500000\n",
       "male   First   0.368852\n",
       "       Second  0.157407\n",
       "       Third   0.135447"
      ]
     },
     "execution_count": 145,
     "metadata": {},
     "output_type": "execute_result"
    }
   ],
   "source": [
    "df_titanic.groupby(['sex', 'class'])[['survived']].mean()"
   ]
  },
  {
   "cell_type": "code",
   "execution_count": 146,
   "id": "449e3793-8252-45b3-a5ec-1d5e553e1560",
   "metadata": {
    "tags": []
   },
   "outputs": [
    {
     "data": {
      "text/html": [
       "<div>\n",
       "<style scoped>\n",
       "    .dataframe tbody tr th:only-of-type {\n",
       "        vertical-align: middle;\n",
       "    }\n",
       "\n",
       "    .dataframe tbody tr th {\n",
       "        vertical-align: top;\n",
       "    }\n",
       "\n",
       "    .dataframe thead th {\n",
       "        text-align: right;\n",
       "    }\n",
       "</style>\n",
       "<table border=\"1\" class=\"dataframe\">\n",
       "  <thead>\n",
       "    <tr style=\"text-align: right;\">\n",
       "      <th></th>\n",
       "      <th></th>\n",
       "      <th>survived</th>\n",
       "    </tr>\n",
       "    <tr>\n",
       "      <th>sex</th>\n",
       "      <th>class</th>\n",
       "      <th></th>\n",
       "    </tr>\n",
       "  </thead>\n",
       "  <tbody>\n",
       "    <tr>\n",
       "      <th rowspan=\"3\" valign=\"top\">female</th>\n",
       "      <th>First</th>\n",
       "      <td>0.97</td>\n",
       "    </tr>\n",
       "    <tr>\n",
       "      <th>Second</th>\n",
       "      <td>0.92</td>\n",
       "    </tr>\n",
       "    <tr>\n",
       "      <th>Third</th>\n",
       "      <td>0.50</td>\n",
       "    </tr>\n",
       "    <tr>\n",
       "      <th rowspan=\"3\" valign=\"top\">male</th>\n",
       "      <th>First</th>\n",
       "      <td>0.37</td>\n",
       "    </tr>\n",
       "    <tr>\n",
       "      <th>Second</th>\n",
       "      <td>0.16</td>\n",
       "    </tr>\n",
       "    <tr>\n",
       "      <th>Third</th>\n",
       "      <td>0.14</td>\n",
       "    </tr>\n",
       "  </tbody>\n",
       "</table>\n",
       "</div>"
      ],
      "text/plain": [
       "               survived\n",
       "sex    class           \n",
       "female First       0.97\n",
       "       Second      0.92\n",
       "       Third       0.50\n",
       "male   First       0.37\n",
       "       Second      0.16\n",
       "       Third       0.14"
      ]
     },
     "execution_count": 146,
     "metadata": {},
     "output_type": "execute_result"
    }
   ],
   "source": [
    "df_titanic.groupby(['sex', 'class'])[['survived']].mean().round(2)"
   ]
  },
  {
   "cell_type": "markdown",
   "id": "88e8ec7e-9560-4444-960b-756204dd92ff",
   "metadata": {},
   "source": [
    "<br>\n",
    "\n",
    "Metodou `unstack` si můžeš vytvořit nové sloupečky, které jsou postavené na novém Indexu, nebo Indexech (*Multiindex*):"
   ]
  },
  {
   "cell_type": "code",
   "execution_count": 147,
   "id": "a9d4de85-9b18-432c-b451-567d5b1ff387",
   "metadata": {
    "tags": []
   },
   "outputs": [
    {
     "data": {
      "text/html": [
       "<div>\n",
       "<style scoped>\n",
       "    .dataframe tbody tr th:only-of-type {\n",
       "        vertical-align: middle;\n",
       "    }\n",
       "\n",
       "    .dataframe tbody tr th {\n",
       "        vertical-align: top;\n",
       "    }\n",
       "\n",
       "    .dataframe thead th {\n",
       "        text-align: right;\n",
       "    }\n",
       "</style>\n",
       "<table border=\"1\" class=\"dataframe\">\n",
       "  <thead>\n",
       "    <tr style=\"text-align: right;\">\n",
       "      <th>class</th>\n",
       "      <th>First</th>\n",
       "      <th>Second</th>\n",
       "      <th>Third</th>\n",
       "    </tr>\n",
       "    <tr>\n",
       "      <th>sex</th>\n",
       "      <th></th>\n",
       "      <th></th>\n",
       "      <th></th>\n",
       "    </tr>\n",
       "  </thead>\n",
       "  <tbody>\n",
       "    <tr>\n",
       "      <th>female</th>\n",
       "      <td>0.97</td>\n",
       "      <td>0.92</td>\n",
       "      <td>0.50</td>\n",
       "    </tr>\n",
       "    <tr>\n",
       "      <th>male</th>\n",
       "      <td>0.37</td>\n",
       "      <td>0.16</td>\n",
       "      <td>0.14</td>\n",
       "    </tr>\n",
       "  </tbody>\n",
       "</table>\n",
       "</div>"
      ],
      "text/plain": [
       "class   First  Second  Third\n",
       "sex                         \n",
       "female   0.97    0.92   0.50\n",
       "male     0.37    0.16   0.14"
      ]
     },
     "execution_count": 147,
     "metadata": {},
     "output_type": "execute_result"
    }
   ],
   "source": [
    "df_titanic.groupby(['sex', 'class'])['survived'].mean().round(2).unstack()"
   ]
  },
  {
   "cell_type": "markdown",
   "id": "3c8a422b-1b73-4d75-8eab-6fbe60bb8ee1",
   "metadata": {},
   "source": [
    "Takový průzkum ti dá skutečně lepší pohled na věc.\n",
    "\n",
    "Současně ale roste **náročnost ohlášení**.\n",
    "\n",
    "Zápis \"bobtná\" a **stává se náročnějším na přečtení a pochopení**."
   ]
  },
  {
   "cell_type": "markdown",
   "id": "7d94deec-3f50-45a6-a56c-7f7bae7da146",
   "metadata": {},
   "source": [
    "<br>\n",
    "\n",
    "### Pivot tabulka\n",
    "\n",
    "---"
   ]
  },
  {
   "cell_type": "markdown",
   "id": "221f3a97-0d40-4b9a-8c68-bbcb7defbf5c",
   "metadata": {
    "tags": []
   },
   "source": [
    "Podobné řešení ti nabízí funkce `pivot_table`:"
   ]
  },
  {
   "cell_type": "code",
   "execution_count": 148,
   "id": "4307d456-e1ae-4549-ab22-bb79e2ae1a76",
   "metadata": {
    "tags": []
   },
   "outputs": [
    {
     "data": {
      "text/html": [
       "<div>\n",
       "<style scoped>\n",
       "    .dataframe tbody tr th:only-of-type {\n",
       "        vertical-align: middle;\n",
       "    }\n",
       "\n",
       "    .dataframe tbody tr th {\n",
       "        vertical-align: top;\n",
       "    }\n",
       "\n",
       "    .dataframe thead th {\n",
       "        text-align: right;\n",
       "    }\n",
       "</style>\n",
       "<table border=\"1\" class=\"dataframe\">\n",
       "  <thead>\n",
       "    <tr style=\"text-align: right;\">\n",
       "      <th>class</th>\n",
       "      <th>First</th>\n",
       "      <th>Second</th>\n",
       "      <th>Third</th>\n",
       "    </tr>\n",
       "    <tr>\n",
       "      <th>sex</th>\n",
       "      <th></th>\n",
       "      <th></th>\n",
       "      <th></th>\n",
       "    </tr>\n",
       "  </thead>\n",
       "  <tbody>\n",
       "    <tr>\n",
       "      <th>female</th>\n",
       "      <td>0.97</td>\n",
       "      <td>0.92</td>\n",
       "      <td>0.50</td>\n",
       "    </tr>\n",
       "    <tr>\n",
       "      <th>male</th>\n",
       "      <td>0.37</td>\n",
       "      <td>0.16</td>\n",
       "      <td>0.14</td>\n",
       "    </tr>\n",
       "  </tbody>\n",
       "</table>\n",
       "</div>"
      ],
      "text/plain": [
       "class   First  Second  Third\n",
       "sex                         \n",
       "female   0.97    0.92   0.50\n",
       "male     0.37    0.16   0.14"
      ]
     },
     "execution_count": 148,
     "metadata": {},
     "output_type": "execute_result"
    }
   ],
   "source": [
    "df_titanic.groupby(['sex', 'class'])['survived'].mean().round(2).unstack()"
   ]
  },
  {
   "cell_type": "code",
   "execution_count": 149,
   "id": "ee25008d-769e-41e4-a680-38c431c02448",
   "metadata": {
    "tags": []
   },
   "outputs": [
    {
     "data": {
      "text/html": [
       "<div>\n",
       "<style scoped>\n",
       "    .dataframe tbody tr th:only-of-type {\n",
       "        vertical-align: middle;\n",
       "    }\n",
       "\n",
       "    .dataframe tbody tr th {\n",
       "        vertical-align: top;\n",
       "    }\n",
       "\n",
       "    .dataframe thead th {\n",
       "        text-align: right;\n",
       "    }\n",
       "</style>\n",
       "<table border=\"1\" class=\"dataframe\">\n",
       "  <thead>\n",
       "    <tr style=\"text-align: right;\">\n",
       "      <th>class</th>\n",
       "      <th>First</th>\n",
       "      <th>Second</th>\n",
       "      <th>Third</th>\n",
       "    </tr>\n",
       "    <tr>\n",
       "      <th>sex</th>\n",
       "      <th></th>\n",
       "      <th></th>\n",
       "      <th></th>\n",
       "    </tr>\n",
       "  </thead>\n",
       "  <tbody>\n",
       "    <tr>\n",
       "      <th>female</th>\n",
       "      <td>0.97</td>\n",
       "      <td>0.92</td>\n",
       "      <td>0.50</td>\n",
       "    </tr>\n",
       "    <tr>\n",
       "      <th>male</th>\n",
       "      <td>0.37</td>\n",
       "      <td>0.16</td>\n",
       "      <td>0.14</td>\n",
       "    </tr>\n",
       "  </tbody>\n",
       "</table>\n",
       "</div>"
      ],
      "text/plain": [
       "class   First  Second  Third\n",
       "sex                         \n",
       "female   0.97    0.92   0.50\n",
       "male     0.37    0.16   0.14"
      ]
     },
     "execution_count": 149,
     "metadata": {},
     "output_type": "execute_result"
    }
   ],
   "source": [
    "df_titanic.pivot_table('survived', index='sex', columns='class').round(2)"
   ]
  },
  {
   "cell_type": "code",
   "execution_count": 151,
   "id": "43c1615b-4679-409b-8db8-52ff70171018",
   "metadata": {
    "tags": []
   },
   "outputs": [],
   "source": [
    "pivot_df = df_titanic.pivot_table('survived', index='sex', columns='class').round(2)"
   ]
  },
  {
   "cell_type": "code",
   "execution_count": 153,
   "id": "8274d118-40d0-4805-97ab-b2f8015084d0",
   "metadata": {},
   "outputs": [
    {
     "data": {
      "text/plain": [
       "RangeIndex(start=0, stop=891, step=1)"
      ]
     },
     "execution_count": 153,
     "metadata": {},
     "output_type": "execute_result"
    }
   ],
   "source": [
    "df_titanic.index"
   ]
  },
  {
   "cell_type": "code",
   "execution_count": 152,
   "id": "147389cb-973d-4e94-a6c2-03c9492783ef",
   "metadata": {},
   "outputs": [
    {
     "data": {
      "text/plain": [
       "Index(['female', 'male'], dtype='object', name='sex')"
      ]
     },
     "execution_count": 152,
     "metadata": {},
     "output_type": "execute_result"
    }
   ],
   "source": [
    "pivot_df.index"
   ]
  },
  {
   "cell_type": "markdown",
   "id": "da7afb63-26d5-4f3c-9f29-412d590bcd44",
   "metadata": {},
   "source": [
    "Zásádním rozdílem je ovšem **čitelnost**, kterou máš pro tuto variantu zápisu.\n",
    "\n",
    "```\n",
    "Clarity beats purity\n",
    "```\n",
    "\n",
    "Pomocí vhodných argumentů, můžeš doplnit vysvětlivky tam, kde funkce `groupby` nemohla."
   ]
  },
  {
   "cell_type": "markdown",
   "id": "9e515886-bf01-4274-b516-a9e2b171ec82",
   "metadata": {},
   "source": [
    "Stejně platí, že pokud budeš potřebovat **další Index**, můžeš si pomoci funkcí `cut`:"
   ]
  },
  {
   "cell_type": "code",
   "execution_count": 155,
   "id": "c0554649-0a3f-4b03-83a1-996950d27d4f",
   "metadata": {
    "tags": []
   },
   "outputs": [
    {
     "data": {
      "text/html": [
       "<div>\n",
       "<style scoped>\n",
       "    .dataframe tbody tr th:only-of-type {\n",
       "        vertical-align: middle;\n",
       "    }\n",
       "\n",
       "    .dataframe tbody tr th {\n",
       "        vertical-align: top;\n",
       "    }\n",
       "\n",
       "    .dataframe thead th {\n",
       "        text-align: right;\n",
       "    }\n",
       "</style>\n",
       "<table border=\"1\" class=\"dataframe\">\n",
       "  <thead>\n",
       "    <tr style=\"text-align: right;\">\n",
       "      <th></th>\n",
       "      <th>survived</th>\n",
       "      <th>pclass</th>\n",
       "      <th>sex</th>\n",
       "      <th>age</th>\n",
       "      <th>sibsp</th>\n",
       "      <th>parch</th>\n",
       "      <th>fare</th>\n",
       "      <th>embarked</th>\n",
       "      <th>class</th>\n",
       "      <th>who</th>\n",
       "      <th>adult_male</th>\n",
       "      <th>deck</th>\n",
       "      <th>embark_town</th>\n",
       "      <th>alive</th>\n",
       "      <th>alone</th>\n",
       "    </tr>\n",
       "  </thead>\n",
       "  <tbody>\n",
       "    <tr>\n",
       "      <th>0</th>\n",
       "      <td>0</td>\n",
       "      <td>3</td>\n",
       "      <td>male</td>\n",
       "      <td>22.0</td>\n",
       "      <td>1</td>\n",
       "      <td>0</td>\n",
       "      <td>7.2500</td>\n",
       "      <td>S</td>\n",
       "      <td>Third</td>\n",
       "      <td>man</td>\n",
       "      <td>True</td>\n",
       "      <td>NaN</td>\n",
       "      <td>Southampton</td>\n",
       "      <td>no</td>\n",
       "      <td>False</td>\n",
       "    </tr>\n",
       "    <tr>\n",
       "      <th>1</th>\n",
       "      <td>1</td>\n",
       "      <td>1</td>\n",
       "      <td>female</td>\n",
       "      <td>38.0</td>\n",
       "      <td>1</td>\n",
       "      <td>0</td>\n",
       "      <td>71.2833</td>\n",
       "      <td>C</td>\n",
       "      <td>First</td>\n",
       "      <td>woman</td>\n",
       "      <td>False</td>\n",
       "      <td>C</td>\n",
       "      <td>Cherbourg</td>\n",
       "      <td>yes</td>\n",
       "      <td>False</td>\n",
       "    </tr>\n",
       "  </tbody>\n",
       "</table>\n",
       "</div>"
      ],
      "text/plain": [
       "   survived  pclass     sex   age  sibsp  parch     fare embarked  class  \\\n",
       "0         0       3    male  22.0      1      0   7.2500        S  Third   \n",
       "1         1       1  female  38.0      1      0  71.2833        C  First   \n",
       "\n",
       "     who  adult_male deck  embark_town alive  alone  \n",
       "0    man        True  NaN  Southampton    no  False  \n",
       "1  woman       False    C    Cherbourg   yes  False  "
      ]
     },
     "execution_count": 155,
     "metadata": {},
     "output_type": "execute_result"
    }
   ],
   "source": [
    "df_titanic.head(2)"
   ]
  },
  {
   "cell_type": "code",
   "execution_count": 172,
   "id": "cf765746-9644-4952-a4e0-58318ad379e1",
   "metadata": {
    "tags": []
   },
   "outputs": [
    {
     "data": {
      "text/plain": [
       "count    714.000000\n",
       "mean      29.699118\n",
       "std       14.526497\n",
       "min        0.420000\n",
       "25%       20.125000\n",
       "50%       28.000000\n",
       "75%       38.000000\n",
       "max       80.000000\n",
       "Name: age, dtype: float64"
      ]
     },
     "execution_count": 172,
     "metadata": {},
     "output_type": "execute_result"
    }
   ],
   "source": [
    "df_titanic['age'].describe()"
   ]
  },
  {
   "cell_type": "code",
   "execution_count": 158,
   "id": "cd6e4a4b-2aff-4b7e-b80f-1360b435ad48",
   "metadata": {
    "tags": []
   },
   "outputs": [],
   "source": [
    "from pandas import cut"
   ]
  },
  {
   "cell_type": "code",
   "execution_count": 168,
   "id": "a81d9a4e-5a19-4be4-abe8-c204b34ea460",
   "metadata": {
    "tags": []
   },
   "outputs": [],
   "source": [
    "age = cut(df_titanic['age'], [0, 40, 60, 70])"
   ]
  },
  {
   "cell_type": "code",
   "execution_count": 169,
   "id": "8c37b0c8-be7c-4c54-a4fb-16e31029f631",
   "metadata": {
    "tags": []
   },
   "outputs": [
    {
     "data": {
      "text/plain": [
       "0      (0.0, 40.0]\n",
       "1      (0.0, 40.0]\n",
       "2      (0.0, 40.0]\n",
       "3      (0.0, 40.0]\n",
       "4      (0.0, 40.0]\n",
       "          ...     \n",
       "886    (0.0, 40.0]\n",
       "887    (0.0, 40.0]\n",
       "888            NaN\n",
       "889    (0.0, 40.0]\n",
       "890    (0.0, 40.0]\n",
       "Name: age, Length: 891, dtype: category\n",
       "Categories (3, interval[int64, right]): [(0, 40] < (40, 60] < (60, 70]]"
      ]
     },
     "execution_count": 169,
     "metadata": {},
     "output_type": "execute_result"
    }
   ],
   "source": [
    "age  # < xxx , xxx )"
   ]
  },
  {
   "cell_type": "code",
   "execution_count": 161,
   "id": "213fcb92-7fdc-44a1-bf21-1a192f4fa74b",
   "metadata": {
    "tags": []
   },
   "outputs": [],
   "source": [
    "vystup_vek_df = df_titanic.pivot_table('survived',\n",
    "                                       index=['sex', age],\n",
    "                                       columns='class').round(2)"
   ]
  },
  {
   "cell_type": "code",
   "execution_count": 162,
   "id": "110fb3c3-2770-4fbe-8ef7-ecf5405d0042",
   "metadata": {},
   "outputs": [
    {
     "data": {
      "text/html": [
       "<div>\n",
       "<style scoped>\n",
       "    .dataframe tbody tr th:only-of-type {\n",
       "        vertical-align: middle;\n",
       "    }\n",
       "\n",
       "    .dataframe tbody tr th {\n",
       "        vertical-align: top;\n",
       "    }\n",
       "\n",
       "    .dataframe thead th {\n",
       "        text-align: right;\n",
       "    }\n",
       "</style>\n",
       "<table border=\"1\" class=\"dataframe\">\n",
       "  <thead>\n",
       "    <tr style=\"text-align: right;\">\n",
       "      <th></th>\n",
       "      <th>class</th>\n",
       "      <th>First</th>\n",
       "      <th>Second</th>\n",
       "      <th>Third</th>\n",
       "    </tr>\n",
       "    <tr>\n",
       "      <th>sex</th>\n",
       "      <th>age</th>\n",
       "      <th></th>\n",
       "      <th></th>\n",
       "      <th></th>\n",
       "    </tr>\n",
       "  </thead>\n",
       "  <tbody>\n",
       "    <tr>\n",
       "      <th rowspan=\"2\" valign=\"top\">female</th>\n",
       "      <th>(1, 40]</th>\n",
       "      <td>0.97</td>\n",
       "      <td>0.93</td>\n",
       "      <td>0.47</td>\n",
       "    </tr>\n",
       "    <tr>\n",
       "      <th>(40, 80]</th>\n",
       "      <td>0.96</td>\n",
       "      <td>0.85</td>\n",
       "      <td>0.11</td>\n",
       "    </tr>\n",
       "    <tr>\n",
       "      <th rowspan=\"2\" valign=\"top\">male</th>\n",
       "      <th>(1, 40]</th>\n",
       "      <td>0.50</td>\n",
       "      <td>0.11</td>\n",
       "      <td>0.16</td>\n",
       "    </tr>\n",
       "    <tr>\n",
       "      <th>(40, 80]</th>\n",
       "      <td>0.28</td>\n",
       "      <td>0.10</td>\n",
       "      <td>0.06</td>\n",
       "    </tr>\n",
       "  </tbody>\n",
       "</table>\n",
       "</div>"
      ],
      "text/plain": [
       "class            First  Second  Third\n",
       "sex    age                           \n",
       "female (1, 40]    0.97    0.93   0.47\n",
       "       (40, 80]   0.96    0.85   0.11\n",
       "male   (1, 40]    0.50    0.11   0.16\n",
       "       (40, 80]   0.28    0.10   0.06"
      ]
     },
     "execution_count": 162,
     "metadata": {},
     "output_type": "execute_result"
    }
   ],
   "source": [
    "vystup_vek_df"
   ]
  },
  {
   "cell_type": "code",
   "execution_count": 163,
   "id": "bc2ddd9b-3c17-4eb0-8414-55386fbb7175",
   "metadata": {},
   "outputs": [
    {
     "data": {
      "text/plain": [
       "MultiIndex([('female',  (1, 40]),\n",
       "            ('female', (40, 80]),\n",
       "            (  'male',  (1, 40]),\n",
       "            (  'male', (40, 80])],\n",
       "           names=['sex', 'age'])"
      ]
     },
     "execution_count": 163,
     "metadata": {},
     "output_type": "execute_result"
    }
   ],
   "source": [
    "vystup_vek_df.index"
   ]
  },
  {
   "cell_type": "markdown",
   "id": "29cf877a-6b43-4b56-be23-36c2a19951a2",
   "metadata": {},
   "source": [
    "Pomocí funkce `cut` doplníš tabulku na **MultiIndex**.\n",
    "\n",
    "Ten nyní vytvoří i rozsah pro věkovou kategorii."
   ]
  },
  {
   "cell_type": "markdown",
   "id": "79497b0f-793b-4670-9553-86aa28c29755",
   "metadata": {},
   "source": [
    "<br>\n",
    "\n",
    "#### 🧠 CVIČENÍ 🧠, procvič si pivot tabulky\n",
    "\n",
    "---"
   ]
  },
  {
   "cell_type": "markdown",
   "id": "0fd414f1-ceca-4d55-8178-a9cc0be1bda6",
   "metadata": {},
   "source": [
    "Ze zadaného datasetu vytvoř **pivot tabulku**, která zobrazí **počet prodaných kusů ovoce** pro **každý obchod** a **druh ovoce**."
   ]
  },
  {
   "cell_type": "code",
   "execution_count": 173,
   "id": "7639a957-654d-4b8e-88bc-3eb7ff88f3bb",
   "metadata": {
    "tags": []
   },
   "outputs": [],
   "source": [
    "ovoce_data = {\n",
    "    'pobocka': ['A', 'A', 'B', 'B', 'C', 'C'],\n",
    "    'ovoce': ['jablko', 'banan', 'jablko', 'banan', 'jablko', 'banan'],\n",
    "    'prodane_mnozstvi': [10, 15, 8, 30, 20, 25],\n",
    "    'cena': [20, 12, 22, 10, 18, 15]\n",
    "}"
   ]
  },
  {
   "cell_type": "code",
   "execution_count": null,
   "id": "e25455d2-dcaa-478e-93bb-c78b6104b8dd",
   "metadata": {},
   "outputs": [],
   "source": [
    "# pivot_table()\n",
    "#              prodane_mnozstvi      jablko banan\n",
    "# Pobocka\n",
    "#    A \n",
    "#    B\n",
    "#    C "
   ]
  },
  {
   "cell_type": "code",
   "execution_count": 174,
   "id": "e6b05639-4c48-4418-bf01-bf347d31f5dd",
   "metadata": {},
   "outputs": [],
   "source": [
    "ovoce_data_df = DataFrame(ovoce_data)"
   ]
  },
  {
   "cell_type": "code",
   "execution_count": 176,
   "id": "d3f0a944-081b-4950-a227-4e162ac96269",
   "metadata": {},
   "outputs": [
    {
     "data": {
      "text/plain": [
       "array(['jablko', 'banan'], dtype=object)"
      ]
     },
     "execution_count": 176,
     "metadata": {},
     "output_type": "execute_result"
    }
   ],
   "source": [
    "ovoce_data_df['ovoce'].unique()"
   ]
  },
  {
   "cell_type": "code",
   "execution_count": 178,
   "id": "1bdf535c-346c-4e1e-89e3-1cc0474c4efd",
   "metadata": {},
   "outputs": [
    {
     "data": {
      "text/html": [
       "<div>\n",
       "<style scoped>\n",
       "    .dataframe tbody tr th:only-of-type {\n",
       "        vertical-align: middle;\n",
       "    }\n",
       "\n",
       "    .dataframe tbody tr th {\n",
       "        vertical-align: top;\n",
       "    }\n",
       "\n",
       "    .dataframe thead th {\n",
       "        text-align: right;\n",
       "    }\n",
       "</style>\n",
       "<table border=\"1\" class=\"dataframe\">\n",
       "  <thead>\n",
       "    <tr style=\"text-align: right;\">\n",
       "      <th></th>\n",
       "      <th>pobocka</th>\n",
       "      <th>ovoce</th>\n",
       "      <th>prodane_mnozstvi</th>\n",
       "      <th>cena</th>\n",
       "    </tr>\n",
       "  </thead>\n",
       "  <tbody>\n",
       "    <tr>\n",
       "      <th>0</th>\n",
       "      <td>A</td>\n",
       "      <td>jablko</td>\n",
       "      <td>10</td>\n",
       "      <td>20</td>\n",
       "    </tr>\n",
       "    <tr>\n",
       "      <th>1</th>\n",
       "      <td>A</td>\n",
       "      <td>banan</td>\n",
       "      <td>15</td>\n",
       "      <td>12</td>\n",
       "    </tr>\n",
       "    <tr>\n",
       "      <th>2</th>\n",
       "      <td>B</td>\n",
       "      <td>jablko</td>\n",
       "      <td>8</td>\n",
       "      <td>22</td>\n",
       "    </tr>\n",
       "    <tr>\n",
       "      <th>3</th>\n",
       "      <td>B</td>\n",
       "      <td>banan</td>\n",
       "      <td>30</td>\n",
       "      <td>10</td>\n",
       "    </tr>\n",
       "    <tr>\n",
       "      <th>4</th>\n",
       "      <td>C</td>\n",
       "      <td>jablko</td>\n",
       "      <td>20</td>\n",
       "      <td>18</td>\n",
       "    </tr>\n",
       "  </tbody>\n",
       "</table>\n",
       "</div>"
      ],
      "text/plain": [
       "  pobocka   ovoce  prodane_mnozstvi  cena\n",
       "0       A  jablko                10    20\n",
       "1       A   banan                15    12\n",
       "2       B  jablko                 8    22\n",
       "3       B   banan                30    10\n",
       "4       C  jablko                20    18"
      ]
     },
     "execution_count": 178,
     "metadata": {},
     "output_type": "execute_result"
    }
   ],
   "source": [
    "ovoce_data_df.head()"
   ]
  },
  {
   "cell_type": "code",
   "execution_count": 177,
   "id": "ac4a7d6c-a3c6-4290-b3a9-851b16016cd6",
   "metadata": {},
   "outputs": [
    {
     "data": {
      "text/html": [
       "<div>\n",
       "<style scoped>\n",
       "    .dataframe tbody tr th:only-of-type {\n",
       "        vertical-align: middle;\n",
       "    }\n",
       "\n",
       "    .dataframe tbody tr th {\n",
       "        vertical-align: top;\n",
       "    }\n",
       "\n",
       "    .dataframe thead th {\n",
       "        text-align: right;\n",
       "    }\n",
       "</style>\n",
       "<table border=\"1\" class=\"dataframe\">\n",
       "  <thead>\n",
       "    <tr style=\"text-align: right;\">\n",
       "      <th>ovoce</th>\n",
       "      <th>banan</th>\n",
       "      <th>jablko</th>\n",
       "    </tr>\n",
       "    <tr>\n",
       "      <th>pobocka</th>\n",
       "      <th></th>\n",
       "      <th></th>\n",
       "    </tr>\n",
       "  </thead>\n",
       "  <tbody>\n",
       "    <tr>\n",
       "      <th>A</th>\n",
       "      <td>15</td>\n",
       "      <td>10</td>\n",
       "    </tr>\n",
       "    <tr>\n",
       "      <th>B</th>\n",
       "      <td>30</td>\n",
       "      <td>8</td>\n",
       "    </tr>\n",
       "    <tr>\n",
       "      <th>C</th>\n",
       "      <td>25</td>\n",
       "      <td>20</td>\n",
       "    </tr>\n",
       "  </tbody>\n",
       "</table>\n",
       "</div>"
      ],
      "text/plain": [
       "ovoce    banan  jablko\n",
       "pobocka               \n",
       "A           15      10\n",
       "B           30       8\n",
       "C           25      20"
      ]
     },
     "execution_count": 177,
     "metadata": {},
     "output_type": "execute_result"
    }
   ],
   "source": [
    "ovoce_data_df.pivot_table('prodane_mnozstvi', index='pobocka', columns='ovoce')"
   ]
  },
  {
   "cell_type": "code",
   "execution_count": 179,
   "id": "1f6e4977-3dc2-435a-890f-41d7051d34f0",
   "metadata": {},
   "outputs": [
    {
     "data": {
      "text/plain": [
       "10"
      ]
     },
     "execution_count": 179,
     "metadata": {},
     "output_type": "execute_result"
    }
   ],
   "source": [
    "ovoce_data_df['cena'].min()"
   ]
  },
  {
   "cell_type": "code",
   "execution_count": 188,
   "id": "ed9d3e23-5b9b-43b3-a0eb-ca8b439ef9be",
   "metadata": {},
   "outputs": [],
   "source": [
    "cenovy_intervaly = cut(ovoce_data_df['cena'],\n",
    "                       [ovoce_data_df['cena'].min(),\n",
    "                        15, ovoce_data_df['cena'].max()], include_lowest=True)"
   ]
  },
  {
   "cell_type": "code",
   "execution_count": 190,
   "id": "5ac7f69c-7234-4059-b367-a25f01f3c67e",
   "metadata": {},
   "outputs": [
    {
     "data": {
      "text/plain": [
       "0     (15.0, 22.0]\n",
       "1    (9.999, 15.0]\n",
       "2     (15.0, 22.0]\n",
       "3    (9.999, 15.0]\n",
       "4     (15.0, 22.0]\n",
       "5    (9.999, 15.0]\n",
       "Name: cena, dtype: category\n",
       "Categories (2, interval[float64, right]): [(9.999, 15.0] < (15.0, 22.0]]"
      ]
     },
     "execution_count": 190,
     "metadata": {},
     "output_type": "execute_result"
    }
   ],
   "source": [
    "cenovy_intervaly"
   ]
  },
  {
   "cell_type": "code",
   "execution_count": 189,
   "id": "d45ca7e3-a07e-43c2-b160-d666960276ac",
   "metadata": {},
   "outputs": [
    {
     "data": {
      "text/html": [
       "<div>\n",
       "<style scoped>\n",
       "    .dataframe tbody tr th:only-of-type {\n",
       "        vertical-align: middle;\n",
       "    }\n",
       "\n",
       "    .dataframe tbody tr th {\n",
       "        vertical-align: top;\n",
       "    }\n",
       "\n",
       "    .dataframe thead th {\n",
       "        text-align: right;\n",
       "    }\n",
       "</style>\n",
       "<table border=\"1\" class=\"dataframe\">\n",
       "  <thead>\n",
       "    <tr style=\"text-align: right;\">\n",
       "      <th></th>\n",
       "      <th>ovoce</th>\n",
       "      <th>banan</th>\n",
       "      <th>jablko</th>\n",
       "    </tr>\n",
       "    <tr>\n",
       "      <th>pobocka</th>\n",
       "      <th>cena</th>\n",
       "      <th></th>\n",
       "      <th></th>\n",
       "    </tr>\n",
       "  </thead>\n",
       "  <tbody>\n",
       "    <tr>\n",
       "      <th rowspan=\"2\" valign=\"top\">A</th>\n",
       "      <th>(9.999, 15.0]</th>\n",
       "      <td>15.0</td>\n",
       "      <td>NaN</td>\n",
       "    </tr>\n",
       "    <tr>\n",
       "      <th>(15.0, 22.0]</th>\n",
       "      <td>NaN</td>\n",
       "      <td>10.0</td>\n",
       "    </tr>\n",
       "    <tr>\n",
       "      <th rowspan=\"2\" valign=\"top\">B</th>\n",
       "      <th>(9.999, 15.0]</th>\n",
       "      <td>30.0</td>\n",
       "      <td>NaN</td>\n",
       "    </tr>\n",
       "    <tr>\n",
       "      <th>(15.0, 22.0]</th>\n",
       "      <td>NaN</td>\n",
       "      <td>8.0</td>\n",
       "    </tr>\n",
       "    <tr>\n",
       "      <th rowspan=\"2\" valign=\"top\">C</th>\n",
       "      <th>(9.999, 15.0]</th>\n",
       "      <td>25.0</td>\n",
       "      <td>NaN</td>\n",
       "    </tr>\n",
       "    <tr>\n",
       "      <th>(15.0, 22.0]</th>\n",
       "      <td>NaN</td>\n",
       "      <td>20.0</td>\n",
       "    </tr>\n",
       "  </tbody>\n",
       "</table>\n",
       "</div>"
      ],
      "text/plain": [
       "ovoce                  banan  jablko\n",
       "pobocka cena                        \n",
       "A       (9.999, 15.0]   15.0     NaN\n",
       "        (15.0, 22.0]     NaN    10.0\n",
       "B       (9.999, 15.0]   30.0     NaN\n",
       "        (15.0, 22.0]     NaN     8.0\n",
       "C       (9.999, 15.0]   25.0     NaN\n",
       "        (15.0, 22.0]     NaN    20.0"
      ]
     },
     "execution_count": 189,
     "metadata": {},
     "output_type": "execute_result"
    }
   ],
   "source": [
    "ovoce_data_df.pivot_table('prodane_mnozstvi',\n",
    "                          index=['pobocka', cenovy_intervaly], columns='ovoce')"
   ]
  },
  {
   "cell_type": "code",
   "execution_count": 182,
   "id": "f4553663-02ef-45e6-a3e6-c685045cddb0",
   "metadata": {},
   "outputs": [
    {
     "data": {
      "text/html": [
       "<div>\n",
       "<style scoped>\n",
       "    .dataframe tbody tr th:only-of-type {\n",
       "        vertical-align: middle;\n",
       "    }\n",
       "\n",
       "    .dataframe tbody tr th {\n",
       "        vertical-align: top;\n",
       "    }\n",
       "\n",
       "    .dataframe thead th {\n",
       "        text-align: right;\n",
       "    }\n",
       "</style>\n",
       "<table border=\"1\" class=\"dataframe\">\n",
       "  <thead>\n",
       "    <tr style=\"text-align: right;\">\n",
       "      <th></th>\n",
       "      <th>pobocka</th>\n",
       "      <th>ovoce</th>\n",
       "      <th>prodane_mnozstvi</th>\n",
       "      <th>cena</th>\n",
       "    </tr>\n",
       "  </thead>\n",
       "  <tbody>\n",
       "    <tr>\n",
       "      <th>0</th>\n",
       "      <td>A</td>\n",
       "      <td>jablko</td>\n",
       "      <td>10</td>\n",
       "      <td>20</td>\n",
       "    </tr>\n",
       "    <tr>\n",
       "      <th>1</th>\n",
       "      <td>A</td>\n",
       "      <td>banan</td>\n",
       "      <td>15</td>\n",
       "      <td>12</td>\n",
       "    </tr>\n",
       "    <tr>\n",
       "      <th>2</th>\n",
       "      <td>B</td>\n",
       "      <td>jablko</td>\n",
       "      <td>8</td>\n",
       "      <td>22</td>\n",
       "    </tr>\n",
       "    <tr>\n",
       "      <th>3</th>\n",
       "      <td>B</td>\n",
       "      <td>banan</td>\n",
       "      <td>30</td>\n",
       "      <td>10</td>\n",
       "    </tr>\n",
       "    <tr>\n",
       "      <th>4</th>\n",
       "      <td>C</td>\n",
       "      <td>jablko</td>\n",
       "      <td>20</td>\n",
       "      <td>18</td>\n",
       "    </tr>\n",
       "    <tr>\n",
       "      <th>5</th>\n",
       "      <td>C</td>\n",
       "      <td>banan</td>\n",
       "      <td>25</td>\n",
       "      <td>15</td>\n",
       "    </tr>\n",
       "  </tbody>\n",
       "</table>\n",
       "</div>"
      ],
      "text/plain": [
       "  pobocka   ovoce  prodane_mnozstvi  cena\n",
       "0       A  jablko                10    20\n",
       "1       A   banan                15    12\n",
       "2       B  jablko                 8    22\n",
       "3       B   banan                30    10\n",
       "4       C  jablko                20    18\n",
       "5       C   banan                25    15"
      ]
     },
     "execution_count": 182,
     "metadata": {},
     "output_type": "execute_result"
    }
   ],
   "source": [
    "ovoce_data_df"
   ]
  },
  {
   "cell_type": "markdown",
   "id": "91e44b31-5110-46e0-af91-dcaee98ff6d8",
   "metadata": {},
   "source": [
    "<details>\n",
    "    <summary>▶️ Řešení</summary>\n",
    "    \n",
    "```python\n",
    "pivot_tabulka = df_ovoce.pivot_table(values=\"prodane_mnozstvi\", index=\"pobocka\", columns=\"ovoce\")\n",
    "```\n",
    "</details>"
   ]
  },
  {
   "cell_type": "markdown",
   "id": "79ddfd59-7a7a-47f8-b71e-3b33c39c03fd",
   "metadata": {},
   "source": [
    "---"
   ]
  },
  {
   "cell_type": "markdown",
   "id": "de2c4d75-bdf5-4cb0-9e2c-fbd0140b2d4d",
   "metadata": {},
   "source": [
    "\n",
    "<img src=\"https://external-content.duckduckgo.com/iu/?u=https%3A%2F%2Ftse1.mm.bing.net%2Fth%3Fid%3DOIP.odqbr-09dxxBQjF7x7NyBAHaII%26pid%3DApi&f=1&ipt=5b4a03c1dd38b52108237102ebb350595a5d6ea6a50572f5897ca89fbf5b5445&ipo=images\" width=\"160\" style=\"margin-left:auto; margin-right:auto\"/>"
   ]
  },
  {
   "cell_type": "markdown",
   "id": "e2071f0f-a5df-49fb-beac-e546a89375b4",
   "metadata": {},
   "source": [
    "<br>\n",
    "\n",
    "## Časové řady\n",
    "\n",
    "---"
   ]
  },
  {
   "cell_type": "markdown",
   "id": "b3595f36-95de-40b4-99b4-ca29f2b6e458",
   "metadata": {
    "tags": []
   },
   "source": [
    "Část *frameworku* byla vyvinuta za účelem **finančního modelování**.\n",
    "\n",
    "Proto je více než dobře vybavena sadou nástrojů, které umí pracovat **s daty, časem a časovými objekty**.\n",
    "\n",
    "<br>\n",
    "\n",
    "Uplatnění:\n",
    "* **Analýza a predikce**: Časové řady umožňují analyzovat vývoj hodnot v čase a předpovídat budoucí trendy nebo sezónní změny. To je klíčové v oblastech jako finance, ekonomika, prodej, počasí a mnoho dalších.\n",
    "\n",
    "* **Efektivní manipulace s časem**: Pandas poskytuje nástroje pro efektivní práci s časovými řadami, což zjednodušuje úkoly, jako je agregace, interpolace nebo časové posuny. Díky integrovaným funkcím můžete snadno pracovat s daty různých časových frekvencí a konvertovat mezi nimi.\n",
    "\n",
    "* **Časově závislé analýzy**: Časové řady umožňují provádět časově závislé analýzy, jako je detekce změn v trendech, identifikace sezónních vlivů nebo identifikace časových závislostí mezi proměnnými.\n",
    "\n",
    "* **Flexibilní indexace**: Pandas podporuje flexibilní indexaci časových řad, což usnadňuje filtrování, řazení a výběr dat na základě časových značek nebo rozsahů.\n",
    "\n",
    "* **Kompatibilita s dalšími knihovnami**: Pandas je kompatibilní s mnoha dalšími knihovnami pro analýzu časových řad, jako je statsmodels nebo scikit-learn. To usnadňuje integraci a rozšíření vašich analýz s pokročilejšími metodami a algoritmy.\n",
    "    \n",
    "<br>\n",
    "\n",
    "Jde například o údaje typu:\n",
    "* *timestampy*, údaj odkazující na konkrétní **časový okamžik** (např. `26. července 2024 v 14:36 hod.`),\n",
    "* *časové intervaly*, tedy období odkazují na délku času **mezi konkrétním začátkem a koncem** (např. intervaly ze dne na den),\n",
    "* *time delta* objekty, tedy přesné délky času (např. 22,22 sekundy)."
   ]
  },
  {
   "cell_type": "markdown",
   "id": "a52a8b5b-fbd0-4a5c-9f86-49bb6d1b60c5",
   "metadata": {},
   "source": [
    "#### Data a čas v Pythonu\n",
    "\n",
    "---"
   ]
  },
  {
   "cell_type": "markdown",
   "id": "5d7cd4e8-d884-4401-98a1-fbba2fad013d",
   "metadata": {},
   "source": [
    "Standardní výbavou Pythonu jsou knihovny `datetime`:"
   ]
  },
  {
   "cell_type": "code",
   "execution_count": 191,
   "id": "3b240281-3df6-46bd-a811-6390e3d3964d",
   "metadata": {
    "tags": []
   },
   "outputs": [],
   "source": [
    "from datetime import datetime"
   ]
  },
  {
   "cell_type": "code",
   "execution_count": 192,
   "id": "2344fee1-dcd9-437c-bc03-8b34379bbe90",
   "metadata": {
    "tags": []
   },
   "outputs": [
    {
     "data": {
      "text/plain": [
       "datetime.datetime(2023, 4, 5, 0, 0)"
      ]
     },
     "execution_count": 192,
     "metadata": {},
     "output_type": "execute_result"
    }
   ],
   "source": [
    "datetime(year=2023, month=4, day=5)"
   ]
  },
  {
   "cell_type": "markdown",
   "id": "5108d4c2-2a5b-4759-8c92-e5b8bd6c03c2",
   "metadata": {},
   "source": [
    "<br>\n",
    "\n",
    "Nebo knihovna `dateutil` pro parsování datových typů z různých stringových zadání:"
   ]
  },
  {
   "cell_type": "code",
   "execution_count": 193,
   "id": "02d4ff59-eeba-4d38-b735-c78ecafbe8ec",
   "metadata": {
    "tags": []
   },
   "outputs": [],
   "source": [
    "from dateutil import parser"
   ]
  },
  {
   "cell_type": "code",
   "execution_count": 194,
   "id": "73fcc24c-baeb-48c2-a2ba-fb310b38c065",
   "metadata": {
    "tags": []
   },
   "outputs": [],
   "source": [
    "date = parser.parse(\"26th of november, 2024\")"
   ]
  },
  {
   "cell_type": "code",
   "execution_count": 195,
   "id": "625cd29b-cf0e-475b-b183-669d57ae0f57",
   "metadata": {
    "tags": []
   },
   "outputs": [
    {
     "data": {
      "text/plain": [
       "datetime.datetime(2024, 11, 26, 0, 0)"
      ]
     },
     "execution_count": 195,
     "metadata": {},
     "output_type": "execute_result"
    }
   ],
   "source": [
    "date"
   ]
  },
  {
   "cell_type": "markdown",
   "id": "9caebdca-7830-4297-ac61-1dce4db4ba73",
   "metadata": {},
   "source": [
    "Kde pomocí metody `strftime` můžeš vypsat den:"
   ]
  },
  {
   "cell_type": "code",
   "execution_count": 196,
   "id": "4d5db24c-520c-4d79-8fe0-522232ab1262",
   "metadata": {
    "tags": []
   },
   "outputs": [
    {
     "data": {
      "text/plain": [
       "'Tuesday'"
      ]
     },
     "execution_count": 196,
     "metadata": {},
     "output_type": "execute_result"
    }
   ],
   "source": [
    "date.strftime(\"%A\")"
   ]
  },
  {
   "cell_type": "markdown",
   "id": "6913d54d-0bd9-417f-9e51-203e2f8305d3",
   "metadata": {},
   "source": [
    "#### Data a čas v numpy\n",
    "\n",
    "---"
   ]
  },
  {
   "cell_type": "markdown",
   "id": "72efded6-f45e-4a48-b948-d1122041cecb",
   "metadata": {},
   "source": [
    "Některé nedostatky uvnitř knihoven `datetime` a `dateutil` vedli ke vzniku sady nástrojů.\n",
    "\n",
    "Tyto doplňky vznikly pod hlavičkou knihovny `numpy`."
   ]
  },
  {
   "cell_type": "code",
   "execution_count": 197,
   "id": "98f3c865-5c60-4ebe-8c45-e2ed325e9239",
   "metadata": {
    "tags": []
   },
   "outputs": [],
   "source": [
    "import numpy as np\n",
    "from numpy import array, arange"
   ]
  },
  {
   "cell_type": "code",
   "execution_count": 198,
   "id": "4fdfd068-5b28-4a81-a75b-8311f0ba4f6e",
   "metadata": {
    "tags": []
   },
   "outputs": [],
   "source": [
    "date = array('2023-04-05', dtype=np.datetime64)"
   ]
  },
  {
   "cell_type": "code",
   "execution_count": 199,
   "id": "4a409a4f-9566-4558-9b77-c592dd2a891c",
   "metadata": {
    "tags": []
   },
   "outputs": [
    {
     "data": {
      "text/plain": [
       "array('2023-04-05', dtype='datetime64[D]')"
      ]
     },
     "execution_count": 199,
     "metadata": {},
     "output_type": "execute_result"
    }
   ],
   "source": [
    "date"
   ]
  },
  {
   "cell_type": "markdown",
   "id": "ed2303ad-852c-4a45-8cff-60f7871b33a4",
   "metadata": {},
   "source": [
    "<br>\n",
    "\n",
    "Pokud potřebuješ pole následujících 7 dní:"
   ]
  },
  {
   "cell_type": "code",
   "execution_count": 200,
   "id": "3ab7f441-fef1-4186-b4dc-006e20501b45",
   "metadata": {
    "tags": []
   },
   "outputs": [
    {
     "data": {
      "text/plain": [
       "array(['2023-04-05', '2023-04-06', '2023-04-07', '2023-04-08',\n",
       "       '2023-04-09', '2023-04-10', '2023-04-11'], dtype='datetime64[D]')"
      ]
     },
     "execution_count": 200,
     "metadata": {},
     "output_type": "execute_result"
    }
   ],
   "source": [
    "date + arange(7)"
   ]
  },
  {
   "cell_type": "markdown",
   "id": "952ebd4a-a97a-4cb8-b99d-1a1eb20d60c5",
   "metadata": {
    "tags": []
   },
   "source": [
    "<br>\n",
    "\n",
    "Vzhledem k jednotnému datovu typu v poli pro **numpy** `datetime64` může tento typ operace\n",
    "provádět mnohem rychleji, než přímo v Pythonu `datetime` objekty, zejména když objekty nabývají na velikosti."
   ]
  },
  {
   "cell_type": "markdown",
   "id": "9be40e46-3b9a-4345-8b88-41c10a5165ad",
   "metadata": {},
   "source": [
    "#### Data a čas v pandách\n",
    "\n",
    "---"
   ]
  },
  {
   "cell_type": "markdown",
   "id": "8f8b25fc-3bc7-40f3-b98b-9b5a62c79b9a",
   "metadata": {
    "tags": []
   },
   "source": [
    "Jde o kombinace objektů z obou předchozích podkapitol.\n",
    "\n",
    "Ty dávají dohromady to nejlepší prostředky pro zacházení s časem."
   ]
  },
  {
   "cell_type": "code",
   "execution_count": 201,
   "id": "776d307a-f40f-47b8-941a-dd4eb1e01466",
   "metadata": {
    "tags": []
   },
   "outputs": [],
   "source": [
    "from pandas import to_datetime"
   ]
  },
  {
   "cell_type": "code",
   "execution_count": 202,
   "id": "bed879ce-2ea9-4af1-a9ef-1d4f745574af",
   "metadata": {
    "tags": []
   },
   "outputs": [],
   "source": [
    "date = to_datetime(\"5th of April, 2023\")"
   ]
  },
  {
   "cell_type": "code",
   "execution_count": 203,
   "id": "ea56dd6b-f555-4ba8-9653-ec2659c06c43",
   "metadata": {
    "tags": []
   },
   "outputs": [
    {
     "data": {
      "text/plain": [
       "Timestamp('2023-04-05 00:00:00')"
      ]
     },
     "execution_count": 203,
     "metadata": {},
     "output_type": "execute_result"
    }
   ],
   "source": [
    "date"
   ]
  },
  {
   "cell_type": "code",
   "execution_count": 204,
   "id": "605a43a5-4d3a-4f1a-9966-c9d4db291585",
   "metadata": {
    "tags": []
   },
   "outputs": [
    {
     "data": {
      "text/plain": [
       "'Wednesday'"
      ]
     },
     "execution_count": 204,
     "metadata": {},
     "output_type": "execute_result"
    }
   ],
   "source": [
    "date.strftime(\"%A\")"
   ]
  },
  {
   "cell_type": "markdown",
   "id": "79b82ac9-c61a-4942-a06c-7062612bb9f6",
   "metadata": {},
   "source": [
    "## Časové řady\n",
    "\n",
    "---"
   ]
  },
  {
   "cell_type": "markdown",
   "id": "0df62dfd-4e3f-4080-aa38-4b3a07b8ccba",
   "metadata": {},
   "source": [
    "V podstatě jde o hlavní nástroj, který tato knihovna dovede nabídnout.\n",
    "\n",
    "#### Indexování časem\n",
    "---\n",
    "`DatetimeIndex` obsahuje časové značky (*timestamp*), které jsou uloženy ve formátu `datetime64` s nanosekundovou přesností.\n",
    "\n",
    "Tento objekt umožňuje efektivní práci s časovými řadami a poskytuje mnoho funkcí pro manipulaci s daty a časy.\n",
    "\n",
    "Výhody práce s `DatetimeIndex` objektem:\n",
    "* Časové zóny,\n",
    "* frekvence,\n",
    "* časově závislé selekce,\n",
    "* atributy časových značek,\n",
    "* operace s časem."
   ]
  },
  {
   "cell_type": "code",
   "execution_count": 205,
   "id": "942454b6-1590-4ead-8dc7-19e43cbb898c",
   "metadata": {
    "tags": []
   },
   "outputs": [],
   "source": [
    "from pandas import DatetimeIndex, Series, to_datetime"
   ]
  },
  {
   "cell_type": "code",
   "execution_count": 206,
   "id": "38aedb84-124f-47b6-9b82-d19fdb42bb0b",
   "metadata": {
    "tags": []
   },
   "outputs": [],
   "source": [
    "datumy = [\"2023-04-05\", \"2022-04-05\", \"2021-04-05\", \"2020-04-05\"]"
   ]
  },
  {
   "cell_type": "code",
   "execution_count": 207,
   "id": "722b7f22-213c-4e55-bad5-d465f9c1659f",
   "metadata": {
    "tags": []
   },
   "outputs": [],
   "source": [
    "indexy = DatetimeIndex(datumy)"
   ]
  },
  {
   "cell_type": "code",
   "execution_count": 208,
   "id": "a06a59ae-1537-4031-ad6e-0a685f2a7dfc",
   "metadata": {
    "tags": []
   },
   "outputs": [],
   "source": [
    "hodnoty = [to_datetime(den).strftime(\"%A\") for den in datumy]"
   ]
  },
  {
   "cell_type": "code",
   "execution_count": 209,
   "id": "09606946-4e16-4edc-86cc-1ea715c36a77",
   "metadata": {},
   "outputs": [
    {
     "data": {
      "text/plain": [
       "['Wednesday', 'Tuesday', 'Monday', 'Sunday']"
      ]
     },
     "execution_count": 209,
     "metadata": {},
     "output_type": "execute_result"
    }
   ],
   "source": [
    "hodnoty"
   ]
  },
  {
   "cell_type": "code",
   "execution_count": 210,
   "id": "0744f686-f4d4-4d2e-963b-187e8f844dd1",
   "metadata": {
    "tags": []
   },
   "outputs": [],
   "source": [
    "hodnoty_sl = Series(hodnoty, index=indexy)"
   ]
  },
  {
   "cell_type": "code",
   "execution_count": 211,
   "id": "9ebdad6a-26e6-409e-9979-aac959aa0dc3",
   "metadata": {
    "tags": []
   },
   "outputs": [
    {
     "data": {
      "text/plain": [
       "2023-04-05    Wednesday\n",
       "2022-04-05      Tuesday\n",
       "2021-04-05       Monday\n",
       "2020-04-05       Sunday\n",
       "dtype: object"
      ]
     },
     "execution_count": 211,
     "metadata": {},
     "output_type": "execute_result"
    }
   ],
   "source": [
    "hodnoty_sl"
   ]
  },
  {
   "cell_type": "code",
   "execution_count": 212,
   "id": "6c1ce133-9777-47d6-92e4-0ab0103638cf",
   "metadata": {},
   "outputs": [
    {
     "data": {
      "text/plain": [
       "DatetimeIndex(['2023-04-05', '2022-04-05', '2021-04-05', '2020-04-05'], dtype='datetime64[ns]', freq=None)"
      ]
     },
     "execution_count": 212,
     "metadata": {},
     "output_type": "execute_result"
    }
   ],
   "source": [
    "hodnoty_sl.index"
   ]
  },
  {
   "cell_type": "code",
   "execution_count": 213,
   "id": "b88395d8-b472-457f-9065-064542f4142c",
   "metadata": {
    "tags": []
   },
   "outputs": [
    {
     "data": {
      "text/plain": [
       "pandas.core.indexes.datetimes.DatetimeIndex"
      ]
     },
     "execution_count": 213,
     "metadata": {},
     "output_type": "execute_result"
    }
   ],
   "source": [
    "type(indexy)"
   ]
  },
  {
   "cell_type": "markdown",
   "id": "f314485d-2b02-46c0-a23f-c3f8315864a9",
   "metadata": {},
   "source": [
    "<br>\n",
    "\n",
    "Můžeš vytvořit selektivní proces na základě datumu pro index:"
   ]
  },
  {
   "cell_type": "code",
   "execution_count": 215,
   "id": "cddde627-eaf9-477d-892d-08b5eaa80860",
   "metadata": {},
   "outputs": [
    {
     "data": {
      "text/plain": [
       "2021-04-05    Monday\n",
       "2020-04-05    Sunday\n",
       "dtype: object"
      ]
     },
     "execution_count": 215,
     "metadata": {},
     "output_type": "execute_result"
    }
   ],
   "source": [
    "hodnoty_sl[:'2021-04-05']"
   ]
  },
  {
   "cell_type": "markdown",
   "id": "0d47edb2-6dc2-4602-9f41-34f6a2937209",
   "metadata": {},
   "source": [
    "<br>\n",
    "\n",
    "## Základní objekty\n",
    "\n",
    "---\n",
    "\n",
    "Mezi základní objekty pro práci s časem patří:\n",
    "* `Timestamp` typ (související struktura Indexu `DatetimeIndex`,\n",
    "* `Period` typ (.. `PeriodIndex`),\n",
    "* `Timedelta` typ (.. `TimedeltaIndex`)."
   ]
  },
  {
   "cell_type": "markdown",
   "id": "09bdc79b-0511-4fcb-9c46-f7afd077e19f",
   "metadata": {},
   "source": [
    "#### Timestamp & DatetimeIndex\n",
    "\n",
    "---\n",
    "\n",
    "Nejčastější datové typy, které lze vyvolat přímo, ovšem běžnější je pracovat s funkcí `to_datetime`.\n",
    "\n",
    "Funkce `to_datetime` umí parsovat různé stringové formáty."
   ]
  },
  {
   "cell_type": "markdown",
   "id": "2160acb2-fcbd-4faf-a798-b9dba03fbb59",
   "metadata": {},
   "source": [
    "<br>\n",
    "\n",
    "### Práce s jedním datumem\n",
    "\n",
    "---"
   ]
  },
  {
   "cell_type": "code",
   "execution_count": 216,
   "id": "008d3a6b-be76-4b9b-a32f-21c3e3d10c33",
   "metadata": {
    "tags": []
   },
   "outputs": [],
   "source": [
    "datum_objekt = to_datetime(\"05/04/2023\")  # DD/MM/RRRR, 5. duben 2023"
   ]
  },
  {
   "cell_type": "markdown",
   "id": "2cd8cbca-c056-45e7-ab87-fff10ba5cd4b",
   "metadata": {},
   "source": [
    "<br>\n",
    "\n",
    "Opatrně na specifický formát datumu:"
   ]
  },
  {
   "cell_type": "code",
   "execution_count": 217,
   "id": "5e1f49ba-3d71-4612-a1cb-c4b23ce3b7c7",
   "metadata": {
    "tags": []
   },
   "outputs": [
    {
     "data": {
      "text/plain": [
       "Timestamp('2023-05-04 00:00:00')"
      ]
     },
     "execution_count": 217,
     "metadata": {},
     "output_type": "execute_result"
    }
   ],
   "source": [
    "datum_objekt                              # MM/DD/RRRR"
   ]
  },
  {
   "cell_type": "code",
   "execution_count": 219,
   "id": "b81815a1-b7d7-4b04-b966-23e22dd117e6",
   "metadata": {
    "tags": []
   },
   "outputs": [
    {
     "data": {
      "text/plain": [
       "pandas._libs.tslibs.timestamps.Timestamp"
      ]
     },
     "execution_count": 219,
     "metadata": {},
     "output_type": "execute_result"
    }
   ],
   "source": [
    "type(datum_objekt)"
   ]
  },
  {
   "cell_type": "code",
   "execution_count": 220,
   "id": "68bd7190-ad60-495e-a6bb-2c17cae7027a",
   "metadata": {},
   "outputs": [
    {
     "data": {
      "text/plain": [
       "'May'"
      ]
     },
     "execution_count": 220,
     "metadata": {},
     "output_type": "execute_result"
    }
   ],
   "source": [
    "datum_objekt.month_name()"
   ]
  },
  {
   "cell_type": "markdown",
   "id": "c55dcbab-9d51-4d4c-8f91-4b87a676957f",
   "metadata": {},
   "source": [
    "Pokud do funkce `to_datetime` vložíš jedinou hodnotu, vrací objekty typu `Timestamp`."
   ]
  },
  {
   "cell_type": "markdown",
   "id": "f63fd9d1-3b3a-4000-91c7-4f7a071ea4fc",
   "metadata": {},
   "source": [
    "<br>\n",
    "\n",
    "#### Specifický formát\n",
    "\n",
    "---"
   ]
  },
  {
   "cell_type": "markdown",
   "id": "79f3503c-a33d-4dbe-92a5-5ff91195ac73",
   "metadata": {},
   "source": [
    "Pokud se *parser* ztratí nebo tvoje zadání neodpovídá jeho vyhotovení:"
   ]
  },
  {
   "cell_type": "code",
   "execution_count": 221,
   "id": "e4299858-4a39-4a0d-a09a-3bb95e048a1c",
   "metadata": {
    "tags": []
   },
   "outputs": [
    {
     "data": {
      "text/plain": [
       "Timestamp('2010-11-12 00:00:00')"
      ]
     },
     "execution_count": 221,
     "metadata": {},
     "output_type": "execute_result"
    }
   ],
   "source": [
    "to_datetime(\"12-11-2010 00:00\", format=\"%d-%m-%Y %H:%M\")"
   ]
  },
  {
   "cell_type": "code",
   "execution_count": 222,
   "id": "3d9fe2f0-f19b-4867-b7fb-e7523e9351fa",
   "metadata": {},
   "outputs": [],
   "source": [
    "naformatovany_datum = to_datetime(\"05/04/2023\", format='%d/%m/%Y')"
   ]
  },
  {
   "cell_type": "code",
   "execution_count": 223,
   "id": "b75584f5-5918-4f98-8fe7-9e01c566c99b",
   "metadata": {},
   "outputs": [
    {
     "data": {
      "text/plain": [
       "'April'"
      ]
     },
     "execution_count": 223,
     "metadata": {},
     "output_type": "execute_result"
    }
   ],
   "source": [
    "naformatovany_datum.month_name()"
   ]
  },
  {
   "cell_type": "code",
   "execution_count": 224,
   "id": "83efebdc-44a7-4fed-a7b6-e3827fd04b62",
   "metadata": {},
   "outputs": [
    {
     "data": {
      "text/plain": [
       "'Wednesday'"
      ]
     },
     "execution_count": 224,
     "metadata": {},
     "output_type": "execute_result"
    }
   ],
   "source": [
    "naformatovany_datum.day_name()"
   ]
  },
  {
   "cell_type": "markdown",
   "id": "ed23df17-0a39-44c4-a2a3-9785737984c7",
   "metadata": {},
   "source": [
    "Nespoléhat na defaultní nastavení funkce `to_datetime`, ale umět si formát upravit podle svých potřeb."
   ]
  },
  {
   "cell_type": "markdown",
   "id": "2803e915-a129-4904-843c-fc63e3d9640b",
   "metadata": {},
   "source": [
    "<br>\n",
    "\n",
    "### Práce s několika datumy\n",
    "\n",
    "---"
   ]
  },
  {
   "cell_type": "code",
   "execution_count": 225,
   "id": "092c1163-b0e7-4277-bd57-bad7bdab5b06",
   "metadata": {
    "tags": []
   },
   "outputs": [],
   "source": [
    "datumy = to_datetime([datetime(2023, 4, 5),\n",
    "                      \"5th of April 2023\",\n",
    "                      \"2023-Apr-5\",\n",
    "                      \"05-04-2023\",\n",
    "                      \"20230405\"])"
   ]
  },
  {
   "cell_type": "code",
   "execution_count": 226,
   "id": "200907f1-a8b7-46c0-ba70-9ed9fe0bb20d",
   "metadata": {
    "tags": []
   },
   "outputs": [
    {
     "data": {
      "text/plain": [
       "DatetimeIndex(['2023-04-05', '2023-04-05', '2023-04-05', '2023-05-04',\n",
       "               '2023-04-05'],\n",
       "              dtype='datetime64[ns]', freq=None)"
      ]
     },
     "execution_count": 226,
     "metadata": {},
     "output_type": "execute_result"
    }
   ],
   "source": [
    "datumy"
   ]
  },
  {
   "cell_type": "code",
   "execution_count": null,
   "id": "90b0e847-8e29-41bc-84cf-107653bb0b8d",
   "metadata": {
    "tags": []
   },
   "outputs": [],
   "source": [
    "type(datumy)"
   ]
  },
  {
   "cell_type": "markdown",
   "id": "ef15bae3-af4b-460a-8071-456968156253",
   "metadata": {},
   "source": [
    "Zatímco pole hodnot s datumy, které funkce `to_datetime` zpracuje vrací objekt typu `DatetimeIndex`."
   ]
  },
  {
   "cell_type": "markdown",
   "id": "d186ec09-995a-442d-9292-2713d6e0c802",
   "metadata": {},
   "source": [
    "<br>\n",
    "\n",
    "Objekt `DatetimeIndex` potom můžeš konvertovat na `PeriodIndex` pomocí *metody* `to_period`:"
   ]
  },
  {
   "cell_type": "code",
   "execution_count": null,
   "id": "43589164-8c53-466e-82d2-cc1d351f48b5",
   "metadata": {
    "tags": []
   },
   "outputs": [],
   "source": [
    "# datumy.to_period?"
   ]
  },
  {
   "cell_type": "markdown",
   "id": "15acd474-a6c0-440b-876c-1b1da8f14310",
   "metadata": {},
   "source": [
    "<br>\n",
    "\n",
    "Tato metoda je užitečná, pokud chcete převést časové řady **na určité časové období**.\n",
    "\n",
    "Když budeš třeba potřebovat převést hodnoty **z denních dat na měsíční data**."
   ]
  },
  {
   "cell_type": "markdown",
   "id": "c9c7e3a8-060b-4282-902a-c5046ae17974",
   "metadata": {},
   "source": [
    "<br>\n",
    "\n",
    "#### Denní data\n",
    "\n",
    "---"
   ]
  },
  {
   "cell_type": "code",
   "execution_count": 227,
   "id": "a326192e-cd40-4bb8-8ec5-90bae9d5ccb0",
   "metadata": {
    "tags": []
   },
   "outputs": [
    {
     "data": {
      "text/plain": [
       "PeriodIndex(['2023-04-05', '2023-04-05', '2023-04-05', '2023-05-04',\n",
       "             '2023-04-05'],\n",
       "            dtype='period[D]')"
      ]
     },
     "execution_count": 227,
     "metadata": {},
     "output_type": "execute_result"
    }
   ],
   "source": [
    "datumy.to_period(freq=\"D\")"
   ]
  },
  {
   "cell_type": "markdown",
   "id": "2f0d268d-0809-498b-b7d6-64c739d8f814",
   "metadata": {},
   "source": [
    "<br>\n",
    "\n",
    "#### Měsíční data\n",
    "\n",
    "---"
   ]
  },
  {
   "cell_type": "code",
   "execution_count": 228,
   "id": "7411f887-9a52-41ec-971d-ec99d98555d1",
   "metadata": {},
   "outputs": [],
   "source": [
    "from pandas import DataFrame\n",
    "import pandas as pd"
   ]
  },
  {
   "cell_type": "code",
   "execution_count": 229,
   "id": "6c1898cd-7068-4bef-b699-85c165cdfb6a",
   "metadata": {
    "tags": []
   },
   "outputs": [
    {
     "data": {
      "text/plain": [
       "PeriodIndex(['2023-04', '2023-04', '2023-04', '2023-05', '2023-04'], dtype='period[M]')"
      ]
     },
     "execution_count": 229,
     "metadata": {},
     "output_type": "execute_result"
    }
   ],
   "source": [
    "datumy.to_period(freq=\"M\")"
   ]
  },
  {
   "cell_type": "markdown",
   "id": "8380f1d9-d1cd-44f1-afc9-14a6d1e28539",
   "metadata": {},
   "source": [
    "<br>\n",
    "\n",
    "V rámci periody jsem schopen u časových řad nastavovat, nebo měnit časové intervaly (tzn. denní, měsíční)."
   ]
  },
  {
   "cell_type": "code",
   "execution_count": 239,
   "id": "d83626f1-2cac-4f86-9b5a-aeed533ff783",
   "metadata": {
    "tags": []
   },
   "outputs": [],
   "source": [
    "# data = {'date': pd.date_range(start='2022-01-01', periods=10, freq='ME'),\n",
    "#         'sales': [100, 102, 105, 107, 110, 112, 115, 117, 120, 122]}"
   ]
  },
  {
   "cell_type": "markdown",
   "id": "ee50cd8f-00a9-4070-a27f-2eaf39b5bec7",
   "metadata": {},
   "source": [
    "<br>\n",
    "\n",
    "Varianta frekvence `ME` lze použít ve verzi pandas 2.2.\n",
    "\n",
    "Pro starší varianty je nutné pracovat s argumentem `M`."
   ]
  },
  {
   "cell_type": "code",
   "execution_count": 238,
   "id": "0d227854-1639-45b8-8d4a-19a76aceb866",
   "metadata": {
    "tags": []
   },
   "outputs": [],
   "source": [
    "data = {'date': pd.date_range(start='2022-01-01', periods=10, freq='M'),\n",
    "        'sales': [100, 102, 105, 107, 110, 112, 115, 117, 120, 122]}"
   ]
  },
  {
   "cell_type": "code",
   "execution_count": 241,
   "id": "06435f66-582f-4822-8be0-97ed1ddc7bba",
   "metadata": {
    "tags": []
   },
   "outputs": [],
   "source": [
    "data_df = DataFrame(data)"
   ]
  },
  {
   "cell_type": "code",
   "execution_count": 242,
   "id": "3facb1a6-0aa4-45ea-bb2e-4ca3974cfc74",
   "metadata": {},
   "outputs": [
    {
     "data": {
      "text/html": [
       "<div>\n",
       "<style scoped>\n",
       "    .dataframe tbody tr th:only-of-type {\n",
       "        vertical-align: middle;\n",
       "    }\n",
       "\n",
       "    .dataframe tbody tr th {\n",
       "        vertical-align: top;\n",
       "    }\n",
       "\n",
       "    .dataframe thead th {\n",
       "        text-align: right;\n",
       "    }\n",
       "</style>\n",
       "<table border=\"1\" class=\"dataframe\">\n",
       "  <thead>\n",
       "    <tr style=\"text-align: right;\">\n",
       "      <th></th>\n",
       "      <th>date</th>\n",
       "      <th>sales</th>\n",
       "    </tr>\n",
       "  </thead>\n",
       "  <tbody>\n",
       "    <tr>\n",
       "      <th>0</th>\n",
       "      <td>2022-01-31</td>\n",
       "      <td>100</td>\n",
       "    </tr>\n",
       "    <tr>\n",
       "      <th>1</th>\n",
       "      <td>2022-02-28</td>\n",
       "      <td>102</td>\n",
       "    </tr>\n",
       "    <tr>\n",
       "      <th>2</th>\n",
       "      <td>2022-03-31</td>\n",
       "      <td>105</td>\n",
       "    </tr>\n",
       "    <tr>\n",
       "      <th>3</th>\n",
       "      <td>2022-04-30</td>\n",
       "      <td>107</td>\n",
       "    </tr>\n",
       "    <tr>\n",
       "      <th>4</th>\n",
       "      <td>2022-05-31</td>\n",
       "      <td>110</td>\n",
       "    </tr>\n",
       "    <tr>\n",
       "      <th>5</th>\n",
       "      <td>2022-06-30</td>\n",
       "      <td>112</td>\n",
       "    </tr>\n",
       "    <tr>\n",
       "      <th>6</th>\n",
       "      <td>2022-07-31</td>\n",
       "      <td>115</td>\n",
       "    </tr>\n",
       "    <tr>\n",
       "      <th>7</th>\n",
       "      <td>2022-08-31</td>\n",
       "      <td>117</td>\n",
       "    </tr>\n",
       "    <tr>\n",
       "      <th>8</th>\n",
       "      <td>2022-09-30</td>\n",
       "      <td>120</td>\n",
       "    </tr>\n",
       "    <tr>\n",
       "      <th>9</th>\n",
       "      <td>2022-10-31</td>\n",
       "      <td>122</td>\n",
       "    </tr>\n",
       "  </tbody>\n",
       "</table>\n",
       "</div>"
      ],
      "text/plain": [
       "        date  sales\n",
       "0 2022-01-31    100\n",
       "1 2022-02-28    102\n",
       "2 2022-03-31    105\n",
       "3 2022-04-30    107\n",
       "4 2022-05-31    110\n",
       "5 2022-06-30    112\n",
       "6 2022-07-31    115\n",
       "7 2022-08-31    117\n",
       "8 2022-09-30    120\n",
       "9 2022-10-31    122"
      ]
     },
     "execution_count": 242,
     "metadata": {},
     "output_type": "execute_result"
    }
   ],
   "source": [
    "data_df"
   ]
  },
  {
   "cell_type": "markdown",
   "id": "33d5c5f8-c73b-4889-9360-06ff49e77edd",
   "metadata": {},
   "source": [
    "<br>\n",
    "\n",
    "Index původní tabulky je nastavený implicitně jako interval `0-n` ."
   ]
  },
  {
   "cell_type": "code",
   "execution_count": 244,
   "id": "16f27394-4a76-4ac1-b497-f6be0658f934",
   "metadata": {
    "tags": []
   },
   "outputs": [],
   "source": [
    "data_df.set_index('date', inplace=True)"
   ]
  },
  {
   "cell_type": "code",
   "execution_count": 245,
   "id": "1dc3a9dc-8dc9-450a-a75b-2ba46a13001d",
   "metadata": {},
   "outputs": [
    {
     "data": {
      "text/html": [
       "<div>\n",
       "<style scoped>\n",
       "    .dataframe tbody tr th:only-of-type {\n",
       "        vertical-align: middle;\n",
       "    }\n",
       "\n",
       "    .dataframe tbody tr th {\n",
       "        vertical-align: top;\n",
       "    }\n",
       "\n",
       "    .dataframe thead th {\n",
       "        text-align: right;\n",
       "    }\n",
       "</style>\n",
       "<table border=\"1\" class=\"dataframe\">\n",
       "  <thead>\n",
       "    <tr style=\"text-align: right;\">\n",
       "      <th></th>\n",
       "      <th>sales</th>\n",
       "    </tr>\n",
       "    <tr>\n",
       "      <th>date</th>\n",
       "      <th></th>\n",
       "    </tr>\n",
       "  </thead>\n",
       "  <tbody>\n",
       "    <tr>\n",
       "      <th>2022-01-31</th>\n",
       "      <td>100</td>\n",
       "    </tr>\n",
       "    <tr>\n",
       "      <th>2022-02-28</th>\n",
       "      <td>102</td>\n",
       "    </tr>\n",
       "    <tr>\n",
       "      <th>2022-03-31</th>\n",
       "      <td>105</td>\n",
       "    </tr>\n",
       "    <tr>\n",
       "      <th>2022-04-30</th>\n",
       "      <td>107</td>\n",
       "    </tr>\n",
       "    <tr>\n",
       "      <th>2022-05-31</th>\n",
       "      <td>110</td>\n",
       "    </tr>\n",
       "    <tr>\n",
       "      <th>2022-06-30</th>\n",
       "      <td>112</td>\n",
       "    </tr>\n",
       "    <tr>\n",
       "      <th>2022-07-31</th>\n",
       "      <td>115</td>\n",
       "    </tr>\n",
       "    <tr>\n",
       "      <th>2022-08-31</th>\n",
       "      <td>117</td>\n",
       "    </tr>\n",
       "    <tr>\n",
       "      <th>2022-09-30</th>\n",
       "      <td>120</td>\n",
       "    </tr>\n",
       "    <tr>\n",
       "      <th>2022-10-31</th>\n",
       "      <td>122</td>\n",
       "    </tr>\n",
       "  </tbody>\n",
       "</table>\n",
       "</div>"
      ],
      "text/plain": [
       "            sales\n",
       "date             \n",
       "2022-01-31    100\n",
       "2022-02-28    102\n",
       "2022-03-31    105\n",
       "2022-04-30    107\n",
       "2022-05-31    110\n",
       "2022-06-30    112\n",
       "2022-07-31    115\n",
       "2022-08-31    117\n",
       "2022-09-30    120\n",
       "2022-10-31    122"
      ]
     },
     "execution_count": 245,
     "metadata": {},
     "output_type": "execute_result"
    }
   ],
   "source": [
    "data_df"
   ]
  },
  {
   "cell_type": "code",
   "execution_count": 246,
   "id": "47d9a370-6a79-472a-a610-217e7dd35410",
   "metadata": {
    "tags": []
   },
   "outputs": [],
   "source": [
    "period_df = data_df.to_period(freq='M')"
   ]
  },
  {
   "cell_type": "code",
   "execution_count": 247,
   "id": "dc37e1d7-d0fa-42d3-bf53-630c2ffcfae1",
   "metadata": {},
   "outputs": [
    {
     "data": {
      "text/html": [
       "<div>\n",
       "<style scoped>\n",
       "    .dataframe tbody tr th:only-of-type {\n",
       "        vertical-align: middle;\n",
       "    }\n",
       "\n",
       "    .dataframe tbody tr th {\n",
       "        vertical-align: top;\n",
       "    }\n",
       "\n",
       "    .dataframe thead th {\n",
       "        text-align: right;\n",
       "    }\n",
       "</style>\n",
       "<table border=\"1\" class=\"dataframe\">\n",
       "  <thead>\n",
       "    <tr style=\"text-align: right;\">\n",
       "      <th></th>\n",
       "      <th>sales</th>\n",
       "    </tr>\n",
       "    <tr>\n",
       "      <th>date</th>\n",
       "      <th></th>\n",
       "    </tr>\n",
       "  </thead>\n",
       "  <tbody>\n",
       "    <tr>\n",
       "      <th>2022-01</th>\n",
       "      <td>100</td>\n",
       "    </tr>\n",
       "    <tr>\n",
       "      <th>2022-02</th>\n",
       "      <td>102</td>\n",
       "    </tr>\n",
       "    <tr>\n",
       "      <th>2022-03</th>\n",
       "      <td>105</td>\n",
       "    </tr>\n",
       "    <tr>\n",
       "      <th>2022-04</th>\n",
       "      <td>107</td>\n",
       "    </tr>\n",
       "    <tr>\n",
       "      <th>2022-05</th>\n",
       "      <td>110</td>\n",
       "    </tr>\n",
       "    <tr>\n",
       "      <th>2022-06</th>\n",
       "      <td>112</td>\n",
       "    </tr>\n",
       "    <tr>\n",
       "      <th>2022-07</th>\n",
       "      <td>115</td>\n",
       "    </tr>\n",
       "    <tr>\n",
       "      <th>2022-08</th>\n",
       "      <td>117</td>\n",
       "    </tr>\n",
       "    <tr>\n",
       "      <th>2022-09</th>\n",
       "      <td>120</td>\n",
       "    </tr>\n",
       "    <tr>\n",
       "      <th>2022-10</th>\n",
       "      <td>122</td>\n",
       "    </tr>\n",
       "  </tbody>\n",
       "</table>\n",
       "</div>"
      ],
      "text/plain": [
       "         sales\n",
       "date          \n",
       "2022-01    100\n",
       "2022-02    102\n",
       "2022-03    105\n",
       "2022-04    107\n",
       "2022-05    110\n",
       "2022-06    112\n",
       "2022-07    115\n",
       "2022-08    117\n",
       "2022-09    120\n",
       "2022-10    122"
      ]
     },
     "execution_count": 247,
     "metadata": {},
     "output_type": "execute_result"
    }
   ],
   "source": [
    "period_df"
   ]
  },
  {
   "cell_type": "markdown",
   "id": "3c9889c5-1045-4c39-b73b-8a1614b01329",
   "metadata": {},
   "source": [
    "<br>\n",
    "\n",
    "### TimedeltaIndex\n",
    "\n",
    "---\n",
    "\n",
    "Jde o rozdíl v jednotkách času.\n",
    "\n",
    "Nejčastěji se s tímto objektem setkáš, pokud potřebuješ získat **rozdíl mezi dvěma datumy**."
   ]
  },
  {
   "cell_type": "code",
   "execution_count": null,
   "id": "baa82ce3-62ff-44d0-8b2e-71751d8a7c64",
   "metadata": {
    "tags": []
   },
   "outputs": [],
   "source": [
    "specialni_datumy = to_datetime([\n",
    "    datetime(2022, 4, 5), \"5th of April 2021\", \"2020-Apr-5\", \"05-04-2019\", \"20180405\"]\n",
    ")"
   ]
  },
  {
   "cell_type": "code",
   "execution_count": null,
   "id": "c8ce31ff-510d-49de-9098-8efba84b3e8d",
   "metadata": {},
   "outputs": [],
   "source": [
    "specialni_datumy"
   ]
  },
  {
   "cell_type": "code",
   "execution_count": null,
   "id": "fa67979c-560d-4c06-a4b5-97dffa5f66f0",
   "metadata": {
    "tags": []
   },
   "outputs": [],
   "source": [
    "datumy - specialni_datumy"
   ]
  },
  {
   "cell_type": "markdown",
   "id": "d06fc380-1a8d-4861-beda-568075bda222",
   "metadata": {},
   "source": [
    "<br>\n",
    "\n",
    "Rozdíl mezi datumy můžeš počítat i pro jednotlivé `Timestamp` hodnoty:"
   ]
  },
  {
   "cell_type": "code",
   "execution_count": null,
   "id": "999679f7-dbcc-45a5-bc6e-daa379d87310",
   "metadata": {},
   "outputs": [],
   "source": [
    "datumy[0]"
   ]
  },
  {
   "cell_type": "code",
   "execution_count": null,
   "id": "effc3dfd-e0df-45ab-8fa7-0254631a62a7",
   "metadata": {},
   "outputs": [],
   "source": [
    "specialni_datumy[0]"
   ]
  },
  {
   "cell_type": "code",
   "execution_count": null,
   "id": "aec46dd7-0aed-41f1-bd42-0244f276612f",
   "metadata": {},
   "outputs": [],
   "source": [
    "datumy[0] - specialni_datumy[0]"
   ]
  },
  {
   "cell_type": "markdown",
   "id": "a20b2222-9b34-4dfb-895c-edd48b1d4dc7",
   "metadata": {},
   "source": [
    "<br>\n",
    "\n",
    "**🧠 CVIČENÍ 🧠, procvič si funkci `to_datetime`**"
   ]
  },
  {
   "cell_type": "code",
   "execution_count": null,
   "id": "d1ebccfe-8d1e-4e02-8255-228da5d88d4d",
   "metadata": {
    "tags": []
   },
   "outputs": [],
   "source": [
    "data = {  # Převeď datumy na formát RRRR-MM-DD\n",
    "    \"Name\": [\"Event A\", \"Event B\", \"Event C\"],\n",
    "    \"Date\": [\"21-11-2024\", \"05-12-2024\", \"15-01-2025\"],\n",
    "}"
   ]
  },
  {
   "cell_type": "code",
   "execution_count": null,
   "id": "a5bc4687-1757-4a96-9add-1dc85fef6b1a",
   "metadata": {},
   "outputs": [],
   "source": []
  },
  {
   "cell_type": "code",
   "execution_count": null,
   "id": "7511c33a-3f55-4c94-9be3-ad018f504f0c",
   "metadata": {},
   "outputs": [],
   "source": []
  },
  {
   "cell_type": "markdown",
   "id": "ff739f8f-73f7-4c8c-ab5b-a799d2fc754e",
   "metadata": {},
   "source": [
    "<details>\n",
    "    <summary>▶️ Řešení</summary>\n",
    "    \n",
    "```python\n",
    "import pandas as pd\n",
    "\n",
    "data = {\n",
    "    \"Name\": [\"Event A\", \"Event B\", \"Event C\"],\n",
    "    \"Date\": [\"21-11-2024\", \"05-12-2024\", \"15-01-2025\"],\n",
    "}\n",
    "\n",
    "\n",
    "df = pd.DataFrame(data)\n",
    "\n",
    "\n",
    "def convert_dates(df):\n",
    "    df[\"Date\"] = pd.to_datetime(df[\"Date\"], format=\"%d-%m-%Y\")\n",
    "    return df\n",
    "\n",
    "converted_df = convert_dates(df)\n",
    "print(converted_df)\n",
    "print(converted_df.dtypes)\n",
    "```\n",
    "</details>"
   ]
  },
  {
   "cell_type": "markdown",
   "id": "bf107bb3-6e1e-4626-bed3-fec822e4485f",
   "metadata": {},
   "source": [
    "<br>\n",
    "\n",
    "## Funkce `date_range`\n",
    "\n",
    "---\n",
    "\n",
    "Aby bylo zadání řady (sekvence) dat pohodlnější, vyzkoušej funkci `date_range`.\n",
    "\n",
    "Obdobně potom pracují související funkce:\n",
    "* `date_range`, timestampy,\n",
    "* `period_range`, periody,\n",
    "* `timedelta_range`, pro delty."
   ]
  },
  {
   "cell_type": "code",
   "execution_count": null,
   "id": "e9a1f246-14f6-47ea-a7d0-f66e7a4a1cae",
   "metadata": {
    "tags": []
   },
   "outputs": [],
   "source": [
    "from pandas import date_range"
   ]
  },
  {
   "cell_type": "markdown",
   "id": "002a848e-841d-491c-91a3-749c296728d2",
   "metadata": {},
   "source": [
    "<br>\n",
    "\n",
    "### Počet period\n",
    "\n",
    "---"
   ]
  },
  {
   "cell_type": "code",
   "execution_count": null,
   "id": "021c142d-e37b-41ff-b9c5-d344743cd7f8",
   "metadata": {
    "tags": []
   },
   "outputs": [],
   "source": [
    "datumy_ind = date_range(\"01-01-1992\", periods=8)"
   ]
  },
  {
   "cell_type": "code",
   "execution_count": null,
   "id": "f37f1ae5-a8b5-490e-a1c4-917629d5352c",
   "metadata": {
    "tags": []
   },
   "outputs": [],
   "source": [
    "datumy_ind"
   ]
  },
  {
   "cell_type": "markdown",
   "id": "bb5f2e6f-7548-41e5-abe3-9283c1af8a45",
   "metadata": {},
   "source": [
    "<br>\n",
    "\n",
    "## Frekvence\n",
    "\n",
    "---"
   ]
  },
  {
   "cell_type": "code",
   "execution_count": null,
   "id": "024cd46c-f335-40e2-8e92-7fb51721c5ba",
   "metadata": {
    "tags": []
   },
   "outputs": [],
   "source": [
    "datumy_mesicne_ind = date_range(\"01-01-1992\", periods=12, freq=\"M\")"
   ]
  },
  {
   "cell_type": "code",
   "execution_count": null,
   "id": "225b725b-18e7-4aab-80e5-cc0d32cba1fb",
   "metadata": {
    "tags": []
   },
   "outputs": [],
   "source": [
    "datumy_mesicne_ind"
   ]
  },
  {
   "cell_type": "markdown",
   "id": "21db1805-6d1c-4a56-9dbd-48f5e1410244",
   "metadata": {},
   "source": [
    "<br>\n",
    "\n",
    "### Hodinové periody\n",
    "\n",
    "---"
   ]
  },
  {
   "cell_type": "code",
   "execution_count": null,
   "id": "f2068e00-565e-4b55-bac2-aab644b74ab4",
   "metadata": {
    "tags": []
   },
   "outputs": [],
   "source": [
    "from pandas import timedelta_range"
   ]
  },
  {
   "cell_type": "code",
   "execution_count": null,
   "id": "ce92855a-c1e5-4e34-97b6-e0ff77ccfb72",
   "metadata": {
    "tags": []
   },
   "outputs": [],
   "source": [
    "hodinove_ind = timedelta_range(0, periods=12, freq='H')"
   ]
  },
  {
   "cell_type": "code",
   "execution_count": null,
   "id": "f23351fd-67c8-41ee-bebe-051991c6ecca",
   "metadata": {
    "tags": []
   },
   "outputs": [],
   "source": [
    "hodinove_ind"
   ]
  },
  {
   "cell_type": "code",
   "execution_count": null,
   "id": "886f7b7d-fc15-4101-a32a-451cd50b3cb5",
   "metadata": {},
   "outputs": [],
   "source": [
    "# timedelta_range?"
   ]
  },
  {
   "cell_type": "markdown",
   "id": "3dd5da5f-fa84-4c5b-a5ce-b23bdaccf9cb",
   "metadata": {},
   "source": [
    "<br>\n",
    "\n",
    "### Tabulka frekvencí\n",
    "\n",
    "---\n",
    "\n",
    "Časovou paletou frekvencí, kterou framework `pandas` nabízí je tato tabulka:\n",
    "\n",
    "| String | Popisek |\n",
    "| :-: | :- |\n",
    "| `D` | kalendářní den |\n",
    "| `W` | týden |\n",
    "| `M` | konec měsíce |\n",
    "| `Q` | konec čtvrtletí |\n",
    "| `A` | konec roku |\n",
    "| `H` | hodiny |\n",
    "| `T` | minuty |\n",
    "| `S` | vteřiny |\n",
    "| `B` | pracovní den |\n",
    "| `BM` | konec pracovního měsíce |\n",
    "| `BQ` | konec pracovního čtvrtletí |"
   ]
  },
  {
   "cell_type": "markdown",
   "id": "e9205848-bae1-47a2-811d-d0fe7b237fc7",
   "metadata": {},
   "source": [
    "#### Netradiční frekvence\n",
    "\n",
    "---"
   ]
  },
  {
   "cell_type": "code",
   "execution_count": null,
   "id": "a1c287c7-8354-4caf-aa54-3ed945441c54",
   "metadata": {
    "tags": []
   },
   "outputs": [],
   "source": [
    "timedelta_range(start='1H', periods=5, freq=\"1H15T\")"
   ]
  },
  {
   "cell_type": "markdown",
   "id": "48ad794f-a330-4662-8d38-08ba85bf23e2",
   "metadata": {},
   "source": [
    "<br>\n",
    "\n",
    "### Resampling\n",
    "\n",
    "---"
   ]
  },
  {
   "cell_type": "markdown",
   "id": "3f0efbcb-7c1a-4b85-961c-3b292f7552f2",
   "metadata": {},
   "source": [
    "*Resampling* nebo také *převzorkování* je proces, který upravuje frekvenci časové řady.\n",
    "\n",
    "*Resampling* se obvykle používá **pro snížení frekvence** (z hodinových dat na denní data).\n",
    "\n",
    "*Resampling* zahrnuje **agregaci dat**.\n",
    "\n",
    "V `pandas` se k tomu používá metoda `resample`, která má jako parametr novou frekvenci, na kterou chcete data převést:"
   ]
  },
  {
   "cell_type": "code",
   "execution_count": null,
   "id": "c983c2ae-4ac5-42f7-86e2-14c3554d12bf",
   "metadata": {
    "tags": []
   },
   "outputs": [],
   "source": [
    "import pandas as pd\n",
    "import numpy as np\n",
    "# from pandas import DataFrame, date_range"
   ]
  },
  {
   "cell_type": "code",
   "execution_count": null,
   "id": "33f29abf-34aa-46ba-b2eb-20ba521ec82e",
   "metadata": {
    "tags": []
   },
   "outputs": [],
   "source": [
    "data = {\n",
    "    'date': pd.date_range(start='2022-01-01', periods=60, freq='D'),\n",
    "    'sales': np.random.randint(10, 100, size=60)\n",
    "}"
   ]
  },
  {
   "cell_type": "code",
   "execution_count": null,
   "id": "4315a997-c6f4-41b7-b973-73bcbb408915",
   "metadata": {
    "tags": []
   },
   "outputs": [],
   "source": [
    "data_df = pd.DataFrame(data)"
   ]
  },
  {
   "cell_type": "code",
   "execution_count": null,
   "id": "180ba486-3bf8-47bb-a1ab-ceeb63b94ced",
   "metadata": {},
   "outputs": [],
   "source": [
    "data_df.head()"
   ]
  },
  {
   "cell_type": "markdown",
   "id": "34619d9e-abc4-461f-a44b-8ff47ce10c93",
   "metadata": {},
   "source": [
    "Dostupné sloupce:"
   ]
  },
  {
   "cell_type": "code",
   "execution_count": null,
   "id": "ff563fcf-5f84-4e8a-beb9-b8140f7b58a7",
   "metadata": {},
   "outputs": [],
   "source": [
    "data_df.columns"
   ]
  },
  {
   "cell_type": "markdown",
   "id": "15a1d88e-fee8-4cb5-9aba-530edf322d78",
   "metadata": {},
   "source": [
    "Dostupné indexy:"
   ]
  },
  {
   "cell_type": "code",
   "execution_count": null,
   "id": "7ab4b361-e6a1-4a78-9408-9ea64bed2055",
   "metadata": {},
   "outputs": [],
   "source": [
    "data_df.index"
   ]
  },
  {
   "cell_type": "code",
   "execution_count": null,
   "id": "72fa4502-5b23-489f-93df-c77408b143b3",
   "metadata": {
    "tags": []
   },
   "outputs": [],
   "source": [
    "data_df.set_index('date', inplace=True)"
   ]
  },
  {
   "cell_type": "code",
   "execution_count": null,
   "id": "ac650f5c-6bc4-45e5-aab9-15bfe78d55e2",
   "metadata": {},
   "outputs": [],
   "source": [
    "data_df.head()"
   ]
  },
  {
   "cell_type": "markdown",
   "id": "1da4dfbd-f8d4-42dc-a534-cc05bf287fc4",
   "metadata": {},
   "source": [
    "<br>\n",
    "\n",
    "Pomocí metody `resample` současně hodnoty agregujeme a snížíme frekvenci:"
   ]
  },
  {
   "cell_type": "code",
   "execution_count": null,
   "id": "bedb19b0-6c2a-4817-977c-79faa15ef983",
   "metadata": {
    "tags": []
   },
   "outputs": [],
   "source": [
    "mesicni_data = data_df.resample('M').sum()"
   ]
  },
  {
   "cell_type": "code",
   "execution_count": null,
   "id": "9c1daaf6-3185-45e7-80f4-6af62150efc7",
   "metadata": {
    "tags": []
   },
   "outputs": [],
   "source": [
    "mesicni_data"
   ]
  },
  {
   "cell_type": "code",
   "execution_count": null,
   "id": "d00db650-5ea0-4f5a-825f-54cde92457bf",
   "metadata": {},
   "outputs": [],
   "source": [
    "data_df.tail()"
   ]
  },
  {
   "cell_type": "markdown",
   "id": "41d14b79-3633-4ef2-a31c-077d5f78aeb4",
   "metadata": {},
   "source": [
    "<br>\n",
    "\n",
    "Upravit původní vzorek dat na zamýšlenou frekvenci, tedy `W`:"
   ]
  },
  {
   "cell_type": "code",
   "execution_count": null,
   "id": "fe2baa01-9ea4-4a18-b30c-d35d5e481aef",
   "metadata": {},
   "outputs": [],
   "source": [
    "tydenni_data = data_df.resample('W').sum()"
   ]
  },
  {
   "cell_type": "code",
   "execution_count": null,
   "id": "e4862fca-26e2-4c9a-8c86-18b0761aa50f",
   "metadata": {},
   "outputs": [],
   "source": [
    "tydenni_data"
   ]
  },
  {
   "cell_type": "code",
   "execution_count": null,
   "id": "7870ae32-fe35-4055-9bfb-5ce8f30dd83f",
   "metadata": {},
   "outputs": [],
   "source": [
    "nahodny_den = pd.to_datetime('2022-02-01')"
   ]
  },
  {
   "cell_type": "code",
   "execution_count": null,
   "id": "f4b08abd-9b8c-4a9a-a366-3bed2e72723e",
   "metadata": {},
   "outputs": [],
   "source": [
    "nahodny_den.weekofyear"
   ]
  },
  {
   "cell_type": "markdown",
   "id": "cdc05c60-1932-4222-9ab1-d21474d8b302",
   "metadata": {},
   "source": [
    "<br>\n",
    "\n",
    "### Zpřesňování\n",
    "\n",
    "---\n",
    "\n",
    "Zahrnuje **zvýšení frekvence časových řad**.\n",
    "\n",
    "Přičemž se nově vytvořené hodnoty obvykle interpolují nebo doplňují nějakou konstantou.\n",
    "\n",
    "V pandas se k zpřesňování používá metoda `asfreq`, která má jako parametr **novou frekvenci**, na kterou chcete data převést."
   ]
  },
  {
   "cell_type": "code",
   "execution_count": null,
   "id": "643c9e87-07ee-444a-9704-b0976558b9e1",
   "metadata": {
    "tags": []
   },
   "outputs": [],
   "source": [
    "data = {\n",
    "    'date': pd.date_range(start='2022-01-01', end='2022-03-01', freq='D'),\n",
    "    'sales': np.random.randint(10, 150, size=60)  # Opatrně na délky sekvencí\n",
    "}"
   ]
  },
  {
   "cell_type": "code",
   "execution_count": null,
   "id": "f47866ee-5b57-489d-81bc-639d41344f82",
   "metadata": {
    "tags": []
   },
   "outputs": [],
   "source": [
    "dalsi_data_df = pd.DataFrame(data)"
   ]
  },
  {
   "cell_type": "code",
   "execution_count": null,
   "id": "b78fd132-e801-44f4-bfc6-9a4ce57edbb5",
   "metadata": {
    "tags": []
   },
   "outputs": [],
   "source": [
    "dalsi_data_df.head()"
   ]
  },
  {
   "cell_type": "code",
   "execution_count": null,
   "id": "5a54e8b2-aee2-4d42-a924-6186fc33d5c0",
   "metadata": {
    "tags": []
   },
   "outputs": [],
   "source": [
    "dalsi_data_df.set_index('date', inplace=True)"
   ]
  },
  {
   "cell_type": "code",
   "execution_count": null,
   "id": "f5c17702-bc48-4b31-bd92-0889824d28e0",
   "metadata": {
    "tags": []
   },
   "outputs": [],
   "source": [
    "denni_data = dalsi_data_df.asfreq('H')"
   ]
  },
  {
   "cell_type": "markdown",
   "id": "88e5626d-017b-4db7-bae9-331c37fca0be",
   "metadata": {},
   "source": [
    "<br>\n",
    "\n",
    "Pokud nezadáš hodnotu pro výplňovací parametr, uvidíš prázdné hodnoty `NaN`:"
   ]
  },
  {
   "cell_type": "code",
   "execution_count": null,
   "id": "413b2aa8-b77c-4599-87d1-7cf0bda07ef7",
   "metadata": {
    "tags": []
   },
   "outputs": [],
   "source": [
    "denni_data.head(10)"
   ]
  },
  {
   "cell_type": "markdown",
   "id": "d32a28bc-2a29-4b69-8585-6f2e6be29022",
   "metadata": {},
   "source": [
    "Metoda `asfreq` bere jako parametr novou frekvenci, na kterou chceme data převést.\n",
    "\n",
    "V případě výše jde o frekvenci `H`, což znamená **hodinová data**.\n",
    "\n",
    "Protože při zpřesňování se **vytvoří chybějící hodnoty** (v důsledku zvýšení frekvence), je potřeba zvolit metodu pro jejich doplnění."
   ]
  },
  {
   "cell_type": "code",
   "execution_count": null,
   "id": "1f4abcdf-0750-42e8-984a-e726b5e00b33",
   "metadata": {},
   "outputs": [],
   "source": [
    "denni_data = dalsi_data_df.asfreq('H', method='ffill')"
   ]
  },
  {
   "cell_type": "code",
   "execution_count": null,
   "id": "438d5863-c34f-46f4-bbd1-0c146b3211d0",
   "metadata": {},
   "outputs": [],
   "source": [
    "denni_data.head()"
   ]
  },
  {
   "cell_type": "markdown",
   "id": "1d07eadb-f7d7-4722-994b-6e8af5ce2d4e",
   "metadata": {},
   "source": [
    "Výš jde o metodu `forward fill` (parametr `method='ffill'`), která kopíruje předchozí hodnotu pro výplň chybějících hodnot.\n",
    "\n",
    "Další možností je použít metodu `'back fill'` (parametr `method='bfill'`), která kopíruje následující hodnotu pro výplň chybějících hodnot."
   ]
  },
  {
   "cell_type": "code",
   "execution_count": null,
   "id": "38970767-11e2-40b7-9032-03e855dae614",
   "metadata": {},
   "outputs": [],
   "source": [
    "denni_data = dalsi_data_df.asfreq('H', method='bfill')"
   ]
  },
  {
   "cell_type": "code",
   "execution_count": null,
   "id": "76555a7d-6336-433f-b6ab-8a5948980d59",
   "metadata": {},
   "outputs": [],
   "source": [
    "denni_data.head()"
   ]
  },
  {
   "cell_type": "code",
   "execution_count": null,
   "id": "68e87c50-1064-4ea4-aac8-c68602f9d122",
   "metadata": {},
   "outputs": [],
   "source": [
    "mesicni_data_asfreq = dalsi_data_df.asfreq('M')"
   ]
  },
  {
   "cell_type": "code",
   "execution_count": null,
   "id": "68a79b54-5632-4ba1-ad67-e6ada074695a",
   "metadata": {},
   "outputs": [],
   "source": [
    "mesicni_data"
   ]
  },
  {
   "cell_type": "code",
   "execution_count": null,
   "id": "8b3e1d9f-c1fc-48e3-b24a-a4759ecf681f",
   "metadata": {},
   "outputs": [],
   "source": [
    "dalsi_data_df.resample('M')"
   ]
  },
  {
   "cell_type": "code",
   "execution_count": null,
   "id": "3f825bf0-7fb8-4230-9745-068d220aefc3",
   "metadata": {},
   "outputs": [],
   "source": [
    "mesicni_data_resample = dalsi_data_df.resample('M').sum()"
   ]
  },
  {
   "cell_type": "code",
   "execution_count": null,
   "id": "c5c76dd0-d6ac-41bd-b1f2-06dc59b6a36c",
   "metadata": {},
   "outputs": [],
   "source": [
    "mesicni_data_resample"
   ]
  },
  {
   "cell_type": "code",
   "execution_count": null,
   "id": "65905cc2-dfbe-4f87-b6df-cc48286b1670",
   "metadata": {},
   "outputs": [],
   "source": [
    "# dalsi_data_df.asfreq?"
   ]
  },
  {
   "cell_type": "markdown",
   "id": "cdfb19f8-eff6-47a3-a164-724bd8163254",
   "metadata": {},
   "source": [
    "<br>\n",
    "\n",
    "**🧠 CVIČENÍ 🧠, procvič si časové řady**"
   ]
  },
  {
   "cell_type": "markdown",
   "id": "6eb3f2b1-55f4-459b-8897-ee58661d28b0",
   "metadata": {},
   "source": [
    "Analyzuj prodeje produktu ve fiktivní společnosti během jednoho roku a zjisti následující:\n",
    "1. Celkový prodej za každý měsíc.\n",
    "2. Průměrný prodej za každý den v týdnu.\n",
    "3. Denní prodej za poslední týden."
   ]
  },
  {
   "cell_type": "code",
   "execution_count": null,
   "id": "c9f1f428-2e07-4341-a3ce-2195e1277183",
   "metadata": {
    "tags": []
   },
   "outputs": [],
   "source": [
    "import pandas as pd\n",
    "import numpy as np\n",
    "\n",
    "denni_datumy = pd.date_range(start='2022-01-01',\n",
    "                             end='2022-12-31',\n",
    "                             freq='D')\n",
    "prodeje = np.random.randint(10, 100, size=(len(denni_datumy),))\n",
    "\n",
    "data = {'datumy': denni_datumy, 'prodeje': prodeje}\n",
    "\n",
    "df_prodeje = pd.DataFrame(data)\n",
    "df_prodeje.set_index('datumy', inplace=True)"
   ]
  },
  {
   "cell_type": "code",
   "execution_count": null,
   "id": "d47404b7-cb11-4856-a451-fdc2b0a80699",
   "metadata": {
    "tags": []
   },
   "outputs": [],
   "source": [
    "df_prodeje.head()"
   ]
  },
  {
   "cell_type": "code",
   "execution_count": null,
   "id": "2b7db08a-c221-4cbd-a42d-67b48e7059af",
   "metadata": {
    "tags": []
   },
   "outputs": [],
   "source": [
    "celkovy_mesicni_prodej = df_prodeje.resample('M').sum()"
   ]
  },
  {
   "cell_type": "code",
   "execution_count": null,
   "id": "dfaeeb35-f3bb-42da-8cde-b876cfc6cb8c",
   "metadata": {},
   "outputs": [],
   "source": [
    "# df_prodeje.index"
   ]
  },
  {
   "cell_type": "code",
   "execution_count": null,
   "id": "d0b7503f-6960-4439-a89c-a31808a8c760",
   "metadata": {},
   "outputs": [],
   "source": [
    "dnes = pd.to_datetime('2024-11-27')"
   ]
  },
  {
   "cell_type": "code",
   "execution_count": null,
   "id": "38b9991d-c40e-46aa-a33c-7414bad5c54c",
   "metadata": {},
   "outputs": [],
   "source": [
    "dnes.day_name()"
   ]
  },
  {
   "cell_type": "code",
   "execution_count": null,
   "id": "679b5279-cf1a-4fd9-a1f2-b43a65060080",
   "metadata": {
    "tags": []
   },
   "outputs": [],
   "source": [
    "df_prodeje['den'] = df_prodeje.index.day_name()"
   ]
  },
  {
   "cell_type": "code",
   "execution_count": null,
   "id": "79866dc7-6555-4fa9-8605-07ea4d612a84",
   "metadata": {},
   "outputs": [],
   "source": [
    "df_prodeje.head()"
   ]
  },
  {
   "cell_type": "code",
   "execution_count": null,
   "id": "4b204a7e-f7f8-4be5-9010-4b3e2ebe03d0",
   "metadata": {},
   "outputs": [],
   "source": [
    "prumerni_denni_prodej = df_prodeje.groupby('den').mean()  # --> .aggregate(np.mean)"
   ]
  },
  {
   "cell_type": "markdown",
   "id": "f4e2bd40-a90d-4bcd-8b8d-fb49cd9b6017",
   "metadata": {},
   "source": [
    "<details>\n",
    "    <summary>▶️ Řešení</summary>\n",
    "    \n",
    "    ```python\n",
    "    monthly_sales = df.resample('M').sum()\n",
    "    print(\"Celkový prodej za každý měsíc:\")\n",
    "    print(monthly_sales)\n",
    "\n",
    "    df_prodeje['weekday'] = df_prodeje.index.weekday\n",
    "    average_weekday_sales = df_prodeje.groupby('weekday')['prodeje'].mean()\n",
    "    print(\"\\nPrůměrný prodej za každý den v týdnu:\")\n",
    "    print(average_weekday_sales)\n",
    "\n",
    "    last_week_sales = df.loc['2022-12-25':, 'sales']\n",
    "    print(\"\\nDenní prodej za poslední týden:\")\n",
    "    print(last_week_sales)\n",
    "    ```\n",
    "</details>"
   ]
  },
  {
   "cell_type": "markdown",
   "id": "62fbb90d-dc45-4935-ad5e-87beaae4cbb4",
   "metadata": {},
   "source": [
    "<br>\n",
    "\n",
    "#### Hodinové periody\n",
    "\n",
    "---"
   ]
  },
  {
   "cell_type": "code",
   "execution_count": null,
   "id": "e599a9eb-ebff-4b15-81eb-447a56d49f2a",
   "metadata": {
    "tags": []
   },
   "outputs": [],
   "source": [
    "from pandas import timedelta_range"
   ]
  },
  {
   "cell_type": "code",
   "execution_count": null,
   "id": "23e2cdfa-41a7-46f2-860a-76f473801c66",
   "metadata": {
    "tags": []
   },
   "outputs": [],
   "source": [
    "hodinove_ind = timedelta_range(0, periods=12, freq=\"H\")"
   ]
  },
  {
   "cell_type": "code",
   "execution_count": null,
   "id": "8ca56f2c-855a-4ac7-acde-c19a5700b3ba",
   "metadata": {
    "tags": []
   },
   "outputs": [],
   "source": [
    "hodinove_ind"
   ]
  },
  {
   "cell_type": "markdown",
   "id": "db3d9da8-d3f8-4ae6-8d2f-3edb8574b186",
   "metadata": {},
   "source": [
    "#### Netradiční frekvence\n",
    "\n",
    "---"
   ]
  },
  {
   "cell_type": "code",
   "execution_count": null,
   "id": "d018ea20-0961-4ebd-a8dd-1e89caba59af",
   "metadata": {
    "tags": []
   },
   "outputs": [],
   "source": [
    "timedelta_range(0, periods=10, freq=\"1H15T\")"
   ]
  },
  {
   "cell_type": "markdown",
   "id": "09459713-4521-4110-b322-028aef4d5602",
   "metadata": {},
   "source": [
    "---"
   ]
  }
 ],
 "metadata": {
  "kernelspec": {
   "display_name": "Python 3 (ipykernel)",
   "language": "python",
   "name": "python3"
  },
  "language_info": {
   "codemirror_mode": {
    "name": "ipython",
    "version": 3
   },
   "file_extension": ".py",
   "mimetype": "text/x-python",
   "name": "python",
   "nbconvert_exporter": "python",
   "pygments_lexer": "ipython3",
   "version": "3.8.10"
  }
 },
 "nbformat": 4,
 "nbformat_minor": 5
}

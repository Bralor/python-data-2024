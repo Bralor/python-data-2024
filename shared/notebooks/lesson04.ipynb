{
 "cells": [
  {
   "cell_type": "markdown",
   "id": "756f8ef3-70f3-48fb-bdf6-28c5dd0d8dc9",
   "metadata": {},
   "source": [
    "# Python, Data, 2025\n",
    "\n",
    "---"
   ]
  },
  {
   "cell_type": "markdown",
   "id": "c2d5b109-15eb-48c2-9a79-18747a196385",
   "metadata": {},
   "source": [
    "* [Agregace](),\n",
    "* [Pivot tabulky](),\n",
    "* [Časové řady](#Časové-řady),\n",
    "    - [úvodní motivace](#Úvod),\n",
    "    - [základní objekty](#Základní-objekty),\n",
    "    - [indexování časovými údaji](#Indexování-s-časem),\n",
    "    - [funkce to_datetime](#Funkce-TO_DATETIME),\n",
    "    - [funkce date_range](#Funkce-DATE_RANGE),\n",
    "    - [resampling](#Resampling),\n",
    "    - [zpřesňování](#Zpřesňování)\n",
    "\n",
    "---"
   ]
  },
  {
   "cell_type": "markdown",
   "id": "e7787240-88a5-46ce-9342-758285c9d82f",
   "metadata": {},
   "source": [
    "## Agregace\n",
    "\n",
    "---\n",
    "\n",
    "\n",
    "<img src=\"https://external-content.duckduckgo.com/iu/?u=https%3A%2F%2Ftse1.mm.bing.net%2Fth%3Fid%3DOIP.HtBtNx6dodlNptXV1QGHWQHaG0%26pid%3DApi&f=1&ipt=3a4d1dfa14a495127b4ece5cf689f00ed0c9e0836853358412e18161ae7c505f&ipo=images\" width=\"160\" style=\"margin-left:auto; margin-right:auto\"/>\n",
    "\n",
    "\n",
    "*Seskupování* neboli **agregace** jsou procesy, které patří k základní efektivní analýze dat."
   ]
  },
  {
   "cell_type": "markdown",
   "id": "4c7e84bb-032a-40c3-ba44-43e0c65855ac",
   "metadata": {},
   "source": [
    "### Jednoduchá agregace\n",
    "\n",
    "---\n",
    "\n",
    "Přesto, že veškeré základní **statistické údaje** prakticky nabízí metoda `describe()`, můžeš ocenit, když stejnou statistiku můžeš aplikovat **na tebou vybrané objekty**.\n",
    "\n",
    "Mezi nejjednodušší postupy, jak data analyzovat patří metody jako:\n",
    "* `sum()`,\n",
    "* `mean()`,\n",
    "* `median()`,\n",
    "* `min()`,\n",
    "* `max()`.\n",
    "\n",
    "Všechny tyto metody umožní získat jedno samotné číslo, které ti umožní prohlédnout podstatu zadaného datasetu."
   ]
  },
  {
   "cell_type": "code",
   "execution_count": null,
   "id": "4b40b5dc-d2ce-4f28-bd42-e2dc2b06293c",
   "metadata": {
    "tags": []
   },
   "outputs": [],
   "source": [
    "from pandas import read_csv, DataFrame"
   ]
  },
  {
   "cell_type": "code",
   "execution_count": null,
   "id": "fa9d956e-da46-4236-ac9f-df1a783052a8",
   "metadata": {
    "tags": []
   },
   "outputs": [],
   "source": [
    "nemovitosti_df = read_csv(\"../onsite/housing.csv\")"
   ]
  },
  {
   "cell_type": "code",
   "execution_count": null,
   "id": "a35214d3-35d3-479f-acd6-27b35f8cb01e",
   "metadata": {
    "tags": []
   },
   "outputs": [],
   "source": [
    "nemovitosti_df.head()"
   ]
  },
  {
   "cell_type": "code",
   "execution_count": null,
   "id": "cd581a87-746f-4d24-baab-28b4418b6c3f",
   "metadata": {},
   "outputs": [],
   "source": [
    "nemovitosti_df.info()"
   ]
  },
  {
   "cell_type": "code",
   "execution_count": null,
   "id": "d2662e53-706e-4f9d-a26c-d2dd2276630b",
   "metadata": {},
   "outputs": [],
   "source": [
    "nemovitosti_df.describe()"
   ]
  },
  {
   "cell_type": "markdown",
   "id": "23a1c6ee-d415-49d5-9a57-947ecc12a076",
   "metadata": {},
   "source": [
    "<br>\n",
    "\n",
    "Prvně vyberu sloupec, se kterým chci pracovat:"
   ]
  },
  {
   "cell_type": "code",
   "execution_count": null,
   "id": "7b780b87-db4f-43ac-a67c-4d51ec0ded79",
   "metadata": {},
   "outputs": [],
   "source": [
    "nemovitosti_df.loc[:, \"price\"]"
   ]
  },
  {
   "cell_type": "code",
   "execution_count": null,
   "id": "12a221bb-b541-4788-8d1b-be803b38c385",
   "metadata": {},
   "outputs": [],
   "source": [
    "nemovitosti_df.loc[:, \"price\"].sum()"
   ]
  },
  {
   "cell_type": "markdown",
   "id": "da3f79c5-a426-4cdb-9401-6a3ef8f54ab6",
   "metadata": {},
   "source": [
    "<br>\n",
    "\n",
    "Často ale není dostačující, prozkoumat data pouze jednoduchých agregačních funkcí.\n",
    "\n",
    "Další operace, které je potřeba pochopit jsou seskupování dat podle zadaných parametrů."
   ]
  },
  {
   "cell_type": "markdown",
   "id": "e241bd57-5064-46a5-bc6e-61680b53c808",
   "metadata": {},
   "source": [
    "<br>\n",
    "\n",
    "### Složitější agregace, seskupování GROUPBY\n",
    "\n",
    "---\n",
    "\n",
    "Metoda `groupby`, původně operace z SQL jazyka, je v rámci knihovny `pandas` všestraný pomocník pro seskupování dat na základě různých kritérií."
   ]
  },
  {
   "cell_type": "code",
   "execution_count": null,
   "id": "20acd864-49b5-48c0-863f-3897bace8b23",
   "metadata": {
    "tags": []
   },
   "outputs": [],
   "source": [
    "from pandas import DataFrame"
   ]
  },
  {
   "cell_type": "code",
   "execution_count": null,
   "id": "14b73c76-eeb8-4c16-bd86-6f1271439b02",
   "metadata": {
    "tags": []
   },
   "outputs": [],
   "source": [
    "pokus_s_cisly_df = DataFrame(\n",
    "    {'klíč': ['A', 'B', 'C', 'A', 'B', 'C'],\n",
    "     'číselná hodnota': range(6)},\n",
    ")"
   ]
  },
  {
   "cell_type": "code",
   "execution_count": null,
   "id": "2c864665-3353-4ec2-adf8-a415682d24b4",
   "metadata": {
    "tags": []
   },
   "outputs": [],
   "source": [
    "pokus_s_cisly_df"
   ]
  },
  {
   "cell_type": "markdown",
   "id": "52d0ac57-3bda-49ca-9d73-ffc628788ff9",
   "metadata": {},
   "source": [
    "#### Klasické seskupení podle sloupečku\n",
    "\n",
    "---"
   ]
  },
  {
   "cell_type": "code",
   "execution_count": null,
   "id": "42919025-6141-4ed6-bca7-a83cb8cb8030",
   "metadata": {},
   "outputs": [],
   "source": [
    "# pokus_s_cisly_df.groupby?"
   ]
  },
  {
   "cell_type": "code",
   "execution_count": null,
   "id": "0be6f31e-16da-4233-a6a8-90b503214266",
   "metadata": {
    "tags": []
   },
   "outputs": [],
   "source": [
    "pokus_s_cisly_df.groupby(\"klíč\")"
   ]
  },
  {
   "cell_type": "markdown",
   "id": "6e656d46-b566-4f40-856b-87a8ba546a5d",
   "metadata": {},
   "source": [
    "Jde opět o tzv. *lazy evaluation* proces, samotný nic neprovede, pouze čeká na pokyn uživatele, který samotnou agregaci spustí."
   ]
  },
  {
   "cell_type": "code",
   "execution_count": null,
   "id": "3b2b6aaf-08b7-4a5c-a4dc-4335e65fe483",
   "metadata": {
    "tags": []
   },
   "outputs": [],
   "source": [
    "type(pokus_s_cisly_df.groupby(\"klíč\"))"
   ]
  },
  {
   "cell_type": "markdown",
   "id": "54547df2-cc84-44c4-a56a-cebfdfa3b86e",
   "metadata": {},
   "source": [
    "Metoda standardně vrací `DataFrameGroupBy`."
   ]
  },
  {
   "cell_type": "code",
   "execution_count": null,
   "id": "0726f811-5dd1-421d-b2f9-a4228f5c6378",
   "metadata": {},
   "outputs": [],
   "source": [
    "pokus_s_cisly_df"
   ]
  },
  {
   "cell_type": "code",
   "execution_count": null,
   "id": "920354fd-ce01-4200-af58-284a4aa94c15",
   "metadata": {
    "tags": []
   },
   "outputs": [],
   "source": [
    "pokus_s_cisly_df.groupby(\"klíč\").max()\n",
    "# max_pokus_s_cisly\n",
    "# count_pokus_s_cisly"
   ]
  },
  {
   "cell_type": "markdown",
   "id": "cba1df86-6f94-4058-8728-0eba430360f9",
   "metadata": {},
   "source": [
    "Metoda `sum()` je pouze jednou z možností, se kterou můžeš pracovat.\n",
    "\n",
    "<br>\n",
    "\n",
    "#### Sloupečkové označování\n",
    "\n",
    "---\n",
    "\n",
    "Stejně jako `DataFrame` můžeš označovat také *GroupBy* objekty."
   ]
  },
  {
   "cell_type": "code",
   "execution_count": null,
   "id": "93f91a23-d51f-4f1a-a98f-2fcc5724daf6",
   "metadata": {
    "tags": []
   },
   "outputs": [],
   "source": [
    "pokus_s_cisly_df"
   ]
  },
  {
   "cell_type": "code",
   "execution_count": null,
   "id": "2e0aa652-c0f9-432f-bd02-39a0931c59ef",
   "metadata": {
    "tags": []
   },
   "outputs": [],
   "source": [
    "pokus_s_cisly_df.groupby(\"klíč\")"
   ]
  },
  {
   "cell_type": "code",
   "execution_count": null,
   "id": "f17db876-a656-4451-859d-df6c2122d610",
   "metadata": {},
   "outputs": [],
   "source": [
    "pokus_s_cisly_df.groupby(\"klíč\")[\"číselná hodnota\"]"
   ]
  },
  {
   "cell_type": "code",
   "execution_count": null,
   "id": "2c68689c-8310-42e4-9737-715d7a730f9a",
   "metadata": {
    "tags": []
   },
   "outputs": [],
   "source": [
    "pokus_s_cisly_df.groupby(\"klíč\")[\"číselná hodnota\"].sum()"
   ]
  },
  {
   "cell_type": "markdown",
   "id": "9835b9db-eb25-4d94-bb5c-3f02b912c071",
   "metadata": {},
   "source": [
    "<br>\n",
    "\n",
    "V uplynulé ukázce je zadaná seskupování podle sloupečku `klíč`.\n",
    "\n",
    "Dále je vybraný pouze konkrétní sloupeček, na který chceš spustit metodu `sum`.\n",
    "\n",
    "<br>\n",
    "\n",
    "Pokud potřebuješ nad vybraným objektem provádět některé procesy ručně, můžeš přes *GroupBy* objekt **iterovat**:"
   ]
  },
  {
   "cell_type": "code",
   "execution_count": null,
   "id": "6585af72-b9dd-411e-b727-68e8d5f533f6",
   "metadata": {
    "tags": []
   },
   "outputs": [],
   "source": [
    "for (klic, hodnota) in pokus_s_cisly_df.groupby(\"klíč\"):\n",
    "    print(f\"Klic: {klic}; Hodnota={hodnota}\")"
   ]
  },
  {
   "cell_type": "markdown",
   "id": "13ee2908-fe5e-43db-99ea-791abd04a794",
   "metadata": {},
   "source": [
    "<br>\n",
    "\n",
    "### Agregace s metodami\n",
    "\n",
    "---"
   ]
  },
  {
   "cell_type": "markdown",
   "id": "4729e567-808e-4bee-835d-633602fb35db",
   "metadata": {},
   "source": [
    "Kromě jednoduchých agregací, nabízí *GroupBy* řadu další funkcionality.\n",
    "\n",
    "Jde o metody:\n",
    "* `aggregate`,\n",
    "* `filter`,\n",
    "* `transform`,\n",
    "* `apply`."
   ]
  },
  {
   "cell_type": "markdown",
   "id": "58b0999f-b3b4-4918-b154-daa7894c36cb",
   "metadata": {},
   "source": [
    "#### Metoda AGGREGATE\n",
    "\n",
    "---"
   ]
  },
  {
   "cell_type": "code",
   "execution_count": null,
   "id": "0881affd-e818-4154-a6c8-26cbbb97f063",
   "metadata": {
    "tags": []
   },
   "outputs": [],
   "source": [
    "import numpy"
   ]
  },
  {
   "cell_type": "code",
   "execution_count": null,
   "id": "cd575442-b1c4-4262-b9a9-7162f2728b59",
   "metadata": {
    "tags": []
   },
   "outputs": [],
   "source": [
    "rng = numpy.random.RandomState(0)"
   ]
  },
  {
   "cell_type": "code",
   "execution_count": null,
   "id": "84158798-45f8-4078-9dfa-f79c3d97e444",
   "metadata": {},
   "outputs": [],
   "source": [
    "from pandas import DataFrame"
   ]
  },
  {
   "cell_type": "code",
   "execution_count": null,
   "id": "d431922d-f8ec-4719-87d1-833528345200",
   "metadata": {
    "tags": []
   },
   "outputs": [],
   "source": [
    "pokus_s_cisly_df = DataFrame(\n",
    "    {'klíč': ['A', 'B', 'C', 'A', 'B', 'C', 'C'],\n",
    "     'data_1': range(7),\n",
    "     'data_2': rng.randint(0, 10, 7)}\n",
    ")"
   ]
  },
  {
   "cell_type": "code",
   "execution_count": null,
   "id": "07fbfe20-ed38-40c6-aeb0-bb11bcc46a6f",
   "metadata": {
    "tags": []
   },
   "outputs": [],
   "source": [
    "pokus_s_cisly_df"
   ]
  },
  {
   "cell_type": "markdown",
   "id": "1364a9ee-be4d-484a-8629-a651c29e3559",
   "metadata": {},
   "source": [
    "Statistické metody určitě nabízí spousty pomůcek.\n",
    "\n",
    "Objekt typu *GroupBy* umí pracovat také s funkcemi, stringy a celými listy."
   ]
  },
  {
   "cell_type": "code",
   "execution_count": null,
   "id": "16b3b939-911c-4df0-80f2-bd57daec2911",
   "metadata": {
    "tags": []
   },
   "outputs": [],
   "source": [
    "pokus_s_cisly_df.groupby(\"klíč\").aggregate(\"sum\")  # .sum()"
   ]
  },
  {
   "cell_type": "code",
   "execution_count": null,
   "id": "c86fa19a-c634-403a-8124-090c359a561d",
   "metadata": {
    "tags": []
   },
   "outputs": [],
   "source": [
    "pokus_s_cisly_df.groupby(\"klíč\").aggregate(numpy.median)"
   ]
  },
  {
   "cell_type": "code",
   "execution_count": null,
   "id": "40e2f7ed-ecd9-4087-a474-39f23e918431",
   "metadata": {
    "tags": []
   },
   "outputs": [],
   "source": [
    "pokus_s_cisly_df.groupby(\"klíč\").aggregate([\"min\", numpy.median, max])"
   ]
  },
  {
   "cell_type": "markdown",
   "id": "cf584b9c-7429-43e0-9602-95bb63f40fb1",
   "metadata": {},
   "source": [
    "<br>\n",
    "\n",
    "Metoda `aggregate`umožní vytvořit tzv. *podsloupce*.\n",
    "\n",
    "Také umožní elegantně spojit různé matematické funkce (př. `min`, `\"min\"`, `numpy.min`)."
   ]
  },
  {
   "cell_type": "markdown",
   "id": "586ea9c3-dde5-4e90-9271-0ed92dd1fa75",
   "metadata": {},
   "source": [
    "<br>\n",
    "\n",
    "Pokud neuložím nově seskupenou tabulku/sloupec, potom data neuchovám.\n",
    "\n",
    "Metoda `groupby` **neupravuje zdrojová data**."
   ]
  },
  {
   "cell_type": "code",
   "execution_count": null,
   "id": "25990759-86cf-469d-8946-6c45e3322811",
   "metadata": {
    "tags": []
   },
   "outputs": [],
   "source": [
    "pokus_s_cisly_df"
   ]
  },
  {
   "cell_type": "markdown",
   "id": "19339b8f-447b-41fa-a23b-468ab00bdfb7",
   "metadata": {},
   "source": [
    "Můžeš říct, že metoda `aggregate` se používá k aplikaci **jedné nebo více agregačních funkcí na seskupená data**."
   ]
  },
  {
   "cell_type": "markdown",
   "id": "b49408d3-8f91-4c7b-8671-9bd26ad169a8",
   "metadata": {},
   "source": [
    "| pobocka | ovoce | prodane_mnozstvi | cena |\n",
    "| :- | :- | :- | :- |\n",
    "| A | apple | 10 | 20 |\n",
    "| A | banana | 15 | 12 |\n",
    "| B | apple | 8 | 22 |\n",
    "| B | banana | 30 | 10 |\n",
    "| C | apple | 20 | 18 |\n",
    "| C | banana | 25 | 15 |"
   ]
  },
  {
   "cell_type": "code",
   "execution_count": null,
   "id": "bbda8c64-5e2e-474b-ab99-401e8e2168b9",
   "metadata": {
    "tags": []
   },
   "outputs": [],
   "source": [
    "ovoce_data = {\n",
    "    'pobocka': ['A', 'A', 'B', 'B', 'C', 'C'],\n",
    "    'ovoce': ['jablko', 'banan', 'jablko', 'banan', 'jablko', 'banan'],\n",
    "    'prodane_mnozstvi': [10, 15, 8, 30, 20, 25],\n",
    "    'cena': [20, 12, 22, 10, 18, 15]\n",
    "}"
   ]
  },
  {
   "cell_type": "code",
   "execution_count": null,
   "id": "df68a2c1-4105-4116-a2e7-21f785577f4d",
   "metadata": {},
   "outputs": [],
   "source": [
    "ovoce_data.keys()"
   ]
  },
  {
   "cell_type": "code",
   "execution_count": null,
   "id": "935e3878-e99d-4cb2-a862-3537e5ed4a84",
   "metadata": {
    "tags": []
   },
   "outputs": [],
   "source": [
    "ovoce_df = DataFrame(ovoce_data)"
   ]
  },
  {
   "cell_type": "code",
   "execution_count": null,
   "id": "c79ece68-d7cd-4277-842f-881e20a41696",
   "metadata": {
    "tags": []
   },
   "outputs": [],
   "source": [
    "ovoce_df.head(6)"
   ]
  },
  {
   "cell_type": "code",
   "execution_count": null,
   "id": "0a3efeb5-29cd-4447-bb81-2493ba3285de",
   "metadata": {
    "tags": []
   },
   "outputs": [],
   "source": [
    "ovoce_df.groupby('pobocka').aggregate({'prodane_mnozstvi': [\"min\", numpy.median, max]})"
   ]
  },
  {
   "cell_type": "markdown",
   "id": "69046fb3-2ca0-4ebf-ab37-aa074b11ddf3",
   "metadata": {},
   "source": [
    "Pro jednodušší analýzu stačí vybrat sloupec:"
   ]
  },
  {
   "cell_type": "code",
   "execution_count": null,
   "id": "7f0659c9-d771-42f5-bd0c-7f4770ceb112",
   "metadata": {
    "tags": []
   },
   "outputs": [],
   "source": [
    "ovoce_df.groupby('pobocka')['prodane_mnozstvi'].sum()"
   ]
  },
  {
   "cell_type": "markdown",
   "id": "9f7ff660-d54a-47c8-8e99-6697285e0049",
   "metadata": {},
   "source": [
    "<br>\n",
    "\n",
    "Je nutné vždy ověřit výstup po agregaci, jestli jsem správně vybral metody:"
   ]
  },
  {
   "cell_type": "code",
   "execution_count": null,
   "id": "222dd8a4-55ef-49fa-8255-abeeb4dc6b61",
   "metadata": {
    "tags": []
   },
   "outputs": [],
   "source": [
    "ovoce_df.groupby('pobocka').sum()"
   ]
  },
  {
   "cell_type": "code",
   "execution_count": null,
   "id": "f03edfa6-402a-4a74-948b-7603e2fa2844",
   "metadata": {
    "tags": []
   },
   "outputs": [],
   "source": [
    "ovoce_df.groupby('pobocka').aggregate({'prodane_mnozstvi': sum, 'cena': 'mean'})"
   ]
  },
  {
   "cell_type": "markdown",
   "id": "690b293d-169d-4034-98fb-172d525658f3",
   "metadata": {},
   "source": [
    "1. Nejprve jsou hodnoty seskupení podle sloupce `pobocka`,\n",
    "2. poté specifikuješ pomocí `aggregate` funkce a sloupce,\n",
    "3. .. tedy sumarizovat hodnoty v `prodane_mnozstvi` a získat průměr `cena` pro každou pobočku."
   ]
  },
  {
   "cell_type": "markdown",
   "id": "8cb02ebc-5bea-48d7-a8c0-340527bf01df",
   "metadata": {},
   "source": [
    "### Metoda FILTER\n",
    "\n",
    "---"
   ]
  },
  {
   "cell_type": "markdown",
   "id": "fa2bea35-0adb-4bd4-b406-32809cb598f8",
   "metadata": {},
   "source": [
    "Filtrování ti umožní zahodit takové údaje, které nesplňují zadanou podmínku."
   ]
  },
  {
   "cell_type": "markdown",
   "id": "82671f5d-89c6-440a-a1d9-bae89021efd4",
   "metadata": {},
   "source": [
    "Metoda `filter` se používá k vybrání **seskupených dat** podle splnění **určité podmínky**.\n",
    "\n",
    "Představme si, že máme následující dataset s informacemi o prodeji ovoce v různých obchodech:"
   ]
  },
  {
   "cell_type": "markdown",
   "id": "3ce8cd0d-fa40-4ce0-a03e-70e8184f8712",
   "metadata": {},
   "source": [
    "```\n",
    "pobocka,ovoce,prodane_mnozstvi,cena\n",
    "A,apple,10,20\n",
    "A,banana,15,12\n",
    "B,apple,8,22\n",
    "B,banana,30,10\n",
    "C,apple,20,18\n",
    "C,banana,25,15\n",
    "```"
   ]
  },
  {
   "cell_type": "code",
   "execution_count": null,
   "id": "0adbf360-802b-4ceb-a093-601ccbe12fa6",
   "metadata": {
    "tags": []
   },
   "outputs": [],
   "source": [
    "ovoce_data = {\n",
    "    'pobocka': ['A', 'A', 'B', 'B', 'C', 'C'],\n",
    "    'ovoce': ['jablko', 'banan', 'jablko', 'banan', 'jablko', 'banan'],\n",
    "    'prodane_mnozstvi': [10, 15, 8, 30, 20, 25],\n",
    "    'cena': [20, 12, 22, 10, 18, 15]\n",
    "}"
   ]
  },
  {
   "cell_type": "code",
   "execution_count": null,
   "id": "aa60049f-396f-4eb8-bb9b-d792a13b3160",
   "metadata": {},
   "outputs": [],
   "source": [
    "ovoce_df = DataFrame(ovoce_data)"
   ]
  },
  {
   "cell_type": "code",
   "execution_count": null,
   "id": "995323de-5f18-497f-b4ad-db2386345c8a",
   "metadata": {
    "tags": []
   },
   "outputs": [],
   "source": [
    "ovoce_df"
   ]
  },
  {
   "cell_type": "code",
   "execution_count": null,
   "id": "a730c7b4-cbcf-4e08-b688-e4807ea5e94e",
   "metadata": {
    "tags": []
   },
   "outputs": [],
   "source": [
    "    def vyber_s_prodejem_nad_limit(data, limit=30):\n",
    "        return data['prodane_mnozstvi'].sum() > limit"
   ]
  },
  {
   "cell_type": "markdown",
   "id": "b938355f-107c-465a-95c3-79bd96c59a64",
   "metadata": {},
   "source": [
    "<br>\n",
    "\n",
    "Funkce `vyber_s_prodejem_nad_limit`, tedy **filtrovací funkce**, musí vracet **boolean** datový typ."
   ]
  },
  {
   "cell_type": "code",
   "execution_count": null,
   "id": "fee14d46-9932-4b03-b705-597707c5ecaa",
   "metadata": {
    "tags": []
   },
   "outputs": [],
   "source": [
    "vyfiltrovane_df = ovoce_df.groupby('pobocka').filter(vyber_s_prodejem_nad_limit)"
   ]
  },
  {
   "cell_type": "code",
   "execution_count": null,
   "id": "8052f97c-e572-4ab5-abe8-b495e849005d",
   "metadata": {},
   "outputs": [],
   "source": [
    "vyfiltrovane_df.groupby('pobocka')['prodane_mnozstvi'].sum()"
   ]
  },
  {
   "cell_type": "markdown",
   "id": "7208fc72-521f-4d8a-bd31-e8737f338f99",
   "metadata": {},
   "source": [
    "1. Nejprve seskupíš data podle sloupce `pobocka` pomocí `groupby`,\n",
    "2. dále použiješ metodu `filter`, která umožňuje použít uživatelem definovanou funkci (`vyber_pouze_pobocky_s_prodejem_nad_limit`),\n",
    "3. definuješ funkci, která vybere pouze pobočky s větším prodejem než je parametr `limit`,\n",
    "4. metoda `filter` pak vybere pouze ty řádky, které splňují tuto podmínku."
   ]
  },
  {
   "cell_type": "code",
   "execution_count": null,
   "id": "67a9e010-427b-4afa-b1db-835a15680199",
   "metadata": {},
   "outputs": [],
   "source": [
    "ovoce_df[ovoce_df['prodane_mnozstvi'] > 19]  # Boolean porovnávání"
   ]
  },
  {
   "cell_type": "markdown",
   "id": "6b9560ac-9716-4021-a453-3f81e3cd56e6",
   "metadata": {},
   "source": [
    "### Metoda TRANSFORM\n",
    "\n",
    "---"
   ]
  },
  {
   "cell_type": "markdown",
   "id": "0aba2a1c-4df0-4978-ae22-28d23e5144b3",
   "metadata": {
    "tags": []
   },
   "source": [
    "Zatímco předchozí výsledky *agregace* pomocí `groupby` vraceli redukované množství dat.\n",
    "\n",
    "Transformace obvykle vrací data o stejném rozsahu jako vstupní data. Jenom upravená."
   ]
  },
  {
   "cell_type": "markdown",
   "id": "256ac007-f62e-48d9-ac4c-1d3f51eaf030",
   "metadata": {},
   "source": [
    "Metoda `transform` se používá k aplikaci určité **transformační funkce** na každý prvek seskupených dat."
   ]
  },
  {
   "cell_type": "code",
   "execution_count": null,
   "id": "4ac57d55-58d1-4f5c-b77b-13b5b483348c",
   "metadata": {
    "tags": []
   },
   "outputs": [],
   "source": [
    "ovoce_df"
   ]
  },
  {
   "cell_type": "code",
   "execution_count": null,
   "id": "655afebf-3a7d-4f3c-baf2-af7cb330076f",
   "metadata": {
    "tags": []
   },
   "outputs": [],
   "source": [
    "def vrat_procenta_z_celkoveho_prodeje(udaj):\n",
    "    return round(udaj / udaj.sum() * 100, 1)"
   ]
  },
  {
   "cell_type": "markdown",
   "id": "9f363cbc-a93f-45db-8149-29460d68e8d5",
   "metadata": {},
   "source": [
    "<br>\n",
    "\n",
    "Vytvoření nového sloupečku `vrat_procenta_z_celkoveho_prodeje`:"
   ]
  },
  {
   "cell_type": "code",
   "execution_count": null,
   "id": "c23f2839-f2cd-422a-a5d3-e989940a6f58",
   "metadata": {
    "tags": []
   },
   "outputs": [],
   "source": [
    "ovoce_df['Procento z celkoveho prodeje'] = \\\n",
    "    ovoce_df.groupby('pobocka')['prodane_mnozstvi'].transform(\n",
    "        vrat_procenta_z_celkoveho_prodeje\n",
    "    )"
   ]
  },
  {
   "cell_type": "code",
   "execution_count": null,
   "id": "6d2a7983-b1fd-4bfc-b372-3b690dea6f49",
   "metadata": {
    "tags": []
   },
   "outputs": [],
   "source": [
    "# ovoce_df"
   ]
  },
  {
   "cell_type": "markdown",
   "id": "8aa78f27-8e22-40d1-8488-b7d2c0ecd2b4",
   "metadata": {},
   "source": [
    "1. Nejprve seskupíš data podle sloupce `pobocka` pomocí `groupby`,\n",
    "2. dále použiješ metodu `transform`, která umožňuje použít uživatelem definovanou funkci,\n",
    "3. definuješ funkci, která vybere vypočítá procentuální vyjádření prodaného zboží pro pobočku,\n",
    "4. přidáš nový sloupeček `'Procento z celkoveho prodeje'`."
   ]
  },
  {
   "cell_type": "markdown",
   "id": "68834a89-b2cf-43b9-a403-62d0874c063d",
   "metadata": {},
   "source": [
    "### Metoda `APPLY`\n",
    "\n",
    "---\n",
    "\n",
    "Metoda `apply` ti také dovolí, používat uživatelem definované funkce na seskupená data.\n",
    "\n",
    "Následně vrací objekt knihovny `pandas` (buď `DataFrame`, nebo `Series`, a nebo skalární hodnota)."
   ]
  },
  {
   "cell_type": "code",
   "execution_count": null,
   "id": "1b4dea9b-8409-4b6c-add7-7741d40fecb2",
   "metadata": {
    "tags": []
   },
   "outputs": [],
   "source": [
    "ovoce_df"
   ]
  },
  {
   "cell_type": "code",
   "execution_count": null,
   "id": "e55bfe4c-0cdf-4115-8d76-fec54962e84f",
   "metadata": {},
   "outputs": [],
   "source": [
    "def vypocitej_vydelek_za_artikl(seskupene):\n",
    "    seskupene['vydelek_za_artikl'] = seskupene['prodane_mnozstvi'] * seskupene['cena']\n",
    "    return seskupene"
   ]
  },
  {
   "cell_type": "markdown",
   "id": "38ed71df-b4d0-494d-9140-38b27cb60472",
   "metadata": {},
   "source": [
    "<br>\n",
    "\n",
    "Metoda `apply` je **obecnější a flexibilnější** než `transform`.\n",
    "\n",
    "`apply` umožňuje použít uživatelem definovanou funkci na každou skupinu po seskupení dat pomocí `groupby`.\n",
    "\n",
    "Výsledek metody `apply` může mít jiný tvar než původní data."
   ]
  },
  {
   "cell_type": "code",
   "execution_count": null,
   "id": "85efa3b5-ebed-4e0c-9791-dadf5c44f174",
   "metadata": {},
   "outputs": [],
   "source": [
    "ovoce_df.groupby('pobocka').apply(vypocitej_vydelek_za_artikl)"
   ]
  },
  {
   "cell_type": "code",
   "execution_count": null,
   "id": "3ba6f175-fa8d-4785-8341-ba4443cafb6e",
   "metadata": {},
   "outputs": [],
   "source": [
    "ovoce_df.groupby('pobocka', group_keys=False).apply(vypocitej_vydelek_za_artikl)"
   ]
  },
  {
   "cell_type": "code",
   "execution_count": null,
   "id": "c1909cd2-c68a-4765-8ee0-a1f4bdbd5610",
   "metadata": {},
   "outputs": [],
   "source": [
    "# ovoce_df.groupby?"
   ]
  },
  {
   "cell_type": "markdown",
   "id": "0e90bae1-e494-4265-b95c-a90294103638",
   "metadata": {},
   "source": [
    "Od posledních verzí frameworku (`1.5.0` a vyšší) platí, že pokud bude výsledkem `DataFrame` nebo `Series` musíš uvést argument pro `group_keys=True`).\n",
    "\n",
    "<br>"
   ]
  },
  {
   "cell_type": "code",
   "execution_count": null,
   "id": "81552747-c871-4f95-836d-ecbc76c64c1f",
   "metadata": {},
   "outputs": [],
   "source": [
    "vystup = ovoce_df.groupby('pobocka', group_keys=True).apply(vypocitej_vydelek_za_artikl)"
   ]
  },
  {
   "cell_type": "code",
   "execution_count": null,
   "id": "afe36611-5f51-4f89-8a6f-737b3e320118",
   "metadata": {},
   "outputs": [],
   "source": [
    "vystup"
   ]
  },
  {
   "cell_type": "code",
   "execution_count": null,
   "id": "48b28a96-b636-4d24-9826-0bdc7040f771",
   "metadata": {},
   "outputs": [],
   "source": [
    "ovoce_df"
   ]
  },
  {
   "cell_type": "markdown",
   "id": "7ad77043-fd47-45a2-b961-afe0c0c3316d",
   "metadata": {},
   "source": [
    "Na první pohled vypadají metody `apply` a `transform` docela podobně.\n",
    "\n",
    "Metoda `transform` je trochu omezenější než `apply`.\n",
    "\n",
    "Slouží k aplikaci uživatelem definované nebo vestavěné funkce **na každý prvek** skupiny po seskupení s `groupby`.\n",
    "\n",
    "`transform` musí vracet hodnotu stejného tvaru jako vstupní data."
   ]
  },
  {
   "cell_type": "markdown",
   "id": "3e40d366-8467-484d-8167-a84310cb1b49",
   "metadata": {},
   "source": [
    "### Souhrn k metodám APPLY a TRANSFORM\n",
    "\n",
    "---\n",
    "\n",
    "Výsledek metody `transform` **má stejný tvar jako původní data**.\n",
    "\n",
    "#### Apply\n",
    "* potřebuješ výsledek, který **má jiný tvar než původní data**,\n",
    "* umí zpracovat **více sloupečků současně**.\n",
    "\n",
    "#### Transform\n",
    "* potřebuješ výsledek, který **má stejný tvar jako původní data**,\n",
    "* umí zpracovat **pouze jeden sloupeček**."
   ]
  },
  {
   "cell_type": "code",
   "execution_count": null,
   "id": "c300c5f0-6144-4fa7-b26d-585021c5c4a3",
   "metadata": {
    "tags": []
   },
   "outputs": [],
   "source": [
    "df_rozdily = DataFrame({\n",
    "    'KLIC': ['A','B','C'] * 3,\n",
    "    'A': numpy.arange(9),\n",
    "    'B': [1,2,3] * 3,\n",
    "})"
   ]
  },
  {
   "cell_type": "code",
   "execution_count": null,
   "id": "55cb53af-75d4-4b89-b09e-0e38abae2b68",
   "metadata": {
    "tags": []
   },
   "outputs": [],
   "source": [
    "df_rozdily"
   ]
  },
  {
   "cell_type": "markdown",
   "id": "dbf33bcc-cef6-4055-9707-5c3eb66bf04d",
   "metadata": {},
   "source": [
    "#### `transform` vrací výsledky ve stejném tvaru\n",
    "\n",
    "---"
   ]
  },
  {
   "cell_type": "code",
   "execution_count": null,
   "id": "cea77fd6-f097-4f89-8f04-ca6fc192fcdb",
   "metadata": {
    "tags": []
   },
   "outputs": [],
   "source": [
    "def vypocitej_sumu(data):\n",
    "    return data.sum()"
   ]
  },
  {
   "cell_type": "code",
   "execution_count": null,
   "id": "624ec01b-6529-4966-8461-e14017b8feda",
   "metadata": {
    "tags": []
   },
   "outputs": [],
   "source": [
    "seskup_df_rozdily_apply = df_rozdily.groupby('KLIC')['A'].apply(vypocitej_sumu)"
   ]
  },
  {
   "cell_type": "code",
   "execution_count": null,
   "id": "280415b9-adaf-4e03-b1a5-903115d6b425",
   "metadata": {
    "tags": []
   },
   "outputs": [],
   "source": [
    "seskup_df_rozdily_apply"
   ]
  },
  {
   "cell_type": "code",
   "execution_count": null,
   "id": "194c0417-2b62-4cca-920e-b6004319feef",
   "metadata": {
    "tags": []
   },
   "outputs": [],
   "source": [
    "seskup_df_rozdily_trans = df_rozdily.groupby('KLIC')['A'].transform(vypocitej_sumu)"
   ]
  },
  {
   "cell_type": "code",
   "execution_count": null,
   "id": "ffe07d32-7af6-483f-bf7a-753444503f52",
   "metadata": {
    "tags": []
   },
   "outputs": [],
   "source": [
    "seskup_df_rozdily_trans"
   ]
  },
  {
   "cell_type": "markdown",
   "id": "5fbe2f1d-102e-491a-8748-99c8a6877e9b",
   "metadata": {},
   "source": [
    "#### `apply` umí pracovat s více sloupečky, `transform` jen s jedním\n",
    "\n",
    "---"
   ]
  },
  {
   "cell_type": "code",
   "execution_count": null,
   "id": "34c0a859-a5ec-4194-acae-1d4d62def998",
   "metadata": {
    "tags": []
   },
   "outputs": [],
   "source": [
    "df_rozdily"
   ]
  },
  {
   "cell_type": "code",
   "execution_count": null,
   "id": "79dfb39b-a39b-4311-b6a4-790c536478ca",
   "metadata": {
    "tags": []
   },
   "outputs": [],
   "source": [
    "def vypocitej_rozdil(data):\n",
    "    return data['B'] - data['A']"
   ]
  },
  {
   "cell_type": "code",
   "execution_count": null,
   "id": "d282c7f1-e633-41c0-ae70-b2d011a3c4d2",
   "metadata": {
    "tags": []
   },
   "outputs": [],
   "source": [
    "df_rozdily.groupby('KLIC').apply(vypocitej_rozdil)"
   ]
  },
  {
   "cell_type": "code",
   "execution_count": null,
   "id": "3fc45149-c3be-4732-83b7-39d9565206b5",
   "metadata": {
    "tags": []
   },
   "outputs": [],
   "source": [
    "# df_rozdily.groupby('KLIC').transform(vypocitej_rozdil)"
   ]
  },
  {
   "cell_type": "markdown",
   "id": "1528201f-7270-4012-8241-c2302c263085",
   "metadata": {},
   "source": [
    "---"
   ]
  },
  {
   "cell_type": "markdown",
   "id": "0b66c926-3fc8-4c05-8a9d-b819ed4a3e33",
   "metadata": {},
   "source": [
    "<br>\n",
    "\n",
    "**🧠 CVIČENÍ 🧠, procvič si funkcí GroupBy a agregační funkce**"
   ]
  },
  {
   "cell_type": "markdown",
   "id": "ba630f44-7723-4595-943b-36ac5a5b11bc",
   "metadata": {},
   "source": [
    "Máš zadaný takový datový set."
   ]
  },
  {
   "cell_type": "markdown",
   "id": "04318023-ecce-4589-9ea7-98b13f911127",
   "metadata": {},
   "source": [
    "Následně:\n",
    "1. Pomocí metody `filter` vyber prodejny, které prodaly **alespoň 30 produktů**,\n",
    "2. na filtrovaném datasetu použijte metodu `apply` pro výpočet **celkového příjmu z prodeje pro každý obchod**."
   ]
  },
  {
   "cell_type": "code",
   "execution_count": null,
   "id": "57e811d9-66fd-48ec-aa66-bd74c789c8ea",
   "metadata": {
    "tags": []
   },
   "outputs": [],
   "source": [
    "from pandas import DataFrame"
   ]
  },
  {
   "cell_type": "code",
   "execution_count": null,
   "id": "aceddfe0-8b8b-48d3-901a-18108ac34b59",
   "metadata": {
    "tags": []
   },
   "outputs": [],
   "source": [
    "df_prodej_hardware = DataFrame({\n",
    "    'prodejna_id': (5, 4, 1, 5, 5, 1, 4, 2, 5, 1, 3, 1, 3, 4, 2, 1, 5, 4, 1, 5),\n",
    "    'transakce_id': (1278, 1216, 1866, 1872, 1797, 1272, 1880, 1061, 1595, 1879, 1728,\n",
    "       1341, 1396, 1698, 1018, 1176, 1611, 1395, 1444, 1232),\n",
    "    'predmet_prodeje': ('grafická_karta', 'SSD', 'RAM', 'procesor', 'grafická_karta',\n",
    "       'základní_deska', 'SSD', 'SSD', 'grafická_karta', 'RAM',\n",
    "       'grafická_karta', 'procesor', 'grafická_karta', 'SSD',\n",
    "       'grafická_karta', 'RAM', 'základní_deska', 'HDD', 'grafická_karta',\n",
    "       'RAM'),\n",
    "    'pocet_prodanych_ks': (1,  5,  6,  6,  3,  7,  9, 10,  8,  6,  8,  5,  8, 10,  4, 10,  8,\n",
    "       10,  2,  5),\n",
    "    'cena_predmetu': (19500.69874949, 19731.10951735, 14114.15342339, 10953.87914371,\n",
    "        6535.78851758, 16369.00288429, 13852.2578648 ,  3671.03031723,\n",
    "       18263.08009763, 16539.476237  , 19021.09830919, 14651.53041357,\n",
    "       12461.59632075,  8655.73920767, 18688.2054254 , 17388.24584526,\n",
    "        1381.76406707,  1014.1560027 ,  7841.03565412, 16305.78995025)\n",
    "})"
   ]
  },
  {
   "cell_type": "code",
   "execution_count": null,
   "id": "0aae8234-aee0-4d23-a777-77caf77a4329",
   "metadata": {},
   "outputs": [],
   "source": [
    "df_prodej_hardware.head(7)"
   ]
  },
  {
   "cell_type": "code",
   "execution_count": null,
   "id": "369547bb-1ef3-4e7e-8cdf-7fc1d0a4bb8a",
   "metadata": {},
   "outputs": [],
   "source": []
  },
  {
   "cell_type": "code",
   "execution_count": null,
   "id": "655d3111-dcaf-442f-9549-eabbcb75fecc",
   "metadata": {},
   "outputs": [],
   "source": [
    "df_prodej_hardware.groupby('prodejna_id')['pocet_prodanych_ks'].sum()"
   ]
  },
  {
   "cell_type": "code",
   "execution_count": null,
   "id": "10993938-81eb-489f-af36-3de80e816cc2",
   "metadata": {},
   "outputs": [],
   "source": [
    "# S filtrem:\n",
    "def vyber_prodejny_s_prodejem_pres_tricet_ks(data_prodej,\n",
    "                                             jmeno_sl='pocet_prodanych_ks',\n",
    "                                             limit=30):\n",
    "    if jmeno_sl not in data_prodej.columns:\n",
    "        return None\n",
    "    else:\n",
    "        return data_prodej[jmeno_sl].sum() > limit"
   ]
  },
  {
   "cell_type": "code",
   "execution_count": null,
   "id": "d72af3bf-0045-4d2d-a4b1-1af38689bdf3",
   "metadata": {},
   "outputs": [],
   "source": []
  },
  {
   "cell_type": "code",
   "execution_count": null,
   "id": "57e036cb-d8ff-4a4e-b24e-da5d36304eb1",
   "metadata": {},
   "outputs": [],
   "source": [
    "vyfiltr_df = df_prodej_hardware.groupby('prodejna_id').filter(vyber_prodejny_s_prodejem_pres_tricet_ks)"
   ]
  },
  {
   "cell_type": "code",
   "execution_count": null,
   "id": "3b2f3229-2be2-495c-9c67-13f13e7b881c",
   "metadata": {},
   "outputs": [],
   "source": [
    "vyfiltr_df.head()"
   ]
  },
  {
   "cell_type": "code",
   "execution_count": null,
   "id": "877b3023-15b7-4a44-8ccb-cd84e62d6456",
   "metadata": {},
   "outputs": [],
   "source": [
    "vyfiltr_df['predmet_prodeje'].unique()"
   ]
  },
  {
   "cell_type": "code",
   "execution_count": null,
   "id": "f4e4e458-a524-423f-9eb7-88e44fc00ce6",
   "metadata": {},
   "outputs": [],
   "source": []
  },
  {
   "cell_type": "code",
   "execution_count": null,
   "id": "8c2cfa86-7ccd-482e-adbf-c94cfc475ae7",
   "metadata": {},
   "outputs": [],
   "source": [
    "vyfiltr_df.groupby('prodejna_id')"
   ]
  },
  {
   "cell_type": "code",
   "execution_count": null,
   "id": "bf2da3fd-38a2-4ec8-941b-92d59275b9e0",
   "metadata": {},
   "outputs": [],
   "source": [
    "df_prodej_hardware.head(2)"
   ]
  },
  {
   "cell_type": "code",
   "execution_count": null,
   "id": "0a562137-6f25-47e8-9279-0edde34fea4a",
   "metadata": {},
   "outputs": [],
   "source": [
    "# Bez filtru:"
   ]
  },
  {
   "cell_type": "code",
   "execution_count": null,
   "id": "6d86fd15-1be2-421f-af16-b50c48c65768",
   "metadata": {},
   "outputs": [],
   "source": [
    "seskupene_prodeje = df_prodej_hardware.groupby('prodejna_id')['pocet_prodanych_ks'].sum()"
   ]
  },
  {
   "cell_type": "code",
   "execution_count": null,
   "id": "8b5b6e5a-485f-4f47-91fd-ce0f647cf15f",
   "metadata": {},
   "outputs": [],
   "source": [
    "type(seskupene_prodeje)"
   ]
  },
  {
   "cell_type": "code",
   "execution_count": null,
   "id": "28decdc1-9739-4651-9705-f4250078571c",
   "metadata": {},
   "outputs": [],
   "source": [
    "seskupene_prodeje[seskupene_prodeje > 30]"
   ]
  },
  {
   "cell_type": "code",
   "execution_count": null,
   "id": "02326cb6-b0fa-458b-bea4-56999026f660",
   "metadata": {},
   "outputs": [],
   "source": [
    "def vypocti_celkovy_prijem_obchodu(df_prodej_hardware):\n",
    "    return round(df_prodej_hardware['pocet_prodanych_ks']\n",
    "                 * df_prodej_hardware['cena_predmetu'], 2)"
   ]
  },
  {
   "cell_type": "code",
   "execution_count": null,
   "id": "d9aa47b0-a7b8-4a31-ac63-b5797fd9d2d7",
   "metadata": {},
   "outputs": [],
   "source": [
    "vyfiltr_df['Celkové prodeje'] = \\\n",
    "    vyfiltr_df.groupby('prodejna_id', group_keys=False).apply(vypocti_celkovy_prijem_obchodu)"
   ]
  },
  {
   "cell_type": "code",
   "execution_count": null,
   "id": "83746c79-f776-4873-b8b2-1c82861015ce",
   "metadata": {},
   "outputs": [],
   "source": [
    "type(vyfiltr_df.groupby('prodejna_id')['Celkové prodeje'].sum())"
   ]
  },
  {
   "cell_type": "markdown",
   "id": "e31fae15-798a-4565-8a54-a670ddaf2861",
   "metadata": {},
   "source": [
    "<br>\n",
    "\n",
    "Pokud bude potřebné, seřadit sestupně podle celkového výdělku prodejny:"
   ]
  },
  {
   "cell_type": "code",
   "execution_count": null,
   "id": "609ad503-c0e3-429b-8b1d-ad34800c9445",
   "metadata": {},
   "outputs": [],
   "source": [
    "vyfiltr_df \\\n",
    "    .groupby('prodejna_id')['Celkové prodeje'] \\\n",
    "    .sum() \\\n",
    "    .sort_values(ascending=False)"
   ]
  },
  {
   "cell_type": "markdown",
   "id": "11369181-2067-43cc-a7a0-34b4807aeb80",
   "metadata": {},
   "source": [
    "<details>\n",
    "    <summary>▶️ Řešení</summary>\n",
    "    \n",
    "```python\n",
    "def vyber_prodejny_s_vice_nez_triceti_produkty(\n",
    "    data: DataFrame, limit: int = 30\n",
    "):\n",
    "    return data['pocet_prodanych_ks'].sum() >= limit\n",
    "\n",
    "hledane_prodejny = df_prodej_hardware.groupby('prodejna_id').filter(\n",
    "    vyber_prodejny_s_vice_nez_triceti_produkty\n",
    ")\n",
    "\n",
    "agregovano = df_prodej_hardware.groupby('prodejna_id')['pocet_prodanych_ks'].sum()\n",
    "odfiltrovano = agregovano[agregovano > 30]\n",
    "\n",
    "print(odfiltrovano)\n",
    "```\n",
    "</details>"
   ]
  },
  {
   "cell_type": "markdown",
   "id": "abfb49c1-d87d-4cca-b00c-ad1957a705f7",
   "metadata": {},
   "source": [
    "---"
   ]
  },
  {
   "cell_type": "markdown",
   "id": "2a323efc-2d97-4536-b018-356b008668d9",
   "metadata": {},
   "source": [
    "\n",
    "<img src=\"https://external-content.duckduckgo.com/iu/?u=https%3A%2F%2Ftse2.mm.bing.net%2Fth%3Fid%3DOIP.P16hnt14CM-mJ5eAKykxLAHaHa%26pid%3DApi&f=1&ipt=27e3f5b23fe44567ad0730192d5dcb13c7c23aa6e87579d16df05e27461dc12c&ipo=images\" width=\"160\" style=\"margin-left:auto; margin-right:auto\"/>"
   ]
  },
  {
   "cell_type": "markdown",
   "id": "506de3fa-595a-400a-ad1f-f049749c9172",
   "metadata": {},
   "source": [
    "## Pivot tabulky\n",
    "\n",
    "---\n"
   ]
  },
  {
   "cell_type": "markdown",
   "id": "e805bca1-9dfa-4475-8894-86c08c7a61bf",
   "metadata": {},
   "source": [
    "*Pivot tabulky* (*kontingenční tabulky*) jsou užitečné pro přehledné zobrazení a analýzu dat z tabulkových zdrojů.\n",
    "\n",
    "Pomocí pivot tabulek můžeš **seskupit data podle určitých kategorií** a provést agregaci hodnot.\n",
    "\n",
    "Nejprve si představ situaci bez pivot tabulek, pomocí ukázky níže:"
   ]
  },
  {
   "cell_type": "code",
   "execution_count": null,
   "id": "7afb01d6-a59a-4c12-b87d-4968890e617d",
   "metadata": {},
   "outputs": [],
   "source": [
    "# !pip install seaborn"
   ]
  },
  {
   "cell_type": "code",
   "execution_count": null,
   "id": "a435c26c-be00-4bcf-95cf-bac2cb5ac7ba",
   "metadata": {
    "tags": []
   },
   "outputs": [],
   "source": [
    "import seaborn"
   ]
  },
  {
   "cell_type": "markdown",
   "id": "007cc729-e1cc-44b4-9a6b-1a4b19fd97b9",
   "metadata": {},
   "source": [
    "<br>\n",
    "\n",
    "V této ukazce použiješ vzorová data týkající se [nehody lodi Titanic](https://en.wikipedia.org/wiki/Sinking_of_the_Titanic):"
   ]
  },
  {
   "cell_type": "code",
   "execution_count": null,
   "id": "0b5dfb50-9724-47c0-8a54-9c128fb53523",
   "metadata": {
    "tags": []
   },
   "outputs": [],
   "source": [
    "df_titanic = seaborn.load_dataset('titanic')"
   ]
  },
  {
   "cell_type": "code",
   "execution_count": null,
   "id": "b1132c66-cbcc-419a-a221-54bcbc55322f",
   "metadata": {
    "tags": []
   },
   "outputs": [],
   "source": [
    "df_titanic.info()"
   ]
  },
  {
   "cell_type": "markdown",
   "id": "3efa04a2-3cbd-4135-a740-04e7a7ecef49",
   "metadata": {},
   "source": [
    "<br>\n",
    "\n",
    "Pro jakoukoliv pokročilou analýzu dat, potřebuješ údaj seskupit.\n",
    "\n",
    "Tak jak jsi do prováděl doposud, pomocí `groupby`:"
   ]
  },
  {
   "cell_type": "code",
   "execution_count": null,
   "id": "98fc2e02-f29a-48cc-8cbc-3f9ea0284510",
   "metadata": {},
   "outputs": [],
   "source": [
    "df_titanic.head()"
   ]
  },
  {
   "cell_type": "markdown",
   "id": "faaed25c-a24d-4ca6-a020-bb5c73c665c5",
   "metadata": {},
   "source": [
    "<br>\n",
    "\n",
    "Pokud potřebuješ identifikovat všechny unikátní hodnoty ve sloupci, vyber sloupec a použij metodu `unique()`:"
   ]
  },
  {
   "cell_type": "code",
   "execution_count": null,
   "id": "0ee25309-7798-4845-88d2-4b926c4353df",
   "metadata": {
    "tags": []
   },
   "outputs": [],
   "source": [
    "df_titanic[\"sex\"].unique()"
   ]
  },
  {
   "cell_type": "markdown",
   "id": "c524a9cc-f09d-4fe4-816d-0955541bcb45",
   "metadata": {},
   "source": [
    "<br>\n",
    "\n",
    "Pro následující rozbor seskupím data podle pohlaví:"
   ]
  },
  {
   "cell_type": "code",
   "execution_count": null,
   "id": "87318f1b-c2ed-4b0f-82f1-629affec5dc0",
   "metadata": {
    "tags": []
   },
   "outputs": [],
   "source": [
    "df_titanic.groupby('sex')"
   ]
  },
  {
   "cell_type": "markdown",
   "id": "d174c648-91a3-48e2-a1de-f058927da773",
   "metadata": {},
   "source": [
    "<br>\n",
    "\n",
    "Potřebuješ průměrnou hodnotu, ať je na sloupečku `survived` vidět poměr přeživších:"
   ]
  },
  {
   "cell_type": "code",
   "execution_count": null,
   "id": "47d5b48d-59a7-4f38-9c38-776431a0dc57",
   "metadata": {},
   "outputs": [],
   "source": [
    "df_titanic.head(3)"
   ]
  },
  {
   "cell_type": "code",
   "execution_count": null,
   "id": "b32bffd2-14ee-4226-ad74-0bfbd7d4e292",
   "metadata": {
    "tags": []
   },
   "outputs": [],
   "source": [
    "df_titanic.groupby('sex')['survived'].mean()"
   ]
  },
  {
   "cell_type": "markdown",
   "id": "5b56e3a8-6097-4340-a8ae-b51be7f3fad8",
   "metadata": {},
   "source": [
    "<br>\n",
    "\n",
    "Pro lepší čitelnost **zaokrouhlím výsledek na dvě desetinné čísla**:"
   ]
  },
  {
   "cell_type": "code",
   "execution_count": null,
   "id": "9e9421e9-45bb-453f-92f9-2e6e176730c1",
   "metadata": {},
   "outputs": [],
   "source": [
    "# round(df_titanic.)"
   ]
  },
  {
   "cell_type": "code",
   "execution_count": null,
   "id": "db37b13d-fda2-4f58-9914-cb1e1649dc0f",
   "metadata": {
    "tags": []
   },
   "outputs": [],
   "source": [
    "df_titanic.groupby('sex')['survived'].mean().round(2)"
   ]
  },
  {
   "cell_type": "markdown",
   "id": "e245d78d-fe62-413d-99c6-002ebacba20c",
   "metadata": {},
   "source": [
    "Zaokrouhlit je možné nejenom pomocí Pythonu a funkce `round()` ale také metoda `round()`."
   ]
  },
  {
   "cell_type": "markdown",
   "id": "6a5ba075-6d11-4168-96b5-28bbeb539e96",
   "metadata": {},
   "source": [
    "Takový průzkum z této studie ti dá jasný pohled na věc:\n",
    "* 3 ze 4 žen přežily,\n",
    "* 1 z 5 mužů přežil."
   ]
  },
  {
   "cell_type": "markdown",
   "id": "4d447022-800d-4fee-bd7a-ceb75b906770",
   "metadata": {},
   "source": [
    "<br>\n",
    "\n",
    "Pokud budeš potřebovat detailnější analýzy, budeš potřebovat více dat.\n",
    "\n",
    "Třeba situaci, kde kromě pohlaví, bereš v potaz **třídu cestujících** `class`:"
   ]
  },
  {
   "cell_type": "code",
   "execution_count": null,
   "id": "8439f640-475d-4ae5-89c2-da3965348f1d",
   "metadata": {},
   "outputs": [],
   "source": [
    "df_titanic.head(2)"
   ]
  },
  {
   "cell_type": "code",
   "execution_count": null,
   "id": "99e7b4a7-98c4-4e3e-b1c0-c563ff8c2ab2",
   "metadata": {
    "tags": []
   },
   "outputs": [],
   "source": [
    "df_titanic[\"class\"].unique()"
   ]
  },
  {
   "cell_type": "code",
   "execution_count": null,
   "id": "560a6a4a-2b97-4690-975d-062bd9086c2b",
   "metadata": {
    "tags": []
   },
   "outputs": [],
   "source": [
    "type(df_titanic.groupby(['sex', 'class'])['survived'].mean())"
   ]
  },
  {
   "cell_type": "code",
   "execution_count": null,
   "id": "b49ce38b-b1ee-4b95-8d51-6ebcd008092d",
   "metadata": {
    "tags": []
   },
   "outputs": [],
   "source": [
    "type(df_titanic.groupby(['sex', 'class'])[['survived']].mean())"
   ]
  },
  {
   "cell_type": "code",
   "execution_count": null,
   "id": "bb15c5db-a0b0-41aa-8c6f-d0e6464ab464",
   "metadata": {
    "tags": []
   },
   "outputs": [],
   "source": [
    "df_titanic.groupby(['sex', 'class'])[['survived']].mean()"
   ]
  },
  {
   "cell_type": "code",
   "execution_count": null,
   "id": "449e3793-8252-45b3-a5ec-1d5e553e1560",
   "metadata": {
    "tags": []
   },
   "outputs": [],
   "source": [
    "df_titanic.groupby(['sex', 'class'])[['survived']].mean().round(2)"
   ]
  },
  {
   "cell_type": "markdown",
   "id": "88e8ec7e-9560-4444-960b-756204dd92ff",
   "metadata": {},
   "source": [
    "<br>\n",
    "\n",
    "Metodou `unstack` si můžeš vytvořit nové sloupečky, které jsou postavené na novém Indexu, nebo Indexech (*Multiindex*):"
   ]
  },
  {
   "cell_type": "code",
   "execution_count": null,
   "id": "a9d4de85-9b18-432c-b451-567d5b1ff387",
   "metadata": {
    "tags": []
   },
   "outputs": [],
   "source": [
    "df_titanic.groupby(['sex', 'class'])['survived'].mean().round(2).unstack()"
   ]
  },
  {
   "cell_type": "markdown",
   "id": "3c8a422b-1b73-4d75-8eab-6fbe60bb8ee1",
   "metadata": {},
   "source": [
    "Takový průzkum ti dá skutečně lepší pohled na věc.\n",
    "\n",
    "Současně ale roste **náročnost ohlášení**.\n",
    "\n",
    "Zápis \"bobtná\" a **stává se náročnějším na přečtení a pochopení**."
   ]
  },
  {
   "cell_type": "markdown",
   "id": "7d94deec-3f50-45a6-a56c-7f7bae7da146",
   "metadata": {},
   "source": [
    "<br>\n",
    "\n",
    "### Pivot tabulka\n",
    "\n",
    "---"
   ]
  },
  {
   "cell_type": "markdown",
   "id": "221f3a97-0d40-4b9a-8c68-bbcb7defbf5c",
   "metadata": {
    "tags": []
   },
   "source": [
    "Podobné řešení ti nabízí funkce `pivot_table`:"
   ]
  },
  {
   "cell_type": "code",
   "execution_count": null,
   "id": "4307d456-e1ae-4549-ab22-bb79e2ae1a76",
   "metadata": {
    "tags": []
   },
   "outputs": [],
   "source": [
    "df_titanic.groupby(['sex', 'class'])['survived'].mean().round(2).unstack()"
   ]
  },
  {
   "cell_type": "code",
   "execution_count": null,
   "id": "ee25008d-769e-41e4-a680-38c431c02448",
   "metadata": {
    "tags": []
   },
   "outputs": [],
   "source": [
    "df_titanic.pivot_table('survived', index='sex', columns='class').round(2)"
   ]
  },
  {
   "cell_type": "code",
   "execution_count": null,
   "id": "43c1615b-4679-409b-8db8-52ff70171018",
   "metadata": {
    "tags": []
   },
   "outputs": [],
   "source": [
    "pivot_df = df_titanic.pivot_table('survived', index='sex', columns='class').round(2)"
   ]
  },
  {
   "cell_type": "code",
   "execution_count": null,
   "id": "8274d118-40d0-4805-97ab-b2f8015084d0",
   "metadata": {},
   "outputs": [],
   "source": [
    "df_titanic.index"
   ]
  },
  {
   "cell_type": "code",
   "execution_count": null,
   "id": "147389cb-973d-4e94-a6c2-03c9492783ef",
   "metadata": {},
   "outputs": [],
   "source": [
    "pivot_df.index"
   ]
  },
  {
   "cell_type": "markdown",
   "id": "da7afb63-26d5-4f3c-9f29-412d590bcd44",
   "metadata": {},
   "source": [
    "Zásádním rozdílem je ovšem **čitelnost**, kterou máš pro tuto variantu zápisu.\n",
    "\n",
    "```\n",
    "Clarity beats purity\n",
    "```\n",
    "\n",
    "Pomocí vhodných argumentů, můžeš doplnit vysvětlivky tam, kde funkce `groupby` nemohla."
   ]
  },
  {
   "cell_type": "markdown",
   "id": "9e515886-bf01-4274-b516-a9e2b171ec82",
   "metadata": {},
   "source": [
    "Stejně platí, že pokud budeš potřebovat **další Index**, můžeš si pomoci funkcí `cut`:"
   ]
  },
  {
   "cell_type": "code",
   "execution_count": null,
   "id": "c0554649-0a3f-4b03-83a1-996950d27d4f",
   "metadata": {
    "tags": []
   },
   "outputs": [],
   "source": [
    "df_titanic.head(2)"
   ]
  },
  {
   "cell_type": "code",
   "execution_count": null,
   "id": "cf765746-9644-4952-a4e0-58318ad379e1",
   "metadata": {
    "tags": []
   },
   "outputs": [],
   "source": [
    "df_titanic['age'].describe()"
   ]
  },
  {
   "cell_type": "code",
   "execution_count": null,
   "id": "cd6e4a4b-2aff-4b7e-b80f-1360b435ad48",
   "metadata": {
    "tags": []
   },
   "outputs": [],
   "source": [
    "from pandas import cut"
   ]
  },
  {
   "cell_type": "code",
   "execution_count": null,
   "id": "a81d9a4e-5a19-4be4-abe8-c204b34ea460",
   "metadata": {
    "tags": []
   },
   "outputs": [],
   "source": [
    "age = cut(df_titanic['age'], [0, 40, 60, 70])"
   ]
  },
  {
   "cell_type": "code",
   "execution_count": null,
   "id": "8c37b0c8-be7c-4c54-a4fb-16e31029f631",
   "metadata": {
    "tags": []
   },
   "outputs": [],
   "source": [
    "age  # < xxx , xxx )"
   ]
  },
  {
   "cell_type": "code",
   "execution_count": null,
   "id": "213fcb92-7fdc-44a1-bf21-1a192f4fa74b",
   "metadata": {
    "tags": []
   },
   "outputs": [],
   "source": [
    "vystup_vek_df = df_titanic.pivot_table('survived',\n",
    "                                       index=['sex', age],\n",
    "                                       columns='class').round(2)"
   ]
  },
  {
   "cell_type": "code",
   "execution_count": null,
   "id": "110fb3c3-2770-4fbe-8ef7-ecf5405d0042",
   "metadata": {},
   "outputs": [],
   "source": [
    "vystup_vek_df"
   ]
  },
  {
   "cell_type": "code",
   "execution_count": null,
   "id": "bc2ddd9b-3c17-4eb0-8414-55386fbb7175",
   "metadata": {},
   "outputs": [],
   "source": [
    "vystup_vek_df.index"
   ]
  },
  {
   "cell_type": "markdown",
   "id": "29cf877a-6b43-4b56-be23-36c2a19951a2",
   "metadata": {},
   "source": [
    "Pomocí funkce `cut` doplníš tabulku na **MultiIndex**.\n",
    "\n",
    "Ten nyní vytvoří i rozsah pro věkovou kategorii."
   ]
  },
  {
   "cell_type": "markdown",
   "id": "79497b0f-793b-4670-9553-86aa28c29755",
   "metadata": {},
   "source": [
    "<br>\n",
    "\n",
    "#### 🧠 CVIČENÍ 🧠, procvič si pivot tabulky\n",
    "\n",
    "---"
   ]
  },
  {
   "cell_type": "markdown",
   "id": "0fd414f1-ceca-4d55-8178-a9cc0be1bda6",
   "metadata": {},
   "source": [
    "Ze zadaného datasetu vytvoř **pivot tabulku**, která zobrazí **počet prodaných kusů ovoce** pro **každý obchod** a **druh ovoce**."
   ]
  },
  {
   "cell_type": "code",
   "execution_count": null,
   "id": "7639a957-654d-4b8e-88bc-3eb7ff88f3bb",
   "metadata": {
    "tags": []
   },
   "outputs": [],
   "source": [
    "ovoce_data = {\n",
    "    'pobocka': ['A', 'A', 'B', 'B', 'C', 'C'],\n",
    "    'ovoce': ['jablko', 'banan', 'jablko', 'banan', 'jablko', 'banan'],\n",
    "    'prodane_mnozstvi': [10, 15, 8, 30, 20, 25],\n",
    "    'cena': [20, 12, 22, 10, 18, 15]\n",
    "}"
   ]
  },
  {
   "cell_type": "code",
   "execution_count": null,
   "id": "e25455d2-dcaa-478e-93bb-c78b6104b8dd",
   "metadata": {},
   "outputs": [],
   "source": [
    "# pivot_table()\n",
    "#              prodane_mnozstvi      jablko banan\n",
    "# Pobocka\n",
    "#    A \n",
    "#    B\n",
    "#    C "
   ]
  },
  {
   "cell_type": "code",
   "execution_count": null,
   "id": "e6b05639-4c48-4418-bf01-bf347d31f5dd",
   "metadata": {},
   "outputs": [],
   "source": [
    "ovoce_data_df = DataFrame(ovoce_data)"
   ]
  },
  {
   "cell_type": "code",
   "execution_count": null,
   "id": "d3f0a944-081b-4950-a227-4e162ac96269",
   "metadata": {},
   "outputs": [],
   "source": [
    "ovoce_data_df['ovoce'].unique()"
   ]
  },
  {
   "cell_type": "code",
   "execution_count": null,
   "id": "1bdf535c-346c-4e1e-89e3-1cc0474c4efd",
   "metadata": {},
   "outputs": [],
   "source": [
    "ovoce_data_df.head()"
   ]
  },
  {
   "cell_type": "code",
   "execution_count": null,
   "id": "ac4a7d6c-a3c6-4290-b3a9-851b16016cd6",
   "metadata": {},
   "outputs": [],
   "source": [
    "ovoce_data_df.pivot_table('prodane_mnozstvi', index='pobocka', columns='ovoce')"
   ]
  },
  {
   "cell_type": "code",
   "execution_count": null,
   "id": "1f6e4977-3dc2-435a-890f-41d7051d34f0",
   "metadata": {},
   "outputs": [],
   "source": [
    "ovoce_data_df['cena'].min()"
   ]
  },
  {
   "cell_type": "code",
   "execution_count": null,
   "id": "ed9d3e23-5b9b-43b3-a0eb-ca8b439ef9be",
   "metadata": {},
   "outputs": [],
   "source": [
    "cenovy_intervaly = cut(ovoce_data_df['cena'],\n",
    "                       [ovoce_data_df['cena'].min(),\n",
    "                        15, ovoce_data_df['cena'].max()], include_lowest=True)"
   ]
  },
  {
   "cell_type": "code",
   "execution_count": null,
   "id": "5ac7f69c-7234-4059-b367-a25f01f3c67e",
   "metadata": {},
   "outputs": [],
   "source": [
    "cenovy_intervaly"
   ]
  },
  {
   "cell_type": "code",
   "execution_count": null,
   "id": "d45ca7e3-a07e-43c2-b160-d666960276ac",
   "metadata": {},
   "outputs": [],
   "source": [
    "ovoce_data_df.pivot_table('prodane_mnozstvi',\n",
    "                          index=['pobocka', cenovy_intervaly], columns='ovoce')"
   ]
  },
  {
   "cell_type": "code",
   "execution_count": null,
   "id": "f4553663-02ef-45e6-a3e6-c685045cddb0",
   "metadata": {},
   "outputs": [],
   "source": [
    "ovoce_data_df"
   ]
  },
  {
   "cell_type": "markdown",
   "id": "91e44b31-5110-46e0-af91-dcaee98ff6d8",
   "metadata": {},
   "source": [
    "<details>\n",
    "    <summary>▶️ Řešení</summary>\n",
    "    \n",
    "```python\n",
    "pivot_tabulka = df_ovoce.pivot_table(values=\"prodane_mnozstvi\", index=\"pobocka\", columns=\"ovoce\")\n",
    "```\n",
    "</details>"
   ]
  },
  {
   "cell_type": "code",
   "execution_count": null,
   "id": "093ba558-4c94-44be-97f4-86a6a0e8e5d4",
   "metadata": {},
   "outputs": [],
   "source": [
    "# !pip install openpyxl"
   ]
  },
  {
   "cell_type": "code",
   "execution_count": null,
   "id": "e5e9753c-fecf-416a-8f40-8a7155c05c07",
   "metadata": {},
   "outputs": [],
   "source": [
    "from pandas import read_excel"
   ]
  },
  {
   "cell_type": "code",
   "execution_count": null,
   "id": "4fb965c3-fe5d-4907-8343-99f220563f16",
   "metadata": {},
   "outputs": [],
   "source": [
    "data_df = read_excel('../onsite/RESULT_LIST_ANONYM_CAPACITY_MARKET_FCR_2025-05-20_2025-05-20.xlsx')"
   ]
  },
  {
   "cell_type": "code",
   "execution_count": null,
   "id": "c01cd1c1-4d21-4c4e-8a9e-27f218431173",
   "metadata": {},
   "outputs": [],
   "source": [
    "data_df.info()"
   ]
  },
  {
   "cell_type": "code",
   "execution_count": null,
   "id": "4c158b65-16aa-4a95-855e-52836dad84e1",
   "metadata": {},
   "outputs": [],
   "source": [
    "data_df.head(3)"
   ]
  },
  {
   "cell_type": "markdown",
   "id": "7fdac67d-c7ec-40a8-a066-ce70f97c6379",
   "metadata": {},
   "source": [
    "#### 1. Převedeme data ve sloupcích\n",
    "\n",
    "---"
   ]
  },
  {
   "cell_type": "code",
   "execution_count": null,
   "id": "fda58e31-64b8-430b-89b4-fbcfedb7ffcc",
   "metadata": {},
   "outputs": [],
   "source": [
    "data_df.columns"
   ]
  },
  {
   "cell_type": "code",
   "execution_count": null,
   "id": "b378a399-00ed-418e-8f2c-2781a530f238",
   "metadata": {},
   "outputs": [],
   "source": [
    "soucasne_poradi_sloupcu = tuple(data_df.columns)"
   ]
  },
  {
   "cell_type": "code",
   "execution_count": null,
   "id": "2d62a781-4d43-4954-b938-d09992f838ff",
   "metadata": {},
   "outputs": [],
   "source": [
    "soucasne_poradi_sloupcu"
   ]
  },
  {
   "cell_type": "code",
   "execution_count": null,
   "id": "261c5f13-ba0a-4666-a519-3a6707678992",
   "metadata": {},
   "outputs": [],
   "source": [
    "nove_poradi_sloupcu = (\n",
    "     'DATE_FROM',\n",
    "     'DATE_TO',\n",
    "     'TYPE_OF_RESERVES',\n",
    "     'PRODUCT',\n",
    "     'OFFERED_CAPACITY_PRICE_[EUR/MW]',\n",
    "     'OFFERED_CAPACITY_PRICE_NEW',\n",
    "     'OFFERED_CAPACITY_[MW]',\n",
    "     'ALLOCATED_CAPACITY_[MW]',\n",
    "     'COUNTRY',\n",
    "     'SETTLEMENTCAPACITY_PRICE_[EUR/MW]',\n",
    "     'SETTLEMENTCAPACITY_PRICE_NEW',\n",
    "     'NOTE'\n",
    ")"
   ]
  },
  {
   "cell_type": "code",
   "execution_count": null,
   "id": "4884a61f-2190-4218-94f4-95e28c22e5fe",
   "metadata": {},
   "outputs": [],
   "source": [
    "data_df['OFFERED_CAPACITY_PRICE_NEW'] = data_df['OFFERED_CAPACITY_PRICE_[EUR/MW]'] / 4"
   ]
  },
  {
   "cell_type": "code",
   "execution_count": null,
   "id": "eeb96eaa-7aee-42d7-b2be-f6d619703d05",
   "metadata": {},
   "outputs": [],
   "source": [
    "data_df['SETTLEMENTCAPACITY_PRICE_NEW'] = data_df['SETTLEMENTCAPACITY_PRICE_[EUR/MW]'] / 4"
   ]
  },
  {
   "cell_type": "code",
   "execution_count": null,
   "id": "4470ad2b-d955-49e6-bfa0-9a14adfa8c47",
   "metadata": {},
   "outputs": [],
   "source": [
    "data_df.tail(2)"
   ]
  },
  {
   "cell_type": "markdown",
   "id": "f473b3ba-b368-4da2-8389-9678029d0acf",
   "metadata": {},
   "source": [
    "<br>\n",
    "\n",
    "Pro změnu pořadí sloupců, nachystáme novou tabulku, s novým pořadím:"
   ]
  },
  {
   "cell_type": "code",
   "execution_count": null,
   "id": "a9c94ab7-3720-491e-a163-83adb06b818c",
   "metadata": {},
   "outputs": [],
   "source": [
    "from pandas import DataFrame"
   ]
  },
  {
   "cell_type": "code",
   "execution_count": null,
   "id": "1de937f3-9f9f-44ec-ab71-07b333c7c4cc",
   "metadata": {},
   "outputs": [],
   "source": [
    "novy_df = DataFrame(data_df, columns=nove_poradi_sloupcu)"
   ]
  },
  {
   "cell_type": "code",
   "execution_count": null,
   "id": "5246500e-939f-41e8-83e8-45a1a6125045",
   "metadata": {},
   "outputs": [],
   "source": [
    "novy_df.tail(2)"
   ]
  },
  {
   "cell_type": "markdown",
   "id": "b15cc340-a29f-440f-a253-a9752000336b",
   "metadata": {},
   "source": [
    "#### 2. Agregace podle některých sloupců\n",
    "\n",
    "---"
   ]
  },
  {
   "cell_type": "markdown",
   "id": "c847e2d3-0b08-432e-9249-8950dde95888",
   "metadata": {},
   "source": [
    "Necháme si vypsat unikátní hodnoty pro hledané sloupce:"
   ]
  },
  {
   "cell_type": "code",
   "execution_count": null,
   "id": "5b9e80c8-ad27-4a92-aa4b-940e67a2ff0f",
   "metadata": {},
   "outputs": [],
   "source": [
    "novy_df['PRODUCT'].unique()"
   ]
  },
  {
   "cell_type": "code",
   "execution_count": null,
   "id": "f98e1d37-738f-4fde-a9c3-f5801bdd9a71",
   "metadata": {},
   "outputs": [],
   "source": [
    "novy_df['COUNTRY'].unique()"
   ]
  },
  {
   "cell_type": "code",
   "execution_count": null,
   "id": "8c2f68b4-a76e-45f1-9354-07f446fb3102",
   "metadata": {},
   "outputs": [],
   "source": [
    "novy_df.head(2)"
   ]
  },
  {
   "cell_type": "code",
   "execution_count": null,
   "id": "36ead580-6652-4b73-aeca-fb01ec248a50",
   "metadata": {},
   "outputs": [],
   "source": [
    "novy_df.groupby('COUNTRY')"
   ]
  },
  {
   "cell_type": "code",
   "execution_count": null,
   "id": "301b70af-8776-4f9d-99d5-129570f1e2f1",
   "metadata": {},
   "outputs": [],
   "source": [
    "zkraceny_novy_df = novy_df[['COUNTRY', 'OFFERED_CAPACITY_PRICE_NEW']]"
   ]
  },
  {
   "cell_type": "markdown",
   "id": "bbba41c2-c434-44af-af79-07723284d035",
   "metadata": {},
   "source": [
    "<br>\n",
    "\n",
    "Opatrně na seskupování, tak aby data dávala nějaký smysl:"
   ]
  },
  {
   "cell_type": "code",
   "execution_count": null,
   "id": "5d3e32ae-add0-462c-98f6-d6cb14698274",
   "metadata": {},
   "outputs": [],
   "source": [
    "zkraceny_novy_df.groupby('COUNTRY').max()"
   ]
  },
  {
   "cell_type": "code",
   "execution_count": null,
   "id": "1625fc33-1b44-42a1-b79e-1bbd7f9599e9",
   "metadata": {},
   "outputs": [],
   "source": [
    "dalsi_zkraceny_novy_df = novy_df[['COUNTRY', 'PRODUCT', 'OFFERED_CAPACITY_PRICE_NEW', 'SETTLEMENTCAPACITY_PRICE_NEW']]"
   ]
  },
  {
   "cell_type": "code",
   "execution_count": null,
   "id": "6148849f-0e7a-4ba6-87f3-2ea9624d2bc0",
   "metadata": {},
   "outputs": [],
   "source": [
    "dalsi_zkraceny_novy_df"
   ]
  },
  {
   "cell_type": "code",
   "execution_count": null,
   "id": "d4d0d786-3b1d-4496-b7c6-38f068d64853",
   "metadata": {},
   "outputs": [],
   "source": [
    "vystup = dalsi_zkraceny_novy_df.pivot_table(values='OFFERED_CAPACITY_PRICE_NEW',\n",
    "                                   index='COUNTRY', columns='PRODUCT').round(1).unstack()"
   ]
  },
  {
   "cell_type": "code",
   "execution_count": null,
   "id": "b7ff3941-2e74-46f5-9a7e-805d1545ffc4",
   "metadata": {},
   "outputs": [],
   "source": [
    "vystup.index"
   ]
  },
  {
   "cell_type": "code",
   "execution_count": null,
   "id": "a542ecec-9ac1-49da-ac99-1b52b4b4e937",
   "metadata": {},
   "outputs": [],
   "source": [
    "import numpy as np"
   ]
  },
  {
   "cell_type": "code",
   "execution_count": null,
   "id": "a37c2210-77ff-4bbe-89c3-3bd60cfecb2c",
   "metadata": {},
   "outputs": [],
   "source": [
    "agregacni_predpis = {'OFFERED_CAPACITY_PRICE_NEW': np.median}"
   ]
  },
  {
   "cell_type": "code",
   "execution_count": null,
   "id": "43e428d3-6612-4d04-9d58-674f98b5d9d0",
   "metadata": {},
   "outputs": [],
   "source": [
    "dalsi_zkraceny_novy_df.pivot_table(values='OFFERED_CAPACITY_PRICE_NEW',\n",
    "                                   index='COUNTRY', columns='PRODUCT',\n",
    "                                   aggfunc=agregacni_predpis).round(1)"
   ]
  },
  {
   "cell_type": "markdown",
   "id": "79ddfd59-7a7a-47f8-b71e-3b33c39c03fd",
   "metadata": {},
   "source": [
    "---"
   ]
  },
  {
   "cell_type": "markdown",
   "id": "de2c4d75-bdf5-4cb0-9e2c-fbd0140b2d4d",
   "metadata": {},
   "source": [
    "\n",
    "<img src=\"https://external-content.duckduckgo.com/iu/?u=https%3A%2F%2Ftse1.mm.bing.net%2Fth%3Fid%3DOIP.odqbr-09dxxBQjF7x7NyBAHaII%26pid%3DApi&f=1&ipt=5b4a03c1dd38b52108237102ebb350595a5d6ea6a50572f5897ca89fbf5b5445&ipo=images\" width=\"160\" style=\"margin-left:auto; margin-right:auto\"/>"
   ]
  },
  {
   "cell_type": "markdown",
   "id": "e2071f0f-a5df-49fb-beac-e546a89375b4",
   "metadata": {},
   "source": [
    "<br>\n",
    "\n",
    "## Časové řady\n",
    "\n",
    "---"
   ]
  },
  {
   "cell_type": "markdown",
   "id": "b3595f36-95de-40b4-99b4-ca29f2b6e458",
   "metadata": {
    "tags": []
   },
   "source": [
    "Část *frameworku* byla vyvinuta za účelem **finančního modelování**.\n",
    "\n",
    "Proto je více než dobře vybavena sadou nástrojů, které umí pracovat **s daty, časem a časovými objekty**.\n",
    "\n",
    "<br>\n",
    "\n",
    "Uplatnění:\n",
    "* **Analýza a predikce**: Časové řady umožňují analyzovat vývoj hodnot v čase a předpovídat budoucí trendy nebo sezónní změny. To je klíčové v oblastech jako finance, ekonomika, prodej, počasí a mnoho dalších.\n",
    "\n",
    "* **Efektivní manipulace s časem**: Pandas poskytuje nástroje pro efektivní práci s časovými řadami, což zjednodušuje úkoly, jako je agregace, interpolace nebo časové posuny. Díky integrovaným funkcím můžete snadno pracovat s daty různých časových frekvencí a konvertovat mezi nimi.\n",
    "\n",
    "* **Časově závislé analýzy**: Časové řady umožňují provádět časově závislé analýzy, jako je detekce změn v trendech, identifikace sezónních vlivů nebo identifikace časových závislostí mezi proměnnými.\n",
    "\n",
    "* **Flexibilní indexace**: Pandas podporuje flexibilní indexaci časových řad, což usnadňuje filtrování, řazení a výběr dat na základě časových značek nebo rozsahů.\n",
    "\n",
    "* **Kompatibilita s dalšími knihovnami**: Pandas je kompatibilní s mnoha dalšími knihovnami pro analýzu časových řad, jako je statsmodels nebo scikit-learn. To usnadňuje integraci a rozšíření vašich analýz s pokročilejšími metodami a algoritmy.\n",
    "    \n",
    "<br>\n",
    "\n",
    "Jde například o údaje typu:\n",
    "* *timestampy*, údaj odkazující na konkrétní **časový okamžik** (např. `26. července 2024 v 14:36 hod.`),\n",
    "* *časové intervaly*, tedy období odkazují na délku času **mezi konkrétním začátkem a koncem** (např. intervaly ze dne na den),\n",
    "* *time delta* objekty, tedy přesné délky času (např. 22,22 sekundy)."
   ]
  },
  {
   "cell_type": "markdown",
   "id": "a52a8b5b-fbd0-4a5c-9f86-49bb6d1b60c5",
   "metadata": {},
   "source": [
    "#### Data a čas v Pythonu\n",
    "\n",
    "---"
   ]
  },
  {
   "cell_type": "markdown",
   "id": "5d7cd4e8-d884-4401-98a1-fbba2fad013d",
   "metadata": {},
   "source": [
    "Standardní výbavou Pythonu jsou knihovny `datetime`:"
   ]
  },
  {
   "cell_type": "code",
   "execution_count": null,
   "id": "3b240281-3df6-46bd-a811-6390e3d3964d",
   "metadata": {
    "tags": []
   },
   "outputs": [],
   "source": [
    "from datetime import datetime"
   ]
  },
  {
   "cell_type": "code",
   "execution_count": null,
   "id": "2344fee1-dcd9-437c-bc03-8b34379bbe90",
   "metadata": {
    "tags": []
   },
   "outputs": [],
   "source": [
    "datetime(year=2023, month=4, day=5)"
   ]
  },
  {
   "cell_type": "markdown",
   "id": "5108d4c2-2a5b-4759-8c92-e5b8bd6c03c2",
   "metadata": {},
   "source": [
    "<br>\n",
    "\n",
    "Nebo knihovna `dateutil` pro parsování datových typů z různých stringových zadání:"
   ]
  },
  {
   "cell_type": "code",
   "execution_count": null,
   "id": "02d4ff59-eeba-4d38-b735-c78ecafbe8ec",
   "metadata": {
    "tags": []
   },
   "outputs": [],
   "source": [
    "from dateutil import parser"
   ]
  },
  {
   "cell_type": "code",
   "execution_count": null,
   "id": "73fcc24c-baeb-48c2-a2ba-fb310b38c065",
   "metadata": {
    "tags": []
   },
   "outputs": [],
   "source": [
    "date = parser.parse(\"26th of november, 2024\")"
   ]
  },
  {
   "cell_type": "code",
   "execution_count": null,
   "id": "625cd29b-cf0e-475b-b183-669d57ae0f57",
   "metadata": {
    "tags": []
   },
   "outputs": [],
   "source": [
    "date"
   ]
  },
  {
   "cell_type": "markdown",
   "id": "9caebdca-7830-4297-ac61-1dce4db4ba73",
   "metadata": {},
   "source": [
    "Kde pomocí metody `strftime` můžeš vypsat den:"
   ]
  },
  {
   "cell_type": "code",
   "execution_count": null,
   "id": "4d5db24c-520c-4d79-8fe0-522232ab1262",
   "metadata": {
    "tags": []
   },
   "outputs": [],
   "source": [
    "date.strftime(\"%A\")"
   ]
  },
  {
   "cell_type": "markdown",
   "id": "6913d54d-0bd9-417f-9e51-203e2f8305d3",
   "metadata": {},
   "source": [
    "#### Data a čas v numpy\n",
    "\n",
    "---"
   ]
  },
  {
   "cell_type": "markdown",
   "id": "72efded6-f45e-4a48-b948-d1122041cecb",
   "metadata": {},
   "source": [
    "Některé nedostatky uvnitř knihoven `datetime` a `dateutil` vedli ke vzniku sady nástrojů.\n",
    "\n",
    "Tyto doplňky vznikly pod hlavičkou knihovny `numpy`."
   ]
  },
  {
   "cell_type": "code",
   "execution_count": null,
   "id": "98f3c865-5c60-4ebe-8c45-e2ed325e9239",
   "metadata": {
    "tags": []
   },
   "outputs": [],
   "source": [
    "import numpy as np\n",
    "from numpy import array, arange"
   ]
  },
  {
   "cell_type": "code",
   "execution_count": null,
   "id": "4fdfd068-5b28-4a81-a75b-8311f0ba4f6e",
   "metadata": {
    "tags": []
   },
   "outputs": [],
   "source": [
    "date = array('2023-04-05', dtype=np.datetime64)"
   ]
  },
  {
   "cell_type": "code",
   "execution_count": null,
   "id": "4a409a4f-9566-4558-9b77-c592dd2a891c",
   "metadata": {
    "tags": []
   },
   "outputs": [],
   "source": [
    "date"
   ]
  },
  {
   "cell_type": "markdown",
   "id": "ed2303ad-852c-4a45-8cff-60f7871b33a4",
   "metadata": {},
   "source": [
    "<br>\n",
    "\n",
    "Pokud potřebuješ pole následujících 7 dní:"
   ]
  },
  {
   "cell_type": "code",
   "execution_count": null,
   "id": "3ab7f441-fef1-4186-b4dc-006e20501b45",
   "metadata": {
    "tags": []
   },
   "outputs": [],
   "source": [
    "date + arange(7)"
   ]
  },
  {
   "cell_type": "markdown",
   "id": "952ebd4a-a97a-4cb8-b99d-1a1eb20d60c5",
   "metadata": {
    "tags": []
   },
   "source": [
    "<br>\n",
    "\n",
    "Vzhledem k jednotnému datovu typu v poli pro **numpy** `datetime64` může tento typ operace\n",
    "provádět mnohem rychleji, než přímo v Pythonu `datetime` objekty, zejména když objekty nabývají na velikosti."
   ]
  },
  {
   "cell_type": "markdown",
   "id": "9be40e46-3b9a-4345-8b88-41c10a5165ad",
   "metadata": {},
   "source": [
    "#### Data a čas v pandách\n",
    "\n",
    "---"
   ]
  },
  {
   "cell_type": "markdown",
   "id": "8f8b25fc-3bc7-40f3-b98b-9b5a62c79b9a",
   "metadata": {
    "tags": []
   },
   "source": [
    "Jde o kombinace objektů z obou předchozích podkapitol.\n",
    "\n",
    "Ty dávají dohromady to nejlepší prostředky pro zacházení s časem."
   ]
  },
  {
   "cell_type": "code",
   "execution_count": null,
   "id": "776d307a-f40f-47b8-941a-dd4eb1e01466",
   "metadata": {
    "tags": []
   },
   "outputs": [],
   "source": [
    "from pandas import to_datetime"
   ]
  },
  {
   "cell_type": "code",
   "execution_count": null,
   "id": "bed879ce-2ea9-4af1-a9ef-1d4f745574af",
   "metadata": {
    "tags": []
   },
   "outputs": [],
   "source": [
    "date = to_datetime(\"5th of April, 2023\")"
   ]
  },
  {
   "cell_type": "code",
   "execution_count": null,
   "id": "ea56dd6b-f555-4ba8-9653-ec2659c06c43",
   "metadata": {
    "tags": []
   },
   "outputs": [],
   "source": [
    "date"
   ]
  },
  {
   "cell_type": "code",
   "execution_count": null,
   "id": "605a43a5-4d3a-4f1a-9966-c9d4db291585",
   "metadata": {
    "tags": []
   },
   "outputs": [],
   "source": [
    "date.strftime(\"%A\")"
   ]
  },
  {
   "cell_type": "markdown",
   "id": "79b82ac9-c61a-4942-a06c-7062612bb9f6",
   "metadata": {},
   "source": [
    "## Časové řady\n",
    "\n",
    "---"
   ]
  },
  {
   "cell_type": "markdown",
   "id": "0df62dfd-4e3f-4080-aa38-4b3a07b8ccba",
   "metadata": {},
   "source": [
    "V podstatě jde o hlavní nástroj, který tato knihovna dovede nabídnout.\n",
    "\n",
    "#### Indexování časem\n",
    "---\n",
    "`DatetimeIndex` obsahuje časové značky (*timestamp*), které jsou uloženy ve formátu `datetime64` s nanosekundovou přesností.\n",
    "\n",
    "Tento objekt umožňuje efektivní práci s časovými řadami a poskytuje mnoho funkcí pro manipulaci s daty a časy.\n",
    "\n",
    "Výhody práce s `DatetimeIndex` objektem:\n",
    "* Časové zóny,\n",
    "* frekvence,\n",
    "* časově závislé selekce,\n",
    "* atributy časových značek,\n",
    "* operace s časem."
   ]
  },
  {
   "cell_type": "code",
   "execution_count": null,
   "id": "942454b6-1590-4ead-8dc7-19e43cbb898c",
   "metadata": {
    "tags": []
   },
   "outputs": [],
   "source": [
    "from pandas import DatetimeIndex, Series, to_datetime"
   ]
  },
  {
   "cell_type": "code",
   "execution_count": null,
   "id": "38aedb84-124f-47b6-9b82-d19fdb42bb0b",
   "metadata": {
    "tags": []
   },
   "outputs": [],
   "source": [
    "datumy = [\"2023-04-05\", \"2022-04-05\", \"2021-04-05\", \"2020-04-05\"]"
   ]
  },
  {
   "cell_type": "code",
   "execution_count": null,
   "id": "722b7f22-213c-4e55-bad5-d465f9c1659f",
   "metadata": {
    "tags": []
   },
   "outputs": [],
   "source": [
    "indexy = DatetimeIndex(datumy)"
   ]
  },
  {
   "cell_type": "code",
   "execution_count": null,
   "id": "a06a59ae-1537-4031-ad6e-0a685f2a7dfc",
   "metadata": {
    "tags": []
   },
   "outputs": [],
   "source": [
    "hodnoty = [to_datetime(den).strftime(\"%A\") for den in datumy]"
   ]
  },
  {
   "cell_type": "code",
   "execution_count": null,
   "id": "09606946-4e16-4edc-86cc-1ea715c36a77",
   "metadata": {},
   "outputs": [],
   "source": [
    "hodnoty"
   ]
  },
  {
   "cell_type": "code",
   "execution_count": null,
   "id": "0744f686-f4d4-4d2e-963b-187e8f844dd1",
   "metadata": {
    "tags": []
   },
   "outputs": [],
   "source": [
    "hodnoty_sl = Series(hodnoty, index=indexy)"
   ]
  },
  {
   "cell_type": "code",
   "execution_count": null,
   "id": "9ebdad6a-26e6-409e-9979-aac959aa0dc3",
   "metadata": {
    "tags": []
   },
   "outputs": [],
   "source": [
    "hodnoty_sl"
   ]
  },
  {
   "cell_type": "code",
   "execution_count": null,
   "id": "6c1ce133-9777-47d6-92e4-0ab0103638cf",
   "metadata": {},
   "outputs": [],
   "source": [
    "hodnoty_sl.index"
   ]
  },
  {
   "cell_type": "code",
   "execution_count": null,
   "id": "b88395d8-b472-457f-9065-064542f4142c",
   "metadata": {
    "tags": []
   },
   "outputs": [],
   "source": [
    "type(indexy)"
   ]
  },
  {
   "cell_type": "markdown",
   "id": "f314485d-2b02-46c0-a23f-c3f8315864a9",
   "metadata": {},
   "source": [
    "<br>\n",
    "\n",
    "Můžeš vytvořit selektivní proces na základě datumu pro index:"
   ]
  },
  {
   "cell_type": "code",
   "execution_count": null,
   "id": "cddde627-eaf9-477d-892d-08b5eaa80860",
   "metadata": {},
   "outputs": [],
   "source": [
    "hodnoty_sl[:'2021-04-05']"
   ]
  },
  {
   "cell_type": "markdown",
   "id": "0d47edb2-6dc2-4602-9f41-34f6a2937209",
   "metadata": {},
   "source": [
    "<br>\n",
    "\n",
    "## Základní objekty\n",
    "\n",
    "---\n",
    "\n",
    "Mezi základní objekty pro práci s časem patří:\n",
    "* `Timestamp` typ (související struktura Indexu `DatetimeIndex`,\n",
    "* `Period` typ (.. `PeriodIndex`),\n",
    "* `Timedelta` typ (.. `TimedeltaIndex`)."
   ]
  },
  {
   "cell_type": "markdown",
   "id": "09bdc79b-0511-4fcb-9c46-f7afd077e19f",
   "metadata": {},
   "source": [
    "#### Timestamp & DatetimeIndex\n",
    "\n",
    "---\n",
    "\n",
    "Nejčastější datové typy, které lze vyvolat přímo, ovšem běžnější je pracovat s funkcí `to_datetime`.\n",
    "\n",
    "Funkce `to_datetime` umí parsovat různé stringové formáty."
   ]
  },
  {
   "cell_type": "markdown",
   "id": "2160acb2-fcbd-4faf-a798-b9dba03fbb59",
   "metadata": {},
   "source": [
    "<br>\n",
    "\n",
    "### Práce s jedním datumem\n",
    "\n",
    "---"
   ]
  },
  {
   "cell_type": "code",
   "execution_count": null,
   "id": "008d3a6b-be76-4b9b-a32f-21c3e3d10c33",
   "metadata": {
    "tags": []
   },
   "outputs": [],
   "source": [
    "datum_objekt = to_datetime(\"05/04/2023\")  # DD/MM/RRRR, 5. duben 2023"
   ]
  },
  {
   "cell_type": "markdown",
   "id": "2cd8cbca-c056-45e7-ab87-fff10ba5cd4b",
   "metadata": {},
   "source": [
    "<br>\n",
    "\n",
    "Opatrně na specifický formát datumu:"
   ]
  },
  {
   "cell_type": "code",
   "execution_count": null,
   "id": "5e1f49ba-3d71-4612-a1cb-c4b23ce3b7c7",
   "metadata": {
    "tags": []
   },
   "outputs": [],
   "source": [
    "datum_objekt                              # MM/DD/RRRR"
   ]
  },
  {
   "cell_type": "code",
   "execution_count": null,
   "id": "b81815a1-b7d7-4b04-b966-23e22dd117e6",
   "metadata": {
    "tags": []
   },
   "outputs": [],
   "source": [
    "type(datum_objekt)"
   ]
  },
  {
   "cell_type": "code",
   "execution_count": null,
   "id": "68bd7190-ad60-495e-a6bb-2c17cae7027a",
   "metadata": {},
   "outputs": [],
   "source": [
    "datum_objekt.month_name()"
   ]
  },
  {
   "cell_type": "markdown",
   "id": "c55dcbab-9d51-4d4c-8f91-4b87a676957f",
   "metadata": {},
   "source": [
    "Pokud do funkce `to_datetime` vložíš jedinou hodnotu, vrací objekty typu `Timestamp`."
   ]
  },
  {
   "cell_type": "markdown",
   "id": "f63fd9d1-3b3a-4000-91c7-4f7a071ea4fc",
   "metadata": {},
   "source": [
    "<br>\n",
    "\n",
    "#### Specifický formát\n",
    "\n",
    "---"
   ]
  },
  {
   "cell_type": "markdown",
   "id": "79f3503c-a33d-4dbe-92a5-5ff91195ac73",
   "metadata": {},
   "source": [
    "Pokud se *parser* ztratí nebo tvoje zadání neodpovídá jeho vyhotovení:"
   ]
  },
  {
   "cell_type": "code",
   "execution_count": null,
   "id": "e4299858-4a39-4a0d-a09a-3bb95e048a1c",
   "metadata": {
    "tags": []
   },
   "outputs": [],
   "source": [
    "to_datetime(\"12-11-2010 00:00\", format=\"%d-%m-%Y %H:%M\")"
   ]
  },
  {
   "cell_type": "code",
   "execution_count": null,
   "id": "3d9fe2f0-f19b-4867-b7fb-e7523e9351fa",
   "metadata": {},
   "outputs": [],
   "source": [
    "naformatovany_datum = to_datetime(\"05/04/2023\", format='%d/%m/%Y')"
   ]
  },
  {
   "cell_type": "code",
   "execution_count": null,
   "id": "b75584f5-5918-4f98-8fe7-9e01c566c99b",
   "metadata": {},
   "outputs": [],
   "source": [
    "naformatovany_datum.month_name()"
   ]
  },
  {
   "cell_type": "code",
   "execution_count": null,
   "id": "83efebdc-44a7-4fed-a7b6-e3827fd04b62",
   "metadata": {},
   "outputs": [],
   "source": [
    "naformatovany_datum.day_name()"
   ]
  },
  {
   "cell_type": "markdown",
   "id": "ed23df17-0a39-44c4-a2a3-9785737984c7",
   "metadata": {},
   "source": [
    "Nespoléhat na defaultní nastavení funkce `to_datetime`, ale umět si formát upravit podle svých potřeb."
   ]
  },
  {
   "cell_type": "markdown",
   "id": "2803e915-a129-4904-843c-fc63e3d9640b",
   "metadata": {},
   "source": [
    "<br>\n",
    "\n",
    "### Práce s několika datumy\n",
    "\n",
    "---"
   ]
  },
  {
   "cell_type": "code",
   "execution_count": null,
   "id": "092c1163-b0e7-4277-bd57-bad7bdab5b06",
   "metadata": {
    "tags": []
   },
   "outputs": [],
   "source": [
    "datumy = to_datetime([datetime(2023, 4, 5),\n",
    "                      \"5th of April 2023\",\n",
    "                      \"2023-Apr-5\",\n",
    "                      \"05-04-2023\",\n",
    "                      \"20230405\"])"
   ]
  },
  {
   "cell_type": "code",
   "execution_count": null,
   "id": "200907f1-a8b7-46c0-ba70-9ed9fe0bb20d",
   "metadata": {
    "tags": []
   },
   "outputs": [],
   "source": [
    "datumy"
   ]
  },
  {
   "cell_type": "code",
   "execution_count": null,
   "id": "90b0e847-8e29-41bc-84cf-107653bb0b8d",
   "metadata": {
    "tags": []
   },
   "outputs": [],
   "source": [
    "type(datumy)"
   ]
  },
  {
   "cell_type": "markdown",
   "id": "ef15bae3-af4b-460a-8071-456968156253",
   "metadata": {},
   "source": [
    "Zatímco pole hodnot s datumy, které funkce `to_datetime` zpracuje vrací objekt typu `DatetimeIndex`."
   ]
  },
  {
   "cell_type": "markdown",
   "id": "d186ec09-995a-442d-9292-2713d6e0c802",
   "metadata": {},
   "source": [
    "<br>\n",
    "\n",
    "Objekt `DatetimeIndex` potom můžeš konvertovat na `PeriodIndex` pomocí *metody* `to_period`:"
   ]
  },
  {
   "cell_type": "code",
   "execution_count": null,
   "id": "43589164-8c53-466e-82d2-cc1d351f48b5",
   "metadata": {
    "tags": []
   },
   "outputs": [],
   "source": [
    "# datumy.to_period?"
   ]
  },
  {
   "cell_type": "markdown",
   "id": "15acd474-a6c0-440b-876c-1b1da8f14310",
   "metadata": {},
   "source": [
    "<br>\n",
    "\n",
    "Tato metoda je užitečná, pokud chcete převést časové řady **na určité časové období**.\n",
    "\n",
    "Když budeš třeba potřebovat převést hodnoty **z denních dat na měsíční data**."
   ]
  },
  {
   "cell_type": "markdown",
   "id": "c9c7e3a8-060b-4282-902a-c5046ae17974",
   "metadata": {},
   "source": [
    "<br>\n",
    "\n",
    "#### Denní data\n",
    "\n",
    "---"
   ]
  },
  {
   "cell_type": "code",
   "execution_count": null,
   "id": "a326192e-cd40-4bb8-8ec5-90bae9d5ccb0",
   "metadata": {
    "tags": []
   },
   "outputs": [],
   "source": [
    "datumy.to_period(freq=\"D\")"
   ]
  },
  {
   "cell_type": "markdown",
   "id": "2f0d268d-0809-498b-b7d6-64c739d8f814",
   "metadata": {},
   "source": [
    "<br>\n",
    "\n",
    "#### Měsíční data\n",
    "\n",
    "---"
   ]
  },
  {
   "cell_type": "code",
   "execution_count": null,
   "id": "7411f887-9a52-41ec-971d-ec99d98555d1",
   "metadata": {},
   "outputs": [],
   "source": [
    "from pandas import DataFrame\n",
    "import pandas as pd"
   ]
  },
  {
   "cell_type": "code",
   "execution_count": null,
   "id": "6c1898cd-7068-4bef-b699-85c165cdfb6a",
   "metadata": {
    "tags": []
   },
   "outputs": [],
   "source": [
    "datumy.to_period(freq=\"M\")"
   ]
  },
  {
   "cell_type": "markdown",
   "id": "8380f1d9-d1cd-44f1-afc9-14a6d1e28539",
   "metadata": {},
   "source": [
    "<br>\n",
    "\n",
    "V rámci periody jsem schopen u časových řad nastavovat, nebo měnit časové intervaly (tzn. denní, měsíční)."
   ]
  },
  {
   "cell_type": "code",
   "execution_count": null,
   "id": "d83626f1-2cac-4f86-9b5a-aeed533ff783",
   "metadata": {
    "tags": []
   },
   "outputs": [],
   "source": [
    "# data = {'date': pd.date_range(start='2022-01-01', periods=10, freq='ME'),\n",
    "#         'sales': [100, 102, 105, 107, 110, 112, 115, 117, 120, 122]}"
   ]
  },
  {
   "cell_type": "markdown",
   "id": "ee50cd8f-00a9-4070-a27f-2eaf39b5bec7",
   "metadata": {},
   "source": [
    "<br>\n",
    "\n",
    "Varianta frekvence `ME` lze použít ve verzi pandas 2.2.\n",
    "\n",
    "Pro starší varianty je nutné pracovat s argumentem `M`."
   ]
  },
  {
   "cell_type": "code",
   "execution_count": null,
   "id": "0d227854-1639-45b8-8d4a-19a76aceb866",
   "metadata": {
    "tags": []
   },
   "outputs": [],
   "source": [
    "data = {'date': pd.date_range(start='2022-01-01', periods=10, freq='M'),\n",
    "        'sales': [100, 102, 105, 107, 110, 112, 115, 117, 120, 122]}"
   ]
  },
  {
   "cell_type": "code",
   "execution_count": null,
   "id": "06435f66-582f-4822-8be0-97ed1ddc7bba",
   "metadata": {
    "tags": []
   },
   "outputs": [],
   "source": [
    "data_df = DataFrame(data)"
   ]
  },
  {
   "cell_type": "code",
   "execution_count": null,
   "id": "3facb1a6-0aa4-45ea-bb2e-4ca3974cfc74",
   "metadata": {},
   "outputs": [],
   "source": [
    "data_df"
   ]
  },
  {
   "cell_type": "markdown",
   "id": "33d5c5f8-c73b-4889-9360-06ff49e77edd",
   "metadata": {},
   "source": [
    "<br>\n",
    "\n",
    "Index původní tabulky je nastavený implicitně jako interval `0-n` ."
   ]
  },
  {
   "cell_type": "code",
   "execution_count": null,
   "id": "16f27394-4a76-4ac1-b497-f6be0658f934",
   "metadata": {
    "tags": []
   },
   "outputs": [],
   "source": [
    "data_df.set_index('date', inplace=True)"
   ]
  },
  {
   "cell_type": "code",
   "execution_count": null,
   "id": "1dc3a9dc-8dc9-450a-a75b-2ba46a13001d",
   "metadata": {},
   "outputs": [],
   "source": [
    "data_df"
   ]
  },
  {
   "cell_type": "code",
   "execution_count": null,
   "id": "47d9a370-6a79-472a-a610-217e7dd35410",
   "metadata": {
    "tags": []
   },
   "outputs": [],
   "source": [
    "period_df = data_df.to_period(freq='M')"
   ]
  },
  {
   "cell_type": "code",
   "execution_count": null,
   "id": "dc37e1d7-d0fa-42d3-bf53-630c2ffcfae1",
   "metadata": {},
   "outputs": [],
   "source": [
    "period_df"
   ]
  },
  {
   "cell_type": "markdown",
   "id": "3c9889c5-1045-4c39-b73b-8a1614b01329",
   "metadata": {},
   "source": [
    "<br>\n",
    "\n",
    "### TimedeltaIndex\n",
    "\n",
    "---\n",
    "\n",
    "Jde o rozdíl v jednotkách času.\n",
    "\n",
    "Nejčastěji se s tímto objektem setkáš, pokud potřebuješ získat **rozdíl mezi dvěma datumy**."
   ]
  },
  {
   "cell_type": "code",
   "execution_count": null,
   "id": "46a9141b-5c69-4857-bd60-e8665f668bc2",
   "metadata": {},
   "outputs": [],
   "source": [
    "from datetime import datetime\n",
    "\n",
    "from pandas import to_datetime"
   ]
  },
  {
   "cell_type": "code",
   "execution_count": null,
   "id": "baa82ce3-62ff-44d0-8b2e-71751d8a7c64",
   "metadata": {
    "tags": []
   },
   "outputs": [],
   "source": [
    "specialni_datumy = to_datetime([datetime(2022, 4, 5),\n",
    "                                \"5th of April 2021\",\n",
    "                                \"2020-Apr-5\",\n",
    "                                \"05-04-2019\",\n",
    "                                \"20180405\"])"
   ]
  },
  {
   "cell_type": "code",
   "execution_count": null,
   "id": "c8ce31ff-510d-49de-9098-8efba84b3e8d",
   "metadata": {},
   "outputs": [],
   "source": [
    "specialni_datumy"
   ]
  },
  {
   "cell_type": "code",
   "execution_count": null,
   "id": "fd089289-847d-44ad-a328-5564f72ac39e",
   "metadata": {},
   "outputs": [],
   "source": [
    "datumy"
   ]
  },
  {
   "cell_type": "code",
   "execution_count": null,
   "id": "fa67979c-560d-4c06-a4b5-97dffa5f66f0",
   "metadata": {
    "tags": []
   },
   "outputs": [],
   "source": [
    "datumy - specialni_datumy"
   ]
  },
  {
   "cell_type": "markdown",
   "id": "d06fc380-1a8d-4861-beda-568075bda222",
   "metadata": {},
   "source": [
    "<br>\n",
    "\n",
    "Rozdíl mezi datumy můžeš počítat i pro jednotlivé `Timestamp` hodnoty:"
   ]
  },
  {
   "cell_type": "code",
   "execution_count": null,
   "id": "999679f7-dbcc-45a5-bc6e-daa379d87310",
   "metadata": {},
   "outputs": [],
   "source": [
    "datumy[0]"
   ]
  },
  {
   "cell_type": "code",
   "execution_count": null,
   "id": "effc3dfd-e0df-45ab-8fa7-0254631a62a7",
   "metadata": {},
   "outputs": [],
   "source": [
    "specialni_datumy[0]"
   ]
  },
  {
   "cell_type": "code",
   "execution_count": null,
   "id": "aec46dd7-0aed-41f1-bd42-0244f276612f",
   "metadata": {},
   "outputs": [],
   "source": [
    "datumy[0] - specialni_datumy[0]"
   ]
  },
  {
   "cell_type": "code",
   "execution_count": null,
   "id": "d49518c2-700c-4bbb-825d-92538ff39035",
   "metadata": {},
   "outputs": [],
   "source": [
    "datovy_objekt = to_datetime('2022-04-05')"
   ]
  },
  {
   "cell_type": "code",
   "execution_count": null,
   "id": "55c6af77-1e0c-4816-b266-8299f9541f5f",
   "metadata": {},
   "outputs": [],
   "source": [
    "datovy_objekt.tzname()"
   ]
  },
  {
   "cell_type": "code",
   "execution_count": null,
   "id": "bd2942c0-61bc-4132-bdb2-538361666993",
   "metadata": {},
   "outputs": [],
   "source": [
    "aktualni_cas = pd.Timestamp('2017-01-01T12')"
   ]
  },
  {
   "cell_type": "code",
   "execution_count": null,
   "id": "03cf0ce8-a225-4be3-8473-8bee5c1f4e3b",
   "metadata": {},
   "outputs": [],
   "source": [
    "aktualni_cas"
   ]
  },
  {
   "cell_type": "markdown",
   "id": "4947a39c-5e21-4ee3-b2bb-23be9997984f",
   "metadata": {},
   "source": [
    "<br>\n",
    "\n",
    "Pokud chybí v objektu informace o pásmu, je možnost ji doplnit:"
   ]
  },
  {
   "cell_type": "code",
   "execution_count": null,
   "id": "3a347060-390b-49ba-b360-ad8bf73c5756",
   "metadata": {},
   "outputs": [],
   "source": [
    "aktualni_cas = aktualni_cas.tz_localize('CET')"
   ]
  },
  {
   "cell_type": "code",
   "execution_count": null,
   "id": "779fffcd-c585-4876-843b-87c0eae92b16",
   "metadata": {},
   "outputs": [],
   "source": [
    "aktualni_cas"
   ]
  },
  {
   "cell_type": "code",
   "execution_count": null,
   "id": "6dce6e0f-e203-45e0-a3c2-2203b5c24433",
   "metadata": {},
   "outputs": [],
   "source": [
    "aktualni_cas.tzname()"
   ]
  },
  {
   "cell_type": "code",
   "execution_count": null,
   "id": "2718d9a6-10f1-4051-9f63-9a248c672d87",
   "metadata": {},
   "outputs": [],
   "source": [
    "nova_hodnota = pd.Timestamp('2017-01-01 12:00:00+0200')"
   ]
  },
  {
   "cell_type": "code",
   "execution_count": null,
   "id": "11de1861-e16d-42fd-a972-a82ecc39803d",
   "metadata": {},
   "outputs": [],
   "source": [
    "nova_hodnota.tzname()"
   ]
  },
  {
   "cell_type": "code",
   "execution_count": null,
   "id": "182b09d8-1778-418d-b076-3ab197808a58",
   "metadata": {},
   "outputs": [],
   "source": [
    "nova_hodnota.tz"
   ]
  },
  {
   "cell_type": "markdown",
   "id": "4dc854d5-dcb8-4fe2-ad6e-2cea6cf40b5e",
   "metadata": {},
   "source": [
    "<br>\n",
    "\n",
    "Pro převod univerzální hodnoty slouží metoda `tz_convert`."
   ]
  },
  {
   "cell_type": "markdown",
   "id": "a20b2222-9b34-4dfb-895c-edd48b1d4dc7",
   "metadata": {},
   "source": [
    "<br>\n",
    "\n",
    "#### 🧠 CVIČENÍ 🧠, procvič si funkci `to_datetime`\n",
    "\n",
    "---"
   ]
  },
  {
   "cell_type": "code",
   "execution_count": null,
   "id": "d1ebccfe-8d1e-4e02-8255-228da5d88d4d",
   "metadata": {
    "tags": []
   },
   "outputs": [],
   "source": [
    "# Převeď datumy na formát RRRR-MM-DD\n",
    "data = {\"Name\": [\"Event A\", \"Event B\", \"Event C\"],\n",
    "        \"Date\": [\"21-11-2024\", \"05-12-2024\", \"15-01-2025\"]}"
   ]
  },
  {
   "cell_type": "code",
   "execution_count": null,
   "id": "a5bc4687-1757-4a96-9add-1dc85fef6b1a",
   "metadata": {},
   "outputs": [],
   "source": [
    "data_df = DataFrame(data, index=data['Date'])"
   ]
  },
  {
   "cell_type": "code",
   "execution_count": null,
   "id": "7511c33a-3f55-4c94-9be3-ad018f504f0c",
   "metadata": {},
   "outputs": [],
   "source": [
    "data_df"
   ]
  },
  {
   "cell_type": "code",
   "execution_count": null,
   "id": "db67773a-afa6-4192-af42-4d078af6de4e",
   "metadata": {},
   "outputs": [],
   "source": [
    "data_df['Date'] = to_datetime(data_df['Date'], format='%d-%m-%Y')"
   ]
  },
  {
   "cell_type": "code",
   "execution_count": null,
   "id": "f6196987-ea8f-4372-a846-022147ea6dee",
   "metadata": {},
   "outputs": [],
   "source": [
    "data_df"
   ]
  },
  {
   "cell_type": "markdown",
   "id": "ff739f8f-73f7-4c8c-ab5b-a799d2fc754e",
   "metadata": {},
   "source": [
    "<details>\n",
    "    <summary>▶️ Řešení</summary>\n",
    "    \n",
    "```python\n",
    "import pandas as pd\n",
    "\n",
    "data = {\n",
    "    \"Name\": [\"Event A\", \"Event B\", \"Event C\"],\n",
    "    \"Date\": [\"21-11-2024\", \"05-12-2024\", \"15-01-2025\"],\n",
    "}\n",
    "\n",
    "\n",
    "df = pd.DataFrame(data)\n",
    "\n",
    "\n",
    "def convert_dates(df):\n",
    "    df[\"Date\"] = pd.to_datetime(df[\"Date\"], format=\"%d-%m-%Y\")\n",
    "    return df\n",
    "\n",
    "converted_df = convert_dates(df)\n",
    "print(converted_df)\n",
    "print(converted_df.dtypes)\n",
    "```\n",
    "</details>"
   ]
  },
  {
   "cell_type": "markdown",
   "id": "bf107bb3-6e1e-4626-bed3-fec822e4485f",
   "metadata": {},
   "source": [
    "<br>\n",
    "\n",
    "## Funkce `date_range`\n",
    "\n",
    "---\n",
    "\n",
    "Aby bylo zadání řady (sekvence) dat pohodlnější, vyzkoušej funkci `date_range`.\n",
    "\n",
    "Obdobně potom pracují související funkce:\n",
    "* `date_range`, timestampy,\n",
    "* `period_range`, periody,\n",
    "* `timedelta_range`, pro delty."
   ]
  },
  {
   "cell_type": "code",
   "execution_count": null,
   "id": "e9a1f246-14f6-47ea-a7d0-f66e7a4a1cae",
   "metadata": {
    "tags": []
   },
   "outputs": [],
   "source": [
    "from pandas import date_range"
   ]
  },
  {
   "cell_type": "markdown",
   "id": "002a848e-841d-491c-91a3-749c296728d2",
   "metadata": {},
   "source": [
    "<br>\n",
    "\n",
    "### Počet period\n",
    "\n",
    "---"
   ]
  },
  {
   "cell_type": "code",
   "execution_count": null,
   "id": "021c142d-e37b-41ff-b9c5-d344743cd7f8",
   "metadata": {
    "tags": []
   },
   "outputs": [],
   "source": [
    "datumy_rada = date_range(start=\"01-01-1992\", periods=5, freq='10min15s')"
   ]
  },
  {
   "cell_type": "markdown",
   "id": "804dd27f-df41-4ddc-b26f-787e83a97612",
   "metadata": {},
   "source": [
    "<br>\n",
    "\n",
    "Specifikace hodnoty frekvence vychází vždy z tabulky [offsetů](https://pandas.pydata.org/pandas-docs/stable/user_guide/timeseries.html#offset-aliases)."
   ]
  },
  {
   "cell_type": "code",
   "execution_count": null,
   "id": "f37f1ae5-a8b5-490e-a1c4-917629d5352c",
   "metadata": {
    "tags": []
   },
   "outputs": [],
   "source": [
    "datumy_rada"
   ]
  },
  {
   "cell_type": "markdown",
   "id": "bb5f2e6f-7548-41e5-abe3-9283c1af8a45",
   "metadata": {},
   "source": [
    "<br>\n",
    "\n",
    "## Frekvence\n",
    "\n",
    "---"
   ]
  },
  {
   "cell_type": "code",
   "execution_count": null,
   "id": "024cd46c-f335-40e2-8e92-7fb51721c5ba",
   "metadata": {
    "tags": []
   },
   "outputs": [],
   "source": [
    "datumy_mesicne_ind = date_range(\"01-01-1992\", periods=12, freq=\"M\")"
   ]
  },
  {
   "cell_type": "code",
   "execution_count": null,
   "id": "225b725b-18e7-4aab-80e5-cc0d32cba1fb",
   "metadata": {
    "tags": []
   },
   "outputs": [],
   "source": [
    "datumy_mesicne_ind"
   ]
  },
  {
   "cell_type": "markdown",
   "id": "21db1805-6d1c-4a56-9dbd-48f5e1410244",
   "metadata": {},
   "source": [
    "<br>\n",
    "\n",
    "### Hodinové periody\n",
    "\n",
    "---"
   ]
  },
  {
   "cell_type": "code",
   "execution_count": null,
   "id": "f2068e00-565e-4b55-bac2-aab644b74ab4",
   "metadata": {
    "tags": []
   },
   "outputs": [],
   "source": [
    "from pandas import timedelta_range"
   ]
  },
  {
   "cell_type": "code",
   "execution_count": null,
   "id": "ce92855a-c1e5-4e34-97b6-e0ff77ccfb72",
   "metadata": {
    "tags": []
   },
   "outputs": [],
   "source": [
    "hodinove_ind = timedelta_range(0, periods=12, freq='H')"
   ]
  },
  {
   "cell_type": "code",
   "execution_count": null,
   "id": "f23351fd-67c8-41ee-bebe-051991c6ecca",
   "metadata": {
    "tags": []
   },
   "outputs": [],
   "source": [
    "hodinove_ind"
   ]
  },
  {
   "cell_type": "code",
   "execution_count": null,
   "id": "886f7b7d-fc15-4101-a32a-451cd50b3cb5",
   "metadata": {},
   "outputs": [],
   "source": [
    "# timedelta_range?"
   ]
  },
  {
   "cell_type": "markdown",
   "id": "3dd5da5f-fa84-4c5b-a5ce-b23bdaccf9cb",
   "metadata": {},
   "source": [
    "<br>\n",
    "\n",
    "### Tabulka frekvencí\n",
    "\n",
    "---\n",
    "\n",
    "Časovou paletou frekvencí, kterou framework `pandas` nabízí je tato tabulka:\n",
    "\n",
    "| String | Popisek |\n",
    "| :-: | :- |\n",
    "| `D` | kalendářní den |\n",
    "| `W` | týden |\n",
    "| `M` | konec měsíce |\n",
    "| `Q` | konec čtvrtletí |\n",
    "| `A` | konec roku |\n",
    "| `H` | hodiny |\n",
    "| `T` | minuty |\n",
    "| `S` | vteřiny |\n",
    "| `B` | pracovní den |\n",
    "| `BM` | konec pracovního měsíce |\n",
    "| `BQ` | konec pracovního čtvrtletí |"
   ]
  },
  {
   "cell_type": "markdown",
   "id": "e9205848-bae1-47a2-811d-d0fe7b237fc7",
   "metadata": {},
   "source": [
    "#### Netradiční frekvence\n",
    "\n",
    "---"
   ]
  },
  {
   "cell_type": "code",
   "execution_count": null,
   "id": "a1c287c7-8354-4caf-aa54-3ed945441c54",
   "metadata": {
    "tags": []
   },
   "outputs": [],
   "source": [
    "timedelta_range(start='1H', periods=5, freq=\"1H15T\")"
   ]
  },
  {
   "cell_type": "markdown",
   "id": "48ad794f-a330-4662-8d38-08ba85bf23e2",
   "metadata": {},
   "source": [
    "<br>\n",
    "\n",
    "### Resampling\n",
    "\n",
    "---"
   ]
  },
  {
   "cell_type": "markdown",
   "id": "3f0efbcb-7c1a-4b85-961c-3b292f7552f2",
   "metadata": {},
   "source": [
    "*Resampling* nebo také *převzorkování* je proces, který upravuje frekvenci časové řady.\n",
    "\n",
    "*Resampling* se obvykle používá **pro snížení frekvence** (z hodinových dat na denní data).\n",
    "\n",
    "*Resampling* zahrnuje **agregaci dat**."
   ]
  },
  {
   "cell_type": "code",
   "execution_count": 1,
   "id": "c983c2ae-4ac5-42f7-86e2-14c3554d12bf",
   "metadata": {
    "tags": []
   },
   "outputs": [],
   "source": [
    "import pandas as pd\n",
    "import numpy as np\n",
    "from pandas import DataFrame, date_range"
   ]
  },
  {
   "cell_type": "markdown",
   "id": "613cf39b-5587-4ef2-ba34-c4b236a3fe2a",
   "metadata": {},
   "source": [
    "<br>\n",
    "\n",
    "V `pandas` se k tomu používá metoda `resample`, která má jako parametr novou frekvenci, na kterou chcete data převést:"
   ]
  },
  {
   "cell_type": "code",
   "execution_count": 2,
   "id": "33f29abf-34aa-46ba-b2eb-20ba521ec82e",
   "metadata": {
    "tags": []
   },
   "outputs": [],
   "source": [
    "data = {'date': pd.date_range(start='2022-01-01', periods=60, freq='D'),\n",
    "        'sales': np.random.randint(10, 100, size=60)}"
   ]
  },
  {
   "cell_type": "code",
   "execution_count": 3,
   "id": "4315a997-c6f4-41b7-b973-73bcbb408915",
   "metadata": {
    "tags": []
   },
   "outputs": [],
   "source": [
    "data_df = pd.DataFrame(data)"
   ]
  },
  {
   "cell_type": "code",
   "execution_count": 5,
   "id": "180ba486-3bf8-47bb-a1ab-ceeb63b94ced",
   "metadata": {},
   "outputs": [
    {
     "data": {
      "text/html": [
       "<div>\n",
       "<style scoped>\n",
       "    .dataframe tbody tr th:only-of-type {\n",
       "        vertical-align: middle;\n",
       "    }\n",
       "\n",
       "    .dataframe tbody tr th {\n",
       "        vertical-align: top;\n",
       "    }\n",
       "\n",
       "    .dataframe thead th {\n",
       "        text-align: right;\n",
       "    }\n",
       "</style>\n",
       "<table border=\"1\" class=\"dataframe\">\n",
       "  <thead>\n",
       "    <tr style=\"text-align: right;\">\n",
       "      <th></th>\n",
       "      <th>date</th>\n",
       "      <th>sales</th>\n",
       "    </tr>\n",
       "  </thead>\n",
       "  <tbody>\n",
       "    <tr>\n",
       "      <th>0</th>\n",
       "      <td>2022-01-01</td>\n",
       "      <td>77</td>\n",
       "    </tr>\n",
       "    <tr>\n",
       "      <th>1</th>\n",
       "      <td>2022-01-02</td>\n",
       "      <td>89</td>\n",
       "    </tr>\n",
       "    <tr>\n",
       "      <th>2</th>\n",
       "      <td>2022-01-03</td>\n",
       "      <td>78</td>\n",
       "    </tr>\n",
       "    <tr>\n",
       "      <th>3</th>\n",
       "      <td>2022-01-04</td>\n",
       "      <td>73</td>\n",
       "    </tr>\n",
       "    <tr>\n",
       "      <th>4</th>\n",
       "      <td>2022-01-05</td>\n",
       "      <td>24</td>\n",
       "    </tr>\n",
       "    <tr>\n",
       "      <th>5</th>\n",
       "      <td>2022-01-06</td>\n",
       "      <td>11</td>\n",
       "    </tr>\n",
       "    <tr>\n",
       "      <th>6</th>\n",
       "      <td>2022-01-07</td>\n",
       "      <td>27</td>\n",
       "    </tr>\n",
       "  </tbody>\n",
       "</table>\n",
       "</div>"
      ],
      "text/plain": [
       "        date  sales\n",
       "0 2022-01-01     77\n",
       "1 2022-01-02     89\n",
       "2 2022-01-03     78\n",
       "3 2022-01-04     73\n",
       "4 2022-01-05     24\n",
       "5 2022-01-06     11\n",
       "6 2022-01-07     27"
      ]
     },
     "execution_count": 5,
     "metadata": {},
     "output_type": "execute_result"
    }
   ],
   "source": [
    "data_df.head(7)"
   ]
  },
  {
   "cell_type": "markdown",
   "id": "34619d9e-abc4-461f-a44b-8ff47ce10c93",
   "metadata": {},
   "source": [
    "Dostupné sloupce:"
   ]
  },
  {
   "cell_type": "code",
   "execution_count": 6,
   "id": "ff563fcf-5f84-4e8a-beb9-b8140f7b58a7",
   "metadata": {},
   "outputs": [
    {
     "data": {
      "text/plain": [
       "Index(['date', 'sales'], dtype='object')"
      ]
     },
     "execution_count": 6,
     "metadata": {},
     "output_type": "execute_result"
    }
   ],
   "source": [
    "data_df.columns"
   ]
  },
  {
   "cell_type": "markdown",
   "id": "15a1d88e-fee8-4cb5-9aba-530edf322d78",
   "metadata": {},
   "source": [
    "Dostupné indexy:"
   ]
  },
  {
   "cell_type": "code",
   "execution_count": 7,
   "id": "7ab4b361-e6a1-4a78-9408-9ea64bed2055",
   "metadata": {},
   "outputs": [
    {
     "data": {
      "text/plain": [
       "RangeIndex(start=0, stop=60, step=1)"
      ]
     },
     "execution_count": 7,
     "metadata": {},
     "output_type": "execute_result"
    }
   ],
   "source": [
    "data_df.index"
   ]
  },
  {
   "cell_type": "markdown",
   "id": "fc5dff36-f013-40ea-a54a-6f16dee60bcc",
   "metadata": {},
   "source": [
    "<br>\n",
    "\n",
    "Nastavení nového sloupce pro Index:"
   ]
  },
  {
   "cell_type": "code",
   "execution_count": 8,
   "id": "72fa4502-5b23-489f-93df-c77408b143b3",
   "metadata": {
    "tags": []
   },
   "outputs": [],
   "source": [
    "data_df.set_index('date', inplace=True)"
   ]
  },
  {
   "cell_type": "code",
   "execution_count": 9,
   "id": "ac650f5c-6bc4-45e5-aab9-15bfe78d55e2",
   "metadata": {},
   "outputs": [
    {
     "data": {
      "text/html": [
       "<div>\n",
       "<style scoped>\n",
       "    .dataframe tbody tr th:only-of-type {\n",
       "        vertical-align: middle;\n",
       "    }\n",
       "\n",
       "    .dataframe tbody tr th {\n",
       "        vertical-align: top;\n",
       "    }\n",
       "\n",
       "    .dataframe thead th {\n",
       "        text-align: right;\n",
       "    }\n",
       "</style>\n",
       "<table border=\"1\" class=\"dataframe\">\n",
       "  <thead>\n",
       "    <tr style=\"text-align: right;\">\n",
       "      <th></th>\n",
       "      <th>sales</th>\n",
       "    </tr>\n",
       "    <tr>\n",
       "      <th>date</th>\n",
       "      <th></th>\n",
       "    </tr>\n",
       "  </thead>\n",
       "  <tbody>\n",
       "    <tr>\n",
       "      <th>2022-01-01</th>\n",
       "      <td>77</td>\n",
       "    </tr>\n",
       "    <tr>\n",
       "      <th>2022-01-02</th>\n",
       "      <td>89</td>\n",
       "    </tr>\n",
       "    <tr>\n",
       "      <th>2022-01-03</th>\n",
       "      <td>78</td>\n",
       "    </tr>\n",
       "    <tr>\n",
       "      <th>2022-01-04</th>\n",
       "      <td>73</td>\n",
       "    </tr>\n",
       "    <tr>\n",
       "      <th>2022-01-05</th>\n",
       "      <td>24</td>\n",
       "    </tr>\n",
       "  </tbody>\n",
       "</table>\n",
       "</div>"
      ],
      "text/plain": [
       "            sales\n",
       "date             \n",
       "2022-01-01     77\n",
       "2022-01-02     89\n",
       "2022-01-03     78\n",
       "2022-01-04     73\n",
       "2022-01-05     24"
      ]
     },
     "execution_count": 9,
     "metadata": {},
     "output_type": "execute_result"
    }
   ],
   "source": [
    "data_df.head()"
   ]
  },
  {
   "cell_type": "markdown",
   "id": "1da4dfbd-f8d4-42dc-a534-cc05bf287fc4",
   "metadata": {},
   "source": [
    "<br>\n",
    "\n",
    "Pomocí metody `resample` současně hodnoty agregujeme a snížíme frekvenci:"
   ]
  },
  {
   "cell_type": "code",
   "execution_count": 13,
   "id": "b562ee63-3a3e-4b7b-865a-08dfe9644be6",
   "metadata": {},
   "outputs": [
    {
     "data": {
      "text/plain": [
       "'2.0.3'"
      ]
     },
     "execution_count": 13,
     "metadata": {},
     "output_type": "execute_result"
    }
   ],
   "source": [
    "pd.__version__"
   ]
  },
  {
   "cell_type": "code",
   "execution_count": 20,
   "id": "bedb19b0-6c2a-4817-977c-79faa15ef983",
   "metadata": {
    "tags": []
   },
   "outputs": [],
   "source": [
    "mesicni_data_df = data_df.resample('M').sum()  # 'M'/'ME' - end of the month"
   ]
  },
  {
   "cell_type": "code",
   "execution_count": 21,
   "id": "9c1daaf6-3185-45e7-80f4-6af62150efc7",
   "metadata": {
    "tags": []
   },
   "outputs": [
    {
     "data": {
      "text/html": [
       "<div>\n",
       "<style scoped>\n",
       "    .dataframe tbody tr th:only-of-type {\n",
       "        vertical-align: middle;\n",
       "    }\n",
       "\n",
       "    .dataframe tbody tr th {\n",
       "        vertical-align: top;\n",
       "    }\n",
       "\n",
       "    .dataframe thead th {\n",
       "        text-align: right;\n",
       "    }\n",
       "</style>\n",
       "<table border=\"1\" class=\"dataframe\">\n",
       "  <thead>\n",
       "    <tr style=\"text-align: right;\">\n",
       "      <th></th>\n",
       "      <th>sales</th>\n",
       "    </tr>\n",
       "    <tr>\n",
       "      <th>date</th>\n",
       "      <th></th>\n",
       "    </tr>\n",
       "  </thead>\n",
       "  <tbody>\n",
       "    <tr>\n",
       "      <th>2022-01-31</th>\n",
       "      <td>1564</td>\n",
       "    </tr>\n",
       "    <tr>\n",
       "      <th>2022-02-28</th>\n",
       "      <td>1760</td>\n",
       "    </tr>\n",
       "    <tr>\n",
       "      <th>2022-03-31</th>\n",
       "      <td>18</td>\n",
       "    </tr>\n",
       "  </tbody>\n",
       "</table>\n",
       "</div>"
      ],
      "text/plain": [
       "            sales\n",
       "date             \n",
       "2022-01-31   1564\n",
       "2022-02-28   1760\n",
       "2022-03-31     18"
      ]
     },
     "execution_count": 21,
     "metadata": {},
     "output_type": "execute_result"
    }
   ],
   "source": [
    "mesicni_data_df"
   ]
  },
  {
   "cell_type": "code",
   "execution_count": 22,
   "id": "d00db650-5ea0-4f5a-825f-54cde92457bf",
   "metadata": {},
   "outputs": [
    {
     "data": {
      "text/html": [
       "<div>\n",
       "<style scoped>\n",
       "    .dataframe tbody tr th:only-of-type {\n",
       "        vertical-align: middle;\n",
       "    }\n",
       "\n",
       "    .dataframe tbody tr th {\n",
       "        vertical-align: top;\n",
       "    }\n",
       "\n",
       "    .dataframe thead th {\n",
       "        text-align: right;\n",
       "    }\n",
       "</style>\n",
       "<table border=\"1\" class=\"dataframe\">\n",
       "  <thead>\n",
       "    <tr style=\"text-align: right;\">\n",
       "      <th></th>\n",
       "      <th>sales</th>\n",
       "    </tr>\n",
       "    <tr>\n",
       "      <th>date</th>\n",
       "      <th></th>\n",
       "    </tr>\n",
       "  </thead>\n",
       "  <tbody>\n",
       "    <tr>\n",
       "      <th>2022-02-25</th>\n",
       "      <td>96</td>\n",
       "    </tr>\n",
       "    <tr>\n",
       "      <th>2022-02-26</th>\n",
       "      <td>34</td>\n",
       "    </tr>\n",
       "    <tr>\n",
       "      <th>2022-02-27</th>\n",
       "      <td>85</td>\n",
       "    </tr>\n",
       "    <tr>\n",
       "      <th>2022-02-28</th>\n",
       "      <td>59</td>\n",
       "    </tr>\n",
       "    <tr>\n",
       "      <th>2022-03-01</th>\n",
       "      <td>18</td>\n",
       "    </tr>\n",
       "  </tbody>\n",
       "</table>\n",
       "</div>"
      ],
      "text/plain": [
       "            sales\n",
       "date             \n",
       "2022-02-25     96\n",
       "2022-02-26     34\n",
       "2022-02-27     85\n",
       "2022-02-28     59\n",
       "2022-03-01     18"
      ]
     },
     "execution_count": 22,
     "metadata": {},
     "output_type": "execute_result"
    }
   ],
   "source": [
    "data_df.tail()"
   ]
  },
  {
   "cell_type": "markdown",
   "id": "41d14b79-3633-4ef2-a31c-077d5f78aeb4",
   "metadata": {},
   "source": [
    "<br>\n",
    "\n",
    "Upravit původní vzorek dat na zamýšlenou frekvenci, tedy `W`:"
   ]
  },
  {
   "cell_type": "code",
   "execution_count": 42,
   "id": "38a6a7cd-4539-43cc-92f4-979cd38078e1",
   "metadata": {},
   "outputs": [],
   "source": [
    "tydenni_data_df = data_df.resample('W').mean().round(1)"
   ]
  },
  {
   "cell_type": "code",
   "execution_count": 43,
   "id": "e4862fca-26e2-4c9a-8c86-18b0761aa50f",
   "metadata": {},
   "outputs": [
    {
     "data": {
      "text/html": [
       "<div>\n",
       "<style scoped>\n",
       "    .dataframe tbody tr th:only-of-type {\n",
       "        vertical-align: middle;\n",
       "    }\n",
       "\n",
       "    .dataframe tbody tr th {\n",
       "        vertical-align: top;\n",
       "    }\n",
       "\n",
       "    .dataframe thead th {\n",
       "        text-align: right;\n",
       "    }\n",
       "</style>\n",
       "<table border=\"1\" class=\"dataframe\">\n",
       "  <thead>\n",
       "    <tr style=\"text-align: right;\">\n",
       "      <th></th>\n",
       "      <th>sales</th>\n",
       "    </tr>\n",
       "    <tr>\n",
       "      <th>date</th>\n",
       "      <th></th>\n",
       "    </tr>\n",
       "  </thead>\n",
       "  <tbody>\n",
       "    <tr>\n",
       "      <th>2022-01-02</th>\n",
       "      <td>83.0</td>\n",
       "    </tr>\n",
       "    <tr>\n",
       "      <th>2022-01-09</th>\n",
       "      <td>44.3</td>\n",
       "    </tr>\n",
       "    <tr>\n",
       "      <th>2022-01-16</th>\n",
       "      <td>62.6</td>\n",
       "    </tr>\n",
       "    <tr>\n",
       "      <th>2022-01-23</th>\n",
       "      <td>41.4</td>\n",
       "    </tr>\n",
       "    <tr>\n",
       "      <th>2022-01-30</th>\n",
       "      <td>39.4</td>\n",
       "    </tr>\n",
       "    <tr>\n",
       "      <th>2022-02-06</th>\n",
       "      <td>67.0</td>\n",
       "    </tr>\n",
       "    <tr>\n",
       "      <th>2022-02-13</th>\n",
       "      <td>67.0</td>\n",
       "    </tr>\n",
       "    <tr>\n",
       "      <th>2022-02-20</th>\n",
       "      <td>60.7</td>\n",
       "    </tr>\n",
       "    <tr>\n",
       "      <th>2022-02-27</th>\n",
       "      <td>60.3</td>\n",
       "    </tr>\n",
       "    <tr>\n",
       "      <th>2022-03-06</th>\n",
       "      <td>38.5</td>\n",
       "    </tr>\n",
       "  </tbody>\n",
       "</table>\n",
       "</div>"
      ],
      "text/plain": [
       "            sales\n",
       "date             \n",
       "2022-01-02   83.0\n",
       "2022-01-09   44.3\n",
       "2022-01-16   62.6\n",
       "2022-01-23   41.4\n",
       "2022-01-30   39.4\n",
       "2022-02-06   67.0\n",
       "2022-02-13   67.0\n",
       "2022-02-20   60.7\n",
       "2022-02-27   60.3\n",
       "2022-03-06   38.5"
      ]
     },
     "execution_count": 43,
     "metadata": {},
     "output_type": "execute_result"
    }
   ],
   "source": [
    "tydenni_data_df"
   ]
  },
  {
   "cell_type": "code",
   "execution_count": 26,
   "id": "a4a730f2-36d3-4f44-b08d-b3a94669fd06",
   "metadata": {},
   "outputs": [],
   "source": [
    "from pandas import to_datetime"
   ]
  },
  {
   "cell_type": "code",
   "execution_count": 31,
   "id": "292c6c3f-3cb1-4799-bcec-f386afbd6528",
   "metadata": {},
   "outputs": [
    {
     "data": {
      "text/plain": [
       "'Sunday'"
      ]
     },
     "execution_count": 31,
     "metadata": {},
     "output_type": "execute_result"
    }
   ],
   "source": [
    "to_datetime('2022-01-02').day_name()"
   ]
  },
  {
   "cell_type": "markdown",
   "id": "cdc05c60-1932-4222-9ab1-d21474d8b302",
   "metadata": {},
   "source": [
    "<br>\n",
    "\n",
    "### Zpřesňování\n",
    "\n",
    "---\n",
    "\n",
    "Zahrnuje **zvýšení frekvence časových řad**.\n",
    "\n",
    "Přičemž se nově vytvořené hodnoty obvykle interpolují nebo doplňují nějakou konstantou.\n",
    "\n",
    "V pandas se k zpřesňování používá metoda `asfreq`, která má jako parametr **novou frekvenci**, na kterou chcete data převést."
   ]
  },
  {
   "cell_type": "code",
   "execution_count": 44,
   "id": "643c9e87-07ee-444a-9704-b0976558b9e1",
   "metadata": {
    "tags": []
   },
   "outputs": [],
   "source": [
    "data = {'date': pd.date_range(start='2022-01-01', end='2022-03-01', freq='D'),\n",
    "        'sales': np.random.randint(10, 150, size=60)}  # Opatrně na délky sekvencí"
   ]
  },
  {
   "cell_type": "code",
   "execution_count": 45,
   "id": "f47866ee-5b57-489d-81bc-639d41344f82",
   "metadata": {
    "tags": []
   },
   "outputs": [],
   "source": [
    "dalsi_data_df = pd.DataFrame(data)"
   ]
  },
  {
   "cell_type": "code",
   "execution_count": 46,
   "id": "b78fd132-e801-44f4-bfc6-9a4ce57edbb5",
   "metadata": {
    "tags": []
   },
   "outputs": [
    {
     "data": {
      "text/html": [
       "<div>\n",
       "<style scoped>\n",
       "    .dataframe tbody tr th:only-of-type {\n",
       "        vertical-align: middle;\n",
       "    }\n",
       "\n",
       "    .dataframe tbody tr th {\n",
       "        vertical-align: top;\n",
       "    }\n",
       "\n",
       "    .dataframe thead th {\n",
       "        text-align: right;\n",
       "    }\n",
       "</style>\n",
       "<table border=\"1\" class=\"dataframe\">\n",
       "  <thead>\n",
       "    <tr style=\"text-align: right;\">\n",
       "      <th></th>\n",
       "      <th>date</th>\n",
       "      <th>sales</th>\n",
       "    </tr>\n",
       "  </thead>\n",
       "  <tbody>\n",
       "    <tr>\n",
       "      <th>0</th>\n",
       "      <td>2022-01-01</td>\n",
       "      <td>40</td>\n",
       "    </tr>\n",
       "    <tr>\n",
       "      <th>1</th>\n",
       "      <td>2022-01-02</td>\n",
       "      <td>139</td>\n",
       "    </tr>\n",
       "    <tr>\n",
       "      <th>2</th>\n",
       "      <td>2022-01-03</td>\n",
       "      <td>113</td>\n",
       "    </tr>\n",
       "    <tr>\n",
       "      <th>3</th>\n",
       "      <td>2022-01-04</td>\n",
       "      <td>126</td>\n",
       "    </tr>\n",
       "    <tr>\n",
       "      <th>4</th>\n",
       "      <td>2022-01-05</td>\n",
       "      <td>40</td>\n",
       "    </tr>\n",
       "  </tbody>\n",
       "</table>\n",
       "</div>"
      ],
      "text/plain": [
       "        date  sales\n",
       "0 2022-01-01     40\n",
       "1 2022-01-02    139\n",
       "2 2022-01-03    113\n",
       "3 2022-01-04    126\n",
       "4 2022-01-05     40"
      ]
     },
     "execution_count": 46,
     "metadata": {},
     "output_type": "execute_result"
    }
   ],
   "source": [
    "dalsi_data_df.head()"
   ]
  },
  {
   "cell_type": "code",
   "execution_count": 47,
   "id": "5a54e8b2-aee2-4d42-a924-6186fc33d5c0",
   "metadata": {
    "tags": []
   },
   "outputs": [],
   "source": [
    "dalsi_data_df.set_index('date', inplace=True)"
   ]
  },
  {
   "cell_type": "code",
   "execution_count": 50,
   "id": "aac911c2-5ab7-4a5d-9406-7d7202d17dd7",
   "metadata": {},
   "outputs": [
    {
     "data": {
      "text/html": [
       "<div>\n",
       "<style scoped>\n",
       "    .dataframe tbody tr th:only-of-type {\n",
       "        vertical-align: middle;\n",
       "    }\n",
       "\n",
       "    .dataframe tbody tr th {\n",
       "        vertical-align: top;\n",
       "    }\n",
       "\n",
       "    .dataframe thead th {\n",
       "        text-align: right;\n",
       "    }\n",
       "</style>\n",
       "<table border=\"1\" class=\"dataframe\">\n",
       "  <thead>\n",
       "    <tr style=\"text-align: right;\">\n",
       "      <th></th>\n",
       "      <th>sales</th>\n",
       "    </tr>\n",
       "    <tr>\n",
       "      <th>date</th>\n",
       "      <th></th>\n",
       "    </tr>\n",
       "  </thead>\n",
       "  <tbody>\n",
       "    <tr>\n",
       "      <th>2022-01-01</th>\n",
       "      <td>40</td>\n",
       "    </tr>\n",
       "    <tr>\n",
       "      <th>2022-01-02</th>\n",
       "      <td>139</td>\n",
       "    </tr>\n",
       "    <tr>\n",
       "      <th>2022-01-03</th>\n",
       "      <td>113</td>\n",
       "    </tr>\n",
       "    <tr>\n",
       "      <th>2022-01-04</th>\n",
       "      <td>126</td>\n",
       "    </tr>\n",
       "    <tr>\n",
       "      <th>2022-01-05</th>\n",
       "      <td>40</td>\n",
       "    </tr>\n",
       "    <tr>\n",
       "      <th>2022-01-06</th>\n",
       "      <td>85</td>\n",
       "    </tr>\n",
       "    <tr>\n",
       "      <th>2022-01-07</th>\n",
       "      <td>84</td>\n",
       "    </tr>\n",
       "    <tr>\n",
       "      <th>2022-01-08</th>\n",
       "      <td>71</td>\n",
       "    </tr>\n",
       "    <tr>\n",
       "      <th>2022-01-09</th>\n",
       "      <td>19</td>\n",
       "    </tr>\n",
       "    <tr>\n",
       "      <th>2022-01-10</th>\n",
       "      <td>144</td>\n",
       "    </tr>\n",
       "  </tbody>\n",
       "</table>\n",
       "</div>"
      ],
      "text/plain": [
       "            sales\n",
       "date             \n",
       "2022-01-01     40\n",
       "2022-01-02    139\n",
       "2022-01-03    113\n",
       "2022-01-04    126\n",
       "2022-01-05     40\n",
       "2022-01-06     85\n",
       "2022-01-07     84\n",
       "2022-01-08     71\n",
       "2022-01-09     19\n",
       "2022-01-10    144"
      ]
     },
     "execution_count": 50,
     "metadata": {},
     "output_type": "execute_result"
    }
   ],
   "source": [
    "dalsi_data_df.head(10)"
   ]
  },
  {
   "cell_type": "code",
   "execution_count": 48,
   "id": "f5c17702-bc48-4b31-bd92-0889824d28e0",
   "metadata": {
    "tags": []
   },
   "outputs": [],
   "source": [
    "denni_data = dalsi_data_df.asfreq('H')"
   ]
  },
  {
   "cell_type": "markdown",
   "id": "88e5626d-017b-4db7-bae9-331c37fca0be",
   "metadata": {},
   "source": [
    "<br>\n",
    "\n",
    "Pokud nezadáš hodnotu pro výplňovací parametr, uvidíš prázdné hodnoty `NaN`:"
   ]
  },
  {
   "cell_type": "code",
   "execution_count": 52,
   "id": "413b2aa8-b77c-4599-87d1-7cf0bda07ef7",
   "metadata": {
    "tags": []
   },
   "outputs": [
    {
     "data": {
      "text/html": [
       "<div>\n",
       "<style scoped>\n",
       "    .dataframe tbody tr th:only-of-type {\n",
       "        vertical-align: middle;\n",
       "    }\n",
       "\n",
       "    .dataframe tbody tr th {\n",
       "        vertical-align: top;\n",
       "    }\n",
       "\n",
       "    .dataframe thead th {\n",
       "        text-align: right;\n",
       "    }\n",
       "</style>\n",
       "<table border=\"1\" class=\"dataframe\">\n",
       "  <thead>\n",
       "    <tr style=\"text-align: right;\">\n",
       "      <th></th>\n",
       "      <th>sales</th>\n",
       "    </tr>\n",
       "    <tr>\n",
       "      <th>date</th>\n",
       "      <th></th>\n",
       "    </tr>\n",
       "  </thead>\n",
       "  <tbody>\n",
       "    <tr>\n",
       "      <th>2022-01-01 00:00:00</th>\n",
       "      <td>40.0</td>\n",
       "    </tr>\n",
       "    <tr>\n",
       "      <th>2022-01-01 01:00:00</th>\n",
       "      <td>NaN</td>\n",
       "    </tr>\n",
       "    <tr>\n",
       "      <th>2022-01-01 02:00:00</th>\n",
       "      <td>NaN</td>\n",
       "    </tr>\n",
       "    <tr>\n",
       "      <th>2022-01-01 03:00:00</th>\n",
       "      <td>NaN</td>\n",
       "    </tr>\n",
       "    <tr>\n",
       "      <th>2022-01-01 04:00:00</th>\n",
       "      <td>NaN</td>\n",
       "    </tr>\n",
       "    <tr>\n",
       "      <th>2022-01-01 05:00:00</th>\n",
       "      <td>NaN</td>\n",
       "    </tr>\n",
       "    <tr>\n",
       "      <th>2022-01-01 06:00:00</th>\n",
       "      <td>NaN</td>\n",
       "    </tr>\n",
       "    <tr>\n",
       "      <th>2022-01-01 07:00:00</th>\n",
       "      <td>NaN</td>\n",
       "    </tr>\n",
       "    <tr>\n",
       "      <th>2022-01-01 08:00:00</th>\n",
       "      <td>NaN</td>\n",
       "    </tr>\n",
       "    <tr>\n",
       "      <th>2022-01-01 09:00:00</th>\n",
       "      <td>NaN</td>\n",
       "    </tr>\n",
       "    <tr>\n",
       "      <th>2022-01-01 10:00:00</th>\n",
       "      <td>NaN</td>\n",
       "    </tr>\n",
       "    <tr>\n",
       "      <th>2022-01-01 11:00:00</th>\n",
       "      <td>NaN</td>\n",
       "    </tr>\n",
       "    <tr>\n",
       "      <th>2022-01-01 12:00:00</th>\n",
       "      <td>NaN</td>\n",
       "    </tr>\n",
       "    <tr>\n",
       "      <th>2022-01-01 13:00:00</th>\n",
       "      <td>NaN</td>\n",
       "    </tr>\n",
       "    <tr>\n",
       "      <th>2022-01-01 14:00:00</th>\n",
       "      <td>NaN</td>\n",
       "    </tr>\n",
       "    <tr>\n",
       "      <th>2022-01-01 15:00:00</th>\n",
       "      <td>NaN</td>\n",
       "    </tr>\n",
       "    <tr>\n",
       "      <th>2022-01-01 16:00:00</th>\n",
       "      <td>NaN</td>\n",
       "    </tr>\n",
       "    <tr>\n",
       "      <th>2022-01-01 17:00:00</th>\n",
       "      <td>NaN</td>\n",
       "    </tr>\n",
       "    <tr>\n",
       "      <th>2022-01-01 18:00:00</th>\n",
       "      <td>NaN</td>\n",
       "    </tr>\n",
       "    <tr>\n",
       "      <th>2022-01-01 19:00:00</th>\n",
       "      <td>NaN</td>\n",
       "    </tr>\n",
       "    <tr>\n",
       "      <th>2022-01-01 20:00:00</th>\n",
       "      <td>NaN</td>\n",
       "    </tr>\n",
       "    <tr>\n",
       "      <th>2022-01-01 21:00:00</th>\n",
       "      <td>NaN</td>\n",
       "    </tr>\n",
       "    <tr>\n",
       "      <th>2022-01-01 22:00:00</th>\n",
       "      <td>NaN</td>\n",
       "    </tr>\n",
       "    <tr>\n",
       "      <th>2022-01-01 23:00:00</th>\n",
       "      <td>NaN</td>\n",
       "    </tr>\n",
       "    <tr>\n",
       "      <th>2022-01-02 00:00:00</th>\n",
       "      <td>139.0</td>\n",
       "    </tr>\n",
       "  </tbody>\n",
       "</table>\n",
       "</div>"
      ],
      "text/plain": [
       "                     sales\n",
       "date                      \n",
       "2022-01-01 00:00:00   40.0\n",
       "2022-01-01 01:00:00    NaN\n",
       "2022-01-01 02:00:00    NaN\n",
       "2022-01-01 03:00:00    NaN\n",
       "2022-01-01 04:00:00    NaN\n",
       "2022-01-01 05:00:00    NaN\n",
       "2022-01-01 06:00:00    NaN\n",
       "2022-01-01 07:00:00    NaN\n",
       "2022-01-01 08:00:00    NaN\n",
       "2022-01-01 09:00:00    NaN\n",
       "2022-01-01 10:00:00    NaN\n",
       "2022-01-01 11:00:00    NaN\n",
       "2022-01-01 12:00:00    NaN\n",
       "2022-01-01 13:00:00    NaN\n",
       "2022-01-01 14:00:00    NaN\n",
       "2022-01-01 15:00:00    NaN\n",
       "2022-01-01 16:00:00    NaN\n",
       "2022-01-01 17:00:00    NaN\n",
       "2022-01-01 18:00:00    NaN\n",
       "2022-01-01 19:00:00    NaN\n",
       "2022-01-01 20:00:00    NaN\n",
       "2022-01-01 21:00:00    NaN\n",
       "2022-01-01 22:00:00    NaN\n",
       "2022-01-01 23:00:00    NaN\n",
       "2022-01-02 00:00:00  139.0"
      ]
     },
     "execution_count": 52,
     "metadata": {},
     "output_type": "execute_result"
    }
   ],
   "source": [
    "denni_data.head(25)"
   ]
  },
  {
   "cell_type": "markdown",
   "id": "d32a28bc-2a29-4b69-8585-6f2e6be29022",
   "metadata": {},
   "source": [
    "Metoda `asfreq` bere jako parametr novou frekvenci, na kterou chceme data převést.\n",
    "\n",
    "V případě výše jde o frekvenci `H`, což znamená **hodinová data**.\n",
    "\n",
    "Protože při zpřesňování se **vytvoří chybějící hodnoty** (v důsledku zvýšení frekvence), je potřeba zvolit metodu pro jejich doplnění."
   ]
  },
  {
   "cell_type": "code",
   "execution_count": 53,
   "id": "1f4abcdf-0750-42e8-984a-e726b5e00b33",
   "metadata": {},
   "outputs": [],
   "source": [
    "denni_data_df = dalsi_data_df.asfreq('H', method='ffill')  # ffill, bfill"
   ]
  },
  {
   "cell_type": "code",
   "execution_count": 56,
   "id": "438d5863-c34f-46f4-bbd1-0c146b3211d0",
   "metadata": {},
   "outputs": [
    {
     "data": {
      "text/html": [
       "<div>\n",
       "<style scoped>\n",
       "    .dataframe tbody tr th:only-of-type {\n",
       "        vertical-align: middle;\n",
       "    }\n",
       "\n",
       "    .dataframe tbody tr th {\n",
       "        vertical-align: top;\n",
       "    }\n",
       "\n",
       "    .dataframe thead th {\n",
       "        text-align: right;\n",
       "    }\n",
       "</style>\n",
       "<table border=\"1\" class=\"dataframe\">\n",
       "  <thead>\n",
       "    <tr style=\"text-align: right;\">\n",
       "      <th></th>\n",
       "      <th>sales</th>\n",
       "    </tr>\n",
       "    <tr>\n",
       "      <th>date</th>\n",
       "      <th></th>\n",
       "    </tr>\n",
       "  </thead>\n",
       "  <tbody>\n",
       "    <tr>\n",
       "      <th>2022-01-01 00:00:00</th>\n",
       "      <td>40</td>\n",
       "    </tr>\n",
       "    <tr>\n",
       "      <th>2022-01-01 01:00:00</th>\n",
       "      <td>40</td>\n",
       "    </tr>\n",
       "    <tr>\n",
       "      <th>2022-01-01 02:00:00</th>\n",
       "      <td>40</td>\n",
       "    </tr>\n",
       "    <tr>\n",
       "      <th>2022-01-01 03:00:00</th>\n",
       "      <td>40</td>\n",
       "    </tr>\n",
       "    <tr>\n",
       "      <th>2022-01-01 04:00:00</th>\n",
       "      <td>40</td>\n",
       "    </tr>\n",
       "    <tr>\n",
       "      <th>2022-01-01 05:00:00</th>\n",
       "      <td>40</td>\n",
       "    </tr>\n",
       "    <tr>\n",
       "      <th>2022-01-01 06:00:00</th>\n",
       "      <td>40</td>\n",
       "    </tr>\n",
       "    <tr>\n",
       "      <th>2022-01-01 07:00:00</th>\n",
       "      <td>40</td>\n",
       "    </tr>\n",
       "    <tr>\n",
       "      <th>2022-01-01 08:00:00</th>\n",
       "      <td>40</td>\n",
       "    </tr>\n",
       "    <tr>\n",
       "      <th>2022-01-01 09:00:00</th>\n",
       "      <td>40</td>\n",
       "    </tr>\n",
       "    <tr>\n",
       "      <th>2022-01-01 10:00:00</th>\n",
       "      <td>40</td>\n",
       "    </tr>\n",
       "    <tr>\n",
       "      <th>2022-01-01 11:00:00</th>\n",
       "      <td>40</td>\n",
       "    </tr>\n",
       "    <tr>\n",
       "      <th>2022-01-01 12:00:00</th>\n",
       "      <td>40</td>\n",
       "    </tr>\n",
       "    <tr>\n",
       "      <th>2022-01-01 13:00:00</th>\n",
       "      <td>40</td>\n",
       "    </tr>\n",
       "    <tr>\n",
       "      <th>2022-01-01 14:00:00</th>\n",
       "      <td>40</td>\n",
       "    </tr>\n",
       "    <tr>\n",
       "      <th>2022-01-01 15:00:00</th>\n",
       "      <td>40</td>\n",
       "    </tr>\n",
       "    <tr>\n",
       "      <th>2022-01-01 16:00:00</th>\n",
       "      <td>40</td>\n",
       "    </tr>\n",
       "    <tr>\n",
       "      <th>2022-01-01 17:00:00</th>\n",
       "      <td>40</td>\n",
       "    </tr>\n",
       "    <tr>\n",
       "      <th>2022-01-01 18:00:00</th>\n",
       "      <td>40</td>\n",
       "    </tr>\n",
       "    <tr>\n",
       "      <th>2022-01-01 19:00:00</th>\n",
       "      <td>40</td>\n",
       "    </tr>\n",
       "    <tr>\n",
       "      <th>2022-01-01 20:00:00</th>\n",
       "      <td>40</td>\n",
       "    </tr>\n",
       "    <tr>\n",
       "      <th>2022-01-01 21:00:00</th>\n",
       "      <td>40</td>\n",
       "    </tr>\n",
       "    <tr>\n",
       "      <th>2022-01-01 22:00:00</th>\n",
       "      <td>40</td>\n",
       "    </tr>\n",
       "    <tr>\n",
       "      <th>2022-01-01 23:00:00</th>\n",
       "      <td>40</td>\n",
       "    </tr>\n",
       "    <tr>\n",
       "      <th>2022-01-02 00:00:00</th>\n",
       "      <td>139</td>\n",
       "    </tr>\n",
       "    <tr>\n",
       "      <th>2022-01-02 01:00:00</th>\n",
       "      <td>139</td>\n",
       "    </tr>\n",
       "  </tbody>\n",
       "</table>\n",
       "</div>"
      ],
      "text/plain": [
       "                     sales\n",
       "date                      \n",
       "2022-01-01 00:00:00     40\n",
       "2022-01-01 01:00:00     40\n",
       "2022-01-01 02:00:00     40\n",
       "2022-01-01 03:00:00     40\n",
       "2022-01-01 04:00:00     40\n",
       "2022-01-01 05:00:00     40\n",
       "2022-01-01 06:00:00     40\n",
       "2022-01-01 07:00:00     40\n",
       "2022-01-01 08:00:00     40\n",
       "2022-01-01 09:00:00     40\n",
       "2022-01-01 10:00:00     40\n",
       "2022-01-01 11:00:00     40\n",
       "2022-01-01 12:00:00     40\n",
       "2022-01-01 13:00:00     40\n",
       "2022-01-01 14:00:00     40\n",
       "2022-01-01 15:00:00     40\n",
       "2022-01-01 16:00:00     40\n",
       "2022-01-01 17:00:00     40\n",
       "2022-01-01 18:00:00     40\n",
       "2022-01-01 19:00:00     40\n",
       "2022-01-01 20:00:00     40\n",
       "2022-01-01 21:00:00     40\n",
       "2022-01-01 22:00:00     40\n",
       "2022-01-01 23:00:00     40\n",
       "2022-01-02 00:00:00    139\n",
       "2022-01-02 01:00:00    139"
      ]
     },
     "execution_count": 56,
     "metadata": {},
     "output_type": "execute_result"
    }
   ],
   "source": [
    "denni_data_df.head(26)"
   ]
  },
  {
   "cell_type": "markdown",
   "id": "1d07eadb-f7d7-4722-994b-6e8af5ce2d4e",
   "metadata": {},
   "source": [
    "Výš jde o metodu `forward fill` (parametr `method='ffill'`), která kopíruje předchozí hodnotu pro výplň chybějících hodnot.\n",
    "\n",
    "Další možností je použít metodu `'back fill'` (parametr `method='bfill'`), která kopíruje následující hodnotu pro výplň chybějících hodnot."
   ]
  },
  {
   "cell_type": "code",
   "execution_count": 57,
   "id": "38970767-11e2-40b7-9032-03e855dae614",
   "metadata": {},
   "outputs": [],
   "source": [
    "denni_data = dalsi_data_df.asfreq('H', method='bfill')"
   ]
  },
  {
   "cell_type": "code",
   "execution_count": 58,
   "id": "76555a7d-6336-433f-b6ab-8a5948980d59",
   "metadata": {},
   "outputs": [
    {
     "data": {
      "text/html": [
       "<div>\n",
       "<style scoped>\n",
       "    .dataframe tbody tr th:only-of-type {\n",
       "        vertical-align: middle;\n",
       "    }\n",
       "\n",
       "    .dataframe tbody tr th {\n",
       "        vertical-align: top;\n",
       "    }\n",
       "\n",
       "    .dataframe thead th {\n",
       "        text-align: right;\n",
       "    }\n",
       "</style>\n",
       "<table border=\"1\" class=\"dataframe\">\n",
       "  <thead>\n",
       "    <tr style=\"text-align: right;\">\n",
       "      <th></th>\n",
       "      <th>sales</th>\n",
       "    </tr>\n",
       "    <tr>\n",
       "      <th>date</th>\n",
       "      <th></th>\n",
       "    </tr>\n",
       "  </thead>\n",
       "  <tbody>\n",
       "    <tr>\n",
       "      <th>2022-01-01 00:00:00</th>\n",
       "      <td>40</td>\n",
       "    </tr>\n",
       "    <tr>\n",
       "      <th>2022-01-01 01:00:00</th>\n",
       "      <td>139</td>\n",
       "    </tr>\n",
       "    <tr>\n",
       "      <th>2022-01-01 02:00:00</th>\n",
       "      <td>139</td>\n",
       "    </tr>\n",
       "    <tr>\n",
       "      <th>2022-01-01 03:00:00</th>\n",
       "      <td>139</td>\n",
       "    </tr>\n",
       "    <tr>\n",
       "      <th>2022-01-01 04:00:00</th>\n",
       "      <td>139</td>\n",
       "    </tr>\n",
       "    <tr>\n",
       "      <th>2022-01-01 05:00:00</th>\n",
       "      <td>139</td>\n",
       "    </tr>\n",
       "    <tr>\n",
       "      <th>2022-01-01 06:00:00</th>\n",
       "      <td>139</td>\n",
       "    </tr>\n",
       "    <tr>\n",
       "      <th>2022-01-01 07:00:00</th>\n",
       "      <td>139</td>\n",
       "    </tr>\n",
       "    <tr>\n",
       "      <th>2022-01-01 08:00:00</th>\n",
       "      <td>139</td>\n",
       "    </tr>\n",
       "    <tr>\n",
       "      <th>2022-01-01 09:00:00</th>\n",
       "      <td>139</td>\n",
       "    </tr>\n",
       "    <tr>\n",
       "      <th>2022-01-01 10:00:00</th>\n",
       "      <td>139</td>\n",
       "    </tr>\n",
       "    <tr>\n",
       "      <th>2022-01-01 11:00:00</th>\n",
       "      <td>139</td>\n",
       "    </tr>\n",
       "    <tr>\n",
       "      <th>2022-01-01 12:00:00</th>\n",
       "      <td>139</td>\n",
       "    </tr>\n",
       "    <tr>\n",
       "      <th>2022-01-01 13:00:00</th>\n",
       "      <td>139</td>\n",
       "    </tr>\n",
       "    <tr>\n",
       "      <th>2022-01-01 14:00:00</th>\n",
       "      <td>139</td>\n",
       "    </tr>\n",
       "    <tr>\n",
       "      <th>2022-01-01 15:00:00</th>\n",
       "      <td>139</td>\n",
       "    </tr>\n",
       "    <tr>\n",
       "      <th>2022-01-01 16:00:00</th>\n",
       "      <td>139</td>\n",
       "    </tr>\n",
       "    <tr>\n",
       "      <th>2022-01-01 17:00:00</th>\n",
       "      <td>139</td>\n",
       "    </tr>\n",
       "    <tr>\n",
       "      <th>2022-01-01 18:00:00</th>\n",
       "      <td>139</td>\n",
       "    </tr>\n",
       "    <tr>\n",
       "      <th>2022-01-01 19:00:00</th>\n",
       "      <td>139</td>\n",
       "    </tr>\n",
       "    <tr>\n",
       "      <th>2022-01-01 20:00:00</th>\n",
       "      <td>139</td>\n",
       "    </tr>\n",
       "    <tr>\n",
       "      <th>2022-01-01 21:00:00</th>\n",
       "      <td>139</td>\n",
       "    </tr>\n",
       "    <tr>\n",
       "      <th>2022-01-01 22:00:00</th>\n",
       "      <td>139</td>\n",
       "    </tr>\n",
       "    <tr>\n",
       "      <th>2022-01-01 23:00:00</th>\n",
       "      <td>139</td>\n",
       "    </tr>\n",
       "    <tr>\n",
       "      <th>2022-01-02 00:00:00</th>\n",
       "      <td>139</td>\n",
       "    </tr>\n",
       "  </tbody>\n",
       "</table>\n",
       "</div>"
      ],
      "text/plain": [
       "                     sales\n",
       "date                      \n",
       "2022-01-01 00:00:00     40\n",
       "2022-01-01 01:00:00    139\n",
       "2022-01-01 02:00:00    139\n",
       "2022-01-01 03:00:00    139\n",
       "2022-01-01 04:00:00    139\n",
       "2022-01-01 05:00:00    139\n",
       "2022-01-01 06:00:00    139\n",
       "2022-01-01 07:00:00    139\n",
       "2022-01-01 08:00:00    139\n",
       "2022-01-01 09:00:00    139\n",
       "2022-01-01 10:00:00    139\n",
       "2022-01-01 11:00:00    139\n",
       "2022-01-01 12:00:00    139\n",
       "2022-01-01 13:00:00    139\n",
       "2022-01-01 14:00:00    139\n",
       "2022-01-01 15:00:00    139\n",
       "2022-01-01 16:00:00    139\n",
       "2022-01-01 17:00:00    139\n",
       "2022-01-01 18:00:00    139\n",
       "2022-01-01 19:00:00    139\n",
       "2022-01-01 20:00:00    139\n",
       "2022-01-01 21:00:00    139\n",
       "2022-01-01 22:00:00    139\n",
       "2022-01-01 23:00:00    139\n",
       "2022-01-02 00:00:00    139"
      ]
     },
     "execution_count": 58,
     "metadata": {},
     "output_type": "execute_result"
    }
   ],
   "source": [
    "denni_data.head(25)"
   ]
  },
  {
   "cell_type": "code",
   "execution_count": 81,
   "id": "26145d84-0838-4179-85ba-c06e77d24c7b",
   "metadata": {},
   "outputs": [],
   "source": [
    "nova_rada_prodeju = (102,\n",
    " 72,\n",
    " 118,\n",
    " 108,\n",
    " 87,\n",
    " 140,\n",
    " 122,\n",
    " 110,\n",
    " 10,\n",
    " 102,\n",
    " 10,\n",
    " 139,\n",
    " 148,\n",
    " 86,\n",
    " 37,\n",
    " 66,\n",
    " 84,\n",
    " 127,\n",
    " 24,\n",
    " 114,\n",
    " 20,\n",
    " 102,\n",
    " 66,\n",
    " 29,\n",
    " 141,\n",
    " 50,\n",
    " 36,\n",
    " 60,\n",
    " 137,\n",
    " 104,\n",
    " 145,\n",
    " 147,\n",
    " 117,\n",
    " 118,\n",
    " 10,\n",
    " 112,\n",
    " 55,\n",
    " 43,\n",
    " 16,\n",
    " 112,\n",
    " 69,\n",
    " 136,\n",
    " 25,\n",
    " 91,\n",
    " 111,\n",
    " 59,\n",
    " 13,\n",
    " 114,\n",
    " 34,\n",
    " 63,\n",
    " 91,\n",
    " 82,\n",
    " 30,\n",
    " 77,\n",
    " 145,\n",
    " 133,\n",
    " 48,\n",
    " 61,\n",
    " 103)"
   ]
  },
  {
   "cell_type": "code",
   "execution_count": 62,
   "id": "68ee3bda-8b5b-4119-8f51-888b2a0b09b7",
   "metadata": {},
   "outputs": [],
   "source": [
    "data = {'date': pd.date_range(start='2022-01-01', end='2022-03-01', freq='D'),\n",
    "        'sales': nova_rada_prodeju}"
   ]
  },
  {
   "cell_type": "code",
   "execution_count": 64,
   "id": "d0c33881-4d6f-440c-a844-a27d61f4fe5e",
   "metadata": {},
   "outputs": [],
   "source": [
    "data_df = DataFrame(data)"
   ]
  },
  {
   "cell_type": "code",
   "execution_count": 65,
   "id": "569697ff-0467-4872-8d49-5defc43b9e63",
   "metadata": {},
   "outputs": [],
   "source": [
    "data_df.set_index('date', inplace=True)"
   ]
  },
  {
   "cell_type": "code",
   "execution_count": 66,
   "id": "ec8bf6a7-f4e6-4779-b797-231edd1cabe1",
   "metadata": {},
   "outputs": [
    {
     "data": {
      "text/html": [
       "<div>\n",
       "<style scoped>\n",
       "    .dataframe tbody tr th:only-of-type {\n",
       "        vertical-align: middle;\n",
       "    }\n",
       "\n",
       "    .dataframe tbody tr th {\n",
       "        vertical-align: top;\n",
       "    }\n",
       "\n",
       "    .dataframe thead th {\n",
       "        text-align: right;\n",
       "    }\n",
       "</style>\n",
       "<table border=\"1\" class=\"dataframe\">\n",
       "  <thead>\n",
       "    <tr style=\"text-align: right;\">\n",
       "      <th></th>\n",
       "      <th>sales</th>\n",
       "    </tr>\n",
       "    <tr>\n",
       "      <th>date</th>\n",
       "      <th></th>\n",
       "    </tr>\n",
       "  </thead>\n",
       "  <tbody>\n",
       "    <tr>\n",
       "      <th>2022-01-01</th>\n",
       "      <td>102.0</td>\n",
       "    </tr>\n",
       "    <tr>\n",
       "      <th>2022-01-02</th>\n",
       "      <td>NaN</td>\n",
       "    </tr>\n",
       "    <tr>\n",
       "      <th>2022-01-03</th>\n",
       "      <td>72.0</td>\n",
       "    </tr>\n",
       "    <tr>\n",
       "      <th>2022-01-04</th>\n",
       "      <td>118.0</td>\n",
       "    </tr>\n",
       "    <tr>\n",
       "      <th>2022-01-05</th>\n",
       "      <td>108.0</td>\n",
       "    </tr>\n",
       "  </tbody>\n",
       "</table>\n",
       "</div>"
      ],
      "text/plain": [
       "            sales\n",
       "date             \n",
       "2022-01-01  102.0\n",
       "2022-01-02    NaN\n",
       "2022-01-03   72.0\n",
       "2022-01-04  118.0\n",
       "2022-01-05  108.0"
      ]
     },
     "execution_count": 66,
     "metadata": {},
     "output_type": "execute_result"
    }
   ],
   "source": [
    "data_df.head()"
   ]
  },
  {
   "cell_type": "code",
   "execution_count": 77,
   "id": "ba0f7c39-3bfd-4f22-b361-44acd9859173",
   "metadata": {},
   "outputs": [
    {
     "data": {
      "text/plain": [
       "(Timestamp('2022-01-01 00:00:00'),\n",
       " Timestamp('2022-01-02 00:00:00'),\n",
       " Timestamp('2022-01-03 00:00:00'),\n",
       " Timestamp('2022-01-04 00:00:00'),\n",
       " Timestamp('2022-01-05 00:00:00'),\n",
       " Timestamp('2022-01-06 00:00:00'),\n",
       " Timestamp('2022-01-07 00:00:00'),\n",
       " Timestamp('2022-01-08 00:00:00'),\n",
       " Timestamp('2022-01-09 00:00:00'),\n",
       " Timestamp('2022-01-10 00:00:00'),\n",
       " Timestamp('2022-01-11 00:00:00'),\n",
       " Timestamp('2022-01-12 00:00:00'),\n",
       " Timestamp('2022-01-13 00:00:00'),\n",
       " Timestamp('2022-01-14 00:00:00'),\n",
       " Timestamp('2022-01-15 00:00:00'),\n",
       " Timestamp('2022-01-16 00:00:00'),\n",
       " Timestamp('2022-01-17 00:00:00'),\n",
       " Timestamp('2022-01-18 00:00:00'),\n",
       " Timestamp('2022-01-19 00:00:00'),\n",
       " Timestamp('2022-01-20 00:00:00'),\n",
       " Timestamp('2022-01-21 00:00:00'),\n",
       " Timestamp('2022-01-22 00:00:00'),\n",
       " Timestamp('2022-01-23 00:00:00'),\n",
       " Timestamp('2022-01-24 00:00:00'),\n",
       " Timestamp('2022-01-25 00:00:00'),\n",
       " Timestamp('2022-01-26 00:00:00'),\n",
       " Timestamp('2022-01-27 00:00:00'),\n",
       " Timestamp('2022-01-28 00:00:00'),\n",
       " Timestamp('2022-01-29 00:00:00'),\n",
       " Timestamp('2022-01-30 00:00:00'),\n",
       " Timestamp('2022-01-31 00:00:00'),\n",
       " Timestamp('2022-02-01 00:00:00'),\n",
       " Timestamp('2022-02-02 00:00:00'),\n",
       " Timestamp('2022-02-03 00:00:00'),\n",
       " Timestamp('2022-02-04 00:00:00'),\n",
       " Timestamp('2022-02-05 00:00:00'),\n",
       " Timestamp('2022-02-06 00:00:00'),\n",
       " Timestamp('2022-02-07 00:00:00'),\n",
       " Timestamp('2022-02-08 00:00:00'),\n",
       " Timestamp('2022-02-09 00:00:00'),\n",
       " Timestamp('2022-02-10 00:00:00'),\n",
       " Timestamp('2022-02-11 00:00:00'),\n",
       " Timestamp('2022-02-12 00:00:00'),\n",
       " Timestamp('2022-02-13 00:00:00'),\n",
       " Timestamp('2022-02-14 00:00:00'),\n",
       " Timestamp('2022-02-15 00:00:00'),\n",
       " Timestamp('2022-02-16 00:00:00'),\n",
       " Timestamp('2022-02-17 00:00:00'),\n",
       " Timestamp('2022-02-18 00:00:00'),\n",
       " Timestamp('2022-02-19 00:00:00'),\n",
       " Timestamp('2022-02-20 00:00:00'),\n",
       " Timestamp('2022-02-21 00:00:00'),\n",
       " Timestamp('2022-02-22 00:00:00'),\n",
       " Timestamp('2022-02-23 00:00:00'),\n",
       " Timestamp('2022-02-24 00:00:00'),\n",
       " Timestamp('2022-02-25 00:00:00'),\n",
       " Timestamp('2022-02-26 00:00:00'),\n",
       " Timestamp('2022-02-27 00:00:00'),\n",
       " Timestamp('2022-02-28 00:00:00'),\n",
       " Timestamp('2022-03-01 00:00:00'))"
      ]
     },
     "execution_count": 77,
     "metadata": {},
     "output_type": "execute_result"
    }
   ],
   "source": [
    "tuple(pd.date_range(start='2022-01-01', end='2022-03-01', freq='D'))"
   ]
  },
  {
   "cell_type": "code",
   "execution_count": 79,
   "id": "c165444b-e3e9-49d4-9ab6-036cf304a9bc",
   "metadata": {},
   "outputs": [],
   "source": [
    "from pandas import Timestamp"
   ]
  },
  {
   "cell_type": "code",
   "execution_count": 80,
   "id": "5a073a79-f047-4d49-8ccc-23335c6194b8",
   "metadata": {},
   "outputs": [],
   "source": [
    "nova_casova_rada = (Timestamp('2022-01-01 00:00:00'),\n",
    " Timestamp('2022-01-03 00:00:00'),\n",
    " Timestamp('2022-01-04 00:00:00'),\n",
    " Timestamp('2022-01-05 00:00:00'),\n",
    " Timestamp('2022-01-06 00:00:00'),\n",
    " Timestamp('2022-01-07 00:00:00'),\n",
    " Timestamp('2022-01-08 00:00:00'),\n",
    " Timestamp('2022-01-09 00:00:00'),\n",
    " Timestamp('2022-01-10 00:00:00'),\n",
    " Timestamp('2022-01-11 00:00:00'),\n",
    " Timestamp('2022-01-12 00:00:00'),\n",
    " Timestamp('2022-01-13 00:00:00'),\n",
    " Timestamp('2022-01-14 00:00:00'),\n",
    " Timestamp('2022-01-15 00:00:00'),\n",
    " Timestamp('2022-01-16 00:00:00'),\n",
    " Timestamp('2022-01-17 00:00:00'),\n",
    " Timestamp('2022-01-18 00:00:00'),\n",
    " Timestamp('2022-01-19 00:00:00'),\n",
    " Timestamp('2022-01-20 00:00:00'),\n",
    " Timestamp('2022-01-21 00:00:00'),\n",
    " Timestamp('2022-01-22 00:00:00'),\n",
    " Timestamp('2022-01-23 00:00:00'),\n",
    " Timestamp('2022-01-24 00:00:00'),\n",
    " Timestamp('2022-01-25 00:00:00'),\n",
    " Timestamp('2022-01-26 00:00:00'),\n",
    " Timestamp('2022-01-27 00:00:00'),\n",
    " Timestamp('2022-01-28 00:00:00'),\n",
    " Timestamp('2022-01-29 00:00:00'),\n",
    " Timestamp('2022-01-30 00:00:00'),\n",
    " Timestamp('2022-01-31 00:00:00'),\n",
    " Timestamp('2022-02-01 00:00:00'),\n",
    " Timestamp('2022-02-02 00:00:00'),\n",
    " Timestamp('2022-02-03 00:00:00'),\n",
    " Timestamp('2022-02-04 00:00:00'),\n",
    " Timestamp('2022-02-05 00:00:00'),\n",
    " Timestamp('2022-02-06 00:00:00'),\n",
    " Timestamp('2022-02-07 00:00:00'),\n",
    " Timestamp('2022-02-08 00:00:00'),\n",
    " Timestamp('2022-02-09 00:00:00'),\n",
    " Timestamp('2022-02-10 00:00:00'),\n",
    " Timestamp('2022-02-11 00:00:00'),\n",
    " Timestamp('2022-02-12 00:00:00'),\n",
    " Timestamp('2022-02-13 00:00:00'),\n",
    " Timestamp('2022-02-14 00:00:00'),\n",
    " Timestamp('2022-02-15 00:00:00'),\n",
    " Timestamp('2022-02-16 00:00:00'),\n",
    " Timestamp('2022-02-17 00:00:00'),\n",
    " Timestamp('2022-02-18 00:00:00'),\n",
    " Timestamp('2022-02-19 00:00:00'),\n",
    " Timestamp('2022-02-20 00:00:00'),\n",
    " Timestamp('2022-02-21 00:00:00'),\n",
    " Timestamp('2022-02-22 00:00:00'),\n",
    " Timestamp('2022-02-23 00:00:00'),\n",
    " Timestamp('2022-02-24 00:00:00'),\n",
    " Timestamp('2022-02-25 00:00:00'),\n",
    " Timestamp('2022-02-26 00:00:00'),\n",
    " Timestamp('2022-02-27 00:00:00'),\n",
    " Timestamp('2022-02-28 00:00:00'),\n",
    " Timestamp('2022-03-01 00:00:00'))"
   ]
  },
  {
   "cell_type": "code",
   "execution_count": 82,
   "id": "8ca1d956-9206-4c46-b706-23b7af36348c",
   "metadata": {},
   "outputs": [],
   "source": [
    "data = {'date': nova_casova_rada,\n",
    "        'sales': nova_rada_prodeju}"
   ]
  },
  {
   "cell_type": "code",
   "execution_count": 83,
   "id": "019abff4-593d-4792-a327-8f7cbab67af0",
   "metadata": {},
   "outputs": [],
   "source": [
    "novy_df = DataFrame(data)"
   ]
  },
  {
   "cell_type": "code",
   "execution_count": 84,
   "id": "a2520f97-443b-4083-844a-0d4dc27e8709",
   "metadata": {},
   "outputs": [],
   "source": [
    "novy_df.set_index('date', inplace=True)"
   ]
  },
  {
   "cell_type": "code",
   "execution_count": 85,
   "id": "00b3eee1-03fd-48d8-976a-0e27c20a65ce",
   "metadata": {},
   "outputs": [
    {
     "data": {
      "text/html": [
       "<div>\n",
       "<style scoped>\n",
       "    .dataframe tbody tr th:only-of-type {\n",
       "        vertical-align: middle;\n",
       "    }\n",
       "\n",
       "    .dataframe tbody tr th {\n",
       "        vertical-align: top;\n",
       "    }\n",
       "\n",
       "    .dataframe thead th {\n",
       "        text-align: right;\n",
       "    }\n",
       "</style>\n",
       "<table border=\"1\" class=\"dataframe\">\n",
       "  <thead>\n",
       "    <tr style=\"text-align: right;\">\n",
       "      <th></th>\n",
       "      <th>sales</th>\n",
       "    </tr>\n",
       "    <tr>\n",
       "      <th>date</th>\n",
       "      <th></th>\n",
       "    </tr>\n",
       "  </thead>\n",
       "  <tbody>\n",
       "    <tr>\n",
       "      <th>2022-01-01</th>\n",
       "      <td>102</td>\n",
       "    </tr>\n",
       "    <tr>\n",
       "      <th>2022-01-03</th>\n",
       "      <td>72</td>\n",
       "    </tr>\n",
       "    <tr>\n",
       "      <th>2022-01-04</th>\n",
       "      <td>118</td>\n",
       "    </tr>\n",
       "    <tr>\n",
       "      <th>2022-01-05</th>\n",
       "      <td>108</td>\n",
       "    </tr>\n",
       "    <tr>\n",
       "      <th>2022-01-06</th>\n",
       "      <td>87</td>\n",
       "    </tr>\n",
       "  </tbody>\n",
       "</table>\n",
       "</div>"
      ],
      "text/plain": [
       "            sales\n",
       "date             \n",
       "2022-01-01    102\n",
       "2022-01-03     72\n",
       "2022-01-04    118\n",
       "2022-01-05    108\n",
       "2022-01-06     87"
      ]
     },
     "execution_count": 85,
     "metadata": {},
     "output_type": "execute_result"
    }
   ],
   "source": [
    "novy_df.head()"
   ]
  },
  {
   "cell_type": "code",
   "execution_count": 93,
   "id": "68e87c50-1064-4ea4-aac8-c68602f9d122",
   "metadata": {},
   "outputs": [],
   "source": [
    "mesicni_data_asfreq = novy_df.asfreq('H', method='ffill')  # fillna"
   ]
  },
  {
   "cell_type": "code",
   "execution_count": 95,
   "id": "7410174e-9833-4cc1-bf37-3868fc7fac11",
   "metadata": {},
   "outputs": [
    {
     "data": {
      "text/html": [
       "<div>\n",
       "<style scoped>\n",
       "    .dataframe tbody tr th:only-of-type {\n",
       "        vertical-align: middle;\n",
       "    }\n",
       "\n",
       "    .dataframe tbody tr th {\n",
       "        vertical-align: top;\n",
       "    }\n",
       "\n",
       "    .dataframe thead th {\n",
       "        text-align: right;\n",
       "    }\n",
       "</style>\n",
       "<table border=\"1\" class=\"dataframe\">\n",
       "  <thead>\n",
       "    <tr style=\"text-align: right;\">\n",
       "      <th></th>\n",
       "      <th>sales</th>\n",
       "    </tr>\n",
       "    <tr>\n",
       "      <th>date</th>\n",
       "      <th></th>\n",
       "    </tr>\n",
       "  </thead>\n",
       "  <tbody>\n",
       "    <tr>\n",
       "      <th>2022-01-01 00:00:00</th>\n",
       "      <td>102</td>\n",
       "    </tr>\n",
       "    <tr>\n",
       "      <th>2022-01-01 01:00:00</th>\n",
       "      <td>50</td>\n",
       "    </tr>\n",
       "    <tr>\n",
       "      <th>2022-01-01 02:00:00</th>\n",
       "      <td>50</td>\n",
       "    </tr>\n",
       "    <tr>\n",
       "      <th>2022-01-01 03:00:00</th>\n",
       "      <td>50</td>\n",
       "    </tr>\n",
       "    <tr>\n",
       "      <th>2022-01-01 04:00:00</th>\n",
       "      <td>50</td>\n",
       "    </tr>\n",
       "    <tr>\n",
       "      <th>2022-01-01 05:00:00</th>\n",
       "      <td>50</td>\n",
       "    </tr>\n",
       "    <tr>\n",
       "      <th>2022-01-01 06:00:00</th>\n",
       "      <td>50</td>\n",
       "    </tr>\n",
       "    <tr>\n",
       "      <th>2022-01-01 07:00:00</th>\n",
       "      <td>50</td>\n",
       "    </tr>\n",
       "    <tr>\n",
       "      <th>2022-01-01 08:00:00</th>\n",
       "      <td>50</td>\n",
       "    </tr>\n",
       "    <tr>\n",
       "      <th>2022-01-01 09:00:00</th>\n",
       "      <td>50</td>\n",
       "    </tr>\n",
       "  </tbody>\n",
       "</table>\n",
       "</div>"
      ],
      "text/plain": [
       "                     sales\n",
       "date                      \n",
       "2022-01-01 00:00:00    102\n",
       "2022-01-01 01:00:00     50\n",
       "2022-01-01 02:00:00     50\n",
       "2022-01-01 03:00:00     50\n",
       "2022-01-01 04:00:00     50\n",
       "2022-01-01 05:00:00     50\n",
       "2022-01-01 06:00:00     50\n",
       "2022-01-01 07:00:00     50\n",
       "2022-01-01 08:00:00     50\n",
       "2022-01-01 09:00:00     50"
      ]
     },
     "execution_count": 95,
     "metadata": {},
     "output_type": "execute_result"
    }
   ],
   "source": [
    "mesicni_data_asfreq.head(10)"
   ]
  },
  {
   "cell_type": "markdown",
   "id": "5622cc98-cb46-4880-8995-1b836e2c8b64",
   "metadata": {},
   "source": [
    "<br>\n",
    "\n",
    "Pokud mi nevyhovují metody `bfill` a `ffill`, tak můžu nově vzniklé záznamy vyplnit konstantou `fill_value`."
   ]
  },
  {
   "cell_type": "markdown",
   "id": "cdfb19f8-eff6-47a3-a164-724bd8163254",
   "metadata": {},
   "source": [
    "<br>\n",
    "\n",
    "**🧠 CVIČENÍ 🧠, procvič si časové řady**"
   ]
  },
  {
   "cell_type": "markdown",
   "id": "6eb3f2b1-55f4-459b-8897-ee58661d28b0",
   "metadata": {},
   "source": [
    "Analyzuj prodeje produktu ve fiktivní společnosti během jednoho roku a zjisti následující:\n",
    "1. Celkový prodej za každý měsíc.\n",
    "2. Průměrný prodej za každý den v týdnu.\n",
    "3. Denní prodej za poslední týden."
   ]
  },
  {
   "cell_type": "code",
   "execution_count": 96,
   "id": "7d8e4f36-ad56-4b0d-8abe-a4878ce81ee4",
   "metadata": {
    "tags": []
   },
   "outputs": [],
   "source": [
    "import pandas as pd\n",
    "import numpy as np"
   ]
  },
  {
   "cell_type": "code",
   "execution_count": 125,
   "id": "931f9764-ca11-4e33-86e5-68531504f4e4",
   "metadata": {
    "tags": []
   },
   "outputs": [],
   "source": [
    "denni_datumy = pd.date_range(start='2022-01-01',\n",
    "                             end='2022-12-31',\n",
    "                             freq='D')\n",
    "prodeje = np.random.randint(10, 100, size=(len(denni_datumy),))"
   ]
  },
  {
   "cell_type": "code",
   "execution_count": 126,
   "id": "9d93fadf-0ece-4447-9336-376991b3a158",
   "metadata": {
    "tags": []
   },
   "outputs": [],
   "source": [
    "df_prodeje = pd.DataFrame({'datumy': denni_datumy, 'prodeje': prodeje})"
   ]
  },
  {
   "cell_type": "code",
   "execution_count": 101,
   "id": "2078d0b1-0e89-4557-bf5f-ce34ee89e612",
   "metadata": {},
   "outputs": [],
   "source": [
    "df_prodeje.set_index('datumy', inplace=True)"
   ]
  },
  {
   "cell_type": "code",
   "execution_count": 127,
   "id": "c8013c91-5d25-4ee1-b612-a3b8d8b21a07",
   "metadata": {},
   "outputs": [
    {
     "data": {
      "text/html": [
       "<div>\n",
       "<style scoped>\n",
       "    .dataframe tbody tr th:only-of-type {\n",
       "        vertical-align: middle;\n",
       "    }\n",
       "\n",
       "    .dataframe tbody tr th {\n",
       "        vertical-align: top;\n",
       "    }\n",
       "\n",
       "    .dataframe thead th {\n",
       "        text-align: right;\n",
       "    }\n",
       "</style>\n",
       "<table border=\"1\" class=\"dataframe\">\n",
       "  <thead>\n",
       "    <tr style=\"text-align: right;\">\n",
       "      <th></th>\n",
       "      <th>datumy</th>\n",
       "      <th>prodeje</th>\n",
       "    </tr>\n",
       "  </thead>\n",
       "  <tbody>\n",
       "    <tr>\n",
       "      <th>0</th>\n",
       "      <td>2022-01-01</td>\n",
       "      <td>58</td>\n",
       "    </tr>\n",
       "    <tr>\n",
       "      <th>1</th>\n",
       "      <td>2022-01-02</td>\n",
       "      <td>62</td>\n",
       "    </tr>\n",
       "    <tr>\n",
       "      <th>2</th>\n",
       "      <td>2022-01-03</td>\n",
       "      <td>49</td>\n",
       "    </tr>\n",
       "    <tr>\n",
       "      <th>3</th>\n",
       "      <td>2022-01-04</td>\n",
       "      <td>89</td>\n",
       "    </tr>\n",
       "    <tr>\n",
       "      <th>4</th>\n",
       "      <td>2022-01-05</td>\n",
       "      <td>77</td>\n",
       "    </tr>\n",
       "  </tbody>\n",
       "</table>\n",
       "</div>"
      ],
      "text/plain": [
       "      datumy  prodeje\n",
       "0 2022-01-01       58\n",
       "1 2022-01-02       62\n",
       "2 2022-01-03       49\n",
       "3 2022-01-04       89\n",
       "4 2022-01-05       77"
      ]
     },
     "execution_count": 127,
     "metadata": {},
     "output_type": "execute_result"
    }
   ],
   "source": [
    "df_prodeje.head()"
   ]
  },
  {
   "cell_type": "code",
   "execution_count": 110,
   "id": "b27b9664-35cd-4129-83e6-819837490368",
   "metadata": {},
   "outputs": [],
   "source": [
    "r1 = df_prodeje.resample('M').sum().to_period(freq='M')"
   ]
  },
  {
   "cell_type": "code",
   "execution_count": 115,
   "id": "49ab33ce-b42c-427e-b64c-63c578aff8aa",
   "metadata": {},
   "outputs": [
    {
     "data": {
      "text/html": [
       "<div>\n",
       "<style scoped>\n",
       "    .dataframe tbody tr th:only-of-type {\n",
       "        vertical-align: middle;\n",
       "    }\n",
       "\n",
       "    .dataframe tbody tr th {\n",
       "        vertical-align: top;\n",
       "    }\n",
       "\n",
       "    .dataframe thead th {\n",
       "        text-align: right;\n",
       "    }\n",
       "</style>\n",
       "<table border=\"1\" class=\"dataframe\">\n",
       "  <thead>\n",
       "    <tr style=\"text-align: right;\">\n",
       "      <th></th>\n",
       "      <th>prodeje</th>\n",
       "    </tr>\n",
       "    <tr>\n",
       "      <th>datumy</th>\n",
       "      <th></th>\n",
       "    </tr>\n",
       "  </thead>\n",
       "  <tbody>\n",
       "    <tr>\n",
       "      <th>2022-01</th>\n",
       "      <td>1601</td>\n",
       "    </tr>\n",
       "    <tr>\n",
       "      <th>2022-02</th>\n",
       "      <td>1429</td>\n",
       "    </tr>\n",
       "    <tr>\n",
       "      <th>2022-03</th>\n",
       "      <td>1964</td>\n",
       "    </tr>\n",
       "    <tr>\n",
       "      <th>2022-04</th>\n",
       "      <td>1995</td>\n",
       "    </tr>\n",
       "    <tr>\n",
       "      <th>2022-05</th>\n",
       "      <td>1800</td>\n",
       "    </tr>\n",
       "    <tr>\n",
       "      <th>2022-06</th>\n",
       "      <td>1768</td>\n",
       "    </tr>\n",
       "    <tr>\n",
       "      <th>2022-07</th>\n",
       "      <td>1563</td>\n",
       "    </tr>\n",
       "    <tr>\n",
       "      <th>2022-08</th>\n",
       "      <td>1733</td>\n",
       "    </tr>\n",
       "    <tr>\n",
       "      <th>2022-09</th>\n",
       "      <td>1533</td>\n",
       "    </tr>\n",
       "    <tr>\n",
       "      <th>2022-10</th>\n",
       "      <td>1552</td>\n",
       "    </tr>\n",
       "    <tr>\n",
       "      <th>2022-11</th>\n",
       "      <td>1587</td>\n",
       "    </tr>\n",
       "    <tr>\n",
       "      <th>2022-12</th>\n",
       "      <td>1747</td>\n",
       "    </tr>\n",
       "  </tbody>\n",
       "</table>\n",
       "</div>"
      ],
      "text/plain": [
       "         prodeje\n",
       "datumy          \n",
       "2022-01     1601\n",
       "2022-02     1429\n",
       "2022-03     1964\n",
       "2022-04     1995\n",
       "2022-05     1800\n",
       "2022-06     1768\n",
       "2022-07     1563\n",
       "2022-08     1733\n",
       "2022-09     1533\n",
       "2022-10     1552\n",
       "2022-11     1587\n",
       "2022-12     1747"
      ]
     },
     "execution_count": 115,
     "metadata": {},
     "output_type": "execute_result"
    }
   ],
   "source": [
    "r1"
   ]
  },
  {
   "cell_type": "code",
   "execution_count": 120,
   "id": "25c59971-a459-406a-84d0-8203f38831cf",
   "metadata": {},
   "outputs": [
    {
     "data": {
      "text/html": [
       "<div>\n",
       "<style scoped>\n",
       "    .dataframe tbody tr th:only-of-type {\n",
       "        vertical-align: middle;\n",
       "    }\n",
       "\n",
       "    .dataframe tbody tr th {\n",
       "        vertical-align: top;\n",
       "    }\n",
       "\n",
       "    .dataframe thead th {\n",
       "        text-align: right;\n",
       "    }\n",
       "</style>\n",
       "<table border=\"1\" class=\"dataframe\">\n",
       "  <thead>\n",
       "    <tr style=\"text-align: right;\">\n",
       "      <th></th>\n",
       "      <th>prodeje</th>\n",
       "    </tr>\n",
       "    <tr>\n",
       "      <th>datumy</th>\n",
       "      <th></th>\n",
       "    </tr>\n",
       "  </thead>\n",
       "  <tbody>\n",
       "    <tr>\n",
       "      <th>2022-01-01</th>\n",
       "      <td>59</td>\n",
       "    </tr>\n",
       "    <tr>\n",
       "      <th>2022-01-02</th>\n",
       "      <td>73</td>\n",
       "    </tr>\n",
       "    <tr>\n",
       "      <th>2022-01-03</th>\n",
       "      <td>53</td>\n",
       "    </tr>\n",
       "    <tr>\n",
       "      <th>2022-01-04</th>\n",
       "      <td>59</td>\n",
       "    </tr>\n",
       "    <tr>\n",
       "      <th>2022-01-05</th>\n",
       "      <td>82</td>\n",
       "    </tr>\n",
       "    <tr>\n",
       "      <th>...</th>\n",
       "      <td>...</td>\n",
       "    </tr>\n",
       "    <tr>\n",
       "      <th>2022-12-27</th>\n",
       "      <td>88</td>\n",
       "    </tr>\n",
       "    <tr>\n",
       "      <th>2022-12-28</th>\n",
       "      <td>97</td>\n",
       "    </tr>\n",
       "    <tr>\n",
       "      <th>2022-12-29</th>\n",
       "      <td>18</td>\n",
       "    </tr>\n",
       "    <tr>\n",
       "      <th>2022-12-30</th>\n",
       "      <td>69</td>\n",
       "    </tr>\n",
       "    <tr>\n",
       "      <th>2022-12-31</th>\n",
       "      <td>87</td>\n",
       "    </tr>\n",
       "  </tbody>\n",
       "</table>\n",
       "<p>365 rows × 1 columns</p>\n",
       "</div>"
      ],
      "text/plain": [
       "            prodeje\n",
       "datumy             \n",
       "2022-01-01       59\n",
       "2022-01-02       73\n",
       "2022-01-03       53\n",
       "2022-01-04       59\n",
       "2022-01-05       82\n",
       "...             ...\n",
       "2022-12-27       88\n",
       "2022-12-28       97\n",
       "2022-12-29       18\n",
       "2022-12-30       69\n",
       "2022-12-31       87\n",
       "\n",
       "[365 rows x 1 columns]"
      ]
     },
     "execution_count": 120,
     "metadata": {},
     "output_type": "execute_result"
    }
   ],
   "source": [
    "df_prodeje"
   ]
  },
  {
   "cell_type": "code",
   "execution_count": 123,
   "id": "f6312957-cc36-44d2-b828-4f84b4e872e2",
   "metadata": {},
   "outputs": [],
   "source": [
    "from pandas import to_datetime"
   ]
  },
  {
   "cell_type": "code",
   "execution_count": 138,
   "id": "5297c51d-7ac3-4923-b9f3-59e1c194029c",
   "metadata": {},
   "outputs": [
    {
     "data": {
      "text/plain": [
       "0      2022/01\n",
       "1      2022/01\n",
       "2      2022/01\n",
       "3      2022/01\n",
       "4      2022/01\n",
       "        ...   \n",
       "360    2022/12\n",
       "361    2022/12\n",
       "362    2022/12\n",
       "363    2022/12\n",
       "364    2022/12\n",
       "Name: datumy, Length: 365, dtype: object"
      ]
     },
     "execution_count": 138,
     "metadata": {},
     "output_type": "execute_result"
    }
   ],
   "source": [
    "to_datetime(df_prodeje['datumy']).dt.strftime('%Y/%m')"
   ]
  },
  {
   "cell_type": "code",
   "execution_count": 139,
   "id": "c338fb6d-42cd-4e7d-8225-c34857ac4665",
   "metadata": {},
   "outputs": [],
   "source": [
    "# TODO: Doplnit převedené do řešení."
   ]
  },
  {
   "cell_type": "markdown",
   "id": "f4e2bd40-a90d-4bcd-8b8d-fb49cd9b6017",
   "metadata": {},
   "source": [
    "<details>\n",
    "    <summary>▶️ Řešení</summary>\n",
    "    \n",
    "```python\n",
    "monthly_sales = df.resample('M').sum()\n",
    "print(\"Celkový prodej za každý měsíc:\")\n",
    "print(monthly_sales)\n",
    "\n",
    "df_prodeje['weekday'] = df_prodeje.index.weekday\n",
    "average_weekday_sales = df_prodeje.groupby('weekday')['prodeje'].mean()\n",
    "print(\"\\nPrůměrný prodej za každý den v týdnu:\")\n",
    "print(average_weekday_sales)\n",
    "\n",
    "last_week_sales = df.loc['2022-12-25':, 'sales']\n",
    "print(\"\\nDenní prodej za poslední týden:\")\n",
    "print(last_week_sales)\n",
    "```\n",
    "</details>"
   ]
  },
  {
   "cell_type": "markdown",
   "id": "09459713-4521-4110-b322-028aef4d5602",
   "metadata": {},
   "source": [
    "---"
   ]
  }
 ],
 "metadata": {
  "kernelspec": {
   "display_name": "Python 3 (ipykernel)",
   "language": "python",
   "name": "python3"
  },
  "language_info": {
   "codemirror_mode": {
    "name": "ipython",
    "version": 3
   },
   "file_extension": ".py",
   "mimetype": "text/x-python",
   "name": "python",
   "nbconvert_exporter": "python",
   "pygments_lexer": "ipython3",
   "version": "3.8.10"
  }
 },
 "nbformat": 4,
 "nbformat_minor": 5
}
